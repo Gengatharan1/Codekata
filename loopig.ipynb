{
 "cells": [
  {
   "cell_type": "markdown",
   "metadata": {},
   "source": [
    "### 2. Write a code to get a integer n as input and calculate the smallest perfect power of 2 greater than n.\n",
    "\n",
    "#### Input Description:\n",
    "A single line containing an integer,n.\n",
    "\n",
    "#### Output Description:\n",
    "Print the smallest perfect power of 2 greater than n.\n",
    "\n",
    "#### Sample Input :\n",
    "48\n",
    "\n",
    "#### Sample Output :\n",
    "64"
   ]
  },
  {
   "cell_type": "code",
   "execution_count": 1,
   "metadata": {},
   "outputs": [
    {
     "name": "stdout",
     "output_type": "stream",
     "text": [
      "64\n"
     ]
    }
   ],
   "source": [
    "# Method -1 : Using For loop\n",
    "\n",
    "s=int(input())\n",
    "n=2\n",
    "d=[]\n",
    "for i in range(20):\n",
    "    n=n*2\n",
    "    d.append(n)\n",
    "for i in d:\n",
    "    if i>s:\n",
    "        print(i)\n",
    "        break"
   ]
  },
  {
   "cell_type": "code",
   "execution_count": 6,
   "metadata": {},
   "outputs": [
    {
     "name": "stdout",
     "output_type": "stream",
     "text": [
      "64\n"
     ]
    }
   ],
   "source": [
    "# Method -2 : Using While loop\n",
    "\n",
    "def smallest_power_of_2_greater_than(n):\n",
    "    pow = 1\n",
    "    while pow <= n:\n",
    "        pow *= 2\n",
    "    return pow\n",
    "\n",
    "n = int(input())\n",
    "print(smallest_power_of_2_greater_than(n))"
   ]
  },
  {
   "cell_type": "markdown",
   "metadata": {},
   "source": [
    "Explanation:\n",
    "============\n",
    "For the input 48, the loop will iterate as follows:\n",
    "\n",
    "Initial power = 1\n",
    "\n",
    "1 × 2 = 2 (still ≤ 48)\n",
    "\n",
    "2 × 2 = 4 (still ≤ 48)\n",
    "\n",
    "4 × 2 = 8 (still ≤ 48)\n",
    "\n",
    "8 × 2 = 16 (still ≤ 48)\n",
    "\n",
    "16 × 2 = 32 (still ≤ 48)\n",
    "\n",
    "32 × 2 = 64 (now > 48)\n",
    "\n",
    "So, the smallest power of 2 greater than 48 is 64."
   ]
  },
  {
   "cell_type": "markdown",
   "metadata": {},
   "source": [
    "### 10. Write a code to get 2 integers as input and add the integers without any carry.\n",
    "\n",
    "#### Input Description:\n",
    "A single line containing 2 integers.\n",
    "\n",
    "#### Output Description:\n",
    "Print sum of the 2 integers without carry\n",
    "\n",
    "#### Sample Input :\n",
    "44 66\n",
    "\n",
    "#### Sample Output :\n",
    "0"
   ]
  },
  {
   "cell_type": "code",
   "execution_count": 3,
   "metadata": {},
   "outputs": [
    {
     "name": "stdout",
     "output_type": "stream",
     "text": [
      "110\n"
     ]
    }
   ],
   "source": [
    "a, b = list(map(int, input().split()))\n",
    "\n",
    "c = a + b\n",
    "\n",
    "d = str(c)\n",
    "\n",
    "if c < 110 and ( len(d) > len(A) or len(d) > len(B)) :\n",
    "    print(d[-1])\n",
    "    \n",
    "elif c > 110 :\n",
    "    print((c - 100)/2)\n",
    "    \n",
    "else:\n",
    "    print(c)"
   ]
  },
  {
   "cell_type": "markdown",
   "metadata": {},
   "source": [
    "### 12. Write a program to get a list of integers as input and find the LCM of the values without using GCD\n",
    "\n",
    "#### Input Description:\n",
    "First line contains an integer N, number of values. Second line contains N space separated values.\n",
    "\n",
    "#### Output Description:\n",
    "Print the LCM of the values.\n",
    "\n",
    "#### Sample Input :\n",
    "1 2 3 4 5\n",
    "\n",
    "#### Sample Output :\n",
    "60"
   ]
  },
  {
   "cell_type": "markdown",
   "metadata": {},
   "source": [
    "### Logic:\n",
    "\n",
    "1 2 3 4 5\n",
    "\n",
    "5 or > 5\n",
    "\n",
    "\n",
    "5,10,15,20,25,30,35,40,45,50,55,60"
   ]
  },
  {
   "cell_type": "code",
   "execution_count": 3,
   "metadata": {},
   "outputs": [
    {
     "name": "stdout",
     "output_type": "stream",
     "text": [
      "60\n"
     ]
    }
   ],
   "source": [
    "# Solution:\n",
    "\n",
    "n = int(input())\n",
    "nums = list(map(int, input().split()))\n",
    "m = max(nums)\n",
    "\n",
    "# loop to increase maximum value with 1,2,3\n",
    "i = m\n",
    "\n",
    "# loop to divide num by elements in numbers\n",
    "\n",
    "while True: \n",
    "    flag = True\n",
    "    for num in nums:\n",
    "        if i % num != 0:    # divide and check if remainder is zero\n",
    "            flag = False\n",
    "            break\n",
    "\n",
    "    if flag:                # if all divided fully         \n",
    "        print(i)\n",
    "        break\n",
    "    i += m"
   ]
  },
  {
   "cell_type": "code",
   "execution_count": 4,
   "metadata": {},
   "outputs": [
    {
     "name": "stdout",
     "output_type": "stream",
     "text": [
      "60\n"
     ]
    }
   ],
   "source": [
    "# Method-2:\n",
    "\n",
    "def gcd(a, b):\n",
    "    while b:\n",
    "        a, b = b, a % b\n",
    "    return a\n",
    "\n",
    "def lcm(a, b):\n",
    "    return abs(a * b) // gcd(a, b)\n",
    "\n",
    "def lcm_of_list(numbers):\n",
    "    result = numbers[0]\n",
    "    for number in numbers[1:]:\n",
    "        result = lcm(result, number)\n",
    "    return result\n",
    "\n",
    "# Get an input as an integer\n",
    "n = int(input())\n",
    "numbers = list(map(int, input().split()))\n",
    "\n",
    "# LCM of the list\n",
    "result = lcm_of_list(numbers)\n",
    "print(result)"
   ]
  }
 ],
 "metadata": {
  "kernelspec": {
   "display_name": "Python 3",
   "language": "python",
   "name": "python3"
  },
  "language_info": {
   "codemirror_mode": {
    "name": "ipython",
    "version": 3
   },
   "file_extension": ".py",
   "mimetype": "text/x-python",
   "name": "python",
   "nbconvert_exporter": "python",
   "pygments_lexer": "ipython3",
   "version": "3.12.4"
  }
 },
 "nbformat": 4,
 "nbformat_minor": 2
}
