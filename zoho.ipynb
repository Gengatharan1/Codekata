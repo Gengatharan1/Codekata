{
 "cells": [
  {
   "cell_type": "markdown",
   "metadata": {},
   "source": [
    "### **1. Rajesh was going through alternative array sorting. He wishes to print the array alternatively. Hence hired you. Your task is to help rajesh in printing the array alternatively.**\n",
    "\n",
    "An alternative array is an array in which first element is maximum of the whole array second element is minimum of the whole array. Third element is the second largest. Fourth element is the second smallest And so on. print the array in the desired manner.\n",
    "\n",
    "**Input Description:**\n",
    "\n",
    "You are given with the length of array ‘n’. followed by ‘n’ space separated numbers.\n",
    "\n",
    "**Output Description:**\n",
    "\n",
    "Print the array as mentioned.\n",
    "\n",
    "**Sample Input:**\n",
    "\n",
    "5 \n",
    "\n",
    "1 7 11 16 19\n",
    "\n",
    "**Sample Output:**\n",
    "\n",
    "19 1 16 7 11"
   ]
  },
  {
   "cell_type": "code",
   "execution_count": 2,
   "metadata": {},
   "outputs": [
    {
     "name": "stdout",
     "output_type": "stream",
     "text": [
      "19 1 16 7 11\n"
     ]
    }
   ],
   "source": [
    "n = int(input())\n",
    "numbers = list(map(int, input().split()))\n",
    "\n",
    "# Sort the array\n",
    "numbers.sort()\n",
    "\n",
    "# Initialize two pointers\n",
    "left = 0\n",
    "right = n - 1\n",
    "\n",
    "result = []\n",
    "\n",
    "while left <= right:\n",
    "    if left == right:\n",
    "        result.append(numbers[left])\n",
    "    else:\n",
    "        result.append(numbers[right])\n",
    "        result.append(numbers[left])\n",
    "    left += 1\n",
    "    right -= 1\n",
    "    \n",
    "print(\" \".join(map(str, result)))"
   ]
  },
  {
   "cell_type": "markdown",
   "metadata": {},
   "source": [
    "### **2. Given a string S of length N, print all permutations of the string in a separate line.**\n",
    "\n",
    "Input Size : 1 <= N <= 100000\n",
    "\n",
    "**Sample Testcases:**\n",
    "\n",
    "**INPUT**\n",
    "\n",
    "123\n",
    "\n",
    "**OUTPUT**\n",
    "\n",
    "123\n",
    "\n",
    "231\n",
    "\n",
    "321\n",
    "\n",
    "213\n",
    "\n",
    "312\n",
    "\n",
    "132"
   ]
  },
  {
   "cell_type": "code",
   "execution_count": 3,
   "metadata": {},
   "outputs": [
    {
     "name": "stdout",
     "output_type": "stream",
     "text": [
      "123\n",
      "132\n",
      "213\n",
      "231\n",
      "312\n",
      "321\n"
     ]
    }
   ],
   "source": [
    "import itertools\n",
    "\n",
    "def print_permutations(s):\n",
    "    permutations = itertools.permutations(s)\n",
    "    for perm in permutations:\n",
    "        print(''.join(perm))\n",
    "\n",
    "s = input()\n",
    "print_permutations(s)"
   ]
  },
  {
   "cell_type": "markdown",
   "metadata": {},
   "source": [
    "### **3. Given k sorted arrays of possibly different sizes, merge them and print the sorted output.**\n",
    "\n",
    "Input Size : N<=100\n",
    "\n",
    "**Example:**\n",
    "\n",
    "**INPUT**\n",
    "\n",
    "k = 3\n",
    "\n",
    "1 3\n",
    "\n",
    "2 4 6\n",
    "\n",
    "0 9 10 11\n",
    "\n",
    "**OUTPUT**\n",
    "\n",
    "0 1 2 3 4 6 9 10 11"
   ]
  },
  {
   "cell_type": "code",
   "execution_count": 5,
   "metadata": {},
   "outputs": [
    {
     "name": "stdout",
     "output_type": "stream",
     "text": [
      "0 1 2 3 4 6 9 10 11\n"
     ]
    }
   ],
   "source": [
    "def merge_brute_force(arrays):\n",
    "    merged = []\n",
    "    for arr in arrays:\n",
    "        merged.extend(arr)\n",
    "    merged.sort()\n",
    "    return merged\n",
    "\n",
    "k = int(input())\n",
    "arrays = []\n",
    "for i in range(k):\n",
    "    array = list(map(int, input().split()))\n",
    "    arrays.append(array)\n",
    "\n",
    "result = merge_brute_force(arrays)\n",
    "print(\" \".join(map(str, result)))"
   ]
  },
  {
   "cell_type": "markdown",
   "metadata": {},
   "source": [
    "### **4. You are given with an array. For each element present in the array your task is to print the next smallest than that number. If it is not smallest print -1**\n",
    "\n",
    "**Input Description:**\n",
    "\n",
    "You are given a number ‘n’ representing size of array. And n space separated numbers.\n",
    "\n",
    "**Output Description:**\n",
    "\n",
    "Print the next smallest number present in array and -1 if no smallest is present\n",
    "\n",
    "**Sample Input:**\n",
    "\n",
    "7\n",
    "\n",
    "10 7 9 3 2 1 15\n",
    "\n",
    "**Sample Output:**\n",
    "\n",
    "7 3 3 2 1 -1 -1"
   ]
  },
  {
   "cell_type": "code",
   "execution_count": null,
   "metadata": {},
   "outputs": [
    {
     "name": "stdout",
     "output_type": "stream",
     "text": [
      "7 3 3 2 1 -1 -1\n"
     ]
    }
   ],
   "source": [
    "n = int(input())\n",
    "arr = list(map(int, input().split()))\n",
    "\n",
    "# Initialize the result list with -1 and an empty stack\n",
    "result = [-1] * n\n",
    "stack = []\n",
    "\n",
    "# Traverse the array from the end to the beginning\n",
    "for i in range(n-1, -1, -1):\n",
    "    \n",
    "    # Pop elements from the stack that are not smaller than the current element\n",
    "    while stack and stack[-1] >= arr[i]:\n",
    "        stack.pop()\n",
    "        \n",
    "    # If the stack is not empty, the top of the stack is the next smaller element\n",
    "    if stack:\n",
    "        result[i] = stack[-1]\n",
    "        \n",
    "    # Push the current element onto the stack\n",
    "    stack.append(arr[i])\n",
    "    \n",
    "print(' '.join(map(str, result)))"
   ]
  },
  {
   "cell_type": "markdown",
   "metadata": {},
   "source": [
    "### **5. You are provided with a string ‘s’. Your task is to reverse the string using stack Data Structure.**\n",
    "\n",
    "**Input Description:**\n",
    "\n",
    "You are given a string ‘s’.\n",
    "\n",
    "**Output Description:**\n",
    "\n",
    "Print the reverse string\n",
    "\n",
    "**Sample Input:**\n",
    "\n",
    "i am jsb\n",
    "\n",
    "**Sample Output:**\n",
    "\n",
    "jsb am i"
   ]
  },
  {
   "cell_type": "code",
   "execution_count": 8,
   "metadata": {},
   "outputs": [
    {
     "name": "stdout",
     "output_type": "stream",
     "text": [
      "jsb am i\n"
     ]
    }
   ],
   "source": [
    "def reverse_string_with_stack(s):\n",
    "    stack = []  # Initialize an empty stack\n",
    "\n",
    "    # Push each word onto the stack\n",
    "    for word in s.split():\n",
    "        stack.append(word)\n",
    "\n",
    "    # Pop words from the stack to reverse the order\n",
    "    reversed_string = []\n",
    "    while stack:\n",
    "        reversed_string.append(stack.pop())\n",
    "    return \" \".join(reversed_string)\n",
    "\n",
    "s = input()\n",
    "print(reverse_string_with_stack(s))"
   ]
  },
  {
   "cell_type": "markdown",
   "metadata": {},
   "source": [
    "### **6. You are provided with an array. Your task is to print the count of subarray whose maximum element is strictly greater than ‘k’.**\n",
    "\n",
    "**Input Description:**\n",
    "\n",
    "First line contains two element ‘N’ and ‘k’.Second line contains ‘n’ space separated numbers.\n",
    "\n",
    "**Output Description:**\n",
    "\n",
    "Print the count of subarray whose maximum element’s value is strictly greater than ‘k’.\n",
    "\n",
    "**Sample Input:**\n",
    "\n",
    "5 4\n",
    "\n",
    "1 6 7 8 9\n",
    "\n",
    "**Sample Output:**\n",
    "\n",
    "14"
   ]
  },
  {
   "cell_type": "markdown",
   "metadata": {},
   "source": [
    "## **Approach**\n",
    "\n",
    "### **Brute Force Method:**\n",
    "\n",
    "For each subarray, check if the maximum element is greater than k.\n",
    "Iterate over all possible subarrays.\n",
    "\n",
    "### **Steps:**\n",
    "\n",
    "Generate all subarrays by varying the starting and ending points.\n",
    "\n",
    "For each subarray, compute its maximum and check if it's greater than k.\n",
    "\n",
    "**Time Complexity:** O(N2)\n",
    "\n",
    "**Space Complexity:** O(1)"
   ]
  },
  {
   "cell_type": "code",
   "execution_count": 14,
   "metadata": {},
   "outputs": [
    {
     "name": "stdout",
     "output_type": "stream",
     "text": [
      "14\n"
     ]
    }
   ],
   "source": [
    "def count_subarrays_with_max_greater_than_k(n, k, arr):\n",
    "    count = 0\n",
    "    for start in range(n):\n",
    "        for end in range(start, n):\n",
    "            if max(arr[start:end+1]) > k:\n",
    "                count += 1\n",
    "    return count\n",
    "\n",
    "n, k = map(int, input().split())\n",
    "arr = list(map(int, input().split()))\n",
    "print(count_subarrays_with_max_greater_than_k(n, k, arr))"
   ]
  },
  {
   "cell_type": "markdown",
   "metadata": {},
   "source": [
    "### **Sliding Window with Explicit Tracking:**\n",
    "\n",
    "### **Explanation:**\n",
    "\n",
    "#### Iterate through the array:\n",
    "\n",
    "Identify valid subarrays starting with elements > k.\n",
    "\n",
    "#### Expand the subarray:\n",
    "\n",
    "Add elements until a value ≤k is encountered.\n",
    "\n",
    "Count subarrays ending at each position during this expansion.\n",
    "\n",
    "#### Reset the process:\n",
    "\n",
    "Move the starting position to the next valid index after a reset.\n",
    "\n",
    "**Time Complexity:** O(N), as we iterate through the array linearly and expand/reset the window efficiently.\n",
    "\n",
    "**Space Complexity:** O(1), no extra storage is used."
   ]
  },
  {
   "cell_type": "code",
   "execution_count": 13,
   "metadata": {},
   "outputs": [
    {
     "name": "stdout",
     "output_type": "stream",
     "text": [
      "14\n"
     ]
    }
   ],
   "source": [
    "def count_subarrays_with_max_greater_than_k(n, k, arr):\n",
    "    total_subarrays = n * (n + 1) // 2  # Total subarrays in the array\n",
    "    count = 0\n",
    "    start = 0\n",
    "\n",
    "    while start < n:\n",
    "        if arr[start] <= k:\n",
    "            end = start\n",
    "            while end < n and arr[end] <= k:\n",
    "                end += 1\n",
    "            count += (end - start) * (end - start + 1) // 2  # Subarrays where max <= k\n",
    "            start = end\n",
    "        else:\n",
    "            start += 1\n",
    "\n",
    "    count_greater_than_k = total_subarrays - count\n",
    "    return count_greater_than_k\n",
    "\n",
    "n, k = map(int, input().split())\n",
    "arr = list(map(int, input().split()))\n",
    "print(count_subarrays_with_max_greater_than_k(n, k, arr))"
   ]
  },
  {
   "cell_type": "markdown",
   "metadata": {},
   "source": [
    "### **7. You are given a string of different type of brackets. Your task is to check whether the given string is balanced or not balanced.**\n",
    "\n",
    "A string is said to be balanced if the number of opening brackets are equal to the number of closing brackets where the brackets should be of same kind.\n",
    "\n",
    "**Input Description:**\n",
    "\n",
    "You are given a string ‘s’.\n",
    "\n",
    "**Output Description:**\n",
    "\n",
    "Print 'yes' if the given string is balanced and no if it is not\n",
    "\n",
    "**Sample Input:**\n",
    "\n",
    "{}(())[][][{}]\n",
    "\n",
    "**Sample Output:**\n",
    "\n",
    "yes"
   ]
  },
  {
   "cell_type": "code",
   "execution_count": null,
   "metadata": {},
   "outputs": [
    {
     "name": "stdout",
     "output_type": "stream",
     "text": [
      "yes\n"
     ]
    }
   ],
   "source": [
    "def is_balanced(s):\n",
    "    stack = []  # Stack to store opening brackets\n",
    "    \n",
    "    # Dictionary for matching pairs\n",
    "    matching_bracket = {')': '(', '}': '{', ']': '['}\n",
    "    \n",
    "    for char in s:\n",
    "        # If the character is an opening bracket, push it onto the stack\n",
    "        if char in '({[':\n",
    "            stack.append(char)\n",
    "        # If the character is a closing bracket, check for matching opening bracket\n",
    "        elif char in ')}]':\n",
    "            # If stack is empty or top of stack does not match the current closing bracket\n",
    "            if not stack or stack[-1] != matching_bracket[char]:\n",
    "                return \"no\"\n",
    "            # If they match, pop the top of the stack\n",
    "            stack.pop()\n",
    "    \n",
    "    # If the stack is empty, the string is balanced\n",
    "    if not stack:\n",
    "        return \"yes\"\n",
    "    else:\n",
    "        return \"no\"\n",
    "\n",
    "s = input().strip()\n",
    "print(is_balanced(s))"
   ]
  },
  {
   "cell_type": "markdown",
   "metadata": {},
   "source": [
    "### **8. Given a roman numeral N, convert it into integer.Take L=50, C=100.If it is not a valid roman numeral print '-1'**\n",
    "\n",
    "Input Size : N <= 100\n",
    "\n",
    "**Sample Testcase:**\n",
    "\n",
    "**INPUT**\n",
    "\n",
    "VI\n",
    "\n",
    "**OUTPUT**\n",
    "\n",
    "6\n",
    "\n",
    "**INPUT**\n",
    "\n",
    "Y\n",
    "\n",
    "**OUTPUT**\n",
    "\n",
    "-1"
   ]
  },
  {
   "cell_type": "code",
   "execution_count": 16,
   "metadata": {},
   "outputs": [
    {
     "name": "stdout",
     "output_type": "stream",
     "text": [
      "6\n"
     ]
    }
   ],
   "source": [
    "def roman_to_int(N):\n",
    "    roman_values = {'I': 1, 'V': 5, 'X': 10, 'L': 50, 'C': 100}\n",
    "    \n",
    "    # Check if the string contains invalid characters\n",
    "    for char in N:\n",
    "        if char not in roman_values:\n",
    "            return -1\n",
    "    \n",
    "    result = 0\n",
    "    for i in range(len(N)):\n",
    "        # If the current value is less than the next value, subtract it\n",
    "        if i + 1 < len(N) and roman_values[N[i]] < roman_values[N[i + 1]]:\n",
    "            result -= roman_values[N[i]]\n",
    "        else:\n",
    "            result += roman_values[N[i]]    \n",
    "    return result\n",
    "\n",
    "N = input().strip()\n",
    "print(roman_to_int(N))"
   ]
  },
  {
   "cell_type": "markdown",
   "metadata": {},
   "source": [
    "### **9. Given an array of N elements, sort the elements of the array based on frequency. If two numbers have the same frequency,then the smaller number comes first (eg) if the elements are 1,1,3,1,2,3,4 then the output is 2,4,3,3,1,1,1**\n",
    "\n",
    "**Input Description:**\n",
    "\n",
    "Size of the array followed by the number of elements\n",
    "\n",
    "**Output Description:**\n",
    "\n",
    "Array elements sorted based on increasing frequency\n",
    "\n",
    "**Sample Input:**\n",
    "\n",
    "5\n",
    "\n",
    "8 8 1 1 3\n",
    "\n",
    "**Sample Output:**\n",
    "\n",
    "3 1 1 8 8"
   ]
  },
  {
   "cell_type": "code",
   "execution_count": null,
   "metadata": {},
   "outputs": [
    {
     "name": "stdout",
     "output_type": "stream",
     "text": [
      "3 1 1 8 8\n"
     ]
    }
   ],
   "source": [
    "def sort_by_frequency():\n",
    "    n = int(input().strip())\n",
    "    arr = list(map(int, input().strip().split()))\n",
    "    \n",
    "    # Count the frequency of each element\n",
    "    frequency = {}\n",
    "    for num in arr:\n",
    "        if num in frequency:\n",
    "            frequency[num] += 1\n",
    "        else:\n",
    "            frequency[num] = 1\n",
    "\n",
    "    # Sort the elements first by frequency, then by value\n",
    "    sorted_arr = sorted(arr, key=lambda x: (frequency[x], x))\n",
    "    print(\" \".join(map(str, sorted_arr)))\n",
    "\n",
    "sort_by_frequency()"
   ]
  },
  {
   "cell_type": "markdown",
   "metadata": {},
   "source": [
    "### **10. Given a string of length N, find the longest palindromic substring.**\n",
    "\n",
    "Input Size : 1 <= N <= 1000\n",
    "\n",
    "**Sample Testcase:**\n",
    "\n",
    "**INPUT**\n",
    "\n",
    "DIEHEIDI\n",
    "\n",
    "**OUTPUT**\n",
    "\n",
    "DIEHEID"
   ]
  },
  {
   "cell_type": "code",
   "execution_count": null,
   "metadata": {},
   "outputs": [
    {
     "name": "stdout",
     "output_type": "stream",
     "text": [
      "DIEHEID\n"
     ]
    }
   ],
   "source": [
    "def longest_palindromic_substring(s):\n",
    "    def expand_around_center(left, right):\n",
    "        while left >= 0 and right < len(s) and s[left] == s[right]:\n",
    "            left -= 1\n",
    "            right += 1\n",
    "        return s[left+1:right]  # return the substring that is a palindrome\n",
    "    \n",
    "    longest = \"\"\n",
    "    for i in range(len(s)):\n",
    "        odd_palindrome = expand_around_center(i, i)\n",
    "        if len(odd_palindrome) > len(longest):\n",
    "            longest = odd_palindrome\n",
    "        even_palindrome = expand_around_center(i, i+1)\n",
    "        if len(even_palindrome) > len(longest):\n",
    "            longest = even_palindrome    \n",
    "    return longest\n",
    "\n",
    "s = input().strip()\n",
    "print(longest_palindromic_substring(s))"
   ]
  },
  {
   "cell_type": "markdown",
   "metadata": {},
   "source": [
    "### **11. You are given with a queue. Your task is to reverse the queue elements and print it.**\n",
    "\n",
    "**Input Description:**\n",
    "\n",
    "You are given a number ‘n’,denoting size of queue, Next line contains s space separated numbers\n",
    "\n",
    "**Output Description:**\n",
    "\n",
    "Print the reversed queue.\n",
    "\n",
    "**Sample Input:**\n",
    "\n",
    "6\n",
    "\n",
    "1 2 3 4 5 6\n",
    "\n",
    "**Sample Output:**\n",
    "\n",
    "6 5 4 3 2 1"
   ]
  },
  {
   "cell_type": "code",
   "execution_count": 20,
   "metadata": {},
   "outputs": [
    {
     "name": "stdout",
     "output_type": "stream",
     "text": [
      "6 5 4 3 2 1\n"
     ]
    }
   ],
   "source": [
    "from collections import deque\n",
    "\n",
    "def reverse_queue(queue):\n",
    "    stack = []\n",
    "    \n",
    "    # Transfer all elements from queue to stack\n",
    "    while queue:\n",
    "        stack.append(queue.popleft())\n",
    "    \n",
    "    # Transfer all elements from stack back to queue (reversed order)\n",
    "    while stack:\n",
    "        queue.append(stack.pop())    \n",
    "    return queue\n",
    "\n",
    "n = int(input())\n",
    "queue = deque(map(int, input().split()))\n",
    "reversed_queue = reverse_queue(queue)\n",
    "print(\" \".join(map(str, reversed_queue)))"
   ]
  },
  {
   "cell_type": "code",
   "execution_count": null,
   "metadata": {},
   "outputs": [],
   "source": []
  }
 ],
 "metadata": {
  "kernelspec": {
   "display_name": "py12",
   "language": "python",
   "name": "python3"
  },
  "language_info": {
   "codemirror_mode": {
    "name": "ipython",
    "version": 3
   },
   "file_extension": ".py",
   "mimetype": "text/x-python",
   "name": "python",
   "nbconvert_exporter": "python",
   "pygments_lexer": "ipython3",
   "version": "3.12.7"
  }
 },
 "nbformat": 4,
 "nbformat_minor": 2
}
