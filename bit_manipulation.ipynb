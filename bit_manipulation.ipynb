{
 "cells": [
  {
   "cell_type": "markdown",
   "metadata": {},
   "source": [
    "### **1. You are given a number ‘n’.Your task is to set all the bits to 1 in the position of range [L R] and then print the  new number. Bit count start from 1 and it starts from left.**\n",
    "\n",
    "**Input Description:**\n",
    "\n",
    "You are given a number N, L and R seperated by single space\n",
    "\n",
    "**Output Description:**\n",
    "\n",
    "Print the new number created by setting the bits of the given number to 1 in the range of L to R\n",
    "\n",
    "**Sample Input:**\n",
    "\n",
    "17 2 3\n",
    "\n",
    "**Sample Output:**\n",
    "\n",
    "23"
   ]
  },
  {
   "cell_type": "code",
   "execution_count": 2,
   "metadata": {},
   "outputs": [
    {
     "name": "stdout",
     "output_type": "stream",
     "text": [
      "23\n"
     ]
    }
   ],
   "source": [
    "def set_bits_in_range(n, L, R):\n",
    "    mask = ((1 << (R - L + 1)) - 1) << (L - 1)      # Create the mask with bits in the range [L, R] set to 1\n",
    "    result = n | mask                               # Use bitwise OR to set the bits in the range\n",
    "    return result\n",
    "\n",
    "inp = input().strip()\n",
    "n, L, R = map(int, inp.split())\n",
    "print(set_bits_in_range(n, L, R))"
   ]
  },
  {
   "cell_type": "markdown",
   "metadata": {},
   "source": [
    "### **2. You are given a number ‘n’ you have to tell whether number is divisible by 8.**\n",
    "\n",
    "Print 1 if it is divisible and 0 if it is not.\n",
    "\n",
    "**Input Description:**\n",
    "\n",
    "You are given a number ‘n’.\n",
    "\n",
    "**Output Description:**\n",
    "\n",
    "Print 1 if number is divisible by 8 and 0 if not\n",
    "\n",
    "**Sample Input:**\n",
    "\n",
    "16\n",
    "\n",
    "**Sample Output:**\n",
    "\n",
    "1"
   ]
  },
  {
   "cell_type": "code",
   "execution_count": null,
   "metadata": {},
   "outputs": [
    {
     "name": "stdout",
     "output_type": "stream",
     "text": [
      "1\n"
     ]
    }
   ],
   "source": [
    "def is_divisible_by_8(n):\n",
    "    return 1 if n % 8 == 0 else 0\n",
    "\n",
    "n = int(input().strip())\n",
    "print(is_divisible_by_8(n))"
   ]
  },
  {
   "cell_type": "markdown",
   "metadata": {},
   "source": [
    "### **3. You are given an integer ‘n’,You have to shift all the even bits with odd bits and odd bits with even bits, and print the number which is formed after manipulation in O(1) time complexity.**\n",
    "\n",
    "**Input Description:**\n",
    "\n",
    "You are given a number ‘n’\n",
    "\n",
    "**Output Description:**\n",
    "\n",
    "Print the bit manipulated number\n",
    "\n",
    "**Sample Input:**\n",
    "\n",
    "23\n",
    "\n",
    "**Sample Output:**\n",
    "\n",
    "43"
   ]
  },
  {
   "cell_type": "markdown",
   "metadata": {},
   "source": [
    "## **Approach**\n",
    "\n",
    "### **1. Recursive Bit-Swapping**\n",
    "\n",
    "Use recursion to divide the number into two parts (odd and even bits) and combine the results.\n",
    "\n",
    "### **Steps:**\n",
    "\n",
    "Base case: If n is 0, return 0.\n",
    "\n",
    "Extract the least significant odd and even bits.\n",
    "\n",
    "Swap and recursively process the rest of the bits.\n",
    "\n",
    "**Time Complexity:** O(logn) (number of recursive calls depends on the number of bits).\n",
    "\n",
    "**Space Complexity:** O(logn) (due to recursion stack)."
   ]
  },
  {
   "cell_type": "code",
   "execution_count": 6,
   "metadata": {},
   "outputs": [
    {
     "name": "stdout",
     "output_type": "stream",
     "text": [
      "43\n"
     ]
    }
   ],
   "source": [
    "def recursive_swap(n, bit_pos=0):\n",
    "    if n == 0:\n",
    "        return 0\n",
    "    # Extract least significant bits\n",
    "    odd_bit = (n & 1) << 1\n",
    "    even_bit = (n & 2) >> 1\n",
    "    return (odd_bit | even_bit) | (recursive_swap(n >> 2) << 2)         # Combine swapped bits and recurse\n",
    "\n",
    "print(recursive_swap(23))"
   ]
  },
  {
   "cell_type": "markdown",
   "metadata": {},
   "source": [
    "## **2. Use Binary String Representation**\n",
    "\n",
    "Convert the number to a binary string, swap bits, and convert back to a number.\n",
    "\n",
    "### **Steps:**\n",
    "\n",
    "Convert n to a binary string.\n",
    "\n",
    "Pad the string to 32 bits for consistency.\n",
    "\n",
    "Swap characters in the binary string based on their position.\n",
    "\n",
    "Convert the manipulated binary string back to an integer.\n",
    "\n",
    "**Time Complexity:** O(logn) (conversion and string manipulation depend on the number of bits in n).\n",
    "\n",
    "**Space Complexity:** O(logn) (to store the binary string)."
   ]
  },
  {
   "cell_type": "code",
   "execution_count": null,
   "metadata": {},
   "outputs": [
    {
     "name": "stdout",
     "output_type": "stream",
     "text": [
      "43\n"
     ]
    }
   ],
   "source": [
    "def swap_bits_binary_string(n):\n",
    "    binary = f\"{n:032b}\"        # Convert to a 32-bit binary string\n",
    "    swapped = list(binary)\n",
    "    for i in range(0, len(binary) - 1, 2):\n",
    "        swapped[i], swapped[i + 1] = swapped[i + 1], swapped[i]     # Swap adjacent odd and even bits\n",
    "    return int(\"\".join(swapped), 2)     # Convert back to integer\n",
    "\n",
    "print(swap_bits_binary_string(23))"
   ]
  },
  {
   "cell_type": "markdown",
   "metadata": {},
   "source": [
    "### **3. Bit-by-Bit Swapping**\n",
    "\n",
    "Manually iterate through each bit and check its position (odd or even). Swap bits by creating a new number.\n",
    "\n",
    "### **Steps:**\n",
    "\n",
    "Loop through each bit of the number.\n",
    "\n",
    "Use bitwise operations to check the bit's value at a given position.\n",
    "\n",
    "Swap bits between odd and even positions.\n",
    "\n",
    "**Time Complexity:** O(logn) (proportional to the number of bits in n).\n",
    "\n",
    "**Space Complexity:** O(1)"
   ]
  },
  {
   "cell_type": "code",
   "execution_count": 8,
   "metadata": {},
   "outputs": [
    {
     "name": "stdout",
     "output_type": "stream",
     "text": [
      "43\n"
     ]
    }
   ],
   "source": [
    "def bit_by_bit_swap(n):\n",
    "    result = 0\n",
    "    for i in range(32):  # Assuming 32-bit integers\n",
    "        bit = (n >> i) & 1  # Extract ith bit\n",
    "        # Set it at the swapped position\n",
    "        if i % 2 == 0:  # Even position (0-indexed)\n",
    "            result |= bit << (i + 1)\n",
    "        else:  # Odd position\n",
    "            result |= bit << (i - 1)\n",
    "    return result\n",
    "\n",
    "print(bit_by_bit_swap(23))"
   ]
  },
  {
   "cell_type": "markdown",
   "metadata": {},
   "source": [
    "### **4. You are given with an array containing only 1s and 0s.You can select two index ‘a’ and ‘b’ such that a<b in which you will change ‘1 to 0’ and ‘0 to 1’,in order to get maximum no of 1s in result.**\n",
    "\n",
    "**Input Description:**\n",
    "\n",
    "You are given with array of 1’s and 0’s\n",
    "\n",
    "**Output Description:**\n",
    "\n",
    "Print the two index ‘a’ and ‘b‘.Print -1 if we don’t require a and b\n",
    "\n",
    "**Sample Input:**\n",
    "\n",
    "1111100\n",
    "\n",
    "**Sample Output:**\n",
    "\n",
    "5 7"
   ]
  },
  {
   "cell_type": "code",
   "execution_count": 13,
   "metadata": {},
   "outputs": [
    {
     "name": "stdout",
     "output_type": "stream",
     "text": [
      "5 7\n"
     ]
    }
   ],
   "source": [
    "l = list(str(input()))\n",
    "if l.count('0') <= 1: print(\"-1\")\n",
    "else:\n",
    "    ln = []\n",
    "    ans = []\n",
    "    for i in range(len(l)):\n",
    "        if l[i] == '0':\n",
    "            count = 0\n",
    "            for j in range(i, len(l)):\n",
    "                if l[j] == '1': break\n",
    "                else:count += 1\n",
    "            ln.append(count)\n",
    "            ans.append([i, i+count])\n",
    "    mx = ln[0]\n",
    "    idx = 0\n",
    "    for i in range(len(ln)):\n",
    "        if ln[i] > mx:\n",
    "            mx = ln[i]\n",
    "            idx = i\n",
    "    print(*ans[idx])"
   ]
  },
  {
   "cell_type": "markdown",
   "metadata": {},
   "source": [
    "### **5. Given 2 numbers, perform bitwise xor and find the number of ones in its binary representation.**\n",
    "\n",
    "**Sample Testcase:**\n",
    "\n",
    "**INPUT**\n",
    "\n",
    "10 5\n",
    "\n",
    "**OUTPUT**\n",
    "\n",
    "4"
   ]
  },
  {
   "cell_type": "code",
   "execution_count": 14,
   "metadata": {},
   "outputs": [
    {
     "name": "stdout",
     "output_type": "stream",
     "text": [
      "4\n"
     ]
    }
   ],
   "source": [
    "def count_ones_in_xor(a, b):\n",
    "    xor_result = a ^ b\n",
    "    return bin(xor_result).count('1')\n",
    "\n",
    "a, b = map(int, input().split())\n",
    "result = count_ones_in_xor(a, b)\n",
    "print(result)"
   ]
  },
  {
   "cell_type": "markdown",
   "metadata": {},
   "source": [
    "### **6. You are given an array of ‘N’ numbers.You have to find the sum of XOR pairs of numbers in the array.**\n",
    "\n",
    "**Input Description:**\n",
    "\n",
    "The first line of input denotes a number n. Next line contains n space separated numbers\n",
    "\n",
    "**Output Description:**\n",
    "\n",
    "Print the sum of all XOR pairs present in array\n",
    "\n",
    "**Sample Input:**\n",
    "\n",
    "3\n",
    "\n",
    "7 3 5\n",
    "\n",
    "**Sample Output:**\n",
    "\n",
    "12"
   ]
  },
  {
   "cell_type": "code",
   "execution_count": 15,
   "metadata": {},
   "outputs": [
    {
     "name": "stdout",
     "output_type": "stream",
     "text": [
      "12\n"
     ]
    }
   ],
   "source": [
    "def sum_of_xor_pairs(n, arr):\n",
    "    total_xor_sum = 0\n",
    "    for i in range(n):\n",
    "        for j in range(i + 1, n):  # Only consider pairs (i, j) where i < j\n",
    "            total_xor_sum += arr[i] ^ arr[j]\n",
    "    return total_xor_sum\n",
    "\n",
    "n = int(input().strip())\n",
    "arr = list(map(int, input().strip().split()))\n",
    "print(sum_of_xor_pairs(n, arr))"
   ]
  },
  {
   "cell_type": "markdown",
   "metadata": {},
   "source": [
    "### **7. You are given a large number made of only 0’s and 1’s.Your task is to find the max no of consecutive 1’s. If there are no 1’s print -1.**\n",
    "\n",
    "**Input Description:**\n",
    "\n",
    "A large number ‘n’\n",
    "\n",
    "**Output Description:**\n",
    "\n",
    "Print the max no of consecutive 1 in the number\n",
    "\n",
    "**Sample Input:**\n",
    "\n",
    "101011111\n",
    "\n",
    "**Sample Output:**\n",
    "\n",
    "5"
   ]
  },
  {
   "cell_type": "code",
   "execution_count": 16,
   "metadata": {},
   "outputs": [
    {
     "name": "stdout",
     "output_type": "stream",
     "text": [
      "5\n"
     ]
    }
   ],
   "source": [
    "def max_consecutive_ones(n):\n",
    "    max_count = 0\n",
    "    current_count = 0\n",
    "    \n",
    "    # Iterate through each character in the string\n",
    "    for char in n:\n",
    "        if char == '1':\n",
    "            current_count += 1\n",
    "        else:\n",
    "            if current_count > max_count:\n",
    "                max_count = current_count\n",
    "            current_count = 0\n",
    "    \n",
    "    # Final comparison to check if the longest sequence ends at the end of the string\n",
    "    if current_count > max_count:\n",
    "        max_count = current_count\n",
    "    \n",
    "    # Handle case with no 1's\n",
    "    if max_count == 0:\n",
    "        return -1\n",
    "    return max_count\n",
    "\n",
    "n = input().strip()\n",
    "print(max_consecutive_ones(n))"
   ]
  },
  {
   "cell_type": "markdown",
   "metadata": {},
   "source": [
    "### **8. You are given a number ‘n’, Your task is to print the binary sequence of a number ranging from 1 to N.**\n",
    "\n",
    "**Input Description:**\n",
    "\n",
    "Single line containing a number ‘N’.\n",
    "\n",
    "**Output Description:**\n",
    "\n",
    "Print the binary sequence of numbers\n",
    "\n",
    "**Sample Input:**\n",
    "\n",
    "3\n",
    "\n",
    "**Sample Output:**\n",
    "\n",
    "1 10 11"
   ]
  },
  {
   "cell_type": "code",
   "execution_count": 17,
   "metadata": {},
   "outputs": [
    {
     "name": "stdout",
     "output_type": "stream",
     "text": [
      "1 10 11\n"
     ]
    }
   ],
   "source": [
    "N = int(input(\"Enter a number: \").strip())\n",
    "binary_sequence = [bin(i)[2:] for i in range(1, N + 1)]\n",
    "print(\" \".join(binary_sequence))"
   ]
  },
  {
   "cell_type": "code",
   "execution_count": 19,
   "metadata": {},
   "outputs": [
    {
     "name": "stdout",
     "output_type": "stream",
     "text": [
      "1 10 11\n"
     ]
    }
   ],
   "source": [
    "from collections import deque\n",
    "\n",
    "def generate_binary_numbers(n):\n",
    "    result = []\n",
    "    queue = deque([\"1\"])\n",
    "    \n",
    "    while len(result) < n:\n",
    "        current = queue.popleft()\n",
    "        result.append(current)\n",
    "        queue.append(current + \"0\")\n",
    "        queue.append(current + \"1\")    \n",
    "    return \" \".join(result)\n",
    "\n",
    "n = 3\n",
    "print(generate_binary_numbers(n))"
   ]
  },
  {
   "cell_type": "markdown",
   "metadata": {},
   "source": [
    "### **9. You are given a number ‘n’,count the number of 1’s in its binary string.of that number.**\n",
    "\n",
    "**Input Description:**\n",
    "\n",
    "You are given with the number ‘n’.\n",
    "\n",
    "**Output Description:**\n",
    "\n",
    "Count the number of 1 in string\n",
    "\n",
    "**Sample Input:**\n",
    "\n",
    "4\n",
    "\n",
    "**Sample Output:**\n",
    "\n",
    "1"
   ]
  },
  {
   "cell_type": "code",
   "execution_count": 20,
   "metadata": {},
   "outputs": [
    {
     "name": "stdout",
     "output_type": "stream",
     "text": [
      "1\n"
     ]
    }
   ],
   "source": [
    "def count_ones_in_binary(n):\n",
    "    binary_rep = bin(n)[2:]         # Convert the number 'n' to binary using bin() function and strip the \"0b\" prefix.\n",
    "    return binary_rep.count('1')    # Count the number of '1's in the binary representation.\n",
    "\n",
    "n = int(input())\n",
    "print(count_ones_in_binary(n))"
   ]
  },
  {
   "cell_type": "markdown",
   "metadata": {},
   "source": [
    "### **10. Write a code to get a integer n as input and calculate the smallest perfect power of 2 greater than n.**\n",
    "\n",
    "**Input Description:**\n",
    "\n",
    "A single line containing an integer,n.\n",
    "\n",
    "**Output Description:**\n",
    "\n",
    "Print the smallest perfect power of 2 greater than n.\n",
    "\n",
    "**Sample Input:**\n",
    "\n",
    "48\n",
    "\n",
    "**Sample Output:**\n",
    "\n",
    "64"
   ]
  },
  {
   "cell_type": "code",
   "execution_count": 21,
   "metadata": {},
   "outputs": [
    {
     "name": "stdout",
     "output_type": "stream",
     "text": [
      "64\n"
     ]
    }
   ],
   "source": [
    "def smallest_power_of_2_greater_than(n):\n",
    "    pow = 1\n",
    "    while pow <= n:\n",
    "        pow *= 2\n",
    "    return pow\n",
    "    \n",
    "n = int(input())\n",
    "print(smallest_power_of_2_greater_than(n))"
   ]
  },
  {
   "cell_type": "markdown",
   "metadata": {},
   "source": [
    "### **11. You are given a number ‘n’ and a bit ‘K’,your task is to tell whether the first bit is 1. Return true or false according to the scenario. First bit starts from right.(0 based indexing).**\n",
    "\n",
    "**Input Description:**\n",
    "\n",
    "You are given a number ‘n’ and a bit ‘k’.\n",
    "\n",
    "**Output Description:**\n",
    "\n",
    "Print true if bit is set and false if bit is not true.\n",
    "\n",
    "**Sample Input:**\n",
    "\n",
    "4\n",
    "\n",
    "0\n",
    "\n",
    "**Sample Output:**\n",
    "\n",
    "False"
   ]
  },
  {
   "cell_type": "code",
   "execution_count": 23,
   "metadata": {},
   "outputs": [
    {
     "name": "stdout",
     "output_type": "stream",
     "text": [
      "False\n"
     ]
    }
   ],
   "source": [
    "def is_bit_set(n, k):\n",
    "    return (n >> k) & 1 == 1\n",
    "\n",
    "n = int(input())\n",
    "k = int(input())\n",
    "if is_bit_set(n, k):\n",
    "    print(\"True\")\n",
    "else:\n",
    "    print(\"False\")"
   ]
  },
  {
   "cell_type": "markdown",
   "metadata": {},
   "source": [
    "### **12. Write a program to get a string as input and reverse the string without using temporary variable.**\n",
    "\n",
    "**Input Description:**\n",
    "\n",
    "A single line containing a string.\n",
    "\n",
    "**Output Description:**\n",
    "\n",
    "Print the reversed string.\n",
    "\n",
    "**Sample Input:**\n",
    "\n",
    "GUVI\n",
    "\n",
    "**Sample Output:**\n",
    "\n",
    "IVUG"
   ]
  },
  {
   "cell_type": "code",
   "execution_count": 24,
   "metadata": {},
   "outputs": [
    {
     "name": "stdout",
     "output_type": "stream",
     "text": [
      "IVUG\n"
     ]
    }
   ],
   "source": [
    "a = input()\n",
    "print(a[::-1])"
   ]
  },
  {
   "cell_type": "code",
   "execution_count": null,
   "metadata": {},
   "outputs": [],
   "source": []
  }
 ],
 "metadata": {
  "kernelspec": {
   "display_name": "py12",
   "language": "python",
   "name": "python3"
  },
  "language_info": {
   "codemirror_mode": {
    "name": "ipython",
    "version": 3
   },
   "file_extension": ".py",
   "mimetype": "text/x-python",
   "name": "python",
   "nbconvert_exporter": "python",
   "pygments_lexer": "ipython3",
   "version": "3.12.7"
  }
 },
 "nbformat": 4,
 "nbformat_minor": 2
}
