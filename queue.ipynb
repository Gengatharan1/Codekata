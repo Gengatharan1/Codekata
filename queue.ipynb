{
 "cells": [
  {
   "cell_type": "markdown",
   "metadata": {},
   "source": [
    "### **1. There are N ropes of integer lengths L[i], (1 <= i <= N). In one operation, you pick a rope and cut it by half.**\n",
    "\n",
    "That is L[i] := L[i] - ceil(L[i]/2), once the length of the rope becomes 0, you cannot pick it again. Let the sum of L[i] over all i at an instance be f(L). You are given an integer Q. Find the maximum value of f(L) after performing Q operations.\n",
    "  \n",
    "**Input Description:**\n",
    "\n",
    "The first line contains two integers N and Q denoting the number of ropes and the number of operations to be performed. The next line contains N space separated integers L[i] (1 <= i <= N)\n",
    "\n",
    "**Output Description:**\n",
    "\n",
    "Print the maximum value of f(L)\n",
    "\n",
    "**Sample Input:**\n",
    "\n",
    "2 2\n",
    "\n",
    "5 4\n",
    "\n",
    "**Sample Output:**\n",
    "\n",
    "6"
   ]
  },
  {
   "cell_type": "code",
   "execution_count": null,
   "metadata": {},
   "outputs": [
    {
     "name": "stdout",
     "output_type": "stream",
     "text": [
      "4\n"
     ]
    }
   ],
   "source": [
    "import heapq\n",
    "import math\n",
    "\n",
    "def max_rope_sum(N, Q, lengths):\n",
    "    max_heap = [-length for length in lengths]\n",
    "    heapq.heapify(max_heap)\n",
    "\n",
    "    current_sum = sum(lengths)\n",
    "    for _ in range(Q):\n",
    "        largest_rope = -heapq.heappop(max_heap)\n",
    "        new_length = largest_rope - math.ceil(largest_rope / 2)\n",
    "        current_sum -= (largest_rope - new_length)\n",
    "        heapq.heappush(max_heap, -new_length)\n",
    "    return current_sum\n",
    "\n",
    "N, Q = map(int, input().split())\n",
    "lengths = list(map(int, input().split()))\n",
    "print(max_rope_sum(N, Q, lengths))"
   ]
  },
  {
   "cell_type": "markdown",
   "metadata": {},
   "source": [
    "### **2. Grigor went shopping at a mall. He wanted to buy perfumes. The prices of the perfume of the available N brands is given by an array P[1], P[2]... P[N]. There are infinite supplies of each perfume brand. However P[i] can increase or decrease by a value X. You are given Q queries. Grigor want to spend the least amount of money possible. (The price will not become negative for the given input). Read further.**\n",
    "\n",
    "**Input Description:**\n",
    "\n",
    "The first line contains two space separated integers N, Q, the number of perfumes and the number of queries respectively. The next line contains, N space separated integers P[i] Then Q lines follow. Each line contains two space separated integers of the form 1 X , which means that the cheapest perfume’s price increases by X. 2, which denotes Grigor has to buy a perfume at that juncture.\n",
    "\n",
    "**Output Description:**\n",
    "\n",
    "Print two space separated integers, the number of perfumes Grigor buys and the minimum money he has spent.\n",
    "\n",
    "**Sample Input:**\n",
    "\n",
    "5 3\n",
    "\n",
    "1 2 3 4 5\n",
    "\n",
    "2\n",
    "\n",
    "1 -1\n",
    "\n",
    "2\n",
    "\n",
    "**Sample Output:**\n",
    "\n",
    "2 1"
   ]
  },
  {
   "cell_type": "code",
   "execution_count": 32,
   "metadata": {},
   "outputs": [
    {
     "name": "stdout",
     "output_type": "stream",
     "text": [
      "2 2\n"
     ]
    }
   ],
   "source": [
    "import heapq\n",
    "\n",
    "def solve():\n",
    "    N, Q = map(int, input().split())\n",
    "    P = list(map(int, input().split()))\n",
    "    \n",
    "    heapq.heapify(P)\n",
    "    total_cost = 0\n",
    "    perfumes_bought = 0\n",
    "\n",
    "    for _ in range(Q):\n",
    "        query = list(map(int, input().split()))\n",
    "        \n",
    "        if query[0] == 1:\n",
    "            X = query[1]\n",
    "            min_price = heapq.heappop(P)\n",
    "            heapq.heappush(P, min_price + X)\n",
    "        elif query[0] == 2:\n",
    "            if P:\n",
    "                min_price = heapq.heappop(P)\n",
    "                total_cost += min_price\n",
    "                perfumes_bought += 1\n",
    "    print(perfumes_bought, total_cost)\n",
    "\n",
    "solve()"
   ]
  },
  {
   "cell_type": "markdown",
   "metadata": {},
   "source": [
    "### **3. You are given a postfix expression. Evaluate the given expression and print the result.**\n",
    "\n",
    "**Input Description:**\n",
    "\n",
    "The first line of the input is a string N, containing operators and numbers seperated by the single space which forms a postfix expression\n",
    "\n",
    "**Output Description:**\n",
    "\n",
    "Evaluate the post expression and print the result.\n",
    "\n",
    "**Sample Input:**\n",
    "\n",
    "5 3 1 * + 9 -\n",
    "\n",
    "**Sample Output:**\n",
    "\n",
    "-1"
   ]
  },
  {
   "cell_type": "code",
   "execution_count": 6,
   "metadata": {},
   "outputs": [
    {
     "name": "stdout",
     "output_type": "stream",
     "text": [
      "-1\n"
     ]
    }
   ],
   "source": [
    "def evaluate_postfix(expression):\n",
    "    stack = []\n",
    "    tokens = expression.split()\n",
    "    for token in tokens:\n",
    "        if token.isdigit():\n",
    "            stack.append(int(token))\n",
    "        elif token in \"+-*/\":\n",
    "            if len(stack) < 2:\n",
    "                return -1\n",
    "            operand2 = stack.pop()\n",
    "            operand1 = stack.pop()\n",
    "            if token == '+':\n",
    "                stack.append(operand1 + operand2)\n",
    "            elif token == '-':\n",
    "                stack.append(operand1 - operand2)\n",
    "            elif token == '*':\n",
    "                stack.append(operand1 * operand2)\n",
    "            elif token == '/':\n",
    "                if operand2 == 0:\n",
    "                    return -1\n",
    "                stack.append(operand1 // operand2)\n",
    "        else:\n",
    "            return -1\n",
    "    if len(stack) != 1:\n",
    "        return -1    \n",
    "    return stack.pop()\n",
    "\n",
    "expression = input().strip()\n",
    "print(evaluate_postfix(expression))"
   ]
  },
  {
   "cell_type": "markdown",
   "metadata": {},
   "source": [
    "### **4. A string containing the prefix expression is given to you.Evaluate it and print the single integer giving the answer.**\n",
    "\n",
    "**Input Description:**\n",
    "\n",
    "You are given a string ‘s’.\n",
    "\n",
    "**Output Description:**\n",
    "\n",
    "Print the evaluated answer of that string\n",
    "\n",
    "**Sample Input:**\n",
    "\n",
    "+23\n",
    "\n",
    "**Sample Output:**\n",
    "\n",
    "5"
   ]
  },
  {
   "cell_type": "code",
   "execution_count": 7,
   "metadata": {},
   "outputs": [
    {
     "name": "stdout",
     "output_type": "stream",
     "text": [
      "5\n"
     ]
    }
   ],
   "source": [
    "def evaluate_prefix(expression):\n",
    "    stack = []\n",
    "    for char in reversed(expression):\n",
    "        if char.isdigit():\n",
    "            stack.append(int(char))\n",
    "        else:\n",
    "            operand1 = stack.pop()\n",
    "            operand2 = stack.pop()\n",
    "        \n",
    "            if char == '+':\n",
    "                result = operand1 + operand2\n",
    "            elif char == '-':\n",
    "                result = operand1 - operand2\n",
    "            elif char == '*':\n",
    "                result = operand1 * operand2\n",
    "            elif char == '/':\n",
    "                result = operand1 / operand2\n",
    "            stack.append(result)\n",
    "    return stack.pop()\n",
    "\n",
    "expression = input().strip()\n",
    "print(int(evaluate_prefix(expression)))"
   ]
  },
  {
   "cell_type": "markdown",
   "metadata": {},
   "source": [
    "### **5. You are given an array A of N numbers. You need to perform the following operation on it until only one element is remaining in A. Take two numbers A[i] and A[j] for each valid i, j.**\n",
    "\n",
    "Compute X = 2*(A[i] + A[j]). Delete A[i] and A[j] and add X to the array A. Find the maximum possible value of the single element left in the end.\n",
    "\n",
    "**Input Description:**\n",
    "\n",
    "The first line contains an integer N, denoting the number of array elements. The next line contains N space separated integers.\n",
    "\n",
    "**Output Description:**\n",
    "\n",
    "Print a single integer denoting the maximum possible value of the single element left in the end.\n",
    "\n",
    "**Sample Input:**\n",
    "\n",
    "2\n",
    "\n",
    "4 3\n",
    "\n",
    "**Sample Output:**\n",
    "\n",
    "343"
   ]
  },
  {
   "cell_type": "code",
   "execution_count": 27,
   "metadata": {},
   "outputs": [
    {
     "name": "stdout",
     "output_type": "stream",
     "text": [
      "14\n"
     ]
    }
   ],
   "source": [
    "import heapq\n",
    "\n",
    "def max_possible_value(N, A):\n",
    "    heap = [-x for x in A]\n",
    "    heapq.heapify(heap)\n",
    "    while len(heap) > 1:\n",
    "        max1 = -heapq.heappop(heap)\n",
    "        max2 = -heapq.heappop(heap)\n",
    "        new_value = 2 * (max1 + max2)\n",
    "        heapq.heappush(heap, -new_value)\n",
    "    return -heap[0]\n",
    "\n",
    "N = int(input())\n",
    "A = list(map(int, input().split()))\n",
    "print(max_possible_value(N, A))"
   ]
  },
  {
   "cell_type": "markdown",
   "metadata": {},
   "source": [
    "### **6. You are given with a queue. Your task is to reverse the queue elements and print it.**\n",
    "\n",
    "**Input Description:**\n",
    "\n",
    "You are given a number ‘n’,denoting size of queue, Next line contains s space separated numbers\n",
    "\n",
    "**Output Description:**\n",
    "\n",
    "Print the reversed queue.\n",
    "\n",
    "**Sample Input:**\n",
    "\n",
    "6\n",
    "\n",
    "1 2 3 4 5 6\n",
    "\n",
    "**Sample Output:**\n",
    "\n",
    "6 5 4 3 2 1"
   ]
  },
  {
   "cell_type": "code",
   "execution_count": 19,
   "metadata": {},
   "outputs": [
    {
     "name": "stdout",
     "output_type": "stream",
     "text": [
      "6 5 4 3 2 1\n"
     ]
    }
   ],
   "source": [
    "from collections import deque\n",
    "\n",
    "def reverse_queue(queue):\n",
    "    stack = []\n",
    "\n",
    "    while queue:\n",
    "        stack.append(queue.popleft())\n",
    "\n",
    "    while stack:\n",
    "        queue.append(stack.pop())    \n",
    "    return queue\n",
    "\n",
    "n = int(input())\n",
    "queue = deque(map(int, input().split()))\n",
    "reversed_queue = reverse_queue(queue)\n",
    "print(\" \".join(map(str, reversed_queue)))"
   ]
  },
  {
   "cell_type": "markdown",
   "metadata": {},
   "source": [
    "### **7. We are in the land of Aliens.**\n",
    "\n",
    "There are two aliens Beta and Gamma competing in an election. According to their system, the one who gets to 1000 votes or above first will be declared the winner. Each alien citizen can cast many votes depending on their strength. If the strength of an alien citizen is S[i] at a point, he can cast S[i] votes. After casting a vote, the strength S[i] of alien becomes floor(S[i]/3). After S[i] becomes zero, the alien citizen can't vote. You are given N citizens and their strengths. Each day Beta first picks a citizen ONCE to vote for her and Gamma picks a citizen TWICE to vote for her (citizens picked can be the same). Find who wins the election if both pick optimally. Print -1 if both of them could not reach 1000 votes or above.\n",
    "\n",
    "**Input Description:**\n",
    "\n",
    "The first line contains an Integer N denoting the number of citizens. The next line contains N space separated integers S[i] (1 <= i <= N)\n",
    "\n",
    "**Output Description:**\n",
    "\n",
    "Print a line, the winner as \"Beta\" or \"Gamma\" (without quotes) or -1\n",
    "\n",
    "**Sample Input:**\n",
    "\n",
    "2\n",
    "\n",
    "900 900\n",
    "\n",
    "**Sample Output:**\n",
    "\n",
    "Gamma"
   ]
  },
  {
   "cell_type": "code",
   "execution_count": 20,
   "metadata": {},
   "outputs": [
    {
     "name": "stdout",
     "output_type": "stream",
     "text": [
      "Gamma\n"
     ]
    }
   ],
   "source": [
    "import heapq\n",
    "\n",
    "N = int(input())\n",
    "S = list(map(int, input().split()))\n",
    "max_heap = [-s for s in S]\n",
    "heapq.heapify(max_heap)\n",
    "\n",
    "beta_votes = 0\n",
    "gamma_votes = 0\n",
    "\n",
    "while beta_votes < 1000 and gamma_votes < 1000:\n",
    "    if max_heap:\n",
    "        max_strength = -heapq.heappop(max_heap)\n",
    "        beta_votes += max_strength\n",
    "        new_strength = max_strength // 3\n",
    "        if new_strength > 0:\n",
    "            heapq.heappush(max_heap, -new_strength)\n",
    "    \n",
    "    if max_heap:\n",
    "        max_strength = -heapq.heappop(max_heap)\n",
    "        gamma_votes += max_strength\n",
    "        new_strength = max_strength // 3\n",
    "        if new_strength > 0:\n",
    "            heapq.heappush(max_heap, -new_strength)    \n",
    "        if max_heap:\n",
    "            max_strength = -heapq.heappop(max_heap)\n",
    "            gamma_votes += max_strength\n",
    "            new_strength = max_strength // 3\n",
    "            if new_strength > 0:\n",
    "                heapq.heappush(max_heap, -new_strength)\n",
    "\n",
    "if beta_votes >= 1000:\n",
    "    print(\"Beta\")\n",
    "elif gamma_votes >= 1000:\n",
    "    print(\"Gamma\")\n",
    "else:\n",
    "    print(-1)"
   ]
  },
  {
   "cell_type": "markdown",
   "metadata": {},
   "source": [
    "### **8. You are given a string of different type of brackets. Your task is to check whether the given string is balanced or not balanced.**\n",
    "\n",
    "A string is said to be balanced if the number of opening brackets are equal to the number of closing brackets where the brackets should be of same kind.\n",
    "\n",
    "**Input Description:**\n",
    "\n",
    "You are given a string ‘s’.\n",
    "\n",
    "**Output Description:**\n",
    "\n",
    "Print 'yes' if the given string is balanced and no if it is not\n",
    "\n",
    "**Sample Input:**\n",
    "\n",
    "{}(())[][][{}]\n",
    "\n",
    "**Sample Output:**\n",
    "\n",
    "yes"
   ]
  },
  {
   "cell_type": "code",
   "execution_count": 21,
   "metadata": {},
   "outputs": [
    {
     "name": "stdout",
     "output_type": "stream",
     "text": [
      "yes\n"
     ]
    }
   ],
   "source": [
    "def is_balanced(s):\n",
    "    stack = []\n",
    "\n",
    "    matching_bracket = {')': '(', '}': '{', ']': '['}\n",
    "    for char in s:\n",
    "        if char in '({[':\n",
    "            stack.append(char)\n",
    "        elif char in ')}]':\n",
    "            if not stack or stack[-1] != matching_bracket[char]:\n",
    "                return \"no\"\n",
    "            stack.pop()\n",
    "    \n",
    "    if not stack:\n",
    "        return \"yes\"\n",
    "    else:\n",
    "        return \"no\"\n",
    "\n",
    "s = input().strip()\n",
    "print(is_balanced(s))"
   ]
  },
  {
   "cell_type": "markdown",
   "metadata": {},
   "source": [
    "### **9. Ram was going through the concept of paranthesis. He got stuck in some question. Your task is to help him in solving the question. He has to tell maximum length at which paranthesis are balanced. Its now your task to display the maximum number.**\n",
    "\n",
    "**Input Description:**\n",
    "\n",
    "You are given a string 'S' of paranthesis\n",
    "\n",
    "**Output Description:**\n",
    "\n",
    "Print the maximum length of balanced paranthesis else if it no balanced paranthesis length exists print -1\n",
    "\n",
    "**Sample Input:**\n",
    "\n",
    "))(())\n",
    "\n",
    "**Sample Output:**\n",
    "\n",
    "4"
   ]
  },
  {
   "cell_type": "code",
   "execution_count": 22,
   "metadata": {},
   "outputs": [
    {
     "name": "stdout",
     "output_type": "stream",
     "text": [
      "4\n"
     ]
    }
   ],
   "source": [
    "def max_balanced_length(S):\n",
    "    stack = [-1]\n",
    "    max_length = 0\n",
    "    \n",
    "    for i in range(len(S)):\n",
    "        if S[i] == '(':\n",
    "            stack.append(i)\n",
    "        else:\n",
    "            stack.pop()\n",
    "            if stack:\n",
    "                max_length = max(max_length, i - stack[-1])\n",
    "            else:\n",
    "                stack.append(i)    \n",
    "    return max_length if max_length > 0 else -1\n",
    "\n",
    "S = input()\n",
    "print(max_balanced_length(S))"
   ]
  },
  {
   "cell_type": "markdown",
   "metadata": {},
   "source": [
    "### **10. Joyal was given a sentence. His task is to delete the two words that comes together and print the sentence so that the words in the output sentence have distinct words compared to their adjacent words. If no words are present in the output sentence print -1.**\n",
    "\n",
    "**Input Description:**\n",
    "\n",
    "You are given input string 'S'\n",
    "\n",
    "**Output Description:**\n",
    "\n",
    "Print the all the words that are left in the string 's' so that the words in the output sentence have distinct words compared to their adjacent words. Print -1 if no words are left\n",
    "\n",
    "**Sample Input:**\n",
    "\n",
    "I am john cena cena john\n",
    "\n",
    "**Sample Output:**\n",
    "\n",
    "I am"
   ]
  },
  {
   "cell_type": "code",
   "execution_count": 23,
   "metadata": {},
   "outputs": [
    {
     "name": "stdout",
     "output_type": "stream",
     "text": [
      "I am\n"
     ]
    }
   ],
   "source": [
    "def remove_adjacent_duplicates(s):\n",
    "    words = s.split()\n",
    "    stack = []\n",
    "    \n",
    "    for word in words:\n",
    "        if stack and stack[-1] == word:\n",
    "            stack.pop()\n",
    "        else:\n",
    "            stack.append(word)\n",
    "    \n",
    "    if not stack:\n",
    "        print(\"-1\")\n",
    "    else:\n",
    "        print(\" \".join(stack))\n",
    "\n",
    "s = input()\n",
    "remove_adjacent_duplicates(s)"
   ]
  },
  {
   "cell_type": "markdown",
   "metadata": {},
   "source": [
    "### **11. You are given a string representing the postfix expression.Evaluate the expression. And print the answer and print -1 if expression is wrong.**\n",
    "\n",
    "**Input Description:**\n",
    "\n",
    "You are given with a string containing operator and digits 0-9.\n",
    "\n",
    "**Output Description:**\n",
    "\n",
    "Print the answer print -1 if expression given is wrong\n",
    "\n",
    "**Sample Input:**\n",
    "\n",
    "23+*\n",
    "\n",
    "**Sample Output:**\n",
    "\n",
    "-1"
   ]
  },
  {
   "cell_type": "code",
   "execution_count": 24,
   "metadata": {},
   "outputs": [
    {
     "name": "stdout",
     "output_type": "stream",
     "text": [
      "-1\n"
     ]
    }
   ],
   "source": [
    "def evaluate_postfix(expression):\n",
    "    stack = []\n",
    "    for char in expression:\n",
    "        if char.isdigit():\n",
    "            stack.append(int(char))\n",
    "        elif char in \"+-*/\":\n",
    "            if len(stack) < 2:\n",
    "                return -1\n",
    "            operand2 = stack.pop()\n",
    "            operand1 = stack.pop()\n",
    "            if char == '+':\n",
    "                stack.append(operand1 + operand2)\n",
    "            elif char == '-':\n",
    "                stack.append(operand1 - operand2)\n",
    "            elif char == '*':\n",
    "                stack.append(operand1 * operand2)\n",
    "            elif char == '/':\n",
    "                if operand2 == 0:\n",
    "                    return -1\n",
    "                stack.append(operand1 // operand2)\n",
    "        else:\n",
    "            return -1\n",
    "    if len(stack) != 1:\n",
    "        return -1    \n",
    "    return stack.pop()\n",
    "\n",
    "expression = input().strip()\n",
    "print(evaluate_postfix(expression))"
   ]
  },
  {
   "cell_type": "code",
   "execution_count": null,
   "metadata": {},
   "outputs": [],
   "source": []
  }
 ],
 "metadata": {
  "kernelspec": {
   "display_name": "py8",
   "language": "python",
   "name": "python3"
  },
  "language_info": {
   "codemirror_mode": {
    "name": "ipython",
    "version": 3
   },
   "file_extension": ".py",
   "mimetype": "text/x-python",
   "name": "python",
   "nbconvert_exporter": "python",
   "pygments_lexer": "ipython3",
   "version": "3.8.20"
  }
 },
 "nbformat": 4,
 "nbformat_minor": 2
}
