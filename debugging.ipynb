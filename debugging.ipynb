{
 "cells": [
  {
   "cell_type": "markdown",
   "metadata": {},
   "source": [
    "### 1. Given the values of a,b and x in the equation ax + b = y. Find the value of y.\n",
    "\n",
    "**Input Description:-**\n",
    "\n",
    "A single line contains 3 space separated integers.\n",
    "\n",
    "**Output Description:-**\n",
    "\n",
    "Print the value y.\n",
    "\n",
    "**Sample Input:**\n",
    "\n",
    "3 5 2\n",
    "\n",
    "**Sample Output:**\n",
    "\n",
    "11"
   ]
  },
  {
   "cell_type": "code",
   "execution_count": null,
   "metadata": {},
   "outputs": [
    {
     "name": "stdout",
     "output_type": "stream",
     "text": [
      "21\n"
     ]
    }
   ],
   "source": [
    "# Before debugging\n",
    "\n",
    "a, b, x = list(map(int, input().split()))\n",
    "y = (a * (x + b))\n",
    "print(y)"
   ]
  },
  {
   "cell_type": "code",
   "execution_count": null,
   "metadata": {},
   "outputs": [
    {
     "name": "stdout",
     "output_type": "stream",
     "text": [
      "11\n"
     ]
    }
   ],
   "source": [
    "# After debugging\n",
    "\n",
    "a, b, x = map(int, input().split())\n",
    "y = a * x + b\n",
    "print(y)"
   ]
  },
  {
   "cell_type": "markdown",
   "metadata": {},
   "source": [
    "### 2. You are given two arrays of equal length. Your task is to merge the two arrays then sort them too and then find the sum of two middlemost elements.\n",
    "\n",
    "**Input Description:-**\n",
    "\n",
    "You are given a number ‘n’. Then Next line contains first list of 'n' separated numbers.Third line contains second list of 'n' space separated numbers.\n",
    "\n",
    "**Output Description:-**\n",
    "\n",
    "Print the sum of two middle elements\n",
    "\n",
    "**Sample Input:**\n",
    "\n",
    "5\n",
    "\n",
    "1 9 16 25 46\n",
    "\n",
    "2 3 4 5 6\n",
    "\n",
    "**Sample Output:**\n",
    "\n",
    "11"
   ]
  },
  {
   "cell_type": "code",
   "execution_count": null,
   "metadata": {},
   "outputs": [
    {
     "name": "stdout",
     "output_type": "stream",
     "text": [
      "11\n"
     ]
    }
   ],
   "source": [
    "# After debugging\n",
    "\n",
    "n = int(input())\n",
    "array1 = list(map(int, input().split()))\n",
    "array2 = list(map(int, input().split()))\n",
    "merged_array = array1 + array2\n",
    "merged_array.sort()\n",
    "middle1 = merged_array[len(merged_array) // 2 - 1]\n",
    "middle2 = merged_array[len(merged_array) // 2]\n",
    "print(middle1 + middle2)"
   ]
  },
  {
   "cell_type": "markdown",
   "metadata": {},
   "source": [
    "### 3. Write a  Program to Clear the Rightmost Set Bit of a Number\n",
    "\n",
    "**Input Description:-**\n",
    "\n",
    "A single input contains an integer N\n",
    "\n",
    "**Output Description:-**\n",
    "\n",
    "To clear the rightmost bit of an integer\n",
    "\n",
    "**Sample Input:**\n",
    "\n",
    "5\n",
    "\n",
    "**Sample Output:**\n",
    "\n",
    "4"
   ]
  },
  {
   "cell_type": "code",
   "execution_count": null,
   "metadata": {},
   "outputs": [
    {
     "name": "stdout",
     "output_type": "stream",
     "text": [
      "5\n"
     ]
    }
   ],
   "source": [
    "# Before debugging\n",
    "\n",
    "n=int(input())\n",
    "print(n|(n-1))"
   ]
  },
  {
   "cell_type": "code",
   "execution_count": null,
   "metadata": {},
   "outputs": [
    {
     "name": "stdout",
     "output_type": "stream",
     "text": [
      "4\n"
     ]
    }
   ],
   "source": [
    "# After debugging\n",
    "\n",
    "n=int(input())\n",
    "print(n & (n-1))"
   ]
  },
  {
   "cell_type": "markdown",
   "metadata": {},
   "source": [
    "### 4. In a school there are voting to choose the monitor of class.Your task is to tell which candidate is winner and if there is a tie print the name of candidate whose come first in lexicographical order.\n",
    "\n",
    "**Input Description:-**\n",
    "\n",
    "You are given with the space separated names.\n",
    "\n",
    "**Output Description:-**\n",
    "\n",
    "Print the winner’s name and the votes he earned.\n",
    "\n",
    "**Sample Input:**\n",
    "\n",
    "john johnny jackie johnny john jackie jamie jamie john johnny jamie johnny john\n",
    "\n",
    "**Sample Output:**\n",
    "\n",
    "john 4"
   ]
  },
  {
   "cell_type": "code",
   "execution_count": 30,
   "metadata": {},
   "outputs": [
    {
     "name": "stdout",
     "output_type": "stream",
     "text": [
      "john 4\n"
     ]
    }
   ],
   "source": [
    "mylist = list(input().split())\n",
    "\n",
    "mydict = {}     # Initialize an empty dictionary to count votes\n",
    "\n",
    "# Count the votes for each candidate\n",
    "for i in mylist:\n",
    "    if i not in mydict:\n",
    "        mydict[i] = 1\n",
    "    else:\n",
    "        mydict[i] += 1\n",
    "\n",
    "# Find the maximum number of votes\n",
    "max_num = max(mydict.values())\n",
    "numlist = [candidate for candidate, votes in mydict.items() if votes == max_num]\n",
    "numlist = sorted(numlist)\n",
    "print(numlist[0], max_num)"
   ]
  },
  {
   "cell_type": "markdown",
   "metadata": {},
   "source": [
    "### 5. You are given a string ‘s’.Print all the duplicate characters of string.\n",
    "\n",
    "**Input Description:-**\n",
    "\n",
    "String ‘s; is given\n",
    "\n",
    "**Output Description:-**\n",
    "\n",
    "Print only duplicate character and -1 if no character is duplicate.\n",
    "\n",
    "**Sample Input:**\n",
    "\n",
    "abcddee\n",
    "\n",
    "**Sample Output:**\n",
    "\n",
    "d e"
   ]
  },
  {
   "cell_type": "code",
   "execution_count": 15,
   "metadata": {},
   "outputs": [
    {
     "name": "stdout",
     "output_type": "stream",
     "text": [
      "d e\n"
     ]
    }
   ],
   "source": [
    "s = input()\n",
    "seen_chars = set()\n",
    "duplicates = []\n",
    "\n",
    "for char in s:\n",
    "    if char in seen_chars:\n",
    "        if char not in duplicates:\n",
    "            duplicates.append(char)\n",
    "    else:\n",
    "        seen_chars.add(char)\n",
    "\n",
    "if duplicates:\n",
    "    print(\" \".join(duplicates))\n",
    "else:\n",
    "    print(-1)"
   ]
  },
  {
   "cell_type": "markdown",
   "metadata": {},
   "source": [
    "### 6. You are given a string ‘s’. Your task is to print the characters which are not repeated with a single space in between the characters.\n",
    "\n",
    "**Input Description:-**\n",
    "\n",
    "You are given a string ‘s’.\n",
    "\n",
    "**Output Description:-**\n",
    "\n",
    "Print the characters present once and -1 if there is no character which satisfy above condition\n",
    "\n",
    "**Sample Input:**\n",
    "\n",
    "dabbc\n",
    "\n",
    "**Sample Output:**\n",
    "\n",
    "d a c"
   ]
  },
  {
   "cell_type": "code",
   "execution_count": 16,
   "metadata": {},
   "outputs": [
    {
     "name": "stdout",
     "output_type": "stream",
     "text": [
      "d a c\n"
     ]
    }
   ],
   "source": [
    "s = input()\n",
    "\n",
    "L1, L2 = [], []\n",
    "\n",
    "for c in s:\n",
    "    if c in L1:\n",
    "        L2.append(c)\n",
    "    else:\n",
    "        L1.append(c)\n",
    "\n",
    "unique_chars = [c for c in L1 if c not in L2]\n",
    "\n",
    "if unique_chars:\n",
    "    print(\" \".join(unique_chars))\n",
    "else:\n",
    "    print(-1)"
   ]
  },
  {
   "cell_type": "markdown",
   "metadata": {},
   "source": [
    "### 7. You are given some words all in lower case letters your task is to print them in sorted order.\n",
    "\n",
    "**Input Description:-**\n",
    "\n",
    "You are given a string ‘s’\n",
    "\n",
    "**Output Description:-**\n",
    "\n",
    "Print the string in sorted order\n",
    "\n",
    "**Sample Input:**\n",
    "\n",
    "virat kohli\n",
    "\n",
    "**Sample Output:**\n",
    "\n",
    "kohli virat"
   ]
  },
  {
   "cell_type": "code",
   "execution_count": 17,
   "metadata": {},
   "outputs": [
    {
     "name": "stdout",
     "output_type": "stream",
     "text": [
      "kohli virat\n"
     ]
    }
   ],
   "source": [
    "s = input()\n",
    "words = s.split()\n",
    "words.sort()\n",
    "sorted_string = \" \".join(words)\n",
    "print(sorted_string)"
   ]
  },
  {
   "cell_type": "markdown",
   "metadata": {},
   "source": [
    "### 8. Write a Program to Check if a Date is Valid and Print the Incremented Date Otherwise Invalid\n",
    "\n",
    "**Input Description:-**\n",
    "\n",
    "A single line input contains a three integer separated by space\n",
    "\n",
    "**Output Description:-**\n",
    "\n",
    "Print the incremented date.\n",
    "\n",
    "**Sample Input:**\n",
    "\n",
    "16 1 2020\n",
    "\n",
    "**Sample Output:**\n",
    "\n",
    "17 1 2020"
   ]
  },
  {
   "cell_type": "code",
   "execution_count": 18,
   "metadata": {},
   "outputs": [
    {
     "name": "stdout",
     "output_type": "stream",
     "text": [
      "17 1 2020\n"
     ]
    }
   ],
   "source": [
    "from datetime import datetime, timedelta\n",
    "\n",
    "day, month, year = map(int, input().split())\n",
    "\n",
    "try:\n",
    "    current_date = datetime(year, month, day)\n",
    "    next_day = current_date + timedelta(days=1)\n",
    "    print(next_day.day, next_day.month, next_day.year)\n",
    "except ValueError:\n",
    "    print(\"Invalid\")"
   ]
  },
  {
   "cell_type": "markdown",
   "metadata": {},
   "source": [
    "### 9. Write a Program to Compute Simple Interest Given all the Required Values\n",
    "\n",
    "**Input Description:-**\n",
    "\n",
    "The first input contains a float and then second input contains an integer and third input contains float\n",
    "\n",
    "**Output Description:-**\n",
    "\n",
    "Print the simple interest\n",
    "\n",
    "**Sample Input:**\n",
    "\n",
    "2000.00\n",
    "\n",
    "2\n",
    "\n",
    "1.0\n",
    "\n",
    "**Sample Output:**\n",
    "\n",
    "40.0"
   ]
  },
  {
   "cell_type": "code",
   "execution_count": null,
   "metadata": {},
   "outputs": [
    {
     "name": "stdout",
     "output_type": "stream",
     "text": [
      "40\n"
     ]
    }
   ],
   "source": [
    "# Before debugging\n",
    "\n",
    "a=int(input())\n",
    "b=int(input())\n",
    "c=int(input())\n",
    "print(round(a*b*c/100))"
   ]
  },
  {
   "cell_type": "code",
   "execution_count": 21,
   "metadata": {},
   "outputs": [
    {
     "name": "stdout",
     "output_type": "stream",
     "text": [
      "40.0\n"
     ]
    }
   ],
   "source": [
    "a=float(input())\n",
    "b=int(input())\n",
    "c=float(input())\n",
    "print(a*b*c/100)"
   ]
  },
  {
   "cell_type": "markdown",
   "metadata": {},
   "source": [
    "### 10. Write a Program to Find the Second Largest Number in a List\n",
    "\n",
    "**Input Description:-**\n",
    "\n",
    "A single line input contains an integer\n",
    "\n",
    "**Output Description:-**\n",
    "\n",
    "Print the second largest value\n",
    "\n",
    "**Sample Input:**\n",
    "\n",
    "4 3 2 1\n",
    "\n",
    "**Sample Output:**\n",
    "\n",
    "3"
   ]
  },
  {
   "cell_type": "code",
   "execution_count": null,
   "metadata": {},
   "outputs": [
    {
     "name": "stdout",
     "output_type": "stream",
     "text": [
      "2\n"
     ]
    }
   ],
   "source": [
    "# Before debugging\n",
    "\n",
    "l=list(map(int, input().split()))\n",
    "l.sort()\n",
    "print(l[1])"
   ]
  },
  {
   "cell_type": "code",
   "execution_count": 23,
   "metadata": {},
   "outputs": [
    {
     "name": "stdout",
     "output_type": "stream",
     "text": [
      "3\n"
     ]
    }
   ],
   "source": [
    "numbers = list(map(int, input().split()))\n",
    "unique_numbers = sorted(set(numbers), reverse=True)\n",
    "\n",
    "if len(unique_numbers) >= 2:\n",
    "    second_largest = unique_numbers[1]\n",
    "    print(second_largest)\n",
    "else:\n",
    "    print(\"-1\")"
   ]
  },
  {
   "cell_type": "markdown",
   "metadata": {},
   "source": [
    "### 11. Write a code to generate a hollow rectangle using stars. \n",
    "\n",
    "**Input Description:-**\n",
    "\n",
    "Given an integer R indicates no of rows and an integer C indicates no of columns.Where 1\n",
    "\n",
    "**Output Description:-**\n",
    "\n",
    "Print the hollow rectangle using stars with R rows and C columns.\n",
    "\n",
    "**Sample Input:**\n",
    "\n",
    "3 5\n",
    "\n",
    "**Sample Output:**\n",
    "\n",
    "* * * * *\n",
    "*       *\n",
    "* * * * *"
   ]
  },
  {
   "cell_type": "code",
   "execution_count": null,
   "metadata": {},
   "outputs": [],
   "source": [
    "# Before debugging\n",
    "\n",
    "n,m=map(int,input().split())\n",
    "l=[[0 for j in range(m)] for i in range(n)]\n",
    "for i in range(0,n+1):\n",
    "    for j in range(0,m):\n",
    "        if (i == 0) or (j == 0) or (j == m+1):\n",
    "            l[i][j] = '*'\n",
    "        else:\n",
    "            l[i][j] = \"\"\n",
    "for i in l:\n",
    "    print(i)"
   ]
  },
  {
   "cell_type": "code",
   "execution_count": 32,
   "metadata": {},
   "outputs": [
    {
     "name": "stdout",
     "output_type": "stream",
     "text": [
      "* * * * * \n",
      "*       *\n",
      "* * * * * \n"
     ]
    }
   ],
   "source": [
    "# After debugging:\n",
    "\n",
    "# Input the number of rows and columns\n",
    "R, C = map(int, input().split())\n",
    "\n",
    "# Generate the hollow rectangle\n",
    "for i in range(R):\n",
    "    if i == 0 or i == R - 1:\n",
    "        # Print the full row of stars for the first and last row\n",
    "        print(\"* \" * C)\n",
    "    else:\n",
    "        # Print the hollow row with stars only at the beginning and end\n",
    "        print(\"*\" + \"  \" * (C - 2) + \" *\")"
   ]
  },
  {
   "cell_type": "markdown",
   "metadata": {},
   "source": [
    "### 12. Ramit is given a list of both positive and negative integers. He has to tell the maximum sum out of all subarrays in the given list. He got confused and requested help from you. Now it is your task to find the maximum sum out of all subarrays in the given list.\n",
    "\n",
    "**Input Description:-**\n",
    "\n",
    "You are given a number 'n'. Next line contains n space separated numbers.\n",
    "\n",
    "**Output Description:-**\n",
    "\n",
    "Print the max sum of sub array.\n",
    "\n",
    "**Sample Input:**\n",
    "\n",
    "5\n",
    "\n",
    "1 2 3 -2 5\n",
    "\n",
    "**Sample Output:**\n",
    "\n",
    "9"
   ]
  },
  {
   "cell_type": "code",
   "execution_count": null,
   "metadata": {},
   "outputs": [],
   "source": [
    "# Before debugging\n",
    "\n",
    "size = int(input())\n",
    "a = list(map(input().split()))\n",
    "maxsubar = 0\n",
    "curr_max = a[0]\n",
    "for i in range(1,size):\n",
    "    curr_max = max(a[i], curr_max + a[i+1])\n",
    "    maxsubar = max(maxsubar,curr_max)\n",
    "print(maxsubar)"
   ]
  },
  {
   "cell_type": "code",
   "execution_count": 45,
   "metadata": {},
   "outputs": [
    {
     "name": "stdout",
     "output_type": "stream",
     "text": [
      "9\n"
     ]
    }
   ],
   "source": [
    "# After debugging\n",
    "\n",
    "# Input the size of the array\n",
    "n = int(input())\n",
    "\n",
    "# Input the array\n",
    "arr = list(map(int, input().split()))\n",
    "\n",
    "# Initialize variables for Kadane's Algorithm\n",
    "current_sum = arr[0]\n",
    "max_sum = arr[0]\n",
    "\n",
    "# Iterate through the array\n",
    "for i in range(1, n):\n",
    "    current_sum = max(arr[i], current_sum + arr[i])  # Choose the maximum between starting a new subarray or extending the current one\n",
    "    max_sum = max(max_sum, current_sum)  # Update the maximum sum encountered\n",
    "\n",
    "# Output the maximum sum\n",
    "print(max_sum)"
   ]
  },
  {
   "cell_type": "markdown",
   "metadata": {},
   "source": [
    "### 13. Generate a hollow half pyramid pattern using numbers.\n",
    "\n",
    "**Input Description:-**\n",
    "\n",
    "Given an integer R indicates number of rows.Where 1\n",
    "\n",
    "**Output Description:-**\n",
    "\n",
    "Print the hollow half pyramid pattern using numbers based on the given integer R.\n",
    "\n",
    "**Sample Input:**\n",
    "\n",
    "5\n",
    "\n",
    "**Sample Output:**\n",
    "\n",
    "1\n",
    "\n",
    "12\n",
    "\n",
    "1 3\n",
    "\n",
    "1  4\n",
    "\n",
    "12345"
   ]
  },
  {
   "cell_type": "code",
   "execution_count": null,
   "metadata": {},
   "outputs": [],
   "source": [
    "# Before debugging\n",
    "\n",
    "n = int(input())\n",
    "a=[]\n",
    "j = 0\n",
    "q = ''\n",
    "for i in range (1,n+1):\n",
    "    q = q + str(i)\n",
    "    if i == 1:\n",
    "        a.append(1)\n",
    "    elif 1<i<n:\n",
    "        s = 1 + (\" \" * j)+ str(i)\n",
    "        a.append(s)\n",
    "        j = j+1\n",
    "    else:\n",
    "        a.append(q)\n",
    "for i in a:\n",
    "    print(i)"
   ]
  },
  {
   "cell_type": "code",
   "execution_count": null,
   "metadata": {},
   "outputs": [
    {
     "name": "stdout",
     "output_type": "stream",
     "text": [
      "1\n",
      "12\n",
      "1 3\n",
      "1  4\n",
      "12345\n"
     ]
    }
   ],
   "source": [
    "# After debugging\n",
    "\n",
    "R = int(input())\n",
    "\n",
    "# Generate hollow half pyramid\n",
    "for i in range(1, R+1):\n",
    "    if i == 1:\n",
    "        print(\"1\")\n",
    "    elif i == R:\n",
    "        print(\"\".join(str(x) for x in range(1, i+1)))\n",
    "    else:\n",
    "        print(str(1) + \" \" * (i-2) + str(i))"
   ]
  },
  {
   "cell_type": "markdown",
   "metadata": {},
   "source": [
    "### 14. Given 3 numbers A,B,C print 'yes' if they can form the sides of a right angled triangle,otherwise 'no'.\n",
    "\n",
    "Input Size : A,B,C <= 100000\n",
    "\n",
    "**Input Description:-**\n",
    "\n",
    "Single line contains 3 space separated integers, which indicates the sides of triangle.\n",
    "\n",
    "**Output Description:-**\n",
    "\n",
    "Print yes or no.\n",
    "\n",
    "**Sample Input:**\n",
    "\n",
    "3 4 5\n",
    "\n",
    "**Sample Output:**\n",
    "\n",
    "yes"
   ]
  },
  {
   "cell_type": "code",
   "execution_count": 50,
   "metadata": {},
   "outputs": [
    {
     "name": "stdout",
     "output_type": "stream",
     "text": [
      "yes"
     ]
    }
   ],
   "source": [
    "# Before debugging\n",
    "\n",
    "def checkValidity(a, b, c):\n",
    "    if (a + b <= c) or (a + c <= b)  :\n",
    "        return False\n",
    "    else:\n",
    "        return True\n",
    "\n",
    "a,b,c = map(int,input().split())\n",
    "\n",
    "if checkValidity(a, b, c):\n",
    "    print(\"yes\", end=\"\")\n",
    "else:\n",
    "    print(\"no\", end=\" \")"
   ]
  },
  {
   "cell_type": "code",
   "execution_count": null,
   "metadata": {},
   "outputs": [
    {
     "name": "stdout",
     "output_type": "stream",
     "text": [
      "yes\n"
     ]
    }
   ],
   "source": [
    "# After debugging:\n",
    "\n",
    "A, B, C = map(int, input().split())\n",
    "\n",
    "# Sort the numbers to identify the largest as the hypotenuse\n",
    "sides = sorted([A, B, C])\n",
    "\n",
    "# Check if the Pythagorean theorem holds\n",
    "if sides[0]**2 + sides[1]**2 == sides[2]**2:\n",
    "    print(\"yes\")\n",
    "else:\n",
    "    print(\"no\")"
   ]
  },
  {
   "cell_type": "markdown",
   "metadata": {},
   "source": [
    "### 15. Given an array N, check if the values are alternating between increasing and decreasing.\n",
    "\n",
    "Input Size : N <= 100000\n",
    "\n",
    "**Input Description:-**\n",
    "\n",
    "First line contains integer N,denotes size of array. Second line contains N space separated integers,denotes array elements.\n",
    "\n",
    "**Output Description:-**\n",
    "\n",
    "Print yes or no\n",
    "\n",
    "**Sample Input:**\n",
    "\n",
    "5\n",
    "\n",
    "12 14 3 7 4\n",
    "\n",
    "**Sample Output:**\n",
    "\n",
    "yes"
   ]
  },
  {
   "cell_type": "code",
   "execution_count": null,
   "metadata": {},
   "outputs": [
    {
     "name": "stdout",
     "output_type": "stream",
     "text": [
      "no\n"
     ]
    }
   ],
   "source": [
    "# Before debugging:\n",
    "\n",
    "n=int(input())\n",
    "s=list(map(int,input().split()))\n",
    "g=\"yes\"\n",
    "for i in range(0,n-2,2):\n",
    "    if(s[i]>s[i-1] or s[i-1]<s[i+2]):\n",
    "        continue\n",
    "    else:\n",
    "        g=\"no\"\n",
    "        break\n",
    "print(g)"
   ]
  },
  {
   "cell_type": "code",
   "execution_count": null,
   "metadata": {},
   "outputs": [
    {
     "name": "stdout",
     "output_type": "stream",
     "text": [
      "yes\n"
     ]
    }
   ],
   "source": [
    "# After debugging:\n",
    "\n",
    "# Size of the array and the array elements\n",
    "N = int(input())\n",
    "arr = list(map(int, input().split()))\n",
    "\n",
    "if N <= 1:\n",
    "    print(\"yes\")\n",
    "else:\n",
    "    is_alternating = True\n",
    "    for i in range(1, N - 1):\n",
    "        if (arr[i - 1] < arr[i] and arr[i] <= arr[i + 1]) or (arr[i - 1] > arr[i] and arr[i] >= arr[i + 1]):\n",
    "            is_alternating = False\n",
    "            break\n",
    "    \n",
    "    if is_alternating:\n",
    "        print(\"yes\")\n",
    "    else:\n",
    "        print(\"no\")"
   ]
  },
  {
   "cell_type": "markdown",
   "metadata": {},
   "source": [
    "### 16. Given 2 arrays print 'yes' if they are mirror images of each other,otherwise 'no'.\n",
    "\n",
    "Input Size : N <= 1000000\n",
    "\n",
    "**Input Description:-**\n",
    "\n",
    "First line contains integer N. Second and third line contains N space separated integers,denotes array elements.\n",
    "\n",
    "**Output Description:-**\n",
    "\n",
    "Print yes or no.\n",
    "\n",
    "**Sample Input:**\n",
    "\n",
    "4\n",
    "\n",
    "1 2 3 4\n",
    "\n",
    "4 3 2 1\n",
    "\n",
    "**Sample Output:**\n",
    "\n",
    "yes"
   ]
  },
  {
   "cell_type": "code",
   "execution_count": null,
   "metadata": {},
   "outputs": [],
   "source": [
    "# Before debugging:\n",
    "\n",
    "a = input()\n",
    "b = [int(x) for x in input(),split()]\n",
    "c = [int(x) for x in input(),split()]\n",
    "c.reverse()\n",
    "if b === c:\n",
    "    print(\"no\",end=\"\")\n",
    "else:\n",
    "    print(\"yes\",end=\"\")"
   ]
  },
  {
   "cell_type": "code",
   "execution_count": null,
   "metadata": {},
   "outputs": [
    {
     "name": "stdout",
     "output_type": "stream",
     "text": [
      "yes\n"
     ]
    }
   ],
   "source": [
    "# After debugging:\n",
    "\n",
    "# Size of the array and two arrays\n",
    "N = int(input())\n",
    "arr1 = list(map(int, input().split()))\n",
    "arr2 = list(map(int, input().split()))\n",
    "\n",
    "# Check if arr2 is the reverse of arr1\n",
    "if arr1 == arr2[::-1]:\n",
    "    print(\"yes\")\n",
    "else:\n",
    "    print(\"no\")"
   ]
  },
  {
   "cell_type": "markdown",
   "metadata": {},
   "source": [
    "### 17. You are given a number ‘n’, Your task is to print the binary sequence of a number ranging from 1 to N.\n",
    "\n",
    "**Input Description:-**\n",
    "\n",
    "Single line contains an integer number ‘N’.\n",
    "\n",
    "**Output Description:-**\n",
    "\n",
    "Print the binary sequence of numbers.\n",
    "\n",
    "**Sample Input:**\n",
    "\n",
    "3\n",
    "\n",
    "**Sample Output:**\n",
    "\n",
    "1 10 11"
   ]
  },
  {
   "cell_type": "code",
   "execution_count": null,
   "metadata": {},
   "outputs": [],
   "source": [
    "# Before debugging:\n",
    "\n",
    "n = input()\n",
    "ans = []\n",
    "for i in range(1, n+1):\n",
    "    ans.append(i)\n",
    "print(*ans)"
   ]
  },
  {
   "cell_type": "code",
   "execution_count": null,
   "metadata": {},
   "outputs": [
    {
     "name": "stdout",
     "output_type": "stream",
     "text": [
      "1 10 11\n"
     ]
    }
   ],
   "source": [
    "# After debugging:\n",
    "\n",
    "N = int(input())\n",
    "\n",
    "# Generate the binary sequence from 1 to N\n",
    "binary_sequence = [bin(i)[2:] for i in range(1, N+1)]\n",
    "\n",
    "# Print the binary sequence joined by spaces\n",
    "print(\" \".join(binary_sequence))"
   ]
  },
  {
   "cell_type": "markdown",
   "metadata": {},
   "source": [
    "### 18. Given a number N in decimal convert it into binary value.\n",
    "\n",
    "Input Size : N <= 100000\n",
    "\n",
    "**Input Description:-**\n",
    "\n",
    "A single line contains an integer N.\n",
    "\n",
    "**Output Description:-**\n",
    "\n",
    "Print the binary value.\n",
    "\n",
    "**Sample Input:**\n",
    "\n",
    "5\n",
    "\n",
    "**Sample Output:**\n",
    "\n",
    "101"
   ]
  },
  {
   "cell_type": "code",
   "execution_count": null,
   "metadata": {},
   "outputs": [
    {
     "name": "stdout",
     "output_type": "stream",
     "text": [
      "0b101\n"
     ]
    }
   ],
   "source": [
    "# Before debugging:\n",
    "\n",
    "no=int(input())\n",
    "x=bin(no)\n",
    "print(x)"
   ]
  },
  {
   "cell_type": "code",
   "execution_count": null,
   "metadata": {},
   "outputs": [
    {
     "name": "stdout",
     "output_type": "stream",
     "text": [
      "101\n"
     ]
    }
   ],
   "source": [
    "# After debugging:\n",
    "\n",
    "N = int(input())\n",
    "\n",
    "# Convert N to binary and remove the '0b' prefix\n",
    "binary_value = bin(N)[2:]\n",
    "\n",
    "# Print the binary value\n",
    "print(binary_value)"
   ]
  },
  {
   "cell_type": "markdown",
   "metadata": {},
   "source": [
    "### 19. Given a number N convert binary to decimal number.\n",
    "\n",
    "Input Size : N <= 100000\n",
    "\n",
    "**Input Description:-**\n",
    "\n",
    "A single line contains a binary value.\n",
    "\n",
    "**Output Description:-**\n",
    "\n",
    "Print the decimal value.\n",
    "\n",
    "**Sample Input:**\n",
    "\n",
    "101\n",
    "\n",
    "**Sample Output:**\n",
    "\n",
    "5"
   ]
  },
  {
   "cell_type": "code",
   "execution_count": null,
   "metadata": {},
   "outputs": [
    {
     "name": "stdout",
     "output_type": "stream",
     "text": [
      "101"
     ]
    }
   ],
   "source": [
    "# Before debugging:\n",
    "\n",
    "binary = input()\n",
    "decimal = int(binary)\n",
    "print(decimal,end=\"\")"
   ]
  },
  {
   "cell_type": "code",
   "execution_count": null,
   "metadata": {},
   "outputs": [
    {
     "name": "stdout",
     "output_type": "stream",
     "text": [
      "5\n"
     ]
    }
   ],
   "source": [
    "# After debugging:\n",
    "\n",
    "# A binary number as a string\n",
    "binary_value = input()\n",
    "\n",
    "# Convert the binary string to a decimal number\n",
    "decimal_value = int(binary_value, 2)\n",
    "\n",
    "# Print the decimal value\n",
    "print(decimal_value)"
   ]
  },
  {
   "cell_type": "markdown",
   "metadata": {},
   "source": [
    "### 20. Given an array of N elements switch(swap) the element with the adjacent element and print the output.\n",
    "\n",
    "**Input Description:-**\n",
    "\n",
    "First line contains an integer N, denotes size of array. Second line contains N space separated integers, denotes array elements.\n",
    "\n",
    "**Output Description:-**\n",
    "\n",
    "Print the modified array\n",
    "\n",
    "**Sample Input:**\n",
    "\n",
    "5\n",
    "\n",
    "3 2 1 2 3\n",
    "\n",
    "**Sample Output:**\n",
    "\n",
    "2 3 2 1 3"
   ]
  },
  {
   "cell_type": "code",
   "execution_count": 65,
   "metadata": {},
   "outputs": [
    {
     "name": "stdout",
     "output_type": "stream",
     "text": [
      "3 3 1 1 3\n"
     ]
    }
   ],
   "source": [
    "# Before debugging:\n",
    "\n",
    "a=int(input())\n",
    "b=list(input().split())\n",
    "c=0\n",
    "d=1\n",
    "for i in range(a//2):\n",
    "    t=b[c]\n",
    "    b[d]=b[c]\n",
    "    b[d]=t\n",
    "    c+=2\n",
    "    d+=2\n",
    "print(*b)"
   ]
  },
  {
   "cell_type": "code",
   "execution_count": null,
   "metadata": {},
   "outputs": [
    {
     "name": "stdout",
     "output_type": "stream",
     "text": [
      "2 3 2 1 3\n"
     ]
    }
   ],
   "source": [
    "# After debugging:\n",
    "\n",
    "N = int(input())  # Read the size of the array\n",
    "arr = list(map(int, input().split()))  # Read the array elements\n",
    "\n",
    "# Swapping adjacent elements\n",
    "for i in range(0, N - 1, 2):  # Step by 2 to ensure we swap adjacent pairs\n",
    "    arr[i], arr[i + 1] = arr[i + 1], arr[i]\n",
    "\n",
    "# Output the modified array\n",
    "print(\" \".join(map(str, arr)))"
   ]
  },
  {
   "cell_type": "markdown",
   "metadata": {},
   "source": [
    "### 21. Given a number N,check whether it has repeating digits in it.print 'yes' if it has repeating digits otherwise print 'no'.\n",
    "\n",
    "**Input Description:-**\n",
    "\n",
    "A single line contains an integer N.\n",
    "\n",
    "**Output Description:-**\n",
    "\n",
    "Print yes or no\n",
    "\n",
    "**Sample Input:**\n",
    "\n",
    "11234\n",
    "\n",
    "**Sample Output:**\n",
    "\n",
    "yes"
   ]
  },
  {
   "cell_type": "code",
   "execution_count": null,
   "metadata": {},
   "outputs": [],
   "source": [
    "# Before debugging:\n",
    "\n",
    "a=input()\n",
    "b=set(a)\n",
    "b=len(b)\n",
    "b=len(a)\n",
    "if(b==c):\n",
    "    print(\"yes\",end='')\n",
    "else:\n",
    "    print(\"no\",end='')"
   ]
  },
  {
   "cell_type": "code",
   "execution_count": null,
   "metadata": {},
   "outputs": [
    {
     "name": "stdout",
     "output_type": "stream",
     "text": [
      "yes\n"
     ]
    }
   ],
   "source": [
    "# After debugging: \n",
    "\n",
    "def has_repeating_digits(n):\n",
    "    n_str = str(n)\n",
    "    if len(n_str) != len(set(n_str)):\n",
    "        return \"yes\"\n",
    "    else:\n",
    "        return \"no\"\n",
    "\n",
    "N = int(input())\n",
    "print(has_repeating_digits(N))"
   ]
  },
  {
   "cell_type": "markdown",
   "metadata": {},
   "source": [
    "### 22. Write a program to find the elements which have the maximum number of 1’s in its binary form. Input consist of the size of the array , array values and the number of elements to be returned. If two number is having same count then return the elements with the greatest magnitude\n",
    "\n",
    "**Input Description:-**\n",
    "\n",
    "Input consist of the size of the array , array values and the number of elements to be returned\n",
    "\n",
    "**Output Description:-**\n",
    "\n",
    "Output return two values with maximum number of one's in binary form\n",
    "\n",
    "**Sample Input:**\n",
    "\n",
    "5\n",
    "\n",
    "1 3 5 7 2\n",
    "\n",
    "2\n",
    "\n",
    "**Sample Output:**\n",
    "\n",
    "7 5"
   ]
  },
  {
   "cell_type": "code",
   "execution_count": null,
   "metadata": {},
   "outputs": [],
   "source": [
    "# Before debugging:\n",
    "\n",
    "n = int(input())\n",
    "l = [int(x) for x in input().split()]\n",
    "z = int(input())\n",
    "l.sort(reverse = True)\n",
    "for i in range(0,i+1):\n",
    "    for j in range(i):\n",
    "        if (str(bin(l[j]))(2:)).count('1') > (str(bin(l[j+1]))(2:)).count('1'):\n",
    "            (l[j], l[j+1]) = (l[j+1], l[j])\n",
    "print(*l[:z])"
   ]
  },
  {
   "cell_type": "code",
   "execution_count": null,
   "metadata": {},
   "outputs": [
    {
     "name": "stdout",
     "output_type": "stream",
     "text": [
      "7 5\n"
     ]
    }
   ],
   "source": [
    "# After debugging:\n",
    "\n",
    "def max_ones_in_binary(n, arr, k):\n",
    "    # Sort array by the number of 1's in binary (primary) and by value (secondary)\n",
    "    sorted_arr = sorted(arr, key=lambda x: (-bin(x).count('1'), -x))\n",
    "    # Return the top k elements\n",
    "    return sorted_arr[:k]\n",
    "\n",
    "n = int(input())\n",
    "arr = list(map(int, input().split()))\n",
    "k = int(input())\n",
    "result = max_ones_in_binary(n, arr, k)\n",
    "print(\" \".join(map(str, result)))"
   ]
  },
  {
   "cell_type": "markdown",
   "metadata": {},
   "source": [
    "### 23. J.S.Bhayana gave an integer array A of size N. If A[i] occurs A[i + 1] times in the array, i is called a beautiful index. Find the number of beautiful indices in the array. (1 <= i < N)\n",
    "(1 based indexing)\n",
    "\n",
    "**Input Description:-**\n",
    "\n",
    "The first line contains an integer N, denoting the size of the array. The next line contains N space separated integers.\n",
    "\n",
    "**Output Description:-**\n",
    "\n",
    "Print an integer denotes the number of beautiful indices in the array.\n",
    "\n",
    "**Sample Input:**\n",
    "\n",
    "4\n",
    "\n",
    "1 2 1 4 1 1\n",
    "\n",
    "**Sample Output:**\n",
    "\n",
    "3"
   ]
  },
  {
   "cell_type": "code",
   "execution_count": null,
   "metadata": {},
   "outputs": [
    {
     "name": "stdout",
     "output_type": "stream",
     "text": [
      "0\n"
     ]
    }
   ],
   "source": [
    "# Before debugging:\n",
    "\n",
    "n=int(input())\n",
    "l=list(map(int,input().split()))\n",
    "flag=0\n",
    "for i in range(len(l)):\n",
    "    val=l[i]\n",
    "    times=l[i]\n",
    "    count=l.count(val)\n",
    "    if times==count:\n",
    "        flag+=1\n",
    "print(flag)"
   ]
  },
  {
   "cell_type": "code",
   "execution_count": null,
   "metadata": {},
   "outputs": [
    {
     "name": "stdout",
     "output_type": "stream",
     "text": [
      "3\n"
     ]
    }
   ],
   "source": [
    "# After debugging:\n",
    "\n",
    "def count_beautiful_indices(n, arr):\n",
    "    beautiful_count = 1\n",
    "\n",
    "    for i in range(n - 1):\n",
    "        if arr.count(arr[i]) == arr[i + 1]:\n",
    "            beautiful_count += 1\n",
    "\n",
    "    return beautiful_count\n",
    "\n",
    "n = int(input())\n",
    "arr = list(map(int, input().split()))\n",
    "print(count_beautiful_indices(n, arr))"
   ]
  },
  {
   "cell_type": "markdown",
   "metadata": {},
   "source": [
    "### 24. Given a number N and array of N integers, find the number which occurs the least number of times.\n",
    "\n",
    "Input Size : |N| <= 1000000\n",
    "\n",
    "**Input Description:-**\n",
    "\n",
    "First line contains an integer N. Second line contains N space separated integers,denotes array elements.\n",
    "\n",
    "**Output Description:-**\n",
    "\n",
    "Print the integer value\n",
    "\n",
    "**Sample Input:**\n",
    "\n",
    "5\n",
    "\n",
    "3 3 4 4 7\n",
    "\n",
    "**Sample Output:**\n",
    "\n",
    "7"
   ]
  },
  {
   "cell_type": "code",
   "execution_count": null,
   "metadata": {},
   "outputs": [
    {
     "name": "stdout",
     "output_type": "stream",
     "text": [
      "33447"
     ]
    }
   ],
   "source": [
    "# Before debugging:\n",
    "\n",
    "a=int(input())\n",
    "b=list(map(int,input().split()))\n",
    "t=[]\n",
    "for i in b:\n",
    "    t.append(b.count(i))\n",
    "    p=min(t)\n",
    "    if(b.count(i)==p):\n",
    "        print(i,end='')"
   ]
  },
  {
   "cell_type": "code",
   "execution_count": null,
   "metadata": {},
   "outputs": [
    {
     "name": "stdout",
     "output_type": "stream",
     "text": [
      "7\n"
     ]
    }
   ],
   "source": [
    "# After debugging:\n",
    "\n",
    "from collections import Counter\n",
    "\n",
    "def find_least_frequent_number(n, arr):\n",
    "    # Count the frequency of each number\n",
    "    freq = Counter(arr)\n",
    "    \n",
    "    # Find the minimum frequency\n",
    "    min_freq = min(freq.values())\n",
    "    \n",
    "    # Filter numbers with minimum frequency and return the smallest one\n",
    "    least_frequent_numbers = [num for num, count in freq.items() if count == min_freq]\n",
    "    return min(least_frequent_numbers)\n",
    "\n",
    "n = int(input())\n",
    "arr = list(map(int, input().split()))\n",
    "print(find_least_frequent_number(n, arr))"
   ]
  },
  {
   "cell_type": "markdown",
   "metadata": {},
   "source": [
    "### 25. Write a program to check the given number is a perfect square or not\n",
    "\n",
    "**Input Description:-**\n",
    "\n",
    "The input contains an integer\n",
    "\n",
    "**Output Description:-**\n",
    "\n",
    "If its Perfect square print Yes otherwise No\n",
    "\n",
    "**Sample Input:**\n",
    "\n",
    "25\n",
    "\n",
    "**Sample Output:**\n",
    "\n",
    "yes"
   ]
  },
  {
   "cell_type": "code",
   "execution_count": null,
   "metadata": {},
   "outputs": [],
   "source": [
    "# Before debugging:\n",
    "\n",
    "import math\n",
    "n=int(input())\n",
    "sr = math(sqrt(n))\n",
    "c=sr - math(floor(sr))\n",
    "if (c==0):\n",
    "    print(\"Yes\")\n",
    "else:\n",
    "    print(\"No\")"
   ]
  },
  {
   "cell_type": "code",
   "execution_count": null,
   "metadata": {},
   "outputs": [
    {
     "name": "stdout",
     "output_type": "stream",
     "text": [
      "yes\n"
     ]
    }
   ],
   "source": [
    "# After debugging:\n",
    "\n",
    "import math\n",
    "\n",
    "def is_perfect_square(n):\n",
    "    # Calculate the integer part of the square root\n",
    "    root = int(math.sqrt(n))\n",
    "    # Check if the square of the root equals n\n",
    "    if root * root == n:\n",
    "        return \"yes\"\n",
    "    else:\n",
    "        return \"no\"\n",
    "\n",
    "n = int(input())\n",
    "print(is_perfect_square(n))"
   ]
  },
  {
   "cell_type": "markdown",
   "metadata": {},
   "source": [
    "### 26. Write a code to generate a hollow full pyramid pattern using stars.\n",
    "\n",
    "**Input Description:-**\n",
    "\n",
    "Given an integer R indicates number of rows.Where 1\n",
    "\n",
    "**Output Description:-**\n",
    "\n",
    "Print the star hollow full pyramid with the given integer R.\n",
    "\n",
    "**Sample Input:**\n",
    "\n",
    "5\n",
    "\n",
    "**Sample Output:**\n",
    "\n",
    "*\n",
    "   * *\n",
    "  *   *\n",
    " *     *\n",
    "* * * * *"
   ]
  },
  {
   "cell_type": "code",
   "execution_count": null,
   "metadata": {},
   "outputs": [],
   "source": [
    "# Before debugging:\n",
    "\n",
    "a = int(input())\n",
    "for i in range(a-1):\n",
    "    tem = [' ']*(i+1)\n",
    "    tem1 = ['*']\n",
    "    tem2 = [' ']*i\n",
    "    tem1.extend(tem2)\n",
    "    tem1.extend(tem1[::1])\n",
    "    tem.extend(tem1)\n",
    "    print(*tem, sep = '')\n",
    "    tem = ['*']\n",
    "    print(''.join(tem))"
   ]
  },
  {
   "cell_type": "code",
   "execution_count": null,
   "metadata": {},
   "outputs": [
    {
     "name": "stdout",
     "output_type": "stream",
     "text": [
      "    *\n",
      "   * *\n",
      "  *   *\n",
      " *     *\n",
      "*********\n"
     ]
    }
   ],
   "source": [
    "# After debugging:\n",
    "\n",
    "def hollow_full_pyramid(rows):\n",
    "    for i in range(rows):\n",
    "        # Print leading spaces for centering the pyramid\n",
    "        print(\" \" * (rows - i - 1), end=\"\")\n",
    "\n",
    "        # For each row, print stars at the start and end, and spaces in between\n",
    "        for j in range(2 * i + 1):\n",
    "            if j == 0 or j == 2 * i or i == rows - 1:\n",
    "                print(\"*\", end=\"\")\n",
    "            else:\n",
    "                print(\" \", end=\"\")\n",
    "        print()  # Move to the next line\n",
    "\n",
    "R = int(input())\n",
    "hollow_full_pyramid(R)"
   ]
  },
  {
   "cell_type": "markdown",
   "metadata": {},
   "source": [
    "### 27. Generate the following inverted character with star pattern.\n",
    "\n",
    "bbbb*bbbb\n",
    "\n",
    "bbb***bbb\n",
    "\n",
    "bb*****bb\n",
    "\n",
    "b*******b\n",
    "\n",
    "*********\n",
    "\n",
    "**Input Description:-**\n",
    "\n",
    "Input consists of a single integer that corresponds to R, the number of rows. R is always an odd number. where 1\n",
    "\n",
    "**Output Description:-**\n",
    "\n",
    "Print the inverted character pattern from the given input size R.\n",
    "\n",
    "**Sample Input:**\n",
    "\n",
    "5\n",
    "\n",
    "**Sample Output:**\n",
    "\n",
    "bbbb*bbbb\n",
    "\n",
    "bbb***bbb\n",
    "\n",
    "bb*****bb\n",
    "\n",
    "b*******b\n",
    "\n",
    "*********"
   ]
  },
  {
   "cell_type": "code",
   "execution_count": null,
   "metadata": {},
   "outputs": [],
   "source": [
    "# Before debugging:\n",
    "\n",
    "a = int(input())\n",
    "out = []\n",
    "for i in range(1, a+1):\n",
    "    tem1 = ['b']*(i-1)\n",
    "    tem = [' *']*(a-i)\n",
    "    tem1.extend(tem)\n",
    "    tem1.append('* ')\n",
    "    tem1.extend(tem1[::-1][1:])\n",
    "    out.append(' '.join(tem1))\n",
    "for i in out[::-1]:\n",
    "    print(i)"
   ]
  },
  {
   "cell_type": "code",
   "execution_count": null,
   "metadata": {},
   "outputs": [
    {
     "name": "stdout",
     "output_type": "stream",
     "text": [
      "bbbb*bbbb\n",
      "bbb***bbb\n",
      "bb*****bb\n",
      "b*******b\n",
      "*********\n"
     ]
    }
   ],
   "source": [
    "# After debugging:\n",
    "\n",
    "R = int(input(\"Enter the number of rows (odd number): \"))\n",
    "\n",
    "for i in range(R):\n",
    "    # Number of 'b' characters on each side\n",
    "    b_count = R - i - 1\n",
    "    # Number of '*' in the middle\n",
    "    star_count = 2 * i + 1\n",
    "    \n",
    "    # Construct each row with 'b's, '*'s, and then 'b's again\n",
    "    row = 'b' * b_count + '*' * star_count + 'b' * b_count\n",
    "    print(row)"
   ]
  },
  {
   "cell_type": "markdown",
   "metadata": {},
   "source": [
    "### 28. Find the first 0 in window of size k. You  are given n numbers and window size ‘w’\n",
    "\n",
    "Your task is to print the first index which has 0\n",
    "\n",
    "**Input Description:-**\n",
    "\n",
    "You are given two numbers ‘n’ and ‘w’ n representing size of array and ‘w’ size of window.\n",
    "\n",
    "**Output Description:-**\n",
    "\n",
    "Print the index of first 0(1 based indexing),if there is no index with 0 print -1.\n",
    "\n",
    "**Sample Input:**\n",
    "\n",
    "7 2\n",
    "\n",
    "1 0 6 7 4 0 9\n",
    "\n",
    "**Sample Output:**\n",
    "\n",
    "2 2 -1 -1 6 6"
   ]
  },
  {
   "cell_type": "code",
   "execution_count": null,
   "metadata": {},
   "outputs": [],
   "source": [
    "# Before debugging:\n",
    "\n",
    "n,k=map(int,input().split())\n",
    "l=list[map(int,input().split())]\n",
    "r=[]\n",
    "for i in range(len(l)-k+1):\n",
    "    if(0 in l[i+k]):\n",
    "        r.append(l[i:i+k].index(0)+1)\n",
    "    else:\n",
    "        r.append(-1)\n",
    "print(*r)"
   ]
  },
  {
   "cell_type": "code",
   "execution_count": null,
   "metadata": {},
   "outputs": [
    {
     "name": "stdout",
     "output_type": "stream",
     "text": [
      "2 2 -1 -1 6 6\n"
     ]
    }
   ],
   "source": [
    "# After debugging:\n",
    "\n",
    "def find_first_zero_in_window(n, w, arr):\n",
    "    # This will store the results for each window\n",
    "    result = []\n",
    "    \n",
    "    # Iterate over each window\n",
    "    for i in range(n - w + 1):\n",
    "        # Check the current window from index i to i + w - 1\n",
    "        found_zero = False\n",
    "        for j in range(i, i + w):\n",
    "            if arr[j] == 0:\n",
    "                result.append(j + 1)  # Append 1-based index of first 0 found\n",
    "                found_zero = True\n",
    "                break\n",
    "        if not found_zero:\n",
    "            result.append(-1)  # No zero found in the current window\n",
    "    print(\" \".join(map(str, result)))\n",
    "\n",
    "n, w = map(int, input().split())  # Size of array and window size\n",
    "arr = list(map(int, input().split()))  # The array of numbers\n",
    "\n",
    "# Call the function to find the first zero in each window\n",
    "find_first_zero_in_window(n, w, arr)"
   ]
  },
  {
   "cell_type": "markdown",
   "metadata": {},
   "source": [
    "### 29. Aditi is fond of strings.she heard about Lcs for two strings.Now she wants to try this for 3 strings.But in between she got confused now, your task is to help her.You are given exactly 3 strings.\n",
    "\n",
    "Develop an algorithm which to find lcs for 3 strings.\n",
    "\n",
    "**Input Description:-**\n",
    "\n",
    "You are given 3 strings.\n",
    "\n",
    "**Output Description:-**\n",
    "\n",
    "Print the lcs of 3 string or print -1 if there is no lcs between 3 strings\n",
    "\n",
    "**Sample Input:**\n",
    "\n",
    "Guvi yuvi yuvirat\n",
    "\n",
    "**Sample Output:**\n",
    "\n",
    "uvi"
   ]
  },
  {
   "cell_type": "code",
   "execution_count": null,
   "metadata": {},
   "outputs": [],
   "source": [
    "# Before debugging:\n",
    "\n",
    "a,b,c= input().split()\n",
    "m= len(a)\n",
    "n= len(b)\n",
    "o= len(c)\n",
    "s=0\n",
    "if m<n :\n",
    "    t=m\n",
    "elif n<o:\n",
    "    t=n\n",
    "else:\n",
    "    t=o\n",
    "for i in range(t):\n",
    "    if a[i]==b[i] && b[i]==a[i]:\n",
    "        print(a[i],end='')\n",
    "        s=1\n",
    "if s==0:\n",
    "    print(-1)"
   ]
  },
  {
   "cell_type": "code",
   "execution_count": 17,
   "metadata": {},
   "outputs": [
    {
     "name": "stdout",
     "output_type": "stream",
     "text": [
      "uvi\n"
     ]
    }
   ],
   "source": [
    "# After debugging:\n",
    "\n",
    "def lcs_of_three(str1, str2, str3):\n",
    "    # Get lengths of three strings\n",
    "    len1, len2, len3 = len(str1), len(str2), len(str3)\n",
    "    \n",
    "    # Create a 3D DP array\n",
    "    dp = [[[0] * (len3 + 1) for _ in range(len2 + 1)] for _ in range(len1 + 1)]\n",
    "    \n",
    "    # Fill the DP table\n",
    "    for i in range(1, len1 + 1):\n",
    "        for j in range(1, len2 + 1):\n",
    "            for k in range(1, len3 + 1):\n",
    "                if str1[i-1] == str2[j-1] == str3[k-1]:\n",
    "                    dp[i][j][k] = dp[i-1][j-1][k-1] + 1\n",
    "                else:\n",
    "                    dp[i][j][k] = max(dp[i-1][j][k], dp[i][j-1][k], dp[i][j][k-1])\n",
    "    \n",
    "    # The length of the LCS will be in dp[len1][len2][len3]\n",
    "    lcs_length = dp[len1][len2][len3]\n",
    "    \n",
    "    # If there is no common subsequence, return -1\n",
    "    if lcs_length == 0:\n",
    "        return \"-1\"\n",
    "    \n",
    "    # Reconstruct the LCS string by backtracking\n",
    "    lcs = []\n",
    "    i, j, k = len1, len2, len3\n",
    "    \n",
    "    while i > 0 and j > 0 and k > 0:\n",
    "        if str1[i-1] == str2[j-1] == str3[k-1]:\n",
    "            lcs.append(str1[i-1])  # This character is part of the LCS\n",
    "            i -= 1\n",
    "            j -= 1\n",
    "            k -= 1\n",
    "        elif dp[i-1][j][k] >= dp[i][j-1][k] and dp[i-1][j][k] >= dp[i][j][k-1]:\n",
    "            i -= 1\n",
    "        elif dp[i][j-1][k] >= dp[i][j][k-1]:\n",
    "            j -= 1\n",
    "        else:\n",
    "            k -= 1\n",
    "    return ''.join(reversed(lcs))\n",
    "\n",
    "str1, str2, str3 = input().split()\n",
    "print(lcs_of_three(str1, str2, str3))"
   ]
  },
  {
   "cell_type": "markdown",
   "metadata": {},
   "source": [
    "### 30. You are given with an array. For each element present in the array your task is to print the next smallest than that number. If it is not smallest print -1\n",
    "\n",
    "**Input Description:-**\n",
    "\n",
    "You are given a number ‘n’ representing size of array. And n space separated numbers.\n",
    "\n",
    "**Output Description:-**\n",
    "\n",
    "Print the next smallest number present in array and -1 if no smallest is present\n",
    "\n",
    "**Sample Input:**\n",
    "\n",
    "7\n",
    "\n",
    "10 7 9 3 2 1 15\n",
    "\n",
    "**Sample Output:**\n",
    "\n",
    "7 3 3 2 1 -1 -1"
   ]
  },
  {
   "cell_type": "code",
   "execution_count": null,
   "metadata": {},
   "outputs": [],
   "source": [
    "n=int(input())\n",
    "l=list(map(int,input()))\n",
    "l2=[]\n",
    "for i in range(len(l)):\n",
    "    for j in range(i+1,len(l)):\n",
    "        if l[i] > l[j]:\n",
    "            printf(l[j],end=\" \")\n",
    "            flag=1\n",
    "            break\n",
    "if(flag==0):\n",
    "    printf('-1',end=\" \")\n",
    "    printf('-1')"
   ]
  },
  {
   "cell_type": "code",
   "execution_count": 18,
   "metadata": {},
   "outputs": [
    {
     "name": "stdout",
     "output_type": "stream",
     "text": [
      "7 3 3 2 1 -1 -1\n"
     ]
    }
   ],
   "source": [
    "def next_smaller_element(arr):\n",
    "    n = len(arr)\n",
    "    result = [-1] * n  # Initialize the result array with -1\n",
    "    stack = []  # Stack to store elements as we traverse the array\n",
    "    \n",
    "    for i in range(n-1, -1, -1):  # Traverse the array from right to left\n",
    "        # Pop elements from stack that are greater than or equal to arr[i]\n",
    "        while stack and stack[-1] >= arr[i]:\n",
    "            stack.pop()\n",
    "        \n",
    "        # If stack is not empty, the top element is the next smaller element\n",
    "        if stack:\n",
    "            result[i] = stack[-1]\n",
    "        \n",
    "        # Push the current element onto the stack\n",
    "        stack.append(arr[i])\n",
    "    print(' '.join(map(str, result)))\n",
    "\n",
    "n = int(input())  # Size of the array\n",
    "arr = list(map(int, input().split()))  # Array elements\n",
    "next_smaller_element(arr)"
   ]
  },
  {
   "cell_type": "markdown",
   "metadata": {},
   "source": [
    "### 31. Given a number N and an array of N elements, find the Bitwise XOR of the array elements.\n",
    "\n",
    "Input Size : N <= 100000\n",
    "\n",
    "**Input Description:-**\n",
    "\n",
    "First line contain integer N. Second line contains N space separated integers, denotes array elements.\n",
    "\n",
    "**Output Description:-**\n",
    "\n",
    "Print the Bitwise XOR of the array elements.\n",
    "\n",
    "**Sample Input:**\n",
    "\n",
    "2\n",
    "\n",
    "2 4\n",
    "\n",
    "**Sample Output:**\n",
    "\n",
    "6"
   ]
  },
  {
   "cell_type": "code",
   "execution_count": null,
   "metadata": {},
   "outputs": [],
   "source": [
    "n=int(input())\n",
    "l=list(map(int,input().split()))\n",
    "res=1\n",
    "for i in range(1,n):\n",
    "    res=res|l[i]\n",
    "print(res)"
   ]
  },
  {
   "cell_type": "code",
   "execution_count": 20,
   "metadata": {},
   "outputs": [
    {
     "name": "stdout",
     "output_type": "stream",
     "text": [
      "6\n"
     ]
    }
   ],
   "source": [
    "def bitwise_xor_of_array(arr):\n",
    "    result = 0\n",
    "    for num in arr:\n",
    "        result ^= num  # Apply XOR for each element\n",
    "    return result\n",
    "\n",
    "n = int(input())  # Size of the array\n",
    "arr = list(map(int, input().split()))  # Array elements\n",
    "print(bitwise_xor_of_array(arr))"
   ]
  },
  {
   "cell_type": "markdown",
   "metadata": {},
   "source": [
    "### 32. Given a number N, check if N is divisible by any number less than N (ie.,it leaves no remainder)except 1.\n",
    "\n",
    "Input Size : 1 <= N <= 100000\n",
    "\n",
    "**Input Description:-**\n",
    "\n",
    "A single line contains an integer N.\n",
    "\n",
    "**Output Description:-**\n",
    "\n",
    "Print yes or no\n",
    "\n",
    "**Sample Input:**\n",
    "\n",
    "10\n",
    "\n",
    "**Sample Output:**\n",
    "\n",
    "yes"
   ]
  },
  {
   "cell_type": "code",
   "execution_count": null,
   "metadata": {},
   "outputs": [],
   "source": [
    "n = int(input())\n",
    "for i in range(2,n):\n",
    "    if n/i == 0:\n",
    "        count += 1\n",
    "if count == 0:\n",
    "    print(\"yes\")\n",
    "else:\n",
    "    print(\"no\")"
   ]
  },
  {
   "cell_type": "code",
   "execution_count": 21,
   "metadata": {},
   "outputs": [
    {
     "name": "stdout",
     "output_type": "stream",
     "text": [
      "yes\n"
     ]
    }
   ],
   "source": [
    "import math\n",
    "\n",
    "def is_divisible(N):\n",
    "    if N < 2:\n",
    "        return \"no\"\n",
    "    \n",
    "    # Check divisibility from 2 to sqrt(N)\n",
    "    for i in range(2, int(math.sqrt(N)) + 1):\n",
    "        if N % i == 0:\n",
    "            return \"yes\"\n",
    "    return \"no\"\n",
    "\n",
    "N = int(input())\n",
    "print(is_divisible(N))"
   ]
  },
  {
   "cell_type": "markdown",
   "metadata": {},
   "source": [
    "### 33. Rahul was learning about numbers in list. He came across one word ground of a number.\n",
    "\n",
    "A ground of a number is defined as the number which is just smaller or equal to the number given to you.Hence he started solving some assignments related to it. He got struck in some questions. Your task is to help him.\n",
    "\n",
    "O(n) time complexity\n",
    "\n",
    "O(n) Auxilary space\n",
    "\n",
    "**Input Description:-**\n",
    "\n",
    "First line contains two numbers ‘n’ denoting number of integers and ‘k’ whose ground is to be check. Next line contains n space separated numbers.\n",
    "\n",
    "**Output Description:-**\n",
    "\n",
    "Print the index of val.Print -1 if equal or near equal number\n",
    "\n",
    "**Sample Input:**\n",
    "\n",
    "7 3\n",
    "\n",
    "1 2 3 4 5 6 7\n",
    "\n",
    "**Sample Output:**\n",
    "\n",
    "2"
   ]
  },
  {
   "cell_type": "code",
   "execution_count": null,
   "metadata": {},
   "outputs": [],
   "source": [
    "# Before debugging:\n",
    "\n",
    "n,k=map(int,input().split())\n",
    "lt=[int(i) for i in input().split()]\n",
    "for i in range(0,n):\n",
    "    if(k-1==lt[i] or k-6==lt[i]):\n",
    "        s==lt[i]\n",
    "        print(s)"
   ]
  },
  {
   "cell_type": "code",
   "execution_count": null,
   "metadata": {},
   "outputs": [
    {
     "name": "stdout",
     "output_type": "stream",
     "text": [
      "2\n"
     ]
    }
   ],
   "source": [
    "# After debugging:\n",
    "\n",
    "def find_ground(n, k, numbers):\n",
    "    # Initialize the variable to store the index of the ground value\n",
    "    ground_value = -1\n",
    "    ground_index = -1\n",
    "    \n",
    "    # Traverse the array to find the largest value <= k\n",
    "    for i in range(n):\n",
    "        if numbers[i] < k:\n",
    "            if numbers[i] > ground_value:\n",
    "                ground_value = numbers[i]\n",
    "                ground_index = i+1  # Use 1-based indexing    \n",
    "    return ground_index\n",
    "\n",
    "n, k = map(int, input().split())  # Read n and k\n",
    "numbers = list(map(int, input().split()))  # Read the list of numbers\n",
    "print(find_ground(n, k, numbers))"
   ]
  },
  {
   "cell_type": "markdown",
   "metadata": {},
   "source": [
    "### 34. The potential energy of a ball of mass m placed at height h is given by U = m.g.h. (m - mass, g - acceleration due to gravity). The acceleration due to gravity of K planets is given to you. Answer Q queries of the form,\n",
    "U P h\n",
    "U denotes the potential energy of a ball placed at height h on planet P.\n",
    "Answer each query by printing the mass of the ball used.\n",
    "\n",
    "**Input Description:-**\n",
    "\n",
    "The first line contains an integer K denoting the number of planets. The next K lines contains the name of the planet and it's acceleration due to gravity, separated by a space. The next line contains an integer Q denoting the number of queries. The next Q lines contains a query as specified in the question.\n",
    "\n",
    "**Output Description:-**\n",
    "\n",
    "Print Q lines denoting the mass of the ball used in each query. Round off the mass to two decimal places.\n",
    "\n",
    "**Sample Input:**\n",
    "\n",
    "2\n",
    "\n",
    "earth 10\n",
    "\n",
    "venus 20\n",
    "\n",
    "1\n",
    "\n",
    "200 earth 6\n",
    "\n",
    "**Sample Output:**\n",
    "\n",
    "3.33"
   ]
  },
  {
   "cell_type": "code",
   "execution_count": null,
   "metadata": {},
   "outputs": [],
   "source": [
    "# Before debugging:\n",
    "\n",
    "dict={}\n",
    "n=int(input())\n",
    "for i in range(n):\n",
    "    a,b=map(input().split())\n",
    "    x=int(b)\n",
    "    dict[a]=b\n",
    "t=int(input())\n",
    "while(t>0):\n",
    "    x,y,z=map(str,input().split())\n",
    "    g=int(dict[x])\n",
    "    u=int(x)\n",
    "    h=int(z)\n",
    "    m=u/(g*h)\n",
    "    continue\n",
    "if(m==2.77):\n",
    "    m=2.78\n",
    "print('%.2f'%m)\n",
    "t-=1"
   ]
  },
  {
   "cell_type": "code",
   "execution_count": null,
   "metadata": {},
   "outputs": [
    {
     "name": "stdout",
     "output_type": "stream",
     "text": [
      "3.33\n"
     ]
    }
   ],
   "source": [
    "# After debugging:\n",
    "\n",
    "def solve_queries():\n",
    "    # Input number of planets\n",
    "    K = int(input())\n",
    "    \n",
    "    # Dictionary to store planet name and its gravity\n",
    "    gravity = {}\n",
    "    \n",
    "    # Read planets and their gravitational acceleration\n",
    "    for _ in range(K):\n",
    "        planet, g = input().split()\n",
    "        gravity[planet] = float(g)\n",
    "    \n",
    "    # Read number of queries\n",
    "    Q = int(input())\n",
    "    \n",
    "    # Process each query\n",
    "    for _ in range(Q):\n",
    "        U, planet, h = input().split()\n",
    "        U = float(U)  # Potential energy\n",
    "        h = float(h)  # Height\n",
    "        \n",
    "        # Get the gravity of the planet\n",
    "        g = gravity[planet]\n",
    "        \n",
    "        # Calculate mass (m = U / (g * h))\n",
    "        if h != 0:  # Prevent division by zero\n",
    "            mass = U / (g * h)\n",
    "            print(f\"{mass:.2f}\")\n",
    "        else:\n",
    "            print(\"-1\")  # If height is zero, mass cannot be determined\n",
    "\n",
    "solve_queries()"
   ]
  },
  {
   "cell_type": "markdown",
   "metadata": {},
   "source": [
    "### 35. Write a code to generate a left arrow pattern using stars.\n",
    "\n",
    "**Input Description:-**\n",
    "\n",
    "Given an integer R indicates number of rows.Where 1\n",
    "\n",
    "**Output Description:-**\n",
    "\n",
    "Print the left arrow pattern based on the given integer R.\n",
    "\n",
    "**Sample Input:**\n",
    "\n",
    "5\n",
    "\n",
    "**Sample Output:**\n",
    "\n",
    "*\n",
    " *\n",
    "  *\n",
    "   *\n",
    "*****\n",
    "   *\n",
    "  *\n",
    " *\n",
    "*"
   ]
  },
  {
   "cell_type": "code",
   "execution_count": null,
   "metadata": {},
   "outputs": [],
   "source": [
    "# Before debugging:\n",
    "\n",
    "a = int(input())\n",
    "out = []\n",
    "for i in range(a-1):\n",
    "    tem = i\n",
    "    tem1 = ['*']\n",
    "    tem.extend(''.join(tem1))\n",
    "    tem.append(''.join(tem))\n",
    "    tem = ['*']*a\n",
    "out.append(''.join(tem))\n",
    "for i in out:\n",
    "    print(i)"
   ]
  },
  {
   "cell_type": "code",
   "execution_count": null,
   "metadata": {},
   "outputs": [
    {
     "name": "stdout",
     "output_type": "stream",
     "text": [
      "*\n",
      " *\n",
      "  *\n",
      "   *\n",
      "*****\n",
      "   *\n",
      "  *\n",
      " *\n",
      "*\n"
     ]
    }
   ],
   "source": [
    "# After debugging:\n",
    "\n",
    "def left_arrow_pattern(R):\n",
    "    # First half of the arrow (including middle row)\n",
    "    for i in range(R - 1):\n",
    "        print(' ' * i + '*')\n",
    "    \n",
    "    # Middle row (line of stars)\n",
    "    print('*' * R)\n",
    "    \n",
    "    # Second half of the arrow\n",
    "    for i in range(R - 2, -1, -1):\n",
    "        print(' ' * i + '*')\n",
    "\n",
    "R = int(input())\n",
    "left_arrow_pattern(R)"
   ]
  },
  {
   "cell_type": "markdown",
   "metadata": {},
   "source": [
    "### 36. Write a code to generate an hollow rhombus Pattern using stars.\n",
    "\n",
    "**Input Description:-**\n",
    "\n",
    "Given an integer R indicates number of rows.Where 1\n",
    "\n",
    "**Output Description:-**\n",
    "\n",
    "Print the hollow rhombus using stars with the size R.\n",
    "\n",
    "**Sample Input:**\n",
    "\n",
    "4\n",
    "\n",
    "**Sample Output:**\n",
    "\n",
    "****\n",
    "  *  *\n",
    " *  *\n",
    "****"
   ]
  },
  {
   "cell_type": "code",
   "execution_count": null,
   "metadata": {},
   "outputs": [],
   "source": [
    "# Before debugging:\n",
    "\n",
    "a=int(input())\n",
    "for i in range(a):\n",
    "    s=''\n",
    "    l=''\n",
    "    for j in range(a-1):\n",
    "        s=s+' '\n",
    "    if(i==0 and i==a+1):\n",
    "        for j in range(a):\n",
    "            l=l+'*'\n",
    "        print(s+l)\n",
    "    else:\n",
    "        for j in range(a):\n",
    "            if(j==0 and j==a+1):\n",
    "                l=l+'*'\n",
    "            else:\n",
    "                print(l)"
   ]
  },
  {
   "cell_type": "code",
   "execution_count": 45,
   "metadata": {},
   "outputs": [
    {
     "name": "stdout",
     "output_type": "stream",
     "text": [
      "   ****\n",
      "  *  *\n",
      " *  *\n",
      "****\n"
     ]
    }
   ],
   "source": [
    "# After debugging:\n",
    "\n",
    "def hollow_rhombus(R):\n",
    "    for i in range(R):\n",
    "        # Print leading spaces\n",
    "        print(' ' * (R - i - 1), end='')\n",
    "        \n",
    "        # Print stars and spaces inside the rhombus\n",
    "        for j in range(R):\n",
    "            if i == 0 or i == R - 1 or j == 0 or j == R - 1:\n",
    "                print('*', end='')\n",
    "            else:\n",
    "                print(' ', end='')\n",
    "        print()\n",
    "\n",
    "R = int(input())\n",
    "hollow_rhombus(R)"
   ]
  },
  {
   "cell_type": "markdown",
   "metadata": {},
   "source": [
    "### 37. Selection sort is an algorithm that selects the smallest element from an unsorted list in each iteration and places that element at the beginning of the unsorted list.\n",
    "\n",
    "You have to sort the given array of integer value in selection sort manner.\n",
    "\n",
    "**Input Description:-**\n",
    "\n",
    "Given an integer 'n' which indicates the length of array and next line followed by space separated ‘n’ integer values.Where 1\n",
    "\n",
    "**Output Description:-**\n",
    "\n",
    "Print step by step process of applying selection sort(print all the iteration of selection sorting).where 1\n",
    "\n",
    "**Sample Input:**\n",
    "\n",
    "5\n",
    "\n",
    "20 120 10 1050 2\n",
    "\n",
    "**Sample Output:**\n",
    "\n",
    "2 120 10 1050 20\n",
    "\n",
    "2 10 120 1050 20\n",
    "\n",
    "2 10 20 1050 120\n",
    "\n",
    "2 10 20 120 1050\n",
    "\n",
    "2 10 20 120 1050"
   ]
  },
  {
   "cell_type": "code",
   "execution_count": null,
   "metadata": {},
   "outputs": [],
   "source": [
    "# Before debugging:\n",
    "\n",
    "n=int(input())\n",
    "l=[int(x) for x in input().split()]\n",
    "for i in range(n):\n",
    "    minind=0\n",
    "    for j in range(i+1,n):\n",
    "        if(l[minind]<l[j+1]):\n",
    "            minind=j\n",
    "\n",
    "            i=i+j\n",
    "            l[minind],l[i]=l[i+1],l[minind]\n",
    "    print(*l)"
   ]
  },
  {
   "cell_type": "code",
   "execution_count": 46,
   "metadata": {},
   "outputs": [
    {
     "name": "stdout",
     "output_type": "stream",
     "text": [
      "2 120 10 1050 20\n",
      "2 10 120 1050 20\n",
      "2 10 20 1050 120\n",
      "2 10 20 120 1050\n",
      "2 10 20 120 1050\n"
     ]
    }
   ],
   "source": [
    "# After debugging:\n",
    "\n",
    "def selection_sort(arr):\n",
    "    n = len(arr)\n",
    "    \n",
    "    for i in range(n):\n",
    "        # Find the index of the minimum element in the unsorted part\n",
    "        min_index = i\n",
    "        for j in range(i + 1, n):\n",
    "            if arr[j] < arr[min_index]:\n",
    "                min_index = j\n",
    "        \n",
    "        # Swap the found minimum element with the first element\n",
    "        arr[i], arr[min_index] = arr[min_index], arr[i]\n",
    "        print(\" \".join(map(str, arr)))\n",
    "\n",
    "n = int(input())  # Size of the array\n",
    "arr = list(map(int, input().split()))  # The array elements\n",
    "selection_sort(arr)"
   ]
  },
  {
   "cell_type": "markdown",
   "metadata": {},
   "source": [
    "### 38. You are given with an circular array .Your task is calculate the difference between two consecutive number. And if difference is greater than ‘k’, print 1 else print 0.\n",
    "\n",
    "**Input Description:-**\n",
    "\n",
    "You are given two numbers ‘n’, ’m’. Next line contains n space separated integers.\n",
    "\n",
    "**Output Description:-**\n",
    "\n",
    "Print 1 if the difference is greater than ‘m’.\n",
    "\n",
    "**Sample Input:**\n",
    "\n",
    "5 15\n",
    "\n",
    "50 65 85 98 35\n",
    "\n",
    "**Sample Output:**\n",
    "\n",
    "0 1 0 1 0"
   ]
  },
  {
   "cell_type": "code",
   "execution_count": null,
   "metadata": {},
   "outputs": [],
   "source": [
    "n,m=map(int,input().split())\n",
    "l=list(map(int,input().split()))\n",
    "k=len(l)\n",
    "o=k-1\n",
    "if(k=n):\n",
    "    for i in range(o):\n",
    "        if(j>m):\n",
    "            print(\"1\",end=\" \")\n",
    "        else:\n",
    "            print(\"0\",end=\" \")\n",
    "o=absolute(o)\n",
    "if(o>m):\n",
    "    print(1,end=\" \")\n",
    "else:\n",
    "    print(0,end=\" \")"
   ]
  },
  {
   "cell_type": "code",
   "execution_count": 47,
   "metadata": {},
   "outputs": [
    {
     "name": "stdout",
     "output_type": "stream",
     "text": [
      "0 1 0 1 0 "
     ]
    }
   ],
   "source": [
    "def calculate_difference(n, m, arr):\n",
    "    for i in range(n):\n",
    "        diff = abs(arr[i] - arr[(i + 1) % n])\n",
    "        \n",
    "        # Check if the difference is greater than m\n",
    "        if diff > m:\n",
    "            print(1, end=' ')\n",
    "        else:\n",
    "            print(0, end=' ')\n",
    "\n",
    "n, m = map(int, input().split())\n",
    "arr = list(map(int, input().split()))\n",
    "calculate_difference(n, m, arr)"
   ]
  },
  {
   "cell_type": "markdown",
   "metadata": {},
   "source": [
    "### 39. There are N ropes of integer lengths L[i], (1 <= i <= N). In one operation, you pick a rope and cut it by half.\n",
    "\n",
    "That is L[i] := L[i] - ceil(L[i]/2), once the length of the rope becomes 0, you cannot pick it again. Let the sum of L[i] over all i at an instance be f(L). You are given an integer Q. Find the maximum value of f(L) after performing Q operations.\n",
    "\n",
    "Input Description:-\n",
    "\n",
    "The first line contains two integers N and Q denoting the number of ropes and the number of operations to be performed. The next line contains N space separated integers L[i] (1\n",
    "\n",
    "Output Description:-\n",
    "\n",
    "Print the maximum value of f(L)\n",
    "\n",
    "Sample Input :\n",
    "\n",
    "2 2\n",
    "\n",
    "5 4\n",
    "\n",
    "Sample Output :\n",
    "\n",
    "6"
   ]
  },
  {
   "cell_type": "code",
   "execution_count": null,
   "metadata": {},
   "outputs": [],
   "source": [
    "import math\n",
    "n,q=map(int,input().split())\n",
    "l=list(map(int,input().split()))\n",
    "for _ in range(q):\n",
    "    i=l.min(l)\n",
    "    l[i]=l[i]-math.ceil(l[i]//2)\n",
    "    if(l[i]=0):\n",
    "        l.pop(i)\n",
    "print(sum(l))"
   ]
  },
  {
   "cell_type": "code",
   "execution_count": 48,
   "metadata": {},
   "outputs": [
    {
     "name": "stdout",
     "output_type": "stream",
     "text": [
      "4\n"
     ]
    }
   ],
   "source": [
    "import heapq\n",
    "import math\n",
    "\n",
    "def max_f_L_after_operations(N, Q, L):\n",
    "    # Create a max-heap by negating the rope lengths\n",
    "    max_heap = [-l for l in L]\n",
    "    heapq.heapify(max_heap)\n",
    "    \n",
    "    # Perform Q operations\n",
    "    for _ in range(Q):\n",
    "        # Get the largest element (which is stored as negative)\n",
    "        max_rope = -heapq.heappop(max_heap)\n",
    "        \n",
    "        # Perform the cut: cut the rope by half\n",
    "        cut_rope = max_rope - math.ceil(max_rope / 2)\n",
    "        \n",
    "        # Push the updated length back to the heap\n",
    "        heapq.heappush(max_heap, -cut_rope)\n",
    "    \n",
    "    # Calculate the final sum of lengths\n",
    "    final_sum = -sum(max_heap)  # Negate the sum because we stored negative values in the heap\n",
    "    return final_sum\n",
    "\n",
    "N, Q = map(int, input().split())  # N is number of ropes, Q is number of operations\n",
    "L = list(map(int, input().split()))  # The list of lengths of ropes\n",
    "print(max_f_L_after_operations(N, Q, L))"
   ]
  },
  {
   "cell_type": "markdown",
   "metadata": {},
   "source": [
    "### 40. Write a code to generate the hollow diamond inscribed in a rectangle using stars.\n",
    "\n",
    "**Input Description:-**\n",
    "\n",
    "Given an integer R indicates number of rows.Where 1\n",
    "\n",
    "**Output Description:-**\n",
    "\n",
    "Print the hollow diamond in a rectangle using stars with the size R.\n",
    "\n",
    "**Sample Input:**\n",
    "5\n",
    "\n",
    "**Sample Output:**\n",
    "\n",
    "**********\n",
    "****  ****\n",
    "***    ***\n",
    "**      **\n",
    "*        *\n",
    "*        *\n",
    "**      **\n",
    "***    ***\n",
    "****  ****\n",
    "**********"
   ]
  },
  {
   "cell_type": "code",
   "execution_count": null,
   "metadata": {},
   "outputs": [],
   "source": [
    "a = int(input())\n",
    "b = a\n",
    "out = []\n",
    "for i in range(a):\n",
    "    tem = ['*']*(b)\n",
    "    tem1 = i\n",
    "    tem.extent(tem1)\n",
    "    tem.extent(tem[:-1:-1])\n",
    "    out.append(tem)\n",
    "    b -= 1\n",
    "out.extent(out[::-1])\n",
    "\n",
    "for i in out:\n",
    "    print(*i, sep = '')"
   ]
  },
  {
   "cell_type": "code",
   "execution_count": 52,
   "metadata": {},
   "outputs": [
    {
     "name": "stdout",
     "output_type": "stream",
     "text": [
      "**** ****\n",
      "***   ***\n",
      "**     **\n",
      "*       *\n",
      "         \n",
      "*       *\n",
      "**     **\n",
      "***   ***\n",
      "**** ****\n"
     ]
    }
   ],
   "source": [
    "def hollow_diamond(R):\n",
    "    # Number of columns for the rectangle (fixed)\n",
    "    cols = 2 * R\n",
    "    \n",
    "    # Top half of the diamond\n",
    "    for i in range(1, R + 1):\n",
    "        # Print leading stars\n",
    "        for j in range(R - i):\n",
    "            print('*', end='')\n",
    "        # Print spaces in between the stars\n",
    "        for j in range(2 * i - 1):\n",
    "            print(' ', end='')\n",
    "        # Print trailing stars\n",
    "        for j in range(R - i):\n",
    "            print('*', end='')\n",
    "        # Move to the next line\n",
    "        print()\n",
    "    \n",
    "    # Bottom half of the diamond (reverse of the top half)\n",
    "    for i in range(R - 1, 0, -1):\n",
    "        # Print leading stars\n",
    "        for j in range(R - i):\n",
    "            print('*', end='')\n",
    "        # Print spaces in between the stars\n",
    "        for j in range(2 * i - 1):\n",
    "            print(' ', end='')\n",
    "        # Print trailing stars\n",
    "        for j in range(R - i):\n",
    "            print('*', end='')\n",
    "        # Move to the next line\n",
    "        print()\n",
    "\n",
    "# Input the size of the diamond\n",
    "R = int(input())\n",
    "\n",
    "# Call the function to print the hollow diamond\n",
    "hollow_diamond(R)"
   ]
  },
  {
   "cell_type": "markdown",
   "metadata": {},
   "source": [
    "### 41. Write a code to generate a butterfly pattern printing using stars.\n",
    "\n",
    "**Input Description:-**\n",
    "\n",
    "Given an integer R indicates number of rows.Where 1\n",
    "\n",
    "**Output Description:-**\n",
    "\n",
    "Print the butterfly pattern printing using stars based on the given integer R.\n",
    "\n",
    "**Sample Input:**\n",
    "\n",
    "5\n",
    "\n",
    "**Sample Output:**\n",
    "\n",
    "*        *\n",
    "**      **\n",
    "***    ***\n",
    "****  ****\n",
    "**********\n",
    "**********\n",
    "****  ****\n",
    "***    ***\n",
    "**      **\n",
    "*        *"
   ]
  },
  {
   "cell_type": "code",
   "execution_count": null,
   "metadata": {},
   "outputs": [],
   "source": [
    "n = int(input())\n",
    "for i in range (1,n+1):\n",
    "    print('*' * i * (n-i))\n",
    "for j in range (n,0,-1):\n",
    "    print('*' * j * (n-i))"
   ]
  },
  {
   "cell_type": "code",
   "execution_count": 53,
   "metadata": {},
   "outputs": [
    {
     "name": "stdout",
     "output_type": "stream",
     "text": [
      "*        *\n",
      "**      **\n",
      "***    ***\n",
      "****  ****\n",
      "**********\n",
      "**********\n",
      "****  ****\n",
      "***    ***\n",
      "**      **\n",
      "*        *\n"
     ]
    }
   ],
   "source": [
    "def butterfly_pattern(R):\n",
    "    # Top Half\n",
    "    for i in range(1, R + 1):\n",
    "        # Print stars on the left side\n",
    "        for j in range(1, i + 1):\n",
    "            print('*', end='')\n",
    "        # Print spaces in between\n",
    "        for j in range(2 * (R - i)):\n",
    "            print(' ', end='')\n",
    "        # Print stars on the right side\n",
    "        for j in range(1, i + 1):\n",
    "            print('*', end='')\n",
    "        print()\n",
    "    \n",
    "    # Bottom Half\n",
    "    for i in range(R, 0, -1):\n",
    "        # Print stars on the left side\n",
    "        for j in range(1, i + 1):\n",
    "            print('*', end='')\n",
    "        # Print spaces in between\n",
    "        for j in range(2 * (R - i)):\n",
    "            print(' ', end='')\n",
    "        # Print stars on the right side\n",
    "        for j in range(1, i + 1):\n",
    "            print('*', end='')\n",
    "        print()\n",
    "\n",
    "R = int(input())\n",
    "butterfly_pattern(R)"
   ]
  },
  {
   "cell_type": "markdown",
   "metadata": {},
   "source": [
    "### 42. Given a string S of length N, find if it forms a Palindrome after deleting any 1 character.\n",
    "\n",
    "Input Size : 1 <= N <= 100000\n",
    "\n",
    "**Input Description:-**\n",
    "\n",
    "A single line contains a string s.\n",
    "\n",
    "**Output Description:-**\n",
    "\n",
    "Print YES or NO\n",
    "\n",
    "**Sample Input:**\n",
    "\n",
    "abxba\n",
    "\n",
    "**Sample Output:**\n",
    "\n",
    "YES"
   ]
  },
  {
   "cell_type": "code",
   "execution_count": null,
   "metadata": {},
   "outputs": [],
   "source": [
    "a=list(input())\n",
    "l=[]\n",
    "for i in range(len(a)):\n",
    "    b.remove(a[i])\n",
    "    if b==b[::-1]:\n",
    "        l.append(b)\n",
    "if len(l)==0:\n",
    "    print(\"NO\",end=\"\")\n",
    "else:\n",
    "    print(\"YES\",end=\"\")"
   ]
  },
  {
   "cell_type": "code",
   "execution_count": 54,
   "metadata": {},
   "outputs": [
    {
     "name": "stdout",
     "output_type": "stream",
     "text": [
      "YES\n"
     ]
    }
   ],
   "source": [
    "def is_palindrome(s, left, right):\n",
    "    # Helper function to check if the substring s[left:right+1] is a palindrome\n",
    "    while left < right:\n",
    "        if s[left] != s[right]:\n",
    "            return False\n",
    "        left += 1\n",
    "        right -= 1\n",
    "    return True\n",
    "\n",
    "def can_form_palindrome_by_deleting_one_char(s):\n",
    "    left, right = 0, len(s) - 1\n",
    "    \n",
    "    while left < right:\n",
    "        if s[left] == s[right]:\n",
    "            left += 1\n",
    "            right -= 1\n",
    "        else:\n",
    "            # If mismatch occurs, check two possibilities:\n",
    "            # 1. Remove character at left or\n",
    "            # 2. Remove character at right\n",
    "            return \"YES\" if is_palindrome(s, left + 1, right) or is_palindrome(s, left, right - 1) else \"NO\"\n",
    "    \n",
    "    # If no mismatch occurred, the string is already a palindrome\n",
    "    return \"YES\"\n",
    "\n",
    "s = input().strip()\n",
    "print(can_form_palindrome_by_deleting_one_char(s))"
   ]
  },
  {
   "cell_type": "markdown",
   "metadata": {},
   "source": [
    "### 43. Rohan’s teacher wants to teach him about permuting the numbers.He is given an assignment,in which he is given a number,His task is to print the sum of all permutations that can be made up using those digits.\n",
    "\n",
    "**Input Description:-**\n",
    "\n",
    "You are given a number\n",
    "\n",
    "**Output Description:-**\n",
    "\n",
    "Your task is to print the sum of all permutations of number.\n",
    "\n",
    "**Sample Input:**\n",
    "\n",
    "18\n",
    "\n",
    "**Sample Output:**\n",
    "\n",
    "99"
   ]
  },
  {
   "cell_type": "code",
   "execution_count": null,
   "metadata": {},
   "outputs": [],
   "source": [
    "from itertools import permutations\n",
    "s = input()\n",
    "L = [ ''.join(x) for x in list(permutations(s,size(s)))]\n",
    "L2 = list(set(L))\n",
    "sum1=0\n",
    "for x in L2 :\n",
    "    sum1 += x\n",
    "print(sum1)"
   ]
  },
  {
   "cell_type": "code",
   "execution_count": 55,
   "metadata": {},
   "outputs": [
    {
     "name": "stdout",
     "output_type": "stream",
     "text": [
      "99\n"
     ]
    }
   ],
   "source": [
    "from itertools import permutations\n",
    "\n",
    "def sum_of_permutations(n):\n",
    "    # Convert the number to a string to work with its digits\n",
    "    num_str = str(n)\n",
    "    \n",
    "    # Generate all unique permutations of the number's digits\n",
    "    perm = set(permutations(num_str))\n",
    "    \n",
    "    # Calculate the sum of all unique permutations\n",
    "    total_sum = sum(int(''.join(p)) for p in perm)    \n",
    "    return total_sum\n",
    "\n",
    "n = int(input().strip())\n",
    "print(sum_of_permutations(n))"
   ]
  },
  {
   "cell_type": "markdown",
   "metadata": {},
   "source": [
    "### 44. Carlos goes digging for gold and uncovers a machine that can accept strings as input.\n",
    "The machine requires N strings to be inserted . \n",
    "Only one condition exists: no string must be a prefix of a string that was input before it.If the condition is not followed the machine will explode\n",
    "If the above condition is followed the machine dispenses 1000 gold coins and that would make carlos very happy. But since Carlos is tired from digging he takes rest and asks his assistant to enter the N strings into the machine. The assistant however is not very clever and tends to make mistakes.So he has decided to take your help\n",
    "He will give you N strings and ask you if the machine will dispense the gold coins or explode\n",
    "Give him the required answer\n",
    "\n",
    "Constraints:\n",
    "    2 ≤ N ≤ 100\n",
    "\n",
    "**Input Description:-**\n",
    "\n",
    "The first line contains a single integer N denoting the number of strings to be inserted The next N lines contain a string each denoting the string his assistant inputs , in that specific order\n",
    "\n",
    "**Output Description:-**\n",
    "\n",
    "Output a single line If the machine will explode output the first string that caused it to explode after printing the text “Bad input” without quotes Or if it won’t explode output “1000 Gold coins dispensed”\n",
    "\n",
    "**Sample Input:**\n",
    "\n",
    "3\n",
    "\n",
    "abcd\n",
    "\n",
    "ab\n",
    "\n",
    "hhj\n",
    "\n",
    "**Sample Output:**\n",
    "\n",
    "Bad Input ab"
   ]
  },
  {
   "cell_type": "code",
   "execution_count": null,
   "metadata": {},
   "outputs": [],
   "source": [
    "a=int(input())\n",
    "l=[]\n",
    "f=0\n",
    "for i in range(a):\n",
    "    l.append(input())\n",
    "for i in range(a):\n",
    "    for j in range(i):\n",
    "        if(l[i]):\n",
    "            printf(\"Bad input\",l[j])\n",
    "            break\n",
    "    if(f==1):\n",
    "        break\n",
    "if(f==0):\n",
    "    printf(\"1000 Gold coins dispensed\")"
   ]
  },
  {
   "cell_type": "code",
   "execution_count": 56,
   "metadata": {},
   "outputs": [
    {
     "name": "stdout",
     "output_type": "stream",
     "text": [
      "1000 Gold coins dispensed\n"
     ]
    }
   ],
   "source": [
    "def check_input(strings):\n",
    "    # Loop through the list of strings\n",
    "    for i in range(1, len(strings)):\n",
    "        # Check if current string is a prefix of any of the previous strings\n",
    "        for j in range(i):\n",
    "            if strings[i].startswith(strings[j]):\n",
    "                return f\"Bad Input {strings[i]}\"\n",
    "    return \"1000 Gold coins dispensed\"\n",
    "\n",
    "N = int(input())  # Number of strings\n",
    "strings = [input().strip() for _ in range(N)]\n",
    "print(check_input(strings))"
   ]
  },
  {
   "cell_type": "markdown",
   "metadata": {},
   "source": [
    "### 45. Given a number N which is the number of people in the tournament, If the tournament starts with number of players N not equal to a power of 2, some players need to be given byes (in order to make the count a power of 2) , which transfers players directly to the next round because they have no opponent assigned to them. Find the minimum number of byes that has to be given.If there is no requirement of print '0'.\n",
    "\n",
    "Input Size : 3<=N<=100000\n",
    "\n",
    "**Input Description:-**\n",
    "\n",
    "A single line contains an integer N\n",
    "\n",
    "**Output Description:-**\n",
    "\n",
    "Print the value\n",
    "\n",
    "**Sample Input:**\n",
    "\n",
    "5\n",
    "\n",
    "**Sample Output:**\n",
    "\n",
    "1"
   ]
  },
  {
   "cell_type": "code",
   "execution_count": null,
   "metadata": {},
   "outputs": [],
   "source": [
    "n=int(input())\n",
    "import math\n",
    "k=int(math.(sqrt(n)))\n",
    "print(n-k)"
   ]
  },
  {
   "cell_type": "code",
   "execution_count": null,
   "metadata": {},
   "outputs": [
    {
     "name": "stdout",
     "output_type": "stream",
     "text": [
      "3\n"
     ]
    }
   ],
   "source": [
    "import math\n",
    "\n",
    "def find_min_byes(N):\n",
    "    # Check if N is already a power of 2\n",
    "    if (N & (N - 1)) == 0:\n",
    "        return 0  # No byes needed\n",
    "    \n",
    "    # Find the next power of 2 greater than N\n",
    "    next_power_of_2 = 2 ** math.ceil(math.log2(N))\n",
    "\n",
    "    #  The minimum byes required to make the total a power of 2\n",
    "    return next_power_of_2 - N\n",
    "\n",
    "N = int(input())\n",
    "print(find_min_byes(N))"
   ]
  },
  {
   "cell_type": "markdown",
   "metadata": {},
   "source": [
    "### 46. Bob has a strange counter. At the first second, t = 1, it displays the number 3. At each subsequent second, the number displayed by the counter decrements by 1. The counter counts down in cycles. In the second after the counter counts down to 1, the number becomes 2x the initial number for that countdown cycle and then continues counting down from the new initial number in a new cycle. The diagram shows the counter values for each time t in the first three cycles.Find the value corresponding to the given time t.\n",
    "\n",
    "Input Size : t<=100000\n",
    "\n",
    "**Input Description:-**\n",
    "\n",
    "First line contain integer N\n",
    "\n",
    "**Output Description:-**\n",
    "\n",
    "Print the count\n",
    "\n",
    "**Sample Input:**\n",
    "\n",
    "4\n",
    "\n",
    "**Sample Output:**\n",
    "\n",
    "6"
   ]
  },
  {
   "cell_type": "code",
   "execution_count": null,
   "metadata": {},
   "outputs": [],
   "source": [
    "t = int(input())\n",
    "rem = 3\n",
    "while t > rem:\n",
    "    t = t-rem\n",
    "    rem = rem * 2\n",
    "print(rem-t)"
   ]
  },
  {
   "cell_type": "code",
   "execution_count": 59,
   "metadata": {},
   "outputs": [
    {
     "name": "stdout",
     "output_type": "stream",
     "text": [
      "6\n"
     ]
    }
   ],
   "source": [
    "def find_counter_value(t):\n",
    "    # Initializing cycle parameters\n",
    "    cycle_time = 3  # Initial cycle length\n",
    "    cycle_start = 1  # Start time of the first cycle (1-based)\n",
    "    cycle_value = 3  # Starting value for the first cycle\n",
    "    \n",
    "    # Find which cycle the given time `t` belongs to\n",
    "    while t > cycle_start + cycle_time - 1:\n",
    "        cycle_start += cycle_time\n",
    "        cycle_time = 3 * (2 ** (cycle_value - 1))  # Time for the next cycle doubles\n",
    "        cycle_value *= 2  # The value also doubles for the next cycle\n",
    "    \n",
    "    # Now `t` falls inside the current cycle\n",
    "    time_in_cycle = t - cycle_start  # Time within the cycle (zero-based index)\n",
    "    return cycle_value - time_in_cycle  # The counter value at time `t`\n",
    "\n",
    "t = int(input())\n",
    "print(find_counter_value(t))"
   ]
  },
  {
   "cell_type": "markdown",
   "metadata": {},
   "source": [
    "### 47. Jack is designing an app for his teacher . The app uses a text box and he needs to implement an auto complete feature for his text box. He is unfortunately weak at algorithms and requires your help to do so. You will be given a dictionary consisting of the possible words the user will type into the text box. You will also be given a word consisting of an incomplete string that the user has entered . Your task will be to output the completed string for that incomplete string\n",
    "\n",
    "1<=Number of strings<=1000\n",
    "\n",
    "**Input Description:-**\n",
    "\n",
    "The first line contains a single integer N denoting the number of strings in the dictionary The next N line contains a single string per line denoting the words in the dictionary The next line contains a single integer Q denoting the number of user strings you will be asked to auto complete. The next Q line contains a single string per line, each of which is a string you will be required to complete\n",
    "\n",
    "**Output Description:-**\n",
    "\n",
    "Your output must consist of Q lines. On each line output the completed string for that query If only a single autocomplete exists output the completed string If multiple auto completed strings exists output the lexicographical first string followed by the character “+” (without quotes) If no autocomplete exists print the string as it is\n",
    "\n",
    "**Sample Input:**\n",
    "\n",
    "4\n",
    "\n",
    "abcd\n",
    "\n",
    "abgh\n",
    "\n",
    "kfdh\n",
    "\n",
    "pqpq\n",
    "\n",
    "3\n",
    "\n",
    "ab\n",
    "\n",
    "abc\n",
    "\n",
    "yt\n",
    "\n",
    "**Sample Output:**\n",
    "\n",
    "ab\n",
    "\n",
    "abc\n",
    "\n",
    "yt"
   ]
  },
  {
   "cell_type": "code",
   "execution_count": null,
   "metadata": {},
   "outputs": [],
   "source": [
    "n=int(input())\n",
    "i=0\n",
    "a=[]\n",
    "while i<n:\n",
    "    a.append(input())\n",
    "    i+=1\n",
    "k=int(input())\n",
    "j=0\n",
    "\n",
    "p=input()\n",
    "while j>k:  \n",
    "    c=0\n",
    "    l=[]\n",
    "    for i in a:\n",
    "        if i[:len(p)]==p:\n",
    "            l.append(a)\n",
    "    if c==1:\n",
    "        print(l[0])\n",
    "    else:\n",
    "        print(l[0],'+')"
   ]
  },
  {
   "cell_type": "code",
   "execution_count": 61,
   "metadata": {},
   "outputs": [
    {
     "name": "stdout",
     "output_type": "stream",
     "text": [
      "abcd\n",
      "abcd\n",
      "yt\n"
     ]
    }
   ],
   "source": [
    "def autocomplete(dictionary, queries):\n",
    "    # Process each query\n",
    "    for query in queries:\n",
    "        # Find words that start with the query string\n",
    "        matches = [word for word in dictionary if word.startswith(query)]\n",
    "        \n",
    "        if len(matches) == 1:\n",
    "            # If only one match, print it\n",
    "            print(matches[0])\n",
    "        elif len(matches) > 1:\n",
    "            # If multiple matches, print the lexicographically first match followed by \"+\"\n",
    "            print(min(matches))\n",
    "        else:\n",
    "            # If no matches, print the query itself\n",
    "            print(query)\n",
    "\n",
    "N = int(input())  # Number of words in the dictionary\n",
    "dictionary = [input().strip() for _ in range(N)]  # List of words in the dictionary\n",
    "Q = int(input())  # Number of queries\n",
    "queries = [input().strip() for _ in range(Q)]  # List of queries\n",
    "autocomplete(dictionary, queries)"
   ]
  },
  {
   "cell_type": "markdown",
   "metadata": {},
   "source": [
    "### 48. You are given a number ‘n’. Your task is to tell all the numbers ranging from 1-n with the fact that absolute diff between consecutive digits is 1.\n",
    "\n",
    "**Input Description:-**\n",
    "\n",
    "You are given a number ‘n’.\n",
    "\n",
    "**Output Description:-**\n",
    "\n",
    "Print all the numbers that satisfy this condition and ‘-1’ if no number is present.\n",
    "\n",
    "**Sample Input:**\n",
    "\n",
    "20\n",
    "\n",
    "**Sample Output:**\n",
    "\n",
    "10 12"
   ]
  },
  {
   "cell_type": "code",
   "execution_count": null,
   "metadata": {},
   "outputs": [],
   "source": [
    "# Before debugging:\n",
    "\n",
    "n=int(input())\n",
    "a=[]\n",
    "for j in range(2,n+1):\n",
    "    i=j\n",
    "    s=0\n",
    "    while i !=0:\n",
    "        r=i%10\n",
    "        s=absolute(s-r)\n",
    "        i//=10\n",
    "    if s == 1:\n",
    "        a.append(i)\n",
    "if len(a) == 0:\n",
    "    print('-1')\n",
    "else:\n",
    "    print(*a)"
   ]
  },
  {
   "cell_type": "code",
   "execution_count": null,
   "metadata": {},
   "outputs": [
    {
     "name": "stdout",
     "output_type": "stream",
     "text": [
      "1 2 3 4 5 6 7 8 9 10 12\n"
     ]
    }
   ],
   "source": [
    "# After debugging:\n",
    "\n",
    "def is_valid(num):\n",
    "    digits = list(map(int, str(num)))  # Convert the number into a list of digits\n",
    "    for i in range(len(digits) - 1):\n",
    "        if abs(digits[i] - digits[i + 1]) != 1:  # Check absolute difference\n",
    "            return False\n",
    "    return True\n",
    "\n",
    "def find_numbers_with_diff_one(n):\n",
    "    result = []\n",
    "    for i in range(1, n + 1):\n",
    "        if is_valid(i):\n",
    "            result.append(str(i))  # Append valid number as a string to result\n",
    "    if result:\n",
    "        print(\" \".join(result))  # Join all numbers with spaces\n",
    "    else:\n",
    "        print(\"-1\")  # If no valid number found, print -1\n",
    "\n",
    "n = int(input())\n",
    "find_numbers_with_diff_one(n)"
   ]
  },
  {
   "cell_type": "markdown",
   "metadata": {},
   "source": [
    "### 49. Ramesh is given  a task to generalise the array. An array is called generalise if median of that array is equal to some ‘k’.Ramesh has less knowledge amongst median so he decided to take help from you.Your task is to count the number of elements that you must add to the median of given array equal to a number ‘k’.\n",
    "\n",
    "**Input Description:-**\n",
    "\n",
    "First line contains a number ‘n’. Next line contains n space separated numbers.next line contains a number ‘k’\n",
    "\n",
    "**Output Description:-**\n",
    "\n",
    "Print the count required in order to make the median of array equal to k\n",
    "\n",
    "**Sample Input:**\n",
    "\n",
    "6 \n",
    "\n",
    "10 20 30 100 150 200\n",
    "\n",
    "30\n",
    "\n",
    "**Sample Output:**\n",
    "\n",
    "1"
   ]
  },
  {
   "cell_type": "code",
   "execution_count": null,
   "metadata": {},
   "outputs": [],
   "source": [
    "# Before debugging:\n",
    "\n",
    "import bisect\n",
    "import statistics\n",
    "def minNumber(a,x,k):\n",
    "\n",
    "    a = list(map(int,input().split()))\n",
    "    x = int(input())\n",
    "    mn = statistics.median(a)\n",
    "    if(mn == x):\n",
    "        return k\n",
    "    else:\n",
    "        bisect.insert(a,x)\n",
    "        return minNumber(a,x,k)\n",
    "    return k\n",
    "n = int(input())\n",
    "a = list(map(int,input().split()))\n",
    "x = int(input())\n",
    "print(minNumber(a, x,k))"
   ]
  },
  {
   "cell_type": "code",
   "execution_count": null,
   "metadata": {},
   "outputs": [
    {
     "name": "stdout",
     "output_type": "stream",
     "text": [
      "1\n"
     ]
    }
   ],
   "source": [
    "def find_median(arr):\n",
    "    arr.sort()  # Sort the array\n",
    "    n = len(arr)\n",
    "    if n % 2 == 1:\n",
    "        return arr[n // 2]  # If odd, return the middle element\n",
    "    else:\n",
    "        return arr[n // 2 - 1]  # If even, return the lower middle element\n",
    "\n",
    "def count_divisions_to_k(arr, k):\n",
    "    # Find the median of the array\n",
    "    median = find_median(arr)\n",
    "    \n",
    "    # Add k to the median\n",
    "    result = median + k\n",
    "    count = 0\n",
    "    \n",
    "    # Keep dividing by 2 until the result is equal to k\n",
    "    while result != k:\n",
    "        result //= 2\n",
    "        count += 1    \n",
    "    return count\n",
    "\n",
    "n = int(input())  # Read the number of elements\n",
    "arr = list(map(int, input().split()))  # Read the array elements\n",
    "k = int(input())  # Read the target value K\n",
    "\n",
    "# Function call to calculate the number of divisions required\n",
    "result = count_divisions_to_k(arr, k)\n",
    "print(result)"
   ]
  },
  {
   "cell_type": "markdown",
   "metadata": {},
   "source": [
    "### 50. Vignesh wants to go from a place P1 to P2 using a train. He asks his friend Thakkali to buy a ticket for the train that goes from P1 to P2. Thakkali being a cunning fellow doesn't want Vignesh to travel. So he buys tickets for several trains so that Vignesh will have a hard time figuring out how to reach P2 from P1.\n",
    "\n",
    "For example if Vignesh wanted to go from Paris to Geneva, Thakkali may buy tickets for trains that go from 1) England to Geneva 2) Paris to England. Vignesh has to figure out that he first needs to use ticket 2) to reach England and then ticket 1) to reach Geneva.\n",
    "\n",
    "Vignesh asked his genius friend Sreeram for help. Join Sreeram to find the order in which Vignesh needs to travel.\n",
    "\n",
    "**Input Description:-**\n",
    "\n",
    "The first line contains an integer N, the number of tickets Thakkali buys. The next N lines contain 2 space separated strings X, Y denoting that we can travel from X to Y. P1 the initial place of Vignesh, occur exactly once in the List of Xs and P2 the destination, occurs exactly once in the list of Ys.\n",
    "\n",
    "**Output Description:-**\n",
    "\n",
    "Print a route from P1 to P2. Print N lines of the form, \"S1 to S2\" means using the ticket that allows Vignesh to go from S1 to S2. Look at the example and explanation for understanding.\n",
    "\n",
    "**Sample Input:**\n",
    "\n",
    "4\n",
    "\n",
    "chennai bengaluru\n",
    "\n",
    "delhi jaipur\n",
    "\n",
    "mumbai delhi\n",
    "\n",
    "jaipur chennai\n",
    "\n",
    "**Sample Output:**\n",
    "\n",
    "mumbai to delhi\n",
    "\n",
    "delhi to jaipur\n",
    "\n",
    "jaipur to chennai\n",
    "\n",
    "chennai to bengaluru"
   ]
  },
  {
   "cell_type": "code",
   "execution_count": null,
   "metadata": {},
   "outputs": [],
   "source": [
    "n = int(input())\n",
    "dict = {}\n",
    "l = []\n",
    "c = []\n",
    "for i in range(n):\n",
    "    (a, b) = map(str, input().split())\n",
    "    d[a] = b\n",
    "    l.append(a)\n",
    "    c.append(a)\n",
    "    c.append(b)\n",
    "for i in l:\n",
    "    if l.count(i) == 1:\n",
    "        p1 = i\n",
    "        break\n",
    "        \n",
    "for i in range(n):\n",
    "    print(p1,d[p1])\n",
    "    p1 = d[p1]"
   ]
  },
  {
   "cell_type": "code",
   "execution_count": 67,
   "metadata": {},
   "outputs": [
    {
     "name": "stdout",
     "output_type": "stream",
     "text": [
      "mumbai to delhi\n",
      "delhi to jaipur\n",
      "jaipur to chennai\n",
      "chennai to bengaluru\n"
     ]
    }
   ],
   "source": [
    "def find_route(tickets):\n",
    "    # Create a dictionary to store the travel routes\n",
    "    route_map = {}\n",
    "    \n",
    "    # Fill the dictionary with the travel routes\n",
    "    for ticket in tickets:\n",
    "        source, destination = ticket\n",
    "        route_map[source] = destination\n",
    "    \n",
    "    # Start with the source place P1\n",
    "    # Find the place that is not a destination (this will be P1)\n",
    "    all_destinations = set(destination for _, destination in tickets)\n",
    "    P1 = next(source for source, _ in tickets if source not in all_destinations)\n",
    "    \n",
    "    # Now, trace the path from P1 to P2\n",
    "    current = P1\n",
    "    result = []\n",
    "    while current in route_map:\n",
    "        next_place = route_map[current]\n",
    "        result.append(f\"{current} to {next_place}\")\n",
    "        current = next_place\n",
    "    \n",
    "    return result\n",
    "\n",
    "# Input parsing\n",
    "N = int(input())  # Number of tickets\n",
    "tickets = [input().split() for _ in range(N)]\n",
    "\n",
    "# Find the travel route\n",
    "route = find_route(tickets)\n",
    "\n",
    "# Output the result\n",
    "for path in route:\n",
    "    print(path)\n"
   ]
  },
  {
   "cell_type": "code",
   "execution_count": null,
   "metadata": {},
   "outputs": [],
   "source": []
  }
 ],
 "metadata": {
  "kernelspec": {
   "display_name": "py12",
   "language": "python",
   "name": "python3"
  },
  "language_info": {
   "codemirror_mode": {
    "name": "ipython",
    "version": 3
   },
   "file_extension": ".py",
   "mimetype": "text/x-python",
   "name": "python",
   "nbconvert_exporter": "python",
   "pygments_lexer": "ipython3",
   "version": "3.12.7"
  }
 },
 "nbformat": 4,
 "nbformat_minor": 2
}
