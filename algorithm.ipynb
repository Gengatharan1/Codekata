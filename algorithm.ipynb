{
 "cells": [
  {
   "cell_type": "markdown",
   "metadata": {},
   "source": [
    "### **1. Given a number N followed by an array of N integers, every element appears twice except for one. Find that single one and print it.**\n",
    "\n",
    "Input Size : N <= 100000\n",
    "\n",
    "**Sample Testcase:**\n",
    "\n",
    "**INPUT**\n",
    "\n",
    "5\n",
    "\n",
    "30 5 5 30 -45\n",
    "\n",
    "**OUTPUT**\n",
    "\n",
    "-45"
   ]
  },
  {
   "cell_type": "code",
   "execution_count": 2,
   "metadata": {},
   "outputs": [
    {
     "name": "stdout",
     "output_type": "stream",
     "text": [
      "-45\n"
     ]
    }
   ],
   "source": [
    "N = int(input())\n",
    "array = list(map(int, input().split()))\n",
    "\n",
    "# Find the single number using XOR\n",
    "result = 0\n",
    "for num in array:\n",
    "    result ^= num\n",
    "print(result)"
   ]
  },
  {
   "cell_type": "markdown",
   "metadata": {},
   "source": [
    "### **2. Given a number N and K followed by N elements and K elements. Now insert the given K elements one by one into the array and print the maximum in the array after each insertion.**\n",
    "\n",
    "Input Size : K <= N <= 10000(read about priority queues and implement)\n",
    "\n",
    "**Sample Testcase:**\n",
    "\n",
    "**INPUT**\n",
    "\n",
    "5 2\n",
    "\n",
    "1 2 3 4 5\n",
    "\n",
    "5 4\n",
    "\n",
    "**OUTPUT**\n",
    "\n",
    "5 5"
   ]
  },
  {
   "cell_type": "code",
   "execution_count": null,
   "metadata": {},
   "outputs": [
    {
     "name": "stdout",
     "output_type": "stream",
     "text": [
      "5 5\n"
     ]
    }
   ],
   "source": [
    "import heapq\n",
    "\n",
    "def insert_and_get_max(n, k, initial_elements, new_elements):\n",
    "    max_heap = [-x for x in initial_elements]   # Create a max-heap using negative values\n",
    "    heapq.heapify(max_heap)\n",
    "    \n",
    "    results = []\n",
    "    for elem in new_elements:\n",
    "        heapq.heappush(max_heap, -elem)\n",
    "        results.append(-max_heap[0])\n",
    "    return results\n",
    "\n",
    "N, K = map(int, input().split())\n",
    "initial_elements = list(map(int, input().split()))\n",
    "new_elements = map(int, input().split())\n",
    "\n",
    "output = insert_and_get_max(N, K, initial_elements, new_elements)\n",
    "print(' '.join(map(str, output)))"
   ]
  },
  {
   "cell_type": "markdown",
   "metadata": {},
   "source": [
    "### **3. Given a number N followed by N numbers. Keep the count of each number and print the maximum repeating number.**\n",
    "\n",
    "Input Size : N <= 100000\n",
    "\n",
    "**Sample Testcase:**\n",
    "\n",
    "**INPUT**\n",
    "\n",
    "5\n",
    "\n",
    "15 5 -20 -20 -45\n",
    "\n",
    "**OUTPUT**\n",
    "\n",
    "-20"
   ]
  },
  {
   "cell_type": "code",
   "execution_count": 3,
   "metadata": {},
   "outputs": [
    {
     "name": "stdout",
     "output_type": "stream",
     "text": [
      "-20\n"
     ]
    }
   ],
   "source": [
    "from collections import Counter\n",
    "\n",
    "def find_max_repeating_number(numbers):\n",
    "    frequency = Counter(numbers)\n",
    "    max_count = max(frequency.values())\n",
    "    max_number = min(key for key, value in frequency.items() if value == max_count)\n",
    "    return max_number\n",
    "\n",
    "N = int(input())\n",
    "numbers = list(map(int, input().split()))\n",
    "print(find_max_repeating_number(numbers))"
   ]
  },
  {
   "cell_type": "markdown",
   "metadata": {},
   "source": [
    "### **4. Given a number N, followed by an array of N elements,print 'yes' if it is a sorted array(either ascending or descending)otherwise print 'no'.**\n",
    "\n",
    "Input Size : 1 <= N <= 100000\n",
    "\n",
    "**Sample Testcase:**\n",
    "\n",
    "**INPUT**\n",
    "\n",
    "3\n",
    "\n",
    "2 3 7\n",
    "\n",
    "**OUTPUT**\n",
    "\n",
    "yes"
   ]
  },
  {
   "cell_type": "code",
   "execution_count": 4,
   "metadata": {},
   "outputs": [
    {
     "name": "stdout",
     "output_type": "stream",
     "text": [
      "yes\n"
     ]
    }
   ],
   "source": [
    "N = int(input())\n",
    "arr = list(map(int, input().split()))\n",
    "if arr == sorted(arr) or arr == sorted(arr, reverse=True):\n",
    "    print(\"yes\")\n",
    "else:\n",
    "    print(\"no\")"
   ]
  },
  {
   "cell_type": "markdown",
   "metadata": {},
   "source": [
    "### **5. Given an array of N strings sort it in ascending order based on the length of the string.If two strings are found to have the same length sort them in lexicographical order.**\n",
    "\n",
    "**Sample Testcase:**\n",
    "\n",
    "**INPUT**\n",
    "\n",
    "3\n",
    "\n",
    "coding platform codekata\n",
    "\n",
    "**OUTPUT**\n",
    "\n",
    "coding codekata platform"
   ]
  },
  {
   "cell_type": "code",
   "execution_count": 5,
   "metadata": {},
   "outputs": [
    {
     "name": "stdout",
     "output_type": "stream",
     "text": [
      "coding codekata platform\n"
     ]
    }
   ],
   "source": [
    "N = int(input())\n",
    "strings = input().split()\n",
    "\n",
    "# Sort strings by length and lexicographical order\n",
    "sorted_strings = sorted(strings, key=lambda x: (len(x), x))\n",
    "print(\" \".join(sorted_strings))"
   ]
  },
  {
   "cell_type": "markdown",
   "metadata": {},
   "source": [
    "### **6. You are given a number N and followed by an array of N numbers and followed by two elements U and V, find the minimum distance between the elements in the array. The array may have duplicates.**\n",
    "\n",
    "For example, if the array is (1, 5, 3, 7, 2, 8, 3, 4, 5, 9, 9, 3, 1, 3, 2, 9)\n",
    "\n",
    "Min Distance (U=4, V= 7): 4\n",
    "\n",
    "Input Size : N <= 100000\n",
    "\n",
    "**Sample Testcase:**\n",
    "\n",
    "**INPUT**\n",
    "\n",
    "16\n",
    "\n",
    "1 5 3 7 2 8 3 4 5 9 9 3 1 3 2 9\n",
    "\n",
    "4 7\n",
    "\n",
    "**OUTPUT**\n",
    "\n",
    "4"
   ]
  },
  {
   "cell_type": "code",
   "execution_count": 6,
   "metadata": {},
   "outputs": [
    {
     "name": "stdout",
     "output_type": "stream",
     "text": [
      "4\n"
     ]
    }
   ],
   "source": [
    "def min_distance(N, arr, U, V):\n",
    "    last_u = -1\n",
    "    last_v = -1\n",
    "    min_dist = float('inf')\n",
    "    \n",
    "    for i in range(N):\n",
    "        if arr[i] == U:\n",
    "            last_u = i\n",
    "            if last_v != -1:\n",
    "                min_dist = min(min_dist, abs(last_u - last_v))\n",
    "        \n",
    "        if arr[i] == V:\n",
    "            last_v = i\n",
    "            if last_u != -1:\n",
    "                min_dist = min(min_dist, abs(last_u - last_v))    \n",
    "    return min_dist if min_dist != float('inf') else -1\n",
    "\n",
    "N = int(input())\n",
    "arr = list(map(int, input().split()))\n",
    "U, V = map(int, input().split())\n",
    "print(min_distance(N, arr, U, V))"
   ]
  },
  {
   "cell_type": "markdown",
   "metadata": {},
   "source": [
    "### **7. Given two numbers N,K and an array of size N, print the three nearest neighbours of K(nearest neighbours are numbers which have least difference with K).**\n",
    "\n",
    "Input Size : 4 <= N, K <= 100000\n",
    "\n",
    "**Sample Testcases:**\n",
    "\n",
    "**INPUT**\n",
    "\n",
    "5 3\n",
    "\n",
    "1 2 3 4 6\n",
    "\n",
    "**OUTPUT**\n",
    "\n",
    "2 4 1"
   ]
  },
  {
   "cell_type": "code",
   "execution_count": 7,
   "metadata": {},
   "outputs": [
    {
     "name": "stdout",
     "output_type": "stream",
     "text": [
      "3 2 4\n"
     ]
    }
   ],
   "source": [
    "N, K = map(int, input().split())\n",
    "array = list(map(int, input().split()))\n",
    "\n",
    "# Sort the array by absolute difference and then by original order\n",
    "sorted_array = sorted(array, key=lambda x: (abs(x - K), array.index(x)))\n",
    "\n",
    "# Get the first three nearest neighbors\n",
    "nearest_neighbors = sorted_array[:3]\n",
    "print(\" \".join(map(str, nearest_neighbors)))"
   ]
  },
  {
   "cell_type": "markdown",
   "metadata": {},
   "source": [
    "### **8. Alternate sorting:Given a number N followed by array of N elements,sort the array in such a way that the first number is the first maximum and second number is the 1st minimum 3rd number isthe 2nd maximum and so on.**\n",
    "\n",
    "Input Size : N <= 100000\n",
    "\n",
    "**Sample Testcase:**\n",
    "\n",
    "**INPUT**\n",
    "\n",
    "8\n",
    "\n",
    "7 623 19 10 11 9 3 15\n",
    "\n",
    "**OUTPUT**\n",
    "\n",
    "623 3 19 7 15 9 11 10"
   ]
  },
  {
   "cell_type": "code",
   "execution_count": 8,
   "metadata": {},
   "outputs": [
    {
     "name": "stdout",
     "output_type": "stream",
     "text": [
      "623 3 19 7 15 9 11 10\n"
     ]
    }
   ],
   "source": [
    "N = int(input())\n",
    "array = list(map(int, input().split()))\n",
    "\n",
    "# Sort the array\n",
    "array.sort()\n",
    "\n",
    "result = []\n",
    "\n",
    "# Use two pointers for alternate selection\n",
    "i, j = N - 1, 0  # i points to largest, j points to smallest\n",
    "while i >= j:\n",
    "    if i == j:\n",
    "        result.append(array[i])  # Handle the middle element for odd-length arrays\n",
    "    else:\n",
    "        result.append(array[i])  # Largest\n",
    "        result.append(array[j])  # Smallest\n",
    "    i -= 1\n",
    "    j += 1\n",
    "\n",
    "print(\" \".join(map(str, result)))"
   ]
  },
  {
   "cell_type": "markdown",
   "metadata": {},
   "source": [
    "### **9. Given 3 points check whether they lie on the same line.If they lie on the same line print 'yes' Otherwise print 'no'.**\n",
    "\n",
    "**Sample Testcase:**\n",
    "\n",
    "**INPUT**\n",
    "\n",
    "0 1\n",
    "\n",
    "0 0\n",
    "\n",
    "0 2\n",
    "\n",
    "**OUTPUT**\n",
    "\n",
    "yes"
   ]
  },
  {
   "cell_type": "code",
   "execution_count": 9,
   "metadata": {},
   "outputs": [
    {
     "name": "stdout",
     "output_type": "stream",
     "text": [
      "yes\n"
     ]
    }
   ],
   "source": [
    "def check_collinear(x1, y1, x2, y2, x3, y3):\n",
    "    # Using the simplified slope comparison formula\n",
    "    if (y2 - y1) * (x3 - x1) == (y3 - y1) * (x2 - x1):\n",
    "        return \"yes\"\n",
    "    else:\n",
    "        return \"no\"\n",
    "\n",
    "x1, y1 = map(int, input().split())\n",
    "x2, y2 = map(int, input().split())\n",
    "x3, y3 = map(int, input().split())\n",
    "print(check_collinear(x1, y1, x2, y2, x3, y3))"
   ]
  },
  {
   "cell_type": "markdown",
   "metadata": {},
   "source": [
    "### **10. Given a number N, print their prime factors in sorted order.**\n",
    "\n",
    "Input Size : 2 <= N <= 100000\n",
    "\n",
    "**Sample Testcase:**\n",
    "\n",
    "**INPUT**\n",
    "\n",
    "18\n",
    "\n",
    "**OUTPUT**\n",
    "\n",
    "2 3"
   ]
  },
  {
   "cell_type": "code",
   "execution_count": 10,
   "metadata": {},
   "outputs": [
    {
     "name": "stdout",
     "output_type": "stream",
     "text": [
      "2 3\n"
     ]
    }
   ],
   "source": [
    "def prime_factors(n):\n",
    "    factors = set()\n",
    "    while n % 2 == 0:\n",
    "        factors.add(2)\n",
    "        n //= 2\n",
    "\n",
    "    for i in range(3, int(n**0.5) + 1, 2):\n",
    "        while n % i == 0:\n",
    "            factors.add(i)\n",
    "            n //= i\n",
    "    if n > 2:\n",
    "        factors.add(n)\n",
    "    return sorted(factors)\n",
    "\n",
    "N = int(input())\n",
    "print(\" \".join(map(str, prime_factors(N))))"
   ]
  },
  {
   "cell_type": "markdown",
   "metadata": {},
   "source": [
    "### **11. Maxwell wants to buy an apartment in a new house at Line Avenue of Metropolis. The house has n apartments that are numbered from 1 to n and are arranged in a row. Two apartments are adjacent if their indices differ by 1. Some of the apartments can already be inhabited, others are available for sale. Maxwell often visits his neighbors, so apartment is good for him if it is available for sale and there is at least one already inhabited apartment adjacent to it. Maxwell knows that there are exactly k already inhabited apartments, but he doesn't know their indices yet. Find out what could be the minimum possible and the maximum possible number of apartments that are good for Maxwell.**\n",
    "\n",
    "Input Size : N<=K<=1000000000\n",
    "\n",
    "**Example:**\n",
    "\n",
    "**INPUT**\n",
    "\n",
    "6 3\n",
    "\n",
    "**OUTPUT**\n",
    "\n",
    "1 3"
   ]
  },
  {
   "cell_type": "code",
   "execution_count": 14,
   "metadata": {},
   "outputs": [
    {
     "name": "stdout",
     "output_type": "stream",
     "text": [
      "1 3\n"
     ]
    }
   ],
   "source": [
    "def find_good_apartments(n, k):\n",
    "    if k == n:\n",
    "        return 0, 0\n",
    "    min_good = 1\n",
    "    max_good = min(k, n - k)\n",
    "    return min_good, max_good\n",
    "\n",
    "n, k = list(map(int, input().split()))\n",
    "result = find_good_apartments(n, k)\n",
    "print(result[0], result[1])"
   ]
  },
  {
   "cell_type": "markdown",
   "metadata": {},
   "source": [
    "### **12. Given a number N and an array of N elements,sort the array in increasing order and print the original indices of the elements present in sorted array.**\n",
    "\n",
    "Input Size : N <= 100000\n",
    "\n",
    "**Sample Testcase:**\n",
    "\n",
    "**INPUT**\n",
    "\n",
    "5\n",
    "\n",
    "5 4 3 2 1\n",
    "\n",
    "**OUTPUT**\n",
    "\n",
    "5 4 3 2 1"
   ]
  },
  {
   "cell_type": "code",
   "execution_count": 11,
   "metadata": {},
   "outputs": [
    {
     "name": "stdout",
     "output_type": "stream",
     "text": [
      "5 4 3 2 1\n"
     ]
    }
   ],
   "source": [
    "N = int(input())\n",
    "arr = list(map(int, input().split()))\n",
    "\n",
    "paired = [(value, i + 1) for i, value in enumerate(arr)]\n",
    "paired.sort()\n",
    "\n",
    "result = [index for value, index in paired]\n",
    "print(*result)"
   ]
  },
  {
   "cell_type": "markdown",
   "metadata": {},
   "source": [
    "### **13. Dityan is alloted with a task. He is provided with some positive numbers. He has to tell the smallest positive natural number(greater than the minimum number present in the list) and in addition to it,the number should not be present in the list and it should not be equal to the sum of any combination of ‘n’ numbers present in the list.You have to develop a suitable program in order to find that number ‘m’.**\n",
    "\n",
    "**Input Description:**\n",
    "\n",
    "First line contains a number ‘n’ . next line contains ‘n’ space separated numbers.\n",
    "\n",
    "**Output Description:**\n",
    "\n",
    "print the smallest positive number ‘m’.\n",
    "\n",
    "**Sample Input:**\n",
    "\n",
    "5\n",
    "\n",
    "1 2 10 12 13\n",
    "\n",
    "**Sample Output:**\n",
    "\n",
    "4"
   ]
  },
  {
   "cell_type": "code",
   "execution_count": 16,
   "metadata": {},
   "outputs": [
    {
     "name": "stdout",
     "output_type": "stream",
     "text": [
      "4\n"
     ]
    }
   ],
   "source": [
    "def can_form_sum(numbers, n, target, index):\n",
    "    if target == 0:\n",
    "        return True\n",
    "    if target < 0 or index >= n:\n",
    "        return False\n",
    "    \n",
    "    # Check if we can include numbers[index] in the combination\n",
    "    if can_form_sum(numbers, n, target - numbers[index], index + 1):\n",
    "        return True\n",
    "    \n",
    "    # Skip numbers[index] and try next numbers\n",
    "    return can_form_sum(numbers, n, target, index + 1)\n",
    "\n",
    "def find_smallest_positive(n, numbers):\n",
    "    numbers.sort()\n",
    "    min_num = numbers[0]\n",
    "    numbers_set = set(numbers)\n",
    "    m = min_num + 1\n",
    "    \n",
    "    while True:\n",
    "        if m not in numbers_set and not can_form_sum(numbers, n, m, 0):\n",
    "            return m\n",
    "        m += 1\n",
    "\n",
    "if __name__ == \"__main__\":\n",
    "    n = int(input().strip())\n",
    "    numbers = list(map(int, input().strip().split()))\n",
    "    result = find_smallest_positive(n, numbers)\n",
    "    print(result)"
   ]
  },
  {
   "cell_type": "markdown",
   "metadata": {},
   "source": [
    "### **14. Given a number N and an array of N elements, every number is repeated except for one. Print that one number.**\n",
    "\n",
    "Input Size : 1 <= N <= 100000\n",
    "\n",
    "**Sample Testcase:**\n",
    "\n",
    "**INPUT**\n",
    "\n",
    "10\n",
    "\n",
    "1 2 3 2 3 3 2 5 5 2\n",
    "\n",
    "**OUTPUT**\n",
    "\n",
    "1"
   ]
  },
  {
   "cell_type": "code",
   "execution_count": 15,
   "metadata": {},
   "outputs": [
    {
     "name": "stdout",
     "output_type": "stream",
     "text": [
      "2\n"
     ]
    }
   ],
   "source": [
    "def find_unique_number(arr):\n",
    "    result = 0\n",
    "    for num in arr:\n",
    "        result ^= num\n",
    "    return result\n",
    "\n",
    "N = int(input())\n",
    "arr = list(map(int, input().split()))\n",
    "print(find_unique_number(arr))"
   ]
  },
  {
   "cell_type": "markdown",
   "metadata": {},
   "source": [
    "### **15. Chan’s girlfriend's birthday is near, so he wants to surprise her by making a special cake for her. Chan knows that his girlfriend likes cherries on the cake, so he puts cherries on the top of the cake, but he was not satisfied. Therefore, he decided to replace some of the cherries to make a beautiful pattern. However, Chan has a lot of other work to do so he decided to ask for your help. The cherries are of two colors red and green. Now Chan wants the cherries to be placed in such a way that each cherry of one color must be adjacent to only cherries of the other color, two cherries are adjacent if they share a side. Now Chan has asked for your help in making that pattern on the cake.You can replace any cherry of given color with the other color. But there is a cost for each replacement: if you replace a red cherry with a green one, the cost is 5 units and if you replace a green cherry with a red one, the cost is 3 units. Help your friend Chan by making the cake special with minimum cost.If there is no need of any changes print '0'(ie. minimum cost is zero)**\n",
    "\n",
    "Input Size : N<=1000, M<=1000\n",
    "\n",
    "**Example:**\n",
    "\n",
    "**INPUT**\n",
    "\n",
    "2 3\n",
    "\n",
    "RRG\n",
    "\n",
    "GGR\n",
    "\n",
    "**OUTPUT**\n",
    "\n",
    "8"
   ]
  },
  {
   "cell_type": "code",
   "execution_count": 17,
   "metadata": {},
   "outputs": [
    {
     "name": "stdout",
     "output_type": "stream",
     "text": [
      "8\n"
     ]
    }
   ],
   "source": [
    "def min_cost_to_pattern(n, m, grid):\n",
    "    # Initialize cost variables for both patterns\n",
    "    cost_pattern1 = 0\n",
    "    cost_pattern2 = 0\n",
    "    \n",
    "    # Traverse the grid\n",
    "    for i in range(n):\n",
    "        for j in range(m):\n",
    "            current_color = grid[i][j]\n",
    "            \n",
    "            # Expected color in pattern 1 (RGRGRG...)\n",
    "            if (i + j) % 2 == 0:  # Expected 'R' for pattern 1\n",
    "                expected1 = 'R'\n",
    "                expected2 = 'G'\n",
    "            else:  # Expected 'G' for pattern 1\n",
    "                expected1 = 'G'\n",
    "                expected2 = 'R'\n",
    "            \n",
    "            # Calculate cost for pattern 1\n",
    "            if current_color != expected1:\n",
    "                if current_color == 'R' and expected1 == 'G':\n",
    "                    cost_pattern1 += 5  # Cost to replace R with G\n",
    "                else:\n",
    "                    cost_pattern1 += 3  # Cost to replace G with R\n",
    "            \n",
    "            # Calculate cost for pattern 2\n",
    "            if current_color != expected2:\n",
    "                if current_color == 'R' and expected2 == 'G':\n",
    "                    cost_pattern2 += 5  # Cost to replace R with G\n",
    "                else:\n",
    "                    cost_pattern2 += 3  # Cost to replace G with R\n",
    "\n",
    "    return min(cost_pattern1, cost_pattern2)\n",
    "\n",
    "n, m = map(int, input().split())\n",
    "grid = [input().strip() for _ in range(n)]\n",
    "print(min_cost_to_pattern(n, m, grid))"
   ]
  },
  {
   "cell_type": "markdown",
   "metadata": {},
   "source": [
    "### **16. Given 2 numbers N,K followed by a sorted array of N elements, search and tell if an element K is present in the array.print 'yes' if element is present otherwise print 'no'.**\n",
    "\n",
    "Input Size : 1 <= N <= 1000000000000000(Do it in logN time complexity)\n",
    "\n",
    "**Sample Testcase:**\n",
    "\n",
    "**INPUT**\n",
    "\n",
    "3 2\n",
    "\n",
    "2 3 7\n",
    "\n",
    "**OUTPUT**\n",
    "\n",
    "Yes"
   ]
  },
  {
   "cell_type": "code",
   "execution_count": 18,
   "metadata": {},
   "outputs": [
    {
     "name": "stdout",
     "output_type": "stream",
     "text": [
      "yes\n"
     ]
    }
   ],
   "source": [
    "N, K = (int(no) for no in input().split())\n",
    "ele = list(map(int, input().split()))\n",
    "\n",
    "# Check if K is present in the list 'ele'\n",
    "if K in ele:\n",
    "    print(\"yes\")\n",
    "else:\n",
    "    print(\"no\")"
   ]
  },
  {
   "cell_type": "code",
   "execution_count": null,
   "metadata": {},
   "outputs": [],
   "source": []
  }
 ],
 "metadata": {
  "kernelspec": {
   "display_name": "py12",
   "language": "python",
   "name": "python3"
  },
  "language_info": {
   "codemirror_mode": {
    "name": "ipython",
    "version": 3
   },
   "file_extension": ".py",
   "mimetype": "text/x-python",
   "name": "python",
   "nbconvert_exporter": "python",
   "pygments_lexer": "ipython3",
   "version": "3.12.7"
  }
 },
 "nbformat": 4,
 "nbformat_minor": 2
}
