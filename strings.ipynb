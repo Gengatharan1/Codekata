{
 "cells": [
  {
   "cell_type": "markdown",
   "metadata": {},
   "source": [
    "#### **1. You are given two numbers. Your task is to multiply the two numbers and print the answer.**\n",
    "\n",
    "**Input Description:**\n",
    "\n",
    "You are given two numbers ‘n’ and ‘m’.\n",
    "\n",
    "**Output Description:**\n",
    "\n",
    "Print the multiplied answer\n",
    "\n",
    "Sample Input :\n",
    "\n",
    "99999 99998\n",
    "\n",
    "Sample Output :\n",
    "\n",
    "9999700002"
   ]
  },
  {
   "cell_type": "code",
   "execution_count": 1,
   "metadata": {},
   "outputs": [
    {
     "name": "stdout",
     "output_type": "stream",
     "text": [
      "9999700002\n"
     ]
    }
   ],
   "source": [
    "a,b = map(int, input().split())\n",
    "print(a*b)"
   ]
  },
  {
   "cell_type": "code",
   "execution_count": 4,
   "metadata": {},
   "outputs": [
    {
     "name": "stdout",
     "output_type": "stream",
     "text": [
      "9999700002\n"
     ]
    }
   ],
   "source": [
    "n=list(map(str,input().split()))\n",
    "\n",
    "print(int(n[0])*int(n[1]))"
   ]
  },
  {
   "cell_type": "markdown",
   "metadata": {},
   "source": [
    "### **2. You are given a number with duplicate digits your task is to remove the immediate duplicate digits and print the result**\n",
    "\n",
    "**Input Description:**\n",
    "\n",
    "You are given a long string of digits\n",
    "\n",
    "**Output Description:**\n",
    "\n",
    "Print the desired result print -1 if result length is 0\n",
    "\n",
    "Sample Input :\n",
    "\n",
    "1331\n",
    "\n",
    "Sample Output :\n",
    "\n",
    "11"
   ]
  },
  {
   "cell_type": "code",
   "execution_count": 5,
   "metadata": {},
   "outputs": [
    {
     "name": "stdout",
     "output_type": "stream",
     "text": [
      "11\n"
     ]
    }
   ],
   "source": [
    "def remove_immediate_duplicates(digits):\n",
    "    original = []\n",
    "    ans = []\n",
    "    \n",
    "    for digit in digits:\n",
    "        if original and original[-1] == digit:\n",
    "            if ans and ans[-1] == digit: ans.pop()\n",
    "        else:\n",
    "            ans.append(digit)\n",
    "            \n",
    "        original.append(digit)\n",
    "    \n",
    "    if ans:\n",
    "        return ''.join(ans)\n",
    "    else:\n",
    "        return '-1'\n",
    "\n",
    "# Sample Input\n",
    "input_digits = input()\n",
    "# Output the result\n",
    "print(remove_immediate_duplicates(input_digits))"
   ]
  },
  {
   "cell_type": "markdown",
   "metadata": {},
   "source": [
    "#### **3. In XYZ country there is rule that car’s engine no. depends upon car’ number plate. Engine no is sum of all the integers present on car’s Number plate.The issuing authority has hired you in order to provide engine no. to the cars.Your task is to develop an algorithm which takes input as in form of string(Number plate) and gives back**\n",
    "\n",
    "Engine number.\n",
    "\n",
    "**Input Description:**\n",
    "\n",
    "You are given a string ’s’\n",
    "\n",
    "**Output Description:**\n",
    "\n",
    "Print the engine number\n",
    "\n",
    "Sample Input :\n",
    "\n",
    "HR05-AA-2669\n",
    "\n",
    "Sample Output :\n",
    "\n",
    "28"
   ]
  },
  {
   "cell_type": "code",
   "execution_count": 2,
   "metadata": {},
   "outputs": [
    {
     "name": "stdout",
     "output_type": "stream",
     "text": [
      "28\n"
     ]
    }
   ],
   "source": [
    "def calculate_engine_number(plate):\n",
    "    # Initialize the sum to 0\n",
    "    total = 0\n",
    "    # Iterate through each character in the string\n",
    "    for char in plate:\n",
    "        # Check if the character is a digit\n",
    "        if char.isdigit():\n",
    "            # Convert the digit character to an integer and add it to the total\n",
    "            total += int(char)\n",
    "    return total\n",
    "\n",
    "# Sample Input\n",
    "input_plate = input()           # input_plate = \"HR05-AA-2669\"\n",
    "\n",
    "# Calculate the engine number\n",
    "engine_number = calculate_engine_number(input_plate)\n",
    "\n",
    "# Output the result\n",
    "print(engine_number)"
   ]
  },
  {
   "cell_type": "markdown",
   "metadata": {},
   "source": [
    "#### **4. Rahul is given a task to manipulate a string, He hired you as a developer your task is to delete all the repeating characters and print the result left.**\n",
    "\n",
    "**Input Description:**\n",
    "\n",
    "You are given a string ‘s’\n",
    "\n",
    "**Output Description:**\n",
    "\n",
    "Print the remaining string\n",
    "\n",
    "Sample Input :\n",
    "\n",
    "mississipie\n",
    "\n",
    "Sample Output :\n",
    "\n",
    "mpe"
   ]
  },
  {
   "cell_type": "code",
   "execution_count": 3,
   "metadata": {},
   "outputs": [
    {
     "name": "stdout",
     "output_type": "stream",
     "text": [
      "mpe\n"
     ]
    }
   ],
   "source": [
    "def remove_repeating_characters(s):\n",
    "    # Create a dictionary to count occurrences of each character\n",
    "    char_count = {}\n",
    "    \n",
    "    # Populate the dictionary with character counts\n",
    "    for char in s:\n",
    "        if char in char_count:\n",
    "            char_count[char] += 1\n",
    "        else:\n",
    "            char_count[char] = 1\n",
    "            \n",
    "    # Create a result string with characters that appear only once\n",
    "    result = ''.join([char for char in s if char_count[char] == 1])\n",
    "    return result\n",
    "input_string = input()              # input_string = mississipie\n",
    "output_string = remove_repeating_characters(input_string)\n",
    "print(output_string)"
   ]
  },
  {
   "cell_type": "markdown",
   "metadata": {},
   "source": [
    "#### **5. Radha newly learnt about palindromic strings.A palindromic string is a string which is same when read from left to right and also from right to left.Help her in implementing the logic.**\n",
    "\n",
    "**Input Description:**\n",
    "\n",
    "You are given a String ‘s’\n",
    "\n",
    "**Output Description:**\n",
    "\n",
    "Print 1 if String is palindrome or 0 if not\n",
    "\n",
    "Sample Input :\n",
    "\n",
    "NITIN\n",
    "\n",
    "Sample Output :\n",
    "\n",
    "1"
   ]
  },
  {
   "cell_type": "code",
   "execution_count": 4,
   "metadata": {},
   "outputs": [
    {
     "name": "stdout",
     "output_type": "stream",
     "text": [
      "1\n"
     ]
    }
   ],
   "source": [
    "a = input()\n",
    "if a == a[::-1]:\n",
    "    print(1)\n",
    "else:\n",
    "    print(0)"
   ]
  },
  {
   "cell_type": "markdown",
   "metadata": {},
   "source": [
    "#### **6. Given a string S, print it without using semicolon in your program.**\n",
    "\n",
    "Sample Testcase :\n",
    "\n",
    "INPUT :\n",
    "\n",
    "hello world\n",
    "\n",
    "OUTPUT :\n",
    "\n",
    "hello world"
   ]
  },
  {
   "cell_type": "code",
   "execution_count": 5,
   "metadata": {},
   "outputs": [
    {
     "name": "stdout",
     "output_type": "stream",
     "text": [
      "hello world\n"
     ]
    }
   ],
   "source": [
    "S = input()\n",
    "print(S)"
   ]
  },
  {
   "cell_type": "markdown",
   "metadata": {},
   "source": [
    "#### **7. You are given a string. You have to print “Wonder” if the string is wonderful and -1 if it is not. A wonderful string is a string,which is made up of exactly 3 different characters.**\n",
    "\n",
    "**Input Description:**\n",
    "\n",
    "You are given a string\n",
    "\n",
    "**Output Description:**\n",
    "\n",
    "Print “Wonder” if it is wonderful and -1 if it is not\n",
    "\n",
    "Sample Input :\n",
    "\n",
    "aabbcc\n",
    "\n",
    "Sample Output :\n",
    "\n",
    "Wonder"
   ]
  },
  {
   "cell_type": "code",
   "execution_count": 6,
   "metadata": {},
   "outputs": [
    {
     "name": "stdout",
     "output_type": "stream",
     "text": [
      "Wonder\n"
     ]
    }
   ],
   "source": [
    "# Read input string\n",
    "input_string = input()\n",
    "\n",
    "# Find the unique characters in the string\n",
    "unique_characters = set(input_string)\n",
    "\n",
    "# Check if the number of unique characters is exactly 3\n",
    "if len(unique_characters) == 3:\n",
    "    print(\"Wonder\")\n",
    "else:\n",
    "    print(-1)"
   ]
  },
  {
   "cell_type": "markdown",
   "metadata": {},
   "source": [
    "#### **8. Given a string 'S' print the sum of weight of the String. A weight of character is defined as the ASCII value of corresponding character.**\n",
    "\n",
    "**Input Description:**\n",
    "\n",
    "You are given a string ‘s’\n",
    "\n",
    "**Output Description:**\n",
    "\n",
    "Print weight\n",
    "\n",
    "Sample Input :\n",
    "\n",
    "abc\n",
    "\n",
    "Sample Output :\n",
    "\n",
    "294"
   ]
  },
  {
   "cell_type": "code",
   "execution_count": 12,
   "metadata": {},
   "outputs": [
    {
     "name": "stdout",
     "output_type": "stream",
     "text": [
      "294\n"
     ]
    }
   ],
   "source": [
    "# Read the input string\n",
    "s = input()\n",
    "\n",
    "# Initialize the sum of ASCII values\n",
    "total_weight = 0\n",
    "\n",
    "# Iterate through each character in the string\n",
    "for char in s:\n",
    "    # Add the ASCII value of the character to the total weight\n",
    "    total_weight += ord(char)\n",
    "\n",
    "# Print the total weight\n",
    "print(total_weight)"
   ]
  },
  {
   "cell_type": "markdown",
   "metadata": {},
   "source": [
    "#### **9. You are given a ‘true’ string. String is called true if weight of string is multiple of 8. Your task is to tell whether a string can be declared True or Not. Weight of string is the sum of ASCII value of Vowel character(s) present in the string.**\n",
    "\n",
    "**Input Description:**\n",
    "\n",
    "You are given as string ‘s’ in lower cases\n",
    "\n",
    "**Output Description:**\n",
    "\n",
    "Print 1 for true and 0 for false\n",
    "\n",
    "Sample Input :\n",
    "\n",
    "raja\n",
    "\n",
    "Sample Output :\n",
    "\n",
    "0"
   ]
  },
  {
   "cell_type": "code",
   "execution_count": 13,
   "metadata": {},
   "outputs": [
    {
     "name": "stdout",
     "output_type": "stream",
     "text": [
      "0\n"
     ]
    }
   ],
   "source": [
    "# Read the input string\n",
    "s = input()\n",
    "\n",
    "# Define the set of vowels\n",
    "vowels = {'a', 'e', 'i', 'o', 'u'}\n",
    "\n",
    "# Initialize the sum of ASCII values of vowels\n",
    "sum_of_vowels = 0\n",
    "\n",
    "# Iterate through each character in the string\n",
    "for char in s:\n",
    "    if char in vowels:\n",
    "        sum_of_vowels += ord(char)\n",
    "\n",
    "# Check if the sum of vowels' ASCII values is a multiple of 8\n",
    "if sum_of_vowels % 8 == 0:\n",
    "    print(1)\n",
    "else:\n",
    "    print(0)"
   ]
  },
  {
   "cell_type": "markdown",
   "metadata": {},
   "source": [
    "#### **10. Write a program to get a string S, Type of conversion (1 - Convert to Lowercase, 2 - Convert to Uppercase) T, and integer P . Convert the case of the letters in the positions which are multiples of P.(1 based indexing).**\n",
    "\n",
    "**Input Description:**\n",
    "Given a string S, Type of conversion T, and integer P\n",
    "\n",
    "**Output Description:**\n",
    "Convert the case of the letters and print the string\n",
    "\n",
    "Sample Input :\n",
    "\n",
    "ProFiLe\n",
    "\n",
    "1\n",
    "\n",
    "2\n",
    "\n",
    "Sample Output :\n",
    "\n",
    "Profile"
   ]
  },
  {
   "cell_type": "code",
   "execution_count": 15,
   "metadata": {},
   "outputs": [
    {
     "name": "stdout",
     "output_type": "stream",
     "text": [
      "Profile\n"
     ]
    }
   ],
   "source": [
    "# Read the input string\n",
    "S = input()\n",
    "\n",
    "# Read the type of conversion\n",
    "T = int(input())\n",
    "\n",
    "# Read the integer P\n",
    "P = int(input())\n",
    "\n",
    "# Convert the string based on the given type and multiples of P\n",
    "result = []\n",
    "\n",
    "for i in range(len(S)):\n",
    "    if (i + 1) % P == 0:\n",
    "        if T == 1:\n",
    "            result.append(S[i].lower())\n",
    "        elif T == 2:\n",
    "            result.append(S[i].upper())\n",
    "    else:\n",
    "        result.append(S[i])\n",
    "\n",
    "# Join the list into a string and print the result\n",
    "print(''.join(result))"
   ]
  },
  {
   "cell_type": "markdown",
   "metadata": {},
   "source": [
    "#### **11. You are given a paragraph.Your task is to print the words that come just after articles.**\n",
    "\n",
    "**Input Description:**\n",
    "\n",
    "You are given a string ‘s’\n",
    "\n",
    "**Output Description:**\n",
    "\n",
    "print the words that come just after articles and -1 if there are no articles\n",
    "\n",
    "Sample Input :\n",
    "\n",
    "The sun rises in the east\n",
    "\n",
    "Sample Output :\n",
    "\n",
    "sun east"
   ]
  },
  {
   "cell_type": "code",
   "execution_count": 13,
   "metadata": {},
   "outputs": [
    {
     "name": "stdout",
     "output_type": "stream",
     "text": [
      "sun east\n"
     ]
    }
   ],
   "source": [
    "def words_after_articles(s):\n",
    "    articles = {\"a\", \"an\", \"the\"}\n",
    "    words = s.split()\n",
    "    result = []\n",
    "\n",
    "    for i in range(len(words) - 1):\n",
    "        if words[i].lower() in articles:\n",
    "            result.append(words[i + 1])\n",
    "    \n",
    "    if result:\n",
    "        print(' '.join(result))\n",
    "    else:\n",
    "        print(-1)\n",
    "\n",
    "s = input()             # s = 'The sun rises in the east'\n",
    "words_after_articles(s)"
   ]
  },
  {
   "cell_type": "code",
   "execution_count": 1,
   "metadata": {},
   "outputs": [
    {
     "name": "stdout",
     "output_type": "stream",
     "text": [
      "sun east "
     ]
    }
   ],
   "source": [
    "def words_after_articles(s):\n",
    "    articles = [\"a\", \"an\", \"the\"]\n",
    "    words = s.split()\n",
    "    found = False\n",
    "    \n",
    "    for i in range(len(words) - 1):\n",
    "        if words[i].lower() in articles:\n",
    "            print(words[i + 1], end=\" \")\n",
    "            found = True\n",
    "    \n",
    "    if not found:\n",
    "        print(\"-1\")\n",
    "\n",
    "s = input()\n",
    "words_after_articles(s)"
   ]
  },
  {
   "cell_type": "markdown",
   "metadata": {},
   "source": [
    "#### **12. You are given with a string which comprises of some numbers. Your task is to find the largest integer by converting the string to the corresponding integer.**\n",
    "\n",
    "**Input Description:**\n",
    "\n",
    "First line contains n denoting number of Test Cases. The first and only Line of testcase has the string\n",
    "\n",
    "**Output Description:**\n",
    "\n",
    "Print the largest number\n",
    "\n",
    "Sample Input :\n",
    "\n",
    " I was born on 12 october 1998.\n",
    "\n",
    "Sample Output :\n",
    "\n",
    "1998"
   ]
  },
  {
   "cell_type": "code",
   "execution_count": 1,
   "metadata": {},
   "outputs": [
    {
     "name": "stdout",
     "output_type": "stream",
     "text": [
      "1998\n"
     ]
    }
   ],
   "source": [
    "m = input()             # m = \"I was born on 12 october 1998.\"\n",
    "res = \"\"\n",
    "a = len(m)\n",
    "\n",
    "for i in range(0,a):\n",
    "    if m[i]!='.':\n",
    "        res = res+m[i]\n",
    "        \n",
    "n = res.split(\" \")\n",
    "int_lst=[]\n",
    "\n",
    "for i in n:\n",
    " if i.isdigit()==True:\n",
    "  int_lst.append(i)\n",
    "length = len(int_lst)\n",
    "max_value = 0\n",
    "\n",
    "for i in range(0,length):\n",
    "    if(int(max_value) < int(int_lst[i])):\n",
    "        max_value = int_lst[i]\n",
    "print(max_value)"
   ]
  },
  {
   "cell_type": "markdown",
   "metadata": {},
   "source": [
    "#### **13. You are given a string made up of parenthesis only.Your task is to check whether parenthesis are balanced or not.If they are balanced print 1 else print 0**\n",
    "\n",
    "**Input Description:**\n",
    "\n",
    "You are given a string ‘s’\n",
    "\n",
    "**Output Description:**\n",
    "\n",
    "Print 1 for balanced and 0 for imbalanced\n",
    "\n",
    "Sample Input :\n",
    "\n",
    "{({})}\n",
    "\n",
    "Sample Output :\n",
    "\n",
    "1"
   ]
  },
  {
   "cell_type": "markdown",
   "metadata": {},
   "source": [
    "**Explanation:**\n",
    "\n",
    "is_balanced_parentheses(s): This function checks if the parentheses in the string s are balanced.\n",
    "\n",
    "stack: Used to keep track of opening parentheses.\n",
    "\n",
    "matching_parentheses: Dictionary to match each closing parenthesis with its corresponding opening parenthesis.\n",
    "\n",
    "The function iterates through each character in the string:\n",
    "    \n",
    "    If the character is an opening parenthesis({, (, [), it gets pushed onto the stack.\n",
    "    \n",
    "    If the character is a closing parenthesis(}, ), ]), it checks if the stack is not empty and if the top of the stack matches the corresponding opening parenthesis. If not, it returns 0 (imbalanced).\n",
    "\n",
    "At the end, if the stack is empty, the parentheses are balanced, and the function returns 1. Otherwise, it returns 0."
   ]
  },
  {
   "cell_type": "code",
   "execution_count": 3,
   "metadata": {},
   "outputs": [
    {
     "name": "stdout",
     "output_type": "stream",
     "text": [
      "1\n"
     ]
    }
   ],
   "source": [
    "def is_balanced_parentheses(s):\n",
    "    stack = []\n",
    "    # matching_parentheses\n",
    "    m = {')': '(', '}': '{', ']': '['}\n",
    "\n",
    "    for char in s:\n",
    "        if char in m.values():  # Opening parentheses\n",
    "            stack.append(char)\n",
    "        elif char in m.keys():  # Closing parentheses\n",
    "            if stack == [] or stack.pop() != m[char]:\n",
    "                return 0\n",
    "    return 1 if not stack else 0\n",
    "\n",
    "if __name__ == \"__main__\":\n",
    "    s = input().strip()  # Read the input string s = \"{({})}\"\n",
    "    result = is_balanced_parentheses(s)\n",
    "    print(result)"
   ]
  },
  {
   "cell_type": "markdown",
   "metadata": {},
   "source": [
    "#### **14. You are given a string ‘s’. Your task is to tell whether string is beautiful or not.A beautiful string is a string in which String starts with ‘a’ or ‘A’ and middle element is either ‘m’ or ‘M’ and last element is ‘z’or ‘Z’**\n",
    "\n",
    "**Input Description:**\n",
    "\n",
    "You are given a string ‘s’.\n",
    "\n",
    "**Output Description:**\n",
    "\n",
    "Print 1 if string is beautiful and 0 if it is not\n",
    "\n",
    "Sample Input :\n",
    "\n",
    "Amz\n",
    "\n",
    "Sample Output :\n",
    "\n",
    "1"
   ]
  },
  {
   "cell_type": "code",
   "execution_count": 4,
   "metadata": {},
   "outputs": [
    {
     "name": "stdout",
     "output_type": "stream",
     "text": [
      "1\n"
     ]
    }
   ],
   "source": [
    "def is_beautiful_string(s):\n",
    "    n = len(s)\n",
    "    if n < 3:\n",
    "        return 0  # String must be at least 3 characters long to have a valid middle character\n",
    "    \n",
    "    # Check the first character\n",
    "    if s[0] not in ('a', 'A'):\n",
    "        return 0\n",
    "    \n",
    "    # Check the middle character\n",
    "    middle_index = n // 2\n",
    "    if s[middle_index] not in ('m', 'M'):\n",
    "        return 0\n",
    "    \n",
    "    # Check the last character\n",
    "    if s[-1] not in ('z', 'Z'):\n",
    "        return 0\n",
    "    \n",
    "    return 1\n",
    "\n",
    "if __name__ == \"__main__\":\n",
    "    s = input().strip()  # Read the input string\n",
    "    result = is_beautiful_string(s)\n",
    "    print(result)"
   ]
  },
  {
   "cell_type": "markdown",
   "metadata": {},
   "source": [
    "#### **15. You are given a string.Your task is to print only the consonants present in the string without affecting the sentence spacings if present. If no consonants are present print -1**\n",
    "\n",
    "**Input Description:**\n",
    "\n",
    "You are given a string ‘s’.\n",
    "\n",
    "**Output Description:**\n",
    "\n",
    "Print only consonants.\n",
    "\n",
    "Sample Input :\n",
    "\n",
    "I am shrey \n",
    "\n",
    "Sample Output :\n",
    "\n",
    " m shry"
   ]
  },
  {
   "cell_type": "code",
   "execution_count": 5,
   "metadata": {},
   "outputs": [
    {
     "name": "stdout",
     "output_type": "stream",
     "text": [
      " m shry\n"
     ]
    }
   ],
   "source": [
    "def is_consonant(char):\n",
    "    vowels = \"aeiouAEIOU\"\n",
    "    return char.isalpha() and char not in vowels\n",
    "\n",
    "def filter_consonants(s):\n",
    "    result = \"\"\n",
    "    consonant_found = False\n",
    "    \n",
    "    for char in s:\n",
    "        if char == ' ':\n",
    "            result += ' '\n",
    "        elif is_consonant(char):\n",
    "            result += char\n",
    "            consonant_found = True\n",
    "\n",
    "    if consonant_found:\n",
    "        return result\n",
    "    else:\n",
    "        return \"-1\"\n",
    "\n",
    "s = input()\n",
    "output = filter_consonants(s)\n",
    "print(output)"
   ]
  },
  {
   "cell_type": "markdown",
   "metadata": {},
   "source": [
    "### **16. You are given a string ‘s’.Your task is to print the string in the order they are present and then sum of digits.**\n",
    "\n",
    "#### **Input Description:**\n",
    "\n",
    "You are given a string ‘s’.\n",
    "\n",
    "#### **Output Description:**\n",
    "\n",
    "Print the string and then at last sum of all the digits\n",
    "\n",
    "**Sample Input:**\n",
    "\n",
    "AC30BD40\n",
    "\n",
    "**Sample Output:**\n",
    "\n",
    "ACBD7"
   ]
  },
  {
   "cell_type": "code",
   "execution_count": 1,
   "metadata": {},
   "outputs": [
    {
     "name": "stdout",
     "output_type": "stream",
     "text": [
      "ACBD7\n"
     ]
    }
   ],
   "source": [
    "def process_string(s):\n",
    "    characters = []\n",
    "    digit_sum = 0\n",
    "    \n",
    "    for char in s:\n",
    "        if char.isdigit():\n",
    "            digit_sum += int(char)\n",
    "        else:\n",
    "            characters.append(char)\n",
    "    \n",
    "    # Join the characters to form the final string\n",
    "    result = ''.join(characters)\n",
    "    # Append the sum of digits\n",
    "    result += str(digit_sum)\n",
    "    print(result)\n",
    "\n",
    "s = input()\n",
    "process_string(s)"
   ]
  },
  {
   "cell_type": "markdown",
   "metadata": {},
   "source": [
    "### **17. Given a string S, print 'yes' if it has a vowel in it else print 'no'.**\n",
    "\n",
    "#### **Sample Testcase:**\n",
    "\n",
    "**INPUT**\n",
    "\n",
    "codekata\n",
    "\n",
    "**OUTPUT**\n",
    "\n",
    "yes"
   ]
  },
  {
   "cell_type": "code",
   "execution_count": 2,
   "metadata": {},
   "outputs": [
    {
     "name": "stdout",
     "output_type": "stream",
     "text": [
      "yes\n"
     ]
    }
   ],
   "source": [
    "def has_vowel(s):\n",
    "    vowels = set('aeiouAEIOU')\n",
    "    \n",
    "    for char in s:\n",
    "        if char in vowels:\n",
    "            print(\"yes\")\n",
    "            return\n",
    "    print(\"no\")\n",
    "\n",
    "s = input()\n",
    "has_vowel(s)"
   ]
  },
  {
   "cell_type": "markdown",
   "metadata": {},
   "source": [
    "### **18. Given an array of pairs of strings, find if there are mirror pairs.**\n",
    "(s1, s2) & (s3, s4) are mirror pairs, if s1 = s4 and s2 = s3. The first string in each pair is distinct.\n",
    "\n",
    "#### **Input Description:**\n",
    "\n",
    "The first line contains the number string pairs N. Then N string pairs follow.\n",
    "\n",
    "#### **Output Description:**\n",
    "\n",
    "Print YES, if a mirror pair exists, print NO otherwise.\n",
    "\n",
    "**Sample Input:**\n",
    "\n",
    "3\n",
    "raja kili\n",
    "pan quil\n",
    "kili raja\n",
    "\n",
    "**Sample Output:**\n",
    "\n",
    "YES"
   ]
  },
  {
   "cell_type": "code",
   "execution_count": 5,
   "metadata": {},
   "outputs": [
    {
     "name": "stdout",
     "output_type": "stream",
     "text": [
      "YES\n"
     ]
    }
   ],
   "source": [
    "def find_mirror_pairs(pairs):\n",
    "    pair_dict = {}\n",
    "    \n",
    "    for s1, s2 in pairs:\n",
    "        # Check if the reverse pair exists\n",
    "        if s2 in pair_dict and pair_dict[s2] == s1:\n",
    "            print(\"YES\")\n",
    "            return\n",
    "        # Store the pair in the dictionary\n",
    "        pair_dict[s1] = s2\n",
    "    \n",
    "    print(\"NO\")\n",
    "\n",
    "N = int(input())\n",
    "pairs = [input().split() for _ in range(N)]\n",
    "find_mirror_pairs(pairs)"
   ]
  },
  {
   "cell_type": "markdown",
   "metadata": {},
   "source": [
    "### **19. Joyal was given a sentence. His task is to delete the two words that comes together and print the sentence so that the words in the output sentence have distinct words compared to their adjacent words. If no words are present in the output sentence print -1**\n",
    "\n",
    "#### **Input Description:**\n",
    "\n",
    "You are given input string 'S'\n",
    "\n",
    "#### **Output Description:**\n",
    "\n",
    "Print the all the words that are left in the string 's' so that the words in the output sentence have distinct words compared to their adjacent words. Print -1 if no words are left\n",
    "\n",
    "**Sample Input:**\n",
    "\n",
    "I am john cena cena john\n",
    "\n",
    "**Sample Output:**\n",
    "\n",
    "I am"
   ]
  },
  {
   "cell_type": "code",
   "execution_count": 6,
   "metadata": {},
   "outputs": [
    {
     "name": "stdout",
     "output_type": "stream",
     "text": [
      "I am\n"
     ]
    }
   ],
   "source": [
    "def remove_adjacent_duplicates(s):\n",
    "    words = s.split()\n",
    "    stack = []\n",
    "    \n",
    "    for word in words:\n",
    "        if stack and stack[-1] == word:\n",
    "            stack.pop()\n",
    "        else:\n",
    "            stack.append(word)\n",
    "    \n",
    "    if not stack:\n",
    "        print(\"-1\")\n",
    "    else:\n",
    "        print(\" \".join(stack))\n",
    "\n",
    "s = input()    # S = 'I am john cena cena john'\n",
    "remove_adjacent_duplicates(s)"
   ]
  },
  {
   "cell_type": "markdown",
   "metadata": {},
   "source": [
    "### **20. You are given a string ‘s’. Your task is to find whether string is beautiful or not. A string is said to be beautiful whenever string is made up of only three characters. All the three characters must be distinct. Print true if string is beautiful and false when it is not beautiful**\n",
    "\n",
    "#### **Input Description:**\n",
    "\n",
    "You are given a string\n",
    "\n",
    "#### **Output Description:**\n",
    "\n",
    "Print ‘1’ when string is beautiful and ‘0’ when it is not\n",
    "\n",
    "**Sample Input:**\n",
    "\n",
    "Aab\n",
    "\n",
    "**Sample Output:**\n",
    "\n",
    "1"
   ]
  },
  {
   "cell_type": "code",
   "execution_count": 7,
   "metadata": {},
   "outputs": [
    {
     "name": "stdout",
     "output_type": "stream",
     "text": [
      "1\n"
     ]
    }
   ],
   "source": [
    "def is_beautiful_string(s):\n",
    "    # Use a set to collect distinct characters\n",
    "    distinct_characters = set(s)\n",
    "    \n",
    "    # Check if the number of distinct characters is exactly 3\n",
    "    if len(distinct_characters) == 3:\n",
    "        print(1)\n",
    "    else:\n",
    "        print(0)\n",
    "\n",
    "s = input()\n",
    "is_beautiful_string(s)"
   ]
  },
  {
   "cell_type": "markdown",
   "metadata": {},
   "source": [
    "### **22. Jennyfer is fond of strings. She wants to read the character from right to left (reverse the string), so she wants you to design a suitable algorithm which satisfy her desire.**\n",
    "\n",
    "#### **Input Description:**\n",
    "\n",
    "Enter the string ‘s’\n",
    "\n",
    "#### **Output Description:**\n",
    "\n",
    "Print the string from characters right to left.\n",
    "\n",
    "**Sample Input:**\n",
    "\n",
    "jennyfer\n",
    "\n",
    "**Sample Output:**\n",
    "\n",
    "Refynnej"
   ]
  },
  {
   "cell_type": "code",
   "execution_count": 9,
   "metadata": {},
   "outputs": [
    {
     "name": "stdout",
     "output_type": "stream",
     "text": [
      "Refynnej\n"
     ]
    }
   ],
   "source": [
    "s = input()\n",
    "\n",
    "# Reverse the string\n",
    "s_rev = s[::-1]\n",
    "\n",
    "# Join the reversed string back\n",
    "s = ''.join(s_rev)\n",
    "\n",
    "# Capitalize the first letter of the reversed string\n",
    "print(s.capitalize())\n"
   ]
  },
  {
   "cell_type": "markdown",
   "metadata": {},
   "source": [
    "### **23. You are given string ‘s’. Your task is to modify the string as mentioned below:-**\n",
    "\n",
    "1. The string should not have three consecutive same characters.\n",
    "2. You can add any number of characters anywhere in the string. Find the minimum number of characters which Ishaan must insert in the string.\n",
    "\n",
    "#### **Input Description:**\n",
    "\n",
    "You are given a string ‘s’\n",
    "\n",
    "#### **Output Description:**\n",
    "\n",
    "print the required answer in a new line.\n",
    "\n",
    "Sample Input :\n",
    "\n",
    "aabbbcc\n",
    "\n",
    "Sample Output :\n",
    "\n",
    "1"
   ]
  },
  {
   "cell_type": "code",
   "execution_count": 10,
   "metadata": {},
   "outputs": [
    {
     "name": "stdout",
     "output_type": "stream",
     "text": [
      "1\n"
     ]
    }
   ],
   "source": [
    "def min_insertions_to_prevent_triplets(s):\n",
    "    count = 0\n",
    "    insertions = 0\n",
    "    \n",
    "    for i in range(1, len(s)):\n",
    "        if s[i] == s[i - 1]:\n",
    "            count += 1\n",
    "        else:\n",
    "            count = 0\n",
    "        \n",
    "        if count == 2:\n",
    "            insertions += 1\n",
    "            count = 0\n",
    "    \n",
    "    print(insertions)\n",
    "\n",
    "s = input()     # S = 'aabbbcc'\n",
    "min_insertions_to_prevent_triplets(s)"
   ]
  },
  {
   "cell_type": "markdown",
   "metadata": {},
   "source": [
    "### **24. You are given a string ‘s’.Your task is to print the string in alternate lowercase and uppercase order.**\n",
    "\n",
    "#### **Input Description:**\n",
    "\n",
    "You are given a string\n",
    "\n",
    "#### **Output Description:**\n",
    "\n",
    "Print the string according to given criteria\n",
    "\n",
    "**Sample Input:**\n",
    "\n",
    "abcd efgh ijkl\n",
    "\n",
    "**Sample Output:**\n",
    "\n",
    "ABCD efgh IJKL"
   ]
  },
  {
   "cell_type": "code",
   "execution_count": 11,
   "metadata": {},
   "outputs": [
    {
     "name": "stdout",
     "output_type": "stream",
     "text": [
      "ABCD efgh IJKL\n"
     ]
    }
   ],
   "source": [
    "def alternate_case_string(s):\n",
    "    words = s.split()\n",
    "    for i in range(len(words)):\n",
    "        if i % 2 == 0:\n",
    "            words[i] = words[i].upper()\n",
    "        else:\n",
    "            words[i] = words[i].lower()\n",
    "    result = ' '.join(words)\n",
    "    print(result)\n",
    "    \n",
    "s = input()             # S = 'abcd efgh ijkl'\n",
    "alternate_case_string(s)"
   ]
  },
  {
   "cell_type": "markdown",
   "metadata": {},
   "source": [
    "### **27. Indian PAN card issuing authority have found some fake PAN cards. They have hired you so that you can validate PAN card for them. Your task is to develop a suitable algorithm which could check if pan is valid or not**\n",
    "\n",
    "1. Pan must have uppercase letters only.\n",
    "\n",
    "2. It must be of 10 character only\n",
    "\n",
    "3. From index 1 to 5 all must be letters(A-Z),last index must be letter\n",
    "\n",
    "4. Rest all must be integer Starting from 1\n",
    "\n",
    "#### **Input Description:**\n",
    "\n",
    "You are given a input string which indicates the PAN number\n",
    "\n",
    "#### **Output Description:**\n",
    "\n",
    "Print 'pan' if it is valid PAN number, else print 'not pan'\n",
    "\n",
    "**Sample Input:**\n",
    "\n",
    "HXTPS2142R\n",
    "\n",
    "**Sample Output:**\n",
    "\n",
    "pan"
   ]
  },
  {
   "cell_type": "markdown",
   "metadata": {},
   "source": [
    "#### **Logic**\n",
    "\n",
    "1. The PAN must contain only uppercase letters.\n",
    "2. The PAN must be exactly 10 characters long.\n",
    "3. The first five characters must be letters (A-Z).\n",
    "4. The last character must be a letter (A-Z).\n",
    "5. The sixth to ninth characters must be digits (0-9)."
   ]
  },
  {
   "cell_type": "code",
   "execution_count": 18,
   "metadata": {},
   "outputs": [
    {
     "name": "stdout",
     "output_type": "stream",
     "text": [
      "pan\n"
     ]
    }
   ],
   "source": [
    "def validate_pan(pan):\n",
    "    # Check if the PAN is exactly 10 characters long\n",
    "    if len(pan) != 10:\n",
    "        print(\"not pan\")\n",
    "        return\n",
    "    \n",
    "    # Check if all characters are uppercase letters or digits\n",
    "    if not pan.isalnum() or not pan.isupper():\n",
    "        print(\"not pan\")\n",
    "        return\n",
    "    \n",
    "    # Check if the first five characters are letters\n",
    "    if not pan[:5].isalpha():\n",
    "        print(\"not pan\")\n",
    "        return\n",
    "    \n",
    "    # Check if the last character is a letter\n",
    "    if not pan[-1].isalpha():\n",
    "        print(\"not pan\")\n",
    "        return\n",
    "    \n",
    "    # Check if the sixth to ninth characters are digits\n",
    "    if not pan[5:9].isdigit():\n",
    "        print(\"not pan\")\n",
    "        return\n",
    "    \n",
    "    # If all conditions are met, it's a valid PAN\n",
    "    print(\"pan\")\n",
    "\n",
    "pan = input()\n",
    "validate_pan(pan)"
   ]
  },
  {
   "cell_type": "markdown",
   "metadata": {},
   "source": [
    "### **28. Given a string S, find its length(including the spaces)without using any pre-defined functions.**\n",
    "\n",
    "#### **Sample Testcase:**\n",
    "\n",
    "**INPUT**\n",
    "\n",
    "codekata\n",
    "\n",
    "**OUTPUT**\n",
    "\n",
    "8"
   ]
  },
  {
   "cell_type": "code",
   "execution_count": 21,
   "metadata": {},
   "outputs": [
    {
     "name": "stdout",
     "output_type": "stream",
     "text": [
      "8\n"
     ]
    }
   ],
   "source": [
    "s = input()                     # s = 'codekata'\n",
    "length_of_the_string = len(s)\n",
    "print(length_of_the_string)"
   ]
  },
  {
   "cell_type": "code",
   "execution_count": 19,
   "metadata": {},
   "outputs": [
    {
     "name": "stdout",
     "output_type": "stream",
     "text": [
      "8\n"
     ]
    }
   ],
   "source": [
    "def find_length(s):\n",
    "    length = 0\n",
    "    for char in s:\n",
    "        length += 1\n",
    "    return length\n",
    "\n",
    "s = \"codekata\"\n",
    "print(find_length(s))"
   ]
  },
  {
   "cell_type": "markdown",
   "metadata": {},
   "source": [
    "### **29. You are given some words all in lower case letters your task is to print them in sorted order.**\n",
    "\n",
    "#### **Input Description:**\n",
    "\n",
    "You are given a string ‘s’\n",
    "\n",
    "#### **Output Description:**\n",
    "\n",
    "Print the string in sorted order\n",
    "\n",
    "**Sample Input:**\n",
    "\n",
    "virat kohli\n",
    "\n",
    "**Sample Output:**\n",
    "\n",
    "kohli virat"
   ]
  },
  {
   "cell_type": "code",
   "execution_count": 22,
   "metadata": {},
   "outputs": [
    {
     "name": "stdout",
     "output_type": "stream",
     "text": [
      "kohli virat\n"
     ]
    }
   ],
   "source": [
    "def sort_words(s):\n",
    "    # Split the string into words\n",
    "    words = s.split()\n",
    "    \n",
    "    # Sort the words\n",
    "    words.sort()\n",
    "    \n",
    "    # Join the sorted words into a single string\n",
    "    sorted_string = ' '.join(words)\n",
    "    \n",
    "    # Print the resulting string\n",
    "    print(sorted_string)\n",
    "\n",
    "s = input()         # s = 'virat kohli'\n",
    "sort_words(s)"
   ]
  },
  {
   "cell_type": "markdown",
   "metadata": {},
   "source": [
    "### **30. Given a number ‘n’, your task is to  generate all n-bit grey code sequences, “a grey code sequence is a sequence such that successive patterns in it differ by one bit”**\n",
    "\n",
    "#### **Input Description:**\n",
    "\n",
    "You are given an number ‘n’.\n",
    "\n",
    "#### **Output Description:**\n",
    "\n",
    "Print the grey code sequence\n",
    "\n",
    "**Sample Input:**\n",
    "\n",
    "2\n",
    "\n",
    "**Sample Output:**\n",
    "\n",
    "00 01 11 10"
   ]
  },
  {
   "cell_type": "code",
   "execution_count": 23,
   "metadata": {},
   "outputs": [
    {
     "name": "stdout",
     "output_type": "stream",
     "text": [
      "00 01 11 10\n"
     ]
    }
   ],
   "source": [
    "def generate_gray_code(n):\n",
    "    if n == 0:\n",
    "        return []\n",
    "    if n == 1:\n",
    "        return [\"0\", \"1\"]\n",
    "    \n",
    "    # Start with 1-bit Gray code\n",
    "    gray_codes = [\"0\", \"1\"]\n",
    "    \n",
    "    # Generate Gray code for each additional bit\n",
    "    for i in range(2, n + 1):\n",
    "        # Create a reversed copy of the current list\n",
    "        reversed_codes = gray_codes[::-1]\n",
    "        \n",
    "        # Prepend '0' to the original list\n",
    "        gray_codes = ['0' + code for code in gray_codes]\n",
    "        \n",
    "        # Prepend '1' to the reversed list\n",
    "        reversed_codes = ['1' + code for code in reversed_codes]\n",
    "        \n",
    "        # Combine both lists\n",
    "        gray_codes += reversed_codes\n",
    "    \n",
    "    return gray_codes\n",
    "\n",
    "n = int(input())\n",
    "gray_code_sequence = generate_gray_code(n)\n",
    "print(\" \".join(gray_code_sequence))"
   ]
  },
  {
   "cell_type": "markdown",
   "metadata": {},
   "source": [
    "### **31. Guvi developed a new system to make sure no two usernames are same. So, they hired you as a developer to develop this system. They have set some rules to do the same.If you see the same username that already exists, just add a number at the end of that username ,else print \"Verified\".**\n",
    "\n",
    "#### **Input Description:**\n",
    "\n",
    "First line consists of an integer N, denoting number of usernames. Second line consists of N spaced separated Strings, denoting usernames.\n",
    "\n",
    "#### **Output Description:**\n",
    "\n",
    "print the required output in a new line.\n",
    "\n",
    "**Sample Input:**\n",
    "\n",
    "4\n",
    "\n",
    "abc aab abc aba\n",
    "\n",
    "**Sample Output:**\n",
    "\n",
    "Verified Verified abc1 aba"
   ]
  },
  {
   "cell_type": "code",
   "execution_count": 28,
   "metadata": {},
   "outputs": [
    {
     "name": "stdout",
     "output_type": "stream",
     "text": [
      "Verified Verified abc1 Verified\n"
     ]
    }
   ],
   "source": [
    "# Method -1:\n",
    "\n",
    "a = int(input())                    # a = 4\n",
    "li = list(input().split(\" \"))       # li = ['abc', 'aab', 'abc', 'aba']\n",
    "check=[]\n",
    "output=[]\n",
    "\n",
    "for i in li:\n",
    "    if i not in check:\n",
    "        check.append(i)\n",
    "        output.append(\"Verified\")\n",
    "    else:\n",
    "        output.append(i+\"1\")\n",
    "print(\" \".join(output))"
   ]
  },
  {
   "cell_type": "code",
   "execution_count": 27,
   "metadata": {},
   "outputs": [
    {
     "name": "stdout",
     "output_type": "stream",
     "text": [
      "Verified\n",
      "Verified\n",
      "abc1\n",
      "Verified\n"
     ]
    }
   ],
   "source": [
    "# Method -2:\n",
    "\n",
    "def process_usernames(n, usernames):\n",
    "    seen = {}\n",
    "    result = []\n",
    "\n",
    "    for username in usernames:\n",
    "        if username in seen:\n",
    "            seen[username] += 1\n",
    "            new_username = f\"{username}{seen[username]}\"\n",
    "            result.append(new_username)\n",
    "        else:\n",
    "            seen[username] = 0\n",
    "            result.append(\"Verified\")\n",
    "\n",
    "    for res in result:\n",
    "        print(res)\n",
    "\n",
    "n = int(input())                            # n = 4\n",
    "usernames = list(map(str, input().split())) # usernames = ['abc', 'aab', 'abc', 'aba']\n",
    "process_usernames(n, usernames)"
   ]
  },
  {
   "cell_type": "markdown",
   "metadata": {},
   "source": [
    "### **33. Given 2 strings S1 and s2, check whether they are case senitively equal without using any predefined function(case sensitive).If they are not same print 'no'**\n",
    "\n",
    "#### **Sample Testcase:**\n",
    "\n",
    "**INPUT**\n",
    "\n",
    "guvi guvi\n",
    "\n",
    "**OUTPUT**\n",
    "\n",
    "yes"
   ]
  },
  {
   "cell_type": "code",
   "execution_count": 29,
   "metadata": {},
   "outputs": [
    {
     "name": "stdout",
     "output_type": "stream",
     "text": [
      "yes\n"
     ]
    }
   ],
   "source": [
    "def check_case_sensitive_equal(S1, S2):\n",
    "    if len(S1) != len(S2):\n",
    "        print(\"no\")\n",
    "        return\n",
    "    \n",
    "    for i in range(len(S1)):\n",
    "        if S1[i] != S2[i]:\n",
    "            print(\"no\")\n",
    "            return\n",
    "\n",
    "    print(\"yes\")\n",
    "\n",
    "S1, S2 = input().split()\n",
    "check_case_sensitive_equal(S1, S2)"
   ]
  },
  {
   "cell_type": "markdown",
   "metadata": {},
   "source": [
    "### **34. You are given two string ‘s1’ and ‘s2’. You have to tell whether these form pair of (strset) A pair of strings is said to be str set if one string is substring of other.**\n",
    "\n",
    "#### **Input Description:**\n",
    "\n",
    "You are given two strings ‘s1’ and ‘s2’\n",
    "\n",
    "#### **Output Description:**\n",
    "\n",
    "Print Yes if they form strset and No if they don’t.\n",
    "\n",
    "**Sample Input:**\n",
    "\n",
    "abc ab\n",
    "\n",
    "**Sample Output:**\n",
    "\n",
    "Yes"
   ]
  },
  {
   "cell_type": "code",
   "execution_count": 30,
   "metadata": {},
   "outputs": [
    {
     "name": "stdout",
     "output_type": "stream",
     "text": [
      "Yes\n"
     ]
    }
   ],
   "source": [
    "def check_strset(s1, s2):\n",
    "    if s1 in s2 or s2 in s1:\n",
    "        print(\"Yes\")\n",
    "    else:\n",
    "        print(\"No\")\n",
    "\n",
    "s1, s2 = input().split()\n",
    "check_strset(s1, s2)"
   ]
  },
  {
   "cell_type": "markdown",
   "metadata": {},
   "source": [
    "### **37. In a school there are voting to choose the monitor of class.Your task is to tell which candidate is winner and if there is a tie print the name of candidate whose come first in lexicographical order.**\n",
    "\n",
    "#### **Input Description:**\n",
    "\n",
    "You are given with the space separated names.\n",
    "\n",
    "#### **Output Description:**\n",
    "\n",
    "Print the winner’s name and the votes he earned.\n",
    "\n",
    "**Sample Input:**\n",
    "\n",
    "john johnny jackie johnny john jackie jamie jamie john johnny jamie johnny john\n",
    "\n",
    "**Sample Output:**\n",
    "\n",
    "john 4"
   ]
  },
  {
   "cell_type": "code",
   "execution_count": 34,
   "metadata": {},
   "outputs": [
    {
     "name": "stdout",
     "output_type": "stream",
     "text": [
      "john 4\n"
     ]
    }
   ],
   "source": [
    "from collections import defaultdict\n",
    "\n",
    "def find_monitor_winner(names):\n",
    "    # Count votes for each candidate\n",
    "    vote_count = defaultdict(int)\n",
    "    for name in names:\n",
    "        vote_count[name] += 1\n",
    "    \n",
    "    # Find the candidate with the maximum votes\n",
    "    max_votes = -1\n",
    "    winner = None\n",
    "    for candidate, votes in vote_count.items():\n",
    "        if votes > max_votes:\n",
    "            max_votes = votes\n",
    "            winner = candidate\n",
    "        elif votes == max_votes:\n",
    "            if candidate < winner:  # Lexicographical comparison\n",
    "                winner = candidate\n",
    "    \n",
    "    # Output the winner's name and votes\n",
    "    print(f\"{winner} {max_votes}\")\n",
    "\n",
    "names_list = input().split()\n",
    "find_monitor_winner(names_list)"
   ]
  },
  {
   "cell_type": "markdown",
   "metadata": {},
   "source": [
    "### **38. Given a day, print 'yes' if it is a holiday otherwise print'no'.Assume that weekend days are holidays**\n",
    "\n",
    "#### **Sample Testcase:**\n",
    "\n",
    "**INPUT**\n",
    "\n",
    "saturday\n",
    "\n",
    "**OUTPUT**\n",
    "\n",
    "yes\n",
    "\n",
    "**INPUT**\n",
    "\n",
    "monday\n",
    "\n",
    "**OUTPUT**\n",
    "\n",
    "no"
   ]
  },
  {
   "cell_type": "code",
   "execution_count": 35,
   "metadata": {},
   "outputs": [
    {
     "name": "stdout",
     "output_type": "stream",
     "text": [
      "no\n"
     ]
    }
   ],
   "source": [
    "def check_holiday(day):\n",
    "    # Convert day to lowercase to handle case insensitivity\n",
    "    day = day.lower()\n",
    "    \n",
    "    # Check if the day is a weekend (holiday)\n",
    "    if day == \"saturday\" or day == \"sunday\":\n",
    "        print(\"yes\")\n",
    "    else:\n",
    "        print(\"no\")\n",
    "\n",
    "day = input()\n",
    "check_holiday(day)"
   ]
  },
  {
   "cell_type": "markdown",
   "metadata": {},
   "source": [
    "### **39. Given a string S, print the reverse of the string.**\n",
    "\n",
    "Input Size : |s| <= 100000 (ie do it in O(n) or O(log n) time complexity)\n",
    "\n",
    "#### **Sample Testcase:**\n",
    "\n",
    "**INPUT**\n",
    "\n",
    "codekata\n",
    "\n",
    "**OUTPUT**\n",
    "\n",
    "atakedoc"
   ]
  },
  {
   "cell_type": "code",
   "execution_count": 43,
   "metadata": {},
   "outputs": [
    {
     "name": "stdout",
     "output_type": "stream",
     "text": [
      "atakedoc\n"
     ]
    }
   ],
   "source": [
    "def reverse_string(s):\n",
    "    reversed_s = s[::-1]  # Using Python's slicing to reverse the string\n",
    "    return reversed_s\n",
    "\n",
    "input_string = input()\n",
    "reversed_string = reverse_string(input_string)\n",
    "print(reversed_string)"
   ]
  },
  {
   "cell_type": "markdown",
   "metadata": {},
   "source": [
    "### **40. Given a string S, print 'yes' if it is a palindrome or 'no' if it is not a palindrome.**\n",
    "\n",
    "#### **Sample Testcase:**\n",
    "\n",
    "**INPUT**\n",
    "\n",
    "lappal\n",
    "\n",
    "**OUTPUT**\n",
    "\n",
    "yes"
   ]
  },
  {
   "cell_type": "code",
   "execution_count": 48,
   "metadata": {},
   "outputs": [
    {
     "name": "stdout",
     "output_type": "stream",
     "text": [
      "yes\n"
     ]
    }
   ],
   "source": [
    "def is_palindrome(s):\n",
    "    # Reverse the string\n",
    "    reversed_s = s[::-1]\n",
    "    \n",
    "    # Compare original string with reversed string\n",
    "    if s == reversed_s:\n",
    "        return \"yes\"\n",
    "    else:\n",
    "        return \"no\"\n",
    "\n",
    "a = input()      # a = 'lappal'\n",
    "result = is_palindrome(a)\n",
    "print(result)"
   ]
  },
  {
   "cell_type": "markdown",
   "metadata": {},
   "source": [
    "### **41. You are given two strings . Your task is to tell whether the pair of strings is panagram. A pair of strings are said to be panagram if they both are palindrome and are anagram of each other.**\n",
    "\n",
    "#### **Input Description:**\n",
    "\n",
    "You will be given two strings ‘s1’ and ‘s2’\n",
    "\n",
    "#### **Output Description:**\n",
    "\n",
    "Print 1 if they are panagram and 0 if they are not\n",
    "\n",
    "**Sample Input:**\n",
    "\n",
    "nitin intni\n",
    "\n",
    "**Sample Output:**\n",
    "\n",
    "1"
   ]
  },
  {
   "cell_type": "code",
   "execution_count": 49,
   "metadata": {},
   "outputs": [
    {
     "name": "stdout",
     "output_type": "stream",
     "text": [
      "1\n"
     ]
    }
   ],
   "source": [
    "def is_panagram(s1, s2):\n",
    "    # Function to check if a string is palindrome\n",
    "    def is_palindrome(s):\n",
    "        return s == s[::-1]\n",
    "    \n",
    "    # Function to check if two strings are anagrams\n",
    "    def is_anagram(s1, s2):\n",
    "        return sorted(s1) == sorted(s2)\n",
    "    \n",
    "    # Check if both strings are palindromes and anagrams\n",
    "    if is_palindrome(s1) and is_palindrome(s2) and is_anagram(s1, s2):\n",
    "        return 1\n",
    "    else:\n",
    "        return 0\n",
    "\n",
    "s1, s2 = input().split()        # s1 = 'nitin', s2 = 'intni'\n",
    "result = is_panagram(s1, s2)\n",
    "print(result)"
   ]
  },
  {
   "cell_type": "markdown",
   "metadata": {},
   "source": [
    "### **44. Given a binary number convert it to hexadecimal.**\n",
    "\n",
    "#### **Sample Testcase:**\n",
    "\n",
    "**INPUT**\n",
    "\n",
    "1100100\n",
    "\n",
    "**OUTPUT**\n",
    "\n",
    "64"
   ]
  },
  {
   "cell_type": "code",
   "execution_count": 50,
   "metadata": {},
   "outputs": [
    {
     "name": "stdout",
     "output_type": "stream",
     "text": [
      "64\n"
     ]
    }
   ],
   "source": [
    "def binary_to_hex(binary_string):\n",
    "    decimal_num = int(binary_string, 2)\n",
    "    hex_num = hex(decimal_num)\n",
    "    hex_num = hex_num[2:]\n",
    "    return hex_num.upper()\n",
    "\n",
    "binary_string = input()         # binary_string = '1100100'\n",
    "hexadecimal_result = binary_to_hex(binary_string)\n",
    "print(hexadecimal_result)"
   ]
  },
  {
   "cell_type": "markdown",
   "metadata": {},
   "source": [
    "### **45. You are given a string ‘S’ consisting of lowercase Latin Letters. Find the first non repeating character in S. If you find all the characters are repeating print the answer as -1**\n",
    "\n",
    "#### **Input Description:**\n",
    "\n",
    "You are given a string ‘s’\n",
    "\n",
    "#### **Output Description:**\n",
    "\n",
    "Print the first non occurring character if possible else -1.\n",
    "\n",
    "**Sample Input:**\n",
    "\n",
    "apple\n",
    "\n",
    "**Sample Output:**\n",
    "\n",
    "a"
   ]
  },
  {
   "cell_type": "code",
   "execution_count": 52,
   "metadata": {},
   "outputs": [
    {
     "name": "stdout",
     "output_type": "stream",
     "text": [
      "a\n"
     ]
    }
   ],
   "source": [
    "def first_non_repeating_char(s):\n",
    "    # Dictionary to store character frequencies\n",
    "    char_count = {}\n",
    "    \n",
    "    # Count frequencies of each character\n",
    "    for char in s:\n",
    "        if char in char_count:\n",
    "            char_count[char] += 1\n",
    "        else:\n",
    "            char_count[char] = 1\n",
    "    \n",
    "    # Find the first non-repeating character\n",
    "    for char in s:\n",
    "        if char_count[char] == 1:\n",
    "            return char\n",
    "    \n",
    "    # If no non-repeating character found\n",
    "    return -1\n",
    "\n",
    "input_string = input()\n",
    "result = first_non_repeating_char(input_string)\n",
    "print(result)"
   ]
  },
  {
   "cell_type": "markdown",
   "metadata": {},
   "source": [
    "### **46. Given 2 strings.check if the second string is a substring of the first string.Print 'yes' if there exists a valid substring otherwise print 'no'.**\n",
    "\n",
    "Input Size : 1 <= N <= 100000\n",
    "\n",
    "#### **Sample Testcase:**\n",
    "\n",
    "**INPUT**\n",
    "\n",
    "codekata code\n",
    "\n",
    "**OUTPUT**\n",
    "\n",
    "yes"
   ]
  },
  {
   "cell_type": "code",
   "execution_count": 55,
   "metadata": {},
   "outputs": [
    {
     "name": "stdout",
     "output_type": "stream",
     "text": [
      "yes\n"
     ]
    }
   ],
   "source": [
    "def check_substring(s1, s2):\n",
    "    if s2 in s1:\n",
    "        return \"yes\"\n",
    "    else:\n",
    "        return \"no\"\n",
    "\n",
    "s1, s2 = input().split()\n",
    "result = check_substring(s1, s2)\n",
    "print(result)"
   ]
  },
  {
   "cell_type": "code",
   "execution_count": 54,
   "metadata": {},
   "outputs": [
    {
     "name": "stdout",
     "output_type": "stream",
     "text": [
      "yes\n"
     ]
    }
   ],
   "source": [
    "def build_lps(pattern):\n",
    "    lps = [0] * len(pattern)\n",
    "    length = 0  # length of the previous longest prefix suffix\n",
    "    \n",
    "    i = 1\n",
    "    while i < len(pattern):\n",
    "        if pattern[i] == pattern[length]:\n",
    "            length += 1\n",
    "            lps[i] = length\n",
    "            i += 1\n",
    "        else:\n",
    "            if length != 0:\n",
    "                length = lps[length - 1]\n",
    "            else:\n",
    "                lps[i] = 0\n",
    "                i += 1\n",
    "    return lps\n",
    "\n",
    "def kmp_search(text, pattern):\n",
    "    \n",
    "    if not pattern:\n",
    "        return \"yes\"  # An empty pattern is considered to be found everywhere\n",
    "    \n",
    "    lps = build_lps(pattern)\n",
    "    \n",
    "    i = 0  # index for text[]\n",
    "    j = 0  # index for pattern[]\n",
    "    while i < len(text):\n",
    "        if pattern[j] == text[i]:\n",
    "            i += 1\n",
    "            j += 1\n",
    "        \n",
    "        if j == len(pattern):\n",
    "            return \"yes\"  # Found pattern at index (i-j)\n",
    "        \n",
    "        elif i < len(text) and pattern[j] != text[i]:\n",
    "            if j != 0:\n",
    "                j = lps[j - 1]\n",
    "            else:\n",
    "                i += 1\n",
    "    return \"no\"  # Pattern not found in text\n",
    "\n",
    "# Function to check if s2 is substring of s1\n",
    "def check_substring(s1, s2):\n",
    "    return kmp_search(s1, s2)\n",
    "\n",
    "s1, s2 = input().split()\n",
    "result = check_substring(s1, s2)\n",
    "print(result)"
   ]
  },
  {
   "cell_type": "markdown",
   "metadata": {},
   "source": [
    "### **47. Given a string S, print the 1st and 3rd character of the string (chracter index starts from 1).**\n",
    "\n",
    "Input Size : 1 <= N <= 100000\n",
    "\n",
    "#### **Sample Testcase:**\n",
    "\n",
    "**INPUT**\n",
    "\n",
    "codekata\n",
    "\n",
    "**OUTPUT**\n",
    "\n",
    "cd"
   ]
  },
  {
   "cell_type": "code",
   "execution_count": 56,
   "metadata": {},
   "outputs": [
    {
     "name": "stdout",
     "output_type": "stream",
     "text": [
      "cd\n"
     ]
    }
   ],
   "source": [
    "def extract_characters(s):\n",
    "    if len(s) >= 3:\n",
    "        first_char = s[0]  # 1st character (index 0 in Python)\n",
    "        third_char = s[2]  # 3rd character (index 2 in Python)\n",
    "        return first_char + third_char\n",
    "    else:\n",
    "        return \"Invalid input: String length should be at least 3.\"\n",
    "\n",
    "input_string = input()\n",
    "result = extract_characters(input_string)\n",
    "print(result)"
   ]
  },
  {
   "cell_type": "markdown",
   "metadata": {},
   "source": [
    "### **48. You are given a string ‘s’.Print all the duplicate characters of string.**\n",
    "\n",
    "#### **Input Description:**\n",
    "\n",
    "String ‘s; is given\n",
    "\n",
    "#### **Output Description:**\n",
    "\n",
    "Print only duplicate character and -1 if no character is duplicate.\n",
    "\n",
    "**Sample Input:**\n",
    "\n",
    "abcddee\n",
    "\n",
    "**Sample Output:**\n",
    "\n",
    "d e"
   ]
  },
  {
   "cell_type": "code",
   "execution_count": 57,
   "metadata": {},
   "outputs": [
    {
     "name": "stdout",
     "output_type": "stream",
     "text": [
      "d e\n"
     ]
    }
   ],
   "source": [
    "from collections import Counter\n",
    "\n",
    "def find_duplicates(s):\n",
    "    # Count occurrences of each character in the string\n",
    "    char_count = Counter(s)\n",
    "    \n",
    "    # Initialize a list to store duplicate characters\n",
    "    duplicates = []\n",
    "    \n",
    "    # Iterate through character counts\n",
    "    for char, count in char_count.items():\n",
    "        if count > 1:\n",
    "            duplicates.append(char)\n",
    "    \n",
    "    # If no duplicates found, return -1\n",
    "    if not duplicates:\n",
    "        return \"-1\"\n",
    "    \n",
    "    # Otherwise, return sorted list of duplicates as a string\n",
    "    return \" \".join(sorted(duplicates))\n",
    "\n",
    "input_string = input()\n",
    "result = find_duplicates(input_string)\n",
    "print(result)"
   ]
  },
  {
   "cell_type": "markdown",
   "metadata": {},
   "source": [
    "### **49. Given a string S.Validate if a given string is numeric.print 'yes' if it is a numeric otherwise print 'no'.**\n",
    "\n",
    "#### **Sample Testcase:**\n",
    "\n",
    "**INPUT**\n",
    "\n",
    "guvigeeks\n",
    "\n",
    "**OUTPUT**\n",
    "\n",
    "no"
   ]
  },
  {
   "cell_type": "code",
   "execution_count": 12,
   "metadata": {},
   "outputs": [
    {
     "name": "stdout",
     "output_type": "stream",
     "text": [
      "no\n"
     ]
    }
   ],
   "source": [
    "def is_numeric(S):\n",
    "    # Check if the string is numeric using isdigit()\n",
    "    return S.isdigit()\n",
    "\n",
    "S = input()                 # S = 'guvigeeks'\n",
    "\n",
    "# Validate if the string is numeric and print the result\n",
    "if is_numeric(S):\n",
    "    print('yes')\n",
    "else:\n",
    "    print('no')"
   ]
  },
  {
   "cell_type": "code",
   "execution_count": 58,
   "metadata": {},
   "outputs": [
    {
     "name": "stdout",
     "output_type": "stream",
     "text": [
      "no\n"
     ]
    }
   ],
   "source": [
    "def validate_numeric(s):\n",
    "    # Remove leading and trailing whitespace\n",
    "    s = s.strip()\n",
    "    \n",
    "    # Check if the string is numeric\n",
    "    if s:\n",
    "        # Check if all characters are digits (handling signs and decimal points)\n",
    "        if s[0] in ('+', '-') and len(s) > 1:\n",
    "            return s[1:].isdigit() or (s.count('.') == 1 and s[1:].replace('.', '', 1).isdigit())\n",
    "        else:\n",
    "            return s.isdigit() or (s.count('.') == 1 and s.replace('.', '', 1).isdigit())\n",
    "    else:\n",
    "        return False\n",
    "\n",
    "input_string = \"guvigeeks\"\n",
    "result = \"yes\" if validate_numeric(input_string) else \"no\"\n",
    "print(result)"
   ]
  },
  {
   "cell_type": "markdown",
   "metadata": {},
   "source": [
    "### **50. Given a string/sentence remove all the spaces and print the result.**\n",
    "\n",
    "Input Size : |s| <= 1000000(complexity O(n))\n",
    "\n",
    "#### **Sample Testcase:**\n",
    "\n",
    "**INPUT**\n",
    "\n",
    "guvi geeks\n",
    "\n",
    "**OUTPUT**\n",
    "\n",
    "guvigeeks"
   ]
  },
  {
   "cell_type": "code",
   "execution_count": 59,
   "metadata": {},
   "outputs": [
    {
     "name": "stdout",
     "output_type": "stream",
     "text": [
      "guvigeeks\n"
     ]
    }
   ],
   "source": [
    "def remove_spaces(s):\n",
    "    return s.replace(\" \", \"\")\n",
    "\n",
    "input_string = input()\n",
    "result = remove_spaces(input_string)\n",
    "print(result)"
   ]
  },
  {
   "cell_type": "markdown",
   "metadata": {},
   "source": [
    "### **51. Given 2 numbers n and m, n pairs of numbers a and b are given. In each pair 'a' means a person can start moving from point 'a' in the x axis to point 'b'(he can visit any point in between). Find if he can visit point m.**\n",
    "\n",
    "#### **Sample Testcase:**\n",
    "\n",
    "**INPUT**\n",
    "\n",
    "3 5\n",
    "\n",
    "0 2\n",
    "\n",
    "2 4\n",
    "\n",
    "3 5\n",
    "\n",
    "**OUTPUT**\n",
    "\n",
    "yes"
   ]
  },
  {
   "cell_type": "code",
   "execution_count": 14,
   "metadata": {},
   "outputs": [
    {
     "name": "stdout",
     "output_type": "stream",
     "text": [
      "yes\n"
     ]
    }
   ],
   "source": [
    "from collections import deque, defaultdict\n",
    "\n",
    "def can_visit_point(n, m, pairs):\n",
    "    # Create adjacency list\n",
    "    graph = defaultdict(list)\n",
    "    for a, b in pairs:\n",
    "        graph[a].append(b)\n",
    "    \n",
    "    # Use BFS to check if we can reach `m`\n",
    "    queue = deque([point for point, _ in pairs])\n",
    "    visited = set()\n",
    "    \n",
    "    while queue:\n",
    "        current = queue.popleft()\n",
    "        if current == m:\n",
    "            return \"yes\"\n",
    "        if current not in visited:\n",
    "            visited.add(current)\n",
    "            for neighbor in graph[current]:\n",
    "                if neighbor not in visited:\n",
    "                    queue.append(neighbor)\n",
    "    return \"no\"\n",
    "\n",
    "n, m = map(int, input().split())                                # n = 3, m = 5\n",
    "pairs = [tuple(map(int, input().split())) for _ in range(n)]    # pairs = [(0, 2) (2, 4) (3, 5)]\n",
    "print(can_visit_point(n, m, pairs))"
   ]
  },
  {
   "cell_type": "code",
   "execution_count": 7,
   "metadata": {},
   "outputs": [
    {
     "name": "stdout",
     "output_type": "stream",
     "text": [
      "yes\n"
     ]
    }
   ],
   "source": [
    "def can_reach_point_m(n, m, intervals):\n",
    "    # Sort intervals by their starting point (and by ending point if starting points are the same)\n",
    "    intervals.sort(key=lambda x: (x[0], x[1]))\n",
    "    \n",
    "    # Initialize the merged intervals list\n",
    "    merged_intervals = []\n",
    "    \n",
    "    # Merge overlapping intervals\n",
    "    for interval in intervals:\n",
    "        if not merged_intervals or merged_intervals[-1][1] < interval[0]:\n",
    "            # No overlap with the last interval in merged_intervals, add the new interval\n",
    "            merged_intervals.append(interval)\n",
    "        else:\n",
    "            # There is an overlap, merge the intervals\n",
    "            merged_intervals[-1][1] = max(merged_intervals[-1][1], interval[1])\n",
    "    \n",
    "    # Check if point m is covered by any of the merged intervals\n",
    "    for start, end in merged_intervals:\n",
    "        if start <= m <= end:\n",
    "            return \"yes\"\n",
    "    \n",
    "    return \"no\"\n",
    "\n",
    "# Test the function with the given testcase\n",
    "n, m = map(int, input().split())\n",
    "intervals = [[0, 2], [2, 4], [3, 5]]\n",
    "print(can_reach_point_m(n, m, intervals))"
   ]
  },
  {
   "cell_type": "markdown",
   "metadata": {},
   "source": [
    "### **52. Given a input string S, reverse the given string by appending each character of the string with '-'.**\n",
    "\n",
    "Input Size : |S| <= 100000\n",
    "\n",
    "**Sample Testcase:**\n",
    "\n",
    "**INPUT**\n",
    "\n",
    "codekata\n",
    "\n",
    "**OUTPUT**\n",
    "\n",
    "a-t-a-k-e-d-o-c"
   ]
  },
  {
   "cell_type": "code",
   "execution_count": 8,
   "metadata": {},
   "outputs": [
    {
     "name": "stdout",
     "output_type": "stream",
     "text": [
      "a-t-a-k-e-d-o-c\n"
     ]
    }
   ],
   "source": [
    "def reverse_and_append_dash(s):\n",
    "    # Reverse the string\n",
    "    reversed_s = s[::-1]\n",
    "    # Join each character with a '-'\n",
    "    result = '-'.join(reversed_s)\n",
    "    return result\n",
    "\n",
    "# Read input string S\n",
    "S = input().strip()\n",
    "\n",
    "# Get the result\n",
    "result = reverse_and_append_dash(S)\n",
    "\n",
    "# Print the result\n",
    "print(result)"
   ]
  },
  {
   "cell_type": "markdown",
   "metadata": {},
   "source": [
    "### **53. Given a number N and an array of N strings, find if two consecutive words are same.**\n",
    "\n",
    "Input Size : N <= 1000\n",
    "\n",
    "**Sample Testcase:**\n",
    "\n",
    "**INPUT**\n",
    "\n",
    "5\n",
    "\n",
    "code\n",
    "\n",
    "overload\n",
    "\n",
    "vishal\n",
    "\n",
    "sundar\n",
    "\n",
    "anish\n",
    "\n",
    "**OUTPUT**\n",
    "\n",
    "no"
   ]
  },
  {
   "cell_type": "code",
   "execution_count": 12,
   "metadata": {},
   "outputs": [
    {
     "name": "stdout",
     "output_type": "stream",
     "text": [
      "no\n"
     ]
    }
   ],
   "source": [
    "def check_consecutive_words(n, words):\n",
    "    for i in range(n - 1):\n",
    "        if words[i] == words[i + 1]:\n",
    "            return \"yes\"\n",
    "    return \"no\"\n",
    "\n",
    "n = int(input())\n",
    "words = [input().strip() for _ in range(n)]\n",
    "\n",
    "result = check_consecutive_words(n, words)\n",
    "print(result)"
   ]
  },
  {
   "cell_type": "markdown",
   "metadata": {},
   "source": [
    "### **54. Given 2 numbers N,K and an array of N strings, find if any K consecutive strings are same.**\n",
    "\n",
    "Input Size : K <= N <= 1000\n",
    "\n",
    "**Sample Testcase:**\n",
    "\n",
    "**INPUT**\n",
    "\n",
    "5 3\n",
    "\n",
    "code\n",
    "\n",
    "overload\n",
    "\n",
    "vishal\n",
    "\n",
    "vishal\n",
    "\n",
    "vishal\n",
    "\n",
    "**OUTPUT**\n",
    "\n",
    "yes"
   ]
  },
  {
   "cell_type": "code",
   "execution_count": 13,
   "metadata": {},
   "outputs": [
    {
     "name": "stdout",
     "output_type": "stream",
     "text": [
      "yes\n"
     ]
    }
   ],
   "source": [
    "def check_k_consecutive_strings(n, k, words):\n",
    "    for i in range(n - k + 1):\n",
    "        if all(words[j] == words[i] for j in range(i, i + k)):\n",
    "            return \"yes\"\n",
    "    return \"no\"\n",
    "\n",
    "# Read input values\n",
    "n, k = map(int, input().split())\n",
    "words = [input().strip() for _ in range(n)]\n",
    "\n",
    "# Get the result\n",
    "result = check_k_consecutive_strings(n, k, words)\n",
    "\n",
    "# Print the result\n",
    "print(result)"
   ]
  },
  {
   "cell_type": "markdown",
   "metadata": {},
   "source": [
    "### **55. Given 2 strings S,X. Print the string after deleting X.If X not found print the same string.**\n",
    "\n",
    "Input Size : 1 <= |s|, |x| <= 1000\n",
    "\n",
    "#### **Sample Testcase:**\n",
    "\n",
    "**INPUT**\n",
    "\n",
    "Happy Birthday\n",
    "\n",
    "Happy\n",
    "\n",
    "**OUTPUT**\n",
    "\n",
    "Birthday"
   ]
  },
  {
   "cell_type": "code",
   "execution_count": null,
   "metadata": {},
   "outputs": [],
   "source": [
    "def delete_substring(s, x):\n",
    "    # Remove all occurrences of substring `x` from string `s`\n",
    "    result = s.replace(x, '')\n",
    "    return result\n",
    "\n",
    "# Read input\n",
    "s = input().strip()\n",
    "x = input().strip()\n",
    "\n",
    "# Get the result after deleting `x` from `s`\n",
    "result = delete_substring(s, x)\n",
    "\n",
    "# Print the result\n",
    "print(result)"
   ]
  },
  {
   "cell_type": "code",
   "execution_count": 14,
   "metadata": {},
   "outputs": [
    {
     "name": "stdout",
     "output_type": "stream",
     "text": [
      " Birthday\n"
     ]
    }
   ],
   "source": [
    "def remove_substring(s, x):\n",
    "    if x in s:\n",
    "        return s.replace(x, '', 1)  # Remove only the first occurrence of x\n",
    "    return s\n",
    "\n",
    "S = input().strip()     # Happy Birthday\n",
    "X = input().strip()     # Happy\n",
    "\n",
    "result = remove_substring(S, X)\n",
    "print(result)"
   ]
  },
  {
   "cell_type": "markdown",
   "metadata": {},
   "source": [
    "### **56. Given 2 strings S,X. Print the string after deleting X.If X not found print the same string.**\n",
    "\n",
    "Input Size : 1 <= |s|, |x| <= 1000\n",
    "\n",
    "**Sample Testcase:**\n",
    "\n",
    "**INPUT**\n",
    "\n",
    "Happy Birthday\n",
    "\n",
    "Happy\n",
    "\n",
    "**OUTPUT**\n",
    "\n",
    "Birthday"
   ]
  },
  {
   "cell_type": "code",
   "execution_count": 15,
   "metadata": {},
   "outputs": [
    {
     "name": "stdout",
     "output_type": "stream",
     "text": [
      "r g\n"
     ]
    }
   ],
   "source": [
    "def print_every_kth_char(s, k):\n",
    "    # Print every k-th character from the beginning\n",
    "    result = []\n",
    "    for i in range(k-1, len(s), k):\n",
    "        result.append(s[i])\n",
    "    print(' '.join(result))\n",
    "\n",
    "s = input().strip()\n",
    "k = int(input().strip())\n",
    "print_every_kth_char(s, k)"
   ]
  },
  {
   "cell_type": "markdown",
   "metadata": {},
   "source": [
    "### **57. Given 2 strings,check whether they have any common characters.If found print 'yes' else print 'no'.**\n",
    "\n",
    "Input Size : |s| <= 100000(O(n))\n",
    "\n",
    "Sample Testcase :\n",
    "\n",
    "**INPUT**\n",
    "\n",
    "guvi guvigeeks\n",
    "\n",
    "**OUTPUT**\n",
    "\n",
    "yes"
   ]
  },
  {
   "cell_type": "code",
   "execution_count": 22,
   "metadata": {},
   "outputs": [
    {
     "name": "stdout",
     "output_type": "stream",
     "text": [
      "yes\n"
     ]
    }
   ],
   "source": [
    "# Read input strings and split by space\n",
    "a = input().split(\" \")\n",
    "\n",
    "# Convert each string into a list of characters\n",
    "b = list(a[0])\n",
    "c = list(a[1])\n",
    "\n",
    "# Initialize a counter and an empty list to store common characters\n",
    "m = 0\n",
    "d = []\n",
    "\n",
    "# Determine the length of the smaller list\n",
    "if len(b) < len(c):\n",
    "    m = len(b)\n",
    "else:\n",
    "    m = len(c)\n",
    "\n",
    "# Check for common characters\n",
    "for i in range(m):\n",
    "    if b[i] in c:\n",
    "        d.append(b[i])\n",
    "\n",
    "if d:\n",
    "    print(\"yes\")\n",
    "else:\n",
    "    print(\"no\")"
   ]
  },
  {
   "cell_type": "code",
   "execution_count": 21,
   "metadata": {},
   "outputs": [
    {
     "name": "stdout",
     "output_type": "stream",
     "text": [
      "yes\n"
     ]
    }
   ],
   "source": [
    "def have_common_characters(s1, s2):\n",
    "    # Convert both strings to sets of characters\n",
    "    set1 = set(s1)\n",
    "    set2 = set(s2)\n",
    "    \n",
    "    # Check if there is any intersection\n",
    "    if set1 & set2:\n",
    "        return 'yes'\n",
    "    else:\n",
    "        return 'no'\n",
    "\n",
    "s1, s2 = input().split()\n",
    "print(have_common_characters(s1, s2))"
   ]
  },
  {
   "cell_type": "markdown",
   "metadata": {},
   "source": [
    "### **58. Given a number N, find the number of ones in its binary representation.**\n",
    "\n",
    "Sample Testcase :\n",
    "\n",
    "**INPUT**\n",
    "\n",
    "276\n",
    "\n",
    "**OUTPUT**\n",
    "\n",
    "3"
   ]
  },
  {
   "cell_type": "markdown",
   "metadata": {},
   "source": [
    "#### **Logic:**\n",
    "\n",
    "bin(N) --> converts the number N to its binary representation as a string prefixed with '0b'.\n",
    "\n",
    "[2:] --> removes the '0b' prefix.\n",
    "\n",
    "binary_representation.count('1') ---> counts the number of '1's in the binary string.\n",
    "\n",
    "For the given input value of 276, the binary representation is 100010100, which contains three '1's. Thus, the output is 3."
   ]
  },
  {
   "cell_type": "code",
   "execution_count": 1,
   "metadata": {},
   "outputs": [
    {
     "name": "stdout",
     "output_type": "stream",
     "text": [
      "3\n"
     ]
    }
   ],
   "source": [
    "def count_ones_in_binary(N):\n",
    "    # Convert the number to binary and remove the '0b' prefix\n",
    "    binary_representation = bin(N)[2:]\n",
    "    # Count the number of ones\n",
    "    number_of_ones = binary_representation.count('1')\n",
    "    return number_of_ones\n",
    "\n",
    "N = int(input())\n",
    "print(count_ones_in_binary(N))"
   ]
  },
  {
   "cell_type": "markdown",
   "metadata": {},
   "source": [
    "### **59. Given a binary number convert it into octal format.**\n",
    "\n",
    "Sample Testcase :\n",
    "\n",
    "**INPUT**\n",
    "\n",
    "1100100\n",
    "\n",
    "**OUTPUT**\n",
    "\n",
    "144"
   ]
  },
  {
   "cell_type": "code",
   "execution_count": 2,
   "metadata": {},
   "outputs": [
    {
     "name": "stdout",
     "output_type": "stream",
     "text": [
      "144\n"
     ]
    }
   ],
   "source": [
    "def binary_to_octal(binary_str):\n",
    "    # Pad the binary string with leading zeros to make its length a multiple of 3\n",
    "    padded_binary_str = binary_str.zfill(len(binary_str) + (3 - len(binary_str) % 3) % 3)\n",
    "    \n",
    "    # Initialize an empty string for the octal number\n",
    "    octal_str = \"\"\n",
    "    \n",
    "    # Group the binary string into sets of three and convert each group to octal\n",
    "    for i in range(0, len(padded_binary_str), 3):\n",
    "        # Take three binary digits\n",
    "        binary_group = padded_binary_str[i : i+3]\n",
    "        # Convert the binary group to an octal digit and append to the octal string\n",
    "        octal_str += str(int(binary_group, 2))\n",
    "    \n",
    "    return octal_str\n",
    "\n",
    "binary_input = input()                  # bin_input = '1100100'\n",
    "print(binary_to_octal(binary_input))"
   ]
  },
  {
   "cell_type": "markdown",
   "metadata": {},
   "source": [
    "### **60. A number is given as input.Find the maximum number that can be formed using the digits.**\n",
    "\n",
    "Input Size : N <= 10000000\n",
    "\n",
    "Sample Testcase :\n",
    "\n",
    "**INPUT**\n",
    "\n",
    "4123\n",
    "\n",
    "**OUTPUT**\n",
    "\n",
    "4321"
   ]
  },
  {
   "cell_type": "code",
   "execution_count": null,
   "metadata": {},
   "outputs": [],
   "source": [
    "def max_number_from_digits(N):\n",
    "    # Convert the number to a string to work with the digits\n",
    "    str_N = str(N)\n",
    "    # Sort the digits in descending order\n",
    "    sorted_digits = sorted(str_N, reverse=True)\n",
    "    # Join the sorted digits to form the maximum number\n",
    "    max_number_str = ''.join(sorted_digits)\n",
    "    # Convert the result back to an integer\n",
    "    max_number = int(max_number_str)\n",
    "    return max_number\n",
    "\n",
    "input_number = int(input())\n",
    "print(max_number_from_digits(input_number))"
   ]
  },
  {
   "cell_type": "markdown",
   "metadata": {},
   "source": [
    "### **61. Given a string S, print 'yes' if the strings 'GUVI' and 'GEEK' is present case-sensitively in the string else print 'no'.**\n",
    "\n",
    "Input Size : 1 <= 100\n",
    "\n",
    "Sample Testcase :\n",
    "\n",
    "**INPUT**\n",
    "\n",
    "Vishal_Sundar prepared this question\n",
    "\n",
    "**OUTPUT**\n",
    "\n",
    "no"
   ]
  },
  {
   "cell_type": "code",
   "execution_count": 6,
   "metadata": {},
   "outputs": [
    {
     "name": "stdout",
     "output_type": "stream",
     "text": [
      "no\n"
     ]
    }
   ],
   "source": [
    "def check_strings(S):\n",
    "    if \"GUVI\" in S and \"GEEK\" in S:\n",
    "        return 'yes'\n",
    "    else:\n",
    "        return 'no'\n",
    "\n",
    "S = input()             # S = 'Vishal_Sundar prepared this question'\n",
    "print(check_strings(S))"
   ]
  },
  {
   "cell_type": "markdown",
   "metadata": {},
   "source": [
    "### **62. Given a number N and an array of N strings,Print yes, if all strings have atleast one vowel in them otherwise print no.**\n",
    "\n",
    "Input Size : N <= 1000\n",
    "\n",
    "Sample Testcase :\n",
    "\n",
    "**INPUT**\n",
    "\n",
    "5\n",
    "code\n",
    "overload\n",
    "vishal\n",
    "sundar\n",
    "anish\n",
    "\n",
    "**OUTPUT**\n",
    "\n",
    "yes"
   ]
  },
  {
   "cell_type": "code",
   "execution_count": 7,
   "metadata": {},
   "outputs": [
    {
     "name": "stdout",
     "output_type": "stream",
     "text": [
      "yes\n"
     ]
    }
   ],
   "source": [
    "def contains_vowel(s):\n",
    "    vowels = \"aeiouAEIOU\"\n",
    "    for char in s:\n",
    "        if char in vowels:\n",
    "            return True\n",
    "    return False\n",
    "\n",
    "def check_all_strings_have_vowels(N, strings):\n",
    "    for string in strings:\n",
    "        if not contains_vowel(string):\n",
    "            return \"no\"\n",
    "    return \"yes\"\n",
    "\n",
    "N = int(input())\n",
    "strings = [input().strip() for _ in range(N)]\n",
    "print(check_all_strings_have_vowels(N, strings))"
   ]
  },
  {
   "cell_type": "markdown",
   "metadata": {},
   "source": [
    "### **63. Given a string S of length N, reverse the case of each letter.**\n",
    "\n",
    "Input Size : N <= 100\n",
    "\n",
    "Sample Testcase :\n",
    "\n",
    "**INPUT**\n",
    "\n",
    "HeLlo\n",
    "\n",
    "**OUTPUT**\n",
    "\n",
    "hElLO"
   ]
  },
  {
   "cell_type": "code",
   "execution_count": 8,
   "metadata": {},
   "outputs": [
    {
     "name": "stdout",
     "output_type": "stream",
     "text": [
      "hElLO\n"
     ]
    }
   ],
   "source": [
    "S = input().swapcase()\n",
    "print(S)"
   ]
  },
  {
   "cell_type": "code",
   "execution_count": 9,
   "metadata": {},
   "outputs": [
    {
     "name": "stdout",
     "output_type": "stream",
     "text": [
      "hElLO\n"
     ]
    }
   ],
   "source": [
    "# Use swapcase() to reverse the case of each letter\n",
    "def reverse_case(S):\n",
    "    return S.swapcase()\n",
    "\n",
    "S = input()\n",
    "\n",
    "# reversing the case\n",
    "result = reverse_case(S)\n",
    "print(result)"
   ]
  },
  {
   "cell_type": "markdown",
   "metadata": {},
   "source": [
    "### **65. Given a string S, retain the character(s) once irrespective of number of times it occurs in the given string.**\n",
    "\n",
    "Input Size : |S| <= 100000\n",
    "\n",
    "Sample Testcase :\n",
    "\n",
    "**INPUT**\n",
    "\n",
    "aabbaa\n",
    "\n",
    "**OUTPUT**\n",
    "\n",
    "ab"
   ]
  },
  {
   "cell_type": "markdown",
   "metadata": {},
   "source": [
    "### **Logic:**\n",
    "\n",
    "**Set seen:**\n",
    "\n",
    "This set keeps track of characters that have already been encountered. It ensures that each character is added only once.\n",
    "\n",
    "**List result:**\n",
    "\n",
    "This list accumulates characters in the order they first appear in the input string.\n",
    "\n",
    "**Loop Through String:**\n",
    "\n",
    "For each character in the string S, check if it is in the seen set.\n",
    "If not, add it to both the seen set and the result list.\n",
    "\n",
    "**Build Result String:**\n",
    "\n",
    "After processing all characters, join the list into a string and return it."
   ]
  },
  {
   "cell_type": "code",
   "execution_count": 11,
   "metadata": {},
   "outputs": [
    {
     "name": "stdout",
     "output_type": "stream",
     "text": [
      "ab\n"
     ]
    }
   ],
   "source": [
    "def retain_unique_chars(S):\n",
    "    seen = set()  # To track characters we've added\n",
    "    result = []  # To store the final characters\n",
    "\n",
    "    for char in S:\n",
    "        if char not in seen:\n",
    "            seen.add(char)\n",
    "            result.append(char)\n",
    "    return ''.join(result)\n",
    "\n",
    "S = input()                      # S = 'aabbaa'\n",
    "result = retain_unique_chars(S)\n",
    "print(result)"
   ]
  }
 ],
 "metadata": {
  "kernelspec": {
   "display_name": "Python 3",
   "language": "python",
   "name": "python3"
  },
  "language_info": {
   "codemirror_mode": {
    "name": "ipython",
    "version": 3
   },
   "file_extension": ".py",
   "mimetype": "text/x-python",
   "name": "python",
   "nbconvert_exporter": "python",
   "pygments_lexer": "ipython3",
   "version": "3.12.4"
  }
 },
 "nbformat": 4,
 "nbformat_minor": 2
}
