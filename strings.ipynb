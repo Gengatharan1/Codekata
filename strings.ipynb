{
 "cells": [
  {
   "cell_type": "markdown",
   "metadata": {},
   "source": [
    "#### **1. You are given two numbers. Your task is to multiply the two numbers and print the answer.**\n",
    "\n",
    "**Input Description:**\n",
    "\n",
    "You are given two numbers ‘n’ and ‘m’.\n",
    "\n",
    "**Output Description:**\n",
    "\n",
    "Print the multiplied answer\n",
    "\n",
    "Sample Input :\n",
    "\n",
    "99999 99998\n",
    "\n",
    "Sample Output :\n",
    "\n",
    "9999700002"
   ]
  },
  {
   "cell_type": "code",
   "execution_count": 1,
   "metadata": {},
   "outputs": [
    {
     "name": "stdout",
     "output_type": "stream",
     "text": [
      "9999700002\n"
     ]
    }
   ],
   "source": [
    "a,b = map(int, input().split())\n",
    "print(a*b)"
   ]
  },
  {
   "cell_type": "code",
   "execution_count": 4,
   "metadata": {},
   "outputs": [
    {
     "name": "stdout",
     "output_type": "stream",
     "text": [
      "9999700002\n"
     ]
    }
   ],
   "source": [
    "n=list(map(str,input().split()))\n",
    "\n",
    "print(int(n[0])*int(n[1]))"
   ]
  },
  {
   "cell_type": "markdown",
   "metadata": {},
   "source": [
    "### **2. You are given a number with duplicate digits your task is to remove the immediate duplicate digits and print the result**\n",
    "\n",
    "**Input Description:**\n",
    "\n",
    "You are given a long string of digits\n",
    "\n",
    "**Output Description:**\n",
    "\n",
    "Print the desired result print -1 if result length is 0\n",
    "\n",
    "Sample Input :\n",
    "\n",
    "1331\n",
    "\n",
    "Sample Output :\n",
    "\n",
    "11"
   ]
  },
  {
   "cell_type": "code",
   "execution_count": 5,
   "metadata": {},
   "outputs": [
    {
     "name": "stdout",
     "output_type": "stream",
     "text": [
      "11\n"
     ]
    }
   ],
   "source": [
    "def remove_immediate_duplicates(digits):\n",
    "    original = []\n",
    "    ans = []\n",
    "    \n",
    "    for digit in digits:\n",
    "        if original and original[-1] == digit:\n",
    "            if ans and ans[-1] == digit: ans.pop()\n",
    "        else:\n",
    "            ans.append(digit)\n",
    "            \n",
    "        original.append(digit)\n",
    "    \n",
    "    if ans:\n",
    "        return ''.join(ans)\n",
    "    else:\n",
    "        return '-1'\n",
    "\n",
    "# Sample Input\n",
    "input_digits = input()\n",
    "# Output the result\n",
    "print(remove_immediate_duplicates(input_digits))"
   ]
  },
  {
   "cell_type": "markdown",
   "metadata": {},
   "source": [
    "#### **3. In XYZ country there is rule that car’s engine no. depends upon car’ number plate. Engine no is sum of all the integers present on car’s Number plate.The issuing authority has hired you in order to provide engine no. to the cars.Your task is to develop an algorithm which takes input as in form of string(Number plate) and gives back**\n",
    "\n",
    "Engine number.\n",
    "\n",
    "**Input Description:**\n",
    "\n",
    "You are given a string ’s’\n",
    "\n",
    "**Output Description:**\n",
    "\n",
    "Print the engine number\n",
    "\n",
    "Sample Input :\n",
    "\n",
    "HR05-AA-2669\n",
    "\n",
    "Sample Output :\n",
    "\n",
    "28"
   ]
  },
  {
   "cell_type": "code",
   "execution_count": 2,
   "metadata": {},
   "outputs": [
    {
     "name": "stdout",
     "output_type": "stream",
     "text": [
      "28\n"
     ]
    }
   ],
   "source": [
    "def calculate_engine_number(plate):\n",
    "    # Initialize the sum to 0\n",
    "    total = 0\n",
    "    # Iterate through each character in the string\n",
    "    for char in plate:\n",
    "        # Check if the character is a digit\n",
    "        if char.isdigit():\n",
    "            # Convert the digit character to an integer and add it to the total\n",
    "            total += int(char)\n",
    "    return total\n",
    "\n",
    "# Sample Input\n",
    "input_plate = input()           # input_plate = \"HR05-AA-2669\"\n",
    "\n",
    "# Calculate the engine number\n",
    "engine_number = calculate_engine_number(input_plate)\n",
    "\n",
    "# Output the result\n",
    "print(engine_number)"
   ]
  },
  {
   "cell_type": "markdown",
   "metadata": {},
   "source": [
    "#### **4. Rahul is given a task to manipulate a string, He hired you as a developer your task is to delete all the repeating characters and print the result left.**\n",
    "\n",
    "**Input Description:**\n",
    "\n",
    "You are given a string ‘s’\n",
    "\n",
    "**Output Description:**\n",
    "\n",
    "Print the remaining string\n",
    "\n",
    "Sample Input :\n",
    "\n",
    "mississipie\n",
    "\n",
    "Sample Output :\n",
    "\n",
    "mpe"
   ]
  },
  {
   "cell_type": "code",
   "execution_count": 3,
   "metadata": {},
   "outputs": [
    {
     "name": "stdout",
     "output_type": "stream",
     "text": [
      "mpe\n"
     ]
    }
   ],
   "source": [
    "def remove_repeating_characters(s):\n",
    "    # Create a dictionary to count occurrences of each character\n",
    "    char_count = {}\n",
    "    \n",
    "    # Populate the dictionary with character counts\n",
    "    for char in s:\n",
    "        if char in char_count:\n",
    "            char_count[char] += 1\n",
    "        else:\n",
    "            char_count[char] = 1\n",
    "            \n",
    "    # Create a result string with characters that appear only once\n",
    "    result = ''.join([char for char in s if char_count[char] == 1])\n",
    "    return result\n",
    "input_string = input()              # input_string = mississipie\n",
    "output_string = remove_repeating_characters(input_string)\n",
    "print(output_string)"
   ]
  },
  {
   "cell_type": "markdown",
   "metadata": {},
   "source": [
    "#### **5. Radha newly learnt about palindromic strings.A palindromic string is a string which is same when read from left to right and also from right to left.Help her in implementing the logic.**\n",
    "\n",
    "**Input Description:**\n",
    "\n",
    "You are given a String ‘s’\n",
    "\n",
    "**Output Description:**\n",
    "\n",
    "Print 1 if String is palindrome or 0 if not\n",
    "\n",
    "Sample Input :\n",
    "\n",
    "NITIN\n",
    "\n",
    "Sample Output :\n",
    "\n",
    "1"
   ]
  },
  {
   "cell_type": "code",
   "execution_count": 4,
   "metadata": {},
   "outputs": [
    {
     "name": "stdout",
     "output_type": "stream",
     "text": [
      "1\n"
     ]
    }
   ],
   "source": [
    "a = input()\n",
    "if a == a[::-1]:\n",
    "    print(1)\n",
    "else:\n",
    "    print(0)"
   ]
  },
  {
   "cell_type": "markdown",
   "metadata": {},
   "source": [
    "#### **6. Given a string S, print it without using semicolon in your program.**\n",
    "\n",
    "Sample Testcase :\n",
    "\n",
    "INPUT :\n",
    "\n",
    "hello world\n",
    "\n",
    "OUTPUT :\n",
    "\n",
    "hello world"
   ]
  },
  {
   "cell_type": "code",
   "execution_count": 5,
   "metadata": {},
   "outputs": [
    {
     "name": "stdout",
     "output_type": "stream",
     "text": [
      "hello world\n"
     ]
    }
   ],
   "source": [
    "S = input()\n",
    "print(S)"
   ]
  },
  {
   "cell_type": "markdown",
   "metadata": {},
   "source": [
    "#### **7. You are given a string. You have to print “Wonder” if the string is wonderful and -1 if it is not. A wonderful string is a string,which is made up of exactly 3 different characters.**\n",
    "\n",
    "**Input Description:**\n",
    "\n",
    "You are given a string\n",
    "\n",
    "**Output Description:**\n",
    "\n",
    "Print “Wonder” if it is wonderful and -1 if it is not\n",
    "\n",
    "Sample Input :\n",
    "\n",
    "aabbcc\n",
    "\n",
    "Sample Output :\n",
    "\n",
    "Wonder"
   ]
  },
  {
   "cell_type": "code",
   "execution_count": 6,
   "metadata": {},
   "outputs": [
    {
     "name": "stdout",
     "output_type": "stream",
     "text": [
      "Wonder\n"
     ]
    }
   ],
   "source": [
    "# Read input string\n",
    "input_string = input()\n",
    "\n",
    "# Find the unique characters in the string\n",
    "unique_characters = set(input_string)\n",
    "\n",
    "# Check if the number of unique characters is exactly 3\n",
    "if len(unique_characters) == 3:\n",
    "    print(\"Wonder\")\n",
    "else:\n",
    "    print(-1)"
   ]
  },
  {
   "cell_type": "markdown",
   "metadata": {},
   "source": [
    "#### **8. Given a string 'S' print the sum of weight of the String. A weight of character is defined as the ASCII value of corresponding character.**\n",
    "\n",
    "**Input Description:**\n",
    "\n",
    "You are given a string ‘s’\n",
    "\n",
    "**Output Description:**\n",
    "\n",
    "Print weight\n",
    "\n",
    "Sample Input :\n",
    "\n",
    "abc\n",
    "\n",
    "Sample Output :\n",
    "\n",
    "294"
   ]
  },
  {
   "cell_type": "code",
   "execution_count": 12,
   "metadata": {},
   "outputs": [
    {
     "name": "stdout",
     "output_type": "stream",
     "text": [
      "294\n"
     ]
    }
   ],
   "source": [
    "# Read the input string\n",
    "s = input()\n",
    "\n",
    "# Initialize the sum of ASCII values\n",
    "total_weight = 0\n",
    "\n",
    "# Iterate through each character in the string\n",
    "for char in s:\n",
    "    # Add the ASCII value of the character to the total weight\n",
    "    total_weight += ord(char)\n",
    "\n",
    "# Print the total weight\n",
    "print(total_weight)"
   ]
  },
  {
   "cell_type": "markdown",
   "metadata": {},
   "source": [
    "#### **9. You are given a ‘true’ string. String is called true if weight of string is multiple of 8. Your task is to tell whether a string can be declared True or Not. Weight of string is the sum of ASCII value of Vowel character(s) present in the string.**\n",
    "\n",
    "**Input Description:**\n",
    "\n",
    "You are given as string ‘s’ in lower cases\n",
    "\n",
    "**Output Description:**\n",
    "\n",
    "Print 1 for true and 0 for false\n",
    "\n",
    "Sample Input :\n",
    "\n",
    "raja\n",
    "\n",
    "Sample Output :\n",
    "\n",
    "0"
   ]
  },
  {
   "cell_type": "code",
   "execution_count": 13,
   "metadata": {},
   "outputs": [
    {
     "name": "stdout",
     "output_type": "stream",
     "text": [
      "0\n"
     ]
    }
   ],
   "source": [
    "# Read the input string\n",
    "s = input()\n",
    "\n",
    "# Define the set of vowels\n",
    "vowels = {'a', 'e', 'i', 'o', 'u'}\n",
    "\n",
    "# Initialize the sum of ASCII values of vowels\n",
    "sum_of_vowels = 0\n",
    "\n",
    "# Iterate through each character in the string\n",
    "for char in s:\n",
    "    if char in vowels:\n",
    "        sum_of_vowels += ord(char)\n",
    "\n",
    "# Check if the sum of vowels' ASCII values is a multiple of 8\n",
    "if sum_of_vowels % 8 == 0:\n",
    "    print(1)\n",
    "else:\n",
    "    print(0)"
   ]
  },
  {
   "cell_type": "markdown",
   "metadata": {},
   "source": [
    "#### **10. Write a program to get a string S, Type of conversion (1 - Convert to Lowercase, 2 - Convert to Uppercase) T, and integer P . Convert the case of the letters in the positions which are multiples of P.(1 based indexing).**\n",
    "\n",
    "**Input Description:**\n",
    "Given a string S, Type of conversion T, and integer P\n",
    "\n",
    "**Output Description:**\n",
    "Convert the case of the letters and print the string\n",
    "\n",
    "Sample Input :\n",
    "\n",
    "ProFiLe\n",
    "\n",
    "1\n",
    "\n",
    "2\n",
    "\n",
    "Sample Output :\n",
    "\n",
    "Profile"
   ]
  },
  {
   "cell_type": "code",
   "execution_count": 15,
   "metadata": {},
   "outputs": [
    {
     "name": "stdout",
     "output_type": "stream",
     "text": [
      "Profile\n"
     ]
    }
   ],
   "source": [
    "# Read the input string\n",
    "S = input()\n",
    "\n",
    "# Read the type of conversion\n",
    "T = int(input())\n",
    "\n",
    "# Read the integer P\n",
    "P = int(input())\n",
    "\n",
    "# Convert the string based on the given type and multiples of P\n",
    "result = []\n",
    "\n",
    "for i in range(len(S)):\n",
    "    if (i + 1) % P == 0:\n",
    "        if T == 1:\n",
    "            result.append(S[i].lower())\n",
    "        elif T == 2:\n",
    "            result.append(S[i].upper())\n",
    "    else:\n",
    "        result.append(S[i])\n",
    "\n",
    "# Join the list into a string and print the result\n",
    "print(''.join(result))"
   ]
  },
  {
   "cell_type": "markdown",
   "metadata": {},
   "source": [
    "#### **11. You are given a paragraph.Your task is to print the words that come just after articles.**\n",
    "\n",
    "**Input Description:**\n",
    "\n",
    "You are given a string ‘s’\n",
    "\n",
    "**Output Description:**\n",
    "\n",
    "print the words that come just after articles and -1 if there are no articles\n",
    "\n",
    "Sample Input :\n",
    "\n",
    "The sun rises in the east\n",
    "\n",
    "Sample Output :\n",
    "\n",
    "sun east"
   ]
  },
  {
   "cell_type": "code",
   "execution_count": 13,
   "metadata": {},
   "outputs": [
    {
     "name": "stdout",
     "output_type": "stream",
     "text": [
      "sun east\n"
     ]
    }
   ],
   "source": [
    "def words_after_articles(s):\n",
    "    articles = {\"a\", \"an\", \"the\"}\n",
    "    words = s.split()\n",
    "    result = []\n",
    "\n",
    "    for i in range(len(words) - 1):\n",
    "        if words[i].lower() in articles:\n",
    "            result.append(words[i + 1])\n",
    "    \n",
    "    if result:\n",
    "        print(' '.join(result))\n",
    "    else:\n",
    "        print(-1)\n",
    "\n",
    "s = input()             # s = 'The sun rises in the east'\n",
    "words_after_articles(s)"
   ]
  },
  {
   "cell_type": "code",
   "execution_count": 1,
   "metadata": {},
   "outputs": [
    {
     "name": "stdout",
     "output_type": "stream",
     "text": [
      "sun east "
     ]
    }
   ],
   "source": [
    "def words_after_articles(s):\n",
    "    articles = [\"a\", \"an\", \"the\"]\n",
    "    words = s.split()\n",
    "    found = False\n",
    "    \n",
    "    for i in range(len(words) - 1):\n",
    "        if words[i].lower() in articles:\n",
    "            print(words[i + 1], end=\" \")\n",
    "            found = True\n",
    "    \n",
    "    if not found:\n",
    "        print(\"-1\")\n",
    "\n",
    "s = input()\n",
    "words_after_articles(s)"
   ]
  },
  {
   "cell_type": "markdown",
   "metadata": {},
   "source": [
    "#### **12. You are given with a string which comprises of some numbers. Your task is to find the largest integer by converting the string to the corresponding integer.**\n",
    "\n",
    "**Input Description:**\n",
    "\n",
    "First line contains n denoting number of Test Cases. The first and only Line of testcase has the string\n",
    "\n",
    "**Output Description:**\n",
    "\n",
    "Print the largest number\n",
    "\n",
    "Sample Input :\n",
    "\n",
    " I was born on 12 october 1998.\n",
    "\n",
    "Sample Output :\n",
    "\n",
    "1998"
   ]
  },
  {
   "cell_type": "code",
   "execution_count": 1,
   "metadata": {},
   "outputs": [
    {
     "name": "stdout",
     "output_type": "stream",
     "text": [
      "1998\n"
     ]
    }
   ],
   "source": [
    "m = input()             # m = \"I was born on 12 october 1998.\"\n",
    "res = \"\"\n",
    "a = len(m)\n",
    "\n",
    "for i in range(0,a):\n",
    "    if m[i]!='.':\n",
    "        res = res+m[i]\n",
    "        \n",
    "n = res.split(\" \")\n",
    "int_lst=[]\n",
    "\n",
    "for i in n:\n",
    " if i.isdigit()==True:\n",
    "  int_lst.append(i)\n",
    "length = len(int_lst)\n",
    "max_value = 0\n",
    "\n",
    "for i in range(0,length):\n",
    "    if(int(max_value) < int(int_lst[i])):\n",
    "        max_value = int_lst[i]\n",
    "print(max_value)"
   ]
  },
  {
   "cell_type": "markdown",
   "metadata": {},
   "source": [
    "#### **13. You are given a string made up of parenthesis only.Your task is to check whether parenthesis are balanced or not.If they are balanced print 1 else print 0**\n",
    "\n",
    "**Input Description:**\n",
    "\n",
    "You are given a string ‘s’\n",
    "\n",
    "**Output Description:**\n",
    "\n",
    "Print 1 for balanced and 0 for imbalanced\n",
    "\n",
    "Sample Input :\n",
    "\n",
    "{({})}\n",
    "\n",
    "Sample Output :\n",
    "\n",
    "1"
   ]
  },
  {
   "cell_type": "markdown",
   "metadata": {},
   "source": [
    "**Explanation:**\n",
    "\n",
    "is_balanced_parentheses(s): This function checks if the parentheses in the string s are balanced.\n",
    "\n",
    "stack: Used to keep track of opening parentheses.\n",
    "\n",
    "matching_parentheses: Dictionary to match each closing parenthesis with its corresponding opening parenthesis.\n",
    "\n",
    "The function iterates through each character in the string:\n",
    "    \n",
    "    If the character is an opening parenthesis({, (, [), it gets pushed onto the stack.\n",
    "    \n",
    "    If the character is a closing parenthesis(}, ), ]), it checks if the stack is not empty and if the top of the stack matches the corresponding opening parenthesis. If not, it returns 0 (imbalanced).\n",
    "\n",
    "At the end, if the stack is empty, the parentheses are balanced, and the function returns 1. Otherwise, it returns 0."
   ]
  },
  {
   "cell_type": "code",
   "execution_count": 3,
   "metadata": {},
   "outputs": [
    {
     "name": "stdout",
     "output_type": "stream",
     "text": [
      "1\n"
     ]
    }
   ],
   "source": [
    "def is_balanced_parentheses(s):\n",
    "    stack = []\n",
    "    # matching_parentheses\n",
    "    m = {')': '(', '}': '{', ']': '['}\n",
    "\n",
    "    for char in s:\n",
    "        if char in m.values():  # Opening parentheses\n",
    "            stack.append(char)\n",
    "        elif char in m.keys():  # Closing parentheses\n",
    "            if stack == [] or stack.pop() != m[char]:\n",
    "                return 0\n",
    "    return 1 if not stack else 0\n",
    "\n",
    "if __name__ == \"__main__\":\n",
    "    s = input().strip()  # Read the input string s = \"{({})}\"\n",
    "    result = is_balanced_parentheses(s)\n",
    "    print(result)"
   ]
  },
  {
   "cell_type": "markdown",
   "metadata": {},
   "source": [
    "#### **14. You are given a string ‘s’. Your task is to tell whether string is beautiful or not.A beautiful string is a string in which String starts with ‘a’ or ‘A’ and middle element is either ‘m’ or ‘M’ and last element is ‘z’or ‘Z’**\n",
    "\n",
    "**Input Description:**\n",
    "\n",
    "You are given a string ‘s’.\n",
    "\n",
    "**Output Description:**\n",
    "\n",
    "Print 1 if string is beautiful and 0 if it is not\n",
    "\n",
    "Sample Input :\n",
    "\n",
    "Amz\n",
    "\n",
    "Sample Output :\n",
    "\n",
    "1"
   ]
  },
  {
   "cell_type": "code",
   "execution_count": 4,
   "metadata": {},
   "outputs": [
    {
     "name": "stdout",
     "output_type": "stream",
     "text": [
      "1\n"
     ]
    }
   ],
   "source": [
    "def is_beautiful_string(s):\n",
    "    n = len(s)\n",
    "    if n < 3:\n",
    "        return 0  # String must be at least 3 characters long to have a valid middle character\n",
    "    \n",
    "    # Check the first character\n",
    "    if s[0] not in ('a', 'A'):\n",
    "        return 0\n",
    "    \n",
    "    # Check the middle character\n",
    "    middle_index = n // 2\n",
    "    if s[middle_index] not in ('m', 'M'):\n",
    "        return 0\n",
    "    \n",
    "    # Check the last character\n",
    "    if s[-1] not in ('z', 'Z'):\n",
    "        return 0\n",
    "    \n",
    "    return 1\n",
    "\n",
    "if __name__ == \"__main__\":\n",
    "    s = input().strip()  # Read the input string\n",
    "    result = is_beautiful_string(s)\n",
    "    print(result)"
   ]
  },
  {
   "cell_type": "markdown",
   "metadata": {},
   "source": [
    "#### **15. You are given a string.Your task is to print only the consonants present in the string without affecting the sentence spacings if present. If no consonants are present print -1**\n",
    "\n",
    "**Input Description:**\n",
    "\n",
    "You are given a string ‘s’.\n",
    "\n",
    "**Output Description:**\n",
    "\n",
    "Print only consonants.\n",
    "\n",
    "Sample Input :\n",
    "\n",
    "I am shrey \n",
    "\n",
    "Sample Output :\n",
    "\n",
    " m shry"
   ]
  },
  {
   "cell_type": "code",
   "execution_count": 5,
   "metadata": {},
   "outputs": [
    {
     "name": "stdout",
     "output_type": "stream",
     "text": [
      " m shry\n"
     ]
    }
   ],
   "source": [
    "def is_consonant(char):\n",
    "    vowels = \"aeiouAEIOU\"\n",
    "    return char.isalpha() and char not in vowels\n",
    "\n",
    "def filter_consonants(s):\n",
    "    result = \"\"\n",
    "    consonant_found = False\n",
    "    \n",
    "    for char in s:\n",
    "        if char == ' ':\n",
    "            result += ' '\n",
    "        elif is_consonant(char):\n",
    "            result += char\n",
    "            consonant_found = True\n",
    "\n",
    "    if consonant_found:\n",
    "        return result\n",
    "    else:\n",
    "        return \"-1\"\n",
    "\n",
    "s = input()\n",
    "output = filter_consonants(s)\n",
    "print(output)"
   ]
  },
  {
   "cell_type": "markdown",
   "metadata": {},
   "source": [
    "### **16. You are given a string ‘s’.Your task is to print the string in the order they are present and then sum of digits.**\n",
    "\n",
    "#### **Input Description:**\n",
    "\n",
    "You are given a string ‘s’.\n",
    "\n",
    "#### **Output Description:**\n",
    "\n",
    "Print the string and then at last sum of all the digits\n",
    "\n",
    "**Sample Input:**\n",
    "\n",
    "AC30BD40\n",
    "\n",
    "**Sample Output:**\n",
    "\n",
    "ACBD7"
   ]
  },
  {
   "cell_type": "code",
   "execution_count": 1,
   "metadata": {},
   "outputs": [
    {
     "name": "stdout",
     "output_type": "stream",
     "text": [
      "ACBD7\n"
     ]
    }
   ],
   "source": [
    "def process_string(s):\n",
    "    characters = []\n",
    "    digit_sum = 0\n",
    "    \n",
    "    for char in s:\n",
    "        if char.isdigit():\n",
    "            digit_sum += int(char)\n",
    "        else:\n",
    "            characters.append(char)\n",
    "    \n",
    "    # Join the characters to form the final string\n",
    "    result = ''.join(characters)\n",
    "    # Append the sum of digits\n",
    "    result += str(digit_sum)\n",
    "    print(result)\n",
    "\n",
    "s = input()\n",
    "process_string(s)"
   ]
  },
  {
   "cell_type": "markdown",
   "metadata": {},
   "source": [
    "### **17. Given a string S, print 'yes' if it has a vowel in it else print 'no'.**\n",
    "\n",
    "#### **Sample Testcase:**\n",
    "\n",
    "**INPUT**\n",
    "\n",
    "codekata\n",
    "\n",
    "**OUTPUT**\n",
    "\n",
    "yes"
   ]
  },
  {
   "cell_type": "code",
   "execution_count": 2,
   "metadata": {},
   "outputs": [
    {
     "name": "stdout",
     "output_type": "stream",
     "text": [
      "yes\n"
     ]
    }
   ],
   "source": [
    "def has_vowel(s):\n",
    "    vowels = set('aeiouAEIOU')\n",
    "    \n",
    "    for char in s:\n",
    "        if char in vowels:\n",
    "            print(\"yes\")\n",
    "            return\n",
    "    print(\"no\")\n",
    "\n",
    "s = input()\n",
    "has_vowel(s)"
   ]
  },
  {
   "cell_type": "markdown",
   "metadata": {},
   "source": [
    "### **18. Given an array of pairs of strings, find if there are mirror pairs.**\n",
    "(s1, s2) & (s3, s4) are mirror pairs, if s1 = s4 and s2 = s3. The first string in each pair is distinct.\n",
    "\n",
    "#### **Input Description:**\n",
    "\n",
    "The first line contains the number string pairs N. Then N string pairs follow.\n",
    "\n",
    "#### **Output Description:**\n",
    "\n",
    "Print YES, if a mirror pair exists, print NO otherwise.\n",
    "\n",
    "**Sample Input:**\n",
    "\n",
    "3\n",
    "raja kili\n",
    "pan quil\n",
    "kili raja\n",
    "\n",
    "**Sample Output:**\n",
    "\n",
    "YES"
   ]
  },
  {
   "cell_type": "code",
   "execution_count": 5,
   "metadata": {},
   "outputs": [
    {
     "name": "stdout",
     "output_type": "stream",
     "text": [
      "YES\n"
     ]
    }
   ],
   "source": [
    "def find_mirror_pairs(pairs):\n",
    "    pair_dict = {}\n",
    "    \n",
    "    for s1, s2 in pairs:\n",
    "        # Check if the reverse pair exists\n",
    "        if s2 in pair_dict and pair_dict[s2] == s1:\n",
    "            print(\"YES\")\n",
    "            return\n",
    "        # Store the pair in the dictionary\n",
    "        pair_dict[s1] = s2\n",
    "    \n",
    "    print(\"NO\")\n",
    "\n",
    "N = int(input())\n",
    "pairs = [input().split() for _ in range(N)]\n",
    "find_mirror_pairs(pairs)"
   ]
  },
  {
   "cell_type": "markdown",
   "metadata": {},
   "source": [
    "### **19. Joyal was given a sentence. His task is to delete the two words that comes together and print the sentence so that the words in the output sentence have distinct words compared to their adjacent words. If no words are present in the output sentence print -1**\n",
    "\n",
    "#### **Input Description:**\n",
    "\n",
    "You are given input string 'S'\n",
    "\n",
    "#### **Output Description:**\n",
    "\n",
    "Print the all the words that are left in the string 's' so that the words in the output sentence have distinct words compared to their adjacent words. Print -1 if no words are left\n",
    "\n",
    "**Sample Input:**\n",
    "\n",
    "I am john cena cena john\n",
    "\n",
    "**Sample Output:**\n",
    "\n",
    "I am"
   ]
  },
  {
   "cell_type": "code",
   "execution_count": 6,
   "metadata": {},
   "outputs": [
    {
     "name": "stdout",
     "output_type": "stream",
     "text": [
      "I am\n"
     ]
    }
   ],
   "source": [
    "def remove_adjacent_duplicates(s):\n",
    "    words = s.split()\n",
    "    stack = []\n",
    "    \n",
    "    for word in words:\n",
    "        if stack and stack[-1] == word:\n",
    "            stack.pop()\n",
    "        else:\n",
    "            stack.append(word)\n",
    "    \n",
    "    if not stack:\n",
    "        print(\"-1\")\n",
    "    else:\n",
    "        print(\" \".join(stack))\n",
    "\n",
    "s = input()    # S = 'I am john cena cena john'\n",
    "remove_adjacent_duplicates(s)"
   ]
  },
  {
   "cell_type": "markdown",
   "metadata": {},
   "source": [
    "### **20. You are given a string ‘s’. Your task is to find whether string is beautiful or not. A string is said to be beautiful whenever string is made up of only three characters. All the three characters must be distinct. Print true if string is beautiful and false when it is not beautiful**\n",
    "\n",
    "#### **Input Description:**\n",
    "\n",
    "You are given a string\n",
    "\n",
    "#### **Output Description:**\n",
    "\n",
    "Print ‘1’ when string is beautiful and ‘0’ when it is not\n",
    "\n",
    "**Sample Input:**\n",
    "\n",
    "Aab\n",
    "\n",
    "**Sample Output:**\n",
    "\n",
    "1"
   ]
  },
  {
   "cell_type": "code",
   "execution_count": 7,
   "metadata": {},
   "outputs": [
    {
     "name": "stdout",
     "output_type": "stream",
     "text": [
      "1\n"
     ]
    }
   ],
   "source": [
    "def is_beautiful_string(s):\n",
    "    # Use a set to collect distinct characters\n",
    "    distinct_characters = set(s)\n",
    "    \n",
    "    # Check if the number of distinct characters is exactly 3\n",
    "    if len(distinct_characters) == 3:\n",
    "        print(1)\n",
    "    else:\n",
    "        print(0)\n",
    "\n",
    "s = input()\n",
    "is_beautiful_string(s)"
   ]
  },
  {
   "cell_type": "markdown",
   "metadata": {},
   "source": [
    "### **22. Jennyfer is fond of strings. She wants to read the character from right to left (reverse the string), so she wants you to design a suitable algorithm which satisfy her desire.**\n",
    "\n",
    "#### **Input Description:**\n",
    "\n",
    "Enter the string ‘s’\n",
    "\n",
    "#### **Output Description:**\n",
    "\n",
    "Print the string from characters right to left.\n",
    "\n",
    "**Sample Input:**\n",
    "\n",
    "jennyfer\n",
    "\n",
    "**Sample Output:**\n",
    "\n",
    "Refynnej"
   ]
  },
  {
   "cell_type": "code",
   "execution_count": 9,
   "metadata": {},
   "outputs": [
    {
     "name": "stdout",
     "output_type": "stream",
     "text": [
      "Refynnej\n"
     ]
    }
   ],
   "source": [
    "s = input()\n",
    "\n",
    "# Reverse the string\n",
    "s_rev = s[::-1]\n",
    "\n",
    "# Join the reversed string back\n",
    "s = ''.join(s_rev)\n",
    "\n",
    "# Capitalize the first letter of the reversed string\n",
    "print(s.capitalize())\n"
   ]
  },
  {
   "cell_type": "markdown",
   "metadata": {},
   "source": [
    "### **23. You are given string ‘s’. Your task is to modify the string as mentioned below:-**\n",
    "\n",
    "1. The string should not have three consecutive same characters.\n",
    "2. You can add any number of characters anywhere in the string. Find the minimum number of characters which Ishaan must insert in the string.\n",
    "\n",
    "#### **Input Description:**\n",
    "\n",
    "You are given a string ‘s’\n",
    "\n",
    "#### **Output Description:**\n",
    "\n",
    "print the required answer in a new line.\n",
    "\n",
    "Sample Input :\n",
    "\n",
    "aabbbcc\n",
    "\n",
    "Sample Output :\n",
    "\n",
    "1"
   ]
  },
  {
   "cell_type": "code",
   "execution_count": 10,
   "metadata": {},
   "outputs": [
    {
     "name": "stdout",
     "output_type": "stream",
     "text": [
      "1\n"
     ]
    }
   ],
   "source": [
    "def min_insertions_to_prevent_triplets(s):\n",
    "    count = 0\n",
    "    insertions = 0\n",
    "    \n",
    "    for i in range(1, len(s)):\n",
    "        if s[i] == s[i - 1]:\n",
    "            count += 1\n",
    "        else:\n",
    "            count = 0\n",
    "        \n",
    "        if count == 2:\n",
    "            insertions += 1\n",
    "            count = 0\n",
    "    \n",
    "    print(insertions)\n",
    "\n",
    "s = input()     # S = 'aabbbcc'\n",
    "min_insertions_to_prevent_triplets(s)"
   ]
  },
  {
   "cell_type": "markdown",
   "metadata": {},
   "source": [
    "### **24. You are given a string ‘s’.Your task is to print the string in alternate lowercase and uppercase order.**\n",
    "\n",
    "#### **Input Description:**\n",
    "\n",
    "You are given a string\n",
    "\n",
    "#### **Output Description:**\n",
    "\n",
    "Print the string according to given criteria\n",
    "\n",
    "**Sample Input:**\n",
    "\n",
    "abcd efgh ijkl\n",
    "\n",
    "**Sample Output:**\n",
    "\n",
    "ABCD efgh IJKL"
   ]
  },
  {
   "cell_type": "code",
   "execution_count": 11,
   "metadata": {},
   "outputs": [
    {
     "name": "stdout",
     "output_type": "stream",
     "text": [
      "ABCD efgh IJKL\n"
     ]
    }
   ],
   "source": [
    "def alternate_case_string(s):\n",
    "    words = s.split()\n",
    "    for i in range(len(words)):\n",
    "        if i % 2 == 0:\n",
    "            words[i] = words[i].upper()\n",
    "        else:\n",
    "            words[i] = words[i].lower()\n",
    "    result = ' '.join(words)\n",
    "    print(result)\n",
    "    \n",
    "s = input()             # S = 'abcd efgh ijkl'\n",
    "alternate_case_string(s)"
   ]
  },
  {
   "cell_type": "markdown",
   "metadata": {},
   "source": [
    "### **27. Indian PAN card issuing authority have found some fake PAN cards. They have hired you so that you can validate PAN card for them. Your task is to develop a suitable algorithm which could check if pan is valid or not**\n",
    "\n",
    "1. Pan must have uppercase letters only.\n",
    "\n",
    "2. It must be of 10 character only\n",
    "\n",
    "3. From index 1 to 5 all must be letters(A-Z),last index must be letter\n",
    "\n",
    "4. Rest all must be integer Starting from 1\n",
    "\n",
    "#### **Input Description:**\n",
    "\n",
    "You are given a input string which indicates the PAN number\n",
    "\n",
    "#### **Output Description:**\n",
    "\n",
    "Print 'pan' if it is valid PAN number, else print 'not pan'\n",
    "\n",
    "**Sample Input:**\n",
    "\n",
    "HXTPS2142R\n",
    "\n",
    "**Sample Output:**\n",
    "\n",
    "pan"
   ]
  },
  {
   "cell_type": "markdown",
   "metadata": {},
   "source": [
    "#### **Logic**\n",
    "\n",
    "1. The PAN must contain only uppercase letters.\n",
    "2. The PAN must be exactly 10 characters long.\n",
    "3. The first five characters must be letters (A-Z).\n",
    "4. The last character must be a letter (A-Z).\n",
    "5. The sixth to ninth characters must be digits (0-9)."
   ]
  },
  {
   "cell_type": "code",
   "execution_count": 18,
   "metadata": {},
   "outputs": [
    {
     "name": "stdout",
     "output_type": "stream",
     "text": [
      "pan\n"
     ]
    }
   ],
   "source": [
    "def validate_pan(pan):\n",
    "    # Check if the PAN is exactly 10 characters long\n",
    "    if len(pan) != 10:\n",
    "        print(\"not pan\")\n",
    "        return\n",
    "    \n",
    "    # Check if all characters are uppercase letters or digits\n",
    "    if not pan.isalnum() or not pan.isupper():\n",
    "        print(\"not pan\")\n",
    "        return\n",
    "    \n",
    "    # Check if the first five characters are letters\n",
    "    if not pan[:5].isalpha():\n",
    "        print(\"not pan\")\n",
    "        return\n",
    "    \n",
    "    # Check if the last character is a letter\n",
    "    if not pan[-1].isalpha():\n",
    "        print(\"not pan\")\n",
    "        return\n",
    "    \n",
    "    # Check if the sixth to ninth characters are digits\n",
    "    if not pan[5:9].isdigit():\n",
    "        print(\"not pan\")\n",
    "        return\n",
    "    \n",
    "    # If all conditions are met, it's a valid PAN\n",
    "    print(\"pan\")\n",
    "\n",
    "pan = input()\n",
    "validate_pan(pan)"
   ]
  },
  {
   "cell_type": "markdown",
   "metadata": {},
   "source": [
    "### **28. Given a string S, find its length(including the spaces)without using any pre-defined functions.**\n",
    "\n",
    "#### **Sample Testcase:**\n",
    "\n",
    "**INPUT**\n",
    "\n",
    "codekata\n",
    "\n",
    "**OUTPUT**\n",
    "\n",
    "8"
   ]
  },
  {
   "cell_type": "code",
   "execution_count": 21,
   "metadata": {},
   "outputs": [
    {
     "name": "stdout",
     "output_type": "stream",
     "text": [
      "8\n"
     ]
    }
   ],
   "source": [
    "s = input()                     # s = 'codekata'\n",
    "length_of_the_string = len(s)\n",
    "print(length_of_the_string)"
   ]
  },
  {
   "cell_type": "code",
   "execution_count": 19,
   "metadata": {},
   "outputs": [
    {
     "name": "stdout",
     "output_type": "stream",
     "text": [
      "8\n"
     ]
    }
   ],
   "source": [
    "def find_length(s):\n",
    "    length = 0\n",
    "    for char in s:\n",
    "        length += 1\n",
    "    return length\n",
    "\n",
    "s = \"codekata\"\n",
    "print(find_length(s))"
   ]
  },
  {
   "cell_type": "markdown",
   "metadata": {},
   "source": [
    "### **29. You are given some words all in lower case letters your task is to print them in sorted order.**\n",
    "\n",
    "#### **Input Description:**\n",
    "\n",
    "You are given a string ‘s’\n",
    "\n",
    "#### **Output Description:**\n",
    "\n",
    "Print the string in sorted order\n",
    "\n",
    "**Sample Input:**\n",
    "\n",
    "virat kohli\n",
    "\n",
    "**Sample Output:**\n",
    "\n",
    "kohli virat"
   ]
  },
  {
   "cell_type": "code",
   "execution_count": 22,
   "metadata": {},
   "outputs": [
    {
     "name": "stdout",
     "output_type": "stream",
     "text": [
      "kohli virat\n"
     ]
    }
   ],
   "source": [
    "def sort_words(s):\n",
    "    # Split the string into words\n",
    "    words = s.split()\n",
    "    \n",
    "    # Sort the words\n",
    "    words.sort()\n",
    "    \n",
    "    # Join the sorted words into a single string\n",
    "    sorted_string = ' '.join(words)\n",
    "    \n",
    "    # Print the resulting string\n",
    "    print(sorted_string)\n",
    "\n",
    "s = input()         # s = 'virat kohli'\n",
    "sort_words(s)"
   ]
  },
  {
   "cell_type": "markdown",
   "metadata": {},
   "source": [
    "### **30. Given a number ‘n’, your task is to  generate all n-bit grey code sequences, “a grey code sequence is a sequence such that successive patterns in it differ by one bit”**\n",
    "\n",
    "#### **Input Description:**\n",
    "\n",
    "You are given an number ‘n’.\n",
    "\n",
    "#### **Output Description:**\n",
    "\n",
    "Print the grey code sequence\n",
    "\n",
    "**Sample Input:**\n",
    "\n",
    "2\n",
    "\n",
    "**Sample Output:**\n",
    "\n",
    "00 01 11 10"
   ]
  },
  {
   "cell_type": "code",
   "execution_count": 23,
   "metadata": {},
   "outputs": [
    {
     "name": "stdout",
     "output_type": "stream",
     "text": [
      "00 01 11 10\n"
     ]
    }
   ],
   "source": [
    "def generate_gray_code(n):\n",
    "    if n == 0:\n",
    "        return []\n",
    "    if n == 1:\n",
    "        return [\"0\", \"1\"]\n",
    "    \n",
    "    # Start with 1-bit Gray code\n",
    "    gray_codes = [\"0\", \"1\"]\n",
    "    \n",
    "    # Generate Gray code for each additional bit\n",
    "    for i in range(2, n + 1):\n",
    "        # Create a reversed copy of the current list\n",
    "        reversed_codes = gray_codes[::-1]\n",
    "        \n",
    "        # Prepend '0' to the original list\n",
    "        gray_codes = ['0' + code for code in gray_codes]\n",
    "        \n",
    "        # Prepend '1' to the reversed list\n",
    "        reversed_codes = ['1' + code for code in reversed_codes]\n",
    "        \n",
    "        # Combine both lists\n",
    "        gray_codes += reversed_codes\n",
    "    \n",
    "    return gray_codes\n",
    "\n",
    "n = int(input())\n",
    "gray_code_sequence = generate_gray_code(n)\n",
    "print(\" \".join(gray_code_sequence))"
   ]
  },
  {
   "cell_type": "markdown",
   "metadata": {},
   "source": [
    "### **31. Guvi developed a new system to make sure no two usernames are same. So, they hired you as a developer to develop this system. They have set some rules to do the same.If you see the same username that already exists, just add a number at the end of that username ,else print \"Verified\".**\n",
    "\n",
    "#### **Input Description:**\n",
    "\n",
    "First line consists of an integer N, denoting number of usernames. Second line consists of N spaced separated Strings, denoting usernames.\n",
    "\n",
    "#### **Output Description:**\n",
    "\n",
    "print the required output in a new line.\n",
    "\n",
    "**Sample Input:**\n",
    "\n",
    "4\n",
    "\n",
    "abc aab abc aba\n",
    "\n",
    "**Sample Output:**\n",
    "\n",
    "Verified Verified abc1 aba"
   ]
  },
  {
   "cell_type": "code",
   "execution_count": 28,
   "metadata": {},
   "outputs": [
    {
     "name": "stdout",
     "output_type": "stream",
     "text": [
      "Verified Verified abc1 Verified\n"
     ]
    }
   ],
   "source": [
    "# Method -1:\n",
    "\n",
    "a = int(input())                    # a = 4\n",
    "li = list(input().split(\" \"))       # li = ['abc', 'aab', 'abc', 'aba']\n",
    "check=[]\n",
    "output=[]\n",
    "\n",
    "for i in li:\n",
    "    if i not in check:\n",
    "        check.append(i)\n",
    "        output.append(\"Verified\")\n",
    "    else:\n",
    "        output.append(i+\"1\")\n",
    "print(\" \".join(output))"
   ]
  },
  {
   "cell_type": "code",
   "execution_count": 27,
   "metadata": {},
   "outputs": [
    {
     "name": "stdout",
     "output_type": "stream",
     "text": [
      "Verified\n",
      "Verified\n",
      "abc1\n",
      "Verified\n"
     ]
    }
   ],
   "source": [
    "# Method -2:\n",
    "\n",
    "def process_usernames(n, usernames):\n",
    "    seen = {}\n",
    "    result = []\n",
    "\n",
    "    for username in usernames:\n",
    "        if username in seen:\n",
    "            seen[username] += 1\n",
    "            new_username = f\"{username}{seen[username]}\"\n",
    "            result.append(new_username)\n",
    "        else:\n",
    "            seen[username] = 0\n",
    "            result.append(\"Verified\")\n",
    "\n",
    "    for res in result:\n",
    "        print(res)\n",
    "\n",
    "n = int(input())                            # n = 4\n",
    "usernames = list(map(str, input().split())) # usernames = ['abc', 'aab', 'abc', 'aba']\n",
    "process_usernames(n, usernames)"
   ]
  },
  {
   "cell_type": "markdown",
   "metadata": {},
   "source": [
    "### **33. Given 2 strings S1 and s2, check whether they are case senitively equal without using any predefined function(case sensitive).If they are not same print 'no'**\n",
    "\n",
    "#### **Sample Testcase:**\n",
    "\n",
    "**INPUT**\n",
    "\n",
    "guvi guvi\n",
    "\n",
    "**OUTPUT**\n",
    "\n",
    "yes"
   ]
  },
  {
   "cell_type": "code",
   "execution_count": 29,
   "metadata": {},
   "outputs": [
    {
     "name": "stdout",
     "output_type": "stream",
     "text": [
      "yes\n"
     ]
    }
   ],
   "source": [
    "def check_case_sensitive_equal(S1, S2):\n",
    "    if len(S1) != len(S2):\n",
    "        print(\"no\")\n",
    "        return\n",
    "    \n",
    "    for i in range(len(S1)):\n",
    "        if S1[i] != S2[i]:\n",
    "            print(\"no\")\n",
    "            return\n",
    "\n",
    "    print(\"yes\")\n",
    "\n",
    "S1, S2 = input().split()\n",
    "check_case_sensitive_equal(S1, S2)"
   ]
  },
  {
   "cell_type": "markdown",
   "metadata": {},
   "source": [
    "### **34. You are given two string ‘s1’ and ‘s2’. You have to tell whether these form pair of (strset) A pair of strings is said to be str set if one string is substring of other.**\n",
    "\n",
    "#### **Input Description:**\n",
    "\n",
    "You are given two strings ‘s1’ and ‘s2’\n",
    "\n",
    "#### **Output Description:**\n",
    "\n",
    "Print Yes if they form strset and No if they don’t.\n",
    "\n",
    "**Sample Input:**\n",
    "\n",
    "abc ab\n",
    "\n",
    "**Sample Output:**\n",
    "\n",
    "Yes"
   ]
  },
  {
   "cell_type": "code",
   "execution_count": 30,
   "metadata": {},
   "outputs": [
    {
     "name": "stdout",
     "output_type": "stream",
     "text": [
      "Yes\n"
     ]
    }
   ],
   "source": [
    "def check_strset(s1, s2):\n",
    "    if s1 in s2 or s2 in s1:\n",
    "        print(\"Yes\")\n",
    "    else:\n",
    "        print(\"No\")\n",
    "\n",
    "s1, s2 = input().split()\n",
    "check_strset(s1, s2)"
   ]
  },
  {
   "cell_type": "markdown",
   "metadata": {},
   "source": [
    "### **37. In a school there are voting to choose the monitor of class.Your task is to tell which candidate is winner and if there is a tie print the name of candidate whose come first in lexicographical order.**\n",
    "\n",
    "#### **Input Description:**\n",
    "\n",
    "You are given with the space separated names.\n",
    "\n",
    "#### **Output Description:**\n",
    "\n",
    "Print the winner’s name and the votes he earned.\n",
    "\n",
    "**Sample Input:**\n",
    "\n",
    "john johnny jackie johnny john jackie jamie jamie john johnny jamie johnny john\n",
    "\n",
    "**Sample Output:**\n",
    "\n",
    "john 4"
   ]
  },
  {
   "cell_type": "code",
   "execution_count": 34,
   "metadata": {},
   "outputs": [
    {
     "name": "stdout",
     "output_type": "stream",
     "text": [
      "john 4\n"
     ]
    }
   ],
   "source": [
    "from collections import defaultdict\n",
    "\n",
    "def find_monitor_winner(names):\n",
    "    # Count votes for each candidate\n",
    "    vote_count = defaultdict(int)\n",
    "    for name in names:\n",
    "        vote_count[name] += 1\n",
    "    \n",
    "    # Find the candidate with the maximum votes\n",
    "    max_votes = -1\n",
    "    winner = None\n",
    "    for candidate, votes in vote_count.items():\n",
    "        if votes > max_votes:\n",
    "            max_votes = votes\n",
    "            winner = candidate\n",
    "        elif votes == max_votes:\n",
    "            if candidate < winner:  # Lexicographical comparison\n",
    "                winner = candidate\n",
    "    \n",
    "    # Output the winner's name and votes\n",
    "    print(f\"{winner} {max_votes}\")\n",
    "\n",
    "names_list = input().split()\n",
    "find_monitor_winner(names_list)"
   ]
  },
  {
   "cell_type": "markdown",
   "metadata": {},
   "source": [
    "### **38. Given a day, print 'yes' if it is a holiday otherwise print'no'.Assume that weekend days are holidays**\n",
    "\n",
    "#### **Sample Testcase:**\n",
    "\n",
    "**INPUT**\n",
    "\n",
    "saturday\n",
    "\n",
    "**OUTPUT**\n",
    "\n",
    "yes\n",
    "\n",
    "**INPUT**\n",
    "\n",
    "monday\n",
    "\n",
    "**OUTPUT**\n",
    "\n",
    "no"
   ]
  },
  {
   "cell_type": "code",
   "execution_count": 35,
   "metadata": {},
   "outputs": [
    {
     "name": "stdout",
     "output_type": "stream",
     "text": [
      "no\n"
     ]
    }
   ],
   "source": [
    "def check_holiday(day):\n",
    "    # Convert day to lowercase to handle case insensitivity\n",
    "    day = day.lower()\n",
    "    \n",
    "    # Check if the day is a weekend (holiday)\n",
    "    if day == \"saturday\" or day == \"sunday\":\n",
    "        print(\"yes\")\n",
    "    else:\n",
    "        print(\"no\")\n",
    "\n",
    "day = input()\n",
    "check_holiday(day)"
   ]
  },
  {
   "cell_type": "markdown",
   "metadata": {},
   "source": [
    "### **39. Given a string S, print the reverse of the string.**\n",
    "\n",
    "Input Size : |s| <= 100000 (ie do it in O(n) or O(log n) time complexity)\n",
    "\n",
    "#### **Sample Testcase:**\n",
    "\n",
    "**INPUT**\n",
    "\n",
    "codekata\n",
    "\n",
    "**OUTPUT**\n",
    "\n",
    "atakedoc"
   ]
  },
  {
   "cell_type": "code",
   "execution_count": 43,
   "metadata": {},
   "outputs": [
    {
     "name": "stdout",
     "output_type": "stream",
     "text": [
      "atakedoc\n"
     ]
    }
   ],
   "source": [
    "def reverse_string(s):\n",
    "    reversed_s = s[::-1]  # Using Python's slicing to reverse the string\n",
    "    return reversed_s\n",
    "\n",
    "input_string = input()\n",
    "reversed_string = reverse_string(input_string)\n",
    "print(reversed_string)"
   ]
  },
  {
   "cell_type": "markdown",
   "metadata": {},
   "source": [
    "### **40. Given a string S, print 'yes' if it is a palindrome or 'no' if it is not a palindrome.**\n",
    "\n",
    "#### **Sample Testcase:**\n",
    "\n",
    "**INPUT**\n",
    "\n",
    "lappal\n",
    "\n",
    "**OUTPUT**\n",
    "\n",
    "yes"
   ]
  },
  {
   "cell_type": "code",
   "execution_count": 48,
   "metadata": {},
   "outputs": [
    {
     "name": "stdout",
     "output_type": "stream",
     "text": [
      "yes\n"
     ]
    }
   ],
   "source": [
    "def is_palindrome(s):\n",
    "    # Reverse the string\n",
    "    reversed_s = s[::-1]\n",
    "    \n",
    "    # Compare original string with reversed string\n",
    "    if s == reversed_s:\n",
    "        return \"yes\"\n",
    "    else:\n",
    "        return \"no\"\n",
    "\n",
    "a = input()      # a = 'lappal'\n",
    "result = is_palindrome(a)\n",
    "print(result)"
   ]
  },
  {
   "cell_type": "markdown",
   "metadata": {},
   "source": [
    "### **41. You are given two strings . Your task is to tell whether the pair of strings is panagram. A pair of strings are said to be panagram if they both are palindrome and are anagram of each other.**\n",
    "\n",
    "#### **Input Description:**\n",
    "\n",
    "You will be given two strings ‘s1’ and ‘s2’\n",
    "\n",
    "#### **Output Description:**\n",
    "\n",
    "Print 1 if they are panagram and 0 if they are not\n",
    "\n",
    "**Sample Input:**\n",
    "\n",
    "nitin intni\n",
    "\n",
    "**Sample Output:**\n",
    "\n",
    "1"
   ]
  },
  {
   "cell_type": "code",
   "execution_count": 49,
   "metadata": {},
   "outputs": [
    {
     "name": "stdout",
     "output_type": "stream",
     "text": [
      "1\n"
     ]
    }
   ],
   "source": [
    "def is_panagram(s1, s2):\n",
    "    # Function to check if a string is palindrome\n",
    "    def is_palindrome(s):\n",
    "        return s == s[::-1]\n",
    "    \n",
    "    # Function to check if two strings are anagrams\n",
    "    def is_anagram(s1, s2):\n",
    "        return sorted(s1) == sorted(s2)\n",
    "    \n",
    "    # Check if both strings are palindromes and anagrams\n",
    "    if is_palindrome(s1) and is_palindrome(s2) and is_anagram(s1, s2):\n",
    "        return 1\n",
    "    else:\n",
    "        return 0\n",
    "\n",
    "s1, s2 = input().split()        # s1 = 'nitin', s2 = 'intni'\n",
    "result = is_panagram(s1, s2)\n",
    "print(result)"
   ]
  },
  {
   "cell_type": "markdown",
   "metadata": {},
   "source": [
    "### **44. Given a binary number convert it to hexadecimal.**\n",
    "\n",
    "#### **Sample Testcase:**\n",
    "\n",
    "**INPUT**\n",
    "\n",
    "1100100\n",
    "\n",
    "**OUTPUT**\n",
    "\n",
    "64"
   ]
  },
  {
   "cell_type": "code",
   "execution_count": 50,
   "metadata": {},
   "outputs": [
    {
     "name": "stdout",
     "output_type": "stream",
     "text": [
      "64\n"
     ]
    }
   ],
   "source": [
    "def binary_to_hex(binary_string):\n",
    "    decimal_num = int(binary_string, 2)\n",
    "    hex_num = hex(decimal_num)\n",
    "    hex_num = hex_num[2:]\n",
    "    return hex_num.upper()\n",
    "\n",
    "binary_string = input()         # binary_string = '1100100'\n",
    "hexadecimal_result = binary_to_hex(binary_string)\n",
    "print(hexadecimal_result)"
   ]
  },
  {
   "cell_type": "markdown",
   "metadata": {},
   "source": [
    "### **45. You are given a string ‘S’ consisting of lowercase Latin Letters. Find the first non repeating character in S. If you find all the characters are repeating print the answer as -1**\n",
    "\n",
    "#### **Input Description:**\n",
    "\n",
    "You are given a string ‘s’\n",
    "\n",
    "#### **Output Description:**\n",
    "\n",
    "Print the first non occurring character if possible else -1.\n",
    "\n",
    "**Sample Input:**\n",
    "\n",
    "apple\n",
    "\n",
    "**Sample Output:**\n",
    "\n",
    "a"
   ]
  },
  {
   "cell_type": "code",
   "execution_count": 52,
   "metadata": {},
   "outputs": [
    {
     "name": "stdout",
     "output_type": "stream",
     "text": [
      "a\n"
     ]
    }
   ],
   "source": [
    "def first_non_repeating_char(s):\n",
    "    # Dictionary to store character frequencies\n",
    "    char_count = {}\n",
    "    \n",
    "    # Count frequencies of each character\n",
    "    for char in s:\n",
    "        if char in char_count:\n",
    "            char_count[char] += 1\n",
    "        else:\n",
    "            char_count[char] = 1\n",
    "    \n",
    "    # Find the first non-repeating character\n",
    "    for char in s:\n",
    "        if char_count[char] == 1:\n",
    "            return char\n",
    "    \n",
    "    # If no non-repeating character found\n",
    "    return -1\n",
    "\n",
    "input_string = input()\n",
    "result = first_non_repeating_char(input_string)\n",
    "print(result)"
   ]
  },
  {
   "cell_type": "markdown",
   "metadata": {},
   "source": [
    "### **46. Given 2 strings.check if the second string is a substring of the first string.Print 'yes' if there exists a valid substring otherwise print 'no'.**\n",
    "\n",
    "Input Size : 1 <= N <= 100000\n",
    "\n",
    "#### **Sample Testcase:**\n",
    "\n",
    "**INPUT**\n",
    "\n",
    "codekata code\n",
    "\n",
    "**OUTPUT**\n",
    "\n",
    "yes"
   ]
  },
  {
   "cell_type": "code",
   "execution_count": 55,
   "metadata": {},
   "outputs": [
    {
     "name": "stdout",
     "output_type": "stream",
     "text": [
      "yes\n"
     ]
    }
   ],
   "source": [
    "def check_substring(s1, s2):\n",
    "    if s2 in s1:\n",
    "        return \"yes\"\n",
    "    else:\n",
    "        return \"no\"\n",
    "\n",
    "s1, s2 = input().split()\n",
    "result = check_substring(s1, s2)\n",
    "print(result)"
   ]
  },
  {
   "cell_type": "code",
   "execution_count": 54,
   "metadata": {},
   "outputs": [
    {
     "name": "stdout",
     "output_type": "stream",
     "text": [
      "yes\n"
     ]
    }
   ],
   "source": [
    "def build_lps(pattern):\n",
    "    lps = [0] * len(pattern)\n",
    "    length = 0  # length of the previous longest prefix suffix\n",
    "    \n",
    "    i = 1\n",
    "    while i < len(pattern):\n",
    "        if pattern[i] == pattern[length]:\n",
    "            length += 1\n",
    "            lps[i] = length\n",
    "            i += 1\n",
    "        else:\n",
    "            if length != 0:\n",
    "                length = lps[length - 1]\n",
    "            else:\n",
    "                lps[i] = 0\n",
    "                i += 1\n",
    "    return lps\n",
    "\n",
    "def kmp_search(text, pattern):\n",
    "    \n",
    "    if not pattern:\n",
    "        return \"yes\"  # An empty pattern is considered to be found everywhere\n",
    "    \n",
    "    lps = build_lps(pattern)\n",
    "    \n",
    "    i = 0  # index for text[]\n",
    "    j = 0  # index for pattern[]\n",
    "    while i < len(text):\n",
    "        if pattern[j] == text[i]:\n",
    "            i += 1\n",
    "            j += 1\n",
    "        \n",
    "        if j == len(pattern):\n",
    "            return \"yes\"  # Found pattern at index (i-j)\n",
    "        \n",
    "        elif i < len(text) and pattern[j] != text[i]:\n",
    "            if j != 0:\n",
    "                j = lps[j - 1]\n",
    "            else:\n",
    "                i += 1\n",
    "    return \"no\"  # Pattern not found in text\n",
    "\n",
    "# Function to check if s2 is substring of s1\n",
    "def check_substring(s1, s2):\n",
    "    return kmp_search(s1, s2)\n",
    "\n",
    "s1, s2 = input().split()\n",
    "result = check_substring(s1, s2)\n",
    "print(result)"
   ]
  },
  {
   "cell_type": "markdown",
   "metadata": {},
   "source": [
    "### **47. Given a string S, print the 1st and 3rd character of the string (chracter index starts from 1).**\n",
    "\n",
    "Input Size : 1 <= N <= 100000\n",
    "\n",
    "#### **Sample Testcase:**\n",
    "\n",
    "**INPUT**\n",
    "\n",
    "codekata\n",
    "\n",
    "**OUTPUT**\n",
    "\n",
    "cd"
   ]
  },
  {
   "cell_type": "code",
   "execution_count": 56,
   "metadata": {},
   "outputs": [
    {
     "name": "stdout",
     "output_type": "stream",
     "text": [
      "cd\n"
     ]
    }
   ],
   "source": [
    "def extract_characters(s):\n",
    "    if len(s) >= 3:\n",
    "        first_char = s[0]  # 1st character (index 0 in Python)\n",
    "        third_char = s[2]  # 3rd character (index 2 in Python)\n",
    "        return first_char + third_char\n",
    "    else:\n",
    "        return \"Invalid input: String length should be at least 3.\"\n",
    "\n",
    "input_string = input()\n",
    "result = extract_characters(input_string)\n",
    "print(result)"
   ]
  },
  {
   "cell_type": "markdown",
   "metadata": {},
   "source": [
    "### **48. You are given a string ‘s’.Print all the duplicate characters of string.**\n",
    "\n",
    "#### **Input Description:**\n",
    "\n",
    "String ‘s; is given\n",
    "\n",
    "#### **Output Description:**\n",
    "\n",
    "Print only duplicate character and -1 if no character is duplicate.\n",
    "\n",
    "**Sample Input:**\n",
    "\n",
    "abcddee\n",
    "\n",
    "**Sample Output:**\n",
    "\n",
    "d e"
   ]
  },
  {
   "cell_type": "code",
   "execution_count": 57,
   "metadata": {},
   "outputs": [
    {
     "name": "stdout",
     "output_type": "stream",
     "text": [
      "d e\n"
     ]
    }
   ],
   "source": [
    "from collections import Counter\n",
    "\n",
    "def find_duplicates(s):\n",
    "    # Count occurrences of each character in the string\n",
    "    char_count = Counter(s)\n",
    "    \n",
    "    # Initialize a list to store duplicate characters\n",
    "    duplicates = []\n",
    "    \n",
    "    # Iterate through character counts\n",
    "    for char, count in char_count.items():\n",
    "        if count > 1:\n",
    "            duplicates.append(char)\n",
    "    \n",
    "    # If no duplicates found, return -1\n",
    "    if not duplicates:\n",
    "        return \"-1\"\n",
    "    \n",
    "    # Otherwise, return sorted list of duplicates as a string\n",
    "    return \" \".join(sorted(duplicates))\n",
    "\n",
    "input_string = input()\n",
    "result = find_duplicates(input_string)\n",
    "print(result)"
   ]
  },
  {
   "cell_type": "markdown",
   "metadata": {},
   "source": [
    "### **49. Given a string S.Validate if a given string is numeric.print 'yes' if it is a numeric otherwise print 'no'.**\n",
    "\n",
    "#### **Sample Testcase:**\n",
    "\n",
    "**INPUT**\n",
    "\n",
    "guvigeeks\n",
    "\n",
    "**OUTPUT**\n",
    "\n",
    "no"
   ]
  },
  {
   "cell_type": "code",
   "execution_count": 12,
   "metadata": {},
   "outputs": [
    {
     "name": "stdout",
     "output_type": "stream",
     "text": [
      "no\n"
     ]
    }
   ],
   "source": [
    "def is_numeric(S):\n",
    "    # Check if the string is numeric using isdigit()\n",
    "    return S.isdigit()\n",
    "\n",
    "S = input()                 # S = 'guvigeeks'\n",
    "\n",
    "# Validate if the string is numeric and print the result\n",
    "if is_numeric(S):\n",
    "    print('yes')\n",
    "else:\n",
    "    print('no')"
   ]
  },
  {
   "cell_type": "code",
   "execution_count": 58,
   "metadata": {},
   "outputs": [
    {
     "name": "stdout",
     "output_type": "stream",
     "text": [
      "no\n"
     ]
    }
   ],
   "source": [
    "def validate_numeric(s):\n",
    "    # Remove leading and trailing whitespace\n",
    "    s = s.strip()\n",
    "    \n",
    "    # Check if the string is numeric\n",
    "    if s:\n",
    "        # Check if all characters are digits (handling signs and decimal points)\n",
    "        if s[0] in ('+', '-') and len(s) > 1:\n",
    "            return s[1:].isdigit() or (s.count('.') == 1 and s[1:].replace('.', '', 1).isdigit())\n",
    "        else:\n",
    "            return s.isdigit() or (s.count('.') == 1 and s.replace('.', '', 1).isdigit())\n",
    "    else:\n",
    "        return False\n",
    "\n",
    "input_string = \"guvigeeks\"\n",
    "result = \"yes\" if validate_numeric(input_string) else \"no\"\n",
    "print(result)"
   ]
  },
  {
   "cell_type": "markdown",
   "metadata": {},
   "source": [
    "### **50. Given a string/sentence remove all the spaces and print the result.**\n",
    "\n",
    "Input Size : |s| <= 1000000(complexity O(n))\n",
    "\n",
    "#### **Sample Testcase:**\n",
    "\n",
    "**INPUT**\n",
    "\n",
    "guvi geeks\n",
    "\n",
    "**OUTPUT**\n",
    "\n",
    "guvigeeks"
   ]
  },
  {
   "cell_type": "code",
   "execution_count": 59,
   "metadata": {},
   "outputs": [
    {
     "name": "stdout",
     "output_type": "stream",
     "text": [
      "guvigeeks\n"
     ]
    }
   ],
   "source": [
    "def remove_spaces(s):\n",
    "    return s.replace(\" \", \"\")\n",
    "\n",
    "input_string = input()\n",
    "result = remove_spaces(input_string)\n",
    "print(result)"
   ]
  },
  {
   "cell_type": "markdown",
   "metadata": {},
   "source": [
    "### **51. Given 2 numbers n and m, n pairs of numbers a and b are given. In each pair 'a' means a person can start moving from point 'a' in the x axis to point 'b'(he can visit any point in between). Find if he can visit point m.**\n",
    "\n",
    "#### **Sample Testcase:**\n",
    "\n",
    "**INPUT**\n",
    "\n",
    "3 5\n",
    "\n",
    "0 2\n",
    "\n",
    "2 4\n",
    "\n",
    "3 5\n",
    "\n",
    "**OUTPUT**\n",
    "\n",
    "yes"
   ]
  },
  {
   "cell_type": "code",
   "execution_count": 14,
   "metadata": {},
   "outputs": [
    {
     "name": "stdout",
     "output_type": "stream",
     "text": [
      "yes\n"
     ]
    }
   ],
   "source": [
    "from collections import deque, defaultdict\n",
    "\n",
    "def can_visit_point(n, m, pairs):\n",
    "    # Create adjacency list\n",
    "    graph = defaultdict(list)\n",
    "    for a, b in pairs:\n",
    "        graph[a].append(b)\n",
    "    \n",
    "    # Use BFS to check if we can reach `m`\n",
    "    queue = deque([point for point, _ in pairs])\n",
    "    visited = set()\n",
    "    \n",
    "    while queue:\n",
    "        current = queue.popleft()\n",
    "        if current == m:\n",
    "            return \"yes\"\n",
    "        if current not in visited:\n",
    "            visited.add(current)\n",
    "            for neighbor in graph[current]:\n",
    "                if neighbor not in visited:\n",
    "                    queue.append(neighbor)\n",
    "    return \"no\"\n",
    "\n",
    "n, m = map(int, input().split())                                # n = 3, m = 5\n",
    "pairs = [tuple(map(int, input().split())) for _ in range(n)]    # pairs = [(0, 2) (2, 4) (3, 5)]\n",
    "print(can_visit_point(n, m, pairs))"
   ]
  },
  {
   "cell_type": "code",
   "execution_count": 7,
   "metadata": {},
   "outputs": [
    {
     "name": "stdout",
     "output_type": "stream",
     "text": [
      "yes\n"
     ]
    }
   ],
   "source": [
    "def can_reach_point_m(n, m, intervals):\n",
    "    # Sort intervals by their starting point (and by ending point if starting points are the same)\n",
    "    intervals.sort(key=lambda x: (x[0], x[1]))\n",
    "    \n",
    "    # Initialize the merged intervals list\n",
    "    merged_intervals = []\n",
    "    \n",
    "    # Merge overlapping intervals\n",
    "    for interval in intervals:\n",
    "        if not merged_intervals or merged_intervals[-1][1] < interval[0]:\n",
    "            # No overlap with the last interval in merged_intervals, add the new interval\n",
    "            merged_intervals.append(interval)\n",
    "        else:\n",
    "            # There is an overlap, merge the intervals\n",
    "            merged_intervals[-1][1] = max(merged_intervals[-1][1], interval[1])\n",
    "    \n",
    "    # Check if point m is covered by any of the merged intervals\n",
    "    for start, end in merged_intervals:\n",
    "        if start <= m <= end:\n",
    "            return \"yes\"\n",
    "    \n",
    "    return \"no\"\n",
    "\n",
    "# Test the function with the given testcase\n",
    "n, m = map(int, input().split())\n",
    "intervals = [[0, 2], [2, 4], [3, 5]]\n",
    "print(can_reach_point_m(n, m, intervals))"
   ]
  },
  {
   "cell_type": "markdown",
   "metadata": {},
   "source": [
    "### **52. Given a input string S, reverse the given string by appending each character of the string with '-'.**\n",
    "\n",
    "Input Size : |S| <= 100000\n",
    "\n",
    "**Sample Testcase:**\n",
    "\n",
    "**INPUT**\n",
    "\n",
    "codekata\n",
    "\n",
    "**OUTPUT**\n",
    "\n",
    "a-t-a-k-e-d-o-c"
   ]
  },
  {
   "cell_type": "code",
   "execution_count": 8,
   "metadata": {},
   "outputs": [
    {
     "name": "stdout",
     "output_type": "stream",
     "text": [
      "a-t-a-k-e-d-o-c\n"
     ]
    }
   ],
   "source": [
    "def reverse_and_append_dash(s):\n",
    "    # Reverse the string\n",
    "    reversed_s = s[::-1]\n",
    "    # Join each character with a '-'\n",
    "    result = '-'.join(reversed_s)\n",
    "    return result\n",
    "\n",
    "# Read input string S\n",
    "S = input().strip()\n",
    "\n",
    "# Get the result\n",
    "result = reverse_and_append_dash(S)\n",
    "\n",
    "# Print the result\n",
    "print(result)"
   ]
  },
  {
   "cell_type": "markdown",
   "metadata": {},
   "source": [
    "### **53. Given a number N and an array of N strings, find if two consecutive words are same.**\n",
    "\n",
    "Input Size : N <= 1000\n",
    "\n",
    "**Sample Testcase:**\n",
    "\n",
    "**INPUT**\n",
    "\n",
    "5\n",
    "\n",
    "code\n",
    "\n",
    "overload\n",
    "\n",
    "vishal\n",
    "\n",
    "sundar\n",
    "\n",
    "anish\n",
    "\n",
    "**OUTPUT**\n",
    "\n",
    "no"
   ]
  },
  {
   "cell_type": "code",
   "execution_count": 12,
   "metadata": {},
   "outputs": [
    {
     "name": "stdout",
     "output_type": "stream",
     "text": [
      "no\n"
     ]
    }
   ],
   "source": [
    "def check_consecutive_words(n, words):\n",
    "    for i in range(n - 1):\n",
    "        if words[i] == words[i + 1]:\n",
    "            return \"yes\"\n",
    "    return \"no\"\n",
    "\n",
    "n = int(input())\n",
    "words = [input().strip() for _ in range(n)]\n",
    "\n",
    "result = check_consecutive_words(n, words)\n",
    "print(result)"
   ]
  },
  {
   "cell_type": "markdown",
   "metadata": {},
   "source": [
    "### **54. Given 2 numbers N,K and an array of N strings, find if any K consecutive strings are same.**\n",
    "\n",
    "Input Size : K <= N <= 1000\n",
    "\n",
    "**Sample Testcase:**\n",
    "\n",
    "**INPUT**\n",
    "\n",
    "5 3\n",
    "\n",
    "code\n",
    "\n",
    "overload\n",
    "\n",
    "vishal\n",
    "\n",
    "vishal\n",
    "\n",
    "vishal\n",
    "\n",
    "**OUTPUT**\n",
    "\n",
    "yes"
   ]
  },
  {
   "cell_type": "code",
   "execution_count": 13,
   "metadata": {},
   "outputs": [
    {
     "name": "stdout",
     "output_type": "stream",
     "text": [
      "yes\n"
     ]
    }
   ],
   "source": [
    "def check_k_consecutive_strings(n, k, words):\n",
    "    for i in range(n - k + 1):\n",
    "        if all(words[j] == words[i] for j in range(i, i + k)):\n",
    "            return \"yes\"\n",
    "    return \"no\"\n",
    "\n",
    "# Read input values\n",
    "n, k = map(int, input().split())\n",
    "words = [input().strip() for _ in range(n)]\n",
    "\n",
    "# Get the result\n",
    "result = check_k_consecutive_strings(n, k, words)\n",
    "\n",
    "# Print the result\n",
    "print(result)"
   ]
  },
  {
   "cell_type": "markdown",
   "metadata": {},
   "source": [
    "### **55. Given 2 strings S,X. Print the string after deleting X.If X not found print the same string.**\n",
    "\n",
    "Input Size : 1 <= |s|, |x| <= 1000\n",
    "\n",
    "#### **Sample Testcase:**\n",
    "\n",
    "**INPUT**\n",
    "\n",
    "Happy Birthday\n",
    "\n",
    "Happy\n",
    "\n",
    "**OUTPUT**\n",
    "\n",
    "Birthday"
   ]
  },
  {
   "cell_type": "code",
   "execution_count": null,
   "metadata": {},
   "outputs": [],
   "source": [
    "def delete_substring(s, x):\n",
    "    # Remove all occurrences of substring `x` from string `s`\n",
    "    result = s.replace(x, '')\n",
    "    return result\n",
    "\n",
    "# Read input\n",
    "s = input().strip()\n",
    "x = input().strip()\n",
    "\n",
    "# Get the result after deleting `x` from `s`\n",
    "result = delete_substring(s, x)\n",
    "\n",
    "# Print the result\n",
    "print(result)"
   ]
  },
  {
   "cell_type": "code",
   "execution_count": 14,
   "metadata": {},
   "outputs": [
    {
     "name": "stdout",
     "output_type": "stream",
     "text": [
      " Birthday\n"
     ]
    }
   ],
   "source": [
    "def remove_substring(s, x):\n",
    "    if x in s:\n",
    "        return s.replace(x, '', 1)  # Remove only the first occurrence of x\n",
    "    return s\n",
    "\n",
    "S = input().strip()     # Happy Birthday\n",
    "X = input().strip()     # Happy\n",
    "\n",
    "result = remove_substring(S, X)\n",
    "print(result)"
   ]
  },
  {
   "cell_type": "markdown",
   "metadata": {},
   "source": [
    "### **56. Given 2 strings S,X. Print the string after deleting X.If X not found print the same string.**\n",
    "\n",
    "Input Size : 1 <= |s|, |x| <= 1000\n",
    "\n",
    "**Sample Testcase:**\n",
    "\n",
    "**INPUT**\n",
    "\n",
    "Happy Birthday\n",
    "\n",
    "Happy\n",
    "\n",
    "**OUTPUT**\n",
    "\n",
    "Birthday"
   ]
  },
  {
   "cell_type": "code",
   "execution_count": 15,
   "metadata": {},
   "outputs": [
    {
     "name": "stdout",
     "output_type": "stream",
     "text": [
      "r g\n"
     ]
    }
   ],
   "source": [
    "def print_every_kth_char(s, k):\n",
    "    # Print every k-th character from the beginning\n",
    "    result = []\n",
    "    for i in range(k-1, len(s), k):\n",
    "        result.append(s[i])\n",
    "    print(' '.join(result))\n",
    "\n",
    "s = input().strip()\n",
    "k = int(input().strip())\n",
    "print_every_kth_char(s, k)"
   ]
  },
  {
   "cell_type": "markdown",
   "metadata": {},
   "source": [
    "### **57. Given 2 strings,check whether they have any common characters.If found print 'yes' else print 'no'.**\n",
    "\n",
    "Input Size : |s| <= 100000(O(n))\n",
    "\n",
    "Sample Testcase :\n",
    "\n",
    "**INPUT**\n",
    "\n",
    "guvi guvigeeks\n",
    "\n",
    "**OUTPUT**\n",
    "\n",
    "yes"
   ]
  },
  {
   "cell_type": "code",
   "execution_count": 22,
   "metadata": {},
   "outputs": [
    {
     "name": "stdout",
     "output_type": "stream",
     "text": [
      "yes\n"
     ]
    }
   ],
   "source": [
    "# Read input strings and split by space\n",
    "a = input().split(\" \")\n",
    "\n",
    "# Convert each string into a list of characters\n",
    "b = list(a[0])\n",
    "c = list(a[1])\n",
    "\n",
    "# Initialize a counter and an empty list to store common characters\n",
    "m = 0\n",
    "d = []\n",
    "\n",
    "# Determine the length of the smaller list\n",
    "if len(b) < len(c):\n",
    "    m = len(b)\n",
    "else:\n",
    "    m = len(c)\n",
    "\n",
    "# Check for common characters\n",
    "for i in range(m):\n",
    "    if b[i] in c:\n",
    "        d.append(b[i])\n",
    "\n",
    "if d:\n",
    "    print(\"yes\")\n",
    "else:\n",
    "    print(\"no\")"
   ]
  },
  {
   "cell_type": "code",
   "execution_count": 21,
   "metadata": {},
   "outputs": [
    {
     "name": "stdout",
     "output_type": "stream",
     "text": [
      "yes\n"
     ]
    }
   ],
   "source": [
    "def have_common_characters(s1, s2):\n",
    "    # Convert both strings to sets of characters\n",
    "    set1 = set(s1)\n",
    "    set2 = set(s2)\n",
    "    \n",
    "    # Check if there is any intersection\n",
    "    if set1 & set2:\n",
    "        return 'yes'\n",
    "    else:\n",
    "        return 'no'\n",
    "\n",
    "s1, s2 = input().split()\n",
    "print(have_common_characters(s1, s2))"
   ]
  },
  {
   "cell_type": "markdown",
   "metadata": {},
   "source": [
    "### **58. Given a number N, find the number of ones in its binary representation.**\n",
    "\n",
    "Sample Testcase :\n",
    "\n",
    "**INPUT**\n",
    "\n",
    "276\n",
    "\n",
    "**OUTPUT**\n",
    "\n",
    "3"
   ]
  },
  {
   "cell_type": "markdown",
   "metadata": {},
   "source": [
    "#### **Logic:**\n",
    "\n",
    "bin(N) --> converts the number N to its binary representation as a string prefixed with '0b'.\n",
    "\n",
    "[2:] --> removes the '0b' prefix.\n",
    "\n",
    "binary_representation.count('1') ---> counts the number of '1's in the binary string.\n",
    "\n",
    "For the given input value of 276, the binary representation is 100010100, which contains three '1's. Thus, the output is 3."
   ]
  },
  {
   "cell_type": "code",
   "execution_count": 1,
   "metadata": {},
   "outputs": [
    {
     "name": "stdout",
     "output_type": "stream",
     "text": [
      "3\n"
     ]
    }
   ],
   "source": [
    "def count_ones_in_binary(N):\n",
    "    # Convert the number to binary and remove the '0b' prefix\n",
    "    binary_representation = bin(N)[2:]\n",
    "    # Count the number of ones\n",
    "    number_of_ones = binary_representation.count('1')\n",
    "    return number_of_ones\n",
    "\n",
    "N = int(input())\n",
    "print(count_ones_in_binary(N))"
   ]
  },
  {
   "cell_type": "markdown",
   "metadata": {},
   "source": [
    "### **59. Given a binary number convert it into octal format.**\n",
    "\n",
    "Sample Testcase :\n",
    "\n",
    "**INPUT**\n",
    "\n",
    "1100100\n",
    "\n",
    "**OUTPUT**\n",
    "\n",
    "144"
   ]
  },
  {
   "cell_type": "code",
   "execution_count": 2,
   "metadata": {},
   "outputs": [
    {
     "name": "stdout",
     "output_type": "stream",
     "text": [
      "144\n"
     ]
    }
   ],
   "source": [
    "def binary_to_octal(binary_str):\n",
    "    # Pad the binary string with leading zeros to make its length a multiple of 3\n",
    "    padded_binary_str = binary_str.zfill(len(binary_str) + (3 - len(binary_str) % 3) % 3)\n",
    "    \n",
    "    # Initialize an empty string for the octal number\n",
    "    octal_str = \"\"\n",
    "    \n",
    "    # Group the binary string into sets of three and convert each group to octal\n",
    "    for i in range(0, len(padded_binary_str), 3):\n",
    "        # Take three binary digits\n",
    "        binary_group = padded_binary_str[i : i+3]\n",
    "        # Convert the binary group to an octal digit and append to the octal string\n",
    "        octal_str += str(int(binary_group, 2))\n",
    "    \n",
    "    return octal_str\n",
    "\n",
    "binary_input = input()                  # bin_input = '1100100'\n",
    "print(binary_to_octal(binary_input))"
   ]
  },
  {
   "cell_type": "markdown",
   "metadata": {},
   "source": [
    "### **60. A number is given as input.Find the maximum number that can be formed using the digits.**\n",
    "\n",
    "Input Size : N <= 10000000\n",
    "\n",
    "Sample Testcase :\n",
    "\n",
    "**INPUT**\n",
    "\n",
    "4123\n",
    "\n",
    "**OUTPUT**\n",
    "\n",
    "4321"
   ]
  },
  {
   "cell_type": "code",
   "execution_count": null,
   "metadata": {},
   "outputs": [],
   "source": [
    "def max_number_from_digits(N):\n",
    "    # Convert the number to a string to work with the digits\n",
    "    str_N = str(N)\n",
    "    # Sort the digits in descending order\n",
    "    sorted_digits = sorted(str_N, reverse=True)\n",
    "    # Join the sorted digits to form the maximum number\n",
    "    max_number_str = ''.join(sorted_digits)\n",
    "    # Convert the result back to an integer\n",
    "    max_number = int(max_number_str)\n",
    "    return max_number\n",
    "\n",
    "input_number = int(input())\n",
    "print(max_number_from_digits(input_number))"
   ]
  },
  {
   "cell_type": "markdown",
   "metadata": {},
   "source": [
    "### **61. Given a string S, print 'yes' if the strings 'GUVI' and 'GEEK' is present case-sensitively in the string else print 'no'.**\n",
    "\n",
    "Input Size : 1 <= 100\n",
    "\n",
    "Sample Testcase :\n",
    "\n",
    "**INPUT**\n",
    "\n",
    "Vishal_Sundar prepared this question\n",
    "\n",
    "**OUTPUT**\n",
    "\n",
    "no"
   ]
  },
  {
   "cell_type": "code",
   "execution_count": 6,
   "metadata": {},
   "outputs": [
    {
     "name": "stdout",
     "output_type": "stream",
     "text": [
      "no\n"
     ]
    }
   ],
   "source": [
    "def check_strings(S):\n",
    "    if \"GUVI\" in S and \"GEEK\" in S:\n",
    "        return 'yes'\n",
    "    else:\n",
    "        return 'no'\n",
    "\n",
    "S = input()             # S = 'Vishal_Sundar prepared this question'\n",
    "print(check_strings(S))"
   ]
  },
  {
   "cell_type": "markdown",
   "metadata": {},
   "source": [
    "### **62. Given a number N and an array of N strings,Print yes, if all strings have atleast one vowel in them otherwise print no.**\n",
    "\n",
    "Input Size : N <= 1000\n",
    "\n",
    "Sample Testcase :\n",
    "\n",
    "**INPUT**\n",
    "\n",
    "5\n",
    "code\n",
    "overload\n",
    "vishal\n",
    "sundar\n",
    "anish\n",
    "\n",
    "**OUTPUT**\n",
    "\n",
    "yes"
   ]
  },
  {
   "cell_type": "code",
   "execution_count": 7,
   "metadata": {},
   "outputs": [
    {
     "name": "stdout",
     "output_type": "stream",
     "text": [
      "yes\n"
     ]
    }
   ],
   "source": [
    "def contains_vowel(s):\n",
    "    vowels = \"aeiouAEIOU\"\n",
    "    for char in s:\n",
    "        if char in vowels:\n",
    "            return True\n",
    "    return False\n",
    "\n",
    "def check_all_strings_have_vowels(N, strings):\n",
    "    for string in strings:\n",
    "        if not contains_vowel(string):\n",
    "            return \"no\"\n",
    "    return \"yes\"\n",
    "\n",
    "N = int(input())\n",
    "strings = [input().strip() for _ in range(N)]\n",
    "print(check_all_strings_have_vowels(N, strings))"
   ]
  },
  {
   "cell_type": "markdown",
   "metadata": {},
   "source": [
    "### **63. Given a string S of length N, reverse the case of each letter.**\n",
    "\n",
    "Input Size : N <= 100\n",
    "\n",
    "Sample Testcase :\n",
    "\n",
    "**INPUT**\n",
    "\n",
    "HeLlo\n",
    "\n",
    "**OUTPUT**\n",
    "\n",
    "hElLO"
   ]
  },
  {
   "cell_type": "code",
   "execution_count": 8,
   "metadata": {},
   "outputs": [
    {
     "name": "stdout",
     "output_type": "stream",
     "text": [
      "hElLO\n"
     ]
    }
   ],
   "source": [
    "S = input().swapcase()\n",
    "print(S)"
   ]
  },
  {
   "cell_type": "code",
   "execution_count": 9,
   "metadata": {},
   "outputs": [
    {
     "name": "stdout",
     "output_type": "stream",
     "text": [
      "hElLO\n"
     ]
    }
   ],
   "source": [
    "# Use swapcase() to reverse the case of each letter\n",
    "def reverse_case(S):\n",
    "    return S.swapcase()\n",
    "\n",
    "S = input()\n",
    "\n",
    "# reversing the case\n",
    "result = reverse_case(S)\n",
    "print(result)"
   ]
  },
  {
   "cell_type": "markdown",
   "metadata": {},
   "source": [
    "### **65. Given a string S, retain the character(s) once irrespective of number of times it occurs in the given string.**\n",
    "\n",
    "Input Size : |S| <= 100000\n",
    "\n",
    "Sample Testcase :\n",
    "\n",
    "**INPUT**\n",
    "\n",
    "aabbaa\n",
    "\n",
    "**OUTPUT**\n",
    "\n",
    "ab"
   ]
  },
  {
   "cell_type": "markdown",
   "metadata": {},
   "source": [
    "### **Logic:**\n",
    "\n",
    "**Set seen:**\n",
    "\n",
    "This set keeps track of characters that have already been encountered. It ensures that each character is added only once.\n",
    "\n",
    "**List result:**\n",
    "\n",
    "This list accumulates characters in the order they first appear in the input string.\n",
    "\n",
    "**Loop Through String:**\n",
    "\n",
    "For each character in the string S, check if it is in the seen set.\n",
    "If not, add it to both the seen set and the result list.\n",
    "\n",
    "**Build Result String:**\n",
    "\n",
    "After processing all characters, join the list into a string and return it."
   ]
  },
  {
   "cell_type": "code",
   "execution_count": 11,
   "metadata": {},
   "outputs": [
    {
     "name": "stdout",
     "output_type": "stream",
     "text": [
      "ab\n"
     ]
    }
   ],
   "source": [
    "def retain_unique_chars(S):\n",
    "    seen = set()  # To track characters we've added\n",
    "    result = []  # To store the final characters\n",
    "\n",
    "    for char in S:\n",
    "        if char not in seen:\n",
    "            seen.add(char)\n",
    "            result.append(char)\n",
    "    return ''.join(result)\n",
    "\n",
    "S = input()                      # S = 'aabbaa'\n",
    "result = retain_unique_chars(S)\n",
    "print(result)"
   ]
  },
  {
   "cell_type": "markdown",
   "metadata": {},
   "source": [
    "### **66. Given a set of numbers of length N. Your task is to find the quad ret (x1,x2,x3,x4) which will result the sum in 1. If quad ret exists print Yes else print No**\n",
    "\n",
    "**Input Description:**\n",
    "\n",
    "First line contains a number N. Next line contains n space separated numbers\n",
    "\n",
    "**Output Description:**\n",
    "\n",
    "Print Yes or No\n",
    "\n",
    "**Sample Input:**\n",
    "\n",
    "5 \n",
    "\n",
    "1 -1 2 -2 3\n",
    "\n",
    "**Sample Output:**\n",
    "\n",
    "Yes"
   ]
  },
  {
   "cell_type": "code",
   "execution_count": 1,
   "metadata": {},
   "outputs": [
    {
     "name": "stdout",
     "output_type": "stream",
     "text": [
      "Yes\n"
     ]
    }
   ],
   "source": [
    "def find_quadruplet(arr, N):\n",
    "    # Brute force solution: Check all combinations of four numbers\n",
    "    for i in range(N):\n",
    "        for j in range(i+1, N):\n",
    "            for k in range(j+1, N):\n",
    "                for l in range(k+1, N):\n",
    "                    if arr[i] + arr[j] + arr[k] + arr[l] == 1:\n",
    "                        return \"Yes\"\n",
    "    return \"No\"\n",
    "\n",
    "N = int(input())\n",
    "arr = list(map(int, input().split()))\n",
    "print(find_quadruplet(arr, N))"
   ]
  },
  {
   "cell_type": "markdown",
   "metadata": {},
   "source": [
    "### **67. Given a sentence interchange the between the word 'and'.**\n",
    "\n",
    "Input Size : |S| <= 1000000\n",
    "\n",
    "**Sample Testcase:**\n",
    "\n",
    "**INPUT**\n",
    "\n",
    "jack and jill went up and down to get water\n",
    "\n",
    "**OUTPUT**\n",
    "\n",
    "jill and jack went down and up to get water"
   ]
  },
  {
   "cell_type": "code",
   "execution_count": 2,
   "metadata": {},
   "outputs": [
    {
     "name": "stdout",
     "output_type": "stream",
     "text": [
      "jill and jack went down and up to get water\n"
     ]
    }
   ],
   "source": [
    "def swap_words_around_and(sentence):\n",
    "    # Split the sentence into words\n",
    "    words = sentence.split()\n",
    "    \n",
    "    # Iterate over the words and swap around \"and\"\n",
    "    i = 0\n",
    "    while i < len(words):\n",
    "        if words[i] == \"and\" and i > 0 and i < len(words) - 1:\n",
    "            # Swap the words before and after \"and\"\n",
    "            words[i-1], words[i+1] = words[i+1], words[i-1]\n",
    "            i += 2  # Move to the next possible \"and\" (skip the swapped part)\n",
    "        else:\n",
    "            i += 1\n",
    "    \n",
    "    # Join the words back into a sentence\n",
    "    return ' '.join(words)\n",
    "\n",
    "sentence = input().strip()\n",
    "print(swap_words_around_and(sentence))"
   ]
  },
  {
   "cell_type": "markdown",
   "metadata": {},
   "source": [
    "### **68. Given a string two strings S1 and S2, remove characters from the S1 which are present in the S2.If S1 becomes empty then print -1**\n",
    "\n",
    "Input Size : N <= 100000\n",
    "\n",
    "**Sample Testcase:**\n",
    "\n",
    "**INPUT**\n",
    "\n",
    "GUVI GEEK\n",
    "\n",
    "**OUTPUT**\n",
    "\n",
    "UVI"
   ]
  },
  {
   "cell_type": "code",
   "execution_count": 3,
   "metadata": {},
   "outputs": [
    {
     "name": "stdout",
     "output_type": "stream",
     "text": [
      "UVI\n"
     ]
    }
   ],
   "source": [
    "def remove_chars(S1, S2):\n",
    "    chars_to_remove = set(S2)   # Convert S2 into a set for efficient lookups\n",
    "    result = [char for char in S1 if char not in chars_to_remove]   # Filter out characters from S1 that are in S2\n",
    "    result_str = ''.join(result)    # Join the remaining characters to form the resulting string\n",
    "    return result_str if result_str else '-1'   # If the result is empty, return -1, otherwise return the result\n",
    "\n",
    "# Input reading\n",
    "S1, S2 = input().split()\n",
    "\n",
    "# Call the function and print the result\n",
    "print(remove_chars(S1, S2))"
   ]
  },
  {
   "cell_type": "markdown",
   "metadata": {},
   "source": [
    "### **69. Given a string print reverse all words except the first and last words.**\n",
    "\n",
    "**Sample Testcase:**\n",
    "\n",
    "**INPUT**\n",
    "\n",
    "Hi how are you\n",
    "\n",
    "**OUTPUT**\n",
    "\n",
    "Hi woh era you"
   ]
  },
  {
   "cell_type": "code",
   "execution_count": 4,
   "metadata": {},
   "outputs": [
    {
     "name": "stdout",
     "output_type": "stream",
     "text": [
      "Hi woh era you\n"
     ]
    }
   ],
   "source": [
    "def reverse_middle_words(sentence):\n",
    "    # Split the sentence into words\n",
    "    words = sentence.split()\n",
    "    \n",
    "    # If the sentence has less than 3 words, return as is\n",
    "    if len(words) < 3:\n",
    "        return sentence\n",
    "    \n",
    "    # Reverse all words except the first and last\n",
    "    for i in range(1, len(words) - 1):\n",
    "        words[i] = words[i][::-1]  # Reverse the current word\n",
    "    return ' '.join(words)  # Join the words back into a sentence\n",
    "\n",
    "# Input reading\n",
    "sentence = input().strip()\n",
    "\n",
    "# Call the function and print the result\n",
    "print(reverse_middle_words(sentence))"
   ]
  },
  {
   "cell_type": "markdown",
   "metadata": {},
   "source": [
    "### **72. You are given a string ‘s’. Your task is to print the characters which are not repeated with a single space in between the characters.**\n",
    "\n",
    "**Input Description:**\n",
    "\n",
    "You are given a string ‘s’.\n",
    "\n",
    "**Output Description:**\n",
    "\n",
    "Print the characters present once and -1 if there is no character which satisfy above condition\n",
    "\n",
    "**Sample Input:**\n",
    "\n",
    "dabbc\n",
    "\n",
    "**Sample Output:**\n",
    "\n",
    "d a c "
   ]
  },
  {
   "cell_type": "code",
   "execution_count": 5,
   "metadata": {},
   "outputs": [
    {
     "name": "stdout",
     "output_type": "stream",
     "text": [
      "d a c\n"
     ]
    }
   ],
   "source": [
    "from collections import Counter\n",
    "\n",
    "def print_non_repeated_chars(s):\n",
    "    # Count the frequency of each character\n",
    "    char_count = Counter(s)\n",
    "    \n",
    "    # Collect non-repeated characters\n",
    "    result = [char for char in s if char_count[char] == 1]\n",
    "    \n",
    "    # If no non-repeated characters are found, print -1\n",
    "    if not result:\n",
    "        print(-1)\n",
    "    else:\n",
    "        # Print the non-repeated characters with a space in between\n",
    "        print(' '.join(result))\n",
    "\n",
    "s = input().strip()\n",
    "print_non_repeated_chars(s)"
   ]
  },
  {
   "cell_type": "markdown",
   "metadata": {},
   "source": [
    "### **74. Given a string/sentence print its corresponding camelcase convention.**\n",
    "\n",
    "Input Size : |s| <= 1000000(complexity O(n))\n",
    "\n",
    "**Sample Testcase :**\n",
    "\n",
    "**INPUT**\n",
    "\n",
    "guvi geeks\n",
    "\n",
    "**OUTPUT**\n",
    "\n",
    "GuviGeeks"
   ]
  },
  {
   "cell_type": "code",
   "execution_count": 6,
   "metadata": {},
   "outputs": [
    {
     "name": "stdout",
     "output_type": "stream",
     "text": [
      "GuviGeeks\n"
     ]
    }
   ],
   "source": [
    "def to_camel_case(s):\n",
    "    # Split the sentence into words\n",
    "    words = s.split()\n",
    "    \n",
    "    # Capitalize the first letter of each word and join them\n",
    "    result = ''.join(word.capitalize() for word in words)\n",
    "    return result\n",
    "\n",
    "# Input reading\n",
    "s = input().strip()\n",
    "\n",
    "# Call the function and print the result\n",
    "print(to_camel_case(s))"
   ]
  },
  {
   "cell_type": "markdown",
   "metadata": {},
   "source": [
    "### **75. Given 2 numbers N,K and an array of N integers, find if the element K exists in the array.**\n",
    "\n",
    "Input Size : N <= 100000\n",
    "\n",
    "**Sample Testcase:**\n",
    "\n",
    "**INPUT**\n",
    "\n",
    "5 2\n",
    "\n",
    "1 2 3 4 5\n",
    "\n",
    "**OUTPUT**\n",
    "\n",
    "yes\n",
    "\n",
    "HINT: Read about Binary Search"
   ]
  },
  {
   "cell_type": "code",
   "execution_count": 7,
   "metadata": {},
   "outputs": [
    {
     "name": "stdout",
     "output_type": "stream",
     "text": [
      "yes\n"
     ]
    }
   ],
   "source": [
    "def binary_search(arr, target):\n",
    "    left, right = 0, len(arr) - 1\n",
    "    \n",
    "    while left <= right:\n",
    "        mid = left + (right - left) // 2\n",
    "        \n",
    "        if arr[mid] == target:\n",
    "            return True\n",
    "        elif arr[mid] < target:\n",
    "            left = mid + 1\n",
    "        else:\n",
    "            right = mid - 1\n",
    "            \n",
    "    return False\n",
    "\n",
    "# Input reading\n",
    "N, K = map(int, input().split())\n",
    "arr = list(map(int, input().split()))\n",
    "arr.sort()\n",
    "\n",
    "# Perform binary search to find K\n",
    "if binary_search(arr, K):\n",
    "    print(\"yes\")\n",
    "else:\n",
    "    print(\"no\")"
   ]
  },
  {
   "cell_type": "markdown",
   "metadata": {},
   "source": [
    "### **77. Given 2 strings check whether they differ exacly by one character.If yes then print 'yes' otherwise print 'no'**\n",
    "\n",
    "Input Size : |s| <= 100000(complexity O(nlogn) or O(n))\n",
    "\n",
    "**Sample Testcase:**\n",
    "\n",
    "**INPUT**\n",
    "\n",
    "codekata codekate\n",
    "\n",
    "**OUTPUT**\n",
    "\n",
    "yes"
   ]
  },
  {
   "cell_type": "code",
   "execution_count": 8,
   "metadata": {},
   "outputs": [
    {
     "name": "stdout",
     "output_type": "stream",
     "text": [
      "yes\n"
     ]
    }
   ],
   "source": [
    "def differ_by_one(s1, s2):\n",
    "    # Check if lengths are the same\n",
    "    if len(s1) != len(s2):\n",
    "        return \"no\"\n",
    "    \n",
    "    # Count differences\n",
    "    difference_count = 0\n",
    "    \n",
    "    for char1, char2 in zip(s1, s2):\n",
    "        if char1 != char2:\n",
    "            difference_count += 1\n",
    "            # Early exit if more than one difference\n",
    "            if difference_count > 1:\n",
    "                return \"no\"\n",
    "    \n",
    "    # Check if there is exactly one difference\n",
    "    return \"yes\" if difference_count == 1 else \"no\"\n",
    "\n",
    "s1, s2 = input().strip().split()\n",
    "print(differ_by_one(s1, s2))"
   ]
  },
  {
   "cell_type": "markdown",
   "metadata": {},
   "source": [
    "### **78. Given a string 'S' and a character 'K', find at what position the character 'K' occurs for the first time in 'S'.(Assume the index of string starts at 1).If the character is not found in 'S' then print -1**\n",
    "\n",
    "Input Size : |s| <= 100000\n",
    "\n",
    "**Sample Testcase:**\n",
    "\n",
    "**INPUT**\n",
    "\n",
    "codekata a\n",
    "\n",
    "**OUTPUT**\n",
    "\n",
    "6"
   ]
  },
  {
   "cell_type": "code",
   "execution_count": 10,
   "metadata": {},
   "outputs": [
    {
     "name": "stdout",
     "output_type": "stream",
     "text": [
      "6\n"
     ]
    }
   ],
   "source": [
    "def find_first_occurrence(s, k):\n",
    "    # Iterate through the string to find the first occurrence of k\n",
    "    for index in range(len(s)):\n",
    "        if s[index] == k:\n",
    "            return index + 1  # return position as 1-based index\n",
    "    return -1  # if not found\n",
    "\n",
    "input_string = input().strip()\n",
    "k = input().strip()\n",
    "print(find_first_occurrence(input_string, k))"
   ]
  },
  {
   "cell_type": "markdown",
   "metadata": {},
   "source": [
    "### **79. Given a string, print the least repeated characters in the string.If there are more than one character repeated preserve the order as in the input.**\n",
    "\n",
    "Input Size : 1 <= N <= 100000\n",
    "\n",
    "**Sample Testcase:**\n",
    "\n",
    "**INPUT**\n",
    "\n",
    "codeKata challenge\n",
    "\n",
    "**OUTPUT**\n",
    "\n",
    "odKthng"
   ]
  },
  {
   "cell_type": "code",
   "execution_count": 12,
   "metadata": {},
   "outputs": [
    {
     "name": "stdout",
     "output_type": "stream",
     "text": [
      "odKthng\n"
     ]
    }
   ],
   "source": [
    "def least_repeated_characters(s):\n",
    "    # Create a dictionary to store character frequencies\n",
    "    frequency = {}\n",
    "    \n",
    "    # Count each character's frequency\n",
    "    for char in s:\n",
    "        if char != ' ':  # Ignore spaces\n",
    "            frequency[char] = frequency.get(char, 0) + 1\n",
    "\n",
    "    # Collect non-repeating characters\n",
    "    result = []\n",
    "    for char in s:\n",
    "        if frequency.get(char, 0) == 1 and char != ' ':  # Check for non-repeating\n",
    "            result.append(char)\n",
    "\n",
    "    # Join the result list to form the output string\n",
    "    return ''.join(result)\n",
    "\n",
    "input_string = input()\n",
    "output = least_repeated_characters(input_string)\n",
    "print(output)"
   ]
  },
  {
   "cell_type": "markdown",
   "metadata": {},
   "source": [
    "### **80. Given a string S,count the maximum number of times a character repeated in the string.If no character is repeated print '0'.**\n",
    "\n",
    "Input Size : 1 <= N <= 100000\n",
    "\n",
    "**Sample Testcase:**\n",
    "\n",
    "**INPUT**\n",
    "\n",
    "codekata\n",
    "\n",
    "**OUTPUT**\n",
    "\n",
    "2"
   ]
  },
  {
   "cell_type": "code",
   "execution_count": 13,
   "metadata": {},
   "outputs": [
    {
     "name": "stdout",
     "output_type": "stream",
     "text": [
      "2\n"
     ]
    }
   ],
   "source": [
    "def max_character_repetition(s):\n",
    "    # Create a dictionary to count character frequencies\n",
    "    frequency = {}\n",
    "    \n",
    "    # Count each character's frequency\n",
    "    for char in s:\n",
    "        frequency[char] = frequency.get(char, 0) + 1\n",
    "    \n",
    "    # Find the maximum frequency\n",
    "    max_count = 0\n",
    "    for count in frequency.values():\n",
    "        if count > max_count:\n",
    "            max_count = count\n",
    "            \n",
    "    # Return the maximum count if greater than 1, otherwise return 0\n",
    "    return max_count if max_count > 1 else 0\n",
    "\n",
    "# Example usage\n",
    "input_string = input()\n",
    "output = max_character_repetition(input_string)\n",
    "print(output)"
   ]
  },
  {
   "cell_type": "markdown",
   "metadata": {},
   "source": [
    "### **81. Given 2 strings,check whether it is isomorphic.If it is not isomorphic print '-1'.**\n",
    "\n",
    "Input Size : |s| <= 100000(complexity O(nlogn))\n",
    "\n",
    "**Sample Testcase:**\n",
    "\n",
    "**INPUT**\n",
    "\n",
    "aab xxy\n",
    "\n",
    "**OUTPUT**\n",
    "\n",
    "yes"
   ]
  },
  {
   "cell_type": "code",
   "execution_count": 14,
   "metadata": {},
   "outputs": [
    {
     "name": "stdout",
     "output_type": "stream",
     "text": [
      "yes\n"
     ]
    }
   ],
   "source": [
    "def are_isomorphic(s1, s2):\n",
    "    if len(s1) != len(s2):\n",
    "        return -1\n",
    "\n",
    "    # Mapping dictionaries\n",
    "    mapping_s1_to_s2 = {}\n",
    "    mapping_s2_to_s1 = {}\n",
    "\n",
    "    for char1, char2 in zip(s1, s2):\n",
    "        # Check mapping from s1 to s2\n",
    "        if char1 in mapping_s1_to_s2:\n",
    "            if mapping_s1_to_s2[char1] != char2:\n",
    "                return -1  # Mismatch found\n",
    "        else:\n",
    "            mapping_s1_to_s2[char1] = char2\n",
    "\n",
    "        # Check mapping from s2 to s1\n",
    "        if char2 in mapping_s2_to_s1:\n",
    "            if mapping_s2_to_s1[char2] != char1:\n",
    "                return -1  # Mismatch found\n",
    "        else:\n",
    "            mapping_s2_to_s1[char2] = char1\n",
    "    return 'yes'\n",
    "\n",
    "# Example usage\n",
    "input1 = input()\n",
    "input2 = input()\n",
    "output = are_isomorphic(input1, input2)\n",
    "print(output)"
   ]
  },
  {
   "cell_type": "markdown",
   "metadata": {},
   "source": [
    "### **83. Given a number N, print the kth digit from the given position p(given order N P K).**\n",
    "\n",
    "**Sample Testcase:**\n",
    "\n",
    "**INPUT**\n",
    "\n",
    "5765 2 1\n",
    "\n",
    "**OUTPUT**\n",
    "\n",
    "6"
   ]
  },
  {
   "cell_type": "code",
   "execution_count": 17,
   "metadata": {},
   "outputs": [
    {
     "name": "stdout",
     "output_type": "stream",
     "text": [
      "7\n"
     ]
    }
   ],
   "source": [
    "def get_kth_digit(N, P, K):\n",
    "    # Convert number N to string to easily access digits\n",
    "    str_num = str(N)\n",
    "    \n",
    "    # Calculate the starting index based on P\n",
    "    start_index = P - 1  # Convert to 0-indexed\n",
    "    \n",
    "    # Check if the starting position is valid\n",
    "    if start_index < 0 or start_index >= len(str_num):\n",
    "        return -1  # Invalid position\n",
    "    \n",
    "    # Calculate the index of the kth digit\n",
    "    kth_index = start_index + K - 1  # Convert K to 0-indexed\n",
    "    \n",
    "    # Check if kth index is valid\n",
    "    if kth_index < 0 or kth_index >= len(str_num):\n",
    "        return -1  # Invalid kth position\n",
    "    \n",
    "    # Return the digit at the kth index\n",
    "    return str_num[kth_index]\n",
    "\n",
    "# Example usage\n",
    "N, P, K = map(int, input().split())\n",
    "output = get_kth_digit(N, P, K)\n",
    "print(output)"
   ]
  },
  {
   "cell_type": "markdown",
   "metadata": {},
   "source": [
    "### **84. Given a number N, print the sum of its first and last digit.**\n",
    "\n",
    "Input Size : |N| <= 10000\n",
    "\n",
    "**Sample Testcase:**\n",
    "\n",
    "**INPUT**\n",
    "\n",
    "51233\n",
    "\n",
    "**OUTPUT**\n",
    "\n",
    "8"
   ]
  },
  {
   "cell_type": "code",
   "execution_count": 18,
   "metadata": {},
   "outputs": [
    {
     "name": "stdout",
     "output_type": "stream",
     "text": [
      "8\n"
     ]
    }
   ],
   "source": [
    "def sum_first_last_digit(N):\n",
    "    # Convert the number to a string\n",
    "    str_num = str(N)\n",
    "    \n",
    "    # Get the first and last digits\n",
    "    first_digit = int(str_num[0])  # Convert the first character to an integer\n",
    "    last_digit = int(str_num[-1])   # Convert the last character to an integer\n",
    "    \n",
    "    # Calculate the sum\n",
    "    digit_sum = first_digit + last_digit\n",
    "    \n",
    "    return digit_sum\n",
    "\n",
    "# Example usage\n",
    "N = input()\n",
    "result = sum_first_last_digit(N)\n",
    "print(result)"
   ]
  },
  {
   "cell_type": "markdown",
   "metadata": {},
   "source": [
    "### **85. Given a number N and an array of N elements, print the prefix sum array.**\n",
    "\n",
    "Input Size : N <= 100000\n",
    "\n",
    "**Sample Testcase:**\n",
    "\n",
    "**INPUT**\n",
    "\n",
    "4\n",
    "\n",
    "2 4 4 2\n",
    "\n",
    "**OUTPUT**\n",
    "\n",
    "2 6 10 12"
   ]
  },
  {
   "cell_type": "code",
   "execution_count": 19,
   "metadata": {},
   "outputs": [
    {
     "name": "stdout",
     "output_type": "stream",
     "text": [
      "2 6 10 12\n"
     ]
    }
   ],
   "source": [
    "def prefix_sum_array(N, arr):\n",
    "    # Initialize the prefix sum array\n",
    "    prefix_sum = [0] * N\n",
    "    \n",
    "    # Calculate the prefix sums\n",
    "    prefix_sum[0] = arr[0]  # The first element is the same\n",
    "    for i in range(1, N):\n",
    "        prefix_sum[i] = prefix_sum[i - 1] + arr[i]  # Add the current element to the previous sum\n",
    "    \n",
    "    return prefix_sum\n",
    "\n",
    "N = int(input())\n",
    "arr = list(map(int, input().split()))\n",
    "\n",
    "# Get the prefix sum array\n",
    "result = prefix_sum_array(N, arr)\n",
    "print(\" \".join(map(str, result)))"
   ]
  },
  {
   "cell_type": "markdown",
   "metadata": {},
   "source": [
    "### **86. Given a string S change upper case to lowercase and lowercase to uppercase.**\n",
    "\n",
    "Input Size : |s| <= 10000000(complexity O(n))\n",
    "\n",
    "**Sample Testcase:**\n",
    "\n",
    "**INPUT**\n",
    "\n",
    "CodEkaTa\n",
    "\n",
    "**OUTPUT**\n",
    "\n",
    "cODeKAtA"
   ]
  },
  {
   "cell_type": "code",
   "execution_count": 20,
   "metadata": {},
   "outputs": [
    {
     "name": "stdout",
     "output_type": "stream",
     "text": [
      "cODeKAtA\n"
     ]
    }
   ],
   "source": [
    "def swap_case(s):\n",
    "    return s.swapcase()  # Swap case of each character\n",
    "\n",
    "# Example usage\n",
    "input_string = input()\n",
    "result = swap_case(input_string)\n",
    "\n",
    "# Print the result\n",
    "print(result)"
   ]
  },
  {
   "cell_type": "markdown",
   "metadata": {},
   "source": [
    "### **87. Given a string S of length N, find if it can be a valid Hexadecimal representation of a numbe.If it i0s valid,print 'yes' otherwise print 'no'.**\n",
    "\n",
    "Input Size : N <= 10000\n",
    "\n",
    "**Sample Testcase:**\n",
    "\n",
    "**INPUT**\n",
    "\n",
    "1AE23\n",
    "\n",
    "**OUTPUT**\n",
    "\n",
    "yes"
   ]
  },
  {
   "cell_type": "code",
   "execution_count": 21,
   "metadata": {},
   "outputs": [
    {
     "name": "stdout",
     "output_type": "stream",
     "text": [
      "yes\n"
     ]
    }
   ],
   "source": [
    "def is_valid_hexadecimal(s):\n",
    "    # Define the valid hexadecimal characters\n",
    "    valid_hex_chars = \"0123456789abcdefABCDEF\"\n",
    "    \n",
    "    # Check if all characters in the string are valid hexadecimal characters\n",
    "    for char in s:\n",
    "        if char not in valid_hex_chars:\n",
    "            return \"no\"\n",
    "    return \"yes\"\n",
    "\n",
    "# Example usage\n",
    "input_string = input(\"Enter a string: \")\n",
    "result = is_valid_hexadecimal(input_string)\n",
    "\n",
    "# Print the result\n",
    "print(result)"
   ]
  },
  {
   "cell_type": "markdown",
   "metadata": {},
   "source": [
    "### **88. Given a number N, print the sum of the squares of its digits.**\n",
    "\n",
    "Input Size : 1 <= N <= 1000000000000000000\n",
    "\n",
    "**Sample Testcase :**\n",
    "\n",
    "**INPUT**\n",
    "\n",
    "19\n",
    "\n",
    "**OUTPUT**\n",
    "\n",
    "82"
   ]
  },
  {
   "cell_type": "code",
   "execution_count": 22,
   "metadata": {},
   "outputs": [
    {
     "name": "stdout",
     "output_type": "stream",
     "text": [
      "82\n"
     ]
    }
   ],
   "source": [
    "def sum_of_squares_of_digits(N):\n",
    "    # Convert the number to a string to access each digit\n",
    "    N_str = str(N)\n",
    "    sum_squares = 0\n",
    "    \n",
    "    # Iterate through each digit\n",
    "    for digit in N_str:\n",
    "        sum_squares += int(digit) ** 2  # Square the digit and add to the sum\n",
    "    return sum_squares\n",
    "\n",
    "# Example usage\n",
    "input_number = int(input(\"Enter a number: \"))  # Read input number\n",
    "result = sum_of_squares_of_digits(input_number)  # Calculate sum of squares\n",
    "print(result)"
   ]
  },
  {
   "cell_type": "markdown",
   "metadata": {},
   "source": [
    "### **89. Given a string 'S' and a character 'K', find how many times 'K' got repeated in 'S'.If 'K' is not found in 'S' print -1**\n",
    "\n",
    "Input Size : |s| <= 100000\n",
    "\n",
    "**Sample Testcase:**\n",
    "\n",
    "**INPUT**\n",
    "\n",
    "codekata a\n",
    "\n",
    "**OUTPUT**\n",
    "\n",
    "2"
   ]
  },
  {
   "cell_type": "code",
   "execution_count": 24,
   "metadata": {},
   "outputs": [
    {
     "name": "stdout",
     "output_type": "stream",
     "text": [
      "2\n"
     ]
    }
   ],
   "source": [
    "def count_character_occurrences(S, K):\n",
    "    # Count occurrences of K in S\n",
    "    count = S.count(K)\n",
    "    \n",
    "    # Print the result based on the count\n",
    "    if count > 0:\n",
    "        print(count)\n",
    "    else:\n",
    "        print(-1)\n",
    "\n",
    "# Example usage\n",
    "input_string = input().strip()\n",
    "input_char = input().strip()\n",
    "\n",
    "count_character_occurrences(input_string, input_char)"
   ]
  },
  {
   "cell_type": "markdown",
   "metadata": {},
   "source": [
    "### **90. Given a number N,check whether it has repeating digits in it.print 'yes' if it has repeating digits otherwise print 'no'.**\n",
    "\n",
    "**Sample Testcase:**\n",
    "\n",
    "**INPUT**\n",
    "\n",
    "11234\n",
    "\n",
    "**OUTPUT**\n",
    "\n",
    "yes"
   ]
  },
  {
   "cell_type": "code",
   "execution_count": 25,
   "metadata": {},
   "outputs": [
    {
     "name": "stdout",
     "output_type": "stream",
     "text": [
      "yes\n"
     ]
    }
   ],
   "source": [
    "def has_repeating_digits(N):\n",
    "    # Convert the number to a string to iterate over digits\n",
    "    digits = str(N)\n",
    "    seen = set()\n",
    "    \n",
    "    # Check each digit in the number\n",
    "    for digit in digits:\n",
    "        if digit in seen:\n",
    "            print(\"yes\")  # Repeating digit found\n",
    "            return\n",
    "        seen.add(digit)   \n",
    "    print(\"no\")  # No repeating digits found\n",
    "\n",
    "input_number = int(input().strip())\n",
    "has_repeating_digits(input_number)"
   ]
  },
  {
   "cell_type": "markdown",
   "metadata": {},
   "source": [
    "### **91. Given a number N and an array of N elements, print the suffix sum of the array.**\n",
    "\n",
    "Input Size : N <= 100000\n",
    "\n",
    "**Sample Testcase:**\n",
    "\n",
    "**INPUT**\n",
    "\n",
    "4\n",
    "\n",
    "2 4 4 2\n",
    "\n",
    "**OUTPUT**\n",
    "\n",
    "12 10 6 2"
   ]
  },
  {
   "cell_type": "code",
   "execution_count": 26,
   "metadata": {},
   "outputs": [
    {
     "name": "stdout",
     "output_type": "stream",
     "text": [
      "12 10 6 2\n"
     ]
    }
   ],
   "source": [
    "def suffix_sum(array):\n",
    "    # Initialize an array to hold the suffix sums\n",
    "    n = len(array)\n",
    "    suffix_sums = [0] * n\n",
    "    \n",
    "    # Calculate suffix sums\n",
    "    suffix_sums[n - 1] = array[n - 1]  # Start with the last element\n",
    "    for i in range(n - 2, -1, -1):\n",
    "        suffix_sums[i] = suffix_sums[i + 1] + array[i]\n",
    "    \n",
    "    # Print the suffix sums\n",
    "    print(\" \".join(map(str, suffix_sums)))\n",
    "\n",
    "# Example usage\n",
    "N = int(input().strip())  # Input size N\n",
    "array = list(map(int, input().strip().split()))  # Input array of N elements\n",
    "\n",
    "suffix_sum(array)"
   ]
  },
  {
   "cell_type": "markdown",
   "metadata": {},
   "source": [
    "### **92. A number is given as input(as string). Find the maximum length of substring alternating digits of odd and even.**\n",
    "\n",
    "Input Size : N <= 10000000000\n",
    "\n",
    "**Sample Testcase:**\n",
    "\n",
    "**INPUT**\n",
    "\n",
    "4123\n",
    "\n",
    "**OUTPUT**\n",
    "\n",
    "4"
   ]
  },
  {
   "cell_type": "code",
   "execution_count": 27,
   "metadata": {},
   "outputs": [
    {
     "name": "stdout",
     "output_type": "stream",
     "text": [
      "4\n"
     ]
    }
   ],
   "source": [
    "def max_alternating_length(num_str):\n",
    "    max_length = 1  # Start with at least one character\n",
    "    current_length = 1  # Current length of the alternating substring\n",
    "\n",
    "    # Loop through the digits of the string\n",
    "    for i in range(1, len(num_str)):\n",
    "        # Check if current digit and previous digit have different parities\n",
    "        if (int(num_str[i]) % 2) != (int(num_str[i - 1]) % 2):\n",
    "            current_length += 1  # Increase length if they are alternating\n",
    "        else:\n",
    "            # Reset the current length if they are not alternating\n",
    "            max_length = max(max_length, current_length)  # Update max_length\n",
    "            current_length = 1  # Reset current length to 1\n",
    "\n",
    "    # Check at the end in case the longest substring ends at the last digit\n",
    "    max_length = max(max_length, current_length)\n",
    "    return max_length\n",
    "\n",
    "# Example usage\n",
    "num_str = input().strip()  # Input as a string\n",
    "result = max_alternating_length(num_str)\n",
    "print(result)"
   ]
  },
  {
   "cell_type": "markdown",
   "metadata": {},
   "source": [
    "### **93. Given a number N and an array of N strings, find the lexicographically smallest string.**\n",
    "\n",
    "Input Size : N <= 1000\n",
    "\n",
    "**Sample Testcase:**\n",
    "\n",
    "**INPUT**\n",
    "\n",
    "3\n",
    "\n",
    "code\n",
    "\n",
    "learn\n",
    "\n",
    "practice\n",
    "\n",
    "**OUTPUT**\n",
    "\n",
    "code"
   ]
  },
  {
   "cell_type": "code",
   "execution_count": 29,
   "metadata": {},
   "outputs": [
    {
     "name": "stdout",
     "output_type": "stream",
     "text": [
      "code\n"
     ]
    }
   ],
   "source": [
    "def find_lexicographically_smallest_string(n, strings):\n",
    "    # Use the min function to find the lexicographically smallest string\n",
    "    return min(strings)\n",
    "\n",
    "# Input reading\n",
    "n = int(input().strip())  # Read the number of strings\n",
    "strings = [input().strip() for _ in range(n)]  # Read the strings\n",
    "\n",
    "# Find and print the smallest string\n",
    "result = find_lexicographically_smallest_string(n, strings)\n",
    "print(result)"
   ]
  },
  {
   "cell_type": "markdown",
   "metadata": {},
   "source": [
    "### **94. Given a number N and a number K, check if it has all digits from 0 to k in it.**\n",
    "\n",
    "Input Size : N <= 100000\n",
    "\n",
    "**Sample Testcase:**\n",
    "\n",
    "**INPUT**\n",
    "\n",
    "1234034 4\n",
    "\n",
    "**OUTPUT**\n",
    "\n",
    "yes"
   ]
  },
  {
   "cell_type": "code",
   "execution_count": 30,
   "metadata": {},
   "outputs": [
    {
     "name": "stdout",
     "output_type": "stream",
     "text": [
      "yes\n"
     ]
    }
   ],
   "source": [
    "def has_all_digits(n, k):\n",
    "    # Convert number N to a set of its digits\n",
    "    digits_in_n = set(str(n))\n",
    "    # Create a set of required digits from 0 to K\n",
    "    required_digits = {str(i) for i in range(k + 1)}\n",
    "    \n",
    "    # Check if all required digits are present in the digits of N\n",
    "    return required_digits.issubset(digits_in_n)\n",
    "\n",
    "# Input reading\n",
    "input_data = input().strip()\n",
    "n_str, k_str = input_data.split()\n",
    "n = int(n_str)\n",
    "k = int(k_str)\n",
    "\n",
    "# Check and print the result\n",
    "if has_all_digits(n, k):\n",
    "    print(\"yes\")\n",
    "else:\n",
    "    print(\"no\")"
   ]
  },
  {
   "cell_type": "markdown",
   "metadata": {},
   "source": [
    "### **95. Find the word having maximum length in a given sentence and print it. If two words are of same length return the first occuring word of max-length.**\n",
    "\n",
    "Input Size : |s| <= 100000\n",
    "\n",
    "**Sample Testcase:**\n",
    "\n",
    "**INPUT**\n",
    "\n",
    "guvi geek\n",
    "\n",
    "**OUTPUT**\n",
    "\n",
    "guvi"
   ]
  },
  {
   "cell_type": "code",
   "execution_count": 31,
   "metadata": {},
   "outputs": [
    {
     "name": "stdout",
     "output_type": "stream",
     "text": [
      "guvi\n"
     ]
    }
   ],
   "source": [
    "def find_longest_word(sentence):\n",
    "    # Split the sentence into words\n",
    "    words = sentence.split()\n",
    "    \n",
    "    # Initialize variables to store the longest word and its length\n",
    "    longest_word = \"\"\n",
    "    max_length = 0\n",
    "    \n",
    "    # Iterate through each word\n",
    "    for word in words:\n",
    "        # Check the length of the current word\n",
    "        if len(word) > max_length:\n",
    "            longest_word = word\n",
    "            max_length = len(word)\n",
    "    \n",
    "    return longest_word\n",
    "\n",
    "# Input reading\n",
    "input_sentence = input().strip()\n",
    "# Find and print the longest word\n",
    "result = find_longest_word(input_sentence)\n",
    "print(result)"
   ]
  },
  {
   "cell_type": "markdown",
   "metadata": {},
   "source": [
    "### **96. Print the position of first 1 from left to right, in binary representation of product of 2 integers after the first one.**\n",
    "\n",
    "**Sample Testcase:**\n",
    "\n",
    "**INPUT**\n",
    "\n",
    "18 2\n",
    "\n",
    "**OUTPUT**\n",
    "\n",
    "4"
   ]
  },
  {
   "cell_type": "code",
   "execution_count": 33,
   "metadata": {},
   "outputs": [
    {
     "name": "stdout",
     "output_type": "stream",
     "text": [
      "1\n"
     ]
    }
   ],
   "source": [
    "def first_one_position(a, b):\n",
    "    # Calculate the product\n",
    "    product = a * b\n",
    "    \n",
    "    # Convert the product to binary and strip the '0b' prefix\n",
    "    binary_representation = bin(product)[2:]\n",
    "    \n",
    "    # Find the position of the first '1'\n",
    "    position = binary_representation.find('1')\n",
    "    \n",
    "    # Return the position (1-based index)\n",
    "    return position + 1 if position != -1 else -1\n",
    "\n",
    "# Input reading\n",
    "input_numbers = input().strip()\n",
    "a, b = map(int, input_numbers.split())\n",
    "\n",
    "# Get the position of the first '1'\n",
    "result = first_one_position(a, b)\n",
    "\n",
    "# Print the result\n",
    "print(result)"
   ]
  },
  {
   "cell_type": "markdown",
   "metadata": {},
   "source": [
    "### **97. Roman Reigns want to identify the repeated letters in two given strings and capitalize it.Help him to achieve it.**\n",
    "\n",
    "**Sample Testcase:**\n",
    "\n",
    "**INPUT**\n",
    "\n",
    "computer program\n",
    "\n",
    "**OUTPUT**\n",
    "\n",
    "cOMPuteR PROgRaM"
   ]
  },
  {
   "cell_type": "code",
   "execution_count": 34,
   "metadata": {},
   "outputs": [
    {
     "name": "stdout",
     "output_type": "stream",
     "text": [
      "cOMPuteR PROgRaM\n"
     ]
    }
   ],
   "source": [
    "def capitalize_repeated_letters(str1, str2):\n",
    "    # Convert both strings to lowercase for comparison\n",
    "    lower_str1 = str1.lower()\n",
    "    lower_str2 = str2.lower()\n",
    "\n",
    "    # Find common letters in both strings\n",
    "    common_letters = set(lower_str1) & set(lower_str2)\n",
    "\n",
    "    # Define a function to capitalize common letters in a string\n",
    "    def capitalize_common_letters(s, common):\n",
    "        result = ''\n",
    "        for char in s:\n",
    "            if char.lower() in common:\n",
    "                result += char.upper()\n",
    "            else:\n",
    "                result += char\n",
    "        return result\n",
    "\n",
    "    # Capitalize common letters in both strings\n",
    "    capitalized_str1 = capitalize_common_letters(str1, common_letters)\n",
    "    capitalized_str2 = capitalize_common_letters(str2, common_letters)\n",
    "\n",
    "    # Print the modified strings\n",
    "    print(capitalized_str1, capitalized_str2)\n",
    "\n",
    "# Input reading\n",
    "input_strings = input().strip().split()\n",
    "\n",
    "# Ensure that we have exactly two strings in the input\n",
    "if len(input_strings) == 2:\n",
    "    str1, str2 = input_strings\n",
    "    capitalize_repeated_letters(str1, str2)"
   ]
  },
  {
   "cell_type": "markdown",
   "metadata": {},
   "source": [
    "### **98. Given a String S and a string P, find if P is a substring of S. Print 'yes' if it is a substring else 'no'.**\n",
    "\n",
    "Input Size : |s| <= 10000 |p| <= 1000.\n",
    "\n",
    "**Sample Testcase:**\n",
    "\n",
    "**INPUT**\n",
    "\n",
    "sundar sun\n",
    "\n",
    "**OUTPUT**\n",
    "\n",
    "yes"
   ]
  },
  {
   "cell_type": "code",
   "execution_count": 36,
   "metadata": {},
   "outputs": [
    {
     "name": "stdout",
     "output_type": "stream",
     "text": [
      "yes\n"
     ]
    }
   ],
   "source": [
    "# Input strings\n",
    "S = input().strip()  # Input the main string\n",
    "P = input().strip()  # Input the pattern string\n",
    "\n",
    "# Check if P is a substring of S\n",
    "if P in S:\n",
    "    print(\"yes\")\n",
    "else:\n",
    "    print(\"no\")"
   ]
  },
  {
   "cell_type": "markdown",
   "metadata": {},
   "source": [
    "### **99. Accept a string and find if it is of date format 'dd/mm/yyyy'.**\n",
    "\n",
    "**Sample Testcase:**\n",
    "\n",
    "**INPUT**\n",
    "\n",
    "01/13/1999\n",
    "\n",
    "**OUTPUT**\n",
    "\n",
    "no"
   ]
  },
  {
   "cell_type": "code",
   "execution_count": 37,
   "metadata": {},
   "outputs": [
    {
     "name": "stdout",
     "output_type": "stream",
     "text": [
      "no\n"
     ]
    }
   ],
   "source": [
    "import re\n",
    "from datetime import datetime\n",
    "\n",
    "# Function to check if the string is a valid date in the format 'dd/mm/yyyy'\n",
    "def is_valid_date(date_str):\n",
    "    # Regex pattern to match dd/mm/yyyy format\n",
    "    pattern = r'^\\d{2}/\\d{2}/\\d{4}$'\n",
    "    \n",
    "    # Check if the input matches the pattern\n",
    "    if re.match(pattern, date_str):\n",
    "        day, month, year = map(int, date_str.split('/'))\n",
    "        \n",
    "        # Check if the date is valid using datetime\n",
    "        try:\n",
    "            datetime(year, month, day)\n",
    "            return \"yes\"\n",
    "        except ValueError:\n",
    "            return \"no\"\n",
    "    else:\n",
    "        return \"no\"\n",
    "\n",
    "# Input the date string\n",
    "date_input = input().strip()\n",
    "\n",
    "# Check if it's a valid date in the format 'dd/mm/yyyy'\n",
    "print(is_valid_date(date_input))"
   ]
  },
  {
   "cell_type": "markdown",
   "metadata": {},
   "source": [
    "### **100. Given a string, print the run-length encoded output.**\n",
    "\n",
    "Input Size : N <= 100000\n",
    "\n",
    "**Sample Testcase:**\n",
    "\n",
    "**INPUT**\n",
    "\n",
    "aaab\n",
    "\n",
    "**OUTPUT**\n",
    "\n",
    "a3b1"
   ]
  },
  {
   "cell_type": "code",
   "execution_count": 38,
   "metadata": {},
   "outputs": [
    {
     "name": "stdout",
     "output_type": "stream",
     "text": [
      "a3b1\n"
     ]
    }
   ],
   "source": [
    "def run_length_encoding(s):\n",
    "    # Initialize the result as an empty string\n",
    "    result = \"\"\n",
    "    \n",
    "    # Start with the first character\n",
    "    current_char = s[0]\n",
    "    count = 1\n",
    "    \n",
    "    # Iterate over the string starting from the second character\n",
    "    for i in range(1, len(s)):\n",
    "        if s[i] == current_char:\n",
    "            # If the current character matches the previous one, increment count\n",
    "            count += 1\n",
    "        else:\n",
    "            # Otherwise, append the current character and its count to the result\n",
    "            result += current_char + str(count)\n",
    "            # Move to the next character\n",
    "            current_char = s[i]\n",
    "            count = 1\n",
    "    \n",
    "    # Append the last character and its count\n",
    "    result += current_char + str(count)\n",
    "    \n",
    "    return result\n",
    "\n",
    "# Input the string\n",
    "input_str = input().strip()\n",
    "\n",
    "# Call the function and print the encoded output\n",
    "print(run_length_encoding(input_str))"
   ]
  },
  {
   "cell_type": "markdown",
   "metadata": {},
   "source": [
    "### **101. Let P represent Paper, R represent Rock and S represent Scissors. Given 2 out of the 3 determine which one wins. If its a draw print 'D'.**\n",
    "\n",
    "**Sample Testcase:**\n",
    "\n",
    "**INPUT**\n",
    "\n",
    "R P\n",
    "\n",
    "**OUTPUT**\n",
    "\n",
    "P"
   ]
  },
  {
   "cell_type": "code",
   "execution_count": 3,
   "metadata": {},
   "outputs": [
    {
     "name": "stdout",
     "output_type": "stream",
     "text": [
      "P\n"
     ]
    }
   ],
   "source": [
    "def determine_winner(choice1, choice2):\n",
    "    # If both choices are the same, it's a draw\n",
    "    if choice1 == choice2:\n",
    "        return 'D'\n",
    "    \n",
    "    # Define the winning cases\n",
    "    winning_cases = {\n",
    "        ('R', 'S'): 'R',\n",
    "        ('S', 'R'): 'R',\n",
    "        ('S', 'P'): 'S',\n",
    "        ('P', 'S'): 'S',\n",
    "        ('P', 'R'): 'P',\n",
    "        ('R', 'P'): 'P'\n",
    "    }\n",
    "    \n",
    "    # Return the result based on the winning cases\n",
    "    return winning_cases.get((choice1, choice2))\n",
    "\n",
    "choice1, choice2 = input().split()\n",
    "print(determine_winner(choice1, choice2))"
   ]
  },
  {
   "cell_type": "markdown",
   "metadata": {},
   "source": [
    "### **102. Given a date(DD-MM-YYYY),print the month in words.**\n",
    "\n",
    "**Sample Testcase:**\n",
    "\n",
    "**INPUT**\n",
    "\n",
    "01-01-2018\n",
    "\n",
    "**OUTPUT**\n",
    "\n",
    "January"
   ]
  },
  {
   "cell_type": "code",
   "execution_count": 5,
   "metadata": {},
   "outputs": [
    {
     "name": "stdout",
     "output_type": "stream",
     "text": [
      "January\n"
     ]
    }
   ],
   "source": [
    "def get_month_in_words(date_str):\n",
    "    month_map = {\n",
    "        \"01\": \"January\", \"02\": \"February\", \"03\": \"March\", \"04\": \"April\", \n",
    "        \"05\": \"May\", \"06\": \"June\", \"07\": \"July\", \"08\": \"August\", \n",
    "        \"09\": \"September\", \"10\": \"October\", \"11\": \"November\", \"12\": \"December\"\n",
    "    }\n",
    "    \n",
    "    month = date_str.split('-')[1]\n",
    "    print(month_map[month])\n",
    "\n",
    "date_str = input().strip()\n",
    "get_month_in_words(date_str)"
   ]
  },
  {
   "cell_type": "markdown",
   "metadata": {},
   "source": [
    "### **103. Given 2 strings and a number K, check whether they differ exactly by K characters.**\n",
    "\n",
    "Input Size : |s| <= 100000(complexity O(nlogn) or O(n))\n",
    "\n",
    "**Sample Testcase:**\n",
    "\n",
    "**INPUT**\n",
    "\n",
    "codekata codeguvi 4\n",
    "\n",
    "**OUTPUT**\n",
    "\n",
    "yes"
   ]
  },
  {
   "cell_type": "code",
   "execution_count": 1,
   "metadata": {},
   "outputs": [
    {
     "name": "stdout",
     "output_type": "stream",
     "text": [
      "yes\n"
     ]
    }
   ],
   "source": [
    "def differ_by_k_chars(s1, s2, k):\n",
    "    # If the lengths are different, they cannot differ by exactly K characters\n",
    "    if len(s1) != len(s2):\n",
    "        print(\"no\")\n",
    "        return\n",
    "    \n",
    "    # Count the number of differing characters\n",
    "    diff_count = 0\n",
    "    for i in range(len(s1)):\n",
    "        if s1[i] != s2[i]:\n",
    "            diff_count += 1\n",
    "    \n",
    "    # Check if the count of differing characters equals K\n",
    "    if diff_count == k:\n",
    "        print(\"yes\")\n",
    "    else:\n",
    "        print(\"no\")\n",
    "\n",
    "s1, s2, k = input().split()\n",
    "k = int(k)\n",
    "differ_by_k_chars(s1, s2, k)"
   ]
  },
  {
   "cell_type": "markdown",
   "metadata": {},
   "source": [
    "### **104. You are given with a string ‘s’. Print the largest possible length of the string that contains two characters that are repeated alternatively, by removing any number of characters from the input string.**\n",
    "\n",
    "Note: If the a character is removed from the string then all the occurence of the characters in the string should be removed.\n",
    "\n",
    "**Input Description:**\n",
    "\n",
    "You are given a string ‘s’\n",
    "\n",
    "**Output Description:**\n",
    "\n",
    "Print length of string formed or 0\n",
    "\n",
    "**Sample Input:**\n",
    "\n",
    "beabeefeab\n",
    "\n",
    "**Sample Output:**\n",
    "\n",
    "5"
   ]
  },
  {
   "cell_type": "code",
   "execution_count": 6,
   "metadata": {},
   "outputs": [
    {
     "name": "stdout",
     "output_type": "stream",
     "text": [
      "5\n"
     ]
    }
   ],
   "source": [
    "def is_alternating(s):\n",
    "    # Check if the string alternates between two characters\n",
    "    for i in range(1, len(s)):\n",
    "        if s[i] == s[i-1]:  # If two consecutive characters are the same\n",
    "            return False\n",
    "    return True\n",
    "\n",
    "def largest_alternating_substring(s):\n",
    "    # Identify all unique characters in the string\n",
    "    unique_chars = set(s)\n",
    "    max_length = 0\n",
    "\n",
    "    # Generate all possible pairs of characters\n",
    "    for char1 in unique_chars:\n",
    "        for char2 in unique_chars:\n",
    "            if char1 != char2:\n",
    "                # Filter the string to only contain char1 and char2\n",
    "                filtered = ''.join([ch for ch in s if ch == char1 or ch == char2])\n",
    "                \n",
    "                # Check if the filtered string alternates between the two characters\n",
    "                if is_alternating(filtered):\n",
    "                    max_length = max(max_length, len(filtered))\n",
    "\n",
    "    return max_length\n",
    "\n",
    "# length of the largest alternating substring\n",
    "s = input().strip()\n",
    "print(largest_alternating_substring(s))"
   ]
  },
  {
   "cell_type": "markdown",
   "metadata": {},
   "source": [
    "### **105. Given a string S ,print the vowels first and then consonants in the same order as they have occurred in the string.**\n",
    "\n",
    "Input Size : N <= 10000\n",
    "\n",
    "**Sample Testcase:**\n",
    "\n",
    "**INPUT**\n",
    "\n",
    "GuVI\n",
    "\n",
    "**OUTPUT**\n",
    "\n",
    "uIGV"
   ]
  },
  {
   "cell_type": "code",
   "execution_count": 7,
   "metadata": {},
   "outputs": [
    {
     "name": "stdout",
     "output_type": "stream",
     "text": [
      "uIGV\n"
     ]
    }
   ],
   "source": [
    "def separate_vowels_consonants(S):\n",
    "    vowels = \"aeiouAEIOU\"\n",
    "    vowel_part = \"\"\n",
    "    consonant_part = \"\"\n",
    "    \n",
    "    # Iterate through the string and separate vowels and consonants\n",
    "    for char in S:\n",
    "        if char in vowels:\n",
    "            vowel_part += char\n",
    "        elif char.isalpha():\n",
    "            consonant_part += char\n",
    "    print(vowel_part + consonant_part)\n",
    "\n",
    "S = input().strip()\n",
    "separate_vowels_consonants(S)"
   ]
  },
  {
   "cell_type": "markdown",
   "metadata": {},
   "source": [
    "### **106. Given a string S, check if it can be made into a palindrome by making atmost one character replacement,if it results in palindrome print 'yes' otherwise print 'no'.**\n",
    "\n",
    "**Sample Testcase:**\n",
    "\n",
    "**INPUT**\n",
    "\n",
    "abb\n",
    "\n",
    "**OUTPUT**\n",
    "\n",
    "yes"
   ]
  },
  {
   "cell_type": "code",
   "execution_count": 8,
   "metadata": {},
   "outputs": [
    {
     "name": "stdout",
     "output_type": "stream",
     "text": [
      "yes\n"
     ]
    }
   ],
   "source": [
    "def can_be_palindrome(S):\n",
    "    n = len(S)\n",
    "    mismatch_count = 0\n",
    "    \n",
    "    # Loop through the string to compare corresponding characters\n",
    "    for i in range(n // 2):\n",
    "        if S[i] != S[n - 1 - i]:\n",
    "            mismatch_count += 1\n",
    "    \n",
    "    # If there are 0 or 1 mismatches, it's possible to make it a palindrome with at most one replacement\n",
    "    if mismatch_count <= 1:\n",
    "        print(\"yes\")\n",
    "    else:\n",
    "        print(\"no\")\n",
    "\n",
    "S = input().strip()\n",
    "can_be_palindrome(S)"
   ]
  },
  {
   "cell_type": "markdown",
   "metadata": {},
   "source": [
    "### **107. You are given a string ‘s’ which is in compressed form. Your task is to expand the string and then print it.**\n",
    "\n",
    "**Input Description:**\n",
    "\n",
    "given a string ‘s’\n",
    "\n",
    "**Output Description:**\n",
    "\n",
    "expand the string and print it.\n",
    "\n",
    "**Sample Input:**\n",
    "\n",
    "3(abc2(a))\n",
    "\n",
    "**Sample Output:**\n",
    "\n",
    "abcaaabcaaabcaa"
   ]
  },
  {
   "cell_type": "code",
   "execution_count": 9,
   "metadata": {},
   "outputs": [
    {
     "name": "stdout",
     "output_type": "stream",
     "text": [
      "abcaaabcaaabcaa\n"
     ]
    }
   ],
   "source": [
    "def expand_string(s):\n",
    "    stack = []\n",
    "    current_string = ''\n",
    "    current_num = 0\n",
    "    \n",
    "    for char in s:\n",
    "        if char.isdigit():  # If it's a number, build the multiplier\n",
    "            current_num = current_num * 10 + int(char)\n",
    "        elif char == '(':  # Opening bracket indicates start of a new group\n",
    "            stack.append((current_string, current_num))\n",
    "            current_string = ''\n",
    "            current_num = 0\n",
    "        elif char == ')':  # Closing bracket indicates end of a group\n",
    "            prev_string, num = stack.pop()\n",
    "            current_string = prev_string + current_string * num\n",
    "        else:  # Add current character to the string being built\n",
    "            current_string += char    \n",
    "    print(current_string)\n",
    "\n",
    "s = input().strip()\n",
    "expand_string(s)"
   ]
  },
  {
   "cell_type": "markdown",
   "metadata": {},
   "source": [
    "### **108. You are given a string s.Your task is to remove all the adjacent duplicate character from string.Print the string formed out of it.**\n",
    "\n",
    "**Input Description:**\n",
    "\n",
    "You are given a string ‘s’\n",
    "\n",
    "**Output Description:**\n",
    "\n",
    "Print the resultant string\n",
    "\n",
    "**Sample Input:**\n",
    "\n",
    "Geeksforgeek\n",
    "\n",
    "**Sample Output:**\n",
    "\n",
    "Gksforgk"
   ]
  },
  {
   "cell_type": "code",
   "execution_count": 13,
   "metadata": {},
   "outputs": [
    {
     "name": "stdout",
     "output_type": "stream",
     "text": [
      "Geksforgek\n"
     ]
    }
   ],
   "source": [
    "def remove_adjacent_duplicates(s):\n",
    "    if not s:  # Handle the case for an empty string\n",
    "        print(s)\n",
    "        return\n",
    "    \n",
    "    result = []\n",
    "    previous_char = None  # Variable to track the last added character\n",
    "    \n",
    "    # Iterate through each character in the string\n",
    "    for char in s:\n",
    "        if char != previous_char:  # If current character is different from the last one\n",
    "            result.append(char)  # Add it to the result\n",
    "        previous_char = char  # Update previous_char to the current character\n",
    "    \n",
    "    # Join the result list into a string and print it\n",
    "    print(\"\".join(result))\n",
    "\n",
    "s = input().strip()\n",
    "remove_adjacent_duplicates(s)"
   ]
  },
  {
   "cell_type": "markdown",
   "metadata": {},
   "source": [
    "### **109. Given a string S, check whether it contains only the characters 'a' and 'b' or only 'a' or only 'b'**\n",
    "Input Size : |S| <= 100000\n",
    "\n",
    "**Sample Testcase:**\n",
    "\n",
    "**INPUT**\n",
    "\n",
    "aabbaaab\n",
    "\n",
    "**OUTPUT**\n",
    "\n",
    "yes"
   ]
  },
  {
   "cell_type": "code",
   "execution_count": 14,
   "metadata": {},
   "outputs": [
    {
     "name": "stdout",
     "output_type": "stream",
     "text": [
      "yes\n"
     ]
    }
   ],
   "source": [
    "def check_string(s):\n",
    "    # Check if the string only contains 'a' and 'b'\n",
    "    if all(c in 'ab' for c in s):\n",
    "        # If it contains only 'a' or only 'b' or both\n",
    "        print(\"yes\")\n",
    "    else:\n",
    "        print(\"no\")\n",
    "\n",
    "s = input().strip()\n",
    "check_string(s)"
   ]
  },
  {
   "cell_type": "markdown",
   "metadata": {},
   "source": [
    "### **110. you are given with two strings.Your task is to check whether one of the string is substring of the other.If substring exists,then print the starting index of sub-string.**\n",
    "\n",
    "**Input Description:**\n",
    "\n",
    "You are given two strings\n",
    "\n",
    "**Output Description:**\n",
    "\n",
    "Print the index of string if substring exists else print -1\n",
    "\n",
    "**Sample Input:**\n",
    "\n",
    "Yuvi\n",
    "\n",
    "Yuvirat\n",
    "\n",
    "**Sample Output:**\n",
    "\n",
    "1"
   ]
  },
  {
   "cell_type": "code",
   "execution_count": 17,
   "metadata": {},
   "outputs": [
    {
     "name": "stdout",
     "output_type": "stream",
     "text": [
      "1\n"
     ]
    }
   ],
   "source": [
    "def find_substring_index(str1, str2):\n",
    "    # Check if str1 is a substring of str2\n",
    "    index = str2.find(str1)\n",
    "    if index != -1:\n",
    "        print(index + 1)  # Convert to 1-based index\n",
    "    else:\n",
    "        # Check if str2 is a substring of str1\n",
    "        index = str1.find(str2)\n",
    "        if index != -1:\n",
    "            print(index + 1)  # Convert to 1-based index\n",
    "        else:\n",
    "            print(-1)\n",
    "\n",
    "str1 = input().strip()\n",
    "str2 = input().strip()\n",
    "find_substring_index(str1, str2)"
   ]
  },
  {
   "cell_type": "markdown",
   "metadata": {},
   "source": [
    "### 111. You are given a String ‘s’ and a Bigstring g,g=\"abcdefghijklmnopqrstuvwxyz1234567890ABCDEFGHIJKLMNOPQRSTUVWXY”\n",
    "\n",
    "He wants to compute the weight of the string s.Weight is computed as for weight is equal to weight of that character +index of that character.Using big string. SEE EXAMPLE FOR MORE CLARITY\n",
    "\n",
    "**Input Description:**\n",
    "\n",
    "You are given a string ‘s’\n",
    "\n",
    "**Output Description:**\n",
    "\n",
    "Print the weight\n",
    "\n",
    "**Sample Input:**\n",
    "\n",
    "aA1 b\n",
    "\n",
    "**Sample Output:**\n",
    "\n",
    "66"
   ]
  },
  {
   "cell_type": "code",
   "execution_count": 11,
   "metadata": {},
   "outputs": [
    {
     "name": "stdout",
     "output_type": "stream",
     "text": [
      "67\n"
     ]
    }
   ],
   "source": [
    "def compute_weight(s):\n",
    "    g = \"abcdefghijklmnopqrstuvwxyz1234567890ABCDEFGHIJKLMNOPQRSTUVWXY\"\n",
    "    weight = 0\n",
    "    \n",
    "    for char in s:\n",
    "        if char in g:\n",
    "            index = g.index(char) + 1  # Convert to 1-based index\n",
    "            weight += index  # Add index to total weight            \n",
    "    return weight\n",
    "\n",
    "input_string = \"aA1 b\"\n",
    "print(compute_weight(input_string))"
   ]
  },
  {
   "cell_type": "markdown",
   "metadata": {},
   "source": [
    "### 112. Given a string S consisting of a sentence, the task is to reverse every word of the sentence except the first and last character of the words.\n",
    "\n",
    "Sample Testcase:\n",
    "\n",
    "INPUT\n",
    "\n",
    "guvi coding platform\n",
    "\n",
    "OUTPUT\n",
    "\n",
    "gvui cnidog proftalm."
   ]
  },
  {
   "cell_type": "code",
   "execution_count": 20,
   "metadata": {},
   "outputs": [
    {
     "name": "stdout",
     "output_type": "stream",
     "text": [
      "gvui cnidog proftalm\n"
     ]
    }
   ],
   "source": [
    "def reverse_inner_characters(sentence):\n",
    "    words = sentence.split()\n",
    "    modified_words = []\n",
    "    \n",
    "    for word in words:\n",
    "        if len(word) > 2:\n",
    "            inner_part = word[1:-1][::-1]\n",
    "            modified_word = word[0] + inner_part + word[-1]\n",
    "        else:\n",
    "            modified_word = word\n",
    "        modified_words.append(modified_word)\n",
    "    return ' '.join(modified_words)\n",
    "\n",
    "sentence = input()\n",
    "result = reverse_inner_characters(sentence)\n",
    "print(result)"
   ]
  },
  {
   "cell_type": "markdown",
   "metadata": {},
   "source": [
    "### **113. Quinton is given a string, find if he can form a palindrome by permuting the characters of the string and changing at most one character of the string to another character. If he can form, print YES, else print NO.**\n",
    "\n",
    "**Input Description:**\n",
    "\n",
    "The first and only line of input is a string S\n",
    "\n",
    "**Output Description:**\n",
    "\n",
    "Print a line containing YES or NO\n",
    "\n",
    "**Sample Input:**\n",
    "\n",
    "abc\n",
    "\n",
    "**Sample Output:**\n",
    "\n",
    "YES"
   ]
  },
  {
   "cell_type": "code",
   "execution_count": 13,
   "metadata": {},
   "outputs": [
    {
     "name": "stdout",
     "output_type": "stream",
     "text": [
      "NO\n"
     ]
    }
   ],
   "source": [
    "from collections import Counter\n",
    "\n",
    "def can_form_palindrome(s):\n",
    "    freq = Counter(s)\n",
    "    odd_count = sum(1 for count in freq.values() if count % 2 != 0)\n",
    "    \n",
    "    if odd_count <= 1:\n",
    "        print(\"YES\")\n",
    "    else:\n",
    "        print(\"NO\")\n",
    "\n",
    "s = input().strip()\n",
    "can_form_palindrome(s)"
   ]
  },
  {
   "cell_type": "markdown",
   "metadata": {},
   "source": [
    "### **114. You are given a string ‘s’. Without spaces. Your task is to print all possible combination of strings by adding extra space.**\n",
    "\n",
    "**Input Description:**\n",
    "\n",
    "You are given a string ‘s’.\n",
    "\n",
    "**Output Description:**\n",
    "\n",
    "Print the strings as described\n",
    "\n",
    "**Sample Input:**\n",
    "\n",
    "ABCD\n",
    "\n",
    "**Sample Output:**\n",
    "\n",
    "ABCD\n",
    "ABC D\n",
    "AB CD\n",
    "AB C D\n",
    "A BCD\n",
    "A BC D\n",
    "A B CD\n",
    "A B C D"
   ]
  },
  {
   "cell_type": "code",
   "execution_count": 21,
   "metadata": {},
   "outputs": [
    {
     "name": "stdout",
     "output_type": "stream",
     "text": [
      "ABCD\n",
      "A BCD\n",
      "AB CD\n",
      "A B CD\n",
      "ABC D\n",
      "A BC D\n",
      "AB C D\n",
      "A B C D\n"
     ]
    }
   ],
   "source": [
    "def generate_combinations(s):\n",
    "    n = len(s)\n",
    "    # There are 2^(n-1) possible combinations (binary choices for each of the n-1 positions)\n",
    "    result = []\n",
    "    \n",
    "    # Loop through all possible bitmask combinations from 0 to 2^(n-1) - 1\n",
    "    for i in range(1 << (n - 1)):\n",
    "        combination = s[0]  # Start with the first character\n",
    "        # Traverse each bit of the number i\n",
    "        for j in range(1, n):\n",
    "            # Check if the j-th bit of i is set (i.e., should we add a space?)\n",
    "            if (i & (1 << (j - 1))):\n",
    "                combination += ' '  # Add space before the current character\n",
    "            combination += s[j]  # Add the current character\n",
    "        result.append(combination)\n",
    "    \n",
    "    # Print all the combinations\n",
    "    for comb in result:\n",
    "        print(comb)\n",
    "\n",
    "s = input().strip()\n",
    "generate_combinations(s)"
   ]
  },
  {
   "cell_type": "markdown",
   "metadata": {},
   "source": [
    "### **115. Given a number N and an array of N strings, sort the strings based on the number of vowels in each of the strings in descending order.**\n",
    "\n",
    "Input Size : N <= 1000\n",
    "\n",
    "**Sample Testcase:**\n",
    "\n",
    "**INPUT**\n",
    "\n",
    "3\n",
    "\n",
    "Vishal\n",
    "\n",
    "Aaae\n",
    "\n",
    "Awqr\n",
    "\n",
    "**OUTPUT**\n",
    "\n",
    "Aaae\n",
    "\n",
    "Vishal\n",
    "\n",
    "Awqr"
   ]
  },
  {
   "cell_type": "code",
   "execution_count": 22,
   "metadata": {},
   "outputs": [
    {
     "name": "stdout",
     "output_type": "stream",
     "text": [
      "Aaae\n",
      "Vishal\n",
      "Awqr\n"
     ]
    }
   ],
   "source": [
    "def count_vowels(s):\n",
    "    # Define a set of vowels (both lowercase and uppercase)\n",
    "    vowels = set('aeiouAEIOU')\n",
    "    count = 0\n",
    "    for char in s:\n",
    "        if char in vowels:\n",
    "            count += 1\n",
    "    return count\n",
    "\n",
    "def sort_strings_by_vowels(n, strings):\n",
    "    # Sort the list of strings based on the number of vowels (in descending order)\n",
    "    sorted_strings = sorted(strings, key=lambda x: count_vowels(x), reverse=True)\n",
    "    \n",
    "    # Print the sorted strings\n",
    "    for string in sorted_strings:\n",
    "        print(string)\n",
    "\n",
    "n = int(input())  # Number of strings\n",
    "strings = [input().strip() for _ in range(n)]\n",
    "sort_strings_by_vowels(n, strings)"
   ]
  },
  {
   "cell_type": "markdown",
   "metadata": {},
   "source": [
    "### **116. Aditi is fond of strings.she heard about Lcs for two strings.Now she wants to try this for 3 strings.But in between she got confused now, your task is to help her.You are given exactly 3 strings.**\n",
    "\n",
    "Develop an algorithm which to find lcs for 3 strings.\n",
    "\n",
    "**Input Description:**\n",
    "\n",
    "You are given 3 strings.\n",
    "\n",
    "**Output Description:**\n",
    "\n",
    "Print the lcs of 3 string or print -1 if there is no lcs between 3 strings\n",
    "\n",
    "**Sample Input:**\n",
    "\n",
    "Guvi yuvi yuvirat\n",
    "\n",
    "**Sample Output:**\n",
    "\n",
    "uvi"
   ]
  },
  {
   "cell_type": "code",
   "execution_count": null,
   "metadata": {},
   "outputs": [],
   "source": []
  },
  {
   "cell_type": "markdown",
   "metadata": {},
   "source": [
    "### **117. Given 2 strings S,X. Print 'yes' if their lengths are co-prime otherwise print 'no'.**\n",
    "\n",
    "Input Size : 1 <= |s|, |x| <= 100000\n",
    "\n",
    "**Sample Testcase:**\n",
    "\n",
    "**INPUT**\n",
    "\n",
    "GUVIS GEEKTEC\n",
    "\n",
    "**OUTPUT**\n",
    "\n",
    "yes"
   ]
  },
  {
   "cell_type": "code",
   "execution_count": 14,
   "metadata": {},
   "outputs": [
    {
     "name": "stdout",
     "output_type": "stream",
     "text": [
      "yes\n"
     ]
    }
   ],
   "source": [
    "import math\n",
    "\n",
    "def are_lengths_coprime():\n",
    "    # Take input for two strings\n",
    "    s, x = input().split()\n",
    "    \n",
    "    # Calculate the lengths of the strings\n",
    "    len_s = len(s)\n",
    "    len_x = len(x)\n",
    "    \n",
    "    # Check if their GCD is 1\n",
    "    if math.gcd(len_s, len_x) == 1:\n",
    "        print(\"yes\")\n",
    "    else:\n",
    "        print(\"no\")\n",
    "\n",
    "are_lengths_coprime()"
   ]
  },
  {
   "cell_type": "markdown",
   "metadata": {},
   "source": [
    "### **118. Given two strings S1 and S2,display 'yes' if given two strings are complementary otherwise display 'no'. If we join alphabets of both the strings we should get all 26 capital letters exactly once, then only we can call them as complementary.**\n",
    "\n",
    "**Sample Testcase:**\n",
    "\n",
    "**INPUT**\n",
    "\n",
    "ABDCFGIJKLMNOPQUVWXYZ\n",
    "\n",
    "EHRST\n",
    "\n",
    "**OUTPUT**\n",
    "\n",
    "yes"
   ]
  },
  {
   "cell_type": "code",
   "execution_count": 15,
   "metadata": {},
   "outputs": [
    {
     "name": "stdout",
     "output_type": "stream",
     "text": [
      "yes\n"
     ]
    }
   ],
   "source": [
    "A =['A','B','C','D','E','F','G','H','I','J','K','L','M','N','O','P','Q','R','S','T','U','V','W','X','Y','Z']\n",
    "\n",
    "A1 = input()\n",
    "A2 = input()\n",
    "\n",
    "count = 0\n",
    "\n",
    "if len(A1)+len(A2)==len(A):\n",
    "    for i in A1:\n",
    "        if i in A:\n",
    "            A.remove(i)\n",
    "    for i in A2:\n",
    "        if i in A:\n",
    "            A.remove(i)\n",
    "    if len(A)==0:\n",
    "        print('yes')\n",
    "    else:\n",
    "        print('no')\n",
    "else:\n",
    "    print('no')"
   ]
  },
  {
   "cell_type": "markdown",
   "metadata": {},
   "source": [
    "### **119. Given a string S of length N, find the length of the largest alternating 'ab' subarray.**\n",
    "\n",
    "Input Size : 1 <= N <= 100000\n",
    "\n",
    "**Sample Testcases:**\n",
    "\n",
    "**INPUT**\n",
    "\n",
    "ababababa\n",
    "\n",
    "**OUTPUT**\n",
    "\n",
    "9"
   ]
  },
  {
   "cell_type": "code",
   "execution_count": 40,
   "metadata": {},
   "outputs": [
    {
     "name": "stdout",
     "output_type": "stream",
     "text": [
      "9\n"
     ]
    }
   ],
   "source": [
    "def largest_alternating_ab_subarray(S):\n",
    "    n = len(S)\n",
    "    if n < 2:\n",
    "        return 0\n",
    "\n",
    "    max_length = 0\n",
    "    current_length = 0\n",
    "\n",
    "    for i in range(n):\n",
    "        if i > 0 and ((S[i] == 'a' and S[i - 1] == 'b') or (S[i] == 'b' and S[i - 1] == 'a')):\n",
    "            current_length += 1\n",
    "        else:\n",
    "            current_length = 1 if S[i] in 'ab' else 0\n",
    "        max_length = max(max_length, current_length)\n",
    "    return max_length if max_length >= 2 else 0\n",
    "\n",
    "print(largest_alternating_ab_subarray(\"ababababa\"))  # Expected Output: 9"
   ]
  },
  {
   "cell_type": "markdown",
   "metadata": {},
   "source": [
    "### **120. Given a roman numeral N, convert it into integer.Take L=50, C=100.If it is not a valid roman numeral print '-1'**\n",
    "\n",
    "Input Size : N <= 100\n",
    "\n",
    "**Sample Testcase:**\n",
    "\n",
    "**INPUT**\n",
    "\n",
    "VI\n",
    "\n",
    "**OUTPUT**\n",
    "\n",
    "6\n",
    "\n",
    "**INPUT**\n",
    "\n",
    "Y\n",
    "\n",
    "**OUTPUT**\n",
    "\n",
    "-1"
   ]
  },
  {
   "cell_type": "code",
   "execution_count": 39,
   "metadata": {},
   "outputs": [
    {
     "name": "stdout",
     "output_type": "stream",
     "text": [
      "-1\n"
     ]
    }
   ],
   "source": [
    "def roman_to_int(N):\n",
    "    roman_values = {'I': 1, 'V': 5, 'X': 10, 'L': 50, 'C': 100}\n",
    "    \n",
    "    for char in N:\n",
    "        if char not in roman_values:\n",
    "            return -1\n",
    "    \n",
    "    result = 0\n",
    "    for i in range(len(N)):\n",
    "        if i + 1 < len(N) and roman_values[N[i]] < roman_values[N[i + 1]]:\n",
    "            result -= roman_values[N[i]]\n",
    "        else:\n",
    "            result += roman_values[N[i]]    \n",
    "    return result\n",
    "\n",
    "N = input().strip()\n",
    "print(roman_to_int(N))"
   ]
  },
  {
   "cell_type": "markdown",
   "metadata": {},
   "source": [
    "### **121. Given a string 'S', sort the characters based on the frequency(highest and lowest) and print the resultant string.(Note:If the frequency of different character is same then sort based on alphabetical order).**\n",
    "\n",
    "Input Size : 1 <= S <= 100000\n",
    "\n",
    "**Sample Testcases:**\n",
    "\n",
    "**INPUT**\n",
    "\n",
    "aabbba\n",
    "\n",
    "**OUTPUT**\n",
    "\n",
    "aaabbb"
   ]
  },
  {
   "cell_type": "code",
   "execution_count": 21,
   "metadata": {},
   "outputs": [
    {
     "name": "stdout",
     "output_type": "stream",
     "text": [
      "aaabbb\n"
     ]
    }
   ],
   "source": [
    "from collections import Counter\n",
    "\n",
    "def sort_by_frequency(s):\n",
    "    freq = Counter(s)\n",
    "    sorted_chars = sorted(freq.items(), key=lambda x: (-x[1], x[0]))\n",
    "    result = ''.join(char * count for char, count in sorted_chars)\n",
    "    return result\n",
    "\n",
    "s = input()\n",
    "print(sort_by_frequency(s))"
   ]
  },
  {
   "cell_type": "markdown",
   "metadata": {},
   "source": [
    "### **122. Given with Size of the array 'N' followed by array of 'N' strings, group the anagrams and print the number of grouping possible.If grouping not possible print '0'.**\n",
    "\n",
    "**Sample Testcase:**\n",
    "\n",
    "**INPUT**\n",
    "\n",
    "7\n",
    "\n",
    "rat art cat act dog god tar pat\n",
    "\n",
    "**OUTPUT**\n",
    "\n",
    "3\n",
    "\n",
    "[rat, art, tar],[cat, act],[dog, god]"
   ]
  },
  {
   "cell_type": "code",
   "execution_count": 22,
   "metadata": {},
   "outputs": [
    {
     "name": "stdout",
     "output_type": "stream",
     "text": [
      "[['rat', 'art', 'tar'], ['cat', 'act'], ['dog', 'god']]\n",
      "3\n"
     ]
    }
   ],
   "source": [
    "from collections import defaultdict\n",
    "\n",
    "def count_anagram_groups(n, words):\n",
    "    if n == 0:\n",
    "        return 0  # No strings, no groups\n",
    "\n",
    "    anagram_groups = defaultdict(list)\n",
    "    \n",
    "    # Group words by their sorted version\n",
    "    for word in words:\n",
    "        sorted_word = ''.join(sorted(word))  # Sort the characters in the word\n",
    "        anagram_groups[sorted_word].append(word)\n",
    "\n",
    "    # If no grouping is possible, return 0\n",
    "    if len(anagram_groups) == n:\n",
    "        return 0\n",
    "\n",
    "    # Print groups\n",
    "    groups = list(anagram_groups.values())\n",
    "    print(groups)  # Prints each group of anagrams\n",
    "    return len(groups)\n",
    "\n",
    "n = 7\n",
    "words = [\"rat\", \"art\", \"cat\", \"act\", \"dog\", \"god\", \"tar\"]\n",
    "result = count_anagram_groups(n, words)\n",
    "print(result)"
   ]
  },
  {
   "cell_type": "markdown",
   "metadata": {},
   "source": [
    "### **123. Write a program to give the following output for the given string S of size N.(character containing even number of occurences should be elaborated else print the same format)**\n",
    "\n",
    "Eg 1: Input: a1b10\n",
    "\n",
    "Output: a1bbbbbbbbbb\n",
    "\n",
    "Eg: 2: Input: b3c6d15\n",
    "\n",
    "Output: b3ccccccd15\n",
    "\n",
    "Input Size : 1 <= N <= 100000\n",
    "\n",
    "**Sample Testcases:**\n",
    "\n",
    "**INPUT**\n",
    "\n",
    "a1b10\n",
    "\n",
    "**OUTPUT**\n",
    "\n",
    "a1bbbbbbbbbb"
   ]
  },
  {
   "cell_type": "code",
   "execution_count": 29,
   "metadata": {},
   "outputs": [
    {
     "name": "stdout",
     "output_type": "stream",
     "text": [
      "a1bbbbbbbbbb\n"
     ]
    }
   ],
   "source": [
    "import re\n",
    "\n",
    "def process_string(S):\n",
    "    pattern = re.compile(r'([a-zA-Z])(\\d+)')\n",
    "    result = []\n",
    "    \n",
    "    for match in pattern.finditer(S):\n",
    "        char = match.group(1)\n",
    "        count = int(match.group(2))\n",
    "\n",
    "        if count % 2 == 0:\n",
    "            result.append(char * count)\n",
    "        else:\n",
    "            result.append(f\"{char}{count}\")\n",
    "\n",
    "    print(\"\".join(result))\n",
    "\n",
    "S = input().strip()\n",
    "process_string(S)"
   ]
  },
  {
   "cell_type": "markdown",
   "metadata": {},
   "source": [
    "### **124. Given a number N, print the first N Catalan numbers.**\n",
    "\n",
    "Input Size : N <= 100\n",
    "\n",
    "**Sample Testcase:**\n",
    "\n",
    "**INPUT**\n",
    "\n",
    "1\n",
    "\n",
    "**OUTPUT**\n",
    "\n",
    "1 1"
   ]
  },
  {
   "cell_type": "code",
   "execution_count": 30,
   "metadata": {},
   "outputs": [
    {
     "name": "stdout",
     "output_type": "stream",
     "text": [
      "1 1\n"
     ]
    }
   ],
   "source": [
    "def catalan(n):\n",
    "    catalan_numbers = [0] * (n + 1)\n",
    "    catalan_numbers[0] = catalan_numbers[1] = 1\n",
    "    for i in range(2, n + 1):\n",
    "        for j in range(i):\n",
    "            catalan_numbers[i] += catalan_numbers[j] * catalan_numbers[i - j - 1]    \n",
    "    return catalan_numbers\n",
    "\n",
    "n = int(input())\n",
    "result = catalan(n)\n",
    "print(\" \".join(map(str, result)))"
   ]
  },
  {
   "cell_type": "markdown",
   "metadata": {},
   "source": [
    "### **125. Given a string S. Find the maximum length of substring alternating characters of vowel and consonants.**\n",
    "\n",
    "Input Size : |S| <= 1000000\n",
    "\n",
    "**Sample Testcase:**\n",
    "\n",
    "**INPUT**\n",
    "\n",
    "bebibo\n",
    "\n",
    "**OUTPUT**\n",
    "\n",
    "6"
   ]
  },
  {
   "cell_type": "code",
   "execution_count": 33,
   "metadata": {},
   "outputs": [
    {
     "name": "stdout",
     "output_type": "stream",
     "text": [
      "6\n"
     ]
    }
   ],
   "source": [
    "def max_alternating_vowel_consonant_substring(S):\n",
    "    vowels = set(\"aeiouAEIOU\")  # Define vowels\n",
    "    n = len(S)\n",
    "    \n",
    "    if n < 2:  # Single character strings cannot alternate\n",
    "        return 0\n",
    "    \n",
    "    max_length = 0\n",
    "    current_length = 1  # Start with the first character\n",
    "\n",
    "    for i in range(1, n):\n",
    "        if (S[i] in vowels and S[i - 1] not in vowels) or (S[i] not in vowels and S[i - 1] in vowels):\n",
    "            current_length += 1  # Alternation continues\n",
    "        else:\n",
    "            max_length = max(max_length, current_length)  # Update max length\n",
    "            current_length = 1  # Reset count\n",
    "    \n",
    "    # Final check for the last substring\n",
    "    max_length = max(max_length, current_length)\n",
    "    return max_length if max_length > 1 else 0  # Minimum length of 2 required\n",
    "\n",
    "S = input()\n",
    "print(max_alternating_vowel_consonant_substring(S))"
   ]
  },
  {
   "cell_type": "markdown",
   "metadata": {},
   "source": [
    "### **126. Joseph was going through topic of strings. He learnt about anagrams. But due to some circumstances he forget ,now he hired you to help him in completing the work. Your task is to tell whether the two given strings are anagrams.**\n",
    "\n",
    "**Input Description:**\n",
    "\n",
    "The first line of the input is a string N, the second line of the input is a string M\n",
    "\n",
    "**Output Description:**\n",
    "\n",
    "Compare the two string input N and M. Print 1 if they are anagram else print 0.\n",
    "\n",
    "**Sample Input:**\n",
    "\n",
    "abcd\n",
    "\n",
    "cdab\n",
    "\n",
    "**Sample Output:**\n",
    "\n",
    "1"
   ]
  },
  {
   "cell_type": "code",
   "execution_count": 34,
   "metadata": {},
   "outputs": [
    {
     "name": "stdout",
     "output_type": "stream",
     "text": [
      "1\n"
     ]
    }
   ],
   "source": [
    "def are_anagrams(N, M):\n",
    "    # Sort the characters of both strings and compare\n",
    "    if sorted(N) == sorted(M):\n",
    "        return 1\n",
    "    else:\n",
    "        return 0\n",
    "\n",
    "N = input().strip()\n",
    "M = input().strip()\n",
    "print(are_anagrams(N, M))"
   ]
  },
  {
   "cell_type": "markdown",
   "metadata": {},
   "source": [
    "### **127. You are given a string ‘s’.Determine whether the string given is made up of either.**\n",
    "\n",
    "A\n",
    "AB\n",
    "ABB\n",
    "\n",
    "If the string given is made up of any frequency occurrence of the above Print 1 else 0\n",
    "\n",
    "**Input Description:**\n",
    "\n",
    "You are given a string ‘s’.\n",
    "\n",
    "**Output Description:**\n",
    "\n",
    "Print 1 else 0\n",
    "\n",
    "**Sample Input:**\n",
    "\n",
    "AAAAA\n",
    "\n",
    "**Sample Output:**\n",
    "\n",
    "1"
   ]
  },
  {
   "cell_type": "code",
   "execution_count": 35,
   "metadata": {},
   "outputs": [
    {
     "name": "stdout",
     "output_type": "stream",
     "text": [
      "1\n"
     ]
    }
   ],
   "source": [
    "def is_valid_string(s):\n",
    "    i = 0\n",
    "    n = len(s)\n",
    "    \n",
    "    while i < n:\n",
    "        # Try to match \"ABB\"\n",
    "        if i + 2 < n and s[i:i+3] == \"ABB\":\n",
    "            i += 3\n",
    "        # Try to match \"AB\"\n",
    "        elif i + 1 < n and s[i:i+2] == \"AB\":\n",
    "            i += 2\n",
    "        # Try to match \"A\"\n",
    "        elif s[i] == \"A\":\n",
    "            i += 1\n",
    "        else:\n",
    "            return 0  # If none of the patterns match, return 0    \n",
    "    return 1  # If we reach the end, the string is valid\n",
    "\n",
    "s = input().strip()\n",
    "print(is_valid_string(s))"
   ]
  },
  {
   "cell_type": "markdown",
   "metadata": {},
   "source": [
    "### **128. Given 2 numbers A,B. Print the GCD of A! and B!.**\n",
    "\n",
    "**Sample Testcase:**\n",
    "\n",
    "**INPUT**\n",
    "\n",
    "4 2\n",
    "\n",
    "**OUTPUT**\n",
    "\n",
    "2"
   ]
  },
  {
   "cell_type": "code",
   "execution_count": 36,
   "metadata": {},
   "outputs": [
    {
     "name": "stdout",
     "output_type": "stream",
     "text": [
      "2\n"
     ]
    }
   ],
   "source": [
    "import math\n",
    "\n",
    "def gcd_of_factorials(a, b):\n",
    "    min_value = min(a, b)\n",
    "    result = math.factorial(min_value)\n",
    "    print(result)\n",
    "\n",
    "a, b = map(int, input().split())\n",
    "gcd_of_factorials(a, b)"
   ]
  },
  {
   "cell_type": "markdown",
   "metadata": {},
   "source": [
    "### **129. Given a string S of length N, write a program that would reverse every word in the string.**\n",
    "\n",
    "Input Size : 1 <= N <= 100000\n",
    "\n",
    "**Sample Testcases:**\n",
    "\n",
    "**INPUT**\n",
    "\n",
    "Hello World\n",
    "\n",
    "**OUTPUT**\n",
    "\n",
    "olleH dlroW"
   ]
  },
  {
   "cell_type": "code",
   "execution_count": 37,
   "metadata": {},
   "outputs": [
    {
     "name": "stdout",
     "output_type": "stream",
     "text": [
      "olleH dlroW\n"
     ]
    }
   ],
   "source": [
    "def reverse_words(s):\n",
    "    # Split the string by spaces\n",
    "    words = s.split()\n",
    "    \n",
    "    # Reverse each word\n",
    "    reversed_words = [word[::-1] for word in words]\n",
    "    \n",
    "    # Join the reversed words with spaces and return\n",
    "    return ' '.join(reversed_words)\n",
    "\n",
    "s = input().strip()\n",
    "print(reverse_words(s))"
   ]
  },
  {
   "cell_type": "markdown",
   "metadata": {},
   "source": [
    "### **130. Given a string 'S' print the substring of maximum length which is not a palindrome.If more than one solution is possible print the solution which you obtained by performing elimination at the end of the string.**\n",
    "\n",
    "Input Size : 1 <= length <= 1000\n",
    "\n",
    "**Sample Testcases:**\n",
    "\n",
    "**INPUT**\n",
    "\n",
    "ababababa\n",
    "\n",
    "**OUTPUT**\n",
    "\n",
    "abababab\n",
    "\n",
    "**INPUT**\n",
    "\n",
    "hello\n",
    "\n",
    "**OUTPUT**\n",
    "\n",
    "hello"
   ]
  },
  {
   "cell_type": "code",
   "execution_count": 38,
   "metadata": {},
   "outputs": [
    {
     "name": "stdout",
     "output_type": "stream",
     "text": [
      "abababab\n"
     ]
    }
   ],
   "source": [
    "def is_palindrome(s):\n",
    "    return s == s[::-1]\n",
    "\n",
    "def longest_non_palindrome_substring(s):\n",
    "    if not is_palindrome(s):\n",
    "        return s\n",
    "    \n",
    "    for i in range(len(s) - 1, 0, -1):\n",
    "        substring = s[:i]\n",
    "        if not is_palindrome(substring):\n",
    "            return substring\n",
    "    return \"\"\n",
    "\n",
    "s = input().strip()\n",
    "print(longest_non_palindrome_substring(s))"
   ]
  },
  {
   "cell_type": "markdown",
   "metadata": {},
   "source": [
    "### **131. Given two numbers S1 and S2 represented as strings, return multiplication of the numbers as a string.**\n",
    "\n",
    "NOTE: The numbers can be arbitrarily large and are nonnegative.\n",
    "\n",
    "**Sample Testcase:**\n",
    "\n",
    "**INPUT**\n",
    "\n",
    "2 10\n",
    "\n",
    "**OUTPUT**\n",
    "\n",
    "20"
   ]
  },
  {
   "cell_type": "code",
   "execution_count": 41,
   "metadata": {},
   "outputs": [
    {
     "name": "stdout",
     "output_type": "stream",
     "text": [
      "20\n"
     ]
    }
   ],
   "source": [
    "def multiply(S1, S2):\n",
    "    # Edge case for \"0\"\n",
    "    if S1 == \"0\" or S2 == \"0\":\n",
    "        return \"0\"\n",
    "    \n",
    "    # Get the lengths of both strings\n",
    "    len1, len2 = len(S1), len(S2)\n",
    "    \n",
    "    # Create an array to store the multiplication result, maximum length will be len1 + len2\n",
    "    result = [0] * (len1 + len2)\n",
    "    \n",
    "    # Reverse the strings for easier calculation\n",
    "    S1 = S1[::-1]\n",
    "    S2 = S2[::-1]\n",
    "    \n",
    "    # Perform multiplication digit by digit\n",
    "    for i in range(len1):\n",
    "        for j in range(len2):\n",
    "            # Multiply digits and add to the corresponding position in result array\n",
    "            result[i + j] += int(S1[i]) * int(S2[j])\n",
    "            # Carry forward any value greater than 9\n",
    "            result[i + j + 1] += result[i + j] // 10\n",
    "            result[i + j] %= 10\n",
    "    \n",
    "    # Remove leading zeros in the result array\n",
    "    while len(result) > 1 and result[-1] == 0:\n",
    "        result.pop()\n",
    "    return ''.join(map(str, result[::-1]))\n",
    "\n",
    "S1, S2 = input().split()\n",
    "print(multiply(S1, S2))"
   ]
  },
  {
   "cell_type": "markdown",
   "metadata": {},
   "source": [
    "### **132. Given N strings and a prefix string p. Find how many of the N strings have p as their prefix.**\n",
    "\n",
    "for eg: String[] \n",
    "\n",
    "input={'100','111','10100','10','1111'} prefix='10'\n",
    "\n",
    "output=2\n",
    "\n",
    "Input Size : N <= 100000, string length <=1000, prefix length <=100\n",
    "\n",
    "**Sample Testcase:**\n",
    "\n",
    "**INPUT**\n",
    "\n",
    "5\n",
    "\n",
    "100 111 10100 10 1111\n",
    "\n",
    "10\n",
    "\n",
    "**OUTPUT**\n",
    "\n",
    "3"
   ]
  },
  {
   "cell_type": "code",
   "execution_count": 43,
   "metadata": {},
   "outputs": [
    {
     "name": "stdout",
     "output_type": "stream",
     "text": [
      "3\n"
     ]
    }
   ],
   "source": [
    "def count_strings_with_prefix(strings, prefix):\n",
    "    count = 0\n",
    "    prefix_length = len(prefix)\n",
    "    \n",
    "    for string in strings:\n",
    "        if len(string) >= prefix_length and string.startswith(prefix):\n",
    "            count += 1    \n",
    "    return count\n",
    "\n",
    "N = int(input())\n",
    "strings = input().split()\n",
    "prefix = input().strip()\n",
    "print(count_strings_with_prefix(strings, prefix))"
   ]
  },
  {
   "cell_type": "markdown",
   "metadata": {},
   "source": [
    "### **133. Given a number N, find the smallest number which is greater than N with the same digits in N. If N is the greatest digit print 'impossible'.**\n",
    "\n",
    "Input Size : 1 <= N <= 1000000000000000000\n",
    "\n",
    "**Sample Testcases:**\n",
    "\n",
    "**INPUT**\n",
    "\n",
    "123\n",
    "\n",
    "**OUTPUT**\n",
    "\n",
    "132"
   ]
  },
  {
   "cell_type": "code",
   "execution_count": 44,
   "metadata": {},
   "outputs": [
    {
     "name": "stdout",
     "output_type": "stream",
     "text": [
      "132\n"
     ]
    }
   ],
   "source": [
    "def next_greater_number(n):\n",
    "    digits = list(str(n))\n",
    "    length = len(digits)\n",
    "    \n",
    "    i = length - 2\n",
    "    while i >= 0 and digits[i] >= digits[i + 1]:\n",
    "        i -= 1\n",
    "    if i == -1:\n",
    "        return \"impossible\"\n",
    "    j = length - 1\n",
    "    while digits[j] <= digits[i]:\n",
    "        j -= 1\n",
    "    \n",
    "    digits[i], digits[j] = digits[j], digits[i]\n",
    "    digits = digits[:i + 1] + digits[i + 1:][::-1]\n",
    "    return int(\"\".join(digits))\n",
    "\n",
    "n = int(input().strip())\n",
    "print(next_greater_number(n))"
   ]
  },
  {
   "cell_type": "markdown",
   "metadata": {},
   "source": [
    "### **134. Swagger and Rock are playing a word game. They need to check the two strings use the same base alphabets. Two strings are said to have same base alphabets if they use the same characters to form the word. eg: rescue and curse have same base alphabets - c,e,r,s,u.If it so print 'true' else print 'false'.**\n",
    "\n",
    "Input Size : |S| <= 1000000\n",
    "\n",
    "**Sample Testcase:**\n",
    "\n",
    "**INPUT**\n",
    "\n",
    "rescue curse\n",
    "\n",
    "**OUTPUT**\n",
    "\n",
    "true"
   ]
  },
  {
   "cell_type": "code",
   "execution_count": 45,
   "metadata": {},
   "outputs": [
    {
     "name": "stdout",
     "output_type": "stream",
     "text": [
      "true\n"
     ]
    }
   ],
   "source": [
    "def have_same_base_alphabets(str1, str2):\n",
    "    # Convert both strings to sets of characters\n",
    "    set1 = set(str1)\n",
    "    set2 = set(str2)\n",
    "    \n",
    "    # Check if both sets are equal\n",
    "    if set1 == set2:\n",
    "        return \"true\"\n",
    "    else:\n",
    "        return \"false\"\n",
    "\n",
    "str1, str2 = input().split()\n",
    "print(have_same_base_alphabets(str1, str2))"
   ]
  },
  {
   "cell_type": "markdown",
   "metadata": {},
   "source": [
    "### **135. Given a string S, remove the characters which exist more than one times,and print the remaining string.**\n",
    "\n",
    "Input Size : |S| <= 10000000\n",
    "\n",
    "**Sample Testcase:**\n",
    "\n",
    "**INPUT**\n",
    "\n",
    "Engineering\n",
    "\n",
    "**OUTPUT**\n",
    "\n",
    "Er"
   ]
  },
  {
   "cell_type": "code",
   "execution_count": 46,
   "metadata": {},
   "outputs": [
    {
     "name": "stdout",
     "output_type": "stream",
     "text": [
      "Er\n"
     ]
    }
   ],
   "source": [
    "from collections import Counter\n",
    "\n",
    "def remove_duplicates(S):\n",
    "    # Count the frequency of each character in the string\n",
    "    freq = Counter(S)\n",
    "    \n",
    "    # Filter the string to include only characters that appear exactly once\n",
    "    result = ''.join([ch for ch in S if freq[ch] == 1])    \n",
    "    return result\n",
    "\n",
    "S = input().strip()\n",
    "print(remove_duplicates(S))"
   ]
  },
  {
   "cell_type": "code",
   "execution_count": null,
   "metadata": {},
   "outputs": [],
   "source": []
  },
  {
   "cell_type": "code",
   "execution_count": null,
   "metadata": {},
   "outputs": [],
   "source": []
  },
  {
   "cell_type": "code",
   "execution_count": null,
   "metadata": {},
   "outputs": [],
   "source": []
  }
 ],
 "metadata": {
  "kernelspec": {
   "display_name": "py12",
   "language": "python",
   "name": "python3"
  },
  "language_info": {
   "codemirror_mode": {
    "name": "ipython",
    "version": 3
   },
   "file_extension": ".py",
   "mimetype": "text/x-python",
   "name": "python",
   "nbconvert_exporter": "python",
   "pygments_lexer": "ipython3",
   "version": "3.12.7"
  }
 },
 "nbformat": 4,
 "nbformat_minor": 2
}
