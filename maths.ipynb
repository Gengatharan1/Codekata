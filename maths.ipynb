{
 "cells": [
  {
   "cell_type": "markdown",
   "metadata": {},
   "source": [
    "### 1. A person saves his monthly saving according to given schema. He saves same amount of money which is equal to the money saved in immediate previous two months. Assume, initially he saved 1000 rupees and in first month he saved another 1000. Your task is to tell how much he had totally saved at the end of ‘n’ months\n",
    "\n",
    "#### Input Description:\n",
    "You will be given a number ‘n’->No. of months\n",
    "\n",
    "#### Output Description:\n",
    "Print the total savings at the end of ‘n’ months\n",
    "\n",
    "#### Sample Input :\n",
    "1\n",
    "\n",
    "#### Sample Output :\n",
    "2000"
   ]
  },
  {
   "cell_type": "code",
   "execution_count": 1,
   "metadata": {},
   "outputs": [
    {
     "name": "stdout",
     "output_type": "stream",
     "text": [
      "2000\n"
     ]
    }
   ],
   "source": [
    "a = int(input())\n",
    "if a<=2:\n",
    "    print(2000*a)\n",
    "else:\n",
    "    print((2000*a)+1000)"
   ]
  },
  {
   "cell_type": "markdown",
   "metadata": {},
   "source": [
    "### 2. Assume your brother studies in class 2. He has to  complete his homework on co-primes. As an elder sibling help him in finding whether the given two numbers is co-prime or not.\n",
    "\n",
    "#### Input Description:\n",
    "You will be given two numbers ‘n’ and ‘m’\n",
    "\n",
    "#### Output Description:\n",
    "Your task is to tell whether numbers is co prime or not. If it is a co-prime print 1 else 0\n",
    "\n",
    "#### Sample Input :\n",
    "3 5\n",
    "\n",
    "#### Sample Output :\n",
    "1"
   ]
  },
  {
   "cell_type": "code",
   "execution_count": 12,
   "metadata": {},
   "outputs": [
    {
     "name": "stdout",
     "output_type": "stream",
     "text": [
      "1\n"
     ]
    }
   ],
   "source": [
    "a, b = list(map(int, input().split()))      # a = 3, b = 5\n",
    "arr = []\n",
    "r=0         \n",
    "for i in range(1, a+1):\n",
    "    if a % i == 0:\n",
    "        arr.append(i)\n",
    "for i in range(1, b+1):\n",
    "    if b % i == 0:\n",
    "        if i in arr:\n",
    "            r += 1\n",
    "if r >= 1:\n",
    "    print(1)\n",
    "else:\n",
    "    print(0)"
   ]
  },
  {
   "cell_type": "markdown",
   "metadata": {},
   "source": [
    "### 3. You are provided with a number ’n’. Your task is to tell whether that number is saturated. A saturated number is a number which is made by exactly two digits.\n",
    "\n",
    "#### Input Description:\n",
    "You are given with a number n.\n",
    "\n",
    "#### Output Description:\n",
    "Print Saturated if it is saturated else it is Unsaturated\n",
    "\n",
    "#### Sample Input :\n",
    "121\n",
    "\n",
    "#### Sample Output :\n",
    "Saturated"
   ]
  },
  {
   "cell_type": "code",
   "execution_count": 25,
   "metadata": {},
   "outputs": [
    {
     "name": "stdout",
     "output_type": "stream",
     "text": [
      "Saturated\n"
     ]
    }
   ],
   "source": [
    "a = input()\n",
    "l = []\n",
    "for i in a:\n",
    "    l.append(int(i))\n",
    "    \n",
    "c = set(l)\n",
    "\n",
    "if len(c) == 2:\n",
    "    print(\"Saturated\")\n",
    "    \n",
    "else:\n",
    "    print(\"Unsaturated\")"
   ]
  },
  {
   "cell_type": "code",
   "execution_count": 24,
   "metadata": {},
   "outputs": [
    {
     "name": "stdout",
     "output_type": "stream",
     "text": [
      "Unsaturated\n"
     ]
    }
   ],
   "source": [
    "input_value = input()\n",
    "setting = list(set(input_value))\n",
    "\n",
    "if(len(setting) == 2):\n",
    "    print(\"Saturated\")\n",
    "else:\n",
    "    print(\"Unsaturated\")"
   ]
  },
  {
   "cell_type": "markdown",
   "metadata": {},
   "source": [
    "### 4. You are given a number ‘n’. You have to tell whether a number is great or not. A great number is a number whose sum of digits let (m) and product of digits let(j) when summed together gives the number back\n",
    "\n",
    "m+j=n \n",
    "\n",
    "#### Input Description:\n",
    "You are given a number n;\n",
    "\n",
    "#### Output Description:\n",
    "Print Great if a number is great else print the no\n",
    "\n",
    "#### Sample Input :\n",
    "59\n",
    "\n",
    "#### Sample Output :\n",
    "Great"
   ]
  },
  {
   "cell_type": "code",
   "execution_count": 36,
   "metadata": {},
   "outputs": [
    {
     "name": "stdout",
     "output_type": "stream",
     "text": [
      "sum: 9\n",
      "Product 9\n",
      "sum: 14\n",
      "Product 45\n",
      "59\n",
      "Great\n"
     ]
    }
   ],
   "source": [
    "n=int(input())\n",
    "t=n\n",
    "sum=0\n",
    "product=1\n",
    "\n",
    "while n > 0:\n",
    "  digit=n%10\n",
    "  sum=sum+digit                   # sum = 5 + 9 = 14\n",
    "  print(\"sum:\",  sum)\n",
    "  product=digit*product           # prod = 5 * 9 = 45\n",
    "  print(\"Product\", product)\n",
    "  n=n//10\n",
    "res=sum+product                   # res = 14 + 45 = 59\n",
    "print(res)                        \n",
    "\n",
    "if res==t:\n",
    "  print(\"Great\")\n",
    "else:\n",
    "  print(\"No\")"
   ]
  },
  {
   "cell_type": "markdown",
   "metadata": {},
   "source": [
    "### 5.boy rolls an unbiased die until he gets ‘1’. You are given a number n find the total sum of probability that he will get ‘1’ on or before nth trial.(Probability of getting 1 at 1 time + probability of getting 1 at 2 trial….+probability of getting 1 at nth trial)\n",
    "\n",
    "#### Constraints:\n",
    "1<=n<=1000\n",
    "\n",
    "#### Input Description:\n",
    "You are given a number ‘n’.\n",
    "\n",
    "#### Output Description:\n",
    "Print two numbers denoting numerator and denominator\n",
    "\n",
    "#### Sample Input :\n",
    "1\n",
    "\n",
    "#### Sample Output :\n",
    "1 6"
   ]
  },
  {
   "cell_type": "code",
   "execution_count": 42,
   "metadata": {},
   "outputs": [
    {
     "name": "stdout",
     "output_type": "stream",
     "text": [
      "1 6\n"
     ]
    }
   ],
   "source": [
    "import math\n",
    "\n",
    "def find_probability_sum(n):\n",
    "    numerator = 6**n - 5**n     # Calculate the numerator and denominator of the fraction\n",
    "    denominator = 6**n\n",
    "    \n",
    "    # Simplify the fraction\n",
    "    gcd = math.gcd(numerator, denominator)\n",
    "    numerator //= gcd\n",
    "    denominator //= gcd\n",
    "    \n",
    "    return numerator, denominator\n",
    "\n",
    "n = int(input())\n",
    "\n",
    "numerator, denominator = find_probability_sum(n)\n",
    "print(numerator, denominator)"
   ]
  },
  {
   "cell_type": "code",
   "execution_count": 32,
   "metadata": {},
   "outputs": [
    {
     "name": "stdout",
     "output_type": "stream",
     "text": [
      "Probability: 0.16666666666666663/6\n"
     ]
    }
   ],
   "source": [
    "def probability_of_one(n):\n",
    "\n",
    "  if n < 1 or n > 1000:\n",
    "    raise ValueError(\"n must be between 1 and 1000\")\n",
    "\n",
    "  p = 1/6  # Probability of getting a 1\n",
    "  q = 1 - p  # Probability of not getting a 1\n",
    "\n",
    "  # Calculate the probability using the geometric series formula\n",
    "  probability = 1 - (q**n)\n",
    "\n",
    "  return (probability, 6**n)  # Numerator and denominator\n",
    "\n",
    "# Get input from the user\n",
    "n = int(input(\"Enter the number of trials (1-1000): \"))\n",
    "\n",
    "# Calculate and print the probability\n",
    "numerator, denominator = probability_of_one(n)\n",
    "print(f\"Probability: {numerator}/{denominator}\")"
   ]
  },
  {
   "cell_type": "markdown",
   "metadata": {},
   "source": [
    "### 6. You are given a task to tell whether the number is pure or not. A pure number is a number whose sum of digits is multiple of 3.\n",
    "\n",
    "O(1) time and O(1) space\n",
    "\n",
    "#### Input Description:\n",
    "You are given a number n.\n",
    "\n",
    "#### Output Description:\n",
    "Print yes if it is pure else not\n",
    "\n",
    "#### Sample Input :\n",
    "13\n",
    "\n",
    "#### Sample Output :\n",
    "not"
   ]
  },
  {
   "cell_type": "code",
   "execution_count": 38,
   "metadata": {},
   "outputs": [
    {
     "name": "stdout",
     "output_type": "stream",
     "text": [
      "not\n"
     ]
    }
   ],
   "source": [
    "def is_pure_number(n):\n",
    "    # Initialize sum of digits\n",
    "    digit_sum = 0\n",
    "    original_n = n  # Store the original number for reference\n",
    "    \n",
    "    # Sum the digits\n",
    "    while n > 0:\n",
    "        digit_sum += n % 10\n",
    "        n //= 10\n",
    "    \n",
    "    # Check if the sum of digits is a multiple of 3\n",
    "    if digit_sum % 3 == 0:\n",
    "        return \"yes\"\n",
    "    else:\n",
    "        return \"not\"\n",
    "\n",
    "n = int(input())\n",
    "print(is_pure_number(n))"
   ]
  },
  {
   "cell_type": "markdown",
   "metadata": {},
   "source": [
    "### 8.You are given a set of numbers, out of which you have to tell which of them are finest. A finest number ‘n’ is a number which is formed by a number ‘t’ such that\n",
    "n=t^3+(t+1)^3\n",
    "t is a natural number\n",
    "\n",
    "#### Input Description:\n",
    "You are given a number ‘z’ representing total numbers in an array, Next line contains z space separated numbers.\n",
    "\n",
    "#### Output Description:\n",
    "Print the numbers which are finest in ascending order if there are no such numbers print -1.\n",
    "\n",
    "#### Sample Input :\n",
    "2\n",
    "1729 189\n",
    "\n",
    "#### Sample Output :\n",
    "189 1729"
   ]
  },
  {
   "cell_type": "code",
   "execution_count": 75,
   "metadata": {},
   "outputs": [
    {
     "name": "stdout",
     "output_type": "stream",
     "text": [
      "189 1729\n"
     ]
    }
   ],
   "source": [
    "def is_finest(n):\n",
    "    t = 1\n",
    "    while t * t * t + (t + 1) * (t + 1) * (t + 1) <= n:\n",
    "        if t * t * t + (t + 1) * (t + 1) * (t + 1) == n:\n",
    "            return True\n",
    "        t += 1\n",
    "    return False\n",
    "\n",
    "z = int(input())\n",
    "numbers = list(map(int, input().split()))   # numbers = [\"1729\", \"189\"] ==> numbers = 1729 189\n",
    "                                                \n",
    "finest_numbers = [num for num in numbers if is_finest(num)]\n",
    "\n",
    "if finest_numbers:\n",
    "    finest_numbers.sort()\n",
    "    print(*finest_numbers)\n",
    "else:\n",
    "    print(-1)"
   ]
  },
  {
   "cell_type": "markdown",
   "metadata": {},
   "source": [
    "### 9. Given 3 numbers a,b,c print a*b mod c.\n",
    "\n",
    "#### Sample Testcase :\n",
    "#### INPUT\n",
    "5 3 2\n",
    "\n",
    "#### OUTPUT\n",
    "1"
   ]
  },
  {
   "cell_type": "code",
   "execution_count": 46,
   "metadata": {},
   "outputs": [
    {
     "name": "stdout",
     "output_type": "stream",
     "text": [
      "1\n"
     ]
    }
   ],
   "source": [
    "def multiply_mod(a, b, c):\n",
    "    return (a * b) % c\n",
    "\n",
    "a, b, c = map(int, input().split())\n",
    "result = multiply_mod(a, b, c)\n",
    "print(result)"
   ]
  },
  {
   "cell_type": "markdown",
   "metadata": {},
   "source": [
    "### 10. Given a number N, print yes if the number is a multiple of 7 else print no.\n",
    "\n",
    "#### Sample Testcase :\n",
    "\n",
    "#### INPUT\n",
    "49\n",
    "\n",
    "#### OUTPUT\n",
    "yes"
   ]
  },
  {
   "cell_type": "code",
   "execution_count": 54,
   "metadata": {},
   "outputs": [
    {
     "name": "stdout",
     "output_type": "stream",
     "text": [
      "yes\n"
     ]
    }
   ],
   "source": [
    "def is_multiple_of_7(n):\n",
    "    if n % 7 == 0:\n",
    "        return \"yes\"\n",
    "    else:\n",
    "        return \"no\"\n",
    "\n",
    "n = int(input())\n",
    "\n",
    "# Check if the number is a multiple of 7\n",
    "result = is_multiple_of_7(n)\n",
    "print(result)"
   ]
  },
  {
   "cell_type": "markdown",
   "metadata": {},
   "source": [
    "### 11. You are given an array of non-negative integers representing height of walls at index i as Ai and the width of each block is 1. Compute how much air can be encapsulated between the walls of chamber.\n",
    "\n",
    "#### Input Description:\n",
    "Each line contains an integer ‘N’ denoting the size of the array Next line contains N space separated numbers to be stored in array.\n",
    "\n",
    "#### Output Description:\n",
    "Output the total unit of Air encapsulated between the walls of chamber.\n",
    "\n",
    "#### Sample Input :\n",
    "3\n",
    "7 4 9\n",
    "\n",
    "#### Sample Output :\n",
    "3"
   ]
  },
  {
   "cell_type": "code",
   "execution_count": 59,
   "metadata": {},
   "outputs": [
    {
     "name": "stdout",
     "output_type": "stream",
     "text": [
      "3\n"
     ]
    }
   ],
   "source": [
    "def trapped_air(heights):\n",
    "    n = len(heights)\n",
    "    max_left = [0] * n\n",
    "    max_right = [0] * n\n",
    "\n",
    "    # Find maximum height walls to the left of each position\n",
    "    max_height_left = 0\n",
    "    for i in range(n):\n",
    "        max_left[i] = max_height_left\n",
    "        max_height_left = max(max_height_left, heights[i])\n",
    "\n",
    "    # Find maximum height walls to the right of each position\n",
    "    max_height_right = 0\n",
    "    for i in range(n - 1, -1, -1):\n",
    "        max_right[i] = max_height_right\n",
    "        max_height_right = max(max_height_right, heights[i])\n",
    "\n",
    "    # Calculate trapped air\n",
    "    trapped = 0\n",
    "    for i in range(n):\n",
    "        min_boundary_height = min(max_left[i], max_right[i])\n",
    "        trapped += max(0, min_boundary_height - heights[i])\n",
    "    return trapped\n",
    "\n",
    "n = int(input())\n",
    "heights = list(map(int, input().split()))\n",
    "trapped_units = trapped_air(heights)\n",
    "print(trapped_units)"
   ]
  },
  {
   "cell_type": "markdown",
   "metadata": {},
   "source": [
    "### 12. Assume that you are ticket verifier at a club. Your club has decided to give a special discount to the person(s) who are satisfying the following condition\n",
    "\n",
    "#### Condition:-\n",
    "\n",
    "If ticket number is divisible by date of month. You are eligible for a discount.\n",
    "\n",
    "#### Input Description:\n",
    "First line contains input ‘n’.Next line contains n space separated numbers denoting ticket numbers .Next line contains ‘k’ date of the month.\n",
    "\n",
    "#### Output Description:\n",
    "Print 1 if the ticket is eligible for discount else 0\n",
    "\n",
    "#### Sample Input :\n",
    "6\n",
    "112 139 165 175 262 130\n",
    "22\n",
    "\n",
    "#### Sample Output :\n",
    "0 0 0 0 0 0"
   ]
  },
  {
   "cell_type": "code",
   "execution_count": 9,
   "metadata": {},
   "outputs": [
    {
     "name": "stdout",
     "output_type": "stream",
     "text": [
      "0 0 0 0 0 0\n"
     ]
    }
   ],
   "source": [
    "n = int(input())\n",
    "ticket_numbers = list(map(int, input().split()))\n",
    "date_of_month = int(input())\n",
    "\n",
    "results = []\n",
    "\n",
    "for ticket in ticket_numbers:\n",
    "    if ticket % date_of_month == 0:\n",
    "        results.append(1)\n",
    "    else:\n",
    "        results.append(0)\n",
    "print(\" \".join(map(str, results)))"
   ]
  },
  {
   "cell_type": "code",
   "execution_count": 76,
   "metadata": {},
   "outputs": [
    {
     "name": "stdout",
     "output_type": "stream",
     "text": [
      "0 0 0 0 0 0 "
     ]
    }
   ],
   "source": [
    "n = int(input())\n",
    "tickets = list(map(int, input().split()))\n",
    "date_of_month = int(input())\n",
    "\n",
    "# Check eligibility for each ticket\n",
    "for ticket in tickets:\n",
    "    if ticket % date_of_month == 0:\n",
    "        print(1, end=\" \")  # Ticket is eligible for discount\n",
    "    else:\n",
    "        print(0, end=\" \")  # Ticket is not eligible for discount"
   ]
  },
  {
   "cell_type": "markdown",
   "metadata": {},
   "source": [
    "### 13. In a firm there is an intelligent employee. He said that he will not work on all those days which has factors more than 2. You are given with month and year calculate the no of working days of employee.\n",
    "\n",
    "#### Input Description:\n",
    "Month(M) and year(Y)\n",
    "\n",
    "#### Output Description:\n",
    "N denoting no of working days\n",
    "\n",
    "#### Sample Input :\n",
    "May 2016\n",
    "\n",
    "#### Sample Output :\n",
    "11"
   ]
  },
  {
   "cell_type": "code",
   "execution_count": 12,
   "metadata": {},
   "outputs": [
    {
     "name": "stdout",
     "output_type": "stream",
     "text": [
      "11\n"
     ]
    }
   ],
   "source": [
    "x,y=input().split()\n",
    "\n",
    "my_dict = {\"May\":31,\"June\":30}\n",
    "\n",
    "q = my_dict[x]\n",
    "\n",
    "i=2\n",
    "\n",
    "c=[]\n",
    "\n",
    "while i<=q:\n",
    "    for j in range (1, q+1):\n",
    "      if ((i%j)==0):\n",
    "           c.append(i)\n",
    "    i=i+1\n",
    "d = []\n",
    "\n",
    "for x in range(2,q+1):\n",
    "    if c.count(x)<=2:\n",
    "        d.append(x)\n",
    "print(len(d))"
   ]
  },
  {
   "cell_type": "code",
   "execution_count": 11,
   "metadata": {},
   "outputs": [
    {
     "name": "stdout",
     "output_type": "stream",
     "text": [
      "Number of Days in Month is :  31\n"
     ]
    }
   ],
   "source": [
    "# Write a Python Program to Display The Number of Days in a Given Month in Given Year\n",
    "\n",
    "year = int(input(\"Enter the year: \"))\n",
    "month = int(input(\"Enter the month: \"))\n",
    "months_list = [[2], [4, 6, 9, 11]]\n",
    "if 1 <= month <= 12:\n",
    "    if month in months_list[0]:\n",
    "        if (year % 4 == 0 and year % 100 != 0) or year % 400 == 0:\n",
    "            print(\"Number of Days in Month is : \", 29)\n",
    "        else:\n",
    "            print(\"Number of Days in Month is : \", 28)\n",
    "    elif month in months_list[1]:\n",
    "        print(\"Number of Days in Month is : \", 30)\n",
    "    else:\n",
    "        print(\"Number of Days in Month is : \", 31)\n",
    "else:\n",
    "    print(\"Invalid Month Entered !!\")"
   ]
  },
  {
   "cell_type": "markdown",
   "metadata": {},
   "source": [
    "### 14. You are given with a number ‘n’. You have to count the pair of two numbers a and b such that sum of two numbers are equal to n.\n",
    "\n",
    "Note: Both numbers lie in range 1 <= a, b < n\n",
    "\n",
    "#### Input Description:\n",
    "You are given a number ‘n’\n",
    "\n",
    "#### Output Description:\n",
    "Print the number of pairs satisfying above condition\n",
    "\n",
    "#### Sample Input :\n",
    "5\n",
    "\n",
    "#### Sample Output :\n",
    "4"
   ]
  },
  {
   "cell_type": "markdown",
   "metadata": {},
   "source": [
    "### Logic:\n",
    "\n",
    "Without considering the uniqueness (i.e., counting both (a,b) and (b,a))\n",
    "\n",
    "To count the pairs (a,b) where a + b = n,\n",
    "\n",
    "For the input n = 5, the output will be 4, which is the total count of the pairs (1,4), (2,3), (3,2), and (4,1)."
   ]
  },
  {
   "cell_type": "code",
   "execution_count": 3,
   "metadata": {},
   "outputs": [
    {
     "name": "stdout",
     "output_type": "stream",
     "text": [
      "4\n"
     ]
    }
   ],
   "source": [
    "def count_pairs(n):\n",
    "    return n - 1  # The number of pairs (a, b) is exactly n-1\n",
    "\n",
    "# Sample Input\n",
    "n = 5\n",
    "\n",
    "# Output\n",
    "print(count_pairs(n))"
   ]
  },
  {
   "cell_type": "markdown",
   "metadata": {},
   "source": [
    "### With unique count pairs:\n",
    "\n",
    "There are 2 unique pairs, where a + b = n.\n",
    "\n",
    "We avoid counting (3,2) and (4,1) twice, so we consider only (1,4) and (2,3)."
   ]
  },
  {
   "cell_type": "code",
   "execution_count": 2,
   "metadata": {},
   "outputs": [
    {
     "name": "stdout",
     "output_type": "stream",
     "text": [
      "2\n"
     ]
    }
   ],
   "source": [
    "def count_pairs(n):\n",
    "    count = 0\n",
    "    for a in range(1, n):\n",
    "        b = n - a\n",
    "        if a <= b < n:\n",
    "            count += 1\n",
    "    return count\n",
    "\n",
    "n = int(input())\n",
    "print(count_pairs(n))"
   ]
  },
  {
   "cell_type": "markdown",
   "metadata": {},
   "source": [
    "### 17. Given a number N, print the product of the digits.\n",
    "\n",
    "Input Size : N <= 100000000000\n",
    "\n",
    "Sample Testcase :\n",
    "\n",
    "**INPUT**\n",
    "\n",
    "2143\n",
    "\n",
    "**OUTPUT**\n",
    "\n",
    "24"
   ]
  },
  {
   "cell_type": "code",
   "execution_count": 1,
   "metadata": {},
   "outputs": [
    {
     "name": "stdout",
     "output_type": "stream",
     "text": [
      "24\n"
     ]
    }
   ],
   "source": [
    "def product_of_digits(N):\n",
    "    N_str = str(N)\n",
    "    product = 1\n",
    "    \n",
    "    for char in N_str:\n",
    "        digit = int(char)\n",
    "        product *= digit\n",
    "    return product\n",
    "\n",
    "N = int(input())\n",
    "print(product_of_digits(N))"
   ]
  },
  {
   "cell_type": "markdown",
   "metadata": {},
   "source": [
    "### 18. You are given a large number made of only 0’s and 1’s.Your task is to find the max no of consecutive 1’s. If there are no 1’s print -1\n",
    "\n",
    "### Input Description:\n",
    "A large number ‘n’\n",
    "\n",
    "### Output Description:\n",
    "Print the max no of consecutive 1 in the number\n",
    "\n",
    "### Sample Input :\n",
    "101011111\n",
    "\n",
    "### Sample Output :\n",
    "5"
   ]
  },
  {
   "cell_type": "code",
   "execution_count": 2,
   "metadata": {},
   "outputs": [
    {
     "name": "stdout",
     "output_type": "stream",
     "text": [
      "5\n"
     ]
    }
   ],
   "source": [
    "def max_consecutive_ones(n):\n",
    "    # Initialize variables\n",
    "    max_count = 0\n",
    "    current_count = 0\n",
    "    \n",
    "    # Iterate through each character in the string\n",
    "    for char in n:\n",
    "        if char == '1':\n",
    "            # Increase the current count of consecutive 1's\n",
    "            current_count += 1\n",
    "        else:\n",
    "            # Compare current count with max count and reset current count\n",
    "            if current_count > max_count:\n",
    "                max_count = current_count\n",
    "            current_count = 0\n",
    "    \n",
    "    # Final comparison to check if the longest sequence ends at the end of the string\n",
    "    if current_count > max_count:\n",
    "        max_count = current_count\n",
    "    \n",
    "    # Handle case with no 1's\n",
    "    if max_count == 0:\n",
    "        return -1\n",
    "    \n",
    "    return max_count\n",
    "\n",
    "# Read input as a string\n",
    "n = input().strip()\n",
    "print(max_consecutive_ones(n))"
   ]
  },
  {
   "cell_type": "markdown",
   "metadata": {},
   "source": [
    "### 21. Given a number N, find its next immediate greater power of 2(i.e 2^1, 2^2, 2^3...).\n",
    "\n",
    "Input Size : N <= 1000\n",
    "\n",
    "Sample Testcase :\n",
    "\n",
    "INPUT\n",
    "\n",
    "4\n",
    "\n",
    "OUTPUT\n",
    "\n",
    "8"
   ]
  },
  {
   "cell_type": "code",
   "execution_count": 3,
   "metadata": {},
   "outputs": [
    {
     "name": "stdout",
     "output_type": "stream",
     "text": [
      "8\n"
     ]
    }
   ],
   "source": [
    "def next_power_of_two(N):\n",
    "    power = 1\n",
    "    while power <= N:\n",
    "        power *= 2\n",
    "    return power\n",
    "\n",
    "N = int(input())\n",
    "print(next_power_of_two(N))"
   ]
  },
  {
   "cell_type": "markdown",
   "metadata": {},
   "source": [
    "### 26. Sreelatha was confused with series. She is given with a number ‘n’. There is a pattern hidden the series. She has to understand and print  the series till nth number by looking into example.Sreelatha is confused and She hired you , you have to develop the series for sreelatha by observing the pattern from the below example.\n",
    "\n",
    "#### Input Description:\n",
    "\n",
    "She is given with a number ‘n’.\n",
    "\n",
    "#### Output Description:\n",
    "\n",
    "print  the series till nth number\n",
    "\n",
    "#### Sample Input :\n",
    "\n",
    "3\n",
    "\n",
    "#### Sample Output :\n",
    "\n",
    "1 9 36"
   ]
  },
  {
   "cell_type": "code",
   "execution_count": 4,
   "metadata": {},
   "outputs": [
    {
     "name": "stdout",
     "output_type": "stream",
     "text": [
      "1 9 36\n"
     ]
    }
   ],
   "source": [
    "def generate_series(n):\n",
    "    series = []\n",
    "    for k in range(1, n + 1):\n",
    "        # Calculate the k-th triangular number\n",
    "        triangular_number = k * (k + 1) // 2\n",
    "        # Square the triangular number\n",
    "        term = triangular_number ** 2\n",
    "        series.append(term)\n",
    "    \n",
    "    # Print the series as space-separated values\n",
    "    print(' '.join(map(str, series)))\n",
    "\n",
    "n = int(input())\n",
    "generate_series(n)"
   ]
  },
  {
   "cell_type": "markdown",
   "metadata": {},
   "source": [
    "### 28. Ajay is given a series(In example).he gone through the series but unable to understand it properly,he has hired you.Your task is to understand the series and print the series 2, 6,12, 20, 30... .You are given with a number ‘n’. Find the nth number of series.\n",
    "\n",
    "#### Input Description:\n",
    "\n",
    "You are given a number ‘n’.\n",
    "\n",
    "#### Output Description:\n",
    "\n",
    "Print the nth number of series\n",
    "\n",
    "#### Sample Input :\n",
    "\n",
    "5\n",
    "\n",
    "#### Sample Output :\n",
    "\n",
    "30"
   ]
  },
  {
   "cell_type": "code",
   "execution_count": 5,
   "metadata": {},
   "outputs": [
    {
     "name": "stdout",
     "output_type": "stream",
     "text": [
      "30\n"
     ]
    }
   ],
   "source": [
    "def nth_number_of_series(n):\n",
    "    return n * (n + 1)\n",
    "\n",
    "n = int(input())\n",
    "print(nth_number_of_series(n))"
   ]
  },
  {
   "cell_type": "markdown",
   "metadata": {},
   "source": [
    "### 30. Given a number N, print 'yes' if it is a multiple of 13 else print 'no'.\n",
    "\n",
    "Sample Testcase :\n",
    "\n",
    "#### INPUT\n",
    "\n",
    "26\n",
    "\n",
    "#### OUTPUT\n",
    "\n",
    "yes"
   ]
  },
  {
   "cell_type": "code",
   "execution_count": 7,
   "metadata": {},
   "outputs": [
    {
     "name": "stdout",
     "output_type": "stream",
     "text": [
      "yes\n"
     ]
    }
   ],
   "source": [
    "N = int(input())\n",
    "\n",
    "# Check if N is a multiple of 13\n",
    "if N % 13 == 0:\n",
    "    print(\"yes\")\n",
    "else:\n",
    "    print(\"no\")"
   ]
  },
  {
   "cell_type": "markdown",
   "metadata": {},
   "source": [
    "### 31. Given a number N, find the nearest greater multiple of 10.\n",
    "\n",
    "Input Size : N <= 10000\n",
    "Sample Testcase :\n",
    "\n",
    "#### INPUT\n",
    "\n",
    "3\n",
    "\n",
    "#### OUTPUT\n",
    "\n",
    "10"
   ]
  },
  {
   "cell_type": "code",
   "execution_count": 8,
   "metadata": {},
   "outputs": [
    {
     "name": "stdout",
     "output_type": "stream",
     "text": [
      "10\n"
     ]
    }
   ],
   "source": [
    "import math\n",
    "\n",
    "def nearest_greater_multiple_of_10(N):\n",
    "    return math.ceil(N / 10) * 10\n",
    "\n",
    "N = int(input())\n",
    "print(nearest_greater_multiple_of_10(N))"
   ]
  },
  {
   "cell_type": "markdown",
   "metadata": {},
   "source": [
    "### 32. Given 2 numbers N,M. Find their difference and check whether it is even or odd.\n",
    "\n",
    "Sample Testcase :\n",
    "\n",
    "#### INPUT\n",
    "\n",
    "5 5\n",
    "\n",
    "#### OUTPUT\n",
    "\n",
    "even"
   ]
  },
  {
   "cell_type": "code",
   "execution_count": 9,
   "metadata": {},
   "outputs": [
    {
     "name": "stdout",
     "output_type": "stream",
     "text": [
      "even\n"
     ]
    }
   ],
   "source": [
    "def check_difference_even_or_odd(N, M):\n",
    "    # Calculate the difference\n",
    "    difference = N - M\n",
    "    \n",
    "    # Check if the difference is even or odd\n",
    "    if difference % 2 == 0:\n",
    "        return \"even\"\n",
    "    else:\n",
    "        return \"odd\"\n",
    "\n",
    "N, M = map(int, input().split())\n",
    "print(check_difference_even_or_odd(N, M))"
   ]
  },
  {
   "cell_type": "markdown",
   "metadata": {},
   "source": [
    "### 34. Given a number N, print its factors.\n",
    "\n",
    "Input Size : n<=1000\n",
    "Sample Testcase :\n",
    "\n",
    "#### INPUT\n",
    "\n",
    "6\n",
    "\n",
    "#### OUTPUT\n",
    "\n",
    "1 2 3 6"
   ]
  },
  {
   "cell_type": "code",
   "execution_count": 10,
   "metadata": {},
   "outputs": [
    {
     "name": "stdout",
     "output_type": "stream",
     "text": [
      "1 2 3 6\n"
     ]
    }
   ],
   "source": [
    "def print_factors(N):\n",
    "    factors = []\n",
    "    for i in range(1, N + 1):\n",
    "        if N % i == 0:\n",
    "            factors.append(i)\n",
    "    \n",
    "    print(*factors)\n",
    "\n",
    "N = int(input())\n",
    "print_factors(N)"
   ]
  },
  {
   "cell_type": "markdown",
   "metadata": {},
   "source": [
    "### 35. Simi is learning about palindromic numbers. Her teacher gave him the task to count all palindromic numbers present in that range.Simi has told you about this and want your help. You design an algorithm in order to help simi.\n",
    "\n",
    "#### Input Description:\n",
    "You will be given a number ‘n’\n",
    "\n",
    "#### Output Description:\n",
    "Print the count of all palindromic numbers till ‘n’(inclusive)\n",
    "\n",
    "#### Sample Input :\n",
    "\n",
    "5\n",
    "\n",
    "#### Sample Output :\n",
    "\n",
    "5"
   ]
  },
  {
   "cell_type": "code",
   "execution_count": 11,
   "metadata": {},
   "outputs": [
    {
     "name": "stdout",
     "output_type": "stream",
     "text": [
      "5\n"
     ]
    }
   ],
   "source": [
    "def is_palindromic(num):\n",
    "    # Convert number to string and check if it reads the same forwards and backwards\n",
    "    num_str = str(num)\n",
    "    return num_str == num_str[::-1]\n",
    "\n",
    "def count_palindromic_numbers(n):\n",
    "    count = 0\n",
    "    for i in range(1, n + 1):\n",
    "        if is_palindromic(i):\n",
    "            count += 1\n",
    "    return count\n",
    "\n",
    "\n",
    "n = int(input())\n",
    "print(count_palindromic_numbers(n))"
   ]
  },
  {
   "cell_type": "code",
   "execution_count": null,
   "metadata": {},
   "outputs": [],
   "source": []
  },
  {
   "cell_type": "code",
   "execution_count": null,
   "metadata": {},
   "outputs": [],
   "source": []
  },
  {
   "cell_type": "code",
   "execution_count": null,
   "metadata": {},
   "outputs": [],
   "source": []
  },
  {
   "cell_type": "code",
   "execution_count": null,
   "metadata": {},
   "outputs": [],
   "source": []
  },
  {
   "cell_type": "code",
   "execution_count": null,
   "metadata": {},
   "outputs": [],
   "source": []
  },
  {
   "cell_type": "code",
   "execution_count": null,
   "metadata": {},
   "outputs": [],
   "source": []
  },
  {
   "cell_type": "code",
   "execution_count": null,
   "metadata": {},
   "outputs": [],
   "source": []
  }
 ],
 "metadata": {
  "kernelspec": {
   "display_name": "Python 3",
   "language": "python",
   "name": "python3"
  },
  "language_info": {
   "codemirror_mode": {
    "name": "ipython",
    "version": 3
   },
   "file_extension": ".py",
   "mimetype": "text/x-python",
   "name": "python",
   "nbconvert_exporter": "python",
   "pygments_lexer": "ipython3",
   "version": "3.12.6"
  }
 },
 "nbformat": 4,
 "nbformat_minor": 2
}
