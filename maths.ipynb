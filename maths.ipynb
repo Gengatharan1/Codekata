{
 "cells": [
  {
   "cell_type": "markdown",
   "metadata": {},
   "source": [
    "### **1. A person saves his monthly saving according to given schema. He saves same amount of money which is equal to the money saved in immediate previous two months. Assume, initially he saved 1000 rupees and in first month he saved another 1000. Your task is to tell how much he had totally saved at the end of ‘n’ months.**\n",
    "\n",
    "**Input Description:**\n",
    "\n",
    "You will be given a number ‘n’->No. of months\n",
    "\n",
    "**Output Description:**\n",
    "\n",
    "Print the total savings at the end of ‘n’ months\n",
    "\n",
    "**Sample Input:**\n",
    "\n",
    "1\n",
    "\n",
    "**Sample Output:**\n",
    "\n",
    "2000"
   ]
  },
  {
   "cell_type": "code",
   "execution_count": 1,
   "metadata": {},
   "outputs": [
    {
     "name": "stdout",
     "output_type": "stream",
     "text": [
      "2000\n"
     ]
    }
   ],
   "source": [
    "a = int(input())\n",
    "if a<=2:\n",
    "    print(2000*a)\n",
    "else:\n",
    "    print((2000*a)+1000)"
   ]
  },
  {
   "cell_type": "markdown",
   "metadata": {},
   "source": [
    "### **2. Assume your brother studies in class 2. He has to  complete his homework on co-primes. As an elder sibling help him in finding whether the given two numbers is co-prime or not.**\n",
    "\n",
    "**Input Description:**\n",
    "\n",
    "You will be given two numbers ‘n’ and ‘m’\n",
    "\n",
    "**Output Description:**\n",
    "\n",
    "Your task is to tell whether numbers is co prime or not. If it is a co-prime print 1 else 0\n",
    "\n",
    "**Sample Input:**\n",
    "\n",
    "3 5\n",
    "\n",
    "**Sample Output:**\n",
    "\n",
    "1"
   ]
  },
  {
   "cell_type": "code",
   "execution_count": 1,
   "metadata": {},
   "outputs": [
    {
     "name": "stdout",
     "output_type": "stream",
     "text": [
      "1\n"
     ]
    }
   ],
   "source": [
    "a, b = list(map(int, input().split()))\n",
    "arr = []\n",
    "r = 0         \n",
    "for i in range(1, a+1):\n",
    "    if a % i == 0:\n",
    "        arr.append(i)\n",
    "for i in range(1, b+1):\n",
    "    if b % i == 0:\n",
    "        if i in arr:\n",
    "            r += 1\n",
    "if r >= 1:\n",
    "    print(1)\n",
    "else:\n",
    "    print(0)"
   ]
  },
  {
   "cell_type": "markdown",
   "metadata": {},
   "source": [
    "### **3. You are provided with a number ’n’. Your task is to tell whether that number is saturated. A saturated number is a number which is made by exactly two digits.**\n",
    "\n",
    "**Input Description:**\n",
    "\n",
    "You are given with a number n.\n",
    "\n",
    "**Output Description:**\n",
    "\n",
    "Print Saturated if it is saturated else it is Unsaturated\n",
    "\n",
    "**Sample Input:**\n",
    "\n",
    "121\n",
    "\n",
    "**Sample Output:**\n",
    "\n",
    "Saturated"
   ]
  },
  {
   "cell_type": "code",
   "execution_count": null,
   "metadata": {},
   "outputs": [
    {
     "name": "stdout",
     "output_type": "stream",
     "text": [
      "Saturated\n"
     ]
    }
   ],
   "source": [
    "a = input()\n",
    "l = []\n",
    "\n",
    "for i in a:\n",
    "    l.append(int(i))\n",
    "    \n",
    "c = set(l)\n",
    "if len(c) == 2:\n",
    "    print(\"Saturated\")\n",
    "else:\n",
    "    print(\"Unsaturated\")"
   ]
  },
  {
   "cell_type": "code",
   "execution_count": 24,
   "metadata": {},
   "outputs": [
    {
     "name": "stdout",
     "output_type": "stream",
     "text": [
      "Unsaturated\n"
     ]
    }
   ],
   "source": [
    "input_value = input()\n",
    "setting = list(set(input_value))\n",
    "\n",
    "if(len(setting) == 2):\n",
    "    print(\"Saturated\")\n",
    "else:\n",
    "    print(\"Unsaturated\")"
   ]
  },
  {
   "cell_type": "markdown",
   "metadata": {},
   "source": [
    "### **4. You are given a number ‘n’. You have to tell whether a number is great or not. A great number is a number whose sum of digits let (m) and product of digits let(j) when summed together gives the number back.**\n",
    "\n",
    "m+j=n \n",
    "\n",
    "**Input Description:**\n",
    "\n",
    "You are given a number n;\n",
    "\n",
    "**Output Description:**\n",
    "\n",
    "Print Great if a number is great else print the no\n",
    "\n",
    "**Sample Input:**\n",
    "\n",
    "59\n",
    "\n",
    "**Sample Output:**\n",
    "\n",
    "Great"
   ]
  },
  {
   "cell_type": "code",
   "execution_count": null,
   "metadata": {},
   "outputs": [
    {
     "name": "stdout",
     "output_type": "stream",
     "text": [
      "sum: 9\n",
      "Product 9\n",
      "sum: 14\n",
      "Product 45\n",
      "59\n",
      "Great\n"
     ]
    }
   ],
   "source": [
    "n = int(input())\n",
    "t = n\n",
    "sum = 0 \n",
    "product = 1\n",
    "\n",
    "while n > 0:\n",
    "  digit = n % 10\n",
    "  sum = sum + digit\n",
    "  print(\"sum:\",  sum)\n",
    "  product = digit*product\n",
    "  print(\"Product\", product)\n",
    "  n=n//10\n",
    "res = sum + product\n",
    "print(res)                        \n",
    "\n",
    "if res==t:\n",
    "  print(\"Great\")\n",
    "else:\n",
    "  print(\"No\")"
   ]
  },
  {
   "cell_type": "markdown",
   "metadata": {},
   "source": [
    "### **5.boy rolls an unbiased die until he gets ‘1’. You are given a number n find the total sum of probability that he will get ‘1’ on or before nth trial.(Probability of getting 1 at 1 time + probability of getting 1 at 2 trial….+probability of getting 1 at nth trial)**\n",
    "\n",
    "**Constraints:**\n",
    "\n",
    "1<=n<=1000\n",
    "\n",
    "**Input Description:**\n",
    "\n",
    "You are given a number ‘n’.\n",
    "\n",
    "**Output Description:**\n",
    "\n",
    "Print two numbers denoting numerator and denominator\n",
    "\n",
    "**Sample Input:**\n",
    "\n",
    "1\n",
    "\n",
    "**Sample Output:**\n",
    "\n",
    "1 6"
   ]
  },
  {
   "cell_type": "code",
   "execution_count": null,
   "metadata": {},
   "outputs": [
    {
     "name": "stdout",
     "output_type": "stream",
     "text": [
      "1 6\n"
     ]
    }
   ],
   "source": [
    "import math\n",
    "\n",
    "def find_probability_sum(n):\n",
    "    numerator = 6**n - 5**n\n",
    "    denominator = 6**n\n",
    "    \n",
    "    # Simplify the fraction\n",
    "    gcd = math.gcd(numerator, denominator)\n",
    "    numerator //= gcd\n",
    "    denominator //= gcd\n",
    "    return numerator, denominator\n",
    "\n",
    "n = int(input())\n",
    "numerator, denominator = find_probability_sum(n)\n",
    "print(numerator, denominator)"
   ]
  },
  {
   "cell_type": "code",
   "execution_count": null,
   "metadata": {},
   "outputs": [
    {
     "name": "stdout",
     "output_type": "stream",
     "text": [
      "Probability: 0.16666666666666663/6\n"
     ]
    }
   ],
   "source": [
    "def probability_of_one(n):\n",
    "\n",
    "  if n < 1 or n > 1000:\n",
    "    raise ValueError(\"n must be between 1 and 1000\")\n",
    "\n",
    "  p = 1/6  # Probability of getting a 1\n",
    "  q = 1 - p  # Probability of not getting a 1\n",
    "\n",
    "  # Calculate the probability using the geometric series formula\n",
    "  probability = 1 - (q**n)\n",
    "\n",
    "  return (probability, 6**n)  # Numerator and denominator\n",
    "\n",
    "n = int(input(\"Enter the number of trials (1-1000): \"))\n",
    "numerator, denominator = probability_of_one(n)\n",
    "print(f\"Probability: {numerator}/{denominator}\")"
   ]
  },
  {
   "cell_type": "markdown",
   "metadata": {},
   "source": [
    "### **6. You are given a task to tell whether the number is pure or not. A pure number is a number whose sum of digits is multiple of 3.**\n",
    "\n",
    "O(1) time and O(1) space\n",
    "\n",
    "**Input Description:**\n",
    "\n",
    "You are given a number n.\n",
    "\n",
    "**Output Description:**\n",
    "\n",
    "Print yes if it is pure else not\n",
    "\n",
    "**Sample Input:**\n",
    "\n",
    "13\n",
    "\n",
    "**Sample Output:**\n",
    "\n",
    "not"
   ]
  },
  {
   "cell_type": "code",
   "execution_count": null,
   "metadata": {},
   "outputs": [
    {
     "name": "stdout",
     "output_type": "stream",
     "text": [
      "not\n"
     ]
    }
   ],
   "source": [
    "def is_pure_number(n):\n",
    "    digit_sum = 0   # Initialize sum of digits\n",
    "    original_n = n  # Store the original number for reference\n",
    "    \n",
    "    # Sum the digits\n",
    "    while n > 0:\n",
    "        digit_sum += n % 10\n",
    "        n //= 10\n",
    "    \n",
    "    # Check if the sum of digits is a multiple of 3\n",
    "    if digit_sum % 3 == 0:\n",
    "        return \"yes\"\n",
    "    else:\n",
    "        return \"not\"\n",
    "\n",
    "n = int(input())\n",
    "print(is_pure_number(n))"
   ]
  },
  {
   "cell_type": "markdown",
   "metadata": {},
   "source": [
    "### **8. You are given a set of numbers, out of which you have to tell which of them are finest. A finest number ‘n’ is a number which is formed by a number ‘t’ such that n=t^3+(t+1)^3, t is a natural number.**\n",
    "\n",
    "**Input Description:**\n",
    "\n",
    "You are given a number ‘z’ representing total numbers in an array, Next line contains z space separated numbers.\n",
    "\n",
    "**Output Description:**\n",
    "\n",
    "Print the numbers which are finest in ascending order if there are no such numbers print -1.\n",
    "\n",
    "**Sample Input:**\n",
    "\n",
    "2\n",
    "\n",
    "1729 189\n",
    "\n",
    "**Sample Output:**\n",
    "\n",
    "189 1729"
   ]
  },
  {
   "cell_type": "code",
   "execution_count": null,
   "metadata": {},
   "outputs": [
    {
     "name": "stdout",
     "output_type": "stream",
     "text": [
      "189 1729\n"
     ]
    }
   ],
   "source": [
    "def is_finest(n):\n",
    "    t = 1\n",
    "    while t * t * t + (t + 1) * (t + 1) * (t + 1) <= n:\n",
    "        if t * t * t + (t + 1) * (t + 1) * (t + 1) == n:\n",
    "            return True\n",
    "        t += 1\n",
    "    return False\n",
    "\n",
    "z = int(input())\n",
    "numbers = list(map(int, input().split()))\n",
    "                                                \n",
    "finest_numbers = [num for num in numbers if is_finest(num)]\n",
    "if finest_numbers:\n",
    "    finest_numbers.sort()\n",
    "    print(*finest_numbers)\n",
    "else:\n",
    "    print(-1)"
   ]
  },
  {
   "cell_type": "markdown",
   "metadata": {},
   "source": [
    "### **9. Given 3 numbers a,b,c print a*b mod c.**\n",
    "\n",
    "**Sample Testcase:**\n",
    "\n",
    "**INPUT**\n",
    "\n",
    "5 3 2\n",
    "\n",
    "**OUTPUT**\n",
    "\n",
    "1"
   ]
  },
  {
   "cell_type": "code",
   "execution_count": 46,
   "metadata": {},
   "outputs": [
    {
     "name": "stdout",
     "output_type": "stream",
     "text": [
      "1\n"
     ]
    }
   ],
   "source": [
    "def multiply_mod(a, b, c):\n",
    "    return (a * b) % c\n",
    "\n",
    "a, b, c = map(int, input().split())\n",
    "result = multiply_mod(a, b, c)\n",
    "print(result)"
   ]
  },
  {
   "cell_type": "markdown",
   "metadata": {},
   "source": [
    "### **10. Given a number N, print yes if the number is a multiple of 7 else print no.**\n",
    "\n",
    "**Sample Testcase:**\n",
    "\n",
    "**INPUT**\n",
    "\n",
    "49\n",
    "\n",
    "**OUTPUT**\n",
    "\n",
    "yes"
   ]
  },
  {
   "cell_type": "code",
   "execution_count": null,
   "metadata": {},
   "outputs": [
    {
     "name": "stdout",
     "output_type": "stream",
     "text": [
      "yes\n"
     ]
    }
   ],
   "source": [
    "def is_multiple_of_7(n):\n",
    "    if n % 7 == 0:\n",
    "        return \"yes\"\n",
    "    else:\n",
    "        return \"no\"\n",
    "\n",
    "n = int(input())\n",
    "result = is_multiple_of_7(n)\n",
    "print(result)"
   ]
  },
  {
   "cell_type": "markdown",
   "metadata": {},
   "source": [
    "### **11. You are given an array of non-negative integers representing height of walls at index i as Ai and the width of each block is 1. Compute how much air can be encapsulated between the walls of chamber.**\n",
    "\n",
    "**Input Description:**\n",
    "\n",
    "Each line contains an integer ‘N’ denoting the size of the array Next line contains N space separated numbers to be stored in array.\n",
    "\n",
    "**Output Description:**\n",
    "\n",
    "Output the total unit of Air encapsulated between the walls of chamber.\n",
    "\n",
    "**Sample Input:**\n",
    "\n",
    "3\n",
    "\n",
    "7 4 9\n",
    "\n",
    "**Sample Output:**\n",
    "\n",
    "3"
   ]
  },
  {
   "cell_type": "code",
   "execution_count": 59,
   "metadata": {},
   "outputs": [
    {
     "name": "stdout",
     "output_type": "stream",
     "text": [
      "3\n"
     ]
    }
   ],
   "source": [
    "def trapped_air(heights):\n",
    "    n = len(heights)\n",
    "    max_left = [0] * n\n",
    "    max_right = [0] * n\n",
    "\n",
    "    # Find maximum height walls to the left of each position\n",
    "    max_height_left = 0\n",
    "    for i in range(n):\n",
    "        max_left[i] = max_height_left\n",
    "        max_height_left = max(max_height_left, heights[i])\n",
    "\n",
    "    # Find maximum height walls to the right of each position\n",
    "    max_height_right = 0\n",
    "    for i in range(n - 1, -1, -1):\n",
    "        max_right[i] = max_height_right\n",
    "        max_height_right = max(max_height_right, heights[i])\n",
    "\n",
    "    # Calculate trapped air\n",
    "    trapped = 0\n",
    "    for i in range(n):\n",
    "        min_boundary_height = min(max_left[i], max_right[i])\n",
    "        trapped += max(0, min_boundary_height - heights[i])\n",
    "    return trapped\n",
    "\n",
    "n = int(input())\n",
    "heights = list(map(int, input().split()))\n",
    "trapped_units = trapped_air(heights)\n",
    "print(trapped_units)"
   ]
  },
  {
   "cell_type": "markdown",
   "metadata": {},
   "source": [
    "### **12. Assume that you are ticket verifier at a club. Your club has decided to give a special discount to the person(s) who are satisfying the following condition.**\n",
    "\n",
    "**Condition:**\n",
    "\n",
    "If ticket number is divisible by date of month. You are eligible for a discount.\n",
    "\n",
    "**Input Description:**\n",
    "\n",
    "First line contains input ‘n’.Next line contains n space separated numbers denoting ticket numbers .Next line contains ‘k’ date of the month.\n",
    "\n",
    "**Output Description:**\n",
    "\n",
    "Print 1 if the ticket is eligible for discount else 0\n",
    "\n",
    "**Sample Input:**\n",
    "\n",
    "6\n",
    "\n",
    "112 139 165 175 262 130\n",
    "\n",
    "22\n",
    "\n",
    "**Sample Output:**\n",
    "\n",
    "0 0 0 0 0 0"
   ]
  },
  {
   "cell_type": "code",
   "execution_count": 9,
   "metadata": {},
   "outputs": [
    {
     "name": "stdout",
     "output_type": "stream",
     "text": [
      "0 0 0 0 0 0\n"
     ]
    }
   ],
   "source": [
    "n = int(input())\n",
    "ticket_numbers = list(map(int, input().split()))\n",
    "date_of_month = int(input())\n",
    "\n",
    "results = []\n",
    "\n",
    "for ticket in ticket_numbers:\n",
    "    if ticket % date_of_month == 0:\n",
    "        results.append(1)\n",
    "    else:\n",
    "        results.append(0)\n",
    "print(\" \".join(map(str, results)))"
   ]
  },
  {
   "cell_type": "code",
   "execution_count": 76,
   "metadata": {},
   "outputs": [
    {
     "name": "stdout",
     "output_type": "stream",
     "text": [
      "0 0 0 0 0 0 "
     ]
    }
   ],
   "source": [
    "n = int(input())\n",
    "tickets = list(map(int, input().split()))\n",
    "date_of_month = int(input())\n",
    "\n",
    "# Check eligibility for each ticket\n",
    "for ticket in tickets:\n",
    "    if ticket % date_of_month == 0:\n",
    "        print(1, end=\" \")  # Ticket is eligible for discount\n",
    "    else:\n",
    "        print(0, end=\" \")  # Ticket is not eligible for discount"
   ]
  },
  {
   "cell_type": "markdown",
   "metadata": {},
   "source": [
    "### **13. In a firm there is an intelligent employee. He said that he will not work on all those days which has factors more than 2. You are given with month and year calculate the no of working days of employee.**\n",
    "\n",
    "**Input Description:**\n",
    "\n",
    "Month(M) and year(Y)\n",
    "\n",
    "**Output Description:**\n",
    "\n",
    "N denoting no of working days\n",
    "\n",
    "**Sample Input:**\n",
    "\n",
    "May 2016\n",
    "\n",
    "**Sample Output:**\n",
    "\n",
    "11"
   ]
  },
  {
   "cell_type": "code",
   "execution_count": null,
   "metadata": {},
   "outputs": [
    {
     "name": "stdout",
     "output_type": "stream",
     "text": [
      "11\n"
     ]
    }
   ],
   "source": [
    "x, y = input().split()\n",
    "my_dict = {\"May\":31,\"June\":30}\n",
    "q = my_dict[x]\n",
    "i = 2\n",
    "\n",
    "c = []\n",
    "while i<=q:\n",
    "    for j in range (1, q+1):\n",
    "      if ((i%j)==0):\n",
    "           c.append(i)\n",
    "    i=i+1\n",
    "\n",
    "d = []\n",
    "for x in range(2,q+1):\n",
    "    if c.count(x)<=2:\n",
    "        d.append(x)\n",
    "print(len(d))"
   ]
  },
  {
   "cell_type": "code",
   "execution_count": 11,
   "metadata": {},
   "outputs": [
    {
     "name": "stdout",
     "output_type": "stream",
     "text": [
      "Number of Days in Month is :  31\n"
     ]
    }
   ],
   "source": [
    "# Write a Python Program to Display The Number of Days in a Given Month in Given Year\n",
    "\n",
    "year = int(input(\"Enter the year: \"))\n",
    "month = int(input(\"Enter the month: \"))\n",
    "months_list = [[2], [4, 6, 9, 11]]\n",
    "if 1 <= month <= 12:\n",
    "    if month in months_list[0]:\n",
    "        if (year % 4 == 0 and year % 100 != 0) or year % 400 == 0:\n",
    "            print(\"Number of Days in Month is : \", 29)\n",
    "        else:\n",
    "            print(\"Number of Days in Month is : \", 28)\n",
    "    elif month in months_list[1]:\n",
    "        print(\"Number of Days in Month is : \", 30)\n",
    "    else:\n",
    "        print(\"Number of Days in Month is : \", 31)\n",
    "else:\n",
    "    print(\"Invalid Month Entered !!\")"
   ]
  },
  {
   "cell_type": "markdown",
   "metadata": {},
   "source": [
    "### **14. You are given with a number ‘n’. You have to count the pair of two numbers a and b such that sum of two numbers are equal to n.**\n",
    "\n",
    "Note: Both numbers lie in range 1 <= a, b < n\n",
    "\n",
    "**Input Description:**\n",
    "\n",
    "You are given a number ‘n’\n",
    "\n",
    "**Output Description:**\n",
    "\n",
    "Print the number of pairs satisfying above condition\n",
    "\n",
    "**Sample Input:**\n",
    "\n",
    "5\n",
    "\n",
    "**Sample Output:**\n",
    "\n",
    "4"
   ]
  },
  {
   "cell_type": "markdown",
   "metadata": {},
   "source": [
    "### **Logic:**\n",
    "\n",
    "Without considering the uniqueness (i.e., counting both (a,b) and (b,a))\n",
    "\n",
    "To count the pairs (a,b) where a + b = n,\n",
    "\n",
    "For the input n = 5, the output will be 4, which is the total count of the pairs (1,4), (2,3), (3,2), and (4,1)."
   ]
  },
  {
   "cell_type": "code",
   "execution_count": null,
   "metadata": {},
   "outputs": [
    {
     "name": "stdout",
     "output_type": "stream",
     "text": [
      "4\n"
     ]
    }
   ],
   "source": [
    "def count_pairs(n):\n",
    "    return n - 1  # The number of pairs (a, b) is exactly n-1\n",
    "\n",
    "n = 5\n",
    "print(count_pairs(n))"
   ]
  },
  {
   "cell_type": "markdown",
   "metadata": {},
   "source": [
    "### **With unique count pairs**\n",
    "\n",
    "There are 2 unique pairs, where a + b = n.\n",
    "\n",
    "We avoid counting (3,2) and (4,1) twice, so we consider only (1,4) and (2,3)."
   ]
  },
  {
   "cell_type": "code",
   "execution_count": 2,
   "metadata": {},
   "outputs": [
    {
     "name": "stdout",
     "output_type": "stream",
     "text": [
      "2\n"
     ]
    }
   ],
   "source": [
    "def count_pairs(n):\n",
    "    count = 0\n",
    "    for a in range(1, n):\n",
    "        b = n - a\n",
    "        if a <= b < n:\n",
    "            count += 1\n",
    "    return count\n",
    "\n",
    "n = int(input())\n",
    "print(count_pairs(n))"
   ]
  },
  {
   "cell_type": "markdown",
   "metadata": {},
   "source": [
    "### **15. You are an employee of ‘Rox Travel’ channel.The channel has decided to give allowances to some customer who satisfy these conditions.** \n",
    "\n",
    "The conditions are:\n",
    "\n",
    "    The customer should be born on or before july 22 1987\n",
    "\n",
    "    The month of D.O.B month should be of 31 days.\n",
    "\n",
    "    You are given with the D.O.B of all the employees.Your task is to print the employee index who are having chance to avail special offer.\n",
    "\n",
    "\n",
    "**Input Description:**\n",
    "\n",
    "First line contains the number of employee.Next line contains an array of D.O.B of employees\n",
    "\n",
    "**Output Description:**\n",
    "\n",
    "Print the employee index (index at 1). Print-1 if there are no such employee\n",
    "\n",
    "**Sample Input:**\n",
    "\n",
    "Input\n",
    "\n",
    "4\n",
    "\n",
    "23 MARCH 1996 23 MARCH 1986 22 JULY 1987 23 APRIL 1987\n",
    "\n",
    "**Sample Output:**\n",
    "\n",
    "2 3"
   ]
  },
  {
   "cell_type": "code",
   "execution_count": 32,
   "metadata": {},
   "outputs": [
    {
     "name": "stdout",
     "output_type": "stream",
     "text": [
      "2 3 4\n"
     ]
    }
   ],
   "source": [
    "n = int(input())\n",
    "l = input().split()\n",
    "a = []\n",
    "k = 0\n",
    "for i in range(n):\n",
    "    b = []\n",
    "    for j in range(3):\n",
    "        b.append(l[k])\n",
    "        k += 1\n",
    "    a.append(b)\n",
    "ans = []\n",
    "flag = False\n",
    "for i in range(len(a)):\n",
    "    if int(a[i][2]) <= 1987:\n",
    "        if int(a[i][2]) == 1987:\n",
    "            if a[i][1] in ('JANUARY', 'FEBRUARY', 'MARCH', 'APRIL', 'MAY', 'JUNE', 'JULY'):\n",
    "                if (a[i][1]) == 'JULY':\n",
    "                    if int(a[i][0]) <= 22:\n",
    "                        ans.append(i+1)\n",
    "                        flag = True\n",
    "                    else:\n",
    "                        continue\n",
    "                else:\n",
    "                    ans.append(i+1)\n",
    "                    flag = True\n",
    "            else:\n",
    "                continue\n",
    "        else:\n",
    "            ans.append(i+1)\n",
    "            flag = True\n",
    "    else:\n",
    "        continue\n",
    "if flag:print(*ans)\n",
    "else:print(-1)"
   ]
  },
  {
   "cell_type": "markdown",
   "metadata": {},
   "source": [
    "### **16. Find the minimum among 10 numbers.**\n",
    "\n",
    "**Sample Testcase:**\n",
    "\n",
    "**INPUT**\n",
    "\n",
    "5 4 3 2 1 7 6 10 8 9\n",
    "\n",
    "**OUTPUT**\n",
    "\n",
    "1"
   ]
  },
  {
   "cell_type": "code",
   "execution_count": 33,
   "metadata": {},
   "outputs": [
    {
     "name": "stdout",
     "output_type": "stream",
     "text": [
      "1\n"
     ]
    }
   ],
   "source": [
    "n = list(map(int,input().split()))\n",
    "\n",
    "for i in range(0,10):\n",
    "  res=min(n)\n",
    "print(res)"
   ]
  },
  {
   "cell_type": "markdown",
   "metadata": {},
   "source": [
    "### **17. Given a number N, print the product of the digits.**\n",
    "\n",
    "Input Size : N <= 100000000000\n",
    "\n",
    "**Sample Testcase:**\n",
    "\n",
    "**INPUT**\n",
    "\n",
    "2143\n",
    "\n",
    "**OUTPUT**\n",
    "\n",
    "24"
   ]
  },
  {
   "cell_type": "code",
   "execution_count": 1,
   "metadata": {},
   "outputs": [
    {
     "name": "stdout",
     "output_type": "stream",
     "text": [
      "24\n"
     ]
    }
   ],
   "source": [
    "def product_of_digits(N):\n",
    "    N_str = str(N)\n",
    "    product = 1\n",
    "    \n",
    "    for char in N_str:\n",
    "        digit = int(char)\n",
    "        product *= digit\n",
    "    return product\n",
    "\n",
    "N = int(input())\n",
    "print(product_of_digits(N))"
   ]
  },
  {
   "cell_type": "markdown",
   "metadata": {},
   "source": [
    "### **18. You are given a large number made of only 0’s and 1’s.Your task is to find the max no of consecutive 1’s. If there are no 1’s print -1**\n",
    "\n",
    "**Input Description:**\n",
    "\n",
    "A large number ‘n’\n",
    "\n",
    "**Output Description:**\n",
    "\n",
    "Print the max no of consecutive 1 in the number\n",
    "\n",
    "**Sample Input:**\n",
    "\n",
    "101011111\n",
    "\n",
    "**Sample Output:**\n",
    "\n",
    "5"
   ]
  },
  {
   "cell_type": "code",
   "execution_count": null,
   "metadata": {},
   "outputs": [
    {
     "name": "stdout",
     "output_type": "stream",
     "text": [
      "5\n"
     ]
    }
   ],
   "source": [
    "def max_consecutive_ones(n):\n",
    "    # Initialize variables\n",
    "    max_count = 0\n",
    "    current_count = 0\n",
    "    \n",
    "    # Iterate through each character in the string\n",
    "    for char in n:\n",
    "        if char == '1':\n",
    "            # Increase the current count of consecutive 1's\n",
    "            current_count += 1\n",
    "        else:\n",
    "            # Compare current count with max count and reset current count\n",
    "            if current_count > max_count:\n",
    "                max_count = current_count\n",
    "            current_count = 0\n",
    "    \n",
    "    # Final comparison to check if the longest sequence ends at the end of the string\n",
    "    if current_count > max_count:\n",
    "        max_count = current_count\n",
    "    \n",
    "    # Handle case with no 1's\n",
    "    if max_count == 0:\n",
    "        return -1    \n",
    "    return max_count\n",
    "\n",
    "n = input().strip()\n",
    "print(max_consecutive_ones(n))"
   ]
  },
  {
   "cell_type": "markdown",
   "metadata": {},
   "source": [
    "### **19. Given 2 numbers N,M. Print 'yes' if their product is a perfect square else print 'no'.**\n",
    "\n",
    "**Sample Testcase:**\n",
    "\n",
    "**INPUT**\n",
    "\n",
    "5 5\n",
    "\n",
    "**OUTPUT**\n",
    "\n",
    "yes"
   ]
  },
  {
   "cell_type": "code",
   "execution_count": 31,
   "metadata": {},
   "outputs": [
    {
     "name": "stdout",
     "output_type": "stream",
     "text": [
      "yes\n"
     ]
    }
   ],
   "source": [
    "def is_perfect_square(num):\n",
    "  import math\n",
    "  root = math.sqrt(num)\n",
    "  return int(root) == root\n",
    "\n",
    "def product_is_perfect_square(n, m):\n",
    "  product = n * m\n",
    "  return is_perfect_square(product)\n",
    "\n",
    "# Get input for the two numbers\n",
    "n, m = list(map(int, input().split()))\n",
    "\n",
    "# Check if the product is a perfect square\n",
    "if product_is_perfect_square(n, m):\n",
    "  print(\"yes\")\n",
    "else:\n",
    "  print(\"no\")"
   ]
  },
  {
   "cell_type": "markdown",
   "metadata": {},
   "source": [
    "### **20. Given a number N, print 'yes' if it is composite else print 'no'.**\n",
    "\n",
    "**Sample Testcase:**\n",
    "\n",
    "**INPUT**\n",
    "\n",
    "123\n",
    "\n",
    "**OUTPUT**\n",
    "\n",
    "yes"
   ]
  },
  {
   "cell_type": "code",
   "execution_count": 30,
   "metadata": {},
   "outputs": [
    {
     "name": "stdout",
     "output_type": "stream",
     "text": [
      "yes\n"
     ]
    }
   ],
   "source": [
    "def is_composite(N):\n",
    "    if N <= 1 or N <= 3:\n",
    "        return False  \n",
    "    if N % 2 == 0 or N % 3 == 0:\n",
    "        return True  \n",
    "        \n",
    "N = int(input())\n",
    "if is_composite(N):\n",
    "    print(\"yes\")\n",
    "else:\n",
    "    print(\"no\")"
   ]
  },
  {
   "cell_type": "markdown",
   "metadata": {},
   "source": [
    "### **21. Given a number N, find its next immediate greater power of 2(i.e 2^1, 2^2, 2^3...).**\n",
    "\n",
    "Input Size : N <= 1000\n",
    "\n",
    "**Sample Testcase:**\n",
    "\n",
    "**INPUT**\n",
    "\n",
    "4\n",
    "\n",
    "**OUTPUT**\n",
    "\n",
    "8"
   ]
  },
  {
   "cell_type": "code",
   "execution_count": 3,
   "metadata": {},
   "outputs": [
    {
     "name": "stdout",
     "output_type": "stream",
     "text": [
      "8\n"
     ]
    }
   ],
   "source": [
    "def next_power_of_two(N):\n",
    "    power = 1\n",
    "    while power <= N:\n",
    "        power *= 2\n",
    "    return power\n",
    "\n",
    "N = int(input())\n",
    "print(next_power_of_two(N))"
   ]
  },
  {
   "cell_type": "markdown",
   "metadata": {},
   "source": [
    "### **22. Pk finds it difficult to judge the minimum element in the list of elements given to him. Your task is to develop the algorithm in order to find the minimum element.**\n",
    "\n",
    "Note:Don’t use sorting\n",
    "\n",
    "**Input Description:**\n",
    "\n",
    "You are given ‘n’ number of elements. Next line contains n space separated numbers.\n",
    "\n",
    "**Output Description:**\n",
    "\n",
    "Print the minimum element\n",
    "\n",
    "**Sample Input:**\n",
    "\n",
    "5\n",
    "\n",
    "3 4 9 1 6\n",
    "\n",
    "**Sample Output:**\n",
    "\n",
    "1"
   ]
  },
  {
   "cell_type": "code",
   "execution_count": 29,
   "metadata": {},
   "outputs": [
    {
     "name": "stdout",
     "output_type": "stream",
     "text": [
      "1\n"
     ]
    }
   ],
   "source": [
    "n = int(input())\n",
    "elements = list(map(int, input().split()))\n",
    "\n",
    "min_element = elements[0]\n",
    "for element in elements[1:]:\n",
    "    if element < min_element:\n",
    "        min_element = element\n",
    "print(min_element)"
   ]
  },
  {
   "cell_type": "markdown",
   "metadata": {},
   "source": [
    "### **23. You are given with a string which comprises of some numbers. Your task is to find the largest integer by converting the string to the corresponding integer.**\n",
    "\n",
    "**Input Description:**\n",
    "\n",
    "First line contains n denoting number of Test Cases. The first and only Line of testcase has the string\n",
    "\n",
    "**Output Description:**\n",
    "\n",
    "Print the largest number\n",
    "\n",
    "**Sample Input:**\n",
    "\n",
    "I was born on 12 october 1998.\n",
    "\n",
    "**Sample Output:**\n",
    "\n",
    "1998"
   ]
  },
  {
   "cell_type": "code",
   "execution_count": 28,
   "metadata": {},
   "outputs": [
    {
     "name": "stdout",
     "output_type": "stream",
     "text": [
      "1998\n"
     ]
    }
   ],
   "source": [
    "m = input()\n",
    "res = \"\"\n",
    "a = len(m)\n",
    "\n",
    "for i in range(0,a):\n",
    "    if m[i]!='.':\n",
    "        res = res+m[i]        \n",
    "n = res.split(\" \")\n",
    "\n",
    "int_lst=[]\n",
    "for i in n:\n",
    " if i.isdigit()==True:\n",
    "  int_lst.append(i)\n",
    "length = len(int_lst)\n",
    "\n",
    "max_value = 0\n",
    "for i in range(0,length):\n",
    "    if(int(max_value) < int(int_lst[i])):\n",
    "        max_value = int_lst[i]\n",
    "print(max_value)"
   ]
  },
  {
   "cell_type": "markdown",
   "metadata": {},
   "source": [
    "### **24. Given 3 numbers N , L and R. Print 'yes' if N is between L and R else print 'no'.**\n",
    "\n",
    "**Sample Testcase:**\n",
    "\n",
    "**INPUT**\n",
    "\n",
    "3\n",
    "\n",
    "2 6\n",
    "\n",
    "**OUTPUT**\n",
    "\n",
    "yes"
   ]
  },
  {
   "cell_type": "code",
   "execution_count": null,
   "metadata": {},
   "outputs": [
    {
     "name": "stdout",
     "output_type": "stream",
     "text": [
      "yes\n"
     ]
    }
   ],
   "source": [
    "def is_between(N, L, R):\n",
    "    if L <= N <= R:\n",
    "        return \"yes\"\n",
    "    else:\n",
    "        return \"no\"\n",
    "\n",
    "N = int(input())\n",
    "L, R = map(int, input().split())\n",
    "result = is_between(N, L, R)\n",
    "print(result)"
   ]
  },
  {
   "cell_type": "markdown",
   "metadata": {},
   "source": [
    "### **25. You are given an array of numbers. Print the least occurring element. If there is more than 1 element print all of them in decreasing order of their value.**\n",
    "\n",
    "**Input Description:**\n",
    "\n",
    "You are given a number ‘n’ denoting size of array. Next line contains n space separated numbers.\n",
    "\n",
    "**Output Description:**\n",
    "\n",
    "Print the number as mentioned\n",
    "\n",
    "**Sample Input:**\n",
    "\n",
    "9\n",
    "\n",
    "1 6 4 56 56 56 6 4 2\n",
    "\n",
    "**Sample Output:**\n",
    "\n",
    "2 1"
   ]
  },
  {
   "cell_type": "code",
   "execution_count": 26,
   "metadata": {},
   "outputs": [
    {
     "name": "stdout",
     "output_type": "stream",
     "text": [
      "2 1\n"
     ]
    }
   ],
   "source": [
    "n = int(input())\n",
    "arr = list(map(int, input().split()))\n",
    "\n",
    "# count the occurrences of each number\n",
    "freq = {}\n",
    "for num in arr:\n",
    "    freq[num] = freq.get(num, 0) + 1\n",
    "\n",
    "# find the least occurring number\n",
    "least_freq = min(freq.values())\n",
    "\n",
    "# collect all numbers with least frequency\n",
    "result = []\n",
    "for num, count in freq.items():\n",
    "    if count == least_freq:\n",
    "        result.append(num)\n",
    "\n",
    "# sort the result in decreasing order\n",
    "result.sort(reverse=True)\n",
    "print(*result)"
   ]
  },
  {
   "cell_type": "markdown",
   "metadata": {},
   "source": [
    "### **26. Sreelatha was confused with series. She is given with a number ‘n’. There is a pattern hidden the series. She has to understand and print  the series till nth number by looking into example.Sreelatha is confused and She hired you , you have to develop the series for sreelatha by observing the pattern from the below example.**\n",
    "\n",
    "**Input Description:**\n",
    "\n",
    "She is given with a number ‘n’.\n",
    "\n",
    "**Output Description:**\n",
    "\n",
    "print  the series till nth number\n",
    "\n",
    "**Sample Input:**\n",
    "\n",
    "3\n",
    "\n",
    "**Sample Output:**\n",
    "\n",
    "1 9 36"
   ]
  },
  {
   "cell_type": "code",
   "execution_count": null,
   "metadata": {},
   "outputs": [
    {
     "name": "stdout",
     "output_type": "stream",
     "text": [
      "1 9 36\n"
     ]
    }
   ],
   "source": [
    "def generate_series(n):\n",
    "    series = []\n",
    "    for k in range(1, n + 1):\n",
    "        # Calculate the k-th triangular number\n",
    "        triangular_number = k * (k + 1) // 2\n",
    "        # Square the triangular number\n",
    "        term = triangular_number ** 2\n",
    "        series.append(term)\n",
    "    print(' '.join(map(str, series)))\n",
    "\n",
    "n = int(input())\n",
    "generate_series(n)"
   ]
  },
  {
   "cell_type": "markdown",
   "metadata": {},
   "source": [
    "### **27. You are given with ‘arasu’ series(shown in example).You have to understand it and you will be given a number ‘n’ ,you have to print the series till n numbers.**\n",
    "\n",
    "**Input Description:**\n",
    "\n",
    "You are given a number n;\n",
    "\n",
    "**Output Description:**\n",
    "\n",
    "Print series till nth number\n",
    "\n",
    "**Sample Input:**\n",
    "\n",
    "4\n",
    "\n",
    "**Sample Output:**\n",
    "\n",
    "2 5 10 17"
   ]
  },
  {
   "cell_type": "code",
   "execution_count": null,
   "metadata": {},
   "outputs": [
    {
     "name": "stdout",
     "output_type": "stream",
     "text": [
      "2 5 10 17\n"
     ]
    }
   ],
   "source": [
    "def arasu_series(n):\n",
    "    current_value = 2   # Initialize the first term of the series\n",
    "    difference = 3  # Initialize the difference to be added to the current term\n",
    "    \n",
    "    # List to store the series\n",
    "    series = [current_value]\n",
    "    \n",
    "    # Generate the series up to n terms\n",
    "    for i in range(1, n):\n",
    "        current_value += difference\n",
    "        series.append(current_value)\n",
    "        difference += 2\n",
    "    return series\n",
    "\n",
    "n = int(input())\n",
    "series = arasu_series(n)\n",
    "print(' '.join(map(str, series)))"
   ]
  },
  {
   "cell_type": "markdown",
   "metadata": {},
   "source": [
    "### **28. Ajay is given a series(In example).he gone through the series but unable to understand it properly,he has hired you.Your task is to understand the series and print the series 2, 6,12, 20, 30... .You are given with a number ‘n’. Find the nth number of series.**\n",
    "\n",
    "**Input Description:**\n",
    "\n",
    "You are given a number ‘n’.\n",
    "\n",
    "**Output Description:**\n",
    "\n",
    "Print the nth number of series\n",
    "\n",
    "**Sample Input:**\n",
    "\n",
    "5\n",
    "\n",
    "**Sample Output:**\n",
    "\n",
    "30"
   ]
  },
  {
   "cell_type": "code",
   "execution_count": 5,
   "metadata": {},
   "outputs": [
    {
     "name": "stdout",
     "output_type": "stream",
     "text": [
      "30\n"
     ]
    }
   ],
   "source": [
    "def nth_number_of_series(n):\n",
    "    return n * (n + 1)\n",
    "\n",
    "n = int(input())\n",
    "print(nth_number_of_series(n))"
   ]
  },
  {
   "cell_type": "markdown",
   "metadata": {},
   "source": [
    "### **29. In a world cup tournament,no of goals scored by each team is given to you. Your task is to calculate net goal rate of each team.**\n",
    "\n",
    "Net goal rate of team is calculated\n",
    "\n",
    "No of goals(team)- sum of(no of goals by last 3 teams)\n",
    "\n",
    "**Input Description:**\n",
    "\n",
    "You are given a number ‘n’.Next line contains n space separated numbers.\n",
    "\n",
    "**Output Description:**\n",
    "\n",
    "Print the net goal rate of each team\n",
    "\n",
    "**Sample Input:**\n",
    "\n",
    "5\n",
    "\n",
    "95 85 75 12 11\n",
    "\n",
    "**Sample Output:**\n",
    "\n",
    "-3 -13 -23 -86 -87"
   ]
  },
  {
   "cell_type": "code",
   "execution_count": null,
   "metadata": {},
   "outputs": [],
   "source": []
  },
  {
   "cell_type": "markdown",
   "metadata": {},
   "source": [
    "### **30. Given a number N, print 'yes' if it is a multiple of 13 else print 'no'.**\n",
    "\n",
    "**Sample Testcase:**\n",
    "\n",
    "**INPUT**\n",
    "\n",
    "26\n",
    "\n",
    "**OUTPUT**\n",
    "\n",
    "yes"
   ]
  },
  {
   "cell_type": "code",
   "execution_count": 7,
   "metadata": {},
   "outputs": [
    {
     "name": "stdout",
     "output_type": "stream",
     "text": [
      "yes\n"
     ]
    }
   ],
   "source": [
    "N = int(input())\n",
    "\n",
    "# Check if N is a multiple of 13\n",
    "if N % 13 == 0:\n",
    "    print(\"yes\")\n",
    "else:\n",
    "    print(\"no\")"
   ]
  },
  {
   "cell_type": "markdown",
   "metadata": {},
   "source": [
    "### **31. Given a number N, find the nearest greater multiple of 10.**\n",
    "\n",
    "Input Size : N <= 10000\n",
    "\n",
    "**Sample Testcase:**\n",
    "\n",
    "**INPUT**\n",
    "\n",
    "3\n",
    "\n",
    "**OUTPUT**\n",
    "\n",
    "10"
   ]
  },
  {
   "cell_type": "code",
   "execution_count": 8,
   "metadata": {},
   "outputs": [
    {
     "name": "stdout",
     "output_type": "stream",
     "text": [
      "10\n"
     ]
    }
   ],
   "source": [
    "import math\n",
    "\n",
    "def nearest_greater_multiple_of_10(N):\n",
    "    return math.ceil(N / 10) * 10\n",
    "\n",
    "N = int(input())\n",
    "print(nearest_greater_multiple_of_10(N))"
   ]
  },
  {
   "cell_type": "markdown",
   "metadata": {},
   "source": [
    "### **32. Given 2 numbers N,M. Find their difference and check whether it is even or odd.**\n",
    "\n",
    "**Sample Testcase:**\n",
    "\n",
    "**INPUT**\n",
    "\n",
    "5 5\n",
    "\n",
    "**OUTPUT**\n",
    "\n",
    "even"
   ]
  },
  {
   "cell_type": "code",
   "execution_count": null,
   "metadata": {},
   "outputs": [
    {
     "name": "stdout",
     "output_type": "stream",
     "text": [
      "even\n"
     ]
    }
   ],
   "source": [
    "def check_difference_even_or_odd(N, M):\n",
    "    difference = N - M\n",
    "    \n",
    "    # Check if the difference is even or odd\n",
    "    if difference % 2 == 0:\n",
    "        return \"even\"\n",
    "    else:\n",
    "        return \"odd\"\n",
    "\n",
    "N, M = map(int, input().split())\n",
    "print(check_difference_even_or_odd(N, M))"
   ]
  },
  {
   "cell_type": "markdown",
   "metadata": {},
   "source": [
    "### **33. Shreya is a brilliant girl. She likes to memorize the numbers. These numbers will be shown to her. As an examiner develop an algorithm to test her memory.**\n",
    "\n",
    "**CONSTRAINTS**\n",
    "\n",
    "1<=Y,N,T<=1000\n",
    "\n",
    "**Input Description:**\n",
    "\n",
    "First line contains no. of test cases(Y). Next line contains a number N. Next line contains n space separated numbers Next line contains a number T denoting the number of questions asked from you regarding the given array. Next line contains T space separated numbers.\n",
    "\n",
    "**Output Description:**\n",
    "\n",
    "Print the occurrence of each number if present else “NOT PRESENT”\n",
    "\n",
    "**Sample Input:**\n",
    "\n",
    "10\n",
    "\n",
    "1 1 1 2 2 2 3 8 9 7\n",
    "\n",
    "5\n",
    "\n",
    "1 2 3 0 5\n",
    "\n",
    "**Sample Output:**\n",
    "\n",
    "3 3 1 Not Present Not Present"
   ]
  },
  {
   "cell_type": "code",
   "execution_count": 21,
   "metadata": {},
   "outputs": [
    {
     "name": "stdout",
     "output_type": "stream",
     "text": [
      "3 3 1 Not Present Not Present\n"
     ]
    }
   ],
   "source": [
    "def test_memory(N, numbers, T, questions):\n",
    "    count_dict = {}\n",
    "    for num in numbers:\n",
    "        if num in count_dict:\n",
    "            count_dict[num] += 1\n",
    "        else:\n",
    "            count_dict[num] = 1\n",
    "            \n",
    "    result = []\n",
    "    for q in questions:\n",
    "        if q in count_dict:\n",
    "            result.append(str(count_dict[q]))\n",
    "        else:\n",
    "            result.append(\"Not Present\")\n",
    "    return \" \".join(result)\n",
    "\n",
    "N = int(input())\n",
    "numbers = list(map(int, input().split()))\n",
    "T = int(input())\n",
    "questions = list(map(int, input().split()))\n",
    "output = test_memory(N, numbers, T, questions)\n",
    "print(output)"
   ]
  },
  {
   "cell_type": "markdown",
   "metadata": {},
   "source": [
    "### **34. Given a number N, print its factors.**\n",
    "\n",
    "Input Size : n<=1000\n",
    "\n",
    "**Sample Testcase:**\n",
    "\n",
    "**INPUT**\n",
    "\n",
    "6\n",
    "\n",
    "**OUTPUT**\n",
    "\n",
    "1 2 3 6"
   ]
  },
  {
   "cell_type": "code",
   "execution_count": 10,
   "metadata": {},
   "outputs": [
    {
     "name": "stdout",
     "output_type": "stream",
     "text": [
      "1 2 3 6\n"
     ]
    }
   ],
   "source": [
    "def print_factors(N):\n",
    "    factors = []\n",
    "    for i in range(1, N + 1):\n",
    "        if N % i == 0:\n",
    "            factors.append(i)\n",
    "    \n",
    "    print(*factors)\n",
    "\n",
    "N = int(input())\n",
    "print_factors(N)"
   ]
  },
  {
   "cell_type": "markdown",
   "metadata": {},
   "source": [
    "### **35. Simi is learning about palindromic numbers. Her teacher gave him the task to count all palindromic numbers present in that range.Simi has told you about this and want your help. You design an algorithm in order to help simi.**\n",
    "\n",
    "**Input Description:**\n",
    "\n",
    "You will be given a number ‘n’\n",
    "\n",
    "**Output Description:**\n",
    "\n",
    "Print the count of all palindromic numbers till ‘n’(inclusive)\n",
    "\n",
    "**Sample Input:**\n",
    "\n",
    "5\n",
    "\n",
    "**Sample Output:**\n",
    "\n",
    "5"
   ]
  },
  {
   "cell_type": "code",
   "execution_count": null,
   "metadata": {},
   "outputs": [
    {
     "name": "stdout",
     "output_type": "stream",
     "text": [
      "5\n"
     ]
    }
   ],
   "source": [
    "def is_palindromic(num):\n",
    "    num_str = str(num)\n",
    "    return num_str == num_str[::-1]\n",
    "\n",
    "def count_palindromic_numbers(n):\n",
    "    count = 0\n",
    "    for i in range(1, n + 1):\n",
    "        if is_palindromic(i):\n",
    "            count += 1\n",
    "    return count\n",
    "\n",
    "\n",
    "n = int(input())\n",
    "print(count_palindromic_numbers(n))"
   ]
  },
  {
   "cell_type": "markdown",
   "metadata": {},
   "source": [
    "### **36. You are given a ‘true’ string. String is called true if weight of string is multiple of 8. Your task is to tell whether a string can be declared True or Not. Weight of string is the sum of ASCII value of Vowel character(s) present in the string.**\n",
    "\n",
    "**Input Description:**\n",
    "\n",
    "You are given as string ‘s’ in lower cases\n",
    "\n",
    "**Output Description:**\n",
    "\n",
    "Print 1 for true and 0 for false\n",
    "\n",
    "**Sample Input:**\n",
    "\n",
    "raja\n",
    "\n",
    "**Sample Output:**\n",
    "\n",
    "0"
   ]
  },
  {
   "cell_type": "code",
   "execution_count": 3,
   "metadata": {},
   "outputs": [
    {
     "name": "stdout",
     "output_type": "stream",
     "text": [
      "0\n"
     ]
    }
   ],
   "source": [
    "s = input()\n",
    "\n",
    "# Define the set of vowels\n",
    "vowels = {'a', 'e', 'i', 'o', 'u'}\n",
    "\n",
    "# Initialize the sum of ASCII values of vowels\n",
    "sum_of_vowels = 0\n",
    "\n",
    "# Iterate through each character in the string\n",
    "for char in s:\n",
    "    if char in vowels:\n",
    "        sum_of_vowels += ord(char)\n",
    "\n",
    "# Check if the sum of vowels' ASCII values is a multiple of 8\n",
    "if sum_of_vowels % 8 == 0:\n",
    "    print(1)\n",
    "else:\n",
    "    print(0)"
   ]
  },
  {
   "cell_type": "markdown",
   "metadata": {},
   "source": [
    "### **37. Given length L and breadth B of a farm, print the area of the farm upto 5 decimal decimals.**\n",
    "\n",
    "**Sample Testcase:**\n",
    "\n",
    "**INPUT**\n",
    "\n",
    "1.626 2.31\n",
    "\n",
    "**OUTPUT**\n",
    "\n",
    "3.75606"
   ]
  },
  {
   "cell_type": "code",
   "execution_count": 5,
   "metadata": {},
   "outputs": [
    {
     "name": "stdout",
     "output_type": "stream",
     "text": [
      "3.75606\n"
     ]
    }
   ],
   "source": [
    "# Read two floating-point numbers from input\n",
    "length, breadth = map(float, input().split())\n",
    "\n",
    "# Calculate the product of the two numbers\n",
    "product = length * breadth\n",
    "\n",
    "# Convert the product to a string with 10 decimal places\n",
    "product_string = f\"{product:.10f}\"\n",
    "\n",
    "# Split the string into integer and decimal parts\n",
    "integer_part, decimal_part = product_string.split(\".\")\n",
    "\n",
    "# Truncate the decimal part to 5 digits\n",
    "truncated_decimal = decimal_part[:5]\n",
    "\n",
    "# Combine the integer part and the truncated decimal part\n",
    "result = f\"{integer_part}.{truncated_decimal}\"\n",
    "print(result)"
   ]
  },
  {
   "cell_type": "code",
   "execution_count": 4,
   "metadata": {},
   "outputs": [
    {
     "name": "stdout",
     "output_type": "stream",
     "text": [
      "3.75606\n"
     ]
    }
   ],
   "source": [
    "L, B = map(float, input().split())\n",
    "\n",
    "# Calculate the area of the farm\n",
    "area = L * B\n",
    "print(f\"{area:.5f}\")"
   ]
  },
  {
   "cell_type": "markdown",
   "metadata": {},
   "source": [
    "### **38. Given a number N followed by N elements which can be arranged in ascending order with maximum one element update. Print the index of the element which has to be changed else print '-1' if the updation not neccassary or if the given input needs more than one update to form ascending order.**\n",
    "\n",
    "**Sample Testcase:**\n",
    "\n",
    "**INPUT**\n",
    "\n",
    "7\n",
    "\n",
    "1 2 4 3 5 6 8\n",
    "\n",
    "**OUTPUT**\n",
    "\n",
    "2\n",
    "\n",
    "**Sample Testcase:**\n",
    "\n",
    "**INPUT**\n",
    "\n",
    "5\n",
    "\n",
    "1 10 3 14 5\n",
    "\n",
    "**OUTPUT**\n",
    "\n",
    "-1"
   ]
  },
  {
   "cell_type": "code",
   "execution_count": null,
   "metadata": {},
   "outputs": [
    {
     "name": "stdout",
     "output_type": "stream",
     "text": [
      "2\n"
     ]
    }
   ],
   "source": [
    "def find_update_index():\n",
    "    n = int(input())\n",
    "    arr = list(map(int, input().split()))\n",
    "    \n",
    "    # Track indices where the sequence is not ascending\n",
    "    anomalies = []\n",
    "    \n",
    "    for i in range(n - 1):\n",
    "        if arr[i] >= arr[i + 1]:\n",
    "            anomalies.append(i)\n",
    "    \n",
    "    # Check the number of anomalies\n",
    "    if len(anomalies) == 0:     # Already sorted, no updates needed\n",
    "        print(-1)\n",
    "        return\n",
    "    elif len(anomalies) > 1:    # More than one update is required\n",
    "        print(-1)\n",
    "        return\n",
    "    \n",
    "    # Single anomaly case\n",
    "    index = anomalies[0]\n",
    "    \n",
    "    # Check if we can fix the issue by updating one element\n",
    "    if index == 0 or arr[index + 1] > arr[index - 1]:   # Change arr[index] to a smaller value (closer to arr[index-1] if it exists)\n",
    "        print(index)\n",
    "        return\n",
    "    \n",
    "    if index + 2 == n or arr[index] < arr[index + 2]:   # Change arr[index + 1] to a larger value (closer to arr[index])\n",
    "        print(index + 1)\n",
    "        return\n",
    "    print(-1)\n",
    "\n",
    "find_update_index()"
   ]
  },
  {
   "cell_type": "markdown",
   "metadata": {},
   "source": [
    "### **39. Given a floating point number with 1 decimal place round it off to nearest greater integer and print it.**\n",
    "\n",
    "**Sample Testcase:**\n",
    "\n",
    "**INPUT**\n",
    "\n",
    "2.6\n",
    "\n",
    "**OUTPUT**\n",
    "\n",
    "3"
   ]
  },
  {
   "cell_type": "code",
   "execution_count": 7,
   "metadata": {},
   "outputs": [
    {
     "name": "stdout",
     "output_type": "stream",
     "text": [
      "3\n"
     ]
    }
   ],
   "source": [
    "import math\n",
    "\n",
    "number = float(input())\n",
    "\n",
    "# Round up to the nearest greater integer\n",
    "result = math.ceil(number)\n",
    "print(result)"
   ]
  },
  {
   "cell_type": "markdown",
   "metadata": {},
   "source": [
    "### **40. You are given given task is to print whether array is ‘majestic’ or not.A ‘majsetic’ array is an array whose sum of first three number is equal to last three number.**\n",
    "\n",
    "**Input Description:**\n",
    "\n",
    "You are given a number ‘n’,Next line contains ‘n’ space separated\n",
    "\n",
    "**Output Description:**\n",
    "\n",
    "Print 1 if array is majestic and 0 if it is not\n",
    "\n",
    "**Sample Input:**\n",
    "\n",
    "7\n",
    "\n",
    "1 2 3 4 6 0 0\n",
    "\n",
    "**Sample Output:**\n",
    "\n",
    "1"
   ]
  },
  {
   "cell_type": "code",
   "execution_count": null,
   "metadata": {},
   "outputs": [
    {
     "name": "stdout",
     "output_type": "stream",
     "text": [
      "1\n"
     ]
    }
   ],
   "source": [
    "def is_majestic(arr):\n",
    "    if len(arr) < 6:\n",
    "        return 0  # If there are less than 6 elements, it cannot be majestic\n",
    "    \n",
    "    sum_first_three = sum(arr[:3])  # Sum of the first three elements\n",
    "    sum_last_three = sum(arr[-3:])  # Sum of the last three elements\n",
    "    \n",
    "    # Check if the sums are equal\n",
    "    if sum_first_three == sum_last_three:\n",
    "        return 1\n",
    "    else:\n",
    "        return 0\n",
    "\n",
    "n = int(input())\n",
    "arr = list(map(int, input().split()))\n",
    "result = is_majestic(arr)\n",
    "print(result)"
   ]
  },
  {
   "cell_type": "markdown",
   "metadata": {},
   "source": [
    "### **41. Count the number of digits of a given number N.Size of the integer ranges from 1.**\n",
    "\n",
    "**Sample Testcases:**\n",
    "\n",
    "**INPUT**\n",
    "\n",
    "548\n",
    "\n",
    "**OUTPUT**\n",
    "\n",
    "3"
   ]
  },
  {
   "cell_type": "code",
   "execution_count": 9,
   "metadata": {},
   "outputs": [
    {
     "name": "stdout",
     "output_type": "stream",
     "text": [
      "3\n"
     ]
    }
   ],
   "source": [
    "N = int(input().strip())\n",
    "\n",
    "# Count the number of digits\n",
    "digit_count = len(str(abs(N)))\n",
    "print(digit_count)"
   ]
  },
  {
   "cell_type": "markdown",
   "metadata": {},
   "source": [
    "### **42. Given 2 numbers N and M add both the numbers and check whether the sum is odd or even.**\n",
    "\n",
    "**Sample Testcase:**\n",
    "\n",
    "**INPUT**\n",
    "\n",
    "9 2\n",
    "\n",
    "**OUTPUT**\n",
    "\n",
    "odd"
   ]
  },
  {
   "cell_type": "code",
   "execution_count": 10,
   "metadata": {},
   "outputs": [
    {
     "name": "stdout",
     "output_type": "stream",
     "text": [
      "odd\n"
     ]
    }
   ],
   "source": [
    "N, M = map(int, input().split())\n",
    "sum = N + M\n",
    "if sum % 2 ==0:\n",
    "    print(\"even\")\n",
    "else:\n",
    "    print(\"odd\")"
   ]
  },
  {
   "cell_type": "markdown",
   "metadata": {},
   "source": [
    "### **43. Given a range of 2 numbers (i.e) L and R count the number of prime numbers in the range (inclusive of L and R ).**\n",
    "\n",
    "Input Size : L <= R <= 100000(complexity O(n) read about Sieve of Eratosthenes)\n",
    "\n",
    "**Sample Testcase:**\n",
    "\n",
    "**INPUT**\n",
    "\n",
    "2 5\n",
    "\n",
    "**OUTPUT**\n",
    "\n",
    "3"
   ]
  },
  {
   "cell_type": "code",
   "execution_count": 11,
   "metadata": {},
   "outputs": [
    {
     "name": "stdout",
     "output_type": "stream",
     "text": [
      "3\n"
     ]
    }
   ],
   "source": [
    "def sieve_of_eratosthenes(max_num):\n",
    "    is_prime = [True] * (max_num + 1)\n",
    "    p = 2\n",
    "    while (p * p <= max_num):\n",
    "        if is_prime[p]:\n",
    "            for i in range(p * p, max_num + 1, p):\n",
    "                is_prime[i] = False\n",
    "        p += 1\n",
    "    return is_prime\n",
    "\n",
    "def count_primes_in_range(L, R):\n",
    "    is_prime = sieve_of_eratosthenes(R)\n",
    "    count = 0\n",
    "    for num in range(L, R + 1):\n",
    "        if num > 1 and is_prime[num]:\n",
    "            count += 1\n",
    "    return count\n",
    "\n",
    "L, R = map(int, input().split())\n",
    "print(count_primes_in_range(L, R))"
   ]
  },
  {
   "cell_type": "markdown",
   "metadata": {},
   "source": [
    "### **44. Write a program to print the sum of the first K natural numbers.**\n",
    "\n",
    "Input Size : n <= 100000\n",
    "\n",
    "**Sample Testcase:**\n",
    "\n",
    "**INPUT**\n",
    "\n",
    "3\n",
    "\n",
    "**OUTPUT**\n",
    "\n",
    "6"
   ]
  },
  {
   "cell_type": "code",
   "execution_count": 12,
   "metadata": {},
   "outputs": [
    {
     "name": "stdout",
     "output_type": "stream",
     "text": [
      "6\n"
     ]
    }
   ],
   "source": [
    "def sum_of_natural_numbers(K):\n",
    "    sum_n = K * (K + 1) // 2\n",
    "    return sum_n\n",
    "\n",
    "K = int(input())\n",
    "if K <= 100000:\n",
    "    result = sum_of_natural_numbers(K)\n",
    "    print(result)\n",
    "else:\n",
    "    print(\"Input exceeds the allowed limit.\")"
   ]
  },
  {
   "cell_type": "markdown",
   "metadata": {},
   "source": [
    "### **45. Given a number N, check whether it is prime or not. Print 'yes' if it is prime else print 'no'.**\n",
    "\n",
    "**Sample Testcase:**\n",
    "\n",
    "**INPUT**\n",
    "\n",
    "123\n",
    "\n",
    "**OUTPUT**\n",
    "\n",
    "no"
   ]
  },
  {
   "cell_type": "code",
   "execution_count": 13,
   "metadata": {},
   "outputs": [
    {
     "name": "stdout",
     "output_type": "stream",
     "text": [
      "no\n"
     ]
    }
   ],
   "source": [
    "def is_prime(n):\n",
    "    if n <= 1:\n",
    "        return False\n",
    "    for i in range(2, int(n**0.5) + 1):\n",
    "        if n % i == 0:\n",
    "            return False\n",
    "    return True\n",
    "\n",
    "N = int(input().strip())\n",
    "\n",
    "# Check if the number is prime\n",
    "if is_prime(N):\n",
    "    print(\"yes\")\n",
    "else:\n",
    "    print(\"no\")"
   ]
  },
  {
   "cell_type": "markdown",
   "metadata": {},
   "source": [
    "### **46. Given 2 numbers N and K followed by N elements,print the number of repetition of K otherwise print '-1' if the element not found.**\n",
    "\n",
    "**Sample Testcase:**\n",
    "\n",
    "**INPUT**\n",
    "\n",
    "6 2\n",
    "\n",
    "1 2 3 5 7 8\n",
    "\n",
    "**OUTPUT**\n",
    "\n",
    "0"
   ]
  },
  {
   "cell_type": "code",
   "execution_count": 14,
   "metadata": {},
   "outputs": [
    {
     "name": "stdout",
     "output_type": "stream",
     "text": [
      "0\n"
     ]
    }
   ],
   "source": [
    "n, m = map(int,input().split())\n",
    "b = map(int,input().split()[:n])\n",
    "b = list(b)\n",
    "count = -1\n",
    "for i in b:\n",
    "    if(i==m):\n",
    "        count+=1\n",
    "print(count)"
   ]
  },
  {
   "cell_type": "markdown",
   "metadata": {},
   "source": [
    "### **47. Given a number N and an array of N integers, find the sum of all the negative numbers in the array.**\n",
    "\n",
    "Input Size : N <= 100000\n",
    "\n",
    "**Sample Testcase:**\n",
    "\n",
    "**INPUT**\n",
    "\n",
    "2\n",
    "\n",
    "3 0\n",
    "\n",
    "**OUTPUT**\n",
    "\n",
    "0"
   ]
  },
  {
   "cell_type": "code",
   "execution_count": null,
   "metadata": {},
   "outputs": [],
   "source": [
    "n = int(input())\n",
    "numbers = list(map(int, input().split()))\n",
    "negative_numbers = sum(num for num in numbers if num < 0)\n",
    "print(negative_numbers)"
   ]
  },
  {
   "cell_type": "markdown",
   "metadata": {},
   "source": [
    "### **48. Given 3 numbers A,B,C find the sum of Arithmetic Series with a=A, d=B and n=C.**\n",
    "\n",
    "**Sample Testcase:**\n",
    "\n",
    "**INPUT**\n",
    "\n",
    "1 1 2\n",
    "\n",
    "**OUTPUT**\n",
    "\n",
    "3"
   ]
  },
  {
   "cell_type": "code",
   "execution_count": 35,
   "metadata": {},
   "outputs": [
    {
     "name": "stdout",
     "output_type": "stream",
     "text": [
      "3\n"
     ]
    }
   ],
   "source": [
    "a, d, n = map(int, input().split())\n",
    "\n",
    "# Calculate the sum using the arithmetic series formula\n",
    "sum_series = (n / 2) * (2 * a + (n - 1) * d)\n",
    "print(int(sum_series))"
   ]
  },
  {
   "cell_type": "markdown",
   "metadata": {},
   "source": [
    "### **49. Given the values of a,b and x in the equation ax + b = y. Find the value of y.**\n",
    "\n",
    "**Sample Testcase:**\n",
    "\n",
    "**INPUT**\n",
    "\n",
    "3 5 2\n",
    "\n",
    "**OUTPUT**\n",
    "\n",
    "11"
   ]
  },
  {
   "cell_type": "code",
   "execution_count": 36,
   "metadata": {},
   "outputs": [
    {
     "name": "stdout",
     "output_type": "stream",
     "text": [
      "11\n"
     ]
    }
   ],
   "source": [
    "def calculate_y(a, b, x):\n",
    "    return a * x + b\n",
    "\n",
    "a, b, x = map(int, input().split())\n",
    "y = calculate_y(a, b, x)\n",
    "print(y)"
   ]
  },
  {
   "cell_type": "markdown",
   "metadata": {},
   "source": [
    "### **50. In \"A Mathematicians Apology\", G.H. Hardy wrote:**\n",
    "\n",
    "“There are just four numbers, after unity, which are the sums of the cubes of their digits”\n",
    "Let the largest of those four numbers be X.\n",
    "A hash function for performing separate chaining was defined as hash(n) := n mod X, where n is a whole number. Separate chaining was performed for N integers in an array A. Mrs. Leela was asked to find the number of empty chains from 0 to X-1 (both inclusive) after performing the hashing using separate chaining. Help her solve this mysterious question.\n",
    "Separate chaining resources:\n",
    "https://en.wikipedia.org/wiki/Hash_table#Separate_chaining_with_linked_lists\n",
    "https://www.geeksforgeeks.org/hashing-set-2-separate-chaining/\n",
    "\n",
    "**Input Description:**\n",
    "\n",
    "The first line contains the number of integers N. The second line contains N space separated integers.\n",
    "\n",
    "**Output Description:**\n",
    "\n",
    "Print a single line containing an integer denoting the number of empty chains.\n",
    "\n",
    "**Sample Input:**\n",
    "\n",
    "15\n",
    "\n",
    "0 1 2 3 4 5 6 7 8 9 10 11 12 13 14 15\n",
    "\n",
    "**Sample Output:**\n",
    "\n",
    "392"
   ]
  },
  {
   "cell_type": "code",
   "execution_count": 38,
   "metadata": {},
   "outputs": [
    {
     "name": "stdout",
     "output_type": "stream",
     "text": [
      "392\n"
     ]
    }
   ],
   "source": [
    "N = int(input())\n",
    "A = list(map(int, input().split()))\n",
    "\n",
    "hash_table = [False] * 408\n",
    "\n",
    "for number in A:\n",
    "    index = number % 408\n",
    "    hash_table[index] = True\n",
    "\n",
    "empty_chains = hash_table.count(False)\n",
    "print(empty_chains)"
   ]
  },
  {
   "cell_type": "markdown",
   "metadata": {},
   "source": [
    "### **51. Given a number N, print its reverse.**\n",
    "\n",
    "Input Size : n <= 1000\n",
    "\n",
    "**Sample Testcase:**\n",
    "\n",
    "**INPUT**\n",
    "\n",
    "10\n",
    "\n",
    "**OUTPUT**\n",
    "\n",
    "1"
   ]
  },
  {
   "cell_type": "code",
   "execution_count": 39,
   "metadata": {},
   "outputs": [
    {
     "name": "stdout",
     "output_type": "stream",
     "text": [
      "1\n"
     ]
    }
   ],
   "source": [
    "N = int(input())\n",
    "reversed_N = int(str(N)[::-1])\n",
    "print(reversed_N)"
   ]
  },
  {
   "cell_type": "markdown",
   "metadata": {},
   "source": [
    "### **52. You are given a number ‘n’. You have to develop an algorithm which will tell sum of the powers of prime factors of that number.**\n",
    "\n",
    "**Input Description:**\n",
    "\n",
    "Given a number ‘n’\n",
    "\n",
    "**Output Description:**\n",
    "\n",
    "sum of the powers of prime factors of that number.\n",
    "\n",
    "**Sample Input:**\n",
    "\n",
    "9\n",
    "\n",
    "**Sample Output:**\n",
    "\n",
    "2"
   ]
  },
  {
   "cell_type": "code",
   "execution_count": null,
   "metadata": {},
   "outputs": [
    {
     "name": "stdout",
     "output_type": "stream",
     "text": [
      "2\n"
     ]
    }
   ],
   "source": [
    "def prime_factors_power_sum(n):\n",
    "    sum_of_powers = 0       # Variable to store the sum of powers\n",
    "    \n",
    "    # Check for number of 2s in the factorization\n",
    "    while n % 2 == 0:\n",
    "        sum_of_powers += 1\n",
    "        n = n // 2\n",
    "        \n",
    "    # Check for odd factors starting from 3\n",
    "    factor = 3\n",
    "    while factor * factor <= n:\n",
    "        power = 0\n",
    "        while n % factor == 0:\n",
    "            power += 1\n",
    "            n = n // factor\n",
    "        sum_of_powers += power\n",
    "        factor += 2\n",
    "    \n",
    "    # If n is a prime number greater than 2\n",
    "    if n > 2:\n",
    "        sum_of_powers += 1    \n",
    "    return sum_of_powers\n",
    "\n",
    "n = int(input())\n",
    "print(prime_factors_power_sum(n))"
   ]
  },
  {
   "cell_type": "markdown",
   "metadata": {},
   "source": [
    "### **53. Kabali is a brave warrior who with his group of young ninjas moves from one place to another to fight against his opponents. Before Fighting he just calculates one thing, the difference between his ninja number and the opponent's ninja number. From this difference he decides whether to fight or not. Kabali's ninja number is never greater than his opponent.**\n",
    "\n",
    "**Input**\n",
    "\n",
    "The input contains two numbers in every line. These two numbers in each line denotes the number ninjas in Kabali's clan and his opponent's clan . print the absolute difference of number of ninjas between Kabali's clan and his opponent's clan. Each output should be in seperate line.\n",
    "\n",
    "**Sample Testcase:**\n",
    "\n",
    "**INPUT**\n",
    "\n",
    "100 200\n",
    "\n",
    "**OUTPUT**\n",
    "\n",
    "100"
   ]
  },
  {
   "cell_type": "code",
   "execution_count": null,
   "metadata": {},
   "outputs": [],
   "source": [
    "def calculate_ninja_difference(kabali_ninjas, opponent_ninjas):\n",
    "  difference = abs(kabali_ninjas - opponent_ninjas)\n",
    "  return difference\n",
    "\n",
    "while True:\n",
    "  try:\n",
    "    kabali_ninjas, opponent_ninjas = map(int, input().split())\n",
    "  except ValueError:\n",
    "    continue\n",
    "  if kabali_ninjas > opponent_ninjas:\n",
    "     break\n",
    "\n",
    "  difference = calculate_ninja_difference(kabali_ninjas, opponent_ninjas)\n",
    "  print(difference)"
   ]
  },
  {
   "cell_type": "markdown",
   "metadata": {},
   "source": [
    "### **54. Given a number N, print the sum of squares of all its digits.**\n",
    "\n",
    "Input Size : 1 <= N <= 100000\n",
    "\n",
    "**Sample Testcase:**\n",
    "\n",
    "**INPUT**\n",
    "\n",
    "12\n",
    "\n",
    "**OUTPUT**\n",
    "\n",
    "5"
   ]
  },
  {
   "cell_type": "code",
   "execution_count": 1,
   "metadata": {},
   "outputs": [
    {
     "name": "stdout",
     "output_type": "stream",
     "text": [
      "5\n"
     ]
    }
   ],
   "source": [
    "n = input()\n",
    "sum_of_squares = sum(int(digit)**2 for digit in n)\n",
    "print(sum_of_squares)"
   ]
  },
  {
   "cell_type": "markdown",
   "metadata": {},
   "source": [
    "### **55. Write a program to calculate the total surface area and volume of cuboid. Input contains three space separated positive integers L, B, H denoting the length, width and height of cuboid respectively.**\n",
    "\n",
    "**Sample Testcase:**\n",
    "\n",
    "**INPUT**\n",
    "\n",
    "1 2 3\n",
    "\n",
    "**OUTPUT**\n",
    "\n",
    "22 6"
   ]
  },
  {
   "cell_type": "code",
   "execution_count": 2,
   "metadata": {},
   "outputs": [
    {
     "name": "stdout",
     "output_type": "stream",
     "text": [
      "22 6\n"
     ]
    }
   ],
   "source": [
    "L, B, H = map(int, input().split())\n",
    "\n",
    "# Calculate the volume of the cuboid\n",
    "volume = L * B * H\n",
    "\n",
    "# Calculate the total surface area of the cuboid\n",
    "surface_area = 2 * (L * B + B * H + L * H)\n",
    "print(surface_area, volume)"
   ]
  },
  {
   "cell_type": "markdown",
   "metadata": {},
   "source": [
    "### **56. Rajesh is very fond of numbers. With the given positive number(‘n’) ,he has to tell whether a number is lively or not. A lively number is a number which has same frequency of all integers present.**\n",
    "\n",
    "**Input Description:**\n",
    "\n",
    "A integer ‘n’ will be given\n",
    "\n",
    "**Output Description:**\n",
    "\n",
    "Print 1 if number is lively and 0 if it is not lively.\n",
    "\n",
    "**Sample Input:**\n",
    "\n",
    "1212\n",
    "\n",
    "**Sample Output:**\n",
    "\n",
    "1"
   ]
  },
  {
   "cell_type": "code",
   "execution_count": null,
   "metadata": {},
   "outputs": [
    {
     "name": "stdout",
     "output_type": "stream",
     "text": [
      "1\n"
     ]
    }
   ],
   "source": [
    "from collections import Counter\n",
    "\n",
    "def is_lively_number(n):\n",
    "    n_str = str(n)      # Convert the number to string to handle each digit\n",
    "    digit_count = Counter(n_str)    # Count frequency of each digit\n",
    "    \n",
    "    # Check if all frequencies are the same\n",
    "    if len(set(digit_count.values())) == 1:\n",
    "        return 1  # All digits have the same frequency\n",
    "    else:\n",
    "        return 0  # Frequencies are not the same\n",
    "\n",
    "n = int(input())\n",
    "print(is_lively_number(n))"
   ]
  },
  {
   "cell_type": "markdown",
   "metadata": {},
   "source": [
    "### **57. Given numbers A,B find A^B.**\n",
    "\n",
    "Input Size : 1 <= A <= 5 <= B <= 50\n",
    "\n",
    "**Sample Testcase:**\n",
    "\n",
    "**INPUT**\n",
    "\n",
    "3 4\n",
    "\n",
    "**OUTPUT**\n",
    "\n",
    "81"
   ]
  },
  {
   "cell_type": "code",
   "execution_count": 4,
   "metadata": {},
   "outputs": [
    {
     "name": "stdout",
     "output_type": "stream",
     "text": [
      "81\n"
     ]
    }
   ],
   "source": [
    "def calculate_power(A, B):\n",
    "    return A ** B\n",
    "    \n",
    "A, B = map(int, input().split())\n",
    "result = calculate_power(A, B)\n",
    "print(result)"
   ]
  },
  {
   "cell_type": "markdown",
   "metadata": {},
   "source": [
    "### **58. In a garage the service man takes 10 minutes to service one car.If there are N cars in garage and X is number of minutes after which one person arrives,Calculate how much time last person has to wait in garage.(Print answer in minutes)**\n",
    "\n",
    "**Input Description:**\n",
    "\n",
    "You are given Two numbers ‘N’ and ‘X’\n",
    "\n",
    "**Output Description:**\n",
    "\n",
    "Waiting time of last person\n",
    "\n",
    "**Sample Input:**\n",
    "\n",
    "4 5\n",
    "\n",
    "**Sample Output:**\n",
    "\n",
    "15"
   ]
  },
  {
   "cell_type": "code",
   "execution_count": null,
   "metadata": {},
   "outputs": [
    {
     "name": "stdout",
     "output_type": "stream",
     "text": [
      "15\n"
     ]
    }
   ],
   "source": [
    "def calculate_waiting_time(N, X):\n",
    "    if N <= 1:\n",
    "        return 0\n",
    "    \n",
    "    waiting_time = 10 * (N - 1) - (N - 1) * X\n",
    "    return waiting_time\n",
    "\n",
    "N, X = map(int, input().split())\n",
    "print(calculate_waiting_time(N, X))"
   ]
  },
  {
   "cell_type": "markdown",
   "metadata": {},
   "source": [
    "### **59. Given 3 points check whether they lie on the same line.If they lie on the same line print 'yes' Otherwise print 'no'.**\n",
    "\n",
    "**Sample Testcase:**\n",
    "\n",
    "**INPUT**\n",
    "\n",
    "0 1\n",
    "\n",
    "0 0\n",
    "\n",
    "0 2\n",
    "\n",
    "**OUTPUT**\n",
    "\n",
    "yes"
   ]
  },
  {
   "cell_type": "code",
   "execution_count": 6,
   "metadata": {},
   "outputs": [
    {
     "name": "stdout",
     "output_type": "stream",
     "text": [
      "yes\n"
     ]
    }
   ],
   "source": [
    "def check_collinear(x1, y1, x2, y2, x3, y3):\n",
    "    # Using the simplified slope comparison formula\n",
    "    if (y2 - y1) * (x3 - x1) == (y3 - y1) * (x2 - x1):\n",
    "        return \"yes\"\n",
    "    else:\n",
    "        return \"no\"\n",
    "\n",
    "x1, y1 = map(int, input().split())\n",
    "x2, y2 = map(int, input().split())\n",
    "x3, y3 = map(int, input().split())\n",
    "print(check_collinear(x1, y1, x2, y2, x3, y3))"
   ]
  },
  {
   "cell_type": "markdown",
   "metadata": {},
   "source": [
    "### **60. Given 2 numbers N,M find the GCD of N and M.If it cannot be found for given number(s) then print -1.**\n",
    "\n",
    "**Sample Testcase:**\n",
    "\n",
    "**INPUT**\n",
    "\n",
    "10 5\n",
    "\n",
    "**OUTPUT**\n",
    "\n",
    "5"
   ]
  },
  {
   "cell_type": "code",
   "execution_count": null,
   "metadata": {},
   "outputs": [
    {
     "name": "stdout",
     "output_type": "stream",
     "text": [
      "5\n"
     ]
    }
   ],
   "source": [
    "import math\n",
    "\n",
    "n, m = map(int,input().split(\" \"))\n",
    "if(n > 0 < m):\n",
    "    print(math.gcd(n, m))\n",
    "elif(n < 0 or m < 0):\n",
    "    print(math.gcd(n, m))\n",
    "else:\n",
    "    print('-1')"
   ]
  },
  {
   "cell_type": "markdown",
   "metadata": {},
   "source": [
    "### **61. A stiff number is a number which can only be formed by sum of two number which are co prime. You are given with a number (n). Write a programme to determine whether a number is stiff or not.**\n",
    "\n",
    "**Input Description:**\n",
    "\n",
    "You are given a number n\n",
    "\n",
    "**Output Description:**\n",
    "\n",
    "Print Stiff or not stiff\n",
    "\n",
    "**Sample Input:**\n",
    "\n",
    "9\n",
    "\n",
    "**Sample Output:**\n",
    "\n",
    "Stiff"
   ]
  },
  {
   "cell_type": "code",
   "execution_count": 9,
   "metadata": {},
   "outputs": [
    {
     "name": "stdout",
     "output_type": "stream",
     "text": [
      "Stiff\n"
     ]
    }
   ],
   "source": [
    "import math\n",
    "\n",
    "def is_stiff(n):\n",
    "    # Check all pairs (i, j) such that i + j = n\n",
    "    for i in range(1, n):\n",
    "        j = n - i\n",
    "        if math.gcd(i, j) == 1:  # Check if i and j are co-prime\n",
    "            return \"Stiff\"\n",
    "    return \"Not Stiff\"\n",
    "\n",
    "n = int(input())\n",
    "print(is_stiff(n))"
   ]
  },
  {
   "cell_type": "markdown",
   "metadata": {},
   "source": [
    "### **62. Prateek finds it difficult to judge the minimum element in the list of elements given to him. Your task is to develop the algorithm in order to find the minimum element.**\n",
    "\n",
    "**Input Description:**\n",
    "\n",
    "You are given ‘n’ number of elements. Next line contains n space separated numbers.\n",
    "\n",
    "**Output Description:**\n",
    "\n",
    "Print the minimum element\n",
    "\n",
    "**Sample Input:**\n",
    "\n",
    "5\n",
    "\n",
    "3 4 9 1 6\n",
    "\n",
    "**Sample Output:**\n",
    "\n",
    "1"
   ]
  },
  {
   "cell_type": "code",
   "execution_count": 10,
   "metadata": {},
   "outputs": [
    {
     "name": "stdout",
     "output_type": "stream",
     "text": [
      "1\n"
     ]
    }
   ],
   "source": [
    "def find_minimum_element(n, elements):\n",
    "    # Assuming the list has at least one element\n",
    "    min_element = elements[0]\n",
    "    \n",
    "    # Iterate through the list to find the minimum element\n",
    "    for element in elements:\n",
    "        if element < min_element:\n",
    "            min_element = element\n",
    "    return min_element\n",
    "\n",
    "n = int(input())\n",
    "elements = list(map(int, input().split()))\n",
    "print(find_minimum_element(n, elements))"
   ]
  },
  {
   "cell_type": "markdown",
   "metadata": {},
   "source": [
    "### **63. Given a number N, check if it is a power of 2.Print 'yes' if it is a power of 2 otherwise print 'no'.**\n",
    "\n",
    "Input Size : 1 <= N <= 100000\n",
    "\n",
    "**Sample Testcase:**\n",
    "\n",
    "**INPUT**\n",
    "\n",
    "64\n",
    "\n",
    "**OUTPUT**\n",
    "\n",
    "yes"
   ]
  },
  {
   "cell_type": "code",
   "execution_count": 11,
   "metadata": {},
   "outputs": [
    {
     "name": "stdout",
     "output_type": "stream",
     "text": [
      "yes\n"
     ]
    }
   ],
   "source": [
    "def is_power_of_2(n):\n",
    "    if n > 0 and (n & (n - 1)) == 0:\n",
    "        return \"yes\"\n",
    "    else:\n",
    "        return \"no\"\n",
    "\n",
    "n = int(input())\n",
    "print(is_power_of_2(n))"
   ]
  },
  {
   "cell_type": "markdown",
   "metadata": {},
   "source": [
    "### **64. Given a String S,print the number of unique characters in it.If all the characters are duplicated,then print -1.**\n",
    "\n",
    "**Sample Testcase:**\n",
    "\n",
    "**INPUT**\n",
    "\n",
    "GUVIGEEK\n",
    "\n",
    "**OUTPUT**\n",
    "\n",
    "4"
   ]
  },
  {
   "cell_type": "code",
   "execution_count": 12,
   "metadata": {},
   "outputs": [
    {
     "name": "stdout",
     "output_type": "stream",
     "text": [
      "4\n"
     ]
    }
   ],
   "source": [
    "from collections import Counter\n",
    "\n",
    "def count_unique_characters(s):\n",
    "    # Count the frequency of each character\n",
    "    freq = Counter(s)\n",
    "    \n",
    "    # Count how many characters have frequency 1\n",
    "    unique_count = sum(1 for count in freq.values() if count == 1)\n",
    "    \n",
    "    # If there are no unique characters, print -1\n",
    "    if unique_count == 0:\n",
    "        return -1\n",
    "    else:\n",
    "        return unique_count\n",
    "\n",
    "S = input().strip()\n",
    "print(count_unique_characters(S))"
   ]
  },
  {
   "cell_type": "markdown",
   "metadata": {},
   "source": [
    "### **65. Given a number N and a number K, find the greatest number which divides both.**\n",
    "\n",
    "Input Size : N and K <= 100000\n",
    "\n",
    "**Sample Testcase:**\n",
    "\n",
    "**INPUT**\n",
    "\n",
    "5 10\n",
    "\n",
    "**OUTPUT**\n",
    "\n",
    "5"
   ]
  },
  {
   "cell_type": "code",
   "execution_count": 13,
   "metadata": {},
   "outputs": [
    {
     "name": "stdout",
     "output_type": "stream",
     "text": [
      "5\n"
     ]
    }
   ],
   "source": [
    "import math\n",
    "\n",
    "def find_greatest_divisor(N, K):\n",
    "    return math.gcd(N, K)\n",
    "\n",
    "N, K = map(int, input().split())\n",
    "print(find_greatest_divisor(N, K))"
   ]
  },
  {
   "cell_type": "markdown",
   "metadata": {},
   "source": [
    "### **66. Given two numbers N,K followed by an array of N elements, print the array after doing right shift K times (in cyclic manner).**\n",
    "\n",
    "Input Size : 1 <= N, K <= 100000\n",
    "\n",
    "**Sample Testcase:**\n",
    "\n",
    "**INPUT**\n",
    "\n",
    "3 2\n",
    "\n",
    "7 2 3\n",
    "\n",
    "**OUTPUT**\n",
    "\n",
    "2 3 7"
   ]
  },
  {
   "cell_type": "code",
   "execution_count": null,
   "metadata": {},
   "outputs": [],
   "source": [
    "def cyclic_right_shift(N, K, arr):\n",
    "    if N == 0:\n",
    "        return arr\n",
    "    \n",
    "    K = K % N       # Effective number of right shifts\n",
    "    if K == 0:      # If K == 0, no need to shift\n",
    "        return arr\n",
    "    \n",
    "    # Perform cyclic right shift\n",
    "    shifted_arr = arr[-K:] + arr[:-K]\n",
    "    return shifted_arr\n",
    "\n",
    "def main():\n",
    "    import sys\n",
    "    input = sys.stdin.read\n",
    "    data = input().split()\n",
    "    \n",
    "    N = int(data[0])\n",
    "    K = int(data[1])\n",
    "    arr = list(map(int, data[2:2+N]))\n",
    "    \n",
    "    result = cyclic_right_shift(N, K, arr)\n",
    "    print(\" \".join(map(str, result)))\n",
    "\n",
    "if __name__ == \"__main__\":\n",
    "    main()"
   ]
  },
  {
   "cell_type": "markdown",
   "metadata": {},
   "source": [
    "### **67. Given 2 numbers N,K print the value of nCk(C-Combination).**\n",
    "\n",
    "Input Size : K <= N <= 10\n",
    "\n",
    "**Sample Testcase:**\n",
    "\n",
    "**INPUT**\n",
    "\n",
    "5 2\n",
    "\n",
    "**OUTPUT**\n",
    "\n",
    "10"
   ]
  },
  {
   "cell_type": "code",
   "execution_count": 2,
   "metadata": {},
   "outputs": [
    {
     "name": "stdout",
     "output_type": "stream",
     "text": [
      "10\n"
     ]
    }
   ],
   "source": [
    "import math\n",
    "\n",
    "def combination(n, k):\n",
    "    return math.factorial(n) // (math.factorial(k) * math.factorial(n - k))\n",
    "\n",
    "n, k = map(int, input().split())\n",
    "print(combination(n, k))"
   ]
  },
  {
   "cell_type": "markdown",
   "metadata": {},
   "source": [
    "### **68. Given base(B) and height(H) of a triangle find its area.**\n",
    "\n",
    "Input Size : N <= 1000000\n",
    "\n",
    "**Sample Testcase:**\n",
    "\n",
    "**INPUT**\n",
    "\n",
    "2 4\n",
    "\n",
    "**OUTPUT**\n",
    "\n",
    "4"
   ]
  },
  {
   "cell_type": "code",
   "execution_count": 1,
   "metadata": {},
   "outputs": [
    {
     "name": "stdout",
     "output_type": "stream",
     "text": [
      "4.0\n"
     ]
    }
   ],
   "source": [
    "def calculate_triangle_area(B, H):\n",
    "    return (1/2) * B * H\n",
    "\n",
    "B, H = map(int, input().split())\n",
    "area = calculate_triangle_area(B, H)\n",
    "print(area)"
   ]
  },
  {
   "cell_type": "markdown",
   "metadata": {},
   "source": [
    "### **69. Given 2 numbers N,K print the value of nPk(P-Permutation).**\n",
    "\n",
    "Input Size : K <= N <= 10\n",
    "\n",
    "**Sample Testcase:**\n",
    "\n",
    "**INPUT**\n",
    "\n",
    "5 2\n",
    "\n",
    "**OUTPUT**\n",
    "\n",
    "20"
   ]
  },
  {
   "cell_type": "code",
   "execution_count": 2,
   "metadata": {},
   "outputs": [
    {
     "name": "stdout",
     "output_type": "stream",
     "text": [
      "20\n"
     ]
    }
   ],
   "source": [
    "import math\n",
    "\n",
    "def nPk(n, k):\n",
    "    return math.factorial(n) // math.factorial(n - k)\n",
    "\n",
    "n, k = map(int, input().split())\n",
    "print(nPk(n, k))"
   ]
  },
  {
   "cell_type": "markdown",
   "metadata": {},
   "source": [
    "### **70. Given a number N in decimal convert it into binary value.**\n",
    "\n",
    "Input Size : N <= 100000\n",
    "\n",
    "**Sample Testcase:**\n",
    "\n",
    "**INPUT**\n",
    "\n",
    "5\n",
    "\n",
    "**OUTPUT**\n",
    "\n",
    "101"
   ]
  },
  {
   "cell_type": "code",
   "execution_count": 1,
   "metadata": {},
   "outputs": [
    {
     "name": "stdout",
     "output_type": "stream",
     "text": [
      "101\n"
     ]
    }
   ],
   "source": [
    "N = int(input())\n",
    "binary_representation = bin(N)[2:]\n",
    "print(binary_representation)"
   ]
  },
  {
   "cell_type": "markdown",
   "metadata": {},
   "source": [
    "### **71. Given a string S.Validate if a given string is numeric.print 'yes' if it is a numeric otherwise print 'no'.**\n",
    "\n",
    "**Sample Testcase:**\n",
    "\n",
    "**INPUT**\n",
    "\n",
    "guvigeeks\n",
    "\n",
    "**OUTPUT**\n",
    "\n",
    "no"
   ]
  },
  {
   "cell_type": "code",
   "execution_count": null,
   "metadata": {},
   "outputs": [
    {
     "name": "stdout",
     "output_type": "stream",
     "text": [
      "no\n"
     ]
    }
   ],
   "source": [
    "def is_numeric(S):\n",
    "    return S.isdigit()\n",
    "\n",
    "S = input()\n",
    "if is_numeric(S):   # Validate if the string is numeric and print the result\n",
    "    print('yes')\n",
    "else:\n",
    "    print('no')"
   ]
  },
  {
   "cell_type": "markdown",
   "metadata": {},
   "source": [
    "### **72. Given 2 numbers N and K.check if N is a power of K.Print 'yes' if it is a power of k otherwise print 'no'.**\n",
    "\n",
    "**Sample Testcase:**\n",
    "\n",
    "**INPUT**\n",
    "\n",
    "64 8\n",
    "\n",
    "**OUTPUT**\n",
    "\n",
    "yes"
   ]
  },
  {
   "cell_type": "code",
   "execution_count": null,
   "metadata": {},
   "outputs": [
    {
     "name": "stdout",
     "output_type": "stream",
     "text": [
      "yes\n"
     ]
    }
   ],
   "source": [
    "def is_power_of_k(n, k):\n",
    "    if k == 1:\n",
    "        return 'yes' if n == 1 else 'no'\n",
    "    \n",
    "    # Check if n is divisible by k repeatedly\n",
    "    while n > 1:\n",
    "        if n % k != 0:\n",
    "            return 'no'\n",
    "        n = n // k    \n",
    "    return 'yes' if n == 1 else 'no'\n",
    "\n",
    "n, k = map(int, input().split())\n",
    "print(is_power_of_k(n, k))"
   ]
  },
  {
   "cell_type": "markdown",
   "metadata": {},
   "source": [
    "### **73. Given a hexadecimal number convert it into decimal.**\n",
    "\n",
    "**Sample Testcase:**\n",
    "\n",
    "**INPUT**\n",
    "\n",
    "293\n",
    "\n",
    "**OUTPUT**\n",
    "\n",
    "659"
   ]
  },
  {
   "cell_type": "code",
   "execution_count": 5,
   "metadata": {},
   "outputs": [
    {
     "name": "stdout",
     "output_type": "stream",
     "text": [
      "659\n"
     ]
    }
   ],
   "source": [
    "hex_num = input()\n",
    "\n",
    "# Convert the hexadecimal number to decimal\n",
    "decimal_num = int(hex_num, 16)\n",
    "print(decimal_num)"
   ]
  },
  {
   "cell_type": "markdown",
   "metadata": {},
   "source": [
    "### **74. You are given a series 3, 20, 63, 144, 275… . Go through the series in order to find the answer.You are given with a number ‘n’. Find the nth number of series.**\n",
    "\n",
    "**Input Description:**\n",
    "\n",
    "You are given a number ‘n’\n",
    "\n",
    "**Output Description:**\n",
    "\n",
    "Print the nth number of series.\n",
    "\n",
    "**Sample Input:**\n",
    "\n",
    "4\n",
    "\n",
    "**Sample Output:**\n",
    "\n",
    "144"
   ]
  },
  {
   "cell_type": "code",
   "execution_count": null,
   "metadata": {},
   "outputs": [
    {
     "name": "stdout",
     "output_type": "stream",
     "text": [
      "144\n"
     ]
    }
   ],
   "source": [
    "def nth_term(n):\n",
    "    # Formula derived from the pattern of the series\n",
    "    return 2 * pow(n, 3) + pow(n, 2)\n",
    "\n",
    "n = int(input())\n",
    "print(nth_term(n))"
   ]
  },
  {
   "cell_type": "markdown",
   "metadata": {},
   "source": [
    "### **75. Given a number N,check whether it has repeating digits in it.print 'yes' if it has repeating digits otherwise print 'no'.**\n",
    "\n",
    "**Sample Testcase:**\n",
    "\n",
    "**INPUT**\n",
    "\n",
    "11234\n",
    "\n",
    "**OUTPUT**\n",
    "\n",
    "yes"
   ]
  },
  {
   "cell_type": "code",
   "execution_count": null,
   "metadata": {},
   "outputs": [
    {
     "name": "stdout",
     "output_type": "stream",
     "text": [
      "yes\n"
     ]
    }
   ],
   "source": [
    "def has_repeating_digits(N):\n",
    "    digits = str(N)     # Convert the number to a string to iterate over digits\n",
    "    seen = set()\n",
    "    \n",
    "    # Check each digit in the number\n",
    "    for digit in digits:\n",
    "        if digit in seen:\n",
    "            print(\"yes\")  # Repeating digit found\n",
    "            return\n",
    "        seen.add(digit)   \n",
    "    print(\"no\")  # No repeating digits found\n",
    "\n",
    "input_number = int(input().strip())\n",
    "has_repeating_digits(input_number)"
   ]
  },
  {
   "cell_type": "markdown",
   "metadata": {},
   "source": [
    "### **76. Print the position of first 1 from right to left, in binary representation of an Integer.**\n",
    "\n",
    "**Sample Testcase:**\n",
    "\n",
    "**INPUT**\n",
    "\n",
    "18\n",
    "\n",
    "**OUTPUT**\n",
    "\n",
    "2"
   ]
  },
  {
   "cell_type": "code",
   "execution_count": 12,
   "metadata": {},
   "outputs": [
    {
     "name": "stdout",
     "output_type": "stream",
     "text": [
      "2\n"
     ]
    }
   ],
   "source": [
    "def position_of_first_one(n):\n",
    "    if n == 0:\n",
    "        return -1\n",
    "\n",
    "    position = 0\n",
    "\n",
    "    while n > 0:\n",
    "        position += 1\n",
    "        if n & 1:\n",
    "            return position\n",
    "        n >>= 1\n",
    "    return -1\n",
    "\n",
    "n = int(input())\n",
    "result = position_of_first_one(n)\n",
    "print(result)"
   ]
  },
  {
   "cell_type": "markdown",
   "metadata": {},
   "source": [
    "### **77. Given an array of N elements switch(swap) the element with the adjacent element and print the output.**\n",
    "\n",
    "**Sample Testcase:**\n",
    "\n",
    "**INPUT**\n",
    "\n",
    "5\n",
    "\n",
    "3 2 1 2 3\n",
    "\n",
    "**OUTPUT**\n",
    "\n",
    "2 3 2 1 3"
   ]
  },
  {
   "cell_type": "code",
   "execution_count": null,
   "metadata": {},
   "outputs": [
    {
     "name": "stdout",
     "output_type": "stream",
     "text": [
      "2 3 2 1 3\n"
     ]
    }
   ],
   "source": [
    "j = input()\n",
    "a = input().split()\n",
    "l = len(a)\n",
    "n = []\n",
    "last = a[l-1]\n",
    "if(l % 2 == 0):\n",
    "    for i in range(1, l+1, 2):\n",
    "        n.append(a[i])\n",
    "        n.append(a[i-1])\n",
    "    n=\" \".join(map(str,n))\n",
    "    print(n)\n",
    "else:\n",
    "    for i in range(1, l, 2):\n",
    "        n.append(a[i])\n",
    "        n.append(a[i-1])\n",
    "    n.append(last)\n",
    "    n=\" \".join(map(str,n))\n",
    "    print(n)"
   ]
  },
  {
   "cell_type": "markdown",
   "metadata": {},
   "source": [
    "### **78. Given 2 numbers P and A which are the perimeter and area of a rectangle respectively, find if there can actually be a rectangle with this perimeter and area having integer sides.If there exists such rectangle print 'yes' otherwise print 'no'.**\n",
    "\n",
    "Input Size : 1 <= P,A <= 100000\n",
    "\n",
    "**Sample Testcase:**\n",
    "\n",
    "**INPUT**\n",
    "\n",
    "20 25\n",
    "\n",
    "**OUTPUT**\n",
    "\n",
    "yes"
   ]
  },
  {
   "cell_type": "code",
   "execution_count": null,
   "metadata": {},
   "outputs": [
    {
     "name": "stdout",
     "output_type": "stream",
     "text": [
      "yes\n"
     ]
    }
   ],
   "source": [
    "import math\n",
    "\n",
    "def is_perfect_square(x):\n",
    "    return int(math.sqrt(x)) ** 2 == x\n",
    "\n",
    "def can_form_rectangle(P, A):\n",
    "    # Check if P is even\n",
    "    if P % 2 != 0:\n",
    "        return \"no\"\n",
    "    \n",
    "    # Calculate the sum of sides (l + w) = P / 2\n",
    "    sum_sides = P // 2\n",
    "    \n",
    "    # Calculate the discriminant\n",
    "    discriminant = sum_sides ** 2 - 4 * A\n",
    "    \n",
    "    # Check if the discriminant is a perfect square\n",
    "    if discriminant >= 0 and is_perfect_square(discriminant):\n",
    "        # Calculate the possible side lengths using the quadratic formula\n",
    "        root_discriminant = int(math.sqrt(discriminant))\n",
    "        l = (sum_sides + root_discriminant) // 2\n",
    "        w = (sum_sides - root_discriminant) // 2\n",
    "        \n",
    "        # Check if both l and w are positive integers\n",
    "        if l > 0 and w > 0:\n",
    "            return \"yes\"    \n",
    "    return \"no\"\n",
    "\n",
    "P, A = map(int, input().split())\n",
    "print(can_form_rectangle(P, A))"
   ]
  },
  {
   "cell_type": "markdown",
   "metadata": {},
   "source": [
    "### **79. A number is given as input.Find the maximum number that can be formed using the digits.**\n",
    "\n",
    "Input Size : N <= 10000000\n",
    "\n",
    "**Sample Testcase:**\n",
    "\n",
    "**INPUT**\n",
    "\n",
    "4123\n",
    "\n",
    "**OUTPUT**\n",
    "\n",
    "4321"
   ]
  },
  {
   "cell_type": "code",
   "execution_count": 15,
   "metadata": {},
   "outputs": [
    {
     "name": "stdout",
     "output_type": "stream",
     "text": [
      "4321\n"
     ]
    }
   ],
   "source": [
    "def max_number_from_digits(N):\n",
    "    str_N = str(N)  # Convert the number to a string to work with the digits\n",
    "    sorted_digits = sorted(str_N, reverse=True)     # sort the string\n",
    "    \n",
    "    # form the maximum number by join the sorted digits\n",
    "    max_number_str = ''.join(sorted_digits)\n",
    "    \n",
    "    # Convert the result back to an integer\n",
    "    max_number = int(max_number_str)\n",
    "    return max_number\n",
    "\n",
    "input_number = int(input())\n",
    "print(max_number_from_digits(input_number))"
   ]
  },
  {
   "cell_type": "markdown",
   "metadata": {},
   "source": [
    "### **80. Given an angle A, print the sine of the given angle.**\n",
    "\n",
    "**Sample Testcase:**\n",
    "\n",
    "**INPUT**\n",
    "\n",
    "30\n",
    "\n",
    "**OUTPUT**\n",
    "\n",
    "0.5"
   ]
  },
  {
   "cell_type": "code",
   "execution_count": 19,
   "metadata": {},
   "outputs": [
    {
     "name": "stdout",
     "output_type": "stream",
     "text": [
      "0.5\n"
     ]
    }
   ],
   "source": [
    "import math\n",
    "\n",
    "A = float(input())\n",
    "\n",
    "# Convert the angle to radians\n",
    "radians = math.radians(A)\n",
    "\n",
    "sine_value = math.sin(radians)\n",
    "print(round(sine_value, 1))"
   ]
  },
  {
   "cell_type": "markdown",
   "metadata": {},
   "source": [
    "### **81. Given a number N, print the odd digits in the number(space seperated) or print -1 if there is no odd digit in the given number.**\n",
    "\n",
    "Input Size : N <= 100000\n",
    "\n",
    "**Sample Testcase:**\n",
    "\n",
    "**INPUT**\n",
    "\n",
    "2143\n",
    "\n",
    "**OUTPUT**\n",
    "\n",
    "1 3"
   ]
  },
  {
   "cell_type": "code",
   "execution_count": 20,
   "metadata": {},
   "outputs": [
    {
     "name": "stdout",
     "output_type": "stream",
     "text": [
      "1 3\n"
     ]
    }
   ],
   "source": [
    "def print_odd_digits(N):\n",
    "    odd_digits = [digit for digit in str(N) if int(digit) % 2 != 0]\n",
    "    if odd_digits:\n",
    "        print(' '.join(odd_digits))\n",
    "    else:\n",
    "        print('-1')\n",
    "\n",
    "N = int(input())\n",
    "print_odd_digits(N)"
   ]
  },
  {
   "cell_type": "markdown",
   "metadata": {},
   "source": [
    "### **82. Given a number N, find the factorial of N.**\n",
    "\n",
    "Input Size : 1 <= N <= 25\n",
    "\n",
    "**Sample Testcase:**\n",
    "\n",
    "**INPUT**\n",
    "\n",
    "5\n",
    "\n",
    "**OUTPUT**\n",
    "\n",
    "120"
   ]
  },
  {
   "cell_type": "code",
   "execution_count": 21,
   "metadata": {},
   "outputs": [
    {
     "name": "stdout",
     "output_type": "stream",
     "text": [
      "120\n"
     ]
    }
   ],
   "source": [
    "import math\n",
    "\n",
    "N = int(input())\n",
    "factorial_value = math.factorial(N)\n",
    "print(factorial_value)"
   ]
  },
  {
   "cell_type": "markdown",
   "metadata": {},
   "source": [
    "### **83. Given 2 numbers a and B.Print the value of a!/b!.**\n",
    "\n",
    "Input Size : A,B <= 10000 and A-B <= 5\n",
    "\n",
    "**Sample Testcase:**\n",
    "\n",
    "**INPUT**\n",
    "\n",
    "4 2\n",
    "\n",
    "**OUTPUT**\n",
    "\n",
    "12"
   ]
  },
  {
   "cell_type": "code",
   "execution_count": null,
   "metadata": {},
   "outputs": [
    {
     "name": "stdout",
     "output_type": "stream",
     "text": [
      "12\n"
     ]
    }
   ],
   "source": [
    "def factorial_division(a, b):\n",
    "    result = 1\n",
    "    for i in range(b+1, a+1):\n",
    "        result *= i\n",
    "    return result\n",
    "\n",
    "a, b = map(int, input().split())\n",
    "output = factorial_division(a, b)\n",
    "print(output)"
   ]
  },
  {
   "cell_type": "markdown",
   "metadata": {},
   "source": [
    "### **84. Given a number N, print the odd factors for the N.**\n",
    "\n",
    "Input Size : 1 <= N <= 1000\n",
    "\n",
    "**Sample Testcase:**\n",
    "\n",
    "**INPUT**\n",
    "\n",
    "9\n",
    "\n",
    "**OUTPUT**\n",
    "\n",
    "1 3 9"
   ]
  },
  {
   "cell_type": "code",
   "execution_count": 23,
   "metadata": {},
   "outputs": [
    {
     "name": "stdout",
     "output_type": "stream",
     "text": [
      "1 3 9 "
     ]
    }
   ],
   "source": [
    "N = int(input())\n",
    "\n",
    "# Loop through numbers from 1 to N\n",
    "for i in range(1, N + 1):\n",
    "    # Check if i is an odd factor of N\n",
    "    if N % i == 0 and i % 2 != 0:\n",
    "        print(i, end=\" \")"
   ]
  },
  {
   "cell_type": "markdown",
   "metadata": {},
   "source": [
    "### **85. Given 3 numbers A,B,C print 'yes' if they can form the sides of a scalene triangle else print 'no'.**\n",
    "\n",
    "Input Size : A,B,C <= 100000\n",
    "\n",
    "**Sample Testcase:**\n",
    "\n",
    "**INPUT**\n",
    "\n",
    "3 4 5\n",
    "\n",
    "**OUTPUT**\n",
    "\n",
    "yes"
   ]
  },
  {
   "cell_type": "code",
   "execution_count": null,
   "metadata": {},
   "outputs": [
    {
     "name": "stdout",
     "output_type": "stream",
     "text": [
      "yes\n"
     ]
    }
   ],
   "source": [
    "def is_scalene_triangle(a, b, c):\n",
    "  if not (a + b > c and a + c > b and b + c > a):\n",
    "    return False\n",
    "  return a != b and b != c and a != c\n",
    "\n",
    "a, b, c = map(int, input().split())\n",
    "if a > 100000 or b > 100000 or c > 100000:\n",
    "  print(\"Invalid input. Each side must be less than or equal to 100000.\")\n",
    "  exit()\n",
    "\n",
    "if is_scalene_triangle(a, b, c):\n",
    "  print(\"yes\")\n",
    "else:\n",
    "  print(\"no\")"
   ]
  },
  {
   "cell_type": "markdown",
   "metadata": {},
   "source": [
    "### **86. Given number N, find the minimum factor which yeilds odd number as the quotient.**\n",
    "\n",
    "Input Size : N <= 100000\n",
    "\n",
    "**Sample Testcase:**\n",
    "\n",
    "**INPUT**\n",
    "\n",
    "9\n",
    "\n",
    "**OUTPUT**\n",
    "\n",
    "1"
   ]
  },
  {
   "cell_type": "code",
   "execution_count": 28,
   "metadata": {},
   "outputs": [
    {
     "name": "stdout",
     "output_type": "stream",
     "text": [
      "1\n"
     ]
    }
   ],
   "source": [
    "N = int(input())\n",
    "\n",
    "# Loop through all possible factors of N\n",
    "for f in range(1, N + 1):\n",
    "    if N % f == 0:  # Check if f is a factor of N\n",
    "        quotient = N // f\n",
    "        if quotient % 2 != 0:  # Check if the quotient is odd\n",
    "            print(f)\n",
    "            break"
   ]
  },
  {
   "cell_type": "markdown",
   "metadata": {},
   "source": [
    "### **87. Given a number N and an array of N integers, print the minimum sum of the sub-array from the given array.**\n",
    "\n",
    "Input Size : N <= 100000\n",
    "\n",
    "**Sample Testcase:**\n",
    "\n",
    "**INPUT**\n",
    "\n",
    "4\n",
    "\n",
    "2 4 4 2\n",
    "\n",
    "**OUTPUT**\n",
    "\n",
    "2"
   ]
  },
  {
   "cell_type": "code",
   "execution_count": null,
   "metadata": {},
   "outputs": [
    {
     "name": "stdout",
     "output_type": "stream",
     "text": [
      "2\n"
     ]
    }
   ],
   "source": [
    "# Find the minimum sum of a sub-array\n",
    "def min_subarray_sum(arr, N):\n",
    "    current_min = arr[0]\n",
    "    global_min = arr[0]\n",
    "    \n",
    "    # Loop through the array starting from the second element\n",
    "    for i in range(1, N):\n",
    "        current_min = min(arr[i], current_min + arr[i])\n",
    "        global_min = min(global_min, current_min)\n",
    "    return global_min\n",
    "\n",
    "N = int(input())\n",
    "arr = list(map(int, input().split()))\n",
    "print(min_subarray_sum(arr, N))"
   ]
  },
  {
   "cell_type": "markdown",
   "metadata": {},
   "source": [
    "### **88. Given an array N, check if the values are alternating between increasing and decreasing.**\n",
    "\n",
    "Input Size : N <= 100000\n",
    "\n",
    "**Sample Testcase:**\n",
    "\n",
    "**INPUT**\n",
    "\n",
    "5\n",
    "\n",
    "12 14 3 7 4\n",
    "\n",
    "**OUTPUT**\n",
    "\n",
    "yes"
   ]
  },
  {
   "cell_type": "code",
   "execution_count": 32,
   "metadata": {},
   "outputs": [
    {
     "name": "stdout",
     "output_type": "stream",
     "text": [
      "yes\n"
     ]
    }
   ],
   "source": [
    "def is_alternating(arr, N):\n",
    "    if N < 2:\n",
    "        return \"yes\"\n",
    "    \n",
    "    increasing = None\n",
    "    \n",
    "    for i in range(1, N):\n",
    "        if arr[i-1] == arr[i]:\n",
    "            return \"no\"\n",
    "        if increasing is None:\n",
    "            increasing = arr[i] < arr[i-1]\n",
    "        else:\n",
    "            if increasing and arr[i] >= arr[i-1]:\n",
    "                return \"no\"\n",
    "            if not increasing and arr[i] <= arr[i-1]:\n",
    "                return \"no\"\n",
    "        \n",
    "        # Flip the expected relation\n",
    "        increasing = not increasing\n",
    "    return \"yes\"\n",
    "\n",
    "N = int(input())\n",
    "arr = list(map(int, input().split()))\n",
    "print(is_alternating(arr, N))"
   ]
  },
  {
   "cell_type": "markdown",
   "metadata": {},
   "source": [
    "### **89. Given 3 numbers A,B,C print 'yes' if they can form the sides of a right angled triangle,otherwise 'no'.**\n",
    "\n",
    "Input Size : A,B,C <= 100000\n",
    "\n",
    "**Sample Testcase:**\n",
    "\n",
    "**INPUT**\n",
    "\n",
    "3 4 5\n",
    "\n",
    "**OUTPUT**\n",
    "\n",
    "yes"
   ]
  },
  {
   "cell_type": "code",
   "execution_count": 30,
   "metadata": {},
   "outputs": [
    {
     "name": "stdout",
     "output_type": "stream",
     "text": [
      "yes\n"
     ]
    }
   ],
   "source": [
    "def is_right_angled_triangle(a, b, c):\n",
    "    sides = sorted([a, b, c])\n",
    "    if sides[0]**2 + sides[1]**2 == sides[2]**2:\n",
    "        return 'yes'\n",
    "    else:\n",
    "        return 'no'\n",
    "\n",
    "A, B, C = map(int, input().split())\n",
    "print(is_right_angled_triangle(A, B, C))"
   ]
  },
  {
   "cell_type": "markdown",
   "metadata": {},
   "source": [
    "### **90. Given a number N, check whether it is a power of 2.**\n",
    "\n",
    "**Sample Testcase:**\n",
    "\n",
    "**INPUT**\n",
    "\n",
    "2048\n",
    "\n",
    "**OUTPUT**\n",
    "\n",
    "yes"
   ]
  },
  {
   "cell_type": "code",
   "execution_count": 33,
   "metadata": {},
   "outputs": [
    {
     "name": "stdout",
     "output_type": "stream",
     "text": [
      "yes\n"
     ]
    }
   ],
   "source": [
    "N = int(input())\n",
    "\n",
    "# Check if N is a power of 2\n",
    "if N > 0 and (N & (N - 1)) == 0:\n",
    "    print(\"yes\")\n",
    "else:\n",
    "    print(\"no\")"
   ]
  },
  {
   "cell_type": "markdown",
   "metadata": {},
   "source": [
    "### **91. You are given a very long integer.Your task is to determine the smallest possible number such that sum of factorial of digits results back in ‘n’. Print -1 if no number is possible.**\n",
    "\n",
    "**Input Description:**\n",
    "\n",
    "You are given a number ‘n’\n",
    "\n",
    "**Output Description:**\n",
    "\n",
    "Print the smallest number\n",
    "\n",
    "**Sample Input:**\n",
    "\n",
    "145\n",
    "\n",
    "**Sample Output:**\n",
    "\n",
    "145"
   ]
  },
  {
   "cell_type": "code",
   "execution_count": 34,
   "metadata": {},
   "outputs": [
    {
     "name": "stdout",
     "output_type": "stream",
     "text": [
      "145\n"
     ]
    }
   ],
   "source": [
    "from math import factorial\n",
    "\n",
    "# Precompute factorials of digits 0-9\n",
    "factorials = [factorial(i) for i in range(10)]\n",
    "\n",
    "def sum_of_digit_factorials(number):\n",
    "    return sum(factorials[int(digit)] for digit in str(number))\n",
    "\n",
    "def find_smallest_number(n):\n",
    "    number = 1\n",
    "    while number <= 100000:  # Limiting the search to a reasonable range\n",
    "        if sum_of_digit_factorials(number) == n:\n",
    "            return number\n",
    "        number += 1\n",
    "    return -1\n",
    "    \n",
    "n = int(input())\n",
    "result = find_smallest_number(n)\n",
    "print(result)"
   ]
  },
  {
   "cell_type": "markdown",
   "metadata": {},
   "source": [
    "### **92. Gunjan was going through the book of ‘hyp’ numbers. She is given task to find the nth hyp number.Your task is to help gunjan.**\n",
    "\n",
    "A hyp number is a number whose all digits are prime.\n",
    "\n",
    "**Input Description:**\n",
    "\n",
    "You are given a number ‘n’.\n",
    "\n",
    "**Output Description:**\n",
    "\n",
    "Print the ‘nth’ hyp number.\n",
    "\n",
    "**Sample Input:**\n",
    "\n",
    "3\n",
    "\n",
    "**Sample Output:**\n",
    "\n",
    "5"
   ]
  },
  {
   "cell_type": "code",
   "execution_count": 1,
   "metadata": {},
   "outputs": [
    {
     "name": "stdout",
     "output_type": "stream",
     "text": [
      "5\n"
     ]
    }
   ],
   "source": [
    "def is_hyp_number(num):\n",
    "    # Check if all digits of num are prime\n",
    "    prime_digits = {'2', '3', '5', '7'}\n",
    "    return all(digit in prime_digits for digit in str(num))\n",
    "\n",
    "def nth_hyp_number(n):\n",
    "    count = 0\n",
    "    current_number = 1\n",
    "    \n",
    "    while count < n:\n",
    "        if is_hyp_number(current_number):\n",
    "            count += 1\n",
    "        current_number += 1\n",
    "    return current_number - 1\n",
    "\n",
    "n = int(input())\n",
    "result = nth_hyp_number(n)\n",
    "print(result)"
   ]
  },
  {
   "cell_type": "markdown",
   "metadata": {},
   "source": [
    "### **93. Given a number 'N' print the sum of each digit to the power of number of digits in given input.**\n",
    "\n",
    "**Example:**\n",
    "\n",
    "Input => 1234\n",
    "\n",
    "=> ( 1 ^ 4 ) + ( 2 ^ 4 ) + ( 3 ^ 4 ) + ( 4 ^ 4 )\n",
    "\n",
    "=> 1 + 16 + 81 + 256\n",
    "\n",
    "Output => 354\n",
    "\n",
    "N <=100000000000\n",
    "\n",
    "**Sample Testcase:**\n",
    "\n",
    "**INPUT**\n",
    "\n",
    "1234\n",
    "\n",
    "**OUTPUT**\n",
    "\n",
    "354"
   ]
  },
  {
   "cell_type": "code",
   "execution_count": 2,
   "metadata": {},
   "outputs": [
    {
     "name": "stdout",
     "output_type": "stream",
     "text": [
      "354\n"
     ]
    }
   ],
   "source": [
    "def sum_of_powers(n):\n",
    "    str_n = str(n)\n",
    "    num_digits = len(str_n)\n",
    "    total_sum = 0\n",
    "    \n",
    "    for digit in str_n:\n",
    "        total_sum += int(digit) ** num_digits\n",
    "    return total_sum\n",
    "\n",
    "n = int(input())\n",
    "result = sum_of_powers(n)\n",
    "print(result)"
   ]
  },
  {
   "cell_type": "markdown",
   "metadata": {},
   "source": [
    "### **94. Given a number N in binary format convert it to decimal number.**\n",
    "\n",
    "Input Size : N <= 100000\n",
    "\n",
    "**Sample Testcase:**\n",
    "\n",
    "**INPUT**\n",
    "\n",
    "101\n",
    "\n",
    "**OUTPUT**\n",
    "\n",
    "5"
   ]
  },
  {
   "cell_type": "code",
   "execution_count": null,
   "metadata": {},
   "outputs": [
    {
     "name": "stdout",
     "output_type": "stream",
     "text": [
      "5\n"
     ]
    }
   ],
   "source": [
    "bin_number = input()\n",
    "decimal_number = int(bin_number, 2) # Convert to decimal using int() with base 2\n",
    "print(decimal_number)"
   ]
  },
  {
   "cell_type": "markdown",
   "metadata": {},
   "source": [
    "### **95. Given 3 numbers A,B,C process and print 'yes' if they can form the sides of a triangle otherwise print 'no'.**\n",
    "\n",
    "Input Size : A,B,C <= 100000\n",
    "\n",
    "**Sample Testcase:**\n",
    "\n",
    "**INPUT**\n",
    "\n",
    "3 4 5\n",
    "\n",
    "**OUTPUT**\n",
    "\n",
    "yes"
   ]
  },
  {
   "cell_type": "code",
   "execution_count": 4,
   "metadata": {},
   "outputs": [
    {
     "name": "stdout",
     "output_type": "stream",
     "text": [
      "yes\n"
     ]
    }
   ],
   "source": [
    "def is_triangle(a, b, c):\n",
    "    if a <= 0 or b <= 0 or c <= 0:\n",
    "        return False\n",
    "    if a + b > c and a + c > b and b + c > a:\n",
    "        return True\n",
    "    return False\n",
    "\n",
    "A, B, C = map(int, input().split())\n",
    "\n",
    "if is_triangle(A, B, C):\n",
    "    print(\"yes\")\n",
    "else:\n",
    "    print(\"no\")"
   ]
  },
  {
   "cell_type": "markdown",
   "metadata": {},
   "source": [
    "### **96. The Tower of Hanoi (also called the Tower of Brahma) is a mathematical game or puzzle. It consists of three rods and a number of disks of different sizes, which can slide onto any rod. The puzzle starts with the disks in a neat stack in ascending order of size on one rod, the smallest at the top, thus making a conical shape.**\n",
    "\n",
    "The objective of the puzzle is to move the entire stack to another rod, obeying the following simple rules:\n",
    "\n",
    "-Only one disk can be moved at a time.\n",
    "\n",
    "-Each move consists of taking the upper disk from one of the stacks and placing it on top of another stack or on an empty rod.\n",
    "\n",
    "-No larger disk may be placed on top of a smaller disk.\n",
    "\n",
    "You are given the number of disks N. (Here 1 <= N <= 20)\n",
    "\n",
    "Find the minimum number of moves required to solve the puzzle.\n",
    "\n",
    "**Input Description:**\n",
    "\n",
    "The only line of input contains an integer N\n",
    "\n",
    "**Output Description:**\n",
    "\n",
    "Print a single line, the minimum number of moves.\n",
    "\n",
    "**Sample Input:**\n",
    "\n",
    "3\n",
    "\n",
    "**Sample Output:**\n",
    "\n",
    "7"
   ]
  },
  {
   "cell_type": "code",
   "execution_count": 5,
   "metadata": {},
   "outputs": [
    {
     "name": "stdout",
     "output_type": "stream",
     "text": [
      "7\n"
     ]
    }
   ],
   "source": [
    "N = int(input())\n",
    "\n",
    "# Calculate minimum number of moves\n",
    "min_moves = 2**N - 1\n",
    "print(min_moves)"
   ]
  },
  {
   "cell_type": "markdown",
   "metadata": {},
   "source": [
    "### **97. You are given a number ‘n’.Your task is to develop an algorithm to tell whether the number is ‘ajs’ or not.An ‘ajs’ number is a number whose sum of first two digits is present in given number ‘n’.**\n",
    "\n",
    "**Input Description:**\n",
    "\n",
    "A number ’n’ is given to you\n",
    "\n",
    "**Output Description:**\n",
    "\n",
    "Print 1 if number is ajs or 0 if it is not\n",
    "\n",
    "**Sample Input:**\n",
    "\n",
    "9817\n",
    "\n",
    "**Sample Output:**\n",
    "\n",
    "1"
   ]
  },
  {
   "cell_type": "code",
   "execution_count": 6,
   "metadata": {},
   "outputs": [
    {
     "name": "stdout",
     "output_type": "stream",
     "text": [
      "1\n"
     ]
    }
   ],
   "source": [
    "def is_ajs_number(n):\n",
    "    str_n = str(n)      # Convert number to string\n",
    "    \n",
    "    # Check if there are at least two digits\n",
    "    if len(str_n) < 2:\n",
    "        return 0\n",
    "    \n",
    "    # Extract the first two digits and compute their sum\n",
    "    first_two_sum = int(str_n[0]) + int(str_n[1])\n",
    "    \n",
    "    # Convert sum to string and check if it exists in str_n\n",
    "    str_sum = str(first_two_sum)\n",
    "    if str_sum in str_n:\n",
    "        return 1\n",
    "    else:\n",
    "        return 0\n",
    "\n",
    "n = int(input().strip())\n",
    "print(is_ajs_number(n))"
   ]
  },
  {
   "cell_type": "markdown",
   "metadata": {},
   "source": [
    "### **98. harish learnt about gcd and and want to apply the concept to find the gcd of n numbers.**\n",
    "\n",
    "But in between he got stuck and now he is asking for some help your task is to print the gcd of n numbers and print -1 if there is no gcd possible\n",
    "\n",
    "**Input Description:**\n",
    "\n",
    "You are given an array size ‘n’.Next line contains n space separated numbers.\n",
    "\n",
    "**Output Description:**\n",
    "\n",
    "Your task is to print the gcd of number\n",
    "\n",
    "**Sample Input:**\n",
    "\n",
    "6\n",
    "\n",
    "2 4 8 16\n",
    "\n",
    "**Sample Output:**\n",
    "\n",
    "2"
   ]
  },
  {
   "cell_type": "code",
   "execution_count": null,
   "metadata": {},
   "outputs": [
    {
     "name": "stdout",
     "output_type": "stream",
     "text": [
      "2\n"
     ]
    }
   ],
   "source": [
    "import math\n",
    "from functools import reduce\n",
    "\n",
    "def gcd_of_list(numbers):\n",
    "    return reduce(math.gcd, numbers)\n",
    "\n",
    "n = int(input())\n",
    "numbers = list(map(int, input().split()))\n",
    "\n",
    "# Check if all elements are zero\n",
    "if all(num == 0 for num in numbers):\n",
    "    print(-1)\n",
    "else:\n",
    "    result = gcd_of_list(numbers)\n",
    "    print(result)"
   ]
  },
  {
   "cell_type": "markdown",
   "metadata": {},
   "source": [
    "### 99. Assume you are john. John has one younger sister ‘jenny’. He wants to gift her some toys. He has a price list of toys and he has some amount on hand. Your task is to tell him how many toys john will be able to buy for her sister.\n",
    "\n",
    "**Input Description:**\n",
    "\n",
    "First line contains two integer ‘n’ and ‘k’ ,n denotes the number of toys and k denotes total money he has.Next line contains n space separated integers denoting price of each toy\n",
    "\n",
    "**Output Description:**\n",
    "\n",
    "Print the max number of toys he can buy.\n",
    "\n",
    "**Sample Input:**\n",
    "\n",
    "7 50\n",
    "\n",
    "1 12 5 111 200 1000 10\n",
    "\n",
    "**Sample Output:**\n",
    "\n",
    "4"
   ]
  },
  {
   "cell_type": "code",
   "execution_count": null,
   "metadata": {},
   "outputs": [
    {
     "name": "stdout",
     "output_type": "stream",
     "text": [
      "4\n"
     ]
    }
   ],
   "source": [
    "n, k = map(int, input().split())\n",
    "numbers = list(map(int, input().split()))\n",
    "\n",
    "# Count how many numbers are less than or equal to k\n",
    "count = sum(1 for num in numbers if num <= k)\n",
    "print(count)"
   ]
  },
  {
   "cell_type": "markdown",
   "metadata": {},
   "source": [
    "### **100. Given a number N, print their prime factors in sorted order.**\n",
    "\n",
    "Input Size : 2 <= N <= 100000\n",
    "\n",
    "**Sample Testcase:**\n",
    "\n",
    "**INPUT**\n",
    "\n",
    "18\n",
    "\n",
    "**OUTPUT**\n",
    "\n",
    "2 3"
   ]
  },
  {
   "cell_type": "code",
   "execution_count": 9,
   "metadata": {},
   "outputs": [
    {
     "name": "stdout",
     "output_type": "stream",
     "text": [
      "2 3\n"
     ]
    }
   ],
   "source": [
    "def prime_factors(n):\n",
    "    factors = set()\n",
    "    while n % 2 == 0:\n",
    "        factors.add(2)\n",
    "        n //= 2\n",
    "\n",
    "    # Check for odd factors from 3 onwards\n",
    "    for i in range(3, int(n**0.5) + 1, 2):\n",
    "        while n % i == 0:\n",
    "            factors.add(i)\n",
    "            n //= i\n",
    "\n",
    "    if n > 2:\n",
    "        factors.add(n)\n",
    "    return sorted(factors)\n",
    "\n",
    "N = int(input())\n",
    "print(\" \".join(map(str, prime_factors(N))))"
   ]
  },
  {
   "cell_type": "markdown",
   "metadata": {},
   "source": [
    "### **101. Given a number N, print the distinct pairs formed by multiplying two prime numbers (i.e)prime x prime should yield the N.Also print the numbers in descending order.If no such pairs can be formed print '-1'.**\n",
    "\n",
    "Input Size : 1 <= N <= 100000\n",
    "\n",
    "**Sample Testcase:**\n",
    "\n",
    "**INPUT**\n",
    "\n",
    "65\n",
    "\n",
    "**OUTPUT**\n",
    "\n",
    "13 5"
   ]
  },
  {
   "cell_type": "code",
   "execution_count": 10,
   "metadata": {},
   "outputs": [
    {
     "name": "stdout",
     "output_type": "stream",
     "text": [
      "13 5\n"
     ]
    }
   ],
   "source": [
    "import math\n",
    "\n",
    "def is_prime(num):\n",
    "    if num <= 1:\n",
    "        return False\n",
    "    if num == 2:\n",
    "        return True\n",
    "    if num % 2 == 0:\n",
    "        return False\n",
    "    for i in range(3, int(math.sqrt(num)) + 1, 2):\n",
    "        if num % i == 0:\n",
    "            return False\n",
    "    return True\n",
    "\n",
    "def find_prime_pairs(n):\n",
    "    for i in range(1, int(math.sqrt(n)) + 1):\n",
    "        if n % i == 0:\n",
    "            p1 = i\n",
    "            p2 = n // i\n",
    "            if is_prime(p1) and is_prime(p2):\n",
    "                print(max(p1, p2), min(p1, p2))\n",
    "                return\n",
    "    print(-1)\n",
    "\n",
    "n = int(input())\n",
    "find_prime_pairs(n)"
   ]
  },
  {
   "cell_type": "markdown",
   "metadata": {},
   "source": [
    "### **102. A ‘zx’ number is a number which is formed from the sum of 3 numbers ,and the three numbers are such that their hcf equal to 1.**\n",
    "\n",
    "You are given a number.You have to tell whether the number is ‘zx’ or not,if yes then print the three numbers else 0\n",
    "\n",
    "**Input Description:**\n",
    "\n",
    "You are given a number ‘n’\n",
    "\n",
    "**Output Description:**\n",
    "\n",
    "Print the three numbers if n is ‘zx’ number in ascending order else 0\n",
    "\n",
    "**Sample Input:**\n",
    "\n",
    "7\n",
    "\n",
    "**Sample Output:**\n",
    "\n",
    "2 3 2"
   ]
  },
  {
   "cell_type": "code",
   "execution_count": 12,
   "metadata": {},
   "outputs": [
    {
     "name": "stdout",
     "output_type": "stream",
     "text": [
      "1 1 5\n"
     ]
    }
   ],
   "source": [
    "from math import gcd\n",
    "\n",
    "def is_zx_number(n):\n",
    "    # Iterate through all possible combinations\n",
    "    for a in range(1, n): \n",
    "        for b in range(1, n - a): \n",
    "            c = n - a - b  # Third number\n",
    "            if c > 0 and gcd(a, gcd(b, c)) == 1:  # Check if HCF of the three numbers is 1\n",
    "                return f\"{a} {b} {c}\"  # Return numbers in their original order\n",
    "    return 0  # If no such combination found\n",
    "\n",
    "n = int(input())\n",
    "result = is_zx_number(n)\n",
    "print(result)"
   ]
  },
  {
   "cell_type": "markdown",
   "metadata": {},
   "source": [
    "### **103. Given a number N and an array of N elements, every number is repeated except for one. Print that one number.**\n",
    "\n",
    "Input Size : 1 <= N <= 100000\n",
    "\n",
    "**Sample Testcase:**\n",
    "\n",
    "**INPUT**\n",
    "\n",
    "10\n",
    "\n",
    "1 2 3 2 3 3 2 5 5 2\n",
    "\n",
    "**OUTPUT**\n",
    "\n",
    "2"
   ]
  },
  {
   "cell_type": "code",
   "execution_count": 15,
   "metadata": {},
   "outputs": [
    {
     "name": "stdout",
     "output_type": "stream",
     "text": [
      "2\n"
     ]
    }
   ],
   "source": [
    "def find_unique_number(arr):\n",
    "    result = 0\n",
    "    for num in arr:\n",
    "        result ^= num\n",
    "    return result\n",
    "\n",
    "N = int(input())\n",
    "arr = list(map(int, input().split()))\n",
    "print(find_unique_number(arr))"
   ]
  },
  {
   "cell_type": "markdown",
   "metadata": {},
   "source": [
    "### **104. You are head incharge of sports activity in queue. Your task is to sort the students height wise in line. But you can only swap students.Your task is to determine the minimum possible swaps required to sort the students in queue according to heights.**\n",
    "\n",
    "**Input Description:**\n",
    "\n",
    "You are given with number ‘n’ denoting number of students. Next line contains n space separated integers denoting their height.\n",
    "\n",
    "**Output Description:**\n",
    "\n",
    "Print the minimum number of swaps required to sort the students in line.\n",
    "\n",
    "**Sample Input:**\n",
    "\n",
    "5\n",
    "\n",
    "1 5 4 3 2\n",
    "\n",
    "**Sample Output:**\n",
    "\n",
    "2"
   ]
  },
  {
   "cell_type": "code",
   "execution_count": 16,
   "metadata": {},
   "outputs": [
    {
     "name": "stdout",
     "output_type": "stream",
     "text": [
      "2\n"
     ]
    }
   ],
   "source": [
    "def min_swaps_to_sort(arr):\n",
    "    n = len(arr)\n",
    "    \n",
    "    # Create a list of tuples (height, index)\n",
    "    arr_indexed = [(arr[i], i) for i in range(n)]\n",
    "    \n",
    "    # Sort the array by height\n",
    "    arr_indexed.sort(key=lambda x: x[0])\n",
    "    \n",
    "    # Create a visited list\n",
    "    visited = [False] * n\n",
    "    swaps = 0\n",
    "\n",
    "    for i in range(n):\n",
    "        if visited[i] or arr_indexed[i][1] == i:\n",
    "            continue\n",
    "        \n",
    "        # Calculate the size of the cycle\n",
    "        cycle_size = 0\n",
    "        current = i\n",
    "        \n",
    "        while not visited[current]:\n",
    "            visited[current] = True\n",
    "            current = arr_indexed[current][1]\n",
    "            cycle_size += 1\n",
    "        \n",
    "        if cycle_size > 0:\n",
    "            swaps += (cycle_size - 1)\n",
    "    return swaps\n",
    "\n",
    "n = int(input())\n",
    "arr = list(map(int, input().split()))\n",
    "output = min_swaps_to_sort(arr)\n",
    "print(output)"
   ]
  },
  {
   "cell_type": "markdown",
   "metadata": {},
   "source": [
    "### **105. Given two numbers L,R print the smallest number which is divisible by both L and R.**\n",
    "\n",
    "Input Size : 1 <= L,R <= 100000\n",
    "\n",
    "**Sample Testcase:**\n",
    "\n",
    "**INPUT**\n",
    "\n",
    "10 130\n",
    "\n",
    "**OUTPUT**\n",
    "\n",
    "130"
   ]
  },
  {
   "cell_type": "code",
   "execution_count": 17,
   "metadata": {},
   "outputs": [
    {
     "name": "stdout",
     "output_type": "stream",
     "text": [
      "130\n"
     ]
    }
   ],
   "source": [
    "import math\n",
    "\n",
    "def find_lcm(L, R):\n",
    "    return abs(L * R) // math.gcd(L, R)\n",
    "\n",
    "L, R = list(map(int, input().split()))\n",
    "print(find_lcm(L, R))"
   ]
  },
  {
   "cell_type": "markdown",
   "metadata": {},
   "source": [
    "### **106. Given a number N, print the sum of its first and last digit.**\n",
    "\n",
    "Input Size : |N| <= 10000\n",
    "\n",
    "**Sample Testcase:**\n",
    "\n",
    "**INPUT**\n",
    "\n",
    "51233\n",
    "\n",
    "**OUTPUT**\n",
    "\n",
    "8"
   ]
  },
  {
   "cell_type": "code",
   "execution_count": 18,
   "metadata": {},
   "outputs": [
    {
     "name": "stdout",
     "output_type": "stream",
     "text": [
      "8\n"
     ]
    }
   ],
   "source": [
    "def sum_first_last_digit(N):\n",
    "    str_num = str(N)    # Convert the number to a string\n",
    "    \n",
    "    # Get the first and last digits to an integer\n",
    "    first_digit = int(str_num[0])\n",
    "    last_digit = int(str_num[-1])\n",
    "    digit_sum = first_digit + last_digit\n",
    "    return digit_sum\n",
    "\n",
    "N = input()\n",
    "result = sum_first_last_digit(N)\n",
    "print(result)"
   ]
  },
  {
   "cell_type": "markdown",
   "metadata": {},
   "source": [
    "### **107. Given a range (i.e) two numbers L and R count the number of perfect squares within the range (inclusive of L and R).If no perfect square exists within the range print '-1'.**\n",
    "\n",
    "Input Size : L <= R <= 100000(complexity O(n))\n",
    "\n",
    "**Sample Testcase:**\n",
    "\n",
    "**INPUT**\n",
    "\n",
    "2 10\n",
    "\n",
    "**OUTPUT**\n",
    "\n",
    "2"
   ]
  },
  {
   "cell_type": "code",
   "execution_count": 19,
   "metadata": {},
   "outputs": [
    {
     "name": "stdout",
     "output_type": "stream",
     "text": [
      "2\n"
     ]
    }
   ],
   "source": [
    "import math\n",
    "\n",
    "def count_perfect_squares(L, R):\n",
    "    sqrtL = math.ceil(math.sqrt(L))\n",
    "    sqrtR = math.floor(math.sqrt(R))\n",
    "\n",
    "    if sqrtL > sqrtR:\n",
    "        return -1\n",
    "    return sqrtR - sqrtL + 1\n",
    "\n",
    "L, R = map(int, input().split())\n",
    "print(count_perfect_squares(L, R))"
   ]
  },
  {
   "cell_type": "markdown",
   "metadata": {},
   "source": [
    "### **108. Given 3 numbers A,B,C find (A^B)%C.**\n",
    "\n",
    "Input Size : A,B,C <= 1000000000\n",
    "\n",
    "**Sample Testcase:**\n",
    "\n",
    "**INPUT**\n",
    "\n",
    "3 4 1000000007\n",
    "\n",
    "**OUTPUT**\n",
    "\n",
    "81"
   ]
  },
  {
   "cell_type": "code",
   "execution_count": 20,
   "metadata": {},
   "outputs": [
    {
     "name": "stdout",
     "output_type": "stream",
     "text": [
      "81\n"
     ]
    }
   ],
   "source": [
    "def modular_exponentiation(A, B, C):\n",
    "    result = 1\n",
    "    A = A % C\n",
    "    \n",
    "    while B > 0:\n",
    "        if B % 2 == 1:\n",
    "            result = (result * A) % C\n",
    "        B = B // 2\n",
    "        A = (A * A) % C    \n",
    "    return result\n",
    "\n",
    "A, B, C = map(int, input().split())\n",
    "print(modular_exponentiation(A, B, C))"
   ]
  },
  {
   "cell_type": "markdown",
   "metadata": {},
   "source": [
    "### **109. A number is given as input. Find the odd digits in the number, add them and find if the sum is odd or not. If even print E, if odd print O.**\n",
    "\n",
    "Input Size : N <= 10000000000\n",
    "\n",
    "**Sample Testcase:**\n",
    "\n",
    "**INPUT**\n",
    "\n",
    "413\n",
    "\n",
    "**OUTPUT**\n",
    "\n",
    "E"
   ]
  },
  {
   "cell_type": "code",
   "execution_count": 21,
   "metadata": {},
   "outputs": [
    {
     "name": "stdout",
     "output_type": "stream",
     "text": [
      "E\n"
     ]
    }
   ],
   "source": [
    "def sum_of_odd_digits(number):\n",
    "    odd_sum = 0\n",
    "    \n",
    "    for digit in str(number):\n",
    "        if int(digit) % 2 != 0:\n",
    "            odd_sum += int(digit)\n",
    "    \n",
    "    if odd_sum % 2 == 0:\n",
    "        return \"E\"\n",
    "    else:\n",
    "        return \"O\"\n",
    "\n",
    "number = int(input())\n",
    "print(sum_of_odd_digits(number))"
   ]
  },
  {
   "cell_type": "markdown",
   "metadata": {},
   "source": [
    "### **110. Given a string S and an integer K, print the string obtained by rotating the orignal string by K positions.**\n",
    "\n",
    "Input Size : 1 <= N, K <= 100000\n",
    "\n",
    "**Sample Testcase:**\n",
    "\n",
    "**INPUT**\n",
    "\n",
    "katacode 4\n",
    "\n",
    "**OUTPUT**\n",
    "\n",
    "codekata"
   ]
  },
  {
   "cell_type": "code",
   "execution_count": 22,
   "metadata": {},
   "outputs": [
    {
     "name": "stdout",
     "output_type": "stream",
     "text": [
      "codekata\n"
     ]
    }
   ],
   "source": [
    "def rotate_string(S, K):\n",
    "    n = len(S)\n",
    "    K = K % n\n",
    "    return S[-K:] + S[:-K]\n",
    "\n",
    "S, K = input().split()\n",
    "K = int(K)\n",
    "print(rotate_string(S, K))"
   ]
  },
  {
   "cell_type": "markdown",
   "metadata": {},
   "source": [
    "### **111. You are given an array of ‘n’ numbers.your task is to print the lcm of ‘n’ numbers.**\n",
    "\n",
    "**Input Description:**\n",
    "\n",
    "An integer ‘n’ denoting the size of array.Next line contains ‘n’ space separated numbers\n",
    "\n",
    "**Output Description:**\n",
    "\n",
    "Print the lcm\n",
    "\n",
    "**Sample Input:**\n",
    "\n",
    "4\n",
    "\n",
    "2 4 6 8\n",
    "\n",
    "**Sample Output:**\n",
    "\n",
    "24"
   ]
  },
  {
   "cell_type": "code",
   "execution_count": 23,
   "metadata": {},
   "outputs": [
    {
     "name": "stdout",
     "output_type": "stream",
     "text": [
      "24\n"
     ]
    }
   ],
   "source": [
    "import math\n",
    "from functools import reduce\n",
    "\n",
    "# LCM of two numbers\n",
    "def lcm(a, b):\n",
    "    return abs(a * b) // math.gcd(a, b)\n",
    "\n",
    "# LCM of a list of numbers\n",
    "def lcm_of_list(numbers):\n",
    "    return reduce(lcm, numbers)\n",
    "\n",
    "n = int(input())\n",
    "numbers = list(map(int, input().split()))\n",
    "result = lcm_of_list(numbers)\n",
    "print(result)"
   ]
  },
  {
   "cell_type": "markdown",
   "metadata": {},
   "source": [
    "### **112. Nishant is a short heighted person. He is standing facing N pillars of different heights with ith pillar having height hi. He tries to see all the possible pillars. He wants to know that how many buildings will he be able to see in the range.**\n",
    "\n",
    "**Input Description:**\n",
    "\n",
    "First line contains input ‘n’ denoting size of array.Next line contains n space separated numbers\n",
    "\n",
    "**Output Description:**\n",
    "\n",
    "Print the maximum towers he can see\n",
    "\n",
    "**Sample Input:**\n",
    "\n",
    "5\n",
    "\n",
    "11 5 9 6 7\n",
    "\n",
    "**Sample Output:**\n",
    "\n",
    "1"
   ]
  },
  {
   "cell_type": "code",
   "execution_count": null,
   "metadata": {},
   "outputs": [
    {
     "name": "stdout",
     "output_type": "stream",
     "text": [
      "1\n"
     ]
    }
   ],
   "source": [
    "def visible_towers(heights):\n",
    "    max_height = 0\n",
    "    visible_count = 0\n",
    "    \n",
    "    for height in heights:\n",
    "        if height > max_height:  # If the current tower is taller\n",
    "            visible_count += 1   \n",
    "            max_height = height\n",
    "    return visible_count\n",
    "\n",
    "n = int(input())\n",
    "heights = list(map(int, input().split()))\n",
    "print(visible_towers(heights))"
   ]
  },
  {
   "cell_type": "markdown",
   "metadata": {},
   "source": [
    "### **113. How many possible ways are to shuffle given number of playing cards?.**\n",
    "\n",
    "Input Size : |N| <= 1000000\n",
    "\n",
    "**Sample Testcase:**\n",
    "\n",
    "**INPUT**\n",
    "\n",
    "7\n",
    "\n",
    "**OUTPUT**\n",
    "\n",
    "5040"
   ]
  },
  {
   "cell_type": "code",
   "execution_count": 25,
   "metadata": {},
   "outputs": [
    {
     "name": "stdout",
     "output_type": "stream",
     "text": [
      "5040\n"
     ]
    }
   ],
   "source": [
    "import math\n",
    "\n",
    "N = int(input())\n",
    "if N <= 1000000:\n",
    "    result = math.factorial(N)\n",
    "    print(result)\n",
    "else:\n",
    "    print(\"Input size exceeds the limit.\")"
   ]
  },
  {
   "cell_type": "markdown",
   "metadata": {},
   "source": [
    "### **114. Given 3 angles A,B,C find if they can be interior angles of a triangle.If they form an interior triangle for the given angle,print 'yes' otherwise print 'no'.**\n",
    "\n",
    "Input Size : 0 <= A,B,C <= 180\n",
    "\n",
    "**Sample Testcase:**\n",
    "\n",
    "**INPUT**\n",
    "\n",
    "2 2 176\n",
    "\n",
    "**OUTPUT**\n",
    "\n",
    "yes"
   ]
  },
  {
   "cell_type": "code",
   "execution_count": 26,
   "metadata": {},
   "outputs": [
    {
     "name": "stdout",
     "output_type": "stream",
     "text": [
      "yes\n"
     ]
    }
   ],
   "source": [
    "def is_valid_triangle(A, B, C):\n",
    "    if A + B + C == 180 and 0 < A <= 180 and 0 < B <= 180 and 0 < C <= 180:\n",
    "        return \"yes\"\n",
    "    else:\n",
    "        return \"no\"\n",
    "\n",
    "A, B, C = map(int, input().split())\n",
    "print(is_valid_triangle(A, B, C))"
   ]
  },
  {
   "cell_type": "markdown",
   "metadata": {},
   "source": [
    "### **115. Vishal is learning to skate on ice. He's a beginner, so his only mode of transportation is pushing off from a snow drift to the north, east, south or west and sliding until he lands in another snow drift. He has noticed that in this way it's impossible to get from some snow drifts to some other by any sequence of moves. He now wants to heap up some additional snow drifts, so that he can get from any snow drift to any other one. He asked you to find the minimal number of snow drifts that need to be created. We assume that Vishal can only heap up snow drifts at integer coordinates. The first line of input contains a single integer N the number of snow drifts. Each of the following n lines contains two integers xi and yi the coordinates of the i-th snow drift. Note that the north direction coinсides with the direction of Oy axis, so the east direction coinсides with the direction of the Ox axis. All snow drift's locations are distinct.**\n",
    "\n",
    "Input Size : 1 <= N,Xi,Yi <= 1000\n",
    "\n",
    "**Sample Testcase:**\n",
    "\n",
    "**INPUT**\n",
    "\n",
    "2\n",
    "\n",
    "2 1\n",
    "\n",
    "1 2\n",
    "\n",
    "**OUTPUT**\n",
    "\n",
    "1"
   ]
  },
  {
   "cell_type": "code",
   "execution_count": 27,
   "metadata": {},
   "outputs": [
    {
     "name": "stdout",
     "output_type": "stream",
     "text": [
      "1\n"
     ]
    }
   ],
   "source": [
    "def find(parent, x):\n",
    "    if parent[x] != x:\n",
    "        parent[x] = find(parent, parent[x])\n",
    "    return parent[x]\n",
    "\n",
    "def union(parent, rank, x, y):\n",
    "    rootX = find(parent, x)\n",
    "    rootY = find(parent, y)\n",
    "    if rootX != rootY:\n",
    "        if rank[rootX] > rank[rootY]:\n",
    "            parent[rootY] = rootX\n",
    "        elif rank[rootX] < rank[rootY]:\n",
    "            parent[rootX] = rootY\n",
    "        else:\n",
    "            parent[rootY] = rootX\n",
    "            rank[rootX] += 1\n",
    "\n",
    "def minimal_additional_snow_drifts(n, coordinates):\n",
    "    parent = {i: i for i in range(n)}\n",
    "    rank = {i: 0 for i in range(n)}\n",
    "    x_map = {}\n",
    "    y_map = {}\n",
    "    for i, (x, y) in enumerate(coordinates):\n",
    "        if x in x_map:\n",
    "            union(parent, rank, i, x_map[x])\n",
    "        x_map[x] = i\n",
    "        if y in y_map:\n",
    "            union(parent, rank, i, y_map[y])\n",
    "        y_map[y] = i\n",
    "\n",
    "    components = len(set(find(parent, i) for i in range(n)))\n",
    "    return components - 1\n",
    "\n",
    "n = int(input())\n",
    "coordinates = [tuple(map(int, input().split())) for _ in range(n)]\n",
    "print(minimal_additional_snow_drifts(n, coordinates))"
   ]
  },
  {
   "cell_type": "markdown",
   "metadata": {},
   "source": [
    "### **116. Given a number N, Print sum of every didgit to the power of the weight of corresponding digit(Explanation : If the input is 12345 and then output calculated as (1^0)+(2^1)+(3^2)+(4^3)+(5^4)).**\n",
    "\n",
    "Input Size : 1 <= N <= 100000\n",
    "\n",
    "**Sample Testcase:**\n",
    "\n",
    "**INPUT**\n",
    "\n",
    "100\n",
    "\n",
    "**OUTPUT**\n",
    "\n",
    "1"
   ]
  },
  {
   "cell_type": "code",
   "execution_count": 28,
   "metadata": {},
   "outputs": [
    {
     "name": "stdout",
     "output_type": "stream",
     "text": [
      "1\n"
     ]
    }
   ],
   "source": [
    "def calculate_weighted_sum(N):\n",
    "    N_str = str(N)      \n",
    "    total_sum = 0\n",
    "    \n",
    "    for index, digit in enumerate(N_str):\n",
    "        total_sum += int(digit) ** index\n",
    "    return total_sum\n",
    "\n",
    "N = int(input())\n",
    "print(calculate_weighted_sum(N))"
   ]
  },
  {
   "cell_type": "markdown",
   "metadata": {},
   "source": [
    "### **117. You are given a sequence containing N integers. Changing a maximum of one element of the sequence will result in a geometric progression with an integer common ratio.**\n",
    "\n",
    "Your task is to print the correct geometric progression. ((Ref. https://en.wikipedia.org/wiki/Geometric_progression), N >= 4)\n",
    "\n",
    "**Input Description:**\n",
    "\n",
    "The first line contains the integer N. The next line contains N space separated integers, A[0], A[1]...A[n-1]/\n",
    "\n",
    "**Output Description:**\n",
    "\n",
    "Print N space separated integers, which are in Geometric Progression\n",
    "\n",
    "**Sample Input:**\n",
    "\n",
    "4\n",
    "\n",
    "2 3 8 16\n",
    "\n",
    "**Sample Output:**\n",
    "\n",
    "2 4 8 16"
   ]
  },
  {
   "cell_type": "code",
   "execution_count": null,
   "metadata": {},
   "outputs": [
    {
     "name": "stdout",
     "output_type": "stream",
     "text": [
      "2 4 8 16\n"
     ]
    }
   ],
   "source": [
    "def find_geometric_progression(N, A):\n",
    "    def check_gp_with_ratio(r):\n",
    "        modified = False\n",
    "        sequence = A[:]\n",
    "        for i in range(1, N):\n",
    "            if sequence[i] != sequence[i-1] * r:\n",
    "                if modified:\n",
    "                    return False\n",
    "                sequence[i] = sequence[i-1] * r\n",
    "                modified = True\n",
    "        return sequence\n",
    "    \n",
    "    for i in range(1, N):\n",
    "        if A[i-1] == 0:\n",
    "            continue\n",
    "        r = A[i] // A[i-1]\n",
    "        if A[i] == A[i-1] * r:\n",
    "            result = check_gp_with_ratio(r)\n",
    "            if result:\n",
    "                return result\n",
    "    return []\n",
    "\n",
    "N = int(input())\n",
    "A = list(map(int, input().split()))\n",
    "result = find_geometric_progression(N, A)\n",
    "if result:\n",
    "    print(\" \".join(map(str, result)))\n",
    "else:\n",
    "    print(0)"
   ]
  },
  {
   "cell_type": "markdown",
   "metadata": {},
   "source": [
    "### **118. Given a square matrix of size N x N, find the sum of the product of its diagonals.**\n",
    "\n",
    "Input Size : N <= 1000\n",
    "\n",
    "**Sample Testcase:**\n",
    "\n",
    "**INPUT**\n",
    "\n",
    "2\n",
    "\n",
    "2 4\n",
    "\n",
    "3 7\n",
    "\n",
    "**OUTPUT**\n",
    "\n",
    "26"
   ]
  },
  {
   "cell_type": "code",
   "execution_count": null,
   "metadata": {},
   "outputs": [
    {
     "name": "stdout",
     "output_type": "stream",
     "text": [
      "26\n"
     ]
    }
   ],
   "source": [
    "def diagonal_product_sum(matrix, N):\n",
    "    primary_product = 1\n",
    "    secondary_product = 1\n",
    "    for i in range(N):\n",
    "        primary_product *= matrix[i][i]\n",
    "        secondary_product *= matrix[i][N-i-1]\n",
    "    return primary_product + secondary_product\n",
    "\n",
    "N = int(input())\n",
    "matrix = []\n",
    "\n",
    "for _ in range(N):\n",
    "    row = list(map(int, input().split()))\n",
    "    matrix.append(row)\n",
    "result = diagonal_product_sum(matrix, N)\n",
    "print(result)"
   ]
  },
  {
   "cell_type": "markdown",
   "metadata": {},
   "source": [
    "### **119. Given a number N, print the sum of the squares of its digits.**\n",
    "\n",
    "Input Size : 1 <= N <= 1000000000000000000\n",
    "\n",
    "**Sample Testcase:**\n",
    "\n",
    "**INPUT**\n",
    "\n",
    "19\n",
    "\n",
    "**OUTPUT**\n",
    "\n",
    "82"
   ]
  },
  {
   "cell_type": "code",
   "execution_count": null,
   "metadata": {},
   "outputs": [
    {
     "name": "stdout",
     "output_type": "stream",
     "text": [
      "82\n"
     ]
    }
   ],
   "source": [
    "def sum_of_squares_of_digits(N):\n",
    "    N_str = str(N)\n",
    "    sum_squares = 0\n",
    "    \n",
    "    for digit in N_str:\n",
    "        sum_squares += int(digit) ** 2\n",
    "    return sum_squares\n",
    "\n",
    "input_number = int(input())\n",
    "result = sum_of_squares_of_digits(input_number)\n",
    "print(result)"
   ]
  },
  {
   "cell_type": "markdown",
   "metadata": {},
   "source": [
    "### **120. Given a number N, print 'INT' if it is integer range or print 'LONG' if it is greater.**\n",
    "\n",
    "Input Size : 1 <= N <= 100000\n",
    "\n",
    "**Sample Testcase:**\n",
    "\n",
    "**INPUT**\n",
    "\n",
    "999\n",
    "\n",
    "**OUTPUT**\n",
    "\n",
    "INT"
   ]
  },
  {
   "cell_type": "code",
   "execution_count": 32,
   "metadata": {},
   "outputs": [
    {
     "name": "stdout",
     "output_type": "stream",
     "text": [
      "INT\n"
     ]
    }
   ],
   "source": [
    "def check_integer_range(N):\n",
    "    INT_MIN = -2147483648\n",
    "    INT_MAX = 2147483647\n",
    "    \n",
    "    if INT_MIN <= N <= INT_MAX:\n",
    "        print(\"INT\")\n",
    "    else:\n",
    "        print(\"LONG\")\n",
    "\n",
    "N = int(input())\n",
    "check_integer_range(N)"
   ]
  },
  {
   "cell_type": "markdown",
   "metadata": {},
   "source": [
    "### **121. Given a number N, check if N is divisible by any number less than N (ie.,it leaves no remainder)except 1.**\n",
    "\n",
    "Input Size : 1 <= N <= 100000\n",
    "\n",
    "**Sample Testcase:**\n",
    "\n",
    "**INPUT**\n",
    "\n",
    "10\n",
    "\n",
    "**OUTPUT**\n",
    "\n",
    "yes"
   ]
  },
  {
   "cell_type": "code",
   "execution_count": 33,
   "metadata": {},
   "outputs": [
    {
     "name": "stdout",
     "output_type": "stream",
     "text": [
      "yes\n"
     ]
    }
   ],
   "source": [
    "import math\n",
    "\n",
    "def check_divisibility(N):\n",
    "    for i in range(2, int(math.sqrt(N)) + 1):\n",
    "        if N % i == 0:\n",
    "            print(\"yes\")\n",
    "            return\n",
    "    print(\"no\")\n",
    "\n",
    "N = int(input())\n",
    "check_divisibility(N)"
   ]
  },
  {
   "cell_type": "markdown",
   "metadata": {},
   "source": [
    "### **122. The potential energy of a ball of mass m placed at height h is given by U = m.g.h. (m - mass, g - acceleration due to gravity). The acceleration due to gravity of K planets is given to you. Answer Q queries of the form, U P h - U denotes the potential energy of a ball placed at height h on planet P. Answer each query by printing the mass of the ball used.**\n",
    "\n",
    "**Input Description:**\n",
    "\n",
    "The first line contains an integer K denoting the number of planets. The next K lines contains the name of the planet and it's acceleration due to gravity, separated by a space. The next line contains an integer Q denoting the number of queries. The next Q lines contains a query as specified in the question.\n",
    "\n",
    "**Output Description:**\n",
    "\n",
    "Print Q lines denoting the mass of the ball used in each query. Round off the mass to two decimal places.\n",
    "\n",
    "**Sample Input:**\n",
    "\n",
    "2\n",
    "\n",
    "earth 10\n",
    "\n",
    "venus 20\n",
    "\n",
    "1\n",
    "\n",
    "200 earth 6\n",
    "\n",
    "**Sample Output:**\n",
    "\n",
    "3.33"
   ]
  },
  {
   "cell_type": "code",
   "execution_count": 35,
   "metadata": {},
   "outputs": [
    {
     "name": "stdout",
     "output_type": "stream",
     "text": [
      "3.33\n"
     ]
    }
   ],
   "source": [
    "K = int(input())\n",
    "planet_gravity = {}\n",
    "\n",
    "for _ in range(K):\n",
    "    planet, gravity = input().split()\n",
    "    planet_gravity[planet] = float(gravity)\n",
    "\n",
    "Q = int(input())\n",
    "\n",
    "results = []\n",
    "\n",
    "for _ in range(Q):\n",
    "    U, planet, h = input().split()\n",
    "    U, h = float(U), float(h)\n",
    "    g = planet_gravity[planet]\n",
    "    mass = U / (g * h)\n",
    "    mass = round(mass, 2)\n",
    "    results.append(f\"{mass:.2f}\")\n",
    "\n",
    "print(\"\\n\".join(results))"
   ]
  },
  {
   "cell_type": "markdown",
   "metadata": {},
   "source": [
    "### **123. Given a range[L,R], print the sum of all the odd numbers within the range(inclusive of L and R).**\n",
    "\n",
    "**Sample Testcase:**\n",
    "\n",
    "**INPUT**\n",
    "\n",
    "5 10\n",
    "\n",
    "**OUTPUT**\n",
    "\n",
    "21"
   ]
  },
  {
   "cell_type": "code",
   "execution_count": null,
   "metadata": {},
   "outputs": [
    {
     "name": "stdout",
     "output_type": "stream",
     "text": [
      "21\n"
     ]
    }
   ],
   "source": [
    "def sum_of_odds(L, R):\n",
    "    if L % 2 == 0:     # Find the first odd number\n",
    "        L += 1\n",
    "    if R % 2 == 0:     # Find the last odd number\n",
    "        R -= 1\n",
    "    if L > R:         # If there are no odd numbers in the range\n",
    "        return 0\n",
    "    return (((R - L) // 2) + 1) * (L + R) // 2  # Sum of odd numbers\n",
    "\n",
    "L, R = map(int, input().split())\n",
    "print(sum_of_odds(L, R))"
   ]
  },
  {
   "cell_type": "markdown",
   "metadata": {},
   "source": [
    "### **124. There is a business analysis company named “AJ”. It hired two interns “A” and “B”. Both of them are given tasks to sell product in n days. The one who will sell more share will get the job. As A and B are good friends they decided that they will equalize the collected money, they are only allowed to swap more than one day’s share to make the total of each same. Your task is to help them.**\n",
    "\n",
    "**Constraints**\n",
    "\n",
    "1<=N,a[i],b[i]<=50\n",
    "\n",
    "**Input Description:**\n",
    "\n",
    "First line contains no of days. Next line contains the n space separated integers representing sale of A. Next line contains Space separated integers representing sale of B.\n",
    "\n",
    "**Output Description:**\n",
    "\n",
    "Print “yes” if it is possible by one one swap. Else no\n",
    "\n",
    "**Sample Input:**\n",
    "\n",
    "4 \n",
    "\n",
    "5 7 4 6\n",
    "\n",
    "1 2 3 8\n",
    "\n",
    "**Sample Output:**\n",
    "\n",
    "yes"
   ]
  },
  {
   "cell_type": "code",
   "execution_count": 37,
   "metadata": {},
   "outputs": [
    {
     "name": "stdout",
     "output_type": "stream",
     "text": [
      "yes\n"
     ]
    }
   ],
   "source": [
    "def can_equalize_sales(n, sales_a, sales_b):\n",
    "    sum_a = sum(sales_a)\n",
    "    sum_b = sum(sales_b)\n",
    "    diff = sum_a - sum_b\n",
    "\n",
    "\n",
    "    if diff == 0:\n",
    "        return \"yes\"\n",
    "        \n",
    "    set_a = set(sales_a)\n",
    "    set_b = set(sales_b)\n",
    "    for a in set_a:\n",
    "        for b in set_b:\n",
    "            new_sum_a = sum_a - a + b\n",
    "            new_sum_b = sum_b - b + a\n",
    "            if new_sum_a == new_sum_b:\n",
    "                return \"yes\"\n",
    "    return \"no\"\n",
    "\n",
    "n = int(input())\n",
    "sales_a = list(map(int, input().split()))\n",
    "sales_b = list(map(int, input().split()))\n",
    "print(can_equalize_sales(n, sales_a, sales_b))"
   ]
  },
  {
   "cell_type": "markdown",
   "metadata": {},
   "source": [
    "### **125. Given a square matrix of size N x N, find the product of the sum of diagonals.**\n",
    "\n",
    "Input Size : N <= 1000\n",
    "\n",
    "**Sample Testcase:**\n",
    "\n",
    "**INPUT**\n",
    "\n",
    "2\n",
    "\n",
    "2 4\n",
    "\n",
    "3 7\n",
    "\n",
    "**OUTPUT**\n",
    "\n",
    "63"
   ]
  },
  {
   "cell_type": "code",
   "execution_count": 38,
   "metadata": {},
   "outputs": [
    {
     "name": "stdout",
     "output_type": "stream",
     "text": [
      "63\n"
     ]
    }
   ],
   "source": [
    "def diagonal_product(matrix, N):\n",
    "    primary_diagonal_sum = 0\n",
    "    secondary_diagonal_sum = 0\n",
    "    \n",
    "    for i in range(N):\n",
    "        primary_diagonal_sum += matrix[i][i]\n",
    "        secondary_diagonal_sum += matrix[i][N-i-1]\n",
    "    return primary_diagonal_sum * secondary_diagonal_sum\n",
    "\n",
    "N = int(input())\n",
    "matrix = [list(map(int, input().split())) for _ in range(N)]\n",
    "result = diagonal_product(matrix, N)\n",
    "print(result)"
   ]
  },
  {
   "cell_type": "markdown",
   "metadata": {},
   "source": [
    "### **126. Rahul was learning about numbers in list. He came across one word ground of a number. A ground of a number is defined as the number which is just smaller or equal to the number given to you.Hence he started solving some assignments related to it. He got struck in some questions. Your task is to help him.**\n",
    "\n",
    "O(n) time complexity\n",
    "\n",
    "O(n) Auxilary space\n",
    "\n",
    "**Input Description:**\n",
    "\n",
    "First line contains two numbers ‘n’ denoting number of integers and ‘k’ whose ground is to be check. Next line contains n space separated numbers.\n",
    "\n",
    "**Output Description:**\n",
    "\n",
    "Print the index of val.Print -1 if equal or near exqual number\n",
    "\n",
    "**Sample Input:**\n",
    "\n",
    "7 3\n",
    "\n",
    "1 2 3 4 5 6 7\n",
    "\n",
    "**Sample Output:**\n",
    "\n",
    "2"
   ]
  },
  {
   "cell_type": "code",
   "execution_count": 39,
   "metadata": {},
   "outputs": [
    {
     "name": "stdout",
     "output_type": "stream",
     "text": [
      "2\n"
     ]
    }
   ],
   "source": [
    "def find_ground_index(arr, k):\n",
    "    ground_index = -1\n",
    "    ground_value = float('-inf')\n",
    "    \n",
    "    for i in range(len(arr)):\n",
    "        if arr[i] <= k and arr[i] > ground_value:\n",
    "            ground_value = arr[i]\n",
    "            ground_index = i\n",
    "    return ground_index\n",
    "\n",
    "def main():\n",
    "    n, k = map(int, input().split())\n",
    "    arr = list(map(int, input().split()))\n",
    "    result = find_ground_index(arr, k)\n",
    "    print(result)\n",
    "\n",
    "if __name__ == \"__main__\":\n",
    "    main()"
   ]
  },
  {
   "cell_type": "markdown",
   "metadata": {},
   "source": [
    "### **127. Given 2 numbers, perform bitwise xor and find the number of ones in its binary representation.**\n",
    "\n",
    "**Sample Testcase:**\n",
    "\n",
    "**INPUT**\n",
    "\n",
    "10 5\n",
    "\n",
    "**OUTPUT**\n",
    "\n",
    "4"
   ]
  },
  {
   "cell_type": "code",
   "execution_count": 40,
   "metadata": {},
   "outputs": [
    {
     "name": "stdout",
     "output_type": "stream",
     "text": [
      "4\n"
     ]
    }
   ],
   "source": [
    "def count_ones_in_xor(a, b):\n",
    "    xor_result = a ^ b\n",
    "    return bin(xor_result).count('1')\n",
    "\n",
    "a, b = map(int, input().split())\n",
    "result = count_ones_in_xor(a, b)\n",
    "print(result)"
   ]
  },
  {
   "cell_type": "markdown",
   "metadata": {},
   "source": [
    "### **128. Given a number N, print the even factors of N.If the even factor does not exists for N print '-1'.**\n",
    "\n",
    "Input Size : 1 <= N <= 1000\n",
    "\n",
    "**Sample Testcase:**\n",
    "\n",
    "**INPUT**\n",
    "\n",
    "8\n",
    "\n",
    "**OUTPUT**\n",
    "\n",
    "2 4 8"
   ]
  },
  {
   "cell_type": "code",
   "execution_count": 41,
   "metadata": {},
   "outputs": [
    {
     "name": "stdout",
     "output_type": "stream",
     "text": [
      "2 4 8\n"
     ]
    }
   ],
   "source": [
    "def find_even_factors(N):\n",
    "    even_factors = [i for i in range(2, N + 1, 2) if N % i == 0]\n",
    "    if even_factors:\n",
    "        print(\" \".join(map(str, even_factors)))\n",
    "    else:\n",
    "        print(\"-1\")\n",
    "\n",
    "N = int(input())\n",
    "find_even_factors(N)"
   ]
  },
  {
   "cell_type": "markdown",
   "metadata": {},
   "source": [
    "### **129. You are given an integer N, find if the number is divisible by 4.**\n",
    "\n",
    "N >= 1\n",
    "\n",
    "1 <= No. of digits in N <= 1000\n",
    "\n",
    "**Input Description:**\n",
    "\n",
    "Read an integer N\n",
    "\n",
    "**Output Description:**\n",
    "\n",
    "Print YES if N is divisible by 4, NO otherwise.\n",
    "\n",
    "**Sample Input:**\n",
    "\n",
    "64\n",
    "\n",
    "**Sample Output:**\n",
    "\n",
    "YES"
   ]
  },
  {
   "cell_type": "code",
   "execution_count": 42,
   "metadata": {},
   "outputs": [
    {
     "name": "stdout",
     "output_type": "stream",
     "text": [
      "YES\n"
     ]
    }
   ],
   "source": [
    "def is_divisible_by_4(n):\n",
    "    last_two_digits = int(str(n)[-2:])\n",
    "    if last_two_digits % 4 == 0:\n",
    "        return \"YES\"\n",
    "    else:\n",
    "        return \"NO\"\n",
    "\n",
    "n = int(input())\n",
    "print(is_divisible_by_4(n))"
   ]
  },
  {
   "cell_type": "markdown",
   "metadata": {},
   "source": [
    "### **130. Given a number N, find the smallest number which is greater than N with the same digits in N. If N is the greatest digit print 'impossible'.**\n",
    "\n",
    "Input Size : 1 <= N <= 1000000000000000000\n",
    "\n",
    "**Sample Testcases:**\n",
    "\n",
    "**INPUT**\n",
    "\n",
    "123\n",
    "\n",
    "**OUTPUT**\n",
    "\n",
    "132"
   ]
  },
  {
   "cell_type": "code",
   "execution_count": 43,
   "metadata": {},
   "outputs": [
    {
     "name": "stdout",
     "output_type": "stream",
     "text": [
      "132\n"
     ]
    }
   ],
   "source": [
    "def next_greater_number(n):\n",
    "    digits = list(str(n))\n",
    "    length = len(digits)\n",
    "    \n",
    "    i = length - 2\n",
    "    while i >= 0 and digits[i] >= digits[i + 1]:\n",
    "        i -= 1\n",
    "    if i == -1:\n",
    "        return \"impossible\"\n",
    "    j = length - 1\n",
    "    while digits[j] <= digits[i]:\n",
    "        j -= 1\n",
    "    \n",
    "    digits[i], digits[j] = digits[j], digits[i]\n",
    "    digits = digits[:i + 1] + digits[i + 1:][::-1]\n",
    "    return int(\"\".join(digits))\n",
    "\n",
    "n = int(input().strip())\n",
    "print(next_greater_number(n))"
   ]
  },
  {
   "cell_type": "markdown",
   "metadata": {},
   "source": [
    "### **131. Given a number N in decimal, print the length of the corresponding binary digit.**\n",
    "\n",
    "Input Size : 1 <= N <= 100000\n",
    "\n",
    "**Sample Testcase:**\n",
    "\n",
    "**INPUT**\n",
    "\n",
    "10\n",
    "\n",
    "**OUTPUT**\n",
    "\n",
    "4"
   ]
  },
  {
   "cell_type": "code",
   "execution_count": null,
   "metadata": {},
   "outputs": [
    {
     "name": "stdout",
     "output_type": "stream",
     "text": [
      "4\n"
     ]
    }
   ],
   "source": [
    "def binary_length(N):\n",
    "    # Convert the number to binary and exclude the '0b' prefix\n",
    "    return len(bin(N)) - 2\n",
    "\n",
    "N = int(input())\n",
    "print(binary_length(N))"
   ]
  },
  {
   "cell_type": "markdown",
   "metadata": {},
   "source": [
    "### **132. Rampal is a number in which the sum of last two digits of that number is multiple of 4.Your teacher has given you the task to make a list of rampal numbers.Your task is to tell whether the number is rampal or not.**\n",
    "\n",
    "Note : if the number is negative than rampal is a number which has sum of first and last digit as multiple of 4  \n",
    "\n",
    "**Input Description:**\n",
    "\n",
    "First line contains an input n\n",
    "\n",
    "**Output Description:**\n",
    "\n",
    "Print yes or no\n",
    "\n",
    "**Sample Input:**\n",
    "\n",
    "20\n",
    "\n",
    "**Sample Output:**\n",
    "\n",
    "no"
   ]
  },
  {
   "cell_type": "code",
   "execution_count": 45,
   "metadata": {},
   "outputs": [
    {
     "name": "stdout",
     "output_type": "stream",
     "text": [
      "no\n"
     ]
    }
   ],
   "source": [
    "def is_rampal_number(n):\n",
    "    if n >= 0:\n",
    "        last_digit = n % 10\n",
    "        second_last_digit = (n // 10) % 10\n",
    "        sum_digits = last_digit + second_last_digit\n",
    "    else:\n",
    "        n = abs(n)\n",
    "        last_digit = n % 10\n",
    "        first_digit = int(str(n)[0])\n",
    "        sum_digits = last_digit + first_digit\n",
    "    \n",
    "    if sum_digits % 4 == 0:\n",
    "        return \"yes\"\n",
    "    else:\n",
    "        return \"no\"\n",
    "        \n",
    "n = int(input())\n",
    "print(is_rampal_number(n))"
   ]
  },
  {
   "cell_type": "markdown",
   "metadata": {},
   "source": [
    "### **133. Given a number N, and a N*N matrix containing only 0's and 1's, where 0's represent water and 1's representing land, find the number of island 1's(1 surrounded by 0 on all of its adjacent sides).If the island could not be found with the given matrix print -1.**\n",
    "\n",
    "Input Size : 1 <= N <= 1000\n",
    "\n",
    "**Sample Testcase:**\n",
    "\n",
    "**INPUT**\n",
    "\n",
    "3\n",
    "\n",
    "1 1 0\n",
    "\n",
    "0 0 0\n",
    "\n",
    "0 1 0\n",
    "\n",
    "**OUTPUT**\n",
    "\n",
    "1"
   ]
  },
  {
   "cell_type": "code",
   "execution_count": 46,
   "metadata": {},
   "outputs": [
    {
     "name": "stdout",
     "output_type": "stream",
     "text": [
      "1\n"
     ]
    }
   ],
   "source": [
    "def count_island_ones(matrix, n):\n",
    "    def is_island(i, j):\n",
    "        directions = [(-1, 0), (1, 0), (0, -1), (0, 1)]\n",
    "        for dx, dy in directions:\n",
    "            ni, nj = i + dx, j + dy\n",
    "\n",
    "            if 0 <= ni < n and 0 <= nj < n and matrix[ni][nj] == 1:\n",
    "                return False\n",
    "        return True\n",
    "\n",
    "    island_count = 0\n",
    "    for i in range(n):\n",
    "        for j in range(n):\n",
    "            if matrix[i][j] == 1 and is_island(i, j):\n",
    "                island_count += 1    \n",
    "    return island_count if island_count > 0 else -1\n",
    "\n",
    "n = int(input())\n",
    "matrix = []\n",
    "for _ in range(n):\n",
    "    row = list(map(int, input().split()))\n",
    "    matrix.append(row)\n",
    "print(count_island_ones(matrix, n))"
   ]
  },
  {
   "cell_type": "markdown",
   "metadata": {},
   "source": [
    "### **134. Given a number N, check if the sum of the digits is a Palindrome. Print 'yes' or 'no' accordingly.**\n",
    "\n",
    "Input Size : 2 <= N <= 1000000000000000000\n",
    "\n",
    "**Sample Testcases:**\n",
    "\n",
    "**INPUT**\n",
    "\n",
    "13\n",
    "\n",
    "**OUTPUT**\n",
    "\n",
    "yes"
   ]
  },
  {
   "cell_type": "code",
   "execution_count": 47,
   "metadata": {},
   "outputs": [
    {
     "name": "stdout",
     "output_type": "stream",
     "text": [
      "yes\n"
     ]
    }
   ],
   "source": [
    "def is_palindrome(num):\n",
    "    str_num = str(num)\n",
    "    return str_num == str_num[::-1]\n",
    "\n",
    "N = int(input())\n",
    "digit_sum = sum(map(int, str(N)))\n",
    "if is_palindrome(digit_sum):\n",
    "    print(\"yes\")\n",
    "else:\n",
    "    print(\"no\")"
   ]
  },
  {
   "cell_type": "markdown",
   "metadata": {},
   "source": [
    "### **135. Given a number N print the right-angled triangle with the top level having N 1's followed by each level with is one 1 lesser.**\n",
    "\n",
    "Input Size : N <= 1000\n",
    "\n",
    "**Sample Testcase:**\n",
    "\n",
    "**INPUT**\n",
    "\n",
    "3\n",
    "\n",
    "**OUTPUT**\n",
    "\n",
    "1 1 1\n",
    "\n",
    "1 1\n",
    "\n",
    "1"
   ]
  },
  {
   "cell_type": "code",
   "execution_count": 48,
   "metadata": {},
   "outputs": [
    {
     "name": "stdout",
     "output_type": "stream",
     "text": [
      "1 1 1\n",
      "1 1\n",
      "1\n"
     ]
    }
   ],
   "source": [
    "def print_triangle(N):\n",
    "    for i in range(N, 0, -1):\n",
    "        print(' '.join(['1'] * i))\n",
    "\n",
    "N = int(input())\n",
    "print_triangle(N)"
   ]
  },
  {
   "cell_type": "markdown",
   "metadata": {},
   "source": [
    "### **136. Given a limit N followed by N numbers, find the number of pairs such ai + aj = ak for all i < j < k.**\n",
    "\n",
    "Input Size : 3 <= N <= 1000\n",
    "\n",
    "**Sample Testcase:**\n",
    "\n",
    "**INPUT**\n",
    "\n",
    "5\n",
    "\n",
    "1 4 2 3 5\n",
    "\n",
    "**OUTPUT**\n",
    "\n",
    "3"
   ]
  },
  {
   "cell_type": "code",
   "execution_count": 49,
   "metadata": {},
   "outputs": [
    {
     "name": "stdout",
     "output_type": "stream",
     "text": [
      "3\n"
     ]
    }
   ],
   "source": [
    "def count_triplets(arr, N):\n",
    "    count = 0\n",
    "    for j in range(1, N - 1):\n",
    "        elements_after_j = set(arr[j + 1:])\n",
    "        \n",
    "        for i in range(j):\n",
    "            target_sum = arr[i] + arr[j]\n",
    "            if target_sum in elements_after_j:\n",
    "                count += 1\n",
    "    return count\n",
    "\n",
    "N = int(input())\n",
    "arr = list(map(int, input().split()))\n",
    "result = count_triplets(arr, N)\n",
    "print(result)"
   ]
  },
  {
   "cell_type": "markdown",
   "metadata": {},
   "source": [
    "### **137. You are given with an array. Your task is to print the left rotated array after k opearations.**\n",
    "\n",
    "Time:O(n)\n",
    "\n",
    "Extra Space: O(1)\n",
    "\n",
    "**Input Description:**\n",
    "\n",
    "First line contains two number ‘n’ and ‘k’.Next line contains n space separated numbers.\n",
    "\n",
    "**Output Description:**\n",
    "\n",
    "Print the array as mentioned.\n",
    "\n",
    "**Sample Input:**\n",
    "\n",
    "7 3\n",
    "\n",
    "1 2 3 4 5 6 7\n",
    "\n",
    "**Sample Output:**\n",
    "\n",
    "4 5 6 7 1 2 3"
   ]
  },
  {
   "cell_type": "code",
   "execution_count": 50,
   "metadata": {},
   "outputs": [
    {
     "name": "stdout",
     "output_type": "stream",
     "text": [
      "4 5 6 7 1 2 3\n"
     ]
    }
   ],
   "source": [
    "def left_rotate_array(n, k, arr):\n",
    "    k = k % n\n",
    "    rotated_array = arr[k:] + arr[:k]\n",
    "    print(\" \".join(map(str, rotated_array)))\n",
    "\n",
    "n, k = map(int, input().split())\n",
    "arr = list(map(int, input().split()))\n",
    "left_rotate_array(n, k, arr)"
   ]
  },
  {
   "cell_type": "markdown",
   "metadata": {},
   "source": [
    "### **138. Given 2 strings S,X. Print 'yes' if their lengths are co-prime otherwise print 'no'.**\n",
    "\n",
    "Input Size : 1 <= |s|, |x| <= 100000\n",
    "\n",
    "**Sample Testcase:**\n",
    "\n",
    "**INPUT**\n",
    "\n",
    "GUVIS GEEKTEC\n",
    "\n",
    "**OUTPUT**\n",
    "\n",
    "yes"
   ]
  },
  {
   "cell_type": "code",
   "execution_count": 51,
   "metadata": {},
   "outputs": [
    {
     "name": "stdout",
     "output_type": "stream",
     "text": [
      "yes\n"
     ]
    }
   ],
   "source": [
    "import math\n",
    "\n",
    "def are_lengths_coprime():\n",
    "    s, x = input().split()\n",
    "    \n",
    "    len_s = len(s)\n",
    "    len_x = len(x)\n",
    "    \n",
    "    if math.gcd(len_s, len_x) == 1:\n",
    "        print(\"yes\")\n",
    "    else:\n",
    "        print(\"no\")\n",
    "\n",
    "are_lengths_coprime()"
   ]
  },
  {
   "cell_type": "markdown",
   "metadata": {},
   "source": [
    "### **139. The Caesar Cipher technique is one of the earliest and simplest method of encryption technique. It’s simply a type of substitution cipher, i.e., each letter of a given text is replaced by a letter some fixed number of positions down the alphabet. For example with a shift of 1, A would be replaced by B, B would become C, and so on. The method is apparently named after Julius Caesar, who apparently used it to communicate with his officials.For the given input string(S) and shift print the encrypted string.**\n",
    "\n",
    "**Sample Testcase:**\n",
    "\n",
    "**INPUT**\n",
    "\n",
    "ABCdEFGHIJKLMNOPQRSTUVWXYz 23\n",
    "\n",
    "**OUTPUT**\n",
    "\n",
    "XYZaBCDEFGHIJKLMNOPQRSTUVw"
   ]
  },
  {
   "cell_type": "code",
   "execution_count": 52,
   "metadata": {},
   "outputs": [
    {
     "name": "stdout",
     "output_type": "stream",
     "text": [
      "XYZaBCDEFGHIJKLMNOPQRSTUVw\n"
     ]
    }
   ],
   "source": [
    "def caesar_cipher(text, shift):\n",
    "    result = \"\"\n",
    "    \n",
    "    for char in text:\n",
    "        if char.isupper():\n",
    "            result += chr((ord(char) - 65 + shift) % 26 + 65)\n",
    "        elif char.islower():\n",
    "            result += chr((ord(char) - 97 + shift) % 26 + 97)\n",
    "        else:\n",
    "            result += char\n",
    "    return result\n",
    "\n",
    "input_data = input()\n",
    "input_string, shift = input_data.rsplit(' ', 1)\n",
    "shift = int(shift)\n",
    "\n",
    "encrypted_string = caesar_cipher(input_string, shift)\n",
    "print(encrypted_string)"
   ]
  },
  {
   "cell_type": "markdown",
   "metadata": {},
   "source": [
    "### **140. You will be given an integer. Your task is to find the factorial of that big integer.**\n",
    "\n",
    "**Input Description:**\n",
    "\n",
    "You are given an integer\n",
    "\n",
    "**Output Description:**\n",
    "\n",
    "Print the factorial of that number\n",
    "\n",
    "**Sample Input:**\n",
    "\n",
    "100\n",
    "\n",
    "**Sample Output:**\n",
    "\n",
    "93326215443944152681699238856266700490715968264381621468592963895217599993229915608941463976156518286253697920827223758251185210916864000000000000000000000000"
   ]
  },
  {
   "cell_type": "code",
   "execution_count": 53,
   "metadata": {},
   "outputs": [
    {
     "name": "stdout",
     "output_type": "stream",
     "text": [
      "93326215443944152681699238856266700490715968264381621468592963895217599993229915608941463976156518286253697920827223758251185210916864000000000000000000000000\n"
     ]
    }
   ],
   "source": [
    "import math\n",
    "\n",
    "n = int(input())\n",
    "result = math.factorial(n)\n",
    "print(result)"
   ]
  },
  {
   "cell_type": "markdown",
   "metadata": {},
   "source": [
    "### **141. Given an amount A(integer) find the number of currency notes required to make the amount up in the most optimal way. The available denominations are 1000,500,100,50,10,1. The question is set in PRE-DEMONITISATION era so 1000 rupee notes are available :)**\n",
    "eg: rs 689 (* currency notes are 500,100,50,10,1 )\n",
    "500+100+50+(3*10)+(9*1)\n",
    "count = 15\n",
    "\n",
    "Input Size : N <= 100000000\n",
    "\n",
    "**Sample Testcase:**\n",
    "\n",
    "**INPUT**\n",
    "\n",
    "689\n",
    "\n",
    "**OUTPUT**\n",
    "\n",
    "15"
   ]
  },
  {
   "cell_type": "code",
   "execution_count": 54,
   "metadata": {},
   "outputs": [
    {
     "name": "stdout",
     "output_type": "stream",
     "text": [
      "15\n"
     ]
    }
   ],
   "source": [
    "def count_currency_notes(amount):\n",
    "    denominations = [1000, 500, 100, 50, 10, 1]\n",
    "    count = 0\n",
    "    \n",
    "    for denom in denominations:\n",
    "        count += amount // denom\n",
    "        amount %= denom\n",
    "    return count\n",
    "\n",
    "amount = int(input())\n",
    "print(count_currency_notes(amount))"
   ]
  },
  {
   "cell_type": "markdown",
   "metadata": {},
   "source": [
    "### **142. The interest rates of two banks A and B vary. You have received offers from both bank in terms of annual rate of interest, tenure and variations of rate of interest over the entire tenure.**\n",
    "\n",
    "You have to choose the offer which costs you least interest and reject the other.\n",
    "\n",
    "The loan repayment happens at a monthly frequency and Equated Monthly Installment (EMI) is calculated using the formula given below :\n",
    "\n",
    "EMI = loanAmount * monthlyInterestRate /\n",
    "\n",
    "( 1 - 1 / (1 + monthlyInterestRate)^(numberOfYears * 12))\n",
    "\n",
    "**Input Description:**\n",
    "\n",
    "First line : P – principal amount (Loan Amount) Second line : T – Total Tenure (in years). Third Line : N1 is number of slabs of interest rates for a given period T by Bank A. First slab starts from first year and second slab starts from end of first slab and so on. Next, there will be N1 lines of input containing interest rate and their period seperated by a single space. After N1 lines, we will receive N2 which will be the number of slabs offered by Bank B. Next N2 lines are number of slabs of interest rates for a given period by Bank B. First slab starts from first year and second slab starts from end of first slab and so on. The period and rate will be delimited by single white space.\n",
    "\n",
    "**Output Description:**\n",
    "\n",
    "Print 'Bank A' or 'Bank B' based on the factor which cost you the least interest amount.\n",
    "\n",
    "**Sample Input:**\n",
    "\n",
    "10000\n",
    "\n",
    "20\n",
    "\n",
    "3\n",
    "\n",
    "5 9.5\n",
    "\n",
    "10 9.6\n",
    "\n",
    "5 8.5\n",
    "\n",
    "3\n",
    "\n",
    "10 6.9\n",
    "\n",
    "5 8.5\n",
    "\n",
    "5 7.9\n",
    "\n",
    "**Sample Output:**\n",
    "\n",
    "Bank B"
   ]
  },
  {
   "cell_type": "code",
   "execution_count": 55,
   "metadata": {},
   "outputs": [
    {
     "name": "stdout",
     "output_type": "stream",
     "text": [
      "Bank B\n"
     ]
    }
   ],
   "source": [
    "bank = []\n",
    "principal = int(input())\n",
    "year = int(input())\n",
    "for i in range(0, 2):\n",
    "    installments = int(input())\n",
    "    sum = 0\n",
    "    for i in range(0, installments):\n",
    "        time, roi = [float(i) for i in input().split()]\n",
    "        square = pow((1+roi), time*12)\n",
    "        emi = (principal*(roi)/(1-1/square))\n",
    "        sum = sum + emi\n",
    "    bank.append(sum)\n",
    "if bank[0] < bank[1]:\n",
    "    print(\"Bank A\")\n",
    "else:\n",
    "    print(\"Bank B\")"
   ]
  },
  {
   "cell_type": "code",
   "execution_count": 57,
   "metadata": {},
   "outputs": [
    {
     "name": "stdout",
     "output_type": "stream",
     "text": [
      "Period: 5.0 years, Rate: 9.5% -> EMI: 21.00, Total Payment for Slab: 1260.11\n",
      "Period: 10.0 years, Rate: 9.6% -> EMI: 12.99, Total Payment for Slab: 1559.35\n",
      "Period: 5.0 years, Rate: 8.5% -> EMI: 20.52, Total Payment for Slab: 1230.99\n",
      "Period: 10.0 years, Rate: 6.9% -> EMI: 11.56, Total Payment for Slab: 1387.12\n",
      "Period: 5.0 years, Rate: 8.5% -> EMI: 20.52, Total Payment for Slab: 1230.99\n",
      "Period: 5.0 years, Rate: 7.9% -> EMI: 20.23, Total Payment for Slab: 1213.71\n",
      "Total Payment for Bank A: 4050.45\n",
      "Total Payment for Bank B: 3831.83\n",
      "Bank B\n"
     ]
    }
   ],
   "source": [
    "import math\n",
    "\n",
    "def calculate_total_payment(principal, slabs):\n",
    "    total_payment = 0\n",
    "    for period, rate in slabs:\n",
    "        monthly_interest_rate = (rate / 100) / 12\n",
    "        months = period * 12\n",
    "        if monthly_interest_rate == 0:\n",
    "            EMI = principal / months\n",
    "        else:\n",
    "            EMI = (principal * monthly_interest_rate) / (1 - (1 + monthly_interest_rate) ** (-months))\n",
    "        total_payment_for_slab = EMI * months\n",
    "        total_payment += total_payment_for_slab\n",
    "        print(f\"Period: {period} years, Rate: {rate}% -> EMI: {EMI:.2f}, Total Payment for Slab: {total_payment_for_slab:.2f}\")    \n",
    "    return total_payment\n",
    "\n",
    "P = int(input())\n",
    "T = int(input())\n",
    "N1 = int(input())\n",
    "slabs_A = [tuple(map(float, input().split())) for _ in range(N1)]\n",
    "N2 = int(input())\n",
    "slabs_B = [tuple(map(float, input().split())) for _ in range(N2)]\n",
    "total_payment_A = calculate_total_payment(P, slabs_A)\n",
    "total_payment_B = calculate_total_payment(P, slabs_B)\n",
    "print(f\"Total Payment for Bank A: {total_payment_A:.2f}\")\n",
    "print(f\"Total Payment for Bank B: {total_payment_B:.2f}\")\n",
    "if total_payment_A < total_payment_B:\n",
    "    print(\"Bank A\")\n",
    "else:\n",
    "    print(\"Bank B\")"
   ]
  },
  {
   "cell_type": "markdown",
   "metadata": {},
   "source": [
    "### **143. Given an integer N, find if it is divisible by 11**\n",
    "\n",
    "N >= 1\n",
    "\n",
    "1 <= No. of digits in N <= 1000\n",
    "\n",
    "**Input Description:**\n",
    "\n",
    "The only line of input contains an integer N\n",
    "\n",
    "**Output Description:**\n",
    "\n",
    "Print YES if N is divisible by 11, NO otherwise.\n",
    "\n",
    "**Sample Input:**\n",
    "\n",
    "1331\n",
    "\n",
    "**Sample Output:**\n",
    "\n",
    "YES"
   ]
  },
  {
   "cell_type": "code",
   "execution_count": 58,
   "metadata": {},
   "outputs": [
    {
     "name": "stdout",
     "output_type": "stream",
     "text": [
      "YES\n"
     ]
    }
   ],
   "source": [
    "def is_divisible_by_11(N):\n",
    "    odd_sum = 0\n",
    "    even_sum = 0\n",
    "    for i, digit in enumerate(str(N)):\n",
    "        if i % 2 == 0:\n",
    "            odd_sum += int(digit)\n",
    "        else:\n",
    "            even_sum += int(digit)\n",
    "    \n",
    "    # Check if the difference is divisible by 11\n",
    "    if (odd_sum - even_sum) % 11 == 0:\n",
    "        return \"YES\"\n",
    "    else:\n",
    "        return \"NO\"\n",
    "\n",
    "N = input().strip()\n",
    "print(is_divisible_by_11(N))"
   ]
  },
  {
   "cell_type": "markdown",
   "metadata": {},
   "source": [
    "### **144. Given two numbers a and b, write a program to print the count of numbers in the range [a,b] in which there are prime number of 1's in their binary representation.**\n",
    "\n",
    "Input Size : 1 <= A <= B <= 100000\n",
    "\n",
    "**Sample Testcases:**\n",
    "\n",
    "**INPUT**\n",
    "\n",
    "1 3\n",
    "\n",
    "**OUTPUT**\n",
    "\n",
    "1"
   ]
  },
  {
   "cell_type": "code",
   "execution_count": 59,
   "metadata": {},
   "outputs": [
    {
     "name": "stdout",
     "output_type": "stream",
     "text": [
      "1\n"
     ]
    }
   ],
   "source": [
    "def is_prime(n):\n",
    "    if n <= 1:\n",
    "        return False\n",
    "    for i in range(2, int(n ** 0.5) + 1):\n",
    "        if n % i == 0:\n",
    "            return False\n",
    "    return True\n",
    "\n",
    "def count_prime_ones_in_binary(a, b):\n",
    "    prime_set = {i for i in range(18) if is_prime(i)}\n",
    "    \n",
    "    count = 0\n",
    "    for num in range(a, b + 1):\n",
    "        ones_count = bin(num).count('1')\n",
    "        if ones_count in prime_set:\n",
    "            count += 1    \n",
    "    return count\n",
    "\n",
    "a, b = map(int, input().split())\n",
    "print(count_prime_ones_in_binary(a, b))"
   ]
  },
  {
   "cell_type": "markdown",
   "metadata": {},
   "source": [
    "### **145. rahul is given an array containing digits values ranging from 0-9,Rahul’s task is to find the sum of minimum two numbers formed by the digits,but he has some other work to do, he called you and told you that he is busy with some work,your task is to do the same work for rahul.**\n",
    "\n",
    "**Input Description:**\n",
    "\n",
    "You are given a number ‘n’ denoting size of array Next line contains n space separated numbers\n",
    "\n",
    "**Output Description:**\n",
    "\n",
    "Print the sum of numbers formed by it\n",
    "\n",
    "**Sample Input:**\n",
    "\n",
    "6\n",
    "\n",
    "6 8 4 5 2 3\n",
    "\n",
    "**Sample Output:**\n",
    "\n",
    "604"
   ]
  },
  {
   "cell_type": "code",
   "execution_count": 60,
   "metadata": {},
   "outputs": [
    {
     "name": "stdout",
     "output_type": "stream",
     "text": [
      "604\n"
     ]
    }
   ],
   "source": [
    "def find_min_sum(n, digits):\n",
    "    digits.sort()\n",
    "    num1, num2 = \"\", \"\"\n",
    "    for i in range(n):\n",
    "        if i % 2 == 0:\n",
    "            num1 += str(digits[i])\n",
    "        else:\n",
    "            num2 += str(digits[i])\n",
    "    num1 = int(num1)\n",
    "    num2 = int(num2)\n",
    "    return num1 + num2\n",
    "\n",
    "n = int(input())\n",
    "digits = list(map(int, input().split()))\n",
    "print(find_min_sum(n, digits))"
   ]
  },
  {
   "cell_type": "markdown",
   "metadata": {},
   "source": [
    "### **146. A board has n*m cells, and there is a gift with some value (value is greater than 0) in every cell. You can get gifts starting from the top-left cell, and move right or down in each step, and finally reach the cell at the bottom-right cell. Given 2 numbers N and M followed by N*M numbers, What’s the maximal value of gifts you can get from the board?**\n",
    "\n",
    "Input Size : 1 <= N <= 1000\n",
    "\n",
    "**Sample Testcases:**\n",
    "\n",
    "**INPUT**\n",
    "\n",
    "3 3\n",
    "\n",
    "4 0 0\n",
    "\n",
    "0 4 0\n",
    "\n",
    "0 0 4\n",
    "\n",
    "**OUTPUT**\n",
    "\n",
    "12"
   ]
  },
  {
   "cell_type": "code",
   "execution_count": 61,
   "metadata": {},
   "outputs": [
    {
     "name": "stdout",
     "output_type": "stream",
     "text": [
      "12\n"
     ]
    }
   ],
   "source": [
    "def max_gift_value(N, M, board):\n",
    "    # Create a DP table with the same size as the board\n",
    "    dp = [[0] * M for _ in range(N)]\n",
    "\n",
    "    # Base case: starting point\n",
    "    dp[0][0] = board[0][0]\n",
    "\n",
    "    # Fill the first row (only can come from the left)\n",
    "    for j in range(1, M):\n",
    "        dp[0][j] = dp[0][j-1] + board[0][j]\n",
    "\n",
    "    # Fill the first column (only can come from the top)\n",
    "    for i in range(1, N):\n",
    "        dp[i][0] = dp[i-1][0] + board[i][0]\n",
    "\n",
    "    # Fill the rest of the DP table\n",
    "    for i in range(1, N):\n",
    "        for j in range(1, M):\n",
    "            dp[i][j] = max(dp[i-1][j], dp[i][j-1]) + board[i][j]\n",
    "    return dp[N-1][M-1]\n",
    "\n",
    "N, M = map(int, input().split())\n",
    "board = [list(map(int, input().split())) for _ in range(N)]\n",
    "print(max_gift_value(N, M, board))"
   ]
  },
  {
   "cell_type": "markdown",
   "metadata": {},
   "source": [
    "### **147. Given 2 numbers N and M followed by a matrix of size N * M.if there is any entry which is 0 change the entire column and row to zero respectively and then print the matrix.**\n",
    "\n",
    "Input Size : 1 <= N <= 1000\n",
    "\n",
    "**Sample Testcases:**\n",
    "\n",
    "**INPUT**\n",
    "\n",
    "2 3\n",
    "\n",
    "1 0 1\n",
    "\n",
    "1 1 1\n",
    "\n",
    "**OUTPUT**\n",
    "\n",
    "0 0 0\n",
    "\n",
    "1 0 1"
   ]
  },
  {
   "cell_type": "code",
   "execution_count": 62,
   "metadata": {},
   "outputs": [
    {
     "name": "stdout",
     "output_type": "stream",
     "text": [
      "0 0 0\n",
      "1 0 1\n"
     ]
    }
   ],
   "source": [
    "def set_zero_matrix(N, M, matrix):\n",
    "    zero_rows = set()\n",
    "    zero_cols = set()\n",
    "    for i in range(N):\n",
    "        for j in range(M):\n",
    "            if matrix[i][j] == 0:\n",
    "                zero_rows.add(i)\n",
    "                zero_cols.add(j)\n",
    "    \n",
    "    for i in range(N):\n",
    "        for j in range(M):\n",
    "            if i in zero_rows or j in zero_cols:\n",
    "                matrix[i][j] = 0\n",
    "    \n",
    "    for row in matrix:\n",
    "        print(' '.join(map(str, row)))\n",
    "\n",
    "N, M = map(int, input().split())\n",
    "matrix = [list(map(int, input().split())) for _ in range(N)]\n",
    "set_zero_matrix(N, M, matrix)"
   ]
  },
  {
   "cell_type": "markdown",
   "metadata": {},
   "source": [
    "### **148. Given a number N, print the first N Catalan numbers.**\n",
    "\n",
    "Input Size : N <= 100\n",
    "\n",
    "**Sample Testcase:**\n",
    "\n",
    "**INPUT**\n",
    "\n",
    "1\n",
    "\n",
    "**OUTPUT**\n",
    "\n",
    "1 1"
   ]
  },
  {
   "cell_type": "code",
   "execution_count": 63,
   "metadata": {},
   "outputs": [
    {
     "name": "stdout",
     "output_type": "stream",
     "text": [
      "1 1\n"
     ]
    }
   ],
   "source": [
    "def catalan(n):\n",
    "    catalan_numbers = [0] * (n + 1)\n",
    "    catalan_numbers[0] = catalan_numbers[1] = 1\n",
    "    for i in range(2, n + 1):\n",
    "        for j in range(i):\n",
    "            catalan_numbers[i] += catalan_numbers[j] * catalan_numbers[i - j - 1]    \n",
    "    return catalan_numbers\n",
    "\n",
    "n = int(input())\n",
    "result = catalan(n)\n",
    "print(\" \".join(map(str, result)))"
   ]
  },
  {
   "cell_type": "markdown",
   "metadata": {},
   "source": [
    "### **149. Given a number N, print the smallest number with sum of digits N.**\n",
    "\n",
    "Input Size : 1 <= N <= 100000\n",
    "\n",
    "**Sample Testcase:**\n",
    "\n",
    "**INPUT**\n",
    "\n",
    "12\n",
    "\n",
    "**OUTPUT**\n",
    "\n",
    "39"
   ]
  },
  {
   "cell_type": "code",
   "execution_count": 64,
   "metadata": {},
   "outputs": [
    {
     "name": "stdout",
     "output_type": "stream",
     "text": [
      "39\n"
     ]
    }
   ],
   "source": [
    "def smallest_number_with_sum(N):\n",
    "    digits = []\n",
    "    while N >= 9:\n",
    "        digits.append(9)\n",
    "        N -= 9\n",
    "\n",
    "    if N > 0:\n",
    "        digits.append(N)\n",
    "    \n",
    "    digits.reverse()\n",
    "    print(\"\".join(map(str, digits)))\n",
    "\n",
    "N = int(input().strip())\n",
    "smallest_number_with_sum(N)"
   ]
  },
  {
   "cell_type": "markdown",
   "metadata": {},
   "source": [
    "### **150. Given a number N followed by N numbers. Out of these N numbers some of them are repeated. Write a program to find the first number which is repeated. If no numbers are repeated print 'unique'.**\n",
    "\n",
    "Input Size : 1 <= N <= 100000\n",
    "\n",
    "**Sample Testcases:**\n",
    "\n",
    "**INPUT**\n",
    "\n",
    "7\n",
    "\n",
    "1 2 3 2 3 4 3\n",
    "\n",
    "**OUTPUT**\n",
    "\n",
    "2"
   ]
  },
  {
   "cell_type": "code",
   "execution_count": 65,
   "metadata": {},
   "outputs": [
    {
     "name": "stdout",
     "output_type": "stream",
     "text": [
      "2\n"
     ]
    }
   ],
   "source": [
    "def find_first_repeated_number(n, nums):\n",
    "    seen = set()\n",
    "    for num in nums:\n",
    "        if num in seen:\n",
    "            return num  # First repeated number\n",
    "        seen.add(num)  # Add the number to the set if it's not already seen\n",
    "    return \"unique\"  # If no number is repeated\n",
    "\n",
    "N = int(input())\n",
    "nums = list(map(int, input().split()))\n",
    "print(find_first_repeated_number(N, nums))"
   ]
  },
  {
   "cell_type": "code",
   "execution_count": null,
   "metadata": {},
   "outputs": [],
   "source": []
  },
  {
   "cell_type": "code",
   "execution_count": null,
   "metadata": {},
   "outputs": [],
   "source": []
  }
 ],
 "metadata": {
  "kernelspec": {
   "display_name": "py8",
   "language": "python",
   "name": "python3"
  },
  "language_info": {
   "codemirror_mode": {
    "name": "ipython",
    "version": 3
   },
   "file_extension": ".py",
   "mimetype": "text/x-python",
   "name": "python",
   "nbconvert_exporter": "python",
   "pygments_lexer": "ipython3",
   "version": "3.8.20"
  }
 },
 "nbformat": 4,
 "nbformat_minor": 2
}
