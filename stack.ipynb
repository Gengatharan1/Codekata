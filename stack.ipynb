{
 "cells": [
  {
   "cell_type": "markdown",
   "metadata": {},
   "source": [
    "### **1. Convert a given postfix expression to prefix notation using Stack.**\n",
    "\n",
    "**Input Description:**\n",
    "\n",
    "The code should take a string of arbitrary length (postfix notation).\n",
    "\n",
    "**Output Description:**\n",
    "\n",
    "Print the corresponding prefix notation form.\n",
    "\n",
    "**Sample Input:**\n",
    "\n",
    "123/-15/6-*\n",
    "\n",
    "**Sample Output:**\n",
    "\n",
    "*-1/23-/156"
   ]
  },
  {
   "cell_type": "code",
   "execution_count": null,
   "metadata": {},
   "outputs": [
    {
     "name": "stdout",
     "output_type": "stream",
     "text": [
      "*-1/23-/156\n"
     ]
    }
   ],
   "source": [
    "def postfix_to_prefix(postfix):\n",
    "    stack = []\n",
    "    for char in postfix:\n",
    "        if char.isalnum():\n",
    "            stack.append(char)\n",
    "        else:\n",
    "            operand2 = stack.pop()\n",
    "            operand1 = stack.pop()\n",
    "            prefix = char + operand1 + operand2\n",
    "            stack.append(prefix)\n",
    "    return stack[-1]\n",
    "\n",
    "postfix_expression = input().strip()\n",
    "prefix_expression = postfix_to_prefix(postfix_expression)\n",
    "print(prefix_expression)"
   ]
  },
  {
   "cell_type": "markdown",
   "metadata": {},
   "source": [
    "### **2. Convert a given infix expression into prefix notation using Stack.**\n",
    "\n",
    "**Input Description:**\n",
    "\n",
    "The code should take a string of arbitrary length (infix notation).\n",
    "\n",
    "**Output Description:**\n",
    "\n",
    "Print the corresponding prefix notation form.\n",
    "\n",
    "**Sample Input:**\n",
    "\n",
    "(a+b)\n",
    "\n",
    "**Sample Output:**\n",
    "\n",
    "+ab"
   ]
  },
  {
   "cell_type": "code",
   "execution_count": null,
   "metadata": {},
   "outputs": [
    {
     "name": "stdout",
     "output_type": "stream",
     "text": [
      "+ab\n"
     ]
    }
   ],
   "source": [
    "def precedence(op):\n",
    "    if op == '+' or op == '-':\n",
    "        return 1\n",
    "    if op == '*' or op == '/':\n",
    "        return 2\n",
    "    if op == '^':\n",
    "        return 3\n",
    "    return 0\n",
    "\n",
    "def infix_to_prefix(expression):\n",
    "    expression = expression[::-1]\n",
    "    expression = expression.replace('(', 'temp').replace(')', '(').replace('temp', ')')\n",
    "    \n",
    "    stack = []\n",
    "    prefix = []\n",
    "    \n",
    "    for char in expression:\n",
    "        if char.isalnum():\n",
    "            prefix.append(char)\n",
    "        \n",
    "        # If the character is an operator\n",
    "        elif char == '+' or char == '-' or char == '*' or char == '/' or char == '^':\n",
    "            while (stack and precedence(stack[-1]) >= precedence(char)):\n",
    "                prefix.append(stack.pop())\n",
    "            stack.append(char)\n",
    "        \n",
    "        # If the character is a left parenthesis, push it to the stack\n",
    "        elif char == ')':\n",
    "            stack.append(char)\n",
    "        \n",
    "        # If the character is a right parenthesis, pop until we find a matching '('\n",
    "        elif char == '(':\n",
    "            while stack and stack[-1] != ')':\n",
    "                prefix.append(stack.pop())\n",
    "            stack.pop()  # Pop the '(' from the stack\n",
    "    \n",
    "    # Pop the remaining operators from the stack\n",
    "    while stack:\n",
    "        prefix.append(stack.pop())\n",
    "    return ''.join(prefix[::-1])\n",
    "\n",
    "infix_expression = input().strip()      # infix_expression = \"a+b\"\n",
    "prefix_expression = infix_to_prefix(infix_expression)\n",
    "print(prefix_expression)"
   ]
  },
  {
   "cell_type": "markdown",
   "metadata": {},
   "source": [
    "### **3. You are provided with a string ‘s’. Your task is to reverse the string using stack Data Structure.**\n",
    "\n",
    "**Input Description:**\n",
    "\n",
    "You are given a string ‘s’.\n",
    "\n",
    "**Output Description:**\n",
    "\n",
    "Print the reverse string\n",
    "\n",
    "**Sample Input:**\n",
    "\n",
    "i am jsb\n",
    "\n",
    "**Sample Output:**\n",
    "\n",
    "jsb am i"
   ]
  },
  {
   "cell_type": "code",
   "execution_count": 2,
   "metadata": {},
   "outputs": [
    {
     "name": "stdout",
     "output_type": "stream",
     "text": [
      "jsb am i\n"
     ]
    }
   ],
   "source": [
    "def reverse_string_with_stack(s):\n",
    "    stack = []\n",
    "    for word in s.split():\n",
    "        stack.append(word)\n",
    "\n",
    "    reversed_string = []\n",
    "    while stack:\n",
    "        reversed_string.append(stack.pop())\n",
    "    return \" \".join(reversed_string)\n",
    "\n",
    "s = input()\n",
    "print(reverse_string_with_stack(s))"
   ]
  },
  {
   "cell_type": "markdown",
   "metadata": {},
   "source": [
    "### **4. Joyal was given a sentence. His task is to delete the two words that comes together and print the sentence so that the words in the output sentence have distinct words compared to their adjacent words. If no words are present in the output sentence print -1.**\n",
    "\n",
    "**Input Description:**\n",
    "\n",
    "You are given input string 'S'\n",
    "\n",
    "**Output Description:**\n",
    "\n",
    "Print the all the words that are left in the string 's' so that the words in the output sentence have distinct words compared to their adjacent words. Print -1 if no words are left\n",
    "\n",
    "**Sample Input:**\n",
    "\n",
    "I am john cena cena john\n",
    "\n",
    "**Sample Output:**\n",
    "\n",
    "I am"
   ]
  },
  {
   "cell_type": "code",
   "execution_count": 6,
   "metadata": {},
   "outputs": [
    {
     "name": "stdout",
     "output_type": "stream",
     "text": [
      "I am\n"
     ]
    }
   ],
   "source": [
    "def remove_adjacent_duplicates(s):\n",
    "    words = s.split()\n",
    "    stack = []\n",
    "    \n",
    "    for word in words:\n",
    "        if stack and stack[-1] == word:\n",
    "            stack.pop()\n",
    "        else:\n",
    "            stack.append(word)\n",
    "    \n",
    "    if not stack:\n",
    "        print(\"-1\")\n",
    "    else:\n",
    "        print(\" \".join(stack))\n",
    "\n",
    "s = input()\n",
    "remove_adjacent_duplicates(s)"
   ]
  },
  {
   "cell_type": "markdown",
   "metadata": {},
   "source": [
    "### **5. Given an array a[1..N]. For each element at position i (1 <= i <= N).**\n",
    "Where,\n",
    "\n",
    "i) L(i) is defined as closest index j such that j < i and a[j] > a[i]. If no such j exists then L(i) = 0.\n",
    "\n",
    "ii) R(i) is defined as closest index k such that k > i and a[k] > a[i]. If no such k exists then R(i) = 0.\n",
    "\n",
    "LRProduct(i) = L(i)*R(i) .\n",
    "\n",
    "Hint: Use two stacks for left(L) and right(R), find any greater element is there in the left and right side of the current element if it is there add the index of the corresponding greater element in the appropriate left or right stack.multiply the elements in the left and right of the stack and print the maximum LR product.\n",
    "\n",
    "**Input Description:**\n",
    "\n",
    "First line N indicates the length of the array. Second line indicates the elements of the array\n",
    "\n",
    "**Output Description:**\n",
    "\n",
    "Print index with maximum LR Product\n",
    "\n",
    "**Sample Input:**\n",
    "\n",
    "5\n",
    "\n",
    "5 4 3 4 5\n",
    "\n",
    "**Sample Output:**\n",
    "\n",
    "8"
   ]
  },
  {
   "cell_type": "code",
   "execution_count": 11,
   "metadata": {},
   "outputs": [
    {
     "name": "stdout",
     "output_type": "stream",
     "text": [
      "3\n"
     ]
    }
   ],
   "source": [
    "def find_max_LR_product(N, a):\n",
    "    L = [0] * N\n",
    "    left_stack = []\n",
    "    \n",
    "    for i in range(N):\n",
    "        while left_stack and a[left_stack[-1]] <= a[i]:\n",
    "            left_stack.pop()\n",
    "        if left_stack:\n",
    "            L[i] = left_stack[-1] + 1\n",
    "        left_stack.append(i)\n",
    "\n",
    "    R = [0] * N\n",
    "    right_stack = []\n",
    "    \n",
    "    for i in range(N - 1, -1, -1):\n",
    "        while right_stack and a[right_stack[-1]] <= a[i]:\n",
    "            right_stack.pop()\n",
    "        if right_stack:\n",
    "            R[i] = right_stack[-1] + 1\n",
    "        right_stack.append(i)\n",
    "\n",
    "    max_product = -1\n",
    "    max_index = -1\n",
    "    for i in range(N):\n",
    "        product = L[i] * R[i]\n",
    "        if product > max_product:\n",
    "            max_product = product\n",
    "            max_index = i + 1    \n",
    "    return max_index\n",
    "\n",
    "N = int(input())\n",
    "a = list(map(int, input().split()))\n",
    "print(find_max_LR_product(N, a))"
   ]
  },
  {
   "cell_type": "markdown",
   "metadata": {},
   "source": [
    "### **6. Given two strings S1 and S2. The task is to find if a string 'S2’' can be obtained by rotating another string 'S1’' by 2 places using Stack.**\n",
    "\n",
    "**Input Description:**\n",
    "\n",
    "The first line of the input contains the string S1. The second line of the input contains the string S2\n",
    "\n",
    "**Output Description:**\n",
    "\n",
    "Print 1 if the string S2 can be obtained by rotating string S1 by two places else print 0.\n",
    "\n",
    "**Sample Input:**\n",
    "\n",
    "amazon\n",
    "\n",
    "azonam\n",
    "\n",
    "**Sample Output:**\n",
    "\n",
    "1"
   ]
  },
  {
   "cell_type": "code",
   "execution_count": 7,
   "metadata": {},
   "outputs": [
    {
     "name": "stdout",
     "output_type": "stream",
     "text": [
      "1\n"
     ]
    }
   ],
   "source": [
    "def rotate_string_using_stack(s, direction):\n",
    "    stack = list(s)\n",
    "    n = len(s)\n",
    "    \n",
    "    if direction == \"left\":\n",
    "        for _ in range(2):  # Rotate left by 2 places\n",
    "            stack.append(stack.pop(0))\n",
    "    elif direction == \"right\":\n",
    "        for _ in range(2):  # Rotate right by 2 places\n",
    "            stack.insert(0, stack.pop())\n",
    "    \n",
    "    return ''.join(stack)\n",
    "\n",
    "def can_obtain_by_rotation(s1, s2):\n",
    "    if len(s1) != len(s2):\n",
    "        return 0\n",
    "    \n",
    "    rotated_left = rotate_string_using_stack(s1, \"left\")\n",
    "    rotated_right = rotate_string_using_stack(s1, \"right\")\n",
    "    \n",
    "    if s2 == rotated_left or s2 == rotated_right:\n",
    "        return 1\n",
    "    else:\n",
    "        return 0\n",
    "\n",
    "s1 = input().strip()\n",
    "s2 = input().strip()\n",
    "result = can_obtain_by_rotation(s1, s2)\n",
    "print(result)"
   ]
  },
  {
   "cell_type": "markdown",
   "metadata": {},
   "source": [
    "### **7. Given an array of n elements and q queries, for each query which has an index i, find the next greater element and print its value using Stack. If there is no such greater element to its right then print -1.**\n",
    "\n",
    "**Input Description:**\n",
    "\n",
    "First line N indicates length of the array. Second Line indicates the elements of the array. Third line M indicates the length of the query. Fourth line indicates the elements of the query.\n",
    "\n",
    "**Output Description:**\n",
    "\n",
    "Print the greater values in a single line\n",
    "\n",
    "**Sample Input:**\n",
    "\n",
    "8\n",
    "\n",
    "3 4 2 7 5 8 10 6\n",
    "\n",
    "3\n",
    "\n",
    "3 6 1\n",
    "\n",
    "**Sample Output:**\n",
    "\n",
    "8 -1 7"
   ]
  },
  {
   "cell_type": "code",
   "execution_count": 10,
   "metadata": {},
   "outputs": [
    {
     "name": "stdout",
     "output_type": "stream",
     "text": [
      "7 10 4\n"
     ]
    }
   ],
   "source": [
    "def next_greater_elements(arr, n):\n",
    "    next_greater = [-1] * n\n",
    "    stack = []\n",
    "    \n",
    "    for i in range(n - 1, -1, -1):\n",
    "        while stack and arr[stack[-1]] <= arr[i]:\n",
    "            stack.pop()\n",
    "        if stack:\n",
    "            next_greater[i] = arr[stack[-1]]\n",
    "        stack.append(i)\n",
    "    return next_greater\n",
    "\n",
    "n = int(input())\n",
    "arr = list(map(int, input().split()))\n",
    "m = int(input())\n",
    "queries = list(map(int, input().split()))\n",
    "next_greater = next_greater_elements(arr, n)\n",
    "\n",
    "result = []\n",
    "for query in queries:\n",
    "    result.append(next_greater[query - 1])\n",
    "print(\" \".join(map(str, result)))"
   ]
  },
  {
   "cell_type": "markdown",
   "metadata": {},
   "source": [
    "### **8. Given an array, for each element find the value of nearest element to the right which is having frequency greater than as that of current element using Stack. If there does not exist an answer for a position, then make the value ‘-1’.**\n",
    "\n",
    "**Input Description:**\n",
    "\n",
    "First line N indicates the size of the array. Second line indicates elements of the array\n",
    "\n",
    "**Output Description:**\n",
    "\n",
    "Print the resultant array\n",
    "\n",
    "**Sample Input:**\n",
    "\n",
    "7\n",
    "\n",
    "1 1 2 3 4 2 1\n",
    "\n",
    "**Sample Output:**\n",
    "\n",
    "-1 -1 1 2 2 1 -1"
   ]
  },
  {
   "cell_type": "code",
   "execution_count": null,
   "metadata": {},
   "outputs": [
    {
     "name": "stdout",
     "output_type": "stream",
     "text": [
      "-1 -1 1 2 2 1 -1\n"
     ]
    }
   ],
   "source": [
    "from collections import Counter\n",
    "\n",
    "def nearestGreaterFrequencyElement(N, arr):\n",
    "    freq = Counter(arr)\n",
    "    result = [-1] * N\n",
    "    stack = []\n",
    "    \n",
    "    for i in range(N - 1, -1, -1):\n",
    "        while stack and freq[arr[stack[-1]]] <= freq[arr[i]]:\n",
    "            stack.pop()\n",
    "        if stack:\n",
    "            result[i] = arr[stack[-1]]\n",
    "        stack.append(i)\n",
    "    return result\n",
    "\n",
    "N = int(input())\n",
    "arr = list(map(int, input().split()))\n",
    "result = nearestGreaterFrequencyElement(N, arr)\n",
    "print(\" \".join(map(str, result)))"
   ]
  },
  {
   "cell_type": "markdown",
   "metadata": {},
   "source": [
    "### **9. Convert a given infix expression into postfix notation using Stack.**\n",
    "\n",
    "**Input Description:**\n",
    "\n",
    "The code should take a string of arbitrary length (infix notation).\n",
    "\n",
    "**Output Description:**\n",
    "\n",
    "Print the corresponding form of postfix notation.\n",
    "\n",
    "**Sample Input:**\n",
    "\n",
    "A+B*C+D\n",
    "\n",
    "**Sample Output:**\n",
    "\n",
    "ABC*+D+"
   ]
  },
  {
   "cell_type": "code",
   "execution_count": null,
   "metadata": {},
   "outputs": [
    {
     "name": "stdout",
     "output_type": "stream",
     "text": [
      "ABC*+D+\n"
     ]
    }
   ],
   "source": [
    "def precedence(op):\n",
    "    if op == '+' or op == '-':\n",
    "        return 1\n",
    "    if op == '*' or op == '/':\n",
    "        return 2\n",
    "    return 0\n",
    "\n",
    "def infix_to_postfix(expression):\n",
    "    stack = []\n",
    "    result = []\n",
    "    \n",
    "    for char in expression:\n",
    "        if char.isalnum():\n",
    "            result.append(char)\n",
    "        elif char == '(':\n",
    "            stack.append(char)\n",
    "        elif char == ')':\n",
    "            while stack and stack[-1] != '(':\n",
    "                result.append(stack.pop())\n",
    "            stack.pop()\n",
    "        else:\n",
    "            while (stack and precedence(stack[-1]) >= precedence(char)):\n",
    "                result.append(stack.pop())\n",
    "            stack.append(char)\n",
    "    \n",
    "    while stack:\n",
    "        result.append(stack.pop())    \n",
    "    return ''.join(result)\n",
    "\n",
    "expression = input()\n",
    "print(infix_to_postfix(expression))"
   ]
  },
  {
   "cell_type": "markdown",
   "metadata": {},
   "source": [
    "### **10. Given a string A representing an absolute path for a file.Print the string A after simplifying the absolute path using Stack.**\n",
    "\n",
    "**Input Description:**\n",
    "\n",
    "Given a string S contains the absolute path of file.\n",
    "\n",
    "**Output Description:**\n",
    "\n",
    "Print the string S after simplified absolute path of a file.\n",
    "\n",
    "**Sample Input:**\n",
    "\n",
    "C:/home/guvi\n",
    "\n",
    "**Sample Output:**\n",
    "\n",
    "/guvi"
   ]
  },
  {
   "cell_type": "code",
   "execution_count": null,
   "metadata": {},
   "outputs": [
    {
     "name": "stdout",
     "output_type": "stream",
     "text": [
      "/guvi\n"
     ]
    }
   ],
   "source": [
    "def simplify_path(path):\n",
    "    if path[1] == ':':\n",
    "        path = path[2:]\n",
    "    \n",
    "    components = path.split('/')\n",
    "\n",
    "    stack = []\n",
    "    for component in components:\n",
    "        if component == \"\" or component == \".\":  # Skip empty parts or current directory reference\n",
    "            continue\n",
    "        elif component == \"..\":  # If we find \"..\", pop the last directory\n",
    "            if stack:\n",
    "                stack.pop()\n",
    "        else:\n",
    "            stack.append(component)  # Add the directory name to the stack\n",
    "    \n",
    "    if stack:\n",
    "        simplified_path = \"/\" + stack[-1]\n",
    "    else:\n",
    "        simplified_path = \"/\"    \n",
    "    return simplified_path\n",
    "\n",
    "path = \"C:/home/guvi\"\n",
    "print(simplify_path(path))"
   ]
  },
  {
   "cell_type": "markdown",
   "metadata": {},
   "source": [
    "### **11. Given n non-negative integers representing an elevation map where the width of each bar is 1, compute how much water it is able to trap after raining using Stack. Black indicates bricks. Blue indicates water after raining.**\n",
    "\n",
    "The above elevation map is represented by array [0,1,0,2,1,0,1,3,2,1,2,1]. In this case, 6 units of rain water (blue section) are being trapped.\n",
    "\n",
    "**Input Description:**\n",
    "\n",
    "First line represents the size of an elevation map. Next line contains units of bricks.\n",
    "\n",
    "**Output Description:**\n",
    "\n",
    "Print the total water it is able to trap after raining.\n",
    "\n",
    "**Sample Input:**\n",
    "\n",
    "12\n",
    "\n",
    "0 1 0 2 1 0 1 3 2 1 2 1\n",
    "\n",
    "**Sample Output:**\n",
    "\n",
    "6"
   ]
  },
  {
   "cell_type": "code",
   "execution_count": null,
   "metadata": {},
   "outputs": [
    {
     "name": "stdout",
     "output_type": "stream",
     "text": [
      "6\n"
     ]
    }
   ],
   "source": [
    "def trap_water(elevation_map):\n",
    "    stack = []\n",
    "    total_water = 0\n",
    "    n = len(elevation_map)\n",
    "    \n",
    "    for i in range(n):\n",
    "        while stack and elevation_map[i] > elevation_map[stack[-1]]:\n",
    "            top = stack.pop()\n",
    "            if not stack:\n",
    "                break\n",
    "            width = i - stack[-1] - 1\n",
    "            height = min(elevation_map[i], elevation_map[stack[-1]]) - elevation_map[top]\n",
    "            total_water += width * height\n",
    "        stack.append(i)\n",
    "    return total_water\n",
    "\n",
    "size = int(input())\n",
    "elevation_map = list(map(int, input().split()))\n",
    "print(trap_water(elevation_map))"
   ]
  },
  {
   "cell_type": "markdown",
   "metadata": {},
   "source": [
    "### **12. Convert a given prefix expression into postfix notation using Stack.**\n",
    "\n",
    "**Input Description:**\n",
    "\n",
    "The code should take a string of arbitrary length (prefix notation).\n",
    "\n",
    "**Output Description:**\n",
    "\n",
    "Print the corresponding postfix expression form.\n",
    "\n",
    "**Sample Input:**\n",
    "\n",
    "+24\n",
    "\n",
    "**Sample Output:**\n",
    "\n",
    "24+"
   ]
  },
  {
   "cell_type": "code",
   "execution_count": null,
   "metadata": {},
   "outputs": [
    {
     "name": "stdout",
     "output_type": "stream",
     "text": [
      "24+\n"
     ]
    }
   ],
   "source": [
    "def prefix_to_postfix(prefix_expr):\n",
    "    stack = []\n",
    "    for char in reversed(prefix_expr):\n",
    "        if char.isalnum():\n",
    "            stack.append(char)\n",
    "        else:\n",
    "            operand1 = stack.pop()\n",
    "            operand2 = stack.pop()\n",
    "            result = operand1 + operand2 + char\n",
    "            stack.append(result)\n",
    "    return stack[-1]\n",
    "\n",
    "prefix_expr = input().strip()\n",
    "print(prefix_to_postfix(prefix_expr))"
   ]
  },
  {
   "cell_type": "markdown",
   "metadata": {},
   "source": [
    "### **13. A string containing the prefix expression is given to you.Evaluate it and print the single integer giving the answer.**\n",
    "\n",
    "**Input Description:**\n",
    "\n",
    "You are given a string ‘s’.\n",
    "\n",
    "**Output Description:**\n",
    "\n",
    "Print the evaluated answer of that string\n",
    "\n",
    "**Sample Input:**\n",
    "\n",
    "+23\n",
    "\n",
    "**Sample Output:**\n",
    "\n",
    "5"
   ]
  },
  {
   "cell_type": "code",
   "execution_count": null,
   "metadata": {},
   "outputs": [
    {
     "name": "stdout",
     "output_type": "stream",
     "text": [
      "5\n"
     ]
    }
   ],
   "source": [
    "def evaluate_prefix(expression):\n",
    "    stack = []\n",
    "    for char in reversed(expression):\n",
    "        if char.isdigit():\n",
    "            stack.append(int(char))\n",
    "        else:\n",
    "            operand1 = stack.pop()\n",
    "            operand2 = stack.pop()\n",
    "            \n",
    "            if char == '+':\n",
    "                result = operand1 + operand2\n",
    "            elif char == '-':\n",
    "                result = operand1 - operand2\n",
    "            elif char == '*':\n",
    "                result = operand1 * operand2\n",
    "            elif char == '/':\n",
    "                result = operand1 / operand2\n",
    "            stack.append(result)\n",
    "    return stack.pop()\n",
    "\n",
    "expression = input().strip()\n",
    "print(int(evaluate_prefix(expression)))"
   ]
  },
  {
   "cell_type": "markdown",
   "metadata": {},
   "source": [
    "### **14. Given a string expression examine the correctness of pairs and orders of parantheses using Stack. If it has pair of parentheses print yes else print no.**\n",
    "\n",
    "**Input Description:**\n",
    "\n",
    "An expression containing various types of Parentheses.\n",
    "\n",
    "**Output Description:**\n",
    "\n",
    "Print yes or no based on the given input\n",
    "\n",
    "**Sample Input:**\n",
    "\n",
    "{([])}\n",
    "\n",
    "**Sample Output:**\n",
    "\n",
    "yes"
   ]
  },
  {
   "cell_type": "code",
   "execution_count": null,
   "metadata": {},
   "outputs": [
    {
     "name": "stdout",
     "output_type": "stream",
     "text": [
      "yes\n"
     ]
    }
   ],
   "source": [
    "def is_balanced(expression):\n",
    "    stack = []\n",
    "    matching_parentheses = {')': '(', '}': '{', ']': '['}\n",
    "    \n",
    "    for char in expression:\n",
    "        if char in matching_parentheses:\n",
    "            if stack and stack[-1] == matching_parentheses[char]:\n",
    "                stack.pop()\n",
    "            else:\n",
    "                return \"no\"\n",
    "        else:\n",
    "            stack.append(char)\n",
    "    if not stack:\n",
    "        return \"yes\"\n",
    "    else:\n",
    "        return \"no\"\n",
    "\n",
    "expression = input().strip()\n",
    "print(is_balanced(expression))"
   ]
  },
  {
   "cell_type": "markdown",
   "metadata": {},
   "source": [
    "### **15. Given a string S of '(' , ')' with alphabets.**\n",
    "\n",
    "Your task is to remove the minimum number of parentheses ( '(' or ')', in any positions ) so that the resulting string should have balanced opening and closing parentheses. Perform the operation using Stack.\n",
    "\n",
    "**Input Description:**\n",
    "\n",
    "Given a string with parentheses and alphabets.\n",
    "\n",
    "**Output Description:**\n",
    "\n",
    "Remove the minimum parentheses and print the resultant valid string\n",
    "\n",
    "**Sample Input:**\n",
    "\n",
    "g(u)((vi)\n",
    "\n",
    "**Sample Output:**\n",
    "\n",
    "g(u)(vi)"
   ]
  },
  {
   "cell_type": "code",
   "execution_count": null,
   "metadata": {},
   "outputs": [
    {
     "name": "stdout",
     "output_type": "stream",
     "text": [
      "g(u)(vi)\n"
     ]
    }
   ],
   "source": [
    "def remove_invalid_parentheses(s):\n",
    "    stack = []\n",
    "    remove = set()\n",
    "    for i, char in enumerate(s):\n",
    "        if char == '(':\n",
    "            stack.append(i)\n",
    "        elif char == ')':\n",
    "            if stack:\n",
    "                stack.pop()\n",
    "            else:\n",
    "                remove.add(i)\n",
    "    remove.update(stack)\n",
    "\n",
    "    result = ''.join([char for i, char in enumerate(s) if i not in remove])    \n",
    "    return result\n",
    "\n",
    "input_string = input().strip()\n",
    "print(remove_invalid_parentheses(input_string))"
   ]
  },
  {
   "cell_type": "markdown",
   "metadata": {},
   "source": [
    "### **16. Convert a given expression postfix to infix notation using Stack.**\n",
    "\n",
    "**Input Description:**\n",
    "\n",
    "The code should take a string of arbitrary length (postfix notation).\n",
    "\n",
    "**Output Description:**\n",
    "\n",
    "Print the corresponding form of infix notation.\n",
    "\n",
    "**Sample Input:**\n",
    "\n",
    "ab+c/\n",
    "\n",
    "**Sample Output:**\n",
    "\n",
    "a+b/c"
   ]
  },
  {
   "cell_type": "code",
   "execution_count": 9,
   "metadata": {},
   "outputs": [
    {
     "name": "stdout",
     "output_type": "stream",
     "text": [
      "a+b/c\n"
     ]
    }
   ],
   "source": [
    "def precedence(op):\n",
    "    if op == '^':\n",
    "        return 3\n",
    "    if op == '*':\n",
    "        return 2\n",
    "    if op == '/':\n",
    "        return 2\n",
    "    if op == '+':\n",
    "        return 1\n",
    "    return 0\n",
    "\n",
    "def postfix_to_infix(postfix):\n",
    "    stack = []\n",
    "    for char in postfix:\n",
    "        if char.isalpha() or char.isdigit():\n",
    "            stack.append(char)\n",
    "        elif char in \"+-*/^\":\n",
    "            operand2 = stack.pop()\n",
    "            operand1 = stack.pop()\n",
    "            if stack and precedence(char) < precedence(operand1[-1]) and precedence(char) < precedence(operand2[-1]):\n",
    "                operand1 = f\"({operand1})\"\n",
    "                operand2 = f\"({operand2})\"\n",
    "            new_expr = f\"{operand1}{char}{operand2}\"\n",
    "            stack.append(new_expr)\n",
    "    return stack.pop()\n",
    "\n",
    "postfix_expression = input().strip()\n",
    "print(postfix_to_infix(postfix_expression))"
   ]
  },
  {
   "cell_type": "markdown",
   "metadata": {},
   "source": [
    "### **17. You are given a postfix expression. Evaluate the given expression and print the result.**\n",
    "\n",
    "**Input Description:**\n",
    "\n",
    "The first line of the input is a string N, containing operators and numbers seperated by the single space which forms a postfix expression\n",
    "\n",
    "**Output Description:**\n",
    "\n",
    "Evaluate the post expression and print the result.\n",
    "\n",
    "**Sample Input:**\n",
    "\n",
    "5 3 1 * + 9 -\n",
    "\n",
    "**Sample Output:**\n",
    "\n",
    "-1"
   ]
  },
  {
   "cell_type": "code",
   "execution_count": null,
   "metadata": {},
   "outputs": [
    {
     "name": "stdout",
     "output_type": "stream",
     "text": [
      "-1\n"
     ]
    }
   ],
   "source": [
    "def evaluate_postfix(expression):\n",
    "    stack = []\n",
    "    tokens = expression.split()\n",
    "\n",
    "    for token in tokens:\n",
    "        if token.isdigit():\n",
    "            stack.append(int(token))\n",
    "        elif token in \"+-*/\":\n",
    "            if len(stack) < 2:\n",
    "                return -1\n",
    "            \n",
    "            # Pop two operands from the stack\n",
    "            operand2 = stack.pop()\n",
    "            operand1 = stack.pop()\n",
    "            \n",
    "            # Apply the operator\n",
    "            if token == '+':\n",
    "                stack.append(operand1 + operand2)\n",
    "            elif token == '-':\n",
    "                stack.append(operand1 - operand2)\n",
    "            elif token == '*':\n",
    "                stack.append(operand1 * operand2)\n",
    "            elif token == '/':\n",
    "                if operand2 == 0:\n",
    "                    return -1\n",
    "                stack.append(operand1 // operand2)\n",
    "        else:\n",
    "            return -1\n",
    "    \n",
    "    if len(stack) != 1:\n",
    "        return -1    \n",
    "    return stack.pop()\n",
    "\n",
    "expression = input().strip()\n",
    "print(evaluate_postfix(expression))"
   ]
  },
  {
   "cell_type": "markdown",
   "metadata": {},
   "source": [
    "### **18. You are given a string of different type of brackets. Your task is to check whether the given string is balanced or not balanced.**\n",
    "\n",
    "A string is said to be balanced if the number of opening brackets are equal to \n",
    "the number of closing brackets where the brackets should be of same kind.\n",
    "\n",
    "**Input Description:**\n",
    "\n",
    "You are given a string ‘s’.\n",
    "\n",
    "**Output Description:**\n",
    "\n",
    "Print 'yes' if the given string is balanced and no if it is not\n",
    "\n",
    "**Sample Input:**\n",
    "\n",
    "{}(())[][][{}]\n",
    "\n",
    "**Sample Output:**\n",
    "\n",
    "yes"
   ]
  },
  {
   "cell_type": "code",
   "execution_count": 6,
   "metadata": {},
   "outputs": [
    {
     "name": "stdout",
     "output_type": "stream",
     "text": [
      "yes\n"
     ]
    }
   ],
   "source": [
    "def is_balanced(s):\n",
    "    stack = []\n",
    "\n",
    "    matching_bracket = {')': '(', '}': '{', ']': '['}\n",
    "    for char in s:\n",
    "        if char in '({[':\n",
    "            stack.append(char)\n",
    "        elif char in ')}]':\n",
    "            if not stack or stack[-1] != matching_bracket[char]:\n",
    "                return \"no\"\n",
    "            stack.pop()\n",
    "    \n",
    "    if not stack:\n",
    "        return \"yes\"\n",
    "    else:\n",
    "        return \"no\"\n",
    "\n",
    "s = input().strip()\n",
    "print(is_balanced(s))"
   ]
  },
  {
   "cell_type": "markdown",
   "metadata": {},
   "source": [
    "### **19. You are given a string representing the postfix expression.Evaluate the expression. And print the answer and print -1 if expression is wrong.**\n",
    "\n",
    "**Input Description:**\n",
    "\n",
    "You are given with a string containing operator and digits 0-9.\n",
    "\n",
    "**Output Description:**\n",
    "\n",
    "Print the answer print -1 if expression given is wrong\n",
    "\n",
    "**Sample Input:**\n",
    "\n",
    "23+*\n",
    "\n",
    "**Sample Output:**\n",
    "\n",
    "-1"
   ]
  },
  {
   "cell_type": "code",
   "execution_count": null,
   "metadata": {},
   "outputs": [],
   "source": [
    "def evaluate_postfix(expression):\n",
    "    stack = []\n",
    "    \n",
    "    for char in expression:\n",
    "        if char.isdigit():\n",
    "            stack.append(int(char))\n",
    "        elif char in \"+-*/\":\n",
    "            if len(stack) < 2:\n",
    "                return -1\n",
    "            # Pop two operands from the stack\n",
    "            operand2 = stack.pop()\n",
    "            operand1 = stack.pop()\n",
    "            \n",
    "            # Apply the operator\n",
    "            if char == '+':\n",
    "                stack.append(operand1 + operand2)\n",
    "            elif char == '-':\n",
    "                stack.append(operand1 - operand2)\n",
    "            elif char == '*':\n",
    "                stack.append(operand1 * operand2)\n",
    "            elif char == '/':\n",
    "                if operand2 == 0:\n",
    "                    return -1\n",
    "                stack.append(operand1 // operand2)\n",
    "        else:\n",
    "            return -1\n",
    "    \n",
    "    if len(stack) != 1:\n",
    "        return -1    \n",
    "    return stack.pop()\n",
    "\n",
    "expression = input().strip()\n",
    "print(evaluate_postfix(expression))"
   ]
  },
  {
   "cell_type": "code",
   "execution_count": null,
   "metadata": {},
   "outputs": [],
   "source": []
  }
 ],
 "metadata": {
  "kernelspec": {
   "display_name": "py12",
   "language": "python",
   "name": "python3"
  },
  "language_info": {
   "codemirror_mode": {
    "name": "ipython",
    "version": 3
   },
   "file_extension": ".py",
   "mimetype": "text/x-python",
   "name": "python",
   "nbconvert_exporter": "python",
   "pygments_lexer": "ipython3",
   "version": "3.12.7"
  }
 },
 "nbformat": 4,
 "nbformat_minor": 2
}
