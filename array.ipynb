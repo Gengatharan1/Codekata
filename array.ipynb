{
 "cells": [
  {
   "cell_type": "markdown",
   "metadata": {},
   "source": [
    "#### **1. You are given with an circular array .Your task is calculate the difference between two consecutive number. And if difference is greater than ‘k’, print 1 else print 0**\n",
    "\n",
    "**Input Description:**\n",
    "\n",
    "You are given two numbers ‘n’, ’m’. Next line contains n space separated integers.\n",
    "\n",
    "**Output Description:**\n",
    "\n",
    "Print 1 if the difference is greater than ‘m’.\n",
    "\n",
    "Sample Input :\n",
    "\n",
    "5 15\n",
    "\n",
    "50 65 85 98 35\n",
    "\n",
    "Sample Output :\n",
    "\n",
    "0 1 0 1 0"
   ]
  },
  {
   "cell_type": "code",
   "execution_count": null,
   "metadata": {},
   "outputs": [
    {
     "name": "stdout",
     "output_type": "stream",
     "text": [
      "0 1 0 1 0\n"
     ]
    }
   ],
   "source": [
    "n, k = map(int, input().split())            # n = 5, k = 15\n",
    "b = list(map(int, input().split()))         # b = 50 65 85 98 35\n",
    "\n",
    "# Initialize the result array\n",
    "arr = []\n",
    "\n",
    "# Calculate differences between consecutive elements\n",
    "for i in range(n-1):\n",
    "    if abs(b[i] - b[i+1]) > k:\n",
    "        arr.append(1)\n",
    "    else:\n",
    "        arr.append(0)\n",
    "\n",
    "# Calculate the circular difference (last element with the first element)\n",
    "arr1 = b[-1] - b[0]\n",
    "if abs(arr1) > k:\n",
    "    arr.append(1)\n",
    "else:\n",
    "    arr.append(0)\n",
    "\n",
    "print(*arr)"
   ]
  },
  {
   "cell_type": "markdown",
   "metadata": {},
   "source": [
    "#### **2. You are given an array of ids of prisoners. The jail authority found that there are some prisoners of same id. Your task is to help the authority in finding the common ids.**\n",
    "\n",
    "**Input Description:**\n",
    "\n",
    "First line contains a number ‘n’ representing no of prisoners. Next line contains n space separated numbers.\n",
    "\n",
    "**Output Description:**\n",
    "\n",
    "Print the ids which are not unique. Print -1 if all ids are unique\n",
    "\n",
    "Sample Input :\n",
    "\n",
    "7\n",
    "\n",
    "1 1 11 121 131 141 98\n",
    "\n",
    "Sample Output :\n",
    "\n",
    "1"
   ]
  },
  {
   "cell_type": "code",
   "execution_count": null,
   "metadata": {},
   "outputs": [
    {
     "name": "stdout",
     "output_type": "stream",
     "text": [
      "1\n"
     ]
    }
   ],
   "source": [
    "n = int(input())                                    # n = 7\n",
    "arr = list(map(int, input().split()))               # arr = [1, 1, 11, 121, 131, 141, 98]\n",
    "\n",
    "# Dictionary to store the count of each element\n",
    "count_dict = {}\n",
    "for num in arr:\n",
    "    if num in count_dict:\n",
    "        count_dict[num] += 1\n",
    "    else:\n",
    "        count_dict[num] = 1\n",
    "\n",
    "# List to store elements that appear more than once\n",
    "duplicates = [num for num, count in count_dict.items() if count > 1]\n",
    "if duplicates:\n",
    "    print(*duplicates)\n",
    "else:\n",
    "    print(\"-1\")"
   ]
  },
  {
   "cell_type": "code",
   "execution_count": null,
   "metadata": {},
   "outputs": [
    {
     "name": "stdout",
     "output_type": "stream",
     "text": [
      "1\n"
     ]
    }
   ],
   "source": [
    "# Another Method:\n",
    "\n",
    "n = int(input())                           # n = 7\n",
    "arr = list(map(int, input().split()))      # arr = [1 1 11 121 131 141 98]\n",
    "c=[]\n",
    "for i in arr:\n",
    "  if arr.count(i)>=2:\n",
    "    if i not in c:\n",
    "      c.append(i)\n",
    "if len(c)>=1:\n",
    "  print(*c)\n",
    "else:\n",
    "  print(\"-1\")"
   ]
  },
  {
   "cell_type": "markdown",
   "metadata": {},
   "source": [
    "#### **3. Assume you are a student studying in school.You are given a task to find first negative integer for each and every window of size k.**\n",
    "\n",
    "**Input Description:**\n",
    "\n",
    "First line contains an integer n denoting the size of the array. The next line contains n space separated integers forming the array. The last line contains the window size k.\n",
    "\n",
    "**Output Description:**\n",
    "\n",
    "Print the first negative integer in that window.If all the numbers are positive print 0\n",
    "\n",
    "Sample Input :\n",
    "\n",
    "7\n",
    "\n",
    "1 -2 -3 -4 5 6 -7\n",
    "\n",
    "3\n",
    "\n",
    "Sample Output :\n",
    "\n",
    "-2 -2 -3 -4 -7"
   ]
  },
  {
   "cell_type": "code",
   "execution_count": 3,
   "metadata": {},
   "outputs": [
    {
     "name": "stdout",
     "output_type": "stream",
     "text": [
      "-2 -2 -3 -4 -7\n"
     ]
    }
   ],
   "source": [
    "n = int(input())                            # n = 7\n",
    "a = list(map(int,input().split(' ')))       # a = 1 -2 -3 -4 5 6 -7\n",
    "k = int(input())                            # k = 3\n",
    "neg = []\n",
    "for i in range(len(a)):\n",
    "    if(i+k>len(a)):\n",
    "        break\n",
    "    for j in range(i,i+k):\n",
    "        if a[j]<0:\n",
    "            neg.append(a[j])\n",
    "            break\n",
    "    else:\n",
    "            neg.append(0)\n",
    "print(*neg)"
   ]
  },
  {
   "cell_type": "code",
   "execution_count": null,
   "metadata": {},
   "outputs": [
    {
     "name": "stdout",
     "output_type": "stream",
     "text": [
      "-2 -2 -3 -4 -7\n"
     ]
    }
   ],
   "source": [
    "# Another Method:\n",
    "\n",
    "from collections import deque\n",
    "\n",
    "def printFirstNegativeInteger(arr, n, k):\n",
    "    Di = deque()\n",
    "\n",
    "    # Process first window of size k\n",
    "    for i in range(k):\n",
    "        if arr[i] < 0:\n",
    "            Di.append(i)\n",
    "\n",
    "    # Process rest of the windows\n",
    "    for i in range(k, n):\n",
    "        # Print the first negative integer of the previous window\n",
    "        if not Di:\n",
    "            print(0, end=' ')\n",
    "        else:\n",
    "            print(arr[Di[0]], end=' ')\n",
    "\n",
    "        # Remove the elements which are out of this window\n",
    "        while Di and Di[0] <= i - k:\n",
    "            Di.popleft()\n",
    "\n",
    "        # Add current element at the end of the deque if it is negative\n",
    "        if arr[i] < 0:\n",
    "            Di.append(i)\n",
    "\n",
    "    # Print the first negative integer for the last window\n",
    "    if not Di:\n",
    "        print(0)\n",
    "    else:\n",
    "        print(arr[Di[0]])\n",
    "\n",
    "n = int(input())\n",
    "arr = list(map(int, input().split()))\n",
    "k = int(input())\n",
    "printFirstNegativeInteger(arr, n, k)"
   ]
  },
  {
   "cell_type": "markdown",
   "metadata": {},
   "source": [
    "#### **4. You are given with array of numbers.you have to find whether array is beautiful or not. A beautiful array is an array whose sum of all numbers is divisible by 2, 3 and 5**\n",
    "\n",
    "**Input Description:**\n",
    "\n",
    "You are given a number ‘n’ denoting the size of array.Next line contains n space separated numbers.\n",
    "\n",
    "**Output Description:**\n",
    "\n",
    "Print 1 if array is beautiful and 0 if it is not\n",
    "\n",
    "Sample Input :\n",
    "\n",
    "5\n",
    "\n",
    "5 25 35 -5 30\n",
    "\n",
    "Sample Output :\n",
    "\n",
    "1"
   ]
  },
  {
   "cell_type": "code",
   "execution_count": null,
   "metadata": {},
   "outputs": [
    {
     "name": "stdout",
     "output_type": "stream",
     "text": [
      "1\n"
     ]
    }
   ],
   "source": [
    "n = int(input())\n",
    "arr = list(map(int,input().split()))\n",
    "\n",
    "num = sum(arr)\n",
    "if num % 2 == 0 and num % 3 == 0 and num %5 == 0:\n",
    "  print(1)\n",
    "else:\n",
    "  print(0)"
   ]
  },
  {
   "cell_type": "markdown",
   "metadata": {},
   "source": [
    "#### **5. You are given with an array of numbers, Your task is to print the difference of indices of largest and smallest number. All number are unique.**\n",
    "\n",
    "**Input Description:**\n",
    "\n",
    "First line contains a number ‘n’. Then next line contains n space separated numbers.\n",
    "\n",
    "**Output Description:**\n",
    "\n",
    "Print the difference of indices of largest and smallest array\n",
    "\n",
    "Sample Input :\n",
    "\n",
    "5\n",
    "\n",
    "1 6 4 0 3\n",
    "\n",
    "Sample Output :\n",
    "\n",
    "-2"
   ]
  },
  {
   "cell_type": "code",
   "execution_count": null,
   "metadata": {},
   "outputs": [
    {
     "name": "stdout",
     "output_type": "stream",
     "text": [
      "-2\n"
     ]
    }
   ],
   "source": [
    "n = int(input())\n",
    "arr = list(map(int,input().split()))\n",
    "print(arr.index(max(arr))-arr.index(min(arr)))"
   ]
  },
  {
   "cell_type": "markdown",
   "metadata": {},
   "source": [
    "#### **6. You are given an array of numbers. Print the least occurring element. If there is more than 1 element print all of them in decreasing order of their value.**\n",
    "\n",
    "**Input Description:**\n",
    "\n",
    "You are given a number ‘n’ denoting size of array. Next line contains n space separated numbers.\n",
    "\n",
    "**Output Description:**\n",
    "\n",
    "Print the number as mentioned\n",
    "\n",
    "Sample Input :\n",
    "\n",
    "9\n",
    "\n",
    "1 6 4 56 56 56 6 4 2\n",
    "\n",
    "Sample Output :\n",
    "\n",
    "2 1"
   ]
  },
  {
   "cell_type": "code",
   "execution_count": null,
   "metadata": {},
   "outputs": [
    {
     "name": "stdout",
     "output_type": "stream",
     "text": [
      "2 1\n"
     ]
    }
   ],
   "source": [
    "n = int(input())\n",
    "arr = list(map(int, input().split()))\n",
    "\n",
    "# count the occurrences of each number\n",
    "freq = {}\n",
    "for num in arr:\n",
    "    freq[num] = freq.get(num, 0) + 1\n",
    "\n",
    "# find the least occurring number\n",
    "least_freq = min(freq.values())\n",
    "\n",
    "# collect all numbers with least frequency\n",
    "result = []\n",
    "for num, count in freq.items():\n",
    "    if count == least_freq:\n",
    "        result.append(num)\n",
    "\n",
    "# sort the result in decreasing order\n",
    "result.sort(reverse=True)\n",
    "print(*result)"
   ]
  },
  {
   "cell_type": "markdown",
   "metadata": {},
   "source": [
    "#### **7. You are given with an array. For each element present in the array your task is to print the next smallest than that number. If it is not smallest print -1**\n",
    "\n",
    "**Input Description:**\n",
    "\n",
    "You are given a number ‘n’ representing size of array. And n space separated numbers.\n",
    "\n",
    "**Output Description:**\n",
    "\n",
    "Print the next smallest number present in array and -1 if no smallest is present\n",
    "\n",
    "Sample Input :\n",
    "\n",
    "7\n",
    "\n",
    "10 7 9 3 2 1 15\n",
    "\n",
    "Sample Output :\n",
    "\n",
    "7 3 3 2 1 -1 -1"
   ]
  },
  {
   "cell_type": "code",
   "execution_count": null,
   "metadata": {},
   "outputs": [
    {
     "name": "stdout",
     "output_type": "stream",
     "text": [
      "7 3 3 2 1 -1 -1\n"
     ]
    }
   ],
   "source": [
    "n = int(input())\n",
    "arr = list(map(int, input().split()))\n",
    "\n",
    "# Initialize the result list with -1 and an empty stack\n",
    "result = [-1] * n\n",
    "stack = []\n",
    "\n",
    "# Traverse the array from the end to the beginning\n",
    "for i in range(n - 1, -1, -1):\n",
    "    # Pop elements from the stack that are not smaller than the current element\n",
    "    while stack and stack[-1] >= arr[i]:\n",
    "        stack.pop()\n",
    "    \n",
    "    # If the stack is not empty, the top of the stack is the next smaller element\n",
    "    if stack:\n",
    "        result[i] = stack[-1]\n",
    "    \n",
    "    # Push the current element onto the stack\n",
    "    stack.append(arr[i])\n",
    "\n",
    "print(' '.join(map(str, result)))"
   ]
  },
  {
   "cell_type": "markdown",
   "metadata": {},
   "source": [
    "#### **8. You are given an array. Your task is to sort the array in given manner. Print the elements in increasing order of the frequency. If frequency is same print smaller one first.**\n",
    "\n",
    "**Input Description:**\n",
    "\n",
    "You are given a number ‘n’. Then in next line n space separated numbers.\n",
    "\n",
    "**Output Description:**\n",
    "\n",
    "Print the array as mentioned\n",
    "\n",
    "Sample Input :\n",
    "\n",
    "4\n",
    "\n",
    "1 1 3 2\n",
    "\n",
    "Sample Output :\n",
    "\n",
    "2 3"
   ]
  },
  {
   "cell_type": "code",
   "execution_count": null,
   "metadata": {},
   "outputs": [
    {
     "name": "stdout",
     "output_type": "stream",
     "text": [
      "2 3 1\n"
     ]
    }
   ],
   "source": [
    "from collections import Counter\n",
    "\n",
    "n = int(input())\n",
    "arr = list(map(int, input().split()))\n",
    "\n",
    "freq = Counter(arr)                                         # Count frequencies using Counter from collections module\n",
    "sorted_arr = sorted(arr, key=lambda x: (freq[x], x))        # Sort the array by frequency and then by value\n",
    "sorted_unique_arr = list(dict.fromkeys(sorted_arr))         # Remove duplicates by using dict.fromkeys to preserve order\n",
    "print(' '.join(map(str, sorted_unique_arr)))"
   ]
  },
  {
   "cell_type": "markdown",
   "metadata": {},
   "source": [
    "#### **9. Given 2 numbers N and K followed by elements of N .Print 'yes' if K exists else print 'no'.**\n",
    "\n",
    "Sample Testcase :\n",
    "\n",
    "INPUT\n",
    "\n",
    "4 2\n",
    "\n",
    "1 2 3 3\n",
    "\n",
    "OUTPUT\n",
    "\n",
    "yes"
   ]
  },
  {
   "cell_type": "code",
   "execution_count": null,
   "metadata": {},
   "outputs": [
    {
     "name": "stdout",
     "output_type": "stream",
     "text": [
      "no\n"
     ]
    }
   ],
   "source": [
    "N, K = (int(no) for no in input().split())\n",
    "ele = list(map(int,input().split()))\n",
    "\n",
    "count = 0\n",
    "i = 1\n",
    "if(i==K):\n",
    "    for i in range(1, N+1):\n",
    "      count = count+1\n",
    "      print(\"yes\")\n",
    "      break\n",
    "else:\n",
    "  print(\"no\")"
   ]
  },
  {
   "cell_type": "markdown",
   "metadata": {},
   "source": [
    "#### **10. You are given a number with duplicate digits your task is to remove the immediate duplicate digits and print the result**\n",
    "\n",
    "**Input Description:**\n",
    "\n",
    "You are given a long string of digits\n",
    "\n",
    "**Output Description:**\n",
    "\n",
    "Print the desired result print -1 if result length is 0\n",
    "\n",
    "Sample Input :\n",
    "\n",
    "1331\n",
    "\n",
    "Sample Output :\n",
    "\n",
    "11"
   ]
  },
  {
   "cell_type": "code",
   "execution_count": null,
   "metadata": {},
   "outputs": [
    {
     "name": "stdout",
     "output_type": "stream",
     "text": [
      "11\n"
     ]
    }
   ],
   "source": [
    "def remove_immediate_duplicates(digits):\n",
    "    original = []\n",
    "    ans = []\n",
    "    \n",
    "    for digit in digits:\n",
    "        if original and original[-1] == digit:\n",
    "            if ans and ans[-1] == digit: ans.pop()\n",
    "        else:\n",
    "            ans.append(digit)\n",
    "\n",
    "        original.append(digit)\n",
    "    \n",
    "    if ans:\n",
    "        return ''.join(ans)\n",
    "    else:\n",
    "        return '-1'\n",
    "\n",
    "input_digits = input()\n",
    "print(remove_immediate_duplicates(input_digits))"
   ]
  },
  {
   "cell_type": "markdown",
   "metadata": {},
   "source": [
    "#### **11. Ramesh is a student and wants to find out if there is any other student in his class who has got the same marks as his, in maths. Help him to find out.**\n",
    " \n",
    "**Input Description:**\n",
    "\n",
    "First line contains the number of students in the class followed by Ramesh’s mark. Second line contains the marks of all students in the class.\n",
    "\n",
    "**Output Description:**\n",
    "\n",
    "Index of student who got mark same as Ramesh’s mark. If no such mark exists, return -1.\n",
    "\n",
    "Sample Input :\n",
    "\n",
    "2 10\n",
    "\n",
    "1 2\n",
    "\n",
    "Sample Output :\n",
    "\n",
    "-1"
   ]
  },
  {
   "cell_type": "code",
   "execution_count": 2,
   "metadata": {},
   "outputs": [
    {
     "name": "stdout",
     "output_type": "stream",
     "text": [
      "-1\n"
     ]
    }
   ],
   "source": [
    "def mar(n, m, marks):\n",
    "    a = []\n",
    "    for i in range(n):\n",
    "        if marks[i] == m:\n",
    "            a.append(i)\n",
    "    return a\n",
    "\n",
    "n, m = map(int, input().split())\n",
    "marks = list(map(int, input().split()))\n",
    "result = mar(n, m, marks)\n",
    "\n",
    "if len(result) != 0:\n",
    "    print(*result)\n",
    "else:\n",
    "    print(\"-1\")"
   ]
  },
  {
   "cell_type": "markdown",
   "metadata": {},
   "source": [
    "#### **12. You are given an array of non-negative integers representing height of walls at index i as Ai and the width of each block is 1. Compute how much air can be encapsulated between the walls of chamber.**\n",
    "\n",
    "**Input Description:**\n",
    "\n",
    "Each line contains an integer ‘N’ denoting the size of the array Next line contains N space separated numbers to be stored in array.\n",
    "\n",
    "**Output Description:**\n",
    "\n",
    "Output the total unit of Air encapsulated between the walls of chamber.\n",
    "\n",
    "Sample Input :\n",
    "\n",
    "3\n",
    "\n",
    "7 4 9\n",
    "\n",
    "Sample Output :\n",
    "\n",
    "3"
   ]
  },
  {
   "cell_type": "code",
   "execution_count": 1,
   "metadata": {},
   "outputs": [
    {
     "name": "stdout",
     "output_type": "stream",
     "text": [
      "3\n"
     ]
    }
   ],
   "source": [
    "def trapped_air(heights):\n",
    "    n = len(heights)\n",
    "    max_left = [0] * n\n",
    "    max_right = [0] * n\n",
    "\n",
    "    max_height_left = 0\n",
    "    for i in range(n):\n",
    "        max_left[i] = max_height_left\n",
    "        max_height_left = max(max_height_left, heights[i])\n",
    "\n",
    "    max_height_right = 0\n",
    "    for i in range(n - 1, -1, -1):\n",
    "        max_right[i] = max_height_right\n",
    "        max_height_right = max(max_height_right, heights[i])\n",
    "\n",
    "    trapped = 0\n",
    "    for i in range(n):\n",
    "        min_boundary_height = min(max_left[i], max_right[i])\n",
    "        trapped += max(0, min_boundary_height - heights[i])\n",
    "    return trapped\n",
    "\n",
    "n = int(input())\n",
    "heights = list(map(int, input().split()))\n",
    "trapped_units = trapped_air(heights)\n",
    "print(trapped_units)"
   ]
  },
  {
   "cell_type": "markdown",
   "metadata": {},
   "source": [
    "#### **13. Loki wants to steal the tesseract but in order to do so, he has to rearrange the elements in an array in a specific manner which is mentioned in a clue. The clue says ‘cursed are the odd and sorted are the even’. Loki manages to decode the clue which translates to “sort the even positioned elements of an array, starting from the element at index 0, in ascending order”. Manipulate the array so as to help Loki steal the tesseract.**\n",
    " \n",
    "**Input Description:**\n",
    "\n",
    "Size of the array followed by the elements of the array\n",
    "\n",
    "**Output Description:**\n",
    "\n",
    "Even index array elements sorted in ascending order\n",
    "\n",
    "Sample Input :\n",
    "\n",
    "5\n",
    "\n",
    "3 9 1 44 6\n",
    "\n",
    "Sample Output :\n",
    "\n",
    "1 9 3 44 6"
   ]
  },
  {
   "cell_type": "code",
   "execution_count": null,
   "metadata": {},
   "outputs": [
    {
     "name": "stdout",
     "output_type": "stream",
     "text": [
      "1 9 3 44 6\n"
     ]
    }
   ],
   "source": [
    "def rearrange_array(n, arr):\n",
    "    # Extract elements at even indices\n",
    "    even_index_elements = [arr[i] for i in range(n) if i % 2 == 0]\n",
    "    \n",
    "    # Sort the extracted even indexed elements by their value\n",
    "    even_index_elements.sort()\n",
    "\n",
    "    # Place sorted elements back to their respective even positions\n",
    "    even_index_sorted_index = 0\n",
    "    for i in range(n):\n",
    "        if i % 2 == 0:\n",
    "            arr[i] = even_index_elements[even_index_sorted_index]\n",
    "            even_index_sorted_index += 1\n",
    "    return arr\n",
    "\n",
    "n = int(input())\n",
    "arr = list(map(int, input().split()))\n",
    "sorted_arr = rearrange_array(n, arr)\n",
    "print(*sorted_arr)"
   ]
  },
  {
   "cell_type": "markdown",
   "metadata": {},
   "source": [
    "#### **15. You are a passport issuer, but due to some problems in the system, there are redundant  passport numbers. Your task is to delete all the duplicate passport numbers. You are given a list of passport numbers.**\n",
    "\n",
    "**Input Description:**\n",
    "\n",
    "You are given length of list.Second line,You are given with a list.\n",
    "\n",
    "**Output Description:**\n",
    "\n",
    "Print the list of passport numbers without duplicates.\n",
    "\n",
    "Sample Input :\n",
    "\n",
    "5\n",
    "\n",
    "A23 B56 B56 C79 D16\n",
    "\n",
    "Sample Output :\n",
    "\n",
    "A23 B56 C79 D16"
   ]
  },
  {
   "cell_type": "code",
   "execution_count": 2,
   "metadata": {},
   "outputs": [
    {
     "name": "stdout",
     "output_type": "stream",
     "text": [
      "A23 B56 C79 D16\n"
     ]
    }
   ],
   "source": [
    "# Remove duplicate value\n",
    "n = int(input())\n",
    "arr = list(input().split())\n",
    "\n",
    "# Traverse the list from end to start\n",
    "for i in range(n-1, 0, -1):\n",
    "    if arr[i] in arr[:i]:\n",
    "        arr.pop(i)\n",
    "print(*arr)"
   ]
  },
  {
   "cell_type": "markdown",
   "metadata": {},
   "source": [
    "#### **16. Mr.Stark wants to order the employee ids, which are recorded in a 2D matrix, in ascending order. He wants to do it so as to allot a new id to a person who joins as a fresher. You are the CTO of the Stark industries and you are asked by Mr.Stark to sort the data.**\n",
    " \n",
    "**Input Description:**\n",
    "\n",
    "Dimensions of the matrix m and n, followed by the elements of the matrix.\n",
    "\n",
    "**Output Description:**\n",
    "\n",
    "Matrix sorted in ascending order\n",
    "\n",
    "Sample Input :\n",
    "\n",
    "3 3\n",
    "\n",
    "87 21 34\n",
    "\n",
    "89 32 78\n",
    "\n",
    "12 23 45\n",
    "\n",
    "Sample Output :\n",
    "\n",
    "12 21 23\n",
    "\n",
    "32 34 45\n",
    "\n",
    "78 87 89"
   ]
  },
  {
   "cell_type": "code",
   "execution_count": null,
   "metadata": {},
   "outputs": [],
   "source": [
    "# Get the input dimensions\n",
    "m, n = map(int, input().split())\n",
    "\n",
    "# Read the matrix elements and flatten them in one step\n",
    "matrix = [int(x) for _ in range(m) for x in input().split()]\n",
    "\n",
    "# Sort the matrix elements\n",
    "sorted_matrix = sorted(matrix)\n",
    "\n",
    "# Print the sorted matrix in the required format\n",
    "for i in range(m):\n",
    "    print(\" \".join(map(str, sorted_matrix[i*n:(i+1)*n])))"
   ]
  },
  {
   "cell_type": "markdown",
   "metadata": {},
   "source": [
    "#### **17. You are a software engineer at an MNC. You are given the task of sorting the employees in your company based on their salary. Perform the task so that the employees, including yourself, will get a bonus from the management.**\n",
    "\n",
    "CONSTRAINT:\n",
    "\n",
    "0<=salary<=1000000\n",
    "\n",
    "**Input Description:**\n",
    "\n",
    "Number of employees followed by their name and salary\n",
    "\n",
    "**Output Description:**\n",
    "\n",
    "Sorted list of employee names\n",
    "\n",
    "Sample Input :\n",
    "\n",
    "3\n",
    "\n",
    "Karthik 23000 rohan 81734 varshini 12343\n",
    "\n",
    "Sample Output :\n",
    "\n",
    "varshini\n",
    "Karthik\n",
    "Rohan"
   ]
  },
  {
   "cell_type": "markdown",
   "metadata": {},
   "source": [
    "1.Read the number of employees.\n",
    "\n",
    "2.Read the employee names and their respective salaries.\n",
    "\n",
    "3.Parse the input into a list of tuples where each tuple contains an employee's name and salary.\n",
    "\n",
    "4.Sort the list of tuples based on the salary in ascending order.\n",
    "\n",
    "5.Extract and print the sorted list of employee names."
   ]
  },
  {
   "cell_type": "code",
   "execution_count": null,
   "metadata": {},
   "outputs": [
    {
     "name": "stdout",
     "output_type": "stream",
     "text": [
      "varshini\n",
      "Karthik\n",
      "rohan\n"
     ]
    }
   ],
   "source": [
    "num_employees = int(input())\n",
    "\n",
    "data = input().split()\n",
    "\n",
    "# Parse the employee data into a list of (name, salary) tuples\n",
    "employees = [(data[i], int(data[i+1])) for i in range(0, len(data), 2)]\n",
    "\n",
    "# Sort employees by salary\n",
    "sorted_employees = sorted(employees, key=lambda x: x[1])\n",
    "\n",
    "# Extract and print the sorted list of employee names\n",
    "for employee in sorted_employees:\n",
    "    print(employee[0])"
   ]
  },
  {
   "cell_type": "markdown",
   "metadata": {},
   "source": [
    "#### **18. You are an intern at GUVI and the company wants to organise its data and delete unnecessary extra storage elements used. You are given k arrays of unequal dimensions. Sort the k arrays individually and concatenate them.**\n",
    " \n",
    "**Input Description:**\n",
    "\n",
    "First line contains the number of arrays. Subsequent lines contain the size of the array followed by the elements of the array.\n",
    "\n",
    "**Output Description:**\n",
    "\n",
    "An array containing the sorted elements of k sorted arrays\n",
    "\n",
    "Sample Input :\n",
    "\n",
    "3\n",
    "\n",
    "2\n",
    "\n",
    "98 12\n",
    "\n",
    "6\n",
    "\n",
    "1 2 3 8 5 9\n",
    "\n",
    "1\n",
    "\n",
    "11\n",
    "\n",
    "Sample Output :\n",
    "\n",
    "12 98 1 2 3 5 8 9 11"
   ]
  },
  {
   "cell_type": "markdown",
   "metadata": {},
   "source": [
    "**Steps:**\n",
    "\n",
    "1.Read the number of arrays.\n",
    "\n",
    "2.For each array, read its size and then read its elements.\n",
    "\n",
    "3.Sort each array.\n",
    "\n",
    "4.Concatenate all the sorted arrays.\n",
    "\n",
    "5.Print the concatenated array."
   ]
  },
  {
   "cell_type": "code",
   "execution_count": null,
   "metadata": {},
   "outputs": [
    {
     "name": "stdout",
     "output_type": "stream",
     "text": [
      "12 98 1 2 3 5 8 9 11\n"
     ]
    }
   ],
   "source": [
    "n = int(input())\n",
    "\n",
    "sorted_arrays = []\n",
    "\n",
    "# Read and process each array\n",
    "for _ in range(n):\n",
    "    size = int(input())\n",
    "    array = list(map(int, input().split()))\n",
    "    array.sort()                    # Sort the array\n",
    "    sorted_arrays.extend(array)     # Add the sorted array to the list of sorted arrays\n",
    "\n",
    "# concatenated sorted arrays\n",
    "print(\" \".join(map(str, sorted_arrays)))"
   ]
  },
  {
   "cell_type": "markdown",
   "metadata": {},
   "source": [
    "#### **19. You are given with two arrays. Your task is to merge the array such that first array is in ascending order and second one in descending order.**\n",
    "\n",
    "**Input Description:**\n",
    "\n",
    "First line contains two integer ‘n’ and ‘m’. ‘n’ denotes length of array 1 and ‘m’ of array 2.Next line contains n space separated numbers and third line contains ‘m’ space separated numbers\n",
    "\n",
    "**Output Description:**\n",
    "\n",
    "Print a single array in desired order\n",
    "\n",
    "Sample Input :\n",
    "\n",
    "3 3\n",
    "\n",
    "23 15 16\n",
    "\n",
    "357 65 10\n",
    "\n",
    "Sample Output :\n",
    "\n",
    "15 16 23 357 65 10"
   ]
  },
  {
   "cell_type": "markdown",
   "metadata": {},
   "source": [
    "**Steps:**\n",
    "\n",
    "1. Read the input values for the lengths of the arrays.\n",
    "\n",
    "2. Read the elements of both arrays.\n",
    "\n",
    "3. Sort the first array in ascending order.\n",
    "\n",
    "4. Sort the second array in descending order.\n",
    "\n",
    "5. Concatenate the two sorted arrays.\n",
    "\n",
    "6. Print the merged array."
   ]
  },
  {
   "cell_type": "code",
   "execution_count": null,
   "metadata": {},
   "outputs": [
    {
     "name": "stdout",
     "output_type": "stream",
     "text": [
      "15 16 23 357 65 10\n"
     ]
    }
   ],
   "source": [
    "n, m = map(int, input().split())\n",
    "array1 = list(map(int, input().split()))\n",
    "array2 = list(map(int, input().split()))\n",
    "\n",
    "# Sort the first array in ascending order\n",
    "array1.sort()\n",
    "\n",
    "# Sort the second array in descending order\n",
    "array2.sort(reverse=True)\n",
    "\n",
    "# Merge the two arrays\n",
    "merged_array = array1 + array2\n",
    "print(\" \".join(map(str, merged_array)))"
   ]
  },
  {
   "cell_type": "markdown",
   "metadata": {},
   "source": [
    "#### **21. Ria is a 5 year old girl. Her mother wants to teach her how to sort words in the same order that they appear in a dictionary. She decides to write a program to sort a given set of strings based on their alphabetical order. Help Ria’s mother to complete the program.**\n",
    "\n",
    "**Input Description:**\n",
    "\n",
    "A set of N strings\n",
    "\n",
    "**Output Description:**\n",
    "\n",
    "Alphabetically sorted set of strings\n",
    "\n",
    "Sample Input :\n",
    "\n",
    "3\n",
    "\n",
    "InfinityWar EndGame Avengers\n",
    "\n",
    "Sample Output :\n",
    "\n",
    "Avengers EndGame InfinityWar"
   ]
  },
  {
   "cell_type": "code",
   "execution_count": 3,
   "metadata": {},
   "outputs": [
    {
     "name": "stdout",
     "output_type": "stream",
     "text": [
      "Avengers EndGame InfinityWar\n"
     ]
    }
   ],
   "source": [
    "n = int(input())      # n = 3\n",
    "s = input().split()   # s = InfinityWar EndGame Avengers\n",
    "\n",
    "# Sort the strings in alphabetical order\n",
    "s.sort()\n",
    "print(\" \".join(s))"
   ]
  },
  {
   "cell_type": "markdown",
   "metadata": {},
   "source": [
    "#### **22. You are provided with an array in which all elements are repeated thrice except one which is repeated twice.Your task is to print that number.**\n",
    "\n",
    "O(n) time and O(1) extra space\n",
    "\n",
    "**Input Description:**\n",
    "\n",
    "First line contains a number denoting size of array ‘n’.Next line contains n space separated numbers\n",
    "\n",
    "**Output Description:**\n",
    "\n",
    "Print the number which is repeated twice\n",
    "\n",
    "Sample Input :\n",
    "\n",
    "5\n",
    "\n",
    "13 12 13 12 13\n",
    "\n",
    "Sample Output :\n",
    "\n",
    "12"
   ]
  },
  {
   "cell_type": "markdown",
   "metadata": {},
   "source": [
    "**Steps:**\n",
    "\n",
    "1. Sum of Unique Elements (3 * sum(set(arr))): This calculates the sum of all unique elements in the array, multiplied by 3. Since every element appears three times except the one that appears twice, this sum includes the contribution of the unique element appearing twice an extra time.\n",
    "\n",
    "2. Total Sum (sum(arr)): This is the sum of all elements in the array.\n",
    "\n",
    "3. Difference: The difference between the above two sums gives the element that appears twice.\n",
    "\n",
    "**Explaination:**\n",
    "\n",
    "Unique elements: {13, 12}\n",
    "\n",
    "Sum of unique elements: 13 + 12 = 25\n",
    "\n",
    "3 * Sum of unique elements: 3 * 25 = 75\n",
    "\n",
    "Total sum of array elements: 13 + 12 + 13 + 12 + 13 = 63\n",
    "\n",
    "Difference: 75 - 63 = 12\n",
    "\n",
    "Number that appears twice: 12"
   ]
  },
  {
   "cell_type": "code",
   "execution_count": 6,
   "metadata": {},
   "outputs": [
    {
     "name": "stdout",
     "output_type": "stream",
     "text": [
      "12\n"
     ]
    }
   ],
   "source": [
    "# Method - 1 : Using set() function\n",
    "\n",
    "n = int(input())\n",
    "arr = list(map(int,input().split()))\n",
    "\n",
    "#using set\n",
    "def twice(arr):\n",
    "    return ((3*sum(set(arr)))-sum(arr))\n",
    "print(twice(arr))"
   ]
  },
  {
   "cell_type": "markdown",
   "metadata": {},
   "source": [
    "**Another method :**\n",
    "\n",
    "**Steps:**\n",
    "1. Use a dictionary to count the occurrences of each element.\n",
    "2. Iterate through the array and populate the dictionary.\n",
    "3. Identify and return the element that appears exactly twice.\n",
    "\n",
    "**Explaination:**\n",
    "\n",
    "1.Initial Array: [13, 12, 13, 12, 13]\n",
    "\n",
    "2.Counting Occurrences:\n",
    "    13 appears 3 times.\n",
    "    12 appears 2 times.\n",
    "\n",
    "3.Finding the Result:\n",
    "    The dictionary will be {13: 3, 12: 2}\n",
    "    The function returns 12 since it appears exactly twice."
   ]
  },
  {
   "cell_type": "code",
   "execution_count": 8,
   "metadata": {},
   "outputs": [
    {
     "name": "stdout",
     "output_type": "stream",
     "text": [
      "12\n"
     ]
    }
   ],
   "source": [
    "# Method - 2 : Using dict to count the occurance of each value\n",
    "\n",
    "def singleNumber(nums, l):\n",
    "    count_dict = {}\n",
    "    \n",
    "    # Count the occurrences of each number\n",
    "    for num in nums:\n",
    "        if num in count_dict:\n",
    "            count_dict[num] += 1\n",
    "        else:\n",
    "            count_dict[num] = 1\n",
    "    \n",
    "    # Find the number that appears exactly twice\n",
    "    for num, count in count_dict.items():\n",
    "        if count == 2:\n",
    "            return num\n",
    "\n",
    "# Read input\n",
    "n = int(input())\n",
    "nums = list(map(int, input().split()))\n",
    "\n",
    "# Find and print the number which appears twice\n",
    "print(singleNumber(nums, n))"
   ]
  },
  {
   "cell_type": "markdown",
   "metadata": {},
   "source": [
    "#### **23. You are given given task is to print whether array is ‘majestic’ or not.A ‘majsetic’ array is an array whose sum of first three number is equal to last three number.**\n",
    "\n",
    "**Input Description:**\n",
    "\n",
    "You are given a number ‘n’,Next line contains ‘n’ space separated\n",
    "\n",
    "**Output Description:**\n",
    "\n",
    "Print 1 if array is majestic and 0 if it is not\n",
    "\n",
    "Sample Input :\n",
    "\n",
    "7\n",
    "\n",
    "1 2 3 4 6 0 0\n",
    "\n",
    "Sample Output :\n",
    "\n",
    "1"
   ]
  },
  {
   "cell_type": "code",
   "execution_count": 1,
   "metadata": {},
   "outputs": [
    {
     "name": "stdout",
     "output_type": "stream",
     "text": [
      "1\n"
     ]
    }
   ],
   "source": [
    "def is_majestic(arr):\n",
    "    if len(arr) < 6:\n",
    "        return 0  # If there are less than 6 elements, it cannot be majestic\n",
    "    \n",
    "    # Sum of the first three elements\n",
    "    sum_first_three = sum(arr[:3])\n",
    "    \n",
    "    # Sum of the last three elements\n",
    "    sum_last_three = sum(arr[-3:])\n",
    "    \n",
    "    # Check if the sums are equal\n",
    "    if sum_first_three == sum_last_three:\n",
    "        return 1\n",
    "    else:\n",
    "        return 0\n",
    "\n",
    "n = int(input())                            # n = 7\n",
    "arr = list(map(int, input().split()))       # arr = 1 2 3 4 6 0 0\n",
    "result = is_majestic(arr)\n",
    "print(result)"
   ]
  },
  {
   "cell_type": "markdown",
   "metadata": {},
   "source": [
    "#### **24. You are given two arrays of equal length. Your task is to merge the two arrays then sort them too and then find the sum of two middlemost elements.**\n",
    "\n",
    "**Input Description:**\n",
    "\n",
    "You are given a number ‘n’. Then Next line contains first list of 'n' separated numbers.Third line contains second list of 'n' space separated numbers.\n",
    "\n",
    "**Output Description:**\n",
    "\n",
    "Print the sum of two middle elements\n",
    "\n",
    "Sample Input :\n",
    "\n",
    "5\n",
    "\n",
    "1 9 16 25 46\n",
    "\n",
    "2 3 4 5 6\n",
    "\n",
    "Sample Output :\n",
    "\n",
    "11"
   ]
  },
  {
   "cell_type": "code",
   "execution_count": null,
   "metadata": {},
   "outputs": [
    {
     "name": "stdout",
     "output_type": "stream",
     "text": [
      "11\n"
     ]
    }
   ],
   "source": [
    "def sum_of_middle_elements(arr1, arr2):\n",
    "    merged_array = arr1 + arr2\n",
    "    merged_array.sort()\n",
    "    \n",
    "    # Calculate the indices for the middle elements\n",
    "    total_length = len(merged_array)\n",
    "    mid1_index = total_length // 2 - 1\n",
    "    mid2_index = total_length // 2\n",
    "    \n",
    "    # Sum the two middle elements\n",
    "    sum_middle = merged_array[mid1_index] + merged_array[mid2_index]\n",
    "    return sum_middle\n",
    "\n",
    "n = int(input())\n",
    "arr1 = list(map(int, input().split()))\n",
    "arr2 = list(map(int, input().split()))\n",
    "print(sum_of_middle_elements(arr1, arr2))"
   ]
  },
  {
   "cell_type": "markdown",
   "metadata": {},
   "source": [
    "#### **25. Rahul is fond of numbers.He is given a list of queries. 1 means store that element,2 means means print the minimum element of the stored list. For more clarity see the input and output example**\n",
    "\n",
    "**Input Description:**\n",
    "\n",
    "The first line of the input N indicates the size of the query list. For N lines, the queries are given with the format of '1 M', where M indicates the number to be stored and 1 indicates the query type. Similarly, '2' which indicates the type of query and it does not contain M since it is not required by this query type. Briefly saying, '1 M' means store that element M in a list '2' means print the minimum element of stored list\n",
    "\n",
    "**Output Description:**\n",
    "\n",
    "Print the minimum element and -1 if there are no elements in stored list if the querytype is 2. Store the given number in the list if the query type is 1.\n",
    "\n",
    "Sample Input :\n",
    "\n",
    "5\n",
    "\n",
    "1 60\n",
    "\n",
    "2\n",
    "\n",
    "1 58\n",
    "\n",
    "2\n",
    "\n",
    "1 69\n",
    "\n",
    "Sample Output :\n",
    "\n",
    "60 58"
   ]
  },
  {
   "cell_type": "markdown",
   "metadata": {},
   "source": [
    "**Problem Statement:**\n",
    "\n",
    "Rahul is given a series of queries to process. Each query is of two possible types:\n",
    "\n",
    "Query type 1 M: This query indicates that the number M should be stored in a list.\n",
    "Query type 2: This query requires finding and printing the minimum element from the list of stored numbers. If the list is empty, it should print -1.\n",
    "\n",
    "**Explanation:**\n",
    "\n",
    "First Query: 1 5\n",
    "\n",
    "Store 5 in the list.\n",
    "\n",
    "List: [5]\n",
    "\n",
    "Second Query: 1 3\n",
    "\n",
    "Store 3 in the list.\n",
    "\n",
    "List: [5, 3]\n",
    "\n",
    "Third Query: 2\n",
    "\n",
    "Find the minimum element in the list [5, 3].\n",
    "\n",
    "The minimum element is 3.\n",
    "\n",
    "Output: 3\n",
    "\n",
    "Fourth Query: 1 2\n",
    "\n",
    "Store 2 in the list.\n",
    "\n",
    "List: [5, 3, 2]\n",
    "\n",
    "Fifth Query: 2\n",
    "\n",
    "Find the minimum element in the list [5, 3, 2].\n",
    "\n",
    "The minimum element is 2.\n",
    "\n",
    "Output: 2"
   ]
  },
  {
   "cell_type": "code",
   "execution_count": 4,
   "metadata": {},
   "outputs": [
    {
     "name": "stdout",
     "output_type": "stream",
     "text": [
      "60 58\n"
     ]
    }
   ],
   "source": [
    "q = int(input())  # Number of queries\n",
    "l = []  # List to store elements\n",
    "b = []  # List to store results of type 2 queries\n",
    "\n",
    "for _ in range(q):\n",
    "    a = [int(x) for x in input().split()]  # Read the query\n",
    "    if a[0] == 1: \n",
    "        l.append(a[1])  # Append to list if query is of type 1\n",
    "    if a[0] == 2:\n",
    "        if len(l) == 0: \n",
    "            b.append(-1)  # If list is empty, append -1\n",
    "        else: \n",
    "            b.append(min(l))  # Append the minimum element from list\n",
    "\n",
    "print(*b)  # Print all results of type 2 queries"
   ]
  },
  {
   "cell_type": "markdown",
   "metadata": {},
   "source": [
    "#### **26. You are given with a list of size ‘n’. The list is imposed with a condition that all elements must be of range 0 to n-1.Your task is to rearrange the numbers such that arr[i] becomes arr[arr[i]].**\n",
    "\n",
    "**Input Description:**\n",
    "\n",
    "You are given size of array ‘n’.n space separated numbers in next line.\n",
    "\n",
    "**Output Description:**\n",
    "\n",
    "Print all elements after rearranging.\n",
    "\n",
    "Sample Input :\n",
    "\n",
    "5\n",
    "\n",
    "4 0 2 1 3\n",
    "\n",
    "Sample Output :\n",
    "\n",
    "3 4 2 0 1"
   ]
  },
  {
   "cell_type": "markdown",
   "metadata": {},
   "source": [
    "Problem Statement\n",
    "Given a list of size n with elements in the range 0 to n-1, rearrange the list so that each element at index i is replaced with the element at index arr[i]."
   ]
  },
  {
   "cell_type": "code",
   "execution_count": null,
   "metadata": {},
   "outputs": [
    {
     "name": "stdout",
     "output_type": "stream",
     "text": [
      "3 4 2 0 1\n"
     ]
    }
   ],
   "source": [
    "n = int(input())\n",
    "arr = list(map(int, input().split()))\n",
    "\n",
    "# Create a new array to store the result\n",
    "result = [0] * n\n",
    "\n",
    "# Rearrange the array elements\n",
    "for i in range(n):\n",
    "    result[i] = arr[arr[i]]\n",
    "print(*result)"
   ]
  },
  {
   "cell_type": "markdown",
   "metadata": {},
   "source": [
    "#### **27. Given a number N, print the odd digits in the number(space seperated) or print -1 if there is no odd digit in the given number.**\n",
    "\n",
    "Input Size : N <= 100000\n",
    "\n",
    "Sample Testcase :\n",
    "\n",
    "INPUT\n",
    "\n",
    "2143\n",
    "\n",
    "OUTPUT\n",
    "\n",
    "1 3"
   ]
  },
  {
   "cell_type": "code",
   "execution_count": 8,
   "metadata": {},
   "outputs": [
    {
     "name": "stdout",
     "output_type": "stream",
     "text": [
      "1 3\n"
     ]
    }
   ],
   "source": [
    "# using list comprehension to get the odd digits from number\n",
    "def print_odd_digits(N):\n",
    "    odd_digits = [digit for digit in str(N) if int(digit) % 2 != 0]\n",
    "    result = ' '.join(odd_digits) if odd_digits else '-1'\n",
    "    print(result)\n",
    "\n",
    "N = int(input())        # N = 2143\n",
    "print_odd_digits(N)"
   ]
  },
  {
   "cell_type": "code",
   "execution_count": 7,
   "metadata": {},
   "outputs": [
    {
     "name": "stdout",
     "output_type": "stream",
     "text": [
      "Odd digits of 2143: [1, 3]\n",
      "1 3\n"
     ]
    }
   ],
   "source": [
    "def extract_odd_digits(number):\n",
    "    # Convert number to string to iterate over each digit\n",
    "    num_str = str(number)\n",
    "    odd_digits = []\n",
    "    \n",
    "    # Iterate over each character (digit) in the string\n",
    "    for digit_char in num_str:\n",
    "        digit = int(digit_char)\n",
    "        # Check if the digit is odd\n",
    "        if digit % 2 != 0:\n",
    "            odd_digits.append(digit)\n",
    "    return odd_digits\n",
    "\n",
    "number = int(input())\n",
    "odd_digits = extract_odd_digits(number)\n",
    "print(f\"Odd digits of {number}: {odd_digits}\")\n",
    "print(*odd_digits)"
   ]
  },
  {
   "cell_type": "markdown",
   "metadata": {},
   "source": [
    "#### **28. Finding the least occurring element(s) in an array and printing them in decreasing order**\n",
    "\n",
    "You are given an array of numbers. Print the least occurring element. If there is more than 1 element print all of them in decreasing order of their value.\n",
    "\n",
    "**Input Description:**\n",
    "\n",
    "You are given a number ‘n’ denoting size of array. Next line contains n space separated numbers.\n",
    "\n",
    "**Output Description:**\n",
    "\n",
    "Print the number as mentioned\n",
    "\n",
    "Sample Input :\n",
    "\n",
    "9\n",
    "\n",
    "1 6 4 56 56 56 6 4 2\n",
    "\n",
    "Sample Output :\n",
    "\n",
    "2 1"
   ]
  },
  {
   "cell_type": "markdown",
   "metadata": {},
   "source": [
    "**Steps:**\n",
    "\n",
    "The dictionary freq will be {1: 1, 6: 2, 4: 2, 56: 3, 2: 1}.\n",
    "\n",
    "The minimum frequency min_freq is 1.\n",
    "\n",
    "The least_occuring elements are [2, 1].\n",
    "\n",
    "Sorting and printing these elements in decreasing order gives 2 1."
   ]
  },
  {
   "cell_type": "code",
   "execution_count": 1,
   "metadata": {},
   "outputs": [
    {
     "name": "stdout",
     "output_type": "stream",
     "text": [
      "2 1\n"
     ]
    }
   ],
   "source": [
    "def least_occuring_elements(n, arr):\n",
    "    # Count frequencies of each element using a dictionary\n",
    "    freq = {}                           # freq = {1: 1, 6: 2, 4: 2, 56: 3, 2: 1}\n",
    "    for num in arr:\n",
    "        if num in freq:\n",
    "            freq[num] += 1\n",
    "        else:\n",
    "            freq[num] = 1\n",
    "    \n",
    "    # Find the minimum frequency\n",
    "    min_freq = min(freq.values())       # min_freq = 1\n",
    "    \n",
    "    # Collect elements with minimum frequency\n",
    "    least_occuring = [num for num, count in freq.items() if count == min_freq]  # least_occuring = [1, 2]\n",
    "    \n",
    "    # Sort and print in decreasing order of their value\n",
    "    least_occuring.sort(reverse=True)                               # least_occuring = [2, 1]\n",
    "    print(*least_occuring)                                          # least_occuring =  2 1\n",
    "\n",
    "n = int(input())                                # Read the size of the array = 9\n",
    "arr = list(map(int, input().split()))           # Read the array elements = 1 6 4 56 56 56 6 4 2\n",
    "\n",
    "# Calling the function to find and print least occurring elements\n",
    "least_occuring_elements(n, arr)"
   ]
  },
  {
   "cell_type": "markdown",
   "metadata": {},
   "source": [
    "#### **29. Find the maximum marks obtained from two students**\n",
    "\n",
    "Rajesh and Ram are having a conflict on the maximum marks that they have scored in all the exams conducted in the past year. The one having scored the maximum gets a treat from the other. They decide to go through their test papers and record their highest marks. You are Rajesh’s best friend and as he has tutions to attend, he gives you all his test papers and asks you to find out the maximum marks that he has scored among all the marks in all exams. He promises you a treat if he wins the bet with Ram. Help Rajesh find out his highest marks.\n",
    "\n",
    "Constraints:\n",
    "\n",
    "1 <= N <= 10\n",
    "\n",
    "0 <= A[] <= 100\n",
    "\n",
    "**Input Description:**\n",
    "\n",
    "First line contains count of marks. Next line is the list of marks obtained by Rajesh.\n",
    "\n",
    "**Output Description:**\n",
    "\n",
    "Highest marks obtained by Rajesh.\n",
    "\n",
    "Sample Input :\n",
    "\n",
    "3\n",
    "\n",
    "82 96 72\n",
    "\n",
    "Sample Output :\n",
    "\n",
    "96\n"
   ]
  },
  {
   "cell_type": "code",
   "execution_count": 1,
   "metadata": {},
   "outputs": [
    {
     "name": "stdout",
     "output_type": "stream",
     "text": [
      "96\n"
     ]
    }
   ],
   "source": [
    "count = int(input())\n",
    "marks = list(map(int, input().split()))\n",
    "highest_mark = max(marks)\n",
    "print(highest_mark)"
   ]
  },
  {
   "cell_type": "markdown",
   "metadata": {},
   "source": [
    "#### **30. Find the sum of all negative numbers in an array**\n",
    "\n",
    "Given a number N and an array of N integers, find the sum of all the negative numbers in the array.\n",
    "Input Size : N <= 100000\n",
    "\n",
    "Sample Testcase :\n",
    "\n",
    "INPUT\n",
    "\n",
    "2\n",
    "\n",
    "3 0\n",
    "\n",
    "OUTPUT\n",
    "\n",
    "0"
   ]
  },
  {
   "cell_type": "code",
   "execution_count": 2,
   "metadata": {},
   "outputs": [
    {
     "name": "stdout",
     "output_type": "stream",
     "text": [
      "0\n"
     ]
    }
   ],
   "source": [
    "# Get the number of integers\n",
    "n = int(input())\n",
    "\n",
    "# Get the list of integers\n",
    "numbers = list(map(int, input().split()))\n",
    "\n",
    "# Calculate the sum of negative numbers\n",
    "negative_sum = sum(num for num in numbers if num < 0)\n",
    "\n",
    "# Print the sum of negative numbers\n",
    "print(negative_sum)\n"
   ]
  },
  {
   "cell_type": "markdown",
   "metadata": {},
   "source": [
    "### **31. Given a number N, print the sum of squares of all its digits.**\n",
    "\n",
    "Input Size : 1 <= N <= 100000\n",
    "\n",
    "Sample Testcase :\n",
    "\n",
    "INPUT\n",
    "\n",
    "12\n",
    "\n",
    "OUTPUT\n",
    "\n",
    "5"
   ]
  },
  {
   "cell_type": "code",
   "execution_count": 3,
   "metadata": {},
   "outputs": [
    {
     "name": "stdout",
     "output_type": "stream",
     "text": [
      "5\n"
     ]
    }
   ],
   "source": [
    "# Get the input number as a string to easily access each digit\n",
    "n = input()             # n = '12'\n",
    "\n",
    "# Calculate the sum of the squares of all digits\n",
    "sum_of_squares = sum(int(digit)**2 for digit in n)      # n = 1 ^ 2 + 2 ^ 2 = 1 + 4 = 5\n",
    "\n",
    "# Print the result\n",
    "print(sum_of_squares)"
   ]
  },
  {
   "cell_type": "markdown",
   "metadata": {},
   "source": [
    "#### **32. Given a number N print a right angled traingle structure with the starting level as single 1 and every immediate proceeding level with 2 more additional ones than the previous level .Repeat the pattern for N levels.**\n",
    "\n",
    "Input Size : N <= 1000\n",
    "\n",
    "Sample Testcase :\n",
    "\n",
    "INPUT\n",
    "\n",
    "3\n",
    "\n",
    "OUTPUT\n",
    "\n",
    "1\n",
    "\n",
    "1 1 1\n",
    "\n",
    "1 1 1 1 1"
   ]
  },
  {
   "cell_type": "code",
   "execution_count": 5,
   "metadata": {},
   "outputs": [
    {
     "name": "stdout",
     "output_type": "stream",
     "text": [
      "1\n",
      "1 1 1\n",
      "1 1 1 1 1\n"
     ]
    }
   ],
   "source": [
    "N = int(input())\n",
    "k = '1'\n",
    "for i in range(N):\n",
    "    print(k)\n",
    "    k += ' 1 1'"
   ]
  },
  {
   "cell_type": "code",
   "execution_count": 1,
   "metadata": {},
   "outputs": [
    {
     "name": "stdout",
     "output_type": "stream",
     "text": [
      "1 \n",
      "1 1 1 \n",
      "1 1 1 1 1 \n"
     ]
    }
   ],
   "source": [
    "# Function to print the pattern\n",
    "def print_triangle(N):\n",
    "    for i in range(1, N + 1):\n",
    "        num_ones = 1 + 2 * (i - 1)\n",
    "        print(\"1 \" * num_ones)\n",
    "\n",
    "N = int(input())\n",
    "\n",
    "# Call the function with the input\n",
    "print_triangle(N)"
   ]
  },
  {
   "cell_type": "markdown",
   "metadata": {},
   "source": [
    "#### **33. Indian politics has an interesting trend in history. A party which assumes that it is the undefeatable champion in elections has been defeated by other parties in many instances.You are a data analyst in the Election Commission. You are given a list containing a year and the party which won the election in that particular year. Your task is to analyse the trend and find the years in which, one party, which won many elections consecutively, was suddenly defeated by another.**\n",
    " \n",
    "**Input Description:**\n",
    "\n",
    "Size of the array, followed by 2 arrays, one containing the year values and the other containing the party which won the election that year.\n",
    "\n",
    "**Output Description:**\n",
    "\n",
    "The year of transition from one party to another.\n",
    "\n",
    "Sample Input :\n",
    "\n",
    "5\n",
    "\n",
    "2004 1999 2019 2009 2014\n",
    "\n",
    "JDU JDU CON JDU CON\n",
    "\n",
    "Sample Output :\n",
    "\n",
    "2014"
   ]
  },
  {
   "cell_type": "markdown",
   "metadata": {},
   "source": [
    "#### **Approach 1: Using Zip for Iteration**\n",
    "\n",
    "In this approach, we'll use Python's zip function to iterate through both the years and parties lists simultaneously. This can simplify the loop structure and make the transition detection more straightforward."
   ]
  },
  {
   "cell_type": "code",
   "execution_count": 6,
   "metadata": {},
   "outputs": [
    {
     "name": "stdout",
     "output_type": "stream",
     "text": [
      "2019\n"
     ]
    }
   ],
   "source": [
    "def find_transition_year(size, years, parties):\n",
    "    if size <= 1:\n",
    "        return None\n",
    "    \n",
    "    transition_year = None\n",
    "    \n",
    "    for year, party in zip(years[1:], parties[1:]):\n",
    "        if party != parties[0]:\n",
    "            transition_year = year\n",
    "            break\n",
    "    \n",
    "    return transition_year\n",
    "\n",
    "def main():\n",
    "    size = int(input().strip())                         #  size = 5\n",
    "    years = list(map(int, input().strip().split()))     #  years = [2004, 1999, 2019, 2009, 2014]\n",
    "    parties = input().strip().split()                   #  parties = JDU JDU CON JDU CON\n",
    "    \n",
    "    transition_year = find_transition_year(size, years, parties)\n",
    "    \n",
    "    if transition_year:\n",
    "        print(transition_year)\n",
    "    else:\n",
    "        print(\"No transition year found.\")\n",
    "\n",
    "# Test case\n",
    "main()"
   ]
  },
  {
   "cell_type": "markdown",
   "metadata": {},
   "source": [
    "### **Approach 2: Using Index Comparison**\n",
    "\n",
    "In this approach, we use the index of the loop directly to compare the current and previous party directly. This eliminates the need for extra variables and directly checks the condition based on indices."
   ]
  },
  {
   "cell_type": "code",
   "execution_count": 7,
   "metadata": {},
   "outputs": [
    {
     "name": "stdout",
     "output_type": "stream",
     "text": [
      "2019\n"
     ]
    }
   ],
   "source": [
    "def find_transition_year(size, years, parties):\n",
    "    if size <= 1:\n",
    "        return None\n",
    "    \n",
    "    for i in range(1, size):\n",
    "        if parties[i] != parties[i-1]:\n",
    "            return years[i]\n",
    "    \n",
    "    return None\n",
    "\n",
    "def main():\n",
    "    size = int(input().strip())\n",
    "    years = list(map(int, input().strip().split()))\n",
    "    parties = input().strip().split()\n",
    "    \n",
    "    transition_year = find_transition_year(size, years, parties)\n",
    "    \n",
    "    if transition_year:\n",
    "        print(transition_year)\n",
    "    else:\n",
    "        print(\"No transition year found.\")\n",
    "\n",
    "# Test case\n",
    "main()"
   ]
  },
  {
   "cell_type": "markdown",
   "metadata": {},
   "source": [
    "### **35. Prakash is bored and wants to spends his time. He starts rolling a die and observes the value that is shown. He rolls the dice N times and observes that just one number appears distinctly, all the others get repeated or does not appear at all. Find out which was the number that puzzled Prakash for sometime, after which he realised that it was just a coincidence.**\n",
    "\n",
    "Constraints\n",
    "0 <   N  <= 100\n",
    "0 <= A[i] <= 100\n",
    " \n",
    "Input Description:\n",
    "\n",
    "The first line contains a positive integer N, denoting the size of the array. The second line contains N positive integers, denoting the face values that appeared when the die was rolled.\n",
    "\n",
    "Output Description:\n",
    "\n",
    "Print out the singly occurring number.\n",
    "\n",
    "Sample Input :\n",
    "\n",
    "5\n",
    "\n",
    "1 1 2 5 5\n",
    "\n",
    "Sample Output :\n",
    "\n",
    "2"
   ]
  },
  {
   "cell_type": "markdown",
   "metadata": {},
   "source": [
    "#### **To find the number that appears exactly once in the given list**\n",
    "\n",
    "**Logic:**\n",
    "\n",
    "1.Read the input value (N, arr)\n",
    "\n",
    "2.Dictionary to store the frequency of each number {}\n",
    "\n",
    "3.Count the occurrences of each number.\n",
    "\n",
    "4.Identify the number that appears exactly once."
   ]
  },
  {
   "cell_type": "code",
   "execution_count": 4,
   "metadata": {},
   "outputs": [
    {
     "name": "stdout",
     "output_type": "stream",
     "text": [
      "2\n"
     ]
    }
   ],
   "source": [
    "# Function to find the singly occurring number\n",
    "def find_singly_occurring_number(N, arr):\n",
    "    # Dictionary to store the frequency of each number\n",
    "    frequency = {}\n",
    "    \n",
    "    # Count the occurrences of each number\n",
    "    for num in arr:\n",
    "        if num in frequency:\n",
    "            frequency[num] += 1\n",
    "        else:\n",
    "            frequency[num] = 1\n",
    "    \n",
    "    # Find the number that occurs exactly once\n",
    "    for num in frequency:\n",
    "        if frequency[num] == 1:\n",
    "            return num\n",
    "\n",
    "N = int(input())                                        # N = 5\n",
    "arr = list(map(int, input().split()))                   # arr = [1, 1, 2, 5, 5]\n",
    "\n",
    "# Find and print the singly occurring number\n",
    "result = find_singly_occurring_number(N, arr)\n",
    "print(result)"
   ]
  },
  {
   "cell_type": "markdown",
   "metadata": {},
   "source": [
    "### **To find the twice occurring number from the given list**\n",
    "\n",
    "#### **Logic**\n",
    "\n",
    "1.Read the input values.\n",
    "\n",
    "2.Count the occurrences of each number.\n",
    "\n",
    "3.Identify the number that appears exactly twice.\n",
    "\n",
    "#### **Explaination:**\n",
    "\n",
    "**Input Reading:**\n",
    "\n",
    "The first line reads the integer N, which represents the number of rolls.\n",
    "\n",
    "The second line reads N integers, representing the outcomes of each roll.\n",
    "\n",
    "**Counting Frequencies:**\n",
    "\n",
    "A dictionary frequency is used to count how many times each number appears.\n",
    "\n",
    "**Finding the Twice-Occurring Numbers:**\n",
    "\n",
    "We iterate through the dictionary and collect all numbers that have a frequency of 2.\n",
    "\n",
    "The dictionary will be {1: 2, 2: 1, 5: 2}.\n",
    "\n",
    "**Output:**\n",
    "\n",
    "The resulting list of numbers that appear exactly twice is printed, space-separated.\n",
    "\n",
    "The numbers 1 and 5 both have a frequency of 2."
   ]
  },
  {
   "cell_type": "code",
   "execution_count": 12,
   "metadata": {},
   "outputs": [
    {
     "name": "stdout",
     "output_type": "stream",
     "text": [
      "1 5\n"
     ]
    }
   ],
   "source": [
    "# Function to find all the twice-occurring numbers\n",
    "def find_twice_occurring_numbers(N, arr):\n",
    "    # Dictionary to store the frequency of each number\n",
    "    frequency = {}\n",
    "    \n",
    "    # Count the occurrences of each number\n",
    "    for num in arr:\n",
    "        if num in frequency:\n",
    "            frequency[num] += 1\n",
    "        else:\n",
    "            frequency[num] = 1\n",
    "    \n",
    "    # Find all numbers that occur exactly twice\n",
    "    twice_occurring_numbers = [num for num in frequency if frequency[num] == 2]\n",
    "    return twice_occurring_numbers\n",
    "\n",
    "N = int(input())\n",
    "arr = list(map(int, input().split()))\n",
    "\n",
    "# Find and print all the twice-occurring numbers\n",
    "result = find_twice_occurring_numbers(N, arr)\n",
    "print(\" \".join(map(str, result)))"
   ]
  },
  {
   "cell_type": "markdown",
   "metadata": {},
   "source": [
    "#### **36. Given a string S, print 2 strings such that first string containing all characters in odd position(s) and other containing all characters in even position(s).**\n",
    "\n",
    "Sample Testcase :\n",
    "\n",
    "INPUT\n",
    "\n",
    "XCODE\n",
    "\n",
    "OUTPUT\n",
    "\n",
    "XOE CD"
   ]
  },
  {
   "cell_type": "markdown",
   "metadata": {},
   "source": [
    "#### **Logic Explaination:**\n",
    "\n",
    "**Input Reading:**\n",
    "\n",
    "The input().strip() function reads the input string and removes any leading or trailing whitespace.\n",
    "\n",
    "**Splitting Characters:**\n",
    "\n",
    "We initialize two lists, odd_chars and even_chars, to store characters at odd and even positions, respectively.\n",
    "\n",
    "We iterate through the string using a for loop. The index i helps determine whether the character is at an odd or even position.\n",
    "\n",
    "If i % 2 == 0, the character is at an odd position (considering the first position as 0, which is even).\n",
    "\n",
    "If i % 2 != 0, the character is at an even position.\n",
    "\n",
    "**Combining Characters:**\n",
    "\n",
    "We join the characters in odd_chars and even_chars into strings using ''.join().\n",
    "\n",
    "**Output:**\n",
    "\n",
    "We print the two resulting strings separated by a space."
   ]
  },
  {
   "cell_type": "code",
   "execution_count": 5,
   "metadata": {},
   "outputs": [
    {
     "name": "stdout",
     "output_type": "stream",
     "text": [
      "XOE CD\n"
     ]
    }
   ],
   "source": [
    "# Function to split the string into odd and even positioned characters\n",
    "def split_odd_even_positions(S):\n",
    "    odd_chars = []\n",
    "    even_chars = []\n",
    "    \n",
    "    for i in range(len(S)):\n",
    "        if i % 2 == 0:\n",
    "            odd_chars.append(S[i])\n",
    "        else:\n",
    "            even_chars.append(S[i])\n",
    "    \n",
    "    odd_string = ''.join(odd_chars)\n",
    "    even_string = ''.join(even_chars)\n",
    "    \n",
    "    return odd_string, even_string\n",
    "\n",
    "S = input().strip()                 # S = \"XCODE\"\n",
    "\n",
    "# Split the string into odd and even positioned characters\n",
    "odd_string, even_string = split_odd_even_positions(S)\n",
    "\n",
    "# Print the result\n",
    "print(odd_string, even_string)"
   ]
  },
  {
   "cell_type": "markdown",
   "metadata": {},
   "source": [
    "#### 37. Given a string S, print it after changing the middle element to * (if the length of the string is even, change the 2 middle elements to *).\n",
    "\n",
    "Sample Testcase :\n",
    "\n",
    "INPUT\n",
    "\n",
    "hello\n",
    "\n",
    "OUTPUT\n",
    "\n",
    "he*lo"
   ]
  },
  {
   "cell_type": "markdown",
   "metadata": {},
   "source": [
    "#### **Logic Explaination:**\n",
    "\n",
    "**Input Reading:**\n",
    "\n",
    "input().strip() reads the input string and removes any leading or trailing whitespace.\n",
    "\n",
    "**Calculate Middle Position(s):**\n",
    "\n",
    "length = len(S) calculates the length of the string S. Here, The length of the string is 5, which is odd.\n",
    "\n",
    "Depending on whether length is odd or even, calculate the middle index or indices (middle_index, middle_index1, middle_index2). Here, middle_index = 2.\n",
    "\n",
    "**Modify the String:**\n",
    "\n",
    "If length is odd, replace the middle character at middle_index with *.\n",
    "Replace S[2] (which is 'l') with '*'.\n",
    "\n",
    "If length is even, replace the two middle characters at middle_index1 and middle_index2 with **.\n",
    "\n",
    "**Output:**\n",
    "\n",
    "Print the modified string (modified_string)."
   ]
  },
  {
   "cell_type": "code",
   "execution_count": 14,
   "metadata": {},
   "outputs": [
    {
     "name": "stdout",
     "output_type": "stream",
     "text": [
      "he*lo\n"
     ]
    }
   ],
   "source": [
    "def change_middle_to_star(S):\n",
    "    length = len(S)                         # length = 5\n",
    "    \n",
    "    # Calculate middle index or indices\n",
    "    if length % 2 == 1:                                                     # Length is odd\n",
    "        middle_index = length // 2                                          # middle index = 5 // 2 = 2\n",
    "        modified_string = S[:middle_index] + '*' + S[middle_index + 1:]\n",
    "    else:  # Length is even\n",
    "        middle_index1 = length // 2 - 1\n",
    "        middle_index2 = length // 2\n",
    "        modified_string = S[:middle_index1] + '**' + S[middle_index2 + 1:]\n",
    "    \n",
    "    return modified_string\n",
    "\n",
    "# Input\n",
    "S = input().strip()                 # S = \"hello\"\n",
    "\n",
    "# Change the middle element(s) to *\n",
    "modified_string = change_middle_to_star(S)\n",
    "\n",
    "# Output the modified string\n",
    "print(modified_string)"
   ]
  },
  {
   "cell_type": "markdown",
   "metadata": {},
   "source": [
    "#### **38. In a world cup tournament,no of goals scored by each team is given to you. Your task is to calculate net goal rate of each team.**\n",
    "\n",
    "Net goal rate of team is calculated\n",
    "\n",
    "No of goals(team)- sum of(no of goals by last 3 teams)\n",
    "\n",
    "**Input Description:**\n",
    "\n",
    "You are given a number ‘n’.Next line contains n space separated numbers.\n",
    "\n",
    "**Output Description:**\n",
    "\n",
    "Print the net goal rate of each team\n",
    "\n",
    "Sample Input :\n",
    "\n",
    "5\n",
    "\n",
    "95 85 75 12 11\n",
    "\n",
    "Sample Output :\n",
    "\n",
    "-3 -13 -23 -86 -87"
   ]
  },
  {
   "cell_type": "code",
   "execution_count": 7,
   "metadata": {},
   "outputs": [
    {
     "name": "stdout",
     "output_type": "stream",
     "text": [
      "95 -10 -105 -243 -161\n"
     ]
    }
   ],
   "source": [
    "def net_goal_rate(n, goals):\n",
    "    result = []\n",
    "    \n",
    "    for i in range(n):\n",
    "        if i < 3:\n",
    "            last_3_goals_sum = sum(goals[:i])\n",
    "        else:\n",
    "            last_3_goals_sum = sum(goals[i-3:i])\n",
    "        \n",
    "        net_rate = goals[i] - last_3_goals_sum\n",
    "        result.append(net_rate)\n",
    "    \n",
    "    return result\n",
    "\n",
    "n = int(input())\n",
    "goals = list(map(int, input().split()))\n",
    "\n",
    "# Function call\n",
    "net_rates = net_goal_rate(n, goals)\n",
    "\n",
    "# Print Output\n",
    "print(\" \".join(map(str, net_rates)))"
   ]
  },
  {
   "cell_type": "markdown",
   "metadata": {},
   "source": [
    "#### **39. Given a sentence and string S, find how many times S occurs in the given sentence.If S is not found in the sentence print -1**\n",
    "\n",
    "Input Size : |sentence| <= 1000000(complexity O(n)).\n",
    "\n",
    "Sample Testcase :\n",
    "\n",
    "INPUT\n",
    "\n",
    "I enjoy doing codekata\n",
    "\n",
    "codekata\n",
    "\n",
    "OUTPUT\n",
    "\n",
    "1"
   ]
  },
  {
   "cell_type": "code",
   "execution_count": 6,
   "metadata": {},
   "outputs": [
    {
     "name": "stdout",
     "output_type": "stream",
     "text": [
      "1\n"
     ]
    }
   ],
   "source": [
    "def count_occurrences(sentence, S):\n",
    "    # Count occurrences of S in the sentence\n",
    "    count = sentence.count(S)\n",
    "    \n",
    "    # If S is not found, print -1\n",
    "    if count == 0:\n",
    "        print(-1)\n",
    "    else:\n",
    "        print(count)\n",
    "\n",
    "sentence = input()      # sentence = 'I enjoy doing codekata'\n",
    "S = input()             # S = 'codekata'\n",
    "\n",
    "# Function call\n",
    "count_occurrences(sentence, S)"
   ]
  },
  {
   "cell_type": "markdown",
   "metadata": {},
   "source": [
    "#### **40. Shreya is a brilliant girl. She likes to memorize the numbers. These numbers will be shown to her. As an examiner develop an algorithm to test her memory.**\n",
    "\n",
    "CONSTRAINTS\n",
    "\n",
    "1<=Y,N,T<=1000\n",
    "\n",
    "Input Description:\n",
    "\n",
    "First line contains no. of test cases(Y). Next line contains a number N. Next line contains n space separated numbers Next line contains a number T denoting the number of questions asked from you regarding the given array. Next line contains T space separated numbers.\n",
    "\n",
    "Output Description:\n",
    "\n",
    "Print the occurrence of each number if present else “NOT PRESENT”\n",
    "\n",
    "Sample Input :\n",
    "\n",
    "10\n",
    "\n",
    "1 1 1 2 2 2 3 8 9 7\n",
    "\n",
    "5\n",
    "\n",
    "1 2 3 0 5\n",
    "\n",
    "Sample Output :\n",
    "\n",
    "3 3 1 Not Present Not Present"
   ]
  },
  {
   "cell_type": "code",
   "execution_count": 8,
   "metadata": {},
   "outputs": [
    {
     "name": "stdout",
     "output_type": "stream",
     "text": [
      "3 3 1 NOT PRESENT NOT PRESENT\n"
     ]
    }
   ],
   "source": [
    "def test_memory(Y, N, numbers, T, questions):\n",
    "    # Create a dictionary to store the count of each number\n",
    "    count_dict = {}\n",
    "    \n",
    "    for num in numbers:\n",
    "        if num in count_dict:\n",
    "            count_dict[num] += 1\n",
    "        else:\n",
    "            count_dict[num] = 1\n",
    "    \n",
    "    # Check each question and print the result\n",
    "    result = []\n",
    "    for q in questions:\n",
    "        if q in count_dict:\n",
    "            result.append(str(count_dict[q]))\n",
    "        else:\n",
    "            result.append(\"Not Present\")\n",
    "    \n",
    "    return \" \".join(result)\n",
    "\n",
    "Y = int(input())\n",
    "N = int(input())\n",
    "numbers = list(map(int, input().split()))\n",
    "T = int(input())\n",
    "questions = list(map(int, input().split()))\n",
    "\n",
    "# Function call and print output\n",
    "output = test_memory(Y, N, numbers, T, questions)\n",
    "print(output)"
   ]
  },
  {
   "cell_type": "markdown",
   "metadata": {},
   "source": [
    "#### **41. The prison warden at Central jail is given a tip-off that a prison inmate is planning an escape. The warden suspects a particular prisoner of planning an escape and wants to find out if he/she is present in his/her cell. The layout of the prison is modelled in a matrix with every cell of the matrix representing a prison cell. The matrix is filled with the prisoner ids at the corresponding cells. Find out whether the person the warden suspects is present in the prison or not.**\n",
    " \n",
    "**Input Description:**\n",
    "\n",
    "First line contains the dimensions of the prison matrix, followed by the ids of prisoners as elements of the matrix. The third line contains the id to be searched.\n",
    "\n",
    "**Output Description:**\n",
    "\n",
    "(yes/no) whether the given element is present in the matrix or not.\n",
    "\n",
    "Sample Input :\n",
    "\n",
    "2 5\n",
    "\n",
    "2 3 0 7 1 5 3 4 1 8\n",
    "\n",
    "11\n",
    "\n",
    "Sample Output :\n",
    "\n",
    "no"
   ]
  },
  {
   "cell_type": "markdown",
   "metadata": {},
   "source": [
    "**Explanation:**\n",
    "\n",
    "The first line reads the matrix dimensions and splits them into rows and columns.\n",
    "\n",
    "The second line reads the matrix elements and converts them to a list of integers.\n",
    "\n",
    "The third line reads the prisoner ID that needs to be searched.\n",
    "\n",
    "The matrix is constructed for clarity by iterating over the elements and grouping them into rows.\n",
    "\n",
    "The search is performed by checking if the prisoner ID exists in the list of elements.\n",
    "\n",
    "The result is printed based on whether the prisoner ID is found or not."
   ]
  },
  {
   "cell_type": "code",
   "execution_count": 1,
   "metadata": {},
   "outputs": [
    {
     "name": "stdout",
     "output_type": "stream",
     "text": [
      "no\n"
     ]
    }
   ],
   "source": [
    "dimensions = input().split()                                # dimensions = 2 5\n",
    "rows = int(dimensions[0])\n",
    "columns = int(dimensions[1])\n",
    "\n",
    "# Read matrix elements\n",
    "elements = list(map(int, input().split()))                  # rows = [2, 3, 0, 7, 1, 5, 3, 4, 1, 8]\n",
    "\n",
    "# Read the id to be searched\n",
    "prisoner_id_to_search = int(input())                        # prisoner_id_to_search = 11\n",
    "\n",
    "# Construct the matrix (for clarity, but not strictly necessary for this problem)\n",
    "matrix = []\n",
    "index = 0\n",
    "for i in range(rows):\n",
    "    row = []\n",
    "    for j in range(columns):\n",
    "        row.append(elements[index])\n",
    "        index += 1\n",
    "    matrix.append(row)\n",
    "\n",
    "# Check if the prisoner id is in the matrix\n",
    "if prisoner_id_to_search in elements:\n",
    "    print(\"yes\")\n",
    "else:\n",
    "    print(\"no\")"
   ]
  },
  {
   "cell_type": "markdown",
   "metadata": {},
   "source": [
    "#### **42. You are head incharge of sports activity in queue. Your task is to sort the students height wise in line. But you can only swap students.Your task is to determine the minimum possible swaps required to sort the students in queue according to heights**\n",
    "\n",
    "Input Description:\n",
    "\n",
    "You are given with number ‘n’ denoting number of students. Next line contains n space separated integers denoting their height.\n",
    "\n",
    "Output Description:\n",
    "\n",
    "Print the minimum number of swaps required to sort the students in line.\n",
    "\n",
    "Sample Input :\n",
    "\n",
    "5\n",
    "\n",
    "1 5 4 3 2\n",
    "\n",
    "Sample Output :\n",
    "\n",
    "2"
   ]
  },
  {
   "cell_type": "code",
   "execution_count": 2,
   "metadata": {},
   "outputs": [
    {
     "name": "stdout",
     "output_type": "stream",
     "text": [
      "2\n"
     ]
    }
   ],
   "source": [
    "def min_swaps_to_sort(n, heights):\n",
    "    height_tuples = [(heights[i], i) for i in range(n)]\n",
    "    height_tuples.sort()\n",
    "    swaps = 0\n",
    "    visited = [False] * n\n",
    "    \n",
    "    for i in range(n):\n",
    "        if visited[i] or height_tuples[i][1] == i:\n",
    "            continue\n",
    "        \n",
    "        cycle_size = 0\n",
    "        j = i\n",
    "        \n",
    "        while not visited[j]:\n",
    "            visited[j] = True\n",
    "            j = height_tuples[j][1]\n",
    "            cycle_size += 1\n",
    "        if cycle_size > 0:\n",
    "            swaps += (cycle_size - 1)\n",
    "    \n",
    "    return swaps\n",
    "  \n",
    "n = int(input().strip())                           # n = 5\n",
    "heights = list(map(int, input().strip().split()))  # heights = [1, 5, 4, 3, 2]\n",
    "print(min_swaps_to_sort(n, heights))"
   ]
  },
  {
   "cell_type": "markdown",
   "metadata": {},
   "source": [
    "#### **43. Ram is the CEO of an MNC. He wants to order the employee salaries in ascending order so that he can do a salary hike based on the salary values of employees. He selects you to do the task of sorting the salaries. Sort the salaries in ascending order and pass on the information to Ram.**\n",
    "\n",
    "Input Description:\n",
    "\n",
    "Number of employees followed by the salaries of employees.\n",
    "\n",
    "Output Description:\n",
    "\n",
    "Salaries sorted in ascending order.\n",
    "\n",
    "Sample Input :\n",
    "\n",
    "8\n",
    "\n",
    "7000 8000 6500 1200 4000 2800 3000 5230"
   ]
  },
  {
   "cell_type": "code",
   "execution_count": 6,
   "metadata": {},
   "outputs": [
    {
     "name": "stdout",
     "output_type": "stream",
     "text": [
      "1200 2800 3000 4000 5230 6500 7000 8000\n"
     ]
    }
   ],
   "source": [
    "Employee = input()\n",
    "Salaries =list(map(int,input().split()))\n",
    "Salaries.sort()\n",
    "print(*Salaries)"
   ]
  },
  {
   "cell_type": "code",
   "execution_count": 3,
   "metadata": {},
   "outputs": [
    {
     "name": "stdout",
     "output_type": "stream",
     "text": [
      "1200 2800 3000 4000 5230 6500 7000 8000 "
     ]
    }
   ],
   "source": [
    "def sort_salaries(n, salaries):\n",
    "    # Sort the list of salaries\n",
    "    salaries.sort()\n",
    "    return salaries\n",
    "\n",
    "n = int(input().strip())  # number of employees = 8\n",
    "salaries = list(map(int, input().strip().split()))  # salaries = [7000 8000 6500 1200 4000 2800 3000 5230]\n",
    "\n",
    "# Sort the salaries\n",
    "sorted_salaries = sort_salaries(n, salaries)\n",
    "\n",
    "# Print the sorted salaries\n",
    "for salary in sorted_salaries:\n",
    "    print(salary, end=' ')"
   ]
  },
  {
   "cell_type": "markdown",
   "metadata": {},
   "source": [
    "#### **44. Find the first 0 in window of size k. You  are given n numbers and window size ‘w’**\n",
    "\n",
    "Your task is to print the first index which has 0\n",
    "\n",
    "**Input Description:**\n",
    "\n",
    "You are given two numbers ‘n’ and ‘w’ n representing size of array and ‘w’ size of window\n",
    "\n",
    "**Output Description:**\n",
    "\n",
    "Print the index of first 0(1 basedindexing),if there is no index with 0 print -1\n",
    "\n",
    "Sample Input :\n",
    "\n",
    "7 2\n",
    "\n",
    "1 0 6 7 4 0 9\n",
    "\n",
    "Sample Output :\n",
    "\n",
    "2 2 -1 -1 6 6"
   ]
  },
  {
   "cell_type": "code",
   "execution_count": 7,
   "metadata": {},
   "outputs": [
    {
     "name": "stdout",
     "output_type": "stream",
     "text": [
      "2 2 -1 -1 6 6\n"
     ]
    }
   ],
   "source": [
    "def find_first_zero_index(n, w, arr):\n",
    "    result = []\n",
    "    for i in range(n - w + 1):\n",
    "        # Extract the current window\n",
    "        window = arr[i:i + w]\n",
    "        try:\n",
    "            # Find the first zero in the window and add its 1-based index to the result\n",
    "            first_zero_index = window.index(0) + i + 1\n",
    "            result.append(first_zero_index)\n",
    "        except ValueError:\n",
    "            # If there is no zero in the window, append -1\n",
    "            result.append(-1)\n",
    "    return result\n",
    "\n",
    "# Read input values\n",
    "n, w = map(int, input().strip().split())      # n = 7, w = 2\n",
    "arr = list(map(int, input().strip().split())) # arr = [1, 0, 6, 7, 4, 0, 9]\n",
    "\n",
    "# Find the first zero index for each window\n",
    "result = find_first_zero_index(n, w, arr)\n",
    "\n",
    "# Print the results\n",
    "print(' '.join(map(str, result)))"
   ]
  },
  {
   "cell_type": "markdown",
   "metadata": {},
   "source": [
    "#### **45. Ria is always fascinated by the number 2. She always wants to know who came second in a race, the second person to set foot on the moon and so on. She is given a list of numbers and asked to find the maximum. As always, she reports the second highest number as the maximum because according to her, 2 is higher than 1. Find out which was the number that Ria would have reported, given a list of N numbers.**\n",
    "\n",
    "**Input Description:**\n",
    "\n",
    "Size of the array followed by the elements of the array.\n",
    "\n",
    "**Output Description:**\n",
    "\n",
    "Second largest element of the array.\n",
    "\n",
    "Sample Input :\n",
    "\n",
    "10\n",
    "\n",
    "1 9 8 7 6 5 2 3 4 10\n",
    "\n",
    "Sample Output :\n",
    "\n",
    "9"
   ]
  },
  {
   "cell_type": "code",
   "execution_count": 1,
   "metadata": {},
   "outputs": [
    {
     "name": "stdout",
     "output_type": "stream",
     "text": [
      "9\n"
     ]
    }
   ],
   "source": [
    "# Input reading\n",
    "N = int(input())                                # N = 10\n",
    "numbers = list(map(int, input().split()))       # numbers = [1, 9, 8, 7, 6, 5, 2, 3, 4, 10]\n",
    "\n",
    "# Initialize the two largest values\n",
    "max1 = float('-inf')\n",
    "max2 = float('-inf')\n",
    "\n",
    "# Find the largest value\n",
    "for num in numbers:\n",
    "    if num > max1:\n",
    "        max2 = max1\n",
    "        max1 = num\n",
    "    elif num > max2 and num != max1:\n",
    "        max2 = num\n",
    "\n",
    "# Output the second largest value\n",
    "print(max2)"
   ]
  },
  {
   "cell_type": "markdown",
   "metadata": {},
   "source": [
    "#### **46. Rajesh was going through alternative array sorting. He wishes to print the array alternatively. Hence hired you. Your task is to help rajesh in printing the array alternatively.**\n",
    "\n",
    "An alternative array is an array in which first element is maximum of the whole array second element is minimum of the whole array. Third element is the second largest. Fourth element is the second smallest And so on. print the array in the desired manner.\n",
    "\n",
    "Input Description:\n",
    "\n",
    "You are given with the length of array ‘n’. followed by ‘n’ space separated numbers.\n",
    "\n",
    "Output Description:\n",
    "\n",
    "Print the array as mentioned.\n",
    "\n",
    "Sample Input :\n",
    "\n",
    "5 \n",
    "\n",
    "1 7 11 16 19\n",
    "\n",
    "Sample Output :\n",
    "\n",
    "19 1 16 7 11"
   ]
  },
  {
   "cell_type": "code",
   "execution_count": 4,
   "metadata": {},
   "outputs": [
    {
     "name": "stdout",
     "output_type": "stream",
     "text": [
      "19 1 16 7 11\n"
     ]
    }
   ],
   "source": [
    "# Input reading\n",
    "n = int(input())                                # n = 5\n",
    "numbers = list(map(int, input().split()))       # numbers = [1, 7, 11, 16, 19]\n",
    "\n",
    "# Sort the array\n",
    "numbers.sort()\n",
    "\n",
    "# Initialize two pointers\n",
    "left = 0\n",
    "right = n - 1\n",
    "\n",
    "result = []\n",
    "# Iterate to create the alternating sequence\n",
    "while left <= right:\n",
    "    if left == right:\n",
    "        result.append(numbers[left])\n",
    "    else:\n",
    "        result.append(numbers[right])\n",
    "        result.append(numbers[left])\n",
    "    left += 1\n",
    "    right -= 1\n",
    "    \n",
    "print(\" \".join(map(str, result)))"
   ]
  },
  {
   "cell_type": "markdown",
   "metadata": {},
   "source": [
    "#### **47. Your old mobile phone gets broken and so you want to purchase a new smartphone and decide to go through all the online websites to find out which dealer has the best offer for a particular model. You document the prices of N dealers. Dealer ids start from 0 and go up to N.  Find out which dealer has the best price for you.**\n",
    "\n",
    "Constraints:\n",
    "\n",
    "1 <= N <= 100\n",
    "\n",
    "1 <= A[] <= 100000\n",
    "\n",
    "Input Description:\n",
    "\n",
    "Number of dealers followed by the price offered by each dealer\n",
    "\n",
    "Output Description:\n",
    "\n",
    "Dealer offering the best price.\n",
    "\n",
    "Sample Input :\n",
    "\n",
    "3\n",
    "\n",
    "10000 11200 12030\n",
    "\n",
    "Sample Output :\n",
    "\n",
    "Dealer0"
   ]
  },
  {
   "cell_type": "code",
   "execution_count": 5,
   "metadata": {},
   "outputs": [
    {
     "name": "stdout",
     "output_type": "stream",
     "text": [
      "Dealer0\n"
     ]
    }
   ],
   "source": [
    "n = int(input())                                # n = 3\n",
    "prices = list(map(int, input().split()))        # prices = [10000, 11200, 12030]\n",
    "\n",
    "# Find the index of the minimum price\n",
    "\n",
    "min_price_index = prices.index(min(prices))\n",
    "print(f\"Dealer{min_price_index}\")"
   ]
  },
  {
   "cell_type": "markdown",
   "metadata": {},
   "source": [
    "#### **49. Pk finds it difficult to judge the minimum element in the list of elements given to him. Your task is to develop the algorithm in order to find the minimum element.**\n",
    "\n",
    "Note:Don’t use sorting \n",
    "\n",
    "Input Description:\n",
    "\n",
    "You are given ‘n’ number of elements. Next line contains n space separated numbers.\n",
    "\n",
    "Output Description:\n",
    "\n",
    "Print the minimum element\n",
    "\n",
    "Sample Input :\n",
    "\n",
    "5\n",
    "\n",
    "3 4 9 1 6\n",
    "\n",
    "Sample Output :\n",
    "\n",
    "1"
   ]
  },
  {
   "cell_type": "code",
   "execution_count": 6,
   "metadata": {},
   "outputs": [
    {
     "name": "stdout",
     "output_type": "stream",
     "text": [
      "1\n"
     ]
    }
   ],
   "source": [
    "# Input reading\n",
    "n = int(input())                            # n = 5\n",
    "elements = list(map(int, input().split()))  # elements = [3, 4, 9, 1, 6]\n",
    "\n",
    "# Initialize the minimum element with the first element of the list\n",
    "min_element = elements[0]\n",
    "\n",
    "for element in elements[1:]:\n",
    "    if element < min_element:\n",
    "        min_element = element\n",
    "print(min_element)"
   ]
  },
  {
   "cell_type": "markdown",
   "metadata": {},
   "source": [
    "#### **50. Ramit is given a list of both positive and negative integers. He has to tell the maximum sum out of all subarrays in the given list. He got confused and requested help from you. Now it is your task to find the maximum sum out of all subarrays in the given list.**\n",
    "\n",
    "**Input Description:**\n",
    "\n",
    "You are given a number 'n'. Next line contains n space separated numbers.\n",
    "\n",
    "**Output Description:**\n",
    "\n",
    "Print the max sum of subarray.\n",
    "\n",
    "Sample Input :\n",
    "\n",
    "5\n",
    "\n",
    "1 2 3 -2 5\n",
    "\n",
    "Sample Output :\n",
    "\n",
    "9"
   ]
  },
  {
   "cell_type": "code",
   "execution_count": 7,
   "metadata": {},
   "outputs": [
    {
     "name": "stdout",
     "output_type": "stream",
     "text": [
      "9\n"
     ]
    }
   ],
   "source": [
    "def max_subarray_sum(arr):\n",
    "    max_current = max_global = arr[0]\n",
    "    \n",
    "    for num in arr[1:]:\n",
    "        max_current = max(num, max_current + num)\n",
    "        if max_current > max_global:\n",
    "            max_global = max_current\n",
    "            \n",
    "    return max_global\n",
    "\n",
    "n = int(input())    # n = 5\n",
    "elements = list(map(int, input().split()))  # elements = [1, 2, 3, -2, 5]\n",
    "\n",
    "# Find and print the maximum sum of subarray\n",
    "print(max_subarray_sum(elements))"
   ]
  },
  {
   "cell_type": "markdown",
   "metadata": {},
   "source": [
    "#### **53. Given 2 numbers N and K followed by N elements, find the Kth smallest element.If the element cannot be found then print -1**\n",
    "\n",
    "Input Size : N <= 100000\n",
    "\n",
    "Sample Testcase :\n",
    "\n",
    "INPUT\n",
    "\n",
    "5 2\n",
    "\n",
    "1 1 2 4 5\n",
    "\n",
    "OUTPUT\n",
    "\n",
    "2"
   ]
  },
  {
   "cell_type": "code",
   "execution_count": 16,
   "metadata": {},
   "outputs": [
    {
     "name": "stdout",
     "output_type": "stream",
     "text": [
      "1\n"
     ]
    }
   ],
   "source": [
    "def find_kth_smallest_element(N, K, elements):\n",
    "    # Sort the elements\n",
    "    elements.sort()\n",
    "    \n",
    "    # Check if K is within valid range\n",
    "    if K < 1 or K > N:\n",
    "        return -1\n",
    "    \n",
    "    # Return the Kth smallest element\n",
    "    return elements[K-1]\n",
    "\n",
    "N, K = map(int, input().split())            # N = 5, K = 2\n",
    "elements = list(map(int, input().split()))  # elements = [1, 1, 2, 4, 5]\n",
    "\n",
    "# Call the function to find the Kth smallest element\n",
    "print(find_kth_smallest_element(N, K, elements))"
   ]
  },
  {
   "cell_type": "markdown",
   "metadata": {},
   "source": [
    "#### **54. Given a number N and an array of N elements, find the length of the longest repeating sequence of the elements.**\n",
    "\n",
    "If no such sequence is found print -1\n",
    "\n",
    "Input Size : N <= 100000\n",
    "\n",
    "Sample Testcase :\n",
    "\n",
    "INPUT\n",
    "\n",
    "8\n",
    "\n",
    "1 2 2 2 3 4 5 6\n",
    "\n",
    "OUTPUT\n",
    "\n",
    "3"
   ]
  },
  {
   "cell_type": "code",
   "execution_count": 17,
   "metadata": {},
   "outputs": [
    {
     "name": "stdout",
     "output_type": "stream",
     "text": [
      "3\n"
     ]
    }
   ],
   "source": [
    "def longest_repeating_sequence_length(N, elements):\n",
    "    freq_map = {}\n",
    "    max_length = 0\n",
    "    \n",
    "    # Count frequencies of each element\n",
    "    for num in elements:\n",
    "        if num in freq_map:\n",
    "            freq_map[num] += 1\n",
    "        else:\n",
    "            freq_map[num] = 1\n",
    "    \n",
    "    # Find the maximum frequency in the frequency map\n",
    "    for count in freq_map.values():\n",
    "        if count > 1:\n",
    "            max_length = max(max_length, count)\n",
    "    \n",
    "    # If max_length is still 0, it means no repeating sequence found\n",
    "    if max_length == 0:\n",
    "        return -1\n",
    "    else:\n",
    "        return max_length\n",
    "\n",
    "N = int(input())                            # N = 8\n",
    "elements = list(map(int, input().split()))  # elements = [1, 2, 2, 2, 3, 4, 5, 6]\n",
    "\n",
    "# Call the function to find the length of the longest repeating sequence\n",
    "result = longest_repeating_sequence_length(N, elements)\n",
    "print(result)"
   ]
  },
  {
   "cell_type": "markdown",
   "metadata": {},
   "source": [
    "#### **55. Given a number N and 2 arrays A and B of sorted order of size N, print the common elements.If it is not found print -1.**\n",
    "\n",
    "Input Size : 1 <= N <= 100000\n",
    "\n",
    "Sample Testcase :\n",
    "\n",
    "INPUT\n",
    "\n",
    "5\n",
    "\n",
    "1 1 1 1 1\n",
    "\n",
    "1 2 3 4 5\n",
    "\n",
    "OUTPUT\n",
    "\n",
    "1"
   ]
  },
  {
   "cell_type": "code",
   "execution_count": 18,
   "metadata": {},
   "outputs": [
    {
     "name": "stdout",
     "output_type": "stream",
     "text": [
      "1\n"
     ]
    }
   ],
   "source": [
    "def find_common_elements(N, A, B):\n",
    "    i, j = 0, 0\n",
    "    common_elements = []\n",
    "    \n",
    "    while i < N and j < N:\n",
    "        if A[i] == B[j]:\n",
    "            common_elements.append(A[i])\n",
    "            i += 1\n",
    "            j += 1\n",
    "        elif A[i] < B[j]:\n",
    "            i += 1\n",
    "        else:\n",
    "            j += 1\n",
    "    \n",
    "    if not common_elements:\n",
    "        return -1\n",
    "    else:\n",
    "        return common_elements\n",
    "\n",
    "N = int(input())                    # N = 5\n",
    "A = list(map(int, input().split())) # A = [1, 1, 1, 1, 1]\n",
    "B = list(map(int, input().split())) # B = [1, 2, 3, 4, 5]\n",
    "\n",
    "# Call the function to find common elements\n",
    "result = find_common_elements(N, A, B)\n",
    "\n",
    "if result == -1:\n",
    "    print(result)\n",
    "else:\n",
    "    print(\" \".join(map(str, result)))"
   ]
  },
  {
   "cell_type": "markdown",
   "metadata": {},
   "source": [
    "#### **56. Given 2 numbers N,K print the array after deleting the last K elements.**\n",
    "\n",
    "Input Size : N,K <= 100000\n",
    "\n",
    "Sample Testcase :\n",
    "\n",
    "INPUT\n",
    "\n",
    "5 4\n",
    "\n",
    "1 2 3 4 5\n",
    "\n",
    "OUTPUT\n",
    "\n",
    "1"
   ]
  },
  {
   "cell_type": "code",
   "execution_count": 19,
   "metadata": {},
   "outputs": [
    {
     "name": "stdout",
     "output_type": "stream",
     "text": [
      "1\n"
     ]
    }
   ],
   "source": [
    "def delete_last_k_elements(N, K, array):\n",
    "    if K >= N:\n",
    "        return []\n",
    "    else:\n",
    "        return array[:-K]\n",
    "\n",
    "N, K = map(int, input().split())            # N = 5, K = 4\n",
    "array = list(map(int, input().split()))     # array = [1, 2, 3, 4, 5]\n",
    "\n",
    "# Call the function to delete the last K elements\n",
    "result = delete_last_k_elements(N, K, array)\n",
    "\n",
    "# Print the result\n",
    "print(\" \".join(map(str, result)))"
   ]
  },
  {
   "cell_type": "markdown",
   "metadata": {},
   "source": [
    "#### **57. Given an array of N elements which follows either even number or odd number series.There may exists at maximum 1 even number in the odd series or 1 odd number in the even series.Find the different number if exists otherwise print '-1'?**\n",
    "\n",
    "Input Size : |N| <= 100000\n",
    "\n",
    "Sample Testcase :\n",
    "\n",
    "INPUT\n",
    "\n",
    "5\n",
    "\n",
    "1 3 4 5 7\n",
    "\n",
    "OUTPUT\n",
    "\n",
    "4"
   ]
  },
  {
   "cell_type": "code",
   "execution_count": 1,
   "metadata": {},
   "outputs": [
    {
     "name": "stdout",
     "output_type": "stream",
     "text": [
      "4\n"
     ]
    }
   ],
   "source": [
    "def find_different_number(n, arr):\n",
    "    # Variables to count even and odd numbers and track their indices\n",
    "    even_count = 0\n",
    "    odd_count = 0\n",
    "    even_index = -1\n",
    "    odd_index = -1\n",
    "    \n",
    "    # First pass to count even and odd numbers\n",
    "    for i in range(n):\n",
    "        if arr[i] % 2 == 0:\n",
    "            even_count += 1\n",
    "            even_index = i\n",
    "        else:\n",
    "            odd_count += 1\n",
    "            odd_index = i\n",
    "    \n",
    "    # Determine the type with only one occurrence\n",
    "    if even_count == 1:\n",
    "        return arr[even_index]\n",
    "    elif odd_count == 1:\n",
    "        return arr[odd_index]\n",
    "    else:\n",
    "        return -1\n",
    "\n",
    "n = int(input())                                # n = 5\n",
    "arr = list(map(int, input().split()))           # arr = 1 3 4 5 7\n",
    "\n",
    "# Function call and output\n",
    "print(find_different_number(n, arr))"
   ]
  },
  {
   "cell_type": "markdown",
   "metadata": {},
   "source": [
    "#### **59. You are given an array F of focal lengths of size f, F[0], F[1],...F[f-1]. You are asked to determine the indices of the elements from the biggest element to the smallest element.**\n",
    "\n",
    "**Input Description:**\n",
    "\n",
    "The first line contains an integer f. The next line contains f space separated integers F[i], (0 <= i <= f-1) Note: The elements of F[i] are pairwise distinct.\n",
    "\n",
    "**Output Description:**\n",
    "\n",
    "Print f space separated integers, denoting the indices of the elements, from biggest element to smallest.\n",
    "\n",
    "Sample Input :\n",
    "\n",
    "3\n",
    "\n",
    "1 5 4\n",
    "\n",
    "Sample Output :\n",
    "\n",
    "1 2 0"
   ]
  },
  {
   "cell_type": "code",
   "execution_count": 2,
   "metadata": {},
   "outputs": [
    {
     "name": "stdout",
     "output_type": "stream",
     "text": [
      "1 2 0\n"
     ]
    }
   ],
   "source": [
    "def indices_from_biggest_to_smallest(f, F):\n",
    "    # Create pairs of (value, index)\n",
    "    pairs = [(F[i], i) for i in range(f)]\n",
    "    \n",
    "    # Sort pairs based on the value in descending order\n",
    "    pairs.sort(key=lambda x: x[0], reverse=True)\n",
    "    \n",
    "    # Extract indices from the sorted pairs\n",
    "    sorted_indices = [index for value, index in pairs]\n",
    "    \n",
    "    return sorted_indices\n",
    "\n",
    "f = int(input())                            # f = 3\n",
    "F = list(map(int, input().split()))         # F = 1 5 4\n",
    "\n",
    "sorted_indices = indices_from_biggest_to_smallest(f, F)\n",
    "print(' '.join(map(str, sorted_indices)))"
   ]
  },
  {
   "cell_type": "markdown",
   "metadata": {},
   "source": [
    "#### **60. Given 2 array of size N and M.merge them in sorted order and print it.**\n",
    "\n",
    "Input Size : |N||M| <= 100000( O(n))\n",
    "\n",
    "Sample Testcase :\n",
    "\n",
    "INPUT\n",
    "\n",
    "5 4\n",
    "\n",
    "1 2 3 4 5\n",
    "\n",
    "1 2 3 4\n",
    "\n",
    "OUTPUT\n",
    "\n",
    "1 1 2 2 3 3 4 4 5"
   ]
  },
  {
   "cell_type": "code",
   "execution_count": 2,
   "metadata": {},
   "outputs": [
    {
     "name": "stdout",
     "output_type": "stream",
     "text": [
      "1 1 2 2 3 3 4 4 5\n"
     ]
    }
   ],
   "source": [
    "def merge_sorted_arrays(arr1, arr2):\n",
    "    # Sort both arrays first\n",
    "    arr1.sort()\n",
    "    arr2.sort()\n",
    "\n",
    "    n, m = len(arr1), len(arr2)\n",
    "    result = []\n",
    "    i = j = 0\n",
    "\n",
    "    # Merge both arrays using two pointers\n",
    "    while i < n and j < m:\n",
    "        if arr1[i] <= arr2[j]:\n",
    "            result.append(arr1[i])\n",
    "            i += 1\n",
    "        else:\n",
    "            result.append(arr2[j])\n",
    "            j += 1\n",
    "\n",
    "    # Append remaining elements of arr1\n",
    "    while i < n:\n",
    "        result.append(arr1[i])\n",
    "        i += 1\n",
    "\n",
    "    # Append remaining elements of arr2\n",
    "    while j < m:\n",
    "        result.append(arr2[j])\n",
    "        j += 1\n",
    "    return result\n",
    "\n",
    "n, m = map(int, input().split())\n",
    "arr1 = list(map(int, input().split()))\n",
    "arr2 = list(map(int, input().split()))\n",
    "\n",
    "# Merging the arrays\n",
    "merged_array = merge_sorted_arrays(arr1, arr2)\n",
    "print(\" \".join(map(str, merged_array)))"
   ]
  },
  {
   "cell_type": "markdown",
   "metadata": {},
   "source": [
    "#### **61. An organization named “JPOKS” has a well-maintained library in its own building. Librarian orders and gets books for the library very frequently. Each book which is newly arrived has its own unique serial number. The books initially are placed in descending order. The librarian want to place a new book without disturbing the descending order of books in terms of unique id. Now you must help librarian to find the right spot for placing the book.**\n",
    "\n",
    "**Input Description:**\n",
    "\n",
    "The first line of program contains integer ‘n denoting no. of books already placed in the shelf. Next line contains n serial number of already placed books. Next line contains integer m denoting no of new books to be placed on the shelf. Next line contains m serial numbers of new book.\n",
    "\n",
    "**Output Description:**\n",
    "\n",
    "print the position at which it must be placed\n",
    "\n",
    "Sample Input :\n",
    "\n",
    "7\n",
    "\n",
    "95 68 62 58 55 41 30\n",
    "\n",
    "2\n",
    "\n",
    "45 61\n",
    "\n",
    "Sample Output :\n",
    "\n",
    "6 4"
   ]
  },
  {
   "cell_type": "code",
   "execution_count": 4,
   "metadata": {},
   "outputs": [
    {
     "name": "stdout",
     "output_type": "stream",
     "text": [
      "6 4\n"
     ]
    }
   ],
   "source": [
    "from bisect import bisect_right\n",
    "\n",
    "def find_insert_positions(existing_books, new_books):\n",
    "    positions = []\n",
    "    for new_book in new_books:\n",
    "        # Find the insertion point using binary search\n",
    "        pos = bisect_right(existing_books[::-1], new_book)\n",
    "        positions.append(len(existing_books) - pos + 1)\n",
    "    return positions\n",
    "\n",
    "n = int(input())                                            # n = 7\n",
    "existing_books = list(map(int, input().split()))            # existing books = 95 68 62 58 55 41 30\n",
    "m = int(input())                                            # m = 2\n",
    "new_books = list(map(int, input().split()))                 # new_books = 45 61\n",
    "\n",
    "# Function call and output\n",
    "positions = find_insert_positions(existing_books, new_books)\n",
    "print(' '.join(map(str, positions)))"
   ]
  },
  {
   "cell_type": "markdown",
   "metadata": {},
   "source": [
    "#### **62. Given a string S, print the reverse of the string after removing the vowels.If the resulting string is empty print '-1'.**\n",
    "\n",
    "Input Size : 1 <= N <= 100000\n",
    "\n",
    "Sample Testcase :\n",
    "\n",
    "INPUT\n",
    "\n",
    "codekata\n",
    "\n",
    "OUTPUT\n",
    "\n",
    "tkdc"
   ]
  },
  {
   "cell_type": "code",
   "execution_count": 1,
   "metadata": {},
   "outputs": [
    {
     "name": "stdout",
     "output_type": "stream",
     "text": [
      "tkdc\n"
     ]
    }
   ],
   "source": [
    "def reverse_without_vowels(s):\n",
    "    vowels = \"aeiouAEIOU\"\n",
    "    no_vowels = [char for char in s if char not in vowels]\n",
    "    if not no_vowels:\n",
    "        return '-1'\n",
    "    return ''.join(no_vowels)[::-1]\n",
    "\n",
    "input_string = input()\n",
    "output_string = reverse_without_vowels(input_string)\n",
    "print(output_string)"
   ]
  },
  {
   "cell_type": "markdown",
   "metadata": {},
   "source": [
    "#### **63. Given a number N followed by N elements for every 2 consecutive numbers print the maximum of the 2.**\n",
    "\n",
    "Input Size : N <= 100000 (ie do it in O(n) time complexity)\n",
    "\n",
    "Sample Testcase :\n",
    "\n",
    "INPUT\n",
    "\n",
    "5\n",
    "\n",
    "1 1 3 0 5\n",
    "\n",
    "OUTPUT\n",
    "\n",
    "1 3 3 5"
   ]
  },
  {
   "cell_type": "markdown",
   "metadata": {},
   "source": [
    "#### **Logic:**\n",
    "\n",
    "n = int(input()): \n",
    "Reads the integer 𝑛\n",
    "\n",
    "elements = list(map(int, input().split())): \n",
    "Reads the next line of input, splits it into a list of strings, converts each string to an integer, and stores the integers in the list elements.\n",
    "\n",
    "Processing Pairs:\n",
    "\n",
    "result = []: \n",
    "Initializes an empty list to store the result.\n",
    "\n",
    "for i in range(n - 1): \n",
    "Loops from 0 to 𝑛−2 (inclusive), ensuring we compare each element with its next neighbor.\n",
    "\n",
    "result.append(max(elements[i], elements[i + 1])): Computes the maximum of the current element and the next element, appending it to the result list.\n",
    "\n",
    "Printing the Output:\n",
    "\n",
    "print(' '.join(map(str, output))): \n",
    "Joins the elements of the result list into a single string with spaces separating them and prints it."
   ]
  },
  {
   "cell_type": "code",
   "execution_count": 3,
   "metadata": {},
   "outputs": [
    {
     "name": "stdout",
     "output_type": "stream",
     "text": [
      "1 3 3 5\n"
     ]
    }
   ],
   "source": [
    "def max_of_consecutive_pairs(n, elements):\n",
    "    result = []\n",
    "    for i in range(n - 1):\n",
    "        result.append(max(elements[i], elements[i + 1]))\n",
    "    return result\n",
    "\n",
    "n = int(input())\n",
    "elements = list(map(int, input().split()))\n",
    "\n",
    "output = max_of_consecutive_pairs(n, elements)\n",
    "print(' '.join(map(str, output)))"
   ]
  },
  {
   "cell_type": "markdown",
   "metadata": {},
   "source": [
    "#### **65. Given 2 numbers N,K followed by N elements print all the elements lesser than K in sorted order.If the elements could not be found print -1**\n",
    "\n",
    "Input Size : N <= 100000\n",
    "\n",
    "Sample Testcase :\n",
    "\n",
    "INPUT\n",
    "\n",
    "5 3\n",
    "\n",
    "1 2 1 4 1\n",
    "\n",
    "OUTPUT\n",
    "\n",
    "1 1 1 2"
   ]
  },
  {
   "cell_type": "code",
   "execution_count": 4,
   "metadata": {},
   "outputs": [
    {
     "name": "stdout",
     "output_type": "stream",
     "text": [
      "1 1 1 2\n"
     ]
    }
   ],
   "source": [
    "def filter_and_sort_elements(n, k, elements):\n",
    "    # Filter elements that are less than k\n",
    "    filtered_elements = [elem for elem in elements if elem < k]\n",
    "    \n",
    "    # Check if there are any elements that meet the condition\n",
    "    if not filtered_elements:\n",
    "        return \"-1\"\n",
    "    \n",
    "    # Sort the filtered elements\n",
    "    filtered_elements.sort()\n",
    "    \n",
    "    return filtered_elements\n",
    "\n",
    "n, k = map(int, input().split())            # n = 5, k = 3\n",
    "elements = list(map(int, input().split()))  # elements = 1 2 1 4 1\n",
    "\n",
    "result = filter_and_sort_elements(n, k, elements)\n",
    "if result == \"-1\":\n",
    "    print(result)\n",
    "else:\n",
    "    print(' '.join(map(str, result)))"
   ]
  },
  {
   "cell_type": "markdown",
   "metadata": {},
   "source": [
    "#### **66. Given a number N followed by N elements, find the second smallest element.If it cannot be found then print -1**\n",
    "\n",
    "Input Size : N <= 100000 (ie do it in O(log n) time complexity)\n",
    "\n",
    "Sample Testcase :\n",
    "\n",
    "INPUT\n",
    "\n",
    "5\n",
    "\n",
    "1 2 3 4 5\n",
    "\n",
    "OUTPUT\n",
    "\n",
    "2"
   ]
  },
  {
   "cell_type": "code",
   "execution_count": 5,
   "metadata": {},
   "outputs": [
    {
     "name": "stdout",
     "output_type": "stream",
     "text": [
      "2\n"
     ]
    }
   ],
   "source": [
    "import heapq\n",
    "\n",
    "def find_second_smallest(n, elements):\n",
    "    if n < 2:\n",
    "        return -1\n",
    "    \n",
    "    # Use a set to remove duplicates\n",
    "    unique_elements = list(set(elements))\n",
    "    \n",
    "    if len(unique_elements) < 2:\n",
    "        return -1\n",
    "    \n",
    "    # Create a min-heap from the unique elements\n",
    "    heapq.heapify(unique_elements)\n",
    "    \n",
    "    # Pop the smallest element\n",
    "    first_smallest = heapq.heappop(unique_elements)\n",
    "    \n",
    "    # The next smallest element is the second smallest\n",
    "    second_smallest = heapq.heappop(unique_elements)\n",
    "    \n",
    "    return second_smallest\n",
    "\n",
    "n = int(input())\n",
    "elements = list(map(int, input().split()))\n",
    "\n",
    "result = find_second_smallest(n, elements)\n",
    "print(result)"
   ]
  },
  {
   "cell_type": "markdown",
   "metadata": {},
   "source": [
    "#### **67. Given two strings S1 and S2. The task is to find if a string 'S2’' can be obtained by rotating another string 'S1’' by 2 places using Stack.**\n",
    "\n",
    "**Input Description:**\n",
    "\n",
    "The first line of the input contains the string S1. The second line of the input contains the string S2\n",
    "\n",
    "**Output Description:**\n",
    "\n",
    "Print 1 if the string S2 can be obtained by rotating string S1 by two places else print 0.\n",
    "\n",
    "Sample Input :\n",
    "\n",
    "amazon\n",
    "\n",
    "azonam\n",
    "\n",
    "Sample Output :\n",
    "\n",
    "1"
   ]
  },
  {
   "cell_type": "markdown",
   "metadata": {},
   "source": [
    "#### **Logic:**\n",
    "\n",
    "1. Reading Input:\n",
    "\n",
    "s1 = input().strip(): Reads the first string.\n",
    "\n",
    "s2 = input().strip(): Reads the second string.\n",
    "\n",
    "2. Function to Rotate String:\n",
    "\n",
    "rotate_string_using_stack(s, direction):\n",
    "\n",
    "This function uses a stack to simulate the rotation of the string s. Depending on the direction ('left' or 'right'), it rotates the string by two places.\n",
    "\n",
    "3. Checking for Rotation:\n",
    "\n",
    "can_obtain_by_rotation(s1, s2): \n",
    "\n",
    "This function checks if the lengths of s1 and s2 are the same. If they are not, it returns 0. It then checks if s2 is equal to the left-rotated or right-rotated version of s1. If it matches either, it returns 1; otherwise, it returns 0.\n",
    "Sample Testcase:"
   ]
  },
  {
   "cell_type": "code",
   "execution_count": null,
   "metadata": {},
   "outputs": [],
   "source": [
    "def rotate_string_using_stack(s, direction):\n",
    "    stack = list(s)\n",
    "    n = len(s)\n",
    "    \n",
    "    if direction == \"left\":\n",
    "        # Rotate left by 2 places\n",
    "        for _ in range(2):\n",
    "            stack.append(stack.pop(0))\n",
    "    elif direction == \"right\":\n",
    "        # Rotate right by 2 places\n",
    "        for _ in range(2):\n",
    "            stack.insert(0, stack.pop())\n",
    "    \n",
    "    return ''.join(stack)\n",
    "\n",
    "def can_obtain_by_rotation(s1, s2):\n",
    "    if len(s1) != len(s2):\n",
    "        return 0\n",
    "    \n",
    "    rotated_left = rotate_string_using_stack(s1, \"left\")\n",
    "    rotated_right = rotate_string_using_stack(s1, \"right\")\n",
    "    \n",
    "    if s2 == rotated_left or s2 == rotated_right:\n",
    "        return 1\n",
    "    else:\n",
    "        return 0\n",
    "\n",
    "s1 = input().strip()\n",
    "s2 = input().strip()\n",
    "\n",
    "result = can_obtain_by_rotation(s1, s2)\n",
    "print(result)"
   ]
  },
  {
   "cell_type": "markdown",
   "metadata": {},
   "source": [
    "#### **68. Given a number N and an array of N strings, find the number of strings that are an anagram of 'kabali'.If there exists no anagram for the given string print '0'.**\n",
    "\n",
    "Input Size : 1 <= N <= 1000\n",
    "\n",
    "Sample Testcase :\n",
    "\n",
    "**INPUT**\n",
    "\n",
    "5\n",
    "\n",
    "kabali\n",
    "\n",
    "kaabli\n",
    "\n",
    "kababa\n",
    "\n",
    "kab\n",
    "\n",
    "kabail\n",
    "\n",
    "**OUTPUT**\n",
    "\n",
    "3"
   ]
  },
  {
   "cell_type": "code",
   "execution_count": null,
   "metadata": {},
   "outputs": [
    {
     "name": "stdout",
     "output_type": "stream",
     "text": [
      "3\n"
     ]
    }
   ],
   "source": [
    "def are_anagrams(str1, str2):\n",
    "    return sorted(str1) == sorted(str2)\n",
    "\n",
    "n = int(input())                                # n = 5\n",
    "strings = [input().strip() for _ in range(n)]   # strings = [\"kabali\", \"kabli\", \"kababa\", \"kab\", \"kabail\"]\n",
    "\n",
    "# Reference anagram string\n",
    "anagram_str = \"kabali\"\n",
    "\n",
    "# Count anagrams of 'kabali'\n",
    "anagram_count = sum(1 for string in strings if are_anagrams(string, anagram_str))\n",
    "print(anagram_count)"
   ]
  },
  {
   "cell_type": "markdown",
   "metadata": {},
   "source": [
    "#### **69. Given a string S, print the encoded string by adding 3 to each character(a maps to d,b maps to e,c maps to f and so on).**\n",
    "\n",
    "Input Size : 1 <= N <= 100000\n",
    "\n",
    "Sample Testcase :\n",
    "\n",
    "**INPUT**\n",
    "\n",
    "RADAR\n",
    "\n",
    "**OUTPUT**\n",
    "\n",
    "UDGDU"
   ]
  },
  {
   "cell_type": "markdown",
   "metadata": {},
   "source": [
    "#### **Logic:**\n",
    "\n",
    "1. Function to Encode String:\n",
    "\n",
    "encode_string(s): \n",
    "    \n",
    "This function takes a string s and encodes it by shifting each letter by 3 positions in the alphabet.\n",
    "\n",
    "2. Character Shifting:\n",
    "\n",
    "For lowercase letters ('a' to 'z'), the expression (ord(char) - ord('a') + 3) % 26 + ord('a') computes the new character.\n",
    "For uppercase letters ('A' to 'Z'), the expression (ord(char) - ord('A') + 3) % 26 + ord('A') computes the new character.\n",
    "Non-alphabetical characters remain unchanged.\n",
    "\n",
    "3. Reading Input and Printing Output:\n",
    "s = input().strip(): \n",
    "Reads the input string.\n",
    "\n",
    "encoded_string = encode_string(s): \n",
    "Calls the function to encode the string.\n",
    "\n",
    "print(encoded_string): \n",
    "Prints the encoded string."
   ]
  },
  {
   "cell_type": "code",
   "execution_count": null,
   "metadata": {},
   "outputs": [
    {
     "name": "stdout",
     "output_type": "stream",
     "text": [
      "UDGDU\n"
     ]
    }
   ],
   "source": [
    "def encode_string(s):\n",
    "    encoded_chars = []\n",
    "    \n",
    "    for char in s:\n",
    "        if 'a' <= char <= 'z':\n",
    "            new_char = chr((ord(char) - ord('a') + 3) % 26 + ord('a'))  # Shift within lowercase letters\n",
    "        elif 'A' <= char <= 'Z':\n",
    "            new_char = chr((ord(char) - ord('A') + 3) % 26 + ord('A'))  # Shift within uppercase letters\n",
    "        else:\n",
    "            new_char = char     # Non-alphabetical characters remain unchanged\n",
    "        \n",
    "        encoded_chars.append(new_char)\n",
    "    return ''.join(encoded_chars)\n",
    "\n",
    "\n",
    "s = input().strip()\n",
    "encoded_string = encode_string(s)\n",
    "print(encoded_string)"
   ]
  },
  {
   "cell_type": "markdown",
   "metadata": {},
   "source": [
    "#### **70. Given an array, find the maximum difference between any two elements.**\n",
    "\n",
    "Input Size : N <= 1000000(complexity O(n) or O(nlogn))\n",
    "\n",
    "Sample Testcase :\n",
    "\n",
    "**INPUT**\n",
    "\n",
    "5\n",
    "\n",
    "1 2 3 4 5\n",
    "\n",
    "**OUTPUT**\n",
    "\n",
    "4"
   ]
  },
  {
   "cell_type": "code",
   "execution_count": 8,
   "metadata": {},
   "outputs": [
    {
     "name": "stdout",
     "output_type": "stream",
     "text": [
      "4\n"
     ]
    }
   ],
   "source": [
    "def max_difference(n, arr):\n",
    "    if len(arr) < 2:\n",
    "        return None\n",
    "    \n",
    "    min_element = arr[0]\n",
    "    max_difference = arr[1] - arr[0]\n",
    "    \n",
    "    for i in range(1, len(arr)):\n",
    "        if arr[i] - min_element > max_difference:\n",
    "            max_difference = arr[i] - min_element\n",
    "        if arr[i] < min_element:\n",
    "            min_element = arr[i]\n",
    "    return max_difference\n",
    "\n",
    "n = int(input())\n",
    "arr = list(map(int, input().split()))\n",
    "result = max_difference(n, arr)\n",
    "print(result)"
   ]
  },
  {
   "cell_type": "markdown",
   "metadata": {},
   "source": [
    "#### **71. Given two numbers N,K followed by an array of N elements, print the array after doing right shift K times (in cyclic manner).**\n",
    "\n",
    "Input Size : 1 <= N, K <= 100000\n",
    "\n",
    "Sample Testcase :\n",
    "\n",
    "**INPUT**\n",
    "\n",
    "3 2\n",
    "\n",
    "7 2 3\n",
    "\n",
    "**OUTPUT**\n",
    "\n",
    "2 3 7"
   ]
  },
  {
   "cell_type": "markdown",
   "metadata": {},
   "source": [
    "#### **Logic:**\n",
    "\n",
    "1. Function cyclic_right_shift:\n",
    "\n",
    "This function remains unchanged from your original implementation. It handles the logic to perform the cyclic right shift on the array arr based on N (size of array) and K (number of shifts).\n",
    "\n",
    "2. Function main:\n",
    "\n",
    "Reads input using sys.stdin.read, which is appropriate for competitive programming or scenarios where input is provided as a block.\n",
    "Splits the input data into tokens using split().\n",
    "Parses N (size of array), K (number of shifts), and arr (array elements) from the input data.\n",
    "Calls cyclic_right_shift function to get the shifted array.\n",
    "Converts the resulting array elements to strings and prints them space-separated using \" \".join(map(str, result)).\n",
    "\n",
    "3. Execution Flow:\n",
    "\n",
    "The main function serves as the entry point where input is processed and output is generated.\n",
    "cyclic_right_shift function encapsulates the core logic for performing the cyclic right shift.\n",
    "The use of sys.stdin.read allows the program to handle input efficiently, especially when dealing with large inputs or when input is provided in a batch format."
   ]
  },
  {
   "cell_type": "code",
   "execution_count": null,
   "metadata": {},
   "outputs": [],
   "source": [
    "def cyclic_right_shift(N, K, arr):\n",
    "    if N == 0:\n",
    "        return arr\n",
    "    \n",
    "    # Effective number of right shifts\n",
    "    K = K % N\n",
    "    \n",
    "    # If K == 0, no need to shift\n",
    "    if K == 0:\n",
    "        return arr\n",
    "    \n",
    "    # Perform cyclic right shift\n",
    "    shifted_arr = arr[-K:] + arr[:-K]\n",
    "    return shifted_arr\n",
    "\n",
    "def main():\n",
    "    import sys\n",
    "    input = sys.stdin.read\n",
    "    data = input().split()\n",
    "    \n",
    "    N = int(data[0])\n",
    "    K = int(data[1])\n",
    "    arr = list(map(int, data[2:2+N]))\n",
    "    \n",
    "    result = cyclic_right_shift(N, K, arr)\n",
    "    print(\" \".join(map(str, result)))\n",
    "\n",
    "if __name__ == \"__main__\":\n",
    "    main()"
   ]
  },
  {
   "cell_type": "markdown",
   "metadata": {},
   "source": [
    "#### **72. Given a sentence S take out the extra spaces.If no extra space is present print the same as output.**\n",
    "\n",
    "Input Size : |s| <= 100000(complexity O(n))\n",
    "\n",
    "Sample Testcase :\n",
    "\n",
    "**INPUT**\n",
    "\n",
    "codekata challenge\n",
    "\n",
    "**OUTPUT**\n",
    "\n",
    "codekata challenge"
   ]
  },
  {
   "cell_type": "code",
   "execution_count": null,
   "metadata": {},
   "outputs": [
    {
     "name": "stdout",
     "output_type": "stream",
     "text": [
      "codekata challenge\n"
     ]
    }
   ],
   "source": [
    "def remove_extra_spaces(sentence):\n",
    "    words = sentence.split()        # Split the sentence by spaces and filter out empty strings\n",
    "    \n",
    "    # Join the words with a single space\n",
    "    cleaned_sentence = ' '.join(words)\n",
    "    return cleaned_sentence\n",
    "\n",
    "sentence = input().strip()  # Read input and strip any leading/trailing whitespace\n",
    "result = remove_extra_spaces(sentence)\n",
    "print(result)"
   ]
  },
  {
   "cell_type": "markdown",
   "metadata": {},
   "source": [
    "#### **73. Given a binary number convert it into octal format.**\n",
    "\n",
    "Sample Testcase:\n",
    "\n",
    "**INPUT**\n",
    "\n",
    "1100100\n",
    "\n",
    "**OUTPUT**\n",
    "\n",
    "144"
   ]
  },
  {
   "cell_type": "code",
   "execution_count": 1,
   "metadata": {},
   "outputs": [
    {
     "name": "stdout",
     "output_type": "stream",
     "text": [
      "144\n"
     ]
    }
   ],
   "source": [
    "def binary_to_octal(binary_str):\n",
    "    # Pad the binary string with leading zeros to make its length a multiple of 3\n",
    "    padded_binary_str = binary_str.zfill(len(binary_str) + (3 - len(binary_str) % 3) % 3)\n",
    "    \n",
    "    # Initialize an empty string for the octal number\n",
    "    octal_str = \"\"\n",
    "    \n",
    "    # Group the binary string into sets of three and convert each group to octal\n",
    "    for i in range(0, len(padded_binary_str), 3):\n",
    "        # Take three binary digits\n",
    "        binary_group = padded_binary_str[i : i+3]\n",
    "        # Convert the binary group to an octal digit and append to the octal string\n",
    "        octal_str += str(int(binary_group, 2))\n",
    "    return octal_str\n",
    "\n",
    "binary_input = input()\n",
    "print(binary_to_octal(binary_input))"
   ]
  },
  {
   "cell_type": "markdown",
   "metadata": {},
   "source": [
    "#### 74. **Given 2 numbers N and K.Print the number of occurrences of K in N.If K is not found print '-1'.**\n",
    "\n",
    "Input Size : 1 <= N <= 100000, 0 <= K <= 9\n",
    "\n",
    "Sample Testcase :\n",
    "\n",
    "**INPUT**\n",
    "\n",
    "1000 0\n",
    "\n",
    "**OUTPUT**\n",
    "\n",
    "3"
   ]
  },
  {
   "cell_type": "code",
   "execution_count": 2,
   "metadata": {},
   "outputs": [
    {
     "name": "stdout",
     "output_type": "stream",
     "text": [
      "3\n"
     ]
    }
   ],
   "source": [
    "# Get the input values\n",
    "N, K = input().split()\n",
    "\n",
    "# Count the occurrences of K in N\n",
    "count = N.count(K)\n",
    "\n",
    "# If the count is zero, print '-1'\n",
    "if count == 0:\n",
    "    print(\"-1\")\n",
    "else:\n",
    "    print(count)"
   ]
  },
  {
   "cell_type": "markdown",
   "metadata": {},
   "source": [
    "#### **76. Rajat is given some special task to calculate the largest sum of two consecutive elements.He solved some of questions but he is not sure whether his answer is correct or not. Your task is to help him in determining whether answers posted by him are correct or not.**\n",
    "\n",
    "**Input Description:**\n",
    "\n",
    "The first line of the input is a integer N. The second line of the input consists of N space separated integer.\n",
    "\n",
    "**Output Description:**\n",
    "\n",
    "Print the max sum of two consecutive numbers from the given N numbers\n",
    "\n",
    "**Sample Input:**\n",
    "\n",
    "5\n",
    "\n",
    "1 5 6 8 3\n",
    "\n",
    "**Sample Output:**\n",
    "\n",
    "14"
   ]
  },
  {
   "cell_type": "code",
   "execution_count": null,
   "metadata": {},
   "outputs": [
    {
     "name": "stdout",
     "output_type": "stream",
     "text": [
      "14\n"
     ]
    }
   ],
   "source": [
    "N = int(input())\n",
    "elements = list(map(int, input().split()))\n",
    "\n",
    "# Initialize the max_sum with a very small number\n",
    "max_sum = float('-inf')\n",
    "\n",
    "# Iterate through the list to find the maximum sum of consecutive elements\n",
    "for i in range(N - 1):\n",
    "    current_sum = elements[i] + elements[i + 1]\n",
    "    if current_sum > max_sum:\n",
    "        max_sum = current_sum\n",
    "print(max_sum)"
   ]
  },
  {
   "cell_type": "markdown",
   "metadata": {},
   "source": [
    "#### **78. Given 2 numbers N,K followed by a sorted array of N elements, search and tell if an element K is present in the array.print 'yes' if element is present otherwise print 'no'.**\n",
    "\n",
    "Input Size : 1 <= N <= 1000000000000000(Do it in logN time complexity)\n",
    "\n",
    "Sample Testcase:\n",
    "\n",
    "**INPUT**\n",
    "\n",
    "3 2\n",
    "\n",
    "2 3 7\n",
    "\n",
    "**OUTPUT**\n",
    "\n",
    "Yes"
   ]
  },
  {
   "cell_type": "code",
   "execution_count": null,
   "metadata": {},
   "outputs": [
    {
     "name": "stdout",
     "output_type": "stream",
     "text": [
      "yes\n"
     ]
    }
   ],
   "source": [
    "N, K = (int(no) for no in input().split())\n",
    "array = list(map(int, input().split()))\n",
    "\n",
    "# Check if K is present in the list 'array'\n",
    "if K in array:\n",
    "    print(\"yes\")\n",
    "else:\n",
    "    print(\"no\")"
   ]
  },
  {
   "cell_type": "markdown",
   "metadata": {},
   "source": [
    "#### **79. Given a number N in decimal convert it into binary value.**\n",
    "\n",
    "Input Size : N <= 100000\n",
    "\n",
    "Sample Testcase :\n",
    "\n",
    "**INPUT**\n",
    "\n",
    "5\n",
    "\n",
    "**OUTPUT**\n",
    "\n",
    "101"
   ]
  },
  {
   "cell_type": "code",
   "execution_count": null,
   "metadata": {},
   "outputs": [
    {
     "name": "stdout",
     "output_type": "stream",
     "text": [
      "101\n"
     ]
    }
   ],
   "source": [
    "# Method 1: Using Built-in Function (bin())\n",
    "\n",
    "N = int(input())\n",
    "\n",
    "# Convert to binary using bin() and remove the '0b' prefix\n",
    "binary_representation = bin(N)[2:]\n",
    "print(binary_representation)"
   ]
  },
  {
   "cell_type": "code",
   "execution_count": null,
   "metadata": {},
   "outputs": [
    {
     "name": "stdout",
     "output_type": "stream",
     "text": [
      "101\n"
     ]
    }
   ],
   "source": [
    "# Method 2: Manual Conversion\n",
    "\n",
    "N = int(input())\n",
    "if N == 0:\n",
    "    print(0)\n",
    "else:\n",
    "    binary_representation = ''      # Initialize an empty string to store binary digits\n",
    "    \n",
    "    # Convert decimal to binary by dividing N by 2 repeatedly\n",
    "    while N > 0:\n",
    "        # Get the remainder when N is divided by 2 (0 or 1)\n",
    "        remainder = N % 2\n",
    "        \n",
    "        # Prepend the remainder to the binary string\n",
    "        binary_representation = str(remainder) + binary_representation\n",
    "        \n",
    "        # Update N to be the quotient of the division by 2\n",
    "        N = N // 2\n",
    "\n",
    "    print(binary_representation)"
   ]
  },
  {
   "cell_type": "markdown",
   "metadata": {},
   "source": [
    "#### **80. Given an array print the number of subarrays that can be formed with it.**\n",
    "\n",
    "Input Size : N <= 100000\n",
    "\n",
    "Sample Testcase :\n",
    "\n",
    "INPUT\n",
    "\n",
    "5\n",
    "\n",
    "1 2 3 2 1\n",
    "\n",
    "OUTPUT\n",
    "\n",
    "15"
   ]
  },
  {
   "cell_type": "code",
   "execution_count": null,
   "metadata": {},
   "outputs": [
    {
     "name": "stdout",
     "output_type": "stream",
     "text": [
      "15\n"
     ]
    }
   ],
   "source": [
    "N = int(input())\n",
    "arr = list(map(int, input().split()))\n",
    "\n",
    "# Calculate the number of subarrays\n",
    "number_of_subarrays = N * (N + 1) // 2\n",
    "print(number_of_subarrays)"
   ]
  },
  {
   "cell_type": "markdown",
   "metadata": {},
   "source": [
    "#### **81. Given a number N and an array of N elements, print the array after removing duplicate elements.If no duplicate elements found print the same.**\n",
    "\n",
    "Input Size : N <= 100000\n",
    "\n",
    "Sample Testcase :\n",
    "\n",
    "**INPUT**\n",
    "\n",
    "4\n",
    "\n",
    "2 4 4 2\n",
    "\n",
    "**OUTPUT**\n",
    "\n",
    "2 4"
   ]
  },
  {
   "cell_type": "code",
   "execution_count": null,
   "metadata": {},
   "outputs": [
    {
     "name": "stdout",
     "output_type": "stream",
     "text": [
      "2 4\n"
     ]
    }
   ],
   "source": [
    "N = int(input())\n",
    "arr = list(map(int, input().split()))\n",
    "\n",
    "# Initialize an empty set to track seen elements\n",
    "seen = set()\n",
    "\n",
    "# Initialize an empty list to store unique elements in original order\n",
    "unique_arr = []\n",
    "\n",
    "# Loop through each element in the array\n",
    "for element in arr:\n",
    "    if element not in seen:             # If the element has not been seen before, add it to the unique_arr\n",
    "        unique_arr.append(element)\n",
    "        seen.add(element)\n",
    "print(\" \".join(map(str, unique_arr)))"
   ]
  },
  {
   "cell_type": "markdown",
   "metadata": {},
   "source": [
    "#### **82. Given a number N, followed by an array of N elements,print 'yes' if it is a sorted array(either ascending or descending)otherwise print 'no'.**\n",
    "\n",
    "Input Size : 1 <= N <= 100000\n",
    "\n",
    "Sample Testcase:\n",
    "\n",
    "**INPUT**\n",
    "\n",
    "3\n",
    "\n",
    "2 3 7\n",
    "\n",
    "**OUTPUT**\n",
    "\n",
    "yes"
   ]
  },
  {
   "cell_type": "code",
   "execution_count": null,
   "metadata": {},
   "outputs": [
    {
     "name": "stdout",
     "output_type": "stream",
     "text": [
      "yes\n"
     ]
    }
   ],
   "source": [
    "N = int(input())\n",
    "arr = list(map(int, input().split()))\n",
    "\n",
    "# Check if the array is sorted in ascending order or descending order\n",
    "if arr == sorted(arr) or arr == sorted(arr, reverse=True):\n",
    "    print(\"yes\")\n",
    "else:\n",
    "    print(\"no\")"
   ]
  },
  {
   "cell_type": "markdown",
   "metadata": {},
   "source": [
    "#### **83. Given an array of numbers and another number k. Find whether K exists and the number of time k repeats. If it does not exist just print no.**\n",
    "\n",
    "Input Size : |N| <= 1000000\n",
    "\n",
    "Sample Testcase :\n",
    "\n",
    "**INPUT**\n",
    "\n",
    "5 3\n",
    "\n",
    "3 3 4 4 7\n",
    "\n",
    "**OUTPUT**\n",
    "\n",
    "yes 2"
   ]
  },
  {
   "cell_type": "code",
   "execution_count": null,
   "metadata": {},
   "outputs": [
    {
     "name": "stdout",
     "output_type": "stream",
     "text": [
      "yes 2\n"
     ]
    }
   ],
   "source": [
    "N, K = map(int, input().split())\n",
    "arr = list(map(int, input().split()))\n",
    "\n",
    "# Count the occurrences of K in the array\n",
    "count = arr.count(K)\n",
    "\n",
    "# Check if K exists in the array\n",
    "if count > 0:\n",
    "    print(f\"yes {count}\")\n",
    "else:\n",
    "    print(\"no\")"
   ]
  },
  {
   "cell_type": "markdown",
   "metadata": {},
   "source": [
    "#### **84. Given a number N and an array of N elements, find the sum of the sums obtained by considering all consecutive pairs of adjacent elements.**\n",
    "\n",
    "Input Size : N <= 100000\n",
    "\n",
    "Sample Testcase :\n",
    "\n",
    "**INPUT**\n",
    "\n",
    "5\n",
    "\n",
    "1 2 3 4 5\n",
    "\n",
    "**OUTPUT**\n",
    "\n",
    "24((1+2)+(2+3)+(3+4)+(4+5))"
   ]
  },
  {
   "cell_type": "code",
   "execution_count": null,
   "metadata": {},
   "outputs": [
    {
     "name": "stdout",
     "output_type": "stream",
     "text": [
      "24\n"
     ]
    }
   ],
   "source": [
    "N = int(input())\n",
    "arr = list(map(int, input().split()))\n",
    "\n",
    "# Initialize the sum of consecutive pairs\n",
    "total_sum = 0\n",
    "\n",
    "# Loop through the array\n",
    "for i in range(N - 1):\n",
    "    total_sum += arr[i] + arr[i + 1]    # Add the sum of consecutive pairs\n",
    "print(total_sum)"
   ]
  },
  {
   "cell_type": "markdown",
   "metadata": {},
   "source": [
    "#### **86. Given 2 numbers N and M followed by N numbers and M numbers, print the common numbers in sorted order.**\n",
    "\n",
    "Input Size : N,M <= 100000 (ie do it in O(n) time complexity)\n",
    "\n",
    "Sample Testcase :\n",
    "\n",
    "**INPUT**\n",
    "\n",
    "5 4\n",
    "\n",
    "1 2 3 4 5 1 2 3 4\n",
    "\n",
    "**OUTPUT**\n",
    "\n",
    "1 2 3 4"
   ]
  },
  {
   "cell_type": "code",
   "execution_count": null,
   "metadata": {},
   "outputs": [
    {
     "name": "stdout",
     "output_type": "stream",
     "text": [
      "1 2 3 4\n"
     ]
    }
   ],
   "source": [
    "def find_common_elements(arr1, arr2):\n",
    "    set1 = set(arr1)\n",
    "    common = set()\n",
    "\n",
    "    for num in arr2:\n",
    "        if num in set1:\n",
    "            common.add(num)\n",
    "    return sorted(common)\n",
    "\n",
    "n, m = map(int, input().split())\n",
    "arr1 = list(map(int, input().split()))\n",
    "arr2 = list(map(int, input().split()))\n",
    "\n",
    "common_elements = find_common_elements(arr1, arr2)\n",
    "print(\" \".join(map(str, common_elements)))"
   ]
  },
  {
   "cell_type": "markdown",
   "metadata": {},
   "source": [
    "#### **89. Given a string and a number K, change every kth character to uppercase from beginning in string.**\n",
    "\n",
    "Sample Testcase:\n",
    "\n",
    "**INPUT**\n",
    "\n",
    "string 2\n",
    "\n",
    "**OUTPUT**\n",
    "\n",
    "sTrInG"
   ]
  },
  {
   "cell_type": "code",
   "execution_count": null,
   "metadata": {},
   "outputs": [
    {
     "name": "stdout",
     "output_type": "stream",
     "text": [
      "sTrInG\n"
     ]
    }
   ],
   "source": [
    "# Method - 1:\n",
    "\n",
    "my_str, num = input().split()\n",
    "num = int(num)  # Convert num to an integer\n",
    "\n",
    "# Check if the given num is positive\n",
    "if num > 0:\n",
    "    # Convert string to a list of characters to modify\n",
    "    my_str_list = list(my_str)\n",
    "    \n",
    "    # Modify every kth character to uppercase\n",
    "    for i in range(num - 1, len(my_str_list), num):\n",
    "        my_str_list[i] = my_str_list[i].upper()\n",
    "    my_str = ''.join(my_str_list)\n",
    "    print(my_str)\n",
    "else:\n",
    "    print(my_str)"
   ]
  },
  {
   "cell_type": "code",
   "execution_count": null,
   "metadata": {},
   "outputs": [
    {
     "name": "stdout",
     "output_type": "stream",
     "text": [
      "sTrInG\n"
     ]
    }
   ],
   "source": [
    "# Method - 2:\n",
    "\n",
    "input_string, K = input().split()\n",
    "K = int(K)\n",
    "\n",
    "# Convert the input string into a list of characters for modification\n",
    "modified_string = list(input_string)\n",
    "\n",
    "# Iterate through the string and change every Kth character to uppercase\n",
    "for i in range(K - 1, len(modified_string), K):\n",
    "    modified_string[i] = modified_string[i].upper()\n",
    "print(\"\".join(modified_string))"
   ]
  },
  {
   "cell_type": "markdown",
   "metadata": {},
   "source": [
    "#### **91. Given a number N,K followed by array of N elements where the difference between any adjacent elements is 1. Find the position of the given number K.If K not found in the array print -1.**\n",
    "\n",
    "Sample Testcase :\n",
    "\n",
    "**INPUT**\n",
    "\n",
    "5 1\n",
    "\n",
    "3 2 1 2 3\n",
    "\n",
    "**OUTPUT**\n",
    "\n",
    "3"
   ]
  },
  {
   "cell_type": "code",
   "execution_count": null,
   "metadata": {},
   "outputs": [
    {
     "name": "stdout",
     "output_type": "stream",
     "text": [
      "3\n"
     ]
    }
   ],
   "source": [
    "N, K = map(int, input().split())\n",
    "arr = list(map(int, input().split()))\n",
    "\n",
    "# Start position\n",
    "i = 0\n",
    "\n",
    "# While within bounds of the array\n",
    "while i < N:\n",
    "    if arr[i] == K:\n",
    "        print(i + 1)        # Print the 1-based index position if found\n",
    "        break\n",
    "    i += abs(arr[i] - K)    # Calculate the next position to jump to\n",
    "else:\n",
    "    print(-1)   # If not found, print -1"
   ]
  },
  {
   "cell_type": "markdown",
   "metadata": {},
   "source": [
    "#### **92. Given a number N followed by N elements if the number '0' occurs print the proceeding numbers until next '0' is encountered.If there is no balancing 0's print -1.**\n",
    "\n",
    "Input Size : 1 < N <= 100000(complexity O(n))\n",
    "\n",
    "Sample Testcase :\n",
    "\n",
    "**INPUT**\n",
    "\n",
    "10\n",
    "\n",
    "1 1 1 0 1 0 1 1 0 1\n",
    "\n",
    "**OUTPUT**\n",
    "\n",
    "1 1 1"
   ]
  },
  {
   "cell_type": "code",
   "execution_count": null,
   "metadata": {},
   "outputs": [],
   "source": []
  },
  {
   "cell_type": "markdown",
   "metadata": {},
   "source": [
    "#### **93. Given a number N and an array of N integers, print the minimum sum of the sub-array from the given array.**\n",
    "\n",
    "Input Size : N <= 100000\n",
    "\n",
    "Sample Testcase:\n",
    "\n",
    "**INPUT**\n",
    "\n",
    "4\n",
    "\n",
    "2 4 4 2\n",
    "\n",
    "**OUTPUT**\n",
    "\n",
    "2"
   ]
  },
  {
   "cell_type": "code",
   "execution_count": null,
   "metadata": {},
   "outputs": [
    {
     "name": "stdout",
     "output_type": "stream",
     "text": [
      "2\n"
     ]
    }
   ],
   "source": [
    "# Find the minimum sum of a sub-array\n",
    "def min_subarray_sum(arr, N):\n",
    "    # Initialize the variables\n",
    "    current_min = arr[0]\n",
    "    global_min = arr[0]\n",
    "    \n",
    "    # Loop through the array starting from the second element\n",
    "    for i in range(1, N):\n",
    "        # Update current_min: either add the current element to the existing sub-array or start a new one\n",
    "        current_min = min(arr[i], current_min + arr[i])\n",
    "        # Update global_min to track the overall minimum sum\n",
    "        global_min = min(global_min, current_min)\n",
    "    return global_min\n",
    "\n",
    "N = int(input())\n",
    "arr = list(map(int, input().split()))\n",
    "print(min_subarray_sum(arr, N))"
   ]
  },
  {
   "cell_type": "markdown",
   "metadata": {},
   "source": [
    "#### **94. Given 3 points check whether they lie on the same line.If they lie on the same line print 'yes' Otherwise print 'no'.**\n",
    "\n",
    "Sample Testcase :\n",
    "\n",
    "**INPUT**\n",
    "\n",
    "0 1\n",
    "\n",
    "0 0\n",
    "\n",
    "0 2\n",
    "\n",
    "**OUTPUT**\n",
    "\n",
    "yes"
   ]
  },
  {
   "cell_type": "code",
   "execution_count": 4,
   "metadata": {},
   "outputs": [
    {
     "name": "stdout",
     "output_type": "stream",
     "text": [
      "yes\n"
     ]
    }
   ],
   "source": [
    "def check_collinear(x1, y1, x2, y2, x3, y3):\n",
    "    # Using the simplified slope comparison formula\n",
    "    if (y2 - y1) * (x3 - x1) == (y3 - y1) * (x2 - x1):\n",
    "        return \"yes\"\n",
    "    else:\n",
    "        return \"no\"\n",
    "\n",
    "x1, y1 = map(int, input().split())\n",
    "x2, y2 = map(int, input().split())\n",
    "x3, y3 = map(int, input().split())\n",
    "\n",
    "print(check_collinear(x1, y1, x2, y2, x3, y3))"
   ]
  },
  {
   "cell_type": "markdown",
   "metadata": {},
   "source": [
    "#### **95. Given a number N and 2 arrays of N integers and their weights, sort the array based on their weights in the ascending order.**\n",
    "\n",
    "Input Size : N <= 100000\n",
    "\n",
    "Sample Testcase:\n",
    "\n",
    "**INPUT**\n",
    "\n",
    "5\n",
    "\n",
    "1 2 3 4 5\n",
    "\n",
    "5 4 3 2 1\n",
    "\n",
    "**OUTPUT**\n",
    "\n",
    "5 4 3 2 1"
   ]
  },
  {
   "cell_type": "code",
   "execution_count": null,
   "metadata": {},
   "outputs": [
    {
     "name": "stdout",
     "output_type": "stream",
     "text": [
      "5 4 3 2 1\n"
     ]
    }
   ],
   "source": [
    "def sort_by_weights(arr, weights, N):\n",
    "    # Combine the array elements with their weights\n",
    "    combined = list(zip(arr, weights))\n",
    "    \n",
    "    # Sort the combined array based on weights (second element in the tuple)\n",
    "    combined_sorted = sorted(combined, key=lambda x: x[1])\n",
    "    \n",
    "    # Extract the sorted array elements\n",
    "    sorted_arr = [x[0] for x in combined_sorted]\n",
    "    print(\" \".join(map(str, sorted_arr)))\n",
    "\n",
    "N = int(input())\n",
    "arr = list(map(int, input().split()))\n",
    "weights = list(map(int, input().split()))\n",
    "sort_by_weights(arr, weights, N)"
   ]
  },
  {
   "cell_type": "markdown",
   "metadata": {},
   "source": [
    "#### **96. Given an array N, check if the values are alternating between increasing and decreasing.**\n",
    "\n",
    "Input Size : N <= 100000\n",
    "\n",
    "Sample Testcase :\n",
    "\n",
    "**INPUT**\n",
    "\n",
    "5\n",
    "\n",
    "12 14 3 7 4\n",
    "\n",
    "**OUTPUT**\n",
    "\n",
    "yes"
   ]
  },
  {
   "cell_type": "code",
   "execution_count": 6,
   "metadata": {},
   "outputs": [
    {
     "name": "stdout",
     "output_type": "stream",
     "text": [
      "yes\n"
     ]
    }
   ],
   "source": [
    "def is_alternating(arr, N):\n",
    "    # Handle edge case where there's only one element\n",
    "    if N < 2:\n",
    "        return \"yes\"\n",
    "    \n",
    "    # Variable to track the expected relation (increase or decrease)\n",
    "    increasing = None  # Initially we don't know whether it should increase or decrease\n",
    "    \n",
    "    for i in range(1, N):\n",
    "        if arr[i-1] == arr[i]:  # If two consecutive numbers are equal, not alternating\n",
    "            return \"no\"\n",
    "        \n",
    "        # Determine if we expect an increasing or decreasing pattern\n",
    "        if increasing is None:\n",
    "            # Set the initial expected pattern (based on the first two elements)\n",
    "            increasing = arr[i] < arr[i-1]\n",
    "        else:\n",
    "            # Check if the current pattern breaks the alternation\n",
    "            if increasing and arr[i] >= arr[i-1]:\n",
    "                return \"no\"\n",
    "            if not increasing and arr[i] <= arr[i-1]:\n",
    "                return \"no\"\n",
    "        \n",
    "        # Flip the expected relation (increase/decrease alternation)\n",
    "        increasing = not increasing\n",
    "    return \"yes\"\n",
    "\n",
    "N = int(input())  # Size of array\n",
    "arr = list(map(int, input().split()))  # Array of integers\n",
    "print(is_alternating(arr, N))"
   ]
  },
  {
   "cell_type": "markdown",
   "metadata": {},
   "source": [
    "#### **97. Given an array N, check if the values are alternating between increasing and decreasing.**\n",
    "\n",
    "Input Size : N <= 100000\n",
    "\n",
    "Sample Testcase :\n",
    "\n",
    "**INPUT**\n",
    "\n",
    "5\n",
    "\n",
    "12 14 3 7 4\n",
    "\n",
    "**OUTPUT**\n",
    "\n",
    "yes"
   ]
  },
  {
   "cell_type": "code",
   "execution_count": null,
   "metadata": {},
   "outputs": [
    {
     "name": "stdout",
     "output_type": "stream",
     "text": [
      "yes\n"
     ]
    }
   ],
   "source": [
    "def is_alternating(arr, N):\n",
    "    if N < 2:               # Handle edge case where there's only one element\n",
    "        return \"yes\"\n",
    "    \n",
    "    # Variable to track the expected relation (increase or decrease)\n",
    "    increasing = None  # Initially we don't know whether it should increase or decrease\n",
    "    \n",
    "    for i in range(1, N):\n",
    "        if arr[i-1] == arr[i]:  # If two consecutive numbers are equal, not alternating\n",
    "            return \"no\"\n",
    "        \n",
    "        # Determine if we expect an increasing or decreasing pattern\n",
    "        if increasing is None:\n",
    "            # Set the initial expected pattern (based on the first two elements)\n",
    "            increasing = arr[i] < arr[i-1]\n",
    "        else:\n",
    "            # Check if the current pattern breaks the alternation\n",
    "            if increasing and arr[i] >= arr[i-1]:\n",
    "                return \"no\"\n",
    "            if not increasing and arr[i] <= arr[i-1]:\n",
    "                return \"no\"\n",
    "        \n",
    "        increasing = not increasing     # Flip the expected relation (increase/decrease alternation)\n",
    "    return \"yes\"\n",
    "\n",
    "N = int(input())\n",
    "arr = list(map(int, input().split()))\n",
    "print(is_alternating(arr, N))"
   ]
  },
  {
   "cell_type": "markdown",
   "metadata": {},
   "source": [
    "#### **98. Given a string and a number K.Print every kth character from the beginning.**\n",
    "\n",
    "Sample Testcase :\n",
    "\n",
    "**INPUT**\n",
    "\n",
    "string 3\n",
    "\n",
    "**OUTPUT**\n",
    "\n",
    "r g"
   ]
  },
  {
   "cell_type": "code",
   "execution_count": null,
   "metadata": {},
   "outputs": [
    {
     "name": "stdout",
     "output_type": "stream",
     "text": [
      "r g\n"
     ]
    }
   ],
   "source": [
    "def print_kth_characters(s, k):\n",
    "    result = [s[i] for i in range(k-1, len(s), k)]      # Select every k-th character from the string (1-based index, hence k-1 offset)\n",
    "    print(\" \".join(result))\n",
    "\n",
    "input_data = input().split()\n",
    "s = input_data[0]\n",
    "k = int(input_data[1])\n",
    "print_kth_characters(s, k)"
   ]
  },
  {
   "cell_type": "markdown",
   "metadata": {},
   "source": [
    "#### **99. Given a number N and array of N integers, find the number which occurs the least number of times.**\n",
    "\n",
    "Input Size : |N| <= 1000000\n",
    "\n",
    "Sample Testcase :\n",
    "\n",
    "**INPUT**\n",
    "\n",
    "5\n",
    "\n",
    "3 3 4 4 7\n",
    "\n",
    "**OUTPUT**\n",
    "\n",
    "7"
   ]
  },
  {
   "cell_type": "code",
   "execution_count": null,
   "metadata": {},
   "outputs": [
    {
     "name": "stdout",
     "output_type": "stream",
     "text": [
      "7\n"
     ]
    }
   ],
   "source": [
    "from collections import Counter\n",
    "\n",
    "def find_least_frequent(arr, N):\n",
    "    # Count occurrences of each number\n",
    "    count = Counter(arr)\n",
    "    \n",
    "    # Initialize variables to find the least frequent number\n",
    "    min_count = float('inf')\n",
    "    result_number = None\n",
    "    \n",
    "    for number, frequency in count.items():\n",
    "        # Update if a lower frequency is found, or if the same frequency but a larger number\n",
    "        if frequency < min_count or (frequency == min_count and number > result_number):\n",
    "            min_count = frequency\n",
    "            result_number = number    \n",
    "    return result_number\n",
    "\n",
    "N = int(input())\n",
    "arr = list(map(int, input().split()))\n",
    "print(find_least_frequent(arr, N))"
   ]
  },
  {
   "cell_type": "markdown",
   "metadata": {},
   "source": [
    "#### **100. Given 2 arrays print 'yes' if they are mirror images of each other,otherwise 'no'.**\n",
    "\n",
    "Input Size : N <= 1000000\n",
    "\n",
    "Sample Testcase :\n",
    "\n",
    "**INPUT**\n",
    "\n",
    "4\n",
    "\n",
    "1 2 3 4\n",
    "\n",
    "4 3 2 1\n",
    "\n",
    "**OUTPUT**\n",
    "\n",
    "yes"
   ]
  },
  {
   "cell_type": "code",
   "execution_count": 10,
   "metadata": {},
   "outputs": [
    {
     "name": "stdout",
     "output_type": "stream",
     "text": [
      "yes\n"
     ]
    }
   ],
   "source": [
    "def are_mirror_images(arr1, arr2, N):\n",
    "    # Check if the arrays are equal when one is reversed\n",
    "    if arr1 == arr2[::-1]:\n",
    "        return \"yes\"\n",
    "    else:\n",
    "        return \"no\"\n",
    "\n",
    "N = int(input())  # Size of the arrays\n",
    "arr1 = list(map(int, input().split()))  # First array\n",
    "arr2 = list(map(int, input().split()))  # Second array\n",
    "print(are_mirror_images(arr1, arr2, N))"
   ]
  },
  {
   "cell_type": "markdown",
   "metadata": {},
   "source": [
    "### **101. Ram is a marketing manager at GUVI. He observes that for every two batches of products, one package is extra in one of the batches. He realises that someone is stealing the package from the other batch. He decides to document the discovery so as to report to his superior. Find out the package number of the package that gets stolen from one of the batches of products.**\n",
    "\n",
    "**Constraints:**\n",
    "\n",
    "1<=T<=100\n",
    "\n",
    "1<=N<=100\n",
    "\n",
    "1<=Ai<=1000\n",
    "\n",
    "**Input Description:**\n",
    "\n",
    "The first line of input contains an integer T, denoting the no of test cases. Then T test cases follow. The first line of each test case contains an integer N, denoting the number of packages in Batch A. The second line of each test case contains N space separated values of number of items in each package of Batch A. The Third line of each test case contains N-1 space separated number of items in each package of Batch B.\n",
    "\n",
    "**Output Description:**\n",
    "\n",
    "Return the package number of the corresponding package stolen from Batch B. The array index denotes the package number.\n",
    "\n",
    "**Sample Input:**\n",
    "\n",
    "2\n",
    "\n",
    "7\n",
    "\n",
    "2 4 6 8 9 10 12\n",
    "\n",
    "2 4 6 8 10 12\n",
    "\n",
    "6\n",
    "\n",
    "3 5 7 9 11 13\n",
    "\n",
    "3 5 7 11 13\n",
    "\n",
    "**Sample Output:**\n",
    "\n",
    "4\n",
    "\n",
    "3"
   ]
  },
  {
   "cell_type": "code",
   "execution_count": 4,
   "metadata": {},
   "outputs": [
    {
     "name": "stdout",
     "output_type": "stream",
     "text": [
      "5\n",
      "4\n"
     ]
    }
   ],
   "source": [
    "def find_stolen_packages(T, test_cases):\n",
    "    results = []\n",
    "    for t in range(T):\n",
    "        N = test_cases[t][0]\n",
    "        batch_a = test_cases[t][1]\n",
    "        batch_b = test_cases[t][2]\n",
    "\n",
    "        # Use a dictionary to count occurrences of items in Batch B\n",
    "        count_b = {}\n",
    "        for item in batch_b:\n",
    "            if item in count_b:\n",
    "                count_b[item] += 1\n",
    "            else:\n",
    "                count_b[item] = 1\n",
    "\n",
    "        # Find the missing package in Batch A\n",
    "        for index, item in enumerate(batch_a):\n",
    "            if count_b.get(item, 0) > 0:\n",
    "                count_b[item] -= 1\n",
    "            else:\n",
    "                # Missing package found\n",
    "                results.append(index + 1)  # Convert to 1-based index\n",
    "                break\n",
    "    return results\n",
    "\n",
    "T = int(input())\n",
    "test_cases = []\n",
    "\n",
    "for _ in range(T):\n",
    "    N = int(input())\n",
    "    batch_a = list(map(int, input().split()))\n",
    "    batch_b = list(map(int, input().split()))\n",
    "    test_cases.append((N, batch_a, batch_b))\n",
    "\n",
    "# Solve and Output Results\n",
    "results = find_stolen_packages(T, test_cases)\n",
    "for res in results:\n",
    "    print(res)"
   ]
  },
  {
   "cell_type": "markdown",
   "metadata": {},
   "source": [
    "### **102. Vasanth is working at GUVI. He has been taking leave often in the past couple of weeks and his manager, who also happens to be his friend, is worried that Vasanth might be exceeding his number of paid holidays, which might be a black mark in Vasanth monthly report. The manager analysis Vasanth’s attendance register and decides to warn him beforehand. The attendance register has a ‘P’ marked for present and an ‘A’ marked for absent. Vasanth will be blacklisted if his attendance falls below 25%. Your task is to help the manager find out whether Vasanth could be blacklisted or not.**\n",
    "\n",
    "**Input Description:**\n",
    "\n",
    "First line contains the number of entries in the attendance register, followed by space separated values of attendance (‘P’ or ‘A’)\n",
    "\n",
    "**Output Description:**\n",
    "\n",
    "‘Blacklisted’ if attendance is below 25% ‘Not Blacklisted’ if attendance is above 25%\n",
    "\n",
    "**Sample Input:**\n",
    "\n",
    "5\n",
    "\n",
    "P P A A A\n",
    "\n",
    "**Sample Output:**\n",
    "\n",
    "Not Blacklisted"
   ]
  },
  {
   "cell_type": "code",
   "execution_count": 5,
   "metadata": {},
   "outputs": [
    {
     "name": "stdout",
     "output_type": "stream",
     "text": [
      "Not Blacklisted\n"
     ]
    }
   ],
   "source": [
    "n = int(input())\n",
    "attendance = input().split()\n",
    "\n",
    "# Calculate Attendance Percentage\n",
    "present_count = attendance.count('P')\n",
    "attendance_percentage = (present_count / n) * 100\n",
    "\n",
    "# Check if blacklisted\n",
    "if attendance_percentage <= 25:\n",
    "    print(\"Blacklisted\")\n",
    "else:\n",
    "    print(\"Not Blacklisted\")"
   ]
  },
  {
   "cell_type": "markdown",
   "metadata": {},
   "source": [
    "### **103. Ramesh is searching a solution to problem posted. The statement is as follows: Print the maximum sum produced by increasing subarray. Ramesh is very confused to see the question,Help him.**\n",
    "\n",
    "**Input Description:**\n",
    "\n",
    "You are given a number ‘n’,Then next line contains n space separated numbers.\n",
    "\n",
    "**Output Description:**\n",
    "\n",
    "Maximum sum value produced by the increasing sub array of size 'n'\n",
    "\n",
    "**Sample Input:**\n",
    "\n",
    "6\n",
    "\n",
    "2 1 4 7 3 6\n",
    "\n",
    "**Sample Output:**\n",
    "\n",
    "12"
   ]
  },
  {
   "cell_type": "code",
   "execution_count": 6,
   "metadata": {},
   "outputs": [
    {
     "name": "stdout",
     "output_type": "stream",
     "text": [
      "12\n"
     ]
    }
   ],
   "source": [
    "def max_increasing_subarray_sum(n, arr):\n",
    "    max_sum = 0\n",
    "    current_sum = arr[0]\n",
    "\n",
    "    for i in range(1, n):\n",
    "        if arr[i] > arr[i - 1]:\n",
    "            current_sum += arr[i]\n",
    "        else:\n",
    "            max_sum = max(max_sum, current_sum)\n",
    "            current_sum = arr[i]\n",
    "    max_sum = max(max_sum, current_sum)\n",
    "    return max_sum\n",
    "\n",
    "n = int(input())\n",
    "arr = list(map(int, input().split()))\n",
    "print(max_increasing_subarray_sum(n, arr))"
   ]
  },
  {
   "cell_type": "markdown",
   "metadata": {},
   "source": [
    "### **104. You are given with an array of numbers.You have to print the middlemost element until the size of array becomes zero. When n is odd print the (n/2)+1 index(indexing at 1)**\n",
    "\n",
    "#### **Input Description:**\n",
    "\n",
    "You are given a number ‘n’ denoting the size of array. Next line contains n space separated numbers.\n",
    "\n",
    "#### **Output Description:**\n",
    "\n",
    "Print as mentioned above\n",
    "\n",
    "#### **Sample Input:**\n",
    "\n",
    "5\n",
    "\n",
    "1 2 3 4 5 \n",
    "\n",
    "#### **Sample Output:**\n",
    "\n",
    "3 2 4 1 5\n"
   ]
  },
  {
   "cell_type": "code",
   "execution_count": null,
   "metadata": {},
   "outputs": [
    {
     "name": "stdout",
     "output_type": "stream",
     "text": [
      "3 4 2 5 1 "
     ]
    }
   ],
   "source": [
    "def print_middle_elements(arr):\n",
    "    while arr:\n",
    "        n = len(arr)\n",
    "        mid_index = n // 2  # Get the middle index\n",
    "        print(arr[mid_index], end=' ')  # Print the middle element\n",
    "        # Remove the middle element using slicing\n",
    "        arr = arr[:mid_index] + arr[mid_index + 1:]\n",
    "\n",
    "n = int(input())\n",
    "arr = list(map(int, input().split()))\n",
    "print_middle_elements(arr)"
   ]
  },
  {
   "cell_type": "markdown",
   "metadata": {},
   "source": [
    "### **105. Given a number 'N' print the sum of each digit to the power of number of digits in given input.**\n",
    "\n",
    "Example:\n",
    "\n",
    "Input => 1234\n",
    "=> ( 1 ^ 4 ) + ( 2 ^ 4 ) + ( 3 ^ 4 ) + ( 4 ^ 4 )\n",
    "=> 1 + 16 + 81 + 256\n",
    "\n",
    "Output => 354\n",
    "N <=100000000000\n",
    "\n",
    "Sample Testcase :\n",
    "\n",
    "#### **INPUT**\n",
    "\n",
    "1234\n",
    "\n",
    "#### **OUTPUT**\n",
    "\n",
    "354"
   ]
  },
  {
   "cell_type": "code",
   "execution_count": 15,
   "metadata": {},
   "outputs": [
    {
     "name": "stdout",
     "output_type": "stream",
     "text": [
      "354\n"
     ]
    }
   ],
   "source": [
    "def sum_of_powers(n):\n",
    "    # Convert number to string to easily iterate over digits\n",
    "    str_n = str(n)\n",
    "    num_digits = len(str_n)  # Number of digits in the input number\n",
    "    total_sum = 0\n",
    "    \n",
    "    # Calculate the sum of each digit raised to the power of num_digits\n",
    "    for digit in str_n:\n",
    "        total_sum += int(digit) ** num_digits\n",
    "    return total_sum\n",
    "\n",
    "n = int(input())\n",
    "result = sum_of_powers(n)\n",
    "print(result)"
   ]
  },
  {
   "cell_type": "markdown",
   "metadata": {},
   "source": [
    "### **109. Given a string S consisting of a sentence, the task is to reverse every word of the sentence except the first and last character of the words.**\n",
    "\n",
    "Sample Testcase :\n",
    "\n",
    "#### **INPUT**\n",
    "\n",
    "guvi coding platform\n",
    "\n",
    "#### **OUTPUT**\n",
    "\n",
    "gvui cnidog proftalm."
   ]
  },
  {
   "cell_type": "code",
   "execution_count": 16,
   "metadata": {},
   "outputs": [
    {
     "name": "stdout",
     "output_type": "stream",
     "text": [
      "gvui cnidog proftalm\n"
     ]
    }
   ],
   "source": [
    "def reverse_inner_characters(sentence):\n",
    "    words = sentence.split()  # Split the sentence into words\n",
    "    modified_words = []\n",
    "    \n",
    "    for word in words:\n",
    "        if len(word) > 2:\n",
    "            # Reverse the inner part of the word while keeping first and last characters\n",
    "            inner_part = word[1:-1][::-1]\n",
    "            modified_word = word[0] + inner_part + word[-1]\n",
    "        else:\n",
    "            # For words with length 2 or less, keep them unchanged\n",
    "            modified_word = word\n",
    "            \n",
    "        modified_words.append(modified_word)\n",
    "    \n",
    "    # Join the modified words into a sentence\n",
    "    return ' '.join(modified_words)\n",
    "\n",
    "sentence = input()\n",
    "result = reverse_inner_characters(sentence)\n",
    "print(result)"
   ]
  },
  {
   "cell_type": "markdown",
   "metadata": {},
   "source": [
    "### **110. harish learnt about gcd and and want to apply the concept to find the gcd of n numbers.**\n",
    "\n",
    "But in between he got stuck and now he is asking for some help your task is to print the gcd of n numbers and print -1 if there is no gcd possible.\n",
    "\n",
    "#### **Input Description:**\n",
    "\n",
    "You are given an array size ‘n’.Next line contains n space separated numbers.\n",
    "\n",
    "#### **Output Description:**\n",
    "\n",
    "Your task is to print the gcd of number\n",
    "\n",
    "#### **Sample Input:**\n",
    "\n",
    "6\n",
    "\n",
    "2 4 8 16\n",
    "\n",
    "#### **Sample Output:**\n",
    "\n",
    "2"
   ]
  },
  {
   "cell_type": "code",
   "execution_count": 20,
   "metadata": {},
   "outputs": [
    {
     "name": "stdout",
     "output_type": "stream",
     "text": [
      "-1\n"
     ]
    }
   ],
   "source": [
    "from math import gcd\n",
    "from functools import reduce\n",
    "\n",
    "def find_gcd_of_list(num_list):\n",
    "    # Calculate the GCD of a list using reduce\n",
    "    return reduce(gcd, num_list)\n",
    "\n",
    "# Read input\n",
    "n = int(input())  # Size of the array\n",
    "if n <= 0:\n",
    "    print(-1)  # If the size is less than or equal to 0, print -1\n",
    "else:\n",
    "    num_list = list(map(int, input().split()))  # Read n space-separated numbers\n",
    "    if len(num_list) != n:\n",
    "        print(-1)  # If the number of elements doesn't match n, print -1\n",
    "    else:\n",
    "        result = find_gcd_of_list(num_list)\n",
    "        print(result)  # Print the GCD of the numbers"
   ]
  },
  {
   "cell_type": "markdown",
   "metadata": {},
   "source": [
    "### **111. You are given with string of words,we have to arrange them in reverse saturated order.**\n",
    "\n",
    "#### **Input Description:**\n",
    "\n",
    "You are given a string ‘s’.\n",
    "\n",
    "#### **Output Description:**\n",
    "\n",
    "Print the reverse saturated order\n",
    "\n",
    "#### **Sample Input:**\n",
    "\n",
    "I am kohli fan\n",
    "\n",
    "#### **Sample Output:**\n",
    "\n",
    "I ma ilhok naf"
   ]
  },
  {
   "cell_type": "code",
   "execution_count": 2,
   "metadata": {},
   "outputs": [
    {
     "name": "stdout",
     "output_type": "stream",
     "text": [
      "I ma ilhok naf\n"
     ]
    }
   ],
   "source": [
    "def reverse_saturated_order(s):\n",
    "    # Split the input string into words\n",
    "    words = s.split()\n",
    "    # Reverse each word\n",
    "    reversed_words = [word[::-1] for word in words]\n",
    "    # Join the reversed words back into a single string\n",
    "    result = ' '.join(reversed_words)\n",
    "    return result\n",
    "\n",
    "# Read input\n",
    "input_string = input()\n",
    "\n",
    "# Get and print the output\n",
    "output = reverse_saturated_order(input_string)\n",
    "print(output)"
   ]
  },
  {
   "cell_type": "markdown",
   "metadata": {},
   "source": [
    "### **112. You are given an array.Your task is to print the length of longest consecutive subsequence. A longest consecutive subsequence is such that next element differ from previous by 1.**\n",
    "\n",
    "#### **Input Description:**\n",
    "\n",
    "You are given with the length of array. Next line contains n space separated integers.\n",
    "\n",
    "#### **Output Description:**\n",
    "\n",
    "Print the length of longest consecutive subsequence.\n",
    "\n",
    "#### **Sample Input:**\n",
    "\n",
    "8\n",
    "\n",
    "1 6 5 3 2 4 10 12\n",
    "\n",
    "#### **Sample Output:**\n",
    "\n",
    "6"
   ]
  },
  {
   "cell_type": "code",
   "execution_count": 1,
   "metadata": {},
   "outputs": [
    {
     "name": "stdout",
     "output_type": "stream",
     "text": [
      "6\n"
     ]
    }
   ],
   "source": [
    "def longest_consecutive_subsequence(arr):\n",
    "    if not arr:\n",
    "        return 0  # Handle the empty array case\n",
    "    \n",
    "    # Convert the array to a set for O(1) lookups\n",
    "    num_set = set(arr)\n",
    "    max_length = 0\n",
    "\n",
    "    for num in num_set:\n",
    "        # Check if this number is the start of a sequence\n",
    "        if num - 1 not in num_set:\n",
    "            current_num = num\n",
    "            current_length = 1\n",
    "            \n",
    "            # Count the length of the consecutive sequence\n",
    "            while current_num + 1 in num_set:\n",
    "                current_num += 1\n",
    "                current_length += 1\n",
    "            \n",
    "            # Update max_length if current sequence is longer\n",
    "            max_length = max(max_length, current_length)\n",
    "\n",
    "    return max_length\n",
    "\n",
    "# Read input\n",
    "n = int(input())  # Length of the array\n",
    "arr = list(map(int, input().split()))  # Read n space-separated integers\n",
    "\n",
    "# Get and print the output\n",
    "output = longest_consecutive_subsequence(arr)\n",
    "print(output)"
   ]
  },
  {
   "cell_type": "markdown",
   "metadata": {},
   "source": [
    "### **113. Given an array A of N elements, count the number of distinct pairs (i,j) such that i < j and A[i] < A[j].If no such pairs can be made print -1**\n",
    "\n",
    "Sample Testcase :\n",
    "\n",
    "#### **INPUT**\n",
    "\n",
    "5\n",
    "\n",
    "1 2 3 4 5\n",
    "\n",
    "#### **OUTPUT**\n",
    "\n",
    "10"
   ]
  },
  {
   "cell_type": "code",
   "execution_count": 3,
   "metadata": {},
   "outputs": [
    {
     "name": "stdout",
     "output_type": "stream",
     "text": [
      "10\n"
     ]
    }
   ],
   "source": [
    "def count_distinct_pairs(arr):\n",
    "    n = len(arr)\n",
    "    count = 0\n",
    "\n",
    "    # Iterate through all pairs (i, j)\n",
    "    for i in range(n):\n",
    "        for j in range(i + 1, n):\n",
    "            if arr[i] < arr[j]:\n",
    "                count += 1\n",
    "    \n",
    "    # If no pairs are found, return -1\n",
    "    return count if count > 0 else -1\n",
    "\n",
    "# Read input\n",
    "n = int(input())  # Length of the array\n",
    "arr = list(map(int, input().split()))  # Read n space-separated integers\n",
    "\n",
    "# Get and print the output\n",
    "output = count_distinct_pairs(arr)\n",
    "print(output)"
   ]
  },
  {
   "cell_type": "markdown",
   "metadata": {},
   "source": [
    "### **114. You are head incharge of sports activity in queue. Your task is to sort the students height wise in line. But you can only swap students.Your task is to determine the minimum possible swaps required to sort the students in queue according to heights**\n",
    "\n",
    "#### **Input Description:**\n",
    "\n",
    "You are given with number ‘n’ denoting number of students. Next line contains n space separated integers denoting their height.\n",
    "\n",
    "#### **Output Description:**\n",
    "\n",
    "Print the minimum number of swaps required to sort the students in line.\n",
    "\n",
    "#### **Sample Input:**\n",
    "\n",
    "5\n",
    "\n",
    "1 5 4 3 2\n",
    "\n",
    "#### **Sample Output:**\n",
    "\n",
    "2"
   ]
  },
  {
   "cell_type": "code",
   "execution_count": 4,
   "metadata": {},
   "outputs": [
    {
     "name": "stdout",
     "output_type": "stream",
     "text": [
      "2\n"
     ]
    }
   ],
   "source": [
    "def min_swaps_to_sort(arr):\n",
    "    n = len(arr)\n",
    "    \n",
    "    # Create a list of tuples (height, index)\n",
    "    arr_indexed = [(arr[i], i) for i in range(n)]\n",
    "    \n",
    "    # Sort the array by height\n",
    "    arr_indexed.sort(key=lambda x: x[0])\n",
    "    \n",
    "    # Create a visited list\n",
    "    visited = [False] * n\n",
    "    swaps = 0\n",
    "\n",
    "    for i in range(n):\n",
    "        # If already visited or already in the correct position, skip\n",
    "        if visited[i] or arr_indexed[i][1] == i:\n",
    "            continue\n",
    "        \n",
    "        # Calculate the size of the cycle\n",
    "        cycle_size = 0\n",
    "        current = i\n",
    "        \n",
    "        while not visited[current]:\n",
    "            visited[current] = True\n",
    "            # Move to the index of the next element\n",
    "            current = arr_indexed[current][1]\n",
    "            cycle_size += 1\n",
    "        \n",
    "        # If there is a cycle of size cycle_size, it takes (cycle_size - 1) swaps to sort it\n",
    "        if cycle_size > 0:\n",
    "            swaps += (cycle_size - 1)\n",
    "    \n",
    "    return swaps\n",
    "\n",
    "# Read input\n",
    "n = int(input())\n",
    "arr = list(map(int, input().split()))\n",
    "\n",
    "# Get and print the output\n",
    "output = min_swaps_to_sort(arr)\n",
    "print(output)"
   ]
  },
  {
   "cell_type": "markdown",
   "metadata": {},
   "source": [
    "### **115. Given an array of N elements,find the maximum length of increasing continuous sub-array.If it is not found print '-1'.**\n",
    "\n",
    "Input Size : N <= 100000\n",
    "\n",
    "Sample Testcase :\n",
    "\n",
    "#### **INPUT**\n",
    "\n",
    "5\n",
    "\n",
    "1 2 3 2 1\n",
    "\n",
    "#### **OUTPUT**\n",
    "\n",
    "3"
   ]
  },
  {
   "cell_type": "code",
   "execution_count": 1,
   "metadata": {},
   "outputs": [
    {
     "name": "stdout",
     "output_type": "stream",
     "text": [
      "3\n"
     ]
    }
   ],
   "source": [
    "def max_length_increasing_subarray(arr):\n",
    "    N = len(arr)\n",
    "    if N == 0:\n",
    "        return -1\n",
    "    \n",
    "    max_length = -1\n",
    "    current_length = 1  # Start with the first element\n",
    "\n",
    "    for i in range(1, N):\n",
    "        if arr[i] > arr[i - 1]:\n",
    "            current_length += 1\n",
    "        else:\n",
    "            max_length = max(max_length, current_length)\n",
    "            current_length = 1  # Reset to 1 for the current element\n",
    "\n",
    "    # Final check at the end of the loop\n",
    "    max_length = max(max_length, current_length)\n",
    "\n",
    "    return max_length if max_length > 1 else -1\n",
    "\n",
    "# Sample input\n",
    "N = int(input())\n",
    "arr = list(map(int, input().split()))\n",
    "\n",
    "# Output the result\n",
    "result = max_length_increasing_subarray(arr)\n",
    "print(result)"
   ]
  },
  {
   "cell_type": "markdown",
   "metadata": {},
   "source": [
    "### **116. Print the position of first 1 from right to left, in binary representation of an Integer.**\n",
    "\n",
    "Sample Testcase :\n",
    "\n",
    "#### **INPUT**\n",
    "\n",
    "18\n",
    "\n",
    "#### **OUTPUT**\n",
    "\n",
    "2"
   ]
  },
  {
   "cell_type": "code",
   "execution_count": 2,
   "metadata": {},
   "outputs": [
    {
     "name": "stdout",
     "output_type": "stream",
     "text": [
      "2\n"
     ]
    }
   ],
   "source": [
    "def position_of_first_one(n):\n",
    "    if n == 0:\n",
    "        return -1  # Handle the case for 0, as it has no 1s in binary representation\n",
    "    \n",
    "    position = 0\n",
    "    \n",
    "    while n > 0:\n",
    "        position += 1\n",
    "        if n & 1:  # Check if the least significant bit is 1\n",
    "            return position\n",
    "        n >>= 1  # Right shift to check the next bit\n",
    "    \n",
    "    return -1  # This line is just a fallback; we shouldn't reach here if n > 0\n",
    "\n",
    "n = int(input())\n",
    "result = position_of_first_one(n)\n",
    "print(result)"
   ]
  },
  {
   "cell_type": "markdown",
   "metadata": {},
   "source": [
    "### **117. J.S.Bhayana gave an integer array A of size N. If A[i] occurs A[i + 1] times in the array, i is called a beautiful index. Find the number of beautiful indices in the array. (1 <= i < N)(1 based indexing)**\n",
    "\n",
    "#### **Input Description:**\n",
    "\n",
    "The first line contains an integer N, denoting the size of the array. The next line contains N space separated integers.\n",
    "\n",
    "#### **Output Description:**\n",
    "\n",
    "Print a line containing the number of beautiful indices in the array.\n",
    "\n",
    "#### **Sample Input:**\n",
    "\n",
    "4\n",
    "\n",
    "1 2 1 4 1 1\n",
    "\n",
    "#### **Sample Output:**\n",
    "\n",
    "3"
   ]
  },
  {
   "cell_type": "code",
   "execution_count": 5,
   "metadata": {},
   "outputs": [
    {
     "name": "stdout",
     "output_type": "stream",
     "text": [
      "3\n"
     ]
    }
   ],
   "source": [
    "def count_beautiful_indices(A):\n",
    "    # Step 1: Count occurrences of each element\n",
    "    count = {}\n",
    "    for num in A:\n",
    "        count[num] = count.get(num, 0) + 1\n",
    "\n",
    "    beautiful_count = 0\n",
    "\n",
    "    # Step 2: Check for beautiful indices\n",
    "    N = len(A)\n",
    "    for i in range(1, N - 1):  # Change the range to N - 1\n",
    "        # Check if A[i] occurs A[i + 1] times\n",
    "        if A[i] in count and count[A[i]] == A[i + 1]:\n",
    "            beautiful_count += 1\n",
    "\n",
    "    return beautiful_count\n",
    "\n",
    "# Sample input\n",
    "N = int(input())\n",
    "A = list(map(int, input().split()))\n",
    "\n",
    "# Output the result\n",
    "result = count_beautiful_indices(A)\n",
    "print(result)"
   ]
  },
  {
   "cell_type": "markdown",
   "metadata": {},
   "source": [
    "### **118. Gunjan was going through the book of ‘hyp’ numbers. She is given task to find the nth hyp number.Your task is to help gunjan**\n",
    "\n",
    "A hyp number is a number whose all digits are prime.\n",
    "\n",
    "#### **Input Description:**\n",
    "\n",
    "You are given a number ‘n’.\n",
    "\n",
    "#### **Output Description:**\n",
    "\n",
    "Print the ‘nth’ hyp number.\n",
    "\n",
    "#### **Sample Input:**\n",
    "\n",
    "3\n",
    "\n",
    "#### **Sample Output:**\n",
    "\n",
    "5"
   ]
  },
  {
   "cell_type": "code",
   "execution_count": 6,
   "metadata": {},
   "outputs": [
    {
     "name": "stdout",
     "output_type": "stream",
     "text": [
      "5\n"
     ]
    }
   ],
   "source": [
    "def is_hyp_number(num):\n",
    "    # Check if all digits of num are prime\n",
    "    prime_digits = {'2', '3', '5', '7'}\n",
    "    return all(digit in prime_digits for digit in str(num))\n",
    "\n",
    "def nth_hyp_number(n):\n",
    "    count = 0\n",
    "    current_number = 1  # Start checking from 1\n",
    "    \n",
    "    while count < n:\n",
    "        if is_hyp_number(current_number):\n",
    "            count += 1  # Found a hyp number\n",
    "        current_number += 1  # Move to the next number\n",
    "    \n",
    "    return current_number - 1  # Current number is incremented after finding nth hyp number\n",
    "\n",
    "# Sample input\n",
    "n = int(input(\"Enter the value of n: \"))\n",
    "\n",
    "# Output the result\n",
    "result = nth_hyp_number(n)\n",
    "print(result)"
   ]
  },
  {
   "cell_type": "markdown",
   "metadata": {},
   "source": [
    "### **119. Given a number N and an array of N elements, print all elements lesser than N in descending order.If no element found print -1**\n",
    "\n",
    "Input Size : 1 <= N <= 10000\n",
    "\n",
    "Sample Testcase:\n",
    "\n",
    "#### **INPUT**\n",
    "\n",
    "5\n",
    "\n",
    "2 14 15 14 3\n",
    "\n",
    "#### **OUTPUT**\n",
    "\n",
    "3 2"
   ]
  },
  {
   "cell_type": "code",
   "execution_count": 7,
   "metadata": {},
   "outputs": [
    {
     "name": "stdout",
     "output_type": "stream",
     "text": [
      "3 2\n"
     ]
    }
   ],
   "source": [
    "def print_elements_less_than_n(N, arr):\n",
    "    # Step 2: Filter elements less than N\n",
    "    filtered_elements = [x for x in arr if x < N]\n",
    "\n",
    "    # Step 3: Sort the filtered elements in descending order\n",
    "    filtered_elements.sort(reverse=True)\n",
    "\n",
    "    # Step 4: Check if the list is empty and print the result\n",
    "    if not filtered_elements:\n",
    "        print(-1)\n",
    "    else:\n",
    "        print(\" \".join(map(str, filtered_elements)))\n",
    "\n",
    "# Sample input\n",
    "N = int(input(\"Enter the value of N: \"))\n",
    "arr = list(map(int, input(\"Enter the array elements: \").split()))\n",
    "\n",
    "# Output the result\n",
    "print_elements_less_than_n(N, arr)"
   ]
  },
  {
   "cell_type": "markdown",
   "metadata": {},
   "source": [
    "#### **121. Given a number N and array of N integers, print the difference between the indices of smallest and largest number(if there are multiple occurances, consider the first occurance).**\n",
    "\n",
    "Input Size : |N| <= 1000000\n",
    "\n",
    "Sample Testcase :\n",
    "\n",
    "#### **INPUT**\n",
    "\n",
    "5\n",
    "\n",
    "3 5 4 4 7\n",
    "\n",
    "#### **OUTPUT**\n",
    "\n",
    "4"
   ]
  },
  {
   "cell_type": "code",
   "execution_count": 8,
   "metadata": {},
   "outputs": [
    {
     "name": "stdout",
     "output_type": "stream",
     "text": [
      "4\n"
     ]
    }
   ],
   "source": [
    "def index_difference_min_max(N, arr):\n",
    "    if N == 0:\n",
    "        print(-1)\n",
    "        return\n",
    "\n",
    "    min_value = float('inf')\n",
    "    max_value = float('-inf')\n",
    "    min_index = -1\n",
    "    max_index = -1\n",
    "\n",
    "    # Step 3: Iterate through the array\n",
    "    for i in range(N):\n",
    "        if arr[i] < min_value:\n",
    "            min_value = arr[i]\n",
    "            min_index = i  # Store index of the first occurrence\n",
    "        if arr[i] > max_value:\n",
    "            max_value = arr[i]\n",
    "            max_index = i  # Store index of the first occurrence\n",
    "\n",
    "    # Step 5: Calculate and print the difference\n",
    "    index_difference = abs(max_index - min_index)\n",
    "    print(index_difference)\n",
    "\n",
    "# Sample input\n",
    "N = int(input(\"Enter the size of the array: \"))\n",
    "arr = list(map(int, input(\"Enter the array elements: \").split()))\n",
    "\n",
    "# Output the result\n",
    "index_difference_min_max(N, arr)"
   ]
  },
  {
   "cell_type": "markdown",
   "metadata": {},
   "source": [
    "### **122. You are given an array of ‘n’ numbers.your task is to print the lcm of ‘n’ numbers.**\n",
    "\n",
    "**Input Description:**\n",
    "\n",
    "An integer ‘n’ denoting the size of array.Next line contains ‘n’ space separated numbers\n",
    "\n",
    "**Output Description:**\n",
    "\n",
    "Print the lcm\n",
    "\n",
    "**Sample Input:**\n",
    "\n",
    "4\n",
    "\n",
    "2 4 6 8\n",
    "\n",
    "**Sample Output:**\n",
    "\n",
    "24"
   ]
  },
  {
   "cell_type": "code",
   "execution_count": 1,
   "metadata": {},
   "outputs": [
    {
     "name": "stdout",
     "output_type": "stream",
     "text": [
      "24\n"
     ]
    }
   ],
   "source": [
    "import math\n",
    "from functools import reduce\n",
    "\n",
    "# LCM of two numbers\n",
    "def lcm(a, b):\n",
    "    return abs(a * b) // math.gcd(a, b)\n",
    "\n",
    "# LCM of a list of numbers\n",
    "def lcm_of_list(numbers):\n",
    "    return reduce(lcm, numbers)\n",
    "\n",
    "n = int(input())\n",
    "numbers = list(map(int, input().split()))\n",
    "result = lcm_of_list(numbers)\n",
    "print(result)"
   ]
  },
  {
   "cell_type": "markdown",
   "metadata": {},
   "source": [
    "### **123. Given a number N and an array of N elements, every number is repeated except for one. Print that one number.**\n",
    "\n",
    "Input Size : 1 <= N <= 100000\n",
    "\n",
    "**Sample Testcase:**\n",
    "\n",
    "**INPUT**\n",
    "\n",
    "10\n",
    "\n",
    "1 2 3 2 3 3 2 5 5 2\n",
    "\n",
    "**OUTPUT**\n",
    "\n",
    "1"
   ]
  },
  {
   "cell_type": "code",
   "execution_count": 4,
   "metadata": {},
   "outputs": [
    {
     "name": "stdout",
     "output_type": "stream",
     "text": [
      "2\n"
     ]
    }
   ],
   "source": [
    "def find_unique_number(arr):\n",
    "    result = 0\n",
    "    for num in arr:\n",
    "        result ^= num\n",
    "    return result\n",
    "\n",
    "N = int(input())\n",
    "arr = list(map(int, input().split()))\n",
    "print(find_unique_number(arr))"
   ]
  },
  {
   "cell_type": "markdown",
   "metadata": {},
   "source": [
    "### **124. Given a string S,count the maximum number of times a character repeated in the string.If no character is repeated print '0'.**\n",
    "\n",
    "Input Size : 1 <= N <= 100000\n",
    "\n",
    "**Sample Testcase:**\n",
    "\n",
    "**INPUT**\n",
    "\n",
    "codekata\n",
    "\n",
    "**OUTPUT**\n",
    "\n",
    "2"
   ]
  },
  {
   "cell_type": "code",
   "execution_count": 5,
   "metadata": {},
   "outputs": [
    {
     "name": "stdout",
     "output_type": "stream",
     "text": [
      "2\n"
     ]
    }
   ],
   "source": [
    "def max_character_repetition(s):\n",
    "    # Create a dictionary to count character frequencies\n",
    "    frequency = {}\n",
    "    \n",
    "    # Count each character's frequency\n",
    "    for char in s:\n",
    "        frequency[char] = frequency.get(char, 0) + 1\n",
    "    \n",
    "    # Find the maximum frequency\n",
    "    max_count = 0\n",
    "    for count in frequency.values():\n",
    "        if count > max_count:\n",
    "            max_count = count\n",
    "            \n",
    "    # Return the maximum count if greater than 1, otherwise return 0\n",
    "    return max_count if max_count > 1 else 0\n",
    "\n",
    "input_string = input()\n",
    "output = max_character_repetition(input_string)\n",
    "print(output)"
   ]
  },
  {
   "cell_type": "markdown",
   "metadata": {},
   "source": [
    "### **125. Given a string S consisting of only '(' and ')', print 'yes' if it is balanced otherwise print 'no'.**\n",
    "\n",
    "**Sample Testcase:**\n",
    "\n",
    "**INPUT**\n",
    "\n",
    "(())\n",
    "\n",
    "**OUTPUT**\n",
    "\n",
    "yes"
   ]
  },
  {
   "cell_type": "code",
   "execution_count": 6,
   "metadata": {},
   "outputs": [
    {
     "name": "stdout",
     "output_type": "stream",
     "text": [
      "yes\n"
     ]
    }
   ],
   "source": [
    "def is_balanced(s):\n",
    "    stack = []\n",
    "    \n",
    "    for char in s:\n",
    "        if char == '(':\n",
    "            stack.append(char)\n",
    "        elif char == ')':\n",
    "            if stack:\n",
    "                stack.pop()\n",
    "            else:\n",
    "                return \"no\"\n",
    "    \n",
    "    return \"yes\" if not stack else \"no\"\n",
    "\n",
    "s = input()\n",
    "output = is_balanced(s)\n",
    "print(output)"
   ]
  },
  {
   "cell_type": "markdown",
   "metadata": {},
   "source": [
    "### **126. Given two numbers L,R print the smallest number which is divisible by both L and R.**\n",
    "\n",
    "Input Size : 1 <= L,R <= 100000\n",
    "\n",
    "**Sample Testcase:**\n",
    "\n",
    "**INPUT**\n",
    "\n",
    "10 130\n",
    "\n",
    "**OUTPUT**\n",
    "\n",
    "130"
   ]
  },
  {
   "cell_type": "code",
   "execution_count": 7,
   "metadata": {},
   "outputs": [
    {
     "name": "stdout",
     "output_type": "stream",
     "text": [
      "130\n"
     ]
    }
   ],
   "source": [
    "import math\n",
    "\n",
    "def find_lcm(L, R):\n",
    "    return abs(L * R) // math.gcd(L, R)\n",
    "\n",
    "L, R = list(map(int, input().split()))\n",
    "print(find_lcm(L, R))"
   ]
  },
  {
   "cell_type": "markdown",
   "metadata": {},
   "source": [
    "### **127. Given 2 strings and a number K, check whether they differ exactly by K characters.**\n",
    "\n",
    "Input Size : |s| <= 100000(complexity O(nlogn) or O(n))\n",
    "\n",
    "**Sample Testcase:**\n",
    "\n",
    "**INPUT**\n",
    "\n",
    "codekata codeguvi 4\n",
    "\n",
    "**OUTPUT**\n",
    "\n",
    "yes"
   ]
  },
  {
   "cell_type": "code",
   "execution_count": 8,
   "metadata": {},
   "outputs": [
    {
     "name": "stdout",
     "output_type": "stream",
     "text": [
      "yes\n"
     ]
    }
   ],
   "source": [
    "def differ_by_k_chars(s1, s2, k):\n",
    "    if len(s1) != len(s2):\n",
    "        print(\"no\")\n",
    "        return\n",
    "    \n",
    "    diff_count = 0\n",
    "    for i in range(len(s1)):\n",
    "        if s1[i] != s2[i]:\n",
    "            diff_count += 1\n",
    "    \n",
    "    if diff_count == k:\n",
    "        print(\"yes\")\n",
    "    else:\n",
    "        print(\"no\")\n",
    "\n",
    "s1, s2, k = input().split()\n",
    "k = int(k)\n",
    "differ_by_k_chars(s1, s2, k)"
   ]
  },
  {
   "cell_type": "markdown",
   "metadata": {},
   "source": [
    "### **128. Given 2 numbers N,X and an array of N elements, check if there exists any 2 numbers in the array with sum equal to X.If found print 'yes' otherwise print 'no'.**\n",
    "\n",
    "Input Size : N,X <= 100000\n",
    "\n",
    "**Sample Testcase:**\n",
    "\n",
    "**INPUT**\n",
    "\n",
    "4 4\n",
    "\n",
    "2 2 0 0\n",
    "\n",
    "**OUTPUT**\n",
    "\n",
    "yes"
   ]
  },
  {
   "cell_type": "code",
   "execution_count": 9,
   "metadata": {},
   "outputs": [
    {
     "name": "stdout",
     "output_type": "stream",
     "text": [
      "yes\n"
     ]
    }
   ],
   "source": [
    "def check_pair_sum(N, X, arr):\n",
    "    seen = set()\n",
    "    \n",
    "    # Iterate through each element in the array\n",
    "    for num in arr:\n",
    "        if X - num in seen:\n",
    "            return \"yes\"\n",
    "        seen.add(num)\n",
    "    return \"no\"\n",
    "\n",
    "N, X = map(int, input().split())\n",
    "arr = list(map(int, input().split()))\n",
    "print(check_pair_sum(N, X, arr))"
   ]
  },
  {
   "cell_type": "markdown",
   "metadata": {},
   "source": [
    "### **129. Given a number N, print their prime factors in sorted order.**\n",
    "\n",
    "Input Size : 2 <= N <= 100000\n",
    "\n",
    "**Sample Testcase:**\n",
    "\n",
    "**INPUT**\n",
    "\n",
    "18\n",
    "\n",
    "**OUTPUT**\n",
    "\n",
    "2 3"
   ]
  },
  {
   "cell_type": "code",
   "execution_count": 10,
   "metadata": {},
   "outputs": [
    {
     "name": "stdout",
     "output_type": "stream",
     "text": [
      "2 3\n"
     ]
    }
   ],
   "source": [
    "def prime_factors(n):\n",
    "    factors = set()\n",
    "    while n % 2 == 0:\n",
    "        factors.add(2)\n",
    "        n //= 2\n",
    "\n",
    "    # Check for odd factors from 3 onwards\n",
    "    for i in range(3, int(n**0.5) + 1, 2):\n",
    "        while n % i == 0:\n",
    "            factors.add(i)\n",
    "            n //= i\n",
    "\n",
    "    if n > 2:\n",
    "        factors.add(n)\n",
    "    return sorted(factors)\n",
    "\n",
    "N = int(input())\n",
    "print(\" \".join(map(str, prime_factors(N))))"
   ]
  },
  {
   "cell_type": "markdown",
   "metadata": {},
   "source": [
    "### **130. Given 2 strings,check whether it is isomorphic.If it is not isomorphic print '-1'.**\n",
    "\n",
    "Input Size : |s| <= 100000(complexity O(nlogn))\n",
    "\n",
    "**Sample Testcase:**\n",
    "\n",
    "**INPUT**\n",
    "\n",
    "aab xxy\n",
    "\n",
    "**OUTPUT**\n",
    "\n",
    "yes"
   ]
  },
  {
   "cell_type": "code",
   "execution_count": null,
   "metadata": {},
   "outputs": [
    {
     "name": "stdout",
     "output_type": "stream",
     "text": [
      "yes\n"
     ]
    }
   ],
   "source": [
    "def are_isomorphic(s1, s2):\n",
    "    if len(s1) != len(s2):\n",
    "        return \"-1\"  # Strings of different lengths cannot be isomorphic\n",
    "\n",
    "    # Two dictionaries for forward and reverse mappings\n",
    "    map_s1_to_s2 = {}\n",
    "    map_s2_to_s1 = {}\n",
    "\n",
    "    for c1, c2 in zip(s1, s2):\n",
    "        # Check or establish mapping from s1 to s2\n",
    "        if c1 in map_s1_to_s2:\n",
    "            if map_s1_to_s2[c1] != c2:  # Conflict in mapping\n",
    "                return \"no\"\n",
    "        else:\n",
    "            map_s1_to_s2[c1] = c2\n",
    "\n",
    "        # Check or establish mapping from s2 to s1\n",
    "        if c2 in map_s2_to_s1:\n",
    "            if map_s2_to_s1[c2] != c1:  # Conflict in reverse mapping\n",
    "                return \"no\"\n",
    "        else:\n",
    "            map_s2_to_s1[c2] = c1\n",
    "    return \"yes\"  # Strings are isomorphic\n",
    "\n",
    "s1, s2 = input().split()\n",
    "print(are_isomorphic(s1, s2))"
   ]
  },
  {
   "cell_type": "markdown",
   "metadata": {},
   "source": [
    "### **131. Given a number N and an array of N elements, find the sum of the maximum elements obtained by considering all consecutive pairs of adjacent elements.**\n",
    "\n",
    "Input Size : N <= 100000\n",
    "\n",
    "**Sample Testcase:**\n",
    "\n",
    "**INPUT**\n",
    "\n",
    "5\n",
    "\n",
    "1 2 3 4 5\n",
    "\n",
    "**OUTPUT**\n",
    "\n",
    "14"
   ]
  },
  {
   "cell_type": "code",
   "execution_count": 2,
   "metadata": {},
   "outputs": [
    {
     "name": "stdout",
     "output_type": "stream",
     "text": [
      "14\n"
     ]
    }
   ],
   "source": [
    "def sum_of_maximums(n, arr):\n",
    "    total = 0\n",
    "    for i in range(n - 1):\n",
    "        total += max(arr[i], arr[i + 1])\n",
    "    return total\n",
    "\n",
    "n = int(input())\n",
    "arr = list(map(int, input().split()))\n",
    "print(sum_of_maximums(n, arr))"
   ]
  },
  {
   "cell_type": "markdown",
   "metadata": {},
   "source": [
    "### **132. Given a range[L,R], print the sum of all the odd numbers within the range(inclusive of L and R).**\n",
    "\n",
    "**Sample Testcase:**\n",
    "\n",
    "**INPUT**\n",
    "\n",
    "5 10\n",
    "\n",
    "**OUTPUT**\n",
    "\n",
    "21"
   ]
  },
  {
   "cell_type": "markdown",
   "metadata": {},
   "source": [
    "### **Optimized Approach**\n",
    "\n",
    "Instead of iterating through all numbers, you can use the formula for the sum of an arithmetic series:\n",
    "\n",
    "Sum = 𝑛/2 * (first + last), where n is the count of terms.\n",
    "\n",
    "first is the first odd number.\n",
    "\n",
    "last is the last odd number.\n",
    "\n",
    "### **Steps for the Formula:**\n",
    "\n",
    "1. Find the first odd number in the range:\n",
    "    If L is odd, take L.\n",
    "    Otherwise, take L+1.\n",
    "\n",
    "2. Find the last odd number in the range:\n",
    "    If R is odd, take R.\n",
    "    Otherwise, take R−1.\n",
    "\n",
    "3. Compute the count of odd numbers using: \n",
    "\n",
    "count = (last − first / 2) + 1\n",
    "\n",
    "4. Compute the sum using the formula.\n",
    "\n",
    "### **Solution:**\n",
    "\n",
    "Odd numbers in the range [5,10] are 5,7,9. Their sum is 5 + 7 + 9 = 21."
   ]
  },
  {
   "cell_type": "code",
   "execution_count": null,
   "metadata": {},
   "outputs": [
    {
     "name": "stdout",
     "output_type": "stream",
     "text": [
      "21\n"
     ]
    }
   ],
   "source": [
    "def sum_of_odds(L, R):\n",
    "    if L % 2 == 0:     # Find the first odd number\n",
    "        L += 1\n",
    "    if R % 2 == 0:     # Find the last odd number\n",
    "        R -= 1\n",
    "    if L > R:         # If there are no odd numbers in the range\n",
    "        return 0\n",
    "    return (((R - L) // 2) + 1) * (L + R) // 2  # Sum of odd numbers\n",
    "\n",
    "L, R = map(int, input().split())\n",
    "print(sum_of_odds(L, R))"
   ]
  },
  {
   "cell_type": "markdown",
   "metadata": {},
   "source": [
    "### **133. Given a number N and an array of N integers, find the maximum sum of the maximum elements obtained by considering all consecutive pairs of adjacent elements after rearranging the array suitably.**\n",
    "\n",
    "Input Size : N <= 100000\n",
    "\n",
    "**Sample Testcase:**\n",
    "\n",
    "**INPUT**\n",
    "\n",
    "5\n",
    "\n",
    "1 2 3 4 5\n",
    "\n",
    "**OUTPUT**\n",
    "\n",
    "18"
   ]
  },
  {
   "cell_type": "markdown",
   "metadata": {},
   "source": [
    "### **Process**\n",
    "\n",
    "1. Sort the array: [5, 4, 3, 2, 1].\n",
    "\n",
    "2. Sum of the first 5−1 = 4 elements: 5 + 4 + 3 + 2 = 18.\n",
    "\n",
    "**Time Complexity:** O(NlogN).\n",
    "\n",
    "**Space Complexity:** O(1)."
   ]
  },
  {
   "cell_type": "code",
   "execution_count": 9,
   "metadata": {},
   "outputs": [
    {
     "name": "stdout",
     "output_type": "stream",
     "text": [
      "18\n"
     ]
    }
   ],
   "source": [
    "from itertools import permutations\n",
    "\n",
    "n = int(input())\n",
    "l = [int(x) for x in input().split()]\n",
    "n = len(l)\n",
    "m = list(permutations(l,len(l)))\n",
    "\n",
    "a = 0\n",
    "for i in range(len(m)):\n",
    "    b = 0 \n",
    "    for j in range(len(m[i])-1):\n",
    "        b += max(m[i][j], m[i][j+1]) \n",
    "    if b > a:\n",
    "        a = b \n",
    "print(a)"
   ]
  },
  {
   "cell_type": "markdown",
   "metadata": {},
   "source": [
    "### **134. Given a number N and a number K, check if it has all digits from 0 to k in it.**\n",
    "\n",
    "Input Size : N <= 100000\n",
    "\n",
    "**Sample Testcase:**\n",
    "\n",
    "**INPUT**\n",
    "\n",
    "1234034 4\n",
    "\n",
    "**OUTPUT**\n",
    "\n",
    "yes"
   ]
  },
  {
   "cell_type": "code",
   "execution_count": 10,
   "metadata": {},
   "outputs": [
    {
     "name": "stdout",
     "output_type": "stream",
     "text": [
      "yes\n"
     ]
    }
   ],
   "source": [
    "def has_all_digits(n, k):\n",
    "    digits_in_n = set(str(n))\n",
    "    required_digits = {str(i) for i in range(k + 1)}\n",
    "    return required_digits.issubset(digits_in_n)\n",
    "\n",
    "input_data = input().strip()\n",
    "n_str, k_str = input_data.split()\n",
    "n = int(n_str)\n",
    "k = int(k_str)\n",
    "\n",
    "# Check and print the result\n",
    "if has_all_digits(n, k):\n",
    "    print(\"yes\")\n",
    "else:\n",
    "    print(\"no\")"
   ]
  },
  {
   "cell_type": "markdown",
   "metadata": {},
   "source": [
    "### **135. Given a number N and an array of N elements,sort the array in increasing order and print the original indices of the elements present in sorted array.**\n",
    "\n",
    "Input Size : N <= 100000\n",
    "\n",
    "**Sample Testcase:**\n",
    "\n",
    "**INPUT**\n",
    "\n",
    "5\n",
    "\n",
    "5 4 3 2 1\n",
    "\n",
    "**OUTPUT**\n",
    "\n",
    "5 4 3 2 1"
   ]
  },
  {
   "cell_type": "code",
   "execution_count": null,
   "metadata": {},
   "outputs": [
    {
     "name": "stdout",
     "output_type": "stream",
     "text": [
      "5 4 3 2 1\n"
     ]
    }
   ],
   "source": [
    "N = int(input())\n",
    "arr = list(map(int, input().split()))\n",
    "\n",
    "# Pair elements with their original indices\n",
    "paired = [(value, i + 1) for i, value in enumerate(arr)]\n",
    "\n",
    "# Sort by the element value\n",
    "paired.sort()\n",
    "\n",
    "# Extract the original indices from sorted pairs\n",
    "result = [index for value, index in paired]\n",
    "print(*result)"
   ]
  },
  {
   "cell_type": "markdown",
   "metadata": {},
   "source": [
    "### **136. Given an array, find the absolute minimum difference between any two elements in the array.**\n",
    "\n",
    "Input Size : N <= 1000000(complexity O(n) or O(nlogn))\n",
    "\n",
    "**Sample Testcase:**\n",
    "\n",
    "**INPUT**\n",
    "\n",
    "5\n",
    "\n",
    "0 2 3 4 5\n",
    "\n",
    "**OUTPUT**\n",
    "\n",
    "1"
   ]
  },
  {
   "cell_type": "code",
   "execution_count": 12,
   "metadata": {},
   "outputs": [
    {
     "name": "stdout",
     "output_type": "stream",
     "text": [
      "1\n"
     ]
    }
   ],
   "source": [
    "def min_absolute_difference(n, arr):\n",
    "    # Sort the array\n",
    "    arr.sort()\n",
    "    \n",
    "    # Initialize minimum difference\n",
    "    min_diff = float('inf')\n",
    "    \n",
    "    # Find the minimum difference between consecutive elements\n",
    "    for i in range(1, n):\n",
    "        min_diff = min(min_diff, arr[i] - arr[i - 1])    \n",
    "    return min_diff\n",
    "\n",
    "n = int(input())  # Size of the array\n",
    "arr = list(map(int, input().split()))  # Array elements\n",
    "print(min_absolute_difference(n, arr))"
   ]
  },
  {
   "cell_type": "markdown",
   "metadata": {},
   "source": [
    "### **137. Given an value 'M' follwed by array of M elements in which the elements would have been rotated for certain 'N' times from the intial array representation where all elements are arranged in ascending order.Print the 'N' or print -1 if there is no rotation made or cannot be determined.**\n",
    "\n",
    "Note: 1<=N<=length of the given array.\n",
    "\n",
    "**Sample Testcase:**\n",
    "\n",
    "**INPUT**\n",
    "\n",
    "5\n",
    "\n",
    "15 18 2 3 6 12\n",
    "\n",
    "**OUTPUT**\n",
    "\n",
    "2"
   ]
  },
  {
   "cell_type": "code",
   "execution_count": 14,
   "metadata": {},
   "outputs": [
    {
     "name": "stdout",
     "output_type": "stream",
     "text": [
      "2\n"
     ]
    }
   ],
   "source": [
    "def find_rotation_count(arr, m):\n",
    "    # Check if all elements are identical\n",
    "    if len(set(arr)) == 1:\n",
    "        return -1\n",
    "\n",
    "    # Check if the array is already sorted\n",
    "    if arr == sorted(arr):\n",
    "        return 0\n",
    "\n",
    "    # Find the index of the smallest element\n",
    "    for i in range(1, m):\n",
    "        if arr[i] < arr[i - 1]:\n",
    "            return i\n",
    "    return -1\n",
    "\n",
    "m = int(input())\n",
    "arr = list(map(int, input().split()))\n",
    "print(find_rotation_count(arr, m))"
   ]
  },
  {
   "cell_type": "markdown",
   "metadata": {},
   "source": [
    "### **138. Given a number N and an array of N elements, find the Bitwise XOR of the array elements.**\n",
    "\n",
    "Input Size : N <= 100000\n",
    "\n",
    "**Sample Testcase:**\n",
    "\n",
    "**INPUT**\n",
    "\n",
    "2\n",
    "\n",
    "2 4\n",
    "\n",
    "**OUTPUT**\n",
    "\n",
    "6"
   ]
  },
  {
   "cell_type": "code",
   "execution_count": 15,
   "metadata": {},
   "outputs": [
    {
     "name": "stdout",
     "output_type": "stream",
     "text": [
      "6\n"
     ]
    }
   ],
   "source": [
    "def find_bitwise_xor(n, arr):\n",
    "    result = 0\n",
    "    for num in arr:\n",
    "        result ^= num  # XOR each element with the result\n",
    "    return result\n",
    "\n",
    "n = int(input())\n",
    "arr = list(map(int, input().split()))\n",
    "print(find_bitwise_xor(n, arr))"
   ]
  },
  {
   "cell_type": "markdown",
   "metadata": {},
   "source": [
    "### **139. Given a number N and an array of N integers, find the minimum sum of the maximum elements obtained by considering all consecutive pairs of adjacent elements after rearranging the array suitably.**\n",
    "\n",
    "Input Size : N <= 100000\n",
    "\n",
    "**Sample Testcase:**\n",
    "\n",
    "**INPUT**\n",
    "\n",
    "5\n",
    "\n",
    "1 2 3 4 5\n",
    "\n",
    "**OUTPUT**\n",
    "\n",
    "18"
   ]
  },
  {
   "cell_type": "code",
   "execution_count": 21,
   "metadata": {},
   "outputs": [
    {
     "name": "stdout",
     "output_type": "stream",
     "text": [
      "18\n"
     ]
    }
   ],
   "source": [
    "from itertools import permutations\n",
    "\n",
    "n = int(input())\n",
    "l = [int(x) for x in input().split()]\n",
    "n = len(l)\n",
    "m = list(permutations(l,len(l)))\n",
    "\n",
    "a = 0\n",
    "for i in range(len(m)):\n",
    "    b = 0 \n",
    "    for j in range(len(m[i])-1):\n",
    "        b += max(m[i][j], m[i][j+1]) \n",
    "    if b > a:\n",
    "        a = b \n",
    "print(a)"
   ]
  },
  {
   "cell_type": "markdown",
   "metadata": {},
   "source": [
    "### **140. Given a number N and an array of N elements, print the suffix sum of the array.**\n",
    "\n",
    "Input Size : N <= 100000\n",
    "\n",
    "**Sample Testcase:**\n",
    "\n",
    "**INPUT**\n",
    "\n",
    "4\n",
    "\n",
    "2 4 4 2\n",
    "\n",
    "**OUTPUT**\n",
    "\n",
    "12 10 6 2"
   ]
  },
  {
   "cell_type": "code",
   "execution_count": 22,
   "metadata": {},
   "outputs": [
    {
     "name": "stdout",
     "output_type": "stream",
     "text": [
      "12 10 6 2\n"
     ]
    }
   ],
   "source": [
    "def suffix_sum(array):\n",
    "    # Initialize an array to hold the suffix sums\n",
    "    n = len(array)\n",
    "    suffix_sums = [0] * n\n",
    "    \n",
    "    # Calculate suffix sums\n",
    "    suffix_sums[n - 1] = array[n - 1]  # Start with the last element\n",
    "    for i in range(n - 2, -1, -1):\n",
    "        suffix_sums[i] = suffix_sums[i + 1] + array[i]\n",
    "    print(\" \".join(map(str, suffix_sums)))\n",
    "\n",
    "\n",
    "N = int(input().strip())\n",
    "array = list(map(int, input().strip().split()))\n",
    "suffix_sum(array)"
   ]
  },
  {
   "cell_type": "markdown",
   "metadata": {},
   "source": [
    "### **141. Vishal is learning to skate on ice. He's a beginner, so his only mode of transportation is pushing off from a snow drift to the north, east, south or west and sliding until he lands in another snow drift. He has noticed that in this way it's impossible to get from some snow drifts to some other by any sequence of moves. He now wants to heap up some additional snow drifts, so that he can get from any snow drift to any other one. He asked you to find the minimal number of snow drifts that need to be created. We assume that Vishal can only heap up snow drifts at integer coordinates. The first line of input contains a single integer N the number of snow drifts. Each of the following n lines contains two integers xi and yi the coordinates of the i-th snow drift. Note that the north direction coinсides with the direction of Oy axis, so the east direction coinсides with the direction of the Ox axis. All snow drift's locations are distinct.**\n",
    "\n",
    "Input Size : 1 <= N,Xi,Yi <= 1000\n",
    "\n",
    "**Sample Testcase:**\n",
    "\n",
    "**INPUT**\n",
    "\n",
    "2\n",
    "\n",
    "2 1\n",
    "\n",
    "1 2\n",
    "\n",
    "**OUTPUT**\n",
    "\n",
    "1"
   ]
  },
  {
   "cell_type": "code",
   "execution_count": 1,
   "metadata": {},
   "outputs": [
    {
     "name": "stdout",
     "output_type": "stream",
     "text": [
      "1\n"
     ]
    }
   ],
   "source": [
    "def find(parent, x):\n",
    "    if parent[x] != x:\n",
    "        parent[x] = find(parent, parent[x])  # Path compression\n",
    "    return parent[x]\n",
    "\n",
    "def union(parent, rank, x, y):\n",
    "    rootX = find(parent, x)\n",
    "    rootY = find(parent, y)\n",
    "    if rootX != rootY:\n",
    "        if rank[rootX] > rank[rootY]:\n",
    "            parent[rootY] = rootX\n",
    "        elif rank[rootX] < rank[rootY]:\n",
    "            parent[rootX] = rootY\n",
    "        else:\n",
    "            parent[rootY] = rootX\n",
    "            rank[rootX] += 1\n",
    "\n",
    "def minimal_additional_snow_drifts(n, coordinates):\n",
    "    parent = {i: i for i in range(n)}  # Initialize each node as its own parent\n",
    "    rank = {i: 0 for i in range(n)}   # Rank for union by rank\n",
    "\n",
    "    # Group nodes based on x or y coordinates\n",
    "    x_map = {}\n",
    "    y_map = {}\n",
    "    for i, (x, y) in enumerate(coordinates):\n",
    "        if x in x_map:\n",
    "            union(parent, rank, i, x_map[x])\n",
    "        x_map[x] = i\n",
    "        if y in y_map:\n",
    "            union(parent, rank, i, y_map[y])\n",
    "        y_map[y] = i\n",
    "\n",
    "    # Count connected components\n",
    "    components = len(set(find(parent, i) for i in range(n)))\n",
    "    return components - 1  # Additional drifts needed to connect components\n",
    "\n",
    "n = int(input())\n",
    "coordinates = [tuple(map(int, input().split())) for _ in range(n)]\n",
    "print(minimal_additional_snow_drifts(n, coordinates))"
   ]
  },
  {
   "cell_type": "markdown",
   "metadata": {},
   "source": [
    "### **142. Given a number N and an array of N integers, find the smallest number divisible by all the elements of the array.**\n",
    "\n",
    "Input Size : N <= 100000\n",
    "\n",
    "**Sample Testcase:**\n",
    "\n",
    "**INPUT**\n",
    "\n",
    "5\n",
    "\n",
    "1 2 3 4 5\n",
    "\n",
    "**OUTPUT**\n",
    "\n",
    "60"
   ]
  },
  {
   "cell_type": "code",
   "execution_count": 23,
   "metadata": {},
   "outputs": [
    {
     "name": "stdout",
     "output_type": "stream",
     "text": [
      "60\n"
     ]
    }
   ],
   "source": [
    "import math\n",
    "\n",
    "# Function to compute LCM of two numbers\n",
    "def lcm(a, b):\n",
    "    return abs(a * b) // math.gcd(a, b)\n",
    "\n",
    "# Function to find LCM of an array of numbers\n",
    "def find_lcm(arr):\n",
    "    result = arr[0]\n",
    "    for num in arr[1:]:\n",
    "        result = lcm(result, num)\n",
    "    return result\n",
    "\n",
    "n = int(input())\n",
    "arr = list(map(int, input().split()))\n",
    "print(find_lcm(arr))"
   ]
  },
  {
   "cell_type": "markdown",
   "metadata": {},
   "source": [
    "### **143. Given a range (i.e) two numbers L and R count the number of perfect squares within the range (inclusive of L and R).If no perfect square exists within the range print '-1'.**\n",
    "\n",
    "Input Size : L <= R <= 100000(complexity O(n))\n",
    "\n",
    "**Sample Testcase:**\n",
    "\n",
    "**INPUT**\n",
    "\n",
    "2 10\n",
    "\n",
    "**OUTPUT**\n",
    "\n",
    "2"
   ]
  },
  {
   "cell_type": "code",
   "execution_count": null,
   "metadata": {},
   "outputs": [
    {
     "name": "stdout",
     "output_type": "stream",
     "text": [
      "2\n"
     ]
    }
   ],
   "source": [
    "import math\n",
    "\n",
    "def count_perfect_squares(L, R):\n",
    "    # Find the smallest integer whose square is >= L\n",
    "    sqrtL = math.ceil(math.sqrt(L))\n",
    "    \n",
    "    # Find the largest integer whose square is <= R\n",
    "    sqrtR = math.floor(math.sqrt(R))\n",
    "    \n",
    "    # If the range has no valid perfect squares\n",
    "    if sqrtL > sqrtR:\n",
    "        return -1\n",
    "    \n",
    "    # count of integers from sqrtL to sqrtR (no of perfect squares)\n",
    "    return sqrtR - sqrtL + 1\n",
    "\n",
    "L, R = map(int, input().split())\n",
    "print(count_perfect_squares(L, R))"
   ]
  },
  {
   "cell_type": "markdown",
   "metadata": {},
   "source": [
    "### **144. Given an array of N elements.find the number of occurences of each character and print it in the decreasing order of occurences, if 2 or more number occurs the same number of times, print the numbers in decreasing order.**\n",
    "\n",
    "Input Size : |N| <= 100000\n",
    "\n",
    "**Sample Testcase:**\n",
    "\n",
    "**INPUT**\n",
    "\n",
    "5\n",
    "\n",
    "3 3 4 4 7\n",
    "\n",
    "**OUTPUT**\n",
    "\n",
    "4 3 7"
   ]
  },
  {
   "cell_type": "code",
   "execution_count": 25,
   "metadata": {},
   "outputs": [
    {
     "name": "stdout",
     "output_type": "stream",
     "text": [
      "4 3 7\n"
     ]
    }
   ],
   "source": [
    "from collections import Counter\n",
    "\n",
    "def count_occurrences(arr):\n",
    "    # Count the occurrences of each number using Counter\n",
    "    freq = Counter(arr)\n",
    "    \n",
    "    # Sort by frequency and number value (descending) if frequencies are equal\n",
    "    sorted_items = sorted(freq.items(), key=lambda x: (-x[1], -x[0]))\n",
    "    \n",
    "    # Extract the sorted numbers in the required order\n",
    "    result = [item[0] for item in sorted_items]\n",
    "    print(\" \".join(map(str, result)))\n",
    "\n",
    "n = int(input())  # Read the size of the array\n",
    "arr = list(map(int, input().split()))  # Read the array elements\n",
    "\n",
    "# Function call to count and sort occurrences\n",
    "count_occurrences(arr)"
   ]
  },
  {
   "cell_type": "markdown",
   "metadata": {},
   "source": [
    "### **145. Given a number N, print the distinct pairs formed by multiplying two prime numbers (i.e)prime x prime should yield the N.Also print the numbers in descending order.If no such pairs can be formed print '-1'.**\n",
    "\n",
    "Input Size : 1 <= N <= 100000\n",
    "\n",
    "**Sample Testcase:**\n",
    "\n",
    "**INPUT**\n",
    "\n",
    "65\n",
    "\n",
    "**OUTPUT**\n",
    "\n",
    "13 5"
   ]
  },
  {
   "cell_type": "code",
   "execution_count": null,
   "metadata": {},
   "outputs": [
    {
     "name": "stdout",
     "output_type": "stream",
     "text": [
      "13 5\n"
     ]
    }
   ],
   "source": [
    "import math\n",
    "\n",
    "# Check if a number is prime\n",
    "def is_prime(num):\n",
    "    if num <= 1:\n",
    "        return False\n",
    "    if num == 2:\n",
    "        return True\n",
    "    if num % 2 == 0:\n",
    "        return False\n",
    "    for i in range(3, int(math.sqrt(num)) + 1, 2):\n",
    "        if num % i == 0:\n",
    "            return False\n",
    "    return True\n",
    "\n",
    "# Find the prime pairs\n",
    "def find_prime_pairs(n):\n",
    "    for i in range(1, int(math.sqrt(n)) + 1):\n",
    "        if n % i == 0:\n",
    "            p1 = i\n",
    "            p2 = n // i\n",
    "            \n",
    "            # Check if both p1 and p2 are prime\n",
    "            if is_prime(p1) and is_prime(p2):\n",
    "                # Print in descending order\n",
    "                print(max(p1, p2), min(p1, p2))\n",
    "                return\n",
    "    print(-1)  # No valid pair found\n",
    "\n",
    "n = int(input())\n",
    "find_prime_pairs(n)"
   ]
  },
  {
   "cell_type": "markdown",
   "metadata": {},
   "source": [
    "### **146. Given a number N and array of N integers, print the prefix sum array for each position if it is divisible by 2 else print the element itself.**\n",
    "\n",
    "Input Size : N <= 10000\n",
    "\n",
    "**Sample Testcase:**\n",
    "\n",
    "**INPUT**\n",
    "\n",
    "4\n",
    "\n",
    "2 4 4 4\n",
    "\n",
    "**OUTPUT**\n",
    "\n",
    "2 6 10 14"
   ]
  },
  {
   "cell_type": "code",
   "execution_count": 30,
   "metadata": {},
   "outputs": [
    {
     "name": "stdout",
     "output_type": "stream",
     "text": [
      "2 6 10 14\n"
     ]
    }
   ],
   "source": [
    "n = int(input())  # Size of the array\n",
    "arr = list(map(int, input().split()))  # The array of integers\n",
    "\n",
    "prefix_sum = 0  # Variable to store the running prefix sum\n",
    "result = []  # List to store the result\n",
    "\n",
    "# Loop through each element in the array\n",
    "for num in arr:\n",
    "    prefix_sum += num  # Update the prefix sum\n",
    "    # Check if the current prefix sum is divisible by 2\n",
    "    if prefix_sum % 2 == 0:\n",
    "        result.append(prefix_sum)  # Append prefix sum if divisible by 2\n",
    "    else:\n",
    "        result.append(num)  # Append the element itself if not divisible by 2\n",
    "print(\" \".join(map(str, result)))"
   ]
  },
  {
   "cell_type": "markdown",
   "metadata": {},
   "source": [
    "### **147. Given a number N and an array of N elements, print the prefix sum array.**\n",
    "\n",
    "Input Size : N <= 100000\n",
    "\n",
    "**Sample Testcase:**\n",
    "\n",
    "**INPUT**\n",
    "\n",
    "4\n",
    "\n",
    "2 4 4 2\n",
    "\n",
    "**OUTPUT**\n",
    "\n",
    "2 6 10 12"
   ]
  },
  {
   "cell_type": "code",
   "execution_count": 31,
   "metadata": {},
   "outputs": [
    {
     "name": "stdout",
     "output_type": "stream",
     "text": [
      "2 6 10 12\n"
     ]
    }
   ],
   "source": [
    "def prefix_sum_array(N, arr):\n",
    "    # Initialize the prefix sum array\n",
    "    prefix_sum = [0] * N\n",
    "    \n",
    "    # Calculate the prefix sums\n",
    "    prefix_sum[0] = arr[0]  # The first element is the same\n",
    "    for i in range(1, N):\n",
    "        prefix_sum[i] = prefix_sum[i - 1] + arr[i]  # Add the current element to the previous sum\n",
    "    \n",
    "    return prefix_sum\n",
    "\n",
    "N = int(input())\n",
    "arr = list(map(int, input().split()))\n",
    "\n",
    "# Get the prefix sum array\n",
    "result = prefix_sum_array(N, arr)\n",
    "print(\" \".join(map(str, result)))"
   ]
  },
  {
   "cell_type": "markdown",
   "metadata": {},
   "source": [
    "### **148. Given a number N, print all the prime factors once in ascending order.**\n",
    "\n",
    "Input Size : N <= 100000\n",
    "\n",
    "**Sample Testcase:**\n",
    "\n",
    "**INPUT**\n",
    "\n",
    "100\n",
    "\n",
    "**OUTPUT**\n",
    "\n",
    "2 5"
   ]
  },
  {
   "cell_type": "code",
   "execution_count": 36,
   "metadata": {},
   "outputs": [
    {
     "name": "stdout",
     "output_type": "stream",
     "text": [
      "2 5\n"
     ]
    }
   ],
   "source": [
    "def prime_factors(n):\n",
    "    factors = []\n",
    "    \n",
    "    # Check for the factor 2\n",
    "    if n % 2 == 0:\n",
    "        factors.append(2)\n",
    "        while n % 2 == 0:\n",
    "            n //= 2\n",
    "    \n",
    "    # Check for odd factors from 3 to sqrt(n)\n",
    "    i = 3\n",
    "    while i * i <= n:\n",
    "        if n % i == 0:\n",
    "            factors.append(i)\n",
    "            while n % i == 0:\n",
    "                n //= i\n",
    "        i += 2\n",
    "    \n",
    "    # If n is a prime number greater than 2\n",
    "    if n > 2:\n",
    "        factors.append(n)    \n",
    "    return factors\n",
    "\n",
    "n = int(input())\n",
    "\n",
    "# Get the prime factors and print them\n",
    "result = prime_factors(n)\n",
    "if result:\n",
    "    print(\" \".join(map(str, result)))\n",
    "else:\n",
    "    print(\"-1\")"
   ]
  },
  {
   "cell_type": "markdown",
   "metadata": {},
   "source": [
    "### **149. Given a number N and an array of N integers, check if its a permutation of(1-N).**\n",
    "\n",
    "Input Size : N <= 100000\n",
    "\n",
    "**Sample Testcase:**\n",
    "\n",
    "**INPUT**\n",
    "\n",
    "5\n",
    "\n",
    "1 2 3 4 5\n",
    "\n",
    "**OUTPUT**\n",
    "\n",
    "yes"
   ]
  },
  {
   "cell_type": "code",
   "execution_count": 37,
   "metadata": {},
   "outputs": [
    {
     "name": "stdout",
     "output_type": "stream",
     "text": [
      "yes\n"
     ]
    }
   ],
   "source": [
    "def check_permutation(n, arr):\n",
    "    # Create a set of numbers from 1 to N\n",
    "    expected_set = set(range(1, n + 1))\n",
    "    \n",
    "    # Create a set from the input array\n",
    "    input_set = set(arr)\n",
    "    \n",
    "    # Compare the two sets\n",
    "    if input_set == expected_set:\n",
    "        return \"yes\"\n",
    "    else:\n",
    "        return \"no\"\n",
    "\n",
    "n = int(input())\n",
    "arr = list(map(int, input().split()))\n",
    "\n",
    "# Check if the array is a permutation of 1 to N\n",
    "result = check_permutation(n, arr)\n",
    "print(result)"
   ]
  },
  {
   "cell_type": "markdown",
   "metadata": {},
   "source": [
    "### **150. Given a number n and 2 numbers l and r followed by n numbers, find the smallest number in the range [l,r].**\n",
    "\n",
    "**Sample Testcase:**\n",
    "\n",
    "**INPUT**\n",
    "\n",
    "5 2 4\n",
    "\n",
    "1 2 3 4 5\n",
    "\n",
    "**OUTPUT**\n",
    "\n",
    "2"
   ]
  },
  {
   "cell_type": "code",
   "execution_count": null,
   "metadata": {},
   "outputs": [
    {
     "name": "stdout",
     "output_type": "stream",
     "text": [
      "2\n"
     ]
    }
   ],
   "source": [
    "def find_smallest_in_range(n, l, r, arr):\n",
    "    # Convert 1-based index to 0-based index\n",
    "    l -= 1\n",
    "    r -= 1\n",
    "    \n",
    "    subarray = arr[l:r+1]   # Extract the subarray from l to r (inclusive)\n",
    "    return min(subarray)    # minimum value in the subarray\n",
    "\n",
    "n, l, r = map(int, input().split())\n",
    "arr = list(map(int, input().split()))\n",
    "\n",
    "# Find the smallest number in the range [l, r]\n",
    "result = find_smallest_in_range(n, l, r, arr)\n",
    "print(result)"
   ]
  },
  {
   "cell_type": "markdown",
   "metadata": {},
   "source": [
    "### **151. Given an array N, sort it in ascending order till it reaches kth elements and after that sort it in descending order.**\n",
    "\n",
    "Input Size : N <= 100000\n",
    "\n",
    "**Sample Testcase:**\n",
    "\n",
    "**INPUT**\n",
    "\n",
    "5 2\n",
    "\n",
    "4 3 1 2 4\n",
    "\n",
    "**OUTPUT**\n",
    "\n",
    "3 4 4 2 1"
   ]
  },
  {
   "cell_type": "code",
   "execution_count": 8,
   "metadata": {},
   "outputs": [
    {
     "name": "stdout",
     "output_type": "stream",
     "text": [
      "3 4 4 2 1\n"
     ]
    }
   ],
   "source": [
    "def custom_sort(N, K, arr):\n",
    "    arr[:K] = sorted(arr[:K])\n",
    "    arr[K:] = sorted(arr[K:], reverse=True)\n",
    "    return arr\n",
    "\n",
    "N, K = map(int, input().split())\n",
    "arr = list(map(int, input().split()))\n",
    "print(*custom_sort(N, K, arr))"
   ]
  },
  {
   "cell_type": "markdown",
   "metadata": {},
   "source": [
    "### **152. Given a number N and an array of N strings, find the lexicographically smallest string.**\n",
    "\n",
    "Input Size : N <= 1000\n",
    "\n",
    "**Sample Testcase:**\n",
    "\n",
    "**INPUT**\n",
    "\n",
    "3\n",
    "\n",
    "code\n",
    "\n",
    "learn\n",
    "\n",
    "practice\n",
    "\n",
    "**OUTPUT**\n",
    "\n",
    "code"
   ]
  },
  {
   "cell_type": "code",
   "execution_count": 9,
   "metadata": {},
   "outputs": [
    {
     "name": "stdout",
     "output_type": "stream",
     "text": [
      "code\n"
     ]
    }
   ],
   "source": [
    "def find_lexicographically_smallest_string(n, strings):\n",
    "    return min(strings)\n",
    "\n",
    "n = int(input().strip())\n",
    "strings = [input().strip() for _ in range(n)]\n",
    "\n",
    "# Find and print the smallest string\n",
    "result = find_lexicographically_smallest_string(n, strings)\n",
    "print(result)"
   ]
  },
  {
   "cell_type": "markdown",
   "metadata": {},
   "source": [
    "### **153. Given 2 numbers N,K and an array of N integers, print all numbers in sorted order if it has been repeated less than K times.**\n",
    "\n",
    "Input Size : N,K <= 100000\n",
    "\n",
    "**Sample Testcase:**\n",
    "\n",
    "**INPUT**\n",
    "\n",
    "4 2\n",
    "\n",
    "2 4 4 1\n",
    "\n",
    "**OUTPUT**\n",
    "\n",
    "1 2"
   ]
  },
  {
   "cell_type": "code",
   "execution_count": 10,
   "metadata": {},
   "outputs": [
    {
     "name": "stdout",
     "output_type": "stream",
     "text": [
      "1 2\n"
     ]
    }
   ],
   "source": [
    "from collections import Counter\n",
    "\n",
    "N, K = map(int, input().split())                        # N: size of array, K: repetition threshold\n",
    "arr = list(map(int, input().split()))                   # The array of numbers\n",
    "\n",
    "count = Counter(arr)                                    # Count the frequency of each number in the array\n",
    "result = [num for num in count if count[num] < K]       # Filter out the numbers that have occurred less than K times\n",
    "result.sort()                                           # Sort the result\n",
    "print(\" \".join(map(str, result)))"
   ]
  },
  {
   "cell_type": "markdown",
   "metadata": {},
   "source": [
    "### **154. Given 2 numbers N,K and an array of N integers, print the element K if it exists in the array else print the nearest smaller element.If it doesn't exist print -1.**\n",
    "\n",
    "Input Size : N <= 100000\n",
    "\n",
    "**Sample Testcase:**\n",
    "\n",
    "**INPUT**\n",
    "\n",
    "5 10\n",
    "\n",
    "1 2 3 4 15\n",
    "\n",
    "**OUTPUT**\n",
    "\n",
    "4"
   ]
  },
  {
   "cell_type": "code",
   "execution_count": 11,
   "metadata": {},
   "outputs": [
    {
     "name": "stdout",
     "output_type": "stream",
     "text": [
      "4\n"
     ]
    }
   ],
   "source": [
    "import bisect\n",
    "\n",
    "N, K = map(int, input().split())\n",
    "arr = list(map(int, input().split()))\n",
    "\n",
    "arr.sort()\n",
    "\n",
    "if K in arr:\n",
    "    print(K)\n",
    "else:\n",
    "    pos = bisect.bisect_left(arr, K)\n",
    "    if pos > 0:\n",
    "        print(arr[pos - 1])\n",
    "    else:\n",
    "        print(-1)"
   ]
  },
  {
   "cell_type": "markdown",
   "metadata": {},
   "source": [
    "### **155. Given a number N followed by N numbers,find if in any position of the array, the sum of numbers in the previous positions is equal to the sum of elements after the current position. i.e., at a particular position the prefix sum should be equal to suffix sum, if yes print 'yes' else 'no'.**\n",
    "\n",
    "Input Size : N <= 100000\n",
    "\n",
    "**Sample Testcase:**\n",
    "\n",
    "**INPUT**\n",
    "\n",
    "5\n",
    "\n",
    "1 1 1 1 1\n",
    "\n",
    "**OUTPUT**\n",
    "\n",
    "yes\n",
    "\n",
    "Here we have the index 3 where the sum of left 2 elements is equal to the sum of elements on the right"
   ]
  },
  {
   "cell_type": "code",
   "execution_count": null,
   "metadata": {},
   "outputs": [
    {
     "name": "stdout",
     "output_type": "stream",
     "text": [
      "yes\n"
     ]
    }
   ],
   "source": [
    "def find_equilibrium(N, arr):\n",
    "    total_sum = sum(arr)  # Calculate the total sum of the array\n",
    "    prefix_sum = 0\n",
    "    \n",
    "    for i in range(N):\n",
    "        if 2 * prefix_sum + arr[i] == total_sum:    # Check if the current prefix sum satisfies the equilibrium condition\n",
    "            print(\"yes\")\n",
    "            return\n",
    "        prefix_sum += arr[i]        # Update prefix sum for the next iteration\n",
    "\n",
    "    print(\"no\")\n",
    "\n",
    "N = int(input())\n",
    "arr = list(map(int, input().split()))\n",
    "find_equilibrium(N, arr)"
   ]
  },
  {
   "cell_type": "markdown",
   "metadata": {},
   "source": [
    "### **156. Given a number N and an array of N integers, predict if the product of all elements would be even or odd(actual multiplication may lead to overflows ai <= 100000000).If there is only one element present in the array print whether that number is odd or even.**\n",
    "\n",
    "Input Size : N <= 100000\n",
    "\n",
    "**Sample Testcase:**\n",
    "\n",
    "**INPUT**\n",
    "\n",
    "4\n",
    "\n",
    "2 4 4 2\n",
    "\n",
    "**OUTPUT**\n",
    "\n",
    "even"
   ]
  },
  {
   "cell_type": "code",
   "execution_count": 13,
   "metadata": {},
   "outputs": [
    {
     "name": "stdout",
     "output_type": "stream",
     "text": [
      "even\n"
     ]
    }
   ],
   "source": [
    "def check_product_parity(N, arr):\n",
    "    # If there's only one element, check its parity directly\n",
    "    if N == 1:\n",
    "        if arr[0] % 2 == 0:\n",
    "            print(\"even\")\n",
    "        else:\n",
    "            print(\"odd\")\n",
    "        return\n",
    "    \n",
    "    # Check if there's any even number in the array\n",
    "    for num in arr:\n",
    "        if num % 2 == 0:\n",
    "            print(\"even\")\n",
    "            return\n",
    "    print(\"odd\")\n",
    "\n",
    "N = int(input())\n",
    "arr = list(map(int, input().split()))\n",
    "check_product_parity(N, arr)"
   ]
  },
  {
   "cell_type": "markdown",
   "metadata": {},
   "source": [
    "### **157. Given a number N, Print sum of every didgit to the power of the weight of corresponding digit(Explanation : If the input is 12345 and then output calculated as (1^0)+(2^1)+(3^2)+(4^3)+(5^4)).**\n",
    "\n",
    "Input Size : 1 <= N <= 100000\n",
    "\n",
    "**Sample Testcase:**\n",
    "\n",
    "**INPUT**\n",
    "\n",
    "100\n",
    "\n",
    "**OUTPUT**\n",
    "\n",
    "1"
   ]
  },
  {
   "cell_type": "code",
   "execution_count": null,
   "metadata": {},
   "outputs": [
    {
     "name": "stdout",
     "output_type": "stream",
     "text": [
      "1\n"
     ]
    }
   ],
   "source": [
    "def calculate_weighted_sum(N):\n",
    "    N_str = str(N)      \n",
    "    total_sum = 0\n",
    "    \n",
    "    # Iterate over each digit in N and compute the sum\n",
    "    for index, digit in enumerate(N_str):\n",
    "        total_sum += int(digit) ** index\n",
    "    return total_sum\n",
    "\n",
    "N = int(input())\n",
    "print(calculate_weighted_sum(N))"
   ]
  },
  {
   "cell_type": "markdown",
   "metadata": {},
   "source": [
    "### **158. Sensex has never been steady and stock values have been rising and falling in the past. Ram is a stock broker and on analysing the trend of change in sensex points, he decides that there was a period when the points was at its all time high and investing during that period would have earned him a huge profit in trade. Ram immediately regrets not having done any trade in that particular period. Find out which period in time was Ram referring to.**\n",
    "\n",
    "**Constraints:**\n",
    "\n",
    "3 ≤ N ≤ 106\n",
    " \n",
    "**Input Description:**\n",
    "\n",
    "The size of array N, the number of periods Ram has assessed. The values of the array are the values of the sensex points.\n",
    "\n",
    "**Output Description:**\n",
    "\n",
    "Period in which the points was at its max value. The array index is the period value.\n",
    "\n",
    "**Sample Input:**\n",
    "\n",
    "9\n",
    "\n",
    "1 15 25 45 42 21 17 12 11\n",
    "\n",
    "**Sample Output:**\n",
    "\n",
    "3"
   ]
  },
  {
   "cell_type": "code",
   "execution_count": null,
   "metadata": {},
   "outputs": [
    {
     "name": "stdout",
     "output_type": "stream",
     "text": [
      "3\n"
     ]
    }
   ],
   "source": [
    "def find_max_period_index(N, points):\n",
    "    max_value = points[0]\n",
    "    max_index = 0\n",
    "    \n",
    "    for i in range(1, N):\n",
    "        if points[i] > max_value:\n",
    "            max_value = points[i]\n",
    "            max_index = i\n",
    "    return max_index\n",
    "\n",
    "N = int(input())\n",
    "points = list(map(int, input().split()))\n",
    "\n",
    "# Finding the period with the maximum sensex points\n",
    "max_period_index = find_max_period_index(N, points)\n",
    "print(max_period_index)"
   ]
  },
  {
   "cell_type": "markdown",
   "metadata": {},
   "source": [
    "### **159. A number is given as input. Find the odd digits in the number, add them and find if the sum is odd or not. If even print E, if odd print O.**\n",
    "\n",
    "Input Size : N <= 10000000000\n",
    "\n",
    "**Sample Testcase:**\n",
    "\n",
    "**INPUT**\n",
    "\n",
    "413\n",
    "\n",
    "**OUTPUT**\n",
    "\n",
    "E"
   ]
  },
  {
   "cell_type": "code",
   "execution_count": 16,
   "metadata": {},
   "outputs": [
    {
     "name": "stdout",
     "output_type": "stream",
     "text": [
      "E\n"
     ]
    }
   ],
   "source": [
    "def sum_of_odd_digits(number):\n",
    "    odd_sum = 0     # Initialize sum of odd digits\n",
    "    \n",
    "    # Convert the number to a string to iterate over each digit\n",
    "    for digit in str(number):\n",
    "        # Check if the digit is odd\n",
    "        if int(digit) % 2 != 0:\n",
    "            odd_sum += int(digit)\n",
    "    \n",
    "    # Check if the sum of odd digits is even or odd\n",
    "    if odd_sum % 2 == 0:\n",
    "        return \"E\"  # Even\n",
    "    else:\n",
    "        return \"O\"  # Odd\n",
    "\n",
    "number = int(input())\n",
    "print(sum_of_odd_digits(number))"
   ]
  },
  {
   "cell_type": "markdown",
   "metadata": {},
   "source": [
    "### **160. Given a numbers N, print the sum of prefix sum and suffix sum array for each position.**\n",
    "\n",
    "Input Size : N <= 10000\n",
    "\n",
    "**Sample Testcase:**\n",
    "\n",
    "**INPUT**\n",
    "\n",
    "4\n",
    "\n",
    "2 4 4 2\n",
    "\n",
    "**OUTPUT**\n",
    "\n",
    "14 16 16 14"
   ]
  },
  {
   "cell_type": "code",
   "execution_count": 17,
   "metadata": {},
   "outputs": [
    {
     "name": "stdout",
     "output_type": "stream",
     "text": [
      "14 16 16 14\n"
     ]
    }
   ],
   "source": [
    "def solve():\n",
    "    N = int(input())  # Read the size of the array\n",
    "    arr = list(map(int, input().split()))  # Read the array elements\n",
    "    \n",
    "    # Compute the Prefix Sum Array\n",
    "    prefix_sum = [0] * N\n",
    "    prefix_sum[0] = arr[0]\n",
    "    for i in range(1, N):\n",
    "        prefix_sum[i] = prefix_sum[i - 1] + arr[i]\n",
    "    \n",
    "    # Compute the Suffix Sum Array\n",
    "    suffix_sum = [0] * N\n",
    "    suffix_sum[N - 1] = arr[N - 1]\n",
    "    for i in range(N - 2, -1, -1):\n",
    "        suffix_sum[i] = suffix_sum[i + 1] + arr[i]\n",
    "    \n",
    "    # Calculate the result for each position and print\n",
    "    result = []\n",
    "    for i in range(N):\n",
    "        result.append(prefix_sum[i] + suffix_sum[i])\n",
    "    print(\" \".join(map(str, result)))\n",
    "\n",
    "solve()"
   ]
  },
  {
   "cell_type": "markdown",
   "metadata": {},
   "source": [
    "### **161. You are given a number n,ranging from 1 to n. Out of which one number is missing. Your task is to print that missing number.**\n",
    "\n",
    "**Input Description:**\n",
    "\n",
    "You are given a number ‘n’.\n",
    "\n",
    "**Output Description:**\n",
    "\n",
    "Print the missing number.\n",
    "\n",
    "**Sample Input:**\n",
    "\n",
    "5\n",
    "\n",
    "1 3 5 2\n",
    "\n",
    "**Sample Output:**\n",
    "\n",
    "4"
   ]
  },
  {
   "cell_type": "code",
   "execution_count": 18,
   "metadata": {},
   "outputs": [
    {
     "name": "stdout",
     "output_type": "stream",
     "text": [
      "4\n"
     ]
    }
   ],
   "source": [
    "def find_missing_number(n, numbers):\n",
    "    total_sum = n * (n + 1) // 2\n",
    "    given_sum = sum(numbers)\n",
    "    return total_sum - given_sum\n",
    "\n",
    "n = int(input())\n",
    "numbers = list(map(int, input().split()))\n",
    "print(find_missing_number(n, numbers))"
   ]
  },
  {
   "cell_type": "markdown",
   "metadata": {},
   "source": [
    "### **162. Given array sort it in ascending order till the half of array and in descending order after the half.(array index starts at 0).**\n",
    "\n",
    "conditons to calculate the position of half of the array:\n",
    "\n",
    "if the array has odd number elements : floor((lastindex-1)/2)\n",
    "\n",
    "if the array has even number of elements:floor(lastindex/2)\n",
    "\n",
    "Input Size : N <= 100000\n",
    "\n",
    "**Sample Testcase:**\n",
    "\n",
    "**INPUT**\n",
    "\n",
    "5\n",
    "\n",
    "4 3 1 2 4\n",
    "\n",
    "**OUTPUT**\n",
    "\n",
    "3 4 4 2 1"
   ]
  },
  {
   "cell_type": "code",
   "execution_count": 40,
   "metadata": {},
   "outputs": [
    {
     "name": "stdout",
     "output_type": "stream",
     "text": [
      "3 4 4 2 1\n"
     ]
    }
   ],
   "source": [
    "def solve():\n",
    "    N = int(input())\n",
    "    arr = list(map(int, input().split()))\n",
    "    \n",
    "    # Find the \"half\" index\n",
    "    half_index = (N - 2) // 2 if N % 2 != 0 else N // 2\n",
    "    \n",
    "    # Sort the first part in ascending order\n",
    "    first_part = sorted(arr[:half_index + 1])  # Including the half element\n",
    "    \n",
    "    # Sort the second part in descending order\n",
    "    second_part = sorted(arr[half_index + 1:], reverse=True)\n",
    "    \n",
    "    # Combine the two sorted parts\n",
    "    result = first_part + second_part\n",
    "    print(\" \".join(map(str, result)))\n",
    "\n",
    "solve()"
   ]
  },
  {
   "cell_type": "code",
   "execution_count": null,
   "metadata": {},
   "outputs": [
    {
     "name": "stdout",
     "output_type": "stream",
     "text": [
      "3 4 4 2 1 "
     ]
    }
   ],
   "source": [
    "# Another approach:\n",
    "\n",
    "def sort_half_ascending_half_descending(arr):\n",
    "    n = len(arr)\n",
    "    mid = (n-2) // 2\n",
    "    arr[:mid+1] = sorted(arr[:mid+1])\n",
    "    arr[mid+1:] = sorted(arr[mid+1:], reverse=True)\n",
    "    for num in arr:\n",
    "        print(num, end=' ')\n",
    "\n",
    "arr = [4, 3, 1, 2, 4]\n",
    "sort_half_ascending_half_descending(arr)"
   ]
  },
  {
   "cell_type": "markdown",
   "metadata": {},
   "source": [
    "### **163. Given 2 numbers N,K and an array of N elements, print the number(s) that has been repeated K times.Print them in ascending order if there are more than one number to be printed.If no element satisfies the pattern then print -1.**\n",
    "\n",
    "Input Size : N,K <= 100000\n",
    "\n",
    "**Sample Testcase:**\n",
    "\n",
    "**INPUT**\n",
    "\n",
    "5 2\n",
    "\n",
    "1 2 4 1 2\n",
    "\n",
    "**OUTPUT**\n",
    "\n",
    "1 2"
   ]
  },
  {
   "cell_type": "code",
   "execution_count": 43,
   "metadata": {},
   "outputs": [
    {
     "name": "stdout",
     "output_type": "stream",
     "text": [
      "1 2\n"
     ]
    }
   ],
   "source": [
    "from collections import Counter\n",
    "\n",
    "def solve():\n",
    "    N, K = map(int, input().split())  # Read N and K\n",
    "    arr = list(map(int, input().split()))  # Read the array elements\n",
    "\n",
    "    # Count occurrences using a dictionary\n",
    "    counts = Counter(arr)\n",
    "\n",
    "    # Filter numbers repeated exactly K times\n",
    "    result = [num for num, count in counts.items() if count == K]\n",
    "    result.sort()\n",
    "\n",
    "    if result:\n",
    "        print(\" \".join(map(str, result)))\n",
    "    else:\n",
    "        print(-1)\n",
    "\n",
    "solve()"
   ]
  },
  {
   "cell_type": "markdown",
   "metadata": {},
   "source": [
    "### **164. Given a number N and an array of N strings, sort the strings based on the number of vowels in each of the strings in descending order.**\n",
    "\n",
    "Input Size : N <= 1000\n",
    "\n",
    "**Sample Testcase:**\n",
    "\n",
    "**INPUT**\n",
    "\n",
    "3\n",
    "\n",
    "Vishal\n",
    "\n",
    "Aaae\n",
    "\n",
    "Awqr\n",
    "\n",
    "**OUTPUT**\n",
    "\n",
    "Aaae\n",
    "\n",
    "Vishal\n",
    "\n",
    "Awqr"
   ]
  },
  {
   "cell_type": "code",
   "execution_count": 45,
   "metadata": {},
   "outputs": [
    {
     "name": "stdout",
     "output_type": "stream",
     "text": [
      "Aaae\n",
      "Vishal\n",
      "Awqr\n"
     ]
    }
   ],
   "source": [
    "def count_vowels(s):\n",
    "    vowels = set('aeiouAEIOU')\n",
    "    count = 0\n",
    "    for char in s:\n",
    "        if char in vowels:\n",
    "            count += 1\n",
    "    return count\n",
    "\n",
    "def sort_strings_by_vowels(n, strings):\n",
    "    sorted_strings = sorted(strings, key=lambda x: count_vowels(x), reverse=True)\n",
    "    \n",
    "    for string in sorted_strings:\n",
    "        print(string)\n",
    "\n",
    "n = int(input())\n",
    "strings = [input().strip() for _ in range(n)]\n",
    "sort_strings_by_vowels(n, strings)"
   ]
  },
  {
   "cell_type": "markdown",
   "metadata": {},
   "source": [
    "### **165. Given a number N and an array of N integers, find the greatest number which divides all the elements of the array.**\n",
    "\n",
    "Input Size : N <= 100000\n",
    "\n",
    "**Sample Testcase:**\n",
    "\n",
    "**INPUT**\n",
    "\n",
    "5\n",
    "\n",
    "1 2 3 4 5\n",
    "\n",
    "**OUTPUT**\n",
    "\n",
    "1"
   ]
  },
  {
   "cell_type": "code",
   "execution_count": null,
   "metadata": {},
   "outputs": [
    {
     "name": "stdout",
     "output_type": "stream",
     "text": [
      "1\n"
     ]
    }
   ],
   "source": [
    "from math import gcd\n",
    "from functools import reduce\n",
    "\n",
    "N = int(input())\n",
    "arr = list(map(int, input().split()))\n",
    "\n",
    "# Compute the GCD of the array\n",
    "result = reduce(gcd, arr)\n",
    "print(result)"
   ]
  },
  {
   "cell_type": "markdown",
   "metadata": {},
   "source": [
    "### **166. Given a string 'S' print the substring of maximum length which is not a palindrome.If more than one solution is possible print the solution which you obtained by performing elimination at the end of the string.**\n",
    "\n",
    "Input Size : 1 <= length <= 1000\n",
    "\n",
    "**Sample Testcases:**\n",
    "\n",
    "**INPUT**\n",
    "\n",
    "ababababa\n",
    "\n",
    "**OUTPUT**\n",
    "\n",
    "abababab\n",
    "\n",
    "**INPUT**\n",
    "\n",
    "hello\n",
    "\n",
    "**OUTPUT**\n",
    "\n",
    "hello"
   ]
  },
  {
   "cell_type": "code",
   "execution_count": 47,
   "metadata": {},
   "outputs": [
    {
     "name": "stdout",
     "output_type": "stream",
     "text": [
      "abababab\n"
     ]
    }
   ],
   "source": [
    "def is_palindrome(s):\n",
    "    return s == s[::-1]\n",
    "\n",
    "def longest_non_palindrome_substring(s):\n",
    "    if not is_palindrome(s):\n",
    "        return s\n",
    "    \n",
    "    for i in range(len(s) - 1, 0, -1):\n",
    "        substring = s[:i]\n",
    "        if not is_palindrome(substring):\n",
    "            return substring\n",
    "    return \"\"\n",
    "\n",
    "s = input().strip()\n",
    "print(longest_non_palindrome_substring(s))"
   ]
  },
  {
   "cell_type": "markdown",
   "metadata": {},
   "source": [
    "### **167. Given a number N, check if the sum of the digits is a Palindrome. Print 'yes' or 'no' accordingly.**\n",
    "\n",
    "Input Size : 2 <= N <= 1000000000000000000\n",
    "\n",
    "**Sample Testcases:**\n",
    "\n",
    "**INPUT**\n",
    "\n",
    "13\n",
    "\n",
    "**OUTPUT**\n",
    "\n",
    "yes"
   ]
  },
  {
   "cell_type": "code",
   "execution_count": 48,
   "metadata": {},
   "outputs": [
    {
     "name": "stdout",
     "output_type": "stream",
     "text": [
      "yes\n"
     ]
    }
   ],
   "source": [
    "def is_palindrome(num):\n",
    "    # Convert to string and check if it reads the same forwards and backwards\n",
    "    str_num = str(num)\n",
    "    return str_num == str_num[::-1]\n",
    "\n",
    "N = int(input())\n",
    "digit_sum = sum(map(int, str(N)))   # Calculate the sum of digits\n",
    "\n",
    "# Check if the sum is a palindrome\n",
    "if is_palindrome(digit_sum):\n",
    "    print(\"yes\")\n",
    "else:\n",
    "    print(\"no\")"
   ]
  },
  {
   "cell_type": "markdown",
   "metadata": {},
   "source": [
    "### **168. Rahul was learning about numbers in list. He came across one word ground of a number.**\n",
    "\n",
    "A ground of a number is defined as the number which is just smaller or equal to the number given to you.Hence he started solving some assignments related to it. He got struck in some questions. Your task is to help him.\n",
    "\n",
    "O(n) time complexity\n",
    "\n",
    "O(n) Auxilary space\n",
    "\n",
    "**Input Description:**\n",
    "\n",
    "First line contains two numbers ‘n’ denoting number of integers and ‘k’ whose ground is to be check. Next line contains n space separated numbers.\n",
    "\n",
    "**Output Description:**\n",
    "\n",
    "Print the index of val.Print -1 if equal or near exqual number\n",
    "\n",
    "**Sample Input:**\n",
    "\n",
    "7 3\n",
    "\n",
    "1 2 3 4 5 6 7\n",
    "\n",
    "**Sample Output:**\n",
    "\n",
    "2"
   ]
  },
  {
   "cell_type": "code",
   "execution_count": null,
   "metadata": {},
   "outputs": [
    {
     "name": "stdout",
     "output_type": "stream",
     "text": [
      "2\n"
     ]
    }
   ],
   "source": [
    "def find_ground_index(arr, k):\n",
    "    ground_index = -1\n",
    "    ground_value = float('-inf')\n",
    "    \n",
    "    for i in range(len(arr)):\n",
    "        if arr[i] <= k and arr[i] > ground_value:\n",
    "            ground_value = arr[i]\n",
    "            ground_index = i\n",
    "    return ground_index\n",
    "\n",
    "def main():\n",
    "    n, k = map(int, input().split())\n",
    "    arr = list(map(int, input().split()))\n",
    "    result = find_ground_index(arr, k)\n",
    "    print(result)\n",
    "\n",
    "if __name__ == \"__main__\":\n",
    "    main()"
   ]
  },
  {
   "cell_type": "markdown",
   "metadata": {},
   "source": [
    "### **169. Given k sorted arrays of possibly different sizes, merge them and print the sorted output.**\n",
    "\n",
    "Input Size : N<=100\n",
    "\n",
    "**Example:**\n",
    "\n",
    "**INPUT**\n",
    "\n",
    "k = 3\n",
    "\n",
    "1 3\n",
    "\n",
    "2 4 6\n",
    "\n",
    "0 9 10 11\n",
    "\n",
    "**OUTPUT**\n",
    "\n",
    "0 1 2 3 4 6 9 10 11"
   ]
  },
  {
   "cell_type": "code",
   "execution_count": 50,
   "metadata": {},
   "outputs": [
    {
     "name": "stdout",
     "output_type": "stream",
     "text": [
      "0 1 2 3 4 6 9 10 11\n"
     ]
    }
   ],
   "source": [
    "def merge_brute_force(arrays):\n",
    "    merged = []\n",
    "    for arr in arrays:\n",
    "        merged.extend(arr)\n",
    "    merged.sort()\n",
    "    return merged\n",
    "\n",
    "k = int(input())\n",
    "arrays = []\n",
    "for i in range(k):\n",
    "    array = list(map(int, input().split()))\n",
    "    arrays.append(array)\n",
    "\n",
    "result = merge_brute_force(arrays)\n",
    "print(\" \".join(map(str, result)))"
   ]
  },
  {
   "cell_type": "markdown",
   "metadata": {},
   "source": [
    "### **170. You are given with the marks of N students in CS, Maths and English. Sort the students based on marks in maths. If 2 students have the same marks in maths, sort them based on marks in CS. If there is a tie, sort based on marks in English. All the sorting must be done in descending order.**\n",
    "\n",
    "**Input Description:**\n",
    "\n",
    "Number of students followed by student id,marks in CS, Maths and English\n",
    "\n",
    "**Output Description:**\n",
    "\n",
    "Sorted list of students\n",
    "\n",
    "**Sample Input:**\n",
    "\n",
    "3\n",
    "\n",
    "A 34 89 98\n",
    "\n",
    "B 98 87 98\n",
    "\n",
    "C 87 67 98\n",
    "\n",
    "**Sample Output:**\n",
    "\n",
    "A 34 89 98\n",
    "\n",
    "B 98 87 98\n",
    "\n",
    "C 87 67 98"
   ]
  },
  {
   "cell_type": "code",
   "execution_count": 51,
   "metadata": {},
   "outputs": [
    {
     "name": "stdout",
     "output_type": "stream",
     "text": [
      "A 34 89 98\n",
      "B 98 87 98\n",
      "C 87 67 98\n"
     ]
    }
   ],
   "source": [
    "n = int(input())\n",
    "students = []\n",
    "\n",
    "# Collect each student's data\n",
    "for _ in range(n):\n",
    "    data = input().split()\n",
    "    student_id = data[0]\n",
    "    cs_marks = int(data[1])\n",
    "    math_marks = int(data[2])\n",
    "    english_marks = int(data[3])\n",
    "    students.append((student_id, cs_marks, math_marks, english_marks))\n",
    "\n",
    "# Sort students based on the required criteria\n",
    "students.sort(key=lambda x: (x[2], x[1], x[3]), reverse=True)\n",
    "for student in students:\n",
    "    print(student[0], student[1], student[2], student[3])"
   ]
  },
  {
   "cell_type": "markdown",
   "metadata": {},
   "source": [
    "### **171. Given a number N, print the even factors of N.If the even factor does not exists for N print '-1'.**\n",
    "\n",
    "Input Size : 1 <= N <= 1000\n",
    "\n",
    "**Sample Testcase:**\n",
    "\n",
    "**INPUT**\n",
    "\n",
    "8\n",
    "\n",
    "**OUTPUT**\n",
    "\n",
    "2 4 8"
   ]
  },
  {
   "cell_type": "code",
   "execution_count": null,
   "metadata": {},
   "outputs": [
    {
     "name": "stdout",
     "output_type": "stream",
     "text": [
      "2 4 8\n"
     ]
    }
   ],
   "source": [
    "def find_even_factors(N):\n",
    "    even_factors = [i for i in range(2, N + 1, 2) if N % i == 0]\n",
    "    \n",
    "    # Check if even factors exist\n",
    "    if even_factors:\n",
    "        print(\" \".join(map(str, even_factors)))\n",
    "    else:\n",
    "        print(\"-1\")\n",
    "\n",
    "N = int(input())\n",
    "find_even_factors(N)"
   ]
  },
  {
   "cell_type": "markdown",
   "metadata": {},
   "source": [
    "### **172. There is a business analysis company named “AJ”. It hired two interns “A” and “B”. Both of them are given tasks to sell product in n days. The one who will sell more share will get the job. As A and B are good friends they decided that they will equalize the collected money, they are only allowed to swap more than one day’s share to make the total of each same. Your task is to help them.**\n",
    "\n",
    "**Constraints**\n",
    "\n",
    "1<=N,a[i],b[i]<=50\n",
    "\n",
    "**Input Description:**\n",
    "\n",
    "First line contains no of days. Next line contains the n space separated integers representing sale of A. Next line contains Space separated integers representing sale of B.\n",
    "\n",
    "**Output Description:**\n",
    "\n",
    "Print “yes” if it is possible by one one swap. Else no\n",
    "\n",
    "**Sample Input:**\n",
    "\n",
    "4 \n",
    "\n",
    "5 7 4 6\n",
    "\n",
    "1 2 3 8\n",
    "\n",
    "**Sample Output:**\n",
    "\n",
    "yes"
   ]
  },
  {
   "cell_type": "code",
   "execution_count": 54,
   "metadata": {},
   "outputs": [
    {
     "name": "stdout",
     "output_type": "stream",
     "text": [
      "yes\n"
     ]
    }
   ],
   "source": [
    "def can_equalize_sales(n, sales_a, sales_b):\n",
    "    sum_a = sum(sales_a)\n",
    "    sum_b = sum(sales_b)\n",
    "    diff = sum_a - sum_b\n",
    "\n",
    "    # If already equal, return yes\n",
    "    if diff == 0:\n",
    "        return \"yes\"\n",
    "\n",
    "    # Create sets for faster lookups\n",
    "    set_a = set(sales_a)\n",
    "    set_b = set(sales_b)\n",
    "\n",
    "    # Iterate over all possible pairs of swaps\n",
    "    for a in set_a:\n",
    "        for b in set_b:\n",
    "            # Calculate new sums after swapping\n",
    "            new_sum_a = sum_a - a + b\n",
    "            new_sum_b = sum_b - b + a\n",
    "            if new_sum_a == new_sum_b:\n",
    "                return \"yes\"\n",
    "    return \"no\"\n",
    "\n",
    "n = int(input())\n",
    "sales_a = list(map(int, input().split()))\n",
    "sales_b = list(map(int, input().split()))\n",
    "print(can_equalize_sales(n, sales_a, sales_b))"
   ]
  },
  {
   "cell_type": "markdown",
   "metadata": {},
   "source": [
    "### **173. An organization named “Gupil” has a well-maintained library in its own building. Librarian orders and gets books for the library very frequently. Each book which is newly arrived has its own unique serial number. The books initially are placed in descending order. The librarian want to place a new book without disturbing the descending order of books in terms of unique id. Now you must help librarian to find the right spot for placing the book.**\n",
    "\n",
    "**Input Description:**\n",
    "\n",
    "The first line of program contains integer ‘n denoting no. of books already placed in the shelf. Next line contains n serial number of already placed books. Next line contains integer m denoting no of new books to be placed on the shelf. Next line contains m serial numbers of new book.\n",
    "\n",
    "**Output Description:**\n",
    "\n",
    "print the position at which it must be placed\n",
    "\n",
    "**Sample Input:**\n",
    "\n",
    "7\n",
    "\n",
    "95 68 62 58 55 41 30\n",
    "\n",
    "2\n",
    "\n",
    "45 61\n",
    "\n",
    "**Sample Output:**\n",
    "\n",
    "6 4"
   ]
  },
  {
   "cell_type": "code",
   "execution_count": 55,
   "metadata": {},
   "outputs": [
    {
     "name": "stdout",
     "output_type": "stream",
     "text": [
      "6 4\n"
     ]
    }
   ],
   "source": [
    "from bisect import bisect_left\n",
    "\n",
    "def find_positions(existing_books, new_books):\n",
    "    positions = []\n",
    "    for book in new_books:\n",
    "        # Convert to ascending order for binary search\n",
    "        descending_books = [-x for x in existing_books]\n",
    "        book_neg = -book\n",
    "\n",
    "        # Use binary search to find the correct position\n",
    "        pos = bisect_left(descending_books, book_neg)\n",
    "        positions.append(pos + 1)  # Convert to 1-based index\n",
    "    return positions\n",
    "\n",
    "n = int(input())\n",
    "existing_books = list(map(int, input().split()))\n",
    "m = int(input())\n",
    "new_books = list(map(int, input().split()))\n",
    "result = find_positions(existing_books, new_books)\n",
    "print(\" \".join(map(str, result)))"
   ]
  },
  {
   "cell_type": "markdown",
   "metadata": {},
   "source": [
    "### **174. Given a string S of length N, write a program that would reverse every word in the string.**\n",
    "\n",
    "Input Size : 1 <= N <= 100000\n",
    "\n",
    "**Sample Testcases:**\n",
    "\n",
    "**INPUT**\n",
    "\n",
    "Hello World\n",
    "\n",
    "**OUTPUT**\n",
    "\n",
    "olleH dlroW"
   ]
  },
  {
   "cell_type": "code",
   "execution_count": 56,
   "metadata": {},
   "outputs": [
    {
     "name": "stdout",
     "output_type": "stream",
     "text": [
      "olleH dlroW\n"
     ]
    }
   ],
   "source": [
    "def reverse_words(s):\n",
    "    words = s.split()\n",
    "    reversed_words = [word[::-1] for word in words]\n",
    "    return ' '.join(reversed_words)\n",
    "\n",
    "s = input().strip()\n",
    "print(reverse_words(s))"
   ]
  },
  {
   "cell_type": "markdown",
   "metadata": {},
   "source": [
    "### **175. Given a number N followed by N numbers(negative or positive) print the maximum sum of any subarray of the array.**\n",
    "\n",
    "Input Size : 1 <= N <= 100000\n",
    "\n",
    "**Sample Testcases:**\n",
    "\n",
    "**INPUT**\n",
    "\n",
    "7\n",
    "\n",
    "1 2 3 4 5 6 7\n",
    "\n",
    "**OUTPUT**\n",
    "\n",
    "28"
   ]
  },
  {
   "cell_type": "code",
   "execution_count": 57,
   "metadata": {},
   "outputs": [
    {
     "name": "stdout",
     "output_type": "stream",
     "text": [
      "28\n"
     ]
    }
   ],
   "source": [
    "def max_subarray_sum(N, arr):\n",
    "    current_sum = arr[0]\n",
    "    max_sum = arr[0]\n",
    "    \n",
    "    for i in range(1, N):\n",
    "        current_sum = max(arr[i], current_sum + arr[i])\n",
    "        max_sum = max(max_sum, current_sum)    \n",
    "    return max_sum\n",
    "\n",
    "N = int(input())\n",
    "arr = list(map(int, input().split()))\n",
    "result = max_subarray_sum(N, arr)\n",
    "print(result)"
   ]
  },
  {
   "cell_type": "markdown",
   "metadata": {},
   "source": [
    "### **176. Iron Man wants to extract an infinity stone from a safe. The safe is protected by a password and Iron Man knows the clue to the password which is “sum one and two when sorted they are true”. Decode the clue from the test case and help Iron Man open the safe.**\n",
    "\n",
    "**Input Description:**\n",
    "\n",
    "Size of the array followed by the elements of the array\n",
    "\n",
    "**Output Description:**\n",
    "\n",
    "Sum of 2 specific elements in the array.\n",
    "\n",
    "**Sample Input:**\n",
    "\n",
    "5\n",
    "\n",
    "9 8 3 2 1\n",
    "\n",
    "**Sample Output:**\n",
    "\n",
    "3"
   ]
  },
  {
   "cell_type": "code",
   "execution_count": 58,
   "metadata": {},
   "outputs": [
    {
     "name": "stdout",
     "output_type": "stream",
     "text": [
      "3\n"
     ]
    }
   ],
   "source": [
    "n = int(input())\n",
    "arr = list(map(int, input().split()))\n",
    "arr.sort()\n",
    "result = arr[0] + arr[1]    # Sum of the first two elements in the sorted array\n",
    "print(result)"
   ]
  },
  {
   "cell_type": "markdown",
   "metadata": {},
   "source": [
    "### **177. Given a number N followed by N numbers. Print the even numbers which are present in odd positions and odd numbers which are present in even positions(0 indexing)If no element is found print '-1'.**\n",
    "\n",
    "Input Size : 1 <= N <= 100000\n",
    "\n",
    "**Sample Testcases:**\n",
    "\n",
    "**INPUT**\n",
    "\n",
    "7\n",
    "\n",
    "1 2 3 4 5 6 7\n",
    "\n",
    "**OUTPUT**\n",
    "\n",
    "1 2 3 4 5 6 7"
   ]
  },
  {
   "cell_type": "code",
   "execution_count": null,
   "metadata": {},
   "outputs": [
    {
     "name": "stdout",
     "output_type": "stream",
     "text": [
      "-1\n"
     ]
    }
   ],
   "source": [
    "def find_elements(n, arr):\n",
    "    result = []\n",
    "\n",
    "    for i in range(n):\n",
    "        # 1-based index for odd positions: i+1 is odd\n",
    "        if (i + 1) % 2 == 1 and arr[i] % 2 == 0:\n",
    "            result.append(arr[i])  # Even number at an odd position\n",
    "        \n",
    "        # 1-based index for even positions: i+1 is even\n",
    "        elif (i + 1) % 2 == 0 and arr[i] % 2 == 1:\n",
    "            result.append(arr[i])  # Odd number at an even position\n",
    "\n",
    "    if result:\n",
    "        print(\" \".join(map(str, result)))\n",
    "    else:\n",
    "        print(\"-1\")\n",
    "\n",
    "n = int(input())\n",
    "arr = list(map(int, input().split()))\n",
    "find_elements(n, arr)"
   ]
  },
  {
   "cell_type": "markdown",
   "metadata": {},
   "source": [
    "### **178. Given a number N, print the first N Catalan numbers.**\n",
    "\n",
    "Input Size : N <= 100\n",
    "\n",
    "**Sample Testcase:**\n",
    "\n",
    "**INPUT**\n",
    "\n",
    "1\n",
    "\n",
    "**OUTPUT**\n",
    "\n",
    "1 1"
   ]
  },
  {
   "cell_type": "code",
   "execution_count": 5,
   "metadata": {},
   "outputs": [
    {
     "name": "stdout",
     "output_type": "stream",
     "text": [
      "1 1\n"
     ]
    }
   ],
   "source": [
    "def catalan(n):\n",
    "    catalan_numbers = [0] * (n + 1)\n",
    "    catalan_numbers[0] = catalan_numbers[1] = 1\n",
    "    for i in range(2, n + 1):\n",
    "        for j in range(i):\n",
    "            catalan_numbers[i] += catalan_numbers[j] * catalan_numbers[i - j - 1]    \n",
    "    return catalan_numbers\n",
    "\n",
    "n = int(input())\n",
    "result = catalan(n)\n",
    "print(\" \".join(map(str, result)))"
   ]
  },
  {
   "cell_type": "markdown",
   "metadata": {},
   "source": [
    "### **179. Given 2 numbers N and M followed by 2 arrays A an B of sizes N and M. Check if array B is a subset of array A. if yes print 'yes' else print 'no'.**\n",
    "\n",
    "Input Size : 1 <= N <= 1000000\n",
    "\n",
    "**Sample Testcases:**\n",
    "\n",
    "**INPUT**\n",
    "\n",
    "7 6\n",
    "\n",
    "1 2 3 4 5 6 7\n",
    "\n",
    "3 4 5 6 7 1\n",
    "\n",
    "**OUTPUT**\n",
    "\n",
    "yes"
   ]
  },
  {
   "cell_type": "code",
   "execution_count": 6,
   "metadata": {},
   "outputs": [
    {
     "name": "stdout",
     "output_type": "stream",
     "text": [
      "yes\n"
     ]
    }
   ],
   "source": [
    "def is_subset(arr_a, arr_b):\n",
    "    set_a = set(arr_a)  # Convert array A to a set for efficient lookups\n",
    "    for element in arr_b:\n",
    "        if element not in set_a:  # Check if each element of B exists in A\n",
    "            return \"no\"\n",
    "    return \"yes\"\n",
    "\n",
    "n, m = map(int, input().split())\n",
    "arr_a = list(map(int, input().split()))\n",
    "arr_b = list(map(int, input().split()))\n",
    "print(is_subset(arr_a, arr_b))"
   ]
  },
  {
   "cell_type": "markdown",
   "metadata": {},
   "source": [
    "### **180. Given a number N followed by N numbers. Find the largest number which can be formed from the given numbers and print it.**\n",
    "\n",
    "NOTE: Each number should be used exactly once.\n",
    "\n",
    "Input Size : 1 <= N <= 100000\n",
    "\n",
    "**Sample Testcases:**\n",
    "\n",
    "**INPUT**\n",
    "\n",
    "5\n",
    "\n",
    "5 6 7 8 9\n",
    "\n",
    "**OUTPUT**\n",
    "\n",
    "98765"
   ]
  },
  {
   "cell_type": "code",
   "execution_count": 7,
   "metadata": {},
   "outputs": [
    {
     "name": "stdout",
     "output_type": "stream",
     "text": [
      "98765\n"
     ]
    }
   ],
   "source": [
    "from functools import cmp_to_key\n",
    "\n",
    "def compare(x, y):\n",
    "    if x + y > y + x:\n",
    "        return -1\n",
    "    elif x + y < y + x:\n",
    "        return 1\n",
    "    else:\n",
    "        return 0\n",
    "\n",
    "def largest_number(nums):\n",
    "    nums = list(map(str, nums))\n",
    "    nums.sort(key=cmp_to_key(compare))\n",
    "    result = ''.join(nums)\n",
    "    return result if result[0] != '0' else '0'\n",
    "\n",
    "n = int(input())\n",
    "nums = list(map(int, input().split()))\n",
    "print(largest_number(nums))"
   ]
  },
  {
   "cell_type": "markdown",
   "metadata": {},
   "source": [
    "### **181. Given with Size of the array 'N' followed by array of 'N' strings, group the anagrams and print the number of grouping possible.If grouping not possible print '0'.**\n",
    "\n",
    "**Sample Testcase:**\n",
    "\n",
    "**INPUT**\n",
    "\n",
    "7\n",
    "\n",
    "rat art cat act dog god tar pat\n",
    "\n",
    "**OUTPUT**\n",
    "\n",
    "3\n",
    "\n",
    "[rat, art, tar],[cat, act],[dog, god]"
   ]
  },
  {
   "cell_type": "code",
   "execution_count": 19,
   "metadata": {},
   "outputs": [
    {
     "name": "stdout",
     "output_type": "stream",
     "text": [
      "3\n",
      "[rat, art, tar],[cat, act],[dog, god]\n"
     ]
    }
   ],
   "source": [
    "from collections import defaultdict\n",
    "\n",
    "def group_anagrams(strings):\n",
    "    anagram_map = defaultdict(list)\n",
    "    for word in strings:\n",
    "        sorted_word = ''.join(sorted(word))\n",
    "        anagram_map[sorted_word].append(word)\n",
    "    filtered_groups = [group for group in anagram_map.values() if len(group) > 1]\n",
    "    return len(filtered_groups), filtered_groups\n",
    "\n",
    "n = int(input())\n",
    "strings = input().split()\n",
    "\n",
    "group_count, anagram_groups = group_anagrams(strings)\n",
    "print(group_count)\n",
    "print(\",\".join([f\"[{', '.join(group)}]\" for group in anagram_groups]))"
   ]
  },
  {
   "cell_type": "code",
   "execution_count": 21,
   "metadata": {},
   "outputs": [
    {
     "name": "stdout",
     "output_type": "stream",
     "text": [
      "3\n",
      "[rat, art, tar],[cat, act],[dog, god]\n"
     ]
    }
   ],
   "source": [
    "from collections import defaultdict\n",
    "\n",
    "def group_anagrams(strings):\n",
    "    anagram_map = defaultdict(list)\n",
    "    for word in strings:\n",
    "        sorted_word = ''.join(sorted(word))\n",
    "        anagram_map[sorted_word].append(word)\n",
    "    filtered_groups = [group for group in anagram_map.values() if len(group) > 1]\n",
    "    return len(filtered_groups), filtered_groups\n",
    "\n",
    "input_data = input().split()\n",
    "try:\n",
    "    n = int(input_data[0])\n",
    "    strings = input_data[1:]\n",
    "except ValueError:\n",
    "    strings = input_data\n",
    "\n",
    "group_count, anagram_groups = group_anagrams(strings)\n",
    "print(group_count)\n",
    "print(\",\".join([f\"[{', '.join(group)}]\" for group in anagram_groups]))"
   ]
  },
  {
   "cell_type": "markdown",
   "metadata": {},
   "source": [
    "### **182. Karthick loves to analyse patterns in numbers. He is given a list of positive integers a1,a2...aN. He wants to count the number of pairs (ai,aj) such that: ai < aj. He solved it and wants to cross-check his answer with yours. Compute the same and display the number of pairs possible so that Karthick can verify his answer.**\n",
    "\n",
    "**Constraints:**\n",
    "\n",
    "1<=N<=10^3\n",
    "\n",
    "1<=a[i]<=10^3\n",
    " \n",
    "**Input Description:**\n",
    "\n",
    "First line contains a positive integer N denoting the size of array.The second line contains N space-separated positive integers denoting the elements of array.\n",
    "\n",
    "**Output Description:**\n",
    "\n",
    "A single line containing number of pairs possible.\n",
    "\n",
    "**Sample Input:**\n",
    "\n",
    "3\n",
    "\n",
    "2 1  \n",
    "\n",
    "**Sample Output:**\n",
    "\n",
    "1"
   ]
  },
  {
   "cell_type": "code",
   "execution_count": 22,
   "metadata": {},
   "outputs": [
    {
     "name": "stdout",
     "output_type": "stream",
     "text": [
      "1\n"
     ]
    }
   ],
   "source": [
    "def count_pairs(arr):\n",
    "    n = len(arr)\n",
    "    if n < 2:\n",
    "        return 0\n",
    "\n",
    "    sorted_arr = sorted(arr)\n",
    "    pair_count = 0\n",
    "    \n",
    "    for i in range(n):\n",
    "        for j in range(i + 1, n):\n",
    "            if sorted_arr[i] < sorted_arr[j]:\n",
    "                pair_count += 1    \n",
    "    return pair_count\n",
    "\n",
    "N = int(input().strip())\n",
    "arr = list(map(int, input().strip().split()))\n",
    "result = count_pairs(arr)\n",
    "print(result)"
   ]
  },
  {
   "cell_type": "markdown",
   "metadata": {},
   "source": [
    "### **183. Given N, K and follwed by N of integers , find two numbers such that they add up to a specific target number K. Example Input: numbers={2, 7, 11, 15}, K=9,print 'yes' if target achieved (2,7 can be added to get 9) if there is no such pair print 'no'.**\n",
    "\n",
    "Input Size : 1 <= N <= 100000\n",
    "\n",
    "**Sample Testcases:**\n",
    "\n",
    "**INPUT**\n",
    "\n",
    "7 6\n",
    "\n",
    "1 2 3 4 5 6 7\n",
    "\n",
    "**OUTPUT**\n",
    "\n",
    "yes"
   ]
  },
  {
   "cell_type": "code",
   "execution_count": 23,
   "metadata": {},
   "outputs": [
    {
     "name": "stdout",
     "output_type": "stream",
     "text": [
      "yes\n"
     ]
    }
   ],
   "source": [
    "def find_pair_with_sum(numbers, target):\n",
    "    seen = set()\n",
    "    \n",
    "    for num in numbers:\n",
    "        if target - num in seen:\n",
    "            return \"yes\"\n",
    "        seen.add(num)    \n",
    "    return \"no\"\n",
    "\n",
    "n, k = map(int, input().split())\n",
    "numbers = list(map(int, input().split()))\n",
    "print(find_pair_with_sum(numbers, k))"
   ]
  },
  {
   "cell_type": "markdown",
   "metadata": {},
   "source": [
    "### **184. Given a number n followed by n numbers. Find the numbers which are equal to their index value and print them in sorted order. If no such numbers are present print '-1' without quotes.**\n",
    "\n",
    "Input Size : 1 <= n <= 100000\n",
    "\n",
    "**Sample Testcases:**\n",
    "\n",
    "**INPUT**\n",
    "\n",
    "6\n",
    "\n",
    "6 7 3 3 4 5\n",
    "\n",
    "**OUTPUT**\n",
    "\n",
    "3 4 5"
   ]
  },
  {
   "cell_type": "code",
   "execution_count": 24,
   "metadata": {},
   "outputs": [
    {
     "name": "stdout",
     "output_type": "stream",
     "text": [
      "3 4 5\n"
     ]
    }
   ],
   "source": [
    "def find_numbers_matching_index(n, numbers):\n",
    "    result = [numbers[i] for i in range(n) if numbers[i] == i]\n",
    "    if result:\n",
    "        print(\" \".join(map(str, sorted(result))))\n",
    "    else:\n",
    "        print(\"-1\")\n",
    "\n",
    "n = int(input().strip())\n",
    "numbers = list(map(int, input().strip().split()))\n",
    "find_numbers_matching_index(n, numbers)"
   ]
  },
  {
   "cell_type": "markdown",
   "metadata": {},
   "source": [
    "### **185. Given a number N and an array of N elements, print the number of lucky numbers in the array.**\n",
    "\n",
    "Lucky number: N*I is also present in the array then the number is lucky where N is the number of elements in the array and I is the position of the element.(1 based indexing)\n",
    "\n",
    "Input Size : 1 <= N, I <= 100000\n",
    "\n",
    "**Sample Testcases:**\n",
    "\n",
    "**INPUT**\n",
    "\n",
    "5\n",
    "\n",
    "1 2 3 4 5\n",
    "\n",
    "**OUTPUT**\n",
    "\n",
    "1"
   ]
  },
  {
   "cell_type": "code",
   "execution_count": 25,
   "metadata": {},
   "outputs": [
    {
     "name": "stdout",
     "output_type": "stream",
     "text": [
      "1\n"
     ]
    }
   ],
   "source": [
    "def count_lucky_numbers(arr, N):\n",
    "    arr_set = set(arr)\n",
    "    lucky_count = 0\n",
    "    \n",
    "    for i in range(1, N + 1):\n",
    "        if N * i in arr_set:\n",
    "            lucky_count += 1    \n",
    "    return lucky_count\n",
    "\n",
    "N = int(input())\n",
    "arr = list(map(int, input().split()))\n",
    "print(count_lucky_numbers(arr, N))"
   ]
  },
  {
   "cell_type": "markdown",
   "metadata": {},
   "source": [
    "### **186. Given a number N followed by N numbers. Out of these N numbers some of them are repeated. Write a program to find the number which is repeated and print the repeated numbers in sorted order. If no numbers are repeated print \"unique\".**\n",
    "\n",
    "Input Size : 1 <= N <= 100000\n",
    "\n",
    "**Sample Testcase:**\n",
    "\n",
    "**INPUT**\n",
    "\n",
    "7\n",
    "\n",
    "1 2 3 2 3 4 3\n",
    "\n",
    "**OUTPUT**\n",
    "\n",
    "2 3"
   ]
  },
  {
   "cell_type": "code",
   "execution_count": 26,
   "metadata": {},
   "outputs": [
    {
     "name": "stdout",
     "output_type": "stream",
     "text": [
      "2 3\n"
     ]
    }
   ],
   "source": [
    "from collections import Counter\n",
    "\n",
    "def find_repeated_numbers(N, arr):\n",
    "    count = Counter(arr)\n",
    "    repeated_numbers = [num for num, freq in count.items() if freq > 1]\n",
    "    if not repeated_numbers:\n",
    "        return \"unique\"\n",
    "    return ' '.join(map(str, sorted(repeated_numbers)))\n",
    "\n",
    "N = int(input())\n",
    "arr = list(map(int, input().split()))\n",
    "print(find_repeated_numbers(N, arr))"
   ]
  },
  {
   "cell_type": "markdown",
   "metadata": {},
   "source": [
    "### **187. Given two numbers a and b, write a program to print the count of numbers in the range [a,b] in which there are prime number of 1's in their binary representation.**\n",
    "\n",
    "Input Size : 1 <= A <= B <= 100000\n",
    "\n",
    "**Sample Testcases:**\n",
    "\n",
    "**INPUT**\n",
    "\n",
    "1 3\n",
    "\n",
    "**OUTPUT**\n",
    "\n",
    "1"
   ]
  },
  {
   "cell_type": "code",
   "execution_count": null,
   "metadata": {},
   "outputs": [
    {
     "name": "stdout",
     "output_type": "stream",
     "text": [
      "1\n"
     ]
    }
   ],
   "source": [
    "def is_prime(n):\n",
    "    if n <= 1:\n",
    "        return False\n",
    "    for i in range(2, int(n ** 0.5) + 1):\n",
    "        if n % i == 0:\n",
    "            return False\n",
    "    return True\n",
    "\n",
    "def count_prime_ones_in_binary(a, b):\n",
    "    prime_set = {i for i in range(18) if is_prime(i)}\n",
    "    \n",
    "    count = 0\n",
    "    for num in range(a, b + 1):\n",
    "        # Count the number of 1's in the binary representation of num\n",
    "        ones_count = bin(num).count('1')\n",
    "        \n",
    "        # If the count of 1's is prime, increment the counter\n",
    "        if ones_count in prime_set:\n",
    "            count += 1    \n",
    "    return count\n",
    "\n",
    "a, b = map(int, input().split())\n",
    "print(count_prime_ones_in_binary(a, b))"
   ]
  },
  {
   "cell_type": "markdown",
   "metadata": {},
   "source": [
    "### **188. Given two numbers N,K and an array of size N, print the three nearest neighbours of K(nearest neighbours are numbers which have least difference with K).**\n",
    "\n",
    "Input Size : 4 <= N, K <= 100000\n",
    "\n",
    "**Sample Testcases:**\n",
    "\n",
    "**INPUT**\n",
    "\n",
    "5 3\n",
    "\n",
    "1 2 3 4 6\n",
    "\n",
    "**OUTPUT**\n",
    "\n",
    "2 4 1"
   ]
  },
  {
   "cell_type": "code",
   "execution_count": 32,
   "metadata": {},
   "outputs": [
    {
     "name": "stdout",
     "output_type": "stream",
     "text": [
      "3 2 4\n"
     ]
    }
   ],
   "source": [
    "def find_nearest_neighbors(N, K, arr):\n",
    "    # Create a list of tuples where each tuple contains (difference, number)\n",
    "    diff_list = [(abs(num - K), num) for num in arr]\n",
    "    \n",
    "    # Sort the list based on the difference\n",
    "    diff_list.sort()\n",
    "    \n",
    "    # Extract the numbers of the three nearest neighbors\n",
    "    nearest_neighbors = [num for _, num in diff_list[:3]]    \n",
    "    return nearest_neighbors\n",
    "\n",
    "N, K = map(int, input().split())\n",
    "arr = list(map(int, input().split()))\n",
    "nearest_neighbors = find_nearest_neighbors(N, K, arr)\n",
    "print(*nearest_neighbors)"
   ]
  },
  {
   "cell_type": "markdown",
   "metadata": {},
   "source": [
    "### **189. Given an array A[n] of n numbers, create an output array such that out[i] is equal to the product of all the elements of A[n] except A[i]. Ex. out[4] assuming n >= 5 will be the product of the numbers from A[0] through A[3] and the numbers from A[5] through A[n - 1]. print the out array.**\n",
    "\n",
    "Input Size : 1 <= N <= 100000\n",
    "\n",
    "**Sample Testcases:**\n",
    "\n",
    "**INPUT**\n",
    "\n",
    "5\n",
    "\n",
    "1 2 3 4 5\n",
    "\n",
    "**OUTPUT**\n",
    "\n",
    "120 60 40 30 24"
   ]
  },
  {
   "cell_type": "code",
   "execution_count": null,
   "metadata": {},
   "outputs": [
    {
     "name": "stdout",
     "output_type": "stream",
     "text": [
      "120 60 40 30 24\n"
     ]
    }
   ],
   "source": [
    "def product_array(A):\n",
    "    n = len(A)\n",
    "    \n",
    "    out = [1] * n   # Initialize the output array\n",
    "    \n",
    "    # Calculate the left products\n",
    "    left_product = 1\n",
    "    for i in range(n):\n",
    "        out[i] = left_product\n",
    "        left_product *= A[i]\n",
    "    \n",
    "    # Calculate the right products and update the output array\n",
    "    right_product = 1\n",
    "    for i in range(n - 1, -1, -1):\n",
    "        out[i] *= right_product\n",
    "        right_product *= A[i]    \n",
    "    return out\n",
    "\n",
    "n = int(input())\n",
    "A = list(map(int, input().split()))\n",
    "result = product_array(A)\n",
    "print(\" \".join(map(str, result)))"
   ]
  },
  {
   "cell_type": "markdown",
   "metadata": {},
   "source": [
    "### **190. Given a number N followed by 2 lists A and B of N integers each. Form a 3rd list C of size N where each element of list C is the sum the respective elements in lists A and B.**\n",
    "\n",
    "Input Size : N <= 100000\n",
    "\n",
    "**Sample Testcase:**\n",
    "\n",
    "**INPUT**\n",
    "\n",
    "5\n",
    "\n",
    "30 5 5 30 -45\n",
    "\n",
    "1 2 3 4 5\n",
    "\n",
    "**OUTPUT**\n",
    "\n",
    "31 7 8 34 -40"
   ]
  },
  {
   "cell_type": "code",
   "execution_count": 34,
   "metadata": {},
   "outputs": [
    {
     "name": "stdout",
     "output_type": "stream",
     "text": [
      "31 7 8 34 -40\n"
     ]
    }
   ],
   "source": [
    "def sum_lists(N, A, B):\n",
    "    C = [A[i] + B[i] for i in range(N)]\n",
    "    return C\n",
    "\n",
    "N = int(input())\n",
    "A = list(map(int, input().split()))\n",
    "B = list(map(int, input().split()))\n",
    "C = sum_lists(N, A, B)\n",
    "print(\" \".join(map(str, C)))"
   ]
  },
  {
   "cell_type": "markdown",
   "metadata": {},
   "source": [
    "### **191. Swagger and Rock are playing a word game. They need to check the two strings use the same base alphabets. Two strings are said to have same base alphabets if they use the same characters to form the word. eg: rescue and curse have same base alphabets - c,e,r,s,u.If it so print 'true' else print 'false'.**\n",
    "\n",
    "Input Size : |S| <= 1000000\n",
    "\n",
    "**Sample Testcase:**\n",
    "\n",
    "**INPUT**\n",
    "\n",
    "rescue curse\n",
    "\n",
    "**OUTPUT**\n",
    "\n",
    "true"
   ]
  },
  {
   "cell_type": "code",
   "execution_count": 35,
   "metadata": {},
   "outputs": [
    {
     "name": "stdout",
     "output_type": "stream",
     "text": [
      "true\n"
     ]
    }
   ],
   "source": [
    "def have_same_base_alphabets(str1, str2):\n",
    "    # Convert both strings to sets of characters\n",
    "    set1 = set(str1)\n",
    "    set2 = set(str2)\n",
    "    \n",
    "    # Check if both sets are equal\n",
    "    if set1 == set2:\n",
    "        return \"true\"\n",
    "    else:\n",
    "        return \"false\"\n",
    "\n",
    "str1, str2 = input().split()\n",
    "print(have_same_base_alphabets(str1, str2))"
   ]
  },
  {
   "cell_type": "markdown",
   "metadata": {},
   "source": [
    "### **192. Given a number N followed by N numbers.Find the smallest number and largest number and print both the indices(1 based indexing).**\n",
    "\n",
    "Input Size : N <= 100000\n",
    "\n",
    "**Sample Testcase:**\n",
    "\n",
    "**INPUT**\n",
    "\n",
    "5\n",
    "\n",
    "1 2 3 4 5\n",
    "\n",
    "**OUTPUT**\n",
    "\n",
    "1 5"
   ]
  },
  {
   "cell_type": "code",
   "execution_count": 37,
   "metadata": {},
   "outputs": [
    {
     "name": "stdout",
     "output_type": "stream",
     "text": [
      "1 5\n"
     ]
    }
   ],
   "source": [
    "def find_indices_of_min_max(numbers):\n",
    "    min_index = 0\n",
    "    max_index = 0\n",
    "    min_value = numbers[0]\n",
    "    max_value = numbers[0]\n",
    "    \n",
    "    for i in range(1, len(numbers)):\n",
    "        if numbers[i] < min_value:\n",
    "            min_value = numbers[i]\n",
    "            min_index = i\n",
    "        if numbers[i] > max_value:\n",
    "            max_value = numbers[i]\n",
    "            max_index = i\n",
    "    \n",
    "    # Convert to 1-based indexing\n",
    "    return min_index + 1, max_index + 1\n",
    "\n",
    "N = int(input())\n",
    "numbers = list(map(int, input().split()))\n",
    "\n",
    "if len(numbers) != N:\n",
    "    print(\"Error: The number of provided elements does not match the input size N.\")\n",
    "else:\n",
    "    min_index, max_index = find_indices_of_min_max(numbers)\n",
    "    print(min_index, max_index)"
   ]
  },
  {
   "cell_type": "markdown",
   "metadata": {},
   "source": [
    "### **193. Given 2 numbers N and K and followed by an array of N integers. The given element K is removed from the array and new array is printed. If after removing every occurance of K the array becomes empty, print 'empty' without quotes.**\n",
    "\n",
    "**Example:**\n",
    "\n",
    "Input: {10,10,20,30,76}, K=10\n",
    "\n",
    "Output: {20,20,76}\n",
    "\n",
    "Input Size : N <= 100000\n",
    "\n",
    "**Sample Testcase:**\n",
    "\n",
    "**INPUT**\n",
    "\n",
    "5 10\n",
    "\n",
    "10 10 20 30 76\n",
    "\n",
    "**OUTPUT**\n",
    "\n",
    "20 30 76"
   ]
  },
  {
   "cell_type": "code",
   "execution_count": 36,
   "metadata": {},
   "outputs": [
    {
     "name": "stdout",
     "output_type": "stream",
     "text": [
      "20 30 76\n"
     ]
    }
   ],
   "source": [
    "n, k = map(int, input().split())\n",
    "arr = list(map(int, input().split()))\n",
    "\n",
    "filtered_arr = [x for x in arr if x != k]\n",
    "if not filtered_arr:\n",
    "    print(\"empty\")\n",
    "else:\n",
    "    print(*filtered_arr)"
   ]
  },
  {
   "cell_type": "markdown",
   "metadata": {},
   "source": [
    "### **194. Given a number N, print all prime numbers less than N(in ascending order).**\n",
    "\n",
    "Input Size : 1 <= N <= 100000\n",
    "\n",
    "**Sample Testcase:**\n",
    "\n",
    "**INPUT**\n",
    "\n",
    "10\n",
    "\n",
    "**OUTPUT**\n",
    "\n",
    "2 3 5 7"
   ]
  },
  {
   "cell_type": "code",
   "execution_count": 38,
   "metadata": {},
   "outputs": [
    {
     "name": "stdout",
     "output_type": "stream",
     "text": [
      "2 3 5 7\n"
     ]
    }
   ],
   "source": [
    "def sieve_of_eratosthenes(N):\n",
    "    is_prime = [True] * N\n",
    "    is_prime[0] = is_prime[1] = False\n",
    "    \n",
    "    for i in range(2, int(N**0.5) + 1):\n",
    "        if is_prime[i]:\n",
    "            for j in range(i * i, N, i):\n",
    "                is_prime[j] = False\n",
    "    primes = [i for i in range(2, N) if is_prime[i]]\n",
    "    print(\" \".join(map(str, primes)))\n",
    "\n",
    "N = int(input().strip())\n",
    "sieve_of_eratosthenes(N)"
   ]
  },
  {
   "cell_type": "markdown",
   "metadata": {},
   "source": [
    "### **195. Given a number N. There will be N numbers given. Print the smallest number in the given list after each input(Hint use priority queue).**\n",
    "\n",
    "Input Size : N <= 100000\n",
    "\n",
    "**Sample Testcase:**\n",
    "\n",
    "**INPUT**\n",
    "\n",
    "4\n",
    "\n",
    "3 2 4 1\n",
    "\n",
    "**OUTPUT**\n",
    "\n",
    "3 2 2 1"
   ]
  },
  {
   "cell_type": "code",
   "execution_count": 39,
   "metadata": {},
   "outputs": [
    {
     "name": "stdout",
     "output_type": "stream",
     "text": [
      "3 2 2 1\n"
     ]
    }
   ],
   "source": [
    "import heapq\n",
    "\n",
    "def print_smallest_after_each_input(n, numbers):\n",
    "    min_heap = []\n",
    "    results = []\n",
    "    \n",
    "    for number in numbers:\n",
    "        heapq.heappush(min_heap, number)\n",
    "        results.append(min_heap[0])\n",
    "    \n",
    "    return results\n",
    "\n",
    "N = int(input())\n",
    "numbers = list(map(int, input().split()))\n",
    "\n",
    "result = print_smallest_after_each_input(N, numbers)\n",
    "print(' '.join(map(str, result)))"
   ]
  },
  {
   "cell_type": "markdown",
   "metadata": {},
   "source": [
    "### **196. Given a limit N followed by N numbers, find the number of pairs which satisfies the condition of ai < aj for all i < j.**\n",
    "\n",
    "Input Size : 1 <= N <= 100000\n",
    "\n",
    "**Sample Testcase:**\n",
    "\n",
    "**INPUT**\n",
    "\n",
    "5\n",
    "\n",
    "1 4 2 3 5\n",
    "\n",
    "**OUTPUT**\n",
    "\n",
    "8"
   ]
  },
  {
   "cell_type": "code",
   "execution_count": 40,
   "metadata": {},
   "outputs": [
    {
     "name": "stdout",
     "output_type": "stream",
     "text": [
      "8\n"
     ]
    }
   ],
   "source": [
    "class BIT:\n",
    "    def __init__(self, n):\n",
    "        self.n = n\n",
    "        self.bit = [0] * (n + 1)\n",
    "    \n",
    "    def update(self, idx, value):\n",
    "        while idx <= self.n:\n",
    "            self.bit[idx] += value\n",
    "            idx += idx & -idx\n",
    "    \n",
    "    def query(self, idx):\n",
    "        result = 0\n",
    "        while idx > 0:\n",
    "            result += self.bit[idx]\n",
    "            idx -= idx & -idx\n",
    "        return result\n",
    "\n",
    "def count_pairs(N, arr):\n",
    "    max_val = max(arr)\n",
    "    bit = BIT(max_val)  # Use the maximum value in the array for BIT size\n",
    "    count = 0\n",
    "    \n",
    "    # Traverse the array from left to right\n",
    "    for i in range(N):\n",
    "        # Query BIT to find how many numbers smaller than arr[i] are already seen\n",
    "        count += bit.query(arr[i] - 1)  # Count numbers smaller than arr[i]\n",
    "        \n",
    "        # Update the BIT with the current number arr[i]\n",
    "        bit.update(arr[i], 1)    \n",
    "    return count\n",
    "\n",
    "N = int(input())\n",
    "arr = list(map(int, input().split()))\n",
    "result = count_pairs(N, arr)\n",
    "print(result)"
   ]
  },
  {
   "cell_type": "markdown",
   "metadata": {},
   "source": [
    "### **197. Given two numbers N,K(N>=K) and an array of N elements, write a program to find the Kth largest element.**\n",
    "\n",
    "Input Size : 1 <= K <= N <= 100000\n",
    "\n",
    "**Sample Testcases:**\n",
    "\n",
    "**INPUT**\n",
    "\n",
    "6 2\n",
    "\n",
    "1 2 3 4 5 6\n",
    "\n",
    "**OUTPUT**\n",
    "\n",
    "5"
   ]
  },
  {
   "cell_type": "code",
   "execution_count": 41,
   "metadata": {},
   "outputs": [
    {
     "name": "stdout",
     "output_type": "stream",
     "text": [
      "5\n"
     ]
    }
   ],
   "source": [
    "def find_kth_largest(N, K, arr):\n",
    "    arr.sort(reverse=True)\n",
    "    return arr[K - 1]\n",
    "\n",
    "N, K = map(int, input().split())\n",
    "arr = list(map(int, input().split()))\n",
    "print(find_kth_largest(N, K, arr))"
   ]
  },
  {
   "cell_type": "markdown",
   "metadata": {},
   "source": [
    "### **198. Given 2 numbers N,K and N arrays each of size K, print the elements that have appeared in all arrays,if any element are not same print '-1'.**\n",
    "\n",
    "Input Size : 2 <= N, K <= 100000\n",
    "\n",
    "**Sample Testcases:**\n",
    "\n",
    "**INPUT**\n",
    "\n",
    "2 3\n",
    "\n",
    "1 0 2\n",
    "\n",
    "0 8 7\n",
    "\n",
    "**OUTPUT**\n",
    "\n",
    "0"
   ]
  },
  {
   "cell_type": "code",
   "execution_count": 42,
   "metadata": {},
   "outputs": [
    {
     "name": "stdout",
     "output_type": "stream",
     "text": [
      "0\n"
     ]
    }
   ],
   "source": [
    "def find_common_elements(N, K, arrays):\n",
    "    common_elements = set(arrays[0])\n",
    "    for i in range(1, N):\n",
    "        common_elements &= set(arrays[i])\n",
    "    if not common_elements:\n",
    "        print(-1)\n",
    "    else:\n",
    "        print(\" \".join(map(str, sorted(common_elements))))\n",
    "\n",
    "N, K = map(int, input().split())\n",
    "arrays = [list(map(int, input().split())) for _ in range(N)]\n",
    "find_common_elements(N, K, arrays)"
   ]
  },
  {
   "cell_type": "markdown",
   "metadata": {},
   "source": [
    "### **199. Given a string S convert each characters of the string into ASCII values and print the sum of the numbers.**\n",
    "\n",
    "Input Size : |s| <= 100000\n",
    "\n",
    "**Sample Testcase:**\n",
    "\n",
    "**INPUT**\n",
    "\n",
    "guvi\n",
    "\n",
    "**OUTPUT**\n",
    "\n",
    "443"
   ]
  },
  {
   "cell_type": "code",
   "execution_count": 43,
   "metadata": {},
   "outputs": [
    {
     "name": "stdout",
     "output_type": "stream",
     "text": [
      "443\n"
     ]
    }
   ],
   "source": [
    "s = input().strip()\n",
    "\n",
    "total_sum = 0\n",
    "for char in s:\n",
    "    total_sum += ord(char)\n",
    "print(total_sum)"
   ]
  },
  {
   "cell_type": "markdown",
   "metadata": {},
   "source": [
    "### **200. Given a number N, print the smallest number with sum of digits N.**\n",
    "\n",
    "Input Size : 1 <= N <= 100000\n",
    "\n",
    "**Sample Testcase:**\n",
    "\n",
    "**INPUT**\n",
    "\n",
    "12\n",
    "\n",
    "**OUTPUT**\n",
    "\n",
    "39"
   ]
  },
  {
   "cell_type": "code",
   "execution_count": 44,
   "metadata": {},
   "outputs": [
    {
     "name": "stdout",
     "output_type": "stream",
     "text": [
      "39\n"
     ]
    }
   ],
   "source": [
    "def smallest_number_with_sum(N):\n",
    "    digits = []\n",
    "    while N >= 9:\n",
    "        digits.append(9)\n",
    "        N -= 9\n",
    "\n",
    "    if N > 0:\n",
    "        digits.append(N)\n",
    "    \n",
    "    digits.reverse()\n",
    "    print(\"\".join(map(str, digits)))\n",
    "\n",
    "N = int(input().strip())\n",
    "smallest_number_with_sum(N)"
   ]
  },
  {
   "cell_type": "markdown",
   "metadata": {},
   "source": [
    "### **201. Given a limit N followed by N numbers, find the number of pairs such ai + aj = ak for all i < j < k.**\n",
    "\n",
    "Input Size : 3 <= N <= 1000\n",
    "\n",
    "**Sample Testcase:**\n",
    "\n",
    "**INPUT**\n",
    "\n",
    "5\n",
    "\n",
    "1 4 2 3 5\n",
    "\n",
    "**OUTPUT**\n",
    "\n",
    "3"
   ]
  },
  {
   "cell_type": "code",
   "execution_count": 45,
   "metadata": {},
   "outputs": [
    {
     "name": "stdout",
     "output_type": "stream",
     "text": [
      "3\n"
     ]
    }
   ],
   "source": [
    "def count_triplets(arr, N):\n",
    "    count = 0\n",
    "    \n",
    "    # We iterate over the array using j as the middle index\n",
    "    for j in range(1, N - 1):\n",
    "        # Create a set to store elements after j\n",
    "        elements_after_j = set(arr[j + 1:])\n",
    "        \n",
    "        # Check each pair (i, j) where i < j\n",
    "        for i in range(j):\n",
    "            target_sum = arr[i] + arr[j]\n",
    "            if target_sum in elements_after_j:\n",
    "                count += 1    \n",
    "    return count\n",
    "\n",
    "N = int(input())\n",
    "arr = list(map(int, input().split()))\n",
    "result = count_triplets(arr, N)\n",
    "print(result)"
   ]
  },
  {
   "cell_type": "markdown",
   "metadata": {},
   "source": [
    "### **202. You are given N integer arrays, find if the same array occurs more than once. Print YES if it does, NO otherwise. Two arrays A and B are same only if they are of equal size, say M, and for all 0 <= i <= M-1, A[i] = B[i].**\n",
    "\n",
    "**Input Description:**\n",
    "\n",
    "The first line contains a single integer N, denoting the number of arrays. From the second line, 2*N lines follow. The (2i - 1)th line contains an integer M denoting the number of integers in the array. The 2i th line contains M space separated integers denoting the elements of the array.\n",
    "\n",
    "**Output Description:**\n",
    "\n",
    "Print a single line YES or NO\n",
    "\n",
    "**Sample Input:**\n",
    "\n",
    "3\n",
    "\n",
    "5\n",
    "\n",
    "1 8 3 1 2\n",
    "\n",
    "1\n",
    "\n",
    "9\n",
    "\n",
    "1\n",
    "\n",
    "9\n",
    "\n",
    "**Sample Output:**\n",
    "\n",
    "YES"
   ]
  },
  {
   "cell_type": "code",
   "execution_count": 46,
   "metadata": {},
   "outputs": [
    {
     "name": "stdout",
     "output_type": "stream",
     "text": [
      "YES\n"
     ]
    }
   ],
   "source": [
    "N = int(input())\n",
    "seen = set()\n",
    "for i in range(N):\n",
    "    M = int(input())\n",
    "    array = tuple(map(int, input().split()))\n",
    "    if array in seen:\n",
    "        print(\"YES\")\n",
    "        break\n",
    "    else:\n",
    "        seen.add(array)\n",
    "else:\n",
    "    print(\"NO\")"
   ]
  },
  {
   "cell_type": "markdown",
   "metadata": {},
   "source": [
    "### **203. Given a number N print the right-angled triangle with the top level having N 1's followed by each level with is one 1 lesser.**\n",
    "\n",
    "Input Size : N <= 1000\n",
    "\n",
    "**Sample Testcase:**\n",
    "\n",
    "**INPUT**\n",
    "\n",
    "3\n",
    "\n",
    "**OUTPUT**\n",
    "\n",
    "1 1 1\n",
    "\n",
    "1 1\n",
    "\n",
    "1"
   ]
  },
  {
   "cell_type": "code",
   "execution_count": null,
   "metadata": {},
   "outputs": [
    {
     "name": "stdout",
     "output_type": "stream",
     "text": [
      "1 1 1\n",
      "1 1\n",
      "1\n"
     ]
    }
   ],
   "source": [
    "def print_triangle(N):\n",
    "    for i in range(N, 0, -1):\n",
    "        print(' '.join(['1'] * i))  # Print 'i' ones, separated by spaces\n",
    "\n",
    "N = int(input())\n",
    "print_triangle(N)"
   ]
  },
  {
   "cell_type": "markdown",
   "metadata": {},
   "source": [
    "### **204. Given a number N followed by N numbers. Keep the count of each number and print the maximum repeating number.**\n",
    "\n",
    "Input Size : N <= 100000\n",
    "\n",
    "**Sample Testcase:**\n",
    "\n",
    "**INPUT**\n",
    "\n",
    "5\n",
    "\n",
    "15 5 -20 -20 -45\n",
    "\n",
    "**OUTPUT**\n",
    "\n",
    "-20"
   ]
  },
  {
   "cell_type": "code",
   "execution_count": 48,
   "metadata": {},
   "outputs": [
    {
     "name": "stdout",
     "output_type": "stream",
     "text": [
      "-20\n"
     ]
    }
   ],
   "source": [
    "from collections import Counter\n",
    "\n",
    "def find_max_repeating_number(numbers):\n",
    "    # Count frequencies of each number in the list\n",
    "    frequency = Counter(numbers)\n",
    "    \n",
    "    # Find the number with the maximum frequency\n",
    "    max_count = max(frequency.values())\n",
    "    \n",
    "    # Find all numbers with this maximum frequency and return the smallest one\n",
    "    max_number = min(key for key, value in frequency.items() if value == max_count)    \n",
    "    return max_number\n",
    "\n",
    "N = int(input())\n",
    "numbers = list(map(int, input().split()))\n",
    "print(find_max_repeating_number(numbers))"
   ]
  },
  {
   "cell_type": "markdown",
   "metadata": {},
   "source": [
    "### **205. Varsha is a Machine learning scientist. She wants to apply a few ML algorithms on the dataset to do some research and for that, she wants to merge two given arrays and sort them in ascending order. You are an intern working under Varsha and she has asked for your help for the same. Given 2 arrays arr1[] and arr2[], find the union of both the arrays sorted in ascending order.**\n",
    "\n",
    "Note: Union of two arrays must have distinct elements.\n",
    "\n",
    "**Input Description:**\n",
    "\n",
    "Size of arr1[] followed by elements of arr1. Size of arr2[] followed by elements of arr2.\n",
    "\n",
    "**Output Description:**\n",
    "\n",
    "Union of arr1 and arr2 sorted in ascending order.\n",
    "\n",
    "**Sample Input:**\n",
    "\n",
    "2 \n",
    "\n",
    "87 78\n",
    "\n",
    "3\n",
    "\n",
    "1 2 3\n",
    "\n",
    "**Sample Output:**\n",
    "\n",
    "1 2 3 78 87"
   ]
  },
  {
   "cell_type": "code",
   "execution_count": 50,
   "metadata": {},
   "outputs": [
    {
     "name": "stdout",
     "output_type": "stream",
     "text": [
      "1 2 3 78 87\n"
     ]
    }
   ],
   "source": [
    "def union_and_sort(arr1, arr2):\n",
    "    # Create a set from both arrays to eliminate duplicates\n",
    "    union_set = set(arr1) | set(arr2)\n",
    "    \n",
    "    # Convert the set back to a sorted list\n",
    "    sorted_union = sorted(union_set)\n",
    "    return sorted_union\n",
    "\n",
    "size1 = int(input().strip())\n",
    "arr1 = list(map(int, input().strip().split()))\n",
    "size2 = int(input().strip())\n",
    "arr2 = list(map(int, input().strip().split()))\n",
    "result = union_and_sort(arr1, arr2)\n",
    "print(\" \".join(map(str, result)))"
   ]
  },
  {
   "cell_type": "markdown",
   "metadata": {},
   "source": [
    "### **206. Given a number N followed by an array of N integers, every element appears twice except for one. Find that single one and print it.**\n",
    "\n",
    "Input Size : N <= 100000\n",
    "\n",
    "**Sample Testcase:**\n",
    "\n",
    "**INPUT**\n",
    "\n",
    "5\n",
    "\n",
    "30 5 5 30 -45\n",
    "\n",
    "**OUTPUT**\n",
    "\n",
    "-45"
   ]
  },
  {
   "cell_type": "code",
   "execution_count": 1,
   "metadata": {},
   "outputs": [
    {
     "name": "stdout",
     "output_type": "stream",
     "text": [
      "-45\n"
     ]
    }
   ],
   "source": [
    "N = int(input())\n",
    "array = list(map(int, input().split()))\n",
    "\n",
    "result = 0\n",
    "for num in array:\n",
    "    result ^= num\n",
    "print(result)"
   ]
  },
  {
   "cell_type": "markdown",
   "metadata": {},
   "source": [
    "### **206. Tahir gets into an elevator. The elevator is programmed such that it moves up the number of floors mentioned at odd indexes of an array A[] and moves down the number of floors mentioned at even indexes of the array A[], in sequence. Sort the array such that when Tahir gets out of the elevator, he is at any floor other than the floor at which he got into the elevator. The index of the ground floor is 1 and assume that the building has 100 floors. The lift can move only up to the ground floor(i.e) floor indexes are positive integers.**\n",
    " \n",
    "**Input Description:**\n",
    "\n",
    "Size of array followed by floor number at which Tahir gets into the elevator. The second line contains the number of elements in the array.\n",
    "\n",
    "**Output Description:**\n",
    "\n",
    "Sorted array according to the problem specifications. If no such arrangement is possible output “not possible”\n",
    "\n",
    "**Sample Input:**\n",
    "\n",
    "5 8\n",
    "\n",
    "5 8 1 3 4\n",
    "\n",
    "**Sample Output:**\n",
    "\n",
    "1 3 4 5 8"
   ]
  },
  {
   "cell_type": "code",
   "execution_count": 3,
   "metadata": {},
   "outputs": [
    {
     "name": "stdout",
     "output_type": "stream",
     "text": [
      "1 3 4 5 8\n"
     ]
    }
   ],
   "source": [
    "def sort_elevator_array(size, start_floor, arr):\n",
    "    arr.sort()\n",
    "    \n",
    "    def calculate_final_floor(arr):\n",
    "        odd_sum = sum(arr[i] for i in range(size) if i % 2 == 0)\n",
    "        even_sum = sum(arr[i] for i in range(size) if i % 2 == 1)\n",
    "        return start_floor + odd_sum - even_sum\n",
    "\n",
    "    final_floor = calculate_final_floor(arr)\n",
    "    if 1 <= final_floor <= 100 and final_floor != start_floor:\n",
    "        return arr\n",
    "    return \"not possible\"\n",
    "\n",
    "size, start_floor = map(int, input().split())\n",
    "arr = list(map(int, input().split()))\n",
    "result = sort_elevator_array(size, start_floor, arr)\n",
    "if isinstance(result, list):\n",
    "    print(\" \".join(map(str, result)))\n",
    "else:\n",
    "    print(result)"
   ]
  },
  {
   "cell_type": "code",
   "execution_count": 2,
   "metadata": {},
   "outputs": [
    {
     "name": "stdout",
     "output_type": "stream",
     "text": [
      "1 3 4 5 8\n"
     ]
    }
   ],
   "source": [
    "def can_tahir_exit(start_floor, arr):\n",
    "    current_floor = start_floor\n",
    "    for i in range(len(arr)):\n",
    "        if i % 2 == 0:\n",
    "            current_floor -= arr[i]\n",
    "        else:\n",
    "            current_floor += arr[i]\n",
    "        current_floor = max(1, min(current_floor, 100))\n",
    "    return current_floor\n",
    "\n",
    "def find_sorted_arrangement(n, start_floor, arr):\n",
    "    arr.sort()\n",
    "    final_floor = can_tahir_exit(start_floor, arr)\n",
    "    if final_floor == start_floor:\n",
    "        print(\"not possible\")\n",
    "    else:\n",
    "        print(\" \".join(map(str, arr)))\n",
    "\n",
    "n, start_floor = map(int, input().split())\n",
    "arr = list(map(int, input().split()))\n",
    "find_sorted_arrangement(n, start_floor, arr)"
   ]
  },
  {
   "cell_type": "markdown",
   "metadata": {},
   "source": [
    "### **208. Ramesh is given a special series to print,as he has some other work to do.Help ramesh in printing the series.**\n",
    "\n",
    "Note:Observe the series very keenly in examples\n",
    "\n",
    "**Input Description:**\n",
    "\n",
    "You are given a number ‘n’.\n",
    "\n",
    "**Output Description:**\n",
    "\n",
    "Print the n term of series.\n",
    "\n",
    "**Sample Input:**\n",
    "\n",
    "6\n",
    "\n",
    "**Sample Output:**\n",
    "\n",
    "1 6 120"
   ]
  },
  {
   "cell_type": "code",
   "execution_count": 4,
   "metadata": {},
   "outputs": [
    {
     "name": "stdout",
     "output_type": "stream",
     "text": [
      "1 6 120\n"
     ]
    }
   ],
   "source": [
    "def factorial(n):\n",
    "    if n == 0 or n == 1:\n",
    "        return 1\n",
    "    else:\n",
    "        return n * factorial(n - 1)\n",
    "\n",
    "def print_series(n):\n",
    "    series = []\n",
    "    for i in range(1, n+1, 2):\n",
    "        series.append(str(factorial(i)))\n",
    "    print(\" \".join(series))\n",
    "\n",
    "n = int(input())\n",
    "print_series(n)"
   ]
  },
  {
   "cell_type": "markdown",
   "metadata": {},
   "source": [
    "### **209. Shriti was going through some cryptographic concept. She just got stuck at some place . She needs your help to sort out the situation. Your task is to help her in writing the decrypted string.**\n",
    "\n",
    "**Input Description:**\n",
    "\n",
    "The first line of the input consists of a Encrypted string input\n",
    "\n",
    "**Output Description:**\n",
    "\n",
    "Print the decrypted string, by analysing the logic behind the decryption using the sample input and output.\n",
    "\n",
    "**Sample Input:**\n",
    "\n",
    "3[b[2[aa]]]\n",
    "\n",
    "**Sample Output:**\n",
    "\n",
    "baaaabaaaabaaaa"
   ]
  },
  {
   "cell_type": "code",
   "execution_count": 7,
   "metadata": {},
   "outputs": [
    {
     "name": "stdout",
     "output_type": "stream",
     "text": [
      "baaaabaaaabaaaa\n"
     ]
    }
   ],
   "source": [
    "def decrypt_string_reversed(encrypted_str):\n",
    "    # Reverse the input string\n",
    "    reversed_input = encrypted_str[::-1]\n",
    "    \n",
    "    s = \"\"  # Decrypted string to build\n",
    "    \n",
    "    # Iterate through the reversed input\n",
    "    for char in reversed_input:\n",
    "        if char == \"]\" or char == \"[\":  # Skip brackets\n",
    "            continue\n",
    "        elif char.isalpha():  # If the character is a letter, add it to the result\n",
    "            s += char\n",
    "        elif char.isnumeric():  # If the character is a digit, repeat the current string\n",
    "            s *= int(char)\n",
    "    \n",
    "    # Reverse the string again to get the final result\n",
    "    s = s[::-1]\n",
    "    print(s)\n",
    "\n",
    "encrypted_str = input().strip()\n",
    "decrypt_string_reversed(encrypted_str)"
   ]
  },
  {
   "cell_type": "markdown",
   "metadata": {},
   "source": [
    "### **210. Given a number N followed by an array of N numbers. Another number D is given. Rotate the array D times and print the array.**\n",
    "\n",
    "Input Size : N <= 100000, D<=100000\n",
    "\n",
    "**Sample Testcase:**\n",
    "\n",
    "**INPUT**\n",
    "\n",
    "4 1\n",
    "\n",
    "3 2 4 1\n",
    "\n",
    "**OUTPUT**\n",
    "\n",
    "2 4 1 3"
   ]
  },
  {
   "cell_type": "code",
   "execution_count": 8,
   "metadata": {},
   "outputs": [
    {
     "name": "stdout",
     "output_type": "stream",
     "text": [
      "2 4 1 3\n"
     ]
    }
   ],
   "source": [
    "def rotate_array(N, D, arr):\n",
    "    D = D % N\n",
    "    rotated_arr = arr[D:] + arr[:D]\n",
    "    print(\" \".join(map(str, rotated_arr)))\n",
    "\n",
    "N, D = map(int, input().split())\n",
    "arr = list(map(int, input().split()))\n",
    "rotate_array(N, D, arr)"
   ]
  },
  {
   "cell_type": "markdown",
   "metadata": {},
   "source": [
    "### **211. Given a number N,print number of all possible valid expressions with N pairs of brackets(use this {}).For example({{{}}}.**\n",
    "\n",
    "{{}{}}\n",
    "\n",
    "{{}}{}\n",
    "\n",
    "{}{{}}\n",
    "\n",
    "{}{}{})3 brackets has 5 pairs.\n",
    "\n",
    "Input Size : 1 <= N <= 100000\n",
    "\n",
    "**Sample Testcases:**\n",
    "\n",
    "**INPUT**\n",
    "\n",
    "2\n",
    "\n",
    "**OUTPUT**\n",
    "\n",
    "2"
   ]
  },
  {
   "cell_type": "code",
   "execution_count": 9,
   "metadata": {},
   "outputs": [
    {
     "name": "stdout",
     "output_type": "stream",
     "text": [
      "2\n"
     ]
    }
   ],
   "source": [
    "import math\n",
    "\n",
    "def catalan_number(N):\n",
    "    binom = math.comb(2 * N, N) # Compute the binomial coefficient\n",
    "    catalan = binom // (N + 1)  # Compute the Catalan number using the formula\n",
    "    return catalan\n",
    "\n",
    "N = int(input())\n",
    "output = catalan_number(N)\n",
    "print(output)"
   ]
  },
  {
   "cell_type": "markdown",
   "metadata": {},
   "source": [
    "### **212. Given a number N, find the smallest number which is greater than N with the same digits in N. If N is the greatest digit print 'impossible'.**\n",
    "\n",
    "Input Size : 1 <= N <= 1000000000000000000\n",
    "\n",
    "**Sample Testcases:**\n",
    "\n",
    "**INPUT**\n",
    "\n",
    "123\n",
    "\n",
    "**OUTPUT**\n",
    "\n",
    "132"
   ]
  },
  {
   "cell_type": "code",
   "execution_count": 10,
   "metadata": {},
   "outputs": [
    {
     "name": "stdout",
     "output_type": "stream",
     "text": [
      "132\n"
     ]
    }
   ],
   "source": [
    "def next_greater_number(n):\n",
    "    digits = list(str(n))\n",
    "    length = len(digits)\n",
    "    \n",
    "    i = length - 2\n",
    "    while i >= 0 and digits[i] >= digits[i + 1]:\n",
    "        i -= 1\n",
    "    if i == -1:\n",
    "        return \"impossible\"\n",
    "    j = length - 1\n",
    "    while digits[j] <= digits[i]:\n",
    "        j -= 1\n",
    "    \n",
    "    digits[i], digits[j] = digits[j], digits[i]\n",
    "    digits = digits[:i + 1] + digits[i + 1:][::-1]\n",
    "    return int(\"\".join(digits))\n",
    "\n",
    "n = int(input().strip())\n",
    "print(next_greater_number(n))"
   ]
  },
  {
   "cell_type": "markdown",
   "metadata": {},
   "source": [
    "### **213. The interest rates of two banks A and B vary. You have received offers from both bank in terms of annual rate of interest, tenure and variations of rate of interest over the entire tenure.**\n",
    "\n",
    "You have to choose the offer which costs you least interest and reject the other.\n",
    "\n",
    "The loan repayment happens at a monthly frequency and Equated Monthly Installment (EMI) is calculated using the formula given below :\n",
    "\n",
    "EMI = loanAmount * monthlyInterestRate /\n",
    "\n",
    "( 1 - 1 / (1 + monthlyInterestRate)^(numberOfYears * 12))\n",
    "\n",
    "**Input Description:**\n",
    "\n",
    "First line : P – principal amount (Loan Amount) Second line : T – Total Tenure (in years). Third Line : N1 is number of slabs of interest rates for a given period T by Bank A. First slab starts from first year and second slab starts from end of first slab and so on. Next, there will be N1 lines of input containing interest rate and their period seperated by a single space. After N1 lines, we will receive N2 which will be the number of slabs offered by Bank B. Next N2 lines are number of slabs of interest rates for a given period by Bank B. First slab starts from first year and second slab starts from end of first slab and so on. The period and rate will be delimited by single white space.\n",
    "\n",
    "**Output Description:**\n",
    "\n",
    "Print 'Bank A' or 'Bank B' based on the factor which cost you the least interest amount.\n",
    "\n",
    "**Sample Input:**\n",
    "\n",
    "10000\n",
    "\n",
    "20\n",
    "\n",
    "3\n",
    "\n",
    "5 9.5\n",
    "\n",
    "10 9.6\n",
    "\n",
    "5 8.5\n",
    "\n",
    "3\n",
    "\n",
    "10 6.9\n",
    "\n",
    "5 8.5\n",
    "\n",
    "5 7.9\n",
    "\n",
    "**Sample Output:**\n",
    "\n",
    "Bank B"
   ]
  },
  {
   "cell_type": "code",
   "execution_count": null,
   "metadata": {},
   "outputs": [
    {
     "name": "stdout",
     "output_type": "stream",
     "text": [
      "Bank B\n"
     ]
    }
   ],
   "source": [
    "def calculate_emi(principal, rate, years):\n",
    "    monthly_rate = rate / (12 * 100)  # Convert annual rate to monthly rate\n",
    "    months = years * 12\n",
    "    emi = principal * monthly_rate / (1 - (1 / (1 + monthly_rate)**months))\n",
    "    return emi\n",
    "\n",
    "def total_cost(principal, slabs):\n",
    "    total_cost = 0\n",
    "    for years, rate in slabs:\n",
    "        emi = calculate_emi(principal, rate, years)\n",
    "        total_cost += emi * 12 * years  # Total cost for this slab\n",
    "    return total_cost\n",
    "\n",
    "principal = int(input())  # Loan amount\n",
    "tenure = int(input())  # Total tenure in years\n",
    "\n",
    "# Bank A details\n",
    "n1 = int(input())  # Number of slabs for Bank A\n",
    "bank_a_slabs = []\n",
    "for _ in range(n1):\n",
    "    period, rate = map(float, input().split())\n",
    "    bank_a_slabs.append((int(period), rate))\n",
    "\n",
    "# Bank B details\n",
    "n2 = int(input())  # Number of slabs for Bank B\n",
    "bank_b_slabs = []\n",
    "for _ in range(n2):\n",
    "    period, rate = map(float, input().split())\n",
    "    bank_b_slabs.append((int(period), rate))\n",
    "\n",
    "# Calculate total costs for both banks\n",
    "total_cost_a = total_cost(principal, bank_a_slabs)\n",
    "total_cost_b = total_cost(principal, bank_b_slabs)\n",
    "if total_cost_a < total_cost_b:\n",
    "    print(\"Bank A\")\n",
    "else:\n",
    "    print(\"Bank B\")"
   ]
  },
  {
   "cell_type": "markdown",
   "metadata": {},
   "source": [
    "### **214. Given 2 numbers N and K, print the number of ways of taking k elements from the first n elements.**\n",
    "\n",
    "Input Size : 1 <= N <= K <= 100000\n",
    "\n",
    "**Sample Testcases:**\n",
    "\n",
    "**INPUT**\n",
    "\n",
    "2 2\n",
    "\n",
    "**OUTPUT**\n",
    "\n",
    "2"
   ]
  },
  {
   "cell_type": "code",
   "execution_count": 16,
   "metadata": {},
   "outputs": [
    {
     "name": "stdout",
     "output_type": "stream",
     "text": [
      "1\n"
     ]
    }
   ],
   "source": [
    "MOD = 10**9 + 7\n",
    "\n",
    "def precompute_factorials(max_n, mod):\n",
    "    # Precompute factorials and inverse factorials up to max_n\n",
    "    fact = [1] * (max_n + 1)\n",
    "    inv_fact = [1] * (max_n + 1)\n",
    "    \n",
    "    # Compute all factorials % mod\n",
    "    for i in range(2, max_n + 1):\n",
    "        fact[i] = fact[i - 1] * i % mod\n",
    "    \n",
    "    # Compute inverse factorial of max_n using Fermat's little theorem\n",
    "    inv_fact[max_n] = pow(fact[max_n], mod - 2, mod)\n",
    "    \n",
    "    # Compute all inverse factorials % mod (using the property inv_fact[i] = inv_fact[i + 1] * (i + 1) % mod)\n",
    "    for i in range(max_n - 1, 0, -1):\n",
    "        inv_fact[i] = inv_fact[i + 1] * (i + 1) % mod\n",
    "    return fact, inv_fact\n",
    "\n",
    "def combination(n, k, fact, inv_fact, mod):\n",
    "    if k < 0 or k > n:\n",
    "        return 0\n",
    "    return fact[n] * inv_fact[k] % mod * inv_fact[n - k] % mod\n",
    "\n",
    "n, k = map(int, input().split())\n",
    "fact, inv_fact = precompute_factorials(n, MOD)\n",
    "print(combination(n, k, fact, inv_fact, MOD))"
   ]
  },
  {
   "cell_type": "markdown",
   "metadata": {},
   "source": [
    "### **215. Given a string S of length N, find whether the given string is a palindrome using stack or linked list and print 'yes' otherwise print 'no'.**\n",
    "\n",
    "Input Size : 1 <= N <= 100000\n",
    "\n",
    "**Sample Testcases:**\n",
    "\n",
    "**INPUT**\n",
    "\n",
    "GuviGeek\n",
    "\n",
    "**OUTPUT**\n",
    "\n",
    "no"
   ]
  },
  {
   "cell_type": "code",
   "execution_count": 14,
   "metadata": {},
   "outputs": [
    {
     "name": "stdout",
     "output_type": "stream",
     "text": [
      "no\n"
     ]
    }
   ],
   "source": [
    "def is_palindrome(s):\n",
    "    stack = []\n",
    "    length = len(s)\n",
    "    mid = length // 2\n",
    "    \n",
    "    # Push the first half of characters onto the stack\n",
    "    for i in range(mid):\n",
    "        stack.append(s[i])\n",
    "    \n",
    "    # Compare with the second half of characters\n",
    "    start = mid if length % 2 == 0 else mid + 1\n",
    "    for i in range(start, length):\n",
    "        if stack.pop() != s[i]:\n",
    "            return \"no\"\n",
    "    \n",
    "    return \"yes\"\n",
    "\n",
    "s = input()\n",
    "output = is_palindrome(s)\n",
    "print(output)"
   ]
  },
  {
   "cell_type": "markdown",
   "metadata": {},
   "source": [
    "### **216. Given a number N an array of N numbers.The task is to find all the star and super star elements in the array an print in a seperate line.Star are those elements which are strictly greater than all the elements on its right side. Super star are those elements which are strictly greater than all the elements on its left and right side.Assume first element (A[0]) is greater than all the elements on its left side, And last element (A[n-1]) is greater than all the elements on its right side.**\n",
    "\n",
    "Input Size : 1 <= N <= 100000\n",
    "\n",
    "**Sample Testcases:**\n",
    "\n",
    "**INPUT**\n",
    "\n",
    "6\n",
    "\n",
    "4 2 5 7 2 1\n",
    "\n",
    "**OUTPUT**\n",
    "\n",
    "7 2 1\n",
    "\n",
    "7"
   ]
  },
  {
   "cell_type": "code",
   "execution_count": 15,
   "metadata": {},
   "outputs": [
    {
     "name": "stdout",
     "output_type": "stream",
     "text": [
      "7 2 1\n",
      "7\n"
     ]
    }
   ],
   "source": [
    "def find_star_and_superstar_elements(arr):\n",
    "    n = len(arr)\n",
    "    star_elements = []  # List to store star elements\n",
    "    \n",
    "    # Find star elements (greater than all elements on its right)\n",
    "    max_from_right = -float('inf')  # Initialize with a very small value\n",
    "    for i in range(n - 1, -1, -1):  # Traverse from right to left\n",
    "        if arr[i] > max_from_right:\n",
    "            star_elements.append(arr[i])\n",
    "            max_from_right = arr[i]\n",
    "    \n",
    "    # The star elements are collected in reverse order, so reverse them\n",
    "    star_elements.reverse()\n",
    "    \n",
    "    # Find super star elements\n",
    "    super_star_elements = []\n",
    "    \n",
    "    left_max = -float('inf')  # Initialize left max\n",
    "    right_max = [0] * n       # Array to store the right max for each element\n",
    "    \n",
    "    # Traverse from right to left to fill the right_max array\n",
    "    max_from_right = -float('inf')\n",
    "    for i in range(n - 1, -1, -1):\n",
    "        right_max[i] = max_from_right\n",
    "        max_from_right = max(max_from_right, arr[i])\n",
    "    \n",
    "    # Now check for super star elements\n",
    "    for i in range(n):\n",
    "        if arr[i] > left_max and arr[i] > right_max[i]:\n",
    "            super_star_elements.append(arr[i])\n",
    "        \n",
    "        # Update the left max as we go\n",
    "        left_max = max(left_max, arr[i])\n",
    "\n",
    "    print(\" \".join(map(str, star_elements)))\n",
    "    print(\" \".join(map(str, super_star_elements)))\n",
    "\n",
    "n = int(input())\n",
    "arr = list(map(int, input().split()))\n",
    "find_star_and_superstar_elements(arr)"
   ]
  },
  {
   "cell_type": "markdown",
   "metadata": {},
   "source": [
    "### **217. Given a number N followed by N numbers. All the numbers in the given input appear twice except for one number(ie one number appears only once in the given input). Find the number which appears only once.**\n",
    "\n",
    "Input Size : 1 <= N <= 100000\n",
    "\n",
    "**Sample Testcases:**\n",
    "\n",
    "**INPUT**\n",
    "\n",
    "5\n",
    "\n",
    "1 2 1 3 2\n",
    "\n",
    "**OUTPUT**\n",
    "\n",
    "3"
   ]
  },
  {
   "cell_type": "code",
   "execution_count": 18,
   "metadata": {},
   "outputs": [
    {
     "name": "stdout",
     "output_type": "stream",
     "text": [
      "3\n"
     ]
    }
   ],
   "source": [
    "def find_single_number(N, arr):\n",
    "    result = 0\n",
    "    for num in arr:\n",
    "        result ^= num\n",
    "    return result\n",
    "\n",
    "N = int(input())\n",
    "arr = list(map(int, input().split()))\n",
    "print(find_single_number(N, arr))"
   ]
  },
  {
   "cell_type": "markdown",
   "metadata": {},
   "source": [
    "### **218. Given a number N- (number of nodes) followed by N numbers. Construct a BST with the inputs in the same order. Now 2 numbers U and V are given. Find the LCA( Lowest Common Anscestor) of U and V.**\n",
    "\n",
    "Input Size : 1 <= N <= 10000\n",
    "\n",
    "**Sample Testcases:**\n",
    "\n",
    "**INPUT**\n",
    "\n",
    "5\n",
    "\n",
    "1 2 3 4 5\n",
    "\n",
    "4 5\n",
    "\n",
    "**OUTPUT**\n",
    "\n",
    "4"
   ]
  },
  {
   "cell_type": "code",
   "execution_count": 19,
   "metadata": {},
   "outputs": [
    {
     "name": "stdout",
     "output_type": "stream",
     "text": [
      "4\n"
     ]
    }
   ],
   "source": [
    "class TreeNode:\n",
    "    def __init__(self, value):\n",
    "        self.value = value\n",
    "        self.left = None\n",
    "        self.right = None\n",
    "\n",
    "# Insert a node into the BST\n",
    "def insert_bst(root, value):\n",
    "    if not root:\n",
    "        return TreeNode(value)\n",
    "    if value < root.value:\n",
    "        root.left = insert_bst(root.left, value)\n",
    "    else:\n",
    "        root.right = insert_bst(root.right, value)\n",
    "    return root\n",
    "\n",
    "# Find the LCA iteratively\n",
    "def find_lca(root, u, v):\n",
    "    while root:\n",
    "        if u < root.value and v < root.value:\n",
    "            root = root.left\n",
    "        elif u > root.value and v > root.value:\n",
    "            root = root.right\n",
    "        else:\n",
    "            return root.value\n",
    "    return -1\n",
    "\n",
    "n = int(input())\n",
    "nodes = list(map(int, input().split()))\n",
    "u, v = map(int, input().split())\n",
    "\n",
    "root = None\n",
    "for value in nodes:\n",
    "    root = insert_bst(root, value)\n",
    "print(find_lca(root, u, v))"
   ]
  },
  {
   "cell_type": "markdown",
   "metadata": {},
   "source": [
    "### **219. Given an array of N elements, find the elements A[i], A[j] and A[k] in the array such that A[i]+A[j]=A[k] and i < j < k . Print number of possibilities.**\n",
    "\n",
    "Input Size : 1 <= N <= 1000\n",
    "\n",
    "**Sample Testcases:**\n",
    "\n",
    "**INPUT**\n",
    "\n",
    "5\n",
    "\n",
    "1 2 3 4 5\n",
    "\n",
    "**OUTPUT**\n",
    "\n",
    "4"
   ]
  },
  {
   "cell_type": "code",
   "execution_count": 24,
   "metadata": {},
   "outputs": [
    {
     "name": "stdout",
     "output_type": "stream",
     "text": [
      "4\n"
     ]
    }
   ],
   "source": [
    "def count_triplets(N, A):\n",
    "    count = 0\n",
    "    for k in range(2, N):\n",
    "        seen = {}\n",
    "        for j in range(k - 1, 0, -1):\n",
    "            diff = A[k] - A[j]\n",
    "            if diff in seen:\n",
    "                count += seen[diff]\n",
    "            if A[j] in seen:\n",
    "                seen[A[j]] += k\n",
    "            else:\n",
    "                seen[A[j]] = k\n",
    "    return count\n",
    "\n",
    "N = int(input())\n",
    "A = list(map(int, input().split()))\n",
    "print(count_triplets(N, A))"
   ]
  },
  {
   "cell_type": "markdown",
   "metadata": {},
   "source": [
    "### **220. Given a number N followed by N numbers. Out of these N numbers some of them are repeated. Write a program to find the first number which is repeated. If no numbers are repeated print 'unique'.**\n",
    "\n",
    "Input Size : 1 <= N <= 100000\n",
    "\n",
    "**Sample Testcases:**\n",
    "\n",
    "**INPUT**\n",
    "\n",
    "7\n",
    "\n",
    "1 2 3 2 3 4 3\n",
    "\n",
    "**OUTPUT**\n",
    "\n",
    "2"
   ]
  },
  {
   "cell_type": "code",
   "execution_count": 25,
   "metadata": {},
   "outputs": [
    {
     "name": "stdout",
     "output_type": "stream",
     "text": [
      "2\n"
     ]
    }
   ],
   "source": [
    "def find_first_repeated_number(n, nums):\n",
    "    seen = set()\n",
    "    for num in nums:\n",
    "        if num in seen:\n",
    "            return num\n",
    "        seen.add(num)\n",
    "    return \"unique\"\n",
    "\n",
    "N = int(input())\n",
    "nums = list(map(int, input().split()))\n",
    "print(find_first_repeated_number(N, nums))"
   ]
  },
  {
   "cell_type": "markdown",
   "metadata": {},
   "source": [
    "### **221. This problem is also called minimum absolute sum pair. You are given a number N followed by an array of N numbers, containing both +ve and -ve numbers. You need to print the two elements such that their sum is closest to zero.**\n",
    "\n",
    "Input Size : N <= 100000\n",
    "\n",
    "**Sample Testcase:**\n",
    "\n",
    "**INPUT**\n",
    "\n",
    "5\n",
    "\n",
    "15 5 -20 30 -45\n",
    "\n",
    "**OUTPUT**\n",
    "\n",
    "15 -20"
   ]
  },
  {
   "cell_type": "code",
   "execution_count": null,
   "metadata": {},
   "outputs": [
    {
     "name": "stdout",
     "output_type": "stream",
     "text": [
      "15 -20\n"
     ]
    }
   ],
   "source": [
    "def find_minimum_sum_pair(arr, n):\n",
    "    arr.sort()\n",
    "    left = 0\n",
    "    right = n - 1\n",
    "    closest_sum = float('inf')\n",
    "    result = (0, 0)\n",
    "    \n",
    "    # Use two-pointer technique\n",
    "    while left < right:\n",
    "        current_sum = arr[left] + arr[right]\n",
    "        \n",
    "        # Check if the current pair is closer to zero\n",
    "        if abs(current_sum) < abs(closest_sum):\n",
    "            closest_sum = current_sum\n",
    "            result = (arr[left], arr[right])\n",
    "        \n",
    "        # Move the pointers based on the current sum\n",
    "        if current_sum < 0:\n",
    "            left += 1  # Increase sum by moving left pointer to the right\n",
    "        elif current_sum > 0:\n",
    "            right -= 1  # Decrease sum by moving right pointer to the left\n",
    "        else:\n",
    "            break    \n",
    "    return result\n",
    "\n",
    "n = int(input())\n",
    "arr = list(map(int, input().split()))\n",
    "pair = find_minimum_sum_pair(arr, n)    # Find the pair with minimum absolute sum\n",
    "print(pair[1], pair[0])"
   ]
  },
  {
   "cell_type": "markdown",
   "metadata": {},
   "source": [
    "### **222. There are n stairs, a person standing at the bottom wants to reach the top. The person can climb either 1 stair or 2 stairs at a time. Given a number N Count the number of ways, the person can reach the top.**\n",
    "\n",
    "Input Size : N <= 100\n",
    "\n",
    "**Sample Testcase:**\n",
    "\n",
    "**INPUT**\n",
    "\n",
    "3\n",
    "\n",
    "**OUTPUT**\n",
    "\n",
    "3"
   ]
  },
  {
   "cell_type": "code",
   "execution_count": null,
   "metadata": {},
   "outputs": [
    {
     "name": "stdout",
     "output_type": "stream",
     "text": [
      "3\n"
     ]
    }
   ],
   "source": [
    "def count_ways_to_reach_top(N):\n",
    "    if N == 0 or N == 1:    # If there is only one way (either no step or one step)\n",
    "        return 1\n",
    "    \n",
    "    # dp[i] will store the number of ways to reach i-th stair\n",
    "    dp = [0] * (N + 1)\n",
    "    dp[0] = 1  # 1 way to be at the ground (do nothing)\n",
    "    dp[1] = 1  # 1 way to reach the first stair (one 1-step)\n",
    "    \n",
    "    # Fill the dp array for stairs from 2 to N\n",
    "    for i in range(2, N + 1):\n",
    "        dp[i] = dp[i - 1] + dp[i - 2]\n",
    "    return dp[N]\n",
    "\n",
    "N = int(input())\n",
    "print(count_ways_to_reach_top(N))"
   ]
  },
  {
   "cell_type": "markdown",
   "metadata": {},
   "source": [
    "### **223. You are given with an array. Your task is to print the left rotated array after k opearations.**\n",
    "\n",
    "Time: O(n)\n",
    "\n",
    "Extra Space: O(1)\n",
    "\n",
    "**Input Description:**\n",
    "\n",
    "First line contains two number ‘n’ and ‘k’.Next line contains n space separated numbers.\n",
    "\n",
    "**Output Description:**\n",
    "\n",
    "Print the array as mentioned.\n",
    "\n",
    "**Sample Input:**\n",
    "\n",
    "7 3\n",
    "\n",
    "1 2 3 4 5 6 7\n",
    "\n",
    "**Sample Output:**\n",
    "\n",
    "4 5 6 7 1 2 3"
   ]
  },
  {
   "cell_type": "code",
   "execution_count": 29,
   "metadata": {},
   "outputs": [
    {
     "name": "stdout",
     "output_type": "stream",
     "text": [
      "4 5 6 7 1 2 3\n"
     ]
    }
   ],
   "source": [
    "def left_rotate_array(n, k, arr):\n",
    "    k = k % n\n",
    "    rotated_array = arr[k:] + arr[:k]\n",
    "    print(\" \".join(map(str, rotated_array)))\n",
    "\n",
    "n, k = map(int, input().split())\n",
    "arr = list(map(int, input().split()))\n",
    "left_rotate_array(n, k, arr)"
   ]
  },
  {
   "cell_type": "markdown",
   "metadata": {},
   "source": [
    "### **224. You are given a number N and followed by an array of N numbers and followed by two elements U and V, find the minimum distance between the elements in the array. The array may have duplicates.**\n",
    "\n",
    "For example, if the array is (1, 5, 3, 7, 2, 8, 3, 4, 5, 9, 9, 3, 1, 3, 2, 9)\n",
    "\n",
    "Min Distance (U=4, V= 7): 4\n",
    "\n",
    "Input Size : N <= 100000\n",
    "\n",
    "**Sample Testcase:**\n",
    "\n",
    "**INPUT**\n",
    "\n",
    "16\n",
    "\n",
    "1 5 3 7 2 8 3 4 5 9 9 3 1 3 2 9\n",
    "\n",
    "4 7\n",
    "\n",
    "**OUTPUT**\n",
    "\n",
    "4"
   ]
  },
  {
   "cell_type": "code",
   "execution_count": 30,
   "metadata": {},
   "outputs": [
    {
     "name": "stdout",
     "output_type": "stream",
     "text": [
      "4\n"
     ]
    }
   ],
   "source": [
    "def min_distance(N, arr, U, V):\n",
    "    last_u = -1\n",
    "    last_v = -1\n",
    "    min_dist = float('inf')\n",
    "    \n",
    "    for i in range(N):\n",
    "        if arr[i] == U:\n",
    "            last_u = i\n",
    "            if last_v != -1:\n",
    "                min_dist = min(min_dist, abs(last_u - last_v))\n",
    "        \n",
    "        if arr[i] == V:\n",
    "            last_v = i\n",
    "            if last_u != -1:\n",
    "                min_dist = min(min_dist, abs(last_u - last_v))    \n",
    "    return min_dist if min_dist != float('inf') else -1\n",
    "\n",
    "N = int(input())\n",
    "arr = list(map(int, input().split()))\n",
    "U, V = map(int, input().split())\n",
    "print(min_distance(N, arr, U, V))"
   ]
  },
  {
   "cell_type": "markdown",
   "metadata": {},
   "source": [
    "### **225. Rohit wants to intern at Guvi Geek Network.To get the internship, he has to go through a test in form of gaming process. There are N candidates applying for the internship including Rohit and only one will be selected.**\n",
    "\n",
    "Since he wants to qualify he asks you to help him. The test is as follows.\n",
    "\n",
    "The candidates are asked to stand in a line at positions 1 to N and given a number K. Now, every Kth candidate remains and the rest are eliminated. This is repeated until the number of candidates are less than K.\n",
    "\n",
    "Out of the remaining candidates, the one standing at smallest position is selected. You need to tell Rohit at which position he must stand so that he will get selected.\n",
    "\n",
    "**Constraints:**\n",
    "\n",
    "1 <= N <= 10^5\n",
    "\n",
    "2 <= K <= 10\n",
    "\n",
    "**Input Description:**\n",
    "\n",
    "Input contains 2 space-separated integers N, denoting number of candidates and K.\n",
    "\n",
    "**Output Description:**\n",
    "\n",
    "For each test case, print the required position in a new line.\n",
    "\n",
    "**Sample Input:**\n",
    "\n",
    "3\n",
    "\n",
    "30 3\n",
    "\n",
    "18 3\n",
    "\n",
    "5 2\n",
    "\n",
    "**Sample Output:**\n",
    "\n",
    "27\n",
    "\n",
    "9\n",
    "\n",
    "4"
   ]
  },
  {
   "cell_type": "code",
   "execution_count": 31,
   "metadata": {},
   "outputs": [
    {
     "name": "stdout",
     "output_type": "stream",
     "text": [
      "27\n",
      "9\n",
      "4\n"
     ]
    }
   ],
   "source": [
    "import math\n",
    "\n",
    "t = int(input())            \n",
    "for _ in range(t):\n",
    "    n, k = map(int, input().split())\n",
    "    x = math.floor(math.log(n) / math.log(k))\n",
    "    result = int(math.pow(k, x))\n",
    "    print(result)"
   ]
  },
  {
   "cell_type": "markdown",
   "metadata": {},
   "source": [
    "### **226. There is one meeting room in Flipkart. There are n meetings in the form of (S [ i ], F [ i ]) where S [ i ] is start time of meeting i and F [ i ] is finish time of meeting i Given a number N followed by 2 arrays S and F of sizes N and N, What is the maximum number of meetings that can be accommodated in the meeting room assuming the room can only accommodate one meeting at a time.**\n",
    "\n",
    "Input Size : 1 <= N <= 100000\n",
    "\n",
    "**Sample Testcases:**\n",
    "\n",
    "**INPUT**\n",
    "\n",
    "3\n",
    "\n",
    "10 12 30\n",
    "\n",
    "20 25 30\n",
    "\n",
    "**OUTPUT**\n",
    "\n",
    "2"
   ]
  },
  {
   "cell_type": "code",
   "execution_count": 32,
   "metadata": {},
   "outputs": [
    {
     "name": "stdout",
     "output_type": "stream",
     "text": [
      "2\n"
     ]
    }
   ],
   "source": [
    "def max_meetings(N, S, F):\n",
    "    meetings = [(S[i], F[i]) for i in range(N)]\n",
    "    meetings.sort(key=lambda x: x[1])\n",
    "    count = 1\n",
    "    last_finish_time = meetings[0][1]\n",
    "    \n",
    "    for i in range(1, N):\n",
    "        if meetings[i][0] >= last_finish_time:\n",
    "            count += 1\n",
    "            last_finish_time = meetings[i][1]  \n",
    "    return count\n",
    "\n",
    "N = int(input())\n",
    "S = list(map(int, input().split()))\n",
    "F = list(map(int, input().split()))\n",
    "print(max_meetings(N, S, F))"
   ]
  },
  {
   "cell_type": "markdown",
   "metadata": {},
   "source": [
    "### **227. Given a string S of length N, print all permutations of the string in a separate line.**\n",
    "\n",
    "Input Size : 1 <= N <= 100000\n",
    "\n",
    "**Sample Testcases:**\n",
    "\n",
    "**INPUT**\n",
    "\n",
    "123\n",
    "\n",
    "**OUTPUT**\n",
    "\n",
    "123\n",
    "\n",
    "231\n",
    "\n",
    "321\n",
    "\n",
    "213\n",
    "\n",
    "312\n",
    "\n",
    "132"
   ]
  },
  {
   "cell_type": "code",
   "execution_count": 33,
   "metadata": {},
   "outputs": [
    {
     "name": "stdout",
     "output_type": "stream",
     "text": [
      "123\n",
      "132\n",
      "213\n",
      "231\n",
      "312\n",
      "321\n"
     ]
    }
   ],
   "source": [
    "import itertools\n",
    "\n",
    "def print_permutations(s):\n",
    "    permutations = itertools.permutations(s)\n",
    "    for perm in permutations:\n",
    "        print(''.join(perm))\n",
    "\n",
    "s = input()\n",
    "print_permutations(s)"
   ]
  },
  {
   "cell_type": "markdown",
   "metadata": {},
   "source": [
    "### **228. Given a number N and an array of N elements, a selection algorithm is implemented on this array where numbers at even position would be chosen, the algorithm is again and again implemented on the newly chosen array until only 1 element is remaining. Print the original position(index) of this element in the initial array.**\n",
    "\n",
    "Input Size : 1 <= N <= 100000\n",
    "\n",
    "**Sample Testcases:**\n",
    "\n",
    "**INPUT**\n",
    "\n",
    "6\n",
    "\n",
    "1 2 3 4 5 6\n",
    "\n",
    "**OUTPUT**\n",
    "\n",
    "3"
   ]
  },
  {
   "cell_type": "code",
   "execution_count": 34,
   "metadata": {},
   "outputs": [
    {
     "name": "stdout",
     "output_type": "stream",
     "text": [
      "3\n"
     ]
    }
   ],
   "source": [
    "def find_final_index(N):\n",
    "    indices = list(range(N))\n",
    "    while len(indices) > 1:\n",
    "        indices = indices[1::2]\n",
    "    return indices[0]\n",
    "\n",
    "N = int(input())\n",
    "arr = list(map(int, input().split()))\n",
    "print(find_final_index(N))"
   ]
  },
  {
   "cell_type": "markdown",
   "metadata": {},
   "source": [
    "### **229. Given an amount A(integer) find the number of currency notes required to make the amount up in the most optimal way. The available denominations are 1000,500,100,50,10,1. The question is set in PRE-DEMONITISATION era so 1000 rupee notes are available :)**\n",
    "\n",
    "eg: rs 689 (* currency notes are 500,100,50,10,1 )\n",
    "\n",
    "500+100+50+(3*10)+(9*1)\n",
    "\n",
    "count=15\n",
    "\n",
    "Input Size : N <= 100000000\n",
    "\n",
    "**Sample Testcase:**\n",
    "\n",
    "**INPUT**\n",
    "\n",
    "689\n",
    "\n",
    "**OUTPUT**\n",
    "\n",
    "15"
   ]
  },
  {
   "cell_type": "code",
   "execution_count": 35,
   "metadata": {},
   "outputs": [
    {
     "name": "stdout",
     "output_type": "stream",
     "text": [
      "15\n"
     ]
    }
   ],
   "source": [
    "def count_currency_notes(amount):\n",
    "    denominations = [1000, 500, 100, 50, 10, 1]\n",
    "    count = 0\n",
    "    \n",
    "    for denom in denominations:\n",
    "        count += amount // denom\n",
    "        amount %= denom\n",
    "    return count\n",
    "\n",
    "amount = int(input())\n",
    "print(count_currency_notes(amount))"
   ]
  },
  {
   "cell_type": "markdown",
   "metadata": {},
   "source": [
    "### **230. Find the count k by which array has been rotated in the rotated sorted array. Given a number N followed 2 arrays A and B of length N. Find the amount K by which the array has been rotated.**\n",
    "\n",
    "Input Size : N <= 100000\n",
    "\n",
    "**Sample Testcase:**\n",
    "\n",
    "**INPUT**\n",
    "\n",
    "4\n",
    "\n",
    "4 3 2 5\n",
    "\n",
    "3 2 5 4\n",
    "\n",
    "**OUTPUT**\n",
    "\n",
    "1"
   ]
  },
  {
   "cell_type": "code",
   "execution_count": null,
   "metadata": {},
   "outputs": [
    {
     "name": "stdout",
     "output_type": "stream",
     "text": [
      "1\n"
     ]
    }
   ],
   "source": [
    "def find_rotation_count(N, A, B):\n",
    "    # Find the index of the smallest element in B\n",
    "    min_element = min(B)\n",
    "    return B.index(min_element)\n",
    "\n",
    "N = int(input())\n",
    "A = list(map(int, input().split()))\n",
    "B = list(map(int, input().split()))\n",
    "print(find_rotation_count(N, A, B))"
   ]
  },
  {
   "cell_type": "markdown",
   "metadata": {},
   "source": [
    "### **231. Email Validation:**\n",
    "\n",
    "Given a string S check if is a valid email id based on the following \n",
    "Conditions.\n",
    "\n",
    "1)@ should be present;\n",
    "\n",
    "2)@ & . should not be repeated;\n",
    "\n",
    "3)there should be atleast four characters between @ and .;\n",
    "\n",
    "4)there should be at-least 3 characters before @ ;\n",
    "\n",
    "5)the end of mail id should be .com;\n",
    "\n",
    "If its a valid email id print 'yes' else print 'no'.\n",
    "\n",
    "Input Size : |S| <= 100000\n",
    "\n",
    "**Sample Testcase:**\n",
    "\n",
    "**INPUT**\n",
    "\n",
    "test@gmail.com\n",
    "\n",
    "**OUTPUT**\n",
    "\n",
    "yes"
   ]
  },
  {
   "cell_type": "code",
   "execution_count": 41,
   "metadata": {},
   "outputs": [
    {
     "name": "stdout",
     "output_type": "stream",
     "text": [
      "yes\n"
     ]
    }
   ],
   "source": [
    "import re\n",
    "\n",
    "email=input()\n",
    "\n",
    "regex = r'\\b[A-Za-z0-9._%+-]+@[A-Za-z0-9.-]+\\.[A-Z|a-z]{2,}\\b'\n",
    "if(re.fullmatch(regex, email)):\n",
    "          print(\"yes\")\n",
    " \n",
    "else:\n",
    "      print(\"no\")"
   ]
  },
  {
   "cell_type": "code",
   "execution_count": 37,
   "metadata": {},
   "outputs": [
    {
     "name": "stdout",
     "output_type": "stream",
     "text": [
      "yes\n"
     ]
    }
   ],
   "source": [
    "def is_valid_email(S):\n",
    "    # Check if '@' exists and only one '@' exists\n",
    "    if '@' not in S or S.count('@') != 1:\n",
    "        return \"no\"\n",
    "    \n",
    "    # Check if '.' exists and only one '.' exists\n",
    "    if '.' not in S or S.count('.') != 1:\n",
    "        return \"no\"\n",
    "    \n",
    "    # Find the position of '@' and '.'\n",
    "    at_pos = S.index('@')\n",
    "    dot_pos = S.index('.')\n",
    "    \n",
    "    # There should be at least 3 characters before '@'\n",
    "    if at_pos < 3:\n",
    "        return \"no\"\n",
    "    \n",
    "    # There should be at least 4 characters between '@' and '.'\n",
    "    if dot_pos - at_pos < 5:\n",
    "        return \"no\"\n",
    "    \n",
    "    # The email should end with '.com'\n",
    "    if not S.endswith('.com'):\n",
    "        return \"no\"\n",
    "    return \"yes\"\n",
    "\n",
    "S = input().strip()\n",
    "print(is_valid_email(S))"
   ]
  },
  {
   "cell_type": "markdown",
   "metadata": {},
   "source": [
    "### **232. You have been given stock prices for next N days. Find out: max profit in buying and selling 1 share Condition: Share must be sold any day after buying date. Given a number N followed by N integers print the maximum profit.**\n",
    "\n",
    "For example: Share price in thousands 5 1 4 6 7 8 4 3 7 9\n",
    "\n",
    "Max benefit 9 – 1 = 8 thousand\n",
    "\n",
    "Input Size : N <= 100000\n",
    "\n",
    "**Sample Testcase:**\n",
    "\n",
    "**INPUT**\n",
    "\n",
    "10\n",
    "\n",
    "5 1 4 6 7 8 4 3 7 9\n",
    "\n",
    "**OUTPUT**\n",
    "\n",
    "8"
   ]
  },
  {
   "cell_type": "code",
   "execution_count": 42,
   "metadata": {},
   "outputs": [
    {
     "name": "stdout",
     "output_type": "stream",
     "text": [
      "8\n"
     ]
    }
   ],
   "source": [
    "def max_profit(N, prices):\n",
    "    min_price = float('inf')\n",
    "    max_profit = 0\n",
    "    \n",
    "    # Traverse through all prices\n",
    "    for price in prices:\n",
    "        min_price = min(min_price, price)\n",
    "        profit = price - min_price\n",
    "        max_profit = max(max_profit, profit)    \n",
    "    return max_profit\n",
    "\n",
    "N = int(input())\n",
    "prices = list(map(int, input().split()))\n",
    "print(max_profit(N, prices))"
   ]
  },
  {
   "cell_type": "markdown",
   "metadata": {},
   "source": [
    "### **233. Given a number N followed by an unsorted array of N numbers and a number K, find if there exists a pair of elements in the array whose difference is K. Return count of such pairs.**\n",
    "\n",
    "Example k=4 and a[]={7,6,23,19,10,11,9,3,15}\n",
    "\n",
    "Output should be : 6\n",
    "\n",
    "Pairs can be:\n",
    "\n",
    "7,11\n",
    "\n",
    "7,3\n",
    "\n",
    "6,10\n",
    "\n",
    "19,23\n",
    "\n",
    "15,19\n",
    "\n",
    "15,11\n",
    "\n",
    "Input Size : N <= 100000\n",
    "\n",
    "**Sample Testcase:**\n",
    "\n",
    "**INPUT**\n",
    "\n",
    "6 4\n",
    "\n",
    "8 12 16 4 0 20\n",
    "\n",
    "**OUTPUT**\n",
    "\n",
    "5"
   ]
  },
  {
   "cell_type": "code",
   "execution_count": 43,
   "metadata": {},
   "outputs": [
    {
     "name": "stdout",
     "output_type": "stream",
     "text": [
      "5\n"
     ]
    }
   ],
   "source": [
    "def count_pairs_with_difference(arr, N, K):\n",
    "    seen = set()\n",
    "    pair_count = 0\n",
    "    \n",
    "    for num in arr:\n",
    "        if num + K in seen:\n",
    "            pair_count += 1\n",
    "        if num - K in seen:\n",
    "            pair_count += 1\n",
    "        seen.add(num)    \n",
    "    return pair_count\n",
    "\n",
    "N, K = map(int, input().split())\n",
    "arr = list(map(int, input().split()))\n",
    "print(count_pairs_with_difference(arr, N, K))"
   ]
  },
  {
   "cell_type": "markdown",
   "metadata": {},
   "source": [
    "### **234. Alternate sorting:Given a number N followed by array of N elements,sort the array in such a way that the first number is the first maximum and second number is the 1st minimum 3rd number isthe 2nd maximum and so on.**\n",
    "\n",
    "Input Size : N <= 100000\n",
    "\n",
    "**Sample Testcase:**\n",
    "\n",
    "**INPUT**\n",
    "\n",
    "8\n",
    "\n",
    "7 623 19 10 11 9 3 15\n",
    "\n",
    "**OUTPUT**\n",
    "\n",
    "623 3 19 7 15 9 11 10"
   ]
  },
  {
   "cell_type": "code",
   "execution_count": 44,
   "metadata": {},
   "outputs": [
    {
     "name": "stdout",
     "output_type": "stream",
     "text": [
      "623 3 19 7 15 9 11 10\n"
     ]
    }
   ],
   "source": [
    "N = int(input())\n",
    "array = list(map(int, input().split()))\n",
    "array.sort()\n",
    "result = []\n",
    "i, j = N - 1, 0\n",
    "while i >= j:\n",
    "    if i == j:\n",
    "        result.append(array[i])\n",
    "    else:\n",
    "        result.append(array[i])\n",
    "        result.append(array[j])\n",
    "    i -= 1\n",
    "    j += 1\n",
    "print(\" \".join(map(str, result)))"
   ]
  },
  {
   "cell_type": "markdown",
   "metadata": {},
   "source": [
    "### **235. For 2 arrays A1 and A2 , sort A1 in such a way that the relative order among the elements will be the same as those in A2. For the elements not present in A2, append them at last to A1, in SORTED ORDER.**\n",
    "\n",
    "Note: Number of elements in A2[] are smaller than or equal to the number of elements in A1[]. A2[] has all distinct elements.\n",
    "\n",
    "**Constraints:**\n",
    "\n",
    "1 ≤ N,M  ≤ 106\n",
    "\n",
    "1 ≤ A1[], A2[] <= 106\n",
    "\n",
    "**Input Description:**\n",
    "\n",
    "First line of input contains length of arrays N and M and next two line contains elements of A1 and A2 respectively.\n",
    "\n",
    "**Output Description:**\n",
    "\n",
    "Print the sorted array.\n",
    "\n",
    "**Sample Input:**\n",
    "\n",
    "11 4\n",
    "\n",
    "2 1 2 5 7 1 9 3 6 8 8\n",
    "\n",
    "2 1 8 3\n",
    "\n",
    "**Sample Output:**\n",
    "\n",
    "2 2 1 1 8 8 3 5 6 7 9"
   ]
  },
  {
   "cell_type": "code",
   "execution_count": null,
   "metadata": {},
   "outputs": [
    {
     "name": "stdout",
     "output_type": "stream",
     "text": [
      "2 2 1 1 8 8 3 5 6 7 9\n"
     ]
    }
   ],
   "source": [
    "def sort_array(A1, A2):\n",
    "    from collections import Counter\n",
    "    count_A1 = Counter(A1)  # Count occurrences of elements in A1\n",
    "    result = []\n",
    "    for num in A2:  # Append elements according to the order in A2\n",
    "        if num in count_A1:\n",
    "            result.extend([num] * count_A1[num])  # Add the element as many times as it appears in A1\n",
    "    \n",
    "    remaining_elements = []     # Gather remaining elements not in A2\n",
    "    for num in count_A1:\n",
    "        if num not in A2:\n",
    "            remaining_elements.extend([num] * count_A1[num])  # Add the element as many times as it appears in A1\n",
    "    remaining_elements.sort()\n",
    "    result.extend(remaining_elements)   # Append remaining elements to the result\n",
    "    return result\n",
    "\n",
    "N, M = map(int, input().strip().split())\n",
    "A1 = list(map(int, input().strip().split()))\n",
    "A2 = list(map(int, input().strip().split()))\n",
    "sorted_result = sort_array(A1, A2)\n",
    "print(\" \".join(map(str, sorted_result)))"
   ]
  },
  {
   "cell_type": "markdown",
   "metadata": {},
   "source": [
    "### **236. Given an array of size N with both positive and negative numbers. Find two elements such that their sum is equal or closest to zero.**\n",
    "\n",
    "Input Size : 1 <= N <= 100000\n",
    "\n",
    "**Sample Testcases:**\n",
    "\n",
    "**INPUT**\n",
    "\n",
    "5\n",
    "\n",
    "-1 2 3 1 0\n",
    "\n",
    "**OUTPUT**\n",
    "\n",
    "1 -1"
   ]
  },
  {
   "cell_type": "code",
   "execution_count": null,
   "metadata": {},
   "outputs": [
    {
     "name": "stdout",
     "output_type": "stream",
     "text": [
      "1 -1\n"
     ]
    }
   ],
   "source": [
    "def closest_pair_to_zero(arr):\n",
    "    arr.sort()\n",
    "    left, right = 0, len(arr) - 1\n",
    "    closest_sum = float('inf')\n",
    "    closest_pair = None\n",
    "\n",
    "    while left < right:\n",
    "        current_sum = arr[left] + arr[right]\n",
    "        \n",
    "        # If the sum is closer to zero, update closest_pair\n",
    "        if abs(current_sum) < abs(closest_sum):\n",
    "            closest_sum = current_sum\n",
    "            closest_pair = (arr[left], arr[right])\n",
    "\n",
    "        # Move pointers based on the sum\n",
    "        if current_sum < 0:\n",
    "            left += 1\n",
    "        elif current_sum > 0:\n",
    "            right -= 1\n",
    "        else:\n",
    "            break\n",
    "    return closest_pair\n",
    "\n",
    "n = int(input())\n",
    "arr = list(map(int, input().split()))\n",
    "result = closest_pair_to_zero(arr)\n",
    "print(result[0], result[1])"
   ]
  },
  {
   "cell_type": "markdown",
   "metadata": {},
   "source": [
    "### **237. Given a number N, find the sum of prime numbers that end with 3 from 2 to N.**\n",
    "\n",
    "Input Size : N <= 100000\n",
    "\n",
    "**Sample Testcase:**\n",
    "\n",
    "**INPUT**\n",
    "\n",
    "5\n",
    "\n",
    "**OUTPUT**\n",
    "\n",
    "3"
   ]
  },
  {
   "cell_type": "code",
   "execution_count": 49,
   "metadata": {},
   "outputs": [
    {
     "name": "stdout",
     "output_type": "stream",
     "text": [
      "3\n"
     ]
    }
   ],
   "source": [
    "def sieve_of_eratosthenes(limit):\n",
    "    prime = [True] * (limit + 1)\n",
    "    prime[0], prime[1] = False, False\n",
    "    p = 2\n",
    "    while p * p <= limit:\n",
    "        if prime[p]:\n",
    "            for i in range(p * p, limit + 1, p):\n",
    "                prime[i] = False\n",
    "        p += 1\n",
    "    return [p for p in range(limit + 1) if prime[p]]\n",
    "\n",
    "def sum_primes_ending_with_3(N):\n",
    "    primes = sieve_of_eratosthenes(N)\n",
    "    sum_primes = sum(p for p in primes if p % 10 == 3)    \n",
    "    return sum_primes\n",
    "\n",
    "N = int(input())\n",
    "print(sum_primes_ending_with_3(N))"
   ]
  },
  {
   "cell_type": "markdown",
   "metadata": {},
   "source": [
    "### **238. Given a positive number N, print count of all jumping numbers smaller than or equal to N. A number is called as a Jumping Number if all adjacent digits in it differ by 1. The difference between ‘9’ and ‘0’ is not considered as 1. All single digit numbers are considered as Jumping Numbers. For example 7, 8987 and 4343456 are Jumping numbers but 796 and 89098 are not.**\n",
    "\n",
    "Input Size : 1 <= N <= 100000\n",
    "\n",
    "**Sample Testcase:**\n",
    "\n",
    "**INPUT**\n",
    "\n",
    "40\n",
    "\n",
    "**OUTPUT**\n",
    "\n",
    "16"
   ]
  },
  {
   "cell_type": "code",
   "execution_count": 60,
   "metadata": {},
   "outputs": [
    {
     "name": "stdout",
     "output_type": "stream",
     "text": [
      "16\n"
     ]
    }
   ],
   "source": [
    "def is_jumping_number(num):\n",
    "    num_str = str(num)\n",
    "    for i in range(1, len(num_str)):\n",
    "        if abs(int(num_str[i]) - int(num_str[i-1])) != 1:\n",
    "            return False\n",
    "    return True\n",
    "\n",
    "def count_jumping_numbers(N):\n",
    "    count = 0\n",
    "    for i in range(N + 1):\n",
    "        if is_jumping_number(i):\n",
    "            count += 1\n",
    "    return count\n",
    "\n",
    "N = int(input())\n",
    "print(count_jumping_numbers(N))"
   ]
  },
  {
   "cell_type": "markdown",
   "metadata": {},
   "source": [
    "### **239. Given a number N and an array of size N(with both positive and negative integers), print the product of the elements in the maximum product subarray.**\n",
    "\n",
    "Input Size : 1 <= N <= 100000\n",
    "\n",
    "**Sample Testcases:**\n",
    "\n",
    "**INPUT**\n",
    "\n",
    "5\n",
    "\n",
    "1 2 3 4 5\n",
    "\n",
    "**OUTPUT**\n",
    "\n",
    "120"
   ]
  },
  {
   "cell_type": "code",
   "execution_count": 61,
   "metadata": {},
   "outputs": [
    {
     "name": "stdout",
     "output_type": "stream",
     "text": [
      "120\n"
     ]
    }
   ],
   "source": [
    "def maxProduct(nums):\n",
    "    if not nums:\n",
    "        return 0\n",
    "\n",
    "    max_prod = min_prod = result = nums[0]\n",
    "    for i in range(1, len(nums)):\n",
    "        if nums[i] < 0:\n",
    "            max_prod, min_prod = min_prod, max_prod\n",
    "        max_prod = max(nums[i], max_prod * nums[i])\n",
    "        min_prod = min(nums[i], min_prod * nums[i])\n",
    "        result = max(result, max_prod)    \n",
    "    return result\n",
    "\n",
    "N = int(input())\n",
    "nums = list(map(int, input().split()))\n",
    "print(maxProduct(nums))"
   ]
  },
  {
   "cell_type": "markdown",
   "metadata": {},
   "source": [
    "### **240. N players with weights are given as input. Divide them into 2 teams such that the difference between the total weights of the 2 teams are minimum. While dividing , ensure that difference in number of players between the teams is minimum. Output the difference in number of players in 2 teams.**\n",
    "\n",
    "Input Size : 1<= N <= 100000\n",
    "\n",
    "**Sample Testcases:**\n",
    "\n",
    "**INPUT**\n",
    "\n",
    "7\n",
    "\n",
    "1 2 3 4 5 6 7\n",
    "\n",
    "**OUTPUT**\n",
    "\n",
    "3"
   ]
  },
  {
   "cell_type": "code",
   "execution_count": 9,
   "metadata": {},
   "outputs": [
    {
     "name": "stdout",
     "output_type": "stream",
     "text": [
      "3\n"
     ]
    }
   ],
   "source": [
    "def divide_players(N, weights):\n",
    "    weights.sort()\n",
    "    team1 = weights[:N//2]\n",
    "    team2 = weights[N+1//2:]\n",
    "    return abs(len(team1) - len(team2))\n",
    "\n",
    "N = int(input())\n",
    "weights = list(map(int, input().split()))\n",
    "print(divide_players(N, weights))"
   ]
  },
  {
   "cell_type": "markdown",
   "metadata": {},
   "source": [
    "### **241. Given a string containing a mix of upper and lowercase characters, sort the letters in ascending order such that the positions of upper and lowercase letters do not change. (eg) If the string is guVIONLineCoDIng, then the output must be  egCDIILginNnOVou.**\n",
    "\n",
    "**Input Description:**\n",
    "\n",
    "A string\n",
    "\n",
    "**Output Description:**\n",
    "\n",
    "Letters of the string sorted such that positions of upper and lower characters do not change.\n",
    "\n",
    "**Sample Input:**\n",
    "\n",
    "GuVi\n",
    "\n",
    "**Sample Output:**\n",
    "\n",
    "GiVu"
   ]
  },
  {
   "cell_type": "code",
   "execution_count": 10,
   "metadata": {},
   "outputs": [
    {
     "name": "stdout",
     "output_type": "stream",
     "text": [
      "GiVu\n"
     ]
    }
   ],
   "source": [
    "def sort_letters_preserving_case(s):\n",
    "    upper_letters = sorted([char for char in s if char.isupper()])\n",
    "    lower_letters = sorted([char for char in s if char.islower()])\n",
    "    \n",
    "    upper_iter = iter(upper_letters)\n",
    "    lower_iter = iter(lower_letters)\n",
    "    \n",
    "    result = []\n",
    "    for char in s:\n",
    "        if char.isupper():\n",
    "            result.append(next(upper_iter))\n",
    "        elif char.islower():\n",
    "            result.append(next(lower_iter))\n",
    "        else:\n",
    "            result.append(char)\n",
    "    return ''.join(result)\n",
    "\n",
    "input_string = input().strip()\n",
    "output_string = sort_letters_preserving_case(input_string)\n",
    "print(output_string)"
   ]
  },
  {
   "cell_type": "markdown",
   "metadata": {},
   "source": [
    "### **242. Given a number N followed by an array of N integers, replace every element with the greatest element on the right side(to that element) in the array. Replace last element with 0 as there no element on the right side of it.**\n",
    "\n",
    "eg. if the array is {6, 7, 4, 3, 5, 2}, output {7, 5, 5, 5, 2, 0}.\n",
    "\n",
    "Input Size : N <= 100000\n",
    "\n",
    "**Sample Testcase:**\n",
    "\n",
    "**INPUT**\n",
    "\n",
    "6\n",
    "\n",
    "6 7 4 3 5 2\n",
    "\n",
    "**OUTPUT**\n",
    "\n",
    "7 5 5 5 2 0"
   ]
  },
  {
   "cell_type": "code",
   "execution_count": 11,
   "metadata": {},
   "outputs": [
    {
     "name": "stdout",
     "output_type": "stream",
     "text": [
      "7 5 5 5 2 0\n"
     ]
    }
   ],
   "source": [
    "def replace_with_greatest_on_right(arr):\n",
    "    n = len(arr)\n",
    "    max_right = 0\n",
    "    \n",
    "    for i in range(n - 1, -1, -1):\n",
    "        current_value = arr[i]\n",
    "        arr[i] = max_right\n",
    "        max_right = max(max_right, current_value)    \n",
    "    return arr\n",
    "\n",
    "N = int(input())\n",
    "arr = list(map(int, input().split()))\n",
    "result = replace_with_greatest_on_right(arr)\n",
    "print(*result)"
   ]
  },
  {
   "cell_type": "markdown",
   "metadata": {},
   "source": [
    "### **243. You are given an array 'a' of size N. Your task is to print the array one element in a line in the decreasing order of number of ones in its binary representation. In case of two numbers having same number of ones, the bigger number in its decimal representation comes first.**\n",
    "\n",
    "Input Size : N<=10000\n",
    "\n",
    "**Example:**\n",
    "\n",
    "**INPUT**\n",
    "\n",
    "5\n",
    "\n",
    "31 14 15 7 2\n",
    "\n",
    "**OUTPUT**\n",
    "\n",
    "31\n",
    "\n",
    "15\n",
    "\n",
    "14\n",
    "\n",
    "7\n",
    "\n",
    "2"
   ]
  },
  {
   "cell_type": "code",
   "execution_count": 12,
   "metadata": {},
   "outputs": [
    {
     "name": "stdout",
     "output_type": "stream",
     "text": [
      "31\n",
      "15\n",
      "14\n",
      "7\n",
      "2\n"
     ]
    }
   ],
   "source": [
    "def custom_sort(a):\n",
    "    return sorted(a, key=lambda x: (-bin(x).count('1'), -x))\n",
    "\n",
    "N = int(input())\n",
    "a = list(map(int, input().split()))\n",
    "\n",
    "sorted_array = custom_sort(a)\n",
    "for num in sorted_array:\n",
    "    print(num)"
   ]
  },
  {
   "cell_type": "markdown",
   "metadata": {},
   "source": [
    "### **244. Jack is fond of numbers. He has given an array.He has to find the maximum length of sub array such that sum of elements in that sub array gives output 0.He is in little trouble, help him in finding solution.**\n",
    "\n",
    "**Input Description:**\n",
    "\n",
    "You are given an integer ‘n’ denoting the number of elements in array.Next line contains n space separated integers\n",
    "\n",
    "**Output Description:**\n",
    "\n",
    "Print the max length of that array with sum 0 and print -1 if not possible\n",
    "\n",
    "**Sample Input:**\n",
    "\n",
    "6\n",
    "\n",
    "-4 3 1 0 0 6\n",
    "\n",
    "**Sample Output:**\n",
    "\n",
    "5"
   ]
  },
  {
   "cell_type": "code",
   "execution_count": 13,
   "metadata": {},
   "outputs": [
    {
     "name": "stdout",
     "output_type": "stream",
     "text": [
      "5\n"
     ]
    }
   ],
   "source": [
    "def maxLen(n, arr):\n",
    "    max_len = 0\n",
    "\n",
    "    for i in range(len(arr)):\n",
    "        curr_sum = 0\n",
    "        for j in range(i, len(arr)):\n",
    "            curr_sum += arr[j]\n",
    "\n",
    "            # if curr_sum becomes 0, then update max_len\n",
    "            if curr_sum == 0:\n",
    "                max_len = max(max_len, j-i + 1)\n",
    "    return max_len\n",
    "    \n",
    "if __name__ == \"__main__\":\n",
    "    n = int(input())\n",
    "    arr = list(map(int, input().split()))\n",
    "    print(maxLen(n, arr))"
   ]
  },
  {
   "cell_type": "markdown",
   "metadata": {},
   "source": [
    "### **245. rahul is given an array containing digits values ranging from 0-9,Rahul’s task is to find the sum of minimum two numbers formed by the digits,but he has some other work to do, he called you and told you that he is busy with some work,your task is to do the same work for rahul.**\n",
    "\n",
    "**Input Description:**\n",
    "\n",
    "You are given a number ‘n’ denoting size of array Next line contains n space separated numbers\n",
    "\n",
    "**Output Description:**\n",
    "\n",
    "Print the sum of numbers formed by it\n",
    "\n",
    "**Sample Input:**\n",
    "\n",
    "6\n",
    "\n",
    "6 8 4 5 2 3\n",
    "\n",
    "**Sample Output:**\n",
    "\n",
    "604"
   ]
  },
  {
   "cell_type": "code",
   "execution_count": 14,
   "metadata": {},
   "outputs": [
    {
     "name": "stdout",
     "output_type": "stream",
     "text": [
      "604\n"
     ]
    }
   ],
   "source": [
    "def find_min_sum(n, digits):\n",
    "    digits.sort()\n",
    "    \n",
    "    num1, num2 = \"\", \"\"\n",
    "    for i in range(n):\n",
    "        if i % 2 == 0:\n",
    "            num1 += str(digits[i])\n",
    "        else:\n",
    "            num2 += str(digits[i])\n",
    "    num1 = int(num1)\n",
    "    num2 = int(num2)\n",
    "    return num1 + num2\n",
    "\n",
    "n = int(input())\n",
    "digits = list(map(int, input().split()))\n",
    "print(find_min_sum(n, digits))"
   ]
  },
  {
   "cell_type": "markdown",
   "metadata": {},
   "source": [
    "### **246. You are given with an array. Your task is to print the right rotated array after k operations.**\n",
    "\n",
    "Time:O(n)\n",
    "\n",
    "Extra Space: O(1)\n",
    "\n",
    "**Input Description:**\n",
    "\n",
    "First line contains two number ‘n’ and ‘k’.Next line contains n space separated numbers.\n",
    "\n",
    "**Output Description:**\n",
    "\n",
    "Print the array as mentioned.\n",
    "\n",
    "**Sample Input:**\n",
    "\n",
    "14 117\n",
    "\n",
    "15 26 35 98 61 1230 75 96 63 21 1654 98654 320145 987\n",
    "\n",
    "**Sample Output:**\n",
    "\n",
    "21 1654 98654 320145 987 15 26 35 98 61 1230 75 96 63"
   ]
  },
  {
   "cell_type": "code",
   "execution_count": 15,
   "metadata": {},
   "outputs": [
    {
     "name": "stdout",
     "output_type": "stream",
     "text": [
      "21 1654 98654 320145 987 15 26 35 98 61 1230 75 96 63\n"
     ]
    }
   ],
   "source": [
    "def rotate_array(n, k, arr):\n",
    "    k = k % n\n",
    "    if k == 0:\n",
    "        return arr\n",
    "    return arr[-k:] + arr[:-k]\n",
    "\n",
    "n, k = map(int, input().split())\n",
    "arr = list(map(int, input().split()))\n",
    "rotated_arr = rotate_array(n, k, arr)\n",
    "print(\" \".join(map(str, rotated_arr)))"
   ]
  },
  {
   "cell_type": "markdown",
   "metadata": {},
   "source": [
    "### **247. Given three numbers L,R,N, print the count of numbers with occurences of the number N in [L,R].**\n",
    "\n",
    "Input Size : 1 <= L,R,N <= 100000\n",
    "\n",
    "**Sample Testcase:**\n",
    "\n",
    "**INPUT**\n",
    "\n",
    "10 130 11\n",
    "\n",
    "**OUTPUT**\n",
    "\n",
    "11\n",
    "\n",
    "Explanation: 11,110,111,112....119"
   ]
  },
  {
   "cell_type": "code",
   "execution_count": 16,
   "metadata": {},
   "outputs": [
    {
     "name": "stdout",
     "output_type": "stream",
     "text": [
      "11\n"
     ]
    }
   ],
   "source": [
    "def count_numbers_with_digit(L, R, N):\n",
    "    digit = str(N)\n",
    "    count = 0\n",
    "    for num in range(L, R + 1):\n",
    "        if digit in str(num):\n",
    "            count += 1    \n",
    "    return count\n",
    "\n",
    "L, R, N = map(int, input().split())\n",
    "result = count_numbers_with_digit(L, R, N)\n",
    "print(result)"
   ]
  },
  {
   "cell_type": "markdown",
   "metadata": {},
   "source": [
    "### **248. Given a cache and 2 integers N(number of Cache entries), K(Size of the cache) followed by N queries each containing an integer, implement a LRU cache and output the final cache after all N queries.**\n",
    "\n",
    "Input Size : 1 <= N <= 100000\n",
    "\n",
    "**Sample Testcase:**\n",
    "\n",
    "**INPUT**\n",
    "\n",
    "3 2\n",
    "\n",
    "1 2 3\n",
    "\n",
    "**OUTPUT**\n",
    "\n",
    "2 3"
   ]
  },
  {
   "cell_type": "code",
   "execution_count": 17,
   "metadata": {},
   "outputs": [
    {
     "name": "stdout",
     "output_type": "stream",
     "text": [
      "2 3\n"
     ]
    }
   ],
   "source": [
    "from collections import OrderedDict\n",
    "\n",
    "def lru_cache(N, K, queries):\n",
    "    cache = OrderedDict()\n",
    "    \n",
    "    for query in queries:\n",
    "        if query in cache:\n",
    "            cache.move_to_end(query)\n",
    "        else:\n",
    "            if len(cache) >= K:\n",
    "                cache.popitem(last=False)\n",
    "            cache[query] = None\n",
    "    \n",
    "    return list(cache.keys())\n",
    "\n",
    "N, K = map(int, input().split())\n",
    "queries = list(map(int, input().split()))\n",
    "\n",
    "result = lru_cache(N, K, queries)\n",
    "print(*result)"
   ]
  },
  {
   "cell_type": "markdown",
   "metadata": {},
   "source": [
    "### **249. Check whether the given 4 points form a square or not.**\n",
    "\n",
    "**Example:**\n",
    "\n",
    "**INPUT**\n",
    "\n",
    "10 10\n",
    "\n",
    "10 20\n",
    "\n",
    "20 20\n",
    "\n",
    "20 10\n",
    "\n",
    "**OUTPUT**\n",
    "\n",
    "yes"
   ]
  },
  {
   "cell_type": "code",
   "execution_count": 18,
   "metadata": {},
   "outputs": [
    {
     "name": "stdout",
     "output_type": "stream",
     "text": [
      "yes\n"
     ]
    }
   ],
   "source": [
    "import math\n",
    "def distance(p1, p2):\n",
    "    return math.sqrt((p1[0] - p2[0]) ** 2 + (p1[1] - p2[1]) ** 2)\n",
    "\n",
    "def is_square(points):\n",
    "    if len(points) != 4:\n",
    "        return False\n",
    "    \n",
    "    # Calculate all the distances\n",
    "    d = []\n",
    "    for i in range(4):\n",
    "        for j in range(i + 1, 4):\n",
    "            d.append(distance(points[i], points[j]))\n",
    "    \n",
    "    # Sort distances to easily check the sides and diagonals\n",
    "    d.sort()\n",
    "    \n",
    "    # Check the first four distances (sides) are equal and the last two (diagonals) are equal\n",
    "    return d[0] == d[1] == d[2] == d[3] and d[4] == d[5] and d[0] != 0\n",
    "\n",
    "points = []\n",
    "for _ in range(4):\n",
    "    x, y = map(int, input().split())\n",
    "    points.append((x, y))\n",
    "\n",
    "if is_square(points):\n",
    "    print(\"yes\")\n",
    "else:\n",
    "    print(\"no\")\n"
   ]
  },
  {
   "cell_type": "markdown",
   "metadata": {},
   "source": [
    "### **250. Bala is the CEO of a company and decides to reward a few hardworking employees with an extra bonus.  He wants to find out the number of employees who are working parallely on two different projects and give them a bonus. The ids of employees working on a particular project are stored in an array.Given two arrays project1 and project2, find out whether the employees working on project2 are a subset of employees working on project1.**\n",
    "\n",
    "**Constraints:**\n",
    "\n",
    "1 <= project1[i], project2[j] <= 100\n",
    "\n",
    "**Input Description:**\n",
    "\n",
    "First line denotes the number of employees working on project 1. Second line contains the employee ids of the employees working on project 1. Third line denotes the number of employees working on project 2 and 4th line contains employee ids of the employees working on project 2.\n",
    "\n",
    "**Output Description:**\n",
    "\n",
    "(yes/no) Whether the second array is a subset of the first array.\n",
    "\n",
    "**Sample Input:**\n",
    "\n",
    "3\n",
    "\n",
    "1 2 3\n",
    "\n",
    "2\n",
    "\n",
    "1 2\n",
    "\n",
    "**Sample Output:**\n",
    "\n",
    "yes"
   ]
  },
  {
   "cell_type": "code",
   "execution_count": 19,
   "metadata": {},
   "outputs": [
    {
     "name": "stdout",
     "output_type": "stream",
     "text": [
      "yes\n"
     ]
    }
   ],
   "source": [
    "n1 = int(input().strip())\n",
    "project1 = set(map(int, input().strip().split()))\n",
    "n2 = int(input().strip())\n",
    "project2 = set(map(int, input().strip().split()))\n",
    "\n",
    "# Check if project2 is a subset of project1\n",
    "if project2 <= project1:\n",
    "    print(\"yes\")\n",
    "else:\n",
    "    print(\"no\")"
   ]
  },
  {
   "cell_type": "markdown",
   "metadata": {},
   "source": [
    "### **251. Form a number system with only 3 and 4. Find the nth number of the number system Eg.) The numbers are: 3, 4, 33, 34, 43, 44, 333, 334, 343, 344, 433, 434, 443, 444, 3333, 3334, 3343,3344, 3433, 3434, 3443, 3444.**\n",
    "\n",
    "Input Size : 1 <= N <= 100000\n",
    "\n",
    "**Sample Testcases:**\n",
    "\n",
    "**INPUT**\n",
    "\n",
    "1\n",
    "\n",
    "**OUTPUT**\n",
    "\n",
    "3"
   ]
  },
  {
   "cell_type": "code",
   "execution_count": 20,
   "metadata": {},
   "outputs": [
    {
     "name": "stdout",
     "output_type": "stream",
     "text": [
      "3\n"
     ]
    }
   ],
   "source": [
    "from collections import deque\n",
    "\n",
    "def find_nth_number(n):\n",
    "    queue = deque([\"3\", \"4\"])\n",
    "    \n",
    "    # BFS to generate numbers\n",
    "    for _ in range(n):\n",
    "        current = queue.popleft()   # Pop the front of the queue\n",
    "        \n",
    "        # Append next numbers to the queue\n",
    "        queue.append(current + \"3\")\n",
    "        queue.append(current + \"4\")    \n",
    "    return current\n",
    "\n",
    "n = int(input())\n",
    "print(find_nth_number(n))"
   ]
  },
  {
   "cell_type": "markdown",
   "metadata": {},
   "source": [
    "### **252. Vishal is a competitive coder and he loves problems on sorting and searching. He is bored right now and decides to solve a sorting problem with a modification. He decides to sort the elements at the even indices of an array in ascending order and the elements at the odd indices in descending order. Vishal goes outside his room after coding the solution, but his laptop crashes and he is unable to show it to his teacher. Can you help Vishal by coding the solution to the problem?**\n",
    "\n",
    "**Constraints:**\n",
    "\n",
    "0<=array[i]<=10000\n",
    "\n",
    "**Input Description:**\n",
    "\n",
    "Size of the array followed by the elements of the array\n",
    "\n",
    "**Output Description:**\n",
    "\n",
    "Sorted elements of the array\n",
    "\n",
    "**Sample Input:**\n",
    "\n",
    "10 \n",
    "\n",
    "9 8 7 1 2 3 6 5 4 10\n",
    "\n",
    "**Sample Output:**\n",
    "\n",
    "2 10 4 8 6 5 7 3 9 1"
   ]
  },
  {
   "cell_type": "code",
   "execution_count": 21,
   "metadata": {},
   "outputs": [
    {
     "name": "stdout",
     "output_type": "stream",
     "text": [
      "2 10 4 8 6 5 7 3 9 1\n"
     ]
    }
   ],
   "source": [
    "def sort_even_odd(arr):\n",
    "    even_indexed = []\n",
    "    odd_indexed = []\n",
    "    for i in range(len(arr)):\n",
    "        if i % 2 == 0:\n",
    "            even_indexed.append(arr[i])\n",
    "        else:\n",
    "            odd_indexed.append(arr[i])\n",
    "    even_indexed.sort()\n",
    "    odd_indexed.sort(reverse=True)\n",
    "\n",
    "    result = []\n",
    "    even_ptr = 0\n",
    "    odd_ptr = 0\n",
    "\n",
    "    for i in range(len(arr)):\n",
    "        if i % 2 == 0:\n",
    "            result.append(even_indexed[even_ptr])\n",
    "            even_ptr += 1\n",
    "        else:\n",
    "            result.append(odd_indexed[odd_ptr])\n",
    "            odd_ptr += 1\n",
    "    return result\n",
    "\n",
    "N = int(input())\n",
    "arr = list(map(int, input().strip().split()))\n",
    "sorted_arr = sort_even_odd(arr)\n",
    "print(' '.join(map(str, sorted_arr)))"
   ]
  },
  {
   "cell_type": "markdown",
   "metadata": {},
   "source": [
    "### **253. Given an array of size N, find the minimum number of swaps required to sort the array.**\n",
    "\n",
    "**Input Description:**\n",
    "\n",
    "Size of the array followed by the elements of the array\n",
    "\n",
    "**Output Description:**\n",
    "\n",
    "Minimum number of swaps required\n",
    "\n",
    "**Sample Input:**\n",
    "\n",
    "4\n",
    "\n",
    "4 3 2 1\n",
    "\n",
    "**Sample Output:**\n",
    "\n",
    "2"
   ]
  },
  {
   "cell_type": "code",
   "execution_count": 22,
   "metadata": {},
   "outputs": [
    {
     "name": "stdout",
     "output_type": "stream",
     "text": [
      "2\n"
     ]
    }
   ],
   "source": [
    "def min_swaps(arr):\n",
    "    n = len(arr)\n",
    "    arr_indexed = [(value, index) for index, value in enumerate(arr)]\n",
    "    arr_indexed.sort()  \n",
    "\n",
    "    visited = [False] * n\n",
    "    swaps = 0\n",
    "    for i in range(n):\n",
    "        if visited[i] or arr_indexed[i][1] == i:\n",
    "            continue\n",
    "        cycle_size = 0\n",
    "        j = i\n",
    "\n",
    "        while not visited[j]:\n",
    "            visited[j] = True\n",
    "            j = arr_indexed[j][1]\n",
    "            cycle_size += 1\n",
    "        if cycle_size > 0:\n",
    "            swaps += (cycle_size - 1)\n",
    "    return swaps\n",
    "\n",
    "N = int(input())\n",
    "arr = list(map(int, input().strip().split()))\n",
    "result = min_swaps(arr)\n",
    "print(result)"
   ]
  },
  {
   "cell_type": "markdown",
   "metadata": {},
   "source": [
    "### **254. In a cricket match the coach wanted to check the performance of batsmen o he decided strike rate as criteria. He planned that the two batsmen whose strike rate difference minimum will be sent no. 3 and no.4 in next match.Now your task is to help the coach in finding the two batsmen.**\n",
    "\n",
    "**Input Description:**\n",
    "\n",
    "You are given an integer ’n’ denoting the size of array. Next line contains n space separated integers.\n",
    "\n",
    "**Output Description:**\n",
    "\n",
    "Print the strike rate of two batsmen in same order of their occurence\n",
    "\n",
    "**Sample Input:**\n",
    "\n",
    "6\n",
    "\n",
    "138.3 156.5 156.6 160.2 198.3 146.2\n",
    "\n",
    "**Sample Output:**\n",
    "\n",
    "156.5 156.6"
   ]
  },
  {
   "cell_type": "code",
   "execution_count": 23,
   "metadata": {},
   "outputs": [
    {
     "name": "stdout",
     "output_type": "stream",
     "text": [
      "156.5 156.6\n"
     ]
    }
   ],
   "source": [
    "def find_batsmen(n, strike_rates):\n",
    "    sorted_rates = sorted(strike_rates)\n",
    "    \n",
    "    # Variables to track minimum difference and the pair\n",
    "    min_diff = float('inf')\n",
    "    batsmen = (None, None)\n",
    "    \n",
    "    # Find the two batsmen with the minimum difference\n",
    "    for i in range(1, n):\n",
    "        diff = sorted_rates[i] - sorted_rates[i - 1]\n",
    "        if diff < min_diff:\n",
    "            min_diff = diff\n",
    "            batsmen = (sorted_rates[i - 1], sorted_rates[i])\n",
    "    \n",
    "    # Find their original order in the input\n",
    "    first = strike_rates.index(batsmen[0])\n",
    "    second = strike_rates.index(batsmen[1])    \n",
    "    if first < second:\n",
    "        return batsmen\n",
    "    else:\n",
    "        return batsmen[::-1]\n",
    "\n",
    "n = int(input())\n",
    "strike_rates = list(map(float, input().split()))\n",
    "batsman1, batsman2 = find_batsmen(n, strike_rates)\n",
    "print(f\"{batsman1} {batsman2}\")"
   ]
  },
  {
   "cell_type": "markdown",
   "metadata": {},
   "source": [
    "### **255. Jaspreet is a marketing manager and on inspecting the product ids of products documented as ‘sold’, he finds out that the sales person has repeated a few of the product ids. He decides to warn the sales person who has repeated the same product id thrice. Your task is to find out the number of triplets(ids occurring thrice) of product ids recorded.**\n",
    "\n",
    "**Constraints:**\n",
    "\n",
    "1 <= N <= 100\n",
    "\n",
    "1 <= A[] <= 1000\n",
    "\n",
    "vInput Description:**\n",
    "\n",
    "Number of product ids followed by the list of product ids\n",
    "\n",
    "**Output Description:**\n",
    "\n",
    "Number of triplets detected.\n",
    "\n",
    "**Sample Input:**\n",
    "\n",
    "10\n",
    "\n",
    "2 1 1 3 1 8 7 2 2 6 \n",
    "\n",
    "**Sample Output:**\n",
    "\n",
    "2"
   ]
  },
  {
   "cell_type": "code",
   "execution_count": null,
   "metadata": {},
   "outputs": [
    {
     "name": "stdout",
     "output_type": "stream",
     "text": [
      "2\n"
     ]
    }
   ],
   "source": [
    "def count_triplets(arr):\n",
    "    count = {}\n",
    "    \n",
    "    # Count occurrences of each product id\n",
    "    for num in arr:\n",
    "        if num in count:\n",
    "            count[num] += 1\n",
    "        else:\n",
    "            count[num] = 1\n",
    "    \n",
    "    # Count how many product ids occur exactly three times\n",
    "    triplet_count = 0\n",
    "    for key in count:\n",
    "        if count[key] == 3:\n",
    "            triplet_count += 1\n",
    "    return triplet_count\n",
    "\n",
    "N = int(input().strip())\n",
    "product_ids = list(map(int, input().strip().split()))\n",
    "triplet_count = count_triplets(product_ids)\n",
    "print(triplet_count)"
   ]
  },
  {
   "cell_type": "markdown",
   "metadata": {},
   "source": [
    "### **256. Maxwell wants to buy an apartment in a new house at Line Avenue of Metropolis. The house has n apartments that are numbered from 1 to n and are arranged in a row. Two apartments are adjacent if their indices differ by 1. Some of the apartments can already be inhabited, others are available for sale. Maxwell often visits his neighbors, so apartment is good for him if it is available for sale and there is at least one already inhabited apartment adjacent to it. Maxwell knows that there are exactly k already inhabited apartments, but he doesn't know their indices yet. Find out what could be the minimum possible and the maximum possible number of apartments that are good for Maxwell.**\n",
    "\n",
    "Input Size : N<=K<=1000000000\n",
    "\n",
    "**Example:**\n",
    "\n",
    "**INPUT**\n",
    "\n",
    "6 3\n",
    "\n",
    "**OUTPUT**\n",
    "\n",
    "1 3"
   ]
  },
  {
   "cell_type": "code",
   "execution_count": 25,
   "metadata": {},
   "outputs": [
    {
     "name": "stdout",
     "output_type": "stream",
     "text": [
      "1 3\n"
     ]
    }
   ],
   "source": [
    "def find_good_apartments(n, k):\n",
    "    if k == n:\n",
    "        return 0, 0\n",
    "    min_good = 1\n",
    "    max_good = min(k, n - k)\n",
    "    return min_good, max_good\n",
    "\n",
    "n, k = list(map(int, input().split()))\n",
    "result = find_good_apartments(n, k)\n",
    "print(result[0], result[1])"
   ]
  },
  {
   "cell_type": "markdown",
   "metadata": {},
   "source": [
    "### **257. Rohan’s teacher wants to teach him about permuting the numbers.He is given an assignment,in which he is given a number,His task is to print the sum of all permutations that can be made up using those digits.**\n",
    "\n",
    "**Input Description:**\n",
    "\n",
    "You are given a number\n",
    "\n",
    "**Output Description:**\n",
    "\n",
    "Your task is to print the sum of all permutations of number.\n",
    "\n",
    "**Sample Input:**\n",
    "\n",
    "18\n",
    "\n",
    "**Sample Output:**\n",
    "\n",
    "99"
   ]
  },
  {
   "cell_type": "code",
   "execution_count": null,
   "metadata": {},
   "outputs": [
    {
     "name": "stdout",
     "output_type": "stream",
     "text": [
      "99\n"
     ]
    }
   ],
   "source": [
    "def sum_of_permutations(number):\n",
    "    digits = list(map(int, str(number)))\n",
    "    d = len(digits)\n",
    "\n",
    "    # Factorial of (d-1)\n",
    "    factorial = 1\n",
    "    for i in range(1, d):\n",
    "        factorial *= i\n",
    "    digit_sum = sum(digits)\n",
    "    positional_sum = (10**d - 1) // 9\n",
    "\n",
    "    # Total sum of permutations\n",
    "    total_sum = digit_sum * factorial * positional_sum\n",
    "    return total_sum\n",
    "\n",
    "number = int(input())\n",
    "print(sum_of_permutations(number))"
   ]
  },
  {
   "cell_type": "markdown",
   "metadata": {},
   "source": [
    "### **258. Given 2 numbers N and K followed by N numbers such that sum of two pairs in the N numbers results K value, if it exist print 'yes' otherwise 'no'.**\n",
    "\n",
    "Input Size : N<=100000\n",
    "\n",
    "**Example:**\n",
    "\n",
    "**INPUT**\n",
    "\n",
    "4 4\n",
    "\n",
    "1 2 2 4\n",
    "\n",
    "**OUTPUT**\n",
    "\n",
    "yes"
   ]
  },
  {
   "cell_type": "code",
   "execution_count": 28,
   "metadata": {},
   "outputs": [
    {
     "name": "stdout",
     "output_type": "stream",
     "text": [
      "yes\n"
     ]
    }
   ],
   "source": [
    "def has_pair_with_sum(N, K, numbers):\n",
    "    seen = set()\n",
    "    for num in numbers:\n",
    "        complement = K - num\n",
    "        if complement in seen:\n",
    "            return \"yes\"\n",
    "        seen.add(num)\n",
    "    return \"no\"\n",
    "\n",
    "N, K = map(int, input().split())\n",
    "numbers = list(map(int, input().split()))\n",
    "print(has_pair_with_sum(N, K, numbers))"
   ]
  },
  {
   "cell_type": "markdown",
   "metadata": {},
   "source": [
    "### **259. At a certain laboratory results of secret research are thoroughly encrypted. A result of a single experiment is stored as an information of its completion: ‘positive result’, ‘negative result’, ‘experiment failed’ or ‘experiment not completed’ The encrypted result constitutes a string of digits S , which may take one of the following forms:**\n",
    "\n",
    "positive result S = 1 or S = 4 or S = 78\n",
    "negative result S = S 35\n",
    "experiment failed S = 9 S 4\n",
    "experiment not completed S = 190 S\n",
    "(A sample result S35 means that if we add digits 35 from the right hand side to a digit sequencethen we shall get the digit sequence corresponding to a failed experiment) You are to write a program which decrypts given sequences of digits.\n",
    "\n",
    "**Input:**\n",
    "\n",
    "A integer n stating the number of encrypted results and then consecutive n lines, each containing a sequence of digits given as ASCII strings.\n",
    "\n",
    "**Output:**\n",
    "\n",
    "For each analysed sequence of digits the following lines should be sent to output (in separate lines):\n",
    "+ for a positive result\n",
    "- for a negative result\n",
    "* for a failed experiment\n",
    "? for a not completed experiment\n",
    "In case the analysed string does not determine the experiment result, a first \n",
    "match from the above list should be outputted.\n",
    "\n",
    "**Sample Testcase:**\n",
    "\n",
    "**INPUT**\n",
    "\n",
    "4\n",
    "\n",
    "78 7835 19078 944\n",
    "\n",
    "**OUTPUT**\n",
    "\n",
    "+\n",
    "\n",
    "-\n",
    "\n",
    "?\n",
    "\n",
    "*"
   ]
  },
  {
   "cell_type": "code",
   "execution_count": 34,
   "metadata": {},
   "outputs": [
    {
     "name": "stdout",
     "output_type": "stream",
     "text": [
      "+\n",
      "-\n",
      "?\n",
      "*\n"
     ]
    }
   ],
   "source": [
    "def decrypt_results(sequences):\n",
    "    results = []\n",
    "    for s in sequences:\n",
    "        if s == \"1\" or s == \"4\" or s == \"78\":\n",
    "            results.append(\"+\")\n",
    "        elif s.endswith(\"35\"):\n",
    "            results.append(\"-\")\n",
    "        elif s.startswith(\"9\") and s.endswith(\"4\"):\n",
    "            results.append(\"*\")\n",
    "        elif s.startswith(\"190\"):\n",
    "            results.append(\"?\")\n",
    "        else:\n",
    "            results.append(\"*\")\n",
    "    return results\n",
    "\n",
    "n = int(input())\n",
    "sequences = input().strip().split()\n",
    "results = decrypt_results(sequences)\n",
    "print(\"\\n\".join(results))"
   ]
  },
  {
   "cell_type": "markdown",
   "metadata": {},
   "source": [
    "### **260. You are given an array of integers. You can perform the following operation any number of times.(including zero)**\n",
    "\n",
    "Operation is: Replace an integer with another integer.\n",
    "\n",
    "Find if the array can be rearranged or permuted to obtain a palindromic array. \n",
    "\n",
    "If it can be, print the minimum number of operations required,\n",
    "Print -1 otherwise.\n",
    "\n",
    "**Input Description:**\n",
    "\n",
    "The first line contains an integer N, denoting the size of the array. The next line contains N space separated integers.\n",
    "\n",
    "**Output Description:**\n",
    "\n",
    "Print the minimum number of operations required.\n",
    "\n",
    "**Sample Input:**\n",
    "\n",
    "4\n",
    "\n",
    "10 20 30 40\n",
    "\n",
    "**Sample Output:**\n",
    "\n",
    "2"
   ]
  },
  {
   "cell_type": "code",
   "execution_count": 29,
   "metadata": {},
   "outputs": [
    {
     "name": "stdout",
     "output_type": "stream",
     "text": [
      "2\n"
     ]
    }
   ],
   "source": [
    "from collections import Counter\n",
    "\n",
    "def min_operations_to_palindrome(N, arr):\n",
    "    freq = Counter(arr)\n",
    "    \n",
    "    odd_count = sum(1 for count in freq.values() if count % 2 != 0)\n",
    "    \n",
    "    if N % 2 == 0:\n",
    "        if odd_count == 0:\n",
    "            return 0\n",
    "        else:\n",
    "            return odd_count // 2\n",
    "    else:\n",
    "        if odd_count <= 1:\n",
    "            return 0\n",
    "        else:\n",
    "            return (odd_count - 1) // 2\n",
    "\n",
    "N = int(input())\n",
    "arr = list(map(int, input().split()))\n",
    "print(min_operations_to_palindrome(N, arr))"
   ]
  },
  {
   "cell_type": "markdown",
   "metadata": {},
   "source": [
    "### **261. Bob has a strange counter. At the first second, t = 1, it displays the number 3. At each subsequent second, the number displayed by the counter decrements by 1. The counter counts down in cycles. In the second after the counter counts down to 1, the number becomes 2x the initial number for that countdown cycle and then continues counting down from the new initial number in a new cycle. The diagram shows the counter values for each time t in the first three cycles.Find the value corresponding to the given time t.**\n",
    "\n",
    "Input Size : t<=100000\n",
    "\n",
    "**Example:**\n",
    "\n",
    "**INPUT**\n",
    "\n",
    "4\n",
    "\n",
    "**OUTPUT**\n",
    "\n",
    "6"
   ]
  },
  {
   "cell_type": "code",
   "execution_count": 35,
   "metadata": {},
   "outputs": [
    {
     "name": "stdout",
     "output_type": "stream",
     "text": [
      "6\n"
     ]
    }
   ],
   "source": [
    "def strange_counter(t):\n",
    "    cycle_start = 1  # Start time of the current cycle\n",
    "    cycle_length = 3  # Initial cycle length\n",
    "    \n",
    "    # Find the cycle containing time t\n",
    "    while t >= cycle_start + cycle_length:\n",
    "        cycle_start += cycle_length\n",
    "        cycle_length *= 2  # Double the cycle length\n",
    "    \n",
    "    # Calculate the counter value at time t\n",
    "    initial_value = cycle_length\n",
    "    time_elapsed = t - cycle_start\n",
    "    return initial_value - time_elapsed\n",
    "\n",
    "t = int(input())\n",
    "print(strange_counter(t))"
   ]
  },
  {
   "cell_type": "markdown",
   "metadata": {},
   "source": [
    "### **262. Ram wants to be a leader. He is fascinated by any puzzle or news that has the word ‘leader’ in it. He comes across a puzzle about finding a leader amongst a list of numbers and is intrigued by the puzzle. As Ram is not good in either maths or logic, he is unable to solve the puzzle. Help Ram by finding out the leader among a given set of positive numbers.**\n",
    "\n",
    "Note: An element in an array is a leader if it is greater than or equal to all the elements to its right side. Also, the rightmost element is always a leader.\n",
    "\n",
    "**Constraints:**\n",
    "\n",
    "1 <= N <= 100\n",
    "\n",
    "0 <= A[i] <= 100\n",
    "\n",
    "**Input Description:**\n",
    "\n",
    "The first line contains a single integer N denoting the size of array. The second line contains N space-separated integers denoting the elements of the array.\n",
    "\n",
    "**Output Description:**\n",
    "\n",
    "Print all the leaders.\n",
    "\n",
    "**Sample Input:**\n",
    "\n",
    "6\n",
    "\n",
    "16 17 4 3 5 2\n",
    "\n",
    "**Sample Output:**\n",
    "\n",
    "17 5 2"
   ]
  },
  {
   "cell_type": "code",
   "execution_count": null,
   "metadata": {},
   "outputs": [
    {
     "name": "stdout",
     "output_type": "stream",
     "text": [
      "17 5 2\n"
     ]
    }
   ],
   "source": [
    "def find_leaders(arr):\n",
    "    n = len(arr)\n",
    "    leaders = []\n",
    "    max_right = arr[n - 1]\n",
    "    leaders.append(max_right)\n",
    "    \n",
    "    # Traverse from right to left\n",
    "    for i in range(n-2, -1, -1):\n",
    "        if arr[i] >= max_right:\n",
    "            leaders.append(arr[i])\n",
    "            max_right = arr[i]\n",
    "    leaders.reverse()\n",
    "    return leaders\n",
    "\n",
    "N = int(input())\n",
    "arr = list(map(int, input().split()))\n",
    "result = find_leaders(arr)\n",
    "print(' '.join(map(str, result)))"
   ]
  },
  {
   "cell_type": "markdown",
   "metadata": {},
   "source": [
    "### **263. You are given an array of N elements. Your task is to sort a subarray denoted by the index values i1 and i2 in descending order. Note: Index values start at 0. The sorting must be completed in O(i2-i1+1)log(i2-i1+1)**\n",
    "\n",
    "**Input Description:**\n",
    "\n",
    "Size of array followed by elements of the array. The third line contains the start and end indices of the subarray( i1 and i2)\n",
    "\n",
    "**Output Description:**\n",
    "\n",
    "A partially sorted array\n",
    "\n",
    "**Sample Input:**\n",
    "\n",
    "6\n",
    "\n",
    "34 9 2 10 56\n",
    "\n",
    "1 3\n",
    "\n",
    "**Sample Output:**\n",
    "\n",
    "34 2 9 10 56"
   ]
  },
  {
   "cell_type": "code",
   "execution_count": 37,
   "metadata": {},
   "outputs": [
    {
     "name": "stdout",
     "output_type": "stream",
     "text": [
      "34 10 9 2 56\n"
     ]
    }
   ],
   "source": [
    "def sort_subarray(arr, i1, i2):\n",
    "    subarray = arr[i1:i2 + 1]\n",
    "    subarray.sort(reverse=True)\n",
    "    arr[i1:i2 + 1] = subarray\n",
    "\n",
    "n = int(input().strip())\n",
    "arr = list(map(int, input().strip().split()))\n",
    "i1, i2 = map(int, input().strip().split())\n",
    "sort_subarray(arr, i1, i2)\n",
    "print(' '.join(map(str, arr)))"
   ]
  },
  {
   "cell_type": "markdown",
   "metadata": {},
   "source": [
    "### **264. Given a number N, obtain the smallest number after deleting K digits from N.**\n",
    "\n",
    "Input Size : 1<=N<=100000\n",
    "\n",
    "**Example:**\n",
    "\n",
    "**INPUT**\n",
    "\n",
    "213 1\n",
    "\n",
    "**OUTPUT**\n",
    "\n",
    "13"
   ]
  },
  {
   "cell_type": "code",
   "execution_count": 38,
   "metadata": {},
   "outputs": [
    {
     "name": "stdout",
     "output_type": "stream",
     "text": [
      "13\n"
     ]
    }
   ],
   "source": [
    "def removeKdigits(N, K):\n",
    "    N = str(N)\n",
    "    stack = []\n",
    "    \n",
    "    for digit in N:\n",
    "        while K > 0 and stack and stack[-1] > digit:\n",
    "            stack.pop()\n",
    "            K -= 1\n",
    "        stack.append(digit)\n",
    "    while K > 0:\n",
    "        stack.pop()\n",
    "        K -= 1\n",
    "    result = ''.join(stack).lstrip('0')\n",
    "    return result if result else '0'\n",
    "\n",
    "N, K = map(int, input().split())\n",
    "print(removeKdigits(N, K))"
   ]
  },
  {
   "cell_type": "markdown",
   "metadata": {},
   "source": [
    "### **265. You are given a string of different type of brackets. Your task is to check whether the given string is balanced or not balanced.**\n",
    "\n",
    "A string is said to be balanced if the number of opening brackets are equal to the number of closing brackets where the brackets should be of same kind.\n",
    "\n",
    "**Input Description:**\n",
    "\n",
    "You are given a string ‘s’.\n",
    "\n",
    "**Output Description:**\n",
    "\n",
    "Print 'yes' if the given string is balanced and no if it is not\n",
    "\n",
    "**Sample Input:**\n",
    "\n",
    "{}(())[][][{}]\n",
    "\n",
    "**Sample Output:**\n",
    "\n",
    "yes"
   ]
  },
  {
   "cell_type": "code",
   "execution_count": 39,
   "metadata": {},
   "outputs": [
    {
     "name": "stdout",
     "output_type": "stream",
     "text": [
      "yes\n"
     ]
    }
   ],
   "source": [
    "def is_balanced(s):\n",
    "    stack = []\n",
    "\n",
    "    matching_bracket = {')': '(', '}': '{', ']': '['}\n",
    "    for char in s:\n",
    "        if char in '({[':\n",
    "            stack.append(char)\n",
    "        elif char in ')}]':\n",
    "            if not stack or stack[-1] != matching_bracket[char]:\n",
    "                return \"no\"\n",
    "            stack.pop()\n",
    "    \n",
    "    if not stack:\n",
    "        return \"yes\"\n",
    "    else:\n",
    "        return \"no\"\n",
    "\n",
    "s = input().strip()\n",
    "print(is_balanced(s))"
   ]
  },
  {
   "cell_type": "markdown",
   "metadata": {},
   "source": [
    "### **266. You are provided with an array. Your task is to print the count of subarray whose maximum element is strictly greater than ‘k’.**\n",
    "\n",
    "**Input Description:**\n",
    "\n",
    "First line contains two element ‘N’ and ‘k’.Second line contains ‘n’ space separated numbers.\n",
    "\n",
    "**Output Description:**\n",
    "\n",
    "Print the count of subarray whose maximum element’s value is strictly greater than ‘k’.\n",
    "\n",
    "**Sample Input:**\n",
    "\n",
    "5 4\n",
    "\n",
    "1 6 7 8 9\n",
    "\n",
    "**Sample Output:**\n",
    "\n",
    "14"
   ]
  },
  {
   "cell_type": "code",
   "execution_count": 40,
   "metadata": {},
   "outputs": [
    {
     "name": "stdout",
     "output_type": "stream",
     "text": [
      "14\n"
     ]
    }
   ],
   "source": [
    "def count_subarrays_with_max_greater_than_k(n, k, arr):\n",
    "    count = 0\n",
    "    for start in range(n):\n",
    "        for end in range(start, n):\n",
    "            if max(arr[start:end+1]) > k:\n",
    "                count += 1\n",
    "    return count\n",
    "    \n",
    "n, k = map(int, input().split())\n",
    "arr = list(map(int, input().split()))\n",
    "print(count_subarrays_with_max_greater_than_k(n, k, arr))"
   ]
  },
  {
   "cell_type": "markdown",
   "metadata": {},
   "source": [
    "### **267. Given an array of N elements, sort the elements of the array based on frequency. If two numbers have the same frequency,then the smaller number comes first (eg) if the elements are 1,1,3,1,2,3,4 then the output is 2,4,3,3,1,1,1.**\n",
    "\n",
    "**Input Description:**\n",
    "\n",
    "Size of the array followed by the number of elements\n",
    "\n",
    "**Output Description:**\n",
    "\n",
    "Array elements sorted based on increasing frequency\n",
    "\n",
    "**Sample Input:**\n",
    "\n",
    "5\n",
    "\n",
    "8 8 1 1 3\n",
    "\n",
    "**Sample Output:**\n",
    "\n",
    "3 1 1 8 8"
   ]
  },
  {
   "cell_type": "code",
   "execution_count": 41,
   "metadata": {},
   "outputs": [
    {
     "name": "stdout",
     "output_type": "stream",
     "text": [
      "3 1 1 8 8\n"
     ]
    }
   ],
   "source": [
    "def sort_by_frequency():\n",
    "    n = int(input().strip())\n",
    "    arr = list(map(int, input().strip().split()))\n",
    "    \n",
    "    frequency = {}\n",
    "    for num in arr:\n",
    "        if num in frequency:\n",
    "            frequency[num] += 1\n",
    "        else:\n",
    "            frequency[num] = 1\n",
    "\n",
    "    sorted_arr = sorted(arr, key=lambda x: (frequency[x], x))\n",
    "    print(\" \".join(map(str, sorted_arr)))\n",
    "\n",
    "sort_by_frequency()"
   ]
  },
  {
   "cell_type": "markdown",
   "metadata": {},
   "source": [
    "### **268. You have an array of integers of length N. In one operation, you can change an integer X in the array to another using X coins. Find the minimum number of coins required to convert the array such that it contains only one distinct integer, N times.**\n",
    "\n",
    "**Input Description:**\n",
    "\n",
    "The first line contains an integer N, denoting the size of the array. The next line contains N space separated integers.\n",
    "\n",
    "**Output Description:**\n",
    "\n",
    "Print the minimum number of coins required.\n",
    "\n",
    "**Sample Input:**\n",
    "\n",
    "2\n",
    "\n",
    "3 4\n",
    "\n",
    "**Sample Output:**\n",
    "\n",
    "3"
   ]
  },
  {
   "cell_type": "code",
   "execution_count": null,
   "metadata": {},
   "outputs": [
    {
     "name": "stdout",
     "output_type": "stream",
     "text": [
      "3\n"
     ]
    }
   ],
   "source": [
    "def minimum_coins_to_make_uniform(N, arr):\n",
    "    arr.sort()\n",
    "    median = arr[N// 2] + 1\n",
    "    cost = sum(abs(x - median) for x in arr)    \n",
    "    return cost\n",
    "\n",
    "N = int(input())\n",
    "arr = list(map(int, input().split()))\n",
    "print(minimum_coins_to_make_uniform(N, arr))"
   ]
  },
  {
   "cell_type": "markdown",
   "metadata": {},
   "source": [
    "### **269. Given a number N and N strings of length atmost M, print the longest common prefix.**\n",
    "\n",
    "Input Size : 1<=N, M<=100000\n",
    "\n",
    "**Example:**\n",
    "\n",
    "**INPUT**\n",
    "\n",
    "2\n",
    "\n",
    "Vishal\n",
    "\n",
    "Vidharba\n",
    "\n",
    "**OUTPUT**\n",
    "\n",
    "Vi"
   ]
  },
  {
   "cell_type": "code",
   "execution_count": 52,
   "metadata": {},
   "outputs": [
    {
     "name": "stdout",
     "output_type": "stream",
     "text": [
      "Vi\n"
     ]
    }
   ],
   "source": [
    "def longest_common_prefix(strings):\n",
    "    prefix = strings[0]\n",
    "    for string in strings[1:]:\n",
    "        temp_prefix = []\n",
    "        for i in range(min(len(prefix), len(string))):\n",
    "            if prefix[i] == string[i]:\n",
    "                temp_prefix.append(prefix[i])\n",
    "            else:\n",
    "                break\n",
    "        prefix = ''.join(temp_prefix)\n",
    "        if not prefix:\n",
    "            return \"\"    \n",
    "    return prefix\n",
    "\n",
    "N = int(input())\n",
    "strings = [input().strip() for _ in range(N)]\n",
    "print(longest_common_prefix(strings))"
   ]
  },
  {
   "cell_type": "markdown",
   "metadata": {},
   "source": [
    "### **270. There is a line of 2N counters with no spaces between adjacent counters. The counters alternate between black and white: BWBW ... B W. The objective is to rearrange the counters so that all the white counters are before all the black ones with no gaps between the counters: W W ... WBB ... B. The counters are to be moved in pairs, On each move, a pair of adjacent counters can be moved, without changing their order, into a vacant location(either before everything or after everything). What is the minimum number of moves required to solve this problem?**\n",
    "\n",
    "Input Size : 3<=N<=1000\n",
    "\n",
    "**Example:**\n",
    "\n",
    "**INPUT**\n",
    "\n",
    "3\n",
    "\n",
    "**OUTPUT**\n",
    "\n",
    "3"
   ]
  },
  {
   "cell_type": "code",
   "execution_count": 55,
   "metadata": {},
   "outputs": [
    {
     "name": "stdout",
     "output_type": "stream",
     "text": [
      "3\n"
     ]
    }
   ],
   "source": [
    "def minimum_moves_to_rearrange(N):\n",
    "    counters = ['B', 'W'] * N\n",
    "    moves = 0\n",
    "    for i in range(2 * N):\n",
    "        if counters[i] == 'W':\n",
    "            moves += i // 2    \n",
    "    return moves\n",
    "\n",
    "N = int(input())\n",
    "print(minimum_moves_to_rearrange(N))"
   ]
  },
  {
   "cell_type": "markdown",
   "metadata": {},
   "source": [
    "### **271. Once detective saikat was solving a murder case. While going to the crime scene he took the stairs and saw that a number is written on every stair. He found it suspicious and decides to remember all the numbers that he has seen till now. While remembering the numbers he found that he can find some pattern in those numbers. So he decides that for each number on the stairs he will note down the sum of all the numbers previously seen on the stairs which are smaller than the present number. Calculate the sum of all the numbers written on his notes diary.**\n",
    "\n",
    "Input Size : 1<=N<=1000\n",
    "\n",
    "**Example:**\n",
    "\n",
    "**INPUT**\n",
    "\n",
    "3\n",
    "\n",
    "1 2 3\n",
    "\n",
    "**OUTPUT**\n",
    "\n",
    "4(0+1+1+2)"
   ]
  },
  {
   "cell_type": "code",
   "execution_count": null,
   "metadata": {},
   "outputs": [
    {
     "name": "stdout",
     "output_type": "stream",
     "text": [
      "4\n"
     ]
    }
   ],
   "source": [
    "def calculate_sum_of_diary_notes(n, numbers):\n",
    "    diary_sum = 0  \n",
    "    seen_numbers = []  # List to store the numbers seen so far\n",
    "    for num in numbers:        \n",
    "        smaller_sum = sum(x for x in seen_numbers if x < num)   # sum of all previous numbers smaller than current number\n",
    "        diary_sum += smaller_sum\n",
    "        seen_numbers.append(num)    # Add current number to seen_numbers    \n",
    "    return diary_sum\n",
    "\n",
    "n = int(input())\n",
    "numbers = list(map(int, input().split()))\n",
    "print(calculate_sum_of_diary_notes(n, numbers))"
   ]
  },
  {
   "cell_type": "markdown",
   "metadata": {},
   "source": [
    "### **272. You are given a postfix expression. Evaluate the given expression and print the result.**\n",
    "\n",
    "**Input Description:**\n",
    "\n",
    "The first line of the input is a string N, containing operators and numbers seperated by the single space which forms a postfix expression\n",
    "\n",
    "**Output Description:**\n",
    "\n",
    "Evaluate the post expression and print the result.\n",
    "\n",
    "**Sample Input:**\n",
    "\n",
    "5 3 1 * + 9 -\n",
    "\n",
    "**Sample Output:**\n",
    "\n",
    "-1"
   ]
  },
  {
   "cell_type": "code",
   "execution_count": 2,
   "metadata": {},
   "outputs": [
    {
     "name": "stdout",
     "output_type": "stream",
     "text": [
      "-1\n"
     ]
    }
   ],
   "source": [
    "def evaluate_postfix(expression):\n",
    "    stack = []\n",
    "    tokens = expression.split()\n",
    "    for token in tokens:\n",
    "        if token.isdigit():\n",
    "            stack.append(int(token))\n",
    "        elif token in \"+-*/\":\n",
    "            if len(stack) < 2:\n",
    "                return -1\n",
    "            operand2 = stack.pop()\n",
    "            operand1 = stack.pop()\n",
    "            if token == '+':\n",
    "                stack.append(operand1 + operand2)\n",
    "            elif token == '-':\n",
    "                stack.append(operand1 - operand2)\n",
    "            elif token == '*':\n",
    "                stack.append(operand1 * operand2)\n",
    "            elif token == '/':\n",
    "                if operand2 == 0:\n",
    "                    return -1\n",
    "                stack.append(operand1 // operand2)\n",
    "        else:\n",
    "            return -1\n",
    "    if len(stack) != 1:\n",
    "        return -1    \n",
    "    return stack.pop()\n",
    "\n",
    "expression = input().strip()\n",
    "print(evaluate_postfix(expression))"
   ]
  },
  {
   "cell_type": "markdown",
   "metadata": {},
   "source": [
    "### **273. You are given an array.Your task is to print the length of longest consecutive subsequence. A longest consecutive subsequence is such that next element differ from previous by 1.**\n",
    "\n",
    "**Input Description:**\n",
    "\n",
    "You are given with the length of array. Next line contains n space separated integers.\n",
    "\n",
    "**Output Description:**\n",
    "\n",
    "Print the length of longest consecutive subsequence.\n",
    "\n",
    "**Sample Input:**\n",
    "\n",
    "8\n",
    "\n",
    "1 6 5 3 2 4 10 12\n",
    "\n",
    "**Sample Output:**\n",
    "\n",
    "6"
   ]
  },
  {
   "cell_type": "code",
   "execution_count": null,
   "metadata": {},
   "outputs": [
    {
     "name": "stdout",
     "output_type": "stream",
     "text": [
      "6\n"
     ]
    }
   ],
   "source": [
    "def longest_consecutive_subsequence(n, arr):\n",
    "    if n == 0:      # Edge case: Empty array\n",
    "        return 0\n",
    "    \n",
    "    arr = sorted(arr)\n",
    "    max_length = 1 \n",
    "    current_length = 1\n",
    "    for i in range(1, n):\n",
    "        if arr[i] == arr[i - 1] + 1:\n",
    "            current_length += 1\n",
    "        elif arr[i] != arr[i - 1]:\n",
    "            max_length = max(max_length, current_length)\n",
    "            current_length = 1\n",
    "    max_length = max(max_length, current_length)\n",
    "    return max_length\n",
    "\n",
    "n = int(input())\n",
    "arr = list(map(int, input().split()))\n",
    "print(longest_consecutive_subsequence(n, arr))"
   ]
  },
  {
   "cell_type": "markdown",
   "metadata": {},
   "source": [
    "### **274. You are given with list of numbers,Your task is to find the maximum count of the numbers which are consecutively increasing in list.**\n",
    "\n",
    "**Input Description:**\n",
    "\n",
    "You are given a number n denoting size of array,Next line contains ‘n’ space separated numbers.\n",
    "\n",
    "**Output Description:**\n",
    "\n",
    "Print the desired result\n",
    "\n",
    "**Sample Input:**\n",
    "\n",
    "6\n",
    "\n",
    "1 2 0 3 4 5\n",
    "\n",
    "**Sample Output:**\n",
    "\n",
    "4"
   ]
  },
  {
   "cell_type": "code",
   "execution_count": 4,
   "metadata": {},
   "outputs": [
    {
     "name": "stdout",
     "output_type": "stream",
     "text": [
      "4\n"
     ]
    }
   ],
   "source": [
    "def max_consecutive_increasing_length(n, arr):\n",
    "    if n == 1:      # Edge case: Single element\n",
    "        return 1\n",
    "    \n",
    "    max_count = 1  # Maximum length of increasing subsequence\n",
    "    current_count = 1  # Current length of increasing subsequence\n",
    "    \n",
    "    for i in range(1, n):\n",
    "        if arr[i] > arr[i - 1]:\n",
    "            current_count += 1  # If the current number is greater, continue the subsequence\n",
    "        else:\n",
    "            max_count = max(max_count, current_count)   # Sequence breaks, update max_count\n",
    "            current_count = 1   # reset current_count\n",
    "    max_count = max(max_count, current_count)   # Final update for max_count\n",
    "    return max_count\n",
    "\n",
    "n = int(input())\n",
    "arr = list(map(int, input().split()))\n",
    "print(max_consecutive_increasing_length(n, arr))"
   ]
  },
  {
   "cell_type": "markdown",
   "metadata": {},
   "source": [
    "### **275. Das lives in a city which is having skyscrapers. Das has a wish and wants to see the buildings on which sunlight falls when the sun sets. Help him in counting the number of buildings receiving the sunlight. Note: A taller building casts a shadow on a shorter building.**\n",
    "\n",
    "Given an array H denoting heights of buildings. You have to count the buildings which will see the sun set (Assume : Sun set on the side of array ending i.e at the last element of the array).\n",
    "\n",
    "**Constraints:**\n",
    "\n",
    "1 ≤ T ≤ 100\n",
    "\n",
    "1 ≤ N ≤ 106\n",
    "\n",
    "1 ≤ Hi ≤ 108\n",
    "\n",
    "**Input Description:**\n",
    "\n",
    "The first line of input contains an integer T denoting the number of test cases. The first line of each test case is N, N is the number of buildings. The second line of each test case contains separated values of heights of buildings.\n",
    "\n",
    "**Output Description:**\n",
    "\n",
    "Print the total number of buildings which will see the sunset.\n",
    "\n",
    "**Sample Input:**\n",
    "\n",
    "2\n",
    "\n",
    "5\n",
    "\n",
    "7 4 8 2 9\n",
    "\n",
    "4\n",
    "\n",
    "5 3 4 1\n",
    "\n",
    "**Sample Output:**\n",
    "\n",
    "1\n",
    "\n",
    "3"
   ]
  },
  {
   "cell_type": "code",
   "execution_count": 5,
   "metadata": {},
   "outputs": [
    {
     "name": "stdout",
     "output_type": "stream",
     "text": [
      "1\n",
      "3\n"
     ]
    }
   ],
   "source": [
    "def count_sunset_buildings(T, test_cases):\n",
    "    results = []\n",
    "    \n",
    "    for i in range(T):\n",
    "        N = test_cases[i][0]\n",
    "        heights = test_cases[i][1]\n",
    "        \n",
    "        max_height = 0\n",
    "        sunset_count = 0\n",
    "        \n",
    "        for height in reversed(heights):\n",
    "            if height > max_height:\n",
    "                sunset_count += 1\n",
    "                max_height = height\n",
    "        results.append(sunset_count)\n",
    "    return results\n",
    "\n",
    "T = int(input())\n",
    "test_cases = []\n",
    "\n",
    "for _ in range(T):\n",
    "    N = int(input())\n",
    "    heights = list(map(int, input().split()))\n",
    "    test_cases.append((N, heights))\n",
    "\n",
    "# Count sunset buildings\n",
    "results = count_sunset_buildings(T, test_cases)\n",
    "for result in results:\n",
    "    print(result)"
   ]
  },
  {
   "cell_type": "markdown",
   "metadata": {},
   "source": [
    "### **276. There are N children standing in a line. Each child is assigned a rating value. You are giving candies to these children subjected to the following requirements:**\n",
    "\n",
    "1. Each child must have at least one candy.\n",
    "\n",
    "2. Children with a higher rating get more candies than their neighbors.\n",
    "\n",
    "What is the minimum candies you must give?\n",
    "\n",
    "Input Size : N<=100000\n",
    "\n",
    "**Example:**\n",
    "\n",
    "**INPUT**\n",
    "\n",
    "5\n",
    "\n",
    "1 2 4 1 2\n",
    "\n",
    "**OUTPUT**\n",
    "\n",
    "9"
   ]
  },
  {
   "cell_type": "code",
   "execution_count": 6,
   "metadata": {},
   "outputs": [
    {
     "name": "stdout",
     "output_type": "stream",
     "text": [
      "9\n"
     ]
    }
   ],
   "source": [
    "def min_candies(n, ratings):\n",
    "    # Initialize candies array with 1 candy for each child\n",
    "    candies = [1] * n\n",
    "    \n",
    "    # Left-to-right pass\n",
    "    for i in range(1, n):\n",
    "        if ratings[i] > ratings[i - 1]:\n",
    "            candies[i] = candies[i - 1] + 1\n",
    "    \n",
    "    # Right-to-left pass\n",
    "    for i in range(n - 2, -1, -1):\n",
    "        if ratings[i] > ratings[i + 1]:\n",
    "            candies[i] = max(candies[i], candies[i + 1] + 1)\n",
    "    return sum(candies)\n",
    "\n",
    "n = int(input())\n",
    "ratings = list(map(int, input().split()))\n",
    "print(min_candies(n, ratings))"
   ]
  },
  {
   "cell_type": "markdown",
   "metadata": {},
   "source": [
    "### **277. Given a number N and an array of N elements, find the number of triplets ai < aj < ak (i < j < k) in the array.Don't change the given sequence and if it is not possible to form triplet print '-1'.**\n",
    "\n",
    "Input Size : 3<=N<=1000\n",
    "\n",
    "**Example:**\n",
    "\n",
    "**INPUT:**\n",
    "\n",
    "4\n",
    "\n",
    "1 2 3 4\n",
    "\n",
    "**OUTPUT:**\n",
    "\n",
    "4"
   ]
  },
  {
   "cell_type": "code",
   "execution_count": 7,
   "metadata": {},
   "outputs": [
    {
     "name": "stdout",
     "output_type": "stream",
     "text": [
      "4\n"
     ]
    }
   ],
   "source": [
    "def count_triplets(n, arr):\n",
    "    if n < 3:\n",
    "        return -1\n",
    "\n",
    "    count = 0\n",
    "    for j in range(1, n - 1):   # Iterate through each element as the middle element of the triplet\n",
    "        left_count = 0\n",
    "        right_count = 0\n",
    "\n",
    "        # Count elements to the left of arr[j] that are smaller\n",
    "        for i in range(j):\n",
    "            if arr[i] < arr[j]:\n",
    "                left_count += 1\n",
    "\n",
    "        # Count elements to the right of arr[j] that are larger\n",
    "        for k in range(j + 1, n):\n",
    "            if arr[k] > arr[j]:\n",
    "                right_count += 1\n",
    "        count += left_count * right_count\n",
    "    return count if count > 0 else -1\n",
    "\n",
    "n = int(input())\n",
    "arr = list(map(int, input().split()))\n",
    "print(count_triplets(n, arr))"
   ]
  },
  {
   "cell_type": "markdown",
   "metadata": {},
   "source": [
    "### **278. Given a list of N coins, their values (V1, V2, … , VN), and the total sum S. Find the minimum number of coins the sum of which is S (we can use as many coins of one type as we want), if it is not possible to select coins in such a way that they sum up to S then print '-1'.**\n",
    "\n",
    "Example: Given coins with values 1, 3, and 5. And the sum S is 11.\n",
    "\n",
    "Output: 3, 2 coins of 3 and 1 coin of 5\n",
    "\n",
    "Input Size : N<=10000\n",
    "\n",
    "**Example:**\n",
    "\n",
    "**INPUT**\n",
    "\n",
    "3 11\n",
    "\n",
    "1 3 5\n",
    "\n",
    "**OUTPUT**\n",
    "\n",
    "3"
   ]
  },
  {
   "cell_type": "code",
   "execution_count": 8,
   "metadata": {},
   "outputs": [
    {
     "name": "stdout",
     "output_type": "stream",
     "text": [
      "3\n"
     ]
    }
   ],
   "source": [
    "def min_coins(coins, N, S):\n",
    "    dp = [float('inf')] * (S + 1)   # Initialize dp array with a value greater than the maximum possible (S+1)\n",
    "    \n",
    "    dp[0] = 0\n",
    "    for i in range(1, S + 1):   # Compute minimum coins required for all values from 1 to S\n",
    "        for coin in coins:\n",
    "            if coin <= i:\n",
    "                dp[i] = min(dp[i], dp[i - coin] + 1)\n",
    "    return dp[S] if dp[S] != float('inf') else -1\n",
    "\n",
    "N, S = map(int, input().split())\n",
    "coins = list(map(int, input().split()))\n",
    "print(min_coins(coins, N, S))"
   ]
  },
  {
   "cell_type": "markdown",
   "metadata": {},
   "source": [
    "### **279. Given 2 numbers N,M corresponding to the number of 0 and 1 respectively, print anarrangement of cards which satisfies the following conditions:**\n",
    "\n",
    "1)There wouldn't be a pair of any side-adjacent cards with zeroes in a row.\n",
    "\n",
    "2)There wouldn't be a group of three consecutive cards containing numbers one.\n",
    "\n",
    "If multiple solutions are possible print the first solution.\n",
    "\n",
    "Print '-1' if it is impossible.\n",
    "\n",
    "Input Size : 1<=N<=100000\n",
    "\n",
    "**Example:**\n",
    "\n",
    "**INPUT**\n",
    "\n",
    "1 2\n",
    "\n",
    "**OUTPUT**\n",
    "\n",
    "101"
   ]
  },
  {
   "cell_type": "code",
   "execution_count": null,
   "metadata": {},
   "outputs": [
    {
     "name": "stdout",
     "output_type": "stream",
     "text": [
      "101\n"
     ]
    }
   ],
   "source": [
    "def arrange_cards(N, M):\n",
    "    if M > 2 * (N + 1) or N > M + 1:    # Check for impossible cases\n",
    "        return \"-1\"\n",
    "\n",
    "    result = []\n",
    "    while N > 0 or M > 0:\n",
    "        if M > 0:\n",
    "            result.append(\"1\")  # Always place '1' if available\n",
    "            M -= 1\n",
    "        if N > 0:\n",
    "            result.append(\"0\")  # Place '0' only if available\n",
    "            N -= 1\n",
    "        if M > N:\n",
    "            result.append(\"1\")  # Place an extra '1' if it's safe to do so\n",
    "            M -= 1\n",
    "    return ''.join(result)\n",
    "\n",
    "N, M = map(int, input().split())\n",
    "print(arrange_cards(N, M))"
   ]
  },
  {
   "cell_type": "markdown",
   "metadata": {},
   "source": [
    "### **280. You are given an array A containing N distinct positive integers.**\n",
    "\n",
    "Let A[i] represent an element in A.\n",
    "\n",
    "Mr. Beckham wants to perform an operation on the elements of A. He wants to choose a positive integer X and perform A[i]  := A[i] mod X for all i (1 <= i <= N). Help Mr. Beckham choose the smallest possible value of X such that the elements of the array remain distinct even after performing the operation. (It can be proven that an answer exists for all possible inputs)\n",
    "\n",
    "**Input Description:**\n",
    "\n",
    "The first line contains an integer N representing the number of elements in the array. The next line contains N distinct space separated integers denoting the array elements.\n",
    "\n",
    "**Output Description:**\n",
    "\n",
    "Print a single integer X\n",
    "\n",
    "**Sample Input:**\n",
    "\n",
    "2\n",
    "\n",
    "21 22\n",
    "\n",
    "**Sample Output:**\n",
    "\n",
    "2"
   ]
  },
  {
   "cell_type": "code",
   "execution_count": 11,
   "metadata": {},
   "outputs": [
    {
     "name": "stdout",
     "output_type": "stream",
     "text": [
      "2\n"
     ]
    }
   ],
   "source": [
    "def find_smallest_X(N, A):\n",
    "    X = 2\n",
    "    while True:\n",
    "        mod_values = [a % X for a in A]\n",
    "        if len(set(mod_values)) == N:\n",
    "            return X\n",
    "        X += 1\n",
    "\n",
    "N = int(input())\n",
    "A = list(map(int, input().split()))\n",
    "print(find_smallest_X(N, A))"
   ]
  },
  {
   "cell_type": "markdown",
   "metadata": {},
   "source": [
    "### **281. Your city has n junctions. There are m one-way roads between the junctions. As a mayor of the city, you have to ensure the security of all the junctions. To ensure the security, you have to build some police checkposts. Checkposts can only be built in a junction. A checkpost at junction i can protect junction j if either i = j or the police patrol car can go to j from i and then come back to i. Building checkposts costs some money. As some areas of the city are more expensive than others, building checkpost at some junctions might cost more money than other junctions. You have to determine the minimum possible money needed to ensure the security of all the junctions. Also you have to find the number of ways to ensure the security in minimum price and in addition in minimum number of checkposts. Two ways are different if any of the junctions contains a checkpost in one of them and do not contain in the other. Print two integers separated by spaces. The first one is the minimum possible money needed to ensure the security of all the junctions. And the second one is the number of ways you can ensure the security modulo.**\n",
    "\n",
    "Input Size : n<=100000 and m<=3*100000\n",
    "\n",
    "**Example:**\n",
    "\n",
    "**INPUT**\n",
    "\n",
    "3\n",
    "\n",
    "1 2 3\n",
    "\n",
    "3\n",
    "\n",
    "1 2\n",
    "\n",
    "2 3\n",
    "\n",
    "3 2\n",
    "\n",
    "**OUTPUT**\n",
    "\n",
    "3 1"
   ]
  },
  {
   "cell_type": "code",
   "execution_count": 12,
   "metadata": {},
   "outputs": [
    {
     "name": "stdout",
     "output_type": "stream",
     "text": [
      "3 1\n"
     ]
    }
   ],
   "source": [
    "import sys\n",
    "from collections import defaultdict, deque\n",
    "\n",
    "MOD = 10**9 + 7\n",
    "\n",
    "# Find SCCs using Kosaraju's Algorithm\n",
    "def kosaraju_scc(n, graph):\n",
    "    # Perform a DFS to get the finish order of nodes\n",
    "    order = []\n",
    "    visited = [False] * n\n",
    "\n",
    "    def dfs1(v):\n",
    "        visited[v] = True\n",
    "        for u in graph[v]:\n",
    "            if not visited[u]:\n",
    "                dfs1(u)\n",
    "        order.append(v)\n",
    "\n",
    "    for i in range(n):\n",
    "        if not visited[i]:\n",
    "            dfs1(i)\n",
    "\n",
    "    # Reverse the graph\n",
    "    reverse_graph = defaultdict(list)\n",
    "    for u in range(n):\n",
    "        for v in graph[u]:\n",
    "            reverse_graph[v].append(u)\n",
    "\n",
    "    # Perform DFS on the reversed graph in the reverse finish order\n",
    "    sccs = []\n",
    "    visited = [False] * n\n",
    "\n",
    "    def dfs2(v, component):\n",
    "        visited[v] = True\n",
    "        component.append(v)\n",
    "        for u in reverse_graph[v]:\n",
    "            if not visited[u]:\n",
    "                dfs2(u, component)\n",
    "\n",
    "    for v in reversed(order):\n",
    "        if not visited[v]:\n",
    "            component = []\n",
    "            dfs2(v, component)\n",
    "            sccs.append(component)\n",
    "    return sccs\n",
    "\n",
    "def min_cost_security(n, costs, m, edges):\n",
    "    # Build the graph\n",
    "    graph = defaultdict(list)\n",
    "    for u, v in edges:\n",
    "        graph[u-1].append(v-1)\n",
    "\n",
    "    # Find SCCs\n",
    "    sccs = kosaraju_scc(n, graph)\n",
    "\n",
    "    # Calculate the total minimum cost and the number of ways\n",
    "    total_cost = 0\n",
    "    total_ways = 1\n",
    "\n",
    "    for scc in sccs:\n",
    "        min_cost = float('inf')\n",
    "        count = 0\n",
    "        for node in scc:    # Find the minimum cost in this SCC\n",
    "            if costs[node] < min_cost:\n",
    "                min_cost = costs[node]\n",
    "                count = 1\n",
    "            elif costs[node] == min_cost:\n",
    "                count += 1\n",
    "        total_cost += min_cost\n",
    "        total_ways = (total_ways * count) % MOD\n",
    "    return total_cost, total_ways\n",
    "\n",
    "n = int(input())\n",
    "costs = list(map(int, input().split()))\n",
    "m = int(input())\n",
    "edges = [tuple(map(int, input().split())) for _ in range(m)]\n",
    "total_cost, total_ways = min_cost_security(n, costs, m, edges)\n",
    "print(total_cost, total_ways)"
   ]
  },
  {
   "cell_type": "markdown",
   "metadata": {},
   "source": [
    "### **282. Recently Kohli bought a very interesting book. He knows that it will take t seconds to read the book. Kohli wants to finish reading as fast as he can.But he has some work to do in each of n next days. The number of seconds that Kohli has to spend working during i-th day is ai. If some free time remains, he can spend it on reading. Help Kohli to determine the minimum number of day when He finishes reading. It is guaranteed that the answer doesn't exceed n. Remember that there are 86400 seconds in a day.**\n",
    "\n",
    "Input Size : N<=100T<=1000000\n",
    "\n",
    "**Example**\n",
    "\n",
    "**INPUT**\n",
    "\n",
    "2 2\n",
    "\n",
    "86400 86398\n",
    "\n",
    "**OUTPUT**\n",
    "\n",
    "2"
   ]
  },
  {
   "cell_type": "code",
   "execution_count": 13,
   "metadata": {},
   "outputs": [
    {
     "name": "stdout",
     "output_type": "stream",
     "text": [
      "2\n"
     ]
    }
   ],
   "source": [
    "def find_day_to_finish_book(n, t, work_times):\n",
    "    total_seconds_in_day = 86400\n",
    "    for day in range(n):\n",
    "        remaining_reading_time = total_seconds_in_day - work_times[day]\n",
    "        t -= remaining_reading_time\n",
    "        if t <= 0:\n",
    "            return day + 1\n",
    "    return -1\n",
    "\n",
    "n, t = map(int, input().split())\n",
    "work_times = list(map(int, input().split()))\n",
    "print(find_day_to_finish_book(n, t, work_times))"
   ]
  },
  {
   "cell_type": "markdown",
   "metadata": {},
   "source": [
    "### **283. Given 2 numbers N,Q and an array of N integers, followed by Q queries each consisting of L,R. Find the GCD of numbers in [L,R]. If there is only one number in the given range, then print the number itself.**\n",
    "\n",
    "Input Size : 1<=N<=1000\n",
    "\n",
    "**Example:**\n",
    "\n",
    "**INPUT**\n",
    "\n",
    "5 2\n",
    "\n",
    "1 2 3 4 5\n",
    "\n",
    "1 2\n",
    "\n",
    "4 5\n",
    "\n",
    "**OUTPUT**\n",
    "\n",
    "1\n",
    "\n",
    "1"
   ]
  },
  {
   "cell_type": "code",
   "execution_count": 23,
   "metadata": {},
   "outputs": [
    {
     "name": "stdout",
     "output_type": "stream",
     "text": [
      "1\n",
      "1\n"
     ]
    }
   ],
   "source": [
    "import math\n",
    "\n",
    "\n",
    "N, Q = map(int, input().split())\n",
    "arr = list(map(int, input().split()))\n",
    "prefix_gcd = [0] * (N + 1)\n",
    "for i in range(1, N + 1):\n",
    "    prefix_gcd[i] = math.gcd(prefix_gcd[i - 1], arr[i - 1])\n",
    "for _ in range(Q):\n",
    "    L, R = map(int, input().split())\n",
    "    if L == R:\n",
    "        print(arr[L - 1])\n",
    "    else:\n",
    "        result = prefix_gcd[R]\n",
    "        print(result)"
   ]
  },
  {
   "cell_type": "markdown",
   "metadata": {},
   "source": [
    "### **284. The Romans have attacked again. This time they are much more than the Persians but Shapur is ready to defeat them. He says: 'A lion is never afraid of a hundred sheep'.**\n",
    "\n",
    "Nevertheless Shapur has to find weaknesses in the Roman army to defeat them. So he gives the army a weakness number.\n",
    "\n",
    "In Shapur's opinion the weakness of an army is equal to the number of triplets i, j, k such that i < j < k and ai > aj > ak where ax is the power of man standing at position x. The Roman army has one special trait — powers of all the people in it are distinct.\n",
    "\n",
    "Help Shapur find out how weak the Romans are.\n",
    "\n",
    "The first line of input contains a single number n, the number of men in Roman army. Next line contains n different positive integers powers of men in the Roman army.\n",
    "\n",
    "Input Size : N<=100000\n",
    "\n",
    "**Example:**\n",
    "\n",
    "**INPUT**\n",
    "\n",
    "3\n",
    "\n",
    "3 2 1\n",
    "\n",
    "**OUTPUT**\n",
    "\n",
    "1"
   ]
  },
  {
   "cell_type": "code",
   "execution_count": 20,
   "metadata": {},
   "outputs": [
    {
     "name": "stdout",
     "output_type": "stream",
     "text": [
      "0\n"
     ]
    }
   ],
   "source": [
    "def count_weakness_triplets(n, powers):\n",
    "    def count_less_or_greater(bit, idx, n, less=True):\n",
    "        count = 0\n",
    "        while idx > 0 and idx <= n:\n",
    "            count += bit[idx]\n",
    "            idx -= idx & -idx if less else -idx & idx\n",
    "        return count\n",
    "\n",
    "    def update_bit(bit, idx, n, val):\n",
    "        while idx <= n and idx > 0:\n",
    "            bit[idx] += val\n",
    "            idx += idx & -idx\n",
    "    max_power = max(powers)\n",
    "    \n",
    "    left_greater = [0] * (max_power + 1)\n",
    "    right_less = [0] * (max_power + 1)\n",
    "    left_counts = [0] * n\n",
    "    right_counts = [0] * n\n",
    "    for i in range(n):\n",
    "        left_counts[i] = count_less_or_greater(left_greater, powers[i], max_power, less=False)\n",
    "        update_bit(left_greater, powers[i], max_power, 1)\n",
    "    \n",
    "    for i in range(n - 1, -1, -1):\n",
    "        right_counts[i] = count_less_or_greater(right_less, powers[i], max_power, less=True)\n",
    "        update_bit(right_less, powers[i], max_power, 1)\n",
    "    triplet_count = 0\n",
    "    for j in range(n):\n",
    "        triplet_count += left_counts[j] * right_counts[j]\n",
    "    return triplet_count\n",
    "    \n",
    "n = int(input())\n",
    "powers = list(map(int, input().split()))\n",
    "print(count_weakness_triplets(n, powers))"
   ]
  },
  {
   "cell_type": "markdown",
   "metadata": {},
   "source": [
    "### **285. N students have the option for opting N different courses. The data about which student has opted for which course is represented in a table with rows representing the course ids and the columns having the student names. The entries in the table are either 0 or 1. 1 if a particular student has opted for a particular course, and 0 if otherwise. Find the course id for which maximum number have opted for and also display the number of students who have opted for that course. Note: Course ids start from 0 and go upto N.**\n",
    " \n",
    "**Input Description:**\n",
    "\n",
    "The first line is two integers row and col denoting the no of rows and columns of table . Then in the next line are row*col space separated values of whether a student has opted a course or not.\n",
    "\n",
    "**Output Description:**\n",
    "\n",
    "Print the required course id and the number of students, separated by colons.\n",
    "\n",
    "**Sample Input:**\n",
    "\n",
    "3 4\n",
    "\n",
    "0 1 1 1\n",
    "\n",
    "0 0 1 1\n",
    "\n",
    "0 0 1 1\n",
    "\n",
    "**Sample Output:**\n",
    "\n",
    "0:3\n"
   ]
  },
  {
   "cell_type": "code",
   "execution_count": 14,
   "metadata": {},
   "outputs": [
    {
     "name": "stdout",
     "output_type": "stream",
     "text": [
      "0:3\n"
     ]
    }
   ],
   "source": [
    "def find_most_opted_course(matrix, rows, cols):\n",
    "    max_opt_count = -1\n",
    "    max_opt_course_id = -1\n",
    "    \n",
    "    # Iterate through each course\n",
    "    for course_id in range(rows):\n",
    "        opt_count = sum(matrix[course_id])\n",
    "        if opt_count > max_opt_count:\n",
    "            max_opt_count = opt_count\n",
    "            max_opt_course_id = course_id\n",
    "    \n",
    "    return max_opt_course_id, max_opt_count\n",
    "\n",
    "row, col = map(int, input().strip().split())\n",
    "matrix = []\n",
    "for _ in range(row):\n",
    "    matrix.append(list(map(int, input().strip().split())))\n",
    "\n",
    "# Finding the course with maximum opt-ins\n",
    "course_id, opt_count = find_most_opted_course(matrix, row, col)\n",
    "print(f\"{course_id}:{opt_count}\")"
   ]
  },
  {
   "cell_type": "markdown",
   "metadata": {},
   "source": [
    "### **286. A school was conducting the annual exam for students of class 6. A teacher invigilates the Computer Science exam and had strictly ordered all students to sit according to their roll numbers. However when she started checking the papers, she found out that some of the papers were randomly ordered, even though she had collected them bench-wise.The teacher got very angry and wanted to teach the students a lesson. She decides to sort the papers by Bubble Sort, count the number of swaps required for each and every student and deduct as many marks of a student as were the number of swaps required for that student.**\n",
    " \n",
    "**Input Description:**\n",
    "\n",
    "Number of students N, followed by their roll numbers(in the order in which they sat). The second line contains the individual marks of the students.\n",
    "\n",
    "**Output Description:**\n",
    "\n",
    "Final marks of the students after deduction.\n",
    "\n",
    "**Sample Input:**\n",
    "\n",
    "5\n",
    "\n",
    "1 2 3 5 4\n",
    "\n",
    "98 100 67 88 76\n",
    "\n",
    "**Sample Output:**\n",
    "\n",
    "98 100 67 87 75"
   ]
  },
  {
   "cell_type": "code",
   "execution_count": 15,
   "metadata": {},
   "outputs": [
    {
     "name": "stdout",
     "output_type": "stream",
     "text": [
      "98 100 67 87 75\n"
     ]
    }
   ],
   "source": [
    "def bubble_sort_with_swaps(roll_numbers, marks):\n",
    "    n = len(roll_numbers)\n",
    "    swap_count = [0] * n\n",
    "    for i in range(n):\n",
    "        for j in range(0, n - i - 1):\n",
    "            if roll_numbers[j] > roll_numbers[j + 1]:\n",
    "                roll_numbers[j], roll_numbers[j + 1] = roll_numbers[j + 1], roll_numbers[j]\n",
    "                swap_count[j] += 1\n",
    "                swap_count[j + 1] += 1\n",
    "    \n",
    "    for i in range(n):\n",
    "        marks[i] -= swap_count[i]    \n",
    "    return marks\n",
    "\n",
    "n = int(input())\n",
    "roll_numbers = list(map(int, input().split()))\n",
    "marks = list(map(int, input().split())) \n",
    "final_marks = bubble_sort_with_swaps(roll_numbers, marks)\n",
    "print(\" \".join(map(str, final_marks)))"
   ]
  },
  {
   "cell_type": "markdown",
   "metadata": {},
   "source": [
    "### **287. You are given a number of books and are asked to distribute them among students. Every book has distinct number of total pages.The distribution of books can be done in many ways. In each way, one of the students will be allocated books such that the he/she has the maximum number of total pages. Your task is to find the minimuma among all the maximuma, i.e. in all the possible number of ways in which the maximum number of pages can be allocated to a student. Each book will be allocated to exactly one student and each student has to be allocated at least one book. Confusing? Check out the explanation!**\n",
    "\n",
    "**Input Description:**\n",
    "\n",
    "The first line contains a single positive integer denoting the number of books. The second line contains space separated positive integers denoting the pages of each book. And the third line contains the number of students.\n",
    "\n",
    "**Output Description:**\n",
    "\n",
    "Output a single line containing maximum pages that can be allotted to a student.\n",
    "\n",
    "**Sample Input:**\n",
    "\n",
    "4\n",
    "\n",
    "12 34 67 90\n",
    "\n",
    "2\n",
    "\n",
    "**Sample Output:**\n",
    "\n",
    "102"
   ]
  },
  {
   "cell_type": "code",
   "execution_count": null,
   "metadata": {},
   "outputs": [
    {
     "name": "stdout",
     "output_type": "stream",
     "text": [
      "113\n"
     ]
    }
   ],
   "source": [
    "def is_possible(pages, num_students, max_pages):\n",
    "    student_count = 1\n",
    "    current_sum = 0\n",
    "    for page in pages:\n",
    "        if current_sum + page <= max_pages:\n",
    "            current_sum += page\n",
    "        else:\n",
    "            student_count += 1\n",
    "            current_sum = page\n",
    "            if student_count > num_students:\n",
    "                return False\n",
    "    return True\n",
    "\n",
    "def min_max_pages(books, num_students):\n",
    "    low = max(books)\n",
    "    high = sum(books)\n",
    "    while low < high:\n",
    "        mid = (low + high) // 2\n",
    "        if is_possible(books, num_students, mid):\n",
    "            high = mid\n",
    "        else:\n",
    "            low = mid + 1\n",
    "    return low\n",
    "\n",
    "num_books = int(input())\n",
    "books = list(map(int, input().split()))\n",
    "num_students = int(input())\n",
    "print(min_max_pages(books, num_students))"
   ]
  },
  {
   "cell_type": "markdown",
   "metadata": {},
   "source": [
    "### **288. There are n students in an institution. For each student you know the number of times he/she has participated in the ACM ICPC world programming championship. According to the ACM ICPCrules, each person can participate in the world championship at most 5 times. The head of the institution is recently gathering teams to participate in the world championship. Each team must consist of exactly three people, at that, any person cannot be a member of two ormore teams. What maximum number of teams can the head make if he wants each team to participate in the world championship with the same members at least k times?**\n",
    "\n",
    "Input Size : N<=10000\n",
    "\n",
    "**Example:**\n",
    "\n",
    "**INPUT**\n",
    "\n",
    "5 2\n",
    "\n",
    "0 4 5 1 0\n",
    "\n",
    "**OUTPUT**\n",
    "\n",
    "1"
   ]
  },
  {
   "cell_type": "code",
   "execution_count": null,
   "metadata": {},
   "outputs": [
    {
     "name": "stdout",
     "output_type": "stream",
     "text": [
      "1\n"
     ]
    }
   ],
   "source": [
    "def max_teams(n, k, participation):\n",
    "    max_allowed_participation = 5 - k\n",
    "    eligible_students = [p for p in participation if p <= max_allowed_participation]\n",
    "    return len(eligible_students) // 3\n",
    "\n",
    "n, k = map(int, input().split())\n",
    "participation = list(map(int, input().split()))\n",
    "print(max_teams(n, k, participation))"
   ]
  },
  {
   "cell_type": "markdown",
   "metadata": {},
   "source": [
    "### **289. ind the man who will survive. There is a scenario that only one person will survive. ‘N’ person will stand in a circle. Initially first person will be holding the gun. You are given with number ‘k’. The person who is holding the gun has to count to ‘k’ starting from him and shoot the person at which k ends and then pass the gun to next alive person. Your task is to find the place where you will survive.**\n",
    "\n",
    "**Input Description:**\n",
    "\n",
    "Two numbers – ‘N’ and ‘k’\n",
    "\n",
    "**Output Description:**\n",
    "\n",
    "Find the place where you will be safe (indexing at 1)\n",
    "\n",
    "**Sample Input:**\n",
    "\n",
    "2\n",
    "\n",
    "1\n",
    "\n",
    "**Sample Output:**\n",
    "\n",
    "2"
   ]
  },
  {
   "cell_type": "code",
   "execution_count": 19,
   "metadata": {},
   "outputs": [
    {
     "name": "stdout",
     "output_type": "stream",
     "text": [
      "2\n"
     ]
    }
   ],
   "source": [
    "def josephus(N, k):\n",
    "    safe_position = 0  # Base case for when there's 1 person\n",
    "    for i in range(2, N + 1):\n",
    "        safe_position = (safe_position + k) % i\n",
    "    return safe_position + 1  # Convert to 1-based index\n",
    "\n",
    "N = int(input())\n",
    "k = int(input())\n",
    "print(josephus(N, k))"
   ]
  },
  {
   "cell_type": "markdown",
   "metadata": {},
   "source": [
    "### **290. Dhoni plays his favorite game 'Peace Lightning'. Now he is flying a bomber on a very specific map. Formally, map is a checkered field of size 1 × n, the cells of which are numbered from 1 to n, in each cell there can be one or several tanks. Dhoni doesn't know the number of tanks and their positions, because he flies very high, but he can drop a bomb in any cell. All tanks in this cell will be damaged. If a tank takes damage for the first time, it instantly moves to one of the neighboring cells (a tank in the cell n can only move to the cell n - 1, a tank in the cell 1 can only move to the cell 2). If a tank takes damage for the second time, it's counted as destroyed and never moves again. The tanks move only when they are damaged for the first time, they do not move by themselves. Help Dhoni to destroy all tanks using as few bombs as possible.**\n",
    "\n",
    "Input Size : N<=1000000\n",
    "\n",
    "**Example:**\n",
    "\n",
    "**INPUT**\n",
    "\n",
    "2\n",
    "\n",
    "**OUTPUT**\n",
    "\n",
    "3\n",
    "\n",
    "2 1 2"
   ]
  },
  {
   "cell_type": "code",
   "execution_count": 31,
   "metadata": {},
   "outputs": [
    {
     "name": "stdout",
     "output_type": "stream",
     "text": [
      "3\n",
      "2 1 2\n"
     ]
    }
   ],
   "source": [
    "def destroy_tanks(n):\n",
    "    bombs = []\n",
    "    for i in range(2, n + 1, 2):\n",
    "        bombs.append(i)\n",
    "    \n",
    "    for i in range(1, n + 1, 2):\n",
    "        bombs.append(i)\n",
    "    \n",
    "    for i in range(2, n + 1, 2):\n",
    "        bombs.append(i)\n",
    "    print(len(bombs))\n",
    "    print(*bombs)\n",
    "\n",
    "n = int(input())\n",
    "destroy_tanks(n)"
   ]
  },
  {
   "cell_type": "markdown",
   "metadata": {},
   "source": [
    "### **291. An athletic championship is to be conducted in Chennai. But due to flash floods, the track got damaged severely. However, the authorities managed to repair most of the tracks. A barrier is placed across those tracks which couldn’t be repaired. i1 and i2 denote the span of a barrier (eg) if i1=2 and i2=5, then the barrier spans from track 2 to track 5. Help the Sports Authority decide how many athletes can run in a single race so that none of them would have to switch tracks? Note: An athlete cannot switch from one track to another while sprinting.**\n",
    "\n",
    "**Input Description:**\n",
    "\n",
    "First line contains number of barriers followed by the total number of tracks.\n",
    "\n",
    "**Output Description:**\n",
    "\n",
    "Number of athletes that can run in a single race.\n",
    "\n",
    "**Sample Input:**\n",
    "\n",
    "1 10\n",
    "\n",
    "5 6\n",
    "\n",
    "**Sample Output:**\n",
    "\n",
    "8"
   ]
  },
  {
   "cell_type": "code",
   "execution_count": 32,
   "metadata": {},
   "outputs": [
    {
     "name": "stdout",
     "output_type": "stream",
     "text": [
      "8\n"
     ]
    }
   ],
   "source": [
    "def max_athletes():\n",
    "    first_line = input().split()\n",
    "    num_barriers = int(first_line[0])\n",
    "    total_tracks = int(first_line[1])\n",
    "\n",
    "    blocked_tracks = set()\n",
    "    for _ in range(num_barriers):\n",
    "        i1, i2 = map(int, input().split())\n",
    "        blocked_tracks.update(range(i1, i2 + 1))\n",
    "    unblocked_tracks = total_tracks - len(blocked_tracks)\n",
    "    print(unblocked_tracks)\n",
    "\n",
    "max_athletes()"
   ]
  },
  {
   "cell_type": "code",
   "execution_count": null,
   "metadata": {},
   "outputs": [
    {
     "name": "stdout",
     "output_type": "stream",
     "text": [
      "8\n"
     ]
    }
   ],
   "source": [
    "# Another Approach:\n",
    "\n",
    "num_barriers, total_tracks = map(int, input().split())\n",
    "tracks = [True] * total_tracks\n",
    "for _ in range(num_barriers):\n",
    "    i1, i2 = map(int, input().split())\n",
    "    for i in range(i1-1, i2):\n",
    "        tracks[i] = False\n",
    "\n",
    "undamaged_tracks = sum(tracks)\n",
    "print(undamaged_tracks)"
   ]
  },
  {
   "cell_type": "markdown",
   "metadata": {},
   "source": [
    "### **292. Rohit is a bachelor and is looking for a suitable girl to marry.**\n",
    "\n",
    "He wants to marry a girl who has at least one of the 8 qualities mentioned below:-\n",
    "\n",
    "1) The girl should be rich.\n",
    "\n",
    "2) The girl should be an Engineer/Doctor.\n",
    "\n",
    "3) The girl should be beautiful.\n",
    "\n",
    "4) The girl should be of height 5.3\".\n",
    "\n",
    "5) The girl should be working in an MNC.\n",
    "\n",
    "6) The girl should be an extrovert.\n",
    "\n",
    "7) The girl should not have spectacles.\n",
    "\n",
    "8) The girl should be kind and honest.\n",
    "\n",
    "He is in search of a bride who has some or all of the 8 qualities mentioned above. On bride hunting, he may find more than one contenders to be his wife.\n",
    "\n",
    "In that case, he wants to choose a girl whose house is closest to his house. Find a bride for Rohit who has maximum qualities. If in case, there are more than one contenders who are at equal distance from Rohit's house; then\n",
    "\n",
    "print \"“He's not interested in polygamy”\".\n",
    "\n",
    "In case there is no suitable girl who fits the criteria then print “\"No suitable girl found\"”\n",
    "\n",
    "Given a Matrix N*M, Rohit's house is at (1, 1). It is denoted by value 1. In the same matrix, the location of a marriageable Girl is also denoted by 1. Since, the location of the boy is at location (1, 1), it should not be considered as the location of a marriageable Girl’s location.\n",
    "\n",
    "The qualities of that girl, as per Rohit's criteria, have to be decoded from the number of non-zero neighbors (max 8-way) she has. Similar to the condition above, 1 at location (1, 1) should not be considered as the quality of a Girl. See Example section to get a better understanding.\n",
    "\n",
    "Find a suitable bride for Rohit and print the row and column of the bride, and find out the number of qualities that the Bride possesses.\n",
    "\n",
    "NOTE: - Distance is calculated in number of hops in any direction i.e. (Left, Right, Up, Down and Diagonal)\n",
    "\n",
    "**Input Description:**\n",
    "\n",
    "First Line contains the row (N) and column (M) of the houses Next N lines contain the data about girls and their qualities.\n",
    "\n",
    "**Output Description:**\n",
    "\n",
    "It will contain the row and column of the bride, and the number of qualities that Bride possess separated by a colon (i.e. :).\n",
    "\n",
    "**Sample Input:**\n",
    "\n",
    "2 9\n",
    "\n",
    "1 0 1 1 0 1 1 1 1\n",
    "\n",
    "0 0 0 1 0 1 0 0 1\n",
    "\n",
    "**Sample Output:**\n",
    "\n",
    "1:7:3"
   ]
  },
  {
   "cell_type": "code",
   "execution_count": null,
   "metadata": {},
   "outputs": [
    {
     "name": "stdout",
     "output_type": "stream",
     "text": [
      "1:7:3\n"
     ]
    }
   ],
   "source": [
    "def solve():\n",
    "    N, M = map(int, input().split())\n",
    "    matrix = []\n",
    "    for _ in range(N):\n",
    "        row = list(map(int, input().split()))\n",
    "        matrix.append(row)\n",
    "    \n",
    "    # Direction vectors for checking 8 neighbors (up, down, left, right, and diagonals)\n",
    "    directions = [(-1, 0), (1, 0), (0, -1), (0, 1), \n",
    "                  (-1, -1), (-1, 1), (1, -1), (1, 1)]\n",
    "    \n",
    "    max_qualities = -1\n",
    "    best_girl = None\n",
    "    best_distance = float('inf')\n",
    "    tie = False\n",
    "    \n",
    "    # calculate the number of qualities (non-zero neighbors)\n",
    "    def count_qualities(i, j):\n",
    "        count = 0\n",
    "        for di, dj in directions:\n",
    "            ni, nj = i + di, j + dj\n",
    "            if 0 <= ni < N and 0 <= nj < M and matrix[ni][nj] == 1:\n",
    "                count += 1\n",
    "        return count\n",
    "    \n",
    "    # Loop over the matrix to check for all girls except Rohit's position (0,0)\n",
    "    for i in range(N):\n",
    "        for j in range(M):\n",
    "            if (i == 0 and j == 0) or matrix[i][j] == 0:\n",
    "                continue  # Skip Rohit's position or empty cells\n",
    "            \n",
    "            # Calculate the number of qualities (neighbors)\n",
    "            qualities = count_qualities(i, j)\n",
    "            \n",
    "            # Calculate the distance from Rohit's house (0,0)\n",
    "            distance = max(abs(i - 0), abs(j - 0))  # Chebyshev distance\n",
    "            \n",
    "            # Check if we need to update the best candidate\n",
    "            if qualities > max_qualities:\n",
    "                max_qualities = qualities\n",
    "                best_girl = (i + 1, j + 1)  # Convert to 1-based index\n",
    "                best_distance = distance\n",
    "                tie = False  # Reset tie flag\n",
    "            elif qualities == max_qualities:\n",
    "                if distance < best_distance:\n",
    "                    best_girl = (i + 1, j + 1)\n",
    "                    best_distance = distance\n",
    "                    tie = False\n",
    "                elif distance == best_distance:\n",
    "                    tie = True\n",
    "    \n",
    "    if best_girl is None:\n",
    "        print(\"No suitable girl found\")\n",
    "    elif tie:\n",
    "        print(\"He's not interested in polygamy\")\n",
    "    else:\n",
    "        print(f\"{best_girl[0]}:{best_girl[1]}:{max_qualities}\")\n",
    "\n",
    "solve()"
   ]
  },
  {
   "cell_type": "markdown",
   "metadata": {},
   "source": [
    "### **293. There are n people and k keys on a straight line. Every person wants to get to the office which is located on the line as well. To do that, he needs to reach some point with a key, take the key and then go to the office. Once a key is taken by somebody, it couldn't be taken by anybody else. You are to determine the minimum time needed for all n people to get to the office with keys. Assume that people move a unit distance per 1 second. If two people reach a key at the same time, only one of them can take the key. A person can pass through a point with a key without taking it. The first line contains three integers n, k and p (1 ≤ n ≤ 1 000, n ≤ k ≤ 2 000, 1 ≤ p ≤ 1000000000) — the number of people, the number of keys and the office location. The second line contains n distinct integers a1, a2, ..., an (1 ≤ ai ≤ 1000000000) — positions in which people are located initially. The positions are given in arbitrary order. The third line contains k distinct integers b1, b2, ..., bk (1 ≤ bj ≤ 1000000000) — positions of the keys. The positions are given in arbitrary order. Note that there can't be more than one person or more than one key in the same point. A person and a key can be located in the same point.**\n",
    "\n",
    "**Example:**\n",
    "\n",
    "**INPUT**\n",
    "\n",
    "2 4 50\n",
    "\n",
    "20 100\n",
    "\n",
    "60 10 40 80\n",
    "\n",
    "**OUTPUT**\n",
    "\n",
    "50"
   ]
  },
  {
   "cell_type": "code",
   "execution_count": 32,
   "metadata": {},
   "outputs": [
    {
     "name": "stdout",
     "output_type": "stream",
     "text": [
      "50\n"
     ]
    }
   ],
   "source": [
    "def can_all_people_reach_in_time(time, n, k, p, people_positions, keys_positions):\n",
    "    j = 0  # Pointer to keys\n",
    "    # Try to assign each person a key\n",
    "    for person in people_positions:\n",
    "        # Find the closest key within the allowed time\n",
    "        while j < k and abs(person - keys_positions[j]) + abs(keys_positions[j] - p) > time:\n",
    "            j += 1\n",
    "        if j == k:\n",
    "            return False  # No more keys available for this person\n",
    "        j += 1  # Move to the next key as it's taken\n",
    "    return True\n",
    "\n",
    "def find_minimum_time(n, k, p, people_positions, keys_positions):\n",
    "    people_positions.sort()\n",
    "    keys_positions.sort()\n",
    "    \n",
    "    # Binary search over time\n",
    "    low, high = 0, 2 * 10**9  # High is set to an arbitrary large value\n",
    "    result = high\n",
    "    \n",
    "    while low <= high:\n",
    "        mid = (low + high) // 2\n",
    "        if can_all_people_reach_in_time(mid, n, k, p, people_positions, keys_positions):\n",
    "            result = mid\n",
    "            high = mid - 1\n",
    "        else:\n",
    "            low = mid + 1    \n",
    "    return result\n",
    "\n",
    "n, k, p = list(map(int, input().split()))\n",
    "people_positions = list(map(int, input().split()))\n",
    "keys_positions = list(map(int, input().split()))\n",
    "print(find_minimum_time(n, k, p, people_positions, keys_positions))"
   ]
  },
  {
   "cell_type": "markdown",
   "metadata": {},
   "source": [
    "### **294. Rohan is given a matrix with 1’s and 0’s. His task is to calculate the maximum possible rectangular area formed by 1’s. He has gone really confused after seeing this problem.Your task is to develop an algorithm for him.**\n",
    "\n",
    "**Input Description:**\n",
    "\n",
    "You are given two integers ‘a’ and ‘b’,denoting the size of matrix ‘m’, Next line contains a*b elements.\n",
    "\n",
    "**Output Description:**\n",
    "\n",
    "Print the max area possible\n",
    "\n",
    "**Sample Input:**\n",
    "\n",
    "4 4\n",
    "\n",
    "0 1 1 0 1 1 1 1 1 1 1 1 1 1 0 0\n",
    "\n",
    "**Sample Output:**\n",
    "\n",
    "10"
   ]
  },
  {
   "cell_type": "code",
   "execution_count": 40,
   "metadata": {},
   "outputs": [
    {
     "name": "stdout",
     "output_type": "stream",
     "text": [
      "8\n"
     ]
    }
   ],
   "source": [
    "def max_histogram_area(heights):\n",
    "    stack = []\n",
    "    max_area = 0\n",
    "    index = 0\n",
    "\n",
    "    while index < len(heights):\n",
    "        if not stack or heights[index] >= heights[stack[-1]]:\n",
    "            stack.append(index)\n",
    "            index += 1\n",
    "        else:\n",
    "            top_of_stack = stack.pop()\n",
    "            area = (\n",
    "                heights[top_of_stack] *\n",
    "                (index if not stack else index - stack[-1] - 1))\n",
    "            max_area = max(max_area, area)\n",
    "\n",
    "    while stack:\n",
    "        top_of_stack = stack.pop()\n",
    "        area = (\n",
    "            heights[top_of_stack] *\n",
    "            (index if not stack else index - stack[-1] - 1))\n",
    "        max_area = max(max_area, area)\n",
    "    return max_area\n",
    "\n",
    "def max_rectangle_area(matrix, a, b):\n",
    "    histogram = [0] * b\n",
    "    max_area = 0\n",
    "\n",
    "    for row in matrix:\n",
    "        for i in range(b):\n",
    "            histogram[i] = histogram[i] + 1 if row[i] == 1 else 0\n",
    "        max_area = max(max_area, max_histogram_area(histogram))\n",
    "    return max_area\n",
    "\n",
    "a, b = map(int, input().split())\n",
    "elements = list(map(int, input().split()))\n",
    "matrix = [elements[i * b:(i + 1) * b] for i in range(a)]\n",
    "print(max_rectangle_area(matrix, a, b))"
   ]
  },
  {
   "cell_type": "markdown",
   "metadata": {},
   "source": [
    "### **295. A kindergarten teacher has to arrange 2n children in n pairs for daily walks. Design an algorithm for this task so that for 2n − 1 days no pair would be the same and print the total number of distinct pairs.The given input indicates 2n.**\n",
    "\n",
    "Input Size : |2n|<=10000\n",
    "\n",
    "**Example:**\n",
    "\n",
    "**INPUT**\n",
    "\n",
    "4\n",
    "\n",
    "**OUTPUT**\n",
    "\n",
    "6"
   ]
  },
  {
   "cell_type": "code",
   "execution_count": 44,
   "metadata": {},
   "outputs": [
    {
     "name": "stdout",
     "output_type": "stream",
     "text": [
      "6\n"
     ]
    }
   ],
   "source": [
    "def generate_pairs(n):\n",
    "    children = list(range(1, n + 1))\n",
    "    total_pairs = []\n",
    "    \n",
    "    for day in range(n - 1):\n",
    "        pairs = []\n",
    "        for i in range(n):\n",
    "            pairs.append((children[i], children[-(i + 1)]))\n",
    "        total_pairs.extend(pairs)\n",
    "        children = [children[0]] + children[-1:] + children[1:-1]\n",
    "    \n",
    "    distinct_pairs = set((min(a, b), max(a, b)) for a, b in total_pairs)\n",
    "    return len(distinct_pairs)\n",
    "\n",
    "n = int(input())\n",
    "print(generate_pairs(n))"
   ]
  },
  {
   "cell_type": "markdown",
   "metadata": {},
   "source": [
    "### **296. You are given with an array containing only 1s and 0s.You can select two index ‘a’ and ‘b’ such that a<b in which you will change ‘1 to 0’ and ‘0 to 1’,in order to get maximum no of 1s in result.**\n",
    "\n",
    "**Input Description:**\n",
    "\n",
    "You are given with array of 1’s and 0’s\n",
    "\n",
    "**Output Description:**\n",
    "\n",
    "Print the two index ‘a’ and ‘b‘.Print -1 if we don’t require a and b\n",
    "\n",
    "**Sample Input:**\n",
    "\n",
    "1111100\n",
    "\n",
    "**Sample Output:**\n",
    "\n",
    "5 7"
   ]
  },
  {
   "cell_type": "code",
   "execution_count": 49,
   "metadata": {},
   "outputs": [
    {
     "name": "stdout",
     "output_type": "stream",
     "text": [
      "5 7\n"
     ]
    }
   ],
   "source": [
    "l = list(str(input()))\n",
    "if l.count('0') <= 1: print(\"-1\")\n",
    "else:\n",
    "    ln = []\n",
    "    ans = []\n",
    "    for i in range(len(l)):\n",
    "        if l[i] == '0':\n",
    "            count = 0\n",
    "            for j in range(i, len(l)):\n",
    "                if l[j] == '1': break\n",
    "                else:count += 1\n",
    "            ln.append(count)\n",
    "            ans.append([i, i+count])\n",
    "    mx = ln[0]\n",
    "    idx = 0\n",
    "    for i in range(len(ln)):\n",
    "        if ln[i] > mx:\n",
    "            mx = ln[i]\n",
    "            idx = i\n",
    "    print(*ans[idx])"
   ]
  },
  {
   "cell_type": "markdown",
   "metadata": {},
   "source": [
    "### **297. You are given with arrays containing some non negative integers.Your task is to make the largest number out of it.**\n",
    "\n",
    "**Input Description:**\n",
    "\n",
    "First line contains the size of array ’n’. Second line contains the n space separated integers.\n",
    "\n",
    "**Output Description:**\n",
    "\n",
    "Print the largest element that can be form out of the array\n",
    "\n",
    "**Sample Input:**\n",
    "\n",
    "6\n",
    "\n",
    "12 19 546 60\n",
    "\n",
    "**Sample Output:**\n",
    "\n",
    "605461912"
   ]
  },
  {
   "cell_type": "code",
   "execution_count": 50,
   "metadata": {},
   "outputs": [
    {
     "name": "stdout",
     "output_type": "stream",
     "text": [
      "605461912\n"
     ]
    }
   ],
   "source": [
    "from functools import cmp_to_key\n",
    "\n",
    "# Custom comparator function to compare concatenated numbers\n",
    "def compare(a, b):\n",
    "    if a + b > b + a:\n",
    "        return -1  # a should come before b\n",
    "    elif a + b < b + a:\n",
    "        return 1   # b should come before a\n",
    "    else:\n",
    "        return 0   # both are equal\n",
    "\n",
    "def largest_number(arr):\n",
    "    arr = list(map(str, arr))\n",
    "    arr.sort(key=cmp_to_key(compare))\n",
    "    if arr[0] == '0':\n",
    "        return '0'\n",
    "    return ''.join(arr)\n",
    "\n",
    "n = int(input())\n",
    "arr = list(map(int, input().split()))\n",
    "print(largest_number(arr))"
   ]
  },
  {
   "cell_type": "markdown",
   "metadata": {},
   "source": [
    "### **298. Chan’s girlfriend's birthday is near, so he wants to surprise her by making a special cake for her. Chan knows that his girlfriend likes cherries on the cake, so he puts cherries on the top of the cake, but he was not satisfied. Therefore, he decided to replace some of the cherries to make a beautiful pattern. However, Chan has a lot of other work to do so he decided to ask for your help. The cherries are of two colors red and green. Now Chan wants the cherries to be placed in such a way that each cherry of one color must be adjacent to only cherries of the other color, two cherries are adjacent if they share a side. Now Chan has asked for your help in making that pattern on the cake.You can replace any cherry of given color with the other color. But there is a cost for each replacement: if you replace a red cherry with a green one, the cost is 5 units and if you replace a green cherry with a red one, the cost is 3 units. Help your friend Chan by making the cake special with minimum cost.If there is no need of any changes print '0'(ie. minimum cost is zero).**\n",
    "\n",
    "Input Size : N<=1000, M<=1000\n",
    "\n",
    "**Example:**\n",
    "\n",
    "**INPUT**\n",
    "\n",
    "2 3\n",
    "\n",
    "RRG\n",
    "\n",
    "GGR\n",
    "\n",
    "**OUTPUT**\n",
    "\n",
    "8"
   ]
  },
  {
   "cell_type": "code",
   "execution_count": 51,
   "metadata": {},
   "outputs": [
    {
     "name": "stdout",
     "output_type": "stream",
     "text": [
      "8\n"
     ]
    }
   ],
   "source": [
    "def min_cost_to_pattern(n, m, grid):\n",
    "    cost_pattern1 = 0\n",
    "    cost_pattern2 = 0\n",
    "    for i in range(n):\n",
    "        for j in range(m):\n",
    "            current_color = grid[i][j]\n",
    "            if (i + j) % 2 == 0:\n",
    "                expected1 = 'R'\n",
    "                expected2 = 'G'\n",
    "            else:\n",
    "                expected1 = 'G'\n",
    "                expected2 = 'R'\n",
    "            if current_color != expected1:\n",
    "                if current_color == 'R' and expected1 == 'G':\n",
    "                    cost_pattern1 += 5\n",
    "                else:\n",
    "                    cost_pattern1 += 3\n",
    "            if current_color != expected2:\n",
    "                if current_color == 'R' and expected2 == 'G':\n",
    "                    cost_pattern2 += 5\n",
    "                else:\n",
    "                    cost_pattern2 += 3\n",
    "    return min(cost_pattern1, cost_pattern2)\n",
    "\n",
    "n, m = map(int, input().split())\n",
    "grid = [input().strip() for _ in range(n)]\n",
    "print(min_cost_to_pattern(n, m, grid))"
   ]
  },
  {
   "cell_type": "markdown",
   "metadata": {},
   "source": [
    "### **299. You are given an array a. Some element of this array ai is a local minimum iff it is strictly less than both of its neighbours (that is, ai < ai - 1 and ai < ai + 1). Also the element can be called local maximum iff it is strictly greater than its neighbours (that is, ai > ai - 1 and ai > ai + 1). Since a1 and an have only one neighbour each, they are neither local minima nor local maxima. An element is called a local extremum iff it is either local maximum or local minimum. Your task is to calculate the number of local extrema in the given array.**\n",
    "\n",
    "Input Size : N<=1000\n",
    "\n",
    "**Example:**\n",
    "\n",
    "**INPUT**\n",
    "\n",
    "3\n",
    "\n",
    "1 2 3\n",
    "\n",
    "**OUTPUT**\n",
    "\n",
    "2"
   ]
  },
  {
   "cell_type": "code",
   "execution_count": null,
   "metadata": {},
   "outputs": [
    {
     "name": "stdout",
     "output_type": "stream",
     "text": [
      "2\n"
     ]
    }
   ],
   "source": [
    "def count_local_extrema(arr, n):\n",
    "    count = 0\n",
    "    for i in range(1, n - 1):\n",
    "        if (arr[i] < arr[i - 1] and arr[i] < arr[i + 1]) or (arr[i] > arr[i - 1] and arr[i] > arr[i + 1]):\n",
    "            count += 1    \n",
    "    return count\n",
    "\n",
    "n = int(input())\n",
    "arr = list(map(int, input().split()))\n",
    "print(count_local_extrema(arr, n))"
   ]
  },
  {
   "cell_type": "markdown",
   "metadata": {},
   "source": [
    "### **300. You are given an array a of size n, and q queries to it. There are queries of two types:**\n",
    "\n",
    "1) li ri — perform a cyclic shift of the segment [li, ri] to the right. That is, for every x such that li ≤ x < ri new value of ax + 1 becomes equal to old value of ax, and new value of ali becomes equal to old value of ari.\n",
    "\n",
    "2) li ri — reverse the segment [li, ri].There are m important indices in the array b1, b2, ..., bm. For each i such that 1 ≤ i ≤ m you have to output the number that will have index bi in the array after all queries are performed.\n",
    "\n",
    "Input Size : N,Q<=100000, m<=100\n",
    "\n",
    "**Example:**\n",
    "\n",
    "**INPUT**\n",
    "\n",
    "6 3 5\n",
    "\n",
    "1 2 3 4 5 6\n",
    "\n",
    "2 1 3\n",
    "\n",
    "2 3 6\n",
    "\n",
    "1 1 6\n",
    "\n",
    "2 2 1 5 3\n",
    "\n",
    "**OUTPUT**\n",
    "\n",
    "3 3 1 5 2"
   ]
  },
  {
   "cell_type": "code",
   "execution_count": 86,
   "metadata": {},
   "outputs": [],
   "source": [
    "def solve():\n",
    "    n, q, m = map(int, input().split())\n",
    "    a = list(map(int, input().split()))\n",
    "    \n",
    "    important_indices = list(map(int, input().split()))\n",
    "    important_indices = [x - 1 for x in important_indices]\n",
    "    for _ in range(q):\n",
    "        query = list(map(int, input().split()))\n",
    "        query_type = query[0]\n",
    "        li, ri = query[1] - 1, query[2] - 1\n",
    "        \n",
    "        if query_type == 1:\n",
    "            for i in range(m):\n",
    "                if li <= important_indices[i] <= ri:\n",
    "                    if important_indices[i] == ri:\n",
    "                        important_indices[i] = li\n",
    "                    else:\n",
    "                        important_indices[i] += 1\n",
    "        elif query_type == 2:\n",
    "            for i in range(m):\n",
    "                if li <= important_indices[i] <= ri:\n",
    "                    important_indices[i] = li + ri - important_indices[i]\n",
    "    result = [a[idx] for idx in important_indices]\n",
    "    print(*result)"
   ]
  },
  {
   "cell_type": "markdown",
   "metadata": {},
   "source": [
    "### **301. Given 2 numbers N,K followed by an array of N integers perform the following operation:**\n",
    "\n",
    "1) Split the array into exactly k non-empty subsegments.\n",
    "\n",
    "2) Compute the minimum integer on each subsegment.\n",
    "\n",
    "3) Take the maximum integer over the k obtained minimums.\n",
    "\n",
    "What is the maximum possible integer you can get if u split optimally?\n",
    "\n",
    "Input Size : 1<=K<=N<=100000\n",
    "\n",
    "**Example:**\n",
    "\n",
    "**INPUT**\n",
    "\n",
    "5 2\n",
    "\n",
    "1 2 3 4 5\n",
    "\n",
    "**OUTPUT**\n",
    "\n",
    "5"
   ]
  },
  {
   "cell_type": "code",
   "execution_count": null,
   "metadata": {},
   "outputs": [
    {
     "name": "stdout",
     "output_type": "stream",
     "text": [
      "5\n"
     ]
    }
   ],
   "source": [
    "def can_split_with_min_value(arr, N, K, min_val):\n",
    "    count = 0\n",
    "    current_min = float('inf')\n",
    "    for num in arr:\n",
    "        if num >= min_val:\n",
    "            current_min = min(current_min, num)\n",
    "        else:\n",
    "            if current_min >= min_val:\n",
    "                count += 1\n",
    "            current_min = float('inf')\n",
    "    if current_min >= min_val:\n",
    "        count += 1\n",
    "    return count >= K\n",
    "\n",
    "def max_min_possible(arr, N, K):\n",
    "    left, right = 1, max(arr)\n",
    "    best = -1\n",
    "    while left <= right:\n",
    "        mid = (left + right) // 2\n",
    "        if can_split_with_min_value(arr, N, K, mid):\n",
    "            best = mid\n",
    "            left = mid + 1\n",
    "        else:\n",
    "            right = mid - 1    \n",
    "    return best\n",
    "\n",
    "N, K = map(int, input().split())\n",
    "arr = list(map(int, input().split()))\n",
    "print(max_min_possible(arr, N, K))"
   ]
  },
  {
   "cell_type": "markdown",
   "metadata": {},
   "source": [
    "### **302. Given three numbers N,A,B. Find if it is possible to partition N into 2 equal groups containing A and B only.print 'yes' if it can be partitioned otherwise print 'no'.**\n",
    "\n",
    "Input Size : 1<=N,A,B<=10000\n",
    "\n",
    "**Example:**\n",
    "\n",
    "**INPUT**\n",
    "\n",
    "20 2 3\n",
    "\n",
    "**OUTPUT**\n",
    "\n",
    "yes\n",
    "\n",
    "Explanation: (2,2,3,3),(2,2,3,3) ie 10+10=20=N"
   ]
  },
  {
   "cell_type": "code",
   "execution_count": 88,
   "metadata": {},
   "outputs": [
    {
     "name": "stdout",
     "output_type": "stream",
     "text": [
      "yes\n"
     ]
    }
   ],
   "source": [
    "import math\n",
    "\n",
    "def can_partition(N, A, B):\n",
    "    gcd_ab = math.gcd(A, B)\n",
    "    if N % gcd_ab == 0:\n",
    "        return \"yes\"\n",
    "    else:\n",
    "        return \"no\"\n",
    "\n",
    "N, A, B = map(int, input().split())\n",
    "print(can_partition(N, A, B))"
   ]
  },
  {
   "cell_type": "markdown",
   "metadata": {},
   "source": [
    "### **303. Ramesh is given  a task to generalise the array. An array is called generalise if median of that array is equal to sum ‘k’.Ramesh has less knowledge amongst median so he decided to take help from you.Your task is to count the number of elements that you must add to the median of given array equal to a number ‘k’.**\n",
    "\n",
    "**Input Description:**\n",
    "\n",
    "First line contains a number ‘n’.next line contains n space separated numbers.next line contains a number ‘k’\n",
    "\n",
    "**Output Description:**\n",
    "\n",
    "Print the count required in order to make the median of array equal to k\n",
    "\n",
    "**Sample Input:**\n",
    "\n",
    "6 \n",
    "\n",
    "10 20 30 100 150 200\n",
    "\n",
    "30\n",
    "\n",
    "**Sample Output:**\n",
    "\n",
    "1"
   ]
  },
  {
   "cell_type": "code",
   "execution_count": 89,
   "metadata": {},
   "outputs": [
    {
     "name": "stdout",
     "output_type": "stream",
     "text": [
      "1\n"
     ]
    }
   ],
   "source": [
    "def count_elements_to_add_for_median(n, arr, k):\n",
    "    arr.sort()\n",
    "    \n",
    "    def find_median(arr):\n",
    "        n = len(arr)\n",
    "        if n % 2 == 1:\n",
    "            return arr[n // 2]\n",
    "        else:\n",
    "            return (arr[n // 2 - 1] + arr[n // 2]) / 2\n",
    "            \n",
    "    median = find_median(arr)\n",
    "    if median == k:\n",
    "        return 0\n",
    "\n",
    "    count = 0\n",
    "    while find_median(arr) != k:\n",
    "        arr.append(k)\n",
    "        arr.sort()\n",
    "        count += 1\n",
    "    return count\n",
    "\n",
    "n = int(input())\n",
    "arr = list(map(int, input().split()))\n",
    "k = int(input())\n",
    "print(count_elements_to_add_for_median(n, arr, k))"
   ]
  },
  {
   "cell_type": "markdown",
   "metadata": {},
   "source": [
    "### **304. T-REX is a ferocious animal which used to live 10,000 years ago. Scientists successfully created few smilodons in an experimental DNA research. A park is established and those T-rexes are kept in a cage for visitors.**\n",
    "\n",
    "This park consists of Grasslands(G), Mountains(M) and Waterbodies(W) and it has three gates (situated in grasslands only). Below is a sample layout.\n",
    "\n",
    "**Sample Layout**\n",
    "\n",
    "Before opening the park, club authority decides to calculate Safety index of the park. The procedure of the calculation is described below. Please help them to calculate.\n",
    "\n",
    "Safety Index calculation\n",
    "\n",
    "Assume a person stands on grassland(x) and a T-rex escapes from the cage situated on grassland(y). If the person can escape from any of those three gates before the T-rex is able to catch him, then the grassland(x) is called safe else it is unsafe. A person and a T-rex both take 1 second to move from one area to another adjacent area(top, bottom, left or right) but a person can move only over grasslands though T-rex can move over grasslands and mountains.\n",
    "\n",
    "If any grassland is unreachable for the T-rex(maybe it is unreachable for any person also), to increase safe index value Club Authority use to mark those grasslands as safe land. Explained below\n",
    "\n",
    "For the above layout, there is only one gate at (4,6)\n",
    "\n",
    "Y is the position of T-rex’s cage\n",
    "\n",
    "X is not safe area\n",
    "\n",
    "Z is a safe area as is it not possible for T-rex to reach z\n",
    "\n",
    "Safety index=(total grassland areas which are safe*100)/total grassland area\n",
    "\n",
    "**Constraints**\n",
    "\n",
    "3<= R,C <= 10^3\n",
    "\n",
    "Gates are situated on grasslands only and at the edge of the park\n",
    "\n",
    "The cage is also situated in grassland only\n",
    "\n",
    "The position of the cage and the position of three gates are different\n",
    "\n",
    "**Input Description:**\n",
    "\n",
    "The first line of the input contains two space-separated integers R and C, denoting the size of the park (R*C) The second line contains eight space-separated integers where First two integers represent the position of the first gate 3rd and 4th integers represent the position of second gate 5th and 6th integers represent the position of third gate respectively The last two integers represent the position of the cage Next R lines, each contains space separated C number of characters. These R lines represent the park layout.\n",
    "\n",
    "**Output Description:**\n",
    "\n",
    "Safety Index accurate up to two decimal places using Half-up Rounding method\n",
    "\n",
    "**Sample Input:**\n",
    "\n",
    "4 4\n",
    "\n",
    "1 1 2 1 3 1 1 3\n",
    "\n",
    "G G G G\n",
    "\n",
    "G W W M\n",
    "\n",
    "G G W W\n",
    "\n",
    "M G M M\n",
    "\n",
    "**Sample Output:**\n",
    "\n",
    "75.00"
   ]
  },
  {
   "cell_type": "code",
   "execution_count": null,
   "metadata": {},
   "outputs": [
    {
     "name": "stdout",
     "output_type": "stream",
     "text": [
      "0.00\n"
     ]
    }
   ],
   "source": [
    "from collections import deque\n",
    "\n",
    "# Directions for BFS (left, right, up, down)\n",
    "directions = [(-1, 0), (1, 0), (0, -1), (0, 1)]\n",
    "\n",
    "def bfs(start_points, grid, R, C, can_move):\n",
    "    visited = [[False] * C for _ in range(R)]\n",
    "    queue = deque(start_points)\n",
    "    \n",
    "    for x, y in start_points:\n",
    "        visited[x][y] = True    \n",
    "    while queue:\n",
    "        x, y = queue.popleft()\n",
    "        for dx, dy in directions:\n",
    "            nx, ny = x + dx, y + dy\n",
    "            if 0 <= nx < R and 0 <= ny < C and not visited[nx][ny] and can_move(grid[nx][ny]):\n",
    "                visited[nx][ny] = True\n",
    "                queue.append((nx, ny))\n",
    "    return visited\n",
    "\n",
    "def calculate_safety_index(R, C, gates, cage, grid):\n",
    "    def can_person_move(cell):\n",
    "        return cell == 'G'\n",
    "    \n",
    "    def can_trex_move(cell):\n",
    "        return cell == 'G' or cell == 'M'\n",
    "    person_visited = bfs(gates, grid, R, C, can_person_move)\n",
    "    trex_visited = bfs([cage], grid, R, C, can_trex_move)\n",
    "    \n",
    "    total_grasslands = 0\n",
    "    safe_grasslands = 0\n",
    "    for i in range(R):\n",
    "        for j in range(C):\n",
    "            if grid[i][j] == 'G':\n",
    "                total_grasslands += 1\n",
    "                if person_visited[i][j]:\n",
    "                    if not trex_visited[i][j]:\n",
    "                        safe_grasslands += 1\n",
    "\n",
    "    if total_grasslands == 0:\n",
    "        return 0.0\n",
    "    safety_index = (safe_grasslands / total_grasslands) * 100\n",
    "    return round(safety_index, 2)\n",
    "\n",
    "R, C = map(int, input().split())\n",
    "gates_input = list(map(int, input().split()))\n",
    "gates = [(gates_input[i]-1, gates_input[i+1]-1) for i in range(0, 6, 2)]\n",
    "cage = (gates_input[6]-1, gates_input[7]-1)\n",
    "grid = [input().split() for _ in range(R)]\n",
    "result = calculate_safety_index(R, C, gates, cage, grid)\n",
    "print(f\"{result:.2f}\")"
   ]
  },
  {
   "cell_type": "markdown",
   "metadata": {},
   "source": [
    "### **305. Anna and Brian order n items at a restaurant, but Anna declines to eat any of the kth item due to an allergy. When the check comes, they decide to split the cost of all the items they shared; however, Brian may have forgotten that they didn't split the kth item and accidentally charged Anna for it. You are given n,k the cost of each of the n items, and the total amount of money that Brian charged Anna for her portion of the bill. If the bill is fairly split, print 'Bon Appetit'; otherwise, print the amount of money that Brian must refund to Anna.**\n",
    "\n",
    "**Input Format**\n",
    "\n",
    "The first line contains two space-separated integers denoting the respective values of n (the number of items ordered) and k (the 0-based index of the item that Anna did not eat). The second line contains n space-separated integers where each integer i denotes the cost c[i], of item i. The third line contains an integer ,b(charged), denoting the amount of money that Brian charged Anna for her share of the bill.\n",
    "\n",
    "**Output Format**\n",
    "\n",
    "If Brian did not overcharge Anna, print Bon Appetit on a new line; otherwise, print the difference (i.e.b(charged) - b(actual), ) that Brian must refund to Anna (it is guaranteed that this will always be an integer).\n",
    "\n",
    "Input Size : N<=1000000\n",
    "\n",
    "**Example:**\n",
    "\n",
    "**INPUT**\n",
    "\n",
    "4 1\n",
    "\n",
    "3 10 2 9\n",
    "\n",
    "12\n",
    "\n",
    "**OUTPUT**\n",
    "\n",
    "5"
   ]
  },
  {
   "cell_type": "code",
   "execution_count": 96,
   "metadata": {},
   "outputs": [
    {
     "name": "stdout",
     "output_type": "stream",
     "text": [
      "5\n"
     ]
    }
   ],
   "source": [
    "def bon_appetit():\n",
    "    n, k = map(int, input().split())\n",
    "    c = list(map(int, input().split()))\n",
    "    b_charged = int(input())\n",
    "    \n",
    "    total_cost = sum(c) - c[k]\n",
    "    anna_share = total_cost // 2\n",
    "    if b_charged == anna_share:\n",
    "        print(\"Bon Appetit\")\n",
    "    else:\n",
    "        print(b_charged - anna_share)\n",
    "\n",
    "bon_appetit()"
   ]
  },
  {
   "cell_type": "markdown",
   "metadata": {},
   "source": [
    "### **306. Arvind Kejriwal wants to implement a revised version of the ODD/EVEN scheme for vehicles in order to reduce pollution in Delhi. The vehicle numbers are stored in an array and instead of allowing only either of odd/even numbered vehicles on the road, he decides to allow the vehicles at odd/even INDICES of the array on a particular day. The day being Monday, only vehicles at even indices are allowed on the road. He wants to analyse the number of vehicles that are allowed on the road on that particular day and hence decides to order the data in ascending order. Sort the elements at the even indices of the array in ascending order and help make the IITan’s idea a success! Kejriwal would be happy if you could it in O(Nlog N) complexity, where N is the number of elements that are to be sorted.**\n",
    "\n",
    "**Input Description:**\n",
    "\n",
    "Size of the array followed by the elements of the array\n",
    "\n",
    "**Output Description:**\n",
    "\n",
    "Array with elements at the even indexes sorted in ascending order.\n",
    "\n",
    "**Sample Input:**\n",
    "\n",
    "6\n",
    "\n",
    "12 44 23 16 1 62\n",
    "\n",
    "**Sample Output:**\n",
    "\n",
    "1 44 12 16 23 62"
   ]
  },
  {
   "cell_type": "code",
   "execution_count": 97,
   "metadata": {},
   "outputs": [
    {
     "name": "stdout",
     "output_type": "stream",
     "text": [
      "1 44 12 16 23 62\n"
     ]
    }
   ],
   "source": [
    "def main():\n",
    "    n = int(input().strip())\n",
    "    array = list(map(int, input().strip().split()))\n",
    "    even_index_elements = [array[i] for i in range(0, n, 2)]\n",
    "    even_index_elements.sort()\n",
    "    \n",
    "    for i, sorted_value in enumerate(even_index_elements):\n",
    "        array[i * 2] = sorted_value\n",
    "    print(\" \".join(map(str, array)))\n",
    "\n",
    "main()"
   ]
  },
  {
   "cell_type": "markdown",
   "metadata": {},
   "source": [
    "### **307. Palash is fond of palindromic numbers.So he decided to give this knowledge to his younger brother.Hence he decided to frame one question.To make him more clear he decided that he will tell his younger brother ‘suresh’ about this concept using problem.The problem statement is as follows,You are given with array conatining digits 0-9 your task is to print the smallest palindromic number ’t’ but this number must be greater than the number obtained using digits.**\n",
    "\n",
    "Now your task is to help suresh to solve the this tricky question\n",
    "\n",
    "**Input Description:**\n",
    "\n",
    "You are given with size of array ‘n’. Next line contains n space separated integers\n",
    "\n",
    "**Output Description:**\n",
    "\n",
    "Print the smallest palindromic number.\n",
    "\n",
    "**Sample Input:**\n",
    "\n",
    "10\n",
    "\n",
    "1 2 3 5 9 6 8 4 7 0\n",
    "\n",
    "**Sample Output:**\n",
    "\n",
    "1235995321"
   ]
  },
  {
   "cell_type": "code",
   "execution_count": 98,
   "metadata": {},
   "outputs": [
    {
     "name": "stdout",
     "output_type": "stream",
     "text": [
      "1235995321\n"
     ]
    }
   ],
   "source": [
    "import sys\n",
    "\n",
    "def Next_smallest_Palindrome(num):\n",
    "    num += 1\n",
    "    while True:\n",
    "        if str(num) == str(num)[::-1]:\n",
    "            return num\n",
    "        num += 1\n",
    "\n",
    "n = int(input())\n",
    "lst = list(map(int, input().split()))\n",
    "newNumber = int(\"\".join(map(str, lst)))\n",
    "print(Next_smallest_Palindrome(newNumber))"
   ]
  },
  {
   "cell_type": "markdown",
   "metadata": {},
   "source": [
    "### **308. Kedar has ordinary pan scales and several weights of an equal mass. Kedar has already put some weights on the scales, while other weights are untouched. Kedar is now wondering whether it is possible to put all the remaining weights on the scales so that the scales were in equilibrium. The scales is in equilibrium if the total sum of weights on the left pan is equal to the total sum of weights on the right pan. The first line has a non-empty sequence of characters describing the scales. In this sequence, an uppercase English letter indicates a weight, and the symbol '|' indicates the delimiter (the character occurs in the sequence exactly once). All weights that are recorded in the sequence before the delimiter are initially on the left pan of the scale. All weights that are recorded in the sequence after the delimiter are initially on the right pan of the scale. The second line contains a non-empty sequence containing uppercase English letters. Each letter indicates a weight which is not used yet. It is guaranteed that all the English letters in the input data are different. It is guaranteed that the input does not contain any extra characters.**\n",
    "\n",
    "**Example:**\n",
    "\n",
    "**INPUT**\n",
    "\n",
    "AC|T\n",
    "\n",
    "L\n",
    "\n",
    "**OUTPUT**\n",
    "\n",
    "AC|TL"
   ]
  },
  {
   "cell_type": "code",
   "execution_count": 99,
   "metadata": {},
   "outputs": [
    {
     "name": "stdout",
     "output_type": "stream",
     "text": [
      "AC|TL\n"
     ]
    }
   ],
   "source": [
    "def balance_scale(scale, remaining_weights):\n",
    "    left_pan, right_pan = scale.split('|')\n",
    "    left_count = len(left_pan)\n",
    "    right_count = len(right_pan)\n",
    "    \n",
    "    remaining_count = len(remaining_weights)\n",
    "    if left_count < right_count:\n",
    "        left_pan += remaining_weights[:right_count - left_count]\n",
    "        remaining_weights = remaining_weights[right_count - left_count:]\n",
    "    if left_count > right_count:\n",
    "        right_pan += remaining_weights[:left_count - right_count]\n",
    "        remaining_weights = remaining_weights[left_count - right_count:]\n",
    "    right_pan += remaining_weights\n",
    "    return left_pan + '|' + right_pan\n",
    "\n",
    "scale = input().strip()\n",
    "remaining_weights = input().strip()\n",
    "balanced_scale = balance_scale(scale, remaining_weights)\n",
    "print(balanced_scale)"
   ]
  },
  {
   "cell_type": "code",
   "execution_count": null,
   "metadata": {},
   "outputs": [],
   "source": []
  }
 ],
 "metadata": {
  "kernelspec": {
   "display_name": "py12",
   "language": "python",
   "name": "python3"
  },
  "language_info": {
   "codemirror_mode": {
    "name": "ipython",
    "version": 3
   },
   "file_extension": ".py",
   "mimetype": "text/x-python",
   "name": "python",
   "nbconvert_exporter": "python",
   "pygments_lexer": "ipython3",
   "version": "3.12.7"
  }
 },
 "nbformat": 4,
 "nbformat_minor": 2
}
