{
 "cells": [
  {
   "cell_type": "markdown",
   "metadata": {},
   "source": [
    "#### **1. You are given with an circular array .Your task is calculate the difference between two consecutive number. And if difference is greater than ‘k’, print 1 else print 0**\n",
    "\n",
    "**Input Description:**\n",
    "\n",
    "You are given two numbers ‘n’, ’m’. Next line contains n space separated integers.\n",
    "\n",
    "**Output Description:**\n",
    "\n",
    "Print 1 if the difference is greater than ‘m’.\n",
    "\n",
    "Sample Input :\n",
    "\n",
    "5 15\n",
    "\n",
    "50 65 85 98 35\n",
    "\n",
    "Sample Output :\n",
    "\n",
    "0 1 0 1 0"
   ]
  },
  {
   "cell_type": "code",
   "execution_count": null,
   "metadata": {},
   "outputs": [
    {
     "name": "stdout",
     "output_type": "stream",
     "text": [
      "0 1 0 1 0\n"
     ]
    }
   ],
   "source": [
    "# Read input values\n",
    "n, k = map(int, input().split())            # n = 5, k = 15\n",
    "b = list(map(int, input().split()))         # b = 50 65 85 98 35\n",
    "\n",
    "# Initialize the result array\n",
    "arr = []\n",
    "\n",
    "# Calculate differences between consecutive elements\n",
    "for i in range(n-1):\n",
    "    if abs(b[i] - b[i+1]) > k:\n",
    "        arr.append(1)\n",
    "    else:\n",
    "        arr.append(0)\n",
    "\n",
    "# Calculate the circular difference (last element with the first element)\n",
    "arr1 = b[-1] - b[0]\n",
    "if abs(arr1) > k:\n",
    "    arr.append(1)\n",
    "else:\n",
    "    arr.append(0)\n",
    "\n",
    "# Print the result array\n",
    "print(*arr)"
   ]
  },
  {
   "cell_type": "markdown",
   "metadata": {},
   "source": [
    "#### **2. You are given an array of ids of prisoners. The jail authority found that there are some prisoners of same id. Your task is to help the authority in finding the common ids.**\n",
    "\n",
    "**Input Description:**\n",
    "\n",
    "First line contains a number ‘n’ representing no of prisoners. Next line contains n space separated numbers.\n",
    "\n",
    "**Output Description:**\n",
    "\n",
    "Print the ids which are not unique. Print -1 if all ids are unique\n",
    "\n",
    "Sample Input :\n",
    "\n",
    "7\n",
    "\n",
    "1 1 11 121 131 141 98\n",
    "\n",
    "Sample Output :\n",
    "\n",
    "1"
   ]
  },
  {
   "cell_type": "code",
   "execution_count": 1,
   "metadata": {},
   "outputs": [
    {
     "name": "stdout",
     "output_type": "stream",
     "text": [
      "1\n"
     ]
    }
   ],
   "source": [
    "n = int(input())                                    # n = 7\n",
    "arr = list(map(int, input().split()))               # arr = [1, 1, 11, 121, 131, 141, 98]\n",
    "\n",
    "# Dictionary to store the count of each element\n",
    "count_dict = {}\n",
    "for num in arr:\n",
    "    if num in count_dict:\n",
    "        count_dict[num] += 1\n",
    "    else:\n",
    "        count_dict[num] = 1\n",
    "\n",
    "# List to store elements that appear more than once\n",
    "duplicates = [num for num, count in count_dict.items() if count > 1]\n",
    "\n",
    "if duplicates:\n",
    "    print(*duplicates)\n",
    "else:\n",
    "    print(\"-1\")"
   ]
  },
  {
   "cell_type": "code",
   "execution_count": 2,
   "metadata": {},
   "outputs": [
    {
     "name": "stdout",
     "output_type": "stream",
     "text": [
      "1\n"
     ]
    }
   ],
   "source": [
    "# Another Method\n",
    "n = int(input())                           # n = 7\n",
    "arr = list(map(int, input().split()))      # arr = [1 1 11 121 131 141 98]\n",
    "c=[]\n",
    "for i in arr:\n",
    "  if arr.count(i)>=2:\n",
    "    if i not in c:\n",
    "      c.append(i)\n",
    "if len(c)>=1:\n",
    "  print(*c)\n",
    "else:\n",
    "  print(\"-1\")"
   ]
  },
  {
   "cell_type": "markdown",
   "metadata": {},
   "source": [
    "#### **3. Assume you are a student studying in school.You are given a task to find first negative integer for each and every window of size k.**\n",
    "\n",
    "**Input Description:**\n",
    "\n",
    "First line contains an integer n denoting the size of the array. The next line contains n space separated integers forming the array. The last line contains the window size k.\n",
    "\n",
    "**Output Description:**\n",
    "\n",
    "Print the first negative integer in that window.If all the numbers are positive print 0\n",
    "\n",
    "Sample Input :\n",
    "\n",
    "7\n",
    "\n",
    "1 -2 -3 -4 5 6 -7\n",
    "\n",
    "3\n",
    "\n",
    "Sample Output :\n",
    "\n",
    "-2 -2 -3 -4 -7"
   ]
  },
  {
   "cell_type": "code",
   "execution_count": 3,
   "metadata": {},
   "outputs": [
    {
     "name": "stdout",
     "output_type": "stream",
     "text": [
      "-2 -2 -3 -4 -7\n"
     ]
    }
   ],
   "source": [
    "n = int(input())                            # n = 7\n",
    "a = list(map(int,input().split(' ')))       # a = 1 -2 -3 -4 5 6 -7\n",
    "k = int(input())                            # k = 3\n",
    "neg = []\n",
    "for i in range(len(a)):\n",
    "    if(i+k>len(a)):\n",
    "        break\n",
    "    for j in range(i,i+k):\n",
    "        if a[j]<0:\n",
    "            neg.append(a[j])\n",
    "            break\n",
    "    else:\n",
    "            neg.append(0)\n",
    "print(*neg)"
   ]
  },
  {
   "cell_type": "code",
   "execution_count": 4,
   "metadata": {},
   "outputs": [
    {
     "name": "stdout",
     "output_type": "stream",
     "text": [
      "-2 -2 -3 -4 -7\n"
     ]
    }
   ],
   "source": [
    "#Another Method\n",
    "from collections import deque\n",
    "\n",
    "def printFirstNegativeInteger(arr, n, k):\n",
    "    Di = deque()\n",
    "\n",
    "    # Process first window of size k\n",
    "    for i in range(k):\n",
    "        if arr[i] < 0:\n",
    "            Di.append(i)\n",
    "\n",
    "    # Process rest of the windows\n",
    "    for i in range(k, n):\n",
    "        # Print the first negative integer of the previous window\n",
    "        if not Di:\n",
    "            print(0, end=' ')\n",
    "        else:\n",
    "            print(arr[Di[0]], end=' ')\n",
    "\n",
    "        # Remove the elements which are out of this window\n",
    "        while Di and Di[0] <= i - k:\n",
    "            Di.popleft()\n",
    "\n",
    "        # Add current element at the end of the deque if it is negative\n",
    "        if arr[i] < 0:\n",
    "            Di.append(i)\n",
    "\n",
    "    # Print the first negative integer for the last window\n",
    "    if not Di:\n",
    "        print(0)\n",
    "    else:\n",
    "        print(arr[Di[0]])\n",
    "\n",
    "# Input\n",
    "n = int(input())\n",
    "arr = list(map(int, input().split()))\n",
    "k = int(input())\n",
    "\n",
    "# Function call\n",
    "printFirstNegativeInteger(arr, n, k)"
   ]
  },
  {
   "cell_type": "markdown",
   "metadata": {},
   "source": [
    "#### **4. You are given with array of numbers.you have to find whether array is beautiful or not. A beautiful array is an array whose sum of all numbers is divisible by 2, 3 and 5**\n",
    "\n",
    "**Input Description:**\n",
    "\n",
    "You are given a number ‘n’ denoting the size of array.Next line contains n space separated numbers.\n",
    "\n",
    "**Output Description:**\n",
    "\n",
    "Print 1 if array is beautiful and 0 if it is not\n",
    "\n",
    "Sample Input :\n",
    "\n",
    "5\n",
    "\n",
    "5 25 35 -5 30\n",
    "\n",
    "Sample Output :\n",
    "\n",
    "1"
   ]
  },
  {
   "cell_type": "code",
   "execution_count": 3,
   "metadata": {},
   "outputs": [
    {
     "name": "stdout",
     "output_type": "stream",
     "text": [
      "1\n"
     ]
    }
   ],
   "source": [
    "n = int(input())\n",
    "\n",
    "arr = list(map(int,input().split()))\n",
    "\n",
    "num=sum(arr)\n",
    "\n",
    "if num%2==0 and num%3==0 and num%5==0:\n",
    "  print(1)\n",
    "else:\n",
    "  print(0)"
   ]
  },
  {
   "cell_type": "markdown",
   "metadata": {},
   "source": [
    "#### **5. You are given with an array of numbers, Your task is to print the difference of indices of largest and smallest number. All number are unique.**\n",
    "\n",
    "**Input Description:**\n",
    "\n",
    "First line contains a number ‘n’. Then next line contains n space separated numbers.\n",
    "\n",
    "**Output Description:**\n",
    "\n",
    "Print the difference of indices of largest and smallest array\n",
    "\n",
    "Sample Input :\n",
    "\n",
    "5\n",
    "\n",
    "1 6 4 0 3\n",
    "\n",
    "Sample Output :\n",
    "\n",
    "-2"
   ]
  },
  {
   "cell_type": "code",
   "execution_count": 1,
   "metadata": {},
   "outputs": [
    {
     "name": "stdout",
     "output_type": "stream",
     "text": [
      "-2\n"
     ]
    }
   ],
   "source": [
    "n = int(input())\n",
    "\n",
    "arr = list(map(int,input().split()))\n",
    "\n",
    "print(arr.index(max(arr))-arr.index(min(arr)))"
   ]
  },
  {
   "cell_type": "markdown",
   "metadata": {},
   "source": [
    "#### **6. You are given an array of numbers. Print the least occurring element. If there is more than 1 element print all of them in decreasing order of their value.**\n",
    "\n",
    "**Input Description:**\n",
    "\n",
    "You are given a number ‘n’ denoting size of array. Next line contains n space separated numbers.\n",
    "\n",
    "**Output Description:**\n",
    "\n",
    "Print the number as mentioned\n",
    "\n",
    "Sample Input :\n",
    "\n",
    "9\n",
    "\n",
    "1 6 4 56 56 56 6 4 2\n",
    "\n",
    "Sample Output :\n",
    "\n",
    "2 1"
   ]
  },
  {
   "cell_type": "code",
   "execution_count": 4,
   "metadata": {},
   "outputs": [
    {
     "name": "stdout",
     "output_type": "stream",
     "text": [
      "2 1\n"
     ]
    }
   ],
   "source": [
    "n = int(input())\n",
    "arr = list(map(int, input().split()))\n",
    "\n",
    "# count the occurrences of each number\n",
    "freq = {}\n",
    "for num in arr:\n",
    "    freq[num] = freq.get(num, 0) + 1\n",
    "\n",
    "# find the least occurring number\n",
    "least_freq = min(freq.values())\n",
    "\n",
    "# collect all numbers with least frequency\n",
    "result = []\n",
    "for num, count in freq.items():\n",
    "    if count == least_freq:\n",
    "        result.append(num)\n",
    "\n",
    "# sort the result in decreasing order\n",
    "result.sort(reverse=True)\n",
    "\n",
    "# print the result\n",
    "print(*result)"
   ]
  },
  {
   "cell_type": "markdown",
   "metadata": {},
   "source": [
    "#### **7. You are given with an array. For each element present in the array your task is to print the next smallest than that number. If it is not smallest print -1**\n",
    "\n",
    "**Input Description:**\n",
    "\n",
    "You are given a number ‘n’ representing size of array. And n space separated numbers.\n",
    "\n",
    "**Output Description:**\n",
    "\n",
    "Print the next smallest number present in array and -1 if no smallest is present\n",
    "\n",
    "Sample Input :\n",
    "\n",
    "7\n",
    "\n",
    "10 7 9 3 2 1 15\n",
    "\n",
    "Sample Output :\n",
    "\n",
    "7 3 3 2 1 -1 -1"
   ]
  },
  {
   "cell_type": "code",
   "execution_count": 5,
   "metadata": {},
   "outputs": [
    {
     "name": "stdout",
     "output_type": "stream",
     "text": [
      "7 3 3 2 1 -1 -1\n"
     ]
    }
   ],
   "source": [
    "# Step 1: Read the input\n",
    "n = int(input())\n",
    "arr = list(map(int, input().split()))\n",
    "\n",
    "# Step 2: Initialize the result list with -1 and an empty stack\n",
    "result = [-1] * n\n",
    "stack = []\n",
    "\n",
    "# Step 3: Traverse the array from the end to the beginning\n",
    "for i in range(n - 1, -1, -1):\n",
    "    # Step 4: Pop elements from the stack that are not smaller than the current element\n",
    "    while stack and stack[-1] >= arr[i]:\n",
    "        stack.pop()\n",
    "    \n",
    "    # Step 5: If the stack is not empty, the top of the stack is the next smaller element\n",
    "    if stack:\n",
    "        result[i] = stack[-1]\n",
    "    \n",
    "    # Step 6: Push the current element onto the stack\n",
    "    stack.append(arr[i])\n",
    "\n",
    "# Step 7: Print the results\n",
    "print(' '.join(map(str, result)))"
   ]
  },
  {
   "cell_type": "markdown",
   "metadata": {},
   "source": [
    "#### **8. You are given an array. Your task is to sort the array in given manner. Print the elements in increasing order of the frequency. If frequency is same print smaller one first.**\n",
    "\n",
    "**Input Description:**\n",
    "\n",
    "You are given a number ‘n’. Then in next line n space separated numbers.\n",
    "\n",
    "**Output Description:**\n",
    "\n",
    "Print the array as mentioned\n",
    "\n",
    "Sample Input :\n",
    "\n",
    "4\n",
    "\n",
    "1 1 3 2\n",
    "\n",
    "Sample Output :\n",
    "\n",
    "2 3"
   ]
  },
  {
   "cell_type": "code",
   "execution_count": 6,
   "metadata": {},
   "outputs": [
    {
     "name": "stdout",
     "output_type": "stream",
     "text": [
      "2 3 1\n"
     ]
    }
   ],
   "source": [
    "from collections import Counter\n",
    "\n",
    "# Step 1: Read the input\n",
    "n = int(input())\n",
    "arr = list(map(int, input().split()))\n",
    "\n",
    "# Step 2: Count frequencies using Counter from collections module\n",
    "freq = Counter(arr)\n",
    "\n",
    "# Step 3: Sort the array by frequency and then by value\n",
    "sorted_arr = sorted(arr, key=lambda x: (freq[x], x))\n",
    "\n",
    "# Step 4: Remove duplicates by using dict.fromkeys to preserve order\n",
    "sorted_unique_arr = list(dict.fromkeys(sorted_arr))\n",
    "\n",
    "# Step 5: Print the result\n",
    "print(' '.join(map(str, sorted_unique_arr)))"
   ]
  },
  {
   "cell_type": "markdown",
   "metadata": {},
   "source": [
    "#### **9. Given 2 numbers N and K followed by elements of N .Print 'yes' if K exists else print 'no'.**\n",
    "\n",
    "Sample Testcase :\n",
    "\n",
    "INPUT\n",
    "\n",
    "4 2\n",
    "\n",
    "1 2 3 3\n",
    "\n",
    "OUTPUT\n",
    "\n",
    "yes"
   ]
  },
  {
   "cell_type": "code",
   "execution_count": 7,
   "metadata": {},
   "outputs": [
    {
     "name": "stdout",
     "output_type": "stream",
     "text": [
      "no\n"
     ]
    }
   ],
   "source": [
    "N,K=(int(no) for no in input().split())\n",
    "ele=list(map(int,input().split()))\n",
    "count=0\n",
    "i=1\n",
    "if(i==K):\n",
    "    for i in range(1,N+1):\n",
    "      count=count+1\n",
    "      print(\"yes\")\n",
    "      break\n",
    "else:\n",
    "  print(\"no\")"
   ]
  },
  {
   "cell_type": "markdown",
   "metadata": {},
   "source": [
    "#### **10. You are given a number with duplicate digits your task is to remove the immediate duplicate digits and print the result**\n",
    "\n",
    "**Input Description:**\n",
    "\n",
    "You are given a long string of digits\n",
    "\n",
    "**Output Description:**\n",
    "\n",
    "Print the desired result print -1 if result length is 0\n",
    "\n",
    "Sample Input :\n",
    "\n",
    "1331\n",
    "\n",
    "Sample Output :\n",
    "\n",
    "11"
   ]
  },
  {
   "cell_type": "code",
   "execution_count": 15,
   "metadata": {},
   "outputs": [
    {
     "name": "stdout",
     "output_type": "stream",
     "text": [
      "11\n"
     ]
    }
   ],
   "source": [
    "def remove_immediate_duplicates(digits):\n",
    "    original = []\n",
    "    ans = []\n",
    "    \n",
    "    for digit in digits:\n",
    "        if original and original[-1] == digit:\n",
    "            if ans and ans[-1] == digit: ans.pop()\n",
    "        else:\n",
    "            ans.append(digit)\n",
    "\n",
    "        original.append(digit)\n",
    "    \n",
    "    if ans:\n",
    "        return ''.join(ans)\n",
    "    else:\n",
    "        return '-1'\n",
    "\n",
    "# Sample Input\n",
    "input_digits = input()\n",
    "# Output the result\n",
    "print(remove_immediate_duplicates(input_digits))"
   ]
  },
  {
   "cell_type": "markdown",
   "metadata": {},
   "source": [
    "#### **11. Ramesh is a student and wants to find out if there is any other student in his class who has got the same marks as his, in maths. Help him to find out.**\n",
    " \n",
    "**Input Description:**\n",
    "\n",
    "First line contains the number of students in the class followed by Ramesh’s mark. Second line contains the marks of all students in the class.\n",
    "\n",
    "**Output Description:**\n",
    "\n",
    "Index of student who got mark same as Ramesh’s mark. If no such mark exists, return -1.\n",
    "\n",
    "Sample Input :\n",
    "\n",
    "2 10\n",
    "\n",
    "1 2\n",
    "\n",
    "Sample Output :\n",
    "\n",
    "-1"
   ]
  },
  {
   "cell_type": "code",
   "execution_count": 2,
   "metadata": {},
   "outputs": [
    {
     "name": "stdout",
     "output_type": "stream",
     "text": [
      "-1\n"
     ]
    }
   ],
   "source": [
    "def mar(n, m, marks):\n",
    "    a = []\n",
    "    for i in range(n):\n",
    "        if marks[i] == m:\n",
    "            a.append(i)\n",
    "    return a\n",
    "\n",
    "n, m = map(int, input().split())\n",
    "marks = list(map(int, input().split()))\n",
    "result = mar(n, m, marks)\n",
    "\n",
    "if len(result) != 0:\n",
    "    print(*result)\n",
    "else:\n",
    "    print(\"-1\")"
   ]
  },
  {
   "cell_type": "markdown",
   "metadata": {},
   "source": [
    "#### **12. You are given an array of non-negative integers representing height of walls at index i as Ai and the width of each block is 1. Compute how much air can be encapsulated between the walls of chamber.**\n",
    "\n",
    "**Input Description:**\n",
    "\n",
    "Each line contains an integer ‘N’ denoting the size of the array Next line contains N space separated numbers to be stored in array.\n",
    "\n",
    "**Output Description:**\n",
    "\n",
    "Output the total unit of Air encapsulated between the walls of chamber.\n",
    "\n",
    "Sample Input :\n",
    "\n",
    "3\n",
    "\n",
    "7 4 9\n",
    "\n",
    "Sample Output :\n",
    "\n",
    "3"
   ]
  },
  {
   "cell_type": "code",
   "execution_count": 1,
   "metadata": {},
   "outputs": [
    {
     "name": "stdout",
     "output_type": "stream",
     "text": [
      "3\n"
     ]
    }
   ],
   "source": [
    "def trapped_air(heights):\n",
    "    n = len(heights)\n",
    "    max_left = [0] * n\n",
    "    max_right = [0] * n\n",
    "\n",
    "    max_height_left = 0\n",
    "    for i in range(n):\n",
    "        max_left[i] = max_height_left\n",
    "        max_height_left = max(max_height_left, heights[i])\n",
    "\n",
    "    max_height_right = 0\n",
    "    for i in range(n - 1, -1, -1):\n",
    "        max_right[i] = max_height_right\n",
    "        max_height_right = max(max_height_right, heights[i])\n",
    "\n",
    "    trapped = 0\n",
    "    for i in range(n):\n",
    "        min_boundary_height = min(max_left[i], max_right[i])\n",
    "        trapped += max(0, min_boundary_height - heights[i])\n",
    "    return trapped\n",
    "\n",
    "n = int(input())\n",
    "heights = list(map(int, input().split()))\n",
    "trapped_units = trapped_air(heights)\n",
    "print(trapped_units)"
   ]
  },
  {
   "cell_type": "markdown",
   "metadata": {},
   "source": [
    "#### **13. Loki wants to steal the tesseract but in order to do so, he has to rearrange the elements in an array in a specific manner which is mentioned in a clue. The clue says ‘cursed are the odd and sorted are the even’. Loki manages to decode the clue which translates to “sort the even positioned elements of an array, starting from the element at index 0, in ascending order”. Manipulate the array so as to help Loki steal the tesseract.**\n",
    " \n",
    "**Input Description:**\n",
    "\n",
    "Size of the array followed by the elements of the array\n",
    "\n",
    "**Output Description:**\n",
    "\n",
    "Even index array elements sorted in ascending order\n",
    "\n",
    "Sample Input :\n",
    "\n",
    "5\n",
    "\n",
    "3 9 1 44 6\n",
    "\n",
    "Sample Output :\n",
    "\n",
    "1 9 3 44 6"
   ]
  },
  {
   "cell_type": "code",
   "execution_count": 3,
   "metadata": {},
   "outputs": [
    {
     "name": "stdout",
     "output_type": "stream",
     "text": [
      "1 9 3 44 6\n"
     ]
    }
   ],
   "source": [
    "def rearrange_array(n, arr):\n",
    "    # Extract elements at even indices\n",
    "    even_index_elements = [arr[i] for i in range(n) if i % 2 == 0]\n",
    "    \n",
    "    # Sort the extracted even indexed elements by their value\n",
    "    even_index_elements.sort()\n",
    "\n",
    "    # Place sorted elements back to their respective even positions\n",
    "    even_index_sorted_index = 0\n",
    "    for i in range(n):\n",
    "        if i % 2 == 0:\n",
    "            arr[i] = even_index_elements[even_index_sorted_index]\n",
    "            even_index_sorted_index += 1\n",
    "\n",
    "    return arr\n",
    "\n",
    "n = int(input())\n",
    "arr = list(map(int, input().split()))\n",
    "sorted_arr = rearrange_array(n, arr)\n",
    "print(*sorted_arr)"
   ]
  },
  {
   "cell_type": "markdown",
   "metadata": {},
   "source": [
    "#### **15. You are a passport issuer, but due to some problems in the system, there are redundant  passport numbers. Your task is to delete all the duplicate passport numbers. You are given a list of passport numbers.**\n",
    "\n",
    "**Input Description:**\n",
    "\n",
    "You are given length of list.Second line,You are given with a list.\n",
    "\n",
    "**Output Description:**\n",
    "\n",
    "Print the list of passport numbers without duplicates.\n",
    "\n",
    "Sample Input :\n",
    "\n",
    "5\n",
    "\n",
    "A23 B56 B56 C79 D16\n",
    "\n",
    "Sample Output :\n",
    "\n",
    "A23 B56 C79 D16"
   ]
  },
  {
   "cell_type": "code",
   "execution_count": 2,
   "metadata": {},
   "outputs": [
    {
     "name": "stdout",
     "output_type": "stream",
     "text": [
      "A23 B56 C79 D16\n"
     ]
    }
   ],
   "source": [
    "# Remove duplicate value\n",
    "n = int(input())\n",
    "arr = list(input().split())\n",
    "\n",
    "# Traverse the list from end to start\n",
    "for i in range(n-1, 0, -1):\n",
    "    if arr[i] in arr[:i]:\n",
    "        arr.pop(i)\n",
    "print(*arr)"
   ]
  },
  {
   "cell_type": "markdown",
   "metadata": {},
   "source": [
    "#### **16. Mr.Stark wants to order the employee ids, which are recorded in a 2D matrix, in ascending order. He wants to do it so as to allot a new id to a person who joins as a fresher. You are the CTO of the Stark industries and you are asked by Mr.Stark to sort the data.**\n",
    " \n",
    "**Input Description:**\n",
    "\n",
    "Dimensions of the matrix m and n, followed by the elements of the matrix.\n",
    "\n",
    "**Output Description:**\n",
    "\n",
    "Matrix sorted in ascending order\n",
    "\n",
    "Sample Input :\n",
    "\n",
    "3 3\n",
    "\n",
    "87 21 34\n",
    "\n",
    "89 32 78\n",
    "\n",
    "12 23 45\n",
    "\n",
    "Sample Output :\n",
    "\n",
    "12 21 23\n",
    "\n",
    "32 34 45\n",
    "\n",
    "78 87 89"
   ]
  },
  {
   "cell_type": "code",
   "execution_count": null,
   "metadata": {},
   "outputs": [],
   "source": [
    "# Get the input dimensions\n",
    "m, n = map(int, input().split())\n",
    "\n",
    "# Read the matrix elements and flatten them in one step\n",
    "matrix = [int(x) for _ in range(m) for x in input().split()]\n",
    "\n",
    "# Sort the matrix elements\n",
    "sorted_matrix = sorted(matrix)\n",
    "\n",
    "# Print the sorted matrix in the required format\n",
    "for i in range(m):\n",
    "    print(\" \".join(map(str, sorted_matrix[i*n:(i+1)*n])))"
   ]
  },
  {
   "cell_type": "markdown",
   "metadata": {},
   "source": [
    "#### **17. You are a software engineer at an MNC. You are given the task of sorting the employees in your company based on their salary. Perform the task so that the employees, including yourself, will get a bonus from the management.**\n",
    "\n",
    "CONSTRAINT:\n",
    "\n",
    "0<=salary<=1000000\n",
    "\n",
    "**Input Description:**\n",
    "\n",
    "Number of employees followed by their name and salary\n",
    "\n",
    "**Output Description:**\n",
    "\n",
    "Sorted list of employee names\n",
    "\n",
    "Sample Input :\n",
    "\n",
    "3\n",
    "\n",
    "Karthik 23000 rohan 81734 varshini 12343\n",
    "\n",
    "Sample Output :\n",
    "\n",
    "varshini\n",
    "Karthik\n",
    "Rohan"
   ]
  },
  {
   "cell_type": "markdown",
   "metadata": {},
   "source": [
    "1.Read the number of employees.\n",
    "\n",
    "2.Read the employee names and their respective salaries.\n",
    "\n",
    "3.Parse the input into a list of tuples where each tuple contains an employee's name and salary.\n",
    "\n",
    "4.Sort the list of tuples based on the salary in ascending order.\n",
    "\n",
    "5.Extract and print the sorted list of employee names."
   ]
  },
  {
   "cell_type": "code",
   "execution_count": 3,
   "metadata": {},
   "outputs": [
    {
     "name": "stdout",
     "output_type": "stream",
     "text": [
      "varshini\n",
      "Karthik\n",
      "rohan\n"
     ]
    }
   ],
   "source": [
    "# number of employees\n",
    "num_employees = int(input())\n",
    "\n",
    "# employee data\n",
    "data = input().split()\n",
    "\n",
    "# Parse the employee data into a list of (name, salary) tuples\n",
    "employees = [(data[i], int(data[i+1])) for i in range(0, len(data), 2)]\n",
    "\n",
    "# Sort employees by salary\n",
    "sorted_employees = sorted(employees, key=lambda x: x[1])\n",
    "\n",
    "# Extract and print the sorted list of employee names\n",
    "for employee in sorted_employees:\n",
    "    print(employee[0])"
   ]
  },
  {
   "cell_type": "markdown",
   "metadata": {},
   "source": [
    "#### **18. You are an intern at GUVI and the company wants to organise its data and delete unnecessary extra storage elements used. You are given k arrays of unequal dimensions. Sort the k arrays individually and concatenate them.**\n",
    " \n",
    "**Input Description:**\n",
    "\n",
    "First line contains the number of arrays. Subsequent lines contain the size of the array followed by the elements of the array.\n",
    "\n",
    "**Output Description:**\n",
    "\n",
    "An array containing the sorted elements of k sorted arrays\n",
    "\n",
    "Sample Input :\n",
    "\n",
    "3\n",
    "\n",
    "2\n",
    "\n",
    "98 12\n",
    "\n",
    "6\n",
    "\n",
    "1 2 3 8 5 9\n",
    "\n",
    "1\n",
    "\n",
    "11\n",
    "\n",
    "Sample Output :\n",
    "\n",
    "12 98 1 2 3 5 8 9 11"
   ]
  },
  {
   "cell_type": "markdown",
   "metadata": {},
   "source": [
    "**Steps:**\n",
    "\n",
    "1.Read the number of arrays.\n",
    "\n",
    "2.For each array, read its size and then read its elements.\n",
    "\n",
    "3.Sort each array.\n",
    "\n",
    "4.Concatenate all the sorted arrays.\n",
    "\n",
    "5.Print the concatenated array."
   ]
  },
  {
   "cell_type": "code",
   "execution_count": 4,
   "metadata": {},
   "outputs": [
    {
     "name": "stdout",
     "output_type": "stream",
     "text": [
      "12 98 1 2 3 5 8 9 11\n"
     ]
    }
   ],
   "source": [
    "# Read the number of arrays\n",
    "n = int(input())               # n = 3\n",
    "\n",
    "# Initialize an empty list to store all the sorted arrays\n",
    "sorted_arrays = []\n",
    "\n",
    "# Read and process each array\n",
    "for _ in range(n):\n",
    "    # Read the size of the array (we don't actually need to use this value)\n",
    "    size = int(input())\n",
    "    \n",
    "    # Read the elements of the array\n",
    "    array = list(map(int, input().split()))\n",
    "    \n",
    "    # Sort the array\n",
    "    array.sort()\n",
    "    \n",
    "    # Add the sorted array to the list of sorted arrays\n",
    "    sorted_arrays.extend(array)\n",
    "\n",
    "# Print the concatenated sorted arrays\n",
    "print(\" \".join(map(str, sorted_arrays)))"
   ]
  },
  {
   "cell_type": "markdown",
   "metadata": {},
   "source": [
    "#### **19. You are given with two arrays. Your task is to merge the array such that first array is in ascending order and second one in descending order.**\n",
    "\n",
    "**Input Description:**\n",
    "\n",
    "First line contains two integer ‘n’ and ‘m’. ‘n’ denotes length of array 1 and ‘m’ of array 2.Next line contains n space separated numbers and third line contains ‘m’ space separated numbers\n",
    "\n",
    "**Output Description:**\n",
    "\n",
    "Print a single array in desired order\n",
    "\n",
    "Sample Input :\n",
    "\n",
    "3 3\n",
    "\n",
    "23 15 16\n",
    "\n",
    "357 65 10\n",
    "\n",
    "Sample Output :\n",
    "\n",
    "15 16 23 357 65 10"
   ]
  },
  {
   "cell_type": "markdown",
   "metadata": {},
   "source": [
    "**Steps:**\n",
    "\n",
    "1. Read the input values for the lengths of the arrays.\n",
    "\n",
    "2. Read the elements of both arrays.\n",
    "\n",
    "3. Sort the first array in ascending order.\n",
    "\n",
    "4. Sort the second array in descending order.\n",
    "\n",
    "5. Concatenate the two sorted arrays.\n",
    "\n",
    "6. Print the merged array."
   ]
  },
  {
   "cell_type": "code",
   "execution_count": 1,
   "metadata": {},
   "outputs": [
    {
     "name": "stdout",
     "output_type": "stream",
     "text": [
      "15 16 23 357 65 10\n"
     ]
    }
   ],
   "source": [
    "# Merge the two arrays\n",
    "\n",
    "# Get the input as integer\n",
    "n, m = map(int, input().split())\n",
    "array1 = list(map(int, input().split()))\n",
    "array2 = list(map(int, input().split()))\n",
    "\n",
    "# Sort the first array in ascending order\n",
    "array1.sort()\n",
    "\n",
    "# Sort the second array in descending order\n",
    "array2.sort(reverse=True)\n",
    "\n",
    "# Merge the two arrays\n",
    "merged_array = array1 + array2\n",
    "\n",
    "# Print the merged array\n",
    "print(\" \".join(map(str, merged_array)))"
   ]
  },
  {
   "cell_type": "markdown",
   "metadata": {},
   "source": [
    "#### **21. Ria is a 5 year old girl. Her mother wants to teach her how to sort words in the same order that they appear in a dictionary. She decides to write a program to sort a given set of strings based on their alphabetical order. Help Ria’s mother to complete the program.**\n",
    "\n",
    "**Input Description:**\n",
    "\n",
    "A set of N strings\n",
    "\n",
    "**Output Description:**\n",
    "\n",
    "Alphabetically sorted set of strings\n",
    "\n",
    "Sample Input :\n",
    "\n",
    "3\n",
    "\n",
    "InfinityWar EndGame Avengers\n",
    "\n",
    "Sample Output :\n",
    "\n",
    "Avengers EndGame InfinityWar"
   ]
  },
  {
   "cell_type": "code",
   "execution_count": 3,
   "metadata": {},
   "outputs": [
    {
     "name": "stdout",
     "output_type": "stream",
     "text": [
      "Avengers EndGame InfinityWar\n"
     ]
    }
   ],
   "source": [
    "n = int(input())      # n = 3\n",
    "s = input().split()   # s = InfinityWar EndGame Avengers\n",
    "\n",
    "# Sort the strings in alphabetical order\n",
    "s.sort()\n",
    "print(\" \".join(s))"
   ]
  },
  {
   "cell_type": "markdown",
   "metadata": {},
   "source": [
    "#### **22. You are provided with an array in which all elements are repeated thrice except one which is repeated twice.Your task is to print that number.**\n",
    "\n",
    "O(n) time and O(1) extra space\n",
    "\n",
    "**Input Description:**\n",
    "\n",
    "First line contains a number denoting size of array ‘n’.Next line contains n space separated numbers\n",
    "\n",
    "**Output Description:**\n",
    "\n",
    "Print the number which is repeated twice\n",
    "\n",
    "Sample Input :\n",
    "\n",
    "5\n",
    "\n",
    "13 12 13 12 13\n",
    "\n",
    "Sample Output :\n",
    "\n",
    "12"
   ]
  },
  {
   "cell_type": "markdown",
   "metadata": {},
   "source": [
    "**Steps:**\n",
    "\n",
    "1. Sum of Unique Elements (3 * sum(set(arr))): This calculates the sum of all unique elements in the array, multiplied by 3. Since every element appears three times except the one that appears twice, this sum includes the contribution of the unique element appearing twice an extra time.\n",
    "\n",
    "2. Total Sum (sum(arr)): This is the sum of all elements in the array.\n",
    "\n",
    "3. Difference: The difference between the above two sums gives the element that appears twice.\n",
    "\n",
    "**Explaination:**\n",
    "\n",
    "Unique elements: {13, 12}\n",
    "\n",
    "Sum of unique elements: 13 + 12 = 25\n",
    "\n",
    "3 * Sum of unique elements: 3 * 25 = 75\n",
    "\n",
    "Total sum of array elements: 13 + 12 + 13 + 12 + 13 = 63\n",
    "\n",
    "Difference: 75 - 63 = 12\n",
    "\n",
    "Number that appears twice: 12"
   ]
  },
  {
   "cell_type": "code",
   "execution_count": 6,
   "metadata": {},
   "outputs": [
    {
     "name": "stdout",
     "output_type": "stream",
     "text": [
      "12\n"
     ]
    }
   ],
   "source": [
    "# Method - 1 : Using set() function\n",
    "\n",
    "n = int(input())\n",
    "arr = list(map(int,input().split()))\n",
    "\n",
    "#using set\n",
    "def twice(arr):\n",
    "    return ((3*sum(set(arr)))-sum(arr))\n",
    "print(twice(arr))"
   ]
  },
  {
   "cell_type": "markdown",
   "metadata": {},
   "source": [
    "**Another method :**\n",
    "\n",
    "**Steps:**\n",
    "1. Use a dictionary to count the occurrences of each element.\n",
    "2. Iterate through the array and populate the dictionary.\n",
    "3. Identify and return the element that appears exactly twice.\n",
    "\n",
    "**Explaination:**\n",
    "\n",
    "1.Initial Array: [13, 12, 13, 12, 13]\n",
    "\n",
    "2.Counting Occurrences:\n",
    "    13 appears 3 times.\n",
    "    12 appears 2 times.\n",
    "\n",
    "3.Finding the Result:\n",
    "    The dictionary will be {13: 3, 12: 2}\n",
    "    The function returns 12 since it appears exactly twice."
   ]
  },
  {
   "cell_type": "code",
   "execution_count": 8,
   "metadata": {},
   "outputs": [
    {
     "name": "stdout",
     "output_type": "stream",
     "text": [
      "12\n"
     ]
    }
   ],
   "source": [
    "# Method - 2 : Using dict to count the occurance of each value\n",
    "\n",
    "def singleNumber(nums, l):\n",
    "    count_dict = {}\n",
    "    \n",
    "    # Count the occurrences of each number\n",
    "    for num in nums:\n",
    "        if num in count_dict:\n",
    "            count_dict[num] += 1\n",
    "        else:\n",
    "            count_dict[num] = 1\n",
    "    \n",
    "    # Find the number that appears exactly twice\n",
    "    for num, count in count_dict.items():\n",
    "        if count == 2:\n",
    "            return num\n",
    "\n",
    "# Read input\n",
    "n = int(input())\n",
    "nums = list(map(int, input().split()))\n",
    "\n",
    "# Find and print the number which appears twice\n",
    "print(singleNumber(nums, n))"
   ]
  },
  {
   "cell_type": "markdown",
   "metadata": {},
   "source": [
    "#### **23. You are given given task is to print whether array is ‘majestic’ or not.A ‘majsetic’ array is an array whose sum of first three number is equal to last three number.**\n",
    "\n",
    "**Input Description:**\n",
    "\n",
    "You are given a number ‘n’,Next line contains ‘n’ space separated\n",
    "\n",
    "**Output Description:**\n",
    "\n",
    "Print 1 if array is majestic and 0 if it is not\n",
    "\n",
    "Sample Input :\n",
    "\n",
    "7\n",
    "\n",
    "1 2 3 4 6 0 0\n",
    "\n",
    "Sample Output :\n",
    "\n",
    "1"
   ]
  },
  {
   "cell_type": "code",
   "execution_count": 1,
   "metadata": {},
   "outputs": [
    {
     "name": "stdout",
     "output_type": "stream",
     "text": [
      "1\n"
     ]
    }
   ],
   "source": [
    "def is_majestic(arr):\n",
    "    if len(arr) < 6:\n",
    "        return 0  # If there are less than 6 elements, it cannot be majestic\n",
    "    \n",
    "    # Sum of the first three elements\n",
    "    sum_first_three = sum(arr[:3])\n",
    "    \n",
    "    # Sum of the last three elements\n",
    "    sum_last_three = sum(arr[-3:])\n",
    "    \n",
    "    # Check if the sums are equal\n",
    "    if sum_first_three == sum_last_three:\n",
    "        return 1\n",
    "    else:\n",
    "        return 0\n",
    "\n",
    "n = int(input())                            # n = 7\n",
    "arr = list(map(int, input().split()))       # arr = 1 2 3 4 6 0 0\n",
    "result = is_majestic(arr)\n",
    "print(result)"
   ]
  },
  {
   "cell_type": "markdown",
   "metadata": {},
   "source": [
    "#### **24. You are given two arrays of equal length. Your task is to merge the two arrays then sort them too and then find the sum of two middlemost elements.**\n",
    "\n",
    "**Input Description:**\n",
    "\n",
    "You are given a number ‘n’. Then Next line contains first list of 'n' separated numbers.Third line contains second list of 'n' space separated numbers.\n",
    "\n",
    "**Output Description:**\n",
    "\n",
    "Print the sum of two middle elements\n",
    "\n",
    "Sample Input :\n",
    "\n",
    "5\n",
    "\n",
    "1 9 16 25 46\n",
    "\n",
    "2 3 4 5 6\n",
    "\n",
    "Sample Output :\n",
    "\n",
    "11"
   ]
  },
  {
   "cell_type": "code",
   "execution_count": 3,
   "metadata": {},
   "outputs": [
    {
     "name": "stdout",
     "output_type": "stream",
     "text": [
      "11\n"
     ]
    }
   ],
   "source": [
    "def sum_of_middle_elements(arr1, arr2):\n",
    "    # Merge the two arrays\n",
    "    merged_array = arr1 + arr2\n",
    "    \n",
    "    # Sort the merged array\n",
    "    merged_array.sort()\n",
    "    \n",
    "    # Calculate the indices for the middle elements\n",
    "    total_length = len(merged_array)\n",
    "    mid1_index = total_length // 2 - 1\n",
    "    mid2_index = total_length // 2\n",
    "    \n",
    "    # Sum the two middle elements\n",
    "    sum_middle = merged_array[mid1_index] + merged_array[mid2_index]\n",
    "    return sum_middle\n",
    "\n",
    "n = int(input())\n",
    "arr1 = list(map(int, input().split()))\n",
    "arr2 = list(map(int, input().split()))\n",
    "# Find and print the sum of the middle elements\n",
    "print(sum_of_middle_elements(arr1, arr2))"
   ]
  },
  {
   "cell_type": "markdown",
   "metadata": {},
   "source": [
    "#### **25. Rahul is fond of numbers.He is given a list of queries. 1 means store that element,2 means means print the minimum element of the stored list. For more clarity see the input and output example**\n",
    "\n",
    "**Input Description:**\n",
    "\n",
    "The first line of the input N indicates the size of the query list. For N lines, the queries are given with the format of '1 M', where M indicates the number to be stored and 1 indicates the query type. Similarly, '2' which indicates the type of query and it does not contain M since it is not required by this query type. Briefly saying, '1 M' means store that element M in a list '2' means print the minimum element of stored list\n",
    "\n",
    "**Output Description:**\n",
    "\n",
    "Print the minimum element and -1 if there are no elements in stored list if the querytype is 2. Store the given number in the list if the query type is 1.\n",
    "\n",
    "Sample Input :\n",
    "\n",
    "5\n",
    "\n",
    "1 60\n",
    "\n",
    "2\n",
    "\n",
    "1 58\n",
    "\n",
    "2\n",
    "\n",
    "1 69\n",
    "\n",
    "Sample Output :\n",
    "\n",
    "60 58"
   ]
  },
  {
   "cell_type": "markdown",
   "metadata": {},
   "source": [
    "**Problem Statement:**\n",
    "\n",
    "Rahul is given a series of queries to process. Each query is of two possible types:\n",
    "\n",
    "Query type 1 M: This query indicates that the number M should be stored in a list.\n",
    "Query type 2: This query requires finding and printing the minimum element from the list of stored numbers. If the list is empty, it should print -1.\n",
    "\n",
    "**Explanation:**\n",
    "\n",
    "First Query: 1 5\n",
    "\n",
    "Store 5 in the list.\n",
    "\n",
    "List: [5]\n",
    "\n",
    "Second Query: 1 3\n",
    "\n",
    "Store 3 in the list.\n",
    "\n",
    "List: [5, 3]\n",
    "\n",
    "Third Query: 2\n",
    "\n",
    "Find the minimum element in the list [5, 3].\n",
    "\n",
    "The minimum element is 3.\n",
    "\n",
    "Output: 3\n",
    "\n",
    "Fourth Query: 1 2\n",
    "\n",
    "Store 2 in the list.\n",
    "\n",
    "List: [5, 3, 2]\n",
    "\n",
    "Fifth Query: 2\n",
    "\n",
    "Find the minimum element in the list [5, 3, 2].\n",
    "\n",
    "The minimum element is 2.\n",
    "\n",
    "Output: 2"
   ]
  },
  {
   "cell_type": "code",
   "execution_count": 4,
   "metadata": {},
   "outputs": [
    {
     "name": "stdout",
     "output_type": "stream",
     "text": [
      "60 58\n"
     ]
    }
   ],
   "source": [
    "q = int(input())  # Number of queries\n",
    "l = []  # List to store elements\n",
    "b = []  # List to store results of type 2 queries\n",
    "\n",
    "for _ in range(q):\n",
    "    a = [int(x) for x in input().split()]  # Read the query\n",
    "    if a[0] == 1: \n",
    "        l.append(a[1])  # Append to list if query is of type 1\n",
    "    if a[0] == 2:\n",
    "        if len(l) == 0: \n",
    "            b.append(-1)  # If list is empty, append -1\n",
    "        else: \n",
    "            b.append(min(l))  # Append the minimum element from list\n",
    "\n",
    "print(*b)  # Print all results of type 2 queries"
   ]
  },
  {
   "cell_type": "markdown",
   "metadata": {},
   "source": [
    "#### **26. You are given with a list of size ‘n’. The list is imposed with a condition that all elements must be of range 0 to n-1.Your task is to rearrange the numbers such that arr[i] becomes arr[arr[i]].**\n",
    "\n",
    "**Input Description:**\n",
    "\n",
    "You are given size of array ‘n’.n space separated numbers in next line.\n",
    "\n",
    "**Output Description:**\n",
    "\n",
    "Print all elements after rearranging.\n",
    "\n",
    "Sample Input :\n",
    "\n",
    "5\n",
    "\n",
    "4 0 2 1 3\n",
    "\n",
    "Sample Output :\n",
    "\n",
    "3 4 2 0 1"
   ]
  },
  {
   "cell_type": "markdown",
   "metadata": {},
   "source": [
    "Problem Statement\n",
    "Given a list of size n with elements in the range 0 to n-1, rearrange the list so that each element at index i is replaced with the element at index arr[i]."
   ]
  },
  {
   "cell_type": "code",
   "execution_count": 5,
   "metadata": {},
   "outputs": [
    {
     "name": "stdout",
     "output_type": "stream",
     "text": [
      "3 4 2 0 1\n"
     ]
    }
   ],
   "source": [
    "# Read the size of the array\n",
    "n = int(input())\n",
    "\n",
    "# Read the array elements\n",
    "arr = list(map(int, input().split()))\n",
    "\n",
    "# Create a new array to store the result\n",
    "result = [0] * n\n",
    "\n",
    "# Rearrange the array elements\n",
    "for i in range(n):\n",
    "    result[i] = arr[arr[i]]\n",
    "\n",
    "# Print the rearranged array\n",
    "print(*result)"
   ]
  },
  {
   "cell_type": "markdown",
   "metadata": {},
   "source": [
    "#### **27. Given a number N, print the odd digits in the number(space seperated) or print -1 if there is no odd digit in the given number.**\n",
    "\n",
    "Input Size : N <= 100000\n",
    "\n",
    "Sample Testcase :\n",
    "\n",
    "INPUT\n",
    "\n",
    "2143\n",
    "\n",
    "OUTPUT\n",
    "\n",
    "1 3"
   ]
  },
  {
   "cell_type": "code",
   "execution_count": 8,
   "metadata": {},
   "outputs": [
    {
     "name": "stdout",
     "output_type": "stream",
     "text": [
      "1 3\n"
     ]
    }
   ],
   "source": [
    "# using list comprehension to get the odd digits from number\n",
    "def print_odd_digits(N):\n",
    "    odd_digits = [digit for digit in str(N) if int(digit) % 2 != 0]\n",
    "    result = ' '.join(odd_digits) if odd_digits else '-1'\n",
    "    print(result)\n",
    "\n",
    "N = int(input())        # N = 2143\n",
    "print_odd_digits(N)"
   ]
  },
  {
   "cell_type": "code",
   "execution_count": 7,
   "metadata": {},
   "outputs": [
    {
     "name": "stdout",
     "output_type": "stream",
     "text": [
      "Odd digits of 2143: [1, 3]\n",
      "1 3\n"
     ]
    }
   ],
   "source": [
    "def extract_odd_digits(number):\n",
    "    # Convert number to string to iterate over each digit\n",
    "    num_str = str(number)\n",
    "    odd_digits = []\n",
    "    \n",
    "    # Iterate over each character (digit) in the string\n",
    "    for digit_char in num_str:\n",
    "        digit = int(digit_char)\n",
    "        # Check if the digit is odd\n",
    "        if digit % 2 != 0:\n",
    "            odd_digits.append(digit)\n",
    "    return odd_digits\n",
    "\n",
    "number = int(input())\n",
    "odd_digits = extract_odd_digits(number)\n",
    "print(f\"Odd digits of {number}: {odd_digits}\")\n",
    "print(*odd_digits)"
   ]
  },
  {
   "cell_type": "markdown",
   "metadata": {},
   "source": [
    "#### **28. Finding the least occurring element(s) in an array and printing them in decreasing order**\n",
    "\n",
    "You are given an array of numbers. Print the least occurring element. If there is more than 1 element print all of them in decreasing order of their value.\n",
    "\n",
    "**Input Description:**\n",
    "\n",
    "You are given a number ‘n’ denoting size of array. Next line contains n space separated numbers.\n",
    "\n",
    "**Output Description:**\n",
    "\n",
    "Print the number as mentioned\n",
    "\n",
    "Sample Input :\n",
    "\n",
    "9\n",
    "\n",
    "1 6 4 56 56 56 6 4 2\n",
    "\n",
    "Sample Output :\n",
    "\n",
    "2 1"
   ]
  },
  {
   "cell_type": "markdown",
   "metadata": {},
   "source": [
    "**Steps:**\n",
    "\n",
    "The dictionary freq will be {1: 1, 6: 2, 4: 2, 56: 3, 2: 1}.\n",
    "\n",
    "The minimum frequency min_freq is 1.\n",
    "\n",
    "The least_occuring elements are [2, 1].\n",
    "\n",
    "Sorting and printing these elements in decreasing order gives 2 1."
   ]
  },
  {
   "cell_type": "code",
   "execution_count": 1,
   "metadata": {},
   "outputs": [
    {
     "name": "stdout",
     "output_type": "stream",
     "text": [
      "2 1\n"
     ]
    }
   ],
   "source": [
    "def least_occuring_elements(n, arr):\n",
    "    # Count frequencies of each element using a dictionary\n",
    "    freq = {}                           # freq = {1: 1, 6: 2, 4: 2, 56: 3, 2: 1}\n",
    "    for num in arr:\n",
    "        if num in freq:\n",
    "            freq[num] += 1\n",
    "        else:\n",
    "            freq[num] = 1\n",
    "    \n",
    "    # Find the minimum frequency\n",
    "    min_freq = min(freq.values())       # min_freq = 1\n",
    "    \n",
    "    # Collect elements with minimum frequency\n",
    "    least_occuring = [num for num, count in freq.items() if count == min_freq]  # least_occuring = [1, 2]\n",
    "    \n",
    "    # Sort and print in decreasing order of their value\n",
    "    least_occuring.sort(reverse=True)                               # least_occuring = [2, 1]\n",
    "    print(*least_occuring)                                          # least_occuring =  2 1\n",
    "\n",
    "n = int(input())                                # Read the size of the array = 9\n",
    "arr = list(map(int, input().split()))           # Read the array elements = 1 6 4 56 56 56 6 4 2\n",
    "\n",
    "# Calling the function to find and print least occurring elements\n",
    "least_occuring_elements(n, arr)"
   ]
  },
  {
   "cell_type": "markdown",
   "metadata": {},
   "source": [
    "#### **29. Find the maximum marks obtained from two students**\n",
    "\n",
    "Rajesh and Ram are having a conflict on the maximum marks that they have scored in all the exams conducted in the past year. The one having scored the maximum gets a treat from the other. They decide to go through their test papers and record their highest marks. You are Rajesh’s best friend and as he has tutions to attend, he gives you all his test papers and asks you to find out the maximum marks that he has scored among all the marks in all exams. He promises you a treat if he wins the bet with Ram. Help Rajesh find out his highest marks.\n",
    "\n",
    "Constraints:\n",
    "\n",
    "1 <= N <= 10\n",
    "\n",
    "0 <= A[] <= 100\n",
    "\n",
    "**Input Description:**\n",
    "\n",
    "First line contains count of marks. Next line is the list of marks obtained by Rajesh.\n",
    "\n",
    "**Output Description:**\n",
    "\n",
    "Highest marks obtained by Rajesh.\n",
    "\n",
    "Sample Input :\n",
    "\n",
    "3\n",
    "\n",
    "82 96 72\n",
    "\n",
    "Sample Output :\n",
    "\n",
    "96\n"
   ]
  },
  {
   "cell_type": "code",
   "execution_count": 1,
   "metadata": {},
   "outputs": [
    {
     "name": "stdout",
     "output_type": "stream",
     "text": [
      "96\n"
     ]
    }
   ],
   "source": [
    "count = int(input())\n",
    "marks = list(map(int, input().split()))\n",
    "highest_mark = max(marks)\n",
    "print(highest_mark)"
   ]
  },
  {
   "cell_type": "markdown",
   "metadata": {},
   "source": [
    "#### **30. Find the sum of all negative numbers in an array**\n",
    "\n",
    "Given a number N and an array of N integers, find the sum of all the negative numbers in the array.\n",
    "Input Size : N <= 100000\n",
    "\n",
    "Sample Testcase :\n",
    "\n",
    "INPUT\n",
    "\n",
    "2\n",
    "\n",
    "3 0\n",
    "\n",
    "OUTPUT\n",
    "\n",
    "0"
   ]
  },
  {
   "cell_type": "code",
   "execution_count": 2,
   "metadata": {},
   "outputs": [
    {
     "name": "stdout",
     "output_type": "stream",
     "text": [
      "0\n"
     ]
    }
   ],
   "source": [
    "# Get the number of integers\n",
    "n = int(input())\n",
    "\n",
    "# Get the list of integers\n",
    "numbers = list(map(int, input().split()))\n",
    "\n",
    "# Calculate the sum of negative numbers\n",
    "negative_sum = sum(num for num in numbers if num < 0)\n",
    "\n",
    "# Print the sum of negative numbers\n",
    "print(negative_sum)\n"
   ]
  },
  {
   "cell_type": "markdown",
   "metadata": {},
   "source": [
    "### **31. Given a number N, print the sum of squares of all its digits.**\n",
    "\n",
    "Input Size : 1 <= N <= 100000\n",
    "\n",
    "Sample Testcase :\n",
    "\n",
    "INPUT\n",
    "\n",
    "12\n",
    "\n",
    "OUTPUT\n",
    "\n",
    "5"
   ]
  },
  {
   "cell_type": "code",
   "execution_count": 3,
   "metadata": {},
   "outputs": [
    {
     "name": "stdout",
     "output_type": "stream",
     "text": [
      "5\n"
     ]
    }
   ],
   "source": [
    "# Get the input number as a string to easily access each digit\n",
    "n = input()             # n = '12'\n",
    "\n",
    "# Calculate the sum of the squares of all digits\n",
    "sum_of_squares = sum(int(digit)**2 for digit in n)      # n = 1 ^ 2 + 2 ^ 2 = 1 + 4 = 5\n",
    "\n",
    "# Print the result\n",
    "print(sum_of_squares)"
   ]
  },
  {
   "cell_type": "markdown",
   "metadata": {},
   "source": [
    "#### **32. Given a number N print a right angled traingle structure with the starting level as single 1 and every immediate proceeding level with 2 more additional ones than the previous level .Repeat the pattern for N levels.**\n",
    "\n",
    "Input Size : N <= 1000\n",
    "\n",
    "Sample Testcase :\n",
    "\n",
    "INPUT\n",
    "\n",
    "3\n",
    "\n",
    "OUTPUT\n",
    "\n",
    "1\n",
    "\n",
    "1 1 1\n",
    "\n",
    "1 1 1 1 1"
   ]
  },
  {
   "cell_type": "code",
   "execution_count": 5,
   "metadata": {},
   "outputs": [
    {
     "name": "stdout",
     "output_type": "stream",
     "text": [
      "1\n",
      "1 1 1\n",
      "1 1 1 1 1\n"
     ]
    }
   ],
   "source": [
    "N = int(input())\n",
    "k = '1'\n",
    "for i in range(N):\n",
    "    print(k)\n",
    "    k += ' 1 1'"
   ]
  },
  {
   "cell_type": "code",
   "execution_count": 1,
   "metadata": {},
   "outputs": [
    {
     "name": "stdout",
     "output_type": "stream",
     "text": [
      "1 \n",
      "1 1 1 \n",
      "1 1 1 1 1 \n"
     ]
    }
   ],
   "source": [
    "# Function to print the pattern\n",
    "def print_triangle(N):\n",
    "    for i in range(1, N + 1):\n",
    "        num_ones = 1 + 2 * (i - 1)\n",
    "        print(\"1 \" * num_ones)\n",
    "\n",
    "N = int(input())\n",
    "\n",
    "# Call the function with the input\n",
    "print_triangle(N)"
   ]
  },
  {
   "cell_type": "markdown",
   "metadata": {},
   "source": [
    "#### **33. Indian politics has an interesting trend in history. A party which assumes that it is the undefeatable champion in elections has been defeated by other parties in many instances.You are a data analyst in the Election Commission. You are given a list containing a year and the party which won the election in that particular year. Your task is to analyse the trend and find the years in which, one party, which won many elections consecutively, was suddenly defeated by another.**\n",
    " \n",
    "**Input Description:**\n",
    "\n",
    "Size of the array, followed by 2 arrays, one containing the year values and the other containing the party which won the election that year.\n",
    "\n",
    "**Output Description:**\n",
    "\n",
    "The year of transition from one party to another.\n",
    "\n",
    "Sample Input :\n",
    "\n",
    "5\n",
    "\n",
    "2004 1999 2019 2009 2014\n",
    "\n",
    "JDU JDU CON JDU CON\n",
    "\n",
    "Sample Output :\n",
    "\n",
    "2014"
   ]
  },
  {
   "cell_type": "markdown",
   "metadata": {},
   "source": [
    "#### **Approach 1: Using Zip for Iteration**\n",
    "\n",
    "In this approach, we'll use Python's zip function to iterate through both the years and parties lists simultaneously. This can simplify the loop structure and make the transition detection more straightforward."
   ]
  },
  {
   "cell_type": "code",
   "execution_count": 6,
   "metadata": {},
   "outputs": [
    {
     "name": "stdout",
     "output_type": "stream",
     "text": [
      "2019\n"
     ]
    }
   ],
   "source": [
    "def find_transition_year(size, years, parties):\n",
    "    if size <= 1:\n",
    "        return None\n",
    "    \n",
    "    transition_year = None\n",
    "    \n",
    "    for year, party in zip(years[1:], parties[1:]):\n",
    "        if party != parties[0]:\n",
    "            transition_year = year\n",
    "            break\n",
    "    \n",
    "    return transition_year\n",
    "\n",
    "def main():\n",
    "    size = int(input().strip())                         #  size = 5\n",
    "    years = list(map(int, input().strip().split()))     #  years = [2004, 1999, 2019, 2009, 2014]\n",
    "    parties = input().strip().split()                   #  parties = JDU JDU CON JDU CON\n",
    "    \n",
    "    transition_year = find_transition_year(size, years, parties)\n",
    "    \n",
    "    if transition_year:\n",
    "        print(transition_year)\n",
    "    else:\n",
    "        print(\"No transition year found.\")\n",
    "\n",
    "# Test case\n",
    "main()"
   ]
  },
  {
   "cell_type": "markdown",
   "metadata": {},
   "source": [
    "### **Approach 2: Using Index Comparison**\n",
    "\n",
    "In this approach, we use the index of the loop directly to compare the current and previous party directly. This eliminates the need for extra variables and directly checks the condition based on indices."
   ]
  },
  {
   "cell_type": "code",
   "execution_count": 7,
   "metadata": {},
   "outputs": [
    {
     "name": "stdout",
     "output_type": "stream",
     "text": [
      "2019\n"
     ]
    }
   ],
   "source": [
    "def find_transition_year(size, years, parties):\n",
    "    if size <= 1:\n",
    "        return None\n",
    "    \n",
    "    for i in range(1, size):\n",
    "        if parties[i] != parties[i-1]:\n",
    "            return years[i]\n",
    "    \n",
    "    return None\n",
    "\n",
    "def main():\n",
    "    size = int(input().strip())\n",
    "    years = list(map(int, input().strip().split()))\n",
    "    parties = input().strip().split()\n",
    "    \n",
    "    transition_year = find_transition_year(size, years, parties)\n",
    "    \n",
    "    if transition_year:\n",
    "        print(transition_year)\n",
    "    else:\n",
    "        print(\"No transition year found.\")\n",
    "\n",
    "# Test case\n",
    "main()"
   ]
  },
  {
   "cell_type": "markdown",
   "metadata": {},
   "source": [
    "### **35. Prakash is bored and wants to spends his time. He starts rolling a die and observes the value that is shown. He rolls the dice N times and observes that just one number appears distinctly, all the others get repeated or does not appear at all. Find out which was the number that puzzled Prakash for sometime, after which he realised that it was just a coincidence.**\n",
    "\n",
    "Constraints\n",
    "0 <   N  <= 100\n",
    "0 <= A[i] <= 100\n",
    " \n",
    "Input Description:\n",
    "\n",
    "The first line contains a positive integer N, denoting the size of the array. The second line contains N positive integers, denoting the face values that appeared when the die was rolled.\n",
    "\n",
    "Output Description:\n",
    "\n",
    "Print out the singly occurring number.\n",
    "\n",
    "Sample Input :\n",
    "\n",
    "5\n",
    "\n",
    "1 1 2 5 5\n",
    "\n",
    "Sample Output :\n",
    "\n",
    "2"
   ]
  },
  {
   "cell_type": "markdown",
   "metadata": {},
   "source": [
    "#### **To find the number that appears exactly once in the given list**\n",
    "\n",
    "**Logic:**\n",
    "\n",
    "1.Read the input value (N, arr)\n",
    "\n",
    "2.Dictionary to store the frequency of each number {}\n",
    "\n",
    "3.Count the occurrences of each number.\n",
    "\n",
    "4.Identify the number that appears exactly once."
   ]
  },
  {
   "cell_type": "code",
   "execution_count": 4,
   "metadata": {},
   "outputs": [
    {
     "name": "stdout",
     "output_type": "stream",
     "text": [
      "2\n"
     ]
    }
   ],
   "source": [
    "# Function to find the singly occurring number\n",
    "def find_singly_occurring_number(N, arr):\n",
    "    # Dictionary to store the frequency of each number\n",
    "    frequency = {}\n",
    "    \n",
    "    # Count the occurrences of each number\n",
    "    for num in arr:\n",
    "        if num in frequency:\n",
    "            frequency[num] += 1\n",
    "        else:\n",
    "            frequency[num] = 1\n",
    "    \n",
    "    # Find the number that occurs exactly once\n",
    "    for num in frequency:\n",
    "        if frequency[num] == 1:\n",
    "            return num\n",
    "\n",
    "N = int(input())                                        # N = 5\n",
    "arr = list(map(int, input().split()))                   # arr = [1, 1, 2, 5, 5]\n",
    "\n",
    "# Find and print the singly occurring number\n",
    "result = find_singly_occurring_number(N, arr)\n",
    "print(result)"
   ]
  },
  {
   "cell_type": "markdown",
   "metadata": {},
   "source": [
    "### **To find the twice occurring number from the given list**\n",
    "\n",
    "#### **Logic**\n",
    "\n",
    "1.Read the input values.\n",
    "\n",
    "2.Count the occurrences of each number.\n",
    "\n",
    "3.Identify the number that appears exactly twice.\n",
    "\n",
    "#### **Explaination:**\n",
    "\n",
    "**Input Reading:**\n",
    "\n",
    "The first line reads the integer N, which represents the number of rolls.\n",
    "\n",
    "The second line reads N integers, representing the outcomes of each roll.\n",
    "\n",
    "**Counting Frequencies:**\n",
    "\n",
    "A dictionary frequency is used to count how many times each number appears.\n",
    "\n",
    "**Finding the Twice-Occurring Numbers:**\n",
    "\n",
    "We iterate through the dictionary and collect all numbers that have a frequency of 2.\n",
    "\n",
    "The dictionary will be {1: 2, 2: 1, 5: 2}.\n",
    "\n",
    "**Output:**\n",
    "\n",
    "The resulting list of numbers that appear exactly twice is printed, space-separated.\n",
    "\n",
    "The numbers 1 and 5 both have a frequency of 2."
   ]
  },
  {
   "cell_type": "code",
   "execution_count": 12,
   "metadata": {},
   "outputs": [
    {
     "name": "stdout",
     "output_type": "stream",
     "text": [
      "1 5\n"
     ]
    }
   ],
   "source": [
    "# Function to find all the twice-occurring numbers\n",
    "def find_twice_occurring_numbers(N, arr):\n",
    "    # Dictionary to store the frequency of each number\n",
    "    frequency = {}\n",
    "    \n",
    "    # Count the occurrences of each number\n",
    "    for num in arr:\n",
    "        if num in frequency:\n",
    "            frequency[num] += 1\n",
    "        else:\n",
    "            frequency[num] = 1\n",
    "    \n",
    "    # Find all numbers that occur exactly twice\n",
    "    twice_occurring_numbers = [num for num in frequency if frequency[num] == 2]\n",
    "    return twice_occurring_numbers\n",
    "\n",
    "N = int(input())\n",
    "arr = list(map(int, input().split()))\n",
    "\n",
    "# Find and print all the twice-occurring numbers\n",
    "result = find_twice_occurring_numbers(N, arr)\n",
    "print(\" \".join(map(str, result)))"
   ]
  },
  {
   "cell_type": "markdown",
   "metadata": {},
   "source": [
    "#### **36. Given a string S, print 2 strings such that first string containing all characters in odd position(s) and other containing all characters in even position(s).**\n",
    "\n",
    "Sample Testcase :\n",
    "\n",
    "INPUT\n",
    "\n",
    "XCODE\n",
    "\n",
    "OUTPUT\n",
    "\n",
    "XOE CD"
   ]
  },
  {
   "cell_type": "markdown",
   "metadata": {},
   "source": [
    "#### **Logic Explaination:**\n",
    "\n",
    "**Input Reading:**\n",
    "\n",
    "The input().strip() function reads the input string and removes any leading or trailing whitespace.\n",
    "\n",
    "**Splitting Characters:**\n",
    "\n",
    "We initialize two lists, odd_chars and even_chars, to store characters at odd and even positions, respectively.\n",
    "\n",
    "We iterate through the string using a for loop. The index i helps determine whether the character is at an odd or even position.\n",
    "\n",
    "If i % 2 == 0, the character is at an odd position (considering the first position as 0, which is even).\n",
    "\n",
    "If i % 2 != 0, the character is at an even position.\n",
    "\n",
    "**Combining Characters:**\n",
    "\n",
    "We join the characters in odd_chars and even_chars into strings using ''.join().\n",
    "\n",
    "**Output:**\n",
    "\n",
    "We print the two resulting strings separated by a space."
   ]
  },
  {
   "cell_type": "code",
   "execution_count": 5,
   "metadata": {},
   "outputs": [
    {
     "name": "stdout",
     "output_type": "stream",
     "text": [
      "XOE CD\n"
     ]
    }
   ],
   "source": [
    "# Function to split the string into odd and even positioned characters\n",
    "def split_odd_even_positions(S):\n",
    "    odd_chars = []\n",
    "    even_chars = []\n",
    "    \n",
    "    for i in range(len(S)):\n",
    "        if i % 2 == 0:\n",
    "            odd_chars.append(S[i])\n",
    "        else:\n",
    "            even_chars.append(S[i])\n",
    "    \n",
    "    odd_string = ''.join(odd_chars)\n",
    "    even_string = ''.join(even_chars)\n",
    "    \n",
    "    return odd_string, even_string\n",
    "\n",
    "S = input().strip()                 # S = \"XCODE\"\n",
    "\n",
    "# Split the string into odd and even positioned characters\n",
    "odd_string, even_string = split_odd_even_positions(S)\n",
    "\n",
    "# Print the result\n",
    "print(odd_string, even_string)"
   ]
  },
  {
   "cell_type": "markdown",
   "metadata": {},
   "source": [
    "#### 37. Given a string S, print it after changing the middle element to * (if the length of the string is even, change the 2 middle elements to *).\n",
    "\n",
    "Sample Testcase :\n",
    "\n",
    "INPUT\n",
    "\n",
    "hello\n",
    "\n",
    "OUTPUT\n",
    "\n",
    "he*lo"
   ]
  },
  {
   "cell_type": "markdown",
   "metadata": {},
   "source": [
    "#### **Logic Explaination:**\n",
    "\n",
    "**Input Reading:**\n",
    "\n",
    "input().strip() reads the input string and removes any leading or trailing whitespace.\n",
    "\n",
    "**Calculate Middle Position(s):**\n",
    "\n",
    "length = len(S) calculates the length of the string S. Here, The length of the string is 5, which is odd.\n",
    "\n",
    "Depending on whether length is odd or even, calculate the middle index or indices (middle_index, middle_index1, middle_index2). Here, middle_index = 2.\n",
    "\n",
    "**Modify the String:**\n",
    "\n",
    "If length is odd, replace the middle character at middle_index with *.\n",
    "Replace S[2] (which is 'l') with '*'.\n",
    "\n",
    "If length is even, replace the two middle characters at middle_index1 and middle_index2 with **.\n",
    "\n",
    "**Output:**\n",
    "\n",
    "Print the modified string (modified_string)."
   ]
  },
  {
   "cell_type": "code",
   "execution_count": 14,
   "metadata": {},
   "outputs": [
    {
     "name": "stdout",
     "output_type": "stream",
     "text": [
      "he*lo\n"
     ]
    }
   ],
   "source": [
    "def change_middle_to_star(S):\n",
    "    length = len(S)                         # length = 5\n",
    "    \n",
    "    # Calculate middle index or indices\n",
    "    if length % 2 == 1:                                                     # Length is odd\n",
    "        middle_index = length // 2                                          # middle index = 5 // 2 = 2\n",
    "        modified_string = S[:middle_index] + '*' + S[middle_index + 1:]\n",
    "    else:  # Length is even\n",
    "        middle_index1 = length // 2 - 1\n",
    "        middle_index2 = length // 2\n",
    "        modified_string = S[:middle_index1] + '**' + S[middle_index2 + 1:]\n",
    "    \n",
    "    return modified_string\n",
    "\n",
    "# Input\n",
    "S = input().strip()                 # S = \"hello\"\n",
    "\n",
    "# Change the middle element(s) to *\n",
    "modified_string = change_middle_to_star(S)\n",
    "\n",
    "# Output the modified string\n",
    "print(modified_string)"
   ]
  },
  {
   "cell_type": "markdown",
   "metadata": {},
   "source": [
    "#### **38. In a world cup tournament,no of goals scored by each team is given to you. Your task is to calculate net goal rate of each team.**\n",
    "\n",
    "Net goal rate of team is calculated\n",
    "\n",
    "No of goals(team)- sum of(no of goals by last 3 teams)\n",
    "\n",
    "**Input Description:**\n",
    "\n",
    "You are given a number ‘n’.Next line contains n space separated numbers.\n",
    "\n",
    "**Output Description:**\n",
    "\n",
    "Print the net goal rate of each team\n",
    "\n",
    "Sample Input :\n",
    "\n",
    "5\n",
    "\n",
    "95 85 75 12 11\n",
    "\n",
    "Sample Output :\n",
    "\n",
    "-3 -13 -23 -86 -87"
   ]
  },
  {
   "cell_type": "code",
   "execution_count": 7,
   "metadata": {},
   "outputs": [
    {
     "name": "stdout",
     "output_type": "stream",
     "text": [
      "95 -10 -105 -243 -161\n"
     ]
    }
   ],
   "source": [
    "def net_goal_rate(n, goals):\n",
    "    result = []\n",
    "    \n",
    "    for i in range(n):\n",
    "        if i < 3:\n",
    "            last_3_goals_sum = sum(goals[:i])\n",
    "        else:\n",
    "            last_3_goals_sum = sum(goals[i-3:i])\n",
    "        \n",
    "        net_rate = goals[i] - last_3_goals_sum\n",
    "        result.append(net_rate)\n",
    "    \n",
    "    return result\n",
    "\n",
    "n = int(input())\n",
    "goals = list(map(int, input().split()))\n",
    "\n",
    "# Function call\n",
    "net_rates = net_goal_rate(n, goals)\n",
    "\n",
    "# Print Output\n",
    "print(\" \".join(map(str, net_rates)))"
   ]
  },
  {
   "cell_type": "markdown",
   "metadata": {},
   "source": [
    "#### **39. Given a sentence and string S, find how many times S occurs in the given sentence.If S is not found in the sentence print -1**\n",
    "\n",
    "Input Size : |sentence| <= 1000000(complexity O(n)).\n",
    "\n",
    "Sample Testcase :\n",
    "\n",
    "INPUT\n",
    "\n",
    "I enjoy doing codekata\n",
    "\n",
    "codekata\n",
    "\n",
    "OUTPUT\n",
    "\n",
    "1"
   ]
  },
  {
   "cell_type": "code",
   "execution_count": 6,
   "metadata": {},
   "outputs": [
    {
     "name": "stdout",
     "output_type": "stream",
     "text": [
      "1\n"
     ]
    }
   ],
   "source": [
    "def count_occurrences(sentence, S):\n",
    "    # Count occurrences of S in the sentence\n",
    "    count = sentence.count(S)\n",
    "    \n",
    "    # If S is not found, print -1\n",
    "    if count == 0:\n",
    "        print(-1)\n",
    "    else:\n",
    "        print(count)\n",
    "\n",
    "sentence = input()      # sentence = 'I enjoy doing codekata'\n",
    "S = input()             # S = 'codekata'\n",
    "\n",
    "# Function call\n",
    "count_occurrences(sentence, S)"
   ]
  },
  {
   "cell_type": "markdown",
   "metadata": {},
   "source": [
    "#### **40. Shreya is a brilliant girl. She likes to memorize the numbers. These numbers will be shown to her. As an examiner develop an algorithm to test her memory.**\n",
    "\n",
    "CONSTRAINTS\n",
    "\n",
    "1<=Y,N,T<=1000\n",
    "\n",
    "Input Description:\n",
    "\n",
    "First line contains no. of test cases(Y). Next line contains a number N. Next line contains n space separated numbers Next line contains a number T denoting the number of questions asked from you regarding the given array. Next line contains T space separated numbers.\n",
    "\n",
    "Output Description:\n",
    "\n",
    "Print the occurrence of each number if present else “NOT PRESENT”\n",
    "\n",
    "Sample Input :\n",
    "\n",
    "10\n",
    "\n",
    "1 1 1 2 2 2 3 8 9 7\n",
    "\n",
    "5\n",
    "\n",
    "1 2 3 0 5\n",
    "\n",
    "Sample Output :\n",
    "\n",
    "3 3 1 Not Present Not Present"
   ]
  },
  {
   "cell_type": "code",
   "execution_count": 8,
   "metadata": {},
   "outputs": [
    {
     "name": "stdout",
     "output_type": "stream",
     "text": [
      "3 3 1 NOT PRESENT NOT PRESENT\n"
     ]
    }
   ],
   "source": [
    "def test_memory(Y, N, numbers, T, questions):\n",
    "    # Create a dictionary to store the count of each number\n",
    "    count_dict = {}\n",
    "    \n",
    "    for num in numbers:\n",
    "        if num in count_dict:\n",
    "            count_dict[num] += 1\n",
    "        else:\n",
    "            count_dict[num] = 1\n",
    "    \n",
    "    # Check each question and print the result\n",
    "    result = []\n",
    "    for q in questions:\n",
    "        if q in count_dict:\n",
    "            result.append(str(count_dict[q]))\n",
    "        else:\n",
    "            result.append(\"Not Present\")\n",
    "    \n",
    "    return \" \".join(result)\n",
    "\n",
    "Y = int(input())\n",
    "N = int(input())\n",
    "numbers = list(map(int, input().split()))\n",
    "T = int(input())\n",
    "questions = list(map(int, input().split()))\n",
    "\n",
    "# Function call and print output\n",
    "output = test_memory(Y, N, numbers, T, questions)\n",
    "print(output)"
   ]
  },
  {
   "cell_type": "markdown",
   "metadata": {},
   "source": [
    "#### **41. The prison warden at Central jail is given a tip-off that a prison inmate is planning an escape. The warden suspects a particular prisoner of planning an escape and wants to find out if he/she is present in his/her cell. The layout of the prison is modelled in a matrix with every cell of the matrix representing a prison cell. The matrix is filled with the prisoner ids at the corresponding cells. Find out whether the person the warden suspects is present in the prison or not.**\n",
    " \n",
    "**Input Description:**\n",
    "\n",
    "First line contains the dimensions of the prison matrix, followed by the ids of prisoners as elements of the matrix. The third line contains the id to be searched.\n",
    "\n",
    "**Output Description:**\n",
    "\n",
    "(yes/no) whether the given element is present in the matrix or not.\n",
    "\n",
    "Sample Input :\n",
    "\n",
    "2 5\n",
    "\n",
    "2 3 0 7 1 5 3 4 1 8\n",
    "\n",
    "11\n",
    "\n",
    "Sample Output :\n",
    "\n",
    "no"
   ]
  },
  {
   "cell_type": "markdown",
   "metadata": {},
   "source": [
    "**Explanation:**\n",
    "\n",
    "The first line reads the matrix dimensions and splits them into rows and columns.\n",
    "\n",
    "The second line reads the matrix elements and converts them to a list of integers.\n",
    "\n",
    "The third line reads the prisoner ID that needs to be searched.\n",
    "\n",
    "The matrix is constructed for clarity by iterating over the elements and grouping them into rows.\n",
    "\n",
    "The search is performed by checking if the prisoner ID exists in the list of elements.\n",
    "\n",
    "The result is printed based on whether the prisoner ID is found or not."
   ]
  },
  {
   "cell_type": "code",
   "execution_count": 1,
   "metadata": {},
   "outputs": [
    {
     "name": "stdout",
     "output_type": "stream",
     "text": [
      "no\n"
     ]
    }
   ],
   "source": [
    "dimensions = input().split()                                # dimensions = 2 5\n",
    "rows = int(dimensions[0])\n",
    "columns = int(dimensions[1])\n",
    "\n",
    "# Read matrix elements\n",
    "elements = list(map(int, input().split()))                  # rows = [2, 3, 0, 7, 1, 5, 3, 4, 1, 8]\n",
    "\n",
    "# Read the id to be searched\n",
    "prisoner_id_to_search = int(input())                        # prisoner_id_to_search = 11\n",
    "\n",
    "# Construct the matrix (for clarity, but not strictly necessary for this problem)\n",
    "matrix = []\n",
    "index = 0\n",
    "for i in range(rows):\n",
    "    row = []\n",
    "    for j in range(columns):\n",
    "        row.append(elements[index])\n",
    "        index += 1\n",
    "    matrix.append(row)\n",
    "\n",
    "# Check if the prisoner id is in the matrix\n",
    "if prisoner_id_to_search in elements:\n",
    "    print(\"yes\")\n",
    "else:\n",
    "    print(\"no\")"
   ]
  },
  {
   "cell_type": "markdown",
   "metadata": {},
   "source": [
    "#### **42. You are head incharge of sports activity in queue. Your task is to sort the students height wise in line. But you can only swap students.Your task is to determine the minimum possible swaps required to sort the students in queue according to heights**\n",
    "\n",
    "Input Description:\n",
    "\n",
    "You are given with number ‘n’ denoting number of students. Next line contains n space separated integers denoting their height.\n",
    "\n",
    "Output Description:\n",
    "\n",
    "Print the minimum number of swaps required to sort the students in line.\n",
    "\n",
    "Sample Input :\n",
    "\n",
    "5\n",
    "\n",
    "1 5 4 3 2\n",
    "\n",
    "Sample Output :\n",
    "\n",
    "2"
   ]
  },
  {
   "cell_type": "code",
   "execution_count": 2,
   "metadata": {},
   "outputs": [
    {
     "name": "stdout",
     "output_type": "stream",
     "text": [
      "2\n"
     ]
    }
   ],
   "source": [
    "def min_swaps_to_sort(n, heights):\n",
    "    height_tuples = [(heights[i], i) for i in range(n)]\n",
    "    height_tuples.sort()\n",
    "    swaps = 0\n",
    "    visited = [False] * n\n",
    "    \n",
    "    for i in range(n):\n",
    "        if visited[i] or height_tuples[i][1] == i:\n",
    "            continue\n",
    "        \n",
    "        cycle_size = 0\n",
    "        j = i\n",
    "        \n",
    "        while not visited[j]:\n",
    "            visited[j] = True\n",
    "            j = height_tuples[j][1]\n",
    "            cycle_size += 1\n",
    "        if cycle_size > 0:\n",
    "            swaps += (cycle_size - 1)\n",
    "    \n",
    "    return swaps\n",
    "  \n",
    "n = int(input().strip())                           # n = 5\n",
    "heights = list(map(int, input().strip().split()))  # heights = [1, 5, 4, 3, 2]\n",
    "print(min_swaps_to_sort(n, heights))"
   ]
  },
  {
   "cell_type": "markdown",
   "metadata": {},
   "source": [
    "#### **43. Ram is the CEO of an MNC. He wants to order the employee salaries in ascending order so that he can do a salary hike based on the salary values of employees. He selects you to do the task of sorting the salaries. Sort the salaries in ascending order and pass on the information to Ram.**\n",
    "\n",
    "Input Description:\n",
    "\n",
    "Number of employees followed by the salaries of employees.\n",
    "\n",
    "Output Description:\n",
    "\n",
    "Salaries sorted in ascending order.\n",
    "\n",
    "Sample Input :\n",
    "\n",
    "8\n",
    "\n",
    "7000 8000 6500 1200 4000 2800 3000 5230"
   ]
  },
  {
   "cell_type": "code",
   "execution_count": 6,
   "metadata": {},
   "outputs": [
    {
     "name": "stdout",
     "output_type": "stream",
     "text": [
      "1200 2800 3000 4000 5230 6500 7000 8000\n"
     ]
    }
   ],
   "source": [
    "Employee = input()\n",
    "Salaries =list(map(int,input().split()))\n",
    "Salaries.sort()\n",
    "print(*Salaries)"
   ]
  },
  {
   "cell_type": "code",
   "execution_count": 3,
   "metadata": {},
   "outputs": [
    {
     "name": "stdout",
     "output_type": "stream",
     "text": [
      "1200 2800 3000 4000 5230 6500 7000 8000 "
     ]
    }
   ],
   "source": [
    "def sort_salaries(n, salaries):\n",
    "    # Sort the list of salaries\n",
    "    salaries.sort()\n",
    "    return salaries\n",
    "\n",
    "n = int(input().strip())  # number of employees = 8\n",
    "salaries = list(map(int, input().strip().split()))  # salaries = [7000 8000 6500 1200 4000 2800 3000 5230]\n",
    "\n",
    "# Sort the salaries\n",
    "sorted_salaries = sort_salaries(n, salaries)\n",
    "\n",
    "# Print the sorted salaries\n",
    "for salary in sorted_salaries:\n",
    "    print(salary, end=' ')"
   ]
  },
  {
   "cell_type": "markdown",
   "metadata": {},
   "source": [
    "#### **44. Find the first 0 in window of size k. You  are given n numbers and window size ‘w’**\n",
    "\n",
    "Your task is to print the first index which has 0\n",
    "\n",
    "**Input Description:**\n",
    "\n",
    "You are given two numbers ‘n’ and ‘w’ n representing size of array and ‘w’ size of window\n",
    "\n",
    "**Output Description:**\n",
    "\n",
    "Print the index of first 0(1 basedindexing),if there is no index with 0 print -1\n",
    "\n",
    "Sample Input :\n",
    "\n",
    "7 2\n",
    "\n",
    "1 0 6 7 4 0 9\n",
    "\n",
    "Sample Output :\n",
    "\n",
    "2 2 -1 -1 6 6"
   ]
  },
  {
   "cell_type": "code",
   "execution_count": 7,
   "metadata": {},
   "outputs": [
    {
     "name": "stdout",
     "output_type": "stream",
     "text": [
      "2 2 -1 -1 6 6\n"
     ]
    }
   ],
   "source": [
    "def find_first_zero_index(n, w, arr):\n",
    "    result = []\n",
    "    for i in range(n - w + 1):\n",
    "        # Extract the current window\n",
    "        window = arr[i:i + w]\n",
    "        try:\n",
    "            # Find the first zero in the window and add its 1-based index to the result\n",
    "            first_zero_index = window.index(0) + i + 1\n",
    "            result.append(first_zero_index)\n",
    "        except ValueError:\n",
    "            # If there is no zero in the window, append -1\n",
    "            result.append(-1)\n",
    "    return result\n",
    "\n",
    "# Read input values\n",
    "n, w = map(int, input().strip().split())      # n = 7, w = 2\n",
    "arr = list(map(int, input().strip().split())) # arr = [1, 0, 6, 7, 4, 0, 9]\n",
    "\n",
    "# Find the first zero index for each window\n",
    "result = find_first_zero_index(n, w, arr)\n",
    "\n",
    "# Print the results\n",
    "print(' '.join(map(str, result)))"
   ]
  },
  {
   "cell_type": "markdown",
   "metadata": {},
   "source": [
    "#### **45. Ria is always fascinated by the number 2. She always wants to know who came second in a race, the second person to set foot on the moon and so on. She is given a list of numbers and asked to find the maximum. As always, she reports the second highest number as the maximum because according to her, 2 is higher than 1. Find out which was the number that Ria would have reported, given a list of N numbers.**\n",
    "\n",
    "**Input Description:**\n",
    "\n",
    "Size of the array followed by the elements of the array.\n",
    "\n",
    "**Output Description:**\n",
    "\n",
    "Second largest element of the array.\n",
    "\n",
    "Sample Input :\n",
    "\n",
    "10\n",
    "\n",
    "1 9 8 7 6 5 2 3 4 10\n",
    "\n",
    "Sample Output :\n",
    "\n",
    "9"
   ]
  },
  {
   "cell_type": "code",
   "execution_count": 1,
   "metadata": {},
   "outputs": [
    {
     "name": "stdout",
     "output_type": "stream",
     "text": [
      "9\n"
     ]
    }
   ],
   "source": [
    "# Input reading\n",
    "N = int(input())                                # N = 10\n",
    "numbers = list(map(int, input().split()))       # numbers = [1, 9, 8, 7, 6, 5, 2, 3, 4, 10]\n",
    "\n",
    "# Initialize the two largest values\n",
    "max1 = float('-inf')\n",
    "max2 = float('-inf')\n",
    "\n",
    "# Find the largest value\n",
    "for num in numbers:\n",
    "    if num > max1:\n",
    "        max2 = max1\n",
    "        max1 = num\n",
    "    elif num > max2 and num != max1:\n",
    "        max2 = num\n",
    "\n",
    "# Output the second largest value\n",
    "print(max2)"
   ]
  },
  {
   "cell_type": "markdown",
   "metadata": {},
   "source": [
    "#### **46. Rajesh was going through alternative array sorting. He wishes to print the array alternatively. Hence hired you. Your task is to help rajesh in printing the array alternatively.**\n",
    "\n",
    "An alternative array is an array in which first element is maximum of the whole array second element is minimum of the whole array. Third element is the second largest. Fourth element is the second smallest And so on. print the array in the desired manner.\n",
    "\n",
    "Input Description:\n",
    "\n",
    "You are given with the length of array ‘n’. followed by ‘n’ space separated numbers.\n",
    "\n",
    "Output Description:\n",
    "\n",
    "Print the array as mentioned.\n",
    "\n",
    "Sample Input :\n",
    "\n",
    "5 \n",
    "\n",
    "1 7 11 16 19\n",
    "\n",
    "Sample Output :\n",
    "\n",
    "19 1 16 7 11"
   ]
  },
  {
   "cell_type": "code",
   "execution_count": 4,
   "metadata": {},
   "outputs": [
    {
     "name": "stdout",
     "output_type": "stream",
     "text": [
      "19 1 16 7 11\n"
     ]
    }
   ],
   "source": [
    "# Input reading\n",
    "n = int(input())                                # n = 5\n",
    "numbers = list(map(int, input().split()))       # numbers = [1, 7, 11, 16, 19]\n",
    "\n",
    "# Sort the array\n",
    "numbers.sort()\n",
    "\n",
    "# Initialize two pointers\n",
    "left = 0\n",
    "right = n - 1\n",
    "\n",
    "result = []\n",
    "# Iterate to create the alternating sequence\n",
    "while left <= right:\n",
    "    if left == right:\n",
    "        result.append(numbers[left])\n",
    "    else:\n",
    "        result.append(numbers[right])\n",
    "        result.append(numbers[left])\n",
    "    left += 1\n",
    "    right -= 1\n",
    "    \n",
    "print(\" \".join(map(str, result)))"
   ]
  },
  {
   "cell_type": "markdown",
   "metadata": {},
   "source": [
    "#### **47. Your old mobile phone gets broken and so you want to purchase a new smartphone and decide to go through all the online websites to find out which dealer has the best offer for a particular model. You document the prices of N dealers. Dealer ids start from 0 and go up to N.  Find out which dealer has the best price for you.**\n",
    "\n",
    "Constraints:\n",
    "\n",
    "1 <= N <= 100\n",
    "\n",
    "1 <= A[] <= 100000\n",
    "\n",
    "Input Description:\n",
    "\n",
    "Number of dealers followed by the price offered by each dealer\n",
    "\n",
    "Output Description:\n",
    "\n",
    "Dealer offering the best price.\n",
    "\n",
    "Sample Input :\n",
    "\n",
    "3\n",
    "\n",
    "10000 11200 12030\n",
    "\n",
    "Sample Output :\n",
    "\n",
    "Dealer0"
   ]
  },
  {
   "cell_type": "code",
   "execution_count": 5,
   "metadata": {},
   "outputs": [
    {
     "name": "stdout",
     "output_type": "stream",
     "text": [
      "Dealer0\n"
     ]
    }
   ],
   "source": [
    "n = int(input())                                # n = 3\n",
    "prices = list(map(int, input().split()))        # prices = [10000, 11200, 12030]\n",
    "\n",
    "# Find the index of the minimum price\n",
    "\n",
    "min_price_index = prices.index(min(prices))\n",
    "print(f\"Dealer{min_price_index}\")"
   ]
  },
  {
   "cell_type": "markdown",
   "metadata": {},
   "source": [
    "#### **49. Pk finds it difficult to judge the minimum element in the list of elements given to him. Your task is to develop the algorithm in order to find the minimum element.**\n",
    "\n",
    "Note:Don’t use sorting \n",
    "\n",
    "Input Description:\n",
    "\n",
    "You are given ‘n’ number of elements. Next line contains n space separated numbers.\n",
    "\n",
    "Output Description:\n",
    "\n",
    "Print the minimum element\n",
    "\n",
    "Sample Input :\n",
    "\n",
    "5\n",
    "\n",
    "3 4 9 1 6\n",
    "\n",
    "Sample Output :\n",
    "\n",
    "1"
   ]
  },
  {
   "cell_type": "code",
   "execution_count": 6,
   "metadata": {},
   "outputs": [
    {
     "name": "stdout",
     "output_type": "stream",
     "text": [
      "1\n"
     ]
    }
   ],
   "source": [
    "# Input reading\n",
    "n = int(input())                            # n = 5\n",
    "elements = list(map(int, input().split()))  # elements = [3, 4, 9, 1, 6]\n",
    "\n",
    "# Initialize the minimum element with the first element of the list\n",
    "min_element = elements[0]\n",
    "\n",
    "for element in elements[1:]:\n",
    "    if element < min_element:\n",
    "        min_element = element\n",
    "print(min_element)"
   ]
  },
  {
   "cell_type": "markdown",
   "metadata": {},
   "source": [
    "#### **50. Ramit is given a list of both positive and negative integers. He has to tell the maximum sum out of all subarrays in the given list. He got confused and requested help from you. Now it is your task to find the maximum sum out of all subarrays in the given list.**\n",
    "\n",
    "**Input Description:**\n",
    "\n",
    "You are given a number 'n'. Next line contains n space separated numbers.\n",
    "\n",
    "**Output Description:**\n",
    "\n",
    "Print the max sum of subarray.\n",
    "\n",
    "Sample Input :\n",
    "\n",
    "5\n",
    "\n",
    "1 2 3 -2 5\n",
    "\n",
    "Sample Output :\n",
    "\n",
    "9"
   ]
  },
  {
   "cell_type": "code",
   "execution_count": 7,
   "metadata": {},
   "outputs": [
    {
     "name": "stdout",
     "output_type": "stream",
     "text": [
      "9\n"
     ]
    }
   ],
   "source": [
    "def max_subarray_sum(arr):\n",
    "    max_current = max_global = arr[0]\n",
    "    \n",
    "    for num in arr[1:]:\n",
    "        max_current = max(num, max_current + num)\n",
    "        if max_current > max_global:\n",
    "            max_global = max_current\n",
    "            \n",
    "    return max_global\n",
    "\n",
    "n = int(input())    # n = 5\n",
    "elements = list(map(int, input().split()))  # elements = [1, 2, 3, -2, 5]\n",
    "\n",
    "# Find and print the maximum sum of subarray\n",
    "print(max_subarray_sum(elements))"
   ]
  },
  {
   "cell_type": "markdown",
   "metadata": {},
   "source": [
    "#### **53. Given 2 numbers N and K followed by N elements, find the Kth smallest element.If the element cannot be found then print -1**\n",
    "\n",
    "Input Size : N <= 100000\n",
    "\n",
    "Sample Testcase :\n",
    "\n",
    "INPUT\n",
    "\n",
    "5 2\n",
    "\n",
    "1 1 2 4 5\n",
    "\n",
    "OUTPUT\n",
    "\n",
    "2"
   ]
  },
  {
   "cell_type": "code",
   "execution_count": 16,
   "metadata": {},
   "outputs": [
    {
     "name": "stdout",
     "output_type": "stream",
     "text": [
      "1\n"
     ]
    }
   ],
   "source": [
    "def find_kth_smallest_element(N, K, elements):\n",
    "    # Sort the elements\n",
    "    elements.sort()\n",
    "    \n",
    "    # Check if K is within valid range\n",
    "    if K < 1 or K > N:\n",
    "        return -1\n",
    "    \n",
    "    # Return the Kth smallest element\n",
    "    return elements[K-1]\n",
    "\n",
    "N, K = map(int, input().split())            # N = 5, K = 2\n",
    "elements = list(map(int, input().split()))  # elements = [1, 1, 2, 4, 5]\n",
    "\n",
    "# Call the function to find the Kth smallest element\n",
    "print(find_kth_smallest_element(N, K, elements))"
   ]
  },
  {
   "cell_type": "markdown",
   "metadata": {},
   "source": [
    "#### **54. Given a number N and an array of N elements, find the length of the longest repeating sequence of the elements.**\n",
    "\n",
    "If no such sequence is found print -1\n",
    "\n",
    "Input Size : N <= 100000\n",
    "\n",
    "Sample Testcase :\n",
    "\n",
    "INPUT\n",
    "\n",
    "8\n",
    "\n",
    "1 2 2 2 3 4 5 6\n",
    "\n",
    "OUTPUT\n",
    "\n",
    "3"
   ]
  },
  {
   "cell_type": "code",
   "execution_count": 17,
   "metadata": {},
   "outputs": [
    {
     "name": "stdout",
     "output_type": "stream",
     "text": [
      "3\n"
     ]
    }
   ],
   "source": [
    "def longest_repeating_sequence_length(N, elements):\n",
    "    freq_map = {}\n",
    "    max_length = 0\n",
    "    \n",
    "    # Count frequencies of each element\n",
    "    for num in elements:\n",
    "        if num in freq_map:\n",
    "            freq_map[num] += 1\n",
    "        else:\n",
    "            freq_map[num] = 1\n",
    "    \n",
    "    # Find the maximum frequency in the frequency map\n",
    "    for count in freq_map.values():\n",
    "        if count > 1:\n",
    "            max_length = max(max_length, count)\n",
    "    \n",
    "    # If max_length is still 0, it means no repeating sequence found\n",
    "    if max_length == 0:\n",
    "        return -1\n",
    "    else:\n",
    "        return max_length\n",
    "\n",
    "N = int(input())                            # N = 8\n",
    "elements = list(map(int, input().split()))  # elements = [1, 2, 2, 2, 3, 4, 5, 6]\n",
    "\n",
    "# Call the function to find the length of the longest repeating sequence\n",
    "result = longest_repeating_sequence_length(N, elements)\n",
    "print(result)"
   ]
  },
  {
   "cell_type": "markdown",
   "metadata": {},
   "source": [
    "#### **55. Given a number N and 2 arrays A and B of sorted order of size N, print the common elements.If it is not found print -1.**\n",
    "\n",
    "Input Size : 1 <= N <= 100000\n",
    "\n",
    "Sample Testcase :\n",
    "\n",
    "INPUT\n",
    "\n",
    "5\n",
    "\n",
    "1 1 1 1 1\n",
    "\n",
    "1 2 3 4 5\n",
    "\n",
    "OUTPUT\n",
    "\n",
    "1"
   ]
  },
  {
   "cell_type": "code",
   "execution_count": 18,
   "metadata": {},
   "outputs": [
    {
     "name": "stdout",
     "output_type": "stream",
     "text": [
      "1\n"
     ]
    }
   ],
   "source": [
    "def find_common_elements(N, A, B):\n",
    "    i, j = 0, 0\n",
    "    common_elements = []\n",
    "    \n",
    "    while i < N and j < N:\n",
    "        if A[i] == B[j]:\n",
    "            common_elements.append(A[i])\n",
    "            i += 1\n",
    "            j += 1\n",
    "        elif A[i] < B[j]:\n",
    "            i += 1\n",
    "        else:\n",
    "            j += 1\n",
    "    \n",
    "    if not common_elements:\n",
    "        return -1\n",
    "    else:\n",
    "        return common_elements\n",
    "\n",
    "N = int(input())                    # N = 5\n",
    "A = list(map(int, input().split())) # A = [1, 1, 1, 1, 1]\n",
    "B = list(map(int, input().split())) # B = [1, 2, 3, 4, 5]\n",
    "\n",
    "# Call the function to find common elements\n",
    "result = find_common_elements(N, A, B)\n",
    "\n",
    "if result == -1:\n",
    "    print(result)\n",
    "else:\n",
    "    print(\" \".join(map(str, result)))"
   ]
  },
  {
   "cell_type": "markdown",
   "metadata": {},
   "source": [
    "#### **56. Given 2 numbers N,K print the array after deleting the last K elements.**\n",
    "\n",
    "Input Size : N,K <= 100000\n",
    "\n",
    "Sample Testcase :\n",
    "\n",
    "INPUT\n",
    "\n",
    "5 4\n",
    "\n",
    "1 2 3 4 5\n",
    "\n",
    "OUTPUT\n",
    "\n",
    "1"
   ]
  },
  {
   "cell_type": "code",
   "execution_count": 19,
   "metadata": {},
   "outputs": [
    {
     "name": "stdout",
     "output_type": "stream",
     "text": [
      "1\n"
     ]
    }
   ],
   "source": [
    "def delete_last_k_elements(N, K, array):\n",
    "    if K >= N:\n",
    "        return []\n",
    "    else:\n",
    "        return array[:-K]\n",
    "\n",
    "N, K = map(int, input().split())            # N = 5, K = 4\n",
    "array = list(map(int, input().split()))     # array = [1, 2, 3, 4, 5]\n",
    "\n",
    "# Call the function to delete the last K elements\n",
    "result = delete_last_k_elements(N, K, array)\n",
    "\n",
    "# Print the result\n",
    "print(\" \".join(map(str, result)))"
   ]
  },
  {
   "cell_type": "markdown",
   "metadata": {},
   "source": [
    "#### **57. Given an array of N elements which follows either even number or odd number series.There may exists at maximum 1 even number in the odd series or 1 odd number in the even series.Find the different number if exists otherwise print '-1'?**\n",
    "\n",
    "Input Size : |N| <= 100000\n",
    "\n",
    "Sample Testcase :\n",
    "\n",
    "INPUT\n",
    "\n",
    "5\n",
    "\n",
    "1 3 4 5 7\n",
    "\n",
    "OUTPUT\n",
    "\n",
    "4"
   ]
  },
  {
   "cell_type": "code",
   "execution_count": 1,
   "metadata": {},
   "outputs": [
    {
     "name": "stdout",
     "output_type": "stream",
     "text": [
      "4\n"
     ]
    }
   ],
   "source": [
    "def find_different_number(n, arr):\n",
    "    # Variables to count even and odd numbers and track their indices\n",
    "    even_count = 0\n",
    "    odd_count = 0\n",
    "    even_index = -1\n",
    "    odd_index = -1\n",
    "    \n",
    "    # First pass to count even and odd numbers\n",
    "    for i in range(n):\n",
    "        if arr[i] % 2 == 0:\n",
    "            even_count += 1\n",
    "            even_index = i\n",
    "        else:\n",
    "            odd_count += 1\n",
    "            odd_index = i\n",
    "    \n",
    "    # Determine the type with only one occurrence\n",
    "    if even_count == 1:\n",
    "        return arr[even_index]\n",
    "    elif odd_count == 1:\n",
    "        return arr[odd_index]\n",
    "    else:\n",
    "        return -1\n",
    "\n",
    "n = int(input())                                # n = 5\n",
    "arr = list(map(int, input().split()))           # arr = 1 3 4 5 7\n",
    "\n",
    "# Function call and output\n",
    "print(find_different_number(n, arr))"
   ]
  },
  {
   "cell_type": "markdown",
   "metadata": {},
   "source": [
    "#### **59. You are given an array F of focal lengths of size f, F[0], F[1],...F[f-1]. You are asked to determine the indices of the elements from the biggest element to the smallest element.**\n",
    "\n",
    "**Input Description:**\n",
    "\n",
    "The first line contains an integer f. The next line contains f space separated integers F[i], (0 <= i <= f-1) Note: The elements of F[i] are pairwise distinct.\n",
    "\n",
    "**Output Description:**\n",
    "\n",
    "Print f space separated integers, denoting the indices of the elements, from biggest element to smallest.\n",
    "\n",
    "Sample Input :\n",
    "\n",
    "3\n",
    "\n",
    "1 5 4\n",
    "\n",
    "Sample Output :\n",
    "\n",
    "1 2 0"
   ]
  },
  {
   "cell_type": "code",
   "execution_count": 2,
   "metadata": {},
   "outputs": [
    {
     "name": "stdout",
     "output_type": "stream",
     "text": [
      "1 2 0\n"
     ]
    }
   ],
   "source": [
    "def indices_from_biggest_to_smallest(f, F):\n",
    "    # Create pairs of (value, index)\n",
    "    pairs = [(F[i], i) for i in range(f)]\n",
    "    \n",
    "    # Sort pairs based on the value in descending order\n",
    "    pairs.sort(key=lambda x: x[0], reverse=True)\n",
    "    \n",
    "    # Extract indices from the sorted pairs\n",
    "    sorted_indices = [index for value, index in pairs]\n",
    "    \n",
    "    return sorted_indices\n",
    "\n",
    "f = int(input())                            # f = 3\n",
    "F = list(map(int, input().split()))         # F = 1 5 4\n",
    "\n",
    "sorted_indices = indices_from_biggest_to_smallest(f, F)\n",
    "print(' '.join(map(str, sorted_indices)))"
   ]
  },
  {
   "cell_type": "markdown",
   "metadata": {},
   "source": [
    "#### **60. Given 2 array of size N and M.merge them in sorted order and print it.**\n",
    "\n",
    "Input Size : |N||M| <= 100000( O(n))\n",
    "\n",
    "Sample Testcase :\n",
    "\n",
    "INPUT\n",
    "\n",
    "5 4\n",
    "\n",
    "1 2 3 4 5\n",
    "\n",
    "1 2 3 4\n",
    "\n",
    "OUTPUT\n",
    "\n",
    "1 1 2 2 3 3 4 4 5"
   ]
  },
  {
   "cell_type": "code",
   "execution_count": 3,
   "metadata": {},
   "outputs": [
    {
     "name": "stdout",
     "output_type": "stream",
     "text": [
      "1 1 2 2 3 3 4 4 5\n"
     ]
    }
   ],
   "source": [
    "def merge_sorted_arrays(N, M, arr1, arr2):\n",
    "    merged_array = []\n",
    "    i, j = 0, 0\n",
    "\n",
    "    # Traverse both arrays and merge them\n",
    "    while i < N and j < M:\n",
    "        if arr1[i] <= arr2[j]:\n",
    "            merged_array.append(arr1[i])\n",
    "            i += 1\n",
    "        else:\n",
    "            merged_array.append(arr2[j])\n",
    "            j += 1\n",
    "    \n",
    "    # If there are remaining elements in arr1\n",
    "    while i < N:\n",
    "        merged_array.append(arr1[i])\n",
    "        i += 1\n",
    "    \n",
    "    # If there are remaining elements in arr2\n",
    "    while j < M:\n",
    "        merged_array.append(arr2[j])\n",
    "        j += 1\n",
    "    return merged_array\n",
    "\n",
    "N, M = map(int, input().split())            # N = 5, M = 4\n",
    "arr1 = list(map(int, input().split()))      # arr1 = 1 2 3 4 5\n",
    "arr2 = list(map(int, input().split()))      # arr2 = 1 2 3 4\n",
    "\n",
    "merged_array = merge_sorted_arrays(N, M, arr1, arr2)\n",
    "print(' '.join(map(str, merged_array)))"
   ]
  },
  {
   "cell_type": "code",
   "execution_count": 2,
   "metadata": {},
   "outputs": [
    {
     "name": "stdout",
     "output_type": "stream",
     "text": [
      "1 1 2 2 3 3 4 4 5\n"
     ]
    }
   ],
   "source": [
    "def merge_sorted_arrays(arr1, arr2):\n",
    "    n = len(arr1)\n",
    "    m = len(arr2)\n",
    "\n",
    "    # Create a new array to store the merged elements\n",
    "    merged_arr = [None] * (n + m)\n",
    "\n",
    "    i = 0  # Index for arr1\n",
    "    j = 0  # Index for arr2\n",
    "    k = 0  # Index for merged_arr\n",
    "\n",
    "    # Merge elements while there are elements in both arrays\n",
    "    while i < n and j < m:\n",
    "        if arr1[i] <= arr2[j]:\n",
    "            merged_arr[k] = arr1[i]\n",
    "            i += 1\n",
    "        else:\n",
    "            merged_arr[k] = arr2[j]\n",
    "            j += 1\n",
    "        k += 1\n",
    "\n",
    "    # Copy remaining elements from arr1 (if any)\n",
    "    while i < n:\n",
    "        merged_arr[k] = arr1[i]\n",
    "        i += 1\n",
    "        k += 1\n",
    "\n",
    "    # Copy remaining elements from arr2 (if any)\n",
    "    while j < m:\n",
    "        merged_arr[k] = arr2[j]\n",
    "        j += 1\n",
    "        k += 1\n",
    "\n",
    "    # Print the merged array\n",
    "    print(*merged_arr)\n",
    "\n",
    "arr1 = list(map(int, input().split()))\n",
    "arr2 = list(map(int, input().split()))\n",
    "merge_sorted_arrays(arr1, arr2)"
   ]
  },
  {
   "cell_type": "markdown",
   "metadata": {},
   "source": [
    "#### **61. An organization named “JPOKS” has a well-maintained library in its own building. Librarian orders and gets books for the library very frequently. Each book which is newly arrived has its own unique serial number. The books initially are placed in descending order. The librarian want to place a new book without disturbing the descending order of books in terms of unique id. Now you must help librarian to find the right spot for placing the book.**\n",
    "\n",
    "**Input Description:**\n",
    "\n",
    "The first line of program contains integer ‘n denoting no. of books already placed in the shelf. Next line contains n serial number of already placed books. Next line contains integer m denoting no of new books to be placed on the shelf. Next line contains m serial numbers of new book.\n",
    "\n",
    "**Output Description:**\n",
    "\n",
    "print the position at which it must be placed\n",
    "\n",
    "Sample Input :\n",
    "\n",
    "7\n",
    "\n",
    "95 68 62 58 55 41 30\n",
    "\n",
    "2\n",
    "\n",
    "45 61\n",
    "\n",
    "Sample Output :\n",
    "\n",
    "6 4"
   ]
  },
  {
   "cell_type": "code",
   "execution_count": 4,
   "metadata": {},
   "outputs": [
    {
     "name": "stdout",
     "output_type": "stream",
     "text": [
      "6 4\n"
     ]
    }
   ],
   "source": [
    "from bisect import bisect_right\n",
    "\n",
    "def find_insert_positions(existing_books, new_books):\n",
    "    positions = []\n",
    "    for new_book in new_books:\n",
    "        # Find the insertion point using binary search\n",
    "        pos = bisect_right(existing_books[::-1], new_book)\n",
    "        positions.append(len(existing_books) - pos + 1)\n",
    "    return positions\n",
    "\n",
    "n = int(input())                                            # n = 7\n",
    "existing_books = list(map(int, input().split()))            # existing books = 95 68 62 58 55 41 30\n",
    "m = int(input())                                            # m = 2\n",
    "new_books = list(map(int, input().split()))                 # new_books = 45 61\n",
    "\n",
    "# Function call and output\n",
    "positions = find_insert_positions(existing_books, new_books)\n",
    "print(' '.join(map(str, positions)))"
   ]
  },
  {
   "cell_type": "markdown",
   "metadata": {},
   "source": [
    "#### **62. Given a string S, print the reverse of the string after removing the vowels.If the resulting string is empty print '-1'.**\n",
    "\n",
    "Input Size : 1 <= N <= 100000\n",
    "\n",
    "Sample Testcase :\n",
    "\n",
    "INPUT\n",
    "\n",
    "codekata\n",
    "\n",
    "OUTPUT\n",
    "\n",
    "tkdc"
   ]
  },
  {
   "cell_type": "code",
   "execution_count": 1,
   "metadata": {},
   "outputs": [
    {
     "name": "stdout",
     "output_type": "stream",
     "text": [
      "tkdc\n"
     ]
    }
   ],
   "source": [
    "def reverse_without_vowels(s):\n",
    "    vowels = \"aeiouAEIOU\"\n",
    "    no_vowels = [char for char in s if char not in vowels]\n",
    "    if not no_vowels:\n",
    "        return '-1'\n",
    "    return ''.join(no_vowels)[::-1]\n",
    "\n",
    "input_string = input()\n",
    "output_string = reverse_without_vowels(input_string)\n",
    "print(output_string)"
   ]
  },
  {
   "cell_type": "markdown",
   "metadata": {},
   "source": [
    "#### **63. Given a number N followed by N elements for every 2 consecutive numbers print the maximum of the 2.**\n",
    "\n",
    "Input Size : N <= 100000 (ie do it in O(n) time complexity)\n",
    "\n",
    "Sample Testcase :\n",
    "\n",
    "INPUT\n",
    "\n",
    "5\n",
    "\n",
    "1 1 3 0 5\n",
    "\n",
    "OUTPUT\n",
    "\n",
    "1 3 3 5"
   ]
  },
  {
   "cell_type": "markdown",
   "metadata": {},
   "source": [
    "#### **Logic:**\n",
    "\n",
    "n = int(input()): \n",
    "Reads the integer 𝑛\n",
    "\n",
    "elements = list(map(int, input().split())): \n",
    "Reads the next line of input, splits it into a list of strings, converts each string to an integer, and stores the integers in the list elements.\n",
    "\n",
    "Processing Pairs:\n",
    "\n",
    "result = []: \n",
    "Initializes an empty list to store the result.\n",
    "\n",
    "for i in range(n - 1): \n",
    "Loops from 0 to 𝑛−2 (inclusive), ensuring we compare each element with its next neighbor.\n",
    "\n",
    "result.append(max(elements[i], elements[i + 1])): Computes the maximum of the current element and the next element, appending it to the result list.\n",
    "\n",
    "Printing the Output:\n",
    "\n",
    "print(' '.join(map(str, output))): \n",
    "Joins the elements of the result list into a single string with spaces separating them and prints it."
   ]
  },
  {
   "cell_type": "code",
   "execution_count": 3,
   "metadata": {},
   "outputs": [
    {
     "name": "stdout",
     "output_type": "stream",
     "text": [
      "1 3 3 5\n"
     ]
    }
   ],
   "source": [
    "def max_of_consecutive_pairs(n, elements):\n",
    "    result = []\n",
    "    for i in range(n - 1):\n",
    "        result.append(max(elements[i], elements[i + 1]))\n",
    "    return result\n",
    "\n",
    "n = int(input())\n",
    "elements = list(map(int, input().split()))\n",
    "\n",
    "output = max_of_consecutive_pairs(n, elements)\n",
    "print(' '.join(map(str, output)))"
   ]
  },
  {
   "cell_type": "markdown",
   "metadata": {},
   "source": [
    "#### **65. Given 2 numbers N,K followed by N elements print all the elements lesser than K in sorted order.If the elements could not be found print -1**\n",
    "\n",
    "Input Size : N <= 100000\n",
    "\n",
    "Sample Testcase :\n",
    "\n",
    "INPUT\n",
    "\n",
    "5 3\n",
    "\n",
    "1 2 1 4 1\n",
    "\n",
    "OUTPUT\n",
    "\n",
    "1 1 1 2"
   ]
  },
  {
   "cell_type": "code",
   "execution_count": 4,
   "metadata": {},
   "outputs": [
    {
     "name": "stdout",
     "output_type": "stream",
     "text": [
      "1 1 1 2\n"
     ]
    }
   ],
   "source": [
    "def filter_and_sort_elements(n, k, elements):\n",
    "    # Filter elements that are less than k\n",
    "    filtered_elements = [elem for elem in elements if elem < k]\n",
    "    \n",
    "    # Check if there are any elements that meet the condition\n",
    "    if not filtered_elements:\n",
    "        return \"-1\"\n",
    "    \n",
    "    # Sort the filtered elements\n",
    "    filtered_elements.sort()\n",
    "    \n",
    "    return filtered_elements\n",
    "\n",
    "n, k = map(int, input().split())            # n = 5, k = 3\n",
    "elements = list(map(int, input().split()))  # elements = 1 2 1 4 1\n",
    "\n",
    "result = filter_and_sort_elements(n, k, elements)\n",
    "if result == \"-1\":\n",
    "    print(result)\n",
    "else:\n",
    "    print(' '.join(map(str, result)))"
   ]
  },
  {
   "cell_type": "markdown",
   "metadata": {},
   "source": [
    "#### **66. Given a number N followed by N elements, find the second smallest element.If it cannot be found then print -1**\n",
    "\n",
    "Input Size : N <= 100000 (ie do it in O(log n) time complexity)\n",
    "\n",
    "Sample Testcase :\n",
    "\n",
    "INPUT\n",
    "\n",
    "5\n",
    "\n",
    "1 2 3 4 5\n",
    "\n",
    "OUTPUT\n",
    "\n",
    "2"
   ]
  },
  {
   "cell_type": "code",
   "execution_count": 5,
   "metadata": {},
   "outputs": [
    {
     "name": "stdout",
     "output_type": "stream",
     "text": [
      "2\n"
     ]
    }
   ],
   "source": [
    "import heapq\n",
    "\n",
    "def find_second_smallest(n, elements):\n",
    "    if n < 2:\n",
    "        return -1\n",
    "    \n",
    "    # Use a set to remove duplicates\n",
    "    unique_elements = list(set(elements))\n",
    "    \n",
    "    if len(unique_elements) < 2:\n",
    "        return -1\n",
    "    \n",
    "    # Create a min-heap from the unique elements\n",
    "    heapq.heapify(unique_elements)\n",
    "    \n",
    "    # Pop the smallest element\n",
    "    first_smallest = heapq.heappop(unique_elements)\n",
    "    \n",
    "    # The next smallest element is the second smallest\n",
    "    second_smallest = heapq.heappop(unique_elements)\n",
    "    \n",
    "    return second_smallest\n",
    "\n",
    "n = int(input())\n",
    "elements = list(map(int, input().split()))\n",
    "\n",
    "result = find_second_smallest(n, elements)\n",
    "print(result)"
   ]
  },
  {
   "cell_type": "markdown",
   "metadata": {},
   "source": [
    "#### **67. Given two strings S1 and S2. The task is to find if a string 'S2’' can be obtained by rotating another string 'S1’' by 2 places using Stack.**\n",
    "\n",
    "**Input Description:**\n",
    "\n",
    "The first line of the input contains the string S1. The second line of the input contains the string S2\n",
    "\n",
    "**Output Description:**\n",
    "\n",
    "Print 1 if the string S2 can be obtained by rotating string S1 by two places else print 0.\n",
    "\n",
    "Sample Input :\n",
    "\n",
    "amazon\n",
    "\n",
    "azonam\n",
    "\n",
    "Sample Output :\n",
    "\n",
    "1"
   ]
  },
  {
   "cell_type": "markdown",
   "metadata": {},
   "source": [
    "#### **Logic:**\n",
    "\n",
    "1. Reading Input:\n",
    "\n",
    "s1 = input().strip(): Reads the first string.\n",
    "\n",
    "s2 = input().strip(): Reads the second string.\n",
    "\n",
    "2. Function to Rotate String:\n",
    "\n",
    "rotate_string_using_stack(s, direction):\n",
    "\n",
    "This function uses a stack to simulate the rotation of the string s. Depending on the direction ('left' or 'right'), it rotates the string by two places.\n",
    "\n",
    "3. Checking for Rotation:\n",
    "\n",
    "can_obtain_by_rotation(s1, s2): \n",
    "\n",
    "This function checks if the lengths of s1 and s2 are the same. If they are not, it returns 0. It then checks if s2 is equal to the left-rotated or right-rotated version of s1. If it matches either, it returns 1; otherwise, it returns 0.\n",
    "Sample Testcase:"
   ]
  },
  {
   "cell_type": "code",
   "execution_count": null,
   "metadata": {},
   "outputs": [],
   "source": [
    "def rotate_string_using_stack(s, direction):\n",
    "    stack = list(s)\n",
    "    n = len(s)\n",
    "    \n",
    "    if direction == \"left\":\n",
    "        # Rotate left by 2 places\n",
    "        for _ in range(2):\n",
    "            stack.append(stack.pop(0))\n",
    "    elif direction == \"right\":\n",
    "        # Rotate right by 2 places\n",
    "        for _ in range(2):\n",
    "            stack.insert(0, stack.pop())\n",
    "    \n",
    "    return ''.join(stack)\n",
    "\n",
    "def can_obtain_by_rotation(s1, s2):\n",
    "    if len(s1) != len(s2):\n",
    "        return 0\n",
    "    \n",
    "    rotated_left = rotate_string_using_stack(s1, \"left\")\n",
    "    rotated_right = rotate_string_using_stack(s1, \"right\")\n",
    "    \n",
    "    if s2 == rotated_left or s2 == rotated_right:\n",
    "        return 1\n",
    "    else:\n",
    "        return 0\n",
    "\n",
    "s1 = input().strip()\n",
    "s2 = input().strip()\n",
    "\n",
    "result = can_obtain_by_rotation(s1, s2)\n",
    "print(result)"
   ]
  },
  {
   "cell_type": "markdown",
   "metadata": {},
   "source": [
    "#### **68. Given a number N and an array of N strings, find the number of strings that are an anagram of 'kabali'.If there exists no anagram for the given string print '0'.**\n",
    "\n",
    "Input Size : 1 <= N <= 1000\n",
    "\n",
    "Sample Testcase :\n",
    "\n",
    "**INPUT**\n",
    "\n",
    "5\n",
    "\n",
    "kabali\n",
    "\n",
    "kaabli\n",
    "\n",
    "kababa\n",
    "\n",
    "kab\n",
    "\n",
    "kabail\n",
    "\n",
    "**OUTPUT**\n",
    "\n",
    "3"
   ]
  },
  {
   "cell_type": "code",
   "execution_count": 6,
   "metadata": {},
   "outputs": [
    {
     "name": "stdout",
     "output_type": "stream",
     "text": [
      "3\n"
     ]
    }
   ],
   "source": [
    "def are_anagrams(str1, str2):\n",
    "    return sorted(str1) == sorted(str2)\n",
    "\n",
    "# Read input values\n",
    "n = int(input())                                # n = 5\n",
    "strings = [input().strip() for _ in range(n)]   # strings = [\"kabali\", \"kabli\", \"kababa\", \"kab\", \"kabail\"]\n",
    "\n",
    "# Reference anagram string\n",
    "anagram_str = \"kabali\"\n",
    "\n",
    "# Count anagrams of 'kabali'\n",
    "anagram_count = sum(1 for string in strings if are_anagrams(string, anagram_str))\n",
    "\n",
    "# Print the result\n",
    "print(anagram_count)"
   ]
  },
  {
   "cell_type": "markdown",
   "metadata": {},
   "source": [
    "#### **69. Given a string S, print the encoded string by adding 3 to each character(a maps to d,b maps to e,c maps to f and so on).**\n",
    "\n",
    "Input Size : 1 <= N <= 100000\n",
    "\n",
    "Sample Testcase :\n",
    "\n",
    "**INPUT**\n",
    "\n",
    "RADAR\n",
    "\n",
    "**OUTPUT**\n",
    "\n",
    "UDGDU"
   ]
  },
  {
   "cell_type": "markdown",
   "metadata": {},
   "source": [
    "#### **Logic:**\n",
    "\n",
    "1. Function to Encode String:\n",
    "\n",
    "encode_string(s): \n",
    "    \n",
    "This function takes a string s and encodes it by shifting each letter by 3 positions in the alphabet.\n",
    "\n",
    "2. Character Shifting:\n",
    "\n",
    "For lowercase letters ('a' to 'z'), the expression (ord(char) - ord('a') + 3) % 26 + ord('a') computes the new character.\n",
    "For uppercase letters ('A' to 'Z'), the expression (ord(char) - ord('A') + 3) % 26 + ord('A') computes the new character.\n",
    "Non-alphabetical characters remain unchanged.\n",
    "\n",
    "3. Reading Input and Printing Output:\n",
    "s = input().strip(): \n",
    "Reads the input string.\n",
    "\n",
    "encoded_string = encode_string(s): \n",
    "Calls the function to encode the string.\n",
    "\n",
    "print(encoded_string): \n",
    "Prints the encoded string."
   ]
  },
  {
   "cell_type": "code",
   "execution_count": 7,
   "metadata": {},
   "outputs": [
    {
     "name": "stdout",
     "output_type": "stream",
     "text": [
      "UDGDU\n"
     ]
    }
   ],
   "source": [
    "def encode_string(s):\n",
    "    encoded_chars = []\n",
    "    \n",
    "    for char in s:\n",
    "        if 'a' <= char <= 'z':\n",
    "            # Shift within lowercase letters\n",
    "            new_char = chr((ord(char) - ord('a') + 3) % 26 + ord('a'))\n",
    "        elif 'A' <= char <= 'Z':\n",
    "            # Shift within uppercase letters\n",
    "            new_char = chr((ord(char) - ord('A') + 3) % 26 + ord('A'))\n",
    "        else:\n",
    "            # Non-alphabetical characters remain unchanged\n",
    "            new_char = char\n",
    "        \n",
    "        encoded_chars.append(new_char)\n",
    "    \n",
    "    return ''.join(encoded_chars)\n",
    "\n",
    "# Read input string\n",
    "s = input().strip()\n",
    "\n",
    "# Get the encoded string\n",
    "encoded_string = encode_string(s)\n",
    "\n",
    "# Print the encoded string\n",
    "print(encoded_string)"
   ]
  },
  {
   "cell_type": "markdown",
   "metadata": {},
   "source": [
    "#### **70. Given an array, find the maximum difference between any two elements.**\n",
    "\n",
    "Input Size : N <= 1000000(complexity O(n) or O(nlogn))\n",
    "\n",
    "Sample Testcase :\n",
    "\n",
    "**INPUT**\n",
    "\n",
    "5\n",
    "\n",
    "1 2 3 4 5\n",
    "\n",
    "**OUTPUT**\n",
    "\n",
    "4"
   ]
  },
  {
   "cell_type": "code",
   "execution_count": 8,
   "metadata": {},
   "outputs": [
    {
     "name": "stdout",
     "output_type": "stream",
     "text": [
      "4\n"
     ]
    }
   ],
   "source": [
    "def max_difference(n, arr):\n",
    "    if len(arr) < 2:\n",
    "        return None\n",
    "    \n",
    "    min_element = arr[0]\n",
    "    max_difference = arr[1] - arr[0]\n",
    "    \n",
    "    for i in range(1, len(arr)):\n",
    "        if arr[i] - min_element > max_difference:\n",
    "            max_difference = arr[i] - min_element\n",
    "        if arr[i] < min_element:\n",
    "            min_element = arr[i]\n",
    "    return max_difference\n",
    "\n",
    "n = int(input())\n",
    "arr = list(map(int, input().split()))\n",
    "result = max_difference(n, arr)\n",
    "print(result)"
   ]
  },
  {
   "cell_type": "markdown",
   "metadata": {},
   "source": [
    "#### **71. Given two numbers N,K followed by an array of N elements, print the array after doing right shift K times (in cyclic manner).**\n",
    "\n",
    "Input Size : 1 <= N, K <= 100000\n",
    "\n",
    "Sample Testcase :\n",
    "\n",
    "**INPUT**\n",
    "\n",
    "3 2\n",
    "\n",
    "7 2 3\n",
    "\n",
    "**OUTPUT**\n",
    "\n",
    "2 3 7"
   ]
  },
  {
   "cell_type": "markdown",
   "metadata": {},
   "source": [
    "#### **Logic:**\n",
    "\n",
    "1. Function cyclic_right_shift:\n",
    "\n",
    "This function remains unchanged from your original implementation. It handles the logic to perform the cyclic right shift on the array arr based on N (size of array) and K (number of shifts).\n",
    "\n",
    "2. Function main:\n",
    "\n",
    "Reads input using sys.stdin.read, which is appropriate for competitive programming or scenarios where input is provided as a block.\n",
    "Splits the input data into tokens using split().\n",
    "Parses N (size of array), K (number of shifts), and arr (array elements) from the input data.\n",
    "Calls cyclic_right_shift function to get the shifted array.\n",
    "Converts the resulting array elements to strings and prints them space-separated using \" \".join(map(str, result)).\n",
    "\n",
    "3. Execution Flow:\n",
    "\n",
    "The main function serves as the entry point where input is processed and output is generated.\n",
    "cyclic_right_shift function encapsulates the core logic for performing the cyclic right shift.\n",
    "The use of sys.stdin.read allows the program to handle input efficiently, especially when dealing with large inputs or when input is provided in a batch format."
   ]
  },
  {
   "cell_type": "code",
   "execution_count": null,
   "metadata": {},
   "outputs": [],
   "source": [
    "def cyclic_right_shift(N, K, arr):\n",
    "    if N == 0:\n",
    "        return arr\n",
    "    \n",
    "    # Effective number of right shifts\n",
    "    K = K % N\n",
    "    \n",
    "    # If K == 0, no need to shift\n",
    "    if K == 0:\n",
    "        return arr\n",
    "    \n",
    "    # Perform cyclic right shift\n",
    "    shifted_arr = arr[-K:] + arr[:-K]\n",
    "    return shifted_arr\n",
    "\n",
    "def main():\n",
    "    import sys\n",
    "    input = sys.stdin.read\n",
    "    data = input().split()\n",
    "    \n",
    "    N = int(data[0])\n",
    "    K = int(data[1])\n",
    "    arr = list(map(int, data[2:2+N]))\n",
    "    \n",
    "    result = cyclic_right_shift(N, K, arr)\n",
    "    print(\" \".join(map(str, result)))\n",
    "\n",
    "if __name__ == \"__main__\":\n",
    "    main()"
   ]
  },
  {
   "cell_type": "markdown",
   "metadata": {},
   "source": [
    "#### **72. Given a sentence S take out the extra spaces.If no extra space is present print the same as output.**\n",
    "\n",
    "Input Size : |s| <= 100000(complexity O(n))\n",
    "\n",
    "Sample Testcase :\n",
    "\n",
    "**INPUT**\n",
    "\n",
    "codekata challenge\n",
    "\n",
    "**OUTPUT**\n",
    "\n",
    "codekata challenge"
   ]
  },
  {
   "cell_type": "code",
   "execution_count": 1,
   "metadata": {},
   "outputs": [
    {
     "name": "stdout",
     "output_type": "stream",
     "text": [
      "codekata challenge\n"
     ]
    }
   ],
   "source": [
    "def remove_extra_spaces(sentence):\n",
    "    # Split the sentence by spaces and filter out empty strings\n",
    "    words = sentence.split()\n",
    "    \n",
    "    # Join the words with a single space\n",
    "    cleaned_sentence = ' '.join(words)\n",
    "    return cleaned_sentence\n",
    "\n",
    "sentence = input().strip()  # Read input and strip any leading/trailing whitespace\n",
    "result = remove_extra_spaces(sentence)\n",
    "print(result)"
   ]
  },
  {
   "cell_type": "markdown",
   "metadata": {},
   "source": [
    "#### **73. Given a binary number convert it into octal format.**\n",
    "\n",
    "Sample Testcase:\n",
    "\n",
    "**INPUT**\n",
    "\n",
    "1100100\n",
    "\n",
    "**OUTPUT**\n",
    "\n",
    "144"
   ]
  },
  {
   "cell_type": "code",
   "execution_count": 1,
   "metadata": {},
   "outputs": [
    {
     "name": "stdout",
     "output_type": "stream",
     "text": [
      "144\n"
     ]
    }
   ],
   "source": [
    "def binary_to_octal(binary_str):\n",
    "    # Pad the binary string with leading zeros to make its length a multiple of 3\n",
    "    padded_binary_str = binary_str.zfill(len(binary_str) + (3 - len(binary_str) % 3) % 3)\n",
    "    \n",
    "    # Initialize an empty string for the octal number\n",
    "    octal_str = \"\"\n",
    "    \n",
    "    # Group the binary string into sets of three and convert each group to octal\n",
    "    for i in range(0, len(padded_binary_str), 3):\n",
    "        # Take three binary digits\n",
    "        binary_group = padded_binary_str[i : i+3]\n",
    "        # Convert the binary group to an octal digit and append to the octal string\n",
    "        octal_str += str(int(binary_group, 2))\n",
    "    return octal_str\n",
    "\n",
    "binary_input = input()\n",
    "print(binary_to_octal(binary_input))"
   ]
  },
  {
   "cell_type": "markdown",
   "metadata": {},
   "source": [
    "#### 74. **Given 2 numbers N and K.Print the number of occurrences of K in N.If K is not found print '-1'.**\n",
    "\n",
    "Input Size : 1 <= N <= 100000, 0 <= K <= 9\n",
    "\n",
    "Sample Testcase :\n",
    "\n",
    "**INPUT**\n",
    "\n",
    "1000 0\n",
    "\n",
    "**OUTPUT**\n",
    "\n",
    "3"
   ]
  },
  {
   "cell_type": "code",
   "execution_count": 2,
   "metadata": {},
   "outputs": [
    {
     "name": "stdout",
     "output_type": "stream",
     "text": [
      "3\n"
     ]
    }
   ],
   "source": [
    "# Get the input values\n",
    "N, K = input().split()\n",
    "\n",
    "# Count the occurrences of K in N\n",
    "count = N.count(K)\n",
    "\n",
    "# If the count is zero, print '-1'\n",
    "if count == 0:\n",
    "    print(\"-1\")\n",
    "else:\n",
    "    print(count)"
   ]
  },
  {
   "cell_type": "markdown",
   "metadata": {},
   "source": [
    "#### **76. Rajat is given some special task to calculate the largest sum of two consecutive elements.He solved some of questions but he is not sure whether his answer is correct or not. Your task is to help him in determining whether answers posted by him are correct or not.**\n",
    "\n",
    "**Input Description:**\n",
    "\n",
    "The first line of the input is a integer N. The second line of the input consists of N space separated integer.\n",
    "\n",
    "**Output Description:**\n",
    "\n",
    "Print the max sum of two consecutive numbers from the given N numbers\n",
    "\n",
    "**Sample Input:**\n",
    "\n",
    "5\n",
    "\n",
    "1 5 6 8 3\n",
    "\n",
    "**Sample Output:**\n",
    "\n",
    "14"
   ]
  },
  {
   "cell_type": "code",
   "execution_count": 3,
   "metadata": {},
   "outputs": [
    {
     "name": "stdout",
     "output_type": "stream",
     "text": [
      "14\n"
     ]
    }
   ],
   "source": [
    "# Number of elements in the list\n",
    "N = int(input())\n",
    "\n",
    "# List of elements\n",
    "elements = list(map(int, input().split()))\n",
    "\n",
    "# Initialize the max_sum with a very small number\n",
    "max_sum = float('-inf')\n",
    "\n",
    "# Iterate through the list to find the maximum sum of consecutive elements\n",
    "for i in range(N - 1):\n",
    "    current_sum = elements[i] + elements[i + 1]\n",
    "    if current_sum > max_sum:\n",
    "        max_sum = current_sum\n",
    "print(max_sum)"
   ]
  },
  {
   "cell_type": "markdown",
   "metadata": {},
   "source": [
    "#### **78. Given 2 numbers N,K followed by a sorted array of N elements, search and tell if an element K is present in the array.print 'yes' if element is present otherwise print 'no'.**\n",
    "\n",
    "Input Size : 1 <= N <= 1000000000000000(Do it in logN time complexity)\n",
    "\n",
    "Sample Testcase:\n",
    "\n",
    "**INPUT**\n",
    "\n",
    "3 2\n",
    "\n",
    "2 3 7\n",
    "\n",
    "**OUTPUT**\n",
    "\n",
    "Yes"
   ]
  },
  {
   "cell_type": "code",
   "execution_count": 4,
   "metadata": {},
   "outputs": [
    {
     "name": "stdout",
     "output_type": "stream",
     "text": [
      "yes\n"
     ]
    }
   ],
   "source": [
    "# Read input values for N and K\n",
    "N, K = (int(no) for no in input().split())\n",
    "\n",
    "# Read the list of elements\n",
    "ele = list(map(int, input().split()))\n",
    "\n",
    "# Check if K is present in the list 'ele'\n",
    "if K in ele:\n",
    "    print(\"yes\")\n",
    "else:\n",
    "    print(\"no\")"
   ]
  },
  {
   "cell_type": "markdown",
   "metadata": {},
   "source": [
    "#### **79. Given a number N in decimal convert it into binary value.**\n",
    "\n",
    "Input Size : N <= 100000\n",
    "\n",
    "Sample Testcase :\n",
    "\n",
    "**INPUT**\n",
    "\n",
    "5\n",
    "\n",
    "**OUTPUT**\n",
    "\n",
    "101"
   ]
  },
  {
   "cell_type": "code",
   "execution_count": 1,
   "metadata": {},
   "outputs": [
    {
     "name": "stdout",
     "output_type": "stream",
     "text": [
      "101\n"
     ]
    }
   ],
   "source": [
    "# Method 1: Using Built-in Function (bin())\n",
    "\n",
    "# Read the input value\n",
    "N = int(input())\n",
    "\n",
    "# Convert to binary using bin() and remove the '0b' prefix\n",
    "binary_representation = bin(N)[2:]\n",
    "print(binary_representation)"
   ]
  },
  {
   "cell_type": "code",
   "execution_count": 2,
   "metadata": {},
   "outputs": [
    {
     "name": "stdout",
     "output_type": "stream",
     "text": [
      "101\n"
     ]
    }
   ],
   "source": [
    "# Method 2: Manual Conversion\n",
    "\n",
    "# Read the input value\n",
    "N = int(input())\n",
    "\n",
    "# Edge case: if N is 0, its binary representation is '0'\n",
    "if N == 0:\n",
    "    print(0)\n",
    "else:\n",
    "    # Initialize an empty string to store binary digits\n",
    "    binary_representation = ''\n",
    "    \n",
    "    # Convert decimal to binary by dividing N by 2 repeatedly\n",
    "    while N > 0:\n",
    "        # Get the remainder when N is divided by 2 (0 or 1)\n",
    "        remainder = N % 2\n",
    "        \n",
    "        # Prepend the remainder to the binary string\n",
    "        binary_representation = str(remainder) + binary_representation\n",
    "        \n",
    "        # Update N to be the quotient of the division by 2\n",
    "        N = N // 2\n",
    "    \n",
    "    # Print the binary representation\n",
    "    print(binary_representation)"
   ]
  },
  {
   "cell_type": "markdown",
   "metadata": {},
   "source": [
    "#### **80. Given an array print the number of subarrays that can be formed with it.**\n",
    "\n",
    "Input Size : N <= 100000\n",
    "\n",
    "Sample Testcase :\n",
    "\n",
    "INPUT\n",
    "\n",
    "5\n",
    "\n",
    "1 2 3 2 1\n",
    "\n",
    "OUTPUT\n",
    "\n",
    "15"
   ]
  },
  {
   "cell_type": "code",
   "execution_count": 5,
   "metadata": {},
   "outputs": [
    {
     "name": "stdout",
     "output_type": "stream",
     "text": [
      "15\n"
     ]
    }
   ],
   "source": [
    "# Read input size of the array\n",
    "N = int(input())\n",
    "\n",
    "# Read the array elements (though they are not used in the calculation)\n",
    "arr = list(map(int, input().split()))\n",
    "\n",
    "# Calculate the number of subarrays\n",
    "number_of_subarrays = N * (N + 1) // 2\n",
    "\n",
    "# Print the result\n",
    "print(number_of_subarrays)"
   ]
  },
  {
   "cell_type": "markdown",
   "metadata": {},
   "source": [
    "#### **81. Given a number N and an array of N elements, print the array after removing duplicate elements.If no duplicate elements found print the same.**\n",
    "\n",
    "Input Size : N <= 100000\n",
    "\n",
    "Sample Testcase :\n",
    "\n",
    "**INPUT**\n",
    "\n",
    "4\n",
    "\n",
    "2 4 4 2\n",
    "\n",
    "**OUTPUT**\n",
    "\n",
    "2 4"
   ]
  },
  {
   "cell_type": "code",
   "execution_count": 6,
   "metadata": {},
   "outputs": [
    {
     "name": "stdout",
     "output_type": "stream",
     "text": [
      "2 4\n"
     ]
    }
   ],
   "source": [
    "# Read the input size of the array\n",
    "N = int(input())\n",
    "\n",
    "# Read the array elements\n",
    "arr = list(map(int, input().split()))\n",
    "\n",
    "# Initialize an empty set to track seen elements\n",
    "seen = set()\n",
    "\n",
    "# Initialize an empty list to store unique elements in original order\n",
    "unique_arr = []\n",
    "\n",
    "# Loop through each element in the array\n",
    "for element in arr:\n",
    "    # If the element has not been seen before, add it to the unique_arr\n",
    "    if element not in seen:\n",
    "        unique_arr.append(element)\n",
    "        seen.add(element)\n",
    "\n",
    "# Print the resulting array with unique elements\n",
    "print(\" \".join(map(str, unique_arr)))"
   ]
  },
  {
   "cell_type": "markdown",
   "metadata": {},
   "source": [
    "#### **82. Given a number N, followed by an array of N elements,print 'yes' if it is a sorted array(either ascending or descending)otherwise print 'no'.**\n",
    "\n",
    "Input Size : 1 <= N <= 100000\n",
    "\n",
    "Sample Testcase:\n",
    "\n",
    "**INPUT**\n",
    "\n",
    "3\n",
    "\n",
    "2 3 7\n",
    "\n",
    "**OUTPUT**\n",
    "\n",
    "yes"
   ]
  },
  {
   "cell_type": "code",
   "execution_count": 7,
   "metadata": {},
   "outputs": [
    {
     "name": "stdout",
     "output_type": "stream",
     "text": [
      "yes\n"
     ]
    }
   ],
   "source": [
    "# Read the size of the array\n",
    "N = int(input())\n",
    "\n",
    "# Read the array elements\n",
    "arr = list(map(int, input().split()))\n",
    "\n",
    "# Check if the array is sorted in ascending order or descending order\n",
    "if arr == sorted(arr) or arr == sorted(arr, reverse=True):\n",
    "    print(\"yes\")\n",
    "else:\n",
    "    print(\"no\")"
   ]
  },
  {
   "cell_type": "markdown",
   "metadata": {},
   "source": [
    "#### **83. Given an array of numbers and another number k. Find whether K exists and the number of time k repeats. If it does not exist just print no.**\n",
    "\n",
    "Input Size : |N| <= 1000000\n",
    "\n",
    "Sample Testcase :\n",
    "\n",
    "**INPUT**\n",
    "\n",
    "5 3\n",
    "\n",
    "3 3 4 4 7\n",
    "\n",
    "**OUTPUT**\n",
    "\n",
    "yes 2"
   ]
  },
  {
   "cell_type": "code",
   "execution_count": 8,
   "metadata": {},
   "outputs": [
    {
     "name": "stdout",
     "output_type": "stream",
     "text": [
      "yes 2\n"
     ]
    }
   ],
   "source": [
    "# Read input values for N and K\n",
    "N, K = map(int, input().split())\n",
    "\n",
    "# Read the array elements\n",
    "arr = list(map(int, input().split()))\n",
    "\n",
    "# Count the occurrences of K in the array\n",
    "count = arr.count(K)\n",
    "\n",
    "# Check if K exists in the array\n",
    "if count > 0:\n",
    "    print(f\"yes {count}\")\n",
    "else:\n",
    "    print(\"no\")"
   ]
  },
  {
   "cell_type": "markdown",
   "metadata": {},
   "source": [
    "#### **84. Given a number N and an array of N elements, find the sum of the sums obtained by considering all consecutive pairs of adjacent elements.**\n",
    "\n",
    "Input Size : N <= 100000\n",
    "\n",
    "Sample Testcase :\n",
    "\n",
    "**INPUT**\n",
    "\n",
    "5\n",
    "\n",
    "1 2 3 4 5\n",
    "\n",
    "**OUTPUT**\n",
    "\n",
    "24((1+2)+(2+3)+(3+4)+(4+5))"
   ]
  },
  {
   "cell_type": "code",
   "execution_count": 9,
   "metadata": {},
   "outputs": [
    {
     "name": "stdout",
     "output_type": "stream",
     "text": [
      "24\n"
     ]
    }
   ],
   "source": [
    "# Read the size of the array\n",
    "N = int(input())\n",
    "\n",
    "# Read the array elements\n",
    "arr = list(map(int, input().split()))\n",
    "\n",
    "# Initialize the sum of consecutive pairs\n",
    "total_sum = 0\n",
    "\n",
    "# Loop through the array and add the sum of consecutive pairs\n",
    "for i in range(N - 1):\n",
    "    total_sum += arr[i] + arr[i + 1]\n",
    "\n",
    "# Print the result\n",
    "print(total_sum)"
   ]
  },
  {
   "cell_type": "markdown",
   "metadata": {},
   "source": [
    "#### **86. Given 2 numbers N and M followed by N numbers and M numbers, print the common numbers in sorted order.**\n",
    "\n",
    "Input Size : N,M <= 100000 (ie do it in O(n) time complexity)\n",
    "\n",
    "Sample Testcase :\n",
    "\n",
    "**INPUT**\n",
    "\n",
    "5 4\n",
    "\n",
    "1 2 3 4 5 1 2 3 4\n",
    "\n",
    "**OUTPUT**\n",
    "\n",
    "1 2 3 4"
   ]
  },
  {
   "cell_type": "code",
   "execution_count": 11,
   "metadata": {},
   "outputs": [
    {
     "name": "stdout",
     "output_type": "stream",
     "text": [
      "1 2 3 4\n"
     ]
    }
   ],
   "source": [
    "# Read the sizes of the two arrays\n",
    "N, M = map(int, input().split())\n",
    "\n",
    "# Read the first array elements and store them in a set\n",
    "first_array = set(map(int, input().split()))\n",
    "\n",
    "# Read the second array elements\n",
    "second_array = list(map(int, input().split()))\n",
    "\n",
    "# Initialize an empty set to store common elements\n",
    "common_elements = set()\n",
    "\n",
    "# Find common elements\n",
    "for element in second_array:\n",
    "    if element in first_array:\n",
    "        common_elements.add(element)\n",
    "\n",
    "# Print the sorted list of common elements\n",
    "print(*sorted(common_elements))"
   ]
  },
  {
   "cell_type": "markdown",
   "metadata": {},
   "source": [
    "#### **89. Given a string and a number K, change every kth character to uppercase from beginning in string.**\n",
    "\n",
    "Sample Testcase:\n",
    "\n",
    "**INPUT**\n",
    "\n",
    "string 2\n",
    "\n",
    "**OUTPUT**\n",
    "\n",
    "sTrInG"
   ]
  },
  {
   "cell_type": "code",
   "execution_count": 13,
   "metadata": {},
   "outputs": [
    {
     "name": "stdout",
     "output_type": "stream",
     "text": [
      "sTrInG\n"
     ]
    }
   ],
   "source": [
    "# Method - 1:\n",
    "\n",
    "# Read input values\n",
    "my_str, num = input().split()\n",
    "num = int(num)  # Convert num to an integer\n",
    "\n",
    "# Check if the given num is positive\n",
    "if num > 0:\n",
    "    # Convert string to a list of characters to modify\n",
    "    my_str_list = list(my_str)\n",
    "    \n",
    "    # Modify every kth character to uppercase\n",
    "    for i in range(num - 1, len(my_str_list), num):\n",
    "        my_str_list[i] = my_str_list[i].upper()\n",
    "    my_str = ''.join(my_str_list)\n",
    "    print(my_str)\n",
    "else:\n",
    "    print(my_str)"
   ]
  },
  {
   "cell_type": "code",
   "execution_count": 12,
   "metadata": {},
   "outputs": [
    {
     "name": "stdout",
     "output_type": "stream",
     "text": [
      "sTrInG\n"
     ]
    }
   ],
   "source": [
    "# Method - 2:\n",
    "\n",
    "# Read the input string and integer K\n",
    "input_string, K = input().split()\n",
    "K = int(K)\n",
    "\n",
    "# Convert the input string into a list of characters for modification\n",
    "modified_string = list(input_string)\n",
    "\n",
    "# Iterate through the string and change every Kth character to uppercase\n",
    "for i in range(K - 1, len(modified_string), K):\n",
    "    modified_string[i] = modified_string[i].upper()\n",
    "\n",
    "# Join the list back into a string and print the result\n",
    "print(\"\".join(modified_string))"
   ]
  },
  {
   "cell_type": "markdown",
   "metadata": {},
   "source": [
    "#### **91. Given a number N,K followed by array of N elements where the difference between any adjacent elements is 1. Find the position of the given number K.If K not found in the array print -1.**\n",
    "\n",
    "Sample Testcase :\n",
    "\n",
    "**INPUT**\n",
    "\n",
    "5 1\n",
    "\n",
    "3 2 1 2 3\n",
    "\n",
    "**OUTPUT**\n",
    "\n",
    "3"
   ]
  },
  {
   "cell_type": "code",
   "execution_count": 14,
   "metadata": {},
   "outputs": [
    {
     "name": "stdout",
     "output_type": "stream",
     "text": [
      "3\n"
     ]
    }
   ],
   "source": [
    "# Read inputs\n",
    "N, K = map(int, input().split())\n",
    "arr = list(map(int, input().split()))\n",
    "\n",
    "# Start position\n",
    "i = 0\n",
    "\n",
    "# While within bounds of the array\n",
    "while i < N:\n",
    "    if arr[i] == K:\n",
    "        # Print the 1-based index position if found\n",
    "        print(i + 1)\n",
    "        break\n",
    "    # Calculate the next position to jump to\n",
    "    i += abs(arr[i] - K)\n",
    "else:\n",
    "    # If not found, print -1\n",
    "    print(-1)"
   ]
  },
  {
   "cell_type": "code",
   "execution_count": null,
   "metadata": {},
   "outputs": [],
   "source": []
  },
  {
   "cell_type": "code",
   "execution_count": null,
   "metadata": {},
   "outputs": [],
   "source": []
  },
  {
   "cell_type": "code",
   "execution_count": null,
   "metadata": {},
   "outputs": [],
   "source": []
  },
  {
   "cell_type": "code",
   "execution_count": null,
   "metadata": {},
   "outputs": [],
   "source": []
  }
 ],
 "metadata": {
  "kernelspec": {
   "display_name": "Python 3",
   "language": "python",
   "name": "python3"
  },
  "language_info": {
   "codemirror_mode": {
    "name": "ipython",
    "version": 3
   },
   "file_extension": ".py",
   "mimetype": "text/x-python",
   "name": "python",
   "nbconvert_exporter": "python",
   "pygments_lexer": "ipython3",
   "version": "3.12.6"
  }
 },
 "nbformat": 4,
 "nbformat_minor": 2
}
