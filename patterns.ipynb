{
 "cells": [
  {
   "cell_type": "markdown",
   "metadata": {},
   "source": [
    "### **1. Generate a hollow inverted half pyramid pattern using numbers.**\n",
    "\n",
    "#### **Input Description:**\n",
    "\n",
    "Given an integer R indicates number of rows.\n",
    "\n",
    "Where 1<=R<=100.\n",
    "\n",
    "#### **Output Description:**\n",
    "\n",
    "Print the hollow Inverted half pyramid pattern using numbers based on the given integer R.\n",
    "\n",
    "**Sample Input :**\n",
    "\n",
    "5\n",
    "\n",
    "**Sample Output :**\n",
    "\n",
    "12345\n",
    "\n",
    "1  4\n",
    "\n",
    "1 3\n",
    "\n",
    "12\n",
    "\n",
    "1"
   ]
  },
  {
   "cell_type": "code",
   "execution_count": 1,
   "metadata": {},
   "outputs": [
    {
     "name": "stdout",
     "output_type": "stream",
     "text": [
      "12345\n",
      "1  4\n",
      "1 3\n",
      "12\n",
      "1\n"
     ]
    }
   ],
   "source": [
    "# Define the function hollow_inverted_half_pyramid which takes one argument, R\n",
    "def hollow_inverted_half_pyramid(R):\n",
    "    # Outer loop iterates from R down to 1 (inclusive), controlling the rows\n",
    "    for i in range(R, 0, -1):\n",
    "        # Inner loop iterates from 1 to i (inclusive), controlling the columns\n",
    "        for j in range(1, i + 1):\n",
    "            # Check if it's the first column, the last column, or the first row\n",
    "            if j == 1 or j == i or i == R:\n",
    "                # Print the value of j without moving to a new line\n",
    "                print(j, end='')\n",
    "            else:\n",
    "                # Print a space character without moving to a new line\n",
    "                print(' ', end='')\n",
    "        # Move to the next line after finishing the current row\n",
    "        print()\n",
    "\n",
    "# Read an integer input from the user and store it in the variable R\n",
    "R = int(input())\n",
    "\n",
    "# Call the function hollow_inverted_half_pyramid with R as the argument\n",
    "hollow_inverted_half_pyramid(R) "
   ]
  },
  {
   "cell_type": "markdown",
   "metadata": {},
   "source": [
    "### **2. Write a code to generate a inverted half pyramid pattern using numbers.**\n",
    "\n",
    "#### **Input Description:**\n",
    "\n",
    "Given an integer R indicates number of rows.\n",
    "\n",
    "Where 1<=R<=100\n",
    "\n",
    "#### **Output Description:**\n",
    "\n",
    "Print the number half pyramid pattern with the size R.\n",
    "\n",
    "**Sample Input :**\n",
    "\n",
    "5\n",
    "\n",
    "**Sample Output :**\n",
    "\n",
    "12345\n",
    "\n",
    "1234\n",
    "\n",
    "123\n",
    "\n",
    "12\n",
    "\n",
    "1"
   ]
  },
  {
   "cell_type": "code",
   "execution_count": 2,
   "metadata": {},
   "outputs": [
    {
     "name": "stdout",
     "output_type": "stream",
     "text": [
      "12345\n",
      "1234\n",
      "123\n",
      "12\n",
      "1\n"
     ]
    }
   ],
   "source": [
    "def inverted_half_pyramid(R):\n",
    "    for i in range(R, 0, -1):\n",
    "        for j in range(1, i + 1):\n",
    "            print(j, end=\"\")\n",
    "        print()\n",
    "\n",
    "R = int(input())\n",
    "inverted_half_pyramid(R)"
   ]
  },
  {
   "cell_type": "markdown",
   "metadata": {},
   "source": [
    "### **3. Write a code to generate a square pattern using the number '1'.**\n",
    "\n",
    "#### **Input Description:**\n",
    "\n",
    "Given an integer R indicates number of rows.\n",
    "\n",
    "Where 1<=R<=100.\n",
    "\n",
    "#### **Output Description:**\n",
    "\n",
    "Print the square pattern with the number '1' in R*R form based on the given integer R.\n",
    "\n",
    "**Sample Input :**\n",
    "\n",
    "5\n",
    "\n",
    "**Sample Output :**\n",
    "\n",
    "11111\n",
    "\n",
    "11111\n",
    "\n",
    "11111\n",
    "\n",
    "11111\n",
    "\n",
    "11111"
   ]
  },
  {
   "cell_type": "code",
   "execution_count": 3,
   "metadata": {},
   "outputs": [
    {
     "name": "stdout",
     "output_type": "stream",
     "text": [
      "11111\n",
      "11111\n",
      "11111\n",
      "11111\n",
      "11111\n"
     ]
    }
   ],
   "source": [
    "def square_pattern(R):\n",
    "    for i in range(R):\n",
    "        for j in range(R):\n",
    "            print(1, end=\"\")\n",
    "        print()\n",
    "\n",
    "# Sample Input\n",
    "R = int(input(\"Enter the number of rows: \"))\n",
    "square_pattern(R)"
   ]
  },
  {
   "cell_type": "markdown",
   "metadata": {},
   "source": [
    "### **4. Write a code to generate a pyramid pattern using stars from the given input size N.**\n",
    "\n",
    "#### **Input Description:**\n",
    "Given an integer R indicates number of rows.\n",
    "\n",
    "Where 1<=R<=100.\n",
    "\n",
    "#### **Output Description:**\n",
    "Print the star pyramid with the given integer R.\n",
    "\n",
    "**Sample Input :**\n",
    "\n",
    "5\n",
    "\n",
    "**Sample Output :**\n",
    "\n",
    "*\n",
    "* *\n",
    "* * *\n",
    "* * * *\n",
    "* * * * *"
   ]
  },
  {
   "cell_type": "code",
   "execution_count": 2,
   "metadata": {},
   "outputs": [
    {
     "name": "stdout",
     "output_type": "stream",
     "text": [
      "*\n",
      "* *\n",
      "* * *\n",
      "* * * *\n",
      "* * * * *\n"
     ]
    }
   ],
   "source": [
    "n = int(input())\n",
    "\n",
    "# Initialize an empty list to store the rows\n",
    "pyramid = []\n",
    "\n",
    "# Build the pyramid\n",
    "for i in range(n):\n",
    "    # Create a list of '*' for the current row\n",
    "    row = ['*'] * (i + 1)\n",
    "    # Join the list into a single string with spaces\n",
    "    pyramid.append(' '.join(row))\n",
    "\n",
    "# Print each row in the pyramid\n",
    "for row in pyramid:\n",
    "    print(row)"
   ]
  },
  {
   "cell_type": "code",
   "execution_count": 5,
   "metadata": {},
   "outputs": [
    {
     "name": "stdout",
     "output_type": "stream",
     "text": [
      "* \n",
      "* * \n",
      "* * * \n",
      "* * * * \n",
      "* * * * * \n"
     ]
    }
   ],
   "source": [
    "# Another way\n",
    "\n",
    "def star_pyramid(N):\n",
    "    for i in range(1, N + 1):\n",
    "        for j in range(1, i + 1):\n",
    "            print('*', end=' ')\n",
    "        print()\n",
    "\n",
    "N = int(input(\"Enter the number of rows: \"))\n",
    "star_pyramid(N)"
   ]
  },
  {
   "cell_type": "markdown",
   "metadata": {},
   "source": [
    "### **5. Generate a hollow half pyramid pattern using numbers.**\n",
    "\n",
    "#### **Input Description:**\n",
    "Given an integer R indicates number of rows.\n",
    "\n",
    "Where 1<=R<=100.\n",
    "\n",
    "#### **Output Description:**\n",
    "Print the hollow half pyramid pattern using numbers based on the given integer R.\n",
    "\n",
    "**Sample Input:**\n",
    "\n",
    "5\n",
    "\n",
    "**Sample Output:**\n",
    "\n",
    "1\n",
    "\n",
    "12\n",
    "\n",
    "1 3\n",
    "\n",
    "1  4\n",
    "\n",
    "12345"
   ]
  },
  {
   "cell_type": "code",
   "execution_count": 1,
   "metadata": {},
   "outputs": [
    {
     "name": "stdout",
     "output_type": "stream",
     "text": [
      "1\n",
      "12\n",
      "1 3\n",
      "1  4\n",
      "12345\n"
     ]
    }
   ],
   "source": [
    "def hollow_half_pyramid(R):\n",
    "    for i in range(1, R + 1):\n",
    "        if i == 1:\n",
    "            print(\"1\")\n",
    "        elif i == R:\n",
    "            print(\"\".join(str(x) for x in range(1, R + 1)))\n",
    "        else:\n",
    "            print(\"1\" + \" \" * (i - 2) + str(i))\n",
    "\n",
    "R = int(input())\n",
    "hollow_half_pyramid(R)"
   ]
  },
  {
   "cell_type": "code",
   "execution_count": 15,
   "metadata": {},
   "outputs": [
    {
     "name": "stdout",
     "output_type": "stream",
     "text": [
      "1\n",
      "12\n",
      "1 3\n",
      "1  4\n",
      "12345\n"
     ]
    }
   ],
   "source": [
    "# Another way\n",
    "\n",
    "def hollow_half_pyramid(R):\n",
    "    for i in range(1, R + 1):\n",
    "        for j in range(1, i + 1):\n",
    "            if j == 1 or j == i or i == R:\n",
    "                print(j, end=\"\")\n",
    "            else:\n",
    "                print(\" \", end=\"\")\n",
    "        print()\n",
    "        \n",
    "R = int(input())\n",
    "hollow_half_pyramid(R)"
   ]
  },
  {
   "cell_type": "markdown",
   "metadata": {},
   "source": [
    "### **6. Write a code to generate a half pyramid pattern using numbers.**\n",
    "\n",
    "#### **Input Description:**\n",
    "\n",
    "Given an integer R indicates number of rows.\n",
    "\n",
    "Where 1<=R<=100.\n",
    "\n",
    "#### **Output Description:**\n",
    "\n",
    "Print the number half pyramid pattern with the size R.\n",
    "\n",
    "**Sample Input:**\n",
    "\n",
    "5\n",
    "\n",
    "**Sample Output :**\n",
    "\n",
    "1\n",
    "\n",
    "22\n",
    "\n",
    "333\n",
    "\n",
    "4444\n",
    "\n",
    "55555"
   ]
  },
  {
   "cell_type": "code",
   "execution_count": 11,
   "metadata": {},
   "outputs": [
    {
     "name": "stdout",
     "output_type": "stream",
     "text": [
      "1\n",
      "22\n",
      "333\n",
      "4444\n",
      "55555\n"
     ]
    }
   ],
   "source": [
    "def number_half_pyramid(R):\n",
    "    for i in range(1, R + 1):\n",
    "        for j in range(i):\n",
    "            print(i, end=\"\")\n",
    "        print()\n",
    "\n",
    "R = int(input())\n",
    "number_half_pyramid(R)"
   ]
  },
  {
   "cell_type": "markdown",
   "metadata": {},
   "source": [
    "### **7. Write a code to generate a half pyramid number pattern.**\n",
    "\n",
    "#### **Input Description:**\n",
    "\n",
    "Given an even integer R indicates number of rows.\n",
    "\n",
    "Where 1<=R<=100.\n",
    "\n",
    "#### **Output Description:**\n",
    "\n",
    "Print the number half pyramid pattern with the size R.\n",
    "\n",
    "**Sample Input:**\n",
    "\n",
    "5\n",
    "\n",
    "**Sample Output:**\n",
    "\n",
    "12345\n",
    "\n",
    "4321\n",
    "\n",
    "123\n",
    "\n",
    "21\n",
    "\n",
    "1"
   ]
  },
  {
   "cell_type": "code",
   "execution_count": 14,
   "metadata": {},
   "outputs": [
    {
     "name": "stdout",
     "output_type": "stream",
     "text": [
      "12345\n",
      "4321\n",
      "123\n",
      "21\n",
      "1\n"
     ]
    }
   ],
   "source": [
    "def pattern(n):\n",
    "    for i in range(n):\n",
    "        if i % 2 == 0:\n",
    "            for j in range(n-i):\n",
    "                print(j+1, end = \"\")\n",
    "        else:\n",
    "            for j in range(n-i, 0, -1):\n",
    "                print(j, end = \"\")\n",
    "        print()\n",
    "        \n",
    "n = int(input())\n",
    "pattern(n)"
   ]
  },
  {
   "cell_type": "markdown",
   "metadata": {},
   "source": [
    "### **8. Generate a solid rectangle using stars.**\n",
    "\n",
    "#### **Input Description:**\n",
    "\n",
    "Given an integer R indicates no of rows and an integer C indicates no of columns.\n",
    "\n",
    "Where 1<=R<=100 and Where 1<=C<=100.\n",
    "\n",
    "#### **Output Description:**\n",
    "\n",
    "Print the rectangle using stars with R rows and C columns.\n",
    "\n",
    "**Sample Input:**\n",
    "\n",
    "3 5\n",
    "\n",
    "**Sample Output:**\n",
    "\n",
    "* * * * *\n",
    "* * * * *\n",
    "* * * * *"
   ]
  },
  {
   "cell_type": "code",
   "execution_count": 4,
   "metadata": {},
   "outputs": [
    {
     "name": "stdout",
     "output_type": "stream",
     "text": [
      "* * * * *\n",
      "* * * * *\n",
      "* * * * *\n"
     ]
    }
   ],
   "source": [
    "# Method - 1:\n",
    "\n",
    "rows, columns = input().split()\n",
    "rows = int(rows)\n",
    "columns = int(columns)\n",
    "\n",
    "for i in range(rows):\n",
    "    for j in range(columns):\n",
    "        if j != columns - 1:\n",
    "            print(\"*\", end=\" \")\n",
    "        else:\n",
    "            print(\"*\", end=\"\")\n",
    "    print(\"\")"
   ]
  },
  {
   "cell_type": "code",
   "execution_count": 2,
   "metadata": {},
   "outputs": [
    {
     "name": "stdout",
     "output_type": "stream",
     "text": [
      "* * * * * \n",
      "* * * * * \n",
      "* * * * * \n"
     ]
    }
   ],
   "source": [
    "# Method - 2:\n",
    "\n",
    "def solid_rectangle(R, C):\n",
    "    for _ in range(R):\n",
    "        print(\"* \" * C)\n",
    "\n",
    "R, C = map(int, input().split())            # R = 3, C = 5\n",
    "solid_rectangle(R, C)\n"
   ]
  },
  {
   "cell_type": "code",
   "execution_count": 12,
   "metadata": {},
   "outputs": [
    {
     "name": "stdout",
     "output_type": "stream",
     "text": [
      "* * * * * \n",
      "* * * * * \n",
      "* * * * * \n"
     ]
    }
   ],
   "source": [
    "# Method - 3:\n",
    "rows, columns = map(int, input().split())\n",
    "\n",
    "for i in range(rows):\n",
    "    for j in range(columns):\n",
    "        print(\"*\", end=\" \")\n",
    "    print()"
   ]
  },
  {
   "cell_type": "markdown",
   "metadata": {},
   "source": [
    "### **9. Generate a half pyramid pattern using numbers.**\n",
    "\n",
    "#### **Input Description:**\n",
    "\n",
    "Given an integer R indicates number of rows.\n",
    "\n",
    "Where 1<=R<=100.\n",
    "\n",
    "#### **Output Description:**\n",
    "\n",
    "Print the half pyramid pattern based on the given integer R.\n",
    "\n",
    "**Sample Input:**\n",
    "\n",
    "5\n",
    "\n",
    "**Sample Output:**\n",
    "\n",
    "1\n",
    "\n",
    "12\n",
    "\n",
    "123\n",
    "\n",
    "1234\n",
    "\n",
    "12345"
   ]
  },
  {
   "cell_type": "code",
   "execution_count": 16,
   "metadata": {},
   "outputs": [
    {
     "name": "stdout",
     "output_type": "stream",
     "text": [
      "1\n",
      "12\n",
      "123\n",
      "1234\n",
      "12345\n"
     ]
    }
   ],
   "source": [
    "n = int(input())            # n = 5\n",
    "\n",
    "for i in range(1, n + 1):\n",
    "    for j in range(1, i + 1):\n",
    "        print(j, end=\"\")\n",
    "    print()"
   ]
  },
  {
   "cell_type": "code",
   "execution_count": 17,
   "metadata": {},
   "outputs": [
    {
     "name": "stdout",
     "output_type": "stream",
     "text": [
      "1\n",
      "12\n",
      "123\n",
      "1234\n",
      "12345\n",
      "1\n",
      "12\n",
      "123\n",
      "1234\n",
      "12345\n",
      "1\n",
      "12\n",
      "123\n",
      "1234\n",
      "12345\n",
      "1\n",
      "12\n",
      "123\n",
      "1234\n",
      "12345\n",
      "1\n",
      "12\n",
      "123\n",
      "1234\n",
      "12345\n"
     ]
    }
   ],
   "source": [
    "# Method 1: Using Nested Loops with String Concatenation\n",
    "\n",
    "n = int(input(\"Enter the number of rows: \"))\n",
    "\n",
    "for i in range(1, n + 1):\n",
    "    row = \"\"\n",
    "    for j in range(1, i + 1):\n",
    "        row += str(j)\n",
    "    print(row)\n",
    "\n",
    "# Method 2: Using List Comprehension and join()\n",
    "\n",
    "n = int(input())\n",
    "\n",
    "for i in range(1, n + 1):\n",
    "    print(\"\".join(str(j) for j in range(1, i + 1)))\n",
    "\n",
    "# Method 3: Using *args in print\n",
    "\n",
    "n = int(input(\"Enter the number of rows: \"))\n",
    "\n",
    "for i in range(1, n + 1):\n",
    "    print(*range(1, i + 1), sep=\"\")\n",
    "\n",
    "# Method 4: Using a While Loop\n",
    "\n",
    "n = int(input(\"Enter the number of rows: \"))\n",
    "\n",
    "i = 1\n",
    "while i <= n:\n",
    "    j = 1\n",
    "    while j <= i:\n",
    "        print(j, end=\"\")\n",
    "        j += 1\n",
    "    print()\n",
    "    i += 1\n",
    "\n",
    "# Method 5: Using Recursion\n",
    "\n",
    "def print_row(row):\n",
    "    if row > 0:\n",
    "        print_row(row - 1)\n",
    "        print(\"\".join(str(i) for i in range(1, row + 1)))\n",
    "\n",
    "n = int(input(\"Enter the number of rows: \"))\n",
    "print_row(n)"
   ]
  },
  {
   "cell_type": "markdown",
   "metadata": {},
   "source": [
    "### **10. Generate a  full pyramid using numbers.**\n",
    "\n",
    "#### **Input Description:**\n",
    "\n",
    "Given an integer R indicates number of rows.\n",
    "\n",
    "Where 1<=R<=100.\n",
    "\n",
    "#### **Output Description:**\n",
    "\n",
    "Print the full pyramid using numbers based on the given integer R.\n",
    "\n",
    "**Sample Input:**\n",
    "\n",
    "5\n",
    "\n",
    "**Sample Output:**\n",
    "\n",
    "    1\n",
    "\n",
    "   232\n",
    "\n",
    "  34543\n",
    "\n",
    " 4567654\n",
    "\n",
    "567898765"
   ]
  },
  {
   "cell_type": "code",
   "execution_count": 18,
   "metadata": {},
   "outputs": [
    {
     "name": "stdout",
     "output_type": "stream",
     "text": [
      "    1\n",
      "   232\n",
      "  34543\n",
      " 4567654\n",
      "567898765\n"
     ]
    }
   ],
   "source": [
    "def full_pyramid(R):\n",
    "    for i in range(1, R + 1):\n",
    "        # Print leading spaces\n",
    "        for j in range(R - i):\n",
    "            print(\" \", end=\"\")\n",
    "        \n",
    "        # Print increasing numbers\n",
    "        for j in range(i, 2 * i):\n",
    "            print(j, end=\"\")\n",
    "        \n",
    "        # Print decreasing numbers\n",
    "        for j in range(2 * i - 2, i - 1, -1):\n",
    "            print(j, end=\"\")\n",
    "        \n",
    "        # Move to the next line\n",
    "        print()\n",
    "\n",
    "R = int(input())\n",
    "full_pyramid(R)"
   ]
  },
  {
   "cell_type": "markdown",
   "metadata": {},
   "source": [
    "#### **Logic Explanation:**\n",
    "\n",
    "def full_pyramid(R):\n",
    "    Defines a function full_pyramid that takes an integer R as input to determine the number of rows in the pyramid.\n",
    "\n",
    "Leading Spaces:\n",
    "    The first inner loop (for j in range(R - i)) prints spaces to center-align the pyramid.\n",
    "\n",
    "Increasing Numbers:\n",
    "    The second inner loop (for j in range(1, i + 1)) prints numbers in increasing order from 1 to i.\n",
    "\n",
    "Decreasing Numbers:\n",
    "    The third inner loop (for j in range(i - 1, 0, -1)) prints numbers in decreasing order from i-1 down to 1.\n",
    "\n",
    "print():\n",
    "    Moves to the next line after printing each row to start a new row."
   ]
  },
  {
   "cell_type": "code",
   "execution_count": 19,
   "metadata": {},
   "outputs": [
    {
     "name": "stdout",
     "output_type": "stream",
     "text": [
      "    1\n",
      "   121\n",
      "  12321\n",
      " 1234321\n",
      "123454321\n"
     ]
    }
   ],
   "source": [
    "def full_pyramid(R):\n",
    "    for i in range(1, R + 1):\n",
    "        # Print leading spaces\n",
    "        for j in range(R - i):\n",
    "            print(\" \", end=\"\")\n",
    "        \n",
    "        # Print numbers in increasing order\n",
    "        for j in range(1, i + 1):\n",
    "            print(j, end=\"\")\n",
    "        \n",
    "        # Print numbers in decreasing order\n",
    "        for j in range(i - 1, 0, -1):\n",
    "            print(j, end=\"\")\n",
    "        \n",
    "        # Move to the next line for the next row\n",
    "        print()\n",
    "\n",
    "R = int(input(\"Enter the number of rows: \"))\n",
    "full_pyramid(R)"
   ]
  },
  {
   "cell_type": "markdown",
   "metadata": {},
   "source": [
    "### **11. Generate a hollow inverted half pyramid pattern using numbers.**\n",
    "\n",
    "#### **Input Description:**\n",
    "\n",
    "Given an integer R indicates number of rows.\n",
    "\n",
    "Where 1<=R<=100.\n",
    "\n",
    "#### **Output Description:**\n",
    "\n",
    "Print the hollow inverted half pyramid pattern using numbers based on the given integer R.\n",
    "\n",
    "**Sample Input:**\n",
    "\n",
    "5\n",
    "\n",
    "**Sample Output:**\n",
    "\n",
    "    1\n",
    "\n",
    "   1 2\n",
    "\n",
    "  1   3\n",
    "\n",
    " 1     4\n",
    "\n",
    "1 2 3 4 5"
   ]
  },
  {
   "cell_type": "code",
   "execution_count": 21,
   "metadata": {},
   "outputs": [
    {
     "name": "stdout",
     "output_type": "stream",
     "text": [
      "    1\n",
      "   1 2\n",
      "  1   3\n",
      " 1     4\n",
      "1 2 3 4 5\n"
     ]
    }
   ],
   "source": [
    "n=int(input())\n",
    "\n",
    "for i in range(n):\n",
    "  p=1\n",
    "  l=[]\n",
    "\n",
    "  # Add spaces for alignment\n",
    "  for j in range(i, n-1):\n",
    "    # print(\"\",end=\" \")\n",
    "    l.append(\"\")\n",
    "\n",
    "  # Fill the pattern with numbers and spaces\n",
    "  for j in range(i+1):\n",
    "    if i==n-1 or j==0 or j==i:\n",
    "      # print (p,end=\" \")\n",
    "      l.append(p)\n",
    "    else:\n",
    "      #print(\" \",end=\" \")\n",
    "      l.append(\" \")\n",
    "      #print(*l)\n",
    "    p=p+1\n",
    "  #print()\n",
    "  print(*l)"
   ]
  },
  {
   "cell_type": "code",
   "execution_count": 38,
   "metadata": {},
   "outputs": [
    {
     "name": "stdout",
     "output_type": "stream",
     "text": [
      "    1 \n",
      "   1 2 \n",
      "  1 2 3 \n",
      " 1 2 3 4 \n",
      "1 2 3 4 5 \n"
     ]
    }
   ],
   "source": [
    "x = int(input(\"Enter the number of rows (x): \"))\n",
    "row = 1\n",
    "while row <= x:\n",
    "    # Print spaces to align the pyramid\n",
    "    space = x - row\n",
    "    while space > 0:\n",
    "        print(\" \", end=\"\")\n",
    "        space -= 1\n",
    "    \n",
    "    # Print numbers for the current row\n",
    "    column = 1\n",
    "    while column <= row:\n",
    "        print(column, end=\" \")\n",
    "        column += 1\n",
    "    \n",
    "    # Move to the next row\n",
    "    print()  # Move to the next line after printing the row\n",
    "    row += 1"
   ]
  },
  {
   "cell_type": "code",
   "execution_count": 37,
   "metadata": {},
   "outputs": [
    {
     "name": "stdout",
     "output_type": "stream",
     "text": [
      "        1\n",
      "      1 2\n",
      "    1   3\n",
      "  1     4\n",
      "1 2 3 4 5\n"
     ]
    }
   ],
   "source": [
    "n = int(input())\n",
    "\n",
    "for i in range(n):\n",
    "    p = 1\n",
    "    l = []\n",
    "    \n",
    "    # Add spaces for alignment\n",
    "    for j in range(i, n - 1):\n",
    "        l.append(\" \")\n",
    "    \n",
    "    # Fill the pattern with numbers and spaces\n",
    "    for j in range(i + 1):\n",
    "        if i == n - 1 or j == 0 or j == i:\n",
    "            l.append(str(p))\n",
    "        else:\n",
    "            l.append(\" \")\n",
    "        p += 1\n",
    "    print(*l)\n",
    "    # Print the row\n",
    "    # print(\"\".join(l))"
   ]
  },
  {
   "cell_type": "markdown",
   "metadata": {},
   "source": [
    "### **12. Write a code to generate the following pattern.**\n",
    "\n",
    "#### **Input Description:**\n",
    "\n",
    "Input consists of a single integer that corresponds to R, the number of rows. R is always an odd number.\n",
    "\n",
    "Where 1<=R<=100.\n",
    "\n",
    "#### **Output Description:**\n",
    "\n",
    "Print the character with the letter 'b' pattern with the size based on the given integer R.\n",
    "\n",
    "**Sample Input:**\n",
    "\n",
    "5\n",
    "\n",
    "**Sample Output:**\n",
    "\n",
    "*********\n",
    "\n",
    "b*******b\n",
    "\n",
    "bb*****bb\n",
    "\n",
    "bbb***bbb\n",
    "\n",
    "bbbb*bbbb"
   ]
  },
  {
   "cell_type": "code",
   "execution_count": 30,
   "metadata": {},
   "outputs": [
    {
     "name": "stdout",
     "output_type": "stream",
     "text": [
      "*********\n",
      "b*******b\n",
      "bb*****bb\n",
      "bbb***bbb\n",
      "bbbb*bbbb\n"
     ]
    }
   ],
   "source": [
    "n = int(input(\"Enter the value of n: \"))\n",
    "for i in range(n):\n",
    "    for j in range(i):\n",
    "        print(\"b\", end=\"\")\n",
    "    for j in range(i, n-1):\n",
    "        print(\"*\", end=\"\")\n",
    "    for j in range(i, n):\n",
    "        print(\"*\", end=\"\")\n",
    "    for j in range(i):\n",
    "        print(\"b\", end=\"\")\n",
    "    print()"
   ]
  },
  {
   "cell_type": "markdown",
   "metadata": {},
   "source": [
    "### **13. Write a code to generate a pyramid using stars.**\n",
    "\n",
    "#### **Input Description:**\n",
    "\n",
    "Given an integer R indicates number of rows.\n",
    "\n",
    "Where 1<=R<=100.\n",
    "\n",
    "#### **Output Description:**\n",
    "\n",
    "Print the pyramid pattern using stars based on the given integer R.\n",
    "\n",
    "**Sample Input:**\n",
    "\n",
    "6\n",
    "\n",
    "**Sample Output:**\n",
    "\n",
    "     *\n",
    "\n",
    "    **\n",
    "\n",
    "   ***\n",
    "\n",
    "  ****\n",
    "\n",
    " *****\n",
    "\n",
    "******"
   ]
  },
  {
   "cell_type": "code",
   "execution_count": 24,
   "metadata": {},
   "outputs": [
    {
     "name": "stdout",
     "output_type": "stream",
     "text": [
      "     *\n",
      "    **\n",
      "   ***\n",
      "  ****\n",
      " *****\n",
      "******\n"
     ]
    }
   ],
   "source": [
    "def pyramid(R):\n",
    "    for i in range(1, R + 1):\n",
    "        # Calculate number of spaces and stars for each row\n",
    "        num_spaces = R - i\n",
    "        num_stars = i\n",
    "        \n",
    "        # Construct the row string\n",
    "        row = ' ' * num_spaces + '*' * num_stars\n",
    "        print(row)\n",
    "\n",
    "R = int(input())        # R = 6\n",
    "pyramid(R)"
   ]
  },
  {
   "cell_type": "markdown",
   "metadata": {},
   "source": [
    "### **14. Write a code to generate a hollow rectangle using stars.**\n",
    "\n",
    "#### **Input Description:**\n",
    "\n",
    "Given an integer R indicates no of rows and an integer C indicates no of columns.\n",
    "\n",
    "Where 1<=R<=100 and Where 1<=C<=100.\n",
    "\n",
    "#### **Output Description:**\n",
    "\n",
    "Print the hollow rectangle using stars with R rows and C columns.\n",
    "\n",
    "**Sample Input :**\n",
    "\n",
    "3 5\n",
    "\n",
    "**Sample Output:**\n",
    "\n",
    "* * * * *\n",
    "\n",
    "*       *\n",
    "\n",
    "* * * * *"
   ]
  },
  {
   "cell_type": "code",
   "execution_count": 40,
   "metadata": {},
   "outputs": [
    {
     "name": "stdout",
     "output_type": "stream",
     "text": [
      "* * * * *\n",
      "*       *\n",
      "* * * * *\n"
     ]
    }
   ],
   "source": [
    "def pattern(r, c):\n",
    "    for i in range(1, r+1):\n",
    "        l = []\n",
    "        if i == 1 or i == r:\n",
    "            for j in range(c):\n",
    "                l.append('*')\n",
    "        else:\n",
    "            l.append('*')\n",
    "            for j in range(1, c-1):\n",
    "                l.append(' ')\n",
    "            l.append('*')\n",
    "        print(*l)\n",
    "\n",
    "r, c = map(int, input().split())\n",
    "pattern(r, c)"
   ]
  },
  {
   "cell_type": "code",
   "execution_count": 42,
   "metadata": {},
   "outputs": [
    {
     "name": "stdout",
     "output_type": "stream",
     "text": [
      "* * * * * \n",
      "*       *\n",
      "* * * * * \n",
      "* * * * * \n",
      "*       * \n",
      "* * * * * \n",
      "* * * * * \n",
      "*       *\n",
      "* * * * * \n"
     ]
    }
   ],
   "source": [
    "# Method - 1:\n",
    "n, k = map(int, input().split())\n",
    "\n",
    "if 1 <= n <= 100 and 1 <= k <= 100:\n",
    "    # Print the first row (all stars)\n",
    "    print(\"* \" * k)\n",
    "    \n",
    "    # Print middle rows\n",
    "    for row in range(1, n - 1):\n",
    "        print(\"*\", end=\" \")\n",
    "        for col in range(1, k - 1):\n",
    "            print(\" \", end=\" \")\n",
    "        print(\"*\")\n",
    "    \n",
    "    # Print the last row (all stars)\n",
    "    if n > 1:\n",
    "        print(\"* \" * k)\n",
    "\n",
    "# Method - 2:\n",
    "n, k = map(int, input().split())\n",
    "\n",
    "if 1 <= n <= 100 and 1 <= k <= 100:\n",
    "    for row in range(1, n + 1):\n",
    "        for col in range(1, k + 1):\n",
    "            if col == 1 or col == k or row == 1 or row == n:\n",
    "                print(\"*\", end=\" \")\n",
    "            else:\n",
    "                print(\" \", end=\" \")\n",
    "        print()\n",
    "\n",
    "# Method - 3:\n",
    "def hollow_rectangle(R, C):\n",
    "    for i in range(R):\n",
    "        if i == 0 or i == R - 1:  # First and last rows\n",
    "            print(\"* \" * C)\n",
    "        else:  # Middle rows\n",
    "            print(\"*\" + \" \" * (2 * C - 3) + \"*\")\n",
    "\n",
    "# Reading input\n",
    "R, C = map(int, input().split())\n",
    "hollow_rectangle(R, C)"
   ]
  },
  {
   "cell_type": "markdown",
   "metadata": {},
   "source": [
    "### **15. Write a code to generate a solid half diamond pattern using stars.**\n",
    "\n",
    "#### **Input Description:**\n",
    "\n",
    "Given an integer R indicates number of rows.\n",
    "\n",
    "Where 1<=R<=100.\n",
    "\n",
    "#### **Output Description:**\n",
    "\n",
    "Print the solid half diamond pattern based on the given integer R.\n",
    "\n",
    "**Sample Input:**\n",
    "\n",
    "5\n",
    "\n",
    "**Sample Output:**\n",
    "\n",
    "*\n",
    "**\n",
    "***\n",
    "****\n",
    "*****\n",
    "****\n",
    "***\n",
    "**\n",
    "*"
   ]
  },
  {
   "cell_type": "code",
   "execution_count": 43,
   "metadata": {},
   "outputs": [
    {
     "name": "stdout",
     "output_type": "stream",
     "text": [
      "*\n",
      "**\n",
      "***\n",
      "****\n",
      "*****\n",
      "****\n",
      "***\n",
      "**\n",
      "*\n"
     ]
    }
   ],
   "source": [
    "def solid_half_diamond(R):\n",
    "    # Upper half of the diamond\n",
    "    for i in range(1, R + 1):\n",
    "        print(\"*\" * i)\n",
    "    \n",
    "    # Lower half of the diamond (excluding the middle line)\n",
    "    for i in range(R - 1, 0, -1):\n",
    "        print(\"*\" * i)\n",
    "\n",
    "R = int(input())\n",
    "\n",
    "# Validating input range\n",
    "if 1 <= R <= 100:\n",
    "    solid_half_diamond(R)\n",
    "else:\n",
    "    print(\"Input out of range. Please enter a number between 1 and 100.\")"
   ]
  },
  {
   "cell_type": "markdown",
   "metadata": {},
   "source": [
    "### **16. Write a code to generate a full pyramid pattern using stars.**\n",
    "\n",
    "#### **Input Description:**\n",
    "\n",
    "Given an integer R indicates number of rows.\n",
    "\n",
    "Where 1<=R<=100.\n",
    "\n",
    "#### **Output Description:**\n",
    "\n",
    "Print the star pyramid with the given integer R.\n",
    "\n",
    "**Sample Input:**\n",
    "\n",
    "5\n",
    "\n",
    "**Sample Output:**\n",
    "    *\n",
    "   * *\n",
    "  * * *\n",
    " * * * *\n",
    "* * * * *"
   ]
  },
  {
   "cell_type": "code",
   "execution_count": 44,
   "metadata": {},
   "outputs": [
    {
     "name": "stdout",
     "output_type": "stream",
     "text": [
      "    *\n",
      "   * *\n",
      "  * * *\n",
      " * * * *\n",
      "* * * * *\n"
     ]
    }
   ],
   "source": [
    "def full_pyramid(R):\n",
    "    for i in range(1, R + 1):\n",
    "        # Print leading spaces\n",
    "        print(\" \" * (R - i), end=\"\")\n",
    "        \n",
    "        # Print stars for current row\n",
    "        for j in range(1, i + 1):\n",
    "            if j == 1:\n",
    "                print(\"*\", end=\"\")\n",
    "            else:\n",
    "                print(\" *\", end=\"\")\n",
    "        \n",
    "        # Move to the next line after printing the stars for the current row\n",
    "        print()\n",
    "\n",
    "R = int(input())\n",
    "\n",
    "# Validating input range\n",
    "if 1 <= R <= 100:\n",
    "    full_pyramid(R)\n",
    "else:\n",
    "    print(\"Input out of range. Please enter a number between 1 and 100.\")"
   ]
  },
  {
   "cell_type": "markdown",
   "metadata": {},
   "source": [
    "### **17. Write a code to generate the following pattern.**\n",
    "\n",
    "#### **Input Description:**\n",
    "\n",
    "Given an odd integer R indicates number of rows.R is always an odd number.\n",
    "\n",
    "where 1<=R<=100.\n",
    "\n",
    "#### **Output Description:**\n",
    "\n",
    "Print the character pattern based on the given input R.\n",
    "\n",
    "**Sample Input:**\n",
    "\n",
    "9\n",
    "\n",
    "**Sample Output:**\n",
    "\n",
    "bbbb*bbbb\n",
    "\n",
    "bbb***bbb\n",
    "\n",
    "bb*****bb\n",
    "\n",
    "b*******b\n",
    "\n",
    "*********\n",
    "\n",
    "b*******b\n",
    "\n",
    "bb*****bb\n",
    "\n",
    "bbb***bbb\n",
    "\n",
    "bbbb*bbbb"
   ]
  },
  {
   "cell_type": "code",
   "execution_count": 96,
   "metadata": {},
   "outputs": [
    {
     "name": "stdout",
     "output_type": "stream",
     "text": [
      "bbbb*bbbb\n",
      "bbb***bbb\n",
      "bb*****bb\n",
      "b*******b\n",
      "*********\n",
      "b*******b\n",
      "bb*****bb\n",
      "bbb***bbb\n",
      "bbbb*bbbb\n"
     ]
    }
   ],
   "source": [
    "def diamond_pattern(rows):\n",
    "    for i in range(1, rows):\n",
    "        # Printing spaces\n",
    "        for j in range(rows - i):\n",
    "            print(\"b\", end=\"\")\n",
    "        # Printing stars\n",
    "        for k in range(1, 2 * i):\n",
    "            print(\"*\", end=\"\")\n",
    "        # Printing spaces\n",
    "        for j in range(rows - i):\n",
    "            print(\"b\", end=\"\")\n",
    "        print()\n",
    "\n",
    "    # Middle line (full stars)\n",
    "    for i in range(rows * 2 - 1):\n",
    "        print(\"*\", end=\"\")\n",
    "    print()\n",
    "\n",
    "    # Lower part (symmetric to upper part)\n",
    "    for i in range(rows - 1, 0, -1):\n",
    "        # Printing spaces\n",
    "        for j in range(rows - i):\n",
    "            print(\"b\", end=\"\")\n",
    "        # Printing stars\n",
    "        for k in range(1, 2 * i):\n",
    "            print(\"*\", end=\"\")\n",
    "        # Printing spaces\n",
    "        for j in range(rows - i):\n",
    "            print(\"b\", end=\"\")\n",
    "        print()\n",
    "\n",
    "num_rows = int(input())     # num_rows = 5\n",
    "diamond_pattern(num_rows)"
   ]
  },
  {
   "cell_type": "markdown",
   "metadata": {},
   "source": [
    "### **18. Write a code to generate an inverted half pyramid pattern using stars.**\n",
    "\n",
    "#### **Input Description:**\n",
    "\n",
    "Given an integer R indicates number of rows.\n",
    "\n",
    "Where 1<=R<=100.\n",
    "\n",
    "#### **Output Description:**\n",
    "\n",
    "Print the star inverted pyramid with the given integer R.\n",
    "\n",
    "**Sample Input:**\n",
    "\n",
    "5\n",
    "\n",
    "**Sample Output:**\n",
    "\n",
    "*  *  *  *  *\n",
    "*  *  *  *\n",
    "*  *  *\n",
    "*  *\n",
    "*"
   ]
  },
  {
   "cell_type": "code",
   "execution_count": 41,
   "metadata": {},
   "outputs": [
    {
     "name": "stdout",
     "output_type": "stream",
     "text": [
      "*  *  *  *  *\n",
      "*  *  *  *\n",
      "*  *  *\n",
      "*  *\n",
      "*\n"
     ]
    }
   ],
   "source": [
    "def pattern(n):\n",
    "  for i in range(n):\n",
    "    l=[]\n",
    "    for j in range(n-i):\n",
    "      l.append(\"*\")\n",
    "    print('  '.join(l))\n",
    "\n",
    "n = int(input())\n",
    "pattern(n)"
   ]
  },
  {
   "cell_type": "code",
   "execution_count": 39,
   "metadata": {},
   "outputs": [
    {
     "name": "stdout",
     "output_type": "stream",
     "text": [
      "* * * * * \n",
      "* * * * \n",
      "* * * \n",
      "* * \n",
      "* \n",
      "\n",
      "\n",
      "* * * * * \n",
      "* * * * \n",
      "* * * \n",
      "* * \n",
      "* \n"
     ]
    }
   ],
   "source": [
    "def reverse_pattern(rows):\n",
    "    for i in range(rows, 0, -1):\n",
    "        for j in range(i):\n",
    "            print(\"*\", end=\" \")\n",
    "        print()\n",
    "\n",
    "num_rows = int(input())\n",
    "reverse_pattern(num_rows)\n",
    "\n",
    "print(\"\\n\")\n",
    "\n",
    "# Another way:\n",
    "def inverted_half_pyramid(R):\n",
    "    for i in range(R, 0, -1):\n",
    "        print(\"* \" * i)\n",
    "\n",
    "R = int(input())\n",
    "\n",
    "# Validating input range\n",
    "if 1 <= R <= 100:\n",
    "    inverted_half_pyramid(R)\n",
    "else:\n",
    "    print(\"Input out of range. Please enter a number between 1 and 100.\")"
   ]
  },
  {
   "cell_type": "markdown",
   "metadata": {},
   "source": [
    "### **19. Generate a number pyramid pattern.**\n",
    "\n",
    "#### **Input Description:**\n",
    "\n",
    "Given an integer R indicates number of rows.\n",
    "\n",
    "Where 1<=R<=100\n",
    "\n",
    "#### **Output Description:**\n",
    "\n",
    "Print the number half pyramid pattern with the size R.\n",
    "\n",
    "**Sample Input:**\n",
    "\n",
    "4\n",
    "\n",
    "**Sample Output:**\n",
    "\n",
    "1234567\n",
    "\n",
    "12345\n",
    "\n",
    "123\n",
    "\n",
    "1"
   ]
  },
  {
   "cell_type": "code",
   "execution_count": 48,
   "metadata": {},
   "outputs": [
    {
     "name": "stdout",
     "output_type": "stream",
     "text": [
      "1234567\n",
      "12345\n",
      "123\n",
      "1\n"
     ]
    }
   ],
   "source": [
    "# Get the number of rows as input\n",
    "R = int(input())\n",
    "\n",
    "# Generate the pyramid pattern\n",
    "for row in range(R, 0, -1):\n",
    "    # Print the numbers in each row\n",
    "    for num in range(1, 2 * row):\n",
    "        print(num, end=\"\")\n",
    "    print()"
   ]
  },
  {
   "cell_type": "markdown",
   "metadata": {},
   "source": [
    "### **20. Write a code to generate a half pyramid pattern using numbers.**\n",
    "\n",
    "#### **Input Description:**\n",
    "\n",
    "Given an integer R indicates number of rows.\n",
    "\n",
    "Where 1<=R<=100\n",
    "\n",
    "#### **Output Description:**\n",
    "\n",
    "Print the number half pyramid pattern with the size R.\n",
    "\n",
    "**Sample Input:**\n",
    "\n",
    "5\n",
    "\n",
    "**Sample Output:**\n",
    "\n",
    "12345\n",
    "\n",
    "2345\n",
    "\n",
    "345\n",
    "\n",
    "45\n",
    "\n",
    "5"
   ]
  },
  {
   "cell_type": "code",
   "execution_count": 46,
   "metadata": {},
   "outputs": [
    {
     "name": "stdout",
     "output_type": "stream",
     "text": [
      "12345\n",
      "2345\n",
      "345\n",
      "45\n",
      "5\n"
     ]
    }
   ],
   "source": [
    "def number_half_pyramid(R):\n",
    "    for i in range(R):\n",
    "        for j in range(i + 1, R + 1):\n",
    "            print(j, end=\"\")\n",
    "        print()\n",
    "\n",
    "R = int(input())\n",
    "if 1 <= R <= 100:\n",
    "    number_half_pyramid(R)\n",
    "else:\n",
    "    print(\"Input out of range. Please enter a number between 1 and 100.\")"
   ]
  },
  {
   "cell_type": "markdown",
   "metadata": {},
   "source": [
    "### **21. Generate a floyd's triangle.**\n",
    "\n",
    "#### **Input Description:**\n",
    "\n",
    "Given an integer R indicates number of rows.\n",
    "\n",
    "Where 1<=R<=100.\n",
    "\n",
    "#### **Output Description:**\n",
    "\n",
    "Print a floyd's triangle based on the given integer R.\n",
    "\n",
    "**Sample Input:**\n",
    "\n",
    "5\n",
    "\n",
    "**Sample Output:**\n",
    "\n",
    "1\n",
    "\n",
    "2 3\n",
    "\n",
    "4 5 6\n",
    "\n",
    "7 8 9 10\n",
    "\n",
    "11 12 13 14 15"
   ]
  },
  {
   "cell_type": "code",
   "execution_count": 38,
   "metadata": {},
   "outputs": [
    {
     "name": "stdout",
     "output_type": "stream",
     "text": [
      "1\n",
      "2 3\n",
      "4 5 6\n",
      "7 8 9 10\n",
      "11 12 13 14 15\n"
     ]
    }
   ],
   "source": [
    "def generate_number_triangle(rows):\n",
    "    current_number = 1\n",
    "    for i in range(1, rows + 1):\n",
    "        row_numbers = []\n",
    "        for j in range(i):\n",
    "            row_numbers.append(current_number)\n",
    "            current_number += 1\n",
    "        print(\" \".join(map(str, row_numbers)))\n",
    "\n",
    "rows = int(input())\n",
    "generate_number_triangle(rows)"
   ]
  },
  {
   "cell_type": "code",
   "execution_count": 37,
   "metadata": {},
   "outputs": [
    {
     "name": "stdout",
     "output_type": "stream",
     "text": [
      "1 \n",
      "2 3 \n",
      "4 5 6 \n",
      "7 8 9 10 \n",
      "11 12 13 14 15 \n",
      "\n",
      "\n",
      "1 2 3 4 5 \n",
      "6 7 8 9 \n",
      "10 11 12 \n",
      "13 14 \n",
      "15 \n",
      "\n",
      "Sum of numbers:  120\n"
     ]
    }
   ],
   "source": [
    "def floyds_triangle(R):\n",
    "    num = 1\n",
    "    for i in range(1, R + 1):\n",
    "        for j in range(1, i + 1):\n",
    "            print(num, end=\" \")\n",
    "            num += 1\n",
    "        print()\n",
    "\n",
    "R = int(input())\n",
    "floyds_triangle(R)\n",
    "\n",
    "print(\"\\n\")\n",
    "\n",
    "rows = int(input())         # rows = 5\n",
    "num = 1 \n",
    "sum = 0 \n",
    "for i in range(rows): \n",
    "    for j in range(i + 1, rows+1): \n",
    "        print(num, end=' ')\n",
    "        sum = sum + num \n",
    "        num = num + 1     \n",
    "    print() \n",
    "print(\"\\nSum of numbers: \", sum) "
   ]
  },
  {
   "cell_type": "markdown",
   "metadata": {},
   "source": [
    "### **22. Write a code to generate a half pyramid pattern using number.**\n",
    "\n",
    "#### **Input Description:**\n",
    "\n",
    "Given an integer R indicates number of rows.\n",
    "\n",
    "Where 1<=R<=100\n",
    "\n",
    "#### **Output Description:**\n",
    "\n",
    "Print the number half pyramid pattern with the size R.\n",
    "\n",
    "**Sample Input:**\n",
    "\n",
    "5\n",
    "\n",
    "**Sample Output:**\n",
    "\n",
    "54321\n",
    "\n",
    "4321\n",
    "\n",
    "321\n",
    "\n",
    "21\n",
    "\n",
    "1"
   ]
  },
  {
   "cell_type": "code",
   "execution_count": 89,
   "metadata": {},
   "outputs": [
    {
     "name": "stdout",
     "output_type": "stream",
     "text": [
      "54321\n",
      "4321\n",
      "321\n",
      "21\n",
      "1\n"
     ]
    }
   ],
   "source": [
    "def half_pyramid_pattern(R):\n",
    "    for i in range(R, 0, -1):\n",
    "        for j in range(i, 0, -1):\n",
    "            print(j, end='')\n",
    "        print()\n",
    "\n",
    "R = int(input())\n",
    "half_pyramid_pattern(R)"
   ]
  },
  {
   "cell_type": "markdown",
   "metadata": {},
   "source": [
    "### **23. Write a code to generate a hollow full pyramid pattern using stars.**\n",
    "\n",
    "#### **Input Description:**\n",
    "\n",
    "Given an integer R indicates number of rows.\n",
    "\n",
    "Where 1<=R<=100.\n",
    "\n",
    "#### **Output Description:**\n",
    "\n",
    "Print the star hollow full pyramid with the given integer R.\n",
    "\n",
    "**Sample Input:**\n",
    "\n",
    "5\n",
    "\n",
    "**Sample Output:**\n",
    "\n",
    "    *\n",
    "   * *\n",
    "  *   *\n",
    " *     *\n",
    "* * * * *"
   ]
  },
  {
   "cell_type": "code",
   "execution_count": 42,
   "metadata": {},
   "outputs": [
    {
     "name": "stdout",
     "output_type": "stream",
     "text": [
      "    * \n",
      "   * * \n",
      "  *   * \n",
      " *     * \n",
      "* * * * * \n"
     ]
    }
   ],
   "source": [
    "rows = 5\n",
    "\n",
    "# Loop through each row\n",
    "for i in range(rows):\n",
    "    # Print leading spaces based on the current row\n",
    "    for j in range(rows - i - 1):\n",
    "        print(\" \", end=\"\")\n",
    "\n",
    "    # Print asterisks based on the current row (i + 1)\n",
    "    for j in range(i + 1):\n",
    "        if j == 0 or j == i or i == rows - 1:\n",
    "            print(\"*\", end=\" \")\n",
    "        else:\n",
    "            print(\" \", end=\" \")\n",
    "\n",
    "    # Move to the next line\n",
    "    print()"
   ]
  },
  {
   "cell_type": "code",
   "execution_count": 44,
   "metadata": {},
   "outputs": [
    {
     "name": "stdout",
     "output_type": "stream",
     "text": [
      "    * \n",
      "   * * \n",
      "  * * * \n",
      " * * * * \n",
      "* * * * * \n",
      "        * \n",
      "      * * \n",
      "    *   * \n",
      "  *     * \n",
      "* * * * * \n"
     ]
    }
   ],
   "source": [
    "# Similar patten\n",
    "\n",
    "rows = 5\n",
    "\n",
    "# Loop through each row\n",
    "for i in range(rows):\n",
    "  # Print leading spaces based on the current row\n",
    "  for j in range(rows - i - 1):\n",
    "    print(\" \", end=\"\")\n",
    "\n",
    "  # Print asterisks based on the current row (i + 1)\n",
    "  for j in range(i + 1):\n",
    "    print(\"*\", end=\" \")\n",
    "\n",
    "  # Move to the next line\n",
    "  print()\n",
    "\n",
    "def hollow_full_pyramid(R):\n",
    "    for i in range(R):\n",
    "        # Print leading spaces\n",
    "        for j in range(R - i - 1):\n",
    "            print(\" \", end=\" \")\n",
    "\n",
    "        # Print stars and inner spaces\n",
    "        for j in range(i + 1):\n",
    "            if j == 0 or j == i or i == R - 1:\n",
    "                print(\"*\", end=\" \")\n",
    "            else:\n",
    "                print(\" \", end=\" \")\n",
    "\n",
    "        # Move to the next line after each row\n",
    "        print()\n",
    "\n",
    "n = 5\n",
    "hollow_full_pyramid(n)"
   ]
  },
  {
   "cell_type": "markdown",
   "metadata": {},
   "source": [
    "### **24. Write a code to generate a half pyramid pattern using numbers.**\n",
    "\n",
    "#### **Input Description:**\n",
    "\n",
    "Given an integer R indicates number of rows.\n",
    "\n",
    "Where 1<=R<=100.\n",
    "\n",
    "#### **Output Description:**\n",
    "\n",
    "Print the number half pyramid pattern with the size R.\n",
    "\n",
    "**Sample Input:**\n",
    "\n",
    "5\n",
    "\n",
    "**Sample Output:**\n",
    "\n",
    "55555\n",
    "\n",
    "4444\n",
    "\n",
    "333\n",
    "\n",
    "22\n",
    "\n",
    "1"
   ]
  },
  {
   "cell_type": "code",
   "execution_count": 88,
   "metadata": {},
   "outputs": [
    {
     "name": "stdout",
     "output_type": "stream",
     "text": [
      "55555\n",
      "4444\n",
      "333\n",
      "22\n",
      "1\n"
     ]
    }
   ],
   "source": [
    "def half_pyramid_numbers(R):\n",
    "    for i in range(R, 0, -1):\n",
    "        for j in range(i):\n",
    "            print(i, end='')\n",
    "        print()\n",
    "\n",
    "R = int(input())\n",
    "half_pyramid_numbers(R)"
   ]
  },
  {
   "cell_type": "markdown",
   "metadata": {},
   "source": [
    "### **25. Write a code to generate a aplhabet half pyramid pattern.**\n",
    "\n",
    "#### **Input Description:**\n",
    "\n",
    "Given an integer R indicates number of rows.\n",
    "\n",
    "Where 1<=R<=26.\n",
    "\n",
    "#### **Output Description:**\n",
    "\n",
    "Print the alphabet half pyramid pattern according to the given integer R.\n",
    "\n",
    "**Sample Input:**\n",
    "\n",
    "5\n",
    "\n",
    "**Sample Output:**\n",
    "\n",
    "EDCBA\n",
    "\n",
    "EDCB\n",
    "\n",
    "EDC\n",
    "\n",
    "ED\n",
    "\n",
    "E"
   ]
  },
  {
   "cell_type": "code",
   "execution_count": 159,
   "metadata": {},
   "outputs": [
    {
     "name": "stdout",
     "output_type": "stream",
     "text": [
      "EDCBA\n",
      "EDCB\n",
      "EDC\n",
      "ED\n",
      "E\n"
     ]
    }
   ],
   "source": [
    "def generate_alphabet_pyramid(rows):\n",
    "    if rows < 1 or rows > 26:\n",
    "        print(\"Invalid input. R must be between 1 and 26.\")\n",
    "        return\n",
    "    \n",
    "    base_char = ord('A') + rows - 1\n",
    "    \n",
    "    for i in range(rows):\n",
    "        for j in range(base_char, ord('A') + i - 1, -1):\n",
    "            print(chr(j), end=\"\")\n",
    "        print()\n",
    "\n",
    "try:\n",
    "    R = int(input())\n",
    "    generate_alphabet_pyramid(R)\n",
    "except ValueError:\n",
    "    print(\"Invalid input. Please enter a valid integer.\")"
   ]
  },
  {
   "cell_type": "markdown",
   "metadata": {},
   "source": [
    "### **26. In the IPL season’s valedictory function the organizers have organized for a dance program. The dance has to be performed by men along with the points of the diagonals of the square of side ‘n’ and the females along with points of the borders. The remaining positions are filled by children. You have to determine their respective positions by writing a program.**\n",
    "\n",
    "#### **Input Description:**\n",
    "\n",
    "Given an integer N indicates representing the matrix (N*N).\n",
    "\n",
    "where 1<=N<=100.\n",
    "\n",
    "#### **Output Description:**\n",
    "\n",
    "Print the N*N character matrix with the character F(Female), M(Male), C(Children).\n",
    "\n",
    "Sample Input :\n",
    "\n",
    "7\n",
    "\n",
    "Sample Output :\n",
    "\n",
    "M F F F F F M\n",
    "\n",
    "F M C C C M F\n",
    "\n",
    "F C M C M C F\n",
    "\n",
    "F C C M C C F\n",
    "\n",
    "F C M C M C F\n",
    "\n",
    "F M C C C M F\n",
    "\n",
    "M F F F F F M"
   ]
  },
  {
   "cell_type": "code",
   "execution_count": 160,
   "metadata": {},
   "outputs": [
    {
     "name": "stdout",
     "output_type": "stream",
     "text": [
      "M F F F F F M\n",
      "F M C C C M F\n",
      "F C M C M C F\n",
      "F C C M C C F\n",
      "F C M C M C F\n",
      "F M C C C M F\n",
      "M F F F F F M\n"
     ]
    }
   ],
   "source": [
    "def generate_dance_matrix(N):\n",
    "    if N < 1 or N > 100:\n",
    "        print(\"Invalid input. N must be between 1 and 100.\")\n",
    "        return\n",
    "    \n",
    "    matrix = [['C' for _ in range(N)] for _ in range(N)]\n",
    "    \n",
    "    # Fill the matrix based on the rules\n",
    "    for i in range(N):\n",
    "        for j in range(N):\n",
    "            if i == 0 or i == N - 1 or j == 0 or j == N - 1:\n",
    "                matrix[i][j] = 'F'\n",
    "            if i == j or i + j == N - 1:\n",
    "                matrix[i][j] = 'M'\n",
    "    \n",
    "    # Print the matrix\n",
    "    for row in matrix:\n",
    "        print(' '.join(row))\n",
    "\n",
    "# Taking input from the user\n",
    "try:\n",
    "    N = int(input(\"Enter the size of the matrix (N): \"))\n",
    "    generate_dance_matrix(N)\n",
    "except ValueError:\n",
    "    print(\"Invalid input. Please enter a valid integer.\")"
   ]
  },
  {
   "cell_type": "markdown",
   "metadata": {},
   "source": [
    "### **27. Generate the following inverted character with star pattern.**\n",
    "\n",
    "#### **Input Description:**\n",
    "\n",
    "Input consists of a single integer that corresponds to R, the number of rows. R is always an odd number. where 1<=R<=100.\n",
    "\n",
    "#### **Output Description:**\n",
    "\n",
    "Print the inverted character pattern from the given input size R.\n",
    "\n",
    "**Sample Input:**\n",
    "\n",
    "5\n",
    "\n",
    "**Sample Output:**\n",
    "\n",
    "bbbb*bbbb\n",
    "bbb***bbb\n",
    "bb*****bb\n",
    "b*******b\n",
    "*********\n"
   ]
  },
  {
   "cell_type": "code",
   "execution_count": 36,
   "metadata": {},
   "outputs": [
    {
     "name": "stdout",
     "output_type": "stream",
     "text": [
      "bbbb*bbbb\n",
      "bbb***bbb\n",
      "bb*****bb\n",
      "b*******b\n",
      "*********\n"
     ]
    }
   ],
   "source": [
    "n = int(input())\n",
    "\n",
    "for i in range(n):\n",
    "  for j in range(i,n-1):\n",
    "    print(\"b\", end=\"\")\n",
    "\n",
    "  for j in range (i):\n",
    "    print(\"*\", end=\"\")\n",
    "\n",
    "  for j in range (i+1):\n",
    "    print(\"*\", end=\"\")\n",
    "\n",
    "  for j in range(i,n-1):\n",
    "    print(\"b\", end=\"\")\n",
    "  print()"
   ]
  },
  {
   "cell_type": "markdown",
   "metadata": {},
   "source": [
    "### **28. Write a code to generate an inverted full pyramid pattern using stars.**\n",
    "\n",
    "#### **Input Description:**\n",
    "\n",
    "Given an integer R indicates number of rows.\n",
    "\n",
    "Where 1<=R<=100.\n",
    "\n",
    "#### **Output Description:**\n",
    "\n",
    "Print the star inverted full pyramid with the given integer R.\n",
    "\n",
    "**Sample Input:**\n",
    "\n",
    "5\n",
    "\n",
    "**Sample Output:**\n",
    "\n",
    "* * * * *\n",
    " * * * *\n",
    "  * * *\n",
    "   * *\n",
    "    *"
   ]
  },
  {
   "cell_type": "code",
   "execution_count": 172,
   "metadata": {},
   "outputs": [
    {
     "name": "stdout",
     "output_type": "stream",
     "text": [
      "* * * * *\n",
      " * * * *\n",
      "  * * *\n",
      "   * *\n",
      "    *\n"
     ]
    }
   ],
   "source": [
    "def inverted_full_pyramid(rows):\n",
    "    # Outer loop for rows\n",
    "    for i in range(rows, 0, -1):\n",
    "        # Print spaces before stars\n",
    "        for j in range(rows - i):\n",
    "            print(\" \", end=\"\")\n",
    "        \n",
    "        # Print stars\n",
    "        for k in range(i):\n",
    "            if k == i - 1:\n",
    "                print(\"*\", end=\"\")\n",
    "            else:\n",
    "                print(\"* \", end=\"\")\n",
    "        print()\n",
    "\n",
    "rows = int(input())\n",
    "inverted_full_pyramid(rows)"
   ]
  },
  {
   "cell_type": "markdown",
   "metadata": {},
   "source": [
    "### **29. Write a code to generate a pyramid using stars.**\n",
    "\n",
    "#### **Input Description:**\n",
    "\n",
    "Given an integer R indicates number of rows.\n",
    "\n",
    "Where 1<=R<=100.\n",
    "\n",
    "#### **Output Description:**\n",
    "\n",
    "Print the pyramid pattern using stars based on the given integer R.\n",
    "\n",
    "**Sample Input:**\n",
    "\n",
    "5\n",
    "\n",
    "**Sample Output:**\n",
    "\n",
    "*****\n",
    "\n",
    " ****\n",
    "\n",
    "  ***\n",
    "\n",
    "   **\n",
    "\n",
    "    *"
   ]
  },
  {
   "cell_type": "code",
   "execution_count": 2,
   "metadata": {},
   "outputs": [
    {
     "name": "stdout",
     "output_type": "stream",
     "text": [
      "*****\n",
      " ****\n",
      "  ***\n",
      "   **\n",
      "    *\n"
     ]
    }
   ],
   "source": [
    "def generate_pyramid(R):\n",
    "    for i in range(R, 0, -1):\n",
    "        # Print spaces\n",
    "        for j in range(R - i):\n",
    "            print(\" \", end=\"\")\n",
    "        # Print stars\n",
    "        for j in range(i):\n",
    "            print(\"*\", end=\"\")\n",
    "        print()\n",
    "\n",
    "R = int(input())\n",
    "generate_pyramid(R)"
   ]
  },
  {
   "cell_type": "markdown",
   "metadata": {},
   "source": [
    "### **30. Write a code to generate an Rhombus Pattern using stars.**\n",
    "\n",
    "#### **Input Description:**\n",
    "\n",
    "Given an integer R indicates number of rows.\n",
    "\n",
    "Where 1<=R<=100.\n",
    "\n",
    "#### **Output Description:**\n",
    "\n",
    "Print the solid rhombus using stars with the size of rhombus R.\n",
    "\n",
    "**Sample Input:**\n",
    "\n",
    "4\n",
    "\n",
    "**Sample Output:**\n",
    "\n",
    "   ****\n",
    "  ****\n",
    " ****\n",
    "****"
   ]
  },
  {
   "cell_type": "code",
   "execution_count": 3,
   "metadata": {},
   "outputs": [
    {
     "name": "stdout",
     "output_type": "stream",
     "text": [
      "   ****\n",
      "  ****\n",
      " ****\n",
      "****\n"
     ]
    }
   ],
   "source": [
    "def generate_rhombus(R):\n",
    "    for i in range(R):\n",
    "        # Print spaces\n",
    "        for j in range(R - i - 1):\n",
    "            print(\" \", end=\"\")\n",
    "        # Print stars\n",
    "        for j in range(R):\n",
    "            print(\"*\", end=\"\")\n",
    "        print()\n",
    "        \n",
    "R = int(input())\n",
    "generate_rhombus(R)"
   ]
  },
  {
   "cell_type": "markdown",
   "metadata": {},
   "source": [
    "### **31. Write a code to generate a aplhabet pyramid pattern.**\n",
    "\n",
    "#### **Input Description:**\n",
    "\n",
    "Given an integer R indicates number of rows.\n",
    "\n",
    "Where 1<=R<=26.\n",
    "\n",
    "#### **Output Description:**\n",
    "\n",
    "Print the alphabet pyramid pattern according to the given integer R.\n",
    "\n",
    "**Sample Input:**\n",
    "\n",
    "5\n",
    "\n",
    "**Sample Output:**\n",
    "\n",
    "    A\n",
    "\n",
    "   ABA\n",
    "\n",
    "  ABCAB\n",
    "\n",
    " ABCDABC\n",
    "\n",
    "ABCDEABCD"
   ]
  },
  {
   "cell_type": "code",
   "execution_count": 49,
   "metadata": {},
   "outputs": [
    {
     "name": "stdout",
     "output_type": "stream",
     "text": [
      "    A\n",
      "   ABA\n",
      "  ABCAB\n",
      " ABCDABC\n",
      "ABCDEABCD\n"
     ]
    }
   ],
   "source": [
    "def pattern(n):\n",
    "    c = 65\n",
    "    for i in range(1, n+1):\n",
    "        for j in range(n-i):\n",
    "            print(' ', end = \"\")\n",
    "        for j in range(i):\n",
    "            print(chr(c+j), end = \"\")\n",
    "        for j in range(i-1):\n",
    "            print(chr(c+j), end = \"\")\n",
    "        print()\n",
    "        \n",
    "n = int(input())\n",
    "pattern(n)"
   ]
  },
  {
   "cell_type": "markdown",
   "metadata": {},
   "source": [
    "### **32. Write a code to generate a half pyramid number pattern.**\n",
    "\n",
    "#### **Input Description:**\n",
    "\n",
    "Given an even integer R indicates number of rows.\n",
    "\n",
    "Where 1<=R<=100\n",
    "\n",
    "#### **Output Description:**\n",
    "\n",
    "Print the number pattern based on the given integer R.\n",
    "\n",
    "**Sample Input:**\n",
    "\n",
    "5\n",
    "\n",
    "**Sample Output:**\n",
    "\n",
    "12345\n",
    "\n",
    "1234\n",
    "\n",
    "123\n",
    "\n",
    "12\n",
    "\n",
    "1"
   ]
  },
  {
   "cell_type": "code",
   "execution_count": 47,
   "metadata": {},
   "outputs": [
    {
     "name": "stdout",
     "output_type": "stream",
     "text": [
      "12345\n",
      "1234\n",
      "123\n",
      "12\n",
      "1\n"
     ]
    }
   ],
   "source": [
    "def half_pyramid_numbers(R):\n",
    "    # Loop through each row\n",
    "    for i in range(R, 0, -1):\n",
    "        # Print numbers from 1 to i\n",
    "        for j in range(1, i + 1):\n",
    "            print(j, end=\"\")\n",
    "        print()\n",
    "\n",
    "R = int(input())\n",
    "half_pyramid_numbers(R)"
   ]
  },
  {
   "cell_type": "markdown",
   "metadata": {},
   "source": [
    "### **33. Write a code to generate a half pyramid pattern using numbers.**\n",
    "\n",
    "#### **Input Description:**\n",
    "\n",
    "Given an integer R indicates number of rows.\n",
    "\n",
    "Where 1<=R<=100.\n",
    "\n",
    "#### **Output Description:**\n",
    "\n",
    "Print the number half pyramid pattern with the size R.\n",
    "\n",
    "**Sample Input:**\n",
    "\n",
    "5\n",
    "\n",
    "**Sample Output:**\n",
    "\n",
    "13579\n",
    "\n",
    "3579\n",
    "\n",
    "579\n",
    "\n",
    "79\n",
    "\n",
    "9"
   ]
  },
  {
   "cell_type": "code",
   "execution_count": 50,
   "metadata": {},
   "outputs": [
    {
     "name": "stdout",
     "output_type": "stream",
     "text": [
      "13579\n",
      "3579\n",
      "579\n",
      "79\n",
      "9\n"
     ]
    }
   ],
   "source": [
    "def pattern(n):\n",
    "    for i in range(1, (2*n), 2):\n",
    "        l = []\n",
    "        for j in range(i, 2*n, 2):\n",
    "            l.append(str(j))\n",
    "        print(''.join(l))\n",
    "    \n",
    "n = int(input())\n",
    "pattern(n)"
   ]
  },
  {
   "cell_type": "markdown",
   "metadata": {},
   "source": [
    "### **34. Generate a half diamond pattern using stars and numbers in a palindromic pattern.**\n",
    "\n",
    "#### **Input Description:**\n",
    "\n",
    "Given an integer R indicates number of rows.\n",
    "\n",
    "Where 1<=R<=100.\n",
    "\n",
    "#### **Output Description:**\n",
    "\n",
    "Print the half diamond pattern using stars and numbers in a palindromic pattern based on the given integer R.\n",
    "\n",
    "**Sample Input:**\n",
    "\n",
    "3\n",
    "\n",
    "**Sample Output:**\n",
    "\n",
    "*\n",
    "*1*\n",
    "*121*\n",
    "*12321*\n",
    "*121*\n",
    "*1*\n",
    "*"
   ]
  },
  {
   "cell_type": "code",
   "execution_count": 37,
   "metadata": {},
   "outputs": [
    {
     "name": "stdout",
     "output_type": "stream",
     "text": [
      "*\n",
      "*1*\n",
      "*121*\n",
      "*12321*\n",
      "*121*\n",
      "*1*\n",
      "*\n"
     ]
    }
   ],
   "source": [
    "def palindrome_pattern(n):\n",
    "    # Print the first asterisk\n",
    "    print('*')\n",
    "    \n",
    "    # Upper half of the pattern\n",
    "    for i in range(1, n + 1):\n",
    "        l = ['*']  # Start each line with an asterisk\n",
    "        # Append increasing numbers\n",
    "        for j in range(1, i + 1):\n",
    "            l.append(str(j))\n",
    "        # Append decreasing numbers\n",
    "        for j in range(i - 1, 0, -1):\n",
    "            l.append(str(j))\n",
    "        l.append('*')  # End each line with an asterisk\n",
    "        print(''.join(l))  # Join the list into a string and print it\n",
    "    \n",
    "    # Lower half of the pattern\n",
    "    for i in range(n - 1, 0, -1):\n",
    "        l = ['*']  # Start each line with an asterisk\n",
    "        # Append increasing numbers\n",
    "        for j in range(1, i + 1):\n",
    "            l.append(str(j))\n",
    "        # Append decreasing numbers\n",
    "        for j in range(i - 1, 0, -1):\n",
    "            l.append(str(j))\n",
    "        l.append('*')  # End each line with an asterisk\n",
    "        print(''.join(l))  # Join the list into a string and print it\n",
    "    \n",
    "    # Print the last asterisk\n",
    "    print('*')\n",
    "\n",
    "# Read input and generate the pattern\n",
    "n = int(input(\"Enter the value of n: \"))\n",
    "palindrome_pattern(n)"
   ]
  },
  {
   "cell_type": "markdown",
   "metadata": {},
   "source": [
    "### **35. Generate the aplhabet pattern using nested loops.**\n",
    "\n",
    "#### **Input Description:**\n",
    "\n",
    "Input consists of a string S.where length of the string (S)\n",
    "\n",
    "Where 2<=S<=20.\n",
    "\n",
    "#### **Output Description:**\n",
    "\n",
    "Print the alphabet pattern from the given input string S.\n",
    "\n",
    "**Sample Input:**\n",
    "\n",
    "abcdef\n",
    "\n",
    "**Sample Output:**\n",
    "\n",
    "abcdef\n",
    "b    e\n",
    "c    d\n",
    "d    c\n",
    "e    b\n",
    "fedcba"
   ]
  },
  {
   "cell_type": "code",
   "execution_count": 55,
   "metadata": {},
   "outputs": [
    {
     "name": "stdout",
     "output_type": "stream",
     "text": [
      "abcdef\n",
      "b    e\n",
      "c    d\n",
      "d    c\n",
      "e    b\n",
      "fedcba\n"
     ]
    }
   ],
   "source": [
    "def alphabet_pattern(S):\n",
    "    length = len(S)\n",
    "    if length < 2 or length > 20:\n",
    "        print(\"Invalid input. Length of S should be between 2 and 20.\")\n",
    "        return\n",
    "    \n",
    "    # Print the first line (original string)\n",
    "    print(S)\n",
    "    \n",
    "    # Print the middle lines\n",
    "    for i in range(1, length - 1):\n",
    "        line = S[i] + \" \" * (length - 2) + S[length - 1 - i]\n",
    "        print(line)\n",
    "    \n",
    "    # Print the last line (reversed string)\n",
    "    print(S[::-1])\n",
    "\n",
    "S = input()\n",
    "alphabet_pattern(S)"
   ]
  },
  {
   "cell_type": "markdown",
   "metadata": {},
   "source": [
    "### **36. Write a code to generate a aplhabet pyramid pattern.**\n",
    "\n",
    "#### **Input Description:**\n",
    "\n",
    "Given an integer R indicates number of rows.\n",
    "\n",
    "Where 1<=R<=26.\n",
    "\n",
    "#### **Output Description:**\n",
    "\n",
    "Print the alphabet pyramid pattern according to the given integer R.\n",
    "\n",
    "**Sample Input:**\n",
    "\n",
    "5\n",
    "\n",
    "**Sample Output:**\n",
    "\n",
    "    A\n",
    "   \n",
    "   BAB\n",
    "  \n",
    "  CBABC\n",
    " \n",
    " DCBABCD\n",
    "\n",
    "EDCBABCDE"
   ]
  },
  {
   "cell_type": "code",
   "execution_count": 68,
   "metadata": {},
   "outputs": [
    {
     "name": "stdout",
     "output_type": "stream",
     "text": [
      "    A\n",
      "   BAB\n",
      "  CBABC\n",
      " DCBABCD\n",
      "EDCBABCDE\n"
     ]
    }
   ],
   "source": [
    "def pattern(n):\n",
    "    c = 65  # ASCII value for 'A'\n",
    "    for i in range(1, n + 1):\n",
    "        # Print leading spaces\n",
    "        for j in range(n - i):\n",
    "            print(' ', end=\"\")\n",
    "        \n",
    "        # Print decreasing part of the pattern\n",
    "        for j in range(i - 1, -1, -1):\n",
    "            print(chr(c + j), end=\"\")\n",
    "        \n",
    "        # Print increasing part of the pattern\n",
    "        for j in range(1, i):\n",
    "            print(chr(c + j), end=\"\")\n",
    "        print()\n",
    "\n",
    "n = int(input())\n",
    "pattern(n)"
   ]
  },
  {
   "cell_type": "markdown",
   "metadata": {},
   "source": [
    "### **37. Write a code to generate a right arrow using patterns.**\n",
    "\n",
    "#### **Input Description:**\n",
    "\n",
    "Given an integer R indicates number of rows.\n",
    "\n",
    "Where 1<=R<=100.\n",
    "\n",
    "#### **Output Description:**\n",
    "\n",
    "Print the right arrow pattern using stars based on the given integer R.\n",
    "\n",
    "**Sample Input:**\n",
    "\n",
    "5\n",
    "\n",
    "**Sample Output:**\n",
    "\n",
    "    *\n",
    "   *\n",
    "  *\n",
    " *\n",
    "*****\n",
    " *\n",
    "  *\n",
    "   *\n",
    "    *"
   ]
  },
  {
   "cell_type": "code",
   "execution_count": 38,
   "metadata": {},
   "outputs": [
    {
     "name": "stdout",
     "output_type": "stream",
     "text": [
      "    *\n",
      "   *\n",
      "  *\n",
      " *\n",
      "*****\n",
      " *\n",
      "  *\n",
      "   *\n",
      "    *\n"
     ]
    }
   ],
   "source": [
    "# Method - 1:\n",
    "\n",
    "def pattern(n):\n",
    "    for i in range(n-1):\n",
    "        for j in range(n-i-1):\n",
    "            print(' ', end = \"\")\n",
    "        print('*')\n",
    "    print('*' * n)\n",
    "    for i in range(n-2, -1, -1):\n",
    "        for j in range(n-i-1):\n",
    "            print(' ', end = \"\")\n",
    "        print('*')\n",
    "\n",
    "n = int(input())\n",
    "pattern(n)"
   ]
  },
  {
   "cell_type": "code",
   "execution_count": 64,
   "metadata": {},
   "outputs": [
    {
     "name": "stdout",
     "output_type": "stream",
     "text": [
      "   *\n",
      "  *\n",
      " *\n",
      "*\n",
      "*****\n",
      " *\n",
      "  *\n",
      "   *\n",
      "    *\n"
     ]
    }
   ],
   "source": [
    "# Method - 2:\n",
    "\n",
    "def right_arrow_pattern(R):\n",
    "    if R < 1 or R > 100:\n",
    "        print(\"Invalid input. R should be between 1 and 100.\")\n",
    "        return\n",
    "    \n",
    "    # Upper part of the arrow\n",
    "    for i in range(1, R):\n",
    "        # Print leading spaces\n",
    "        print(\" \" * (R - i - 1), end=\"\")\n",
    "        print(\"*\")\n",
    "    \n",
    "    # Middle part of the arrow\n",
    "    print(\"*\" * R)\n",
    "    \n",
    "    # Lower part of the arrow\n",
    "    for i in range(1, R):\n",
    "        # Print leading spaces\n",
    "        print(\" \" * i, end=\"\")\n",
    "        print(\"*\")\n",
    "\n",
    "R = int(input())\n",
    "right_arrow_pattern(R)"
   ]
  },
  {
   "cell_type": "markdown",
   "metadata": {},
   "source": [
    "### **38. Write a code to generate a left arrow pattern using stars.**\n",
    "\n",
    "#### **Input Description:**\n",
    "\n",
    "Given an integer R indicates number of rows.\n",
    "\n",
    "Where 1<=R<=100.\n",
    "\n",
    "#### **Output Description:**\n",
    "\n",
    "Print the left arrow pattern based on the given integer R.\n",
    "\n",
    "**Sample Input:**\n",
    "\n",
    "5\n",
    "\n",
    "**Sample Output:**\n",
    "\n",
    "*\n",
    " *\n",
    "  *\n",
    "   *\n",
    "*****\n",
    "   *\n",
    "  *\n",
    " *\n",
    "*"
   ]
  },
  {
   "cell_type": "code",
   "execution_count": 39,
   "metadata": {},
   "outputs": [
    {
     "name": "stdout",
     "output_type": "stream",
     "text": [
      "*\n",
      " *\n",
      "  *\n",
      "   *\n",
      "*****\n",
      "   *\n",
      "  *\n",
      " *\n",
      "*\n"
     ]
    }
   ],
   "source": [
    "# Method - 1:\n",
    "\n",
    "def pattern(n):\n",
    "    for i in range(n-1):\n",
    "        for j in range(i):\n",
    "            print(' ', end = \"\")\n",
    "        print('*')\n",
    "    print('*' * n)\n",
    "    for i in range(n-2, -1, -1):\n",
    "        for j in range(i):\n",
    "            print(' ', end = \"\")\n",
    "        print('*')\n",
    "\n",
    "n = int(input())\n",
    "pattern(n)"
   ]
  },
  {
   "cell_type": "code",
   "execution_count": 65,
   "metadata": {},
   "outputs": [
    {
     "name": "stdout",
     "output_type": "stream",
     "text": [
      "*\n",
      " *\n",
      "  *\n",
      "   *\n",
      "    *\n",
      "*****\n",
      "    *\n",
      "   *\n",
      "  *\n",
      " *\n",
      "*\n"
     ]
    }
   ],
   "source": [
    "def left_arrow_pattern(R):\n",
    "    if R < 1 or R > 100:\n",
    "        print(\"Invalid input. R should be between 1 and 100.\")\n",
    "        return\n",
    "    \n",
    "    # Upper part of the arrow\n",
    "    for i in range(R):\n",
    "        # Print leading spaces\n",
    "        print(\" \" * i, end=\"\")\n",
    "        \n",
    "        # Print star\n",
    "        print(\"*\")\n",
    "    \n",
    "    # Middle part of the arrow\n",
    "    print(\"*\" * R)\n",
    "    \n",
    "    # Lower part of the arrow\n",
    "    for i in range(R - 1, -1, -1):\n",
    "        # Print leading spaces\n",
    "        print(\" \" * i, end=\"\")\n",
    "        \n",
    "        # Print star\n",
    "        print(\"*\")\n",
    "\n",
    "R = int(input())\n",
    "left_arrow_pattern(R)"
   ]
  },
  {
   "cell_type": "markdown",
   "metadata": {},
   "source": [
    "### **39. Write a code to generate a pyramid pattern on numbers.**\n",
    "\n",
    "#### **Input Description:**\n",
    "\n",
    "Given an integer R indicates number of rows.\n",
    "\n",
    "Where 1<=R<=100.\n",
    "\n",
    "#### **Output Description:**\n",
    "\n",
    "Print the pyramid number pattern based on the given integer R.\n",
    "\n",
    "**Sample Input:**\n",
    "\n",
    "5\n",
    "\n",
    "**Sample Output:**\n",
    "\n",
    "    0\n",
    "   \n",
    "   101\n",
    "  \n",
    "  21012\n",
    " \n",
    " 3210123\n",
    "\n",
    "432101234"
   ]
  },
  {
   "cell_type": "code",
   "execution_count": 66,
   "metadata": {},
   "outputs": [
    {
     "name": "stdout",
     "output_type": "stream",
     "text": [
      "    0\n",
      "   101\n",
      "  21012\n",
      " 3210123\n",
      "432101234\n"
     ]
    }
   ],
   "source": [
    "def number_pyramid(R):\n",
    "    if R < 1 or R > 100:\n",
    "        print(\"Invalid input. R should be between 1 and 100.\")\n",
    "        return\n",
    "    \n",
    "    # Loop through each row\n",
    "    for i in range(R):\n",
    "        # Print leading spaces\n",
    "        print(\" \" * (R - i - 1), end=\"\")\n",
    "        \n",
    "        # Print numbers in decreasing order\n",
    "        for j in range(i, -1, -1):\n",
    "            print(j, end=\"\")\n",
    "        \n",
    "        # Print numbers in increasing order (excluding the first zero)\n",
    "        for j in range(1, i + 1):\n",
    "            print(j, end=\"\")\n",
    "        print()\n",
    "\n",
    "R = int(input())\n",
    "number_pyramid(R)"
   ]
  },
  {
   "cell_type": "markdown",
   "metadata": {},
   "source": [
    "### **40. Write a code to generate a half pyramid pattern using numbers.**\n",
    "\n",
    "#### **Input Description:**\n",
    "\n",
    "Given an integer R indicates number of rows.\n",
    "\n",
    "Where 1<=R<=100.\n",
    "\n",
    "#### **Output Description:**\n",
    "\n",
    "Print the number half pyramid pattern with the size R.\n",
    "\n",
    "**Sample Input:**\n",
    "\n",
    "5\n",
    "\n",
    "**Sample Output:**\n",
    "\n",
    "1\n",
    "\n",
    "24\n",
    "\n",
    "135\n",
    "\n",
    "2468\n",
    "\n",
    "13579"
   ]
  },
  {
   "cell_type": "code",
   "execution_count": 67,
   "metadata": {},
   "outputs": [
    {
     "name": "stdout",
     "output_type": "stream",
     "text": [
      "1\n",
      "24\n",
      "135\n",
      "2468\n",
      "13579\n"
     ]
    }
   ],
   "source": [
    "def number_half_pyramid(R):\n",
    "    if R < 1 or R > 100:\n",
    "        print(\"Invalid input. R should be between 1 and 100.\")\n",
    "        return\n",
    "    \n",
    "    # Loop through each row\n",
    "    for i in range(1, R + 1):\n",
    "        # Check if the row is even or odd\n",
    "        if i % 2 == 0:\n",
    "            # Even row: print even numbers\n",
    "            for j in range(1, i + 1):\n",
    "                print(j * 2, end=\"\")\n",
    "        else:\n",
    "            # Odd row: print odd numbers\n",
    "            for j in range(i):\n",
    "                print(j * 2 + 1, end=\"\")\n",
    "        \n",
    "        # Move to the next line after each row is printed\n",
    "        print()\n",
    "\n",
    "R = int(input())\n",
    "number_half_pyramid(R)"
   ]
  },
  {
   "cell_type": "markdown",
   "metadata": {},
   "source": [
    "### **41. Write a code to generate a aplhabet half pyramid pattern.**\n",
    "\n",
    "#### **Input Description:**\n",
    "\n",
    "Given an integer R indicates number of rows.\n",
    "\n",
    "Where 1<=R<=26.\n",
    "\n",
    "#### **Output Description:**\n",
    "\n",
    "Print the alphabet half pyramid pattern according to the given integer R.\n",
    "\n",
    "**Sample Input:**\n",
    "\n",
    "5\n",
    "\n",
    "**Sample Output:**\n",
    "\n",
    "ABCDE\n",
    "\n",
    " ABCD\n",
    "\n",
    "  ABC\n",
    "\n",
    "   AB\n",
    "\n",
    "    A"
   ]
  },
  {
   "cell_type": "code",
   "execution_count": 69,
   "metadata": {},
   "outputs": [
    {
     "name": "stdout",
     "output_type": "stream",
     "text": [
      "ABCDE\n",
      " ABCD\n",
      "  ABC\n",
      "   AB\n",
      "    A\n"
     ]
    }
   ],
   "source": [
    "def alphabet_half_pyramid(R):\n",
    "    if R < 1 or R > 26:\n",
    "        print(\"Invalid input. R should be between 1 and 26.\")\n",
    "        return\n",
    "    \n",
    "    c = 65  # ASCII value for 'A'\n",
    "    \n",
    "    for i in range(R):\n",
    "        # Print leading spaces\n",
    "        print(\" \" * i, end=\"\")\n",
    "        \n",
    "        # Print the alphabets\n",
    "        for j in range(R - i):\n",
    "            print(chr(c + j), end=\"\")\n",
    "        \n",
    "        # Move to the next line after each row is printed\n",
    "        print()\n",
    "\n",
    "R = int(input())\n",
    "alphabet_half_pyramid(R)"
   ]
  },
  {
   "cell_type": "markdown",
   "metadata": {},
   "source": [
    "### **42. Write a code to generate a half pyramid pattern using numbers.**\n",
    "\n",
    "#### **Input Description:**\n",
    "\n",
    "Given an integer R indicates number of rows.\n",
    "\n",
    "Where 1<=R<=100\n",
    "\n",
    "#### **Output Description:**\n",
    "\n",
    "Print the number half pyramid pattern with the size R.\n",
    "\n",
    "**Sample Input:**\n",
    "\n",
    "5\n",
    "\n",
    "**Sample Output:**\n",
    "\n",
    "5\n",
    "\n",
    "45\n",
    "\n",
    "345\n",
    "\n",
    "2345\n",
    "\n",
    "12345"
   ]
  },
  {
   "cell_type": "code",
   "execution_count": 70,
   "metadata": {},
   "outputs": [
    {
     "name": "stdout",
     "output_type": "stream",
     "text": [
      "5\n",
      "45\n",
      "345\n",
      "2345\n",
      "12345\n"
     ]
    }
   ],
   "source": [
    "def generate_half_pyramid(R):\n",
    "    for i in range(1, R + 1):\n",
    "        for j in range(R - i + 1, R + 1):\n",
    "            print(j, end=\"\")\n",
    "        print()\n",
    "\n",
    "R = int(input())\n",
    "generate_half_pyramid(R)"
   ]
  },
  {
   "cell_type": "markdown",
   "metadata": {},
   "source": [
    "### **43. Write a code to generate an hollow rhombus Pattern using stars.**\n",
    "\n",
    "#### **Input Description:**\n",
    "\n",
    "Given an integer R indicates number of rows.\n",
    "\n",
    "Where 1<=R<=100.\n",
    "\n",
    "#### **Output Description:**\n",
    "\n",
    "Print the solid rhombus using stars with the size R.\n",
    "\n",
    "**Sample Input:**\n",
    "\n",
    "4\n",
    "\n",
    "**Sample Output:**\n",
    "\n",
    "   ****\n",
    "  *  *\n",
    " *  *\n",
    "****"
   ]
  },
  {
   "cell_type": "code",
   "execution_count": 71,
   "metadata": {},
   "outputs": [
    {
     "name": "stdout",
     "output_type": "stream",
     "text": [
      "   ****\n",
      "  *  *\n",
      " *  *\n",
      "****\n"
     ]
    }
   ],
   "source": [
    "def generate_hollow_rhombus(R):\n",
    "    for i in range(1, R + 1):\n",
    "        # Print leading spaces\n",
    "        for j in range(R - i):\n",
    "            print(\" \", end=\"\")\n",
    "        # Print the stars and spaces for the hollow rhombus\n",
    "        for j in range(1, R + 1):\n",
    "            if i == 1 or i == R or j == 1 or j == R:\n",
    "                print(\"*\", end=\"\")\n",
    "            else:\n",
    "                print(\" \", end=\"\")\n",
    "        print()\n",
    "\n",
    "R = int(input())\n",
    "generate_hollow_rhombus(R)"
   ]
  },
  {
   "cell_type": "markdown",
   "metadata": {},
   "source": [
    "### **44. Write a code to generate the following pattern.**\n",
    "\n",
    "#### **Input Description:**\n",
    "\n",
    "Given an even integer R indicates number of stars in first and last row.R is always an even number.\n",
    "\n",
    "Where 2<=R<=100.\n",
    "\n",
    "#### **Output Description:**\n",
    "\n",
    "Print the pattern based on the given integer R.\n",
    "\n",
    "**Sample Input:**\n",
    "\n",
    "10\n",
    "\n",
    "**Sample Output:**\n",
    "\n",
    "**********\n",
    "\n",
    "****bb****\n",
    "\n",
    "***bbbb***\n",
    "\n",
    "**bbbbbb**\n",
    "\n",
    "*bbbbbbbb*\n",
    "\n",
    "**bbbbbb**\n",
    "\n",
    "***bbbb***\n",
    "\n",
    "****bb****\n",
    "\n",
    "**********"
   ]
  },
  {
   "cell_type": "code",
   "execution_count": 35,
   "metadata": {},
   "outputs": [
    {
     "name": "stdout",
     "output_type": "stream",
     "text": [
      "**********\n",
      "****bb****\n",
      "***bbbb***\n",
      "**bbbbbb**\n",
      "*bbbbbbbb*\n",
      "**bbbbbb**\n",
      "***bbbb***\n",
      "****bb****\n",
      "**********\n"
     ]
    }
   ],
   "source": [
    "n = int(input())\n",
    "n = n // 2\n",
    "\n",
    "# Upper half of the pattern\n",
    "for i in range(n - 1):\n",
    "    # Print the first set of asterisks\n",
    "    for j in range(i, n):\n",
    "        print(\"*\", end=\"\")\n",
    "    # Print the first set of 'b'\n",
    "    for j in range(i):\n",
    "        print(\"b\", end=\"\")\n",
    "    # Print the second set of 'b'\n",
    "    for j in range(i):\n",
    "        print(\"b\", end=\"\")\n",
    "    # Print the second set of asterisks\n",
    "    for j in range(i, n):\n",
    "        print(\"*\", end=\"\")\n",
    "    # Move to the next line\n",
    "    print()\n",
    "\n",
    "# Lower half of the pattern\n",
    "for i in range(n):\n",
    "    # Print the first set of asterisks\n",
    "    for j in range(i + 1):\n",
    "        print(\"*\", end=\"\")\n",
    "    # Print the first set of 'b'\n",
    "    for j in range(i, n - 1):\n",
    "        print(\"b\", end=\"\")\n",
    "    # Print the second set of 'b'\n",
    "    for j in range(i + 1, n):\n",
    "        print(\"b\", end=\"\")\n",
    "    # Print the second set of asterisks\n",
    "    for j in range(i + 1):\n",
    "        print(\"*\", end=\"\")\n",
    "    # Move to the next line\n",
    "    print()"
   ]
  },
  {
   "cell_type": "markdown",
   "metadata": {},
   "source": [
    "### **45. Write a code to generate a square pattern using numbers.**\n",
    "\n",
    "#### **Input Description:**\n",
    "\n",
    "Given an integer R indicates number of R*2-1 rows.\n",
    "\n",
    "Where 1<=R<=100.\n",
    "\n",
    "#### **Output Description:**\n",
    "\n",
    "Print the square pyramid number based on the given integer R.\n",
    "\n",
    "**Sample Input:**\n",
    "\n",
    "5\n",
    "\n",
    "**Sample Output:**\n",
    "\n",
    "1\n",
    "\n",
    "1 4\n",
    "\n",
    "1 4 9\n",
    "\n",
    "1 4 9 16\n",
    "\n",
    "1 4 9 16 25\n",
    "\n",
    "1 4 9 16\n",
    "\n",
    "1 4 9\n",
    "\n",
    "1 4\n",
    "\n",
    "1"
   ]
  },
  {
   "cell_type": "code",
   "execution_count": 73,
   "metadata": {},
   "outputs": [
    {
     "name": "stdout",
     "output_type": "stream",
     "text": [
      "1\n",
      "1 4\n",
      "1 4 9\n",
      "1 4 9 16\n",
      "1 4 9 16 25\n",
      "1 4 9 16\n",
      "1 4 9\n",
      "1 4\n",
      "1\n"
     ]
    }
   ],
   "source": [
    "# Method - 1:\n",
    "def pattern(n):\n",
    "    for i in range(1, n+1):\n",
    "        l = []\n",
    "        for j in range(1, i+1):\n",
    "            l.append(j**2)\n",
    "        print(*l)\n",
    "    for i in range(n-1, 0, -1):\n",
    "        l = []\n",
    "        for j in range(1, i+1):\n",
    "            l.append(j**2)\n",
    "        print(*l)\n",
    "n = int(input())\n",
    "pattern(n)"
   ]
  },
  {
   "cell_type": "code",
   "execution_count": 72,
   "metadata": {},
   "outputs": [
    {
     "name": "stdout",
     "output_type": "stream",
     "text": [
      "1 \n",
      "1 4 \n",
      "1 4 9 \n",
      "1 4 9 16 \n",
      "1 4 9 16 25 \n",
      "1 4 9 16 \n",
      "1 4 9 \n",
      "1 4 \n",
      "1 \n"
     ]
    }
   ],
   "source": [
    "# Method - 2:\n",
    "def generate_square_pattern(R):\n",
    "    # Upper part of the pattern\n",
    "    for i in range(1, R + 1):\n",
    "        for j in range(1, i + 1):\n",
    "            print(j * j, end=\" \")\n",
    "        print()\n",
    "    \n",
    "    # Lower part of the pattern\n",
    "    for i in range(R - 1, 0, -1):\n",
    "        for j in range(1, i + 1):\n",
    "            print(j * j, end=\" \")\n",
    "        print()\n",
    "\n",
    "R = int(input())\n",
    "generate_square_pattern(R)"
   ]
  },
  {
   "cell_type": "markdown",
   "metadata": {},
   "source": [
    "### **46. Write a code to generate a pyramid pattern on numbers.**\n",
    "\n",
    "#### **Input Description:**\n",
    "\n",
    "Given an integer R indicates number of rows.\n",
    "\n",
    "Where 1<=R<=100.\n",
    "\n",
    "#### **Output Description:**\n",
    "\n",
    "Print the pyramid number pattern based on the given integer R.\n",
    "\n",
    "**Sample Input:**\n",
    "\n",
    "5\n",
    "\n",
    "**Sample Output:**\n",
    "\n",
    "999999999\n",
    "\n",
    " 7777777\n",
    "\n",
    "  55555\n",
    "\n",
    "   333\n",
    "\n",
    "    1"
   ]
  },
  {
   "cell_type": "code",
   "execution_count": 1,
   "metadata": {},
   "outputs": [
    {
     "name": "stdout",
     "output_type": "stream",
     "text": [
      "999999999\n",
      " 7777777\n",
      "  55555\n",
      "   333\n",
      "    1\n"
     ]
    }
   ],
   "source": [
    "# Method - 1:\n",
    "\n",
    "n = int(input())  # Read the number of rows\n",
    "p = (n * 2) - 1  # Calculate the starting number\n",
    "\n",
    "for i in range(n):  # Loop for each row\n",
    "    # Print leading spaces\n",
    "    for j in range(i):\n",
    "        print(\" \", end=\"\")\n",
    "\n",
    "    # Print the number `p` for the remaining columns in the row\n",
    "    for j in range(i, n - 1):\n",
    "        print(p, end=\"\")\n",
    "\n",
    "    for j in range(i, n):\n",
    "        print(p, end=\"\")\n",
    "\n",
    "    # Decrement the number to be printed in the next row\n",
    "    p -= 2\n",
    "    print()"
   ]
  },
  {
   "cell_type": "code",
   "execution_count": 75,
   "metadata": {},
   "outputs": [
    {
     "name": "stdout",
     "output_type": "stream",
     "text": [
      "999999999\n",
      " 7777777\n",
      "  55555\n",
      "   333\n",
      "    1\n"
     ]
    }
   ],
   "source": [
    "# Method - 2:\n",
    "\n",
    "def generate_number_pyramid(R):\n",
    "    current_number = 9\n",
    "    for i in range(R, 0, -1):\n",
    "        # Print leading spaces\n",
    "        for _ in range(R - i):\n",
    "            print(\" \", end=\"\")\n",
    "        # Print numbers\n",
    "        for _ in range(2 * i - 1):\n",
    "            print(current_number, end=\"\")\n",
    "        print()\n",
    "        current_number -= 2\n",
    "\n",
    "R = int(input())\n",
    "generate_number_pyramid(R)"
   ]
  },
  {
   "cell_type": "markdown",
   "metadata": {},
   "source": [
    "### **47. Write a code to generate a aplhabet pyramid pattern.**\n",
    "\n",
    "#### **Input Description:**\n",
    "\n",
    "Given an integer R indicates number of rows.\n",
    "\n",
    "Where 1<=R<=26.\n",
    "\n",
    "#### **Output Description:**\n",
    "\n",
    "Print the alphabet pyramid pattern according to the given integer R.\n",
    "\n",
    "**Sample Input:**\n",
    "\n",
    "5\n",
    "\n",
    "**Sample Output:**\n",
    "\n",
    "    A\n",
    "\n",
    "   BBB\n",
    "\n",
    "  CCCCC\n",
    "\n",
    " DDDDDDD\n",
    "\n",
    "EEEEEEEEE"
   ]
  },
  {
   "cell_type": "code",
   "execution_count": 2,
   "metadata": {},
   "outputs": [
    {
     "name": "stdout",
     "output_type": "stream",
     "text": [
      "    A\n",
      "   BBB\n",
      "  CCCCC\n",
      " DDDDDDD\n",
      "EEEEEEEEE\n"
     ]
    }
   ],
   "source": [
    "def pattern(n):\n",
    "    c = 65  # ASCII value for 'A'\n",
    "    for i in range(n):\n",
    "        # Print leading spaces\n",
    "        for j in range(n - i - 1):\n",
    "            print(' ', end=\"\")\n",
    "        \n",
    "        # Print the current alphabet character (2*i + 1) times\n",
    "        for j in range((2 * i) + 1):\n",
    "            print(chr(c + i), end=\"\")\n",
    "        \n",
    "        # Move to the next line\n",
    "        print()\n",
    "\n",
    "n = int(input())\n",
    "pattern(n)"
   ]
  },
  {
   "cell_type": "markdown",
   "metadata": {},
   "source": [
    "### **48. Write a code to generate a half pyramid number pattern.**\n",
    "\n",
    "#### **Input Description:**\n",
    "\n",
    "Given an integer R indicates number of rows.\n",
    "\n",
    "Where 1<=R<=100\n",
    "\n",
    "#### **Output Description:**\n",
    "\n",
    "Print the number half pyramid pattern based on the given integer R.\n",
    "\n",
    "**Sample Input:**\n",
    "\n",
    "5\n",
    "\n",
    "**Sample Output:**\n",
    "\n",
    "1\n",
    "\n",
    "2 4\n",
    "\n",
    "1 3 5\n",
    "\n",
    "2 4 6 8\n",
    "\n",
    "1 3 5 7 9"
   ]
  },
  {
   "cell_type": "code",
   "execution_count": 3,
   "metadata": {},
   "outputs": [
    {
     "name": "stdout",
     "output_type": "stream",
     "text": [
      "1\n",
      "2 4\n",
      "1 3 5\n",
      "2 4 6 8\n",
      "1 3 5 7 9\n"
     ]
    }
   ],
   "source": [
    "def pattern(n):\n",
    "    o = ['1']\n",
    "    e = ['2']\n",
    "    for i in range(1, n+1):\n",
    "        if i % 2 == 1:\n",
    "            print(*o)\n",
    "        else:\n",
    "            print(*e)\n",
    "        o.append(str(int(o[-1]) + 2))\n",
    "        e.append(str(int(e[-1]) + 2))\n",
    "            \n",
    "n = int(input())\n",
    "pattern(n)"
   ]
  },
  {
   "cell_type": "code",
   "execution_count": 4,
   "metadata": {},
   "outputs": [
    {
     "name": "stdout",
     "output_type": "stream",
     "text": [
      "1 \n",
      "2 4 \n",
      "1 3 5 \n",
      "2 4 6 8 \n",
      "1 3 5 7 9 \n"
     ]
    }
   ],
   "source": [
    "def half_pyramid_number_pattern(R):\n",
    "    for i in range(1, R + 1):\n",
    "        if i % 2 == 1:\n",
    "            # Odd row: Print odd numbers\n",
    "            for j in range(i):\n",
    "                print(2 * j + 1, end=\" \")\n",
    "        else:\n",
    "            # Even row: Print even numbers\n",
    "            for j in range(1, i + 1):\n",
    "                print(2 * j, end=\" \")\n",
    "        print()\n",
    "\n",
    "R = int(input())\n",
    "half_pyramid_number_pattern(R)"
   ]
  },
  {
   "cell_type": "markdown",
   "metadata": {},
   "source": [
    "### **49. Write a code to generate a alphabet pyramid pattern.**\n",
    "\n",
    "#### **Input Description:**\n",
    "\n",
    "Given an integer R indicates number of rows.\n",
    "\n",
    "Where 1<=R<=26.\n",
    "\n",
    "#### **Output Description:**\n",
    "\n",
    "Print the alphabet pyramid pattern according to the given integer R.\n",
    "\n",
    "**Sample Input:**\n",
    "\n",
    "5\n",
    "\n",
    "**Sample Output:**\n",
    "\n",
    "    A\n",
    "\n",
    "   ABC\n",
    "\n",
    "  ABCDE\n",
    "\n",
    " ABCDEFG\n",
    "\n",
    "ABCDEFGHI"
   ]
  },
  {
   "cell_type": "code",
   "execution_count": 6,
   "metadata": {},
   "outputs": [
    {
     "name": "stdout",
     "output_type": "stream",
     "text": [
      "    A\n",
      "   ABC\n",
      "  ABCDE\n",
      " ABCDEFG\n",
      "ABCDEFGHI\n"
     ]
    }
   ],
   "source": [
    "# Method - 1:\n",
    "\n",
    "n = int(input())\n",
    "\n",
    "for i in range(n):\n",
    "  p=65\n",
    "  for j in range(i+1, n):\n",
    "    print(\" \", end=\"\")\n",
    "  \n",
    "  for j in range (i):\n",
    "    print(chr(p), end=\"\")\n",
    "    p=p+1\n",
    "  for j in range (i+1):\n",
    "    print(chr(p), end=\"\")\n",
    "    p=p+1\n",
    "  print()"
   ]
  },
  {
   "cell_type": "code",
   "execution_count": 5,
   "metadata": {},
   "outputs": [
    {
     "name": "stdout",
     "output_type": "stream",
     "text": [
      "    A\n",
      "   ABC\n",
      "  ABCDE\n",
      " ABCDEFG\n",
      "ABCDEFGHI\n"
     ]
    }
   ],
   "source": [
    "# Method - 2:\n",
    "\n",
    "def alphabet_pyramid(R):\n",
    "    for i in range(R):\n",
    "        # Print leading spaces\n",
    "        for j in range(R - i - 1):\n",
    "            print(' ', end='')\n",
    "        \n",
    "        # Print alphabet characters\n",
    "        for j in range(2 * i + 1):\n",
    "            print(chr(65 + j), end='')\n",
    "        \n",
    "        # Move to the next line\n",
    "        print()\n",
    "\n",
    "# number of rows\n",
    "R = int(input(\"Enter the number of rows: \"))\n",
    "alphabet_pyramid(R)"
   ]
  },
  {
   "cell_type": "markdown",
   "metadata": {},
   "source": [
    "### **50. Write a code to generate a square pattern using numbers.**\n",
    "\n",
    "#### **Input Description:**\n",
    "\n",
    "Given an integer R indicates number of rows.\n",
    "\n",
    "Where 1<=R<=100.\n",
    "\n",
    "#### **Output Description:**\n",
    "\n",
    "Print the number pattern separated with space with the size R.\n",
    "\n",
    "**Sample Input:**\n",
    "\n",
    "5\n",
    "\n",
    "**Sample Output:**\n",
    "\n",
    "5 5 5 5 5\n",
    "\n",
    "4 5 5 5 5\n",
    "\n",
    "3 4 5 5 5\n",
    "\n",
    "2 3 4 5 5\n",
    "\n",
    "1 2 3 4 5"
   ]
  },
  {
   "cell_type": "code",
   "execution_count": 7,
   "metadata": {},
   "outputs": [
    {
     "name": "stdout",
     "output_type": "stream",
     "text": [
      "5 5 5 5 5\n",
      "4 5 5 5 5\n",
      "3 4 5 5 5\n",
      "2 3 4 5 5\n",
      "1 2 3 4 5\n"
     ]
    }
   ],
   "source": [
    "n=int(input())\n",
    "k=n\n",
    "for i in range(n): #rows\n",
    "  p=k\n",
    "  l=[]\n",
    "  for j in range(i+1): #cols\n",
    "    #print(p, end=\" \")\n",
    "    l.append(p)\n",
    "    p+=1\n",
    "\n",
    "  for j in range (i, n-1):\n",
    "    #print(n, end=\" \")\n",
    "    l.append(n)\n",
    "  k-=1\n",
    "  print(*l)"
   ]
  },
  {
   "cell_type": "code",
   "execution_count": 12,
   "metadata": {},
   "outputs": [
    {
     "name": "stdout",
     "output_type": "stream",
     "text": [
      "5 5 5 5 5 \n",
      "1 5 5 5 5 \n",
      "2 1 5 5 5 \n",
      "3 2 1 5 5 \n",
      "4 3 2 1 5 \n",
      "None\n"
     ]
    }
   ],
   "source": [
    "def number_square_pattern(R):\n",
    "    for i in range(R):\n",
    "        for j in range(R):\n",
    "            if j < i:\n",
    "                print(i - j, end=' ')\n",
    "            else:\n",
    "                print(R, end=' ')\n",
    "        print()\n",
    "\n",
    "R = int(input())\n",
    "print(number_square_pattern(R))"
   ]
  },
  {
   "cell_type": "markdown",
   "metadata": {},
   "source": [
    "### **51. Write a code to generate a triangle character pattern.**\n",
    "\n",
    "#### **Input Description:**\n",
    "\n",
    "Given an integer R indicates number of rows.\n",
    "\n",
    "Where 1<=R<=26.\n",
    "\n",
    "#### **Output Description:**\n",
    "\n",
    "Print the alphabet pyramid pattern according to the given integer R.\n",
    "\n",
    "**Sample Input:**\n",
    "\n",
    "5\n",
    "\n",
    "**Sample Output:**\n",
    "\n",
    "    A\n",
    "\n",
    "   A B\n",
    "\n",
    "  A B C\n",
    "\n",
    " A B C D\n",
    "\n",
    "A B C D E"
   ]
  },
  {
   "cell_type": "code",
   "execution_count": 14,
   "metadata": {},
   "outputs": [
    {
     "name": "stdout",
     "output_type": "stream",
     "text": [
      "    A \n",
      "   A B \n",
      "  A B C \n",
      " A B C D \n",
      "A B C D E \n"
     ]
    }
   ],
   "source": [
    "def pattern(n):\n",
    "    c = 65\n",
    "    for i in range(n):\n",
    "        # Print leading spaces\n",
    "        for j in range(n - i - 1):\n",
    "            print(' ', end='')\n",
    "        \n",
    "        # Print alphabet characters separated by space\n",
    "        for k in range(i + 1):\n",
    "            print(chr(c + k), end=' ')\n",
    "        \n",
    "        # Move to the next line\n",
    "        print()\n",
    "\n",
    "n = int(input())\n",
    "pattern(n)"
   ]
  },
  {
   "cell_type": "markdown",
   "metadata": {},
   "source": [
    "### **52. Write a code to generate a number half pyramid pattern.**\n",
    "\n",
    "#### **Input Description:**\n",
    "\n",
    "Given an integer R indicates number of rows.\n",
    "\n",
    "Where 1<=R<=100\n",
    "\n",
    "#### **Output Description:**\n",
    "\n",
    "Print the number half pyramid pattern based on the given integer R.\n",
    "\n",
    "**Sample Input:**\n",
    "\n",
    "5\n",
    "\n",
    "**Sample Output:**\n",
    "\n",
    "1\n",
    "\n",
    "2 9\n",
    "\n",
    "3 8 10\n",
    "\n",
    "4 7 11 14\n",
    "\n",
    "5 6 12 13 15"
   ]
  },
  {
   "cell_type": "code",
   "execution_count": 45,
   "metadata": {},
   "outputs": [
    {
     "name": "stdout",
     "output_type": "stream",
     "text": [
      "1 \n",
      "2 9 \n",
      "3 8 10 \n",
      "4 7 11 14 \n",
      "5 6 12 13 15 \n"
     ]
    }
   ],
   "source": [
    "n = int(input())\n",
    "\n",
    "for i in range(n):\n",
    "    for j in range(i + 1):\n",
    "        x = 0\n",
    "        for k in range(j):\n",
    "            x = x + n - k\n",
    "        if j % 2 == 0:\n",
    "            print(x + i - j + 1, end=\" \")\n",
    "        else:\n",
    "            print(x + n - i, end=\" \")\n",
    "    print()"
   ]
  },
  {
   "cell_type": "markdown",
   "metadata": {},
   "source": [
    "### **53. Generate the following pattern.**\n",
    "\n",
    "#### **Input Description:**\n",
    "\n",
    "Input consists of a single integer that corresponds to n, the number of rows.\n",
    "\n",
    "where 1<=n<=100.\n",
    "\n",
    "#### **Output Description:**\n",
    "\n",
    "Print the character pattern from the given input n.\n",
    "\n",
    "**Sample Input:**\n",
    "\n",
    "5\n",
    "\n",
    "**Sample Output:**\n",
    "\n",
    "*****\n",
    "\n",
    "b****\n",
    "\n",
    "bb***\n",
    "\n",
    "bbb**\n",
    "\n",
    "bbbb*"
   ]
  },
  {
   "cell_type": "code",
   "execution_count": 46,
   "metadata": {},
   "outputs": [
    {
     "name": "stdout",
     "output_type": "stream",
     "text": [
      "*****\n",
      "b****\n",
      "bb***\n",
      "bbb**\n",
      "bbbb*\n"
     ]
    }
   ],
   "source": [
    "n = int(input())\n",
    "\n",
    "for i in range(n):\n",
    "    # Print 'b' characters\n",
    "    for j in range(i):\n",
    "        print(\"b\", end=\"\")\n",
    "    \n",
    "    # Print '*' characters\n",
    "    for j in range(i, n):\n",
    "        print(\"*\", end=\"\")\n",
    "    \n",
    "    # Move to the next line\n",
    "    print()"
   ]
  },
  {
   "cell_type": "markdown",
   "metadata": {},
   "source": [
    "### **54. Write a code to generate the X form of a number pattern.**\n",
    "\n",
    "#### **Input Description:**\n",
    "\n",
    "Given an integer N indicates X pattern.\n",
    "\n",
    "Where 1<=N<=100.\n",
    "\n",
    "#### **Output Description:**\n",
    "\n",
    "Print the numbers in X form based on the given integer N.\n",
    "\n",
    "Where 1<=N<=100\n",
    "\n",
    "**Sample Input:**\n",
    "\n",
    "5\n",
    "\n",
    "**Sample Output:**\n",
    "\n",
    "1       1\n",
    "\n",
    " 2     2\n",
    "\n",
    "  3   3\n",
    "\n",
    "   4 4\n",
    "\n",
    "    5\n",
    "\n",
    "   4 4\n",
    "\n",
    "  3   3\n",
    "\n",
    " 2     2\n",
    "\n",
    "1       1"
   ]
  },
  {
   "cell_type": "code",
   "execution_count": 56,
   "metadata": {},
   "outputs": [
    {
     "name": "stdout",
     "output_type": "stream",
     "text": [
      "1       1\n",
      " 2     2\n",
      "  3   3\n",
      "   4 4\n",
      "    5\n",
      "   4 4\n",
      "  3   3\n",
      " 2     2\n",
      "1       1\n"
     ]
    }
   ],
   "source": [
    "# Method - 1:\n",
    "\n",
    "def pattern(n):\n",
    "    for i in range(1, n+1):\n",
    "        for j in range(i-1):\n",
    "            print(' ', end = \"\")\n",
    "        print(i, end = \"\")\n",
    "        for j in range(2*(n-i)-1):\n",
    "            print(' ', end = \"\")            \n",
    "        if i != n: print(i)\n",
    "        else: print()\n",
    "    for i in range(n-1, 0, -1):\n",
    "        for j in range(i-1):\n",
    "            print(' ', end = \"\")\n",
    "        print(i, end = \"\")\n",
    "        for j in range(2*(n-i)-1):\n",
    "            print(' ', end = \"\")            \n",
    "        if i != n: print(i)\n",
    "        else: print()\n",
    "            \n",
    "n = int(input())\n",
    "pattern(n)"
   ]
  },
  {
   "cell_type": "code",
   "execution_count": 16,
   "metadata": {},
   "outputs": [
    {
     "name": "stdout",
     "output_type": "stream",
     "text": [
      "1       1\n",
      " 2     2 \n",
      "  3   3  \n",
      "   4 4   \n",
      "    5    \n",
      "   6 6   \n",
      "  7   7  \n",
      " 8     8 \n",
      "9       9\n"
     ]
    }
   ],
   "source": [
    "# Method - 2:\n",
    "\n",
    "def generate_cross_pattern(N):\n",
    "    count = N * 2 - 1\n",
    "\n",
    "    for i in range(1, count + 1):\n",
    "        for j in range(1, count + 1):\n",
    "            if j == i or j == count - i + 1:\n",
    "                print(i, end=\"\")\n",
    "            else:\n",
    "                print(\" \", end=\"\")\n",
    "        print()\n",
    "\n",
    "N = int(input())\n",
    "generate_cross_pattern(N)"
   ]
  },
  {
   "cell_type": "markdown",
   "metadata": {},
   "source": [
    "### **55. Write a code to generate a butterfly pattern printing using stars.**\n",
    "\n",
    "#### **Input Description:**\n",
    "\n",
    "Given an integer R indicates number of rows.\n",
    "\n",
    "Where 1<=R<=100.\n",
    "\n",
    "#### **Output Description:**\n",
    "\n",
    "Print the butterfly pattern printing using stars based on the given integer R.\n",
    "\n",
    "**Sample Input:**\n",
    "\n",
    "5\n",
    "\n",
    "**Sample Output:**\n",
    "\n",
    "*        *\n",
    "**      **\n",
    "***    ***\n",
    "****  ****\n",
    "**********\n",
    "**********\n",
    "****  ****\n",
    "***    ***\n",
    "**      **\n",
    "*        *"
   ]
  },
  {
   "cell_type": "code",
   "execution_count": 17,
   "metadata": {},
   "outputs": [
    {
     "name": "stdout",
     "output_type": "stream",
     "text": [
      "*        *\n",
      "**      **\n",
      "***    ***\n",
      "****  ****\n",
      "**********\n",
      "**********\n",
      "****  ****\n",
      "***    ***\n",
      "**      **\n",
      "*        *\n"
     ]
    }
   ],
   "source": [
    "def generate_butterfly_pattern(R):\n",
    "    # Upper part of the butterfly\n",
    "    for i in range(1, R + 1):\n",
    "        for j in range(1, i + 1):\n",
    "            print(\"*\", end=\"\")\n",
    "        for j in range(1, 2 * (R - i) + 1):\n",
    "            print(\" \", end=\"\")\n",
    "        for j in range(1, i + 1):\n",
    "            print(\"*\", end=\"\")\n",
    "        print()\n",
    "\n",
    "    # Lower part of the butterfly\n",
    "    for i in range(R, 0, -1):\n",
    "        for j in range(1, i + 1):\n",
    "            print(\"*\", end=\"\")\n",
    "        for j in range(1, 2 * (R - i) + 1):\n",
    "            print(\" \", end=\"\")\n",
    "        for j in range(1, i + 1):\n",
    "            print(\"*\", end=\"\")\n",
    "        print()\n",
    "\n",
    "R = int(input())\n",
    "generate_butterfly_pattern(R)"
   ]
  },
  {
   "cell_type": "markdown",
   "metadata": {},
   "source": [
    "### **56. Write a code to generate the hollow diamond inscribed in a rectangle using stars.**\n",
    "\n",
    "#### **Input Description:**\n",
    "\n",
    "Given an integer R indicates number of rows.\n",
    "\n",
    "Where 1<=R<=100.\n",
    "\n",
    "#### **Output Description:**\n",
    "\n",
    "Print the hollow diamond in a rectangle using stars with the size R.\n",
    "\n",
    "**Sample Input:**\n",
    "\n",
    "5\n",
    "\n",
    "**Sample Output:**\n",
    "\n",
    "**********\n",
    "****  ****\n",
    "***    ***\n",
    "**      **\n",
    "*        *\n",
    "*        *\n",
    "**      **\n",
    "***    ***\n",
    "****  ****\n",
    "**********"
   ]
  },
  {
   "cell_type": "code",
   "execution_count": 18,
   "metadata": {},
   "outputs": [
    {
     "name": "stdout",
     "output_type": "stream",
     "text": [
      "**********\n",
      "****  ****\n",
      "***    ***\n",
      "**      **\n",
      "*        *\n",
      "*        *\n",
      "**      **\n",
      "***    ***\n",
      "****  ****\n",
      "**********\n"
     ]
    }
   ],
   "source": [
    "def generate_hollow_diamond(R):\n",
    "    # Upper part of the diamond\n",
    "    for i in range(R):\n",
    "        for j in range(R - i):\n",
    "            print(\"*\", end=\"\")\n",
    "        for j in range(2 * i):\n",
    "            print(\" \", end=\"\")\n",
    "        for j in range(R - i):\n",
    "            print(\"*\", end=\"\")\n",
    "        print()\n",
    "    \n",
    "    # Lower part of the diamond\n",
    "    for i in range(R):\n",
    "        for j in range(i + 1):\n",
    "            print(\"*\", end=\"\")\n",
    "        for j in range(2 * (R - i - 1)):\n",
    "            print(\" \", end=\"\")\n",
    "        for j in range(i + 1):\n",
    "            print(\"*\", end=\"\")\n",
    "        print()\n",
    "\n",
    "R = int(input())\n",
    "generate_hollow_diamond(R)"
   ]
  },
  {
   "cell_type": "markdown",
   "metadata": {},
   "source": [
    "### **57. Write a code to generate a matrix number pattern.**\n",
    "\n",
    "#### **Input Description:**\n",
    "\n",
    "Given an odd integer R indicates number of rows.R is always odd integer.\n",
    "\n",
    "Where 1<=R<=100.\n",
    "\n",
    "#### **Output Description:**\n",
    "\n",
    "Print the matrix number pattern R*R based on the given integer R.\n",
    "\n",
    "**Sample Input:**\n",
    "\n",
    "5\n",
    "\n",
    "**Sample Output:**\n",
    "\n",
    "33333\n",
    "\n",
    "32223\n",
    "\n",
    "32123\n",
    "\n",
    "32223\n",
    "\n",
    "33333"
   ]
  },
  {
   "cell_type": "code",
   "execution_count": 20,
   "metadata": {},
   "outputs": [
    {
     "name": "stdout",
     "output_type": "stream",
     "text": [
      "33333\n",
      "32223\n",
      "32123\n",
      "32223\n",
      "33333\n"
     ]
    }
   ],
   "source": [
    "n = int(input())\n",
    "\n",
    "# Creating the first row\n",
    "l = [str(n // 2 + 1) * n]\n",
    "\n",
    "# Creating the subsequent rows\n",
    "for i in range(1, n // 2 + 1):\n",
    "    stri = \"\"\n",
    "    var = n // 2 + 1\n",
    "    \n",
    "    for j in range(n // 2 + 1):\n",
    "        if len(stri) >= i + 1:\n",
    "            stri += stri[-1]\n",
    "        else:\n",
    "            stri += str(var)\n",
    "            var -= 1\n",
    "    \n",
    "    # Concatenate the current string with its reverse (excluding last character)\n",
    "    l.append(stri + stri[-2::-1])\n",
    "\n",
    "# Duplicate and reverse the upper half to complete the pattern\n",
    "l = l + l[-2::-1]\n",
    "\n",
    "# Print each row\n",
    "for i in l:\n",
    "    print(i)"
   ]
  },
  {
   "cell_type": "markdown",
   "metadata": {},
   "source": [
    "### **58. Write a code to generate a half pyramid pattern of mulitples of the given number.**\n",
    "\n",
    "#### **Input Description:**\n",
    "\n",
    "Given an integer R indicates number of rows.\n",
    "\n",
    "Where 1<=R<=100.\n",
    "\n",
    "#### **Output Description:**\n",
    "\n",
    "Print the number half pyramid pattern of multiples based on the given integer R.\n",
    "\n",
    "**Sample Input:**\n",
    "\n",
    "10\n",
    "\n",
    "**Sample Output:**\n",
    "\n",
    "1\n",
    "\n",
    "2 4\n",
    "\n",
    "3 6 9\n",
    "\n",
    "4 8 12 16\n",
    "\n",
    "5 10 15 20 25\n",
    "\n",
    "6 12 18 24 30 36\n",
    "\n",
    "7 14 21 28 35 42 49\n",
    "\n",
    "8 16 24 32 40 48 56 64\n",
    "\n",
    "9 18 27 36 45 54 63 72 81\n",
    "\n",
    "10 20 30 40 50 60 70 80 90 100"
   ]
  },
  {
   "cell_type": "code",
   "execution_count": 23,
   "metadata": {},
   "outputs": [
    {
     "name": "stdout",
     "output_type": "stream",
     "text": [
      "1\n",
      "2 4\n",
      "3 6 9\n",
      "4 8 12 16\n",
      "5 10 15 20 25\n",
      "6 12 18 24 30 36\n",
      "7 14 21 28 35 42 49\n",
      "8 16 24 32 40 48 56 64\n",
      "9 18 27 36 45 54 63 72 81\n",
      "10 20 30 40 50 60 70 80 90 100\n"
     ]
    }
   ],
   "source": [
    "# Method - 1:\n",
    "def pattern(n):\n",
    "    for i in range(1, n+1):\n",
    "        l = []\n",
    "        for j in range(1, i+1):\n",
    "            l.append(i*j)\n",
    "        print(*l)\n",
    "        \n",
    "n = int(input())\n",
    "pattern(n)"
   ]
  },
  {
   "cell_type": "code",
   "execution_count": 22,
   "metadata": {},
   "outputs": [
    {
     "name": "stdout",
     "output_type": "stream",
     "text": [
      "1 \n",
      "2 4 \n",
      "3 6 9 \n",
      "4 8 12 16 \n",
      "5 10 15 20 25 \n",
      "6 12 18 24 30 36 \n",
      "7 14 21 28 35 42 49 \n",
      "8 16 24 32 40 48 56 64 \n",
      "9 18 27 36 45 54 63 72 81 \n",
      "10 20 30 40 50 60 70 80 90 100 \n"
     ]
    }
   ],
   "source": [
    "# Method - 2: \n",
    "\n",
    "def generate_multiples_pattern(R):\n",
    "    # Loop through each row from 1 to R\n",
    "    for i in range(1, R + 1):\n",
    "        # Initialize the multiple\n",
    "        multiple = i\n",
    "        \n",
    "        # Loop through each column in the current row\n",
    "        for j in range(1, i + 1):\n",
    "            # Print the current multiple\n",
    "            print(multiple, end=\" \")\n",
    "            \n",
    "            # Calculate the next multiple for the next column\n",
    "            multiple += i\n",
    "        \n",
    "        # Move to the next line after printing each row\n",
    "        print()\n",
    "\n",
    "R = int(input())\n",
    "generate_multiples_pattern(R)"
   ]
  },
  {
   "cell_type": "markdown",
   "metadata": {},
   "source": [
    "### **59. Write a code to generate a aplhabet half pyramid pattern.**\n",
    "\n",
    "#### **Input Description:**\n",
    "\n",
    "Given an integer R indicates number of rows.\n",
    "\n",
    "Where 1<=R<=26.\n",
    "\n",
    "#### **Output Description:**\n",
    "\n",
    "Print the alphabet half pyramid pattern according to the given integer R.\n",
    "\n",
    "**Sample Input:**\n",
    "\n",
    "5\n",
    "\n",
    "**Sample Output:**\n",
    "\n",
    "EEEEE\n",
    "\n",
    " DDDD\n",
    "\n",
    "  CCC\n",
    "\n",
    "   BB\n",
    "\n",
    "    A"
   ]
  },
  {
   "cell_type": "code",
   "execution_count": 24,
   "metadata": {},
   "outputs": [
    {
     "name": "stdout",
     "output_type": "stream",
     "text": [
      "EEEEE\n",
      " DDDD\n",
      "  CCC\n",
      "   BB\n",
      "    A\n"
     ]
    }
   ],
   "source": [
    "def generate_alphabet_pattern(R):\n",
    "    # Convert R to a character for starting alphabet\n",
    "    start_char = chr(64 + R)\n",
    "    \n",
    "    # Loop through each row from 1 to R\n",
    "    for i in range(R, 0, -1):\n",
    "        # Print spaces before the characters\n",
    "        print(\" \" * (R - i) + (start_char * i))\n",
    "        # Decrement the ASCII value for next character\n",
    "        start_char = chr(ord(start_char) - 1)\n",
    "\n",
    "R = int(input())\n",
    "if 1 <= R <= 26:\n",
    "    generate_alphabet_pattern(R)\n",
    "else:\n",
    "    print(\"Invalid input. Please enter a number between 1 and 26.\")"
   ]
  },
  {
   "cell_type": "markdown",
   "metadata": {},
   "source": [
    "### **60. Write a code to generate a pyramid of numbers and aplhabets.**\n",
    "\n",
    "#### **Input Description:**\n",
    "\n",
    "Given an integer R indicates number of rows.\n",
    "\n",
    "Where 1<=R<=100\n",
    "\n",
    "#### **Output Description:**\n",
    "\n",
    "Print the number half pyramid pattern of multiples based on the given integer R.\n",
    "\n",
    "**Sample Input:**\n",
    "\n",
    "8\n",
    "\n",
    "**Sample Output:**\n",
    "\n",
    "       A1\n",
    "\n",
    "      AB12\n",
    "\n",
    "     ABC123\n",
    "\n",
    "    ABCD1234\n",
    "\n",
    "   ABCDE12345\n",
    "\n",
    "  ABCDEF123456\n",
    "\n",
    " ABCDEFG1234567\n",
    "\n",
    "ABCDEFGH12345678"
   ]
  },
  {
   "cell_type": "code",
   "execution_count": 25,
   "metadata": {},
   "outputs": [
    {
     "name": "stdout",
     "output_type": "stream",
     "text": [
      "       A1\n",
      "      AB12\n",
      "     ABC123\n",
      "    ABCD1234\n",
      "   ABCDE12345\n",
      "  ABCDEF123456\n",
      " ABCDEFG1234567\n",
      "ABCDEFGH12345678\n"
     ]
    }
   ],
   "source": [
    "def generate_pyramid_pattern(n):\n",
    "    for i in range(n):  # Loop through each row\n",
    "        # Print leading spaces\n",
    "        for j in range(i, n - 1):\n",
    "            print(\" \", end=\"\")\n",
    "\n",
    "        # Print alphabets\n",
    "        for j in range(i + 1):\n",
    "            print(chr(65 + j), end=\"\")\n",
    "\n",
    "        # Print numbers\n",
    "        for j in range(1, i + 2):\n",
    "            print(j, end=\"\")\n",
    "\n",
    "        # Move to the next line after printing each row\n",
    "        print()\n",
    "\n",
    "n = int(input(\"Enter the number of rows (1-100): \"))\n",
    "if 1 <= n <= 100:\n",
    "    generate_pyramid_pattern(n)\n",
    "else:\n",
    "    print(\"Invalid input. Please enter a number between 1 and 100.\")"
   ]
  },
  {
   "cell_type": "markdown",
   "metadata": {},
   "source": [
    "### **61. Write a code to generate a alphabet pyramid pattern.**\n",
    "\n",
    "#### **Input Description:**\n",
    "\n",
    "Given an integer R indicates number of rows.\n",
    "\n",
    "Where 1<=R<=13.\n",
    "\n",
    "#### **Output Description:**\n",
    "\n",
    "Print the alphabet pyramid pattern according to the given integer R.\n",
    "\n",
    "**Sample Input:**\n",
    "\n",
    "5\n",
    "\n",
    "**Sample Output:**\n",
    "\n",
    "    A\n",
    "\n",
    "   CCC\n",
    "\n",
    "  EEEEE\n",
    "\n",
    " GGGGGGG\n",
    "\n",
    "IIIIIIIII"
   ]
  },
  {
   "cell_type": "code",
   "execution_count": 26,
   "metadata": {},
   "outputs": [
    {
     "name": "stdout",
     "output_type": "stream",
     "text": [
      "    A\n",
      "   CCC\n",
      "  EEEEE\n",
      " GGGGGGG\n",
      "IIIIIIIII\n"
     ]
    }
   ],
   "source": [
    "def pattern(n):\n",
    "    c = 65\n",
    "    for i in range(1, n+1):\n",
    "        for j in range(n-i):\n",
    "            print(' ', end = \"\")\n",
    "        for j in range(2*i - 1):\n",
    "            print(chr(c), end = \"\")\n",
    "        print()\n",
    "        c += 2\n",
    "\n",
    "n = int(input())\n",
    "pattern(n)"
   ]
  }
 ],
 "metadata": {
  "kernelspec": {
   "display_name": "Python 3",
   "language": "python",
   "name": "python3"
  },
  "language_info": {
   "codemirror_mode": {
    "name": "ipython",
    "version": 3
   },
   "file_extension": ".py",
   "mimetype": "text/x-python",
   "name": "python",
   "nbconvert_exporter": "python",
   "pygments_lexer": "ipython3",
   "version": "3.12.4"
  }
 },
 "nbformat": 4,
 "nbformat_minor": 2
}
