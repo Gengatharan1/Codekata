{
 "cells": [
  {
   "cell_type": "markdown",
   "metadata": {},
   "source": [
    "#### **1. Write a code to get the input in the given format and print the output in the given format.**\n",
    "\n",
    "**Input Description:**\n",
    "\n",
    "To take an integer value\n",
    "\n",
    "**Output Description:**\n",
    "\n",
    "Print the integer value\n",
    "\n",
    "Sample Input :\n",
    "\n",
    "2\n",
    "\n",
    "Sample Output :\n",
    "\n",
    "2"
   ]
  },
  {
   "cell_type": "code",
   "execution_count": 7,
   "metadata": {},
   "outputs": [
    {
     "name": "stdout",
     "output_type": "stream",
     "text": [
      "2\n"
     ]
    }
   ],
   "source": [
    "a = input() \n",
    "print(a)"
   ]
  },
  {
   "cell_type": "markdown",
   "metadata": {},
   "source": [
    "#### **2. Write a code to get the input in the given format and print the output in the given format**\n",
    "\n",
    "**Input Description:**\n",
    "\n",
    "A single line contains integers separated by space\n",
    "\n",
    "**Output Description:**\n",
    "\n",
    "Print the integer list of integers separated by space\n",
    "\n",
    "Sample Input :\n",
    "\n",
    "2 3 4 5 6 7 8\n",
    "\n",
    "Sample Output :\n",
    "\n",
    "2 3 4 5 6 7 8"
   ]
  },
  {
   "cell_type": "code",
   "execution_count": 1,
   "metadata": {},
   "outputs": [
    {
     "name": "stdout",
     "output_type": "stream",
     "text": [
      "2 3 4 5 6 7 8\n",
      "12 13 14 15 16 17 18\n"
     ]
    }
   ],
   "source": [
    "list1 = input().split()\n",
    "print(*list1)\n",
    "\n",
    "list2 = input().split()\n",
    "print(*list2)"
   ]
  },
  {
   "cell_type": "markdown",
   "metadata": {},
   "source": [
    "#### **3. Write a code to get the input in the given format and print the output in the given format.**\n",
    "\n",
    "**Input Description:**\n",
    "\n",
    "First-line indicates two integers which are the size of array and 'K' value. Second-line indicates an integer contains elements of an array.\n",
    "\n",
    "**Output Description:**\n",
    "\n",
    "Print the taken input in the same format.\n",
    "\n",
    "Sample Input :\n",
    "\n",
    "5 3\n",
    "\n",
    "1 2 3 4 5\n",
    "\n",
    "Sample Output :\n",
    "\n",
    "5 3\n",
    "\n",
    "1 2 3 4 5"
   ]
  },
  {
   "cell_type": "code",
   "execution_count": 4,
   "metadata": {},
   "outputs": [
    {
     "name": "stdout",
     "output_type": "stream",
     "text": [
      "5 3\n",
      "1 2 3 4 5\n"
     ]
    }
   ],
   "source": [
    "a,b = input().split()\n",
    "list = input().split()\n",
    "print(a,b)\n",
    "print(*list)"
   ]
  },
  {
   "cell_type": "markdown",
   "metadata": {},
   "source": [
    "#### **4. Write a code to get the input in the given format and print the output in the given format**\n",
    "\n",
    "**Input Description:**\n",
    "\n",
    "First-line indicates two integers separated by space. Second-line indicates two integers separated by space. Third-line indicates two integers separated by space.\n",
    "\n",
    "**Output Description:**\n",
    "\n",
    "Print the input in the same format.\n",
    "\n",
    "Sample Input :\n",
    "\n",
    "2 4\n",
    "\n",
    "2 4\n",
    "\n",
    "2 4\n",
    "\n",
    "Sample Output :\n",
    "\n",
    "2 4\n",
    "\n",
    "2 4\n",
    "\n",
    "2 4"
   ]
  },
  {
   "cell_type": "code",
   "execution_count": 2,
   "metadata": {},
   "outputs": [
    {
     "name": "stdout",
     "output_type": "stream",
     "text": [
      "2 4\n",
      "2 4\n",
      "2 4\n"
     ]
    }
   ],
   "source": [
    "for i in range(3): \n",
    "    print(input())"
   ]
  },
  {
   "cell_type": "markdown",
   "metadata": {},
   "source": [
    "#### **5. Write a code to get the input in the given format and print the output in the given format**\n",
    "\n",
    "**Input Description:**\n",
    "\n",
    "Three integers are given in line by line.\n",
    "\n",
    "**Output Description:**\n",
    "\n",
    "Print the integers in a single line separate by space.\n",
    "\n",
    "Sample Input :\n",
    "\n",
    "2\n",
    "\n",
    "4\n",
    "\n",
    "5\n",
    "\n",
    "Sample Output :\n",
    "\n",
    "2 4 5"
   ]
  },
  {
   "cell_type": "code",
   "execution_count": 6,
   "metadata": {},
   "outputs": [
    {
     "name": "stdout",
     "output_type": "stream",
     "text": [
      "2 4 5\n",
      "2 4 5\n"
     ]
    }
   ],
   "source": [
    "a = input()   #a=2\n",
    "b = input()   #b=4\n",
    "c = input()   #c=5\n",
    "print(a,b,c)\n",
    "\n",
    "# Another method:\n",
    "a,b,c = input().split()\n",
    "print(a,b,c)"
   ]
  },
  {
   "cell_type": "markdown",
   "metadata": {},
   "source": [
    "#### **6. Write a code to get the input in the given format and print the output in the given format**\n",
    "\n",
    "**Input Description:**\n",
    "\n",
    "First-line indicates two integers separated by space. Second-line indicates three integers separated by space. Third-line indicates three integers separated by space\n",
    "\n",
    "**Output Description:**\n",
    "\n",
    "Print the input in the same format.\n",
    "\n",
    "Sample Input :\n",
    "\n",
    "2 5\n",
    "\n",
    "2 5 6\n",
    "\n",
    "2 4 5\n",
    "\n",
    "Sample Output :\n",
    "\n",
    "2 5\n",
    "\n",
    "2 5 6\n",
    "\n",
    "2 4 5"
   ]
  },
  {
   "cell_type": "code",
   "execution_count": 70,
   "metadata": {},
   "outputs": [
    {
     "name": "stdout",
     "output_type": "stream",
     "text": [
      "2 5\n",
      "2 5 6\n",
      "2 4 5\n"
     ]
    }
   ],
   "source": [
    "for i in range(3): \n",
    "    print(input())"
   ]
  },
  {
   "cell_type": "markdown",
   "metadata": {},
   "source": [
    "#### **7. Write a code to get the input in the given format and print the output in the given format**\n",
    "\n",
    "### Input Description:\n",
    "A single line contains a string.\n",
    "\n",
    "### Output Description:\n",
    "Print the characters in a string separated by space.\n",
    "\n",
    "Sample Input :\n",
    "\n",
    "guvi\n",
    "\n",
    "Sample Output :\n",
    "\n",
    "g u v i"
   ]
  },
  {
   "cell_type": "code",
   "execution_count": 1,
   "metadata": {},
   "outputs": [
    {
     "name": "stdout",
     "output_type": "stream",
     "text": [
      "g u v i\n"
     ]
    }
   ],
   "source": [
    "company = input() \n",
    "print(*company, sep=' ')"
   ]
  },
  {
   "cell_type": "markdown",
   "metadata": {},
   "source": [
    "#### **8. Write a code to get the input in the given format and print the output in the given format.**\n",
    "\n",
    "**Input Description:**\n",
    "\n",
    "A single line contains three float values separated by space.\n",
    "\n",
    "**Output Description:**\n",
    "\n",
    "Print the float value separated by line.\n",
    "\n",
    "Sample Input :\n",
    "\n",
    "2.3 4.5 7.8\n",
    "\n",
    "Sample Output :\n",
    "\n",
    "2.3\n",
    "\n",
    "4.5\n",
    "\n",
    "7.8"
   ]
  },
  {
   "cell_type": "code",
   "execution_count": 67,
   "metadata": {},
   "outputs": [
    {
     "name": "stdout",
     "output_type": "stream",
     "text": [
      "2.3\n",
      "4.5\n",
      "7.8\n"
     ]
    }
   ],
   "source": [
    "a = input().split()\n",
    "for i in range(3):\n",
    "    print(a[i]) #2.3 4.5 7.8"
   ]
  },
  {
   "cell_type": "markdown",
   "metadata": {},
   "source": [
    "#### **9. Write a code to get the input in the given format and print the output in the given format.**\n",
    "\n",
    "**Input Description:**\n",
    "\n",
    "A single line contains a string.\n",
    "\n",
    "**Output Description:**\n",
    "\n",
    "Print the characters in a string separated by line.\n",
    "\n",
    "Sample Input :\n",
    "\n",
    "guvigeek\n",
    "\n",
    "Sample Output :\n",
    "\n",
    "g\n",
    "\n",
    "u\n",
    "\n",
    "v\n",
    "\n",
    "i\n",
    "\n",
    "g\n",
    "\n",
    "e\n",
    "\n",
    "e\n",
    "\n",
    "k"
   ]
  },
  {
   "cell_type": "code",
   "execution_count": 4,
   "metadata": {},
   "outputs": [
    {
     "name": "stdout",
     "output_type": "stream",
     "text": [
      "g\n",
      "u\n",
      "v\n",
      "i\n",
      "g\n",
      "e\n",
      "e\n",
      "k\n"
     ]
    }
   ],
   "source": [
    "word = input() \n",
    "print(*word, sep='\\n')"
   ]
  },
  {
   "cell_type": "code",
   "execution_count": 1,
   "metadata": {},
   "outputs": [
    {
     "name": "stdout",
     "output_type": "stream",
     "text": [
      "g\n",
      "u\n",
      "v\n",
      "i\n",
      "g\n",
      "e\n",
      "e\n",
      "k\n"
     ]
    }
   ],
   "source": [
    "# Another way:\n",
    "\n",
    "input_string = input()\n",
    "\n",
    "# Print each character on a new line\n",
    "for char in input_string:\n",
    "    print(char)"
   ]
  },
  {
   "cell_type": "markdown",
   "metadata": {},
   "source": [
    "#### **10. Write a code to get the input in the given format and print the output in the given format.**\n",
    "\n",
    "**Input Description:**\n",
    "\n",
    "A single line contains a string.\n",
    "\n",
    "**Output Description:**\n",
    "\n",
    "Print the characters in a string separated by comma.\n",
    "\n",
    "Sample Input :\n",
    "\n",
    "guvi\n",
    "\n",
    "Sample Output :\n",
    "\n",
    "g,u,v,i"
   ]
  },
  {
   "cell_type": "code",
   "execution_count": 5,
   "metadata": {},
   "outputs": [
    {
     "name": "stdout",
     "output_type": "stream",
     "text": [
      "g,u,v,i\n"
     ]
    }
   ],
   "source": [
    "word = input()\n",
    "print(*word, sep=',')"
   ]
  }
 ],
 "metadata": {
  "kernelspec": {
   "display_name": "Python 3",
   "language": "python",
   "name": "python3"
  },
  "language_info": {
   "codemirror_mode": {
    "name": "ipython",
    "version": 3
   },
   "file_extension": ".py",
   "mimetype": "text/x-python",
   "name": "python",
   "nbconvert_exporter": "python",
   "pygments_lexer": "ipython3",
   "version": "3.12.4"
  }
 },
 "nbformat": 4,
 "nbformat_minor": 2
}
