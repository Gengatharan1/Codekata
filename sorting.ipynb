{
 "cells": [
  {
   "cell_type": "markdown",
   "metadata": {},
   "source": [
    "### **1. Given a set of numbers of length N. Your task is to find the quad ret (x1,x2,x3,x4) which will result the sum in 1. If quad ret exists print Yes else print No.**\n",
    "\n",
    "**Input Description:**\n",
    "\n",
    "First line contains a number N. Next line contains n space separated numbers\n",
    "\n",
    "**Output Description:**\n",
    "\n",
    "Print Yes or No\n",
    "\n",
    "**Sample Input:**\n",
    "\n",
    "5 \n",
    "\n",
    "1 -1 2 -2 3\n",
    "\n",
    "**Sample Output:**\n",
    "\n",
    "Yes"
   ]
  },
  {
   "cell_type": "code",
   "execution_count": 1,
   "metadata": {},
   "outputs": [
    {
     "name": "stdout",
     "output_type": "stream",
     "text": [
      "Yes\n"
     ]
    }
   ],
   "source": [
    "hash_list = {}\n",
    "x = 1\n",
    "n = int(input())\n",
    "arr = list(map(int, input().split()))\n",
    "\n",
    "def sum_pair(n, x, arr):\n",
    "    for i in range(n - 1):\n",
    "        for j in range(i + 1, n):\n",
    "            hash_list[arr[i] + arr[j]] = [i, j]\n",
    "    if n > 3:\n",
    "        for i in range(n - 1):\n",
    "            for j in range(i + 1, n):\n",
    "                SUM = arr[i] + arr[j]\n",
    "                if x - SUM in hash_list:\n",
    "                    p = hash_list[x - SUM]\n",
    "                    if (p[0] != i and p[0] != j and p[1] != i and p[1] != j):\n",
    "                        m = 0\n",
    "                        m += 1\n",
    "                        return m\n",
    "                        break\n",
    "    else:\n",
    "        for i in arr:\n",
    "            if x - i in hash_list:\n",
    "                p = hash_list[x - i]\n",
    "                if p:\n",
    "                    n = 0\n",
    "                    n += 1\n",
    "                    return n\n",
    "                    break\n",
    "\n",
    "if sum_pair(n, x, arr):\n",
    "    print(\"Yes\")\n",
    "else:\n",
    "    print(\"No\")\n"
   ]
  },
  {
   "cell_type": "markdown",
   "metadata": {},
   "source": [
    "### **2. Shreya is a brilliant girl. She likes to memorize the numbers. These numbers will be shown to her. As an examiner develop an algorithm to test her memory.**\n",
    " \n",
    "**CONSTRAINTS**\n",
    "\n",
    "1<=Y,N,T<=1000\n",
    "\n",
    "**Input Description:**\n",
    "\n",
    "First line contains no. of test cases(Y). Next line contains a number N. Next line contains n space separated numbers Next line contains a number T denoting the number of questions asked from you regarding the given array. Next line contains T space separated numbers.\n",
    "\n",
    "**Output Description:**\n",
    "\n",
    "Print the occurrence of each number if present else “NOT PRESENT”\n",
    "\n",
    "**Sample Input:**\n",
    "\n",
    "10\n",
    "\n",
    "1 1 1 2 2 2 3 8 9 7\n",
    "\n",
    "5\n",
    "\n",
    "1 2 3 0 5\n",
    "\n",
    "**Sample Output:**\n",
    "\n",
    "3 3 1 Not Present Not Present"
   ]
  },
  {
   "cell_type": "code",
   "execution_count": 2,
   "metadata": {},
   "outputs": [
    {
     "name": "stdout",
     "output_type": "stream",
     "text": [
      "3 3 1 Not Present Not Present\n"
     ]
    }
   ],
   "source": [
    "def test_memory(N, numbers, T, questions):\n",
    "    count_dict = {}\n",
    "    for num in numbers:\n",
    "        if num in count_dict:\n",
    "            count_dict[num] += 1\n",
    "        else:\n",
    "            count_dict[num] = 1\n",
    "            \n",
    "    result = []\n",
    "    for q in questions:\n",
    "        if q in count_dict:\n",
    "            result.append(str(count_dict[q]))\n",
    "        else:\n",
    "            result.append(\"Not Present\")\n",
    "    return \" \".join(result)\n",
    "\n",
    "N = int(input())\n",
    "numbers = list(map(int, input().split()))\n",
    "T = int(input())\n",
    "questions = list(map(int, input().split()))\n",
    "output = test_memory(N, numbers, T, questions)\n",
    "print(output)"
   ]
  },
  {
   "cell_type": "markdown",
   "metadata": {},
   "source": [
    "### **3. Given 2 numbers N,K and an array of N integers, find if the element K exists in the array.**\n",
    "\n",
    "Input Size : N <= 100000\n",
    "\n",
    "**Sample Testcase:**\n",
    "\n",
    "**INPUT**\n",
    "\n",
    "5 2\n",
    "\n",
    "1 2 3 4 5\n",
    "\n",
    "**OUTPUT**\n",
    "\n",
    "yes\n",
    "\n",
    "HINT: Read about Binary Search"
   ]
  },
  {
   "cell_type": "code",
   "execution_count": 3,
   "metadata": {},
   "outputs": [
    {
     "name": "stdout",
     "output_type": "stream",
     "text": [
      "yes\n"
     ]
    }
   ],
   "source": [
    "def binary_search(arr, target):\n",
    "    left, right = 0, len(arr) - 1\n",
    "    \n",
    "    while left <= right:\n",
    "        mid = left + (right - left) // 2\n",
    "        \n",
    "        if arr[mid] == target:\n",
    "            return True\n",
    "        elif arr[mid] < target:\n",
    "            left = mid + 1\n",
    "        else:\n",
    "            right = mid - 1\n",
    "            \n",
    "    return False\n",
    "\n",
    "N, K = map(int, input().split())\n",
    "arr = list(map(int, input().split()))\n",
    "arr.sort()\n",
    "\n",
    "# Perform binary search to find K\n",
    "if binary_search(arr, K):\n",
    "    print(\"yes\")\n",
    "else:\n",
    "    print(\"no\")"
   ]
  },
  {
   "cell_type": "markdown",
   "metadata": {},
   "source": [
    "### **4. You are given with the marks of N students in CS, Maths and English. Sort the students based on marks in maths. If 2 students have the same marks in maths, sort them based on marks in CS. If there is a tie, sort based on marks in English. All the sorting must be done in descending order.**\n",
    " \n",
    "**Input Description:**\n",
    "\n",
    "Number of students followed by student id,marks in CS, Maths and English\n",
    "\n",
    "**Output Description:**\n",
    "\n",
    "Sorted list of students\n",
    "\n",
    "**Sample Input:**\n",
    "\n",
    "3\n",
    "\n",
    "A 34 89 98\n",
    "\n",
    "B 98 87 98\n",
    "\n",
    "C 87 67 98\n",
    "\n",
    "**Sample Output:**\n",
    "\n",
    "A 34 89 98\n",
    "\n",
    "B 98 87 98\n",
    "\n",
    "C 87 67 98"
   ]
  },
  {
   "cell_type": "code",
   "execution_count": 4,
   "metadata": {},
   "outputs": [
    {
     "name": "stdout",
     "output_type": "stream",
     "text": [
      "A 34 89 98\n",
      "B 98 87 98\n",
      "C 87 67 98\n"
     ]
    }
   ],
   "source": [
    "n = int(input())\n",
    "students = []\n",
    "\n",
    "for _ in range(n):\n",
    "    data = input().split()\n",
    "    student_id = data[0]\n",
    "    cs_marks = int(data[1])\n",
    "    math_marks = int(data[2])\n",
    "    english_marks = int(data[3])\n",
    "    students.append((student_id, cs_marks, math_marks, english_marks))\n",
    "\n",
    "students.sort(key=lambda x: (x[2], x[1], x[3]), reverse=True)\n",
    "for student in students:\n",
    "    print(student[0], student[1], student[2], student[3])"
   ]
  },
  {
   "cell_type": "markdown",
   "metadata": {},
   "source": [
    "### **5. You are an intern at GUVI and the company wants to organise its data and delete unnecessary extra storage elements used. You are given k arrays of unequal dimensions. Sort the k arrays individually and concatenate them.**\n",
    "\n",
    "**Input Description:**\n",
    "\n",
    "First line contains the number of arrays. Subsequent lines contain the size of the array followed by the elements of the array.\n",
    "\n",
    "**Output Description:**\n",
    "\n",
    "An array containing the sorted elements of k sorted arrays\n",
    "\n",
    "**Sample Input:**\n",
    "\n",
    "3\n",
    "\n",
    "2\n",
    "\n",
    "98 12\n",
    "\n",
    "6\n",
    "\n",
    "1 2 3 8 5 9\n",
    "\n",
    "1\n",
    "\n",
    "11\n",
    "\n",
    "**Sample Output:**\n",
    "\n",
    "12 98 1 2 3 5 8 9 11"
   ]
  },
  {
   "cell_type": "code",
   "execution_count": 5,
   "metadata": {},
   "outputs": [
    {
     "name": "stdout",
     "output_type": "stream",
     "text": [
      "12 98 1 2 3 5 8 9 11\n"
     ]
    }
   ],
   "source": [
    "num_arrays = int(input())\n",
    "sorted_arrays = []\n",
    "for _ in range(num_arrays):\n",
    "    size = int(input())\n",
    "    array = list(map(int, input().split()))\n",
    "    array.sort()\n",
    "    sorted_arrays.extend(array)\n",
    "print(\" \".join(map(str, sorted_arrays)))"
   ]
  },
  {
   "cell_type": "markdown",
   "metadata": {},
   "source": [
    "### **6. Ria is a 5 year old girl. Her mother wants to teach her how to sort words in the same order that they appear in a dictionary. She decides to write a program to sort a given set of strings based on their alphabetical order. Help Ria’s mother to complete the program.**\n",
    "\n",
    "**Input Description:**\n",
    "\n",
    "A set of N strings\n",
    "\n",
    "**Output Description:**\n",
    "\n",
    "Alphabetically sorted set of strings\n",
    "\n",
    "**Sample Input:**\n",
    "\n",
    "3\n",
    "\n",
    "InfinityWar EndGame Avengers\n",
    "\n",
    "**Sample Output:**\n",
    "\n",
    "Avengers EndGame InfinityWar"
   ]
  },
  {
   "cell_type": "code",
   "execution_count": 6,
   "metadata": {},
   "outputs": [
    {
     "name": "stdout",
     "output_type": "stream",
     "text": [
      "Avengers EndGame InfinityWar\n"
     ]
    }
   ],
   "source": [
    "n = int(input())\n",
    "s = input().split()\n",
    "s.sort()\n",
    "print(\" \".join(s))"
   ]
  },
  {
   "cell_type": "markdown",
   "metadata": {},
   "source": [
    "### **7. Iron Man wants to extract an infinity stone from a safe. The safe is protected by a password and Iron Man knows the clue to the password which is “sum one and two when sorted they are true”. Decode the clue from the test case and help Iron Man open the safe.**\n",
    "\n",
    "**Input Description:**\n",
    "\n",
    "Size of the array followed by the elements of the array\n",
    "\n",
    "**Output Description:**\n",
    "\n",
    "Sum of 2 specific elements in the array.\n",
    "\n",
    "**Sample Input:**\n",
    "\n",
    "5\n",
    "\n",
    "9 8 3 2 1\n",
    "\n",
    "**Sample Output:**\n",
    "\n",
    "3"
   ]
  },
  {
   "cell_type": "code",
   "execution_count": 7,
   "metadata": {},
   "outputs": [
    {
     "name": "stdout",
     "output_type": "stream",
     "text": [
      "3\n"
     ]
    }
   ],
   "source": [
    "n = int(input())\n",
    "arr = list(map(int, input().split()))\n",
    "arr.sort()\n",
    "result = arr[0] + arr[1]\n",
    "print(result)"
   ]
  },
  {
   "cell_type": "markdown",
   "metadata": {},
   "source": [
    "### **8. Mr. Kanga had a PhD in Heap Algorithms. Today, he was given a list of strings in random order. Help him sort the list in increasing order(lexicographically increasing) using heap sort.**\n",
    "\n",
    "**Input Description:**\n",
    "\n",
    "The first line is an integer N denoting the number of strings. The next line contains N space separated strings containing lower case English Alphabets.\n",
    "\n",
    "**Output Description:**\n",
    "\n",
    "Print N space separated strings in increasing order.\n",
    "\n",
    "**Sample Input:**\n",
    "\n",
    "2\n",
    "\n",
    "bag axe\n",
    "\n",
    "**Sample Output:**\n",
    "\n",
    "axe bag"
   ]
  },
  {
   "cell_type": "code",
   "execution_count": 8,
   "metadata": {},
   "outputs": [
    {
     "name": "stdout",
     "output_type": "stream",
     "text": [
      "axe bag\n"
     ]
    }
   ],
   "source": [
    "import heapq\n",
    "\n",
    "n = int(input())\n",
    "strings = input().split()\n",
    "heapq.heapify(strings)\n",
    "sorted_strings = [heapq.heappop(strings) for _ in range(n)]\n",
    "print(\" \".join(sorted_strings))"
   ]
  },
  {
   "cell_type": "markdown",
   "metadata": {},
   "source": [
    "### **9. Bucket sort is a comparison sort algorithm that operates on elements by dividing them into different buckets and then sorting these buckets individually. Each bucket is sorted individually using a separate sorting algorithm or by applying the bucket sort algorithm recursively. Bucket sort is mainly useful when the input is uniformly distributed over a range.**\n",
    "\n",
    "You have to sort the given array of integer values in Bucket sort manner.\n",
    "\n",
    "**Input Description:**\n",
    "\n",
    "Given an integer 'n' which indicates the length of array and followed by space separated ‘n’ integer values.\n",
    "\n",
    "Where 1<=n<=100 and 1<=A[i]<=10000.\n",
    "\n",
    "**Output Description:**\n",
    "\n",
    "Print the resultant sorted array by using bucket sort method.\n",
    "\n",
    "where 1<=A[i]<=10000.\n",
    "\n",
    "**Sample Input:**\n",
    "\n",
    "8\n",
    "\n",
    "27 24 4 49 8 37 22 44\n",
    "\n",
    "**Sample Output:**\n",
    "\n",
    "4 8 22 24 27 37 44 49"
   ]
  },
  {
   "cell_type": "code",
   "execution_count": 9,
   "metadata": {},
   "outputs": [
    {
     "name": "stdout",
     "output_type": "stream",
     "text": [
      "4 8 22 24 27 37 44 49\n"
     ]
    }
   ],
   "source": [
    "def bucket_sort(arr):\n",
    "    # Determine the number of buckets\n",
    "    num_buckets = len(arr)\n",
    "    max_value = max(arr)\n",
    "    min_value = min(arr)\n",
    "\n",
    "    # Create empty buckets\n",
    "    buckets = [[] for _ in range(num_buckets)]\n",
    "\n",
    "    # Distribute elements into buckets\n",
    "    for num in arr:\n",
    "        index = (num - min_value) * (num_buckets - 1) // (max_value - min_value)\n",
    "        buckets[index].append(num)\n",
    "\n",
    "    # Sort each bucket and concatenate the results\n",
    "    sorted_arr = []\n",
    "    for bucket in buckets:\n",
    "        sorted_arr.extend(sorted(bucket))\n",
    "    return sorted_arr\n",
    "\n",
    "n = int(input())\n",
    "arr = list(map(int, input().split()))\n",
    "\n",
    "# Perform bucket sort and print the result\n",
    "sorted_arr = bucket_sort(arr)\n",
    "print(\" \".join(map(str, sorted_arr)))"
   ]
  },
  {
   "cell_type": "markdown",
   "metadata": {},
   "source": [
    "### **10. Heaps can be used in sorting an array. In max-heaps, maximum element will always be at the root. Heap Sort uses this property of heap to sort the array.**\n",
    "\n",
    "Consider an array A which is to be sorted using Heap Sort.\n",
    "\n",
    "Step 1:Initially build a max heap of elements in A.\n",
    "\n",
    "Step 2:The root element, that is A[1], will contain maximum element of A. After that, swap this element with the last element of A and heapify the max heap excluding the last element which is already in its correct position and then decrease the length of heap by one.\n",
    "Repeat the step 2, until all the elements are in their correct position.\n",
    "\n",
    "You have to sort the given array of integer values in heap sort manner.\n",
    "\n",
    "**Input Description:**\n",
    "\n",
    "Given an integer 'n' which indicates the length of array and followed by space separated ‘n’ integer values.\n",
    "\n",
    "Where 1<=n<=100 and 1<=A[i]<=10000.\n",
    "\n",
    "**Output Description:**\n",
    "\n",
    "Print the resultant sorted array by using heap sort method.\n",
    "\n",
    "where 1<=A[i]<=10000.\n",
    "\n",
    "**Sample Input:**\n",
    "\n",
    "6\n",
    "\n",
    "4 3 7 1 8 5\n",
    "\n",
    "**Sample Output:**\n",
    "\n",
    "1 3 4 5 7 8"
   ]
  },
  {
   "cell_type": "code",
   "execution_count": null,
   "metadata": {},
   "outputs": [
    {
     "name": "stdout",
     "output_type": "stream",
     "text": [
      "1 3 4 5 7 8\n"
     ]
    }
   ],
   "source": [
    "def heapify(arr, n, i):\n",
    "    largest = i        # Initialize largest as root\n",
    "    left = 2 * i + 1   # Left child index\n",
    "    right = 2 * i + 2  # Right child index\n",
    "\n",
    "    # If left child exists and is greater than root\n",
    "    if left < n and arr[left] > arr[largest]:\n",
    "        largest = left\n",
    "\n",
    "    # If right child exists and is greater than the current largest\n",
    "    if right < n and arr[right] > arr[largest]:\n",
    "        largest = right\n",
    "\n",
    "    # If largest is not root\n",
    "    if largest != i:\n",
    "        arr[i], arr[largest] = arr[largest], arr[i]  # Swap\n",
    "        heapify(arr, n, largest)  # Recursively heapify the affected sub-tree\n",
    "\n",
    "\n",
    "def heap_sort(arr):\n",
    "    n = len(arr)\n",
    "\n",
    "    # Build a max heap\n",
    "    for i in range(n // 2 - 1, -1, -1):\n",
    "        heapify(arr, n, i)\n",
    "\n",
    "    # Extract elements from the heap one by one\n",
    "    for i in range(n - 1, 0, -1):\n",
    "        arr[i], arr[0] = arr[0], arr[i]  # Move current root to end\n",
    "        heapify(arr, i, 0)  # Call heapify on the reduced heap\n",
    "\n",
    "n = int(input())\n",
    "arr = list(map(int, input().split()))\n",
    "heap_sort(arr)\n",
    "print(*arr)"
   ]
  },
  {
   "cell_type": "markdown",
   "metadata": {},
   "source": [
    "### **11. Loki wants to steal the tesseract but in order to do so, he has to rearrange the elements in an array in a specific manner which is mentioned in a clue. The clue says ‘cursed are the odd and sorted are the even’. Loki manages to decode the clue which translates to “sort the even positioned elements of an array, starting from the element at index 0, in ascending order”. Manipulate the array so as to help Loki steal the tesseract.**\n",
    " \n",
    "**Input Description:**\n",
    "\n",
    "Size of the array followed by the elements of the array\n",
    "\n",
    "**Output Description:**\n",
    "\n",
    "Even index array elements sorted in ascending order\n",
    "\n",
    "**Sample Input:**\n",
    "\n",
    "5\n",
    "\n",
    "3 9 1 44 6\n",
    "\n",
    "**Sample Output:**\n",
    "\n",
    "1 9 3 44 6"
   ]
  },
  {
   "cell_type": "code",
   "execution_count": null,
   "metadata": {},
   "outputs": [
    {
     "name": "stdout",
     "output_type": "stream",
     "text": [
      "1 9 3 44 6\n"
     ]
    }
   ],
   "source": [
    "def rearrange_array(n, arr):\n",
    "    even_index_elements = [arr[i] for i in range(n) if i % 2 == 0]\n",
    "    even_index_elements.sort()\n",
    "    even_index_sorted_index = 0\n",
    "    for i in range(n):\n",
    "        if i % 2 == 0:\n",
    "            arr[i] = even_index_elements[even_index_sorted_index]\n",
    "            even_index_sorted_index += 1\n",
    "    return arr\n",
    "\n",
    "n = int(input())\n",
    "arr = list(map(int, input().split()))\n",
    "sorted_arr = rearrange_array(n, arr)\n",
    "print(*sorted_arr)"
   ]
  },
  {
   "cell_type": "markdown",
   "metadata": {},
   "source": [
    "### **13. Ram is the CEO of an MNC. He wants to order the employee salaries in ascending order so that he can do a salary hike based on the salary values of employees. He selects you to do the task of sorting the salaries. Sort the salaries in ascending order and pass on the information to Ram.**\n",
    " \n",
    "**Input Description:**\n",
    "\n",
    "Number of employees followed by the salaries of employees.\n",
    "\n",
    "**Output Description:**\n",
    "\n",
    "Salaries sorted in ascending order.\n",
    "\n",
    "**Sample Input:**\n",
    "\n",
    "8\n",
    "\n",
    "7000 8000 6500 1200 4000 2800 3000 5230"
   ]
  },
  {
   "cell_type": "code",
   "execution_count": 13,
   "metadata": {},
   "outputs": [
    {
     "name": "stdout",
     "output_type": "stream",
     "text": [
      "1200 2800 3000 4000 5230 6500 7000 8000\n"
     ]
    }
   ],
   "source": [
    "Employee = input()\n",
    "salaries = list(map(int, input().split()))\n",
    "salaries.sort()\n",
    "print(*salaries)"
   ]
  },
  {
   "cell_type": "markdown",
   "metadata": {},
   "source": [
    "### **14. Bubble sort is based on the idea of repeatedly comparing pairs of adjacent elements and then swapping their positions if they exist in the wrong order.**\n",
    "\n",
    "Given an array of size N.You have to sort the given array of integer values in bubble sort manner.\n",
    "\n",
    "**Input Description:**\n",
    "\n",
    "Given an integer 'n' which indicates the length of array and followed by space separated ‘n’ integer values.\n",
    "\n",
    "Where 1<=n<=100 and 1<=A[i]<=10000.\n",
    "\n",
    "**Output Description:**\n",
    "\n",
    "Print step by step process of applying bubble sort(print all the iteration of bubble sorting process).\n",
    "\n",
    "where 1<=A[i]<=10000.\n",
    "\n",
    "**Sample Input:**\n",
    "\n",
    "7\n",
    "\n",
    "74 44 15 12 23 10 90\n",
    "\n",
    "**Sample Output:**\n",
    "\n",
    "44 15 12 23 10 74 90\n",
    "\n",
    "15 12 23 10 44 74 90\n",
    "\n",
    "12 15 10 23 44 74 90\n",
    "\n",
    "12 10 15 23 44 74 90\n",
    "\n",
    "10 12 15 23 44 74 90\n",
    "\n",
    "10 12 15 23 44 74 90\n",
    "\n",
    "10 12 15 23 44 74 90"
   ]
  },
  {
   "cell_type": "code",
   "execution_count": 14,
   "metadata": {},
   "outputs": [
    {
     "name": "stdout",
     "output_type": "stream",
     "text": [
      "44 15 12 23 10 74 90\n",
      "15 12 23 10 44 74 90\n",
      "12 15 10 23 44 74 90\n",
      "12 10 15 23 44 74 90\n",
      "10 12 15 23 44 74 90\n",
      "10 12 15 23 44 74 90\n",
      "10 12 15 23 44 74 90\n"
     ]
    }
   ],
   "source": [
    "def bubble_sort(arr):\n",
    "    n = len(arr)\n",
    "    for i in range(n):\n",
    "        for j in range(0, n - i - 1):\n",
    "            if arr[j] > arr[j + 1]:\n",
    "                arr[j], arr[j + 1] = arr[j + 1], arr[j]\n",
    "        print(*arr)\n",
    "\n",
    "n = int(input())\n",
    "arr = list(map(int, input().split()))\n",
    "bubble_sort(arr)"
   ]
  },
  {
   "cell_type": "markdown",
   "metadata": {},
   "source": [
    "### **15. Merge Sort follows the rule of Divide and Conquer to sort a given set of numbers/elements, recursively, hence consuming less time.**\n",
    "\n",
    "In Merge Sort, the given unsorted array with N  elements, is divided into N subarrays, each having one element, because a single element is always sorted in itself. Then, it repeatedly merges these subarrays, to produce new sorted subarrays, and in the end, one complete sorted array is produced.\n",
    "\n",
    "The concept of Divide and Conquer involves three steps:\n",
    "\n",
    "Divide the problem into multiple small problems.\n",
    "Conquer the subproblems by solving them. The idea is to break down the problem into atomic subproblems, where they are actually solved.\n",
    "Combine the solutions of the subproblems to find the solution of the actual problem.\n",
    "\n",
    "You have to sort the given array of integer values in merge sort manner.\n",
    "\n",
    "**Input Description:**\n",
    "\n",
    "Given an integer 'n' which indicates the length of array and followed by space separated ‘n’ integer values.\n",
    "\n",
    "Where 1<=n<=100 and 1<=A[i]<=10000.\n",
    "\n",
    "**Output Description:**\n",
    "\n",
    "Print the resultant sorted array by using merge sort method.\n",
    "\n",
    "where 1<=A[i]<=10000\n",
    "\n",
    "**Sample Input:**\n",
    "\n",
    "8\n",
    "\n",
    "14 7 3 12 9 11 6 2\n",
    "\n",
    "**Sample Output:**\n",
    "\n",
    "2 3 6 7 9 11 12 14"
   ]
  },
  {
   "cell_type": "code",
   "execution_count": null,
   "metadata": {},
   "outputs": [
    {
     "name": "stdout",
     "output_type": "stream",
     "text": [
      "2 3 6 7 9 11 12 14\n"
     ]
    }
   ],
   "source": [
    "def merge_sort(arr):\n",
    "    if len(arr) <= 1:\n",
    "        return arr\n",
    "    mid = len(arr) // 2      # Find the midpoint of the array\n",
    "    left_half = merge_sort(arr[:mid])\n",
    "    right_half = merge_sort(arr[mid:])\n",
    "    return merge(left_half, right_half)\n",
    "\n",
    "def merge(left, right):\n",
    "    sorted_array = []   # Array to store the merged result\n",
    "    i = j = 0\n",
    "    # Merge the two halves while maintaining order\n",
    "    while i < len(left) and j < len(right):\n",
    "        if left[i] < right[j]:\n",
    "            sorted_array.append(left[i])\n",
    "            i += 1\n",
    "        else:\n",
    "            sorted_array.append(right[j])\n",
    "            j += 1\n",
    "    sorted_array.extend(left[i:])\n",
    "    sorted_array.extend(right[j:])\n",
    "    return sorted_array\n",
    "\n",
    "n = int(input().strip())\n",
    "arr = list(map(int, input().strip().split()))\n",
    "sorted_arr = merge_sort(arr)\n",
    "print(\" \".join(map(str, sorted_arr)))"
   ]
  },
  {
   "cell_type": "markdown",
   "metadata": {},
   "source": [
    "### **16. Tahir gets into an elevator. The elevator is programmed such that it moves up the number of floors mentioned at odd indexes of an array A[] and moves down the number of floors mentioned at even indexes of the array A[], in sequence. Sort the array such that when Tahir gets out of the elevator, he is at any floor other than the floor at which he got into the elevator. The index of the ground floor is 1 and assume that the building has 100 floors. The lift can move only up to the ground floor(i.e) floor indexes are positive integers.**\n",
    " \n",
    "**Input Description:**\n",
    "\n",
    "Size of array followed by floor number at which Tahir gets into the elevator. The second line contains the number of elements in the array.\n",
    "\n",
    "**Output Description:**\n",
    "\n",
    "Sorted array according to the problem specifications. If no such arrangement is possible output “not possible”\n",
    "\n",
    "**Sample Input:**\n",
    "\n",
    "5 8\n",
    "\n",
    "5 8 1 3 4\n",
    "\n",
    "**Sample Output:**\n",
    "\n",
    "1 3 4 5 8"
   ]
  },
  {
   "cell_type": "code",
   "execution_count": 16,
   "metadata": {},
   "outputs": [
    {
     "name": "stdout",
     "output_type": "stream",
     "text": [
      "1 3 4 5 8\n"
     ]
    }
   ],
   "source": [
    "def can_tahir_exit(start_floor, arr):\n",
    "    current_floor = start_floor\n",
    "    for i in range(len(arr)):\n",
    "        if i % 2 == 0:\n",
    "            current_floor -= arr[i]  # Down for even indices\n",
    "        else:\n",
    "            current_floor += arr[i]  # Up for odd indices\n",
    "        current_floor = max(1, min(current_floor, 100))\n",
    "    return current_floor\n",
    "\n",
    "def find_sorted_arrangement(n, start_floor, arr):\n",
    "    arr.sort()\n",
    "    final_floor = can_tahir_exit(start_floor, arr)\n",
    "    if final_floor != start_floor:\n",
    "        print(\" \".join(map(str, arr)))\n",
    "    else:\n",
    "        print(\"not possible\")\n",
    "\n",
    "n, start_floor = map(int, input().split())\n",
    "arr = list(map(int, input().split()))\n",
    "find_sorted_arrangement(n, start_floor, arr)"
   ]
  },
  {
   "cell_type": "markdown",
   "metadata": {},
   "source": [
    "### **17. For 2 arrays A1 and A2 , sort A1 in such a way that the relative order among the elements will be the same as those in A2. For the elements not present in A2, append them at last to A1, in SORTED ORDER.**\n",
    "\n",
    "Note: Number of elements in A2[] are smaller than or equal to the number of elements in A1[]. A2[] has all distinct elements.\n",
    "\n",
    "**Constraints:**\n",
    "\n",
    "1 ≤ N,M  ≤ 106\n",
    "\n",
    "1 ≤ A1[], A2[] <= 106\n",
    "\n",
    "**Input Description:**\n",
    "\n",
    "First line of input contains length of arrays N and M and next two line contains elements of A1 and A2 respectively.\n",
    "\n",
    "**Output Description:**\n",
    "\n",
    "Print the sorted array.\n",
    "\n",
    "**Sample Input:**\n",
    "\n",
    "11 4\n",
    "\n",
    "2 1 2 5 7 1 9 3 6 8 8\n",
    "\n",
    "2 1 8 3\n",
    "\n",
    "**Sample Output:**\n",
    "\n",
    "2 2 1 1 8 8 3 5 6 7 9"
   ]
  },
  {
   "cell_type": "code",
   "execution_count": 18,
   "metadata": {},
   "outputs": [
    {
     "name": "stdout",
     "output_type": "stream",
     "text": [
      "2 2 1 1 8 8 3 5 6 7 9\n"
     ]
    }
   ],
   "source": [
    "def sort_array(A1, A2):\n",
    "    from collections import Counter\n",
    "    \n",
    "    count_A1 = Counter(A1)\n",
    "    \n",
    "    result = []\n",
    "    for num in A2:  # Append elements according to the order in A2\n",
    "        if num in count_A1:\n",
    "            result.extend([num] * count_A1[num])  # Add the element as many times as it appears in A1\n",
    "    \n",
    "    remaining_elements = []     # Gather remaining elements not in A2\n",
    "    for num in count_A1:\n",
    "        if num not in A2:\n",
    "            remaining_elements.extend([num] * count_A1[num])  # Add the element as many times as it appears in A1\n",
    "    \n",
    "    # Sort the remaining elements\n",
    "    remaining_elements.sort()\n",
    "    \n",
    "    # Append remaining elements to the result\n",
    "    result.extend(remaining_elements)\n",
    "    return result\n",
    "\n",
    "N, M = map(int, input().strip().split())\n",
    "A1 = list(map(int, input().strip().split()))\n",
    "A2 = list(map(int, input().strip().split()))\n",
    "sorted_result = sort_array(A1, A2)\n",
    "print(\" \".join(map(str, sorted_result)))"
   ]
  },
  {
   "cell_type": "markdown",
   "metadata": {},
   "source": [
    "### **18. Given an array of size N, find the minimum number of swaps required to sort the array.**\n",
    "\n",
    "**Input Description:**\n",
    "\n",
    "Size of the array followed by the elements of the array\n",
    "\n",
    "**Output Description:**\n",
    "\n",
    "Minimum number of swaps required\n",
    "\n",
    "**Sample Input:**\n",
    "\n",
    "4\n",
    "\n",
    "4 3 2 1\n",
    "\n",
    "**Sample Output:**\n",
    "\n",
    "2"
   ]
  },
  {
   "cell_type": "code",
   "execution_count": 19,
   "metadata": {},
   "outputs": [
    {
     "name": "stdout",
     "output_type": "stream",
     "text": [
      "2\n"
     ]
    }
   ],
   "source": [
    "def min_swaps(arr):\n",
    "    n = len(arr)\n",
    "    arr_indexed = [(value, index) for index, value in enumerate(arr)]\n",
    "    arr_indexed.sort()  \n",
    "\n",
    "    visited = [False] * n  # To keep track of visited indices\n",
    "    swaps = 0  # Count of swaps needed\n",
    "\n",
    "    for i in range(n):\n",
    "        if visited[i] or arr_indexed[i][1] == i:\n",
    "            continue\n",
    "        cycle_size = 0\n",
    "        j = i\n",
    "\n",
    "        while not visited[j]:\n",
    "            visited[j] = True\n",
    "            j = arr_indexed[j][1]\n",
    "            cycle_size += 1\n",
    "        if cycle_size > 0:\n",
    "            swaps += (cycle_size - 1)\n",
    "    return swaps\n",
    "\n",
    "N = int(input())\n",
    "arr = list(map(int, input().strip().split()))\n",
    "result = min_swaps(arr)\n",
    "print(result)"
   ]
  },
  {
   "cell_type": "markdown",
   "metadata": {},
   "source": [
    "### **19. Vishal is a competitive coder and he loves problems on sorting and searching. He is bored right now and decides to solve a sorting problem with a modification. He decides to sort the elements at the even indices of an array in ascending order and the elements at the odd indices in descending order. Vishal goes outside his room after coding the solution, but his laptop crashes and he is unable to show it to his teacher. Can you help Vishal by coding the solution to the problem?**\n",
    "\n",
    "**Constraints:**\n",
    "\n",
    "0<=array[i]<=10000\n",
    "\n",
    "**Input Description:**\n",
    "\n",
    "Size of the array followed by the elements of the array\n",
    "\n",
    "**Output Description:**\n",
    "\n",
    "Sorted elements of the array\n",
    "\n",
    "**Sample Input:**\n",
    "\n",
    "10 \n",
    "\n",
    "9 8 7 1 2 3 6 5 4 10\n",
    "\n",
    "**Sample Output:**\n",
    "\n",
    "2 10 4 8 6 5 7 3 9 1"
   ]
  },
  {
   "cell_type": "code",
   "execution_count": 21,
   "metadata": {},
   "outputs": [
    {
     "name": "stdout",
     "output_type": "stream",
     "text": [
      "2 10 4 8 6 5 7 3 9 1\n"
     ]
    }
   ],
   "source": [
    "def sort_even_odd(arr):\n",
    "    even_indexed = []\n",
    "    odd_indexed = []\n",
    "    for i in range(len(arr)):\n",
    "        if i % 2 == 0:\n",
    "            even_indexed.append(arr[i])\n",
    "        else:\n",
    "            odd_indexed.append(arr[i])\n",
    "    even_indexed.sort()\n",
    "    odd_indexed.sort(reverse=True)\n",
    "\n",
    "    result = []\n",
    "    even_ptr = 0\n",
    "    odd_ptr = 0\n",
    "\n",
    "    for i in range(len(arr)):\n",
    "        if i % 2 == 0:\n",
    "            result.append(even_indexed[even_ptr])\n",
    "            even_ptr += 1\n",
    "        else:\n",
    "            result.append(odd_indexed[odd_ptr])\n",
    "            odd_ptr += 1\n",
    "    return result\n",
    "\n",
    "N = int(input())\n",
    "arr = list(map(int, input().strip().split()))\n",
    "sorted_arr = sort_even_odd(arr)\n",
    "print(' '.join(map(str, sorted_arr)))"
   ]
  },
  {
   "cell_type": "markdown",
   "metadata": {},
   "source": [
    "### **20. Quick sort works in the following manner:**\n",
    "\n",
    "Taking the analogical view in perspective, consider a situation where one had to sort the papers bearing the names of the students, by name. One might use the approach as follows:\n",
    "Select a splitting value, say L. The splitting value is also known as Pivot.\n",
    "Divide the stack of papers into two. A-L and M-Z. It is not necessary that the piles should be equal.\n",
    "Repeat the above two steps with the A-L pile, splitting it into its significant two halves. And M-Z pile, split into its halves. The process is repeated until the piles are small enough to be sorted easily.\n",
    "Ultimately, the smaller piles can be placed one on top of the other to produce a fully sorted and ordered set of papers.\n",
    "The approach used here is recursion at each split to get to the single-element array.\n",
    "At every split, the pile was divided and then the same approach was used for the smaller piles.\n",
    "Due to these features, quick sort is also called as partition exchange sort.\n",
    "\n",
    "You have to sort the given array of integer values in quick sort manner\n",
    "\n",
    "**Input Description:**\n",
    "\n",
    "Given an integer 'n' which indicates the length of array and followed by space separated ‘n’ integer values.\n",
    "\n",
    "Where 1<=n<=100 and 1<=A[i]<=10000.\n",
    "\n",
    "**Output Description:**\n",
    "\n",
    "Print the resultant sorted array by using quick sort method.<\n",
    "\n",
    "where 1<=A[i]<=10000.\n",
    "\n",
    "**Sample Input:**\n",
    "\n",
    "6\n",
    "\n",
    "4 2 6 5 3 9\n",
    "\n",
    "**Sample Output:**\n",
    "\n",
    "2 3 4 5 6 9"
   ]
  },
  {
   "cell_type": "code",
   "execution_count": 22,
   "metadata": {},
   "outputs": [
    {
     "name": "stdout",
     "output_type": "stream",
     "text": [
      "2 3 4 5 6 9\n"
     ]
    }
   ],
   "source": [
    "def quick_sort(arr):\n",
    "    if len(arr) <= 1:\n",
    "        return arr\n",
    "    \n",
    "    # Choose the pivot (typically the last element in the array)\n",
    "    pivot = arr[-1]\n",
    "    \n",
    "    # Partition the array into three parts: less, equal, and greater\n",
    "    less = [x for x in arr[:-1] if x <= pivot]\n",
    "    equal = [pivot]\n",
    "    greater = [x for x in arr[:-1] if x > pivot]\n",
    "    \n",
    "    # Recursively sort the less and greater parts, and concatenate\n",
    "    return quick_sort(less) + equal + quick_sort(greater)\n",
    "\n",
    "n = int(input())\n",
    "arr = list(map(int, input().split()))\n",
    "sorted_arr = quick_sort(arr)\n",
    "print(*sorted_arr)"
   ]
  },
  {
   "cell_type": "markdown",
   "metadata": {},
   "source": [
    "### **21. Insertion sort is the sorting mechanism where the sorted array is built having one item at a time. The array elements are compared with each other sequentially and then arranged simultaneously in some particular order.**\n",
    "\n",
    "You have to sort the given array of integer values in insertion sort manner.\n",
    "\n",
    "**Input Description:**\n",
    "\n",
    "Given an integer 'n' which indicates the length of array and next line followed by space separated ‘n’ integer values.\n",
    "\n",
    "Where 1<=n<=100 and -10000<=A[i]<=10000.\n",
    "\n",
    "**Output Description:**\n",
    "\n",
    "Print step by step process of applying insertion sort(print all the iteration of insertion sorting process).\n",
    "\n",
    "where -10000<=A[i]<=10000.\n",
    "\n",
    "**Sample Input:**\n",
    "\n",
    "7\n",
    "\n",
    "3 8 5 4 1 9 -2\n",
    "\n",
    "**Sample Output:**\n",
    "\n",
    "3 8 5 4 1 9 -2\n",
    "3 8 5 4 1 9 -2\n",
    "3 5 8 4 1 9 -2\n",
    "3 4 5 8 1 9 -2\n",
    "1 3 4 5 8 9 -2\n",
    "1 3 4 5 8 9 -2\n",
    "-2 1 3 4 5 8 9"
   ]
  },
  {
   "cell_type": "code",
   "execution_count": 23,
   "metadata": {},
   "outputs": [
    {
     "name": "stdout",
     "output_type": "stream",
     "text": [
      "3 8 5 4 1 9 -2\n",
      "3 8 5 4 1 9 -2\n",
      "3 5 8 4 1 9 -2\n",
      "3 4 5 8 1 9 -2\n",
      "1 3 4 5 8 9 -2\n",
      "1 3 4 5 8 9 -2\n",
      "-2 1 3 4 5 8 9\n"
     ]
    }
   ],
   "source": [
    "def insertion_sort(arr):\n",
    "    n = len(arr)\n",
    "    print(\" \".join(map(str, arr)))\n",
    "    \n",
    "    for i in range(1, n):\n",
    "        key = arr[i]\n",
    "        j = i - 1\n",
    "\n",
    "        while j >= 0 and arr[j] > key:\n",
    "            arr[j + 1] = arr[j]\n",
    "            j -= 1\n",
    "        arr[j + 1] = key\n",
    "        print(\" \".join(map(str, arr)))\n",
    "\n",
    "n = int(input())\n",
    "arr = list(map(int, input().strip().split()))\n",
    "insertion_sort(arr)"
   ]
  },
  {
   "cell_type": "markdown",
   "metadata": {},
   "source": [
    "### **22. You are given an array of N elements. Your task is to sort a subarray denoted by the index values i1 and i2 in descending order. Note: Index values start at 0. The sorting must be completed in O(i2-i1+1)log(i2-i1+1)**\n",
    "\n",
    "**Input Description:**\n",
    "\n",
    "Size of array followed by elements of the array. The third line contains the start and end indices of the subarray( i1 and i2)\n",
    "\n",
    "**Output Description:**\n",
    "\n",
    "A partially sorted array\n",
    "\n",
    "**Sample Input:**\n",
    "\n",
    "6\n",
    "\n",
    "34 9 2 10 56\n",
    "\n",
    "1 3\n",
    "\n",
    "**Sample Output:**\n",
    "\n",
    "34 2 9 10 56"
   ]
  },
  {
   "cell_type": "code",
   "execution_count": 24,
   "metadata": {},
   "outputs": [
    {
     "name": "stdout",
     "output_type": "stream",
     "text": [
      "34 10 9 2 56\n"
     ]
    }
   ],
   "source": [
    "def sort_subarray(arr, i1, i2):\n",
    "    subarray = arr[i1:i2 + 1]\n",
    "    subarray.sort(reverse=True)\n",
    "    arr[i1:i2 + 1] = subarray\n",
    "\n",
    "n = int(input().strip())\n",
    "arr = list(map(int, input().strip().split()))\n",
    "i1, i2 = map(int, input().strip().split())\n",
    "sort_subarray(arr, i1, i2)\n",
    "print(' '.join(map(str, arr)))"
   ]
  },
  {
   "cell_type": "markdown",
   "metadata": {},
   "source": [
    "### **23. You are given a number ‘n’. Your task is to create the smallest number possible using the digits of number. The number should be of the same length as the orignal input number.**\n",
    "\n",
    "**Input Description:**\n",
    "\n",
    "You are given a number ‘n’,\n",
    "\n",
    "**Output Description:**\n",
    "\n",
    "Print the smallest possible number of same length\n",
    "\n",
    "**Sample Input:**\n",
    "\n",
    "123456789123456789\n",
    "\n",
    "**Sample Output:**\n",
    "\n",
    "112233445566778899"
   ]
  },
  {
   "cell_type": "code",
   "execution_count": 25,
   "metadata": {},
   "outputs": [
    {
     "name": "stdout",
     "output_type": "stream",
     "text": [
      "112233445566778899\n"
     ]
    }
   ],
   "source": [
    "def smallest_number(n):\n",
    "    digits = str(n)     # Convert the number to a string to handle digit counting\n",
    "    count = [0] * 10    # Count the occurrences of each digit\n",
    "    for digit in digits:\n",
    "        count[int(digit)] += 1\n",
    "    result = []     # Create the smallest number using the counts\n",
    "    for i in range(1, 10):\n",
    "        if count[i] > 0:\n",
    "            result.append(str(i))\n",
    "            count[i] -= 1\n",
    "            break\n",
    "    \n",
    "    # Add the remaining digits in sorted order\n",
    "    for i in range(10):\n",
    "        while count[i] > 0:\n",
    "            result.append(str(i))\n",
    "            count[i] -= 1\n",
    "    \n",
    "    # Join the result list to form the final number\n",
    "    smallest_number_str = ''.join(result)\n",
    "    print(smallest_number_str)\n",
    "\n",
    "n = input().strip()\n",
    "smallest_number(n)"
   ]
  },
  {
   "cell_type": "markdown",
   "metadata": {},
   "source": [
    "### **24. Thor wants to sort his weapons based on increasing value of its power to kill. The best coders in his team have done the task but are unable to sort the data in O(NlogN) time. Try to develop code that can sort the data in the required time complexity.**\n",
    "\n",
    "**Constraint:**\n",
    "\n",
    "Power values lie between 0 and 10000\n",
    "\n",
    "**Input Description:**\n",
    "\n",
    "Name of weapons with their power denoted beside it.\n",
    "\n",
    "**Output Description:**\n",
    "\n",
    "Weapon named sorted in order of increasing power\n",
    "\n",
    "**Sample Input:**\n",
    "\n",
    "Mjolnir 200\n",
    "\n",
    "StormBreaker 1000\n",
    "\n",
    "Asgardian 560\n",
    "\n",
    "**Sample Output:**\n",
    "\n",
    "1 Mjolnir\n",
    "\n",
    "2 Asgardian\n",
    "\n",
    "3 StormBreaker"
   ]
  },
  {
   "cell_type": "code",
   "execution_count": null,
   "metadata": {},
   "outputs": [],
   "source": [
    "def sort_weapons(weapons):\n",
    "    sorted_weapons = sorted(weapons, key=lambda weapon: weapon[1])\n",
    "    for index, (name, power) in enumerate(sorted_weapons, start=1):\n",
    "        print(f\"{index} {name}\")\n",
    "\n",
    "weapons = []\n",
    "try:\n",
    "    while True:\n",
    "        line = input().strip()\n",
    "        if not line:\n",
    "            break\n",
    "        name, power = line.rsplit(maxsplit=1)\n",
    "        power = int(power)\n",
    "        weapons.append((name, power))\n",
    "except EOFError:\n",
    "    pass\n",
    "\n",
    "sort_weapons(weapons)"
   ]
  },
  {
   "cell_type": "markdown",
   "metadata": {},
   "source": [
    "### **25. Varsha is a Machine learning scientist. She wants to apply a few ML algorithms on the dataset to do some research and for that, she wants to merge two given arrays and sort them in ascending order. You are an intern working under Varsha and she has asked for your help for the same. Given 2 arrays arr1[] and arr2[], find the union of both the arrays sorted in ascending order.**\n",
    "Note: Union of two arrays must have distinct elements.\n",
    "\n",
    "**Input Description:**\n",
    "\n",
    "Size of arr1[] followed by elements of arr1. Size of arr2[] followed by elements of arr2.\n",
    "\n",
    "**Output Description:**\n",
    "\n",
    "Union of arr1 and arr2 sorted in ascending order.\n",
    "\n",
    "**Sample Input:**\n",
    "\n",
    "2 \n",
    "\n",
    "87 78\n",
    "\n",
    "3\n",
    "\n",
    "1 2 3\n",
    "\n",
    "**Sample Output:**\n",
    "\n",
    "1 2 3 78 87"
   ]
  },
  {
   "cell_type": "code",
   "execution_count": 1,
   "metadata": {},
   "outputs": [
    {
     "name": "stdout",
     "output_type": "stream",
     "text": [
      "1 2 3 78 87\n"
     ]
    }
   ],
   "source": [
    "def union_and_sort(arr1, arr2):\n",
    "    union_set = set(arr1) | set(arr2)\n",
    "    sorted_union = sorted(union_set)\n",
    "    return sorted_union\n",
    "\n",
    "size1 = int(input().strip())\n",
    "arr1 = list(map(int, input().strip().split()))\n",
    "size2 = int(input().strip())\n",
    "arr2 = list(map(int, input().strip().split()))\n",
    "result = union_and_sort(arr1, arr2)\n",
    "print(\" \".join(map(str, result)))"
   ]
  },
  {
   "cell_type": "markdown",
   "metadata": {},
   "source": [
    "### **26. In Counting sort, the frequencies of distinct elements of the array to be sorted is counted and stored in an auxiliary array, by mapping its value as an index of the auxiliary array.**\n",
    "\n",
    "In counting sort,\n",
    "\n",
    "Take two arrays, Count[] and Result[] and given array is input[].\n",
    "Count[] will store the counts of each integer in the given array.\n",
    "Update the Count[] so that each index will store the sum till previous step. (Count[i]=Count[i] + Count[i-1]). Now updated Count[] array will reflect the actual position of each integer in Result[].\n",
    "Now navigate the input array taking one element at a time, Count[input[i]] will tell you the index position of input[i] in Result[]. When you do that, decrease the count in Count[input[i]] by 1.\n",
    "\n",
    "For Example:\n",
    "\n",
    "You have to sort the given array of integer values in counting sort manner.\n",
    "\n",
    "**Input Description:**\n",
    "\n",
    "Given an integer 'n' which indicates the length of array and followed by space separated ‘n’ integer values.\n",
    "\n",
    "Where 1<=n<=100 and 1<=A[i]<=10000.\n",
    "\n",
    "**Output Description:**\n",
    "\n",
    "Print the resultant sorted array by using counting sort method.\n",
    "\n",
    "where 1<=A[i]<=10000.\n",
    "\n",
    "**Sample Input:**\n",
    "\n",
    "10\n",
    "\n",
    "2 1 4 6 7 2 4 1 2 11\n",
    "\n",
    "**Sample Output:**\n",
    "\n",
    "1 1 2 2 2 4 4 6 7 11"
   ]
  },
  {
   "cell_type": "code",
   "execution_count": null,
   "metadata": {},
   "outputs": [
    {
     "name": "stdout",
     "output_type": "stream",
     "text": [
      "1 1 2 2 2 4 4 6 7 11\n"
     ]
    }
   ],
   "source": [
    "def counting_sort(arr):\n",
    "    max_val = max(arr)\n",
    "    \n",
    "    count = [0] * (max_val + 1)     # Initialize Count array with zeros\n",
    "    for num in arr:                 # Count frequencies\n",
    "        count[num] += 1\n",
    "\n",
    "    for i in range(1, len(count)):  # Update Count array to store cumulative counts\n",
    "        count[i] += count[i - 1]\n",
    "    result = [0] * len(arr)         # Create the Result array\n",
    "    \n",
    "    # Build the Result array\n",
    "    for num in reversed(arr):  # Traverse input array in reverse to maintain stability\n",
    "        result[count[num] - 1] = num\n",
    "        count[num] -= 1  # Decrease the count for the next occurrence\n",
    "    return result\n",
    "\n",
    "n = int(input().strip())\n",
    "input_array = list(map(int, input().strip().split()))\n",
    "sorted_array = counting_sort(input_array)\n",
    "print(\" \".join(map(str, sorted_array)))"
   ]
  },
  {
   "cell_type": "markdown",
   "metadata": {},
   "source": [
    "### **27. An athletic championship is to be conducted in Chennai. But due to flash floods, the track got damaged severely. However, the authorities managed to repair most of the tracks. A barrier is placed across those tracks which couldn’t be repaired. i1 and i2 denote the span of a barrier (eg) if i1=2 and i2=5, then the barrier spans from track 2 to track 5. Help the Sports Authority decide how many athletes can run in a single race so that none of them would have to switch tracks? Note: An athlete cannot switch from one track to another while sprinting.**\n",
    "\n",
    "**Input Description:**\n",
    "\n",
    "First line contains number of barriers followed by the total number of tracks.\n",
    "\n",
    "**Output Description:**\n",
    "\n",
    "Number of athletes that can run in a single race.\n",
    "\n",
    "**Sample Input:**\n",
    "\n",
    "1 10\n",
    "\n",
    "5 6\n",
    "\n",
    "**Sample Output:**\n",
    "\n",
    "8"
   ]
  },
  {
   "cell_type": "code",
   "execution_count": 2,
   "metadata": {},
   "outputs": [
    {
     "name": "stdout",
     "output_type": "stream",
     "text": [
      "8\n"
     ]
    }
   ],
   "source": [
    "def available_tracks(barriers, total_tracks):\n",
    "    # Initialize a list to track if a track is blocked\n",
    "    blocked_tracks = [False] * total_tracks\n",
    "    \n",
    "    # Mark the tracks covered by each barrier as blocked\n",
    "    for i1, i2 in barriers:\n",
    "        for i in range(i1-1, i2):\n",
    "            blocked_tracks[i] = True\n",
    "    \n",
    "    # Count the number of unblocked tracks\n",
    "    available = blocked_tracks.count(False)    \n",
    "    return available\n",
    "\n",
    "n, total_tracks = map(int, input().split())\n",
    "barrier_input = list(map(int, input().split()))\n",
    "\n",
    "barriers = []\n",
    "for i in range(0, len(barrier_input), 2):\n",
    "    barriers.append((barrier_input[i], barrier_input[i + 1]))\n",
    "result = available_tracks(barriers, total_tracks)\n",
    "print(result)"
   ]
  },
  {
   "cell_type": "code",
   "execution_count": 3,
   "metadata": {},
   "outputs": [
    {
     "name": "stdout",
     "output_type": "stream",
     "text": [
      "8\n"
     ]
    }
   ],
   "source": [
    "def find_available_tracks():\n",
    "    barriers, total_tracks = map(int, input().split())\n",
    "    blocked_tracks = [False] * (total_tracks + 1)  # Create a list for track availability\n",
    "    \n",
    "    # Marking blocked tracks\n",
    "    for _ in range(barriers):\n",
    "        i1, i2 = map(int, input().split())\n",
    "        for i in range(i1, i2 + 1):\n",
    "            blocked_tracks[i] = True\n",
    "    \n",
    "    # Counting unblocked tracks\n",
    "    available_tracks = sum(1 for i in range(1, total_tracks + 1) if not blocked_tracks[i])\n",
    "    print(available_tracks)\n",
    "\n",
    "find_available_tracks()"
   ]
  },
  {
   "cell_type": "markdown",
   "metadata": {},
   "source": [
    "### **28. Given an array of N elements, sort the elements of the array based on frequency. If two numbers have the same frequency,then the smaller number comes first (eg) if the elements are 1,1,3,1,2,3,4 then the output is 2,4,3,3,1,1,1.**\n",
    " \n",
    "**Input Description:**\n",
    "\n",
    "Size of the array followed by the number of elements\n",
    "\n",
    "**Output Description:**\n",
    "\n",
    "Array elements sorted based on increasing frequency\n",
    "\n",
    "**Sample Input:**\n",
    "\n",
    "5\n",
    "\n",
    "8 8 1 1 3\n",
    "\n",
    "**Sample Output:**\n",
    "\n",
    "3 1 1 8 8"
   ]
  },
  {
   "cell_type": "code",
   "execution_count": 4,
   "metadata": {},
   "outputs": [
    {
     "name": "stdout",
     "output_type": "stream",
     "text": [
      "3 1 1 8 8\n"
     ]
    }
   ],
   "source": [
    "def sort_by_frequency():\n",
    "    n = int(input().strip())\n",
    "    arr = list(map(int, input().strip().split()))\n",
    "    \n",
    "    frequency = {}\n",
    "    for num in arr:\n",
    "        if num in frequency:\n",
    "            frequency[num] += 1\n",
    "        else:\n",
    "            frequency[num] = 1\n",
    "\n",
    "    sorted_arr = sorted(arr, key=lambda x: (frequency[x], x))\n",
    "    print(\" \".join(map(str, sorted_arr)))\n",
    "\n",
    "sort_by_frequency()"
   ]
  },
  {
   "cell_type": "markdown",
   "metadata": {},
   "source": [
    "### **29. A school was conducting the annual exam for students of class 6. A teacher invigilates the Computer Science exam and had strictly ordered all students to sit according to their roll numbers. However when she started checking the papers, she found out that some of the papers were randomly ordered, even though she had collected them bench-wise.The teacher got very angry and wanted to teach the students a lesson. She decides to sort the papers by Bubble Sort, count the number of swaps required for each and every student and deduct as many marks of a student as were the number of swaps required for that student.**\n",
    " \n",
    "**Input Description:**\n",
    "\n",
    "Number of students N, followed by their roll numbers(in the order in which they sat). The second line contains the individual marks of the students.\n",
    "\n",
    "**Output Description:**\n",
    "\n",
    "Final marks of the students after deduction.\n",
    "\n",
    "**Sample Input:**\n",
    "\n",
    "5\n",
    "\n",
    "1 2 3 5 4\n",
    "\n",
    "98 100 67 88 76\n",
    "\n",
    "**Sample Output:**\n",
    "\n",
    "98 100 67 87 75"
   ]
  },
  {
   "cell_type": "code",
   "execution_count": null,
   "metadata": {},
   "outputs": [
    {
     "name": "stdout",
     "output_type": "stream",
     "text": [
      "98 100 67 87 75\n"
     ]
    }
   ],
   "source": [
    "def bubble_sort_with_swaps(roll_numbers, marks):\n",
    "    n = len(roll_numbers)\n",
    "    swap_count = [0] * n  # List to track swaps for each student\n",
    "    \n",
    "    # Perform Bubble Sort and track swaps\n",
    "    for i in range(n):\n",
    "        for j in range(0, n - i - 1):\n",
    "            if roll_numbers[j] > roll_numbers[j + 1]:\n",
    "                # Swap the roll numbers\n",
    "                roll_numbers[j], roll_numbers[j + 1] = roll_numbers[j + 1], roll_numbers[j]\n",
    "                # Track swaps for both students involved in the swap\n",
    "                swap_count[j] += 1\n",
    "                swap_count[j + 1] += 1\n",
    "    \n",
    "    # Deduct marks based on the number of swaps\n",
    "    for i in range(n):\n",
    "        marks[i] -= swap_count[i]    \n",
    "    return marks\n",
    "\n",
    "n = int(input())\n",
    "roll_numbers = list(map(int, input().split()))\n",
    "marks = list(map(int, input().split()))\n",
    "final_marks = bubble_sort_with_swaps(roll_numbers, marks)\n",
    "print(\" \".join(map(str, final_marks)))"
   ]
  },
  {
   "cell_type": "markdown",
   "metadata": {},
   "source": [
    "### **30. Selection sort is an algorithm that selects the smallest element from an unsorted list in each iteration and places that element at the beginning of the unsorted list.**\n",
    "\n",
    "You have to sort the given array of integer value in selection sort manner.\n",
    "\n",
    "**Input Description:**\n",
    "\n",
    "Given an integer 'n' which indicates the length of array and next line followed by space separated ‘n’ integer values.\n",
    "\n",
    "Where 1<=n<=100 and 1<=A[i]<=10000.\n",
    "\n",
    "**Output Description:**\n",
    "\n",
    "Print step by step process of applying selection sort(print all the iteration of selection sorting).\n",
    "\n",
    "where 1<=A[i]<=10000.\n",
    "\n",
    "**Sample Input:**\n",
    "\n",
    "5\n",
    "\n",
    "20 120 10 1050 2\n",
    "\n",
    "**Sample Output:**\n",
    "\n",
    "2 120 10 1050 20\n",
    "2 10 120 1050 20\n",
    "2 10 20 1050 120\n",
    "2 10 20 120 1050\n",
    "2 10 20 120 1050"
   ]
  },
  {
   "cell_type": "code",
   "execution_count": 7,
   "metadata": {},
   "outputs": [
    {
     "name": "stdout",
     "output_type": "stream",
     "text": [
      "2 120 10 1050 20\n",
      "2 10 120 1050 20\n",
      "2 10 20 1050 120\n",
      "2 10 20 120 1050\n",
      "2 10 20 120 1050\n"
     ]
    }
   ],
   "source": [
    "def selection_sort():\n",
    "    n = int(input().strip())\n",
    "    arr = list(map(int, input().strip().split()))\n",
    "\n",
    "    for i in range(n):\n",
    "        min_index = i\n",
    "        for j in range(i + 1, n):\n",
    "            if arr[j] < arr[min_index]:\n",
    "                min_index = j\n",
    "\n",
    "        arr[i], arr[min_index] = arr[min_index], arr[i]\n",
    "        print(\" \".join(map(str, arr)))\n",
    "\n",
    "selection_sort()"
   ]
  },
  {
   "cell_type": "markdown",
   "metadata": {},
   "source": [
    "### **31. Javed is playing one game called  “rot card”. In this game you are given a sorted deck of card numbered from 1 to N.**\n",
    "\n",
    "1) We pick up 1 card and put it on the back of the deck.\n",
    "\n",
    "2) Now, we pick up another card , it turns out to be card numbered 1 , we put it outside the deck.\n",
    "\n",
    "3) Now we pick up 2 cards and put it on the back of the deck.\n",
    "\n",
    "4) Now, we pick up another card and it turns out to be card numbered 2 , we put it outside the deck. ...\n",
    "\n",
    "We perform this step till the last card.\n",
    "\n",
    "If we some combination is possible, output the arrangement else print -1.\n",
    "\n",
    "**Input Description:**\n",
    "\n",
    "You are given with a number ‘n’.\n",
    "\n",
    "**Output Description:**\n",
    "\n",
    "Print the arrangement or print -1.\n",
    "\n",
    "**Sample Input:**\n",
    "\n",
    "4\n",
    "\n",
    "**Sample Output:**\n",
    "\n",
    "2 1 4 3"
   ]
  },
  {
   "cell_type": "code",
   "execution_count": null,
   "metadata": {},
   "outputs": [
    {
     "name": "stdout",
     "output_type": "stream",
     "text": [
      "2 1 4 3\n"
     ]
    }
   ],
   "source": [
    "from collections import deque\n",
    "\n",
    "def rot_card_game(n):\n",
    "    deck = deque(range(1, n + 1))\n",
    "    result = []\n",
    "    for i in range(1, n + 1):\n",
    "        for _ in range(i):\n",
    "            deck.append(deck.popleft())\n",
    "        if deck[0] == i:\n",
    "            print(-1)\n",
    "            return\n",
    "        result.append(deck.popleft())\n",
    "    print(\" \".join(map(str, result)))\n",
    "\n",
    "n = int(input())\n",
    "rot_card_game(n)"
   ]
  },
  {
   "cell_type": "markdown",
   "metadata": {},
   "source": [
    "### **32. You are given a preorder traversal of binary search tree print the post order traversal of it.**\n",
    "\n",
    "**Input Description:**\n",
    "\n",
    "You are given with preorder traversal of binary search tree\n",
    "\n",
    "**Output Description:**\n",
    "\n",
    "Print the post order traversal of tree\n",
    "\n",
    "**Sample Input:**\n",
    "\n",
    "1 0 2\n",
    "\n",
    "**Sample Output:**\n",
    "\n",
    "0 2 1"
   ]
  },
  {
   "cell_type": "code",
   "execution_count": 13,
   "metadata": {},
   "outputs": [
    {
     "name": "stdout",
     "output_type": "stream",
     "text": [
      "0 2 1\n"
     ]
    }
   ],
   "source": [
    "class TreeNode:\n",
    "    def __init__(self, key):\n",
    "        self.left = None\n",
    "        self.right = None\n",
    "        self.val = key\n",
    "\n",
    "def insert_into_bst(root, key):\n",
    "    if root is None:\n",
    "        return TreeNode(key)\n",
    "    if key < root.val:\n",
    "        root.left = insert_into_bst(root.left, key)\n",
    "    else:\n",
    "        root.right = insert_into_bst(root.right, key)\n",
    "    return root\n",
    "\n",
    "def postorder_traversal(root, result):\n",
    "    if root:\n",
    "        postorder_traversal(root.left, result)\n",
    "        postorder_traversal(root.right, result)\n",
    "        result.append(root.val)\n",
    "\n",
    "def preorder_to_postorder(preorder):\n",
    "    if not preorder:\n",
    "        return []\n",
    "    \n",
    "    root = None\n",
    "    for key in preorder:\n",
    "        root = insert_into_bst(root, key)\n",
    "    postorder_result = []\n",
    "    postorder_traversal(root, postorder_result)\n",
    "    return postorder_result\n",
    "\n",
    "preorder_input = list(map(int, input().strip().split()))\n",
    "postorder_output = preorder_to_postorder(preorder_input)\n",
    "print(\" \".join(map(str, postorder_output)))"
   ]
  },
  {
   "cell_type": "markdown",
   "metadata": {},
   "source": [
    "### **33. Mr.Stark wants to order the employee ids, which are recorded in a 2D matrix, in ascending order. He wants to do it so as to allot a new id to a person who joins as a fresher. You are the CTO of the Stark industries and you are asked by Mr.Stark to sort the data.**\n",
    "\n",
    "**Input Description:**\n",
    "\n",
    "Dimensions of the matrix m and n, followed by the elements of the matrix.\n",
    "\n",
    "**Output Description:**\n",
    "\n",
    "Matrix sorted in ascending order\n",
    "\n",
    "**Sample Input:**\n",
    "\n",
    "3 3\n",
    "\n",
    "87 21 34\n",
    "\n",
    "89 32 78\n",
    "\n",
    "12 23 45\n",
    "\n",
    "**Sample Output:**\n",
    "\n",
    "12 21 23\n",
    "\n",
    "32 34 45\n",
    "\n",
    "78 87 89"
   ]
  },
  {
   "cell_type": "code",
   "execution_count": 14,
   "metadata": {},
   "outputs": [
    {
     "name": "stdout",
     "output_type": "stream",
     "text": [
      "12 21 23\n",
      "32 34 45\n",
      "78 87 89\n"
     ]
    }
   ],
   "source": [
    "m, n = map(int, input().split())\n",
    "matrix = [int(x) for _ in range(m) for x in input().split()]\n",
    "sorted_matrix = sorted(matrix)\n",
    "for i in range(m):\n",
    "    print(\" \".join(map(str, sorted_matrix[i*n:(i+1)*n])))"
   ]
  },
  {
   "cell_type": "markdown",
   "metadata": {},
   "source": [
    "### **34. You are given some pens of specific serial number whenever a new pen is inserted you have to print the new arrangement of pens in sorted order.**\n",
    "\n",
    "**Input Description:**\n",
    "\n",
    "You are given a number ‘n’ denoting the number of new pens to be added. Next line contains n space separated numbers denoting the serial numbers of new pens. Next line contains a number ‘m’ representing already present number Next line contains m space separated already present numbers.\n",
    "\n",
    "**Output Description:**\n",
    "\n",
    "Print the arrangement after adding the new number\n",
    "\n",
    "**Sample Input:**\n",
    "\n",
    "3\n",
    "\n",
    "15 19 3\n",
    "\n",
    "2\n",
    "\n",
    "12 13\n",
    "\n",
    "**Sample Output:**\n",
    "\n",
    "3 12 13 15 19"
   ]
  },
  {
   "cell_type": "code",
   "execution_count": 7,
   "metadata": {},
   "outputs": [
    {
     "name": "stdout",
     "output_type": "stream",
     "text": [
      "3 12 13 15 19\n"
     ]
    }
   ],
   "source": [
    "def sorted_pen_arrangement():\n",
    "    n = int(input())\n",
    "    new_pens = list(map(int, input().split()))\n",
    "    m = int(input())\n",
    "    present_pens = list(map(int, input().split()))\n",
    "    \n",
    "    all_pens = present_pens[:]\n",
    "    for pen in new_pens:\n",
    "        all_pens.append(pen)\n",
    "        all_pens.sort()\n",
    "    print(*all_pens)\n",
    "\n",
    "sorted_pen_arrangement()"
   ]
  },
  {
   "cell_type": "code",
   "execution_count": null,
   "metadata": {},
   "outputs": [
    {
     "name": "stdout",
     "output_type": "stream",
     "text": [
      "3 12 13 15 19\n"
     ]
    }
   ],
   "source": [
    "n = int(input())\n",
    "new_pens = list(map(int, input().split()))\n",
    "m = int(input())\n",
    "present_pens = list(map(int, input().split()))\n",
    "\n",
    "# all_pens.extend(new_pens)\n",
    "all_pens = present_pens + new_pens\n",
    "all_pens.sort()\n",
    "print(\" \".join(map(str, all_pens)))"
   ]
  },
  {
   "cell_type": "markdown",
   "metadata": {},
   "source": [
    "### **35. You are a software engineer at an MNC. You are given the task of sorting the employees in your company based on their salary. Perform the task so that the employees, including yourself, will get a bonus from the management.**\n",
    "\n",
    "**CONSTRAINT:v\n",
    "\n",
    "0<=salary<=1000000\n",
    "\n",
    "**Input Description:**\n",
    "\n",
    "Number of employees followed by their name and salary\n",
    "\n",
    "**Output Description:**\n",
    "\n",
    "Sorted list of employee names\n",
    "\n",
    "**Sample Input:**\n",
    "\n",
    "3\n",
    "\n",
    "Karthik 23000 rohan 81734 varshini 12343\n",
    "\n",
    "**Sample Output:**\n",
    "\n",
    "varshini\n",
    "\n",
    "Karthik\n",
    "\n",
    "Rohan"
   ]
  },
  {
   "cell_type": "code",
   "execution_count": null,
   "metadata": {},
   "outputs": [
    {
     "name": "stdout",
     "output_type": "stream",
     "text": [
      "varshini\n",
      "Karthik\n",
      "rohan\n"
     ]
    }
   ],
   "source": [
    "num_employees = int(input())\n",
    "data = input().split()\n",
    "\n",
    "# Parse the employee data into a list of (name, salary) tuples\n",
    "employees = [(data[i], int(data[i+1])) for i in range(0, len(data), 2)]\n",
    "sorted_employees = sorted(employees, key=lambda x: x[1])\n",
    "for employee in sorted_employees:\n",
    "    print(employee[0])"
   ]
  },
  {
   "cell_type": "markdown",
   "metadata": {},
   "source": [
    "### **36. Arvind Kejriwal wants to implement a revised version of the ODD/EVEN scheme for vehicles in order to reduce pollution in Delhi. The vehicle numbers are stored in an array and instead of allowing only either of odd/even numbered vehicles on the road, he decides to allow the vehicles at odd/even INDICES of the array on a particular day. The day being Monday, only vehicles at even indices are allowed on the road. He wants to analyse the number of vehicles that are allowed on the road on that particular day and hence decides to order the data in ascending order. Sort the elements at the even indices of the array in ascending order and help make the IITan’s idea a success! Kejriwal would be happy if you could it in O(Nlog N) complexity, where N is the number of elements that are to be sorted.**\n",
    " \n",
    "**Input Description:**\n",
    "\n",
    "Size of the array followed by the elements of the array\n",
    "\n",
    "**Output Description:**\n",
    "\n",
    "Array with elements at the even indexes sorted in ascending order.\n",
    "\n",
    "**Sample Input:**\n",
    "\n",
    "6\n",
    "\n",
    "12 44 23 16 1 62\n",
    "\n",
    "**Sample Output:**\n",
    "\n",
    "1 44 12 16 23 62"
   ]
  },
  {
   "cell_type": "code",
   "execution_count": 20,
   "metadata": {},
   "outputs": [
    {
     "name": "stdout",
     "output_type": "stream",
     "text": [
      "1 44 12 16 23 62\n"
     ]
    }
   ],
   "source": [
    "def main():\n",
    "    n = int(input().strip())\n",
    "    array = list(map(int, input().strip().split()))\n",
    "    even_index_elements = [array[i] for i in range(0, n, 2)]\n",
    "    even_index_elements.sort()\n",
    "    \n",
    "    for i, sorted_value in enumerate(even_index_elements):\n",
    "        array[i * 2] = sorted_value\n",
    "    print(\" \".join(map(str, array)))\n",
    "\n",
    "main()"
   ]
  },
  {
   "cell_type": "markdown",
   "metadata": {},
   "source": [
    "### **37. Given a string containing a mix of upper and lowercase characters, sort the letters in ascending order such that the positions of upper and lowercase letters do not change. (eg) If the string is guVIONLineCoDIng, then the output must be  egCDIILginNnOVou.**\n",
    "\n",
    "**Input Description:**\n",
    "\n",
    "A string\n",
    "\n",
    "**Output Description:**\n",
    "\n",
    "Letters of the string sorted such that positions of upper and lower characters do not change.\n",
    "\n",
    "**Sample Input:**\n",
    "\n",
    "GuVi\n",
    "\n",
    "**Sample Output:**\n",
    "\n",
    "GiVu"
   ]
  },
  {
   "cell_type": "code",
   "execution_count": 21,
   "metadata": {},
   "outputs": [
    {
     "name": "stdout",
     "output_type": "stream",
     "text": [
      "GiVu\n"
     ]
    }
   ],
   "source": [
    "def sort_letters_preserving_case(s):\n",
    "    # Separate uppercase and lowercase letters\n",
    "    upper_letters = sorted([char for char in s if char.isupper()])\n",
    "    lower_letters = sorted([char for char in s if char.islower()])\n",
    "    \n",
    "    # Iterator for sorted letters\n",
    "    upper_iter = iter(upper_letters)\n",
    "    lower_iter = iter(lower_letters)\n",
    "    \n",
    "    # Reconstruct the sorted string\n",
    "    result = []\n",
    "    for char in s:\n",
    "        if char.isupper():\n",
    "            result.append(next(upper_iter))\n",
    "        elif char.islower():\n",
    "            result.append(next(lower_iter))\n",
    "        else:\n",
    "            result.append(char)\n",
    "    return ''.join(result)\n",
    "\n",
    "input_string = input().strip()\n",
    "output_string = sort_letters_preserving_case(input_string)\n",
    "print(output_string)"
   ]
  },
  {
   "cell_type": "markdown",
   "metadata": {},
   "source": [
    "### **38. Ram loves bit magic. He is given a set of integers, and wants to sort them based on the number of 1s in their binary representations ( in descending order). Help Ram do a little bit of bit magic!**\n",
    " \n",
    "**Input Description:**\n",
    "\n",
    "Number of elements followed by the elements\n",
    "\n",
    "**Output Description:**\n",
    "\n",
    "Sorted list of numbers\n",
    "\n",
    "**Sample Input:**\n",
    "\n",
    "6\n",
    "\n",
    "1 2 3 4 5 6\n",
    "\n",
    "**Sample Output:**\n",
    "\n",
    "3 5 6 1 2 4"
   ]
  },
  {
   "cell_type": "code",
   "execution_count": 22,
   "metadata": {},
   "outputs": [
    {
     "name": "stdout",
     "output_type": "stream",
     "text": [
      "3 5 6 1 2 4\n"
     ]
    }
   ],
   "source": [
    "def sort_by_bit_count():\n",
    "    n = int(input())\n",
    "    numbers = list(map(int, input().split()))\n",
    "    sorted_numbers = sorted(numbers, key=lambda x: (-bin(x).count('1'), x))\n",
    "    print(\" \".join(map(str, sorted_numbers)))\n",
    "\n",
    "sort_by_bit_count()"
   ]
  },
  {
   "cell_type": "code",
   "execution_count": null,
   "metadata": {},
   "outputs": [],
   "source": []
  }
 ],
 "metadata": {
  "kernelspec": {
   "display_name": "py12",
   "language": "python",
   "name": "python3"
  },
  "language_info": {
   "codemirror_mode": {
    "name": "ipython",
    "version": 3
   },
   "file_extension": ".py",
   "mimetype": "text/x-python",
   "name": "python",
   "nbconvert_exporter": "python",
   "pygments_lexer": "ipython3",
   "version": "3.12.7"
  }
 },
 "nbformat": 4,
 "nbformat_minor": 2
}
