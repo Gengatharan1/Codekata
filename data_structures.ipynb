{
 "cells": [
  {
   "cell_type": "markdown",
   "metadata": {},
   "source": [
    "### **1. Given a number N,print number of all possible valid expressions with N pairs of brackets(use this {}).For example({{{}}}**\n",
    "{{}{}}\n",
    "{{}}{}\n",
    "{}{{}}\n",
    "{}{}{})3 brackets has 5 pairs.\n",
    "\n",
    "Input Size : 1 <= N <= 100000\n",
    "\n",
    "Sample Testcases :\n",
    "\n",
    "**INPUT**\n",
    "\n",
    "2\n",
    "\n",
    "**OUTPUT**\n",
    "\n",
    "2\n",
    "\n",
    "#### **Formula:**\n",
    "\n",
    "Catalan numbers are a sequence of positive integers, where the nth term in the sequence, denoted Cn, is found in the following formula: (2n)! / ((n + 1)!"
   ]
  },
  {
   "cell_type": "code",
   "execution_count": 5,
   "metadata": {},
   "outputs": [
    {
     "name": "stdout",
     "output_type": "stream",
     "text": [
      "2\n"
     ]
    }
   ],
   "source": [
    "import math\n",
    "\n",
    "def catalan_number(N):\n",
    "    # Compute the binomial coefficient\n",
    "    binom = math.comb(2 * N, N)\n",
    "    # Compute the Catalan number using the formula\n",
    "    catalan = binom // (N + 1)\n",
    "    return catalan\n",
    "\n",
    "# Sample input\n",
    "N = 2\n",
    "\n",
    "# Compute the result\n",
    "output = catalan_number(N)\n",
    "print(output)"
   ]
  },
  {
   "cell_type": "markdown",
   "metadata": {},
   "source": [
    "### **2. Given a string S of length N, print all permutations of the string in a separate line.**\n",
    "\n",
    "Input Size : 1 <= N <= 100000\n",
    "\n",
    "#### **Sample Testcases:**\n",
    "\n",
    "**INPUT**\n",
    "\n",
    "123\n",
    "\n",
    "**OUTPUT**\n",
    "\n",
    "123\n",
    "\n",
    "231\n",
    "\n",
    "321\n",
    "\n",
    "213\n",
    "\n",
    "312\n",
    "\n",
    "132"
   ]
  },
  {
   "cell_type": "code",
   "execution_count": 7,
   "metadata": {},
   "outputs": [
    {
     "name": "stdout",
     "output_type": "stream",
     "text": [
      "123\n",
      "132\n",
      "213\n",
      "231\n",
      "312\n",
      "321\n"
     ]
    }
   ],
   "source": [
    "import itertools\n",
    "\n",
    "def print_permutations(s):\n",
    "    permutations = itertools.permutations(s)\n",
    "    for perm in permutations:\n",
    "        print(''.join(perm))\n",
    "\n",
    "# Sample input\n",
    "s = input()\n",
    "\n",
    "# Compute and print the result\n",
    "print_permutations(s)"
   ]
  },
  {
   "cell_type": "markdown",
   "metadata": {},
   "source": [
    "### **3. Given a cache and 2 integers N(number of Cache entries), K(Size of the cache) followed by N queries each containing an integer, implement a LRU cache and output the final cache after all N queries.**\n",
    "\n",
    "Input Size : 1 <= N <= 100000\n",
    "\n",
    "Sample Testcase :\n",
    "\n",
    "**INPUT**\n",
    "\n",
    "3 2\n",
    "\n",
    "1 2 3\n",
    "\n",
    "**OUTPUT**\n",
    "\n",
    "2 3"
   ]
  },
  {
   "cell_type": "code",
   "execution_count": 10,
   "metadata": {},
   "outputs": [
    {
     "name": "stdout",
     "output_type": "stream",
     "text": [
      "2 3\n"
     ]
    }
   ],
   "source": [
    "from collections import OrderedDict\n",
    "\n",
    "def lru_cache(N, K, queries):\n",
    "    cache = OrderedDict()\n",
    "    \n",
    "    for query in queries:\n",
    "        if query in cache:\n",
    "            cache.move_to_end(query)\n",
    "        else:\n",
    "            if len(cache) >= K:\n",
    "                cache.popitem(last=False)\n",
    "            cache[query] = None\n",
    "    \n",
    "    return list(cache.keys())\n",
    "\n",
    "N, K = map(int, input().split())\n",
    "queries = list(map(int, input().split()))\n",
    "\n",
    "# Compute the result\n",
    "output = lru_cache(N, K, queries)\n",
    "print(*output)"
   ]
  },
  {
   "cell_type": "markdown",
   "metadata": {},
   "source": [
    "### **4. Given a number N. There will be N numbers given. Print the smallest number in the given list after each input(Hint use priority queue).**\n",
    "\n",
    "Input Size : N <= 100000\n",
    "\n",
    "#### **Sample Testcase:**\n",
    "\n",
    "**INPUT**\n",
    "\n",
    "4\n",
    "\n",
    "3 2 4 1\n",
    "\n",
    "**OUTPUT**\n",
    "\n",
    "3 2 2 1"
   ]
  },
  {
   "cell_type": "code",
   "execution_count": 12,
   "metadata": {},
   "outputs": [
    {
     "name": "stdout",
     "output_type": "stream",
     "text": [
      "3 2 2 1\n"
     ]
    }
   ],
   "source": [
    "# We use the heapq module which provides an implementation of the min-heap.\n",
    "import heapq\n",
    "\n",
    "def print_smallest_after_each_input(n, numbers):\n",
    "    # initializes an empty list to be used as a heap.\n",
    "    min_heap = []\n",
    "\n",
    "    # To store the smallest number after each input.\n",
    "    results = []\n",
    "    \n",
    "    for number in numbers:\n",
    "        # If the heap is empty, we add the number to the heap.\n",
    "        heapq.heappush(min_heap, number)\n",
    "        # If the heap is not empty, we pop the smallest number from the heap and add the number to the results list\n",
    "        results.append(min_heap[0])\n",
    "\n",
    "    # After processing all numbers, the results list contains the smallest number after each input\n",
    "    return results\n",
    "\n",
    "N = int(input())                                # N = 4\n",
    "numbers = list(map(int, input().split()))       # numbers = [3, 2, 4, 1]\n",
    "\n",
    "result = print_smallest_after_each_input(N, numbers)\n",
    "print(' '.join(map(str, result)))"
   ]
  },
  {
   "cell_type": "markdown",
   "metadata": {},
   "source": [
    "### **5. Given two numbers N,K and an array of size N, print the three nearest neighbours of K(nearest neighbours are numbers which have least difference with K).**\n",
    "\n",
    "Input Size : 4 <= N, K <= 100000\n",
    "\n",
    "#### **Sample Testcases:**\n",
    "\n",
    "**INPUT**\n",
    "\n",
    "5 3\n",
    "\n",
    "1 2 3 4 6\n",
    "\n",
    "**OUTPUT**\n",
    "\n",
    "2 4 1"
   ]
  },
  {
   "cell_type": "code",
   "execution_count": 28,
   "metadata": {},
   "outputs": [
    {
     "name": "stdout",
     "output_type": "stream",
     "text": [
      "[3, 4, 6]\n",
      "[3, 4, 6]\n"
     ]
    }
   ],
   "source": [
    "def findClosestElements(arr, k, x):\n",
    "        # Sort with Comparator\n",
    "        arr.sort(key=lambda num : abs(num - x))\n",
    "        closest = sorted(arr[i] for i in range(k))\n",
    "        return closest\n",
    "\n",
    "x, k = map(int, input().split())\n",
    "arr = list(map(int, input().split()))\n",
    "print(findClosestElements(arr, k, x))\n",
    "\n",
    "def findClosestElements(x, k, arr):\n",
    "        # Min Heap\n",
    "        import heapq\n",
    "        min_heap = []\n",
    "        for a in arr:\n",
    "            heapq.heappush(min_heap, (abs(a - x), a))\n",
    "\n",
    "        closest = []\n",
    "        for _ in range(k):\n",
    "            closest.append(heapq.heappop(min_heap)[1])\n",
    "        \n",
    "        closest.sort()\n",
    "        return closest\n",
    "\n",
    "x, k = map(int, input().split())\n",
    "arr = list(map(int, input().split()))\n",
    "print(findClosestElements(x, k, arr))"
   ]
  },
  {
   "cell_type": "markdown",
   "metadata": {},
   "source": [
    "### **6. Given a string S consisting of only '(' and ')', print 'yes' if it is balanced otherwise print 'no'.**\n",
    "\n",
    "#### **Sample Testcase:**\n",
    "\n",
    "**INPUT**\n",
    "\n",
    "(())\n",
    "\n",
    "**OUTPUT**\n",
    "\n",
    "yes"
   ]
  },
  {
   "cell_type": "code",
   "execution_count": 26,
   "metadata": {},
   "outputs": [
    {
     "name": "stdout",
     "output_type": "stream",
     "text": [
      "yes\n"
     ]
    }
   ],
   "source": [
    "def is_balanced(s):\n",
    "    stack = []\n",
    "    \n",
    "    for char in s:\n",
    "        if char == '(':\n",
    "            stack.append(char)\n",
    "        elif char == ')':\n",
    "            if stack:\n",
    "                stack.pop()\n",
    "            else:\n",
    "                return \"no\"\n",
    "    \n",
    "    return \"yes\" if not stack else \"no\"\n",
    "\n",
    "s = input()\n",
    "output = is_balanced(s)\n",
    "print(output)"
   ]
  },
  {
   "cell_type": "markdown",
   "metadata": {},
   "source": [
    "### **7. Given 2 numbers a and B.Print the value of a!/b!.**\n",
    "\n",
    "Input Size : A,B <= 10000 and A-B <= 5\n",
    "\n",
    "#### **Sample Testcase:**\n",
    "\n",
    "**INPUT**\n",
    "\n",
    "4 2\n",
    "\n",
    "**OUTPUT**\n",
    "\n",
    "12"
   ]
  },
  {
   "cell_type": "code",
   "execution_count": 4,
   "metadata": {},
   "outputs": [
    {
     "name": "stdout",
     "output_type": "stream",
     "text": [
      "12\n"
     ]
    }
   ],
   "source": [
    "def factorial_division(a, b):\n",
    "    result = 1\n",
    "    for i in range(b+1, a+1):\n",
    "        result *= i\n",
    "    return result\n",
    "\n",
    "a, b = map(int, input().split())\n",
    "\n",
    "# Compute the result\n",
    "output = factorial_division(a, b)\n",
    "print(output)"
   ]
  },
  {
   "cell_type": "markdown",
   "metadata": {},
   "source": [
    "### **8. Given a string S of length N, find if it forms a Palindrome after deleting 1 character.**\n",
    "\n",
    "Input Size : 1 <= N <= 100000\n",
    "\n",
    "#### **Sample Testcases:**\n",
    "\n",
    "**INPUT**\n",
    "\n",
    "abxba\n",
    "\n",
    "**OUTPUT**\n",
    "\n",
    "YES"
   ]
  },
  {
   "cell_type": "code",
   "execution_count": 27,
   "metadata": {},
   "outputs": [
    {
     "name": "stdout",
     "output_type": "stream",
     "text": [
      "YES\n"
     ]
    }
   ],
   "source": [
    "def is_palindrome_range(s, left, right):\n",
    "    while left < right:\n",
    "        if s[left] != s[right]:\n",
    "            return False\n",
    "        left += 1\n",
    "        right -= 1\n",
    "    return True\n",
    "\n",
    "def can_form_palindrome_by_deleting_one(s):\n",
    "    left, right = 0, len(s) - 1\n",
    "    \n",
    "    while left < right:\n",
    "        if s[left] == s[right]:\n",
    "            left += 1\n",
    "            right -= 1\n",
    "        else:\n",
    "            # Check by skipping left character or right character\n",
    "            return is_palindrome_range(s, left + 1, right) or is_palindrome_range(s, left, right - 1)\n",
    "    \n",
    "    return True\n",
    "\n",
    "s = input()\n",
    "output = \"YES\" if can_form_palindrome_by_deleting_one(s) else \"NO\"\n",
    "print(output)"
   ]
  },
  {
   "cell_type": "markdown",
   "metadata": {},
   "source": [
    "### **9. Given a number N followed by a list of N numbers. Write a program to reverse the list and print the list.**\n",
    "\n",
    "Input Size : 1 <= N <= 10000\n",
    "\n",
    "#### **Sample Testcases:**\n",
    "\n",
    "**INPUT**\n",
    "\n",
    "7\n",
    "\n",
    "1 2 3 4 5 6 7\n",
    "\n",
    "**OUTPUT**\n",
    "\n",
    "7->6->5->4->3->2->1"
   ]
  },
  {
   "cell_type": "code",
   "execution_count": 29,
   "metadata": {},
   "outputs": [
    {
     "name": "stdout",
     "output_type": "stream",
     "text": [
      "7->6->5->4->3->2->1\n"
     ]
    }
   ],
   "source": [
    "def reverse_list_and_print(n, numbers):\n",
    "    # Reverse the list\n",
    "    reversed_list = numbers[::-1]\n",
    "    \n",
    "    # Join the reversed list with '->' and print\n",
    "    output = '->'.join(map(str, reversed_list))\n",
    "    print(output)\n",
    "\n",
    "N = int(input())\n",
    "numbers = list(map(int, input().split()))\n",
    "reverse_list_and_print(N, numbers)"
   ]
  },
  {
   "cell_type": "markdown",
   "metadata": {},
   "source": [
    "### **10. Given a number N and K followed by N elements and K elements. Now insert the given K elements one by one into the array and print the maximum in the array after each insertion .**\n",
    "\n",
    "Input Size : K <= N <= 10000(read about priority queues and implement)\n",
    "\n",
    "#### **Sample Testcase:**\n",
    "\n",
    "**INPUT**\n",
    "\n",
    "5 2\n",
    "\n",
    "1 2 3 4 5\n",
    "\n",
    "5 4\n",
    "\n",
    "**OUTPUT**\n",
    "\n",
    "5 5"
   ]
  },
  {
   "cell_type": "code",
   "execution_count": 30,
   "metadata": {},
   "outputs": [
    {
     "name": "stdout",
     "output_type": "stream",
     "text": [
      "5 5\n"
     ]
    }
   ],
   "source": [
    "import heapq\n",
    "\n",
    "def insert_and_get_max(n, k, initial_elements, new_elements):\n",
    "    # Create a max-heap using negative values\n",
    "    max_heap = [-x for x in initial_elements]\n",
    "    heapq.heapify(max_heap)\n",
    "    \n",
    "    results = []\n",
    "    \n",
    "    for elem in new_elements:\n",
    "        heapq.heappush(max_heap, -elem)\n",
    "        # The maximum value is the negative of the root of the heap\n",
    "        results.append(-max_heap[0])\n",
    "    \n",
    "    return results\n",
    "\n",
    "N, K = map(int, input().split())\n",
    "initial_elements = list(map(int, input().split()))\n",
    "new_elements = map(int, input().split())\n",
    "\n",
    "output = insert_and_get_max(N, K, initial_elements, new_elements)\n",
    "print(' '.join(map(str, output)))"
   ]
  },
  {
   "cell_type": "markdown",
   "metadata": {},
   "source": [
    "### **11. Given a string S of length N, find whether the given string is a palindrome using stack or linked list and print 'yes' otherwise print 'no'.**\n",
    "\n",
    "Input Size : 1 <= N <= 100000\n",
    "\n",
    "#### **Sample Testcases:**\n",
    "\n",
    "**INPUT**\n",
    "\n",
    "GuviGeek\n",
    "\n",
    "**OUTPUT**\n",
    "\n",
    "no"
   ]
  },
  {
   "cell_type": "code",
   "execution_count": 32,
   "metadata": {},
   "outputs": [
    {
     "name": "stdout",
     "output_type": "stream",
     "text": [
      "no\n"
     ]
    }
   ],
   "source": [
    "def is_palindrome(s):\n",
    "    stack = []\n",
    "    length = len(s)\n",
    "    mid = length // 2\n",
    "    \n",
    "    # Push the first half of characters onto the stack\n",
    "    for i in range(mid):\n",
    "        stack.append(s[i])\n",
    "    \n",
    "    # Compare with the second half of characters\n",
    "    start = mid if length % 2 == 0 else mid + 1\n",
    "    for i in range(start, length):\n",
    "        if stack.pop() != s[i]:\n",
    "            return \"no\"\n",
    "    \n",
    "    return \"yes\"\n",
    "\n",
    "# Sample input\n",
    "s = input()\n",
    "\n",
    "# Compute and print the result\n",
    "output = is_palindrome(s)\n",
    "print(output)"
   ]
  }
 ],
 "metadata": {
  "kernelspec": {
   "display_name": "Python 3",
   "language": "python",
   "name": "python3"
  },
  "language_info": {
   "codemirror_mode": {
    "name": "ipython",
    "version": 3
   },
   "file_extension": ".py",
   "mimetype": "text/x-python",
   "name": "python",
   "nbconvert_exporter": "python",
   "pygments_lexer": "ipython3",
   "version": "3.12.4"
  }
 },
 "nbformat": 4,
 "nbformat_minor": 2
}
