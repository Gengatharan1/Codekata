{
 "cells": [
  {
   "cell_type": "markdown",
   "metadata": {},
   "source": [
    "### **1. Raja was playing with numbers. He picked a number N and decided he would pick K more numbers A[1], A[2], …., A[K] and divide each of the K numbers by N and obtain the remainders. A crash is said to occur whenever A[ i ] divided by K yields a remainder that has already occurred at least once.**\n",
    "\n",
    "**Input Description:**\n",
    "\n",
    "The first line contains two space separated integers N and K The second line contains K space separated integers of A.\n",
    "\n",
    "**Output Description:**\n",
    "\n",
    "Print a single line with an integer denoting the number of crashes.\n",
    "\n",
    "**Sample Input:**\n",
    "\n",
    "2 5\n",
    "\n",
    "1 2 3 4 5\n",
    "\n",
    "**Sample Output:**\n",
    "\n",
    "3"
   ]
  },
  {
   "cell_type": "code",
   "execution_count": 4,
   "metadata": {},
   "outputs": [
    {
     "name": "stdout",
     "output_type": "stream",
     "text": [
      "3\n"
     ]
    }
   ],
   "source": [
    "N, K = map(int, input().split())\n",
    "A = list(map(int, input().split()))\n",
    "\n",
    "# Initialize variables\n",
    "crashes = 0\n",
    "seen_remainders = set()\n",
    "\n",
    "# Calculate crashes\n",
    "for num in A:\n",
    "    remainder = num % N\n",
    "    if remainder in seen_remainders:\n",
    "        crashes += 1  # Crash occurred\n",
    "    else:\n",
    "        seen_remainders.add(remainder)\n",
    "\n",
    "print(crashes)"
   ]
  },
  {
   "cell_type": "markdown",
   "metadata": {},
   "source": [
    "### **2. Value of ‘a’ is 1, Value of ‘b’ is -2, Value of ‘c’ is 3, Value of ‘d’ is -4 and so on.**\n",
    "The value of a string for example , “fry” is calculated as: value(“fry”) = value(‘f’) + value(‘r’) + value(‘y’)  = -6 + -18 + 25 = 1\n",
    "Given N strings, find the value of each string.\n",
    "\n",
    "**Input Description:**\n",
    "\n",
    "The first line consists N, the number of strings S. Then N lines follow, each containing a string.\n",
    "\n",
    "**Output Description:**\n",
    "\n",
    "Print N lines, denoting the value of the string.\n",
    "\n",
    "**Sample Input:**\n",
    "\n",
    "2\n",
    "\n",
    "fry\n",
    "\n",
    "a\n",
    "\n",
    "**Sample Output:**\n",
    "\n",
    "1\n",
    "\n",
    "1"
   ]
  },
  {
   "cell_type": "code",
   "execution_count": 5,
   "metadata": {},
   "outputs": [
    {
     "name": "stdout",
     "output_type": "stream",
     "text": [
      "1\n",
      "1\n"
     ]
    }
   ],
   "source": [
    "N = int(input())\n",
    "strings = [input().strip() for _ in range(N)]\n",
    "\n",
    "def calculate_char_value(ch):\n",
    "    pos = ord(ch) - ord('a') + 1            # Position in the alphabet (1-based index)\n",
    "    return pos if pos % 2 != 0 else -pos    # Value based on alternating positive and negative\n",
    "\n",
    "def calculate_string_value(s):\n",
    "    return sum(calculate_char_value(ch) for ch in s)    # Sum up the values of all characters in the string\n",
    "\n",
    "# Compute and print results for each string\n",
    "for s in strings:\n",
    "    print(calculate_string_value(s))"
   ]
  },
  {
   "cell_type": "markdown",
   "metadata": {},
   "source": [
    "### **3. You are provided with an array in which all elements are repeated thrice except one which is repeated twice.Your task is to print that number.**\n",
    "\n",
    "O(n) time and O(1) extra space\n",
    "\n",
    "**Input Description:**\n",
    "\n",
    "First line contains a number denoting size of array ‘n’.Next line contains n space separated numbers\n",
    "\n",
    "**Output Description:**\n",
    "\n",
    "Print the number which is repeated twice\n",
    "\n",
    "**Sample Input:**\n",
    "\n",
    "5\n",
    "\n",
    "13 12 13 12 13\n",
    "\n",
    "**Sample Output:**\n",
    "\n",
    "12"
   ]
  },
  {
   "cell_type": "code",
   "execution_count": 6,
   "metadata": {},
   "outputs": [
    {
     "name": "stdout",
     "output_type": "stream",
     "text": [
      "12\n"
     ]
    }
   ],
   "source": [
    "n = int(input())\n",
    "arr = list(map(int,input().split()))\n",
    "\n",
    "def twice(arr):\n",
    "    return ((3*sum(set(arr)))-sum(arr))\n",
    "print(twice(arr))"
   ]
  },
  {
   "cell_type": "markdown",
   "metadata": {},
   "source": [
    "### **4. You have an array of integers of length N, N is even. You can change an integer to 1 using 1 coin, an integer to 2 using 2 coins and so on, an integer to n using n coins. Find the minimum number of coins required to convert the array such that it contains N/2 odd numbers and N/2 even numbers.**\n",
    "\n",
    "**Input Description:**\n",
    "\n",
    "The first line contains an integer N, denoting the size of the array. The next line contains N space separated integers.\n",
    "\n",
    "**Output Description:**\n",
    "\n",
    "Print the minimum number of coins.\n",
    "\n",
    "**Sample Input:**\n",
    "\n",
    "10\n",
    "\n",
    "1 2 3 4 5 6 7 8 9 10\n",
    "\n",
    "**Sample Output:**\n",
    "\n",
    "0"
   ]
  },
  {
   "cell_type": "code",
   "execution_count": 7,
   "metadata": {},
   "outputs": [
    {
     "name": "stdout",
     "output_type": "stream",
     "text": [
      "0\n"
     ]
    }
   ],
   "source": [
    "N = int(input())\n",
    "arr = list(map(int, input().split()))\n",
    "\n",
    "# Separate the array into odds and evens\n",
    "odds = [x for x in arr if x % 2 != 0]\n",
    "evens = [x for x in arr if x % 2 == 0]\n",
    "\n",
    "# Determine how many odd and even numbers are needed\n",
    "target = N // 2\n",
    "excess_odds = len(odds) - target\n",
    "excess_evens = len(evens) - target\n",
    "\n",
    "# If already balanced, cost is zero\n",
    "if excess_odds == 0 and excess_evens == 0:\n",
    "    print(0)\n",
    "else:\n",
    "    cost = 0                                                            # Calculate the cost to convert excess numbers\n",
    "    if excess_odds > 0:\n",
    "        convert_odds = sorted(odds, key=lambda x: abs(x - (x + 1)))     # Sort excess odds by cost to convert to even\n",
    "        cost += sum(abs(x - (x + 1)) for x in convert_odds[:excess_odds])\n",
    "    if excess_evens > 0:\n",
    "        convert_evens = sorted(evens, key=lambda x: abs(x - (x - 1)))   # Sort excess evens by cost to convert to odd\n",
    "        cost += sum(abs(x - (x - 1)) for x in convert_evens[:excess_evens])\n",
    "    print(cost)"
   ]
  },
  {
   "cell_type": "markdown",
   "metadata": {},
   "source": [
    "### **5. You are given an array A of N integers. Each integer A[ i ] (1 <= i <= N) is an integer between 1 and N both inclusive. You can replace A[ i ] with any integer from 1 to N both inclusive. Find the minimum number of elements to be replaced so that the resulting array is a valid permutation of the array B = [1, 2, ..., N].**\n",
    "\n",
    "**Input Description:**\n",
    "\n",
    "The first line contains the number of integers N. The second line contains N space separated integers.\n",
    "\n",
    "**Output Description:**\n",
    "\n",
    "Print a single line containing an integer denoting the minimum number of replacements.\n",
    "\n",
    "**Sample Input:**\n",
    "\n",
    "5\n",
    "\n",
    "3 4 3 1 2\n",
    "\n",
    "**Sample Output:**\n",
    "\n",
    "1"
   ]
  },
  {
   "cell_type": "code",
   "execution_count": null,
   "metadata": {},
   "outputs": [
    {
     "name": "stdout",
     "output_type": "stream",
     "text": [
      "1\n"
     ]
    }
   ],
   "source": [
    "N = int(input())\n",
    "A = list(map(int, input().split()))\n",
    "\n",
    "# Frequency count of elements in A\n",
    "frequency = [0] * (N + 1)\n",
    "for num in A:\n",
    "    frequency[num] += 1\n",
    "\n",
    "# Identify missing numbers\n",
    "missing = []\n",
    "for i in range(1, N + 1):\n",
    "    if frequency[i] == 0:\n",
    "        missing.append(i)\n",
    "\n",
    "# Count duplicates\n",
    "replacements = 0\n",
    "for i in range(1, N + 1):\n",
    "    while frequency[i] > 1 and missing:     # Replace duplicate with a missing number\n",
    "        frequency[i] -= 1       \n",
    "        replacements += 1\n",
    "        missing.pop()\n",
    "print(replacements)"
   ]
  },
  {
   "cell_type": "markdown",
   "metadata": {},
   "source": [
    "### **6. The potential energy of a ball of mass m placed at height h is given by U = m.g.h. (m - mass, g - acceleration due to gravity). The acceleration due to gravity of K planets is given to you. Answer Q queries of the form, U P h U denotes the potential energy of a ball placed at height h on planet P. Answer each query by printing the mass of the ball used.**\n",
    "\n",
    "**Input Description:**\n",
    "\n",
    "The first line contains an integer K denoting the number of planets. The next K lines contains the name of the planet and it's acceleration due to gravity, separated by a space. The next line contains an integer Q denoting the number of queries. The next Q lines contains a query as specified in the question.\n",
    "\n",
    "**Output Description:**\n",
    "\n",
    "Print Q lines denoting the mass of the ball used in each query. Round off the mass to two decimal places.\n",
    "\n",
    "**Sample Input:**\n",
    "\n",
    "2\n",
    "\n",
    "earth 10\n",
    "\n",
    "venus 20\n",
    "\n",
    "1\n",
    "\n",
    "200 earth 6\n",
    "\n",
    "**Sample Output:**\n",
    "\n",
    "3.33"
   ]
  },
  {
   "cell_type": "code",
   "execution_count": null,
   "metadata": {},
   "outputs": [
    {
     "name": "stdout",
     "output_type": "stream",
     "text": [
      "3.33\n"
     ]
    }
   ],
   "source": [
    "K = int(input())  # Number of planets\n",
    "planet_gravity = {}\n",
    "\n",
    "# Store planet and their gravity\n",
    "for _ in range(K):\n",
    "    planet, gravity = input().split()\n",
    "    planet_gravity[planet] = float(gravity)\n",
    "\n",
    "Q = int(input())  # Number of queries\n",
    "\n",
    "# Process each query\n",
    "results = []\n",
    "\n",
    "for _ in range(Q):\n",
    "    U, planet, h = input().split()\n",
    "    U, h = float(U), float(h)\n",
    "    g = planet_gravity[planet]  # Get the gravity of the planet\n",
    "    mass = U / (g * h)  # Calculate mass\n",
    "    results.append(f\"{mass:.2f}\")  # Round to two decimal places\n",
    "\n",
    "print(\"\\n\".join(results))"
   ]
  },
  {
   "cell_type": "markdown",
   "metadata": {},
   "source": [
    "### **7. Quinton is given a string, find if he can form a palindrome by permuting the characters of the string and changing at most one character of the string to another character. If he can form, print YES, else print NO.**\n",
    "\n",
    "**Input Description:**\n",
    "\n",
    "The first and only line of input is a string S\n",
    "\n",
    "**Output Description:**\n",
    "\n",
    "Print a line containing YES or NO\n",
    "\n",
    "**Sample Input:**\n",
    "\n",
    "abc\n",
    "\n",
    "**Sample Output:**\n",
    "\n",
    "YES"
   ]
  },
  {
   "cell_type": "code",
   "execution_count": 12,
   "metadata": {},
   "outputs": [
    {
     "name": "stdout",
     "output_type": "stream",
     "text": [
      "YES\n"
     ]
    }
   ],
   "source": [
    "from collections import Counter\n",
    "\n",
    "S = input().strip()\n",
    "\n",
    "# Count character frequencies\n",
    "freq = Counter(S)\n",
    "\n",
    "# Count odd frequencies\n",
    "odd_count = sum(1 for count in freq.values() if count % 2 != 0)\n",
    "\n",
    "# Check conditions\n",
    "if odd_count <= 3:\n",
    "    print(\"YES\")\n",
    "else:\n",
    "    print(\"NO\")"
   ]
  },
  {
   "cell_type": "markdown",
   "metadata": {},
   "source": [
    "### **8. You are given an array F of focal lengths of size f, F[0], F[1],...F[f-1]. You are asked to determine the indices of the elements from the biggest element to the smallest element.**\n",
    "\n",
    "**Input Description:**\n",
    "\n",
    "The first line contains an integer f. The next line contains f space separated integers F[i], (0 <= i <= f-1) Note: The elements of F[i] are pairwise distinct.\n",
    "\n",
    "**Output Description:**\n",
    "\n",
    "Print f space separated integers, denoting the indices of the elements, from biggest element to smallest.\n",
    "\n",
    "**Sample Input:**\n",
    "\n",
    "3\n",
    "\n",
    "1 5 4\n",
    "\n",
    "**Sample Output:**\n",
    "\n",
    "1 2 0"
   ]
  },
  {
   "cell_type": "code",
   "execution_count": 13,
   "metadata": {},
   "outputs": [
    {
     "name": "stdout",
     "output_type": "stream",
     "text": [
      "1 2 0\n"
     ]
    }
   ],
   "source": [
    "def indices_from_biggest_to_smallest(f, F):\n",
    "    # Create pairs of (value, index)\n",
    "    pairs = [(F[i], i) for i in range(f)]\n",
    "    \n",
    "    # Sort pairs based on the value in descending order\n",
    "    pairs.sort(key=lambda x: x[0], reverse=True)\n",
    "    \n",
    "    # Extract indices from the sorted pairs\n",
    "    sorted_indices = [index for value, index in pairs]    \n",
    "    return sorted_indices\n",
    "\n",
    "f = int(input())\n",
    "F = list(map(int, input().split()))\n",
    "\n",
    "sorted_indices = indices_from_biggest_to_smallest(f, F)\n",
    "print(' '.join(map(str, sorted_indices)))"
   ]
  },
  {
   "cell_type": "markdown",
   "metadata": {},
   "source": [
    "### **9. You are given N integer arrays, find if the same array occurs more than once. Print YES if it does, NO otherwise. Two arrays A and B are same only if they are of equal size, say M, and for all 0 <= i <= M-1, A[i] = B[i].**\n",
    "\n",
    "**Input Description:**\n",
    "\n",
    "The first line contains a single integer N, denoting the number of arrays. From the second line, 2*N lines follow. The (2i - 1)th line contains an integer M denoting the number of integers in the array. The 2i th line contains M space separated integers denoting the elements of the array.\n",
    "\n",
    "**Output Description:**\n",
    "\n",
    "Print a single line YES or NO\n",
    "\n",
    "**Sample Input:**\n",
    "\n",
    "3\n",
    "\n",
    "5\n",
    "\n",
    "1 8 3 1 2\n",
    "\n",
    "1\n",
    "\n",
    "9\n",
    "\n",
    "1\n",
    "\n",
    "9\n",
    "\n",
    "**Sample Output:**\n",
    "\n",
    "YES"
   ]
  },
  {
   "cell_type": "code",
   "execution_count": 14,
   "metadata": {},
   "outputs": [
    {
     "name": "stdout",
     "output_type": "stream",
     "text": [
      "YES\n"
     ]
    }
   ],
   "source": [
    "N = int(input())\n",
    "seen = set()\n",
    "\n",
    "# Process each array\n",
    "for i in range(N):\n",
    "    M = int(input())  # Length of the current array\n",
    "    array = tuple(map(int, input().split()))  # Convert the array to a tuple (to be hashable)\n",
    "\n",
    "    # Check if the tuple representation of the array is already in the set\n",
    "    if array in seen:\n",
    "        print(\"YES\")\n",
    "        break\n",
    "    else:\n",
    "        seen.add(array)\n",
    "\n",
    "else:\n",
    "    print(\"NO\")     # If no duplicates were found after processing all arrays"
   ]
  },
  {
   "cell_type": "markdown",
   "metadata": {},
   "source": [
    "### 10. In \"A Mathematicians Apology\", G.H. Hardy wrote:\n",
    "“There are just four numbers, after unity, which are the sums of the cubes of their digits”\n",
    "Let the largest of those four numbers be X.\n",
    "A hash function for performing separate chaining was defined as hash(n) := n mod X, where n is a whole number. Separate chaining was performed for N integers in an array A. Mrs. Leela was asked to find the number of empty chains from 0 to X-1 (both inclusive) after performing the hashing using separate chaining. Help her solve this mysterious question.\n",
    "\n",
    "Separate chaining resources:\n",
    "https://en.wikipedia.org/wiki/Hash_table#Separate_chaining_with_linked_lists\n",
    "https://www.geeksforgeeks.org/hashing-set-2-separate-chaining/\n",
    "\n",
    "**Input Description:**\n",
    "\n",
    "The first line contains the number of integers N. The second line contains N space separated integers.\n",
    "\n",
    "**Output Description:**\n",
    "\n",
    "Print a single line containing an integer denoting the number of empty chains.\n",
    "\n",
    "**Sample Input:**\n",
    "\n",
    "15\n",
    "\n",
    "0 1 2 3 4 5 6 7 8 9 10 11 12 13 14 15\n",
    "\n",
    "**Sample Output:**\n",
    "\n",
    "392"
   ]
  },
  {
   "cell_type": "code",
   "execution_count": null,
   "metadata": {},
   "outputs": [
    {
     "name": "stdout",
     "output_type": "stream",
     "text": [
      "392\n"
     ]
    }
   ],
   "source": [
    "N = int(input())\n",
    "A = list(map(int, input().split()))\n",
    "\n",
    "hash_table = [False] * 407\n",
    "\n",
    "for number in A:\n",
    "    index = number % 407\n",
    "    hash_table[index] = True\n",
    "\n",
    "empty_chains = hash_table.count(False)\n",
    "print(empty_chains)"
   ]
  },
  {
   "cell_type": "markdown",
   "metadata": {},
   "source": [
    "### **11. You are given an array of distinct roll numbers and an array of subjects. The student with the i th roll number , studies subject number i. (1 <= i <= N). Then you are given an array of subject-fee pairs. Subjects are unique in the array. Find the fee paid by all the N students with the N roll numbers to study that subject. If the fee for a subject is unavailable, print -1.**\n",
    "\n",
    "**Input Description:**\n",
    "\n",
    "First line contains an integer N. N is the size of the roll number array and subject name array The next line contains N space separated integers denoting the roll numbers. The next line contains N space separated strings denoting the subject names. *The ith student(roll no.) studies the ith subject* The next line contains an integer M denoting the number of subjects-fee pairs Then M lines follow each containing a subject name and a fee separated by space\n",
    "\n",
    "**Output Description:**\n",
    "\n",
    "Print N lines, each containing a roll number and the fee paid by the student with that roll number separated by a single space. Print it in increasing order of roll numbers. [Print -1 if fee for a subject is not available].\n",
    "\n",
    "**Sample Input:**\n",
    "\n",
    "5\n",
    "\n",
    "99 81 8 82 32 \n",
    "\n",
    "math phy chem computers chem\n",
    "\n",
    "3\n",
    "\n",
    "phy 5000\n",
    "\n",
    "chem 2000\n",
    "\n",
    "computers 6000\n",
    "\n",
    "**Sample Output:**\n",
    "\n",
    "8 2000\n",
    "\n",
    "32 2000\n",
    "\n",
    "81 5000\n",
    "\n",
    "82 6000\n",
    "\n",
    "99 -1"
   ]
  },
  {
   "cell_type": "code",
   "execution_count": null,
   "metadata": {},
   "outputs": [
    {
     "name": "stdout",
     "output_type": "stream",
     "text": [
      "8 2000\n",
      "32 2000\n",
      "81 5000\n",
      "82 6000\n",
      "99 -1\n"
     ]
    }
   ],
   "source": [
    "N = int(input())  # Number of students\n",
    "roll_numbers = list(map(int, input().split()))  # List of roll numbers\n",
    "subjects = input().split()  # List of subjects\n",
    "M = int(input())  # Number of subject-fee pairs\n",
    "\n",
    "# Create a dictionary to map subjects to their fees\n",
    "subject_fee_map = {}\n",
    "for _ in range(M):\n",
    "    subject, fee = input().split()\n",
    "    subject_fee_map[subject] = int(fee)\n",
    "\n",
    "# For each roll number, determine the subject and find the corresponding fee\n",
    "result = []\n",
    "for i in range(N):\n",
    "    roll_number = roll_numbers[i]\n",
    "    subject = subjects[i]\n",
    "    fee = subject_fee_map.get(subject, -1)  # If fee is not available, default to -1\n",
    "    result.append((roll_number, fee))\n",
    "\n",
    "# Sort the result by roll number\n",
    "result.sort()\n",
    "\n",
    "for roll_number, fee in result:\n",
    "    print(roll_number, fee)"
   ]
  },
  {
   "cell_type": "markdown",
   "metadata": {},
   "source": [
    "### **12. You have an array of integers of length N. In one operation, you can change an integer X in the array to another using X coins. Find the minimum number of coins required to convert the array such that it contains only one distinct integer, N times.**\n",
    "\n",
    "**Input Description:**\n",
    "\n",
    "The first line contains an integer N, denoting the size of the array. The next line contains N space separated integers.\n",
    "\n",
    "**Output Description:**\n",
    "\n",
    "Print the minimum number of coins required.\n",
    "\n",
    "**Sample Input:**\n",
    "\n",
    "2\n",
    "\n",
    "3 4\n",
    "\n",
    "**Sample Output:**\n",
    "\n",
    "3"
   ]
  },
  {
   "cell_type": "code",
   "execution_count": 25,
   "metadata": {},
   "outputs": [
    {
     "name": "stdout",
     "output_type": "stream",
     "text": [
      "3\n"
     ]
    }
   ],
   "source": [
    "N = int(input())  # Size of the array\n",
    "arr = list(map(int, input().split()))  # Array of integers\n",
    "\n",
    "# Identify all distinct integers in the array\n",
    "distinct_integers = set(arr)\n",
    "\n",
    "# Calculate the minimum cost for each distinct integer\n",
    "min_cost = float('inf')\n",
    "for target in distinct_integers:\n",
    "    cost = 2\n",
    "    for num in arr:\n",
    "        cost += abs(num - target)\n",
    "    min_cost = min(min_cost, cost)\n",
    "print(min_cost)"
   ]
  },
  {
   "cell_type": "markdown",
   "metadata": {},
   "source": [
    "### **13. Given an array of pairs of strings, find if there are mirror pairs.**\n",
    "\n",
    "(s1, s2) & (s3, s4) are mirror pairs, if s1 = s4 and s2 = s3. The first string in each pair is distinct.\n",
    "\n",
    "**Input Description:**\n",
    "\n",
    "The first line contains the number string pairs N. Then N string pairs follow.\n",
    "\n",
    "**Output Description:**\n",
    "\n",
    "Print YES, if a mirror pair exists, print NO otherwise.\n",
    "\n",
    "**Sample Input:**\n",
    "\n",
    "3\n",
    "\n",
    "raja kili\n",
    "\n",
    "pan quil\n",
    "\n",
    "kili raja\n",
    "\n",
    "**Sample Output:**\n",
    "\n",
    "YES"
   ]
  },
  {
   "cell_type": "code",
   "execution_count": 26,
   "metadata": {},
   "outputs": [
    {
     "name": "stdout",
     "output_type": "stream",
     "text": [
      "YES\n"
     ]
    }
   ],
   "source": [
    "def find_mirror_pairs(pairs):\n",
    "    pair_dict = {}\n",
    "    \n",
    "    for s1, s2 in pairs:\n",
    "        # Check if the reverse pair exists\n",
    "        if s2 in pair_dict and pair_dict[s2] == s1:\n",
    "            print(\"YES\")\n",
    "            return\n",
    "        # Store the pair in the dictionary\n",
    "        pair_dict[s1] = s2\n",
    "    print(\"NO\")\n",
    "\n",
    "N = int(input())\n",
    "pairs = [input().split() for _ in range(N)]\n",
    "find_mirror_pairs(pairs)"
   ]
  },
  {
   "cell_type": "markdown",
   "metadata": {},
   "source": [
    "### **14. Given three integer arrays of sizes P, Q and R, determine if there is a subset-superset relation between any two of the arrays.**\n",
    "\n",
    "**Input Description:**\n",
    "\n",
    "The first line contains 3 space separated integers P, Q and R The next three lines contain P, Q and R space separated integers respectively, denoting the three arrays.\n",
    "\n",
    "**Output Description:**\n",
    "\n",
    "Print YES if there is a subset-superset relationship between any two of the array. Print NO otherwise.\n",
    "\n",
    "**Sample Input:**\n",
    "\n",
    "2 3 4\n",
    "\n",
    "4 5\n",
    "\n",
    "6 5 4\n",
    "\n",
    "7 8 4 4\n",
    "\n",
    "**Sample Output:**\n",
    "\n",
    "YES"
   ]
  },
  {
   "cell_type": "code",
   "execution_count": 27,
   "metadata": {},
   "outputs": [
    {
     "name": "stdout",
     "output_type": "stream",
     "text": [
      "YES\n"
     ]
    }
   ],
   "source": [
    "P, Q, R = map(int, input().split())\n",
    "arr1 = set(map(int, input().split()))\n",
    "arr2 = set(map(int, input().split()))\n",
    "arr3 = set(map(int, input().split()))\n",
    "\n",
    "# Check for subset-superset relationship\n",
    "if arr1 <= arr2 or arr2 <= arr1 or arr1 <= arr3 or arr3 <= arr1 or arr2 <= arr3 or arr3 <= arr2:\n",
    "    print(\"YES\")\n",
    "else:\n",
    "    print(\"NO\")"
   ]
  },
  {
   "cell_type": "markdown",
   "metadata": {},
   "source": [
    "### **15. Given a string, find if you can form a palindrome by permuting the characters of the string. If it is possible, print the palindromic string obtained through permutation. If it is not, print the string “no”. If there multiple possible outputs, print the lexicographically smallest string.**\n",
    "\n",
    "**Input Description:**\n",
    "\n",
    "The first and only line contains a string S\n",
    "\n",
    "**Output Description:**\n",
    "\n",
    "Print a line containing the palindromic string or “no” (without quotes)\n",
    "\n",
    "**Sample Input:**\n",
    "\n",
    "caac\n",
    "\n",
    "**Sample Output:**\n",
    "\n",
    "acca"
   ]
  },
  {
   "cell_type": "code",
   "execution_count": null,
   "metadata": {},
   "outputs": [
    {
     "name": "stdout",
     "output_type": "stream",
     "text": [
      "acca\n"
     ]
    }
   ],
   "source": [
    "from collections import Counter\n",
    "\n",
    "def can_form_palindrome(s):\n",
    "    freq = Counter(s)       # Count the frequency of each character\n",
    "    \n",
    "    # Find the number of characters with odd frequencies\n",
    "    odd_count = 0\n",
    "    odd_char = ''\n",
    "    half_string = []\n",
    "    \n",
    "    for char, count in freq.items():\n",
    "        if count % 2 != 0:\n",
    "            odd_count += 1\n",
    "            odd_char = char\n",
    "        half_string.append(char * (count // 2))  # Half of the characters to form the left part\n",
    "    \n",
    "    # Check if it's possible to form a palindrome\n",
    "    if odd_count > 1:\n",
    "        return \"no\"  # More than one character with an odd frequency is not allowed\n",
    "    \n",
    "    # Construct the lexicographically smallest palindrome\n",
    "    left_half = ''.join(sorted(half_string))        # Sort the half_string to get the lexicographically smallest result\n",
    "    right_half = left_half[::-1]\n",
    "    \n",
    "    if odd_count == 1:\n",
    "        return left_half + odd_char + right_half\n",
    "    else:\n",
    "        return left_half + right_half\n",
    "\n",
    "S = input().strip()\n",
    "result = can_form_palindrome(S)\n",
    "print(result)"
   ]
  },
  {
   "cell_type": "markdown",
   "metadata": {},
   "source": [
    "### **16. Given a set of numbers of length N. Your task is to find the quad ret (x1,x2,x3,x4) which will result the sum in 1. If quad ret exists print Yes else print No.**\n",
    "\n",
    "**Input Description:**\n",
    "\n",
    "First line contains a number N. Next line contains n space separated numbers\n",
    "\n",
    "**Output Description:**\n",
    "\n",
    "Print Yes or No\n",
    "\n",
    "**Sample Input:**\n",
    "\n",
    "5 \n",
    "\n",
    "1 -1 2 -2 3\n",
    "\n",
    "**Sample Output:**\n",
    "\n",
    "Yes"
   ]
  },
  {
   "cell_type": "code",
   "execution_count": 30,
   "metadata": {},
   "outputs": [
    {
     "name": "stdout",
     "output_type": "stream",
     "text": [
      "Yes\n"
     ]
    }
   ],
   "source": [
    "def find_quadruple(nums, target=1):\n",
    "    n = len(nums)\n",
    "    \n",
    "    # Iterate over all pairs (x1, x2) using two loops\n",
    "    for i in range(n):\n",
    "        for j in range(i + 1, n):\n",
    "            # Calculate the new target which is 1 - (nums[i] + nums[j])\n",
    "            current_target = target - (nums[i] + nums[j])\n",
    "            \n",
    "            # Use a set to find if the pair (x3, x4) exists such that their sum equals current_target\n",
    "            seen = set()\n",
    "            for k in range(n):\n",
    "                if k != i and k != j:  # Ensure distinct indices\n",
    "                    if current_target - nums[k] in seen:\n",
    "                        return \"Yes\"\n",
    "                    seen.add(nums[k])\n",
    "    \n",
    "    return \"No\"\n",
    "\n",
    "N = int(input())  # Size of the array\n",
    "nums = list(map(int, input().split()))  # List of integers\n",
    "\n",
    "# Find the quadruple that sums to 1\n",
    "result = find_quadruple(nums)\n",
    "print(result)"
   ]
  },
  {
   "cell_type": "markdown",
   "metadata": {},
   "source": [
    "### **17. You are given an array A containing N distinct positive integers.**\n",
    "\n",
    "Let A[i] represent an element in A.\n",
    "\n",
    "Mr. Beckham wants to perform an operation on the elements of A. He wants to choose a positive integer X and perform A[i]  := A[i] mod X for all i (1 <= i <= N). Help Mr. Beckham choose the smallest possible value of X such that the elements of the array remain distinct even after performing the operation. (It can be proven that an answer exists for all possible inputs)\n",
    "\n",
    "**Input Description:**\n",
    "\n",
    "The first line contains an integer N representing the number of elements in the array. The next line contains N distinct space separated integers denoting the array elements.\n",
    "\n",
    "**Output Description:**\n",
    "\n",
    "Print a single integer X\n",
    "\n",
    "**Sample Input:**\n",
    "\n",
    "2\n",
    "\n",
    "21 22\n",
    "\n",
    "**Sample Output:**\n",
    "\n",
    "2"
   ]
  },
  {
   "cell_type": "code",
   "execution_count": 31,
   "metadata": {},
   "outputs": [
    {
     "name": "stdout",
     "output_type": "stream",
     "text": [
      "2\n"
     ]
    }
   ],
   "source": [
    "def find_smallest_X(N, A):\n",
    "    X = 2\n",
    "    while True:\n",
    "        mod_values = [a % X for a in A]\n",
    "        if len(set(mod_values)) == N:  # Check if all mod values are distinct\n",
    "            return X\n",
    "        X += 1\n",
    "\n",
    "N = int(input())\n",
    "A = list(map(int, input().split()))\n",
    "print(find_smallest_X(N, A))"
   ]
  },
  {
   "cell_type": "markdown",
   "metadata": {},
   "source": [
    "### **18. You are given an array of integers. You can perform the following operation any number of times.(including zero)**\n",
    "\n",
    "Operation is: Replace an integer with another integer.\n",
    "\n",
    "Find if the array can be rearranged or permuted to obtain a palindromic array. If it can be, print the minimum number of operations required,\n",
    "Print -1 otherwise.\n",
    "\n",
    "**Input Description:**\n",
    "\n",
    "The first line contains an integer N, denoting the size of the array. The next line contains N space separated integers.\n",
    "\n",
    "**Output Description:**\n",
    "\n",
    "Print the minimum number of operations required.\n",
    "\n",
    "**Sample Input:**\n",
    "\n",
    "4\n",
    "\n",
    "10 20 30 40\n",
    "\n",
    "**Sample Output:**\n",
    "\n",
    "2"
   ]
  },
  {
   "cell_type": "code",
   "execution_count": 32,
   "metadata": {},
   "outputs": [
    {
     "name": "stdout",
     "output_type": "stream",
     "text": [
      "2\n"
     ]
    }
   ],
   "source": [
    "from collections import Counter\n",
    "\n",
    "def min_operations_to_palindrome(N, arr):\n",
    "    # Count frequencies of each element in the array\n",
    "    freq = Counter(arr)\n",
    "    \n",
    "    # Count how many elements have odd frequencies\n",
    "    odd_count = sum(1 for count in freq.values() if count % 2 != 0)\n",
    "    \n",
    "    # If N is even, no odd frequencies should be present\n",
    "    if N % 2 == 0:\n",
    "        if odd_count == 0:\n",
    "            return 0\n",
    "        else:\n",
    "            return odd_count // 2\n",
    "    # If N is odd, at most one odd frequency is allowed\n",
    "    else:\n",
    "        if odd_count <= 1:\n",
    "            return 0\n",
    "        else:\n",
    "            return (odd_count - 1) // 2\n",
    "\n",
    "N = int(input())\n",
    "arr = list(map(int, input().split()))\n",
    "print(min_operations_to_palindrome(N, arr))"
   ]
  },
  {
   "cell_type": "markdown",
   "metadata": {},
   "source": [
    "### **19. Vignesh wants to go from a place P1 to P2 using a train. He asks his friend Thakkali to buy a ticket for the train that goes from P1 to P2. Thakkali being a cunning fellow doesn't want Vignesh to travel. So he buys tickets for several trains so that Vignesh will have a hard time figuring out how to reach P2 from P1.**\n",
    "\n",
    "For example if Vignesh wanted to go from Paris to Geneva, Thakkali may buy tickets for trains that go from 1) England to Geneva 2) Paris to England. Vignesh has to figure out that he first needs to use ticket 2) to reach England and then ticket 1) to reach Geneva.\n",
    "\n",
    "Vignesh asked his genius friend Sreeram for help. Join Sreeram to find the order in which Vignesh needs to travel.\n",
    "\n",
    "**Input Description:**\n",
    "\n",
    "The first line contains an integer N, the number of tickets Thakkali buys. The next N lines contain 2 space separated strings X, Y denoting that we can travel from X to Y. P1 the initial place of Vignesh, occur exactly once in the List of Xs and P2 the destination, occurs exactly once in the list of Ys.\n",
    "\n",
    "**Output Description:**\n",
    "\n",
    "Print a route from P1 to P2. Print N lines of the form, \"S1 to S2\" means using the ticket that allows Vignesh to go from S1 to S2. Look at the example and explanation for understanding.\n",
    "\n",
    "**Sample Input:**\n",
    "\n",
    "4\n",
    "\n",
    "chennai bengaluru\n",
    "\n",
    "delhi jaipur\n",
    "\n",
    "mumbai delhi\n",
    "\n",
    "jaipur chennai\n",
    "\n",
    "**Sample Output:**\n",
    "\n",
    "mumbai to delhi\n",
    "\n",
    "delhi to jaipur\n",
    "\n",
    "jaipur to chennai\n",
    "\n",
    "chennai to bengaluru"
   ]
  },
  {
   "cell_type": "code",
   "execution_count": 33,
   "metadata": {},
   "outputs": [
    {
     "name": "stdout",
     "output_type": "stream",
     "text": [
      "mumbai to delhi\n",
      "delhi to jaipur\n",
      "jaipur to chennai\n",
      "chennai to bengaluru\n"
     ]
    }
   ],
   "source": [
    "def find_route(N, tickets):\n",
    "    # Build a dictionary to store ticket connections\n",
    "    tickets_map = {}\n",
    "    for ticket in tickets:\n",
    "        X, Y = ticket\n",
    "        tickets_map[X] = Y\n",
    "\n",
    "    # Find the start point (P1) which is the one that doesn't appear as a destination\n",
    "    all_departures = set(ticket[0] for ticket in tickets)\n",
    "    all_arrivals = set(ticket[1] for ticket in tickets)\n",
    "    \n",
    "    # P1 is the departure place that is not in the arrival list\n",
    "    start_point = list(all_departures - all_arrivals)[0]\n",
    "    \n",
    "    # Reconstruct the travel route starting from P1\n",
    "    current_place = start_point\n",
    "    route = []\n",
    "    \n",
    "    while current_place in tickets_map:\n",
    "        next_place = tickets_map[current_place]\n",
    "        route.append(f\"{current_place} to {next_place}\")\n",
    "        current_place = next_place\n",
    "    \n",
    "    # Output the route\n",
    "    for r in route:\n",
    "        print(r)\n",
    "\n",
    "N = int(input())  # Number of tickets\n",
    "tickets = [input().split() for _ in range(N)]\n",
    "find_route(N, tickets)"
   ]
  },
  {
   "cell_type": "markdown",
   "metadata": {},
   "source": [
    "### **20. Bowman planned a vacation to Alphabet Land. He had to solve a problem to enter Alphabet Land. He was given N recipes made up of lower case English alphabets. The recipes were indexed from 1 to N. R[1], R[2], ….., R[N]. He had to group identical recipes and put them into bags. Help Bowman print the indices of the recipes in each bag.**\n",
    "\n",
    "**Input Description:**\n",
    "\n",
    "The first line contains the number of recipes. The next line contains N space separated recipes as strings.\n",
    "\n",
    "**Output Description:**\n",
    "\n",
    "The first line should contain the number of bags ‘M’ required. Then M lines follow, each line containing the contents of each bag - space separated indices. The indices should be in sorted in ascending order and the bags should be ordered lexicographically. See the example for better understanding.\n",
    "\n",
    "**Sample Input:**\n",
    "\n",
    "3\n",
    "\n",
    "abcd\n",
    "\n",
    "cdef\n",
    "\n",
    "abcd\n",
    "\n",
    "**Sample Output:**\n",
    "\n",
    "2\n",
    "\n",
    "1 3\n",
    "\n",
    "2"
   ]
  },
  {
   "cell_type": "code",
   "execution_count": null,
   "metadata": {},
   "outputs": [],
   "source": []
  },
  {
   "cell_type": "markdown",
   "metadata": {},
   "source": [
    "### **21. A dish in Alphabet Land is made up of lower case English alphabets.**\n",
    "\n",
    "You are given a source dish. Each alphabet from the source dish can be used as an ingredient at most once. The ingredients can be combined later to prepare a new dish.\n",
    "\n",
    "Your task is to determine if a given dish can be prepared from the ingredients of the source dish.\n",
    "\n",
    "**Input Description:**\n",
    "\n",
    "The first line is a string S denoting the source dish. The next line is an integer N denoting the number of dishes that have to be prepared. N lines follow. Each line consists of a string A representing a dish.\n",
    "\n",
    "**Output Description:**\n",
    "\n",
    "Print N lines. A line should contain ‘YES’ if the dish can be prepared from the source dish or ‘NO’ if the dish cannot be prepared from the source dish.\n",
    "\n",
    "**Sample Input:**\n",
    "\n",
    "abbbcc\n",
    "\n",
    "4\n",
    "\n",
    "ab\n",
    "\n",
    "abccc\n",
    "\n",
    "abbcc\n",
    "\n",
    "abd\n",
    "\n",
    "**Sample Output:**\n",
    "\n",
    "YES\n",
    "\n",
    "NO\n",
    "\n",
    "YES\n",
    "\n",
    "NO"
   ]
  },
  {
   "cell_type": "code",
   "execution_count": null,
   "metadata": {},
   "outputs": [
    {
     "name": "stdout",
     "output_type": "stream",
     "text": [
      "YES\n",
      "NO\n",
      "YES\n",
      "NO\n"
     ]
    }
   ],
   "source": [
    "from collections import Counter\n",
    "\n",
    "# determine if a dish can be prepared\n",
    "def can_prepare_dish(source_dish, dishes):\n",
    "    # Count the frequency of each character in the source dish\n",
    "    source_count = Counter(source_dish)\n",
    "    \n",
    "    # Process each dish\n",
    "    for dish in dishes:\n",
    "        # Count the frequency of each character in the current dish\n",
    "        dish_count = Counter(dish)\n",
    "        \n",
    "        # Check if the dish can be prepared\n",
    "        can_prepare = True\n",
    "        for char in dish_count:\n",
    "            if dish_count[char] > source_count.get(char, 0):\n",
    "                can_prepare = False\n",
    "                break\n",
    "        \n",
    "        # Output result for the current dish\n",
    "        if can_prepare:\n",
    "            print(\"YES\")\n",
    "        else:\n",
    "            print(\"NO\")\n",
    "\n",
    "source_dish = input().strip()  # The source dish\n",
    "N = int(input())  # The number of dishes\n",
    "dishes = [input().strip() for _ in range(N)]  # The list of dishes to check\n",
    "can_prepare_dish(source_dish, dishes)"
   ]
  },
  {
   "cell_type": "markdown",
   "metadata": {},
   "source": [
    "### **22. You are given a configuration of a 4 x 4 chess board. An empty square is represented by a ‘.’ and an occupied square is represented by a ‘#’. You are given Q queries of the form “x y” denoting the coordinate of the square (one of (0 0) to (3 3)). If a pawn can be placed on that square, print the number of squares it can reach from that square, print -1 if the square is blocked and the pawn cannot be placed. A blocked square cannot be reached also. Here, A pawn can move only exactly one square forward.**\n",
    "\n",
    "**Input Description:**\n",
    "\n",
    "You are given a 4 by 4 character matrix denoting the board configuration The next line contains the number of queries Q The next Q lines contain a coordinate pair.\n",
    "\n",
    "**Output Description:**\n",
    "\n",
    "Print Q lines answering each query\n",
    "\n",
    "**Sample Input:**\n",
    "\n",
    "....\n",
    "..#.\n",
    "..#.\n",
    "....\n",
    "3\n",
    "1 1\n",
    "3 2\n",
    "2 2\n",
    "\n",
    "**Sample Output:**\n",
    "\n",
    "1\n",
    "-1\n",
    "-1"
   ]
  },
  {
   "cell_type": "code",
   "execution_count": null,
   "metadata": {},
   "outputs": [],
   "source": []
  },
  {
   "cell_type": "markdown",
   "metadata": {},
   "source": [
    "### **23. Dr. Nadal is given a string of ‘n’ characters(S[1], S[2],...., S[n]). Then he is given Q ranges of the form [L R]. Determine of S[L], S[L+1]... S[R] is a palindrome.**\n",
    "\n",
    "**Input Description:**\n",
    "\n",
    "The first line is a string S. The next line consists of the number of ranges Q The next Q lines contain two space separated integers L R\n",
    "\n",
    "**Output Description:**\n",
    "\n",
    "Print YES if S[L], S[L+1]... S[R] is a palindrome Print NO otherwise\n",
    "\n",
    "**Sample Input:**\n",
    "\n",
    "absolosolute\n",
    "\n",
    "2\n",
    "\n",
    "3 7\n",
    "\n",
    "2 4\n",
    "\n",
    "**Sample Output:**\n",
    "\n",
    "YES\n",
    "\n",
    "NO"
   ]
  },
  {
   "cell_type": "code",
   "execution_count": 37,
   "metadata": {},
   "outputs": [
    {
     "name": "stdout",
     "output_type": "stream",
     "text": [
      "YES\n",
      "NO\n"
     ]
    }
   ],
   "source": [
    "def is_palindrome(S, L, R):\n",
    "    # Check if the substring S[L-1:R] is a palindrome (adjust for 1-based indexing)\n",
    "    return S[L-1:R] == S[L-1:R][::-1]\n",
    "\n",
    "S = input().strip()  # The input string\n",
    "Q = int(input())  # The number of queries\n",
    "\n",
    "# Processing each query\n",
    "for _ in range(Q):\n",
    "    L, R = map(int, input().split())  # The range [L, R]\n",
    "    if is_palindrome(S, L, R):\n",
    "        print(\"YES\")\n",
    "    else:\n",
    "        print(\"NO\")"
   ]
  },
  {
   "cell_type": "markdown",
   "metadata": {},
   "source": [
    "### **24. Nila was gifted a bracelet G made of lower case English Alphabets on her birthday. She ordered Q more bracelets each not longer than the gifted bracelet.**\n",
    "\n",
    "She reversed one of the ordered bracelet and placed it below G such that the last alphabet of it and the last alphabet of G coincide, as shown below(example). Let the bracelet picked be H =  “hgfedc”.\n",
    "Bracelet G         :     ab|cdefgh\n",
    "Reversed H         :      cdefgh\n",
    "\n",
    "She then cut (|) G at the point as shown and obtained G = ab. She then concatenated H to G at the point of cut and obtained G = abcdefgh. Here we see that the bracelet before cutting it was obtained again. [The entire string can be cut too]\n",
    "Nila tried doing this with each of the Q bracelets. (She repairs G to the state before cutting after performing each operation)\n",
    "Determine if the bracelet before cutting was obtained again for all Q bracelets.\n",
    "\n",
    "**Input Description:**\n",
    "\n",
    "The first line contains a string denoting bracelet G The next line contains an integer Q The next Q lines contain a string each, denoting a bracelet.\n",
    "\n",
    "**Output Description:**\n",
    "\n",
    "Print Q lines each containing YES if the bracelet was restored, NO otherwise.\n",
    "\n",
    "**Sample Input:**\n",
    "\n",
    "abcd\n",
    "\n",
    "2\n",
    "\n",
    "dc\n",
    "\n",
    "b\n",
    "\n",
    "**Sample Output:**\n",
    "\n",
    "YES\n",
    "\n",
    "NO"
   ]
  },
  {
   "cell_type": "code",
   "execution_count": 38,
   "metadata": {},
   "outputs": [
    {
     "name": "stdout",
     "output_type": "stream",
     "text": [
      "YES\n",
      "NO\n"
     ]
    }
   ],
   "source": [
    "def restore_bracelet(G, H):\n",
    "    # Reverse the bracelet H\n",
    "    reversed_H = H[::-1]\n",
    "    \n",
    "    # Check if the end of G matches the reversed H\n",
    "    # G needs to end with the reversed H for it to be restored\n",
    "    if G.endswith(reversed_H):\n",
    "        return \"YES\"\n",
    "    return \"NO\"\n",
    "\n",
    "G = input().strip()  # The original bracelet G\n",
    "Q = int(input())  # The number of queries\n",
    "\n",
    "# Process each query\n",
    "for _ in range(Q):\n",
    "    H = input().strip()  # The current bracelet H\n",
    "    print(restore_bracelet(G, H))"
   ]
  },
  {
   "cell_type": "markdown",
   "metadata": {},
   "source": [
    "### **25. Kumar picks up N “Thraki” fish. “Thraki”  fish like humans have myopia or hypermetropia. He knows that the product of the eye powers (integers, in dioptres) of two fish is X for exactly one pair of fish. Print the indices of the two fish having product of eye powers equal to X in sorted order. (1-based indexing).**\n",
    "\n",
    "**Input Description:**\n",
    "\n",
    "The first line contains two space separated integers N and X denoting the number of Thraki fish Kumar picked up and the product value respectively. The second line contains N space separated integers denoting the eye powers of the N fish.\n",
    "\n",
    "**Output Description:**\n",
    "\n",
    "Print two space separated integers denoting the indices of the fish having eye power product equal to X.\n",
    "\n",
    "**Sample Input:**\n",
    "\n",
    "4 -8\n",
    "\n",
    "-1 8 3 2\n",
    "\n",
    "**Sample Output:**\n",
    "\n",
    "1 2"
   ]
  },
  {
   "cell_type": "code",
   "execution_count": 39,
   "metadata": {},
   "outputs": [
    {
     "name": "stdout",
     "output_type": "stream",
     "text": [
      "1 2\n"
     ]
    }
   ],
   "source": [
    "def find_pair_with_product(N, X, eye_powers):\n",
    "    # Create a hashmap to store the eye powers and their indices\n",
    "    seen = {}\n",
    "    \n",
    "    # Iterate over each eye power and its index\n",
    "    for i in range(N):\n",
    "        current_power = eye_powers[i]\n",
    "        \n",
    "        # If X is divisible by current_power, check if target exists\n",
    "        if current_power != 0 and X % current_power == 0:\n",
    "            target = X // current_power\n",
    "            if target in seen:\n",
    "                # Return the 1-based indices of the two fish\n",
    "                return (seen[target] + 1, i + 1)\n",
    "        \n",
    "        # Store the current power in the hashmap\n",
    "        seen[current_power] = i\n",
    "\n",
    "    return None\n",
    "\n",
    "N, X = map(int, input().split())  # Number of fish and the target product\n",
    "eye_powers = list(map(int, input().split()))  # Eye powers of the fish\n",
    "\n",
    "result = find_pair_with_product(N, X, eye_powers)\n",
    "if result:\n",
    "    print(result[0], result[1])"
   ]
  },
  {
   "cell_type": "code",
   "execution_count": null,
   "metadata": {},
   "outputs": [],
   "source": []
  },
  {
   "cell_type": "code",
   "execution_count": null,
   "metadata": {},
   "outputs": [],
   "source": []
  },
  {
   "cell_type": "code",
   "execution_count": null,
   "metadata": {},
   "outputs": [],
   "source": []
  }
 ],
 "metadata": {
  "kernelspec": {
   "display_name": "py12",
   "language": "python",
   "name": "python3"
  },
  "language_info": {
   "codemirror_mode": {
    "name": "ipython",
    "version": 3
   },
   "file_extension": ".py",
   "mimetype": "text/x-python",
   "name": "python",
   "nbconvert_exporter": "python",
   "pygments_lexer": "ipython3",
   "version": "3.12.7"
  }
 },
 "nbformat": 4,
 "nbformat_minor": 2
}
