{
 "cells": [
  {
   "cell_type": "markdown",
   "metadata": {},
   "source": [
    "### 1. Given a number n Find whether the number is divisible  by 2,3 and 5.if divisible print yes else print no\n",
    "\n",
    "**Input Description:**\n",
    "\n",
    "0<n<1000 Given a number n\n",
    "\n",
    "**Output Description:**\n",
    "\n",
    "Print yes or no\n",
    "\n",
    "**Sample Input:**\n",
    "\n",
    "30\n",
    "\n",
    "**Sample Output:**\n",
    "\n",
    "yes"
   ]
  },
  {
   "cell_type": "code",
   "execution_count": 1,
   "metadata": {},
   "outputs": [
    {
     "name": "stdout",
     "output_type": "stream",
     "text": [
      "yes\n"
     ]
    }
   ],
   "source": [
    "def check_divisibility(n):\n",
    "    if n % 2 == 0 and n % 3 == 0 and n % 5 == 0:\n",
    "        print(\"yes\")\n",
    "    else:\n",
    "        print(\"no\")\n",
    "\n",
    "n = int(input())\n",
    "check_divisibility(n)"
   ]
  },
  {
   "cell_type": "markdown",
   "metadata": {},
   "source": [
    "### 2. Given a number n followed by n numbers Find the sum of the elements in an array\n",
    "\n",
    "**Input Description:**\n",
    "\n",
    "0<n<100 Given a number n Followed by n number in next line\n",
    "\n",
    "**Output Description:**\n",
    "\n",
    "Print the sum of the elements in an array\n",
    "\n",
    "**Sample Input:**\n",
    "\n",
    "3\n",
    "\n",
    "5 7 4\n",
    "\n",
    "**Sample Output:**\n",
    "\n",
    "16"
   ]
  },
  {
   "cell_type": "code",
   "execution_count": 2,
   "metadata": {},
   "outputs": [
    {
     "name": "stdout",
     "output_type": "stream",
     "text": [
      "16\n"
     ]
    }
   ],
   "source": [
    "def sum_of_elements(n, arr):\n",
    "    total = sum(arr)\n",
    "    print(total)\n",
    "\n",
    "n = int(input())\n",
    "arr = list(map(int, input().split()))\n",
    "sum_of_elements(n, arr)"
   ]
  },
  {
   "cell_type": "markdown",
   "metadata": {},
   "source": [
    "### 3. Given a number m and k separated by a space print the numbers between m and k\n",
    "\n",
    "**Input Description:**\n",
    "\n",
    "number m and n separated by a space 0<m<1000 0<n<1000 m<n\n",
    "\n",
    "**Output Description:**\n",
    "\n",
    "print the numbers between this two numbers\n",
    "\n",
    "**Sample Input:**\n",
    "\n",
    "5 8\n",
    "\n",
    "**Sample Output:**\n",
    "\n",
    "6 7"
   ]
  },
  {
   "cell_type": "code",
   "execution_count": 3,
   "metadata": {},
   "outputs": [
    {
     "name": "stdout",
     "output_type": "stream",
     "text": [
      "6 7\n"
     ]
    }
   ],
   "source": [
    "def print_numbers_between_m_and_k(m, k):\n",
    "    numbers = list(range(m + 1, k))\n",
    "    print(\" \".join(map(str, numbers)))\n",
    "\n",
    "m, k = map(int, input().split())\n",
    "print_numbers_between_m_and_k(m, k)"
   ]
  },
  {
   "cell_type": "markdown",
   "metadata": {},
   "source": [
    "### 4. Given a number n,a,b and c Find the number n is divisible by a,b,c if divisible print yes else print no\n",
    "\n",
    "**Input Description:**\n",
    "\n",
    "Given number n,a,b and c separated by a space 0<n<1000 0<a<1000 0<b<1000 0<c<1000\n",
    "\n",
    "**Output Description:**\n",
    "\n",
    "Print yes or no\n",
    "\n",
    "**Sample Input:**\n",
    "\n",
    "3 5 8 9\n",
    "\n",
    "**Sample Output:**\n",
    "\n",
    "no"
   ]
  },
  {
   "cell_type": "code",
   "execution_count": 4,
   "metadata": {},
   "outputs": [
    {
     "name": "stdout",
     "output_type": "stream",
     "text": [
      "no\n"
     ]
    }
   ],
   "source": [
    "n, a, b, c = map(int, input().split())\n",
    "\n",
    "# Check divisibility\n",
    "if n % a == 0 and n % b == 0 and n % c == 0:\n",
    "    print(\"yes\")\n",
    "else:\n",
    "    print(\"no\")"
   ]
  },
  {
   "cell_type": "markdown",
   "metadata": {},
   "source": [
    "### 5. Given a year, find whether leap year or not?\n",
    "\n",
    "**Input Description:**\n",
    "\n",
    "Given a 4 digit number\n",
    "\n",
    "**Output Description:**\n",
    "\n",
    "Print leap year or not a leap year\n",
    "\n",
    "**Sample Input:**\n",
    "\n",
    "1996\n",
    "\n",
    "**Sample Output:**\n",
    "\n",
    "leap year"
   ]
  },
  {
   "cell_type": "code",
   "execution_count": 5,
   "metadata": {},
   "outputs": [
    {
     "name": "stdout",
     "output_type": "stream",
     "text": [
      "leap year\n"
     ]
    }
   ],
   "source": [
    "year = int(input().strip())\n",
    "\n",
    "if (year % 400 == 0) or (year % 100 != 0 and year % 4 == 0):\n",
    "    print(\"leap year\")\n",
    "else:\n",
    "    print(\"not a leap year\")"
   ]
  },
  {
   "cell_type": "markdown",
   "metadata": {},
   "source": [
    "### 6. Given a number n Find the sum of the digits of number n\n",
    "\n",
    "**Input Description:**\n",
    "\n",
    "0<n<1000 Given number n\n",
    "\n",
    "**Output Description:**\n",
    "\n",
    "Print the sum of the digits of number n\n",
    "\n",
    "**Sample Input:**\n",
    "\n",
    "3589\n",
    "\n",
    "**Sample Output:**\n",
    "\n",
    "25"
   ]
  },
  {
   "cell_type": "code",
   "execution_count": 6,
   "metadata": {},
   "outputs": [
    {
     "name": "stdout",
     "output_type": "stream",
     "text": [
      "25\n"
     ]
    }
   ],
   "source": [
    "n = input().strip()\n",
    "\n",
    "digit_sum = 0\n",
    "\n",
    "for digit in n:\n",
    "    digit_sum += int(digit)\n",
    "print(digit_sum)"
   ]
  },
  {
   "cell_type": "markdown",
   "metadata": {},
   "source": [
    "### 7. Given a number  n Find the number of the digits of number n\n",
    "\n",
    "**Input Description:**\n",
    "\n",
    "0<n<10000 Given number n\n",
    "\n",
    "**Output Description:**\n",
    "\n",
    "Print the number of the digits of number n\n",
    "\n",
    "**Sample Input:**\n",
    "\n",
    "3589\n",
    "\n",
    "**Sample Output:**\n",
    "\n",
    "4"
   ]
  },
  {
   "cell_type": "code",
   "execution_count": 7,
   "metadata": {},
   "outputs": [
    {
     "name": "stdout",
     "output_type": "stream",
     "text": [
      "4\n"
     ]
    }
   ],
   "source": [
    "n = input().strip()\n",
    "num_digits = len(n)\n",
    "print(num_digits)"
   ]
  },
  {
   "cell_type": "markdown",
   "metadata": {},
   "source": [
    "### 8. Given a number n,m and k separated by a space followed by n numbers print the numbers between this two numbers listed in a array if there is no number exits print -1\n",
    "\n",
    "**Input Description:**\n",
    "\n",
    "number n, m and k separated by a space 0<n<1000 0<m<1000 0<k<1000 m<k Given a number n Followed by n number in next line\n",
    "\n",
    "**Output Description:**\n",
    "\n",
    "print the numbers between this two numbers listed in a array if there is no number exits print -1\n",
    "\n",
    "**Sample Input:**\n",
    "\n",
    "3 5 8\n",
    "\n",
    "5 7 4\n",
    "\n",
    "**Sample Output:**\n",
    "\n",
    "7"
   ]
  },
  {
   "cell_type": "code",
   "execution_count": 11,
   "metadata": {},
   "outputs": [
    {
     "name": "stdout",
     "output_type": "stream",
     "text": [
      "7\n"
     ]
    }
   ],
   "source": [
    "n, m, k = map(int, input().split())\n",
    "numbers = list(map(int, input().split()))\n",
    "\n",
    "# Find the numbers between m and k\n",
    "result = [num for num in numbers if m < num < k]\n",
    "print(\" \".join(map(str, result)) if result else -1)"
   ]
  },
  {
   "cell_type": "markdown",
   "metadata": {},
   "source": [
    "### 9. Given a number m and k separated by a space print n numbers which multiple of m\n",
    "\n",
    "**Input Description:**\n",
    "\n",
    "number m and k separated by a space 0<n<1000 0<m<1000\n",
    "\n",
    "**Output Description:**\n",
    "\n",
    "print n numbers which multiple of m\n",
    "\n",
    "**Sample Input:**\n",
    "\n",
    "5 4\n",
    "\n",
    "**Sample Output:**\n",
    "\n",
    "4 8 12 16 20"
   ]
  },
  {
   "cell_type": "code",
   "execution_count": null,
   "metadata": {},
   "outputs": [
    {
     "name": "stdout",
     "output_type": "stream",
     "text": [
      "4 8 12 16 20\n"
     ]
    }
   ],
   "source": [
    "m, k = map(int, input().split())\n",
    "\n",
    "result = [k * i for i in range(1, m+1)]\n",
    "print(\" \".join(map(str, result)))"
   ]
  },
  {
   "cell_type": "markdown",
   "metadata": {},
   "source": [
    "### 10. Given a number n followed by n numbers print the number which is greater than 15 if there is no number exits print -1\n",
    "\n",
    "**Input Description:**\n",
    "\n",
    "0<n<100 Given a number n Followed by n number in next line\n",
    "\n",
    "**Output Description:**\n",
    "\n",
    "Print the number which is greater than 15 if there is no number exits print -1\n",
    "\n",
    "**Sample Input:**\n",
    "\n",
    "3\n",
    "\n",
    "5 7 4\n",
    "\n",
    "**Sample Output:**\n",
    "\n",
    "-1"
   ]
  },
  {
   "cell_type": "code",
   "execution_count": 21,
   "metadata": {},
   "outputs": [
    {
     "name": "stdout",
     "output_type": "stream",
     "text": [
      "-1\n"
     ]
    }
   ],
   "source": [
    "n = int(input().strip())\n",
    "numbers = list(map(int, input().strip().split()))\n",
    "\n",
    "greater_than_15 = [num for num in numbers if num > 15]\n",
    "\n",
    "if greater_than_15:\n",
    "    print(\" \".join(map(str, greater_than_15)))\n",
    "else:\n",
    "    print(-1)"
   ]
  },
  {
   "cell_type": "markdown",
   "metadata": {},
   "source": [
    "### 11. Given a number n followed by n numbers short the n number in ascending order \n",
    "\n",
    "**Input Description:**\n",
    "\n",
    "0<n<100 Given a number n Followed by n number in next line\n",
    "\n",
    "**Output Description:**\n",
    "\n",
    "Print the n number in ascending order\n",
    "\n",
    "**Sample Input:**\n",
    "\n",
    "6\n",
    "\n",
    "5 7 4 4 6 8\n",
    "\n",
    "**Sample Output:**\n",
    "\n",
    "4 4 5 6 7 8"
   ]
  },
  {
   "cell_type": "code",
   "execution_count": 25,
   "metadata": {},
   "outputs": [
    {
     "name": "stdout",
     "output_type": "stream",
     "text": [
      "4 4 5 6 7 8\n"
     ]
    }
   ],
   "source": [
    "n = int(input().strip())\n",
    "numbers = list(map(int, input().strip().split()))\n",
    "\n",
    "sorted_numbers = sorted(numbers)\n",
    "print(\" \".join(map(str, sorted_numbers)))"
   ]
  },
  {
   "cell_type": "markdown",
   "metadata": {},
   "source": [
    "### 12. Given a number n followed by n numbers Print the smallest number in an array\n",
    "\n",
    "**Input Description:**\n",
    "\n",
    "0<n<100 Given a number n Followed by n number in next line\n",
    "\n",
    "**Output Description:**\n",
    "\n",
    "Print the smallest number in an array\n",
    "\n",
    "**Sample Input:**\n",
    "\n",
    "6\n",
    "\n",
    "5 7 4 4 6 8\n",
    "\n",
    "**Sample Output:**\n",
    "\n",
    "4"
   ]
  },
  {
   "cell_type": "code",
   "execution_count": 26,
   "metadata": {},
   "outputs": [
    {
     "name": "stdout",
     "output_type": "stream",
     "text": [
      "4\n"
     ]
    }
   ],
   "source": [
    "n = int(input().strip())\n",
    "numbers = list(map(int, input().strip().split()))\n",
    "\n",
    "smallest_number = min(numbers)\n",
    "print(smallest_number)"
   ]
  },
  {
   "cell_type": "markdown",
   "metadata": {},
   "source": [
    "### 13. Given a number n followed by n numbers print the number less than 15 if there is no number exits print -1\n",
    "\n",
    "**Input Description:**\n",
    "\n",
    "0<n<100 Given a number n Followed by n number in next line\n",
    "\n",
    "**Output Description:**\n",
    "\n",
    "Print the number which is less than 15 if there is no number exits print -1\n",
    "\n",
    "**Sample Input:**\n",
    "\n",
    "3\n",
    "\n",
    "5 7 4\n",
    "\n",
    "**Sample Output:**\n",
    "\n",
    "5 7 4"
   ]
  },
  {
   "cell_type": "code",
   "execution_count": 27,
   "metadata": {},
   "outputs": [
    {
     "name": "stdout",
     "output_type": "stream",
     "text": [
      "5 7 4\n"
     ]
    }
   ],
   "source": [
    "n = int(input().strip())\n",
    "numbers = list(map(int, input().strip().split()))\n",
    "\n",
    "less_than_15 = [num for num in numbers if num < 15]\n",
    "\n",
    "if less_than_15:\n",
    "    print(\" \".join(map(str, less_than_15)))\n",
    "else:\n",
    "    print(-1)"
   ]
  },
  {
   "cell_type": "markdown",
   "metadata": {},
   "source": [
    "### 14. Given a number n print the three prime number which comes next to number n\n",
    "\n",
    "**Input Description:**\n",
    "\n",
    "0<n<100 Given a number n\n",
    "\n",
    "**Output Description:**\n",
    "\n",
    "print the three prime number which comes next to number n\n",
    "\n",
    "**Sample Input:**\n",
    "\n",
    "3\n",
    "\n",
    "**Sample Output:**\n",
    "\n",
    "5 7 11"
   ]
  },
  {
   "cell_type": "code",
   "execution_count": 28,
   "metadata": {},
   "outputs": [
    {
     "name": "stdout",
     "output_type": "stream",
     "text": [
      "5 7 11\n"
     ]
    }
   ],
   "source": [
    "def is_prime(num):\n",
    "    if num <= 1:\n",
    "        return False\n",
    "    for i in range(2, int(num ** 0.5) + 1):\n",
    "        if num % i == 0:\n",
    "            return False\n",
    "    return True\n",
    "\n",
    "n = int(input().strip())\n",
    "primes = []\n",
    "current_number = n + 1\n",
    "\n",
    "while len(primes) < 3:\n",
    "    if is_prime(current_number):\n",
    "        primes.append(current_number)\n",
    "    current_number += 1\n",
    "print(\" \".join(map(str, primes)))"
   ]
  },
  {
   "cell_type": "markdown",
   "metadata": {},
   "source": [
    "### 15. Given a number n followed by n numbers Print the largest number in an array\n",
    "\n",
    "**Input Description:**\n",
    "\n",
    "0<n<100 Given a number n Followed by n number in next line\n",
    "\n",
    "**Output Description:**\n",
    "\n",
    "Print the largest number in an array\n",
    "\n",
    "**Sample Input:**\n",
    "\n",
    "6\n",
    "\n",
    "5 7 4 4 6 8\n",
    "\n",
    "**Sample Output:**\n",
    "\n",
    "8"
   ]
  },
  {
   "cell_type": "code",
   "execution_count": 29,
   "metadata": {},
   "outputs": [
    {
     "name": "stdout",
     "output_type": "stream",
     "text": [
      "8\n"
     ]
    }
   ],
   "source": [
    "n = int(input().strip())\n",
    "numbers = list(map(int, input().strip().split()))\n",
    "\n",
    "largest_number = max(numbers)\n",
    "print(largest_number)"
   ]
  },
  {
   "cell_type": "markdown",
   "metadata": {},
   "source": [
    "### 16. Given a string print the vowels in the string\n",
    "\n",
    "**Input Description:**\n",
    "\n",
    "Given a string\n",
    "\n",
    "**Output Description:**\n",
    "\n",
    "Print the String\n",
    "\n",
    "**Sample Input:**\n",
    "\n",
    "guvi geek\n",
    "\n",
    "**Sample Output:**\n",
    "\n",
    "ui ee"
   ]
  },
  {
   "cell_type": "code",
   "execution_count": 34,
   "metadata": {},
   "outputs": [
    {
     "name": "stdout",
     "output_type": "stream",
     "text": [
      "ui ee\n"
     ]
    }
   ],
   "source": [
    "input_string = input()\n",
    "\n",
    "# Define vowels\n",
    "vowels = \"aeiouAEIOU\"\n",
    "\n",
    "# Split the input string into words\n",
    "words = input_string.split()\n",
    "\n",
    "# Extract vowels from each word\n",
    "vowel_words = [\"\".join([char for char in word if char in vowels]) for word in words]\n",
    "\n",
    "# Join the vowel strings with spaces\n",
    "result = \" \".join(vowel_words)\n",
    "print(result)"
   ]
  },
  {
   "cell_type": "markdown",
   "metadata": {},
   "source": [
    "### 17. Given a string find the number of uppercase letters and lowercase letters\n",
    "\n",
    "**Input Description:**\n",
    "\n",
    "Given a string\n",
    "\n",
    "**Output Description:**\n",
    "\n",
    "Print the number of uppercase and lowercase\n",
    "\n",
    "**Sample Input:**\n",
    "\n",
    "Guvi Geek\n",
    "\n",
    "**Sample Output:**\n",
    "\n",
    "2 6"
   ]
  },
  {
   "cell_type": "code",
   "execution_count": 35,
   "metadata": {},
   "outputs": [
    {
     "name": "stdout",
     "output_type": "stream",
     "text": [
      "2 6\n"
     ]
    }
   ],
   "source": [
    "input_string = input().strip()\n",
    "\n",
    "uppercase_count = 0\n",
    "lowercase_count = 0\n",
    "\n",
    "for char in input_string:\n",
    "    if char.isupper():\n",
    "        uppercase_count += 1\n",
    "    elif char.islower():\n",
    "        lowercase_count += 1\n",
    "\n",
    "print(uppercase_count, lowercase_count)"
   ]
  },
  {
   "cell_type": "markdown",
   "metadata": {},
   "source": [
    "### 18. Given a string convert string into lower case\n",
    "\n",
    "**Input Description:**\n",
    "\n",
    "Given a string\n",
    "\n",
    "**Output Description:**\n",
    "\n",
    "Print string into lower case\n",
    "\n",
    "**Sample Input:**\n",
    "\n",
    "Guvi Geek\n",
    "\n",
    "**Sample Output:**\n",
    "\n",
    "guvi geek"
   ]
  },
  {
   "cell_type": "code",
   "execution_count": 36,
   "metadata": {},
   "outputs": [
    {
     "name": "stdout",
     "output_type": "stream",
     "text": [
      "guvi geek\n"
     ]
    }
   ],
   "source": [
    "input_string = input().strip()\n",
    "lowercase_string = input_string.lower()\n",
    "print(lowercase_string)"
   ]
  },
  {
   "cell_type": "markdown",
   "metadata": {},
   "source": [
    "### 19. Given a number n followed by n numbers find whether it is odd or even\n",
    "\n",
    "**Input Description:**\n",
    "\n",
    "0<n<100 Given a number n Followed by n number in next line\n",
    "\n",
    "**Output Description:**\n",
    "\n",
    "Print whether odd or even\n",
    "\n",
    "**Sample Input:**\n",
    "\n",
    "3\n",
    "\n",
    "5 7 4\n",
    "\n",
    "**Sample Output:**\n",
    "\n",
    "odd odd even"
   ]
  },
  {
   "cell_type": "code",
   "execution_count": 37,
   "metadata": {},
   "outputs": [
    {
     "name": "stdout",
     "output_type": "stream",
     "text": [
      "odd odd even"
     ]
    }
   ],
   "source": [
    "n = int(input())\n",
    "numbers = list(map(int, input().split()))\n",
    "\n",
    "for num in numbers:\n",
    "    if num % 2 == 0:\n",
    "        print(\"even\", end=\"\")\n",
    "    else:\n",
    "        print(\"odd\", end=\" \")"
   ]
  },
  {
   "cell_type": "markdown",
   "metadata": {},
   "source": [
    "### 20. Given number n and m print the value of n power m\n",
    "\n",
    "**Input Description:**\n",
    "\n",
    "You will given a number n and m separated by by a space 0<n<100 0<m<100\n",
    "\n",
    "**Output Description:**\n",
    "\n",
    "print the value of n power m\n",
    "\n",
    "**Sample Input:**\n",
    "\n",
    "3 3\n",
    "\n",
    "**Sample Output:**\n",
    "\n",
    "27"
   ]
  },
  {
   "cell_type": "code",
   "execution_count": 38,
   "metadata": {},
   "outputs": [
    {
     "name": "stdout",
     "output_type": "stream",
     "text": [
      "27\n"
     ]
    }
   ],
   "source": [
    "n, m = map(int, input().split())\n",
    "result = n ** m\n",
    "print(result)"
   ]
  },
  {
   "cell_type": "markdown",
   "metadata": {},
   "source": [
    "### 21. Given a string print the duplicate in the string  if their no duplicate  print -1\n",
    "\n",
    "**Input Description:**\n",
    "\n",
    "Given a string\n",
    "\n",
    "**Output Description:**\n",
    "\n",
    "Print duplicate of the string or -1\n",
    "\n",
    "**Sample Input:**\n",
    "\n",
    "Guvi Geek\n",
    "\n",
    "**Sample Output:**\n",
    "\n",
    "Ge"
   ]
  },
  {
   "cell_type": "code",
   "execution_count": 39,
   "metadata": {},
   "outputs": [
    {
     "name": "stdout",
     "output_type": "stream",
     "text": [
      "Ge\n"
     ]
    }
   ],
   "source": [
    "s = input().strip()\n",
    "char_count = {}\n",
    "\n",
    "# Count occurrences of each character\n",
    "for char in s:\n",
    "    if char in char_count:\n",
    "        char_count[char] += 1\n",
    "    else:\n",
    "        char_count[char] = 1\n",
    "\n",
    "# Identify and collect duplicates\n",
    "duplicates = ''.join([char for char, count in char_count.items() if count > 1])\n",
    "if duplicates:\n",
    "    print(duplicates)\n",
    "else:\n",
    "    print(-1)"
   ]
  },
  {
   "cell_type": "markdown",
   "metadata": {},
   "source": [
    "### 22. Given a number n followed by n numbers add the odd number in an array\n",
    "\n",
    "**Input Description:**\n",
    "\n",
    "0<n<100 Given a number n Followed by n number in next line\n",
    "\n",
    "**Output Description:**\n",
    "\n",
    "Print the sum of odd numbers in an array\n",
    "\n",
    "**Sample Input:**\n",
    "\n",
    "6\n",
    "\n",
    "5 7 4 4 6 8\n",
    "\n",
    "**Sample Output:**\n",
    "\n",
    "12"
   ]
  },
  {
   "cell_type": "code",
   "execution_count": 40,
   "metadata": {},
   "outputs": [
    {
     "name": "stdout",
     "output_type": "stream",
     "text": [
      "12\n"
     ]
    }
   ],
   "source": [
    "n = int(input())\n",
    "arr = list(map(int, input().split()))\n",
    "\n",
    "odd_sum = 0\n",
    "\n",
    "for num in arr:\n",
    "    if num % 2 != 0:\n",
    "        odd_sum += num\n",
    "        \n",
    "print(odd_sum)"
   ]
  },
  {
   "cell_type": "markdown",
   "metadata": {},
   "source": [
    "### 23. Given a numbers n and m followed by n*n numbers in matrix format print the sum of the elements in the matrix in which sum of row value and column value is even(1 base index)\n",
    "\n",
    "**Input Description:**\n",
    "\n",
    "You will given a number n and m followed by n*m numbers in matrix format . 0<n<100 0<m<100\n",
    "\n",
    "**Output Description:**\n",
    "\n",
    "print the sum of the elements in the matrix in which sum of row value and column value is even\n",
    "\n",
    "**Sample Input:**\n",
    "\n",
    "3 3\n",
    "\n",
    "1 2 3\n",
    "\n",
    "4 5 6\n",
    "\n",
    "7 8 9\n",
    "\n",
    "**Sample Output:**\n",
    "\n",
    "25"
   ]
  },
  {
   "cell_type": "code",
   "execution_count": 41,
   "metadata": {},
   "outputs": [
    {
     "name": "stdout",
     "output_type": "stream",
     "text": [
      "25\n"
     ]
    }
   ],
   "source": [
    "n, m = map(int, input().split())\n",
    "\n",
    "total_sum = 0\n",
    "\n",
    "for i in range(1, n + 1):\n",
    "    row = list(map(int, input().split()))\n",
    "    for j in range(1, m + 1):\n",
    "        if (i + j) % 2 == 0:\n",
    "            total_sum += row[j - 1]\n",
    "print(total_sum)"
   ]
  },
  {
   "cell_type": "markdown",
   "metadata": {},
   "source": [
    "### 24. Given a number n followed by n numbers Find the sum of the elements in an array and print sum of number is odd or even\n",
    "\n",
    "**Input Description:**\n",
    "\n",
    "0<n<100 Given a number n Followed by n number in next line\n",
    "\n",
    "**Output Description:**\n",
    "\n",
    "print sum of number is odd or even\n",
    "\n",
    "**Sample Input:**\n",
    "\n",
    "3\n",
    "\n",
    "5 7 4\n",
    "\n",
    "**Sample Output:**\n",
    "\n",
    "even"
   ]
  },
  {
   "cell_type": "code",
   "execution_count": 42,
   "metadata": {},
   "outputs": [
    {
     "name": "stdout",
     "output_type": "stream",
     "text": [
      "even\n"
     ]
    }
   ],
   "source": [
    "n = int(input())\n",
    "numbers = list(map(int, input().split()))\n",
    "\n",
    "total_sum = sum(numbers)\n",
    "if total_sum % 2 == 0:\n",
    "    print(\"even\")\n",
    "else:\n",
    "    print(\"odd\")"
   ]
  },
  {
   "cell_type": "markdown",
   "metadata": {},
   "source": [
    "### 25. Given a string find the length of the string without space\n",
    "\n",
    "**Input Description:**\n",
    "\n",
    "Given a string\n",
    "\n",
    "**Output Description:**\n",
    "\n",
    "Print length in number\n",
    "\n",
    "**Sample Input:**\n",
    "\n",
    "guvi geek\n",
    "\n",
    "**Sample Output:**\n",
    "\n",
    "8"
   ]
  },
  {
   "cell_type": "code",
   "execution_count": 43,
   "metadata": {},
   "outputs": [
    {
     "name": "stdout",
     "output_type": "stream",
     "text": [
      "8\n"
     ]
    }
   ],
   "source": [
    "input_string = input()\n",
    "modified_string = input_string.replace(\" \", \"\")\n",
    "\n",
    "length_without_spaces = len(modified_string)\n",
    "print(length_without_spaces)"
   ]
  },
  {
   "cell_type": "markdown",
   "metadata": {},
   "source": [
    "### 26. Given a string convert string into upper case\n",
    "\n",
    "**Input Description:**\n",
    "\n",
    "Given a string\n",
    "\n",
    "**Output Description:**\n",
    "\n",
    "print the string into uppercase\n",
    "\n",
    "**Sample Input:**\n",
    "\n",
    "guvi geek\n",
    "\n",
    "**Sample Output:**\n",
    "\n",
    "GUVI GEEK"
   ]
  },
  {
   "cell_type": "code",
   "execution_count": 44,
   "metadata": {},
   "outputs": [
    {
     "name": "stdout",
     "output_type": "stream",
     "text": [
      "GUVI GEEK\n"
     ]
    }
   ],
   "source": [
    "input_string = input()\n",
    "uppercase_string = input_string.upper()\n",
    "print(uppercase_string)"
   ]
  },
  {
   "cell_type": "markdown",
   "metadata": {},
   "source": [
    "### 27. Given a number n followed by n numbers add the even number in an array\n",
    "\n",
    "**Input Description:**\n",
    "\n",
    "0<n<100 Given a number n Followed by n number in next line\n",
    "\n",
    "**Output Description:**\n",
    "\n",
    "Print the sum of even numbers in an array\n",
    "\n",
    "**Sample Input:**\n",
    "\n",
    "6\n",
    "\n",
    "5 7 4 4 6 8\n",
    "\n",
    "**Sample Output:**\n",
    "\n",
    "22"
   ]
  },
  {
   "cell_type": "code",
   "execution_count": 45,
   "metadata": {},
   "outputs": [
    {
     "name": "stdout",
     "output_type": "stream",
     "text": [
      "22\n"
     ]
    }
   ],
   "source": [
    "n = int(input())\n",
    "numbers = list(map(int, input().split()))\n",
    "\n",
    "even_sum = 0\n",
    "\n",
    "for number in numbers:\n",
    "    if number % 2 == 0:\n",
    "        even_sum += number\n",
    "print(even_sum)"
   ]
  },
  {
   "cell_type": "markdown",
   "metadata": {},
   "source": [
    "### 28. Given number n print the square root of the number n note n is a perfect square number\n",
    "\n",
    "**Input Description:**\n",
    "\n",
    "You will given a number n 0<n<=100\n",
    "\n",
    "**Output Description:**\n",
    "\n",
    "print the square root of the number n\n",
    "\n",
    "**Sample Input:**\n",
    "\n",
    "16\n",
    "\n",
    "**Sample Output:**\n",
    "\n",
    "4"
   ]
  },
  {
   "cell_type": "code",
   "execution_count": null,
   "metadata": {},
   "outputs": [
    {
     "name": "stdout",
     "output_type": "stream",
     "text": [
      "4\n"
     ]
    }
   ],
   "source": [
    "import math\n",
    "n = int(input())\n",
    "sqrt_n = int(math.sqrt(n))\n",
    "print(sqrt_n)"
   ]
  },
  {
   "cell_type": "markdown",
   "metadata": {},
   "source": [
    "### 29. Given a numbers n followed by x and y array of n number. Add the common number in the array x and y and print the numbers. If there is no such number print -1. A number is said to be a common number if x[i] == y[i].\n",
    "\n",
    "**Input Description:**\n",
    "\n",
    "0<n<100 Given a number n Followed by x number in next line Followed by y number in next line\n",
    "\n",
    "**Output Description:**\n",
    "\n",
    "Print added common numbers if their is no number print -1\n",
    "\n",
    "**Sample Input:**\n",
    "\n",
    "6\n",
    "\n",
    "5 7 4 4 6 8\n",
    "\n",
    "1 2 3 5 1 1\n",
    "\n",
    "**Sample Output:**\n",
    "\n",
    "-1"
   ]
  },
  {
   "cell_type": "code",
   "execution_count": 47,
   "metadata": {},
   "outputs": [
    {
     "name": "stdout",
     "output_type": "stream",
     "text": [
      "-1\n"
     ]
    }
   ],
   "source": [
    "n = int(input())\n",
    "x = list(map(int, input().split()))\n",
    "y = list(map(int, input().split()))\n",
    "\n",
    "common_numbers = [x[i] + y[i] for i in range(n) if x[i] == y[i]]\n",
    "if common_numbers:\n",
    "    print(\" \".join(map(str, common_numbers)))\n",
    "else:\n",
    "    print(-1)"
   ]
  },
  {
   "cell_type": "markdown",
   "metadata": {},
   "source": [
    "### 30. Given a string remove the vowels in the string\n",
    "\n",
    "**Input Description:**\n",
    "\n",
    "Given a string\n",
    "\n",
    "**Output Description:**\n",
    "\n",
    "Print the string\n",
    "\n",
    "**Sample Input:**\n",
    "\n",
    "guvi geek\n",
    "\n",
    "**Sample Output:**\n",
    "\n",
    "gv gk"
   ]
  },
  {
   "cell_type": "code",
   "execution_count": 58,
   "metadata": {},
   "outputs": [
    {
     "name": "stdout",
     "output_type": "stream",
     "text": [
      "gv gk\n"
     ]
    }
   ],
   "source": [
    "def rem_vowel(string): \n",
    "    vowels = ['a', 'e', 'i', 'o', 'u']\n",
    "    words = string.split()\n",
    "    \n",
    "    result = []\n",
    "    for word in words:\n",
    "        filtered_word = word[0] + ''.join([char for char in word[1:] if char.lower() not in vowels])\n",
    "        result.append(filtered_word)    \n",
    "    print(' '.join(result))\n",
    "\n",
    "string = input().strip()\n",
    "rem_vowel(string)"
   ]
  },
  {
   "cell_type": "markdown",
   "metadata": {},
   "source": [
    "### 31. Given a string find the number of special characters if their no special characters print -1\n",
    "\n",
    "**Input Description:**\n",
    "\n",
    "Given a string\n",
    "\n",
    "**Output Description:**\n",
    "\n",
    "Print number of special characters or -1\n",
    "\n",
    "**Sample Input:**\n",
    "\n",
    "Guvi Geek\n",
    "\n",
    "**Sample Output:**\n",
    "\n",
    "-1"
   ]
  },
  {
   "cell_type": "code",
   "execution_count": 49,
   "metadata": {},
   "outputs": [
    {
     "name": "stdout",
     "output_type": "stream",
     "text": [
      "-1\n"
     ]
    }
   ],
   "source": [
    "import string\n",
    "\n",
    "input_string = input()\n",
    "\n",
    "spec_char_count = 0\n",
    "\n",
    "for char in input_string:\n",
    "    if char not in string.ascii_letters and char not in string.digits and char != \" \":\n",
    "        spec_char_count += 1\n",
    "\n",
    "if spec_char_count == 0:\n",
    "    print(-1)\n",
    "else:\n",
    "    print(spec_char_count)"
   ]
  },
  {
   "cell_type": "markdown",
   "metadata": {},
   "source": [
    "### 32. Given a string reverse the words in the string\n",
    "\n",
    "**Input Description:**\n",
    "\n",
    "Given a string\n",
    "\n",
    "**Output Description:**\n",
    "\n",
    "Print string into reverse the words in the string\n",
    "\n",
    "**Sample Input:**\n",
    "\n",
    "guvi geek\n",
    "\n",
    "**Sample Output:**\n",
    "\n",
    "ivug keeg"
   ]
  },
  {
   "cell_type": "code",
   "execution_count": 50,
   "metadata": {},
   "outputs": [
    {
     "name": "stdout",
     "output_type": "stream",
     "text": [
      "ivug keeg\n"
     ]
    }
   ],
   "source": [
    "input_string = input()\n",
    "words = input_string.split()\n",
    "\n",
    "reversed_words = ' '.join(word[::-1] for word in words)\n",
    "print(reversed_words)"
   ]
  },
  {
   "cell_type": "markdown",
   "metadata": {},
   "source": [
    "### 33. Given a two string print the common characters if their no common characters print -1\n",
    "\n",
    "**Input Description:**\n",
    "\n",
    "Given a two strings in one by one line\n",
    "\n",
    "**Output Description:**\n",
    "\n",
    "Print number of special characters or -1\n",
    "\n",
    "**Sample Input:**\n",
    "\n",
    "Guvi Geek\n",
    "\n",
    "Guvi\n",
    "\n",
    "**Sample Output:**\n",
    "\n",
    "Guvi"
   ]
  },
  {
   "cell_type": "code",
   "execution_count": 52,
   "metadata": {},
   "outputs": [
    {
     "name": "stdout",
     "output_type": "stream",
     "text": [
      "Guvi\n"
     ]
    }
   ],
   "source": [
    "def common_characters(str1, str2):\n",
    "    set2 = set(str2)\n",
    "    seen = set()\n",
    "    result = ''.join([char for char in str1 if char in set2 and char not in seen and not seen.add(char)])\n",
    "    print(result if result else -1)\n",
    "\n",
    "str1 = input().strip()\n",
    "str2 = input().strip()\n",
    "common_characters(str1, str2)"
   ]
  },
  {
   "cell_type": "markdown",
   "metadata": {},
   "source": [
    "### 34. Given a number n followed by n numbers short the n number in descending order \n",
    "\n",
    "**Input Description:**\n",
    "\n",
    "0<n<100 Given a number n Followed by n number in next line\n",
    "\n",
    "**Output Description:**\n",
    "\n",
    "Print short the n number in descending order\n",
    "\n",
    "**Sample Input:**\n",
    "\n",
    "6\n",
    "\n",
    "5 7 4 4 6 8\n",
    "\n",
    "**Sample Output:**\n",
    "\n",
    "8 7 6 5 4 4"
   ]
  },
  {
   "cell_type": "code",
   "execution_count": 59,
   "metadata": {},
   "outputs": [
    {
     "name": "stdout",
     "output_type": "stream",
     "text": [
      "8 7 6 5 4 4\n"
     ]
    }
   ],
   "source": [
    "n = int(input())\n",
    "numbers = list(map(int, input().split()))\n",
    "numbers.sort(reverse=True)\n",
    "print(*numbers)"
   ]
  },
  {
   "cell_type": "markdown",
   "metadata": {},
   "source": [
    "### 35. Given a number n and m followed by n numbers remove the number m in the n number and print the remaining n number if m is not found print -1\n",
    "\n",
    "**Input Description:**\n",
    "\n",
    "0<n<100 Given a number n Followed by n number in next line\n",
    "\n",
    "**Output Description:**\n",
    "\n",
    "Print the remaining numbers or -1\n",
    "\n",
    "**Sample Input:**\n",
    "\n",
    "6 43\n",
    "\n",
    "5 7 4 4 6 8\n",
    "\n",
    "**Sample Output:**\n",
    "\n",
    "-1"
   ]
  },
  {
   "cell_type": "code",
   "execution_count": 60,
   "metadata": {},
   "outputs": [
    {
     "name": "stdout",
     "output_type": "stream",
     "text": [
      "-1\n"
     ]
    }
   ],
   "source": [
    "n, m = map(int, input().split())\n",
    "numbers = list(map(int, input().split()))\n",
    "\n",
    "if m in numbers:\n",
    "    numbers = [num for num in numbers if num != m]\n",
    "    if numbers:\n",
    "        print(*numbers)\n",
    "    else:\n",
    "        print(-1)\n",
    "else:\n",
    "    print(-1)"
   ]
  },
  {
   "cell_type": "markdown",
   "metadata": {},
   "source": [
    "### 36.  Given a number n followed by n numbers Print the 2nd  largest number in an array\n",
    "\n",
    "**Input Description:**\n",
    "\n",
    "0<n<100 Given a number n Followed by n number in next line\n",
    "\n",
    "**Output Description:**\n",
    "\n",
    "Print the second largest number in an array\n",
    "\n",
    "**Sample Input:**\n",
    "\n",
    "6\n",
    "\n",
    "5 7 4 4 6 8\n",
    "\n",
    "**Sample Output:**\n",
    "\n",
    "7"
   ]
  },
  {
   "cell_type": "code",
   "execution_count": 62,
   "metadata": {},
   "outputs": [
    {
     "name": "stdout",
     "output_type": "stream",
     "text": [
      "7\n"
     ]
    }
   ],
   "source": [
    "n = int(input())\n",
    "numbers = list(map(int, input().split()))\n",
    "\n",
    "unique_numbers = sorted(set(numbers), reverse=True)\n",
    "if len(unique_numbers) >= 2:\n",
    "    print(unique_numbers[1])\n",
    "else:\n",
    "    print(-1)"
   ]
  },
  {
   "cell_type": "markdown",
   "metadata": {},
   "source": [
    "### 37. Given a two number n and m find the Quotient and remainder\n",
    "\n",
    "**Input Description:**\n",
    "\n",
    "0<n<10000 0<m<10000 Given two number separated by a space\n",
    "\n",
    "**Output Description:**\n",
    "\n",
    "Need to print Quotient and remainder separated by a space\n",
    "\n",
    "**Sample Input:**\n",
    "\n",
    "6 3\n",
    "\n",
    "**Sample Output:**\n",
    "\n",
    "2 0"
   ]
  },
  {
   "cell_type": "code",
   "execution_count": 63,
   "metadata": {},
   "outputs": [
    {
     "name": "stdout",
     "output_type": "stream",
     "text": [
      "2 0\n"
     ]
    }
   ],
   "source": [
    "n, m = map(int, input().split())\n",
    "\n",
    "quotient = n // m\n",
    "remainder = n % m\n",
    "\n",
    "print(quotient, remainder)"
   ]
  },
  {
   "cell_type": "markdown",
   "metadata": {},
   "source": [
    "### 38. Given a number n print the prime number which comes next to number n\n",
    "\n",
    "**Input Description:**\n",
    "\n",
    "0<n<100 Given a number n\n",
    "\n",
    "**Output Description:**\n",
    "\n",
    "print the prime number which comes next to number n\n",
    "\n",
    "**Sample Input:**\n",
    "\n",
    "3\n",
    "\n",
    "**Sample Output:**\n",
    "\n",
    "5"
   ]
  },
  {
   "cell_type": "code",
   "execution_count": 64,
   "metadata": {},
   "outputs": [
    {
     "name": "stdout",
     "output_type": "stream",
     "text": [
      "5\n"
     ]
    }
   ],
   "source": [
    "def is_prime(num):\n",
    "    if num <= 1:\n",
    "        return False\n",
    "    for i in range(2, int(num ** 0.5) + 1):\n",
    "        if num % i == 0:\n",
    "            return False\n",
    "    return True\n",
    "\n",
    "n = int(input())\n",
    "current_num = n + 1\n",
    "while not is_prime(current_num):\n",
    "    current_num += 1\n",
    "print(current_num)"
   ]
  },
  {
   "cell_type": "markdown",
   "metadata": {},
   "source": [
    "### 39. Given a string remove special characters if there is no special characters print -1\n",
    "\n",
    "**Input Description:**\n",
    "\n",
    "Given a string\n",
    "\n",
    "**Output Description:**\n",
    "\n",
    "Print the string or -1\n",
    "\n",
    "**Sample Input:**\n",
    "\n",
    "Xyz-aBc-nMk\n",
    "\n",
    "**Sample Output:**\n",
    "\n",
    "XyzaBcnMk"
   ]
  },
  {
   "cell_type": "code",
   "execution_count": 65,
   "metadata": {},
   "outputs": [
    {
     "name": "stdout",
     "output_type": "stream",
     "text": [
      "XyzaBcnMk\n"
     ]
    }
   ],
   "source": [
    "def remove_spec_chars(input_string):\n",
    "    filtered_string = ''.join(char for char in input_string if char.isalnum())\n",
    "    \n",
    "    if filtered_string == input_string:\n",
    "        print(-1)\n",
    "    else:\n",
    "        print(filtered_string)\n",
    "\n",
    "input_string = input()\n",
    "remove_spec_chars(input_string)"
   ]
  },
  {
   "cell_type": "markdown",
   "metadata": {},
   "source": [
    "### 40. Given a numbers n  followed by x and y array of n numbers add the array x and y and print the numbers\n",
    "\n",
    "**Input Description:**\n",
    "\n",
    "0<n<100 Given a number n Followed by n number in next line Followed by n number in next line\n",
    "\n",
    "**Output Description:**\n",
    "\n",
    "Print added n numbers\n",
    "\n",
    "**Sample Input:**\n",
    "\n",
    "6\n",
    "\n",
    "5 7 4 4 6 8\n",
    "\n",
    "1 2 3 5 1 1\n",
    "\n",
    "**Sample Output:**\n",
    "\n",
    "6 9 7 9 7 9"
   ]
  },
  {
   "cell_type": "code",
   "execution_count": 66,
   "metadata": {},
   "outputs": [
    {
     "name": "stdout",
     "output_type": "stream",
     "text": [
      "6 9 7 9 7 9\n"
     ]
    }
   ],
   "source": [
    "def add_arrays(n, x, y):\n",
    "    result = [x[i] + y[i] for i in range(n)]\n",
    "    print(\" \".join(map(str, result)))\n",
    "\n",
    "n = int(input())\n",
    "x = list(map(int, input().split()))\n",
    "y = list(map(int, input().split()))\n",
    "add_arrays(n, x, y)"
   ]
  },
  {
   "cell_type": "markdown",
   "metadata": {},
   "source": [
    "### 41. Given a string convert string into camel case\n",
    "\n",
    "**Input Description:**\n",
    "\n",
    "Given a string\n",
    "\n",
    "**Output Description:**\n",
    "\n",
    "Print string into camel case\n",
    "\n",
    "**Sample Input:**\n",
    "\n",
    "guvi geek\n",
    "\n",
    "**Sample Output:**\n",
    "\n",
    "guviGeek"
   ]
  },
  {
   "cell_type": "code",
   "execution_count": 67,
   "metadata": {},
   "outputs": [
    {
     "name": "stdout",
     "output_type": "stream",
     "text": [
      "guviGeek\n"
     ]
    }
   ],
   "source": [
    "def to_camel_case(s):\n",
    "    words = s.split()\n",
    "    camel_case_string = words[0].lower() + ''.join(word.capitalize() for word in words[1:])\n",
    "    print(camel_case_string)\n",
    "\n",
    "input_string = input()\n",
    "to_camel_case(input_string)"
   ]
  },
  {
   "cell_type": "markdown",
   "metadata": {},
   "source": [
    "### 42. Given a numbers n followed by n*n numbers in matrix format print the sum of the numbers in the column\n",
    "\n",
    "**Input Description:**\n",
    "\n",
    "You will given a number n followed by n*m numbers in matrix format .\n",
    "\n",
    "**Output Description:**\n",
    "\n",
    "print the sum of the numbers in the column\n",
    "\n",
    "**Sample Input:**\n",
    "\n",
    "3 3\n",
    "\n",
    "1 2 3\n",
    "\n",
    "4 5 6\n",
    "\n",
    "7 8 9\n",
    "\n",
    "**Sample Output:**\n",
    "\n",
    "12 15 18"
   ]
  },
  {
   "cell_type": "code",
   "execution_count": 68,
   "metadata": {},
   "outputs": [
    {
     "name": "stdout",
     "output_type": "stream",
     "text": [
      "12 15 18\n"
     ]
    }
   ],
   "source": [
    "def column_sum(n, m, matrix):\n",
    "    column_sums = [0] * m\n",
    "    \n",
    "    for i in range(n):\n",
    "        for j in range(m):\n",
    "            column_sums[j] += matrix[i][j]\n",
    "    print(\" \".join(map(str, column_sums)))\n",
    "\n",
    "n, m = map(int, input().split())\n",
    "matrix = [list(map(int, input().split())) for _ in range(n)]\n",
    "column_sum(n, m, matrix)"
   ]
  },
  {
   "cell_type": "markdown",
   "metadata": {},
   "source": [
    "### 43. Given a number n followed by n numbers Print the index 2nd  largest number in an array (1 base index)\n",
    "\n",
    "**Input Description:**\n",
    "\n",
    "0<n<100 Given a number n Followed by n number in next line\n",
    "\n",
    "**Output Description:**\n",
    "\n",
    "Print the largest number index in an array\n",
    "\n",
    "**Sample Input:**\n",
    "\n",
    "6\n",
    "\n",
    "5 7 4 4 6 8\n",
    "\n",
    "**Sample Output:**\n",
    "\n",
    "2"
   ]
  },
  {
   "cell_type": "code",
   "execution_count": 69,
   "metadata": {},
   "outputs": [
    {
     "name": "stdout",
     "output_type": "stream",
     "text": [
      "2\n"
     ]
    }
   ],
   "source": [
    "def second_largest_index(n, arr):\n",
    "    largest = second_largest = -float('inf')\n",
    "    largest_index = second_largest_index = -1\n",
    "    \n",
    "    for i in range(n):\n",
    "        if arr[i] > largest:\n",
    "            second_largest = largest\n",
    "            second_largest_index = largest_index\n",
    "            largest = arr[i]\n",
    "            largest_index = i + 1  # 1-based index\n",
    "        elif arr[i] > second_largest and arr[i] != largest:\n",
    "            second_largest = arr[i]\n",
    "            second_largest_index = i + 1\n",
    "    \n",
    "    if second_largest_index == -1:\n",
    "        print(-1)\n",
    "    else:\n",
    "        print(second_largest_index)\n",
    "\n",
    "n = int(input())\n",
    "arr = list(map(int, input().split()))\n",
    "second_largest_index(n, arr)"
   ]
  },
  {
   "cell_type": "markdown",
   "metadata": {},
   "source": [
    "### 44. Given a string reverse the string\n",
    "\n",
    "**Input Description:**\n",
    "\n",
    "Given a string\n",
    "\n",
    "**Output Description:**\n",
    "\n",
    "Print string into reverse\n",
    "\n",
    "**Sample Input:**\n",
    "\n",
    "guvi geek\n",
    "\n",
    "**Sample Output:**\n",
    "\n",
    "geek guvi"
   ]
  },
  {
   "cell_type": "code",
   "execution_count": 70,
   "metadata": {},
   "outputs": [
    {
     "name": "stdout",
     "output_type": "stream",
     "text": [
      "geek guvi\n"
     ]
    }
   ],
   "source": [
    "def reverse_string(s):\n",
    "    words = s.split()\n",
    "    reversed_words = words[::-1]\n",
    "    print(' '.join(reversed_words))\n",
    "\n",
    "input_string = input()\n",
    "reverse_string(input_string)"
   ]
  },
  {
   "cell_type": "markdown",
   "metadata": {},
   "source": [
    "### 45. Given a number n followed by n numbers Remove  repeating numbers\n",
    "\n",
    "**Input Description:**\n",
    "\n",
    "0<n<100 Given a number n  Followed by n number in next line\n",
    "\n",
    "**Output Description:**\n",
    "\n",
    "Print the numbers which is non- repeating numbers\n",
    "\n",
    "**Sample Input:**\n",
    "\n",
    "6\n",
    "\n",
    "5 7 4 4 6 8\n",
    "\n",
    "**Sample Output:**\n",
    "\n",
    "5 7 6 8"
   ]
  },
  {
   "cell_type": "code",
   "execution_count": 71,
   "metadata": {},
   "outputs": [
    {
     "name": "stdout",
     "output_type": "stream",
     "text": [
      "5 7 6 8\n"
     ]
    }
   ],
   "source": [
    "from collections import Counter\n",
    "\n",
    "def remove_repeating_numbers(n, numbers):\n",
    "    count = Counter(numbers)\n",
    "    non_repeating_numbers = [num for num in numbers if count[num] == 1]\n",
    "    print(\" \".join(map(str, non_repeating_numbers)))\n",
    "\n",
    "n = int(input())\n",
    "numbers = list(map(int, input().split()))\n",
    "remove_repeating_numbers(n, numbers)"
   ]
  },
  {
   "cell_type": "markdown",
   "metadata": {},
   "source": [
    "### 46.  Find the perfect matrix or not perfect matrix means diagonales should contain only even numbers print yes if its perfect matrix else no. You will given a number n followed by n*n numbers\n",
    "\n",
    "**Input Description:**\n",
    "\n",
    "You will given a number n followed by n*n numbers by n lines . 0<n<100\n",
    "\n",
    "**Output Description:**\n",
    "\n",
    "Print yes or no\n",
    "\n",
    "**Sample Input:**\n",
    "\n",
    "3\n",
    "\n",
    "1 2 3\n",
    "\n",
    "4 5 6\n",
    "\n",
    "7 8 9\n",
    "\n",
    "**Sample Output:**\n",
    "\n",
    "no"
   ]
  },
  {
   "cell_type": "code",
   "execution_count": 73,
   "metadata": {},
   "outputs": [
    {
     "name": "stdout",
     "output_type": "stream",
     "text": [
      "no\n"
     ]
    }
   ],
   "source": [
    "def is_perfect_matrix(n, matrix):\n",
    "    for i in range(n):\n",
    "        if matrix[i][i] % 2 != 0 or matrix[i][n - i - 1] % 2 != 0:\n",
    "            return \"no\"\n",
    "    return \"yes\"\n",
    "\n",
    "n = int(input())\n",
    "matrix = []\n",
    "\n",
    "for i in range(n):\n",
    "    row = list(map(int, input().split()))\n",
    "    matrix.append(row)\n",
    "\n",
    "result = is_perfect_matrix(n, matrix)\n",
    "print(result)"
   ]
  },
  {
   "cell_type": "markdown",
   "metadata": {},
   "source": [
    "### 47. Given a number n followed by n numbers Print the index 2nd  smallest number in an array (1 base index)\n",
    "\n",
    "**Input Description:**\n",
    "\n",
    "0<n<100 Given a number n Followed by n number in next line\n",
    "\n",
    "**Output Description:**\n",
    "\n",
    "Print the smallest number index in an array\n",
    "\n",
    "**Sample Input:**\n",
    "\n",
    "6\n",
    "\n",
    "5 7 4 4 6 8\n",
    "\n",
    "**Sample Output:**\n",
    "\n",
    "1"
   ]
  },
  {
   "cell_type": "code",
   "execution_count": 75,
   "metadata": {},
   "outputs": [
    {
     "name": "stdout",
     "output_type": "stream",
     "text": [
      "1\n"
     ]
    }
   ],
   "source": [
    "def second_smallest_index(n, numbers):\n",
    "    # Find the smallest and second smallest elements\n",
    "    smallest = float('inf')\n",
    "    second_smallest = float('inf')\n",
    "    \n",
    "    for num in numbers:\n",
    "        if num < smallest:\n",
    "            second_smallest = smallest\n",
    "            smallest = num\n",
    "        elif smallest < num < second_smallest:\n",
    "            second_smallest = num\n",
    "    \n",
    "    # Find the index of the first occurrence of the second smallest\n",
    "    for i in range(n):\n",
    "        if numbers[i] == second_smallest:\n",
    "            return i + 1  # Return 1-based index\n",
    "    return -1  # If no second smallest exists (edge case)\n",
    "\n",
    "n = int(input())\n",
    "numbers = list(map(int, input().split()))\n",
    "result = second_smallest_index(n, numbers)\n",
    "print(result)"
   ]
  },
  {
   "cell_type": "markdown",
   "metadata": {},
   "source": [
    "### 48. Given a string convert string into upper case where their vowel character\n",
    "\n",
    "**Input Description:**\n",
    "\n",
    "Given a string\n",
    "\n",
    "**Output Description:**\n",
    "\n",
    "Print string into upper case\n",
    "\n",
    "**Sample Input:**\n",
    "\n",
    "guvi geek\n",
    "\n",
    "**Sample Output:**\n",
    "\n",
    "gUvI gEEk"
   ]
  },
  {
   "cell_type": "code",
   "execution_count": 76,
   "metadata": {},
   "outputs": [
    {
     "name": "stdout",
     "output_type": "stream",
     "text": [
      "gUvI gEEk\n"
     ]
    }
   ],
   "source": [
    "def convert_vowels_to_uppercase(s):\n",
    "    vowels = \"aeiouAEIOU\"\n",
    "    result = \"\"\n",
    "    \n",
    "    for char in s:\n",
    "        if char in vowels:\n",
    "            result += char.upper()\n",
    "        else:\n",
    "            result += char\n",
    "    return result\n",
    "\n",
    "input_string = input()\n",
    "print(convert_vowels_to_uppercase(input_string))"
   ]
  },
  {
   "cell_type": "markdown",
   "metadata": {},
   "source": [
    "### 49. Given a numbers n followed by n*n numbers in matrix format print the column which sum of the numbers in the column should be equal to multiple of 3 if there is no column print -1.\n",
    "\n",
    "**Input Description:**\n",
    "\n",
    "You will given a number n followed by n*m numbers in matrix format\n",
    "\n",
    "**Output Description:**\n",
    "\n",
    "print the column in row format\n",
    "\n",
    "**Sample Input:**\n",
    "\n",
    "3 3\n",
    "\n",
    "1 2 3\n",
    "\n",
    "4 5 6\n",
    "\n",
    "7 8 9\n",
    "\n",
    "**Sample Output:**\n",
    "\n",
    "1 4 7\n",
    "\n",
    "2 5 8\n",
    "\n",
    "7 8 9"
   ]
  },
  {
   "cell_type": "code",
   "execution_count": 82,
   "metadata": {},
   "outputs": [],
   "source": [
    "def solve():\n",
    "    n = int(input())\n",
    "    matrix = [list(map(int, input().split())) for _ in range(n)]\n",
    "    found = False\n",
    "    for col in range(n):\n",
    "        column_sum = sum(matrix[row][col] for row in range(n))\n",
    "        if column_sum % 3 == 0:\n",
    "            found = True\n",
    "            print(\" \".join(str(matrix[row][col]) for row in range(n)))\n",
    "    if not found:\n",
    "        print(-1)"
   ]
  },
  {
   "cell_type": "markdown",
   "metadata": {},
   "source": [
    "### 50. Given a number n followed by n numbers Print the repeating numbers\n",
    "\n",
    "**Input Description:**\n",
    "\n",
    "0<n<100 Given a number n Followed by n number in next line\n",
    "\n",
    "**Output Description:**\n",
    "\n",
    "Print the repeating numbers separated by space\n",
    "\n",
    "**Sample Input:**\n",
    "\n",
    "6\n",
    "\n",
    "5 7 4 4 6 8\n",
    "\n",
    "**Sample Output:**\n",
    "\n",
    "4"
   ]
  },
  {
   "cell_type": "code",
   "execution_count": 81,
   "metadata": {},
   "outputs": [
    {
     "name": "stdout",
     "output_type": "stream",
     "text": [
      "4\n"
     ]
    }
   ],
   "source": [
    "from collections import Counter\n",
    "\n",
    "def print_repeating_numbers(n, numbers):\n",
    "    count = Counter(numbers)\n",
    "    repeating_numbers = []\n",
    "    for num in numbers:\n",
    "        if count[num] > 1 and num not in repeating_numbers:\n",
    "            repeating_numbers.append(num)\n",
    "    if repeating_numbers:\n",
    "        print(\" \".join(map(str, repeating_numbers)))\n",
    "    else:\n",
    "        print(\"-1\")\n",
    "\n",
    "n = int(input())\n",
    "numbers = list(map(int, input().split()))\n",
    "print_repeating_numbers(n, numbers)"
   ]
  },
  {
   "cell_type": "markdown",
   "metadata": {},
   "source": [
    "### 51. Given a numbers n followed by n*n numbers in matrix format print the sum of the numbers in the row\n",
    "\n",
    "**Input Description:**\n",
    "\n",
    "You will given a number n followed by n*m numbers in matrix format .\n",
    "\n",
    "**Output Description:**\n",
    "\n",
    "print the sum of the numbers in the row\n",
    "\n",
    "**Sample Input:**\n",
    "\n",
    "3 3\n",
    "\n",
    "1 2 3\n",
    "\n",
    "4 5 6\n",
    "\n",
    "7 8 9\n",
    "\n",
    "**Sample Output:**\n",
    "\n",
    "6 15 24"
   ]
  },
  {
   "cell_type": "code",
   "execution_count": 83,
   "metadata": {},
   "outputs": [
    {
     "name": "stdout",
     "output_type": "stream",
     "text": [
      "6 15 24\n"
     ]
    }
   ],
   "source": [
    "def row_sum(n, m, matrix):\n",
    "    row_sums = [sum(row) for row in matrix]\n",
    "    print(\" \".join(map(str, row_sums)))\n",
    "\n",
    "n, m = map(int, input().split())\n",
    "matrix = [list(map(int, input().split())) for _ in range(n)]\n",
    "row_sum(n, m, matrix)"
   ]
  },
  {
   "cell_type": "markdown",
   "metadata": {},
   "source": [
    "### 52. Given a numbers n and m followed by n*m numbers in matrix format print the sum of the elements in the matrix the element which is even number\n",
    "\n",
    "**Input Description:**\n",
    "\n",
    "You will given a number n and m followed by n*m numbers in matrix format . 0<n<100 0,m<100\n",
    "\n",
    "**Output Description:**\n",
    "\n",
    "print the sum of the elements in the matrix the element which is even number\n",
    "\n",
    "**Sample Input:**\n",
    "\n",
    "3 3\n",
    "\n",
    "1 2 3\n",
    "\n",
    "4 5 6\n",
    "\n",
    "7 8 9\n",
    "\n",
    "**Sample Output:**\n",
    "\n",
    "20"
   ]
  },
  {
   "cell_type": "code",
   "execution_count": 85,
   "metadata": {},
   "outputs": [
    {
     "name": "stdout",
     "output_type": "stream",
     "text": [
      "20\n"
     ]
    }
   ],
   "source": [
    "def sum_of_even_elements(n, m, matrix):\n",
    "    even_sum = 0\n",
    "    \n",
    "    for i in range(n):\n",
    "        for j in range(m):\n",
    "            if matrix[i][j] % 2 == 0:\n",
    "                even_sum += matrix[i][j]\n",
    "    return even_sum\n",
    "\n",
    "n, m = map(int, input().split())\n",
    "matrix = []\n",
    "for i in range(n):\n",
    "    row = list(map(int, input().split()))\n",
    "    matrix.append(row)\n",
    "print(sum_of_even_elements(n, m, matrix))"
   ]
  },
  {
   "cell_type": "markdown",
   "metadata": {},
   "source": [
    "### 53. Given a number n followed by n numbers Print the 2nd  smallest number in an array\n",
    "\n",
    "**Input Description:**\n",
    "\n",
    "0<n<100 Given a number n Followed by n number in next line\n",
    "\n",
    "**Output Description:**\n",
    "\n",
    "Print the 2nd smallest number in an array\n",
    "\n",
    "**Sample Input:**\n",
    "\n",
    "6\n",
    "\n",
    "5 7 4 4 6 8\n",
    "\n",
    "**Sample Output:**\n",
    "\n",
    "5"
   ]
  },
  {
   "cell_type": "code",
   "execution_count": 86,
   "metadata": {},
   "outputs": [
    {
     "name": "stdout",
     "output_type": "stream",
     "text": [
      "5\n"
     ]
    }
   ],
   "source": [
    "def second_smallest(n, arr):\n",
    "    unique_arr = sorted(set(arr))\n",
    "    \n",
    "    # Check if there is a second smallest number\n",
    "    if len(unique_arr) < 2:\n",
    "        return -1\n",
    "    else:\n",
    "        return unique_arr[1]\n",
    "\n",
    "n = int(input())\n",
    "arr = list(map(int, input().split()))\n",
    "print(second_smallest(n, arr))"
   ]
  },
  {
   "cell_type": "code",
   "execution_count": null,
   "metadata": {},
   "outputs": [],
   "source": []
  }
 ],
 "metadata": {
  "kernelspec": {
   "display_name": "py12",
   "language": "python",
   "name": "python3"
  },
  "language_info": {
   "codemirror_mode": {
    "name": "ipython",
    "version": 3
   },
   "file_extension": ".py",
   "mimetype": "text/x-python",
   "name": "python",
   "nbconvert_exporter": "python",
   "pygments_lexer": "ipython3",
   "version": "3.12.7"
  }
 },
 "nbformat": 4,
 "nbformat_minor": 2
}
