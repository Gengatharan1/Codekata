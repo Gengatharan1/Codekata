{
 "cells": [
  {
   "cell_type": "markdown",
   "metadata": {},
   "source": [
    "### **1. Given a string as input, you have to reverse the string by keeping the punctuation and spaces intact. You have to modify the source**\n",
    "\n",
    "string itself without creating another string.\n",
    "\n",
    "#### **Input Description:**\n",
    "\n",
    "1<=string length<=500\n",
    "\n",
    "#### **Output Description:**\n",
    "\n",
    "Print the string in reverse\n",
    "\n",
    "**Sample Input:**\n",
    "\n",
    "A man, in the boat says : I see 1-2-3 in the sky\n",
    "\n",
    "**Sample Output:**\n",
    "\n",
    "y kse, ht ni3 21ee sIsy : a sta o-b-e ht nin amA"
   ]
  },
  {
   "cell_type": "code",
   "execution_count": 1,
   "metadata": {},
   "outputs": [
    {
     "name": "stdout",
     "output_type": "stream",
     "text": [
      "y kse, ht ni3 21ee sIsy : a sta o-b-e ht nin amA\n"
     ]
    }
   ],
   "source": [
    "def reverse_string_with_punctuation(s):\n",
    "    # Convert string to list of characters\n",
    "    char_list = list(s)\n",
    "    \n",
    "    left, right = 0, len(char_list) - 1\n",
    "    \n",
    "    while left < right:\n",
    "        # Skip non-alphanumeric characters from left\n",
    "        if not char_list[left].isalnum():\n",
    "            left += 1\n",
    "        # Skip non-alphanumeric characters from right\n",
    "        elif not char_list[right].isalnum():\n",
    "            right -= 1\n",
    "        else:\n",
    "            # Swap alphanumeric characters\n",
    "            char_list[left], char_list[right] = char_list[right], char_list[left]\n",
    "            left += 1\n",
    "            right -= 1\n",
    "    \n",
    "    # Convert list back to string\n",
    "    reversed_string = ''.join(char_list)\n",
    "    return reversed_string\n",
    "\n",
    "input_string = input()\n",
    "result = reverse_string_with_punctuation(input_string)\n",
    "print(result)"
   ]
  },
  {
   "cell_type": "markdown",
   "metadata": {},
   "source": [
    "### **2. Ramesh is searching a solution to problem posted. The statement is as follows**\n",
    "\n",
    "Print the maximum sum produced by increasing subarray. Ramesh is very confused to see the question,Help him.\n",
    "\n",
    "#### **Input Description:**\n",
    "\n",
    "You are given a number ‘n’,Then next line contains n space separated numbers.\n",
    "\n",
    "#### **Output Description:**\n",
    "\n",
    "Maximum sum value produced by the increasing sub array of size 'n'\n",
    "\n",
    "**Sample Input:**\n",
    "\n",
    "6\n",
    "\n",
    "2 1 4 7 3 6\n",
    "\n",
    "**Sample Output:**\n",
    "\n",
    "12"
   ]
  },
  {
   "cell_type": "code",
   "execution_count": 7,
   "metadata": {},
   "outputs": [
    {
     "name": "stdout",
     "output_type": "stream",
     "text": [
      "13\n"
     ]
    }
   ],
   "source": [
    "def max_increasing_subarray_sum(n, arr):\n",
    "    if n == 0:\n",
    "        return 0\n",
    "    \n",
    "    # Initialize dp array to store maximum sum of increasing subarray ending at each index\n",
    "    dp = [0] * n\n",
    "    \n",
    "    # Initialize dp with initial values (each element itself is a subarray)\n",
    "    for i in range(n):\n",
    "        dp[i] = arr[i]\n",
    "    \n",
    "    # Compute maximum increasing subarray sum\n",
    "    max_sum = dp[0]\n",
    "    for i in range(1, n):\n",
    "        for j in range(i):\n",
    "            if arr[i] > arr[j]:\n",
    "                dp[i] = max(dp[i], dp[j] + arr[i])\n",
    "        max_sum = max(max_sum, dp[i])\n",
    "    \n",
    "    return max_sum\n",
    "\n",
    "n = int(input())                           # n = 6\n",
    "arr = list(map(int, input().split()))      # arr = [2, 1, 4, 7, 3, 6]\n",
    "result = max_increasing_subarray_sum(n, arr)\n",
    "print(result)"
   ]
  },
  {
   "cell_type": "markdown",
   "metadata": {},
   "source": [
    "### **3. Given 2 numbers N,M where N is the number of nodes and M is the number of edges,followed by the connection between nodes, find if the resultant graph has cycles.(all the edges are directed edges)**\n",
    "\n",
    "Input Size : M,N <= 100000\n",
    "\n",
    "#### **Sample Testcase:**\n",
    "\n",
    "**INPUT**\n",
    "\n",
    "2 2\n",
    "\n",
    "1 2\n",
    "\n",
    "2 1\n",
    "\n",
    "**OUTPUT**\n",
    "\n",
    "yes"
   ]
  },
  {
   "cell_type": "code",
   "execution_count": 8,
   "metadata": {},
   "outputs": [
    {
     "name": "stdout",
     "output_type": "stream",
     "text": [
      "yes\n"
     ]
    }
   ],
   "source": [
    "def has_cycle(n, m, edges):\n",
    "    from collections import defaultdict\n",
    "    \n",
    "    # Build graph adjacency list\n",
    "    graph = defaultdict(list)\n",
    "    for u, v in edges:\n",
    "        graph[u].append(v)\n",
    "    \n",
    "    # Array to track state of each node: 0 - unvisited, 1 - visiting, 2 - visited\n",
    "    state = [0] * (n + 1)\n",
    "    \n",
    "    def dfs(node):\n",
    "        if state[node] == 1:\n",
    "            return True  # Cycle detected\n",
    "        if state[node] == 2:\n",
    "            return False  # Already visited, no cycle\n",
    "        \n",
    "        # Mark node as visiting\n",
    "        state[node] = 1\n",
    "        \n",
    "        # Explore neighbors\n",
    "        for neighbor in graph[node]:\n",
    "            if dfs(neighbor):\n",
    "                return True  # Cycle found in the neighbor's subtree\n",
    "        \n",
    "        # Mark node as visited\n",
    "        state[node] = 2\n",
    "        return False\n",
    "    \n",
    "    # Check for cycles in each node\n",
    "    for node in range(1, n + 1):\n",
    "        if state[node] == 0:  # Node is unvisited\n",
    "            if dfs(node):\n",
    "                return \"yes\"  # Cycle found, return immediately    \n",
    "    return \"no\"  # No cycles found\n",
    "\n",
    "if __name__ == \"__main__\":\n",
    "    n, m = map(int, input().split())\n",
    "    edges = []\n",
    "    for _ in range(m):\n",
    "        u, v = map(int, input().split())\n",
    "        edges.append((u, v))\n",
    "    \n",
    "    result = has_cycle(n, m, edges)\n",
    "    print(result)"
   ]
  },
  {
   "cell_type": "markdown",
   "metadata": {},
   "source": [
    "### **4. Write a program to rotate the given string by the given number of times.**\n",
    "\n",
    "#### **Input Description:**\n",
    "\n",
    "String, rotation times\n",
    "\n",
    "#### **Output Description:**\n",
    "\n",
    "print the Rotated string\n",
    "\n",
    "**Sample Input:**\n",
    "\n",
    "hello 3\n",
    "\n",
    "**Sample Output:**\n",
    "\n",
    "llohe"
   ]
  },
  {
   "cell_type": "code",
   "execution_count": 9,
   "metadata": {},
   "outputs": [
    {
     "name": "stdout",
     "output_type": "stream",
     "text": [
      "lohel\n"
     ]
    }
   ],
   "source": [
    "def rotate_string(s, k):\n",
    "    if not s:\n",
    "        return \"\"\n",
    "    \n",
    "    # Calculate effective rotation (positive or negative)\n",
    "    k = k % len(s)\n",
    "    \n",
    "    # Rotate the string\n",
    "    rotated_string = s[k:] + s[:k]\n",
    "    return rotated_string\n",
    "\n",
    "if __name__ == \"__main__\":\n",
    "    input_string, rotation_times = input().split()\n",
    "    rotation_times = int(rotation_times)\n",
    "    \n",
    "    rotated_string = rotate_string(input_string, rotation_times)\n",
    "    print(rotated_string)"
   ]
  },
  {
   "cell_type": "markdown",
   "metadata": {},
   "source": []
  },
  {
   "cell_type": "code",
   "execution_count": null,
   "metadata": {},
   "outputs": [],
   "source": []
  },
  {
   "cell_type": "markdown",
   "metadata": {},
   "source": []
  },
  {
   "cell_type": "code",
   "execution_count": null,
   "metadata": {},
   "outputs": [],
   "source": []
  }
 ],
 "metadata": {
  "kernelspec": {
   "display_name": "Python 3",
   "language": "python",
   "name": "python3"
  },
  "language_info": {
   "codemirror_mode": {
    "name": "ipython",
    "version": 3
   },
   "file_extension": ".py",
   "mimetype": "text/x-python",
   "name": "python",
   "nbconvert_exporter": "python",
   "pygments_lexer": "ipython3",
   "version": "3.12.4"
  }
 },
 "nbformat": 4,
 "nbformat_minor": 2
}
