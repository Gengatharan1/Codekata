{
 "cells": [
  {
   "cell_type": "markdown",
   "metadata": {},
   "source": [
    "### **1. Given a string as input, you have to reverse the string by keeping the punctuation and spaces intact. You have to modify the source**\n",
    "\n",
    "string itself without creating another string.\n",
    "\n",
    "#### **Input Description:**\n",
    "\n",
    "1<=string length<=500\n",
    "\n",
    "#### **Output Description:**\n",
    "\n",
    "Print the string in reverse\n",
    "\n",
    "**Sample Input:**\n",
    "\n",
    "A man, in the boat says : I see 1-2-3 in the sky\n",
    "\n",
    "**Sample Output:**\n",
    "\n",
    "y kse, ht ni3 21ee sIsy : a sta o-b-e ht nin amA"
   ]
  },
  {
   "cell_type": "code",
   "execution_count": null,
   "metadata": {},
   "outputs": [
    {
     "name": "stdout",
     "output_type": "stream",
     "text": [
      "y kse, ht ni3 21ee sIsy : a sta o-b-e ht nin amA\n"
     ]
    }
   ],
   "source": [
    "def reverse_string_with_punctuation(s):\n",
    "    char_list = list(s)     # Convert string to list of characters\n",
    "    left, right = 0, len(char_list) - 1\n",
    "    \n",
    "    while left < right:\n",
    "        if not char_list[left].isalnum():   # Skip non-alphanumeric characters from left\n",
    "            left += 1\n",
    "        elif not char_list[right].isalnum(): # Skip non-alphanumeric characters from right\n",
    "            right -= 1\n",
    "        else:\n",
    "            # Swap alphanumeric characters\n",
    "            char_list[left], char_list[right] = char_list[right], char_list[left]\n",
    "            left += 1\n",
    "            right -= 1\n",
    "    \n",
    "    # Convert list back to string\n",
    "    reversed_string = ''.join(char_list)\n",
    "    return reversed_string\n",
    "\n",
    "input_string = input()\n",
    "result = reverse_string_with_punctuation(input_string)\n",
    "print(result)"
   ]
  },
  {
   "cell_type": "markdown",
   "metadata": {},
   "source": [
    "### **2. Ramesh is searching a solution to problem posted. The statement is as follows**\n",
    "\n",
    "Print the maximum sum produced by increasing subarray. Ramesh is very confused to see the question,Help him.\n",
    "\n",
    "#### **Input Description:**\n",
    "\n",
    "You are given a number ‘n’,Then next line contains n space separated numbers.\n",
    "\n",
    "#### **Output Description:**\n",
    "\n",
    "Maximum sum value produced by the increasing sub array of size 'n'\n",
    "\n",
    "**Sample Input:**\n",
    "\n",
    "6\n",
    "\n",
    "2 1 4 7 3 6\n",
    "\n",
    "**Sample Output:**\n",
    "\n",
    "12"
   ]
  },
  {
   "cell_type": "code",
   "execution_count": 1,
   "metadata": {},
   "outputs": [
    {
     "name": "stdout",
     "output_type": "stream",
     "text": [
      "12\n"
     ]
    }
   ],
   "source": [
    "def max_increasing_subarray_sum(n, arr):\n",
    "    max_sum = 0  # To store the maximum sum of increasing subarray\n",
    "    current_sum = arr[0]  # Start with the first element as part of the first subarray\n",
    "\n",
    "    for i in range(1, n):\n",
    "        if arr[i] > arr[i - 1]:\n",
    "            # If the current element is greater, add it to the current sum\n",
    "            current_sum += arr[i]\n",
    "        else:\n",
    "            # Otherwise, update max_sum if needed and reset current_sum\n",
    "            max_sum = max(max_sum, current_sum)\n",
    "            current_sum = arr[i]  # Start a new subarray\n",
    "\n",
    "    # Finally, ensure to update max_sum after the loop ends\n",
    "    max_sum = max(max_sum, current_sum)\n",
    "    return max_sum\n",
    "\n",
    "n = int(input())\n",
    "arr = list(map(int, input().split()))\n",
    "print(max_increasing_subarray_sum(n, arr))"
   ]
  },
  {
   "cell_type": "markdown",
   "metadata": {},
   "source": [
    "### **3. Given 2 numbers N,M where N is the number of nodes and M is the number of edges,followed by the connection between nodes, find if the resultant graph has cycles.(all the edges are directed edges)**\n",
    "\n",
    "Input Size : M,N <= 100000\n",
    "\n",
    "#### **Sample Testcase:**\n",
    "\n",
    "**INPUT**\n",
    "\n",
    "2 2\n",
    "\n",
    "1 2\n",
    "\n",
    "2 1\n",
    "\n",
    "**OUTPUT**\n",
    "\n",
    "yes"
   ]
  },
  {
   "cell_type": "code",
   "execution_count": 2,
   "metadata": {},
   "outputs": [
    {
     "name": "stdout",
     "output_type": "stream",
     "text": [
      "yes\n"
     ]
    }
   ],
   "source": [
    "def has_cycle(n, m, edges):\n",
    "    # Step 1: Build the graph using adjacency list\n",
    "    graph = [[] for _ in range(n + 1)]  # We use 1-based indexing\n",
    "    \n",
    "    for u, v in edges:\n",
    "        graph[u].append(v)\n",
    "    \n",
    "    # Step 2: Define the visited status for each node\n",
    "    # 0 - Unvisited, 1 - Visiting (in recursion stack), 2 - Visited (fully processed)\n",
    "    visited = [0] * (n + 1)\n",
    "    \n",
    "    # Step 3: DFS function with cycle detection\n",
    "    def dfs(node):\n",
    "        if visited[node] == 1:  # Node is currently in the recursion stack, cycle detected\n",
    "            return True\n",
    "        if visited[node] == 2:  # Node has already been fully processed, no cycle here\n",
    "            return False\n",
    "        \n",
    "        # Mark the node as \"Visiting\" (in recursion stack)\n",
    "        visited[node] = 1\n",
    "        \n",
    "        # Explore all the neighbors\n",
    "        for neighbor in graph[node]:\n",
    "            if dfs(neighbor):\n",
    "                return True\n",
    "        \n",
    "        # Mark the node as \"Visited\" (fully processed)\n",
    "        visited[node] = 2\n",
    "        return False\n",
    "    \n",
    "    # Step 4: Perform DFS from every node\n",
    "    for i in range(1, n + 1):\n",
    "        if visited[i] == 0:  # If the node hasn't been visited yet\n",
    "            if dfs(i):\n",
    "                return \"yes\"\n",
    "    \n",
    "    # If no cycle is found\n",
    "    return \"no\"\n",
    "\n",
    "n, m = map(int, input().split())\n",
    "edges = [tuple(map(int, input().split())) for _ in range(m)]\n",
    "print(has_cycle(n, m, edges))"
   ]
  },
  {
   "cell_type": "markdown",
   "metadata": {},
   "source": [
    "### **4. Write a program to rotate the given string by the given number of times.**\n",
    "\n",
    "#### **Input Description:**\n",
    "\n",
    "String, rotation times\n",
    "\n",
    "#### **Output Description:**\n",
    "\n",
    "print the Rotated string\n",
    "\n",
    "**Sample Input:**\n",
    "\n",
    "hello 3\n",
    "\n",
    "**Sample Output:**\n",
    "\n",
    "llohe"
   ]
  },
  {
   "cell_type": "code",
   "execution_count": 9,
   "metadata": {},
   "outputs": [
    {
     "name": "stdout",
     "output_type": "stream",
     "text": [
      "lohel\n"
     ]
    }
   ],
   "source": [
    "def rotate_string(s, k):\n",
    "    if not s:\n",
    "        return \"\"\n",
    "    \n",
    "    # Calculate effective rotation (positive or negative)\n",
    "    k = k % len(s)\n",
    "    \n",
    "    # Rotate the string\n",
    "    rotated_string = s[k:] + s[:k]\n",
    "    return rotated_string\n",
    "\n",
    "if __name__ == \"__main__\":\n",
    "    input_string, rotation_times = input().split()\n",
    "    rotation_times = int(rotation_times)\n",
    "    \n",
    "    rotated_string = rotate_string(input_string, rotation_times)\n",
    "    print(rotated_string)"
   ]
  },
  {
   "cell_type": "markdown",
   "metadata": {},
   "source": [
    "### **5. You are provided with an array. Your task is to print the count of subarray whose maximum element is strictly greater than ‘k’.**\n",
    "\n",
    "**Input Description:**\n",
    "\n",
    "First line contains two element ‘N’ and ‘k’. Second line contains ‘n’ space separated numbers.\n",
    "\n",
    "**Output Description:**\n",
    "\n",
    "Print the count of subarray whose maximum element’s value is strictly greater than ‘k’.\n",
    "\n",
    "**Sample Input:**\n",
    "\n",
    "5 4\n",
    "\n",
    "1 6 7 8 9\n",
    "\n",
    "**Sample Output:**\n",
    "\n",
    "14"
   ]
  },
  {
   "cell_type": "code",
   "execution_count": 5,
   "metadata": {},
   "outputs": [
    {
     "name": "stdout",
     "output_type": "stream",
     "text": [
      "14\n"
     ]
    }
   ],
   "source": [
    "def count_subarrays_with_max_greater_than_k(n, k, arr):\n",
    "    count = 0\n",
    "    for start in range(n):\n",
    "        for end in range(start, n):\n",
    "            if max(arr[start:end+1]) > k:\n",
    "                count += 1\n",
    "    return count\n",
    "    \n",
    "n, k = map(int, input().split())\n",
    "arr = list(map(int, input().split()))\n",
    "print(count_subarrays_with_max_greater_than_k(n, k, arr))"
   ]
  },
  {
   "cell_type": "markdown",
   "metadata": {},
   "source": [
    "### **6. Given a string of length N, find the longest palindromic substring.**\n",
    "\n",
    "Input Size : 1 <= N <= 1000\n",
    "\n",
    "**Sample Testcase:**\n",
    "\n",
    "**INPUT**\n",
    "\n",
    "DIEHEIDI\n",
    "\n",
    "**OUTPUT**\n",
    "\n",
    "DIEHEID"
   ]
  },
  {
   "cell_type": "code",
   "execution_count": 6,
   "metadata": {},
   "outputs": [
    {
     "name": "stdout",
     "output_type": "stream",
     "text": [
      "DIEHEID\n"
     ]
    }
   ],
   "source": [
    "def longest_palindromic_substring(s):\n",
    "    def expand_around_center(left, right):\n",
    "        while left >= 0 and right < len(s) and s[left] == s[right]:\n",
    "            left -= 1\n",
    "            right += 1\n",
    "        return s[left+1:right]\n",
    "    \n",
    "    longest = \"\"\n",
    "    for i in range(len(s)):\n",
    "        odd_palindrome = expand_around_center(i, i)\n",
    "        if len(odd_palindrome) > len(longest):\n",
    "            longest = odd_palindrome\n",
    "        \n",
    "        even_palindrome = expand_around_center(i, i+1)\n",
    "        if len(even_palindrome) > len(longest):\n",
    "            longest = even_palindrome    \n",
    "    return longest\n",
    "\n",
    "s = input().strip()\n",
    "print(longest_palindromic_substring(s))"
   ]
  },
  {
   "cell_type": "markdown",
   "metadata": {},
   "source": [
    "### **7. There is one meeting room in Flipkart. There are n meetings in the form of (S [ i ], F [ i ]) where S [ i ] is start time of meeting i and F [ i ] is finish time of meeting i Given a number N followed by 2 arrays S and F of sizes N and N, What is the maximum number of meetings that can be accommodated in the meeting room assuming the room can only accommodate one meeting at a time.**\n",
    "\n",
    "Input Size : 1 <= N <= 100000\n",
    "\n",
    "**Sample Testcases:**\n",
    "\n",
    "**INPUT**\n",
    "\n",
    "3\n",
    "\n",
    "10 12 30\n",
    "\n",
    "20 25 30\n",
    "\n",
    "**OUTPUT**\n",
    "\n",
    "2"
   ]
  },
  {
   "cell_type": "code",
   "execution_count": 7,
   "metadata": {},
   "outputs": [
    {
     "name": "stdout",
     "output_type": "stream",
     "text": [
      "2\n"
     ]
    }
   ],
   "source": [
    "def max_meetings(N, S, F):\n",
    "    meetings = [(S[i], F[i]) for i in range(N)]\n",
    "    meetings.sort(key=lambda x: x[1])\n",
    "    count = 1\n",
    "    last_finish_time = meetings[0][1]\n",
    "    \n",
    "    for i in range(1, N):\n",
    "        if meetings[i][0] >= last_finish_time:\n",
    "            count += 1\n",
    "            last_finish_time = meetings[i][1]  \n",
    "    return count\n",
    "\n",
    "N = int(input())\n",
    "S = list(map(int, input().split()))\n",
    "F = list(map(int, input().split()))\n",
    "print(max_meetings(N, S, F))"
   ]
  },
  {
   "cell_type": "markdown",
   "metadata": {},
   "source": [
    "### **8. You are given a String representing a binary tree your task is print the level order traversal of it.**\n",
    "\n",
    "**Input Description:**\n",
    "\n",
    "You are given with a string ‘s’.\n",
    "\n",
    "**Output Description:**\n",
    "\n",
    "Print the binary tree’s level order traversal\n",
    "\n",
    "**Sample Input:**\n",
    "\n",
    "1 0 L 1 2 R\n",
    "\n",
    "**Sample Output:**\n",
    "\n",
    "1 0 2"
   ]
  },
  {
   "cell_type": "code",
   "execution_count": 8,
   "metadata": {},
   "outputs": [
    {
     "name": "stdout",
     "output_type": "stream",
     "text": [
      "1 0 2\n"
     ]
    }
   ],
   "source": [
    "class TreeNode:\n",
    "    def __init__(self, value):\n",
    "        self.value = value\n",
    "        self.left = None\n",
    "        self.right = None\n",
    "\n",
    "def build_tree(s):\n",
    "    # Parse the input string\n",
    "    elements = s.split()\n",
    "    nodes = {}\n",
    "    \n",
    "    # Process the input and build the tree\n",
    "    for i in range(0, len(elements), 3):\n",
    "        parent_val = int(elements[i])\n",
    "        child_val = int(elements[i+1])\n",
    "        direction = elements[i+2]\n",
    "        \n",
    "        # Create the parent node if it doesn't exist\n",
    "        if parent_val not in nodes:\n",
    "            nodes[parent_val] = TreeNode(parent_val)\n",
    "        \n",
    "        parent_node = nodes[parent_val]\n",
    "        \n",
    "        # Create the child node\n",
    "        child_node = TreeNode(child_val)\n",
    "        \n",
    "        # Link the child to the parent based on the direction\n",
    "        if direction == 'L':\n",
    "            parent_node.left = child_node\n",
    "        else:\n",
    "            parent_node.right = child_node\n",
    "        nodes[child_val] = child_node\n",
    "    return nodes[int(elements[0])]\n",
    "\n",
    "def level_order_traversal(root):\n",
    "    if not root:\n",
    "        return []\n",
    "    \n",
    "    result = []\n",
    "    queue = [root]\n",
    "    \n",
    "    while queue:\n",
    "        node = queue.pop(0)\n",
    "        result.append(node.value)\n",
    "        \n",
    "        if node.left:\n",
    "            queue.append(node.left)\n",
    "        if node.right:\n",
    "            queue.append(node.right)    \n",
    "    return result\n",
    "\n",
    "s = input().strip()\n",
    "root = build_tree(s)\n",
    "result = level_order_traversal(root)\n",
    "print(\" \".join(map(str, result)))"
   ]
  },
  {
   "cell_type": "markdown",
   "metadata": {},
   "source": [
    "### **9. You are given with a queue. Your task is to reverse the queue elements and print it.**\n",
    "\n",
    "**Input Description:**\n",
    "\n",
    "You are given a number ‘n’,denoting size of queue, Next line contains s space separated numbers\n",
    "\n",
    "**Output Description:**\n",
    "\n",
    "Print the reversed queue.\n",
    "\n",
    "**Sample Input:**\n",
    "\n",
    "6\n",
    "\n",
    "1 2 3 4 5 6\n",
    "\n",
    "**Sample Output:**\n",
    "\n",
    "6 5 4 3 2 1"
   ]
  },
  {
   "cell_type": "code",
   "execution_count": 9,
   "metadata": {},
   "outputs": [
    {
     "name": "stdout",
     "output_type": "stream",
     "text": [
      "6 5 4 3 2 1\n"
     ]
    }
   ],
   "source": [
    "from collections import deque\n",
    "\n",
    "def reverse_queue(queue):\n",
    "    stack = []\n",
    "\n",
    "    while queue:\n",
    "        stack.append(queue.popleft())\n",
    "\n",
    "    while stack:\n",
    "        queue.append(stack.pop())    \n",
    "    return queue\n",
    "\n",
    "n = int(input())\n",
    "queue = deque(map(int, input().split()))\n",
    "reversed_queue = reverse_queue(queue)\n",
    "print(\" \".join(map(str, reversed_queue)))"
   ]
  },
  {
   "cell_type": "markdown",
   "metadata": {},
   "source": [
    "### **10. You are provided with a string ‘s’. Your task is to reverse the string using stack Data Structure.**\n",
    "\n",
    "**Input Description:**\n",
    "\n",
    "You are given a string ‘s’.\n",
    "\n",
    "**Output Description:**\n",
    "\n",
    "Print the reverse string\n",
    "\n",
    "**Sample Input:**\n",
    "\n",
    "i am jsb\n",
    "\n",
    "**Sample Output:**\n",
    "\n",
    "jsb am i"
   ]
  },
  {
   "cell_type": "code",
   "execution_count": 10,
   "metadata": {},
   "outputs": [
    {
     "name": "stdout",
     "output_type": "stream",
     "text": [
      "jsb am i\n"
     ]
    }
   ],
   "source": [
    "def reverse_string_with_stack(s):\n",
    "    stack = []\n",
    "    for word in s.split():\n",
    "        stack.append(word)\n",
    "\n",
    "    reversed_string = []\n",
    "\n",
    "    while stack:\n",
    "        reversed_string.append(stack.pop())\n",
    "    return \" \".join(reversed_string)\n",
    "\n",
    "s = input()\n",
    "print(reverse_string_with_stack(s))"
   ]
  },
  {
   "cell_type": "code",
   "execution_count": null,
   "metadata": {},
   "outputs": [],
   "source": []
  }
 ],
 "metadata": {
  "kernelspec": {
   "display_name": "py12",
   "language": "python",
   "name": "python3"
  },
  "language_info": {
   "codemirror_mode": {
    "name": "ipython",
    "version": 3
   },
   "file_extension": ".py",
   "mimetype": "text/x-python",
   "name": "python",
   "nbconvert_exporter": "python",
   "pygments_lexer": "ipython3",
   "version": "3.12.7"
  }
 },
 "nbformat": 4,
 "nbformat_minor": 2
}
