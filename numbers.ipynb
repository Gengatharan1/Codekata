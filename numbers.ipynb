{
 "cells": [
  {
   "cell_type": "markdown",
   "metadata": {},
   "source": [
    "### **1. You are given an array of digits. Your task is to print the digit with maximum frequency.**\n",
    "\n",
    "#### **Input Description:**\n",
    "\n",
    "You are given length of array ’n’,next line contains n space separated numbers.\n",
    "\n",
    "#### **Output Description:**\n",
    "\n",
    "Print the number with maximum frequency. If two number have equal freqency print the number that comes first\n",
    "\n",
    "**Sample Input:**\n",
    "\n",
    "7\n",
    "\n",
    "1 2 3 4 4 4 5\n",
    "\n",
    "**Sample Output:**\n",
    "\n",
    "4"
   ]
  },
  {
   "cell_type": "markdown",
   "metadata": {},
   "source": [
    "#### **Logic:**\n",
    "\n",
    "1. The input consists of the length of the array followed by the array elements.\n",
    "\n",
    "2. We can use a dictionary to keep track of the frequency of each digit.\n",
    "\n",
    "3. Identify the digit with the maximum frequency: \n",
    "   \n",
    "   Iterate through the dictionary to find the digit with the highest frequency. \n",
    "   If two digits have the same frequency, select the one that appears first in the array."
   ]
  },
  {
   "cell_type": "code",
   "execution_count": 2,
   "metadata": {},
   "outputs": [
    {
     "name": "stdout",
     "output_type": "stream",
     "text": [
      "4\n"
     ]
    }
   ],
   "source": [
    "def find_max_frequency_digit(n, digits):\n",
    "    frequency = {}\n",
    "    \n",
    "    # Count the frequency of each digit\n",
    "    for digit in digits:\n",
    "        if digit in frequency:\n",
    "            frequency[digit] += 1\n",
    "        else:\n",
    "            frequency[digit] = 1\n",
    "    \n",
    "    # Identify the digit with the maximum frequency\n",
    "    max_freq = 0\n",
    "    max_digit = None\n",
    "    \n",
    "    for digit in digits:\n",
    "        if frequency[digit] > max_freq:\n",
    "            max_freq = frequency[digit]\n",
    "            max_digit = digit\n",
    "        elif frequency[digit] == max_freq and max_digit is None:\n",
    "            max_digit = digit\n",
    "    \n",
    "    return max_digit\n",
    "\n",
    "n = int(input())                            # n = 7\n",
    "digits = list(map(int, input().split()))    # digits = [1, 2, 3, 4, 4, 4, 5]\n",
    "print(find_max_frequency_digit(n, digits))"
   ]
  },
  {
   "cell_type": "markdown",
   "metadata": {},
   "source": [
    "### **2. In a garage the service man takes 10 minutes to service one car.If there are N cars in garage and X is number of minutes after which one person arrives,Calculate how much time last person has to wait in garage.(Print answer in minutes)**\n",
    "\n",
    "#### **Input Description:**\n",
    "\n",
    "You are given Two numbers ‘N’ and ‘X’\n",
    "\n",
    "#### **Output Description:**\n",
    "\n",
    "Waiting time of last person\n",
    "\n",
    "**Sample Input:**\n",
    "\n",
    "4 5\n",
    "\n",
    "**Sample Output:**\n",
    "\n",
    "15"
   ]
  },
  {
   "cell_type": "markdown",
   "metadata": {},
   "source": [
    "#### **Logic**\n",
    "\n",
    "1. Determine the total time needed to service all cars:\n",
    "\n",
    "    Each car takes 10 minutes to service.\n",
    "    For N cars, the total time needed is 10 × 𝑁 minutes.\n",
    "\n",
    "2. Determine the time when the last person arrives:\n",
    "\n",
    "    The first person arrives at time t=0.\n",
    "    The second person arrives at time t=X.\n",
    "    The last (N-th) person arrives at time t=(N−1)×X.\n",
    "\n",
    "3. Calculate the waiting time for the last person:\n",
    "\n",
    "    The last person starts waiting from the time they arrive until their car is serviced.\n",
    "    The last person arrives at time (N−1)×X minutes.\n",
    "    The servicing of the last car starts at time 10×(N−1) minutes.\n",
    "    The waiting time for the last person is the difference between when their car starts being serviced and when they arrived: 10×(N−1)−(N−1)×X.\n",
    "\n",
    "For the given sample input:\n",
    "    N=4 ; X=5\n",
    "    \n",
    "The waiting time for the last person is:\n",
    "    Waiting Time = 10 × (4 − 1) − (4 − 1) × 5 = 30 − 15 = 15 minutes"
   ]
  },
  {
   "cell_type": "code",
   "execution_count": 1,
   "metadata": {},
   "outputs": [
    {
     "name": "stdout",
     "output_type": "stream",
     "text": [
      "15\n"
     ]
    }
   ],
   "source": [
    "def calculate_waiting_time(N, X):\n",
    "    if N <= 1:\n",
    "        return 0  # If there's only one car, the waiting time for the last person is 0\n",
    "    waiting_time = 10 * (N - 1) - (N - 1) * X\n",
    "    return waiting_time\n",
    "\n",
    "N, X = map(int, input().split())            # N = 4, X = 5\n",
    "print(calculate_waiting_time(N, X))"
   ]
  },
  {
   "cell_type": "markdown",
   "metadata": {},
   "source": [
    "### **3. Prateek finds it difficult to judge the minimum element in the list of elements given to him. Your task is to develop the algorithm in order to find the minimum element.**\n",
    "\n",
    "#### **Input Description:**\n",
    "\n",
    "You are given ‘n’ number of elements. Next line contains n space separated numbers.\n",
    "\n",
    "#### **Output Description:**\n",
    "\n",
    "Print the minimum element\n",
    "\n",
    "**Sample Input:**\n",
    "\n",
    "5\n",
    "\n",
    "3 4 9 1 6\n",
    "\n",
    "**Sample Output:**\n",
    "\n",
    "1"
   ]
  },
  {
   "cell_type": "code",
   "execution_count": 3,
   "metadata": {},
   "outputs": [
    {
     "name": "stdout",
     "output_type": "stream",
     "text": [
      "1\n"
     ]
    }
   ],
   "source": [
    "def find_minimum_element(n, elements):\n",
    "    # Assuming the list has at least one element\n",
    "    min_element = elements[0]\n",
    "    \n",
    "    # Iterate through the list to find the minimum element\n",
    "    for element in elements:\n",
    "        if element < min_element:\n",
    "            min_element = element\n",
    "    \n",
    "    return min_element\n",
    "\n",
    "n = int(input())                                # n = 5\n",
    "elements = list(map(int, input().split()))      # elements = [3, 4, 9, 1, 6]\n",
    "print(find_minimum_element(n, elements))"
   ]
  },
  {
   "cell_type": "markdown",
   "metadata": {},
   "source": [
    "#### **5. A ‘zx’ number is a number which is formed from the sum of 3 numbers ,and the three numbers are such that their hcf equal to 1.**\n",
    "\n",
    "You are given a number.You have to tell whether the number is ‘zx’ or not,if yes then print the three numbers else 0\n",
    "\n",
    "#### **Input Description:**\n",
    "\n",
    "You are given a number ‘n’\n",
    "\n",
    "#### **Output Description:**\n",
    "\n",
    "Print the three numbers if n is ‘zx’ number in ascending order else 0\n",
    "\n",
    "**Sample Input:**\n",
    "\n",
    "7\n",
    "\n",
    "**Sample Output:**\n",
    "\n",
    "2 3 2"
   ]
  },
  {
   "cell_type": "code",
   "execution_count": 46,
   "metadata": {},
   "outputs": [
    {
     "name": "stdout",
     "output_type": "stream",
     "text": [
      "7 is not a zx number.\n"
     ]
    }
   ],
   "source": [
    "def is_zx_number(n):\n",
    "  if n <= 0:\n",
    "    return 0  # Non-positive numbers cannot be zx numbers\n",
    "\n",
    "  prime_factors = {}\n",
    "  while n > 1:\n",
    "    for i in range(2, n + 1):\n",
    "      if n % i == 0:\n",
    "        prime_factors[i] = prime_factors.get(i, 0) + 1\n",
    "        n //= i\n",
    "        break  # Only need to divide by the first factor found\n",
    "\n",
    "  if sum(prime_factors.values()) != 3:\n",
    "    return 0  # Sum of exponents not 3, not a zx number\n",
    "\n",
    "  numbers = [p for p, count in prime_factors.items() for _ in range(count)]\n",
    "  return sorted(numbers)  # Return numbers in ascending order\n",
    "\n",
    "# Example usage\n",
    "n = int(input())\n",
    "zx_numbers = is_zx_number(n)\n",
    "if zx_numbers:\n",
    "  print(\"The zx number is the sum of:\", zx_numbers)\n",
    "else:\n",
    "  print(n, \"is not a zx number.\")"
   ]
  },
  {
   "cell_type": "markdown",
   "metadata": {},
   "source": [
    "### **8. You are given a very long integer.Your task is to determine the smallest possible number such that sum of factorial of digits results back in ‘n’. Print -1 if no number is possible**\n",
    "\n",
    "#### **Input Description:**\n",
    "\n",
    "You are given a number ‘n’\n",
    "\n",
    "#### **Output Description:**\n",
    "\n",
    "Print the smallest number\n",
    "\n",
    "**Sample Input:**\n",
    "\n",
    "145\n",
    "\n",
    "**Sample Output:**\n",
    "\n",
    "145"
   ]
  },
  {
   "cell_type": "code",
   "execution_count": 6,
   "metadata": {},
   "outputs": [
    {
     "name": "stdout",
     "output_type": "stream",
     "text": [
      "145\n"
     ]
    }
   ],
   "source": [
    "from math import factorial\n",
    "\n",
    "# Precompute factorials of digits 0-9\n",
    "factorials = [factorial(i) for i in range(10)]\n",
    "\n",
    "def sum_of_digit_factorials(number):\n",
    "    return sum(factorials[int(digit)] for digit in str(number))\n",
    "\n",
    "def find_smallest_number(n):\n",
    "    number = 1\n",
    "    while number <= 100000:  # Limiting the search to a reasonable range\n",
    "        if sum_of_digit_factorials(number) == n:\n",
    "            return number\n",
    "        number += 1\n",
    "    return -1\n",
    "    \n",
    "n = int(input())\n",
    "\n",
    "# Find and print the smallest number\n",
    "result = find_smallest_number(n)\n",
    "print(result)"
   ]
  },
  {
   "cell_type": "markdown",
   "metadata": {},
   "source": [
    "### **9. you are given with ‘arasu’ series(shown in example).You have to understand it and you will be given a number ‘n’ ,you have to print the series till n numbers.**\n",
    "\n",
    "#### **Input Description:**\n",
    "\n",
    "You are given a number n;\n",
    "\n",
    "#### **Output Description:**\n",
    "\n",
    "Print series till nth number\n",
    "\n",
    "**Sample Input:**\n",
    "\n",
    "4\n",
    "\n",
    "**Sample Output:**\n",
    "\n",
    "2 5 10 17\n"
   ]
  },
  {
   "cell_type": "code",
   "execution_count": 1,
   "metadata": {},
   "outputs": [
    {
     "name": "stdout",
     "output_type": "stream",
     "text": [
      "2 5 10 17\n"
     ]
    }
   ],
   "source": [
    "def arasu_series(n):\n",
    "    # Initialize the first term of the series\n",
    "    current_value = 2\n",
    "    \n",
    "    # Initialize the difference to be added to the current term\n",
    "    difference = 3\n",
    "    \n",
    "    # List to store the series\n",
    "    series = [current_value]\n",
    "    \n",
    "    # Generate the series up to n terms\n",
    "    for i in range(1, n):\n",
    "        current_value += difference\n",
    "        series.append(current_value)\n",
    "        difference += 2\n",
    "    return series\n",
    "\n",
    "# Enter the number of terms\n",
    "n = int(input())\n",
    "\n",
    "# Generate and print the series\n",
    "series = arasu_series(n)\n",
    "print(' '.join(map(str, series)))"
   ]
  },
  {
   "cell_type": "markdown",
   "metadata": {},
   "source": [
    "### **10. Jack is fond of numbers. He has given an array.He has to find the maximum length of sub array such that sum of elements in that sub array gives output 0.He is in little trouble, help him in finding solution**\n",
    "\n",
    "#### **Input Description:**\n",
    "\n",
    "You are given an integer ‘n’ denoting the number of elements in array.Next line contains n space separated integers\n",
    "\n",
    "#### **Output Description:**\n",
    "\n",
    "Print the max length of that array with sum 0 and print -1 if not possible\n",
    "\n",
    "**Sample Input:**\n",
    "\n",
    "6\n",
    "\n",
    "-4 3 1 0 0 6\n",
    "\n",
    "**Sample Output:**\n",
    "\n",
    "5"
   ]
  },
  {
   "cell_type": "code",
   "execution_count": 7,
   "metadata": {},
   "outputs": [
    {
     "name": "stdout",
     "output_type": "stream",
     "text": [
      "5\n"
     ]
    }
   ],
   "source": [
    "def maxLen(n, arr):\n",
    "    max_len = 0\n",
    "\n",
    "    for i in range(len(arr)):\n",
    "        curr_sum = 0\n",
    "        for j in range(i, len(arr)):\n",
    "            curr_sum += arr[j]\n",
    "\n",
    "            # if curr_sum becomes 0, then update max_len\n",
    "            if curr_sum == 0:\n",
    "                max_len = max(max_len, j-i + 1)\n",
    "    return max_len\n",
    "    \n",
    "if __name__ == \"__main__\":\n",
    "    n = int(input())\n",
    "    arr = list(map(int, input().split()))       # arr = -4 3 1 0 0 6\n",
    "    print(maxLen(n, arr))"
   ]
  },
  {
   "cell_type": "markdown",
   "metadata": {},
   "source": [
    "### **11. You are an employee of ‘Rox Travel’ channel.The channel has decided to give allowances to some customer who satisfy these conditions. The conditions are:**\n",
    "\n",
    "The customer should be born on or before july 22 1987\n",
    "\n",
    "The month of D.O.B month should be of 31 days.\n",
    "\n",
    "You are given with the D.O.B of all the employees.Your task is to print the employee index who are having chance to avail special offer.\n",
    "\n",
    "#### **Input Description:**\n",
    "\n",
    "First line contains the number of employee.Next line contains an array of D.O.B of employees\n",
    "\n",
    "#### **Output Description:**\n",
    "\n",
    "Print the employee index (index at 1). Print-1 if there are no such employee\n",
    "\n",
    "**Sample Input:**\n",
    "\n",
    "Input\n",
    "\n",
    "4\n",
    "\n",
    "23 MARCH 1996 23 MARCH 1986 22 JULY 1987 23 APRIL 1987\n",
    "\n",
    "**Sample Output:**\n",
    "\n",
    "2 3"
   ]
  },
  {
   "cell_type": "markdown",
   "metadata": {},
   "source": [
    "#### **Logic:**\n",
    "\n",
    "reads the number of employees -> n = int(input()) \n",
    "\n",
    "reads the entire line of input and splits it into a list -> l = input().split() \n",
    "\n",
    "**Parsing Input:**\n",
    "\n",
    "initializes an empty list to store employee birthdate details -> a = []\n",
    "\n",
    "The nested loop (for i in range(n): and for j in range(3):) iterates to extract each employee's day, month, and year from the flat list l into list a.\n",
    "\n",
    "**Processing Eligibility:**\n",
    "\n",
    "initializes an empty list to store indices of eligible employees -> ans = [] \n",
    "\n",
    "flag = False is used to track if any eligible employees are found.\n",
    "\n",
    "**Conditions Checking:**\n",
    "\n",
    "The loop for i in range(len(a)): iterates through each employee's birthdate in list a.\n",
    "\n",
    "It checks if the year (a[i][2]) is less than or equal to 1987.\n",
    "\n",
    "If the year is exactly 1987, it further checks if the month (a[i][1]) is one of ('JANUARY', 'FEBRUARY', ..., 'JULY') and if the day (a[i][0]) is less than or equal to 22 for the month of July.\n",
    "\n",
    "If any condition is met, it adds the index (i+1, to convert from 0-based to 1-based indexing) to ans and sets flag to True.\n",
    "\n",
    "**Output:**\n",
    "\n",
    "If flag is True, it prints the indices of eligible employees using print(*ans).\n",
    "\n",
    "If no eligible employees are found (flag remains False), it prints -1."
   ]
  },
  {
   "cell_type": "code",
   "execution_count": 8,
   "metadata": {},
   "outputs": [
    {
     "name": "stdout",
     "output_type": "stream",
     "text": [
      "2 3 4\n"
     ]
    }
   ],
   "source": [
    "n = int(input())        # n = 4\n",
    "l = input().split()     # l = [\"23 MARCH 1996\", \"23 MARCH 1986\", \"22 JULY 1987\", \"23 APRIL 1987\"]\n",
    "a = []\n",
    "k = 0\n",
    "for i in range(n):\n",
    "    b = []\n",
    "    for j in range(3):\n",
    "        b.append(l[k])\n",
    "        k += 1\n",
    "    a.append(b)\n",
    "\n",
    "ans = []\n",
    "flag = False\n",
    "for i in range(len(a)):\n",
    "    if int(a[i][2]) <= 1987:\n",
    "        if int(a[i][2]) == 1987:\n",
    "            if a[i][1] in ('JANUARY', 'FEBRUARY', 'MARCH', 'APRIL', 'MAY', 'JUNE', 'JULY'):\n",
    "                if (a[i][1]) == 'JULY':\n",
    "                    if int(a[i][0]) <= 22:\n",
    "                        ans.append(i+1)\n",
    "                        flag = True\n",
    "                    else:\n",
    "                        continue\n",
    "                else:\n",
    "                    ans.append(i+1)\n",
    "                    flag = True\n",
    "            else:\n",
    "                continue\n",
    "        else:\n",
    "            ans.append(i+1)\n",
    "            flag = True\n",
    "    else:\n",
    "        continue\n",
    "if flag:\n",
    "    print(*ans)\n",
    "else:\n",
    "    print(-1)"
   ]
  },
  {
   "cell_type": "markdown",
   "metadata": {},
   "source": [
    "### **13. Dityan is alloted with a task. He is provided with some positive numbers. He has to tell the smallest positive natural number(greater than the minimum number present in the list) and in addition to it,the number should not be present in the list and it should not be equal to the sum of any combination of ‘n’ numbers present in the list.You have to develop a suitable program in order to find that number ‘m’.**\n",
    "\n",
    "#### **Input Description:**\n",
    "\n",
    "First line contains a number ‘n’ . next line contains ‘n’ space separated numbers.\n",
    "\n",
    "#### **Output Description:**\n",
    "\n",
    "print the smallest positive number ‘m’.\n",
    "\n",
    "**Sample Input:**\n",
    "\n",
    "5\n",
    "\n",
    "1 2 10 12 13\n",
    "\n",
    "**Sample Output:**\n",
    "\n",
    "4"
   ]
  },
  {
   "cell_type": "code",
   "execution_count": 12,
   "metadata": {},
   "outputs": [
    {
     "name": "stdout",
     "output_type": "stream",
     "text": [
      "4\n"
     ]
    }
   ],
   "source": [
    "def can_form_sum(numbers, n, target, index):\n",
    "    if target == 0:\n",
    "        return True\n",
    "    if target < 0 or index >= n:\n",
    "        return False\n",
    "    \n",
    "    # Check if we can include numbers[index] in the combination\n",
    "    if can_form_sum(numbers, n, target - numbers[index], index + 1):\n",
    "        return True\n",
    "    \n",
    "    # Skip numbers[index] and try next numbers\n",
    "    return can_form_sum(numbers, n, target, index + 1)\n",
    "\n",
    "def find_smallest_positive(n, numbers):\n",
    "    numbers.sort()\n",
    "    min_num = numbers[0]\n",
    "    numbers_set = set(numbers)\n",
    "    m = min_num + 1\n",
    "    \n",
    "    while True:\n",
    "        if m not in numbers_set and not can_form_sum(numbers, n, m, 0):\n",
    "            return m\n",
    "        m += 1\n",
    "\n",
    "if __name__ == \"__main__\":\n",
    "    n = int(input().strip())\n",
    "    numbers = list(map(int, input().strip().split()))\n",
    "    result = find_smallest_positive(n, numbers)\n",
    "    print(result)"
   ]
  },
  {
   "cell_type": "markdown",
   "metadata": {},
   "source": [
    "#### **14. Rampal is a number in which the sum of last two digits of that number is multiple of 4.Your teacher has given you the task to make a list of rampal numbers.Your task is to tell whether the number is rampal or not.**\n",
    "\n",
    "Note : if the number is negative than rampal is a number which has sum of first and last digit as multiple of 4  \n",
    "\n",
    "#### **Input Description:**\n",
    "\n",
    "First line contains an input n\n",
    "\n",
    "#### **Output Description:**\n",
    "\n",
    "Print yes or no\n",
    "\n",
    "**Sample Input:**\n",
    "\n",
    "20\n",
    "\n",
    "**Sample Output:**\n",
    "\n",
    "no"
   ]
  },
  {
   "cell_type": "code",
   "execution_count": 1,
   "metadata": {},
   "outputs": [
    {
     "name": "stdout",
     "output_type": "stream",
     "text": [
      "no\n"
     ]
    }
   ],
   "source": [
    "def is_rampal_number(n):\n",
    "    if n >= 0:\n",
    "        # For positive numbers, extract the last two digits\n",
    "        last_digit = n % 10\n",
    "        second_last_digit = (n // 10) % 10\n",
    "        sum_digits = last_digit + second_last_digit\n",
    "    else:\n",
    "        # For negative numbers, convert to positive to easily extract digits\n",
    "        n = abs(n)\n",
    "        last_digit = n % 10\n",
    "        first_digit = int(str(n)[0])\n",
    "        sum_digits = last_digit + first_digit\n",
    "    \n",
    "    # Check if the sum of the digits is a multiple of 4\n",
    "    if sum_digits % 4 == 0:\n",
    "        return \"yes\"\n",
    "    else:\n",
    "        return \"no\"\n",
    "        \n",
    "n = int(input())\n",
    "print(is_rampal_number(n))"
   ]
  },
  {
   "cell_type": "markdown",
   "metadata": {},
   "source": [
    "### **15. Ramesh is given  a task to generalise the array. An array is called generalise if median of that array is equal to sum ‘k’.Ramesh has less knowledge amongst median so he decided to take help from you.Your task is to count the number of elements that you must add to the median of given array equal to a number ‘k’.**\n",
    "\n",
    "#### **Input Description:**\n",
    "\n",
    "First line contains a number ‘n’.next line contains n space separated numbers.next line contains a number ‘k’\n",
    "\n",
    "#### **Output Description:**\n",
    "\n",
    "Print the count required in order to make the median of array equal to k\n",
    "\n",
    "**Sample Input:**\n",
    "\n",
    "6 \n",
    "\n",
    "10 20 30 100 150 200\n",
    "\n",
    "30\n",
    "\n",
    "**Sample Output:**\n",
    "\n",
    "1"
   ]
  },
  {
   "cell_type": "code",
   "execution_count": 2,
   "metadata": {},
   "outputs": [
    {
     "name": "stdout",
     "output_type": "stream",
     "text": [
      "1\n"
     ]
    }
   ],
   "source": [
    "def count_elements_to_add_for_median(n, arr, k):\n",
    "    arr.sort()\n",
    "    \n",
    "    # Function to find the median of the array\n",
    "    def find_median(arr):\n",
    "        n = len(arr)\n",
    "        if n % 2 == 1:\n",
    "            return arr[n // 2]\n",
    "        else:\n",
    "            return (arr[n // 2 - 1] + arr[n // 2]) / 2\n",
    "    \n",
    "    median = find_median(arr)\n",
    "    \n",
    "    if median == k:\n",
    "        return 0\n",
    "    \n",
    "    count = 0\n",
    "    while find_median(arr) != k:\n",
    "        arr.append(k)\n",
    "        arr.sort()\n",
    "        count += 1    \n",
    "    return count\n",
    "\n",
    "n = int(input())                                # n = 6\n",
    "arr = list(map(int, input().split()))           # arr = 10 20 30 100 150 200\n",
    "k = int(input())                                # k = 30\n",
    "\n",
    "# Function call and output\n",
    "print(count_elements_to_add_for_median(n, arr, k))"
   ]
  },
  {
   "cell_type": "markdown",
   "metadata": {},
   "source": [
    "### **16. Ramesh is given a special series to print,as he has some other work to do.Help ramesh in printing the series.**\n",
    "\n",
    "Note: Observe the series very keenly in examples\n",
    "\n",
    "#### **Input Description:**\n",
    "\n",
    "You are given a number ‘n’.\n",
    "\n",
    "#### **Output Description:**\n",
    "\n",
    "Print the n term of series.\n",
    "\n",
    "**Sample Input:**\n",
    "\n",
    "6\n",
    "\n",
    "**Sample Output:**\n",
    "\n",
    "1 6 120"
   ]
  },
  {
   "cell_type": "code",
   "execution_count": 31,
   "metadata": {},
   "outputs": [
    {
     "name": "stdout",
     "output_type": "stream",
     "text": [
      "1 6 120\n"
     ]
    }
   ],
   "source": [
    "def factorial(n):\n",
    "    if n == 0 or n == 1:\n",
    "        return 1\n",
    "    else:\n",
    "        return n * factorial(n - 1)\n",
    "\n",
    "def print_series(n):\n",
    "    series = []\n",
    "    for i in range(1, n+1, 2):\n",
    "        series.append(str(factorial(i)))\n",
    "    print(\" \".join(series))\n",
    "\n",
    "n = int(input().strip())\n",
    "print_series(n)"
   ]
  },
  {
   "cell_type": "code",
   "execution_count": 32,
   "metadata": {},
   "outputs": [
    {
     "name": "stdout",
     "output_type": "stream",
     "text": [
      "1 6 120 5040 362880 39916800\n",
      "1 6 120 5040 362880 39916800\n"
     ]
    }
   ],
   "source": [
    "# Method - 1:\n",
    "def factorial(n):\n",
    "    if n == 0 or n == 1:\n",
    "        return 1\n",
    "    else:\n",
    "        return n * factorial(n - 1)\n",
    "\n",
    "def print_series(n):\n",
    "    series = []\n",
    "    for i in range(1, 2*n, 2):  # Only consider odd indices: 1, 3, 5, ..., 2*n-1\n",
    "        series.append(str(factorial(i)))\n",
    "    print(\" \".join(series))\n",
    "\n",
    "n = int(input().strip())\n",
    "print_series(n)\n",
    "\n",
    "# Method - 2:\n",
    "\n",
    "import math\n",
    "def special_series(n):\n",
    "    result = []\n",
    "    odd_number = 1\n",
    "    for i in range(n):\n",
    "        result.append(math.factorial(odd_number))\n",
    "        odd_number += 2\n",
    "    return result\n",
    "\n",
    "n = int(input())\n",
    "series = special_series(n)\n",
    "print(\" \".join(map(str, series)))"
   ]
  },
  {
   "cell_type": "markdown",
   "metadata": {},
   "source": [
    "### **17. Rohan is teacher at “Sunsdfghpol” academy about dfg numbers.Assume you are student of his coaching batch .He has given you some task.Your task is to print nth dfg  number.A dfg number is a number whose prime factors are only 2,3 or 5.**\n",
    "\n",
    "#### **Input Description:**\n",
    "\n",
    "You are given a number ‘n’.\n",
    "\n",
    "#### **Output Description:**\n",
    "\n",
    "Print all the dfg numbers upto index ‘n’.\n",
    "\n",
    "**Sample Input:**\n",
    "\n",
    "2\n",
    "\n",
    "**Sample Output:**\n",
    "\n",
    "1 2"
   ]
  },
  {
   "cell_type": "code",
   "execution_count": 9,
   "metadata": {},
   "outputs": [
    {
     "name": "stdout",
     "output_type": "stream",
     "text": [
      "1 2\n"
     ]
    }
   ],
   "source": [
    "def get_nth_dfg_number(n):\n",
    "    if n <= 0:\n",
    "        return []\n",
    "    \n",
    "    ugly_numbers = [1]  # The first ugly number is 1.\n",
    "    i2 = i3 = i5 = 0  # Initial indices for 2, 3, and 5.\n",
    "    \n",
    "    next_multiple_of_2 = 2\n",
    "    next_multiple_of_3 = 3\n",
    "    next_multiple_of_5 = 5\n",
    "    \n",
    "    for _ in range(1, n):\n",
    "        # Choose the smallest next multiple\n",
    "        next_ugly = min(next_multiple_of_2, next_multiple_of_3, next_multiple_of_5)\n",
    "        ugly_numbers.append(next_ugly)\n",
    "        \n",
    "        # Update the multiples and indices\n",
    "        if next_ugly == next_multiple_of_2:\n",
    "            i2 += 1\n",
    "            next_multiple_of_2 = ugly_numbers[i2] * 2\n",
    "        if next_ugly == next_multiple_of_3:\n",
    "            i3 += 1\n",
    "            next_multiple_of_3 = ugly_numbers[i3] * 3\n",
    "        if next_ugly == next_multiple_of_5:\n",
    "            i5 += 1\n",
    "            next_multiple_of_5 = ugly_numbers[i5] * 5\n",
    "            \n",
    "    return ugly_numbers\n",
    "\n",
    "def main():\n",
    "    n = int(input())\n",
    "    result = get_nth_dfg_number(n)\n",
    "    print(\" \".join(map(str, result)))\n",
    "\n",
    "if __name__ == \"__main__\":\n",
    "    main()"
   ]
  },
  {
   "cell_type": "markdown",
   "metadata": {},
   "source": [
    "### **19. Rahul was learning about numbers in list. He came across one word ground of a number.**\n",
    "\n",
    "A ground of a number is defined as the number which is just smaller or equal to the number given to you.Hence he started solving some assignments related to it. He got struck in some questions. Your task is to help him.\n",
    "\n",
    "O(n) time complexity\n",
    "\n",
    "O(n) Auxilary space\n",
    "\n",
    "#### **Input Description:**\n",
    "\n",
    "First line contains two numbers ‘n’ denoting number of integers and ‘k’ whose ground is to be check. Next line contains n space separated numbers.\n",
    "\n",
    "#### **Output Description:**\n",
    "\n",
    "Print the index of val.Print -1 if equal or near exqual number\n",
    "\n",
    "**Sample Input:**\n",
    "\n",
    "7 3\n",
    "\n",
    "1 2 3 4 5 6 7\n",
    "\n",
    "**Sample Output:**\n",
    "\n",
    "2"
   ]
  },
  {
   "cell_type": "code",
   "execution_count": 14,
   "metadata": {},
   "outputs": [
    {
     "name": "stdout",
     "output_type": "stream",
     "text": [
      "2\n"
     ]
    }
   ],
   "source": [
    "def find_ground_index(arr, k):\n",
    "    ground_index = -1\n",
    "    ground_value = float('-inf')\n",
    "    \n",
    "    for i in range(len(arr)):\n",
    "        if arr[i] <= k and arr[i] > ground_value:\n",
    "            ground_value = arr[i]\n",
    "            ground_index = i\n",
    "            \n",
    "    return ground_index\n",
    "\n",
    "def main():\n",
    "    # Read the number of integers and the target number k\n",
    "    n, k = map(int, input().split())                # n = 7, k = 3\n",
    "    # Read the list of n space-separated integers\n",
    "    arr = list(map(int, input().split()))           # arr = 1 2 3 4 5 6 7\n",
    "    \n",
    "    # Find the index of the ground value\n",
    "    result = find_ground_index(arr, k)\n",
    "    print(result)\n",
    "\n",
    "if __name__ == \"__main__\":\n",
    "    main()"
   ]
  },
  {
   "cell_type": "markdown",
   "metadata": {},
   "source": [
    "### **20. You are given a number ‘n’.Your task is to develop an algorithm to tell whether the number is ‘ajs’ or not.An ‘ajs’ number is a number whose sum of first two digits is present in given number ‘n’**\n",
    "\n",
    "#### **Input Description:**\n",
    "\n",
    "A number ’n’ is given to you\n",
    "\n",
    "#### **Output Description:**\n",
    "\n",
    "Print 1 if number is ajs or 0 if it is not\n",
    "\n",
    "**Sample Input:**\n",
    "\n",
    "9817\n",
    "\n",
    "**Sample Output:**\n",
    "\n",
    "1"
   ]
  },
  {
   "cell_type": "code",
   "execution_count": 20,
   "metadata": {},
   "outputs": [
    {
     "name": "stdout",
     "output_type": "stream",
     "text": [
      "1\n"
     ]
    }
   ],
   "source": [
    "def is_ajs_number(n):\n",
    "    # Convert number to string\n",
    "    str_n = str(n)\n",
    "    \n",
    "    # Check if there are at least two digits\n",
    "    if len(str_n) < 2:\n",
    "        return 0\n",
    "    \n",
    "    # Extract the first two digits and compute their sum\n",
    "    first_two_sum = int(str_n[0]) + int(str_n[1])\n",
    "    \n",
    "    # Convert sum to string and check if it exists in str_n\n",
    "    str_sum = str(first_two_sum)\n",
    "    if str_sum in str_n:\n",
    "        return 1\n",
    "    else:\n",
    "        return 0\n",
    "\n",
    "n = int(input().strip())\n",
    "print(is_ajs_number(n))"
   ]
  },
  {
   "cell_type": "markdown",
   "metadata": {},
   "source": [
    "### **21. Palash is fond of palindromic numbers.So he decided to give this knowledge to his younger brother.Hence he decided to frame one question.To make him more clear he decided that he will tell his younger brother ‘suresh’ about this concept using problem.The problem statement is as follows,You are given with array conatining digits 0-9 your task is to print the smallest palindromic number ’t’ but this number must be greater than the number obtained using digits.**\n",
    "\n",
    "Now your task is to help suresh to solve the this tricky question \n",
    "\n",
    "#### **Input Description:**\n",
    "\n",
    "You are given with size of array ‘n’. Next line contains n space separated integers\n",
    "\n",
    "#### **Output Description:**\n",
    "\n",
    "Print the smallest palindromic number.\n",
    "\n",
    "**Sample Input:**\n",
    "\n",
    "10\n",
    "\n",
    "1 2 3 5 9 6 8 4 7 0\n",
    "\n",
    "**Sample Output:**\n",
    "\n",
    "1235995321"
   ]
  },
  {
   "cell_type": "code",
   "execution_count": 21,
   "metadata": {},
   "outputs": [
    {
     "name": "stdout",
     "output_type": "stream",
     "text": [
      "1235995321\n"
     ]
    }
   ],
   "source": [
    "import sys\n",
    "\n",
    "def Next_smallest_Palindrome(num):\n",
    "    num += 1\n",
    "    while True:\n",
    "        if str(num) == str(num)[::-1]:\n",
    "            return num\n",
    "        num += 1\n",
    "\n",
    "n = int(input())                            # n = 10\n",
    "lst = list(map(int, input().split()))       # lst = 1 2 3 5 9 6 8 4 7 0\n",
    "newNumber = int(\"\".join(map(str, lst)))\n",
    "print(Next_smallest_Palindrome(newNumber))"
   ]
  }
 ],
 "metadata": {
  "kernelspec": {
   "display_name": "Python 3",
   "language": "python",
   "name": "python3"
  },
  "language_info": {
   "codemirror_mode": {
    "name": "ipython",
    "version": 3
   },
   "file_extension": ".py",
   "mimetype": "text/x-python",
   "name": "python",
   "nbconvert_exporter": "python",
   "pygments_lexer": "ipython3",
   "version": "3.12.4"
  }
 },
 "nbformat": 4,
 "nbformat_minor": 2
}
