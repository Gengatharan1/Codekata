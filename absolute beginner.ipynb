{
 "cells": [
  {
   "cell_type": "markdown",
   "metadata": {},
   "source": [
    "#### **Absolute beginner**"
   ]
  },
  {
   "cell_type": "markdown",
   "metadata": {},
   "source": [
    "#### **1. You are given three numbers A, B & C. Print the largest amongst these three numbers.**\n",
    "\n",
    "Input Description:\n",
    "\n",
    "Three numbers are provided to you.\n",
    "\n",
    "Output Description:\n",
    "\n",
    "Find and print the largest among the three\n",
    "\n",
    "Sample Input :\n",
    "\n",
    "1\n",
    "\n",
    "2\n",
    "\n",
    "3\n",
    "\n",
    "Sample Output :\n",
    "\n",
    "3"
   ]
  },
  {
   "cell_type": "code",
   "execution_count": 85,
   "metadata": {},
   "outputs": [
    {
     "name": "stdout",
     "output_type": "stream",
     "text": [
      "3\n"
     ]
    }
   ],
   "source": [
    "# To find the largest value\n",
    "\n",
    "num1 = int(input())\n",
    "num2 = int(input())\n",
    "num3 = int(input())\n",
    "\n",
    "if (num1 > num2) and (num1 > num3):\n",
    "   largest = num1\n",
    "elif (num2 > num1) and (num2 > num3):\n",
    "   largest = num2\n",
    "else:\n",
    "   largest = num3\n",
    " \n",
    "print(largest)"
   ]
  },
  {
   "cell_type": "code",
   "execution_count": 71,
   "metadata": {},
   "outputs": [
    {
     "name": "stdout",
     "output_type": "stream",
     "text": [
      "3\n"
     ]
    }
   ],
   "source": [
    "# Using functions to find the largest value\n",
    "\n",
    "def maximum(a, b, c): \n",
    " \n",
    "    if (a >= b) and (a >= c): \n",
    "        largest = a \n",
    " \n",
    "    elif (b >= a) and (b >= c): \n",
    "        largest = b \n",
    "    else: \n",
    "        largest = c  \n",
    "    return largest \n",
    "\n",
    "# Driven code \n",
    "a = 1\n",
    "b = 2\n",
    "c = 3\n",
    "print(maximum(a, b, c))"
   ]
  },
  {
   "cell_type": "markdown",
   "metadata": {},
   "source": [
    "#### **2. You are provided with a number check whether its odd or even.**\n",
    "\n",
    "Print \"Odd\" or \"Even\" for the corresponding cases.\n",
    "\n",
    "Note: In case of a decimal, Round off to nearest integer and then find the output. Incase the input is zero, print \"Zero\".\n",
    "\n",
    "**Input Description:**\n",
    "\n",
    "A number is provided as the input.\n",
    "\n",
    "**Output Description:**\n",
    "\n",
    "Find out whether the number is odd or even. Print \"Odd\" or \"Even\" for the corresponding cases. Note: In case of a decimal, Round off to nearest integer and then find the output. In case the input is zero, print \"Zero\".\n",
    "\n",
    "Sample Input :\n",
    "\n",
    "2\n",
    "\n",
    "Sample Output :\n",
    "\n",
    "Even"
   ]
  },
  {
   "cell_type": "code",
   "execution_count": 11,
   "metadata": {},
   "outputs": [
    {
     "name": "stdout",
     "output_type": "stream",
     "text": [
      "Even\n"
     ]
    }
   ],
   "source": [
    "a = float(input())   # Taking input and converting it to float\n",
    "\n",
    "if a == 0:           # Checking if the number is zero\n",
    "    print(\"Zero\")\n",
    "elif a % 2 == 0:     # Checking if the number is even\n",
    "    print(\"Even\")\n",
    "else:                # If neither of the above conditions is true, the number must be odd\n",
    "    print(\"Odd\")"
   ]
  },
  {
   "cell_type": "markdown",
   "metadata": {},
   "source": [
    "#### **3. You are given A = Length of a rectangle & B = breadth of a rectangle. Find its area “C”.**\n",
    "\n",
    "(A and B are natural numbers)\n",
    "\n",
    "**Input Description:**\n",
    "\n",
    "The inputs are two natural numbers representing the length and the breadth of a rectangle.\n",
    "\n",
    "**Output Description:**\n",
    "\n",
    "Find the area of the rectangle formed by the provided input. Round off the answer to the first decimal place if required.\n",
    "\n",
    "Sample Input :\n",
    "\n",
    "2\n",
    "\n",
    "3\n",
    "\n",
    "Sample Output :\n",
    "\n",
    "6"
   ]
  },
  {
   "cell_type": "code",
   "execution_count": 12,
   "metadata": {},
   "outputs": [
    {
     "name": "stdout",
     "output_type": "stream",
     "text": [
      "6.0\n"
     ]
    }
   ],
   "source": [
    "A = int(input())\n",
    "\n",
    "B = int(input())\n",
    "\n",
    "C = A*B\n",
    "\n",
    "print('%.1f' %C)"
   ]
  },
  {
   "cell_type": "markdown",
   "metadata": {},
   "source": [
    "#### **4. The area of an equilateral triangle is ¼(√3a2) where \"a\" represents a side of the triangle. You are provided with the side \"a\". Find the area of the equilateral triangle.**\n",
    "\n",
    "**Input Description:**\n",
    "\n",
    "The side of an equilateral triangle is provided as the input.\n",
    "\n",
    "**Output Description:**\n",
    "\n",
    "Find the area of the equilateral triangle and print the answer up to 2 decimal places after rounding off.\n",
    "\n",
    "Sample Input :\n",
    "\n",
    "20\n",
    "\n",
    "Sample Output :\n",
    "\n",
    "173.21"
   ]
  },
  {
   "cell_type": "code",
   "execution_count": 84,
   "metadata": {},
   "outputs": [
    {
     "name": "stdout",
     "output_type": "stream",
     "text": [
      "173.21\n"
     ]
    }
   ],
   "source": [
    "import math\n",
    "\n",
    "sides = float(input())\n",
    "\n",
    "area = (math.sqrt(3)/4)*(sides*sides)\n",
    "\n",
    "print(round(area,2))"
   ]
  },
  {
   "cell_type": "markdown",
   "metadata": {},
   "source": [
    "#### **5. You are provided with the radius of a circle \"A\". Find the length of its circumference.**\n",
    "\n",
    "Note: In case the output is coming in decimal, roundoff to 2nd decimal place. In case the input is a negative number, print \"Error\".\n",
    "\n",
    "**Input Description:**\n",
    "\n",
    "The Radius of a circle is provided as the input of the program.\n",
    "\n",
    "**Output Description:**\n",
    "\n",
    "Calculate and print the Circumference of the circle corresponding to the input radius up to two decimal places.\n",
    "\n",
    "Sample Input :\n",
    "\n",
    "2\n",
    "\n",
    "Sample Output :\n",
    "\n",
    "12.57"
   ]
  },
  {
   "cell_type": "markdown",
   "metadata": {},
   "source": [
    "#### **Logic:**\n",
    "\n",
    "1. Imports the math module, which provides mathematical functions and constants like pi.\n",
    "2. Take input from the user and converts it into a float, assuming the input is a radius value.\n",
    "3. Calculates the circumference using the formula for the circumference of a circle.\n",
    "4. Prints the circumference c formatted to two decimal places using string formatting ('%.2f')."
   ]
  },
  {
   "cell_type": "code",
   "execution_count": 86,
   "metadata": {},
   "outputs": [
    {
     "name": "stdout",
     "output_type": "stream",
     "text": [
      "12.57\n"
     ]
    }
   ],
   "source": [
    "import math\n",
    "\n",
    "R = float(input())\n",
    "\n",
    "c = (2*math.pi*R)\n",
    "\n",
    "print('%.2f'%c)"
   ]
  },
  {
   "cell_type": "markdown",
   "metadata": {},
   "source": [
    "#### **6. You are provided with a number \"N\", Find the Nth term of the series: 1, 4, 9, 16, 25, 36, 49, 64, 81, .......**\n",
    "\n",
    "(Print \"Error\" if N = negative value and 0 if N = 0).\n",
    "\n",
    "**Input Description:**\n",
    "\n",
    "An integer N is provided to you as the input.\n",
    "\n",
    "**Output Description:**\n",
    "\n",
    "Find the Nth term in the provided series.\n",
    "\n",
    "Sample Input :\n",
    "\n",
    "18\n",
    "\n",
    "Sample Output :\n",
    "\n",
    "324"
   ]
  },
  {
   "cell_type": "code",
   "execution_count": 87,
   "metadata": {},
   "outputs": [
    {
     "name": "stdout",
     "output_type": "stream",
     "text": [
      "324\n"
     ]
    }
   ],
   "source": [
    "N = int(input())\n",
    "\n",
    "print(N*N)"
   ]
  },
  {
   "cell_type": "markdown",
   "metadata": {},
   "source": [
    "#### **7. You are given with Principle amount($), Interest Rate(%) and Time (years) in that order. Find Simple Interest.**\n",
    "\n",
    "Print the output up to two decimal places (Round-off if necessary).\n",
    "\n",
    "(S.I. = P*T*R/100)\n",
    "\n",
    "**Input Description:**\n",
    "\n",
    "Three values are given to you as the input. these values correspond to Principle amount, Interest Rate and Time in that particular order.\n",
    "\n",
    "**Output Description:**\n",
    "\n",
    "Find the Simple interest and print it up to two decimal places. Round off if required.\n",
    "\n",
    "Sample Input :\n",
    "\n",
    "1000 2 5\n",
    "\n",
    "Sample Output :\n",
    "\n",
    "100.00"
   ]
  },
  {
   "cell_type": "code",
   "execution_count": 7,
   "metadata": {},
   "outputs": [
    {
     "name": "stdout",
     "output_type": "stream",
     "text": [
      "100.00\n"
     ]
    }
   ],
   "source": [
    "p,t,r = map(int,input().split(\" \"))\n",
    "\n",
    "si = (p*t*r)/100\n",
    "\n",
    "simple = \"{:.2f}\".format(si)\n",
    "\n",
    "print(simple)"
   ]
  },
  {
   "cell_type": "markdown",
   "metadata": {},
   "source": [
    "#### **7. You are provided with two numbers. Find and print the smaller number.**\n",
    "\n",
    "**Input Description:**\n",
    "\n",
    "You are provided with two numbers as input.\n",
    "\n",
    "**Output Description:**\n",
    "\n",
    "Print the small number out of the two numbers.\n",
    "\n",
    "Sample Input :\n",
    "\n",
    "23 1\n",
    "\n",
    "Sample Output :\n",
    "\n",
    "1"
   ]
  },
  {
   "cell_type": "code",
   "execution_count": 8,
   "metadata": {},
   "outputs": [
    {
     "name": "stdout",
     "output_type": "stream",
     "text": [
      "1\n"
     ]
    }
   ],
   "source": [
    "a, b = map(int,input().split())\n",
    "print(min(a, b))"
   ]
  },
  {
   "cell_type": "code",
   "execution_count": 18,
   "metadata": {},
   "outputs": [
    {
     "name": "stdout",
     "output_type": "stream",
     "text": [
      "1\n"
     ]
    }
   ],
   "source": [
    "# By apply this function to find the minimum of two numbers\n",
    "\n",
    "def minimum(a, b):\n",
    "    if a <= b:\n",
    "        return a\n",
    "    else:\n",
    "        return b\n",
    "# Driver code   a = 1, b = 23\n",
    "print(minimum(a, b))"
   ]
  },
  {
   "cell_type": "markdown",
   "metadata": {},
   "source": [
    "#### **8. Using the method of looping, write a program to print the table of 9 till N in the format as follows:**\n",
    "(N is input by the user)\n",
    "\n",
    "9 18 27...\n",
    "\n",
    "Print NULL if 0 is input\n",
    "\n",
    "**Input Description:**\n",
    "\n",
    "A positive integer is provided as an input.\n",
    "\n",
    "**Output Description:**\n",
    "\n",
    "Print the table of nine with single space between the elements till the number that is input.\n",
    "\n",
    "Sample Input :\n",
    "\n",
    "3\n",
    "\n",
    "Sample Output :\n",
    "\n",
    "9 18 27"
   ]
  },
  {
   "cell_type": "code",
   "execution_count": 17,
   "metadata": {},
   "outputs": [
    {
     "name": "stdout",
     "output_type": "stream",
     "text": [
      "9 18 27\n"
     ]
    }
   ],
   "source": [
    "n = int(input())\n",
    "\n",
    "if (n>=1):\n",
    "    i=0\n",
    "    for i in range(1, n):\n",
    "        m=i*9\n",
    "        print(m,end=' ')\n",
    "    print((i+1)*9)\n",
    "\n",
    "else: \n",
    "    print(\"NULL\")"
   ]
  },
  {
   "cell_type": "markdown",
   "metadata": {},
   "source": [
    "#### **9. You are given Two Numbers, A and B. If C = A + B. Find C.**\n",
    "\n",
    "Note: Round off the output to a single decimal place.\n",
    "\n",
    "**Input Description:**\n",
    "\n",
    "You are provided with two numbers A and B.\n",
    "\n",
    "**Output Description:**\n",
    "\n",
    "Find the sum of the two numbers (A + B)\n",
    "\n",
    "Sample Input :\n",
    "\n",
    "1\n",
    "\n",
    "1\n",
    "\n",
    "Sample Output :\n",
    "\n",
    "2"
   ]
  },
  {
   "cell_type": "code",
   "execution_count": 22,
   "metadata": {},
   "outputs": [
    {
     "name": "stdout",
     "output_type": "stream",
     "text": [
      "2.0\n"
     ]
    }
   ],
   "source": [
    "# Get the input A,B as Float\n",
    "\n",
    "A = float(input().strip())\n",
    "B = float(input().strip())\n",
    "\n",
    "# Sum of two numbers A & B\n",
    "\n",
    "C = A+B\n",
    "\n",
    "# Display the rounded result with one decimal point\n",
    "print(round(C, 1))"
   ]
  },
  {
   "cell_type": "markdown",
   "metadata": {},
   "source": [
    "#### **10. You are given a number A in Kilometers. Convert this into B: Meters and C: Centi-Metres.**\n",
    "\n",
    "**Input Description:**\n",
    "\n",
    "A number \"A\" representing some distance in kilometer is provided to you as the input.\n",
    "\n",
    "**Output Description:**\n",
    "\n",
    "Convert and print this value in meters and centimeters.\n",
    "\n",
    "Sample Input :\n",
    "\n",
    "2\n",
    "\n",
    "Sample Output :\n",
    "\n",
    "2000\n",
    "\n",
    "200000"
   ]
  },
  {
   "cell_type": "code",
   "execution_count": 23,
   "metadata": {},
   "outputs": [
    {
     "name": "stdout",
     "output_type": "stream",
     "text": [
      "2000\n",
      "200000\n"
     ]
    }
   ],
   "source": [
    "# Get the input as integer\n",
    "A = int(input())\n",
    "\n",
    "# Perform the conversion\n",
    "B = A * 1000         #meters\n",
    "C = A * 100000       #centimeters\n",
    "\n",
    "# Print the output\n",
    "print(B)\n",
    "print(C)"
   ]
  },
  {
   "cell_type": "markdown",
   "metadata": {},
   "source": [
    "#### **11. You will be provided with a number. Print the number of days in the month corresponding to that number.**\n",
    "\n",
    "Note: In case the input is February, print 28 days. If the Input is not in valid range print \"Error\".\n",
    "\n",
    "**Input Description:**\n",
    "\n",
    "The input is in the form of a number.\n",
    "\n",
    "**Output Description:**\n",
    "\n",
    "Find the days in the month corresponding to the input number. Print Error if the input is not in a valid range.\n",
    "\n",
    "Sample Input :\n",
    "\n",
    "8\n",
    "\n",
    "Sample Output :\n",
    "\n",
    "31"
   ]
  },
  {
   "cell_type": "code",
   "execution_count": 8,
   "metadata": {},
   "outputs": [
    {
     "name": "stdout",
     "output_type": "stream",
     "text": [
      "31\n"
     ]
    }
   ],
   "source": [
    "# List of days in each month, where index 1 corresponds to January and so on.\n",
    "days_in_month = [0, 31, 28, 31, 30, 31, 30, 31, 31, 30, 31, 30, 31]\n",
    "\n",
    "# Read input\n",
    "month_number = int(input())\n",
    "\n",
    "# Check if the month number is valid\n",
    "if 1 <= month_number <= 12:\n",
    "    # Output the number of days in the corresponding month\n",
    "    print(days_in_month[month_number])\n",
    "else:\n",
    "    # Print error message for invalid month numbers\n",
    "    print(\"Error\")"
   ]
  },
  {
   "cell_type": "markdown",
   "metadata": {},
   "source": [
    "#### **12. Let \"A\"  be a string. Remove all the whitespaces and find it's length.**\n",
    "\n",
    "**Input Description:**\n",
    "\n",
    "A string is provide as an input\n",
    "\n",
    "**Output Description:**\n",
    "\n",
    "Remove all the whitespaces and then print the length of the remaining string.\n",
    "\n",
    "Sample Input :\n",
    "\n",
    "Lorem Ipsum\n",
    "\n",
    "Sample Output :\n",
    "\n",
    "10"
   ]
  },
  {
   "cell_type": "code",
   "execution_count": 9,
   "metadata": {},
   "outputs": [
    {
     "name": "stdout",
     "output_type": "stream",
     "text": [
      "10\n"
     ]
    }
   ],
   "source": [
    "# Read the input string\n",
    "a = input()\n",
    "\n",
    "# Remove all whitespaces from the string\n",
    "b = a.replace(\" \", \"\")\n",
    "\n",
    "# find the length of the modified string\n",
    "c = len(b)\n",
    "\n",
    "# Print the length of the remaining string\n",
    "print(c)"
   ]
  },
  {
   "cell_type": "markdown",
   "metadata": {},
   "source": [
    "### **13. Write a code to get an integer N and print values from 1 till N in a separate line.**\n",
    "\n",
    "**Input Description:**\n",
    "\n",
    "A single line contains an integer N.\n",
    "\n",
    "**Output Description:**\n",
    "\n",
    "Print the values from 1 to N in a separate line.\n",
    "\n",
    "Sample Input :\n",
    "\n",
    "5\n",
    "\n",
    "Sample Output :\n",
    "\n",
    "1\n",
    "\n",
    "2\n",
    "\n",
    "3\n",
    "\n",
    "4\n",
    "\n",
    "5"
   ]
  },
  {
   "cell_type": "code",
   "execution_count": 10,
   "metadata": {},
   "outputs": [
    {
     "name": "stdout",
     "output_type": "stream",
     "text": [
      "1\n",
      "2\n",
      "3\n",
      "4\n",
      "5\n"
     ]
    }
   ],
   "source": [
    "# Read the input integer N\n",
    "N = int(input())\n",
    "\n",
    "# Loop from 1 to N (inclusive) and print each value on a new line\n",
    "for i in range(1, N + 1):\n",
    "    print(i)"
   ]
  },
  {
   "cell_type": "markdown",
   "metadata": {},
   "source": [
    "#### **14. Print the First 3 multiples of the given number \"N\". (N is a positive integer)**\n",
    "\n",
    "Note: print the characters with a single space between them.\n",
    "\n",
    "**Input Description:**\n",
    "\n",
    "A positive integer is provided to you as an input.\n",
    "\n",
    "**Output Description:**\n",
    "\n",
    "Print the First 3 multiples of the number with single spaces between them as an output.\n",
    "\n",
    "Sample Input :\n",
    "\n",
    "2\n",
    "\n",
    "Sample Output :\n",
    "\n",
    "2 4 6"
   ]
  },
  {
   "cell_type": "code",
   "execution_count": 12,
   "metadata": {},
   "outputs": [
    {
     "name": "stdout",
     "output_type": "stream",
     "text": [
      "2 4 6\n"
     ]
    }
   ],
   "source": [
    "# Read the input integer N\n",
    "N = int(input())\n",
    "\n",
    "# Calculate the first 3 multiples of N\n",
    "a = N * 1\n",
    "b = N * 2\n",
    "c = N * 3\n",
    "\n",
    "# Print the multiples with a single space between them\n",
    "print(a,b,c)"
   ]
  },
  {
   "cell_type": "markdown",
   "metadata": {},
   "source": [
    "#### **15. Write a code to get 2 integers A and N. Print the integer A, N times in separate line.**\n",
    "\n",
    "**Input Description:**\n",
    "\n",
    "First line contains an integer A. Second line contains an Integer N.\n",
    "\n",
    "**Output Description:**\n",
    "\n",
    "Print the integer A, N times in a separate line.\n",
    "\n",
    "Sample Input:\n",
    "\n",
    "2 3\n",
    "\n",
    "Sample Output :\n",
    "\n",
    "2\n",
    "\n",
    "2\n",
    "\n",
    "2"
   ]
  },
  {
   "cell_type": "code",
   "execution_count": 2,
   "metadata": {},
   "outputs": [
    {
     "name": "stdout",
     "output_type": "stream",
     "text": [
      "2\n",
      "2\n",
      "2\n"
     ]
    }
   ],
   "source": [
    "A, N = map(int, input().split())\n",
    "\n",
    "# Loop to print A, N times\n",
    "for _ in range(N):\n",
    "    print(A)"
   ]
  },
  {
   "cell_type": "markdown",
   "metadata": {},
   "source": [
    "### **16. Write a code to get the input and print it 5 times.**\n",
    "\n",
    "**Input Description:**\n",
    "\n",
    "A single line contains an integer N.\n",
    "\n",
    "**Output Description:**\n",
    "\n",
    "Output contains 5 lines with each line having the value N.\n",
    "\n",
    "Sample Input :\n",
    "\n",
    "4\n",
    "\n",
    "Sample Output :\n",
    "\n",
    "4\n",
    "\n",
    "4\n",
    "\n",
    "4\n",
    "\n",
    "4\n",
    "\n",
    "4"
   ]
  },
  {
   "cell_type": "code",
   "execution_count": 14,
   "metadata": {},
   "outputs": [
    {
     "name": "stdout",
     "output_type": "stream",
     "text": [
      "4\n",
      "4\n",
      "4\n",
      "4\n",
      "4\n"
     ]
    }
   ],
   "source": [
    "# Read the input integer\n",
    "N = int(input())\n",
    "\n",
    "# Loop to print N in 5 times\n",
    "for _ in range(5):\n",
    "    print(N)"
   ]
  },
  {
   "cell_type": "markdown",
   "metadata": {},
   "source": [
    "#### **17. You are given with a number \"N\", find its cube.**\n",
    "\n",
    "**Input Description:**\n",
    "\n",
    "A positive integer is provided.\n",
    "\n",
    "**Output Description:**\n",
    "\n",
    "Find the cube of the number.\n",
    "\n",
    "Sample Input :\n",
    "\n",
    "2\n",
    "\n",
    "Sample Output :\n",
    "\n",
    "8"
   ]
  },
  {
   "cell_type": "code",
   "execution_count": 3,
   "metadata": {},
   "outputs": [
    {
     "name": "stdout",
     "output_type": "stream",
     "text": [
      "8\n"
     ]
    }
   ],
   "source": [
    "N = int(input())\n",
    "\n",
    "cube = N ** 3\n",
    "\n",
    "print(cube)"
   ]
  },
  {
   "cell_type": "markdown",
   "metadata": {},
   "source": [
    "#### **18. You are given with Principle amount($), Interest Rate(%) and Time (years) in that order. Find Simple Interest.**\n",
    "\n",
    "Print the output up to two decimal places (Round-off if necessary).\n",
    "\n",
    "(S.I. = P*T*R/100)\n",
    "\n",
    "**Input Description:**\n",
    "\n",
    "Three values are given to you as the input. these values correspond to Principle amount, Interest Rate and Time in that particular order.\n",
    "\n",
    "**Output Description:**\n",
    "\n",
    "Find the Simple interest and print it up to two decimal places. Round off if required.\n",
    "\n",
    "Sample Input :\n",
    "\n",
    "1000 2 5\n",
    "\n",
    "Sample Output :\n",
    "\n",
    "100.00"
   ]
  },
  {
   "cell_type": "code",
   "execution_count": 16,
   "metadata": {},
   "outputs": [
    {
     "name": "stdout",
     "output_type": "stream",
     "text": [
      "100.00\n"
     ]
    }
   ],
   "source": [
    "# Read the inputs: principal amount (P), interest rate (R), and time (T)\n",
    "P, R, T = map(float, input().split())\n",
    "\n",
    "# Calculate the simple interest\n",
    "SI = (P * T * R) / 100\n",
    "\n",
    "# Round off the simple interest to two decimal places\n",
    "SI_rounded = round(SI, 2)\n",
    "\n",
    "# Print the rounded simple interest\n",
    "print(\"{:.2f}\".format(SI_rounded))\n"
   ]
  },
  {
   "cell_type": "markdown",
   "metadata": {},
   "source": [
    "#### **19. Write a code to get an integer N and print the digits of the integer.**\n",
    "\n",
    "**Input Description:**\n",
    "\n",
    "A single line contains an integer N.\n",
    "\n",
    "**Output Description:**\n",
    "\n",
    "Print the digits of the integer in a single line separated by space,\n",
    "\n",
    "Sample Input :\n",
    "\n",
    "348\n",
    "\n",
    "Sample Output :\n",
    "\n",
    "3 4 8"
   ]
  },
  {
   "cell_type": "code",
   "execution_count": 10,
   "metadata": {},
   "outputs": [
    {
     "name": "stdout",
     "output_type": "stream",
     "text": [
      "3 4 8\n"
     ]
    }
   ],
   "source": [
    "N = input()\n",
    "print(*N, sep=' ')"
   ]
  },
  {
   "cell_type": "markdown",
   "metadata": {},
   "source": [
    "#### **20. Write a code get an integer number as input and print the sum of the digits.**\n",
    "\n",
    "**Input Description:**\n",
    "\n",
    "A single line containing an integer.\n",
    "\n",
    "**Output Description:**\n",
    "\n",
    "Print the sum of the digits of the integer.\n",
    "\n",
    "Sample Input :\n",
    "\n",
    "124\n",
    "\n",
    "Sample Output :\n",
    "\n",
    "7"
   ]
  },
  {
   "cell_type": "code",
   "execution_count": 3,
   "metadata": {},
   "outputs": [
    {
     "name": "stdout",
     "output_type": "stream",
     "text": [
      "7\n"
     ]
    }
   ],
   "source": [
    "x = input()\n",
    "\n",
    "sum=0\n",
    "\n",
    "for i in x:\n",
    "    sum=sum+int(i)\n",
    "\n",
    "print(sum)"
   ]
  },
  {
   "cell_type": "markdown",
   "metadata": {},
   "source": [
    "#### **21. Write a code get an integer number as input and print the odd and even digits of the number separately.**\n",
    "\n",
    "**Input Description:**\n",
    "\n",
    "A single line containing an integer.\n",
    "\n",
    "**Output Description:**\n",
    "\n",
    "Print the even and odd integers of the integer in a separate line.\n",
    "\n",
    "Sample Input :\n",
    "\n",
    "1234\n",
    "\n",
    "Sample Output :\n",
    "\n",
    "2 4\n",
    "\n",
    "1 3"
   ]
  },
  {
   "cell_type": "code",
   "execution_count": 11,
   "metadata": {},
   "outputs": [
    {
     "name": "stdout",
     "output_type": "stream",
     "text": [
      "2 4\n",
      "1 3\n"
     ]
    }
   ],
   "source": [
    "a = int(input())\n",
    "\n",
    "even = []\n",
    "odd = []\n",
    "\n",
    "b = list(map(int, str(a)))\n",
    "\n",
    "for x in b:\n",
    "  if (x%2 ==0):\n",
    "    even.append(x)\n",
    "  else:\n",
    "    odd.append(x)\n",
    "\n",
    "print(*sorted(even))\n",
    "\n",
    "print(*sorted(odd))"
   ]
  },
  {
   "cell_type": "markdown",
   "metadata": {},
   "source": [
    "### **22. Write a code to get an integer N and print the sum of  values from 1 to N.**\n",
    "\n",
    "**Input Description:**\n",
    "\n",
    "A single line contains an integer N.\n",
    "\n",
    "**Output Description:**\n",
    "\n",
    "Print the sum of values from 1 to N.\n",
    "\n",
    "Sample Input :\n",
    "\n",
    "10\n",
    "\n",
    "Sample Output :\n",
    "\n",
    "55"
   ]
  },
  {
   "cell_type": "code",
   "execution_count": 14,
   "metadata": {},
   "outputs": [
    {
     "name": "stdout",
     "output_type": "stream",
     "text": [
      "55\n"
     ]
    }
   ],
   "source": [
    "a = int(input())\n",
    "\n",
    "total = a * (a + 1) // 2        # 10*11//2 ==> 110//2 ==> 55\n",
    "\n",
    "print(total)"
   ]
  },
  {
   "cell_type": "markdown",
   "metadata": {},
   "source": [
    "### **23. Let \"A\" be a year, write a program to check whether this year is a leap year or not.**\n",
    "\n",
    "Print \"Y\" if its a leap year and \"N\" if its a common year.\n",
    "\n",
    "**Input Description:**\n",
    "\n",
    "A Year is the input in the form of a positive integer.\n",
    "\n",
    "**Output Description:**\n",
    "\n",
    "Print \"Y\" if its a leap year and \"N\" if its a common year.\n",
    "\n",
    "Sample Input :\n",
    "\n",
    "2020\n",
    "\n",
    "Sample Output :\n",
    "\n",
    "Y"
   ]
  },
  {
   "cell_type": "code",
   "execution_count": 21,
   "metadata": {},
   "outputs": [
    {
     "name": "stdout",
     "output_type": "stream",
     "text": [
      "Y\n"
     ]
    }
   ],
   "source": [
    "year = int(input()) \n",
    "\n",
    "if (year % 4) == 0:\n",
    "   if (year % 100) == 0:\n",
    "       if (year % 400) == 0:\n",
    "           print(\"Y\")\n",
    "       else:\n",
    "           print(\"N\")\n",
    "   else:\n",
    "       print(\"Y\")\n",
    "else:\n",
    "   print(\"N\")"
   ]
  },
  {
   "cell_type": "markdown",
   "metadata": {},
   "source": [
    "#### **24. Write a code to get 2 integers as input and find the HCF of the 2 integer without using recursion or Euclidean algorithm.**\n",
    "\n",
    "**Input Description:**\n",
    "\n",
    "A single line containing 2 integers separated by space.\n",
    "\n",
    "**Output Description:**\n",
    "\n",
    "Print the HCF of the integers.\n",
    "\n",
    "Sample Input :\n",
    "\n",
    "2 3\n",
    "\n",
    "Sample Output :\n",
    "\n",
    "1"
   ]
  },
  {
   "cell_type": "code",
   "execution_count": 22,
   "metadata": {},
   "outputs": [
    {
     "name": "stdout",
     "output_type": "stream",
     "text": [
      "1\n"
     ]
    }
   ],
   "source": [
    "import math\n",
    "\n",
    "x,y = map(int,input().split(\" \"))\n",
    "\n",
    "print(math.gcd(x,y))"
   ]
  },
  {
   "cell_type": "markdown",
   "metadata": {},
   "source": [
    "### **25. Write a code to get an integer N and print the even values from 1 till N in a separate line.**\n",
    "\n",
    "**Input Description:**\n",
    "\n",
    "A single line contains an integer N.\n",
    "\n",
    "**Output Description:**\n",
    "\n",
    "Print the even values from 1 to N in a separate line.\n",
    "\n",
    "Sample Input:\n",
    "\n",
    "6\n",
    "\n",
    "Sample Output :\n",
    "\n",
    "2\n",
    "\n",
    "4\n",
    "\n",
    "6"
   ]
  },
  {
   "cell_type": "code",
   "execution_count": 24,
   "metadata": {},
   "outputs": [
    {
     "name": "stdout",
     "output_type": "stream",
     "text": [
      "2\n",
      "4\n",
      "6\n"
     ]
    }
   ],
   "source": [
    "number = int(input())\n",
    "\n",
    "for i in range(1, number+1):\n",
    "  if i%2==0:\n",
    "    print(i)"
   ]
  },
  {
   "cell_type": "markdown",
   "metadata": {},
   "source": [
    "#### **26. Write a program to get a string as input and reverse the string without using temporary variable.**\n",
    "\n",
    "**Input Description:**\n",
    "\n",
    "A single line containing a string.\n",
    "\n",
    "**Output Description:**\n",
    "\n",
    "Print the reversed string.\n",
    "\n",
    "Sample Input :\n",
    "\n",
    "GUVI\n",
    "\n",
    "Sample Output :\n",
    "\n",
    "IVUG"
   ]
  },
  {
   "cell_type": "code",
   "execution_count": 25,
   "metadata": {},
   "outputs": [
    {
     "name": "stdout",
     "output_type": "stream",
     "text": [
      "IVUG\n"
     ]
    }
   ],
   "source": [
    "a = input()\n",
    "\n",
    "print(a[::-1])"
   ]
  },
  {
   "cell_type": "markdown",
   "metadata": {},
   "source": [
    "#### **27. You are provided with a number, \"N\". Find its factorial.**\n",
    "\n",
    "**Input Description:**\n",
    "\n",
    "A positive integer is provided as an input.\n",
    "\n",
    "**Output Description:**\n",
    "\n",
    "Print the factorial of the integer.\n",
    "\n",
    "Sample Input :\n",
    "\n",
    "2\n",
    "\n",
    "Sample Output :\n",
    "\n",
    "2"
   ]
  },
  {
   "cell_type": "code",
   "execution_count": 42,
   "metadata": {},
   "outputs": [
    {
     "name": "stdout",
     "output_type": "stream",
     "text": [
      "2\n"
     ]
    }
   ],
   "source": [
    "N = int(input())\n",
    "\n",
    "fact=1\n",
    "\n",
    "for i in range (1,N+1):\n",
    "    fact=fact*i\n",
    "\n",
    "print(fact)"
   ]
  },
  {
   "cell_type": "markdown",
   "metadata": {},
   "source": [
    "#### **28. Write a code to get an integer N and print the values from N to 1.**\n",
    "\n",
    "**Input Description:**\n",
    "\n",
    "A single line contains an integer N.\n",
    "\n",
    "**Output Description:**\n",
    "\n",
    "Print the values from N to 1 in a separate line.\n",
    "\n",
    "Sample Input :\n",
    "\n",
    "10\n",
    "\n",
    "Sample Output :\n",
    "\n",
    "10\n",
    "9\n",
    "8\n",
    "7\n",
    "6\n",
    "5\n",
    "4\n",
    "3\n",
    "2\n",
    "1"
   ]
  },
  {
   "cell_type": "code",
   "execution_count": 43,
   "metadata": {},
   "outputs": [
    {
     "name": "stdout",
     "output_type": "stream",
     "text": [
      "10\n",
      "9\n",
      "8\n",
      "7\n",
      "6\n",
      "5\n",
      "4\n",
      "3\n",
      "2\n",
      "1\n"
     ]
    }
   ],
   "source": [
    "# Using a loop:\n",
    "\n",
    "N = int(input())\n",
    "\n",
    "for i in range(N, 0, -1):\n",
    "  print(i)"
   ]
  },
  {
   "cell_type": "code",
   "execution_count": 46,
   "metadata": {},
   "outputs": [
    {
     "name": "stdout",
     "output_type": "stream",
     "text": [
      "10\n",
      "9\n",
      "8\n",
      "7\n",
      "6\n",
      "5\n",
      "4\n",
      "3\n",
      "2\n",
      "1\n"
     ]
    }
   ],
   "source": [
    "# Using recursion:\n",
    "\n",
    "def print_n_to_1(n):\n",
    "  if n > 0:\n",
    "    print(n)\n",
    "    print_n_to_1(n - 1)\n",
    "\n",
    "N = int(input())\n",
    "print_n_to_1(N)"
   ]
  },
  {
   "cell_type": "markdown",
   "metadata": {},
   "source": [
    "### **29. You are given with a number A i.e. the temperature in Celcius. Write a program to convert this into Fahrenheit.**\n",
    "\n",
    "Note: In case of decimal values, round-off to two decimal places.\n",
    "\n",
    "**Input Description:**\n",
    "\n",
    "A number is provided in Celcius as the input of the program.\n",
    "\n",
    "**Output Description:**\n",
    "\n",
    "The output shall be the temperature converted into Fahrenheit corresponding to the input value print up to two decimal places and round off if required.\n",
    "\n",
    "Sample Input :\n",
    "\n",
    "12\n",
    "\n",
    "Sample Output :\n",
    "\n",
    "53.60"
   ]
  },
  {
   "cell_type": "code",
   "execution_count": 49,
   "metadata": {},
   "outputs": [
    {
     "name": "stdout",
     "output_type": "stream",
     "text": [
      "53.60\n"
     ]
    }
   ],
   "source": [
    "celsius = float(input())\n",
    "\n",
    "f = (celsius * (9/5)) + 32\n",
    "\n",
    "print(\"{:.2f}\".format(f))"
   ]
  },
  {
   "cell_type": "markdown",
   "metadata": {},
   "source": [
    "#### **30. You are given the coefficients of a quadratic equation in order A, B & C.**\n",
    "\n",
    "Where A is the coefficient of X2,  B is the coefficient of X and C is the constant term in the most simplified form.\n",
    "\n",
    "Example: For  X2 + 5X + 6 = 0, you are given the input as: 1 5 6.\n",
    "\n",
    "Write a program to find all of the roots of the quadratic.\n",
    "\n",
    "Note: The output should be up to 2nd decimal place (round off if needed) and in case of a recurring decimal use braces i.e. for eg: 0.33333..... => 0.33.\n",
    "\n",
    "Note: Use Shri Dharacharya's Method to solve i.e. X = {-b + √(b² - 4ac) } / 2a & {-b-√(b² -4ac)} / 2a\n",
    "\n",
    "**Input Description:**\n",
    "\n",
    "Three numbers corresponding to the coefficients of x(squared), x and constant are given as an input in that particular order\n",
    "\n",
    "**Output Description:**\n",
    "\n",
    "Print the two values of X after rounding off to 2 decimal places if required.\n",
    "\n",
    "Sample Input:\n",
    "\n",
    "1 5 6\n",
    "\n",
    "Sample Output :\n",
    "\n",
    "-2.00\n",
    "\n",
    "-3.00"
   ]
  },
  {
   "cell_type": "code",
   "execution_count": 59,
   "metadata": {},
   "outputs": [
    {
     "name": "stdout",
     "output_type": "stream",
     "text": [
      "-2.00\n",
      "-3.00\n"
     ]
    }
   ],
   "source": [
    "import math\n",
    "\n",
    "a,b,c=map(int,input().split())\n",
    "\n",
    "d = (b**2) - (4*a*c)\n",
    "\n",
    "sol1 = (-b+math.sqrt(d))/(2*a)\n",
    "\n",
    "sol2 = (-b-math.sqrt(d))/(2*a)\n",
    "\n",
    "print('%.2f'%sol1)\n",
    "\n",
    "print('%.2f'%sol2)"
   ]
  }
 ],
 "metadata": {
  "kernelspec": {
   "display_name": "Python 3",
   "language": "python",
   "name": "python3"
  },
  "language_info": {
   "codemirror_mode": {
    "name": "ipython",
    "version": 3
   },
   "file_extension": ".py",
   "mimetype": "text/x-python",
   "name": "python",
   "nbconvert_exporter": "python",
   "pygments_lexer": "ipython3",
   "version": "3.12.4"
  }
 },
 "nbformat": 4,
 "nbformat_minor": 2
}
