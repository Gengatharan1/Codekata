{
 "cells": [
  {
   "cell_type": "markdown",
   "metadata": {},
   "source": [
    "### **1. Given 2 numbers N,M where N is the number of nodes and M is the number of edges,followed by the connection between nodes, find if the resultant graph has cycles.(all the edges are directed edges)**\n",
    "\n",
    "Input Size : M,N <= 100000\n",
    "\n",
    "**Sample Testcase:**\n",
    "\n",
    "**INPUT**\n",
    "\n",
    "2 2\n",
    "\n",
    "1 2\n",
    "\n",
    "2 1\n",
    "\n",
    "**OUTPUT**\n",
    "\n",
    "yes"
   ]
  },
  {
   "cell_type": "code",
   "execution_count": 2,
   "metadata": {},
   "outputs": [
    {
     "name": "stdout",
     "output_type": "stream",
     "text": [
      "yes\n"
     ]
    }
   ],
   "source": [
    "def has_cycle(n, m, edges):\n",
    "    graph = [[] for _ in range(n + 1)]\n",
    "    for u, v in edges:\n",
    "        graph[u].append(v)\n",
    "    \n",
    "    visited = [0] * (n + 1)\n",
    "    \n",
    "    def dfs(node):\n",
    "        if visited[node] == 1:\n",
    "            return True\n",
    "        if visited[node] == 2:\n",
    "            return False\n",
    "        visited[node] = 1\n",
    "        for neighbor in graph[node]:\n",
    "            if dfs(neighbor):\n",
    "                return True\n",
    "        visited[node] = 2\n",
    "        return False\n",
    "\n",
    "    for i in range(1, n + 1):\n",
    "        if visited[i] == 0:\n",
    "            if dfs(i):\n",
    "                return \"yes\"\n",
    "    return \"no\"\n",
    "\n",
    "n, m = map(int, input().split())\n",
    "edges = [tuple(map(int, input().split())) for _ in range(m)]\n",
    "print(has_cycle(n, m, edges))"
   ]
  },
  {
   "cell_type": "markdown",
   "metadata": {},
   "source": [
    "### **2. Cities are represented as nodes in a graph. A link between two cities exist if there exists a road or railway line such that one city can be reached from another. Represent the map of the city in an adjacency matrix by denoting a link between two particular cities as the number 1 in the matrix. If there is no link between cities, denote it by a 0 in the matrix.**\n",
    "\n",
    "**Input Description:**\n",
    "\n",
    "Number of cities, name of cities, number of links followed by end points of links between cities. A link is given as input in the format “city1 city2”\n",
    "\n",
    "**Output Description:**\n",
    "\n",
    "The adjacency matrix along with the corresponding city names\n",
    "\n",
    "**Sample Input:**\n",
    "\n",
    "3\n",
    "\n",
    "CHENNAI\n",
    "\n",
    "MUMBAI\n",
    "\n",
    "DELHI\n",
    "\n",
    "2\n",
    "\n",
    "CHENNAI MUMBAI\n",
    "\n",
    "DELHI CHENNAI\n",
    "\n",
    "**Sample Output:**\n",
    "\n",
    "CHENNAI MUMBAI DELHI\n",
    "\n",
    "CHENNAI 1 1 1\n",
    "\n",
    "MUMBAI 1 1 0\n",
    "\n",
    "DELHI 1 0 1"
   ]
  },
  {
   "cell_type": "code",
   "execution_count": null,
   "metadata": {},
   "outputs": [
    {
     "name": "stdout",
     "output_type": "stream",
     "text": [
      " CHENNAI MUMBAI DELHI\n",
      "CHENNAI 1 1 1\n",
      "MUMBAI 1 1 0\n",
      "DELHI 1 0 1\n"
     ]
    }
   ],
   "source": [
    "def adjacency_matrix():\n",
    "    n = int(input())\n",
    "    cities = [input().strip() for _ in range(n)]\n",
    "    e = int(input())\n",
    "    links = [input().strip().split() for _ in range(e)]\n",
    "    city_to_index = {city: i for i, city in enumerate(cities)}\n",
    "    adj_matrix = [[1 if i == j else 0 for j in range(n)] for i in range(n)]\n",
    "\n",
    "    for city1, city2 in links:\n",
    "        i, j = city_to_index[city1], city_to_index[city2]\n",
    "        adj_matrix[i][j] = 1\n",
    "        adj_matrix[j][i] = 1\n",
    "    print(\" \" + \" \".join(cities))\n",
    "    for i in range(n):\n",
    "        print(cities[i], \" \".join(map(str, adj_matrix[i])))\n",
    "\n",
    "adjacency_matrix()"
   ]
  },
  {
   "cell_type": "markdown",
   "metadata": {},
   "source": [
    "### **3. Given a number N, and a N*N matrix containing only 0's and 1's, where 0's represent water and 1's representing land, find the number of island 1's(1 surrounded by 0 on all of its adjacent sides).If the island could not be found with the given matrix print -1.**\n",
    "\n",
    "Input Size : 1 <= N <= 1000\n",
    "\n",
    "**Sample Testcase:**\n",
    "\n",
    "**INPUT**\n",
    "\n",
    "3\n",
    "\n",
    "1 1 0\n",
    "\n",
    "0 0 0\n",
    "\n",
    "0 1 0\n",
    "\n",
    "**OUTPUT**\n",
    "\n",
    "1"
   ]
  },
  {
   "cell_type": "code",
   "execution_count": 3,
   "metadata": {},
   "outputs": [
    {
     "name": "stdout",
     "output_type": "stream",
     "text": [
      "1\n"
     ]
    }
   ],
   "source": [
    "def count_island_ones(matrix, n):\n",
    "    def is_island(i, j):\n",
    "        directions = [(-1, 0), (1, 0), (0, -1), (0, 1)]\n",
    "        for dx, dy in directions:\n",
    "            ni, nj = i + dx, j + dy\n",
    "\n",
    "            if 0 <= ni < n and 0 <= nj < n and matrix[ni][nj] == 1:\n",
    "                return False\n",
    "        return True\n",
    "\n",
    "    island_count = 0\n",
    "    for i in range(n):\n",
    "        for j in range(n):\n",
    "            if matrix[i][j] == 1 and is_island(i, j):\n",
    "                island_count += 1    \n",
    "    return island_count if island_count > 0 else -1\n",
    "\n",
    "n = int(input())\n",
    "matrix = []\n",
    "for _ in range(n):\n",
    "    row = list(map(int, input().split()))\n",
    "    matrix.append(row)\n",
    "print(count_island_ones(matrix, n))"
   ]
  },
  {
   "cell_type": "markdown",
   "metadata": {},
   "source": [
    "### **4. You are given a string s.Your task is to remove all the adjacent duplicate character from string.Print the string formed out of it.**\n",
    "\n",
    "**Input Description:**\n",
    "\n",
    "You are given a string ‘s’\n",
    "\n",
    "**Output Description:**\n",
    "\n",
    "Print the resultant string\n",
    "\n",
    "**Sample Input:**\n",
    "\n",
    "Geeksforgeek\n",
    "\n",
    "**Sample Output:**\n",
    "\n",
    "Gksforgk"
   ]
  },
  {
   "cell_type": "code",
   "execution_count": 4,
   "metadata": {},
   "outputs": [
    {
     "name": "stdout",
     "output_type": "stream",
     "text": [
      "Gksforgk\n"
     ]
    }
   ],
   "source": [
    "def remove_adjacent_duplicates(s):\n",
    "    stack=[]\n",
    "    for i in s:\n",
    "        if stack and stack[-1]==i:\n",
    "            stack.pop()\n",
    "        else:\n",
    "            stack.append(i)\n",
    "    return ''.join(stack)\n",
    "    \n",
    "s = input()\n",
    "output = remove_adjacent_duplicates(s)\n",
    "print(output)"
   ]
  },
  {
   "cell_type": "markdown",
   "metadata": {},
   "source": [
    "### **5. Given a string of length N, find the longest palindromic substring.**\n",
    "\n",
    "Input Size : 1 <= N <= 1000\n",
    "\n",
    "**Sample Testcase:**\n",
    "\n",
    "**INPUT**\n",
    "\n",
    "DIEHEIDI\n",
    "\n",
    "**OUTPUT**\n",
    "\n",
    "DIEHEID"
   ]
  },
  {
   "cell_type": "code",
   "execution_count": 5,
   "metadata": {},
   "outputs": [
    {
     "name": "stdout",
     "output_type": "stream",
     "text": [
      "DIEHEID\n"
     ]
    }
   ],
   "source": [
    "def longest_palindromic_substring(s):\n",
    "    def expand_around_center(left, right):\n",
    "        while left >= 0 and right < len(s) and s[left] == s[right]:\n",
    "            left -= 1\n",
    "            right += 1\n",
    "        return s[left+1:right]\n",
    "    \n",
    "    longest = \"\"\n",
    "    for i in range(len(s)):\n",
    "        odd_palindrome = expand_around_center(i, i)\n",
    "        if len(odd_palindrome) > len(longest):\n",
    "            longest = odd_palindrome\n",
    "        \n",
    "        even_palindrome = expand_around_center(i, i+1)\n",
    "        if len(even_palindrome) > len(longest):\n",
    "            longest = even_palindrome    \n",
    "    return longest\n",
    "\n",
    "s = input().strip()\n",
    "print(longest_palindromic_substring(s))"
   ]
  },
  {
   "cell_type": "markdown",
   "metadata": {},
   "source": [
    "### **6. Given 2 numbers N and K and followed by an array of N integers. The given element K is removed from the array and new array is printed. If after removing every occurance of K the array becomes empty, print 'empty' without quotes.**\n",
    "\n",
    "**Example:**\n",
    "\n",
    "Input: {10,10,20,30,76}, K=10\n",
    "\n",
    "Output: {20,20,76}\n",
    "\n",
    "Input Size : N <= 100000\n",
    "\n",
    "**Sample Testcase:**\n",
    "\n",
    "**INPUT**\n",
    "\n",
    "5 10\n",
    "\n",
    "10 10 20 30 76\n",
    "\n",
    "**OUTPUT**\n",
    "\n",
    "20 30 76"
   ]
  },
  {
   "cell_type": "code",
   "execution_count": 6,
   "metadata": {},
   "outputs": [
    {
     "name": "stdout",
     "output_type": "stream",
     "text": [
      "20 30 76\n"
     ]
    }
   ],
   "source": [
    "n, k = map(int, input().split())\n",
    "arr = list(map(int, input().split()))\n",
    "\n",
    "filtered_arr = [x for x in arr if x != k]\n",
    "if not filtered_arr:\n",
    "    print(\"empty\")\n",
    "else:\n",
    "    print(*filtered_arr)"
   ]
  },
  {
   "cell_type": "markdown",
   "metadata": {},
   "source": [
    "### **7. Given 3 numbers N,E,A where N is the number of nodes and E is the number of edges(weight of each edge is 1), find the shortest path from node 1 to given node A.**\n",
    "\n",
    "Input Size : E,N <= 100000\n",
    "\n",
    "**Sample Testcase:**\n",
    "\n",
    "**INPUT**\n",
    "\n",
    "2 2 2\n",
    "\n",
    "1 2\n",
    "\n",
    "2 1\n",
    "\n",
    "**OUTPUT**\n",
    "\n",
    "1"
   ]
  },
  {
   "cell_type": "code",
   "execution_count": 7,
   "metadata": {},
   "outputs": [
    {
     "name": "stdout",
     "output_type": "stream",
     "text": [
      "1\n"
     ]
    }
   ],
   "source": [
    "from collections import deque, defaultdict\n",
    "\n",
    "def shortest_path(n, e, a, edges):\n",
    "    graph = defaultdict(list)\n",
    "    for u, v in edges:\n",
    "        graph[u].append(v)\n",
    "        graph[v].append(u)\n",
    "    distance = [-1] * (n + 1)\n",
    "    queue = deque([1])       \n",
    "    distance[1] = 0       \n",
    "    while queue:\n",
    "        node = queue.popleft()\n",
    "        for neighbor in graph[node]:\n",
    "            if distance[neighbor] == -1:\n",
    "                distance[neighbor] = distance[node] + 1\n",
    "                queue.append(neighbor)\n",
    "    return distance[a]\n",
    "\n",
    "n, e, a = map(int, input().split())\n",
    "edges = [tuple(map(int, input().split())) for _ in range(e)]\n",
    "print(shortest_path(n, e, a, edges))"
   ]
  },
  {
   "cell_type": "markdown",
   "metadata": {},
   "source": [
    "### **8. Given a number N- (number of nodes) followed by N numbers. Construct a BST with the inputs in the same order. Now 2 numbers U and V are given. Find the LCA( Lowest Common Anscestor) of U and V.**\n",
    "\n",
    "Input Size : 1 <= N <= 10000\n",
    "\n",
    "**Sample Testcases:**\n",
    "\n",
    "**INPUT**\n",
    "\n",
    "5\n",
    "\n",
    "1 2 3 4 5\n",
    "\n",
    "4 5\n",
    "\n",
    "**OUTPUT**\n",
    "\n",
    "4"
   ]
  },
  {
   "cell_type": "code",
   "execution_count": 8,
   "metadata": {},
   "outputs": [
    {
     "name": "stdout",
     "output_type": "stream",
     "text": [
      "4\n"
     ]
    }
   ],
   "source": [
    "class TreeNode:\n",
    "    def __init__(self, value):\n",
    "        self.value = value\n",
    "        self.left = None\n",
    "        self.right = None\n",
    "\n",
    "# Insert a node into the BST\n",
    "def insert_bst(root, value):\n",
    "    if not root:\n",
    "        return TreeNode(value)\n",
    "    if value < root.value:\n",
    "        root.left = insert_bst(root.left, value)\n",
    "    else:\n",
    "        root.right = insert_bst(root.right, value)\n",
    "    return root\n",
    "\n",
    "# Find the LCA iteratively\n",
    "def find_lca(root, u, v):\n",
    "    while root:\n",
    "        if u < root.value and v < root.value:\n",
    "            root = root.left\n",
    "        elif u > root.value and v > root.value:\n",
    "            root = root.right\n",
    "        else:\n",
    "            return root.value\n",
    "    return -1\n",
    "\n",
    "n = int(input())\n",
    "nodes = list(map(int, input().split()))\n",
    "u, v = map(int, input().split())\n",
    "\n",
    "root = None\n",
    "for value in nodes:\n",
    "    root = insert_bst(root, value)\n",
    "print(find_lca(root, u, v))"
   ]
  },
  {
   "cell_type": "markdown",
   "metadata": {},
   "source": [
    "### **9. You are given with a queue. Your task is to reverse the queue elements and print it.**\n",
    "\n",
    "**Input Description:**\n",
    "\n",
    "You are given a number ‘n’,denoting size of queue, Next line contains s space separated numbers\n",
    "\n",
    "**Output Description:**\n",
    "\n",
    "Print the reversed queue.\n",
    "\n",
    "**Sample Input:**\n",
    "\n",
    "6\n",
    "\n",
    "1 2 3 4 5 6\n",
    "\n",
    "**Sample Output:**\n",
    "\n",
    "6 5 4 3 2 1"
   ]
  },
  {
   "cell_type": "code",
   "execution_count": 9,
   "metadata": {},
   "outputs": [
    {
     "name": "stdout",
     "output_type": "stream",
     "text": [
      "6 5 4 3 2 1\n"
     ]
    }
   ],
   "source": [
    "from collections import deque\n",
    "\n",
    "def reverse_queue(queue):\n",
    "    stack = []\n",
    "\n",
    "    while queue:\n",
    "        stack.append(queue.popleft())\n",
    "\n",
    "    while stack:\n",
    "        queue.append(stack.pop())    \n",
    "    return queue\n",
    "\n",
    "n = int(input())\n",
    "queue = deque(map(int, input().split()))\n",
    "reversed_queue = reverse_queue(queue)\n",
    "print(\" \".join(map(str, reversed_queue)))"
   ]
  },
  {
   "cell_type": "markdown",
   "metadata": {},
   "source": [
    "### **10. Ram wants to be a leader. He is fascinated by any puzzle or news that has the word ‘leader’ in it. He comes across a puzzle about finding a leader amongst a list of numbers and is intrigued by the puzzle. As Ram is not good in either maths or logic, he is unable to solve the puzzle. Help Ram by finding out the leader among a given set of positive numbers.**\n",
    "\n",
    "Note: An element in an array is a leader if it is greater than or equal to all the elements to its right side. Also, the rightmost element is always a leader.\n",
    "\n",
    "**Constraints:**\n",
    "\n",
    "1 <= N <= 100\n",
    "\n",
    "0 <= A[i] <= 100\n",
    "\n",
    "**Input Description:**\n",
    "\n",
    "The first line contains a single integer N denoting the size of array. The second line contains N space-separated integers denoting the elements of the array.\n",
    "\n",
    "**Output Description:**\n",
    "\n",
    "Print all the leaders.\n",
    "\n",
    "**Sample Input:**\n",
    "\n",
    "6\n",
    "\n",
    "16 17 4 3 5 2\n",
    "\n",
    "**Sample Output:**\n",
    "\n",
    "17 5 2"
   ]
  },
  {
   "cell_type": "code",
   "execution_count": null,
   "metadata": {},
   "outputs": [
    {
     "name": "stdout",
     "output_type": "stream",
     "text": [
      "17 5 2\n"
     ]
    }
   ],
   "source": [
    "def find_leaders(arr):\n",
    "    n = len(arr)\n",
    "    leaders = []\n",
    "    max_right = arr[n - 1]\n",
    "    leaders.append(max_right)\n",
    "    \n",
    "    # Traverse from right to left\n",
    "    for i in range(n - 2, -1, -1):\n",
    "        if arr[i] >= max_right:\n",
    "            leaders.append(arr[i])\n",
    "            max_right = arr[i]\n",
    "    \n",
    "    # Reverse the list to print in the original order\n",
    "    leaders.reverse()\n",
    "    return leaders\n",
    "\n",
    "N = int(input())\n",
    "arr = list(map(int, input().split()))\n",
    "result = find_leaders(arr)\n",
    "print(' '.join(map(str, result)))"
   ]
  },
  {
   "cell_type": "markdown",
   "metadata": {},
   "source": [
    "### **11. Given a string S of length N, print all permutations of the string in a separate line.**\n",
    "\n",
    "Input Size : 1 <= N <= 100000\n",
    "\n",
    "**Sample Testcases:**\n",
    "\n",
    "**INPUT**\n",
    "\n",
    "123\n",
    "\n",
    "**OUTPUT**\n",
    "\n",
    "123\n",
    "\n",
    "231\n",
    "\n",
    "321\n",
    "\n",
    "213\n",
    "\n",
    "312\n",
    "\n",
    "132"
   ]
  },
  {
   "cell_type": "code",
   "execution_count": 11,
   "metadata": {},
   "outputs": [
    {
     "name": "stdout",
     "output_type": "stream",
     "text": [
      "123\n",
      "132\n",
      "213\n",
      "231\n",
      "312\n",
      "321\n"
     ]
    }
   ],
   "source": [
    "import itertools\n",
    "\n",
    "def print_permutations(s):\n",
    "    permutations = itertools.permutations(s)\n",
    "    for perm in permutations:\n",
    "        print(''.join(perm))\n",
    "\n",
    "s = input()\n",
    "print_permutations(s)"
   ]
  },
  {
   "cell_type": "markdown",
   "metadata": {},
   "source": [
    "### **12. You are given with an array. For each element present in the array your task is to print the next smallest than that number. If it is not smallest print -1**\n",
    "\n",
    "**Input Description:**\n",
    "\n",
    "You are given a number ‘n’ representing size of array. And n space separated numbers.\n",
    "\n",
    "**Output Description:**\n",
    "\n",
    "Print the next smallest number present in array and -1 if no smallest is present\n",
    "\n",
    "**Sample Input:**\n",
    "\n",
    "7\n",
    "\n",
    "10 7 9 3 2 1 15\n",
    "\n",
    "**Sample Output:**\n",
    "\n",
    "7 3 3 2 1 -1 -1"
   ]
  },
  {
   "cell_type": "code",
   "execution_count": 12,
   "metadata": {},
   "outputs": [
    {
     "name": "stdout",
     "output_type": "stream",
     "text": [
      "7 3 3 2 1 -1 -1\n"
     ]
    }
   ],
   "source": [
    "n = int(input())\n",
    "arr = list(map(int, input().split()))\n",
    "\n",
    "result = [-1] * n\n",
    "stack = []\n",
    "\n",
    "for i in range(n - 1, -1, -1):\n",
    "    while stack and stack[-1] >= arr[i]:\n",
    "        stack.pop()\n",
    "    if stack:\n",
    "        result[i] = stack[-1]\n",
    "    stack.append(arr[i])\n",
    "print(' '.join(map(str, result)))"
   ]
  },
  {
   "cell_type": "markdown",
   "metadata": {},
   "source": [
    "### **13. Given a string as input, you have to reverse the string by keeping the punctuation and spaces intact. You have to modify the source string itself without creating another string.**\n",
    "\n",
    "**Input Description:**\n",
    "\n",
    "1<=string length<=500\n",
    "\n",
    "**Output Description:**\n",
    "\n",
    "Print the string in reverse\n",
    "\n",
    "**Sample Input:**\n",
    "\n",
    "A man, in the boat says : I see 1-2-3 in the sky\n",
    "\n",
    "**Sample Output:**\n",
    "\n",
    "y kse, ht ni3 21ee sIsy : a sta o-b-e ht nin amA"
   ]
  },
  {
   "cell_type": "code",
   "execution_count": 13,
   "metadata": {},
   "outputs": [
    {
     "name": "stdout",
     "output_type": "stream",
     "text": [
      "y kse, ht ni3 21ee sIsy : a sta o-b-e ht nin amA\n"
     ]
    }
   ],
   "source": [
    "def reverse_string_with_punctuation(s):\n",
    "    char_list = list(s)\n",
    "    \n",
    "    left, right = 0, len(char_list) - 1\n",
    "    \n",
    "    while left < right:\n",
    "        if not char_list[left].isalnum():\n",
    "            left += 1\n",
    "        elif not char_list[right].isalnum():\n",
    "            right -= 1\n",
    "        else:\n",
    "            char_list[left], char_list[right] = char_list[right], char_list[left]\n",
    "            left += 1\n",
    "            right -= 1\n",
    "    \n",
    "    reversed_string = ''.join(char_list)\n",
    "    return reversed_string\n",
    "\n",
    "input_string = input()\n",
    "result = reverse_string_with_punctuation(input_string)\n",
    "print(result)"
   ]
  },
  {
   "cell_type": "markdown",
   "metadata": {},
   "source": [
    "### 14. A heap can be represented as an array as it is a complete binary tree. The element at heap[i] is the parent of heap[2*i] and\n",
    "heap[2*i + 1]. (i >= 1). Determine if a given array is a min-heap, max-heap or neither.\n",
    "\n",
    "**Input Description:**\n",
    "\n",
    "The first line contains an Integer N denoting the number of citizens. The next line contains N space separated integers A[i] (1 <= i <= N) (N > 1)\n",
    "\n",
    "**Output Description:**\n",
    "\n",
    "If the given array is a min-heap print MIN If the given array is a max-heap print MAX Print NONE if it is neither.\n",
    "\n",
    "**Sample Input:**\n",
    "\n",
    "3\n",
    "\n",
    "1 2 3\n",
    "\n",
    "**Sample Output:**\n",
    "\n",
    "MIN"
   ]
  },
  {
   "cell_type": "code",
   "execution_count": 14,
   "metadata": {},
   "outputs": [
    {
     "name": "stdout",
     "output_type": "stream",
     "text": [
      "MIN\n"
     ]
    }
   ],
   "source": [
    "def determine_heap_type(n, arr):\n",
    "    is_min_heap = True\n",
    "    is_max_heap = True\n",
    "    \n",
    "    for i in range(1, (n // 2) + 1):\n",
    "        left = 2 * i\n",
    "        right = 2 * i + 1\n",
    "        if left <= n:\n",
    "            if arr[i - 1] > arr[left - 1]:\n",
    "                is_min_heap = False\n",
    "            if arr[i - 1] < arr[left - 1]:\n",
    "                is_max_heap = False\n",
    "        if right <= n:\n",
    "            if arr[i - 1] > arr[right - 1]:\n",
    "                is_min_heap = False\n",
    "            if arr[i - 1] < arr[right - 1]:\n",
    "                is_max_heap = False\n",
    "    \n",
    "    if is_min_heap:\n",
    "        return \"MIN\"\n",
    "    elif is_max_heap:\n",
    "        return \"MAX\"\n",
    "    else:\n",
    "        return \"NONE\"\n",
    "        \n",
    "n = int(input())\n",
    "arr = list(map(int, input().split()))\n",
    "print(determine_heap_type(n, arr))"
   ]
  },
  {
   "cell_type": "markdown",
   "metadata": {},
   "source": [
    "### **15. Mr. Kanga had a PhD in Heap Algorithms. Today, he was given a list of strings in random order. Help him sort the list in increasing order(lexicographically increasing) using heap sort.**\n",
    "\n",
    "**Input Description:**\n",
    "\n",
    "The first line is an integer N denoting the number of strings. The next line contains N space separated strings containing lower case English Alphabets.\n",
    "\n",
    "**Output Description:**\n",
    "\n",
    "Print N space separated strings in increasing order.\n",
    "\n",
    "**Sample Input:**\n",
    "\n",
    "2\n",
    "\n",
    "bag axe\n",
    "\n",
    "**Sample Output:**\n",
    "\n",
    "axe bag"
   ]
  },
  {
   "cell_type": "code",
   "execution_count": 15,
   "metadata": {},
   "outputs": [
    {
     "name": "stdout",
     "output_type": "stream",
     "text": [
      "axe bag\n"
     ]
    }
   ],
   "source": [
    "import heapq\n",
    "\n",
    "n = int(input())\n",
    "strings = input().split()\n",
    "heapq.heapify(strings)\n",
    "sorted_strings = [heapq.heappop(strings) for _ in range(n)]\n",
    "print(\" \".join(sorted_strings))"
   ]
  },
  {
   "cell_type": "markdown",
   "metadata": {},
   "source": [
    "### **16. You are provided with a string ‘s’. Your task is to reverse the string using stack Data Structure.**\n",
    "\n",
    "**Input Description:**\n",
    "\n",
    "You are given a string ‘s’.\n",
    "\n",
    "**Output Description:**\n",
    "\n",
    "Print the reverse string\n",
    "\n",
    "**Sample Input:**\n",
    "\n",
    "i am jsb\n",
    "\n",
    "**Sample Output:**\n",
    "\n",
    "jsb am i"
   ]
  },
  {
   "cell_type": "code",
   "execution_count": 16,
   "metadata": {},
   "outputs": [
    {
     "name": "stdout",
     "output_type": "stream",
     "text": [
      "jsb am i\n"
     ]
    }
   ],
   "source": [
    "def reverse_string_with_stack(s):\n",
    "    stack = []\n",
    "    for word in s.split():\n",
    "        stack.append(word)\n",
    "\n",
    "    reversed_string = []\n",
    "    while stack:\n",
    "        reversed_string.append(stack.pop())\n",
    "    return \" \".join(reversed_string)\n",
    "\n",
    "s = input()\n",
    "print(reverse_string_with_stack(s))"
   ]
  },
  {
   "cell_type": "markdown",
   "metadata": {},
   "source": [
    "### **17. You are provided with an array. Your task is to print the count of subarray whose maximum element is strictly greater than ‘k’.**\n",
    "\n",
    "**Input Description:**\n",
    "\n",
    "First line contains two element ‘N’ and ‘k’.Second line contains ‘n’ space separated numbers.\n",
    "\n",
    "**Output Description:**\n",
    "\n",
    "Print the count of subarray whose maximum element’s value is strictly greater than ‘k’.\n",
    "\n",
    "**Sample Input:**\n",
    "\n",
    "5 4\n",
    "\n",
    "1 6 7 8 9\n",
    "\n",
    "**Sample Output:**\n",
    "\n",
    "14"
   ]
  },
  {
   "cell_type": "code",
   "execution_count": null,
   "metadata": {},
   "outputs": [],
   "source": [
    "def count_subarrays_with_max_greater_than_k(n, k, arr):\n",
    "    count = 0\n",
    "    for start in range(n):\n",
    "        for end in range(start, n):\n",
    "            if max(arr[start:end+1]) > k:\n",
    "                count += 1\n",
    "    return count\n",
    "    \n",
    "n, k = map(int, input().split())\n",
    "arr = list(map(int, input().split()))\n",
    "print(count_subarrays_with_max_greater_than_k(n, k, arr))"
   ]
  },
  {
   "cell_type": "markdown",
   "metadata": {},
   "source": [
    "### **18. Ramesh is given  a task to generalise the array. An array is called generalise if median of that array is equal to sum ‘k’.Ramesh has less knowledge amongst median so he decided to take help from you.Your task is to count the number of elements that you must add to the median of given array equal to a number ‘k’.**\n",
    "\n",
    "**Input Description:**\n",
    "\n",
    "First line contains a number ‘n’.next line contains n space separated numbers.next line contains a number ‘k’\n",
    "\n",
    "**Output Description:**\n",
    "\n",
    "Print the count required in order to make the median of array equal to k\n",
    "\n",
    "**Sample Input:**\n",
    "\n",
    "6 \n",
    "\n",
    "10 20 30 100 150 200\n",
    "\n",
    "30\n",
    "\n",
    "**Sample Output:**\n",
    "\n",
    "1"
   ]
  },
  {
   "cell_type": "code",
   "execution_count": 17,
   "metadata": {},
   "outputs": [
    {
     "name": "stdout",
     "output_type": "stream",
     "text": [
      "1\n"
     ]
    }
   ],
   "source": [
    "def count_elements_to_add_for_median(n, arr, k):\n",
    "    arr.sort()\n",
    "    \n",
    "    def find_median(arr):\n",
    "        n = len(arr)\n",
    "        if n % 2 == 1:\n",
    "            return arr[n // 2]\n",
    "        else:\n",
    "            return (arr[n // 2 - 1] + arr[n // 2]) / 2\n",
    "            \n",
    "    median = find_median(arr)\n",
    "    if median == k:\n",
    "        return 0\n",
    "\n",
    "    count = 0\n",
    "    while find_median(arr) != k:\n",
    "        arr.append(k)\n",
    "        arr.sort()\n",
    "        count += 1\n",
    "    return count\n",
    "\n",
    "n = int(input())\n",
    "arr = list(map(int, input().split()))\n",
    "k = int(input())\n",
    "print(count_elements_to_add_for_median(n, arr, k))"
   ]
  }
 ],
 "metadata": {
  "kernelspec": {
   "display_name": "py12",
   "language": "python",
   "name": "python3"
  },
  "language_info": {
   "codemirror_mode": {
    "name": "ipython",
    "version": 3
   },
   "file_extension": ".py",
   "mimetype": "text/x-python",
   "name": "python",
   "nbconvert_exporter": "python",
   "pygments_lexer": "ipython3",
   "version": "3.12.7"
  }
 },
 "nbformat": 4,
 "nbformat_minor": 2
}
