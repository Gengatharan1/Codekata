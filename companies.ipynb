{
 "cells": [
  {
   "cell_type": "markdown",
   "metadata": {},
   "source": [
    "### **1. Given the values of a,b and x in the equation ax + b = y. Find the value of y.**\n",
    "\n",
    "**Sample Testcase:**\n",
    "\n",
    "**INPUT**\n",
    "\n",
    "3 5 2\n",
    "\n",
    "**OUTPUT**\n",
    "\n",
    "11"
   ]
  },
  {
   "cell_type": "code",
   "execution_count": null,
   "metadata": {},
   "outputs": [
    {
     "name": "stdout",
     "output_type": "stream",
     "text": [
      "11\n"
     ]
    }
   ],
   "source": [
    "def calculate_y(a, b, x):\n",
    "    return a * x + b\n",
    "\n",
    "a, b, x = map(int, input().split())\n",
    "y = calculate_y(a, b, x)\n",
    "print(y)"
   ]
  },
  {
   "cell_type": "markdown",
   "metadata": {},
   "source": [
    "### **2. Given a number N and array of N integers, print the difference between the indices of smallest and largest number(if there are multiple occurances, consider the first occurance).**\n",
    "\n",
    "Input Size : |N| <= 1000000\n",
    "\n",
    "**Sample Testcase:**\n",
    "\n",
    "**INPUT**\n",
    "\n",
    "5\n",
    "\n",
    "3 5 4 4 7\n",
    "\n",
    "**OUTPUT**\n",
    "\n",
    "4"
   ]
  },
  {
   "cell_type": "code",
   "execution_count": 2,
   "metadata": {},
   "outputs": [
    {
     "name": "stdout",
     "output_type": "stream",
     "text": [
      "4\n"
     ]
    }
   ],
   "source": [
    "def index_difference_min_max(N, arr):\n",
    "    if N == 0:\n",
    "        print(-1)\n",
    "        return\n",
    "\n",
    "    min_value = float('inf')\n",
    "    max_value = float('-inf')\n",
    "    min_index = -1\n",
    "    max_index = -1\n",
    "\n",
    "    for i in range(N):\n",
    "        if arr[i] < min_value:\n",
    "            min_value = arr[i]\n",
    "            min_index = i\n",
    "        if arr[i] > max_value:\n",
    "            max_value = arr[i]\n",
    "            max_index = i\n",
    "\n",
    "    index_difference = abs(max_index - min_index)\n",
    "    print(index_difference)\n",
    "\n",
    "N = int(input())\n",
    "arr = list(map(int, input().split()))\n",
    "index_difference_min_max(N, arr)"
   ]
  },
  {
   "cell_type": "markdown",
   "metadata": {},
   "source": [
    "### **3. How many possible ways are to shuffle given number of playing cards?.**\n",
    "\n",
    "Input Size : |N| <= 1000000\n",
    "\n",
    "**Sample Testcase:**\n",
    "\n",
    "**INPUT**\n",
    "\n",
    "7\n",
    "\n",
    "**OUTPUT**\n",
    "\n",
    "5040"
   ]
  },
  {
   "cell_type": "code",
   "execution_count": 3,
   "metadata": {},
   "outputs": [
    {
     "name": "stdout",
     "output_type": "stream",
     "text": [
      "5040\n"
     ]
    }
   ],
   "source": [
    "import math\n",
    "\n",
    "N = int(input(\"Enter the number of cards: \"))\n",
    "\n",
    "# Calculate factorial\n",
    "if N <= 1000000:\n",
    "    result = math.factorial(N)\n",
    "    print(result)\n",
    "else:\n",
    "    print(\"Input size exceeds the limit.\")"
   ]
  },
  {
   "cell_type": "markdown",
   "metadata": {},
   "source": [
    "### **4. Given 2 arrays print 'yes' if they are mirror images of each other,otherwise 'no'.**\n",
    "\n",
    "Input Size : N <= 1000000\n",
    "\n",
    "**Sample Testcase:**\n",
    "\n",
    "**INPUT**\n",
    "\n",
    "4\n",
    "\n",
    "1 2 3 4\n",
    "\n",
    "4 3 2 1\n",
    "\n",
    "**OUTPUT**\n",
    "\n",
    "yes"
   ]
  },
  {
   "cell_type": "code",
   "execution_count": 5,
   "metadata": {},
   "outputs": [
    {
     "name": "stdout",
     "output_type": "stream",
     "text": [
      "yes\n"
     ]
    }
   ],
   "source": [
    "def are_mirror_images(arr1, arr2, N):\n",
    "    if arr1 == arr2[::-1]:\n",
    "        return \"yes\"\n",
    "    else:\n",
    "        return \"no\"\n",
    "\n",
    "N = int(input())\n",
    "arr1 = list(map(int, input().split()))\n",
    "arr2 = list(map(int, input().split()))\n",
    "print(are_mirror_images(arr1, arr2, N))"
   ]
  },
  {
   "cell_type": "markdown",
   "metadata": {},
   "source": [
    "### **5. Given base(B) and height(H) of a triangle find its area.**\n",
    "\n",
    "Input Size : N <= 1000000\n",
    "\n",
    "**Sample Testcase:**\n",
    "\n",
    "**INPUT**\n",
    "\n",
    "2 4\n",
    "\n",
    "**OUTPUT**\n",
    "\n",
    "4"
   ]
  },
  {
   "cell_type": "code",
   "execution_count": 4,
   "metadata": {},
   "outputs": [
    {
     "name": "stdout",
     "output_type": "stream",
     "text": [
      "4.0\n"
     ]
    }
   ],
   "source": [
    "def calculate_triangle_area(B, H):\n",
    "    return (1/2) * B * H\n",
    "\n",
    "B, H = map(int, input().split())\n",
    "area = calculate_triangle_area(B, H)\n",
    "print(area)"
   ]
  },
  {
   "cell_type": "markdown",
   "metadata": {},
   "source": [
    "### **6. Given a number N and an array of N strings,Print yes, if all strings have atleast one vowel in them otherwise print no.**\n",
    "\n",
    "Input Size : N <= 1000\n",
    "\n",
    "**Sample Testcase:**\n",
    "\n",
    "**INPUT**\n",
    "\n",
    "5\n",
    "\n",
    "code\n",
    "\n",
    "overload\n",
    "\n",
    "vishal\n",
    "\n",
    "sundar\n",
    "\n",
    "anish\n",
    "\n",
    "**OUTPUT**\n",
    "\n",
    "yes"
   ]
  },
  {
   "cell_type": "code",
   "execution_count": 6,
   "metadata": {},
   "outputs": [
    {
     "name": "stdout",
     "output_type": "stream",
     "text": [
      "yes\n"
     ]
    }
   ],
   "source": [
    "def contains_vowel(s):\n",
    "    vowels = \"aeiouAEIOU\"\n",
    "    for char in s:\n",
    "        if char in vowels:\n",
    "            return True\n",
    "    return False\n",
    "\n",
    "def check_all_strings_have_vowels(N, strings):\n",
    "    for string in strings:\n",
    "        if not contains_vowel(string):\n",
    "            return \"no\"\n",
    "    return \"yes\"\n",
    "\n",
    "N = int(input())\n",
    "strings = [input().strip() for _ in range(N)]\n",
    "print(check_all_strings_have_vowels(N, strings))"
   ]
  },
  {
   "cell_type": "markdown",
   "metadata": {},
   "source": [
    "### **7. Given a string and a number K, change every kth character to uppercase from beginning in string.**\n",
    "\n",
    "**Sample Testcase:**\n",
    "\n",
    "**INPUT**\n",
    "\n",
    "string 2\n",
    "\n",
    "**OUTPUT**\n",
    "\n",
    "sTrInG"
   ]
  },
  {
   "cell_type": "code",
   "execution_count": null,
   "metadata": {},
   "outputs": [
    {
     "name": "stdout",
     "output_type": "stream",
     "text": [
      "sTrInG\n"
     ]
    }
   ],
   "source": [
    "my_str, num = input().split()\n",
    "num = int(num)\n",
    "\n",
    "# Check if the given num is positive\n",
    "if num > 0:\n",
    "    my_str_list = list(my_str)\n",
    "    \n",
    "    # Modify every kth character to uppercase\n",
    "    for i in range(num - 1, len(my_str_list), num):\n",
    "        my_str_list[i] = my_str_list[i].upper()\n",
    "    my_str = ''.join(my_str_list)\n",
    "    print(my_str)\n",
    "else:\n",
    "    print(my_str)"
   ]
  },
  {
   "cell_type": "markdown",
   "metadata": {},
   "source": [
    "### **8. Given a string S ,print the vowels first and then consonants in the same order as they have occurred in the string.**\n",
    "\n",
    "Input Size : N <= 10000\n",
    "\n",
    "**Sample Testcase:**\n",
    "\n",
    "**INPUT**\n",
    "\n",
    "GuVI\n",
    "\n",
    "**OUTPUT**\n",
    "\n",
    "uIGV"
   ]
  },
  {
   "cell_type": "code",
   "execution_count": 8,
   "metadata": {},
   "outputs": [
    {
     "name": "stdout",
     "output_type": "stream",
     "text": [
      "uIGV\n"
     ]
    }
   ],
   "source": [
    "def separate_vowels_consonants(S):\n",
    "    vowels = \"aeiouAEIOU\"\n",
    "    vowel_part = \"\"\n",
    "    consonant_part = \"\"\n",
    "    \n",
    "    for char in S:\n",
    "        if char in vowels:\n",
    "            vowel_part += char\n",
    "        elif char.isalpha():\n",
    "            consonant_part += char\n",
    "    print(vowel_part + consonant_part)\n",
    "\n",
    "S = input().strip()\n",
    "separate_vowels_consonants(S)"
   ]
  },
  {
   "cell_type": "markdown",
   "metadata": {},
   "source": [
    "### **9. Given a number 'N' print the sum of each digit to the power of number of digits in given input.**\n",
    "\n",
    "**Example:**\n",
    "\n",
    "Input => 1234\n",
    "=> ( 1 ^ 4 ) + ( 2 ^ 4 ) + ( 3 ^ 4 ) + ( 4 ^ 4 )\n",
    "=> 1 + 16 + 81 + 256\n",
    "\n",
    "Output => 354\n",
    "N <=100000000000\n",
    "\n",
    "**Sample Testcase:**\n",
    "\n",
    "**INPUT**\n",
    "\n",
    "1234\n",
    "\n",
    "**OUTPUT**\n",
    "\n",
    "354"
   ]
  },
  {
   "cell_type": "code",
   "execution_count": null,
   "metadata": {},
   "outputs": [
    {
     "name": "stdout",
     "output_type": "stream",
     "text": [
      "354\n"
     ]
    }
   ],
   "source": [
    "def sum_of_powers(n):\n",
    "    str_n = str(n)\n",
    "    num_digits = len(str_n)\n",
    "    total_sum = 0\n",
    "    \n",
    "    for digit in str_n:\n",
    "        total_sum += int(digit) ** num_digits\n",
    "    return total_sum\n",
    "\n",
    "n = int(input())\n",
    "result = sum_of_powers(n)\n",
    "print(result)"
   ]
  },
  {
   "cell_type": "markdown",
   "metadata": {},
   "source": [
    "### **10. Given a number N followed by a list of N numbers. Write a program to reverse the list and print the list.**\n",
    "\n",
    "Input Size : 1 <= N <= 10000\n",
    "\n",
    "**Sample Testcases:**\n",
    "\n",
    "**INPUT**\n",
    "\n",
    "7\n",
    "\n",
    "1 2 3 4 5 6 7\n",
    "\n",
    "**OUTPUT**\n",
    "\n",
    "7->6->5->4->3->2->1"
   ]
  },
  {
   "cell_type": "code",
   "execution_count": null,
   "metadata": {},
   "outputs": [
    {
     "name": "stdout",
     "output_type": "stream",
     "text": [
      "7->6->5->4->3->2->1\n"
     ]
    }
   ],
   "source": [
    "def reverse_list_and_print(n, numbers):\n",
    "    reversed_list = numbers[::-1]\n",
    "    output = '->'.join(map(str, reversed_list))\n",
    "    print(output)\n",
    "\n",
    "N = int(input())\n",
    "numbers = list(map(int, input().split()))\n",
    "reverse_list_and_print(N, numbers)"
   ]
  },
  {
   "cell_type": "markdown",
   "metadata": {},
   "source": [
    "### **11. Given 2 numbers N,K and an array of N integers, find if the element K exists in the array.**\n",
    "\n",
    "Input Size : N <= 100000\n",
    "\n",
    "**Sample Testcase:**\n",
    "\n",
    "**INPUT**\n",
    "\n",
    "5 2\n",
    "\n",
    "1 2 3 4 5\n",
    "\n",
    "**OUTPUT**\n",
    "\n",
    "yes\n",
    "\n",
    "HINT: Read about Binary Search"
   ]
  },
  {
   "cell_type": "code",
   "execution_count": 11,
   "metadata": {},
   "outputs": [
    {
     "name": "stdout",
     "output_type": "stream",
     "text": [
      "yes\n"
     ]
    }
   ],
   "source": [
    "def binary_search(arr, target):\n",
    "    left, right = 0, len(arr) - 1\n",
    "    \n",
    "    while left <= right:\n",
    "        mid = left + (right - left) // 2\n",
    "        \n",
    "        if arr[mid] == target:\n",
    "            return True\n",
    "        elif arr[mid] < target:\n",
    "            left = mid + 1\n",
    "        else:\n",
    "            right = mid - 1\n",
    "            \n",
    "    return False\n",
    "\n",
    "N, K = map(int, input().split())\n",
    "arr = list(map(int, input().split()))\n",
    "arr.sort()\n",
    "\n",
    "# Perform binary search to find K\n",
    "if binary_search(arr, K):\n",
    "    print(\"yes\")\n",
    "else:\n",
    "    print(\"no\")"
   ]
  },
  {
   "cell_type": "markdown",
   "metadata": {},
   "source": [
    "### **12. Print the position of first 1 from left to right, in binary representation of product of 2 integers after the first one.**\n",
    "\n",
    "**Sample Testcase:**\n",
    "\n",
    "**INPUT**\n",
    "\n",
    "18 2\n",
    "\n",
    "**OUTPUT**\n",
    "\n",
    "4"
   ]
  },
  {
   "cell_type": "code",
   "execution_count": 13,
   "metadata": {},
   "outputs": [
    {
     "name": "stdout",
     "output_type": "stream",
     "text": [
      "4\n"
     ]
    }
   ],
   "source": [
    "def first_one_position(a, b):\n",
    "    product = a * b\n",
    "    if product == 0:\n",
    "        return 0\n",
    "    \n",
    "    # Convert to binary representation\n",
    "    binary_repr = bin(product)[2:]  # Remove the '0b' prefix\n",
    "    \n",
    "    # Find the position of the second '1'\n",
    "    first_one_found = False\n",
    "    for i, bit in enumerate(binary_repr):\n",
    "        if bit == '1':\n",
    "            if first_one_found:\n",
    "                return i + 1\n",
    "            first_one_found = True\n",
    "    return 0\n",
    "\n",
    "a, b = map(int, input().split())\n",
    "position = first_one_position(a, b)\n",
    "print(position)"
   ]
  },
  {
   "cell_type": "markdown",
   "metadata": {},
   "source": [
    "### **13. Given a sentence interchange the between the word 'and'.**\n",
    "\n",
    "Input Size : |S| <= 1000000\n",
    "\n",
    "**Sample Testcase:**\n",
    "\n",
    "**INPUT**\n",
    "\n",
    "jack and jill went up and down to get water\n",
    "\n",
    "**OUTPUT**\n",
    "\n",
    "jill and jack went down and up to get water"
   ]
  },
  {
   "cell_type": "code",
   "execution_count": 14,
   "metadata": {},
   "outputs": [
    {
     "name": "stdout",
     "output_type": "stream",
     "text": [
      "jill and jack went down and up to get water\n"
     ]
    }
   ],
   "source": [
    "def swap_words_around_and(sentence):\n",
    "    words = sentence.split()\n",
    "    i = 0\n",
    "    while i < len(words):\n",
    "        if words[i] == \"and\" and i > 0 and i < len(words) - 1:\n",
    "            words[i-1], words[i+1] = words[i+1], words[i-1]\n",
    "            i += 2\n",
    "        else:\n",
    "            i += 1\n",
    "    return ' '.join(words)\n",
    "\n",
    "sentence = input().strip()\n",
    "print(swap_words_around_and(sentence))"
   ]
  },
  {
   "cell_type": "markdown",
   "metadata": {},
   "source": [
    "### **14. Given a number N print a right angled traingle structure with the starting level as single 1 and every immediate proceeding level with 2 more additional ones than the previous level .Repeat the pattern for N levels.**\n",
    "\n",
    "Input Size : N <= 1000\n",
    "\n",
    "**Sample Testcase:**\n",
    "\n",
    "**INPUT**\n",
    "\n",
    "3\n",
    "\n",
    "**OUTPUT**\n",
    "\n",
    "1\n",
    "\n",
    "1 1 1\n",
    "\n",
    "1 1 1 1 1"
   ]
  },
  {
   "cell_type": "code",
   "execution_count": 15,
   "metadata": {},
   "outputs": [
    {
     "name": "stdout",
     "output_type": "stream",
     "text": [
      "1\n",
      "1 1 1\n",
      "1 1 1 1 1\n"
     ]
    }
   ],
   "source": [
    "N = int(input())\n",
    "k = '1'\n",
    "for i in range(N):\n",
    "    print(k)\n",
    "    k += ' 1 1'"
   ]
  },
  {
   "cell_type": "markdown",
   "metadata": {},
   "source": [
    "### **15. Given a string 'S', sort the characters based on the frequency(highest and lowest) and print the resultant string.(Note:If the frequency of different character is same then sort based on alphabetical order).**\n",
    "\n",
    "Input Size : 1 <= S <= 100000\n",
    "\n",
    "**Sample Testcases:**\n",
    "\n",
    "**INPUT**\n",
    "\n",
    "aabbba\n",
    "\n",
    "**OUTPUT**\n",
    "\n",
    "aaabbb"
   ]
  },
  {
   "cell_type": "code",
   "execution_count": null,
   "metadata": {},
   "outputs": [
    {
     "name": "stdout",
     "output_type": "stream",
     "text": [
      "aaabbb\n"
     ]
    }
   ],
   "source": [
    "from collections import Counter\n",
    "\n",
    "def sort_by_frequency(s):\n",
    "    freq = Counter(s)\n",
    "    \n",
    "    # Sort by frequency (descending), then alphabetically (ascending)\n",
    "    sorted_chars = sorted(freq.items(), key=lambda x: (-x[1], x[0]))\n",
    "    result = ''.join(char * count for char, count in sorted_chars)\n",
    "    return result\n",
    "\n",
    "s = input()\n",
    "print(sort_by_frequency(s))"
   ]
  },
  {
   "cell_type": "markdown",
   "metadata": {},
   "source": [
    "### **16. Roman Reigns want to identify the repeated letters in two given strings and capitalize it.Help him to achieve it.**\n",
    "\n",
    "**Sample Testcase:**\n",
    "\n",
    "**INPUT**\n",
    "\n",
    "computer program\n",
    "\n",
    "**OUTPUT**\n",
    "\n",
    "cOMPuteR PROgRaM"
   ]
  },
  {
   "cell_type": "code",
   "execution_count": null,
   "metadata": {},
   "outputs": [
    {
     "name": "stdout",
     "output_type": "stream",
     "text": [
      "cOMPuteR PROgRaM\n"
     ]
    }
   ],
   "source": [
    "from collections import Counter\n",
    "\n",
    "def capitalize_repeated_letters(words):\n",
    "    combined = ''.join(words)\n",
    "    freq = Counter(combined)\n",
    "    repeated_letters = {ch for ch, count in freq.items() if count > 1}\n",
    "    \n",
    "    # to capitalize repeated letters in a word\n",
    "    def process_word(word):\n",
    "        return ''.join(ch.upper() if ch in repeated_letters else ch for ch in word)\n",
    "    result = [process_word(word) for word in words]\n",
    "    return ' '.join(result)\n",
    "\n",
    "words = input().split()\n",
    "print(capitalize_repeated_letters(words))"
   ]
  },
  {
   "cell_type": "markdown",
   "metadata": {},
   "source": [
    "### **17. A tree is a connected acyclic graph. A bipartite graph is a graph, whose vertices can be partitionedinto 2 sets in such a way, that for each edge (u, v) that belongs to the graph, u and v belong todifferent sets. You can find more formal definitions of a tree and a bipartite graph in the notessection below. Consider a tree consisting of n nodes and add edges to it in such a way, that the graph is stillbipartite. Besides, after adding these edges the graph should be simple (should’nt contain loops ormultiple edges). What is the maximum number of edges they can add? A loop is an edge, which connects a node with itself. Graph doesn't contain multiple edges when foreach pair of nodes there is no more than one edge between them. A cycle and a loop aren't thesame.**\n",
    "\n",
    "Input Size : |N| <= 1000000\n",
    "\n",
    "**Sample Testcase:**\n",
    "\n",
    "**INPUT**\n",
    "\n",
    "5\n",
    "\n",
    "1 2\n",
    "\n",
    "2 3\n",
    "\n",
    "3 4\n",
    "\n",
    "4 5\n",
    "\n",
    "**OUTPUT**\n",
    "\n",
    "2"
   ]
  },
  {
   "cell_type": "code",
   "execution_count": null,
   "metadata": {},
   "outputs": [
    {
     "name": "stdout",
     "output_type": "stream",
     "text": [
      "2\n"
     ]
    }
   ],
   "source": [
    "from collections import defaultdict, deque\n",
    "\n",
    "def max_additional_edges(n, edges):\n",
    "    # Tree adjacency list\n",
    "    graph = defaultdict(list)\n",
    "    for u, v in edges:\n",
    "        graph[u].append(v)\n",
    "        graph[v].append(u)\n",
    "    \n",
    "    # Partition into sets A and B using BFS\n",
    "    color = [-1] * (n + 1)  # -1: unvisited, 0: set A, 1: set B\n",
    "    queue = deque([1])\n",
    "    color[1] = 0  # Start with node 1 in set A\n",
    "    set_sizes = [0, 0]  # Sizes of sets A and B\n",
    "    \n",
    "    while queue:\n",
    "        node = queue.popleft()\n",
    "        set_sizes[color[node]] += 1\n",
    "        for neighbor in graph[node]:\n",
    "            if color[neighbor] == -1:  # Unvisited\n",
    "                color[neighbor] = 1 - color[node]  # Assign to the opposite set\n",
    "                queue.append(neighbor)\n",
    "    \n",
    "    a_size, b_size = set_sizes\n",
    "    max_edges = a_size * b_size - (n - 1)\n",
    "    return max_edges\n",
    "\n",
    "n = int(input())\n",
    "edges = []\n",
    "for _ in range(n - 1):\n",
    "    u, v = map(int, input().split())\n",
    "    edges.append((u, v))\n",
    "print(max_additional_edges(n, edges))"
   ]
  },
  {
   "cell_type": "markdown",
   "metadata": {},
   "source": [
    "### **18. Given a string, print the run-length encoded output.**\n",
    "\n",
    "Input Size : N <= 100000\n",
    "\n",
    "**Sample Testcase:**\n",
    "\n",
    "**INPUT**\n",
    "\n",
    "aaab\n",
    "\n",
    "**OUTPUT**\n",
    "\n",
    "a3b1"
   ]
  },
  {
   "cell_type": "code",
   "execution_count": null,
   "metadata": {},
   "outputs": [
    {
     "name": "stdout",
     "output_type": "stream",
     "text": [
      "a3b1\n"
     ]
    }
   ],
   "source": [
    "def run_length_encoding(s):\n",
    "    result = \"\"\n",
    "    \n",
    "    # Start with the first character\n",
    "    current_char = s[0]\n",
    "    count = 1\n",
    "    \n",
    "    # Iterate over the string starting from the second character\n",
    "    for i in range(1, len(s)):\n",
    "        if s[i] == current_char:\n",
    "            count += 1\n",
    "        else:\n",
    "            result += current_char + str(count)\n",
    "            current_char = s[i]\n",
    "            count = 1\n",
    "    result += current_char + str(count)\n",
    "    return result\n",
    "\n",
    "input_str = input().strip()\n",
    "print(run_length_encoding(input_str))"
   ]
  },
  {
   "cell_type": "markdown",
   "metadata": {},
   "source": [
    "### **19. Given two strings S1 and S2,display 'yes' if given two strings are complementary otherwise display 'no'. If we join alphabets of both the strings we should get all 26 capital letters exactly once, then only we can call them as complementary.**\n",
    "\n",
    "**Sample Testcase:**\n",
    "\n",
    "**INPUT**\n",
    "\n",
    "ABDCFGIJKLMNOPQUVWXYZ\n",
    "\n",
    "EHRST\n",
    "\n",
    "**OUTPUT**\n",
    "\n",
    "yes"
   ]
  },
  {
   "cell_type": "code",
   "execution_count": 30,
   "metadata": {},
   "outputs": [
    {
     "name": "stdout",
     "output_type": "stream",
     "text": [
      "yes\n"
     ]
    }
   ],
   "source": [
    "A =['A','B','C','D','E','F','G','H','I','J','K','L','M','N','O','P','Q','R','S','T','U','V','W','X','Y','Z']\n",
    "\n",
    "A1=input()\n",
    "A2=input()\n",
    "\n",
    "cout=0\n",
    "if len(A1)+len(A2)==len(A):\n",
    "    for i in A1:\n",
    "        if i in A:\n",
    "            A.remove(i)\n",
    "    for i in A2:\n",
    "        if i in A:\n",
    "            A.remove(i)\n",
    "    if len(A)==0:\n",
    "        print('yes')\n",
    "    else:\n",
    "        print('no')\n",
    "else:\n",
    "    print('no')"
   ]
  },
  {
   "cell_type": "code",
   "execution_count": null,
   "metadata": {},
   "outputs": [
    {
     "name": "stdout",
     "output_type": "stream",
     "text": [
      "yes\n"
     ]
    }
   ],
   "source": [
    "# Another method:\n",
    "\n",
    "def are_complementary(s1, s2):\n",
    "    combined = set(s1 + s2)\n",
    "    \n",
    "    # Check if the combined set contains all 26 uppercase English letters\n",
    "    if len(combined) == 26 and all('A' <= ch <= 'Z' for ch in combined):\n",
    "        return \"yes\"\n",
    "    else:\n",
    "        return \"no\"\n",
    "\n",
    "s1 = input().strip()\n",
    "s2 = input().strip()\n",
    "print(are_complementary(s1, s2))"
   ]
  },
  {
   "cell_type": "markdown",
   "metadata": {},
   "source": [
    "### **20. Given a number N, find the smallest number which is greater than N with the same digits in N. If N is the greatest digit print 'impossible'.**\n",
    "\n",
    "Input Size : 1 <= N <= 1000000000000000000\n",
    "\n",
    "**Sample Testcases:**\n",
    "\n",
    "**INPUT**\n",
    "\n",
    "123\n",
    "\n",
    "**OUTPUT**\n",
    "\n",
    "132"
   ]
  },
  {
   "cell_type": "code",
   "execution_count": null,
   "metadata": {},
   "outputs": [
    {
     "name": "stdout",
     "output_type": "stream",
     "text": [
      "132\n"
     ]
    }
   ],
   "source": [
    "def next_greater_number(n):\n",
    "    digits = list(str(n))   # Convert the number to a list of digits\n",
    "    length = len(digits)\n",
    "    \n",
    "    # Find the pivot\n",
    "    i = length - 2\n",
    "    while i >= 0 and digits[i] >= digits[i + 1]:\n",
    "        i -= 1\n",
    "    \n",
    "    # If no pivot is found, it's the greatest permutation\n",
    "    if i == -1:\n",
    "        return \"impossible\"\n",
    "    \n",
    "    # Find the smallest larger digit to the right of the pivot\n",
    "    j = length - 1\n",
    "    while digits[j] <= digits[i]:\n",
    "        j -= 1\n",
    "    \n",
    "    # Swap the pivot with the smallest larger digit\n",
    "    digits[i], digits[j] = digits[j], digits[i]\n",
    "    \n",
    "    # Reverse the suffix\n",
    "    digits = digits[:i + 1] + digits[i + 1:][::-1]\n",
    "    \n",
    "    # Convert back to integer and return\n",
    "    return int(\"\".join(digits))\n",
    "\n",
    "n = int(input().strip())\n",
    "print(next_greater_number(n))"
   ]
  },
  {
   "cell_type": "markdown",
   "metadata": {},
   "source": [
    "### **21. Given a string 'S' print the substring of maximum length which is not a palindrome.If more than one solution is possible print the solution which you obtained by performing elimination at the end of the string.**\n",
    "\n",
    "Input Size : 1 <= length <= 1000\n",
    "\n",
    "**Sample Testcases:**\n",
    "\n",
    "**INPUT**\n",
    "\n",
    "ababababa\n",
    "\n",
    "**OUTPUT**\n",
    "\n",
    "abababab\n",
    "\n",
    "**INPUT**\n",
    "\n",
    "hello\n",
    "\n",
    "**OUTPUT**\n",
    "\n",
    "hello"
   ]
  },
  {
   "cell_type": "code",
   "execution_count": null,
   "metadata": {},
   "outputs": [
    {
     "name": "stdout",
     "output_type": "stream",
     "text": [
      "abababab\n"
     ]
    }
   ],
   "source": [
    "def is_palindrome(s):\n",
    "    return s == s[::-1]\n",
    "\n",
    "def longest_non_palindrome_substring(s):\n",
    "    if not is_palindrome(s):\n",
    "        return s\n",
    "\n",
    "    for i in range(len(s) - 1, 0, -1):\n",
    "        substring = s[:i]\n",
    "        if not is_palindrome(substring):\n",
    "            return substring\n",
    "    return \"\"\n",
    "\n",
    "s = input().strip()\n",
    "print(longest_non_palindrome_substring(s))"
   ]
  },
  {
   "cell_type": "markdown",
   "metadata": {},
   "source": [
    "### **22. Given a number n followed by n numbers. Find the numbers which are equal to their index value and print them in sorted order. If no such numbers are present print '-1' without quotes.**\n",
    "\n",
    "Input Size : 1 <= n <= 100000\n",
    "\n",
    "**Sample Testcases:**\n",
    "\n",
    "**INPUT**\n",
    "\n",
    "6\n",
    "\n",
    "6 7 3 3 4 5\n",
    "\n",
    "**OUTPUT**\n",
    "\n",
    "3 4 5"
   ]
  },
  {
   "cell_type": "code",
   "execution_count": 29,
   "metadata": {},
   "outputs": [
    {
     "name": "stdout",
     "output_type": "stream",
     "text": [
      "3 4 5\n"
     ]
    }
   ],
   "source": [
    "def find_numbers_matching_index(n, numbers):\n",
    "    # Collect numbers that match their 1-based index\n",
    "    result = [numbers[i] for i in range(n) if numbers[i] == i]\n",
    "    \n",
    "    # Sort the result and print as required\n",
    "    if result:\n",
    "        print(\" \".join(map(str, sorted(result))))\n",
    "    else:\n",
    "        print(\"-1\")\n",
    "\n",
    "n = int(input().strip())\n",
    "numbers = list(map(int, input().strip().split()))\n",
    "find_numbers_matching_index(n, numbers)"
   ]
  },
  {
   "cell_type": "markdown",
   "metadata": {},
   "source": [
    "### **23. Given 2 numbers A,B. Print the GCD of A! and B!.**\n",
    "\n",
    "**Sample Testcase:**\n",
    "\n",
    "**INPUT**\n",
    "\n",
    "4 2\n",
    "\n",
    "**OUTPUT**\n",
    "\n",
    "2"
   ]
  },
  {
   "cell_type": "code",
   "execution_count": null,
   "metadata": {},
   "outputs": [
    {
     "name": "stdout",
     "output_type": "stream",
     "text": [
      "2\n"
     ]
    }
   ],
   "source": [
    "import math\n",
    "\n",
    "def gcd_of_factorials(a, b):\n",
    "    min_value = min(a, b)\n",
    "    result = math.factorial(min_value)\n",
    "    print(result)\n",
    "\n",
    "a, b = map(int, input().split())\n",
    "gcd_of_factorials(a, b)"
   ]
  },
  {
   "cell_type": "markdown",
   "metadata": {},
   "source": [
    "### **24. Given 2 numbers N,K and N arrays each of size K, print the elements that have appeared in all arrays,if any element are not same print '-1'.**\n",
    "\n",
    "Input Size : 2 <= N, K <= 100000\n",
    "\n",
    "**Sample Testcases:**\n",
    "\n",
    "**INPUT**\n",
    "\n",
    "2 3\n",
    "\n",
    "1 0 2\n",
    "\n",
    "0 8 7\n",
    "\n",
    "**OUTPUT**\n",
    "\n",
    "0"
   ]
  },
  {
   "cell_type": "code",
   "execution_count": null,
   "metadata": {},
   "outputs": [
    {
     "name": "stdout",
     "output_type": "stream",
     "text": [
      "0\n"
     ]
    }
   ],
   "source": [
    "def find_common_elements(N, K, arrays):\n",
    "    common_elements = set(arrays[0])\n",
    "    \n",
    "    # Iterate through the remaining arrays and update the common_elements set\n",
    "    for i in range(1, N):\n",
    "        common_elements &= set(arrays[i])  # Intersection\n",
    "    if not common_elements:\n",
    "        print(-1)\n",
    "    else:\n",
    "        print(\" \".join(map(str, sorted(common_elements))))\n",
    "\n",
    "N, K = map(int, input().split())\n",
    "arrays = [list(map(int, input().split())) for _ in range(N)]\n",
    "find_common_elements(N, K, arrays)"
   ]
  },
  {
   "cell_type": "markdown",
   "metadata": {},
   "source": [
    "### **25. Given a number N followed by N numbers(negative or positive) print the maximum sum of any subarray of the array.**\n",
    "\n",
    "Input Size : 1 <= N <= 100000\n",
    "\n",
    "**Sample Testcases:**\n",
    "\n",
    "**INPUT**\n",
    "\n",
    "7\n",
    "\n",
    "1 2 3 4 5 6 7\n",
    "\n",
    "**OUTPUT**\n",
    "\n",
    "28"
   ]
  },
  {
   "cell_type": "code",
   "execution_count": null,
   "metadata": {},
   "outputs": [
    {
     "name": "stdout",
     "output_type": "stream",
     "text": [
      "28\n"
     ]
    }
   ],
   "source": [
    "def max_subarray_sum(N, arr):\n",
    "    current_sum = arr[0]\n",
    "    max_sum = arr[0]\n",
    "    \n",
    "    for i in range(1, N):\n",
    "        current_sum = max(arr[i], current_sum + arr[i])\n",
    "        max_sum = max(max_sum, current_sum)    \n",
    "    return max_sum\n",
    "\n",
    "N = int(input())\n",
    "arr = list(map(int, input().split()))\n",
    "result = max_subarray_sum(N, arr)\n",
    "print(result)"
   ]
  },
  {
   "cell_type": "markdown",
   "metadata": {},
   "source": [
    "### **26. Given a number N followed by an array of N numbers. Another number D is given. Rotate the array D times and print the array.**\n",
    "\n",
    "Input Size : N <= 100000, D<=100000\n",
    "\n",
    "**Sample Testcase:**\n",
    "\n",
    "**INPUT**\n",
    "\n",
    "4 1\n",
    "\n",
    "3 2 4 1\n",
    "\n",
    "**OUTPUT**\n",
    "\n",
    "2 4 1 3"
   ]
  },
  {
   "cell_type": "code",
   "execution_count": null,
   "metadata": {},
   "outputs": [
    {
     "name": "stdout",
     "output_type": "stream",
     "text": [
      "2 4 1 3\n"
     ]
    }
   ],
   "source": [
    "def rotate_array(N, D, arr):\n",
    "    D = D % N   # Calculate the effective number of rotations\n",
    "    rotated_arr = arr[D:] + arr[:D]     # Rotate the array by slicing\n",
    "    print(\" \".join(map(str, rotated_arr)))\n",
    "\n",
    "N, D = map(int, input().split())\n",
    "arr = list(map(int, input().split()))\n",
    "rotate_array(N, D, arr)"
   ]
  },
  {
   "cell_type": "markdown",
   "metadata": {},
   "source": [
    "### **27. Write a program to give the following output for the given string S of size N.(character containing even number of occurences should be elaborated else print the same format)**\n",
    "\n",
    "Eg 1: Input: a1b10\n",
    "Output: a1bbbbbbbbbb\n",
    "\n",
    "Eg: 2: Input: b3c6d15\n",
    "Output: b3ccccccd15\n",
    "\n",
    "Input Size : 1 <= N <= 100000\n",
    "\n",
    "**Sample Testcases:**\n",
    "\n",
    "**INPUT**\n",
    "\n",
    "a1b10\n",
    "\n",
    "**OUTPUT**\n",
    "\n",
    "a1bbbbbbbbbb"
   ]
  },
  {
   "cell_type": "code",
   "execution_count": null,
   "metadata": {},
   "outputs": [
    {
     "name": "stdout",
     "output_type": "stream",
     "text": [
      "a1bbbbbbbbbb\n"
     ]
    }
   ],
   "source": [
    "import re\n",
    "\n",
    "def process_string(S):\n",
    "    # Using regular expression to match the pattern (letter followed by number)\n",
    "    pattern = re.compile(r'([a-zA-Z])(\\d+)')\n",
    "    result = []\n",
    "\n",
    "    # Find all matches (character followed by number)\n",
    "    for match in pattern.finditer(S):\n",
    "        char = match.group(1)\n",
    "        count = int(match.group(2))\n",
    "\n",
    "        # If the count is even, repeat the character\n",
    "        if count % 2 == 0:\n",
    "            result.append(char * count)\n",
    "        else:\n",
    "            result.append(f\"{char}{count}\")\n",
    "    print(\"\".join(result))\n",
    "\n",
    "S = input().strip()\n",
    "process_string(S)"
   ]
  },
  {
   "cell_type": "markdown",
   "metadata": {},
   "source": [
    "### **28. Given a number N, print all prime numbers less than N(in ascending order).**\n",
    "\n",
    "Input Size : 1 <= N <= 100000\n",
    "\n",
    "**Sample Testcase:**\n",
    "\n",
    "**INPUT**\n",
    "\n",
    "10\n",
    "\n",
    "**OUTPUT**\n",
    "\n",
    "2 3 5 7"
   ]
  },
  {
   "cell_type": "code",
   "execution_count": null,
   "metadata": {},
   "outputs": [
    {
     "name": "stdout",
     "output_type": "stream",
     "text": [
      "2 3 5 7\n"
     ]
    }
   ],
   "source": [
    "def sieve_of_eratosthenes(N):\n",
    "    is_prime = [True] * N\n",
    "    is_prime[0] = is_prime[1] = False\n",
    "    \n",
    "    # Perform the sieve\n",
    "    for i in range(2, int(N**0.5) + 1):\n",
    "        if is_prime[i]:\n",
    "            for j in range(i * i, N, i):\n",
    "                is_prime[j] = False\n",
    "    primes = [i for i in range(2, N) if is_prime[i]]\n",
    "    print(\" \".join(map(str, primes)))\n",
    "\n",
    "N = int(input().strip())\n",
    "sieve_of_eratosthenes(N)"
   ]
  },
  {
   "cell_type": "markdown",
   "metadata": {},
   "source": [
    "### **29. Given a number N, print the smallest number with sum of digits N.**\n",
    "Input Size : 1 <= N <= 100000\n",
    "\n",
    "**Sample Testcase:**\n",
    "\n",
    "**INPUT**\n",
    "\n",
    "12\n",
    "\n",
    "**OUTPUT**\n",
    "\n",
    "39"
   ]
  },
  {
   "cell_type": "code",
   "execution_count": 5,
   "metadata": {},
   "outputs": [
    {
     "name": "stdout",
     "output_type": "stream",
     "text": [
      "39\n"
     ]
    }
   ],
   "source": [
    "def smallest_number_with_sum(N):\n",
    "    digits = []\n",
    "    while N >= 9:\n",
    "        digits.append(9)\n",
    "        N -= 9\n",
    "\n",
    "    if N > 0:\n",
    "        digits.append(N)\n",
    "    \n",
    "    digits.reverse()\n",
    "    print(\"\".join(map(str, digits)))\n",
    "\n",
    "N = int(input().strip())\n",
    "smallest_number_with_sum(N)"
   ]
  },
  {
   "cell_type": "markdown",
   "metadata": {},
   "source": [
    "### **30. Given N strings and a prefix string p. Find how many of the N strings have p as their prefix.**\n",
    "\n",
    "for eg: String[] input={'100','111','10100','10','1111'} prefix='10'\n",
    "output=2\n",
    "\n",
    "Input Size : N <= 100000, string length <=1000, prefix length <=100\n",
    "\n",
    "**Sample Testcase:**\n",
    "\n",
    "**INPUT**\n",
    "\n",
    "5\n",
    "\n",
    "100 111 10100 10 1111\n",
    "\n",
    "10\n",
    "\n",
    "**OUTPUT**\n",
    "\n",
    "3"
   ]
  },
  {
   "cell_type": "code",
   "execution_count": null,
   "metadata": {},
   "outputs": [
    {
     "name": "stdout",
     "output_type": "stream",
     "text": [
      "3\n"
     ]
    }
   ],
   "source": [
    "def count_strings_with_prefix(strings, prefix):\n",
    "    count = 0\n",
    "    prefix_length = len(prefix)\n",
    "    \n",
    "    for string in strings:\n",
    "        # Only check if string length >= prefix length\n",
    "        if len(string) >= prefix_length and string.startswith(prefix):\n",
    "            count += 1    \n",
    "    return count\n",
    "\n",
    "N = int(input())\n",
    "strings = input().split()\n",
    "prefix = input().strip()\n",
    "print(count_strings_with_prefix(strings, prefix))"
   ]
  },
  {
   "cell_type": "markdown",
   "metadata": {},
   "source": [
    "### **31. Given two numbers N,K(N>=K) and an array of N elements, write a program to find the Kth largest element.**\n",
    "\n",
    "Input Size : 1 <= K <= N <= 100000\n",
    "\n",
    "**Sample Testcases:**\n",
    "\n",
    "**INPUT**\n",
    "\n",
    "6 2\n",
    "\n",
    "1 2 3 4 5 6\n",
    "\n",
    "**OUTPUT**\n",
    "\n",
    "5"
   ]
  },
  {
   "cell_type": "code",
   "execution_count": null,
   "metadata": {},
   "outputs": [
    {
     "name": "stdout",
     "output_type": "stream",
     "text": [
      "5\n"
     ]
    }
   ],
   "source": [
    "def find_kth_largest(N, K, arr):\n",
    "    arr.sort(reverse=True)\n",
    "    return arr[K - 1]\n",
    "\n",
    "N, K = map(int, input().split())\n",
    "arr = list(map(int, input().split()))\n",
    "print(find_kth_largest(N, K, arr))"
   ]
  },
  {
   "cell_type": "markdown",
   "metadata": {},
   "source": [
    "### **32. Given an array N, sort it in ascending order till it reaches kth elements and after that sort it in descending order.**\n",
    "\n",
    "Input Size : N <= 100000\n",
    "\n",
    "**Sample Testcase:**\n",
    "\n",
    "**INPUT**\n",
    "\n",
    "5 2\n",
    "\n",
    "4 3 1 2 4\n",
    "\n",
    "**OUTPUT**\n",
    "\n",
    "3 4 4 2 1"
   ]
  },
  {
   "cell_type": "code",
   "execution_count": null,
   "metadata": {},
   "outputs": [
    {
     "name": "stdout",
     "output_type": "stream",
     "text": [
      "3 4 4 2 1\n"
     ]
    }
   ],
   "source": [
    "def custom_sort(N, K, arr):\n",
    "    arr[:K] = sorted(arr[:K])   # Sort first K elements in ascending order\n",
    "    arr[K:] = sorted(arr[K:], reverse=True) # Sort remaining elements in descending order\n",
    "    return arr\n",
    "\n",
    "N, K = map(int, input().split())\n",
    "arr = list(map(int, input().split()))\n",
    "print(*custom_sort(N, K, arr))"
   ]
  },
  {
   "cell_type": "markdown",
   "metadata": {},
   "source": [
    "### **33. Given a sentence S.check whether it is in camelcase.print 'yes' if it is in camelcase otherwise print 'no'.**\n",
    "\n",
    "Input size : |s| <= 100000\n",
    "\n",
    "**Sample Testcase:**\n",
    "\n",
    "**INPUT**\n",
    "\n",
    "CodekataChallenge\n",
    "\n",
    "**OUTPUT**\n",
    "\n",
    "yes"
   ]
  },
  {
   "cell_type": "code",
   "execution_count": null,
   "metadata": {},
   "outputs": [
    {
     "name": "stdout",
     "output_type": "stream",
     "text": [
      "yes\n"
     ]
    }
   ],
   "source": [
    "def is_camel_case(s):\n",
    "    if not s[0].islower():  # Check if the first letter is lowercase\n",
    "        return \"yes\"\n",
    "    \n",
    "    # Check if all subsequent words follow the camelCase rule\n",
    "    for char in s[1:]:\n",
    "        if char.isupper() and char.isalpha():\n",
    "            continue  # Uppercase letters are fine as part of CamelCase\n",
    "        elif char.islower():\n",
    "            continue  # Lowercase letters are fine for continuation of words\n",
    "        else:\n",
    "            return \"no\"  # If it's not an alphabet, it's invalid\n",
    "    return \"yes\"\n",
    "\n",
    "s = input().strip()\n",
    "print(is_camel_case(s))"
   ]
  },
  {
   "cell_type": "markdown",
   "metadata": {},
   "source": [
    "### **34. Given a number N followed by N numbers. Out of these N numbers some of them are repeated. Write a program to find the number which is repeated and print the repeated numbers in sorted order. If no numbers are repeated print \"unique\".**\n",
    "\n",
    "Input Size : 1 <= N <= 100000\n",
    "\n",
    "**Sample Testcase:**\n",
    "\n",
    "**INPUT**\n",
    "\n",
    "7\n",
    "\n",
    "1 2 3 2 3 4 3\n",
    "\n",
    "**OUTPUT**\n",
    "\n",
    "2 3"
   ]
  },
  {
   "cell_type": "code",
   "execution_count": null,
   "metadata": {},
   "outputs": [
    {
     "name": "stdout",
     "output_type": "stream",
     "text": [
      "2 3\n"
     ]
    }
   ],
   "source": [
    "from collections import Counter\n",
    "\n",
    "def find_repeated_numbers(N, arr):\n",
    "    count = Counter(arr)\n",
    "    \n",
    "    # Filter out numbers that appear more than once\n",
    "    repeated_numbers = [num for num, freq in count.items() if freq > 1]\n",
    "    if not repeated_numbers:\n",
    "        return \"unique\"\n",
    "    return ' '.join(map(str, sorted(repeated_numbers)))\n",
    "\n",
    "N = int(input())\n",
    "arr = list(map(int, input().split()))\n",
    "print(find_repeated_numbers(N, arr))"
   ]
  },
  {
   "cell_type": "markdown",
   "metadata": {},
   "source": [
    "### **35. Given a number N an array of N numbers.The task is to find all the star and super star elements in the array an print in a seperate line.Star are those elements which are strictly greater than all the elements on its right side. Super star are those elements which are strictly greater than all the elements on its left and right side.Assume first element (A[0]) is greater than all the elements on its left side, And last element (A[n-1]) is greater than all the elements on its right side.**\n",
    "\n",
    "Input Size : 1 <= N <= 100000\n",
    "\n",
    "**Sample Testcases:**\n",
    "\n",
    "**INPUT**\n",
    "\n",
    "6\n",
    "\n",
    "4 2 5 7 2 1\n",
    "\n",
    "**OUTPUT**\n",
    "\n",
    "7 2 1\n",
    "\n",
    "7"
   ]
  },
  {
   "cell_type": "code",
   "execution_count": null,
   "metadata": {},
   "outputs": [
    {
     "name": "stdout",
     "output_type": "stream",
     "text": [
      "7 2 1\n",
      "5\n"
     ]
    }
   ],
   "source": [
    "def find_star_and_super_star(arr, N):\n",
    "    star_elements = []  # Finding star elements\n",
    "    max_from_right = arr[-1]  # Start with the last element\n",
    "    star_elements.append(arr[-1])  # The last element is always a star element\n",
    "    \n",
    "    for i in range(N - 2, -1, -1):\n",
    "        if arr[i] > max_from_right:\n",
    "            star_elements.append(arr[i])\n",
    "            max_from_right = arr[i]\n",
    "    \n",
    "    # Reversing star_elements to maintain order from left to right\n",
    "    star_elements.reverse()\n",
    "    \n",
    "    # Finding super star elements\n",
    "    max_from_left = arr[0]\n",
    "    max_from_right = arr[-1]\n",
    "    \n",
    "    super_star_elements = []\n",
    "    for i in range(1, N - 1):\n",
    "        if arr[i] > max_from_left and arr[i] > max_from_right:\n",
    "            super_star_elements.append(arr[i])\n",
    "        max_from_left = max(max_from_left, arr[i])\n",
    "        max_from_right = max(max_from_right, arr[N - i - 1])\n",
    "    print(\" \".join(map(str, star_elements)))\n",
    "\n",
    "    if super_star_elements:\n",
    "        print(\" \".join(map(str, super_star_elements)))\n",
    "    else:\n",
    "        print(\"-1\")\n",
    "\n",
    "N = int(input())\n",
    "arr = list(map(int, input().split()))\n",
    "find_star_and_super_star(arr, N)"
   ]
  },
  {
   "cell_type": "markdown",
   "metadata": {},
   "source": [
    "### **36. Given a number N, print the first N Catalan numbers.**\n",
    "\n",
    "Input Size : N <= 100\n",
    "\n",
    "**Sample Testcase:**\n",
    "\n",
    "**INPUT**\n",
    "\n",
    "1\n",
    "\n",
    "**OUTPUT**\n",
    "\n",
    "1 1"
   ]
  },
  {
   "cell_type": "code",
   "execution_count": null,
   "metadata": {},
   "outputs": [
    {
     "name": "stdout",
     "output_type": "stream",
     "text": [
      "1 1\n"
     ]
    }
   ],
   "source": [
    "def catalan(n):\n",
    "    catalan_numbers = [0] * (n + 1)\n",
    "    catalan_numbers[0] = catalan_numbers[1] = 1\n",
    "    for i in range(2, n + 1):\n",
    "        for j in range(i):\n",
    "            catalan_numbers[i] += catalan_numbers[j] * catalan_numbers[i - j - 1]    \n",
    "    return catalan_numbers\n",
    "\n",
    "n = int(input())\n",
    "result = catalan(n)\n",
    "print(\" \".join(map(str, result)))"
   ]
  },
  {
   "cell_type": "code",
   "execution_count": null,
   "metadata": {},
   "outputs": [
    {
     "name": "stdout",
     "output_type": "stream",
     "text": [
      "1\n"
     ]
    }
   ],
   "source": [
    "def catalan_numbers(N):\n",
    "    catalan = [0] * N   # Initialize a list to store the Catalan numbers\n",
    "    catalan[0] = 1      # The first Catalan number is 1\n",
    "\n",
    "    # Calculate the Catalan numbers using the recursive formula\n",
    "    for n in range(1, N):\n",
    "        catalan[n] = 0\n",
    "        for i in range(n):\n",
    "            catalan[n] += catalan[i] * catalan[n - 1 - i]\n",
    "    print(\" \".join(map(str, catalan)))\n",
    "\n",
    "N = int(input())\n",
    "catalan_numbers(N)"
   ]
  },
  {
   "cell_type": "markdown",
   "metadata": {},
   "source": [
    "### **37. There is one meeting room in Flipkart. There are n meetings in the form of (S [ i ], F [ i ]) where S [ i ] is start time of meeting i and F [ i ] is finish time of meeting i Given a number N followed by 2 arrays S and F of sizes N and N, What is the maximum number of meetings that can be accommodated in the meeting room assuming the room can only accommodate one meeting at a time.**\n",
    "\n",
    "Input Size : 1 <= N <= 100000\n",
    "\n",
    "**Sample Testcases:**\n",
    "\n",
    "**INPUT**\n",
    "\n",
    "3\n",
    "\n",
    "10 12 30\n",
    "\n",
    "20 25 30\n",
    "\n",
    "**OUTPUT**\n",
    "\n",
    "2"
   ]
  },
  {
   "cell_type": "code",
   "execution_count": null,
   "metadata": {},
   "outputs": [
    {
     "name": "stdout",
     "output_type": "stream",
     "text": [
      "2\n"
     ]
    }
   ],
   "source": [
    "def max_meetings(N, S, F):\n",
    "    # Create a list of meetings with start and finish times\n",
    "    meetings = [(S[i], F[i]) for i in range(N)]\n",
    "    \n",
    "    # Sort meetings by finish time (second element of the tuple)\n",
    "    meetings.sort(key=lambda x: x[1])\n",
    "    \n",
    "    # Initialize the count of meetings and the end time of the last selected meeting\n",
    "    count = 1  # Select the first meeting\n",
    "    last_finish_time = meetings[0][1]\n",
    "    \n",
    "    # Iterate through the meetings and select the non-overlapping ones\n",
    "    for i in range(1, N):\n",
    "        if meetings[i][0] >= last_finish_time:\n",
    "            count += 1\n",
    "            last_finish_time = meetings[i][1]   \n",
    "    return count\n",
    "\n",
    "N = int(input())\n",
    "S = list(map(int, input().split()))\n",
    "F = list(map(int, input().split()))\n",
    "print(max_meetings(N, S, F))"
   ]
  },
  {
   "cell_type": "markdown",
   "metadata": {},
   "source": [
    "### **38. Given a number N followed by N numbers. All the numbers in the given input appear twice except for one number(ie one number appears only once in the given input). Find the number which appears only once.**\n",
    "\n",
    "Input Size : 1 <= N <= 100000\n",
    "\n",
    "**Sample Testcases:**\n",
    "\n",
    "**INPUT**\n",
    "\n",
    "5\n",
    "\n",
    "1 2 1 3 2\n",
    "\n",
    "**OUTPUT**\n",
    "\n",
    "3"
   ]
  },
  {
   "cell_type": "code",
   "execution_count": null,
   "metadata": {},
   "outputs": [
    {
     "name": "stdout",
     "output_type": "stream",
     "text": [
      "3\n"
     ]
    }
   ],
   "source": [
    "def find_single_number(N, arr):\n",
    "    result = 0\n",
    "    for num in arr:\n",
    "        result ^= num\n",
    "    return result\n",
    "\n",
    "N = int(input())\n",
    "arr = list(map(int, input().split()))\n",
    "print(find_single_number(N, arr))"
   ]
  },
  {
   "cell_type": "markdown",
   "metadata": {},
   "source": [
    "### **39. Each character of the alphabet is matched to a number. For example A is mapped to 1 , b to 2 so on z to 26. The reverse mapping is also true. 1 is mapped to a , 2 to b 3 to c and so on z to 26. So a number 12258 can be translated to abbeh , aveh , abyh , lbeh , and lyh , so there are 5 ways to translate 12258. Given a number N , write a program to print the number of ways to do this.**\n",
    "\n",
    "Input Size : 1 <= N <= 100000\n",
    "\n",
    "**Sample Testcases:**\n",
    "\n",
    "**INPUT**\n",
    "\n",
    "12258\n",
    "\n",
    "**OUTPUT**\n",
    "\n",
    "5"
   ]
  },
  {
   "cell_type": "code",
   "execution_count": null,
   "metadata": {},
   "outputs": [
    {
     "name": "stdout",
     "output_type": "stream",
     "text": [
      "5\n"
     ]
    }
   ],
   "source": [
    "def count_decodings(N):\n",
    "    S = str(N)      # Convert N to a string\n",
    "    length = len(S)\n",
    "    \n",
    "    # Initialize dp array where dp[i] represents the number of ways to decode S[:i]\n",
    "    dp = [0] * (length + 1)\n",
    "    dp[0] = 1  # There is one way to decode an empty string\n",
    "    dp[1] = 1 if S[0] != '0' else 0  # If the first character is '0', no valid decoding\n",
    "\n",
    "    for i in range(2, length + 1):\n",
    "        # Check if the single digit decoding is valid\n",
    "        if S[i-1] != '0':\n",
    "            dp[i] += dp[i-1]\n",
    "        \n",
    "        # Check if the two digit decoding is valid\n",
    "        two_digit = int(S[i-2:i])  # Consider the last two characters\n",
    "        if 10 <= two_digit <= 26:\n",
    "            dp[i] += dp[i-2]\n",
    "    return dp[length]\n",
    "\n",
    "N = int(input())\n",
    "print(count_decodings(N))"
   ]
  },
  {
   "cell_type": "markdown",
   "metadata": {},
   "source": [
    "### **40. Given 2 numbers N and M followed by a matrix of size N * M.if there is any entry which is 0 change the entire column and row to zero respectively and then print the matrix.**\n",
    "\n",
    "Input Size : 1 <= N <= 1000\n",
    "\n",
    "**Sample Testcases:**\n",
    "\n",
    "**INPUT**\n",
    "\n",
    "2 3\n",
    "\n",
    "1 0 1\n",
    "\n",
    "1 1 1\n",
    "\n",
    "**OUTPUT**\n",
    "\n",
    "0 0 0\n",
    "\n",
    "1 0 1"
   ]
  },
  {
   "cell_type": "code",
   "execution_count": null,
   "metadata": {},
   "outputs": [
    {
     "name": "stdout",
     "output_type": "stream",
     "text": [
      "0 0 0\n",
      "1 0 1\n"
     ]
    }
   ],
   "source": [
    "def set_zero_matrix(N, M, matrix):\n",
    "    # Identify which rows and columns need to be zeroed\n",
    "    zero_rows = set()\n",
    "    zero_cols = set()\n",
    "\n",
    "    # Find all the zeros in the matrix\n",
    "    for i in range(N):\n",
    "        for j in range(M):\n",
    "            if matrix[i][j] == 0:\n",
    "                zero_rows.add(i)  # Mark the row for zeroing\n",
    "                zero_cols.add(j)  # Mark the column for zeroing\n",
    "    \n",
    "    # Modify the matrix based on the identified rows and columns\n",
    "    for i in range(N):\n",
    "        for j in range(M):\n",
    "            if i in zero_rows or j in zero_cols:\n",
    "                matrix[i][j] = 0\n",
    "    for row in matrix:\n",
    "        print(' '.join(map(str, row)))\n",
    "\n",
    "N, M = map(int, input().split())\n",
    "matrix = [list(map(int, input().split())) for _ in range(N)]\n",
    "set_zero_matrix(N, M, matrix)"
   ]
  },
  {
   "cell_type": "markdown",
   "metadata": {},
   "source": [
    "### **41. Given a number N and a 2D matrix(N*N filled with 1's or 0's), find the number of island 1's(An island 1 is a 1 surrounded by 0's on all sides).**\n",
    "\n",
    "Input Size : 2 <= N <= 100000\n",
    "\n",
    "**Sample Testcases:**\n",
    "\n",
    "**INPUT**\n",
    "\n",
    "2\n",
    "\n",
    "1 0\n",
    "\n",
    "0 0\n",
    "\n",
    "**OUTPUT**\n",
    "\n",
    "1"
   ]
  },
  {
   "cell_type": "code",
   "execution_count": null,
   "metadata": {},
   "outputs": [
    {
     "name": "stdout",
     "output_type": "stream",
     "text": [
      "1\n"
     ]
    }
   ],
   "source": [
    "def dfs(matrix, visited, x, y, N):\n",
    "    # Directions for moving in the 4-connected grid (up, down, left, right)\n",
    "    directions = [(-1, 0), (1, 0), (0, -1), (0, 1)]\n",
    "    stack = [(x, y)]\n",
    "    visited[x][y] = True\n",
    "    \n",
    "    while stack:\n",
    "        cx, cy = stack.pop()\n",
    "        for dx, dy in directions:\n",
    "            nx, ny = cx + dx, cy + dy\n",
    "            # Check if the new position is valid and the cell is a 1 and not visited\n",
    "            if 0 <= nx < N and 0 <= ny < N and matrix[nx][ny] == 1 and not visited[nx][ny]:\n",
    "                visited[nx][ny] = True\n",
    "                stack.append((nx, ny))\n",
    "\n",
    "def count_islands(matrix, N):\n",
    "    visited = [[False for _ in range(N)] for _ in range(N)]\n",
    "    island_count = 0\n",
    "    \n",
    "    # Traverse through every cell in the matrix\n",
    "    for i in range(N):\n",
    "        for j in range(N):\n",
    "            if matrix[i][j] == 1 and not visited[i][j]:\n",
    "                # Start DFS if we find an unvisited 1 (new island)\n",
    "                dfs(matrix, visited, i, j, N)\n",
    "                island_count += 1\n",
    "    return island_count\n",
    "\n",
    "N = int(input())\n",
    "matrix = [list(map(int, input().split())) for _ in range(N)]\n",
    "print(count_islands(matrix, N))"
   ]
  },
  {
   "cell_type": "markdown",
   "metadata": {},
   "source": [
    "### **42. Given a number N and an array of N elements, print the number of lucky numbers in the array.**\n",
    "\n",
    "Lucky number: N*I is also present in the array then the number is lucky where N is the number of elements in the array and I is the position of the element.(1 based indexing)\n",
    "\n",
    "Input Size : 1 <= N, I <= 100000\n",
    "\n",
    "**Sample Testcases:**\n",
    "\n",
    "**INPUT**\n",
    "\n",
    "5\n",
    "\n",
    "1 2 3 4 5\n",
    "\n",
    "**OUTPUT**\n",
    "\n",
    "1"
   ]
  },
  {
   "cell_type": "code",
   "execution_count": null,
   "metadata": {},
   "outputs": [
    {
     "name": "stdout",
     "output_type": "stream",
     "text": [
      "1\n"
     ]
    }
   ],
   "source": [
    "def count_lucky_numbers(arr, N):\n",
    "    arr_set = set(arr)  # Convert the array to a set for faster lookups\n",
    "\n",
    "    lucky_count = 0\n",
    "    for i in range(1, N + 1):   # Iterate through the array with 1-based indexing\n",
    "        if N * i in arr_set:\n",
    "            lucky_count += 1    \n",
    "    return lucky_count\n",
    "\n",
    "N = int(input())\n",
    "arr = list(map(int, input().split()))\n",
    "print(count_lucky_numbers(arr, N))"
   ]
  },
  {
   "cell_type": "markdown",
   "metadata": {},
   "source": [
    "### **43. Given 2 numbers N and K, print the number of ways of taking k elements from the first n elements.**\n",
    "\n",
    "Input Size : 1 <= N <= K <= 100000\n",
    "\n",
    "**Sample Testcases:**\n",
    "\n",
    "**INPUT**\n",
    "\n",
    "2 2\n",
    "\n",
    "**OUTPUT**\n",
    "\n",
    "2"
   ]
  },
  {
   "cell_type": "code",
   "execution_count": 6,
   "metadata": {},
   "outputs": [
    {
     "name": "stdout",
     "output_type": "stream",
     "text": [
      "2\n"
     ]
    }
   ],
   "source": [
    "def number_of_permutations(N, K):\n",
    "    if K > N:\n",
    "        return 0\n",
    "    \n",
    "    result = 1\n",
    "    for i in range(K):\n",
    "        result *= (N - i)\n",
    "    return result\n",
    "\n",
    "N, K = map(int, input().split())\n",
    "print(number_of_permutations(N, K))"
   ]
  },
  {
   "cell_type": "markdown",
   "metadata": {},
   "source": [
    "### **44. Given a binary tree with strings as keys with N nodes and M edges, Print the number of grandchildren for the specified name.**\n",
    "\n",
    "Input Size : 1 <= N, M <= 100000\n",
    "\n",
    "**Sample Testcases:**\n",
    "\n",
    "**INPUT**\n",
    "\n",
    "3 2 Vishal\n",
    "\n",
    "Sundar Vishal\n",
    "\n",
    "Vishal Adithya\n",
    "\n",
    "**OUTPUT**\n",
    "\n",
    "0"
   ]
  },
  {
   "cell_type": "code",
   "execution_count": null,
   "metadata": {},
   "outputs": [
    {
     "name": "stdout",
     "output_type": "stream",
     "text": [
      "0\n"
     ]
    }
   ],
   "source": [
    "from collections import defaultdict, deque\n",
    "\n",
    "def find_grandchildren(N, M, name, edges):\n",
    "    tree = defaultdict(list)\n",
    "    for parent, child in edges:\n",
    "        tree[parent].append(child)\n",
    "    children = tree[name]\n",
    "    grandchildren_count = 0\n",
    "    for child in children:\n",
    "        grandchildren_count += len(tree[child])\n",
    "    print(grandchildren_count)\n",
    "\n",
    "N, M, name = input().split()\n",
    "N, M = int(N), int(M)\n",
    "edges = []\n",
    "\n",
    "for _ in range(M):\n",
    "    parent, child = input().split()\n",
    "    edges.append((parent, child))\n",
    "find_grandchildren(N, M, name, edges)"
   ]
  },
  {
   "cell_type": "markdown",
   "metadata": {},
   "source": [
    "### **45. Given a number N followed by an unsorted array of N numbers and a number K, find if there exists a pair of elements in the array whose difference is K. Return count of such pairs.**\n",
    "\n",
    "Example k=4 and a[]={7,6,23,19,10,11,9,3,15}\n",
    "\n",
    "Output should be : 6\n",
    "\n",
    "Pairs can be:\n",
    "7,11\n",
    "7,3\n",
    "6,10\n",
    "19,23\n",
    "15,19\n",
    "15,11\n",
    "\n",
    "Input Size : N <= 100000\n",
    "\n",
    "**Sample Testcase:**\n",
    "\n",
    "**INPUT**\n",
    "\n",
    "6 4\n",
    "\n",
    "8 12 16 4 0 20\n",
    "\n",
    "**OUTPUT**\n",
    "\n",
    "5"
   ]
  },
  {
   "cell_type": "code",
   "execution_count": null,
   "metadata": {},
   "outputs": [
    {
     "name": "stdout",
     "output_type": "stream",
     "text": [
      "5\n"
     ]
    }
   ],
   "source": [
    "def count_pairs_with_difference(arr, N, K):\n",
    "    seen = set()\n",
    "    pair_count = 0\n",
    "    for num in arr:\n",
    "        if num + K in seen:\n",
    "            pair_count += 1\n",
    "        if num - K in seen:\n",
    "            pair_count += 1\n",
    "        seen.add(num)    \n",
    "    return pair_count\n",
    "\n",
    "N, K = map(int, input().split())\n",
    "arr = list(map(int, input().split()))\n",
    "print(count_pairs_with_difference(arr, N, K))"
   ]
  },
  {
   "cell_type": "markdown",
   "metadata": {},
   "source": [
    "### **46. Given a number N and an array of N elements, a selection algorithm is implemented on this array where numbers at even position would be chosen, the algorithm is again and again implemented on the newly chosen array until only 1 element is remaining. Print the original position(index) of this element in the initial array.**\n",
    "\n",
    "Input Size : 1 <= N <= 100000\n",
    "\n",
    "**Sample Testcases:**\n",
    "\n",
    "**INPUT**\n",
    "\n",
    "6\n",
    "\n",
    "1 2 3 4 5 6\n",
    "\n",
    "**OUTPUT**\n",
    "\n",
    "3"
   ]
  },
  {
   "cell_type": "code",
   "execution_count": null,
   "metadata": {},
   "outputs": [
    {
     "name": "stdout",
     "output_type": "stream",
     "text": [
      "3\n"
     ]
    }
   ],
   "source": [
    "def find_final_index(N):\n",
    "    indices = list(range(N))\n",
    "    while len(indices) > 1:\n",
    "        indices = indices[1::2]\n",
    "    return indices[0]\n",
    "\n",
    "N = int(input())\n",
    "arr = list(map(int, input().split()))\n",
    "print(find_final_index(N))"
   ]
  },
  {
   "cell_type": "markdown",
   "metadata": {},
   "source": [
    "### **47. Given a string S of length N, find whether the given string is a palindrome using stack or linked list and print 'yes' otherwise print 'no'.**\n",
    "\n",
    "Input Size : 1 <= N <= 100000\n",
    "\n",
    "**Sample Testcases:**\n",
    "\n",
    "**INPUT**\n",
    "\n",
    "GuviGeek\n",
    "\n",
    "**OUTPUT**\n",
    "\n",
    "no"
   ]
  },
  {
   "cell_type": "code",
   "execution_count": null,
   "metadata": {},
   "outputs": [
    {
     "name": "stdout",
     "output_type": "stream",
     "text": [
      "no\n"
     ]
    }
   ],
   "source": [
    "def is_palindrome(s):\n",
    "    stack = []\n",
    "    length = len(s)\n",
    "    mid = length // 2\n",
    "    \n",
    "    # Push the first half of characters onto the stack\n",
    "    for i in range(mid):\n",
    "        stack.append(s[i])\n",
    "    \n",
    "    # Compare with the second half of characters\n",
    "    start = mid if length % 2 == 0 else mid + 1\n",
    "    for i in range(start, length):\n",
    "        if stack.pop() != s[i]:\n",
    "            return \"no\"\n",
    "    return \"yes\"\n",
    "\n",
    "s = input()\n",
    "output = is_palindrome(s)\n",
    "print(output)"
   ]
  },
  {
   "cell_type": "markdown",
   "metadata": {},
   "source": [
    "### **48. You have been given stock prices for next N days. Find out: max profit in buying and selling 1 share Condition: Share must be sold any day after buying date. Given a number N followed by N integers print the maximum profit.**\n",
    "\n",
    "For example: Share price in thousands 5 1 4 6 7 8 4 3 7 9\n",
    "\n",
    "Max benefit 9 – 1 = 8 thousand\n",
    "\n",
    "Input Size : N <= 100000\n",
    "\n",
    "**Sample Testcase:**\n",
    "\n",
    "**INPUT**\n",
    "\n",
    "10\n",
    "\n",
    "5 1 4 6 7 8 4 3 7 9\n",
    "\n",
    "**OUTPUT**\n",
    "\n",
    "8"
   ]
  },
  {
   "cell_type": "code",
   "execution_count": null,
   "metadata": {},
   "outputs": [
    {
     "name": "stdout",
     "output_type": "stream",
     "text": [
      "8\n"
     ]
    }
   ],
   "source": [
    "def max_profit(N, prices):\n",
    "    min_price = float('inf')  # Initially set to a very large value\n",
    "    max_profit = 0\n",
    "    \n",
    "    # Traverse through all prices\n",
    "    for price in prices:\n",
    "        min_price = min(min_price, price)        # Update the minimum price if a lower price is found\n",
    "        profit = price - min_price               # Calculate profit if sold on this day\n",
    "        max_profit = max(max_profit, profit)     # Update max profit if the current profit is greater\n",
    "    return max_profit\n",
    "\n",
    "N = int(input())\n",
    "prices = list(map(int, input().split()))\n",
    "print(max_profit(N, prices))"
   ]
  },
  {
   "cell_type": "markdown",
   "metadata": {},
   "source": [
    "### **49. You are given a number N and followed by an array of N numbers and followed by two elements U and V, find the minimum distance between the elements in the array. The array may have duplicates.**\n",
    "\n",
    "For example, if the array is (1, 5, 3, 7, 2, 8, 3, 4, 5, 9, 9, 3, 1, 3, 2, 9)\n",
    "\n",
    "Min Distance (U=4, V= 7): 4\n",
    "\n",
    "Input Size : N <= 100000\n",
    "\n",
    "**Sample Testcase:**\n",
    "\n",
    "**INPUT**\n",
    "\n",
    "16\n",
    "\n",
    "1 5 3 7 2 8 3 4 5 9 9 3 1 3 2 9\n",
    "\n",
    "4 7\n",
    "\n",
    "**OUTPUT**\n",
    "\n",
    "4"
   ]
  },
  {
   "cell_type": "code",
   "execution_count": null,
   "metadata": {},
   "outputs": [
    {
     "name": "stdout",
     "output_type": "stream",
     "text": [
      "4\n"
     ]
    }
   ],
   "source": [
    "def min_distance(N, arr, U, V):\n",
    "    # Initialize variables for storing the last seen indices\n",
    "    last_u = -1\n",
    "    last_v = -1\n",
    "    min_dist = float('inf')  # Initially set to a very large number\n",
    "    \n",
    "    for i in range(N):\n",
    "        if arr[i] == U:\n",
    "            last_u = i  # Update last seen index of U\n",
    "            # Check if we have seen V already\n",
    "            if last_v != -1:\n",
    "                min_dist = min(min_dist, abs(last_u - last_v))\n",
    "        \n",
    "        if arr[i] == V:\n",
    "            last_v = i  # Update last seen index of V\n",
    "            # Check if we have seen U already\n",
    "            if last_u != -1:\n",
    "                min_dist = min(min_dist, abs(last_u - last_v))    \n",
    "    return min_dist if min_dist != float('inf') else -1\n",
    "\n",
    "N = int(input())\n",
    "arr = list(map(int, input().split()))\n",
    "U, V = map(int, input().split())\n",
    "print(min_distance(N, arr, U, V))"
   ]
  },
  {
   "cell_type": "markdown",
   "metadata": {},
   "source": [
    "### **50. Swagger and Rock are playing a word game. They need to check the two strings use the same base alphabets. Two strings are said to have same base alphabets if they use the same characters to form the word. eg: rescue and curse have same base alphabets - c,e,r,s,u.If it so print 'true' else print 'false'.**\n",
    "\n",
    "Input Size : |S| <= 1000000\n",
    "\n",
    "**Sample Testcase:**\n",
    "\n",
    "**INPUT**\n",
    "\n",
    "rescue curse\n",
    "\n",
    "**OUTPUT**\n",
    "\n",
    "true"
   ]
  },
  {
   "cell_type": "code",
   "execution_count": 29,
   "metadata": {},
   "outputs": [
    {
     "name": "stdout",
     "output_type": "stream",
     "text": [
      "true\n"
     ]
    }
   ],
   "source": [
    "def have_same_base_alphabets(str1, str2):\n",
    "    # Convert both strings to sets of characters\n",
    "    set1 = set(str1)\n",
    "    set2 = set(str2)\n",
    "    \n",
    "    # Check if both sets are equal\n",
    "    if set1 == set2:\n",
    "        return \"true\"\n",
    "    else:\n",
    "        return \"false\"\n",
    "\n",
    "str1, str2 = input().split()\n",
    "print(have_same_base_alphabets(str1, str2))"
   ]
  },
  {
   "cell_type": "markdown",
   "metadata": {},
   "source": [
    "### **51. Given a string S consisting of 2 words reverse the order of two words.**\n",
    "\n",
    "Input Size : |S| <= 10000000\n",
    "\n",
    "**Sample Testcase:**\n",
    "\n",
    "**INPUT**\n",
    "\n",
    "hello world\n",
    "\n",
    "**OUTPUT**\n",
    "\n",
    "world hello"
   ]
  },
  {
   "cell_type": "code",
   "execution_count": 1,
   "metadata": {},
   "outputs": [
    {
     "name": "stdout",
     "output_type": "stream",
     "text": [
      "world hello\n"
     ]
    }
   ],
   "source": [
    "def reverse_words(S):\n",
    "    words = S.split()\n",
    "    if len(words) != 2:\n",
    "        return \"Input should consist of exactly two words\"\n",
    "    reversed_words = \" \".join(reversed(words))\n",
    "    return reversed_words\n",
    "\n",
    "S = input().strip()\n",
    "print(reverse_words(S))"
   ]
  },
  {
   "cell_type": "markdown",
   "metadata": {},
   "source": [
    "### **52. Divide two given integers A and B without using multiplication, division and mod operator. If it is overflow, return MAX_INT.**\n",
    "\n",
    "**Sample Testcases:**\n",
    "\n",
    "**INPUT**\n",
    "\n",
    "10 5\n",
    "\n",
    "**OUTPUT**\n",
    "\n",
    "2"
   ]
  },
  {
   "cell_type": "code",
   "execution_count": null,
   "metadata": {},
   "outputs": [
    {
     "name": "stdout",
     "output_type": "stream",
     "text": [
      "2\n"
     ]
    }
   ],
   "source": [
    "def divide(A, B):\n",
    "    MAX_INT = 2**31 - 1\n",
    "    MIN_INT = -2**31\n",
    "    \n",
    "    # Handle edge case for overflow\n",
    "    if A == MIN_INT and B == -1:\n",
    "        return MAX_INT\n",
    "    \n",
    "    # Handle division by zero\n",
    "    if B == 0:\n",
    "        return MAX_INT\n",
    "    \n",
    "    # Get the absolute values of A and B for ease of computation\n",
    "    absA, absB = abs(A), abs(B)\n",
    "    result = 0\n",
    "    for i in range(31, -1, -1):     # Iterate from the highest bit to the lowest\n",
    "        if (absA >> i) >= absB:     # Check if the current shifted B can be subtracted from A\n",
    "            result += (1 << i)\n",
    "            absA -= (absB << i)\n",
    "    \n",
    "    # Determine the sign of the result\n",
    "    if (A < 0) != (B < 0):\n",
    "        result = -result    \n",
    "    return result\n",
    "\n",
    "A, B = map(int, input().split())\n",
    "print(divide(A, B))"
   ]
  },
  {
   "cell_type": "markdown",
   "metadata": {},
   "source": [
    "### **53. Given a number N, How many ways are there to represent it as sum of 2 primes.**\n",
    "\n",
    "Input Size : 1 <= N <= 1000\n",
    "\n",
    "**Sample Testcase:**\n",
    "\n",
    "**INPUT**\n",
    "\n",
    "10\n",
    "\n",
    "**OUTPUT**\n",
    "\n",
    "2\n",
    "\n",
    "Explanation:(7+3),(5+5)"
   ]
  },
  {
   "cell_type": "code",
   "execution_count": null,
   "metadata": {},
   "outputs": [
    {
     "name": "stdout",
     "output_type": "stream",
     "text": [
      "2\n"
     ]
    }
   ],
   "source": [
    "def sieve_of_eratosthenes(limit):\n",
    "    prime = [True] * (limit + 1)\n",
    "    prime[0], prime[1] = False, False\n",
    "    p = 2\n",
    "    while p * p <= limit:\n",
    "        if prime[p]:\n",
    "            for i in range(p * p, limit + 1, p):\n",
    "                prime[i] = False\n",
    "        p += 1\n",
    "    return [p for p in range(limit + 1) if prime[p]]\n",
    "\n",
    "def count_prime_pairs(N):\n",
    "    primes = sieve_of_eratosthenes(N)\n",
    "    prime_set = set(primes)\n",
    "    count = 0\n",
    "    for p in primes:\n",
    "        if p <= N // 2:\n",
    "            if (N - p) in prime_set:\n",
    "                count += 1\n",
    "    return count\n",
    "\n",
    "N = int(input())\n",
    "print(count_prime_pairs(N))"
   ]
  },
  {
   "cell_type": "markdown",
   "metadata": {},
   "source": [
    "### **54. Given a number N, find the sum of prime numbers that end with 3 from 2 to N.**\n",
    "\n",
    "Input Size : N <= 100000\n",
    "\n",
    "**Sample Testcase:**\n",
    "\n",
    "**INPUT**\n",
    "\n",
    "5\n",
    "\n",
    "**OUTPUT**\n",
    "\n",
    "3"
   ]
  },
  {
   "cell_type": "code",
   "execution_count": null,
   "metadata": {},
   "outputs": [
    {
     "name": "stdout",
     "output_type": "stream",
     "text": [
      "3\n"
     ]
    }
   ],
   "source": [
    "def sieve_of_eratosthenes(limit):\n",
    "    prime = [True] * (limit + 1)\n",
    "    prime[0], prime[1] = False, False  # 0 and 1 are not primes\n",
    "    p = 2\n",
    "    while p * p <= limit:\n",
    "        if prime[p]:\n",
    "            for i in range(p * p, limit + 1, p):\n",
    "                prime[i] = False\n",
    "        p += 1\n",
    "    return [p for p in range(limit + 1) if prime[p]]\n",
    "\n",
    "def sum_primes_ending_with_3(N):\n",
    "    primes = sieve_of_eratosthenes(N)   # Generate all primes less than or equal to N\n",
    "    sum_primes = sum(p for p in primes if p % 10 == 3)    # Filter primes that end with the digit '3'\n",
    "    return sum_primes\n",
    "\n",
    "N = int(input())\n",
    "print(sum_primes_ending_with_3(N))"
   ]
  },
  {
   "cell_type": "markdown",
   "metadata": {},
   "source": [
    "### **55. This problem is also called minimum absolute sum pair. You are given a number N followed by an array of N numbers, containing both +ve and -ve numbers. You need to print the two elements such that their sum is closest to zero.**\n",
    "\n",
    "Input Size : N <= 100000\n",
    "\n",
    "**Sample Testcase:**\n",
    "\n",
    "**INPUT**\n",
    "\n",
    "5\n",
    "\n",
    "15 5 -20 30 -45\n",
    "\n",
    "**OUTPUT**\n",
    "\n",
    "15 -20"
   ]
  },
  {
   "cell_type": "code",
   "execution_count": null,
   "metadata": {},
   "outputs": [
    {
     "name": "stdout",
     "output_type": "stream",
     "text": [
      "-20 15\n"
     ]
    }
   ],
   "source": [
    "def closest_pair_to_zero(arr):\n",
    "    arr.sort()\n",
    "    left, right = 0, len(arr) - 1\n",
    "    closest_sum = float('inf')\n",
    "    result_pair = None\n",
    "    \n",
    "    while left < right:\n",
    "        current_sum = arr[left] + arr[right]\n",
    "        if abs(current_sum) < abs(closest_sum):\n",
    "            closest_sum = current_sum\n",
    "            result_pair = (arr[left], arr[right])\n",
    "        if current_sum < 0:\n",
    "            left += 1\n",
    "        else:\n",
    "            right -= 1    \n",
    "    return result_pair\n",
    "\n",
    "N = int(input())\n",
    "arr = list(map(int, input().split()))\n",
    "pair = closest_pair_to_zero(arr)\n",
    "print(pair[0], pair[1])"
   ]
  },
  {
   "cell_type": "markdown",
   "metadata": {},
   "source": [
    "### **56. Given a number N and N strings of length atmost M, print the longest common prefix.**\n",
    "\n",
    "Input Size : 1<=N, M<=100000\n",
    "\n",
    "**Example:**\n",
    "\n",
    "**INPUT**\n",
    "\n",
    "2\n",
    "\n",
    "Vishal\n",
    "\n",
    "Vidharba\n",
    "\n",
    "**OUTPUT**\n",
    "\n",
    "Vi"
   ]
  },
  {
   "cell_type": "code",
   "execution_count": null,
   "metadata": {},
   "outputs": [
    {
     "name": "stdout",
     "output_type": "stream",
     "text": [
      "Vi\n"
     ]
    }
   ],
   "source": [
    "def longest_common_prefix(strings):\n",
    "    prefix = strings[0]\n",
    "    \n",
    "    # Compare prefix with each string in the array\n",
    "    for string in strings[1:]:\n",
    "        temp_prefix = []\n",
    "        for i in range(min(len(prefix), len(string))):\n",
    "            if prefix[i] == string[i]:\n",
    "                temp_prefix.append(prefix[i])\n",
    "            else:\n",
    "                break\n",
    "        prefix = ''.join(temp_prefix)\n",
    "        if not prefix:\n",
    "            return \"\"    \n",
    "    return prefix\n",
    "\n",
    "N = int(input())\n",
    "strings = [input().strip() for _ in range(N)]\n",
    "print(longest_common_prefix(strings))"
   ]
  },
  {
   "cell_type": "markdown",
   "metadata": {},
   "source": [
    "### **57. Given a number N, obtain the smallest number after deleting K digits from N.**\n",
    "\n",
    "Input Size : 1<=N<=100000\n",
    "\n",
    "**Example:**\n",
    "\n",
    "**INPUT**\n",
    "\n",
    "213 1\n",
    "\n",
    "**OUTPUT**\n",
    "\n",
    "13"
   ]
  },
  {
   "cell_type": "code",
   "execution_count": null,
   "metadata": {},
   "outputs": [
    {
     "name": "stdout",
     "output_type": "stream",
     "text": [
      "13\n"
     ]
    }
   ],
   "source": [
    "def removeKdigits(N, K):\n",
    "    N = str(N)\n",
    "    stack = []\n",
    "    for digit in N:\n",
    "        while K > 0 and stack and stack[-1] > digit:\n",
    "            stack.pop()\n",
    "            K -= 1\n",
    "        stack.append(digit)\n",
    "    \n",
    "    # If we still need to remove digits, remove from the end\n",
    "    while K > 0:\n",
    "        stack.pop()\n",
    "        K -= 1\n",
    "    result = ''.join(stack).lstrip('0')\n",
    "    return result if result else '0'\n",
    "\n",
    "N, K = map(int, input().split())\n",
    "print(removeKdigits(N, K))"
   ]
  },
  {
   "cell_type": "markdown",
   "metadata": {},
   "source": [
    "### **58. N players with weights are given as input. Divide them into 2 teams such that the difference between the total weights of the 2 teams are minimum. While dividing , ensure that difference in number of players between the teams is minimum. Output the difference in number of players in 2 teams.**\n",
    "\n",
    "Input Size : 1<= N <= 100000\n",
    "\n",
    "**Sample Testcases:**\n",
    "\n",
    "**INPUT**\n",
    "\n",
    "7\n",
    "\n",
    "1 2 3 4 5 6 7\n",
    "\n",
    "**OUTPUT**\n",
    "\n",
    "3"
   ]
  },
  {
   "cell_type": "code",
   "execution_count": null,
   "metadata": {},
   "outputs": [
    {
     "name": "stdout",
     "output_type": "stream",
     "text": [
      "3\n"
     ]
    }
   ],
   "source": [
    "def min_player_difference(N, weights):\n",
    "    weights.sort()\n",
    "    \n",
    "    # Number of players in team 1 and team 2\n",
    "    team1_size = N // 2 - 1\n",
    "    team2_size = N - team1_size\n",
    "    return abs(team1_size - team2_size)\n",
    "\n",
    "N = int(input())\n",
    "weights = list(map(int, input().split()))\n",
    "print(min_player_difference(N, weights))"
   ]
  },
  {
   "cell_type": "code",
   "execution_count": 4,
   "metadata": {},
   "outputs": [
    {
     "name": "stdout",
     "output_type": "stream",
     "text": [
      "3\n"
     ]
    }
   ],
   "source": [
    "def divide_players(N, weights):\n",
    "    weights.sort()\n",
    "    team1 = weights[:N//2]\n",
    "    team2 = weights[N+1//2:]\n",
    "    return abs(len(team1) - len(team2))\n",
    "\n",
    "N = int(input())\n",
    "weights = list(map(int, input().split()))\n",
    "print(divide_players(N, weights))"
   ]
  },
  {
   "cell_type": "markdown",
   "metadata": {},
   "source": [
    "### **59. Given a Binary Tree with N nodes and N-1 edges, print the mirror image of the tree with 1 as the root.**\n",
    "\n",
    "Input Size : 1 <= N <= 100000\n",
    "\n",
    "**Sample Testcases:**\n",
    "\n",
    "**INPUT**\n",
    "\n",
    "1\n",
    "\n",
    "**OUTPUT**\n",
    "\n",
    "1"
   ]
  },
  {
   "cell_type": "code",
   "execution_count": null,
   "metadata": {},
   "outputs": [
    {
     "name": "stdout",
     "output_type": "stream",
     "text": [
      "1\n"
     ]
    }
   ],
   "source": [
    "from collections import defaultdict, deque\n",
    "\n",
    "def mirror_tree(node, tree):\n",
    "    if node is None:\n",
    "        return\n",
    "\n",
    "    left, right = tree[node]\n",
    "    tree[node] = (right, left)\n",
    "    if left != -1:\n",
    "        mirror_tree(left, tree)\n",
    "    if right != -1:\n",
    "        mirror_tree(right, tree)\n",
    "\n",
    "def level_order_traversal(root, tree):\n",
    "    # BFS to traverse the tree\n",
    "    queue = deque([root])\n",
    "    result = []\n",
    "    \n",
    "    while queue:\n",
    "        node = queue.popleft()\n",
    "        if node != -1:\n",
    "            result.append(node)\n",
    "            left, right = tree[node]\n",
    "            if left != -1:\n",
    "                queue.append(left)\n",
    "            if right != -1:\n",
    "                queue.append(right)\n",
    "    \n",
    "    print(\" \".join(map(str, result)))\n",
    "\n",
    "def main():\n",
    "    N = int(input())\n",
    "    if N == 1:\n",
    "        print(1)\n",
    "        return\n",
    "\n",
    "    tree = defaultdict(lambda: (-1, -1))\n",
    "    for _ in range(N - 1):\n",
    "        parent, child, direction = map(int, input().split())\n",
    "        left, right = tree[parent]\n",
    "        if direction == 0:\n",
    "            tree[parent] = (child, right)  # Left child\n",
    "        else:\n",
    "            tree[parent] = (left, child)  # Right child\n",
    "    root = 1\n",
    "    mirror_tree(root, tree)\n",
    "    level_order_traversal(root, tree)\n",
    "\n",
    "if __name__ == \"__main__\":\n",
    "    main()"
   ]
  },
  {
   "cell_type": "markdown",
   "metadata": {},
   "source": [
    "### **60. Given a number N followed by an array of N integers, replace every element with the greatest element on the right side(to that element) in the array. Replace last element with 0 as there no element on the right side of it.**\n",
    "\n",
    "eg. if the array is {6, 7, 4, 3, 5, 2}, output {7, 5, 5, 5, 2, 0}.\n",
    "\n",
    "Input Size : N <= 100000\n",
    "\n",
    "**Sample Testcase:**\n",
    "\n",
    "**INPUT**\n",
    "\n",
    "6\n",
    "\n",
    "6 7 4 3 5 2\n",
    "\n",
    "**OUTPUT**\n",
    "\n",
    "7 5 5 5 2 0"
   ]
  },
  {
   "cell_type": "code",
   "execution_count": null,
   "metadata": {},
   "outputs": [
    {
     "name": "stdout",
     "output_type": "stream",
     "text": [
      "7 5 5 5 2 0\n"
     ]
    }
   ],
   "source": [
    "def replace_with_greatest_on_right(arr):\n",
    "    n = len(arr)\n",
    "    max_right = 0  # Start with 0 for the last element\n",
    "\n",
    "    # Traverse the array from the right to the left\n",
    "    for i in range(n - 1, -1, -1):\n",
    "        current_value = arr[i]\n",
    "        arr[i] = max_right\n",
    "        max_right = max(max_right, current_value)    \n",
    "    return arr\n",
    "\n",
    "N = int(input())\n",
    "arr = list(map(int, input().split()))\n",
    "result = replace_with_greatest_on_right(arr)\n",
    "print(*result)"
   ]
  },
  {
   "cell_type": "code",
   "execution_count": null,
   "metadata": {},
   "outputs": [],
   "source": []
  }
 ],
 "metadata": {
  "kernelspec": {
   "display_name": "py12",
   "language": "python",
   "name": "python3"
  },
  "language_info": {
   "codemirror_mode": {
    "name": "ipython",
    "version": 3
   },
   "file_extension": ".py",
   "mimetype": "text/x-python",
   "name": "python",
   "nbconvert_exporter": "python",
   "pygments_lexer": "ipython3",
   "version": "3.12.7"
  }
 },
 "nbformat": 4,
 "nbformat_minor": 2
}
