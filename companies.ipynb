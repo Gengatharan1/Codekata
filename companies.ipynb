{
 "cells": [
  {
   "cell_type": "markdown",
   "metadata": {},
   "source": [
    "### **1. Given the values of a,b and x in the equation ax + b = y. Find the value of y.**\n",
    "\n",
    "**Sample Testcase:**\n",
    "\n",
    "**INPUT**\n",
    "\n",
    "3 5 2\n",
    "\n",
    "**OUTPUT**\n",
    "\n",
    "11"
   ]
  },
  {
   "cell_type": "code",
   "execution_count": 1,
   "metadata": {},
   "outputs": [
    {
     "name": "stdout",
     "output_type": "stream",
     "text": [
      "11\n"
     ]
    }
   ],
   "source": [
    "# Function to calculate y\n",
    "def calculate_y(a, b, x):\n",
    "    return a * x + b\n",
    "\n",
    "a, b, x = map(int, input().split())\n",
    "y = calculate_y(a, b, x)\n",
    "print(y)"
   ]
  },
  {
   "cell_type": "markdown",
   "metadata": {},
   "source": [
    "### **2. Given a number N and array of N integers, print the difference between the indices of smallest and largest number(if there are multiple occurances, consider the first occurance).**\n",
    "\n",
    "Input Size : |N| <= 1000000\n",
    "\n",
    "**Sample Testcase:**\n",
    "\n",
    "**INPUT**\n",
    "\n",
    "5\n",
    "\n",
    "3 5 4 4 7\n",
    "\n",
    "**OUTPUT**\n",
    "\n",
    "4"
   ]
  },
  {
   "cell_type": "code",
   "execution_count": 2,
   "metadata": {},
   "outputs": [
    {
     "name": "stdout",
     "output_type": "stream",
     "text": [
      "4\n"
     ]
    }
   ],
   "source": [
    "def index_difference_min_max(N, arr):\n",
    "    if N == 0:\n",
    "        print(-1)\n",
    "        return\n",
    "\n",
    "    min_value = float('inf')\n",
    "    max_value = float('-inf')\n",
    "    min_index = -1\n",
    "    max_index = -1\n",
    "\n",
    "    for i in range(N):\n",
    "        if arr[i] < min_value:\n",
    "            min_value = arr[i]\n",
    "            min_index = i\n",
    "        if arr[i] > max_value:\n",
    "            max_value = arr[i]\n",
    "            max_index = i\n",
    "\n",
    "    index_difference = abs(max_index - min_index)\n",
    "    print(index_difference)\n",
    "\n",
    "N = int(input())\n",
    "arr = list(map(int, input().split()))\n",
    "index_difference_min_max(N, arr)"
   ]
  },
  {
   "cell_type": "markdown",
   "metadata": {},
   "source": [
    "### **3. How many possible ways are to shuffle given number of playing cards?.**\n",
    "\n",
    "Input Size : |N| <= 1000000\n",
    "\n",
    "**Sample Testcase:**\n",
    "\n",
    "**INPUT**\n",
    "\n",
    "7\n",
    "\n",
    "**OUTPUT**\n",
    "\n",
    "5040"
   ]
  },
  {
   "cell_type": "code",
   "execution_count": 3,
   "metadata": {},
   "outputs": [
    {
     "name": "stdout",
     "output_type": "stream",
     "text": [
      "5040\n"
     ]
    }
   ],
   "source": [
    "import math\n",
    "\n",
    "N = int(input(\"Enter the number of cards: \"))\n",
    "\n",
    "# Calculate factorial\n",
    "if N <= 1000000:\n",
    "    result = math.factorial(N)\n",
    "    print(result)\n",
    "else:\n",
    "    print(\"Input size exceeds the limit.\")"
   ]
  },
  {
   "cell_type": "markdown",
   "metadata": {},
   "source": [
    "### **4. Given 2 arrays print 'yes' if they are mirror images of each other,otherwise 'no'.**\n",
    "\n",
    "Input Size : N <= 1000000\n",
    "\n",
    "**Sample Testcase:**\n",
    "\n",
    "**INPUT**\n",
    "\n",
    "4\n",
    "\n",
    "1 2 3 4\n",
    "\n",
    "4 3 2 1\n",
    "\n",
    "**OUTPUT**\n",
    "\n",
    "yes"
   ]
  },
  {
   "cell_type": "code",
   "execution_count": 5,
   "metadata": {},
   "outputs": [
    {
     "name": "stdout",
     "output_type": "stream",
     "text": [
      "yes\n"
     ]
    }
   ],
   "source": [
    "def are_mirror_images(arr1, arr2, N):\n",
    "    if arr1 == arr2[::-1]:\n",
    "        return \"yes\"\n",
    "    else:\n",
    "        return \"no\"\n",
    "\n",
    "N = int(input())\n",
    "arr1 = list(map(int, input().split()))\n",
    "arr2 = list(map(int, input().split()))\n",
    "print(are_mirror_images(arr1, arr2, N))"
   ]
  },
  {
   "cell_type": "markdown",
   "metadata": {},
   "source": [
    "### **5. Given base(B) and height(H) of a triangle find its area.**\n",
    "\n",
    "Input Size : N <= 1000000\n",
    "\n",
    "**Sample Testcase:**\n",
    "\n",
    "**INPUT**\n",
    "\n",
    "2 4\n",
    "\n",
    "**OUTPUT**\n",
    "\n",
    "4"
   ]
  },
  {
   "cell_type": "code",
   "execution_count": 4,
   "metadata": {},
   "outputs": [
    {
     "name": "stdout",
     "output_type": "stream",
     "text": [
      "4.0\n"
     ]
    }
   ],
   "source": [
    "def calculate_triangle_area(B, H):\n",
    "    return (1/2) * B * H\n",
    "\n",
    "B, H = map(int, input().split())\n",
    "area = calculate_triangle_area(B, H)\n",
    "print(area)"
   ]
  },
  {
   "cell_type": "markdown",
   "metadata": {},
   "source": [
    "### **6. Given a number N and an array of N strings,Print yes, if all strings have atleast one vowel in them otherwise print no.**\n",
    "\n",
    "Input Size : N <= 1000\n",
    "\n",
    "**Sample Testcase:**\n",
    "\n",
    "**INPUT**\n",
    "\n",
    "5\n",
    "\n",
    "code\n",
    "\n",
    "overload\n",
    "\n",
    "vishal\n",
    "\n",
    "sundar\n",
    "\n",
    "anish\n",
    "\n",
    "**OUTPUT**\n",
    "\n",
    "yes"
   ]
  },
  {
   "cell_type": "code",
   "execution_count": 6,
   "metadata": {},
   "outputs": [
    {
     "name": "stdout",
     "output_type": "stream",
     "text": [
      "yes\n"
     ]
    }
   ],
   "source": [
    "def contains_vowel(s):\n",
    "    vowels = \"aeiouAEIOU\"\n",
    "    for char in s:\n",
    "        if char in vowels:\n",
    "            return True\n",
    "    return False\n",
    "\n",
    "def check_all_strings_have_vowels(N, strings):\n",
    "    for string in strings:\n",
    "        if not contains_vowel(string):\n",
    "            return \"no\"\n",
    "    return \"yes\"\n",
    "\n",
    "N = int(input())\n",
    "strings = [input().strip() for _ in range(N)]\n",
    "print(check_all_strings_have_vowels(N, strings))"
   ]
  },
  {
   "cell_type": "markdown",
   "metadata": {},
   "source": [
    "### **7. Given a string and a number K, change every kth character to uppercase from beginning in string.**\n",
    "\n",
    "**Sample Testcase:**\n",
    "\n",
    "**INPUT**\n",
    "\n",
    "string 2\n",
    "\n",
    "**OUTPUT**\n",
    "\n",
    "sTrInG"
   ]
  },
  {
   "cell_type": "code",
   "execution_count": 7,
   "metadata": {},
   "outputs": [
    {
     "name": "stdout",
     "output_type": "stream",
     "text": [
      "sTrInG\n"
     ]
    }
   ],
   "source": [
    "my_str, num = input().split()\n",
    "num = int(num)  # Convert num to an integer\n",
    "\n",
    "# Check if the given num is positive\n",
    "if num > 0:\n",
    "    # Convert string to a list of characters to modify\n",
    "    my_str_list = list(my_str)\n",
    "    \n",
    "    # Modify every kth character to uppercase\n",
    "    for i in range(num - 1, len(my_str_list), num):\n",
    "        my_str_list[i] = my_str_list[i].upper()\n",
    "    my_str = ''.join(my_str_list)\n",
    "    print(my_str)\n",
    "else:\n",
    "    print(my_str)"
   ]
  },
  {
   "cell_type": "markdown",
   "metadata": {},
   "source": [
    "### **8. Given a string S ,print the vowels first and then consonants in the same order as they have occurred in the string.**\n",
    "\n",
    "Input Size : N <= 10000\n",
    "\n",
    "**Sample Testcase:**\n",
    "\n",
    "**INPUT**\n",
    "\n",
    "GuVI\n",
    "\n",
    "**OUTPUT**\n",
    "\n",
    "uIGV"
   ]
  },
  {
   "cell_type": "code",
   "execution_count": 8,
   "metadata": {},
   "outputs": [
    {
     "name": "stdout",
     "output_type": "stream",
     "text": [
      "uIGV\n"
     ]
    }
   ],
   "source": [
    "def separate_vowels_consonants(S):\n",
    "    vowels = \"aeiouAEIOU\"\n",
    "    vowel_part = \"\"\n",
    "    consonant_part = \"\"\n",
    "    \n",
    "    for char in S:\n",
    "        if char in vowels:\n",
    "            vowel_part += char\n",
    "        elif char.isalpha():\n",
    "            consonant_part += char\n",
    "    print(vowel_part + consonant_part)\n",
    "\n",
    "S = input().strip()\n",
    "separate_vowels_consonants(S)"
   ]
  },
  {
   "cell_type": "markdown",
   "metadata": {},
   "source": [
    "### **9. Given a number 'N' print the sum of each digit to the power of number of digits in given input.**\n",
    "\n",
    "**Example:**\n",
    "\n",
    "Input => 1234\n",
    "=> ( 1 ^ 4 ) + ( 2 ^ 4 ) + ( 3 ^ 4 ) + ( 4 ^ 4 )\n",
    "=> 1 + 16 + 81 + 256\n",
    "\n",
    "Output => 354\n",
    "N <=100000000000\n",
    "\n",
    "**Sample Testcase:**\n",
    "\n",
    "**INPUT**\n",
    "\n",
    "1234\n",
    "\n",
    "**OUTPUT**\n",
    "\n",
    "354"
   ]
  },
  {
   "cell_type": "code",
   "execution_count": 9,
   "metadata": {},
   "outputs": [
    {
     "name": "stdout",
     "output_type": "stream",
     "text": [
      "354\n"
     ]
    }
   ],
   "source": [
    "def sum_of_powers(n):\n",
    "    # Convert number to string to easily iterate over digits\n",
    "    str_n = str(n)\n",
    "    num_digits = len(str_n)  # Number of digits in the input number\n",
    "    total_sum = 0\n",
    "    \n",
    "    # Calculate the sum of each digit raised to the power of num_digits\n",
    "    for digit in str_n:\n",
    "        total_sum += int(digit) ** num_digits\n",
    "    return total_sum\n",
    "\n",
    "n = int(input())\n",
    "result = sum_of_powers(n)\n",
    "print(result)"
   ]
  },
  {
   "cell_type": "markdown",
   "metadata": {},
   "source": [
    "### **10. Given a number N followed by a list of N numbers. Write a program to reverse the list and print the list.**\n",
    "\n",
    "Input Size : 1 <= N <= 10000\n",
    "\n",
    "**Sample Testcases:**\n",
    "\n",
    "**INPUT**\n",
    "\n",
    "7\n",
    "\n",
    "1 2 3 4 5 6 7\n",
    "\n",
    "**OUTPUT**\n",
    "\n",
    "7->6->5->4->3->2->1"
   ]
  },
  {
   "cell_type": "code",
   "execution_count": 10,
   "metadata": {},
   "outputs": [
    {
     "name": "stdout",
     "output_type": "stream",
     "text": [
      "7->6->5->4->3->2->1\n"
     ]
    }
   ],
   "source": [
    "def reverse_list_and_print(n, numbers):\n",
    "    # Reverse the list\n",
    "    reversed_list = numbers[::-1]\n",
    "    \n",
    "    # Join the reversed list with '->' and print\n",
    "    output = '->'.join(map(str, reversed_list))\n",
    "    print(output)\n",
    "\n",
    "N = int(input())\n",
    "numbers = list(map(int, input().split()))\n",
    "reverse_list_and_print(N, numbers)"
   ]
  },
  {
   "cell_type": "markdown",
   "metadata": {},
   "source": [
    "### **11. Given 2 numbers N,K and an array of N integers, find if the element K exists in the array.**\n",
    "\n",
    "Input Size : N <= 100000\n",
    "\n",
    "**Sample Testcase:**\n",
    "\n",
    "**INPUT**\n",
    "\n",
    "5 2\n",
    "\n",
    "1 2 3 4 5\n",
    "\n",
    "**OUTPUT**\n",
    "\n",
    "yes\n",
    "\n",
    "HINT: Read about Binary Search"
   ]
  },
  {
   "cell_type": "code",
   "execution_count": 11,
   "metadata": {},
   "outputs": [
    {
     "name": "stdout",
     "output_type": "stream",
     "text": [
      "yes\n"
     ]
    }
   ],
   "source": [
    "def binary_search(arr, target):\n",
    "    left, right = 0, len(arr) - 1\n",
    "    \n",
    "    while left <= right:\n",
    "        mid = left + (right - left) // 2\n",
    "        \n",
    "        if arr[mid] == target:\n",
    "            return True\n",
    "        elif arr[mid] < target:\n",
    "            left = mid + 1\n",
    "        else:\n",
    "            right = mid - 1\n",
    "            \n",
    "    return False\n",
    "\n",
    "N, K = map(int, input().split())\n",
    "arr = list(map(int, input().split()))\n",
    "arr.sort()\n",
    "\n",
    "# Perform binary search to find K\n",
    "if binary_search(arr, K):\n",
    "    print(\"yes\")\n",
    "else:\n",
    "    print(\"no\")"
   ]
  },
  {
   "cell_type": "markdown",
   "metadata": {},
   "source": [
    "### **12. Print the position of first 1 from left to right, in binary representation of product of 2 integers after the first one.**\n",
    "\n",
    "**Sample Testcase:**\n",
    "\n",
    "**INPUT**\n",
    "\n",
    "18 2\n",
    "\n",
    "**OUTPUT**\n",
    "\n",
    "4"
   ]
  },
  {
   "cell_type": "code",
   "execution_count": 13,
   "metadata": {},
   "outputs": [
    {
     "name": "stdout",
     "output_type": "stream",
     "text": [
      "4\n"
     ]
    }
   ],
   "source": [
    "def first_one_position(a, b):\n",
    "    product = a * b\n",
    "    if product == 0:\n",
    "        return 0\n",
    "    \n",
    "    # Convert to binary representation\n",
    "    binary_repr = bin(product)[2:]  # Remove the '0b' prefix\n",
    "    \n",
    "    # Find the position of the second '1'\n",
    "    first_one_found = False\n",
    "    for i, bit in enumerate(binary_repr):\n",
    "        if bit == '1':\n",
    "            if first_one_found:\n",
    "                return i + 1\n",
    "            first_one_found = True\n",
    "    return 0\n",
    "\n",
    "a, b = map(int, input().split())\n",
    "position = first_one_position(a, b)\n",
    "print(position)"
   ]
  },
  {
   "cell_type": "markdown",
   "metadata": {},
   "source": [
    "### **13. Given a sentence interchange the between the word 'and'.**\n",
    "\n",
    "Input Size : |S| <= 1000000\n",
    "\n",
    "**Sample Testcase:**\n",
    "\n",
    "**INPUT**\n",
    "\n",
    "jack and jill went up and down to get water\n",
    "\n",
    "**OUTPUT**\n",
    "\n",
    "jill and jack went down and up to get water"
   ]
  },
  {
   "cell_type": "code",
   "execution_count": 14,
   "metadata": {},
   "outputs": [
    {
     "name": "stdout",
     "output_type": "stream",
     "text": [
      "jill and jack went down and up to get water\n"
     ]
    }
   ],
   "source": [
    "def swap_words_around_and(sentence):\n",
    "    words = sentence.split()\n",
    "    i = 0\n",
    "    while i < len(words):\n",
    "        if words[i] == \"and\" and i > 0 and i < len(words) - 1:\n",
    "            words[i-1], words[i+1] = words[i+1], words[i-1]\n",
    "            i += 2\n",
    "        else:\n",
    "            i += 1\n",
    "    return ' '.join(words)\n",
    "\n",
    "sentence = input().strip()\n",
    "print(swap_words_around_and(sentence))"
   ]
  },
  {
   "cell_type": "markdown",
   "metadata": {},
   "source": [
    "### **14. Given a number N print a right angled traingle structure with the starting level as single 1 and every immediate proceeding level with 2 more additional ones than the previous level .Repeat the pattern for N levels.**\n",
    "\n",
    "Input Size : N <= 1000\n",
    "\n",
    "**Sample Testcase:**\n",
    "\n",
    "**INPUT**\n",
    "\n",
    "3\n",
    "\n",
    "**OUTPUT**\n",
    "\n",
    "1\n",
    "\n",
    "1 1 1\n",
    "\n",
    "1 1 1 1 1"
   ]
  },
  {
   "cell_type": "code",
   "execution_count": 15,
   "metadata": {},
   "outputs": [
    {
     "name": "stdout",
     "output_type": "stream",
     "text": [
      "1\n",
      "1 1 1\n",
      "1 1 1 1 1\n"
     ]
    }
   ],
   "source": [
    "N = int(input())\n",
    "k = '1'\n",
    "for i in range(N):\n",
    "    print(k)\n",
    "    k += ' 1 1'"
   ]
  },
  {
   "cell_type": "markdown",
   "metadata": {},
   "source": [
    "### **15. Given a string 'S', sort the characters based on the frequency(highest and lowest) and print the resultant string.(Note:If the frequency of different character is same then sort based on alphabetical order).**\n",
    "\n",
    "Input Size : 1 <= S <= 100000\n",
    "\n",
    "**Sample Testcases:**\n",
    "\n",
    "**INPUT**\n",
    "\n",
    "aabbba\n",
    "\n",
    "**OUTPUT**\n",
    "\n",
    "aaabbb"
   ]
  },
  {
   "cell_type": "code",
   "execution_count": 17,
   "metadata": {},
   "outputs": [
    {
     "name": "stdout",
     "output_type": "stream",
     "text": [
      "aaabbb\n"
     ]
    }
   ],
   "source": [
    "from collections import Counter\n",
    "\n",
    "def sort_by_frequency(s):\n",
    "    # Count the frequency of each character\n",
    "    freq = Counter(s)\n",
    "    \n",
    "    # Sort by frequency (descending), then alphabetically (ascending)\n",
    "    sorted_chars = sorted(freq.items(), key=lambda x: (-x[1], x[0]))\n",
    "    \n",
    "    # Build the resultant string\n",
    "    result = ''.join(char * count for char, count in sorted_chars)\n",
    "    return result\n",
    "\n",
    "s = input()\n",
    "print(sort_by_frequency(s))"
   ]
  },
  {
   "cell_type": "markdown",
   "metadata": {},
   "source": [
    "### **16. Roman Reigns want to identify the repeated letters in two given strings and capitalize it.Help him to achieve it.**\n",
    "\n",
    "**Sample Testcase:**\n",
    "\n",
    "**INPUT**\n",
    "\n",
    "computer program\n",
    "\n",
    "**OUTPUT**\n",
    "\n",
    "cOMPuteR PROgRaM"
   ]
  },
  {
   "cell_type": "code",
   "execution_count": null,
   "metadata": {},
   "outputs": [
    {
     "name": "stdout",
     "output_type": "stream",
     "text": [
      "cOMPuteR PROgRaM\n"
     ]
    }
   ],
   "source": [
    "from collections import Counter\n",
    "\n",
    "def capitalize_repeated_letters(words):\n",
    "    combined = ''.join(words)\n",
    "    freq = Counter(combined)\n",
    "    \n",
    "    # Identify repeated letters\n",
    "    repeated_letters = {ch for ch, count in freq.items() if count > 1}\n",
    "    \n",
    "    # to capitalize repeated letters in a word\n",
    "    def process_word(word):\n",
    "        return ''.join(ch.upper() if ch in repeated_letters else ch for ch in word)\n",
    "    result = [process_word(word) for word in words]\n",
    "    return ' '.join(result)\n",
    "\n",
    "words = input().split()\n",
    "print(capitalize_repeated_letters(words))"
   ]
  },
  {
   "cell_type": "markdown",
   "metadata": {},
   "source": [
    "### **17. A tree is a connected acyclic graph. A bipartite graph is a graph, whose vertices can be partitionedinto 2 sets in such a way, that for each edge (u, v) that belongs to the graph, u and v belong todifferent sets. You can find more formal definitions of a tree and a bipartite graph in the notessection below. Consider a tree consisting of n nodes and add edges to it in such a way, that the graph is stillbipartite. Besides, after adding these edges the graph should be simple (should’nt contain loops ormultiple edges). What is the maximum number of edges they can add? A loop is an edge, which connects a node with itself. Graph doesn't contain multiple edges when foreach pair of nodes there is no more than one edge between them. A cycle and a loop aren't thesame.**\n",
    "\n",
    "Input Size : |N| <= 1000000\n",
    "\n",
    "**Sample Testcase:**\n",
    "\n",
    "**INPUT**\n",
    "\n",
    "5\n",
    "\n",
    "1 2\n",
    "\n",
    "2 3\n",
    "\n",
    "3 4\n",
    "\n",
    "4 5\n",
    "\n",
    "**OUTPUT**\n",
    "\n",
    "2"
   ]
  },
  {
   "cell_type": "code",
   "execution_count": null,
   "metadata": {},
   "outputs": [
    {
     "name": "stdout",
     "output_type": "stream",
     "text": [
      "2\n"
     ]
    }
   ],
   "source": [
    "from collections import defaultdict, deque\n",
    "\n",
    "def max_additional_edges(n, edges):\n",
    "    # Tree adjacency list\n",
    "    graph = defaultdict(list)\n",
    "    for u, v in edges:\n",
    "        graph[u].append(v)\n",
    "        graph[v].append(u)\n",
    "    \n",
    "    # Partition into sets A and B using BFS\n",
    "    color = [-1] * (n + 1)  # -1: unvisited, 0: set A, 1: set B\n",
    "    queue = deque([1])\n",
    "    color[1] = 0  # Start with node 1 in set A\n",
    "    set_sizes = [0, 0]  # Sizes of sets A and B\n",
    "    \n",
    "    while queue:\n",
    "        node = queue.popleft()\n",
    "        set_sizes[color[node]] += 1\n",
    "        for neighbor in graph[node]:\n",
    "            if color[neighbor] == -1:  # Unvisited\n",
    "                color[neighbor] = 1 - color[node]  # Assign to the opposite set\n",
    "                queue.append(neighbor)\n",
    "    \n",
    "    # Sizes of sets A and B\n",
    "    a_size, b_size = set_sizes\n",
    "    \n",
    "    # Maximum additional edges\n",
    "    max_edges = a_size * b_size - (n - 1)\n",
    "    return max_edges\n",
    "\n",
    "n = int(input())\n",
    "edges = []\n",
    "for _ in range(n - 1):\n",
    "    u, v = map(int, input().split())\n",
    "    edges.append((u, v))\n",
    "print(max_additional_edges(n, edges))"
   ]
  },
  {
   "cell_type": "markdown",
   "metadata": {},
   "source": [
    "### **18. Given a string, print the run-length encoded output.**\n",
    "\n",
    "Input Size : N <= 100000\n",
    "\n",
    "**Sample Testcase:**\n",
    "\n",
    "**INPUT**\n",
    "\n",
    "aaab\n",
    "\n",
    "**OUTPUT**\n",
    "\n",
    "a3b1"
   ]
  },
  {
   "cell_type": "code",
   "execution_count": 21,
   "metadata": {},
   "outputs": [
    {
     "name": "stdout",
     "output_type": "stream",
     "text": [
      "a3b1\n"
     ]
    }
   ],
   "source": [
    "def run_length_encoding(s):\n",
    "    # Initialize the result as an empty string\n",
    "    result = \"\"\n",
    "    \n",
    "    # Start with the first character\n",
    "    current_char = s[0]\n",
    "    count = 1\n",
    "    \n",
    "    # Iterate over the string starting from the second character\n",
    "    for i in range(1, len(s)):\n",
    "        if s[i] == current_char:\n",
    "            # If the current character matches the previous one, increment count\n",
    "            count += 1\n",
    "        else:\n",
    "            # Otherwise, append the current character and its count to the result\n",
    "            result += current_char + str(count)\n",
    "            # Move to the next character\n",
    "            current_char = s[i]\n",
    "            count = 1\n",
    "    result += current_char + str(count) # Append the last character and its count\n",
    "    return result\n",
    "\n",
    "input_str = input().strip()\n",
    "print(run_length_encoding(input_str))"
   ]
  },
  {
   "cell_type": "markdown",
   "metadata": {},
   "source": [
    "### **19. Given two strings S1 and S2,display 'yes' if given two strings are complementary otherwise display 'no'. If we join alphabets of both the strings we should get all 26 capital letters exactly once, then only we can call them as complementary.**\n",
    "\n",
    "**Sample Testcase:**\n",
    "\n",
    "**INPUT**\n",
    "\n",
    "ABDCFGIJKLMNOPQUVWXYZ\n",
    "\n",
    "EHRST\n",
    "\n",
    "**OUTPUT**\n",
    "\n",
    "yes"
   ]
  },
  {
   "cell_type": "code",
   "execution_count": 30,
   "metadata": {},
   "outputs": [
    {
     "name": "stdout",
     "output_type": "stream",
     "text": [
      "yes\n"
     ]
    }
   ],
   "source": [
    "A =['A','B','C','D','E','F','G','H','I','J','K','L','M','N','O','P','Q','R','S','T','U','V','W','X','Y','Z']\n",
    "\n",
    "A1=input()\n",
    "A2=input()\n",
    "\n",
    "cout=0\n",
    "if len(A1)+len(A2)==len(A):\n",
    "    for i in A1:\n",
    "        if i in A:\n",
    "            A.remove(i)\n",
    "    for i in A2:\n",
    "        if i in A:\n",
    "            A.remove(i)\n",
    "    if len(A)==0:\n",
    "        print('yes')\n",
    "    else:\n",
    "        print('no')\n",
    "else:\n",
    "    print('no')"
   ]
  },
  {
   "cell_type": "code",
   "execution_count": null,
   "metadata": {},
   "outputs": [
    {
     "name": "stdout",
     "output_type": "stream",
     "text": [
      "yes\n"
     ]
    }
   ],
   "source": [
    "# Another method:\n",
    "\n",
    "def are_complementary(s1, s2):\n",
    "    combined = set(s1 + s2)     # Combine characters from both strings\n",
    "    \n",
    "    # Check if the combined set contains all 26 uppercase English letters\n",
    "    if len(combined) == 26 and all('A' <= ch <= 'Z' for ch in combined):\n",
    "        return \"yes\"\n",
    "    else:\n",
    "        return \"no\"\n",
    "\n",
    "s1 = input().strip()\n",
    "s2 = input().strip()\n",
    "print(are_complementary(s1, s2))"
   ]
  },
  {
   "cell_type": "markdown",
   "metadata": {},
   "source": [
    "### **20. Given a number N, find the smallest number which is greater than N with the same digits in N. If N is the greatest digit print 'impossible'.**\n",
    "\n",
    "Input Size : 1 <= N <= 1000000000000000000\n",
    "\n",
    "**Sample Testcases:**\n",
    "\n",
    "**INPUT**\n",
    "\n",
    "123\n",
    "\n",
    "**OUTPUT**\n",
    "\n",
    "132"
   ]
  },
  {
   "cell_type": "code",
   "execution_count": null,
   "metadata": {},
   "outputs": [
    {
     "name": "stdout",
     "output_type": "stream",
     "text": [
      "132\n"
     ]
    }
   ],
   "source": [
    "def next_greater_number(n):\n",
    "    digits = list(str(n))   # Convert the number to a list of digits\n",
    "    length = len(digits)\n",
    "    \n",
    "    # Find the pivot\n",
    "    i = length - 2\n",
    "    while i >= 0 and digits[i] >= digits[i + 1]:\n",
    "        i -= 1\n",
    "    \n",
    "    # If no pivot is found, it's the greatest permutation\n",
    "    if i == -1:\n",
    "        return \"impossible\"\n",
    "    \n",
    "    # Find the smallest larger digit to the right of the pivot\n",
    "    j = length - 1\n",
    "    while digits[j] <= digits[i]:\n",
    "        j -= 1\n",
    "    \n",
    "    # Swap the pivot with the smallest larger digit\n",
    "    digits[i], digits[j] = digits[j], digits[i]\n",
    "    \n",
    "    # Reverse the suffix\n",
    "    digits = digits[:i + 1] + digits[i + 1:][::-1]\n",
    "    \n",
    "    # Convert back to integer and return\n",
    "    return int(\"\".join(digits))\n",
    "\n",
    "n = int(input().strip())\n",
    "print(next_greater_number(n))"
   ]
  },
  {
   "cell_type": "markdown",
   "metadata": {},
   "source": [
    "### **21. Given a string 'S' print the substring of maximum length which is not a palindrome.If more than one solution is possible print the solution which you obtained by performing elimination at the end of the string.**\n",
    "\n",
    "Input Size : 1 <= length <= 1000\n",
    "\n",
    "**Sample Testcases:**\n",
    "\n",
    "**INPUT**\n",
    "\n",
    "ababababa\n",
    "\n",
    "**OUTPUT**\n",
    "\n",
    "abababab\n",
    "\n",
    "**INPUT**\n",
    "\n",
    "hello\n",
    "\n",
    "**OUTPUT**\n",
    "\n",
    "hello"
   ]
  },
  {
   "cell_type": "code",
   "execution_count": 24,
   "metadata": {},
   "outputs": [
    {
     "name": "stdout",
     "output_type": "stream",
     "text": [
      "abababab\n"
     ]
    }
   ],
   "source": [
    "def is_palindrome(s):\n",
    "    return s == s[::-1]\n",
    "\n",
    "def longest_non_palindrome_substring(s):\n",
    "    # If the string is already not a palindrome, return it\n",
    "    if not is_palindrome(s):\n",
    "        return s\n",
    "    \n",
    "    # Iteratively remove characters from the end until it's not a palindrome\n",
    "    for i in range(len(s) - 1, 0, -1):\n",
    "        substring = s[:i]\n",
    "        if not is_palindrome(substring):\n",
    "            return substring\n",
    "    \n",
    "    # If all substrings are palindromes, return an empty string\n",
    "    return \"\"\n",
    "\n",
    "s = input().strip()\n",
    "print(longest_non_palindrome_substring(s))"
   ]
  },
  {
   "cell_type": "markdown",
   "metadata": {},
   "source": [
    "### **22. Given a number n followed by n numbers. Find the numbers which are equal to their index value and print them in sorted order. If no such numbers are present print '-1' without quotes.**\n",
    "\n",
    "Input Size : 1 <= n <= 100000\n",
    "\n",
    "**Sample Testcases:**\n",
    "\n",
    "**INPUT**\n",
    "\n",
    "6\n",
    "\n",
    "6 7 3 3 4 5\n",
    "\n",
    "**OUTPUT**\n",
    "\n",
    "3 4 5"
   ]
  },
  {
   "cell_type": "code",
   "execution_count": 29,
   "metadata": {},
   "outputs": [
    {
     "name": "stdout",
     "output_type": "stream",
     "text": [
      "3 4 5\n"
     ]
    }
   ],
   "source": [
    "def find_numbers_matching_index(n, numbers):\n",
    "    # Collect numbers that match their 1-based index\n",
    "    result = [numbers[i] for i in range(n) if numbers[i] == i]\n",
    "    \n",
    "    # Sort the result and print as required\n",
    "    if result:\n",
    "        print(\" \".join(map(str, sorted(result))))\n",
    "    else:\n",
    "        print(\"-1\")\n",
    "\n",
    "n = int(input().strip())\n",
    "numbers = list(map(int, input().strip().split()))\n",
    "find_numbers_matching_index(n, numbers)"
   ]
  },
  {
   "cell_type": "markdown",
   "metadata": {},
   "source": [
    "### **23. Given 2 numbers A,B. Print the GCD of A! and B!.**\n",
    "\n",
    "**Sample Testcase:**\n",
    "\n",
    "**INPUT**\n",
    "\n",
    "4 2\n",
    "\n",
    "**OUTPUT**\n",
    "\n",
    "2"
   ]
  },
  {
   "cell_type": "code",
   "execution_count": 27,
   "metadata": {},
   "outputs": [
    {
     "name": "stdout",
     "output_type": "stream",
     "text": [
      "2\n"
     ]
    }
   ],
   "source": [
    "import math\n",
    "\n",
    "def gcd_of_factorials(a, b):\n",
    "    # Find the minimum of A and B\n",
    "    min_value = min(a, b)\n",
    "    # Compute the factorial of the minimum value\n",
    "    result = math.factorial(min_value)\n",
    "    print(result)\n",
    "\n",
    "a, b = map(int, input().split())\n",
    "gcd_of_factorials(a, b)"
   ]
  },
  {
   "cell_type": "markdown",
   "metadata": {},
   "source": [
    "### **24. Given 2 numbers N,K and N arrays each of size K, print the elements that have appeared in all arrays,if any element are not same print '-1'.**\n",
    "\n",
    "Input Size : 2 <= N, K <= 100000\n",
    "\n",
    "**Sample Testcases:**\n",
    "\n",
    "**INPUT**\n",
    "\n",
    "2 3\n",
    "\n",
    "1 0 2\n",
    "\n",
    "0 8 7\n",
    "\n",
    "**OUTPUT**\n",
    "\n",
    "0"
   ]
  },
  {
   "cell_type": "code",
   "execution_count": null,
   "metadata": {},
   "outputs": [],
   "source": []
  },
  {
   "cell_type": "markdown",
   "metadata": {},
   "source": [
    "### **25. Given a number N followed by N numbers(negative or positive) print the maximum sum of any subarray of the array.**\n",
    "\n",
    "Input Size : 1 <= N <= 100000\n",
    "\n",
    "**Sample Testcases:**\n",
    "\n",
    "**INPUT**\n",
    "\n",
    "7\n",
    "\n",
    "1 2 3 4 5 6 7\n",
    "\n",
    "**OUTPUT**\n",
    "\n",
    "28"
   ]
  },
  {
   "cell_type": "code",
   "execution_count": 1,
   "metadata": {},
   "outputs": [
    {
     "name": "stdout",
     "output_type": "stream",
     "text": [
      "28\n"
     ]
    }
   ],
   "source": [
    "def max_subarray_sum(N, arr):\n",
    "    # Initialize the current sum and max sum to the first element of the array\n",
    "    current_sum = arr[0]\n",
    "    max_sum = arr[0]\n",
    "    \n",
    "    # Iterate over the array starting from the second element\n",
    "    for i in range(1, N):\n",
    "        current_sum = max(arr[i], current_sum + arr[i])\n",
    "        max_sum = max(max_sum, current_sum)    \n",
    "    return max_sum\n",
    "\n",
    "N = int(input())  # Read the size of the array\n",
    "arr = list(map(int, input().split()))  # Read the array elements\n",
    "\n",
    "# Calculate the maximum subarray sum\n",
    "result = max_subarray_sum(N, arr)\n",
    "print(result)"
   ]
  },
  {
   "cell_type": "markdown",
   "metadata": {},
   "source": [
    "### **26. Given a number N followed by an array of N numbers. Another number D is given. Rotate the array D times and print the array.**\n",
    "\n",
    "Input Size : N <= 100000, D<=100000\n",
    "\n",
    "**Sample Testcase:**\n",
    "\n",
    "**INPUT**\n",
    "\n",
    "4 1\n",
    "\n",
    "3 2 4 1\n",
    "\n",
    "**OUTPUT**\n",
    "\n",
    "2 4 1 3"
   ]
  },
  {
   "cell_type": "code",
   "execution_count": 2,
   "metadata": {},
   "outputs": [
    {
     "name": "stdout",
     "output_type": "stream",
     "text": [
      "2 4 1 3\n"
     ]
    }
   ],
   "source": [
    "def rotate_array(N, D, arr):\n",
    "    D = D % N   # Calculate the effective number of rotations\n",
    "    \n",
    "    # Rotate the array by slicing\n",
    "    rotated_arr = arr[D:] + arr[:D]\n",
    "    print(\" \".join(map(str, rotated_arr)))\n",
    "\n",
    "N, D = map(int, input().split())\n",
    "arr = list(map(int, input().split()))\n",
    "rotate_array(N, D, arr)"
   ]
  },
  {
   "cell_type": "markdown",
   "metadata": {},
   "source": [
    "### **27. Write a program to give the following output for the given string S of size N.(character containing even number of occurences should be elaborated else print the same format)**\n",
    "\n",
    "Eg 1: Input: a1b10\n",
    "Output: a1bbbbbbbbbb\n",
    "\n",
    "Eg: 2: Input: b3c6d15\n",
    "Output: b3ccccccd15\n",
    "\n",
    "Input Size : 1 <= N <= 100000\n",
    "\n",
    "**Sample Testcases:**\n",
    "\n",
    "**INPUT**\n",
    "\n",
    "a1b10\n",
    "\n",
    "**OUTPUT**\n",
    "\n",
    "a1bbbbbbbbbb"
   ]
  },
  {
   "cell_type": "code",
   "execution_count": 3,
   "metadata": {},
   "outputs": [
    {
     "name": "stdout",
     "output_type": "stream",
     "text": [
      "a1bbbbbbbbbb\n"
     ]
    }
   ],
   "source": [
    "import re\n",
    "\n",
    "def process_string(S):\n",
    "    # Using regular expression to match the pattern (letter followed by number)\n",
    "    pattern = re.compile(r'([a-zA-Z])(\\d+)')\n",
    "    result = []\n",
    "\n",
    "    # Find all matches (character followed by number)\n",
    "    for match in pattern.finditer(S):\n",
    "        char = match.group(1)\n",
    "        count = int(match.group(2))\n",
    "\n",
    "        # If the count is even, repeat the character\n",
    "        if count % 2 == 0:\n",
    "            result.append(char * count)\n",
    "        else:\n",
    "            result.append(f\"{char}{count}\")\n",
    "    \n",
    "    # Join and print the result\n",
    "    print(\"\".join(result))\n",
    "\n",
    "S = input().strip()\n",
    "process_string(S)"
   ]
  },
  {
   "cell_type": "markdown",
   "metadata": {},
   "source": [
    "### **28. Given a number N, print all prime numbers less than N(in ascending order).**\n",
    "\n",
    "Input Size : 1 <= N <= 100000\n",
    "\n",
    "**Sample Testcase:**\n",
    "\n",
    "**INPUT**\n",
    "\n",
    "10\n",
    "\n",
    "**OUTPUT**\n",
    "\n",
    "2 3 5 7"
   ]
  },
  {
   "cell_type": "code",
   "execution_count": 4,
   "metadata": {},
   "outputs": [
    {
     "name": "stdout",
     "output_type": "stream",
     "text": [
      "2 3 5 7\n"
     ]
    }
   ],
   "source": [
    "def sieve_of_eratosthenes(N):\n",
    "    # Create a boolean list of size N, initially assume all numbers are prime\n",
    "    is_prime = [True] * N\n",
    "    is_prime[0] = is_prime[1] = False  # 0 and 1 are not prime numbers\n",
    "    \n",
    "    # Perform the sieve\n",
    "    for i in range(2, int(N**0.5) + 1):  # Only go up to the square root of N\n",
    "        if is_prime[i]:\n",
    "            for j in range(i * i, N, i):\n",
    "                is_prime[j] = False\n",
    "    \n",
    "    # Collect and print all primes less than N\n",
    "    primes = [i for i in range(2, N) if is_prime[i]]\n",
    "    print(\" \".join(map(str, primes)))\n",
    "\n",
    "N = int(input().strip())\n",
    "sieve_of_eratosthenes(N)"
   ]
  },
  {
   "cell_type": "markdown",
   "metadata": {},
   "source": [
    "### **29. Given a number N, print the smallest number with sum of digits N.**\n",
    "Input Size : 1 <= N <= 100000\n",
    "\n",
    "**Sample Testcase:**\n",
    "\n",
    "**INPUT**\n",
    "\n",
    "12\n",
    "\n",
    "**OUTPUT**\n",
    "\n",
    "39"
   ]
  },
  {
   "cell_type": "code",
   "execution_count": 5,
   "metadata": {},
   "outputs": [
    {
     "name": "stdout",
     "output_type": "stream",
     "text": [
      "39\n"
     ]
    }
   ],
   "source": [
    "def smallest_number_with_sum(N):\n",
    "    digits = []\n",
    "    while N >= 9:\n",
    "        digits.append(9)\n",
    "        N -= 9\n",
    "\n",
    "    if N > 0:\n",
    "        digits.append(N)\n",
    "    \n",
    "    digits.reverse()\n",
    "    print(\"\".join(map(str, digits)))\n",
    "\n",
    "N = int(input().strip())\n",
    "smallest_number_with_sum(N)"
   ]
  },
  {
   "cell_type": "markdown",
   "metadata": {},
   "source": [
    "### **30. Given N strings and a prefix string p. Find how many of the N strings have p as their prefix.**\n",
    "\n",
    "for eg: String[] input={'100','111','10100','10','1111'} prefix='10'\n",
    "output=2\n",
    "\n",
    "Input Size : N <= 100000, string length <=1000, prefix length <=100\n",
    "\n",
    "**Sample Testcase:**\n",
    "\n",
    "**INPUT**\n",
    "\n",
    "5\n",
    "\n",
    "100 111 10100 10 1111\n",
    "\n",
    "10\n",
    "\n",
    "**OUTPUT**\n",
    "\n",
    "3"
   ]
  },
  {
   "cell_type": "code",
   "execution_count": 7,
   "metadata": {},
   "outputs": [
    {
     "name": "stdout",
     "output_type": "stream",
     "text": [
      "3\n"
     ]
    }
   ],
   "source": [
    "def count_strings_with_prefix(strings, prefix):\n",
    "    count = 0\n",
    "    prefix_length = len(prefix)\n",
    "    \n",
    "    for string in strings:\n",
    "        # Only check if string length >= prefix length\n",
    "        if len(string) >= prefix_length and string.startswith(prefix):\n",
    "            count += 1    \n",
    "    return count\n",
    "\n",
    "N = int(input())  # Number of strings\n",
    "strings = input().split()  # List of N strings\n",
    "prefix = input().strip()  # The prefix string\n",
    "print(count_strings_with_prefix(strings, prefix))"
   ]
  },
  {
   "cell_type": "markdown",
   "metadata": {},
   "source": [
    "### **31. Given two numbers N,K(N>=K) and an array of N elements, write a program to find the Kth largest element.**\n",
    "\n",
    "Input Size : 1 <= K <= N <= 100000\n",
    "\n",
    "**Sample Testcases:**\n",
    "\n",
    "**INPUT**\n",
    "\n",
    "6 2\n",
    "\n",
    "1 2 3 4 5 6\n",
    "\n",
    "**OUTPUT**\n",
    "\n",
    "5"
   ]
  },
  {
   "cell_type": "code",
   "execution_count": null,
   "metadata": {},
   "outputs": [
    {
     "name": "stdout",
     "output_type": "stream",
     "text": [
      "5\n"
     ]
    }
   ],
   "source": [
    "def find_kth_largest(N, K, arr):\n",
    "    arr.sort(reverse=True)  # Sort in descending order\n",
    "    return arr[K - 1]  # Kth largest is at index K-1\n",
    "\n",
    "N, K = map(int, input().split())  # Number of elements and Kth largest\n",
    "arr = list(map(int, input().split()))  # The array of N elements\n",
    "print(find_kth_largest(N, K, arr))  # Output the Kth largest element"
   ]
  },
  {
   "cell_type": "markdown",
   "metadata": {},
   "source": [
    "### **32. Given an array N, sort it in ascending order till it reaches kth elements and after that sort it in descending order.**\n",
    "\n",
    "Input Size : N <= 100000\n",
    "\n",
    "**Sample Testcase:**\n",
    "\n",
    "**INPUT**\n",
    "\n",
    "5 2\n",
    "\n",
    "4 3 1 2 4\n",
    "\n",
    "**OUTPUT**\n",
    "\n",
    "3 4 4 2 1"
   ]
  },
  {
   "cell_type": "code",
   "execution_count": null,
   "metadata": {},
   "outputs": [
    {
     "name": "stdout",
     "output_type": "stream",
     "text": [
      "3 4 4 2 1\n"
     ]
    }
   ],
   "source": [
    "def custom_sort(N, K, arr):\n",
    "    # Sort first K elements in ascending order\n",
    "    arr[:K] = sorted(arr[:K])\n",
    "    \n",
    "    # Sort remaining elements in descending order\n",
    "    arr[K:] = sorted(arr[K:], reverse=True)\n",
    "    return arr\n",
    "\n",
    "# N = size of the array, K = the partition index\n",
    "N, K = map(int, input().split())\n",
    "\n",
    "# The array of N elements\n",
    "arr = list(map(int, input().split()))\n",
    "\n",
    "# Output the custom sorted array\n",
    "print(*custom_sort(N, K, arr))"
   ]
  },
  {
   "cell_type": "markdown",
   "metadata": {},
   "source": [
    "### **33. Given a sentence S.check whether it is in camelcase.print 'yes' if it is in camelcase otherwise print 'no'.**\n",
    "\n",
    "Input size : |s| <= 100000\n",
    "\n",
    "**Sample Testcase:**\n",
    "\n",
    "**INPUT**\n",
    "\n",
    "CodekataChallenge\n",
    "\n",
    "**OUTPUT**\n",
    "\n",
    "yes"
   ]
  },
  {
   "cell_type": "code",
   "execution_count": 11,
   "metadata": {},
   "outputs": [
    {
     "name": "stdout",
     "output_type": "stream",
     "text": [
      "yes\n"
     ]
    }
   ],
   "source": [
    "def is_camel_case(s):\n",
    "    # Check if the first letter is lowercase\n",
    "    if not s[0].islower():\n",
    "        return \"yes\"\n",
    "    \n",
    "    # Check if all subsequent words follow the camelCase rule\n",
    "    for char in s[1:]:\n",
    "        if char.isupper() and char.isalpha():\n",
    "            continue  # Uppercase letters are fine as part of CamelCase\n",
    "        elif char.islower():\n",
    "            continue  # Lowercase letters are fine for continuation of words\n",
    "        else:\n",
    "            return \"no\"  # If it's not an alphabet, it's invalid\n",
    "    return \"yes\"\n",
    "\n",
    "s = input().strip()\n",
    "print(is_camel_case(s))"
   ]
  },
  {
   "cell_type": "markdown",
   "metadata": {},
   "source": [
    "### **34. Given a number N followed by N numbers. Out of these N numbers some of them are repeated. Write a program to find the number which is repeated and print the repeated numbers in sorted order. If no numbers are repeated print \"unique\".**\n",
    "\n",
    "Input Size : 1 <= N <= 100000\n",
    "\n",
    "**Sample Testcase:**\n",
    "\n",
    "**INPUT**\n",
    "\n",
    "7\n",
    "\n",
    "1 2 3 2 3 4 3\n",
    "\n",
    "**OUTPUT**\n",
    "\n",
    "2 3"
   ]
  },
  {
   "cell_type": "code",
   "execution_count": 12,
   "metadata": {},
   "outputs": [
    {
     "name": "stdout",
     "output_type": "stream",
     "text": [
      "2 3\n"
     ]
    }
   ],
   "source": [
    "from collections import Counter\n",
    "\n",
    "def find_repeated_numbers(N, arr):\n",
    "    # Count occurrences of each element\n",
    "    count = Counter(arr)\n",
    "    \n",
    "    # Filter out numbers that appear more than once\n",
    "    repeated_numbers = [num for num, freq in count.items() if freq > 1]\n",
    "    \n",
    "    # If no numbers are repeated, return \"unique\"\n",
    "    if not repeated_numbers:\n",
    "        return \"unique\"\n",
    "    \n",
    "    # Sort the repeated numbers and return the result\n",
    "    return ' '.join(map(str, sorted(repeated_numbers)))\n",
    "\n",
    "N = int(input())  # Size of the array\n",
    "arr = list(map(int, input().split()))  # The array elements\n",
    "print(find_repeated_numbers(N, arr))"
   ]
  },
  {
   "cell_type": "markdown",
   "metadata": {},
   "source": [
    "### **35. Given a number N an array of N numbers.The task is to find all the star and super star elements in the array an print in a seperate line.Star are those elements which are strictly greater than all the elements on its right side. Super star are those elements which are strictly greater than all the elements on its left and right side.Assume first element (A[0]) is greater than all the elements on its left side, And last element (A[n-1]) is greater than all the elements on its right side.**\n",
    "\n",
    "Input Size : 1 <= N <= 100000\n",
    "\n",
    "**Sample Testcases:**\n",
    "\n",
    "**INPUT**\n",
    "\n",
    "6\n",
    "\n",
    "4 2 5 7 2 1\n",
    "\n",
    "**OUTPUT**\n",
    "\n",
    "7 2 1\n",
    "\n",
    "7"
   ]
  },
  {
   "cell_type": "code",
   "execution_count": 15,
   "metadata": {},
   "outputs": [
    {
     "name": "stdout",
     "output_type": "stream",
     "text": [
      "7 2 1\n",
      "4 7 1\n"
     ]
    }
   ],
   "source": [
    "def find_star_and_superstar(N, arr):\n",
    "    # To find star elements, traverse from right to left\n",
    "    star_elements = []\n",
    "    max_from_right = -float('inf')  # Start with a very small value\n",
    "    \n",
    "    for i in range(N-1, -1, -1):\n",
    "        if arr[i] > max_from_right:\n",
    "            star_elements.append(arr[i])\n",
    "            max_from_right = arr[i]\n",
    "    \n",
    "    star_elements.reverse()  # Reverse to maintain the original order\n",
    "\n",
    "    # To find super star elements, traverse from left to right\n",
    "    superstar_elements = []\n",
    "    max_from_left = -float('inf')  # Start with a very small value\n",
    "    max_from_right = -float('inf')  # Start with a very small value\n",
    "    \n",
    "    # Prepare max_from_right array first by traversing from right to left\n",
    "    right_max = [0] * N\n",
    "    right_max[N-1] = arr[N-1]\n",
    "    for i in range(N-2, -1, -1):\n",
    "        right_max[i] = max(arr[i], right_max[i+1])\n",
    "\n",
    "    # Now traverse from left to right and check for super star condition\n",
    "    for i in range(N):\n",
    "        if i == 0 or i == N-1:  # First and last element are always considered superstars\n",
    "            superstar_elements.append(arr[i])\n",
    "        elif arr[i] > max_from_left and arr[i] > right_max[i+1]:\n",
    "            superstar_elements.append(arr[i])\n",
    "        \n",
    "        max_from_left = max(max_from_left, arr[i])\n",
    "\n",
    "    print(\" \".join(map(str, star_elements)))\n",
    "    print(\" \".join(map(str, superstar_elements)))\n",
    "\n",
    "N = int(input())  # Size of the array\n",
    "arr = list(map(int, input().split()))  # The array elements\n",
    "find_star_and_superstar(N, arr)"
   ]
  },
  {
   "cell_type": "markdown",
   "metadata": {},
   "source": [
    "### **36. Given a number N, print the first N Catalan numbers.**\n",
    "\n",
    "Input Size : N <= 100\n",
    "\n",
    "**Sample Testcase:**\n",
    "\n",
    "**INPUT**\n",
    "\n",
    "1\n",
    "\n",
    "**OUTPUT**\n",
    "\n",
    "1 1"
   ]
  },
  {
   "cell_type": "code",
   "execution_count": null,
   "metadata": {},
   "outputs": [
    {
     "name": "stdout",
     "output_type": "stream",
     "text": [
      "1\n"
     ]
    }
   ],
   "source": [
    "def catalan_numbers(N):\n",
    "    catalan = [0] * N   # Initialize a list to store the Catalan numbers\n",
    "    catalan[0] = 1  # The first Catalan number is 1\n",
    "\n",
    "    # Calculate the Catalan numbers using the recursive formula\n",
    "    for n in range(1, N):\n",
    "        catalan[n] = 0\n",
    "        for i in range(n):\n",
    "            catalan[n] += catalan[i] * catalan[n - 1 - i]\n",
    "    print(\" \".join(map(str, catalan)))\n",
    "\n",
    "N = int(input())\n",
    "catalan_numbers(N)"
   ]
  },
  {
   "cell_type": "code",
   "execution_count": null,
   "metadata": {},
   "outputs": [],
   "source": []
  },
  {
   "cell_type": "code",
   "execution_count": null,
   "metadata": {},
   "outputs": [],
   "source": []
  },
  {
   "cell_type": "code",
   "execution_count": null,
   "metadata": {},
   "outputs": [],
   "source": []
  },
  {
   "cell_type": "code",
   "execution_count": null,
   "metadata": {},
   "outputs": [],
   "source": []
  },
  {
   "cell_type": "code",
   "execution_count": null,
   "metadata": {},
   "outputs": [],
   "source": []
  },
  {
   "cell_type": "code",
   "execution_count": null,
   "metadata": {},
   "outputs": [],
   "source": []
  },
  {
   "cell_type": "code",
   "execution_count": null,
   "metadata": {},
   "outputs": [],
   "source": []
  }
 ],
 "metadata": {
  "kernelspec": {
   "display_name": "py12",
   "language": "python",
   "name": "python3"
  },
  "language_info": {
   "codemirror_mode": {
    "name": "ipython",
    "version": 3
   },
   "file_extension": ".py",
   "mimetype": "text/x-python",
   "name": "python",
   "nbconvert_exporter": "python",
   "pygments_lexer": "ipython3",
   "version": "3.12.7"
  }
 },
 "nbformat": 4,
 "nbformat_minor": 2
}
