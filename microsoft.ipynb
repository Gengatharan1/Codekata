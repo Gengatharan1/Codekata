{
 "cells": [
  {
   "cell_type": "markdown",
   "metadata": {},
   "source": [
    "### **1. Given 2 numbers N,M where N is the number of nodes and M is the number of edges,followed by the connection between nodes, find if the resultant graph has cycles.(all the edges are directed edges)**\n",
    "\n",
    "Input Size : M,N <= 100000\n",
    "\n",
    "**Sample Testcase:**\n",
    "\n",
    "**INPUT**\n",
    "\n",
    "2 2\n",
    "\n",
    "1 2\n",
    "\n",
    "2 1\n",
    "\n",
    "**OUTPUT**\n",
    "\n",
    "yes"
   ]
  },
  {
   "cell_type": "code",
   "execution_count": 1,
   "metadata": {},
   "outputs": [
    {
     "name": "stdout",
     "output_type": "stream",
     "text": [
      "yes\n"
     ]
    }
   ],
   "source": [
    "def has_cycle(n, m, edges):\n",
    "    graph = [[] for _ in range(n + 1)]\n",
    "    for u, v in edges:\n",
    "        graph[u].append(v)\n",
    "    \n",
    "    visited = [0] * (n + 1)\n",
    "    \n",
    "    def dfs(node):\n",
    "        if visited[node] == 1:\n",
    "            return True\n",
    "        if visited[node] == 2:\n",
    "            return False\n",
    "        visited[node] = 1\n",
    "        for neighbor in graph[node]:\n",
    "            if dfs(neighbor):\n",
    "                return True\n",
    "        visited[node] = 2\n",
    "        return False\n",
    "\n",
    "    for i in range(1, n + 1):\n",
    "        if visited[i] == 0:\n",
    "            if dfs(i):\n",
    "                return \"yes\"\n",
    "    return \"no\"\n",
    "\n",
    "n, m = map(int, input().split())\n",
    "edges = [tuple(map(int, input().split())) for _ in range(m)]\n",
    "print(has_cycle(n, m, edges))"
   ]
  },
  {
   "cell_type": "markdown",
   "metadata": {},
   "source": [
    "### **2. You are given a number n,ranging from 1 to n. Out of which one number is missing. Your task is to print that missing number.**\n",
    "\n",
    "**Input Description:**\n",
    "\n",
    "You are given a number ‘n’.\n",
    "\n",
    "**Output Description:**\n",
    "\n",
    "Print the missing number.\n",
    "\n",
    "**Sample Input:**\n",
    "\n",
    "5\n",
    "\n",
    "1 3 5 2\n",
    "\n",
    "**Sample Output:**\n",
    "\n",
    "4"
   ]
  },
  {
   "cell_type": "code",
   "execution_count": 2,
   "metadata": {},
   "outputs": [
    {
     "name": "stdout",
     "output_type": "stream",
     "text": [
      "4\n"
     ]
    }
   ],
   "source": [
    "def find_missing_number(n, numbers):\n",
    "    total_sum = n * (n + 1) // 2\n",
    "    given_sum = sum(numbers)\n",
    "    return total_sum - given_sum\n",
    "\n",
    "n = int(input())\n",
    "numbers = list(map(int, input().split()))\n",
    "print(find_missing_number(n, numbers))"
   ]
  },
  {
   "cell_type": "markdown",
   "metadata": {},
   "source": [
    "### **3. Given k sorted arrays of possibly different sizes, merge them and print the sorted output.**\n",
    "\n",
    "Input Size : N<=100\n",
    "\n",
    "**Example:**\n",
    "\n",
    "**INPUT**\n",
    "\n",
    "k = 3\n",
    "\n",
    "1 3\n",
    "\n",
    "2 4 6\n",
    "\n",
    "0 9 10 11\n",
    "\n",
    "**OUTPUT**\n",
    "\n",
    "0 1 2 3 4 6 9 10 11"
   ]
  },
  {
   "cell_type": "code",
   "execution_count": 3,
   "metadata": {},
   "outputs": [
    {
     "name": "stdout",
     "output_type": "stream",
     "text": [
      "0 1 2 3 4 6 9 10 11\n"
     ]
    }
   ],
   "source": [
    "def merge_brute_force(arrays):\n",
    "    merged = []\n",
    "    for arr in arrays:\n",
    "        merged.extend(arr)\n",
    "    merged.sort()\n",
    "    return merged\n",
    "\n",
    "k = int(input())\n",
    "arrays = []\n",
    "for i in range(k):\n",
    "    array = list(map(int, input().split()))\n",
    "    arrays.append(array)\n",
    "\n",
    "result = merge_brute_force(arrays)\n",
    "print(\" \".join(map(str, result)))"
   ]
  },
  {
   "cell_type": "markdown",
   "metadata": {},
   "source": [
    "### **4. Aditi is fond of strings.she heard about Lcs for two strings.Now she wants to try this for 3 strings.But in between she got confused now, your task is to help her.You are given exactly 3 strings.**\n",
    "\n",
    "Develop an algorithm which to find lcs for 3 strings.\n",
    "\n",
    "**Input Description:**\n",
    "\n",
    "You are given 3 strings.\n",
    "\n",
    "**Output Description:**\n",
    "\n",
    "Print the lcs of 3 string or print -1 if there is no lcs between 3 strings\n",
    "\n",
    "**Sample Input:**\n",
    "\n",
    "Guvi yuvi yuvirat\n",
    "\n",
    "**Sample Output:**\n",
    "\n",
    "uvi"
   ]
  },
  {
   "cell_type": "code",
   "execution_count": 6,
   "metadata": {},
   "outputs": [
    {
     "name": "stdout",
     "output_type": "stream",
     "text": [
      "uvi\n"
     ]
    }
   ],
   "source": [
    "def longest_common_subsequence(str1, str2, str3):\n",
    "    n1, n2, n3 = len(str1), len(str2), len(str3)\n",
    "\n",
    "    # Initialize a 3D DP table\n",
    "    dp = [[[0] * (n3 + 1) for _ in range(n2 + 1)] for _ in range(n1 + 1)]\n",
    "\n",
    "    # Fill the DP table\n",
    "    for i in range(1, n1 + 1):\n",
    "        for j in range(1, n2 + 1):\n",
    "            for k in range(1, n3 + 1):\n",
    "                if str1[i-1] == str2[j-1] == str3[k-1]:\n",
    "                    dp[i][j][k] = dp[i-1][j-1][k-1] + 1\n",
    "                else:\n",
    "                    dp[i][j][k] = max(dp[i-1][j][k], dp[i][j-1][k], dp[i][j][k-1])\n",
    "\n",
    "    # Backtrack to find the LCS\n",
    "    lcs = []\n",
    "    i, j, k = n1, n2, n3\n",
    "    while i > 0 and j > 0 and k > 0:\n",
    "        if str1[i-1] == str2[j-1] == str3[k-1]:\n",
    "            lcs.append(str1[i-1])\n",
    "            i, j, k = i-1, j-1, k-1\n",
    "        elif dp[i-1][j][k] >= dp[i][j-1][k] and dp[i-1][j][k] >= dp[i][j][k-1]:\n",
    "            i -= 1\n",
    "        elif dp[i][j-1][k] >= dp[i-1][j][k] and dp[i][j-1][k] >= dp[i][j][k-1]:\n",
    "            j -= 1\n",
    "        else:\n",
    "            k -= 1\n",
    "\n",
    "    lcs = ''.join(reversed(lcs))\n",
    "    return lcs if lcs else \"-1\"\n",
    "\n",
    "str1, str2, str3 = input().split()\n",
    "print(longest_common_subsequence(str1, str2, str3))"
   ]
  },
  {
   "cell_type": "code",
   "execution_count": null,
   "metadata": {},
   "outputs": [
    {
     "name": "stdout",
     "output_type": "stream",
     "text": [
      "uvi\n"
     ]
    }
   ],
   "source": [
    "def longest_common_subsequence(str1, str2, str3):\n",
    "    # Generate all subsequences of str1\n",
    "    def subsequences(s):\n",
    "        subseqs = {''}\n",
    "        for char in s:\n",
    "            subseqs |= {seq + char for seq in subseqs}\n",
    "        return subseqs\n",
    "    \n",
    "    # Get all subsequences of str1\n",
    "    subseqs_str1 = subsequences(str1)\n",
    "    \n",
    "    # Filter subsequences that are present in both str2 and str3\n",
    "    common_subseqs = [seq for seq in subseqs_str1 if seq in str2 and seq in str3]\n",
    "    \n",
    "    # Find the longest common subsequence\n",
    "    if common_subseqs:\n",
    "        return max(common_subseqs, key=len)\n",
    "    else:\n",
    "        return \"-1\"  # No common subsequence\n",
    "\n",
    "str1, str2, str3 = input().split()\n",
    "print(longest_common_subsequence(str1, str2, str3))"
   ]
  },
  {
   "cell_type": "markdown",
   "metadata": {},
   "source": [
    "### **5. Given 2 numbers N and K followed by N elements, find the Kth smallest element.If the element cannot be found then print -1**\n",
    "\n",
    "Input Size : N <= 100000\n",
    "\n",
    "**Sample Testcase:**\n",
    "\n",
    "**INPUT**\n",
    "\n",
    "5 2\n",
    "\n",
    "1 1 2 4 5\n",
    "\n",
    "**OUTPUT**\n",
    "\n",
    "2"
   ]
  },
  {
   "cell_type": "code",
   "execution_count": 7,
   "metadata": {},
   "outputs": [
    {
     "name": "stdout",
     "output_type": "stream",
     "text": [
      "2\n"
     ]
    }
   ],
   "source": [
    "def find_kth_smallest_element(n, k, elements):\n",
    "    unique_elements = sorted(set(elements))\n",
    "    \n",
    "    if k > len(unique_elements):\n",
    "        return -1\n",
    "\n",
    "    return unique_elements[k - 1]\n",
    "\n",
    "n, k = map(int, input().split())\n",
    "elements = list(map(int, input().split()))\n",
    "print(find_kth_smallest_element(n, k, elements))"
   ]
  },
  {
   "cell_type": "markdown",
   "metadata": {},
   "source": [
    "### **6. Given a number N, and a N*N matrix containing only 0's and 1's, where 0's represent water and 1's representing land, find the number of island 1's(1 surrounded by 0 on all of its adjacent sides).If the island could not be found with the given matrix print -1.**\n",
    "\n",
    "Input Size : 1 <= N <= 1000\n",
    "\n",
    "**Sample Testcase:**\n",
    "\n",
    "**INPUT**\n",
    "\n",
    "3\n",
    "\n",
    "1 1 0\n",
    "\n",
    "0 0 0\n",
    "\n",
    "0 1 0\n",
    "\n",
    "**OUTPUT**\n",
    "\n",
    "1"
   ]
  },
  {
   "cell_type": "code",
   "execution_count": null,
   "metadata": {},
   "outputs": [
    {
     "name": "stdout",
     "output_type": "stream",
     "text": [
      "1\n"
     ]
    }
   ],
   "source": [
    "def count_island_ones(matrix, n):\n",
    "    def is_island(i, j):\n",
    "        # Check all adjacent cells for the \"island\" condition\n",
    "        directions = [(-1, 0), (1, 0), (0, -1), (0, 1)]  # Top, Bottom, Left, Right\n",
    "        for dx, dy in directions:\n",
    "            ni, nj = i + dx, j + dy\n",
    "            # If adjacent cell is within bounds and is 1, it's not an island\n",
    "            if 0 <= ni < n and 0 <= nj < n and matrix[ni][nj] == 1:\n",
    "                return False\n",
    "        return True\n",
    "\n",
    "    # Count the number of island 1s\n",
    "    island_count = 0\n",
    "    for i in range(n):\n",
    "        for j in range(n):\n",
    "            if matrix[i][j] == 1 and is_island(i, j):\n",
    "                island_count += 1    \n",
    "    return island_count if island_count > 0 else -1\n",
    "\n",
    "n = int(input())\n",
    "matrix = []\n",
    "for _ in range(n):\n",
    "    row = list(map(int, input().split()))\n",
    "    matrix.append(row)\n",
    "print(count_island_ones(matrix, n))"
   ]
  },
  {
   "cell_type": "markdown",
   "metadata": {},
   "source": [
    "### **7. For 2 arrays A1 and A2 , sort A1 in such a way that the relative order among the elements will be the same as those in A2. For the elements not present in A2, append them at last to A1, in SORTED ORDER.**\n",
    "\n",
    "Note: Number of elements in A2[] are smaller than or equal to the number of elements in A1[]. A2[] has all distinct elements.\n",
    "\n",
    "**Constraints:**\n",
    "\n",
    "1 ≤ N,M  ≤ 106\n",
    "\n",
    "1 ≤ A1[], A2[] <= 106\n",
    "\n",
    "**Input Description:**\n",
    "\n",
    "First line of input contains length of arrays N and M and next two line contains elements of A1 and A2 respectively.\n",
    "\n",
    "**Output Description:**\n",
    "\n",
    "Print the sorted array.\n",
    "\n",
    "**Sample Input:**\n",
    "\n",
    "11 4\n",
    "\n",
    "2 1 2 5 7 1 9 3 6 8 8\n",
    "\n",
    "2 1 8 3\n",
    "\n",
    "**Sample Output:**\n",
    "\n",
    "2 2 1 1 8 8 3 5 6 7 9"
   ]
  },
  {
   "cell_type": "code",
   "execution_count": 13,
   "metadata": {},
   "outputs": [
    {
     "name": "stdout",
     "output_type": "stream",
     "text": [
      "2 2 1 1 8 8 3 5 6 7 9\n"
     ]
    }
   ],
   "source": [
    "from collections import Counter\n",
    "\n",
    "def sort_array(A1, A2):\n",
    "    count_A1 = Counter(A1)\n",
    "    \n",
    "    result = []\n",
    "    for num in A2:\n",
    "        if num in count_A1:\n",
    "            result.extend([num] * count_A1[num])\n",
    "    \n",
    "    remaining_elements = []\n",
    "    for num in count_A1:\n",
    "        if num not in A2:\n",
    "            remaining_elements.extend([num] * count_A1[num])\n",
    "    remaining_elements.sort()\n",
    "    result.extend(remaining_elements)\n",
    "    return result\n",
    "\n",
    "N, M = map(int, input().strip().split())\n",
    "A1 = list(map(int, input().strip().split()))\n",
    "A2 = list(map(int, input().strip().split()))\n",
    "sorted_result = sort_array(A1, A2)\n",
    "print(\" \".join(map(str, sorted_result)))"
   ]
  },
  {
   "cell_type": "markdown",
   "metadata": {},
   "source": [
    "### **8. Given a string as input, you have to reverse the string by keeping the punctuation and spaces intact. You have to modify the source string itself without creating another string.**\n",
    "\n",
    "**Input Description:**\n",
    "\n",
    "1<=string length<=500\n",
    "\n",
    "**Output Description:**\n",
    "\n",
    "Print the string in reverse\n",
    "\n",
    "**Sample Input:**\n",
    "\n",
    "A man, in the boat says : I see 1-2-3 in the sky\n",
    "\n",
    "**Sample Output:**\n",
    "\n",
    "y kse, ht ni3 21ee sIsy : a sta o-b-e ht nin amA"
   ]
  },
  {
   "cell_type": "code",
   "execution_count": 14,
   "metadata": {},
   "outputs": [
    {
     "name": "stdout",
     "output_type": "stream",
     "text": [
      "y kse, ht ni3 21ee sIsy : a sta o-b-e ht nin amA\n"
     ]
    }
   ],
   "source": [
    "def reverse_string_with_punctuation(s):\n",
    "    char_list = list(s)\n",
    "    \n",
    "    left, right = 0, len(char_list) - 1\n",
    "    \n",
    "    while left < right:\n",
    "        if not char_list[left].isalnum():\n",
    "            left += 1\n",
    "        elif not char_list[right].isalnum():\n",
    "            right -= 1\n",
    "        else:\n",
    "            char_list[left], char_list[right] = char_list[right], char_list[left]\n",
    "            left += 1\n",
    "            right -= 1\n",
    "    \n",
    "    reversed_string = ''.join(char_list)\n",
    "    return reversed_string\n",
    "\n",
    "input_string = input()\n",
    "result = reverse_string_with_punctuation(input_string)\n",
    "print(result)"
   ]
  },
  {
   "cell_type": "markdown",
   "metadata": {},
   "source": [
    "### **9. Given 2 numbers N and K and followed by an array of N integers. The given element K is removed from the array and new array is printed. If after removing every occurance of K the array becomes empty, print 'empty' without quotes.**\n",
    "\n",
    "**Example:**\n",
    "\n",
    "Input: {10,10,20,30,76}, K=10\n",
    "\n",
    "Output: {20,20,76}\n",
    "\n",
    "Input Size : N <= 100000\n",
    "\n",
    "**Sample Testcase:**\n",
    "\n",
    "**INPUT**\n",
    "\n",
    "5 10\n",
    "\n",
    "10 10 20 30 76\n",
    "\n",
    "**OUTPUT**\n",
    "\n",
    "20 30 76"
   ]
  },
  {
   "cell_type": "code",
   "execution_count": null,
   "metadata": {},
   "outputs": [
    {
     "name": "stdout",
     "output_type": "stream",
     "text": [
      "20 30 76\n"
     ]
    }
   ],
   "source": [
    "n, k = map(int, input().split())\n",
    "arr = list(map(int, input().split()))\n",
    "\n",
    "# Filter out occurrences of k\n",
    "filtered_arr = [x for x in arr if x != k]\n",
    "\n",
    "if not filtered_arr:\n",
    "    print(\"empty\")\n",
    "else:\n",
    "    print(*filtered_arr)"
   ]
  },
  {
   "cell_type": "markdown",
   "metadata": {},
   "source": [
    "### **10. Given a roman numeral N, convert it into integer. Take L=50, C=100.If it is not a valid roman numeral print '-1'.**\n",
    "\n",
    "Input Size : N <= 100\n",
    "\n",
    "**Sample Testcase:**\n",
    "\n",
    "**INPUT**\n",
    "\n",
    "VI\n",
    "\n",
    "**OUTPUT**\n",
    "\n",
    "6\n",
    "\n",
    "**INPUT**\n",
    "\n",
    "Y\n",
    "\n",
    "**OUTPUT**\n",
    "\n",
    "-1"
   ]
  },
  {
   "cell_type": "code",
   "execution_count": 16,
   "metadata": {},
   "outputs": [
    {
     "name": "stdout",
     "output_type": "stream",
     "text": [
      "-1\n"
     ]
    }
   ],
   "source": [
    "def roman_to_int(N):\n",
    "    roman_values = {'I': 1, 'V': 5, 'X': 10, 'L': 50, 'C': 100}\n",
    "    \n",
    "    for char in N:\n",
    "        if char not in roman_values:\n",
    "            return -1\n",
    "    \n",
    "    result = 0\n",
    "    for i in range(len(N)):\n",
    "        if i + 1 < len(N) and roman_values[N[i]] < roman_values[N[i + 1]]:\n",
    "            result -= roman_values[N[i]]\n",
    "        else:\n",
    "            result += roman_values[N[i]]    \n",
    "    return result\n",
    "\n",
    "N = input().strip()\n",
    "print(roman_to_int(N))"
   ]
  },
  {
   "cell_type": "markdown",
   "metadata": {},
   "source": [
    "### **11. You are given a String representing a binary tree your task is print the level order traversal of it.**\n",
    "\n",
    "**Input Description:**\n",
    "\n",
    "You are given with a string ‘s’.\n",
    "\n",
    "**Output Description:**\n",
    "\n",
    "Print the binary tree’s level order traversal\n",
    "\n",
    "**Sample Input:**\n",
    "\n",
    "1 0 L 1 2 R\n",
    "\n",
    "**Sample Output:**\n",
    "\n",
    "1 0 2"
   ]
  },
  {
   "cell_type": "code",
   "execution_count": 17,
   "metadata": {},
   "outputs": [
    {
     "name": "stdout",
     "output_type": "stream",
     "text": [
      "1 0 2\n"
     ]
    }
   ],
   "source": [
    "class TreeNode:\n",
    "    def __init__(self, value):\n",
    "        self.value = value\n",
    "        self.left = None\n",
    "        self.right = None\n",
    "\n",
    "def build_tree(s):\n",
    "    elements = s.split()\n",
    "    nodes = {}\n",
    "\n",
    "    for i in range(0, len(elements), 3):\n",
    "        parent_val = int(elements[i])\n",
    "        child_val = int(elements[i+1])\n",
    "        direction = elements[i+2]\n",
    "        if parent_val not in nodes:\n",
    "            nodes[parent_val] = TreeNode(parent_val)\n",
    "        parent_node = nodes[parent_val]\n",
    "        child_node = TreeNode(child_val)\n",
    "        \n",
    "        if direction == 'L':\n",
    "            parent_node.left = child_node\n",
    "        else:\n",
    "            parent_node.right = child_node\n",
    "        nodes[child_val] = child_node\n",
    "    return nodes[int(elements[0])]\n",
    "\n",
    "def level_order_traversal(root):\n",
    "    if not root:\n",
    "        return []\n",
    "    \n",
    "    result = []\n",
    "    queue = [root]\n",
    "    while queue:\n",
    "        node = queue.pop(0)\n",
    "        result.append(node.value)\n",
    "        \n",
    "        if node.left:\n",
    "            queue.append(node.left)\n",
    "        if node.right:\n",
    "            queue.append(node.right)    \n",
    "    return result\n",
    "\n",
    "s = input().strip()\n",
    "root = build_tree(s)\n",
    "result = level_order_traversal(root)\n",
    "print(\" \".join(map(str, result)))"
   ]
  },
  {
   "cell_type": "markdown",
   "metadata": {},
   "source": [
    "### **12. You are given with a queue. Your task is to reverse the queue elements and print it.**\n",
    "\n",
    "**Input Description:**\n",
    "\n",
    "You are given a number ‘n’,denoting size of queue, Next line contains s space separated numbers\n",
    "\n",
    "**Output Description:**\n",
    "\n",
    "Print the reversed queue.\n",
    "\n",
    "**Sample Input:**\n",
    "\n",
    "6\n",
    "\n",
    "1 2 3 4 5 6\n",
    "\n",
    "**Sample Output:**\n",
    "\n",
    "6 5 4 3 2 1"
   ]
  },
  {
   "cell_type": "code",
   "execution_count": 18,
   "metadata": {},
   "outputs": [
    {
     "name": "stdout",
     "output_type": "stream",
     "text": [
      "6 5 4 3 2 1\n"
     ]
    }
   ],
   "source": [
    "from collections import deque\n",
    "\n",
    "def reverse_queue(queue):\n",
    "    stack = []\n",
    "\n",
    "    while queue:\n",
    "        stack.append(queue.popleft())\n",
    "\n",
    "    while stack:\n",
    "        queue.append(stack.pop())    \n",
    "    return queue\n",
    "\n",
    "n = int(input())\n",
    "queue = deque(map(int, input().split()))\n",
    "reversed_queue = reverse_queue(queue)\n",
    "print(\" \".join(map(str, reversed_queue)))"
   ]
  },
  {
   "cell_type": "markdown",
   "metadata": {},
   "source": [
    "### **13. Given a number N- (number of nodes) followed by N numbers. Construct a BST with the inputs in the same order. Now 2 numbers U and V are given. Find the LCA( Lowest Common Anscestor) of U and V.**\n",
    "\n",
    "Input Size : 1 <= N <= 10000\n",
    "\n",
    "**Sample Testcases:**\n",
    "\n",
    "**INPUT**\n",
    "\n",
    "5\n",
    "\n",
    "1 2 3 4 5\n",
    "\n",
    "4 5\n",
    "\n",
    "**OUTPUT**\n",
    "\n",
    "4"
   ]
  },
  {
   "cell_type": "code",
   "execution_count": 19,
   "metadata": {},
   "outputs": [
    {
     "name": "stdout",
     "output_type": "stream",
     "text": [
      "4\n"
     ]
    }
   ],
   "source": [
    "class TreeNode:\n",
    "    def __init__(self, value):\n",
    "        self.value = value\n",
    "        self.left = None\n",
    "        self.right = None\n",
    "\n",
    "# Function to insert a node into the BST\n",
    "def insert_bst(root, value):\n",
    "    if root is None:\n",
    "        return TreeNode(value)\n",
    "    if value < root.value:\n",
    "        root.left = insert_bst(root.left, value)\n",
    "    else:\n",
    "        root.right = insert_bst(root.right, value)\n",
    "    return root\n",
    "\n",
    "# Function to find the LCA\n",
    "def find_lca(root, u, v):\n",
    "    if root is None:\n",
    "        return None\n",
    "    # If both U and V are smaller than root, move to left\n",
    "    if u < root.value and v < root.value:\n",
    "        return find_lca(root.left, u, v)\n",
    "    # If both U and V are greater than root, move to right\n",
    "    elif u > root.value and v > root.value:\n",
    "        return find_lca(root.right, u, v)\n",
    "    # Current node is the LCA\n",
    "    else:\n",
    "        return root\n",
    "\n",
    "n = int(input())  # Number of nodes\n",
    "nodes = list(map(int, input().split()))  # List of nodes\n",
    "u, v = map(int, input().split())  # The two numbers U and V\n",
    "\n",
    "# Build the BST\n",
    "root = None\n",
    "for value in nodes:\n",
    "    root = insert_bst(root, value)\n",
    "\n",
    "# Find the LCA\n",
    "lca_node = find_lca(root, u, v)\n",
    "\n",
    "# Output the value of the LCA\n",
    "if lca_node:\n",
    "    print(lca_node.value)\n",
    "else:\n",
    "    print(-1)"
   ]
  },
  {
   "cell_type": "markdown",
   "metadata": {},
   "source": [
    "### **14. Given 2 strings S1 and S2. Find if String2 is substring of String1. If it is print the index of the first occurrence. else print -1.**\n",
    "\n",
    "Input Size : 1<= N <= 100000\n",
    "\n",
    "**Sample Testcases:**\n",
    "\n",
    "**INPUT**\n",
    "\n",
    "test123string\n",
    "\n",
    "123\n",
    "\n",
    "**OUTPUT**\n",
    "\n",
    "4"
   ]
  },
  {
   "cell_type": "code",
   "execution_count": 21,
   "metadata": {},
   "outputs": [
    {
     "name": "stdout",
     "output_type": "stream",
     "text": [
      "4\n"
     ]
    }
   ],
   "source": [
    "S1 = input().strip()\n",
    "S2 = input().strip()\n",
    "\n",
    "index = S1.find(S2)\n",
    "print(index)"
   ]
  },
  {
   "cell_type": "markdown",
   "metadata": {},
   "source": [
    "### **15. Given an array of size N with both positive and negative numbers. Find two elements such that their sum is equal or closest to zero.**\n",
    "\n",
    "Input Size : 1 <= N <= 100000\n",
    "\n",
    "**Sample Testcases:**\n",
    "\n",
    "**INPUT**\n",
    "\n",
    "5\n",
    "\n",
    "-1 2 3 1 0\n",
    "\n",
    "**OUTPUT**\n",
    "\n",
    "1 -1"
   ]
  },
  {
   "cell_type": "code",
   "execution_count": 24,
   "metadata": {},
   "outputs": [
    {
     "name": "stdout",
     "output_type": "stream",
     "text": [
      "1 -1\n"
     ]
    }
   ],
   "source": [
    "# Function to find two elements with a sum closest to zero\n",
    "def closest_to_zero(arr):\n",
    "    arr.sort()  # Sort the array\n",
    "    left = 0\n",
    "    right = len(arr) - 1\n",
    "    closest_sum = float('inf')\n",
    "    result = (0, 0)\n",
    "\n",
    "    while left < right:\n",
    "        current_sum = arr[left] + arr[right]\n",
    "\n",
    "        # Check if this pair is closer to zero\n",
    "        if abs(current_sum) < abs(closest_sum):\n",
    "            closest_sum = current_sum\n",
    "            result = (arr[left], arr[right])\n",
    "\n",
    "        # If current_sum is closer to zero, update result\n",
    "        if current_sum < 0:\n",
    "            left += 1  # Move left pointer to increase sum\n",
    "        elif current_sum > 0:\n",
    "            right -= 1  # Move right pointer to decrease sum\n",
    "        else:\n",
    "            break  # Sum is exactly zero; closest possible\n",
    "\n",
    "    # Ensure the output order is smallest first\n",
    "    return (result[1], result[0]) if result[0] < result[1] else (result[0], result[1])\n",
    "\n",
    "N = int(input())\n",
    "arr = list(map(int, input().split()))\n",
    "\n",
    "# Get the two elements\n",
    "x, y = closest_to_zero(arr)\n",
    "print(x, y)"
   ]
  },
  {
   "cell_type": "markdown",
   "metadata": {},
   "source": [
    "### **16. Given a string, find the length of the longest substring without repeating characters.**\n",
    "\n",
    "Input Size : |S|<=1000\n",
    "\n",
    "**Example:**\n",
    "\n",
    "**INPUT**\n",
    "\n",
    "abcabcccdd\n",
    "\n",
    "**OUTPUT**\n",
    "\n",
    "3"
   ]
  },
  {
   "cell_type": "code",
   "execution_count": 25,
   "metadata": {},
   "outputs": [
    {
     "name": "stdout",
     "output_type": "stream",
     "text": [
      "3\n"
     ]
    }
   ],
   "source": [
    "def longest_unique_substring(s):\n",
    "    char_set = set()\n",
    "    left = 0\n",
    "    max_length = 0\n",
    "\n",
    "    for right in range(len(s)):\n",
    "        while s[right] in char_set:\n",
    "            char_set.remove(s[left])\n",
    "            left += 1\n",
    "        char_set.add(s[right])\n",
    "        max_length = max(max_length, right - left + 1)\n",
    "    return max_length\n",
    "\n",
    "s = input()\n",
    "print(longest_unique_substring(s))"
   ]
  },
  {
   "cell_type": "markdown",
   "metadata": {},
   "source": [
    "### **17. You are given a string s.Your task is to remove all the adjacent duplicate character from string.Print the string formed out of it.**\n",
    "\n",
    "**Input Description:**\n",
    "\n",
    "You are given a string ‘s’\n",
    "\n",
    "**Output Description:**\n",
    "\n",
    "Print the resultant string\n",
    "\n",
    "**Sample Input:**\n",
    "\n",
    "Geeksforgeek\n",
    "\n",
    "**Sample Output:**\n",
    "\n",
    "Gksforgk"
   ]
  },
  {
   "cell_type": "code",
   "execution_count": 35,
   "metadata": {},
   "outputs": [
    {
     "name": "stdout",
     "output_type": "stream",
     "text": [
      "Abcdef\n",
      "Gksforgk\n"
     ]
    }
   ],
   "source": [
    "def remove_adjacent_duplicates(s):\n",
    "    stack=[]\n",
    "    for ch in s:\n",
    "        if stack and stack[-1]==ch:\n",
    "            stack.pop()\n",
    "        else:\n",
    "            stack.append(ch)\n",
    "    return \"\".join(stack)\n",
    "\n",
    "s = \"Abcdef\"\n",
    "output = remove_adjacent_duplicates(s)\n",
    "print(output)\n",
    "\n",
    "s2 = \"Geeksforgeek\"\n",
    "output2 = remove_adjacent_duplicates(s2)\n",
    "print(output2)"
   ]
  },
  {
   "cell_type": "markdown",
   "metadata": {},
   "source": [
    "### **18. You are provided with an array. Your task is to print the count of subarray whose maximum element is strictly greater than ‘k’.**\n",
    "\n",
    "**Input Description:**\n",
    "\n",
    "First line contains two element ‘N’ and ‘k’.Second line contains ‘n’ space separated numbers.\n",
    "\n",
    "**Output Description:**\n",
    "\n",
    "Print the count of subarray whose maximum element’s value is strictly greater than ‘k’.\n",
    "\n",
    "**Sample Input:**\n",
    "\n",
    "5 4\n",
    "\n",
    "1 6 7 8 9\n",
    "\n",
    "**Sample Output:**\n",
    "\n",
    "14"
   ]
  },
  {
   "cell_type": "code",
   "execution_count": 36,
   "metadata": {},
   "outputs": [
    {
     "name": "stdout",
     "output_type": "stream",
     "text": [
      "14\n"
     ]
    }
   ],
   "source": [
    "def count_subarrays_with_max_greater_than_k(n, k, arr):\n",
    "    count = 0\n",
    "    for start in range(n):\n",
    "        for end in range(start, n):\n",
    "            if max(arr[start:end+1]) > k:\n",
    "                count += 1\n",
    "    return count\n",
    "    \n",
    "n, k = map(int, input().split())\n",
    "arr = list(map(int, input().split()))\n",
    "print(count_subarrays_with_max_greater_than_k(n, k, arr))"
   ]
  },
  {
   "cell_type": "markdown",
   "metadata": {},
   "source": [
    "### **19. You are given a string ‘s’.Your task is to print the maximum length of longest palindrome present in string.**\n",
    "\n",
    "**Input Description:**\n",
    "\n",
    "You are given string ‘s’\n",
    "\n",
    "**Output Description:**\n",
    "\n",
    "Print length of longest palindrome in string\n",
    "\n",
    "**Sample Input:**\n",
    "\n",
    "abcb\n",
    "\n",
    "**Sample Output:**\n",
    "\n",
    "3"
   ]
  },
  {
   "cell_type": "code",
   "execution_count": 38,
   "metadata": {},
   "outputs": [
    {
     "name": "stdout",
     "output_type": "stream",
     "text": [
      "3\n"
     ]
    }
   ],
   "source": [
    "def longest_palindrome_length(s):\n",
    "    def expand_around_center(left, right):\n",
    "        while left >= 0 and right < len(s) and s[left] == s[right]:\n",
    "            left -= 1\n",
    "            right += 1\n",
    "        return right - left - 1  # return the length of the palindrome\n",
    "    \n",
    "    if not s:\n",
    "        return 0\n",
    "    \n",
    "    max_len = 1  # Start with the minimum possible palindrome length\n",
    "    \n",
    "    for i in range(len(s)):\n",
    "        # Odd length palindrome (center is a single character)\n",
    "        len1 = expand_around_center(i, i)\n",
    "        # Even length palindrome (center is between two characters)\n",
    "        len2 = expand_around_center(i, i + 1)\n",
    "        \n",
    "        # Take the maximum of the two\n",
    "        max_len = max(max_len, len1, len2)    \n",
    "    return max_len\n",
    "\n",
    "s = input()\n",
    "print(longest_palindrome_length(s))"
   ]
  },
  {
   "cell_type": "markdown",
   "metadata": {},
   "source": [
    "### **20. You are provided with a string ‘s’. Your task is to reverse the string using stack Data Structure.**\n",
    "\n",
    "**Input Description:**\n",
    "\n",
    "You are given a string ‘s’.\n",
    "\n",
    "**Output Description:**\n",
    "\n",
    "Print the reverse string\n",
    "\n",
    "**Sample Input:**\n",
    "\n",
    "i am jsb\n",
    "\n",
    "**Sample Output:**\n",
    "\n",
    "jsb am i"
   ]
  },
  {
   "cell_type": "code",
   "execution_count": 39,
   "metadata": {},
   "outputs": [
    {
     "name": "stdout",
     "output_type": "stream",
     "text": [
      "jsb am i\n"
     ]
    }
   ],
   "source": [
    "def reverse_string_with_stack(s):\n",
    "    stack = []\n",
    "    for word in s.split():\n",
    "        stack.append(word)\n",
    "\n",
    "    reversed_string = []\n",
    "\n",
    "    while stack:\n",
    "        reversed_string.append(stack.pop())\n",
    "    return \" \".join(reversed_string)\n",
    "\n",
    "s = input()\n",
    "print(reverse_string_with_stack(s))"
   ]
  },
  {
   "cell_type": "markdown",
   "metadata": {},
   "source": [
    "### **21. Ramesh is given  a task to generalise the array. An array is called generalise if median of that array is equal to sum ‘k’.Ramesh has less knowledge amongst median so he decided to take help from you.Your task is to count the number of elements that you must add to the median of given array equal to a number ‘k’.**\n",
    "\n",
    "**Input Description:**\n",
    "\n",
    "First line contains a number ‘n’.next line contains n space separated numbers.next line contains a number ‘k’\n",
    "\n",
    "**Output Description:**\n",
    "\n",
    "Print the count required in order to make the median of array equal to k\n",
    "\n",
    "**Sample Input:**\n",
    "\n",
    "6 \n",
    "\n",
    "10 20 30 100 150 200\n",
    "\n",
    "30\n",
    "\n",
    "**Sample Output:**\n",
    "\n",
    "1"
   ]
  },
  {
   "cell_type": "code",
   "execution_count": 41,
   "metadata": {},
   "outputs": [
    {
     "name": "stdout",
     "output_type": "stream",
     "text": [
      "1\n"
     ]
    }
   ],
   "source": [
    "def count_elements_to_add_for_median(n, arr, k):\n",
    "    arr.sort()\n",
    "    \n",
    "    # Function to find the median of the array\n",
    "    def find_median(arr):\n",
    "        n = len(arr)\n",
    "        if n % 2 == 1:\n",
    "            return arr[n // 2]\n",
    "        else:\n",
    "            return (arr[n // 2 - 1] + arr[n // 2]) / 2\n",
    "            \n",
    "    median = find_median(arr)\n",
    "    if median == k:\n",
    "        return 0\n",
    "    \n",
    "    count = 0\n",
    "    while find_median(arr) != k:\n",
    "        arr.append(k)\n",
    "        arr.sort()\n",
    "        count += 1\n",
    "    return count\n",
    "\n",
    "n = int(input())\n",
    "arr = list(map(int, input().split()))\n",
    "k = int(input())\n",
    "print(count_elements_to_add_for_median(n, arr, k))"
   ]
  },
  {
   "cell_type": "markdown",
   "metadata": {},
   "source": [
    "### **22. Given a string of length N, find the longest palindromic substring.**\n",
    "\n",
    "Input Size : 1 <= N <= 1000\n",
    "\n",
    "**Sample Testcase:**\n",
    "\n",
    "**INPUT**\n",
    "\n",
    "DIEHEIDI\n",
    "\n",
    "**OUTPUT**\n",
    "\n",
    "DIEHEID"
   ]
  },
  {
   "cell_type": "code",
   "execution_count": 42,
   "metadata": {},
   "outputs": [
    {
     "name": "stdout",
     "output_type": "stream",
     "text": [
      "DIEHEID\n"
     ]
    }
   ],
   "source": [
    "def longest_palindromic_substring(s):\n",
    "    def expand_around_center(left, right):\n",
    "        while left >= 0 and right < len(s) and s[left] == s[right]:\n",
    "            left -= 1\n",
    "            right += 1\n",
    "        return s[left+1:right]\n",
    "    \n",
    "    longest = \"\"\n",
    "    for i in range(len(s)):\n",
    "        odd_palindrome = expand_around_center(i, i)\n",
    "        if len(odd_palindrome) > len(longest):\n",
    "            longest = odd_palindrome\n",
    "        \n",
    "        even_palindrome = expand_around_center(i, i+1)\n",
    "        if len(even_palindrome) > len(longest):\n",
    "            longest = even_palindrome    \n",
    "    return longest\n",
    "\n",
    "s = input().strip()\n",
    "print(longest_palindromic_substring(s))"
   ]
  },
  {
   "cell_type": "code",
   "execution_count": null,
   "metadata": {},
   "outputs": [],
   "source": []
  }
 ],
 "metadata": {
  "kernelspec": {
   "display_name": "py12",
   "language": "python",
   "name": "python3"
  },
  "language_info": {
   "codemirror_mode": {
    "name": "ipython",
    "version": 3
   },
   "file_extension": ".py",
   "mimetype": "text/x-python",
   "name": "python",
   "nbconvert_exporter": "python",
   "pygments_lexer": "ipython3",
   "version": "3.12.7"
  }
 },
 "nbformat": 4,
 "nbformat_minor": 2
}
