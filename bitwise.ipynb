{
 "cells": [
  {
   "cell_type": "markdown",
   "metadata": {},
   "source": [
    "### **1. Given a number N and an array of N elements, find the Bitwise OR of the array elements.**\n",
    "\n",
    "Input Size : N <= 100000\n",
    "\n",
    "**Sample Testcase:**\n",
    "\n",
    "**INPUT**\n",
    "\n",
    "2\n",
    "\n",
    "2 4\n",
    "\n",
    "**OUTPUT**\n",
    "\n",
    "6"
   ]
  },
  {
   "cell_type": "code",
   "execution_count": 4,
   "metadata": {},
   "outputs": [
    {
     "name": "stdout",
     "output_type": "stream",
     "text": [
      "6\n"
     ]
    }
   ],
   "source": [
    "def bitwise_or_of_array(N, arr):\n",
    "    result = 0 \n",
    "    for num in arr:\n",
    "        result |= num\n",
    "    return result\n",
    "\n",
    "N = int(input())\n",
    "arr = list(map(int, input().split()))\n",
    "result = bitwise_or_of_array(N, arr)\n",
    "print(result)"
   ]
  },
  {
   "cell_type": "markdown",
   "metadata": {},
   "source": [
    "### **2. Given a binary number convert it to hexadecimal.**\n",
    "\n",
    "**Sample Testcase:**\n",
    "\n",
    "**INPUT**\n",
    "\n",
    "1100100\n",
    "\n",
    "**OUTPUT**\n",
    "\n",
    "64"
   ]
  },
  {
   "cell_type": "code",
   "execution_count": 3,
   "metadata": {},
   "outputs": [
    {
     "name": "stdout",
     "output_type": "stream",
     "text": [
      "64\n"
     ]
    }
   ],
   "source": [
    "def binary_to_hex(binary_string):\n",
    "    decimal_num = int(binary_string, 2)\n",
    "    hex_num = hex(decimal_num)\n",
    "    hex_num = hex_num[2:]\n",
    "    return hex_num.upper()\n",
    "\n",
    "binary_string = input()\n",
    "hexadecimal_result = binary_to_hex(binary_string)\n",
    "print(hexadecimal_result)"
   ]
  },
  {
   "cell_type": "markdown",
   "metadata": {},
   "source": [
    "### **3. Given a number N, print the Bitwise NOT of that number.**\n",
    "\n",
    "Input Size : 1 <= N <= 10000\n",
    "\n",
    "**Sample Testcase:**\n",
    "\n",
    "**INPUT**\n",
    "\n",
    "5\n",
    "\n",
    "**OUTPUT**\n",
    "\n",
    "-6"
   ]
  },
  {
   "cell_type": "code",
   "execution_count": 2,
   "metadata": {},
   "outputs": [
    {
     "name": "stdout",
     "output_type": "stream",
     "text": [
      "-6\n"
     ]
    }
   ],
   "source": [
    "def bitwise_not_of_number(N):\n",
    "    return ~N\n",
    "N = int(input())\n",
    "result = bitwise_not_of_number(N)\n",
    "print(result)"
   ]
  },
  {
   "cell_type": "markdown",
   "metadata": {},
   "source": [
    "### **4. Given 2 numbers N,K print the number after performing bitwise left shift 'K' times.**\n",
    "\n",
    "Input Size : 1 <= N, K <= 1000\n",
    "\n",
    "**Sample Testcase:**\n",
    "\n",
    "**INPUT**\n",
    "\n",
    "5 2\n",
    "\n",
    "**OUTPUT**\n",
    "\n",
    "20"
   ]
  },
  {
   "cell_type": "code",
   "execution_count": 1,
   "metadata": {},
   "outputs": [
    {
     "name": "stdout",
     "output_type": "stream",
     "text": [
      "20\n"
     ]
    }
   ],
   "source": [
    "N, K = map(int, input().split())\n",
    "result = N << K     # bitwise left shift\n",
    "print(result)"
   ]
  },
  {
   "cell_type": "markdown",
   "metadata": {},
   "source": [
    "### **5. Given 2 numbers N and K print the number after performing bitwise right shift 'K' times(upto 2 decimal places).**\n",
    "\n",
    "Input Size : 1 <= N, K <= 1000\n",
    "\n",
    "**Sample Testcase:**\n",
    "\n",
    "**INPUT**\n",
    "\n",
    "5 2\n",
    "\n",
    "**OUTPUT**\n",
    "\n",
    "1"
   ]
  },
  {
   "cell_type": "code",
   "execution_count": null,
   "metadata": {},
   "outputs": [
    {
     "name": "stdout",
     "output_type": "stream",
     "text": [
      "1.00\n"
     ]
    }
   ],
   "source": [
    "N, K = map(int, input().split())\n",
    "\n",
    "result = N >> K         # bitwise right shift\n",
    "print(f\"{result:.2f}\")"
   ]
  },
  {
   "cell_type": "markdown",
   "metadata": {},
   "source": [
    "### **6. Given an array of N elements switch(swap) the element with the adjacent element and print the output.**\n",
    "\n",
    "**Sample Testcase:**\n",
    "\n",
    "**INPUT**\n",
    "\n",
    "5\n",
    "\n",
    "3 2 1 2 3\n",
    "\n",
    "**OUTPUT**\n",
    "\n",
    "2 3 2 1 3"
   ]
  },
  {
   "cell_type": "code",
   "execution_count": 6,
   "metadata": {},
   "outputs": [
    {
     "name": "stdout",
     "output_type": "stream",
     "text": [
      "2 3 2 1 3\n"
     ]
    }
   ],
   "source": [
    "j=input()\n",
    "a=input().split()\n",
    "#a=list(a)\n",
    "l=len(a)\n",
    "n=[]\n",
    "last=a[l-1]\n",
    "if(l%2==0):\n",
    "    for i in range(1,l+1,2):\n",
    "        n.append(a[i])\n",
    "        n.append(a[i-1])\n",
    "    n=\" \".join(map(str,n))\n",
    "    print(n)\n",
    "else:\n",
    "    for i in range(1,l,2):\n",
    "        n.append(a[i])\n",
    "        n.append(a[i-1])\n",
    "    n.append(last)\n",
    "    n=\" \".join(map(str,n))\n",
    "    print(n)"
   ]
  },
  {
   "cell_type": "markdown",
   "metadata": {},
   "source": [
    "### **7. Given a number N and an array of N elements, find the maximum of the elements (using Bitwise AND) and print the output.**\n",
    "\n",
    "Input Size N <= 100000\n",
    "\n",
    "**Sample Testcase:**\n",
    "\n",
    "**INPUT**\n",
    "\n",
    "4\n",
    "\n",
    "2 4 4 2\n",
    "\n",
    "**OUTPUT**\n",
    "\n",
    "4"
   ]
  },
  {
   "cell_type": "code",
   "execution_count": 7,
   "metadata": {},
   "outputs": [
    {
     "name": "stdout",
     "output_type": "stream",
     "text": [
      "4\n"
     ]
    }
   ],
   "source": [
    "N = int(input())\n",
    "array = list(map(int, input().split()))\n",
    "max_value = max(array)\n",
    "print(max_value)"
   ]
  },
  {
   "cell_type": "markdown",
   "metadata": {},
   "source": [
    "### **8. Given a number N and an array of N elements, find the Bitwise XOR of the array elements.**\n",
    "\n",
    "Input Size : N <= 100000\n",
    "\n",
    "**Sample Testcase:**\n",
    "\n",
    "**INPUT**\n",
    "\n",
    "2\n",
    "\n",
    "2 4\n",
    "\n",
    "**OUTPUT**\n",
    "\n",
    "6"
   ]
  },
  {
   "cell_type": "code",
   "execution_count": 8,
   "metadata": {},
   "outputs": [
    {
     "name": "stdout",
     "output_type": "stream",
     "text": [
      "6\n"
     ]
    }
   ],
   "source": [
    "def find_bitwise_xor(n, arr):\n",
    "    result = 0\n",
    "    for num in arr:\n",
    "        result ^= num\n",
    "    return result\n",
    "\n",
    "n = int(input())\n",
    "arr = list(map(int, input().split()))\n",
    "print(find_bitwise_xor(n, arr))"
   ]
  },
  {
   "cell_type": "markdown",
   "metadata": {},
   "source": [
    "### **9. Print the position of first 1 from right to left, in binary representation of an Integer.**\n",
    "\n",
    "**Sample Testcase:**\n",
    "\n",
    "**INPUT**\n",
    "\n",
    "18\n",
    "\n",
    "**OUTPUT**\n",
    "\n",
    "2"
   ]
  },
  {
   "cell_type": "code",
   "execution_count": 9,
   "metadata": {},
   "outputs": [
    {
     "name": "stdout",
     "output_type": "stream",
     "text": [
      "2\n"
     ]
    }
   ],
   "source": [
    "def position_of_first_one(n):\n",
    "    if n == 0:\n",
    "        return -1\n",
    "\n",
    "    position = 0\n",
    "\n",
    "    while n > 0:\n",
    "        position += 1\n",
    "        if n & 1:\n",
    "            return position\n",
    "        n >>= 1\n",
    "    return -1\n",
    "\n",
    "n = int(input())\n",
    "result = position_of_first_one(n)\n",
    "print(result)"
   ]
  },
  {
   "cell_type": "markdown",
   "metadata": {},
   "source": [
    "### **10. Given a number N and an array of N integers, find the maximum of Bitwise OR of all segments.**\n",
    "\n",
    "Input Size : N <= 100000\n",
    "\n",
    "**Sample Testcase:**\n",
    "\n",
    "**INPUT**\n",
    "\n",
    "2\n",
    "\n",
    "2 4\n",
    "\n",
    "**OUTPUT**\n",
    "\n",
    "6"
   ]
  },
  {
   "cell_type": "code",
   "execution_count": 10,
   "metadata": {},
   "outputs": [
    {
     "name": "stdout",
     "output_type": "stream",
     "text": [
      "6\n"
     ]
    }
   ],
   "source": [
    "N = int(input())\n",
    "array = list(map(int, input().split()))\n",
    "\n",
    "# Compute the maximum bitwise OR\n",
    "max_or = 0\n",
    "for num in array:\n",
    "    max_or |= num\n",
    "print(max_or)"
   ]
  }
 ],
 "metadata": {
  "kernelspec": {
   "display_name": "py12",
   "language": "python",
   "name": "python3"
  },
  "language_info": {
   "codemirror_mode": {
    "name": "ipython",
    "version": 3
   },
   "file_extension": ".py",
   "mimetype": "text/x-python",
   "name": "python",
   "nbconvert_exporter": "python",
   "pygments_lexer": "ipython3",
   "version": "3.12.7"
  }
 },
 "nbformat": 4,
 "nbformat_minor": 2
}
